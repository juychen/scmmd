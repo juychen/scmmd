{
 "cells": [
  {
   "cell_type": "code",
   "execution_count": 1,
   "metadata": {},
   "outputs": [],
   "source": [
    "import matplotlib.pyplot as plt\n",
    "import anndata\n",
    "import scanpy as sc\n",
    "import snapatac2 as snap\n",
    "import numpy as np\n",
    "import pandas as pd\n",
    "import os\n",
    "import scanpy.external as sce\n",
    "import seaborn as sns\n",
    "from sklearn.metrics import silhouette_score\n"
   ]
  },
  {
   "cell_type": "code",
   "execution_count": 2,
   "metadata": {},
   "outputs": [],
   "source": [
    "import warnings\n",
    "warnings.filterwarnings(\"ignore\")\n"
   ]
  },
  {
   "cell_type": "code",
   "execution_count": 3,
   "metadata": {},
   "outputs": [],
   "source": [
    "adata_concat = snap.read_dataset('/data2st1/junyi/output/atac0627/doublet_filtered.h5ads/_dataset.h5ads')"
   ]
  },
  {
   "cell_type": "code",
   "execution_count": 4,
   "metadata": {},
   "outputs": [],
   "source": [
    "df_meta_all = pd.read_csv('/data2st1/junyi/output/atac0627/ATACSC_3REGION_ALL_L2annoated.csv',index_col=0)"
   ]
  },
  {
   "cell_type": "code",
   "execution_count": 5,
   "metadata": {},
   "outputs": [],
   "source": [
    "df_l3l4 = pd.read_csv('/data2st1/junyi/output/atac0627/iterative/annotated_l3l4.csv',index_col=0)"
   ]
  },
  {
   "cell_type": "code",
   "execution_count": 6,
   "metadata": {},
   "outputs": [
    {
     "data": {
      "application/vnd.microsoft.datawrangler.viewer.v0+json": {
       "columns": [
        {
         "name": "index",
         "rawType": "object",
         "type": "string"
        },
        {
         "name": "sample",
         "rawType": "object",
         "type": "string"
        },
        {
         "name": "doublet_probability",
         "rawType": "float64",
         "type": "float"
        },
        {
         "name": "doublet_score",
         "rawType": "float64",
         "type": "float"
        },
        {
         "name": "leiden",
         "rawType": "int64",
         "type": "integer"
        },
        {
         "name": "leiden_default",
         "rawType": "int64",
         "type": "integer"
        },
        {
         "name": "leiden_res_0.1",
         "rawType": "int64",
         "type": "integer"
        },
        {
         "name": "leiden_res_0.2",
         "rawType": "int64",
         "type": "integer"
        },
        {
         "name": "leiden_res_0.3",
         "rawType": "int64",
         "type": "integer"
        },
        {
         "name": "leiden_res_0.4",
         "rawType": "int64",
         "type": "integer"
        },
        {
         "name": "leiden_res_0.5",
         "rawType": "int64",
         "type": "integer"
        },
        {
         "name": "leiden_res_0.6",
         "rawType": "int64",
         "type": "integer"
        },
        {
         "name": "leiden_res_0.7",
         "rawType": "int64",
         "type": "integer"
        },
        {
         "name": "leiden_res_0.8",
         "rawType": "int64",
         "type": "integer"
        },
        {
         "name": "leiden_res_0.9",
         "rawType": "int64",
         "type": "integer"
        },
        {
         "name": "leiden_res_1.0",
         "rawType": "int64",
         "type": "integer"
        },
        {
         "name": "leiden_res_1.1",
         "rawType": "int64",
         "type": "integer"
        },
        {
         "name": "leiden_res_1.2",
         "rawType": "int64",
         "type": "integer"
        },
        {
         "name": "leiden_res_1.3",
         "rawType": "int64",
         "type": "integer"
        },
        {
         "name": "leiden_res_1.4",
         "rawType": "int64",
         "type": "integer"
        },
        {
         "name": "leiden_res_1.5",
         "rawType": "int64",
         "type": "integer"
        },
        {
         "name": "leiden_res_1.6",
         "rawType": "int64",
         "type": "integer"
        },
        {
         "name": "leiden_res_1.7",
         "rawType": "int64",
         "type": "integer"
        },
        {
         "name": "leiden_res_1.8",
         "rawType": "int64",
         "type": "integer"
        },
        {
         "name": "leiden_res_1.9",
         "rawType": "int64",
         "type": "integer"
        },
        {
         "name": "celltype.L1",
         "rawType": "object",
         "type": "string"
        },
        {
         "name": "celltype.L2",
         "rawType": "object",
         "type": "string"
        },
        {
         "name": "Neurotransmitter_celltype",
         "rawType": "object",
         "type": "string"
        },
        {
         "name": "celltype.L1_ct",
         "rawType": "object",
         "type": "string"
        },
        {
         "name": "Sample_name",
         "rawType": "object",
         "type": "string"
        },
        {
         "name": "Condition",
         "rawType": "object",
         "type": "string"
        },
        {
         "name": "Region",
         "rawType": "object",
         "type": "string"
        },
        {
         "name": "celltype.L2.raw",
         "rawType": "object",
         "type": "string"
        },
        {
         "name": "region_nt",
         "rawType": "object",
         "type": "string"
        }
       ],
       "ref": "c4f53397-dcc5-4a34-a7f3-60db14cb0657",
       "rows": [
        [
         "MC37A_AMY:AAACGAAAGAGTGGAA-1",
         "MC37A_AMY",
         "0.092855987033203",
         "0.130307467057101",
         "2",
         "6",
         "0",
         "0",
         "1",
         "1",
         "5",
         "5",
         "5",
         "1",
         "1",
         "6",
         "6",
         "6",
         "4",
         "4",
         "4",
         "6",
         "6",
         "10",
         "2",
         "Neuron",
         "AMY Strip2_Penk GABA",
         "GABAergic",
         "Neuron",
         "MC37A_AMY",
         "MC",
         "AMY",
         "AMY Strip2_Penk GABA",
         "AMY_GABA"
        ],
        [
         "MC37A_AMY:AAACGAAAGGGTAGTC-1",
         "MC37A_AMY",
         "0.1286104668296208",
         "0.0141163184641445",
         "18",
         "7",
         "4",
         "5",
         "5",
         "6",
         "7",
         "7",
         "7",
         "7",
         "8",
         "7",
         "7",
         "7",
         "6",
         "6",
         "18",
         "18",
         "18",
         "18",
         "18",
         "Immune",
         "Microglia-3",
         "NN",
         "Immune",
         "MC37A_AMY",
         "MC",
         "AMY",
         "Microglia-3",
         "NN"
        ],
        [
         "MC37A_AMY:AAACGAAGTACGGAGT-1",
         "MC37A_AMY",
         "0.1182408674625162",
         "0.0193704600484261",
         "4",
         "1",
         "0",
         "0",
         "1",
         "1",
         "1",
         "1",
         "1",
         "2",
         "2",
         "1",
         "1",
         "1",
         "0",
         "0",
         "0",
         "1",
         "1",
         "0",
         "4",
         "Neuron",
         "AMY Lhx6_Maf GABA",
         "GABAergic",
         "Neuron",
         "MC37A_AMY",
         "MC",
         "AMY",
         "AMY Lhx6_Maf GABA",
         "AMY_GABA"
        ],
        [
         "MC37A_AMY:AAACGAAGTCAGCAAG-1",
         "MC37A_AMY",
         "0.0746525673137062",
         "0.0633869441816461",
         "6",
         "6",
         "0",
         "0",
         "1",
         "1",
         "5",
         "5",
         "5",
         "1",
         "1",
         "6",
         "6",
         "6",
         "4",
         "4",
         "4",
         "5",
         "4",
         "5",
         "6",
         "Neuron",
         "AMY Strip2_Penk GABA",
         "GABAergic",
         "Neuron",
         "MC37A_AMY",
         "MC",
         "AMY",
         "AMY Strip2_Penk GABA",
         "AMY_GABA"
        ],
        [
         "MC37A_AMY:AAACGAAGTCCGAGCT-1",
         "MC37A_AMY",
         "0.0982863638302736",
         "0.0325318246110325",
         "1",
         "8",
         "0",
         "0",
         "1",
         "1",
         "1",
         "3",
         "3",
         "1",
         "1",
         "8",
         "8",
         "8",
         "12",
         "11",
         "8",
         "6",
         "6",
         "2",
         "1",
         "Neuron",
         "AMY Hgf_Satb2 Glut",
         "Glutamatergic",
         "Neuron",
         "MC37A_AMY",
         "MC",
         "AMY",
         "AMY Hgf_Satb2 Glut",
         "AMY_Glut"
        ]
       ],
       "shape": {
        "columns": 33,
        "rows": 5
       }
      },
      "text/html": [
       "<div>\n",
       "<style scoped>\n",
       "    .dataframe tbody tr th:only-of-type {\n",
       "        vertical-align: middle;\n",
       "    }\n",
       "\n",
       "    .dataframe tbody tr th {\n",
       "        vertical-align: top;\n",
       "    }\n",
       "\n",
       "    .dataframe thead th {\n",
       "        text-align: right;\n",
       "    }\n",
       "</style>\n",
       "<table border=\"1\" class=\"dataframe\">\n",
       "  <thead>\n",
       "    <tr style=\"text-align: right;\">\n",
       "      <th></th>\n",
       "      <th>sample</th>\n",
       "      <th>doublet_probability</th>\n",
       "      <th>doublet_score</th>\n",
       "      <th>leiden</th>\n",
       "      <th>leiden_default</th>\n",
       "      <th>leiden_res_0.1</th>\n",
       "      <th>leiden_res_0.2</th>\n",
       "      <th>leiden_res_0.3</th>\n",
       "      <th>leiden_res_0.4</th>\n",
       "      <th>leiden_res_0.5</th>\n",
       "      <th>...</th>\n",
       "      <th>leiden_res_1.9</th>\n",
       "      <th>celltype.L1</th>\n",
       "      <th>celltype.L2</th>\n",
       "      <th>Neurotransmitter_celltype</th>\n",
       "      <th>celltype.L1_ct</th>\n",
       "      <th>Sample_name</th>\n",
       "      <th>Condition</th>\n",
       "      <th>Region</th>\n",
       "      <th>celltype.L2.raw</th>\n",
       "      <th>region_nt</th>\n",
       "    </tr>\n",
       "  </thead>\n",
       "  <tbody>\n",
       "    <tr>\n",
       "      <th>MC37A_AMY:AAACGAAAGAGTGGAA-1</th>\n",
       "      <td>MC37A_AMY</td>\n",
       "      <td>0.092856</td>\n",
       "      <td>0.130307</td>\n",
       "      <td>2</td>\n",
       "      <td>6</td>\n",
       "      <td>0</td>\n",
       "      <td>0</td>\n",
       "      <td>1</td>\n",
       "      <td>1</td>\n",
       "      <td>5</td>\n",
       "      <td>...</td>\n",
       "      <td>2</td>\n",
       "      <td>Neuron</td>\n",
       "      <td>AMY Strip2_Penk GABA</td>\n",
       "      <td>GABAergic</td>\n",
       "      <td>Neuron</td>\n",
       "      <td>MC37A_AMY</td>\n",
       "      <td>MC</td>\n",
       "      <td>AMY</td>\n",
       "      <td>AMY Strip2_Penk GABA</td>\n",
       "      <td>AMY_GABA</td>\n",
       "    </tr>\n",
       "    <tr>\n",
       "      <th>MC37A_AMY:AAACGAAAGGGTAGTC-1</th>\n",
       "      <td>MC37A_AMY</td>\n",
       "      <td>0.128610</td>\n",
       "      <td>0.014116</td>\n",
       "      <td>18</td>\n",
       "      <td>7</td>\n",
       "      <td>4</td>\n",
       "      <td>5</td>\n",
       "      <td>5</td>\n",
       "      <td>6</td>\n",
       "      <td>7</td>\n",
       "      <td>...</td>\n",
       "      <td>18</td>\n",
       "      <td>Immune</td>\n",
       "      <td>Microglia-3</td>\n",
       "      <td>NN</td>\n",
       "      <td>Immune</td>\n",
       "      <td>MC37A_AMY</td>\n",
       "      <td>MC</td>\n",
       "      <td>AMY</td>\n",
       "      <td>Microglia-3</td>\n",
       "      <td>NN</td>\n",
       "    </tr>\n",
       "    <tr>\n",
       "      <th>MC37A_AMY:AAACGAAGTACGGAGT-1</th>\n",
       "      <td>MC37A_AMY</td>\n",
       "      <td>0.118241</td>\n",
       "      <td>0.019370</td>\n",
       "      <td>4</td>\n",
       "      <td>1</td>\n",
       "      <td>0</td>\n",
       "      <td>0</td>\n",
       "      <td>1</td>\n",
       "      <td>1</td>\n",
       "      <td>1</td>\n",
       "      <td>...</td>\n",
       "      <td>4</td>\n",
       "      <td>Neuron</td>\n",
       "      <td>AMY Lhx6_Maf GABA</td>\n",
       "      <td>GABAergic</td>\n",
       "      <td>Neuron</td>\n",
       "      <td>MC37A_AMY</td>\n",
       "      <td>MC</td>\n",
       "      <td>AMY</td>\n",
       "      <td>AMY Lhx6_Maf GABA</td>\n",
       "      <td>AMY_GABA</td>\n",
       "    </tr>\n",
       "    <tr>\n",
       "      <th>MC37A_AMY:AAACGAAGTCAGCAAG-1</th>\n",
       "      <td>MC37A_AMY</td>\n",
       "      <td>0.074653</td>\n",
       "      <td>0.063387</td>\n",
       "      <td>6</td>\n",
       "      <td>6</td>\n",
       "      <td>0</td>\n",
       "      <td>0</td>\n",
       "      <td>1</td>\n",
       "      <td>1</td>\n",
       "      <td>5</td>\n",
       "      <td>...</td>\n",
       "      <td>6</td>\n",
       "      <td>Neuron</td>\n",
       "      <td>AMY Strip2_Penk GABA</td>\n",
       "      <td>GABAergic</td>\n",
       "      <td>Neuron</td>\n",
       "      <td>MC37A_AMY</td>\n",
       "      <td>MC</td>\n",
       "      <td>AMY</td>\n",
       "      <td>AMY Strip2_Penk GABA</td>\n",
       "      <td>AMY_GABA</td>\n",
       "    </tr>\n",
       "    <tr>\n",
       "      <th>MC37A_AMY:AAACGAAGTCCGAGCT-1</th>\n",
       "      <td>MC37A_AMY</td>\n",
       "      <td>0.098286</td>\n",
       "      <td>0.032532</td>\n",
       "      <td>1</td>\n",
       "      <td>8</td>\n",
       "      <td>0</td>\n",
       "      <td>0</td>\n",
       "      <td>1</td>\n",
       "      <td>1</td>\n",
       "      <td>1</td>\n",
       "      <td>...</td>\n",
       "      <td>1</td>\n",
       "      <td>Neuron</td>\n",
       "      <td>AMY Hgf_Satb2 Glut</td>\n",
       "      <td>Glutamatergic</td>\n",
       "      <td>Neuron</td>\n",
       "      <td>MC37A_AMY</td>\n",
       "      <td>MC</td>\n",
       "      <td>AMY</td>\n",
       "      <td>AMY Hgf_Satb2 Glut</td>\n",
       "      <td>AMY_Glut</td>\n",
       "    </tr>\n",
       "  </tbody>\n",
       "</table>\n",
       "<p>5 rows × 33 columns</p>\n",
       "</div>"
      ],
      "text/plain": [
       "                                 sample  doublet_probability  doublet_score  \\\n",
       "MC37A_AMY:AAACGAAAGAGTGGAA-1  MC37A_AMY             0.092856       0.130307   \n",
       "MC37A_AMY:AAACGAAAGGGTAGTC-1  MC37A_AMY             0.128610       0.014116   \n",
       "MC37A_AMY:AAACGAAGTACGGAGT-1  MC37A_AMY             0.118241       0.019370   \n",
       "MC37A_AMY:AAACGAAGTCAGCAAG-1  MC37A_AMY             0.074653       0.063387   \n",
       "MC37A_AMY:AAACGAAGTCCGAGCT-1  MC37A_AMY             0.098286       0.032532   \n",
       "\n",
       "                              leiden  leiden_default  leiden_res_0.1  \\\n",
       "MC37A_AMY:AAACGAAAGAGTGGAA-1       2               6               0   \n",
       "MC37A_AMY:AAACGAAAGGGTAGTC-1      18               7               4   \n",
       "MC37A_AMY:AAACGAAGTACGGAGT-1       4               1               0   \n",
       "MC37A_AMY:AAACGAAGTCAGCAAG-1       6               6               0   \n",
       "MC37A_AMY:AAACGAAGTCCGAGCT-1       1               8               0   \n",
       "\n",
       "                              leiden_res_0.2  leiden_res_0.3  leiden_res_0.4  \\\n",
       "MC37A_AMY:AAACGAAAGAGTGGAA-1               0               1               1   \n",
       "MC37A_AMY:AAACGAAAGGGTAGTC-1               5               5               6   \n",
       "MC37A_AMY:AAACGAAGTACGGAGT-1               0               1               1   \n",
       "MC37A_AMY:AAACGAAGTCAGCAAG-1               0               1               1   \n",
       "MC37A_AMY:AAACGAAGTCCGAGCT-1               0               1               1   \n",
       "\n",
       "                              leiden_res_0.5  ...  leiden_res_1.9  \\\n",
       "MC37A_AMY:AAACGAAAGAGTGGAA-1               5  ...               2   \n",
       "MC37A_AMY:AAACGAAAGGGTAGTC-1               7  ...              18   \n",
       "MC37A_AMY:AAACGAAGTACGGAGT-1               1  ...               4   \n",
       "MC37A_AMY:AAACGAAGTCAGCAAG-1               5  ...               6   \n",
       "MC37A_AMY:AAACGAAGTCCGAGCT-1               1  ...               1   \n",
       "\n",
       "                              celltype.L1           celltype.L2  \\\n",
       "MC37A_AMY:AAACGAAAGAGTGGAA-1       Neuron  AMY Strip2_Penk GABA   \n",
       "MC37A_AMY:AAACGAAAGGGTAGTC-1       Immune           Microglia-3   \n",
       "MC37A_AMY:AAACGAAGTACGGAGT-1       Neuron     AMY Lhx6_Maf GABA   \n",
       "MC37A_AMY:AAACGAAGTCAGCAAG-1       Neuron  AMY Strip2_Penk GABA   \n",
       "MC37A_AMY:AAACGAAGTCCGAGCT-1       Neuron    AMY Hgf_Satb2 Glut   \n",
       "\n",
       "                              Neurotransmitter_celltype  celltype.L1_ct  \\\n",
       "MC37A_AMY:AAACGAAAGAGTGGAA-1                  GABAergic          Neuron   \n",
       "MC37A_AMY:AAACGAAAGGGTAGTC-1                         NN          Immune   \n",
       "MC37A_AMY:AAACGAAGTACGGAGT-1                  GABAergic          Neuron   \n",
       "MC37A_AMY:AAACGAAGTCAGCAAG-1                  GABAergic          Neuron   \n",
       "MC37A_AMY:AAACGAAGTCCGAGCT-1              Glutamatergic          Neuron   \n",
       "\n",
       "                              Sample_name  Condition  Region  \\\n",
       "MC37A_AMY:AAACGAAAGAGTGGAA-1    MC37A_AMY         MC     AMY   \n",
       "MC37A_AMY:AAACGAAAGGGTAGTC-1    MC37A_AMY         MC     AMY   \n",
       "MC37A_AMY:AAACGAAGTACGGAGT-1    MC37A_AMY         MC     AMY   \n",
       "MC37A_AMY:AAACGAAGTCAGCAAG-1    MC37A_AMY         MC     AMY   \n",
       "MC37A_AMY:AAACGAAGTCCGAGCT-1    MC37A_AMY         MC     AMY   \n",
       "\n",
       "                                   celltype.L2.raw  region_nt  \n",
       "MC37A_AMY:AAACGAAAGAGTGGAA-1  AMY Strip2_Penk GABA   AMY_GABA  \n",
       "MC37A_AMY:AAACGAAAGGGTAGTC-1           Microglia-3         NN  \n",
       "MC37A_AMY:AAACGAAGTACGGAGT-1     AMY Lhx6_Maf GABA   AMY_GABA  \n",
       "MC37A_AMY:AAACGAAGTCAGCAAG-1  AMY Strip2_Penk GABA   AMY_GABA  \n",
       "MC37A_AMY:AAACGAAGTCCGAGCT-1    AMY Hgf_Satb2 Glut   AMY_Glut  \n",
       "\n",
       "[5 rows x 33 columns]"
      ]
     },
     "execution_count": 6,
     "metadata": {},
     "output_type": "execute_result"
    }
   ],
   "source": [
    "df_meta_all.head()"
   ]
  },
  {
   "cell_type": "code",
   "execution_count": 7,
   "metadata": {},
   "outputs": [
    {
     "data": {
      "application/vnd.microsoft.datawrangler.viewer.v0+json": {
       "columns": [
        {
         "name": "index",
         "rawType": "object",
         "type": "string"
        },
        {
         "name": "celltype.L3",
         "rawType": "object",
         "type": "string"
        },
        {
         "name": "celltype.L4",
         "rawType": "object",
         "type": "string"
        },
        {
         "name": "celltype.L4.raw",
         "rawType": "object",
         "type": "string"
        }
       ],
       "ref": "ec5d313a-c053-4523-9057-3f8b9b5945de",
       "rows": [
        [
         "MC50B_PFC:AAGATAGCAGGTAACG-1",
         "PFC L6b Glut-0",
         "PFC L6b Glut-0-0",
         null
        ],
        [
         "MC50B_PFC:ACTAGGTAGTGTGTAA-1",
         "PFC L6b Glut-1",
         "PFC L6b Glut-1-0",
         null
        ],
        [
         "MC50B_PFC:AGGCGTCCAATTCTCT-1",
         "PFC L6b Glut-0",
         "PFC L6b Glut-0-0",
         null
        ],
        [
         "MC50B_PFC:AGGCGTCTCCATGTTT-1",
         "PFC L6b Glut-1",
         "PFC L6b Glut-1-0",
         null
        ],
        [
         "MC50B_PFC:CCCGTTATCCTCCTGA-1",
         "PFC L6b Glut-1",
         "PFC L6b Glut-1-0",
         null
        ]
       ],
       "shape": {
        "columns": 3,
        "rows": 5
       }
      },
      "text/html": [
       "<div>\n",
       "<style scoped>\n",
       "    .dataframe tbody tr th:only-of-type {\n",
       "        vertical-align: middle;\n",
       "    }\n",
       "\n",
       "    .dataframe tbody tr th {\n",
       "        vertical-align: top;\n",
       "    }\n",
       "\n",
       "    .dataframe thead th {\n",
       "        text-align: right;\n",
       "    }\n",
       "</style>\n",
       "<table border=\"1\" class=\"dataframe\">\n",
       "  <thead>\n",
       "    <tr style=\"text-align: right;\">\n",
       "      <th></th>\n",
       "      <th>celltype.L3</th>\n",
       "      <th>celltype.L4</th>\n",
       "      <th>celltype.L4.raw</th>\n",
       "    </tr>\n",
       "  </thead>\n",
       "  <tbody>\n",
       "    <tr>\n",
       "      <th>MC50B_PFC:AAGATAGCAGGTAACG-1</th>\n",
       "      <td>PFC L6b Glut-0</td>\n",
       "      <td>PFC L6b Glut-0-0</td>\n",
       "      <td>NaN</td>\n",
       "    </tr>\n",
       "    <tr>\n",
       "      <th>MC50B_PFC:ACTAGGTAGTGTGTAA-1</th>\n",
       "      <td>PFC L6b Glut-1</td>\n",
       "      <td>PFC L6b Glut-1-0</td>\n",
       "      <td>NaN</td>\n",
       "    </tr>\n",
       "    <tr>\n",
       "      <th>MC50B_PFC:AGGCGTCCAATTCTCT-1</th>\n",
       "      <td>PFC L6b Glut-0</td>\n",
       "      <td>PFC L6b Glut-0-0</td>\n",
       "      <td>NaN</td>\n",
       "    </tr>\n",
       "    <tr>\n",
       "      <th>MC50B_PFC:AGGCGTCTCCATGTTT-1</th>\n",
       "      <td>PFC L6b Glut-1</td>\n",
       "      <td>PFC L6b Glut-1-0</td>\n",
       "      <td>NaN</td>\n",
       "    </tr>\n",
       "    <tr>\n",
       "      <th>MC50B_PFC:CCCGTTATCCTCCTGA-1</th>\n",
       "      <td>PFC L6b Glut-1</td>\n",
       "      <td>PFC L6b Glut-1-0</td>\n",
       "      <td>NaN</td>\n",
       "    </tr>\n",
       "  </tbody>\n",
       "</table>\n",
       "</div>"
      ],
      "text/plain": [
       "                                 celltype.L3       celltype.L4 celltype.L4.raw\n",
       "MC50B_PFC:AAGATAGCAGGTAACG-1  PFC L6b Glut-0  PFC L6b Glut-0-0             NaN\n",
       "MC50B_PFC:ACTAGGTAGTGTGTAA-1  PFC L6b Glut-1  PFC L6b Glut-1-0             NaN\n",
       "MC50B_PFC:AGGCGTCCAATTCTCT-1  PFC L6b Glut-0  PFC L6b Glut-0-0             NaN\n",
       "MC50B_PFC:AGGCGTCTCCATGTTT-1  PFC L6b Glut-1  PFC L6b Glut-1-0             NaN\n",
       "MC50B_PFC:CCCGTTATCCTCCTGA-1  PFC L6b Glut-1  PFC L6b Glut-1-0             NaN"
      ]
     },
     "execution_count": 7,
     "metadata": {},
     "output_type": "execute_result"
    }
   ],
   "source": [
    "df_l3l4.head()"
   ]
  },
  {
   "cell_type": "code",
   "execution_count": 8,
   "metadata": {},
   "outputs": [],
   "source": [
    "df_meta_all = df_meta_all.merge(df_l3l4[['celltype.L3','celltype.L4']],left_index=True,right_index=True,how='left')"
   ]
  },
  {
   "cell_type": "code",
   "execution_count": 9,
   "metadata": {},
   "outputs": [],
   "source": [
    "df_meta_all['celltype.L3'] = df_meta_all['celltype.L3'].fillna(df_meta_all['celltype.L2']+\"-0\").str.replace(\"/\",\"-\").str.replace(\" \",\"_\")\n",
    "df_meta_all['celltype.L4'] = df_meta_all['celltype.L4'].fillna(df_meta_all['celltype.L3']+\"-0\").str.replace(\"/\",\"-\").str.replace(\" \",\"_\")\n",
    "df_meta_all['celltype.L2'] = df_meta_all['celltype.L2'].str.replace(\"/\",\"-\").str.replace(\" \",\"_\")\n",
    "df_meta_all['Neurotransmitter_celltype'] = df_meta_all['Neurotransmitter_celltype'].fillna(\"NN\")\n",
    "df_meta_all['region_nt'] = df_meta_all['region_nt'].fillna(\"NN\")\n"
   ]
  },
  {
   "cell_type": "code",
   "execution_count": 10,
   "metadata": {},
   "outputs": [],
   "source": [
    "df_meta_all.groupby(['celltype.L3']).size().reset_index(name='count').to_csv(\"/data2st1/junyi/output/atac0627/iterative/L3_count_merged.csv\",index=False)"
   ]
  },
  {
   "cell_type": "code",
   "execution_count": 11,
   "metadata": {},
   "outputs": [],
   "source": [
    "df_meta_all.groupby(['celltype.L2']).size().reset_index(name='count').to_csv(\"/data2st1/junyi/output/atac0627/iterative/L2_count_merged.csv\",index=False)"
   ]
  },
  {
   "cell_type": "code",
   "execution_count": 12,
   "metadata": {},
   "outputs": [],
   "source": [
    "df_meta_all.groupby(['celltype.L4']).size().reset_index(name='count').to_csv(\"/data2st1/junyi/output/atac0627/iterative/L4_count_merged.csv\",index=False)"
   ]
  },
  {
   "cell_type": "code",
   "execution_count": 13,
   "metadata": {},
   "outputs": [],
   "source": [
    "assert (adata_concat.obs_names == df_meta_all.index).all()\n",
    "for col in df_meta_all.columns:\n",
    "    adata_concat.obs[col] = df_meta_all[col]"
   ]
  },
  {
   "cell_type": "code",
   "execution_count": 14,
   "metadata": {},
   "outputs": [
    {
     "data": {
      "text/plain": [
       "AnnDataSet object with n_obs x n_vars = 176318 x 526765 backed at '/data2st1/junyi/output/atac0627/doublet_filtered.h5ads/_dataset.h5ads'\n",
       "contains 18 AnnData objects with keys: 'MC37A_AMY', 'MC39C_HIP', 'MC48D_HIP', 'MC50B_AMY', 'MC50B_HIP', 'MC50B_PFC', 'MC52E_AMY', 'MC52E_PFC', 'MW45A_HIP', 'MW47A_AMY', 'MW47A_HIP', 'MW47A_PFC', 'MW51A_AMY', 'MW51A_HIP', 'MW51A_PFC', 'MC25A_PFC', 'MW26A_PFC', 'MW65A_AMY'\n",
       "    obs: 'sample', 'doublet_probability', 'doublet_score', 'leiden', 'leiden_default', 'leiden_res_0.1', 'leiden_res_0.2', 'leiden_res_0.3', 'leiden_res_0.4', 'leiden_res_0.5', 'leiden_res_0.6', 'leiden_res_0.7', 'leiden_res_0.8', 'leiden_res_0.9', 'leiden_res_1.0', 'leiden_res_1.1', 'leiden_res_1.2', 'leiden_res_1.3', 'leiden_res_1.4', 'leiden_res_1.5', 'leiden_res_1.6', 'leiden_res_1.7', 'leiden_res_1.8', 'leiden_res_1.9', 'celltype.L2.Condition', 'celltype.L1', 'celltype.L2', 'Neurotransmitter_celltype', 'celltype.L1_ct', 'Sample_name', 'Condition', 'Region', 'celltype.L2.raw', 'region_nt', 'celltype.L3', 'celltype.L4'\n",
       "    var: 'count', 'selected'\n",
       "    uns: 'reference_sequences', 'AnnDataSet', 'doublet_rate', 'spectral_eigenvalue'\n",
       "    obsm: 'X_spectral', 'X_umap'\n",
       "    obsp: 'distances'"
      ]
     },
     "execution_count": 14,
     "metadata": {},
     "output_type": "execute_result"
    }
   ],
   "source": [
    "adata_concat"
   ]
  },
  {
   "cell_type": "code",
   "execution_count": 16,
   "metadata": {},
   "outputs": [
    {
     "name": "stderr",
     "output_type": "stream",
     "text": [
      "2025-07-30 11:17:53 - INFO - Exporting fragments...\n",
      "2025-07-30 11:47:08 - INFO - Calling peaks...\n",
      "100%|██████████| 238/238 [1:05:55<00:00, 16.62s/it] \n"
     ]
    },
    {
     "name": "stdout",
     "output_type": "stream",
     "text": [
      "CPU times: user 1h 17min 15s, sys: 1h 5min 25s, total: 2h 22min 41s\n",
      "Wall time: 1h 37min\n"
     ]
    }
   ],
   "source": [
    "%time snap.tl.macs3(adata_concat, groupby='celltype.L4',n_jobs=48)"
   ]
  },
  {
   "cell_type": "code",
   "execution_count": 17,
   "metadata": {},
   "outputs": [
    {
     "name": "stdout",
     "output_type": "stream",
     "text": [
      "CPU times: user 3min 12s, sys: 10.3 s, total: 3min 23s\n",
      "Wall time: 53.5 s\n"
     ]
    }
   ],
   "source": [
    "%time peaks = snap.tl.merge_peaks(adata_concat.uns['macs3'], snap.genome.mm10)\n"
   ]
  },
  {
   "cell_type": "code",
   "execution_count": 21,
   "metadata": {},
   "outputs": [
    {
     "data": {
      "text/plain": [
       "(1635846, 239)"
      ]
     },
     "execution_count": 21,
     "metadata": {},
     "output_type": "execute_result"
    }
   ],
   "source": [
    "peaks.shape"
   ]
  },
  {
   "cell_type": "code",
   "execution_count": 19,
   "metadata": {},
   "outputs": [
    {
     "data": {
      "text/plain": [
       "Closed AnnDataSet object"
      ]
     },
     "execution_count": 19,
     "metadata": {},
     "output_type": "execute_result"
    }
   ],
   "source": [
    "adata_concat"
   ]
  },
  {
   "cell_type": "code",
   "execution_count": 27,
   "metadata": {},
   "outputs": [],
   "source": [
    "peaks.to_pandas().to_csv('/data2st1/junyi/output/atac0627/iterative/peaks.csv')"
   ]
  },
  {
   "cell_type": "code",
   "execution_count": null,
   "metadata": {},
   "outputs": [],
   "source": [
    "black_list = ['Immune','OPC-Oligo','Doublet','PFC Doublet','PFC Not sure','Not sure','Astro-Epen']"
   ]
  },
  {
   "cell_type": "code",
   "execution_count": 14,
   "metadata": {},
   "outputs": [],
   "source": [
    "from snapatac2._snapatac2 import read_motifs, PyDNAMotif\n",
    "\n",
    "def cis_bp_mouse(unique: bool = True , path=\"data/motifdb/Mus_musculus.meme\") -> list[PyDNAMotif]:\n",
    "    motifs = read_motifs(path)\n",
    "    for motif in motifs:\n",
    "        motif.name = motif.id.split('+')[0]\n",
    "    if unique:\n",
    "        unique_motifs = {}\n",
    "        for motif in motifs:\n",
    "            name = motif.name\n",
    "            if (\n",
    "                    name not in unique_motifs or \n",
    "                    unique_motifs[name].info_content() < motif.info_content()\n",
    "               ):\n",
    "               unique_motifs[name] = motif\n",
    "        motifs = list(unique_motifs.values())\n",
    "    return motifs\n"
   ]
  },
  {
   "cell_type": "code",
   "execution_count": 28,
   "metadata": {},
   "outputs": [
    {
     "name": "stdout",
     "output_type": "stream",
     "text": [
      "CPU times: user 2h 42min 52s, sys: 42min 23s, total: 3h 25min 15s\n",
      "Wall time: 10min 12s\n"
     ]
    }
   ],
   "source": [
    "%time peak_mat = snap.pp.make_peak_matrix(adata_concat, use_rep=peaks['Peaks'])\n"
   ]
  },
  {
   "cell_type": "code",
   "execution_count": 72,
   "metadata": {},
   "outputs": [
    {
     "data": {
      "text/plain": [
       "AxisArrays (row) with keys: X_spectral, X_umap"
      ]
     },
     "execution_count": 72,
     "metadata": {},
     "output_type": "execute_result"
    }
   ],
   "source": [
    "adata_concat.obsm"
   ]
  },
  {
   "cell_type": "code",
   "execution_count": 29,
   "metadata": {},
   "outputs": [],
   "source": [
    "peak_mat.obsm['X_umap'] = adata_concat.obsm['X_umap']\n",
    "peak_mat.obsm['X_spectral'] = adata_concat.obsm['X_spectral']\n"
   ]
  },
  {
   "cell_type": "code",
   "execution_count": 30,
   "metadata": {},
   "outputs": [
    {
     "ename": "KeyboardInterrupt",
     "evalue": "",
     "output_type": "error",
     "traceback": [
      "\u001b[0;31m---------------------------------------------------------------------------\u001b[0m",
      "\u001b[0;31mKeyboardInterrupt\u001b[0m                         Traceback (most recent call last)",
      "Cell \u001b[0;32mIn[30], line 2\u001b[0m\n\u001b[1;32m      1\u001b[0m peak_mat\u001b[38;5;241m.\u001b[39mlayers[\u001b[38;5;124m'\u001b[39m\u001b[38;5;124mcount\u001b[39m\u001b[38;5;124m'\u001b[39m] \u001b[38;5;241m=\u001b[39m peak_mat\u001b[38;5;241m.\u001b[39mX\u001b[38;5;241m.\u001b[39mcopy()\n\u001b[0;32m----> 2\u001b[0m \u001b[43msc\u001b[49m\u001b[38;5;241;43m.\u001b[39;49m\u001b[43mpp\u001b[49m\u001b[38;5;241;43m.\u001b[39;49m\u001b[43mnormalize_total\u001b[49m\u001b[43m(\u001b[49m\u001b[43mpeak_mat\u001b[49m\u001b[43m)\u001b[49m\n\u001b[1;32m      3\u001b[0m sc\u001b[38;5;241m.\u001b[39mpp\u001b[38;5;241m.\u001b[39mlog1p(peak_mat)\n\u001b[1;32m      4\u001b[0m peak_mat\u001b[38;5;241m.\u001b[39mobs[\u001b[38;5;124m'\u001b[39m\u001b[38;5;124mexpriment\u001b[39m\u001b[38;5;124m'\u001b[39m]\u001b[38;5;241m=\u001b[39m peak_mat\u001b[38;5;241m.\u001b[39mobs[\u001b[38;5;124m'\u001b[39m\u001b[38;5;124msample\u001b[39m\u001b[38;5;124m'\u001b[39m]\u001b[38;5;241m.\u001b[39mstr[:\u001b[38;5;241m2\u001b[39m]\n",
      "File \u001b[0;32m~/anaconda3/envs/snapatac2/lib/python3.10/site-packages/legacy_api_wrap/__init__.py:82\u001b[0m, in \u001b[0;36mlegacy_api.<locals>.wrapper.<locals>.fn_compatible\u001b[0;34m(*args_all, **kw)\u001b[0m\n\u001b[1;32m     79\u001b[0m \u001b[38;5;129m@wraps\u001b[39m(fn)\n\u001b[1;32m     80\u001b[0m \u001b[38;5;28;01mdef\u001b[39;00m\u001b[38;5;250m \u001b[39m\u001b[38;5;21mfn_compatible\u001b[39m(\u001b[38;5;241m*\u001b[39margs_all: P\u001b[38;5;241m.\u001b[39margs, \u001b[38;5;241m*\u001b[39m\u001b[38;5;241m*\u001b[39mkw: P\u001b[38;5;241m.\u001b[39mkwargs) \u001b[38;5;241m-\u001b[39m\u001b[38;5;241m>\u001b[39m R:\n\u001b[1;32m     81\u001b[0m     \u001b[38;5;28;01mif\u001b[39;00m \u001b[38;5;28mlen\u001b[39m(args_all) \u001b[38;5;241m<\u001b[39m\u001b[38;5;241m=\u001b[39m n_positional:\n\u001b[0;32m---> 82\u001b[0m         \u001b[38;5;28;01mreturn\u001b[39;00m \u001b[43mfn\u001b[49m\u001b[43m(\u001b[49m\u001b[38;5;241;43m*\u001b[39;49m\u001b[43margs_all\u001b[49m\u001b[43m,\u001b[49m\u001b[43m \u001b[49m\u001b[38;5;241;43m*\u001b[39;49m\u001b[38;5;241;43m*\u001b[39;49m\u001b[43mkw\u001b[49m\u001b[43m)\u001b[49m\n\u001b[1;32m     84\u001b[0m     args_pos: P\u001b[38;5;241m.\u001b[39margs\n\u001b[1;32m     85\u001b[0m     args_pos, args_rest \u001b[38;5;241m=\u001b[39m args_all[:n_positional], args_all[n_positional:]\n",
      "File \u001b[0;32m~/anaconda3/envs/snapatac2/lib/python3.10/site-packages/scanpy/preprocessing/_normalization.py:214\u001b[0m, in \u001b[0;36mnormalize_total\u001b[0;34m(adata, target_sum, exclude_highly_expressed, max_fraction, key_added, layer, layers, layer_norm, inplace, copy)\u001b[0m\n\u001b[1;32m    211\u001b[0m gene_subset \u001b[38;5;241m=\u001b[39m \u001b[38;5;28;01mNone\u001b[39;00m\n\u001b[1;32m    212\u001b[0m msg \u001b[38;5;241m=\u001b[39m \u001b[38;5;124m\"\u001b[39m\u001b[38;5;124mnormalizing counts per cell\u001b[39m\u001b[38;5;124m\"\u001b[39m\n\u001b[0;32m--> 214\u001b[0m counts_per_cell \u001b[38;5;241m=\u001b[39m \u001b[43maxis_sum\u001b[49m\u001b[43m(\u001b[49m\u001b[43mx\u001b[49m\u001b[43m,\u001b[49m\u001b[43m \u001b[49m\u001b[43maxis\u001b[49m\u001b[38;5;241;43m=\u001b[39;49m\u001b[38;5;241;43m1\u001b[39;49m\u001b[43m)\u001b[49m\n\u001b[1;32m    215\u001b[0m \u001b[38;5;28;01mif\u001b[39;00m exclude_highly_expressed:\n\u001b[1;32m    216\u001b[0m     counts_per_cell \u001b[38;5;241m=\u001b[39m np\u001b[38;5;241m.\u001b[39mravel(counts_per_cell)\n",
      "File \u001b[0;32m~/anaconda3/envs/snapatac2/lib/python3.10/functools.py:878\u001b[0m, in \u001b[0;36msingledispatch.<locals>.wrapper\u001b[0;34m(*args, **kw)\u001b[0m\n\u001b[1;32m    874\u001b[0m \u001b[38;5;28;01mif\u001b[39;00m \u001b[38;5;129;01mnot\u001b[39;00m args:\n\u001b[1;32m    875\u001b[0m     \u001b[38;5;28;01mraise\u001b[39;00m \u001b[38;5;167;01mTypeError\u001b[39;00m(\u001b[38;5;124mf\u001b[39m\u001b[38;5;124m'\u001b[39m\u001b[38;5;132;01m{\u001b[39;00mfuncname\u001b[38;5;132;01m}\u001b[39;00m\u001b[38;5;124m requires at least \u001b[39m\u001b[38;5;124m'\u001b[39m\n\u001b[1;32m    876\u001b[0m                     \u001b[38;5;124m'\u001b[39m\u001b[38;5;124m1 positional argument\u001b[39m\u001b[38;5;124m'\u001b[39m)\n\u001b[0;32m--> 878\u001b[0m \u001b[38;5;28;01mreturn\u001b[39;00m \u001b[43mdispatch\u001b[49m\u001b[43m(\u001b[49m\u001b[43margs\u001b[49m\u001b[43m[\u001b[49m\u001b[38;5;241;43m0\u001b[39;49m\u001b[43m]\u001b[49m\u001b[38;5;241;43m.\u001b[39;49m\u001b[38;5;18;43m__class__\u001b[39;49m\u001b[43m)\u001b[49m\u001b[43m(\u001b[49m\u001b[38;5;241;43m*\u001b[39;49m\u001b[43margs\u001b[49m\u001b[43m,\u001b[49m\u001b[43m \u001b[49m\u001b[38;5;241;43m*\u001b[39;49m\u001b[38;5;241;43m*\u001b[39;49m\u001b[43mkw\u001b[49m\u001b[43m)\u001b[49m\n",
      "File \u001b[0;32m~/anaconda3/envs/snapatac2/lib/python3.10/site-packages/scanpy/_utils/__init__.py:728\u001b[0m, in \u001b[0;36maxis_sum\u001b[0;34m(X, axis, dtype)\u001b[0m\n\u001b[1;32m    721\u001b[0m \u001b[38;5;129m@singledispatch\u001b[39m\n\u001b[1;32m    722\u001b[0m \u001b[38;5;28;01mdef\u001b[39;00m\u001b[38;5;250m \u001b[39m\u001b[38;5;21maxis_sum\u001b[39m(\n\u001b[1;32m    723\u001b[0m     X: np\u001b[38;5;241m.\u001b[39mndarray,\n\u001b[0;32m   (...)\u001b[0m\n\u001b[1;32m    726\u001b[0m     dtype: DTypeLike \u001b[38;5;241m|\u001b[39m \u001b[38;5;28;01mNone\u001b[39;00m \u001b[38;5;241m=\u001b[39m \u001b[38;5;28;01mNone\u001b[39;00m,\n\u001b[1;32m    727\u001b[0m ) \u001b[38;5;241m-\u001b[39m\u001b[38;5;241m>\u001b[39m np\u001b[38;5;241m.\u001b[39mndarray:\n\u001b[0;32m--> 728\u001b[0m     \u001b[38;5;28;01mreturn\u001b[39;00m \u001b[43mnp\u001b[49m\u001b[38;5;241;43m.\u001b[39;49m\u001b[43msum\u001b[49m\u001b[43m(\u001b[49m\u001b[43mX\u001b[49m\u001b[43m,\u001b[49m\u001b[43m \u001b[49m\u001b[43maxis\u001b[49m\u001b[38;5;241;43m=\u001b[39;49m\u001b[43maxis\u001b[49m\u001b[43m,\u001b[49m\u001b[43m \u001b[49m\u001b[43mdtype\u001b[49m\u001b[38;5;241;43m=\u001b[39;49m\u001b[43mdtype\u001b[49m\u001b[43m)\u001b[49m\n",
      "File \u001b[0;32m~/anaconda3/envs/snapatac2/lib/python3.10/site-packages/numpy/core/fromnumeric.py:2313\u001b[0m, in \u001b[0;36msum\u001b[0;34m(a, axis, dtype, out, keepdims, initial, where)\u001b[0m\n\u001b[1;32m   2310\u001b[0m         \u001b[38;5;28;01mreturn\u001b[39;00m out\n\u001b[1;32m   2311\u001b[0m     \u001b[38;5;28;01mreturn\u001b[39;00m res\n\u001b[0;32m-> 2313\u001b[0m \u001b[38;5;28;01mreturn\u001b[39;00m \u001b[43m_wrapreduction\u001b[49m\u001b[43m(\u001b[49m\u001b[43ma\u001b[49m\u001b[43m,\u001b[49m\u001b[43m \u001b[49m\u001b[43mnp\u001b[49m\u001b[38;5;241;43m.\u001b[39;49m\u001b[43madd\u001b[49m\u001b[43m,\u001b[49m\u001b[43m \u001b[49m\u001b[38;5;124;43m'\u001b[39;49m\u001b[38;5;124;43msum\u001b[39;49m\u001b[38;5;124;43m'\u001b[39;49m\u001b[43m,\u001b[49m\u001b[43m \u001b[49m\u001b[43maxis\u001b[49m\u001b[43m,\u001b[49m\u001b[43m \u001b[49m\u001b[43mdtype\u001b[49m\u001b[43m,\u001b[49m\u001b[43m \u001b[49m\u001b[43mout\u001b[49m\u001b[43m,\u001b[49m\u001b[43m \u001b[49m\u001b[43mkeepdims\u001b[49m\u001b[38;5;241;43m=\u001b[39;49m\u001b[43mkeepdims\u001b[49m\u001b[43m,\u001b[49m\n\u001b[1;32m   2314\u001b[0m \u001b[43m                      \u001b[49m\u001b[43minitial\u001b[49m\u001b[38;5;241;43m=\u001b[39;49m\u001b[43minitial\u001b[49m\u001b[43m,\u001b[49m\u001b[43m \u001b[49m\u001b[43mwhere\u001b[49m\u001b[38;5;241;43m=\u001b[39;49m\u001b[43mwhere\u001b[49m\u001b[43m)\u001b[49m\n",
      "File \u001b[0;32m~/anaconda3/envs/snapatac2/lib/python3.10/site-packages/numpy/core/fromnumeric.py:86\u001b[0m, in \u001b[0;36m_wrapreduction\u001b[0;34m(obj, ufunc, method, axis, dtype, out, **kwargs)\u001b[0m\n\u001b[1;32m     84\u001b[0m             \u001b[38;5;28;01mreturn\u001b[39;00m reduction(axis\u001b[38;5;241m=\u001b[39maxis, dtype\u001b[38;5;241m=\u001b[39mdtype, out\u001b[38;5;241m=\u001b[39mout, \u001b[38;5;241m*\u001b[39m\u001b[38;5;241m*\u001b[39mpasskwargs)\n\u001b[1;32m     85\u001b[0m         \u001b[38;5;28;01melse\u001b[39;00m:\n\u001b[0;32m---> 86\u001b[0m             \u001b[38;5;28;01mreturn\u001b[39;00m \u001b[43mreduction\u001b[49m\u001b[43m(\u001b[49m\u001b[43maxis\u001b[49m\u001b[38;5;241;43m=\u001b[39;49m\u001b[43maxis\u001b[49m\u001b[43m,\u001b[49m\u001b[43m \u001b[49m\u001b[43mout\u001b[49m\u001b[38;5;241;43m=\u001b[39;49m\u001b[43mout\u001b[49m\u001b[43m,\u001b[49m\u001b[43m \u001b[49m\u001b[38;5;241;43m*\u001b[39;49m\u001b[38;5;241;43m*\u001b[39;49m\u001b[43mpasskwargs\u001b[49m\u001b[43m)\u001b[49m\n\u001b[1;32m     88\u001b[0m \u001b[38;5;28;01mreturn\u001b[39;00m ufunc\u001b[38;5;241m.\u001b[39mreduce(obj, axis, dtype, out, \u001b[38;5;241m*\u001b[39m\u001b[38;5;241m*\u001b[39mpasskwargs)\n",
      "File \u001b[0;32m~/anaconda3/envs/snapatac2/lib/python3.10/site-packages/scipy/sparse/_compressed.py:674\u001b[0m, in \u001b[0;36m_cs_matrix.sum\u001b[0;34m(self, axis, dtype, out)\u001b[0m\n\u001b[1;32m    671\u001b[0m res_dtype \u001b[38;5;241m=\u001b[39m get_sum_dtype(\u001b[38;5;28mself\u001b[39m\u001b[38;5;241m.\u001b[39mdtype)\n\u001b[1;32m    672\u001b[0m ret \u001b[38;5;241m=\u001b[39m np\u001b[38;5;241m.\u001b[39mzeros(\u001b[38;5;28mlen\u001b[39m(\u001b[38;5;28mself\u001b[39m\u001b[38;5;241m.\u001b[39mindptr) \u001b[38;5;241m-\u001b[39m \u001b[38;5;241m1\u001b[39m, dtype\u001b[38;5;241m=\u001b[39mres_dtype)\n\u001b[0;32m--> 674\u001b[0m major_index, value \u001b[38;5;241m=\u001b[39m \u001b[38;5;28;43mself\u001b[39;49m\u001b[38;5;241;43m.\u001b[39;49m\u001b[43m_minor_reduce\u001b[49m\u001b[43m(\u001b[49m\u001b[43mnp\u001b[49m\u001b[38;5;241;43m.\u001b[39;49m\u001b[43madd\u001b[49m\u001b[43m)\u001b[49m\n\u001b[1;32m    675\u001b[0m ret[major_index] \u001b[38;5;241m=\u001b[39m value\n\u001b[1;32m    676\u001b[0m ret \u001b[38;5;241m=\u001b[39m \u001b[38;5;28mself\u001b[39m\u001b[38;5;241m.\u001b[39m_ascontainer(ret)\n",
      "File \u001b[0;32m~/anaconda3/envs/snapatac2/lib/python3.10/site-packages/scipy/sparse/_compressed.py:708\u001b[0m, in \u001b[0;36m_cs_matrix._minor_reduce\u001b[0;34m(self, ufunc, data)\u001b[0m\n\u001b[1;32m    706\u001b[0m     data \u001b[38;5;241m=\u001b[39m \u001b[38;5;28mself\u001b[39m\u001b[38;5;241m.\u001b[39mdata\n\u001b[1;32m    707\u001b[0m major_index \u001b[38;5;241m=\u001b[39m np\u001b[38;5;241m.\u001b[39mflatnonzero(np\u001b[38;5;241m.\u001b[39mdiff(\u001b[38;5;28mself\u001b[39m\u001b[38;5;241m.\u001b[39mindptr))\n\u001b[0;32m--> 708\u001b[0m value \u001b[38;5;241m=\u001b[39m \u001b[43mufunc\u001b[49m\u001b[38;5;241;43m.\u001b[39;49m\u001b[43mreduceat\u001b[49m\u001b[43m(\u001b[49m\u001b[43mdata\u001b[49m\u001b[43m,\u001b[49m\n\u001b[1;32m    709\u001b[0m \u001b[43m                       \u001b[49m\u001b[43mdowncast_intp_index\u001b[49m\u001b[43m(\u001b[49m\u001b[38;5;28;43mself\u001b[39;49m\u001b[38;5;241;43m.\u001b[39;49m\u001b[43mindptr\u001b[49m\u001b[43m[\u001b[49m\u001b[43mmajor_index\u001b[49m\u001b[43m]\u001b[49m\u001b[43m)\u001b[49m\u001b[43m)\u001b[49m\n\u001b[1;32m    710\u001b[0m \u001b[38;5;28;01mreturn\u001b[39;00m major_index, value\n",
      "\u001b[0;31mKeyboardInterrupt\u001b[0m: "
     ]
    }
   ],
   "source": [
    "peak_mat.layers['count'] = peak_mat.X.copy()\n",
    "sc.pp.normalize_total(peak_mat)\n",
    "sc.pp.log1p(peak_mat)\n",
    "peak_mat.obs['expriment']= peak_mat.obs['sample'].str[:2]\n",
    "peak_mat.write(f\"output/atac0627/3REGIONS_peak.h5ads\")\n"
   ]
  },
  {
   "cell_type": "code",
   "execution_count": 43,
   "metadata": {},
   "outputs": [],
   "source": [
    "adata_concat = snap.read_dataset('/data2st1/junyi/output/atac0627/doublet_filtered.h5ads/_dataset.h5ads')"
   ]
  },
  {
   "cell_type": "code",
   "execution_count": 44,
   "metadata": {},
   "outputs": [
    {
     "data": {
      "text/plain": [
       "AnnDataSet object with n_obs x n_vars = 176318 x 526765 backed at '/data2st1/junyi/output/atac0627/doublet_filtered.h5ads/_dataset.h5ads'\n",
       "contains 18 AnnData objects with keys: 'MC37A_AMY', 'MC39C_HIP', 'MC48D_HIP', 'MC50B_AMY', 'MC50B_HIP', 'MC50B_PFC', 'MC52E_AMY', 'MC52E_PFC', 'MW45A_HIP', 'MW47A_AMY', 'MW47A_HIP', 'MW47A_PFC', 'MW51A_AMY', 'MW51A_HIP', 'MW51A_PFC', 'MC25A_PFC', 'MW26A_PFC', 'MW65A_AMY'\n",
       "    obs: 'sample', 'doublet_probability', 'doublet_score', 'leiden', 'leiden_default', 'leiden_res_0.1', 'leiden_res_0.2', 'leiden_res_0.3', 'leiden_res_0.4', 'leiden_res_0.5', 'leiden_res_0.6', 'leiden_res_0.7', 'leiden_res_0.8', 'leiden_res_0.9', 'leiden_res_1.0', 'leiden_res_1.1', 'leiden_res_1.2', 'leiden_res_1.3', 'leiden_res_1.4', 'leiden_res_1.5', 'leiden_res_1.6', 'leiden_res_1.7', 'leiden_res_1.8', 'leiden_res_1.9', 'celltype.L2.Condition', 'celltype.L1', 'celltype.L2', 'Neurotransmitter_celltype', 'celltype.L1_ct', 'Sample_name', 'Condition', 'Region', 'celltype.L2.raw', 'region_nt', 'celltype.L3', 'celltype.L4'\n",
       "    var: 'count', 'selected'\n",
       "    uns: 'reference_sequences', 'AnnDataSet', 'doublet_rate', 'macs3', 'spectral_eigenvalue'\n",
       "    obsm: 'X_spectral', 'X_umap'\n",
       "    obsp: 'distances'"
      ]
     },
     "execution_count": 44,
     "metadata": {},
     "output_type": "execute_result"
    }
   ],
   "source": [
    "adata_concat"
   ]
  },
  {
   "cell_type": "code",
   "execution_count": 45,
   "metadata": {},
   "outputs": [
    {
     "name": "stdout",
     "output_type": "stream",
     "text": [
      "CPU times: user 6h 29min 24s, sys: 1h 2min 29s, total: 7h 31min 54s\n",
      "Wall time: 25min 47s\n"
     ]
    }
   ],
   "source": [
    "%time dmr_mat = snap.pp.make_peak_matrix(adata_concat,peak_file='/data1st2/hannan_25/data/Nanopore_processV1/nanopore_08_differential/summary/dmr_seg_anno_2tools_nofilter.bed')\n"
   ]
  },
  {
   "cell_type": "code",
   "execution_count": 47,
   "metadata": {},
   "outputs": [],
   "source": [
    "dmr_mat.write(f\"output/atac0627/3REGIONS_dmr_new.h5ads\")"
   ]
  },
  {
   "cell_type": "code",
   "execution_count": 48,
   "metadata": {},
   "outputs": [],
   "source": [
    "adata_concat.close()"
   ]
  },
  {
   "cell_type": "code",
   "execution_count": 49,
   "metadata": {},
   "outputs": [
    {
     "data": {
      "text/plain": [
       "Closed AnnDataSet object"
      ]
     },
     "execution_count": 49,
     "metadata": {},
     "output_type": "execute_result"
    }
   ],
   "source": [
    "adata_concat"
   ]
  },
  {
   "cell_type": "code",
   "execution_count": 41,
   "metadata": {},
   "outputs": [],
   "source": [
    "dmr_mat = sc.read_h5ad(f\"output/atac0627/3REGIONS_dmr.h5ads\",backed='r')"
   ]
  },
  {
   "cell_type": "code",
   "execution_count": 42,
   "metadata": {},
   "outputs": [
    {
     "data": {
      "text/plain": [
       "AnnData object with n_obs × n_vars = 176318 × 208269 backed at 'output/atac0627/3REGIONS_dmr.h5ads'\n",
       "    obs: 'sample', 'doublet_probability', 'doublet_score', 'leiden', 'leiden_default', 'leiden_res_0.1', 'leiden_res_0.2', 'leiden_res_0.3', 'leiden_res_0.4', 'leiden_res_0.5', 'leiden_res_0.6', 'leiden_res_0.7', 'leiden_res_0.8', 'leiden_res_0.9', 'leiden_res_1.0', 'leiden_res_1.1', 'leiden_res_1.2', 'leiden_res_1.3', 'leiden_res_1.4', 'leiden_res_1.5', 'leiden_res_1.6', 'leiden_res_1.7', 'leiden_res_1.8', 'leiden_res_1.9', 'celltype.L2.Condition', 'celltype.L1', 'celltype.L2', 'Neurotransmitter_celltype', 'celltype.L1_ct', 'Sample_name', 'Condition', 'Region', 'celltype.L2.raw', 'region_nt', 'celltype.L3', 'celltype.L4'"
      ]
     },
     "execution_count": 42,
     "metadata": {},
     "output_type": "execute_result"
    }
   ],
   "source": [
    "dmr_mat"
   ]
  },
  {
   "cell_type": "code",
   "execution_count": null,
   "metadata": {},
   "outputs": [],
   "source": []
  },
  {
   "cell_type": "code",
   "execution_count": 5,
   "metadata": {},
   "outputs": [
    {
     "data": {
      "text/plain": [
       "Index(['sample', 'doublet_probability', 'doublet_score', 'leiden',\n",
       "       'leiden_default', 'leiden_res_0.1', 'leiden_res_0.2',\n",
       "       'leiden_res_0.30000000000000004', 'leiden_res_0.4', 'leiden_res_0.5',\n",
       "       'leiden_res_0.6', 'leiden_res_0.7000000000000001', 'leiden_res_0.8',\n",
       "       'leiden_res_0.9', 'leiden_res_1.0', 'leiden_res_1.1',\n",
       "       'leiden_res_1.2000000000000002', 'leiden_res_1.3000000000000003',\n",
       "       'leiden_res_1.4000000000000001', 'leiden_res_1.5000000000000002',\n",
       "       'leiden_res_1.6', 'leiden_res_1.7000000000000002',\n",
       "       'leiden_res_1.8000000000000003', 'leiden_res_1.9000000000000001',\n",
       "       'leiden_res_0.3', 'leiden_res_0.7', 'leiden_res_1.2', 'leiden_res_1.3',\n",
       "       'leiden_res_1.4', 'leiden_res_1.5', 'leiden_res_1.7', 'leiden_res_1.8',\n",
       "       'leiden_res_1.9', 'celltype.L1', 'celltype.L2',\n",
       "       'Neurotransmitter_celltype', 'celltype.L1_ct', 'Sample_name',\n",
       "       'Condition', 'Region', 'celltype.L2.raw', 'region_nt', 'celltype.L3',\n",
       "       'celltype.L4', 'celltype.L1nt'],\n",
       "      dtype='object')"
      ]
     },
     "execution_count": 5,
     "metadata": {},
     "output_type": "execute_result"
    }
   ],
   "source": [
    "peak_mat.obs.columns"
   ]
  },
  {
   "cell_type": "code",
   "execution_count": null,
   "metadata": {},
   "outputs": [],
   "source": [
    "peak_mat.obs['celltype.L1nt'] = peak_mat.obs['celltype.L1'].astype('str')\n",
    "peak_mat.obs.loc[peak_mat.obs['celltype.L1'] == 'Neuron', 'celltype.L1nt'] = peak_mat.obs.loc[peak_mat.obs['celltype.L1'] == 'Neuron', 'region_nt'].astype('str').values\n",
    "peak_mat.obs['celltype.L1nt'] = peak_mat.obs['celltype.L1nt'].astype('category')"
   ]
  },
  {
   "cell_type": "code",
   "execution_count": 26,
   "metadata": {},
   "outputs": [],
   "source": [
    "peak_mat.write(f\"output/atac0627/3REGIONS_peak.h5ads\")\n"
   ]
  },
  {
   "cell_type": "code",
   "execution_count": null,
   "metadata": {},
   "outputs": [
    {
     "name": "stderr",
     "output_type": "stream",
     "text": [
      "... storing 'sample' as categorical\n",
      "... storing 'celltype.L1' as categorical\n",
      "... storing 'celltype.L2' as categorical\n",
      "... storing 'Neurotransmitter_celltype' as categorical\n",
      "... storing 'celltype.L1_ct' as categorical\n",
      "... storing 'Sample_name' as categorical\n",
      "... storing 'Condition' as categorical\n",
      "... storing 'Region' as categorical\n",
      "... storing 'celltype.L2.raw' as categorical\n",
      "... storing 'region_nt' as categorical\n",
      "... storing 'celltype.L3' as categorical\n",
      "... storing 'celltype.L4' as categorical\n"
     ]
    }
   ],
   "source": []
  },
  {
   "cell_type": "code",
   "execution_count": 33,
   "metadata": {},
   "outputs": [],
   "source": [
    "peak_mat.var['chr'] = peak_mat.var.index.str.split(r'[:-]').str[0]\n",
    "peak_mat.var['start'] = peak_mat.var.index.str.split(r'[:-]').str[1]\n",
    "peak_mat.var['end'] = peak_mat.var.index.str.split(r'[:-]').str[2]"
   ]
  },
  {
   "cell_type": "code",
   "execution_count": 34,
   "metadata": {},
   "outputs": [],
   "source": [
    "peak_mat.var.to_csv('/data2st1/junyi/output/atac0627/cCRE/peak.bed', index=False, sep=\"\\t\", header=False)"
   ]
  },
  {
   "cell_type": "code",
   "execution_count": 78,
   "metadata": {},
   "outputs": [
    {
     "name": "stdout",
     "output_type": "stream",
     "text": [
      "['OPC-Oligo', 'Immune', 'Astro-Epen', 'Neuron']\n",
      "['AMY', 'HIP', 'PFC']\n"
     ]
    }
   ],
   "source": [
    "#celltypes = adata.obs[\"celltype.L1.tab\"].unique()\n",
    "regions = ['AMY','HIP','PFC']\n",
    "celltypes = ['OPC-Oligo', 'Immune','Astro-Epen','Neuron']\n",
    "print(celltypes)\n",
    "print(regions)"
   ]
  },
  {
   "cell_type": "code",
   "execution_count": null,
   "metadata": {},
   "outputs": [
    {
     "name": "stderr",
     "output_type": "stream",
     "text": [
      "/tmp/ipykernel_2089906/1039730475.py:9: FutureWarning:\n",
      "\n",
      "The default of observed=False is deprecated and will be changed to True in a future version of pandas. Pass observed=False to retain current behavior or observed=True to adopt the future default and silence this warning.\n",
      "\n"
     ]
    }
   ],
   "source": [
    "# # Column to use for stratification\n",
    "# stratify_column = 'sample'\n",
    "\n",
    "# # Number of cells to sample from each group\n",
    "# n_samples_per_group = 2000\n",
    "\n",
    "# # Perform stratified sampling\n",
    "# sampled_indices = (\n",
    "#     adata.obs\n",
    "#     .groupby(stratify_column, group_keys=False)\n",
    "#     .apply(lambda x: x.sample(min(n_samples_per_group, len(x))))\n",
    "#     .index\n",
    "# )\n"
   ]
  },
  {
   "cell_type": "code",
   "execution_count": null,
   "metadata": {},
   "outputs": [
    {
     "name": "stderr",
     "output_type": "stream",
     "text": [
      "/tmp/ipykernel_2089906/4130967597.py:6: ImplicitModificationWarning:\n",
      "\n",
      "Trying to modify attribute `.obs` of view, initializing view as actual.\n",
      "\n"
     ]
    }
   ],
   "source": [
    "# region = 'ALL'\n",
    "# celltype = 'ALL'\n",
    "# base_name = f\"{region}_{celltype}\"\n",
    "# adata_AMY_neuron  = adata[sampled_indices, :]\n",
    "\n",
    "# adata_AMY_neuron.obs['expriment'] = adata_AMY_neuron.obs['sample'].str[:2]"
   ]
  }
 ],
 "metadata": {
  "kernelspec": {
   "display_name": "snapatac2",
   "language": "python",
   "name": "python3"
  },
  "language_info": {
   "codemirror_mode": {
    "name": "ipython",
    "version": 3
   },
   "file_extension": ".py",
   "mimetype": "text/x-python",
   "name": "python",
   "nbconvert_exporter": "python",
   "pygments_lexer": "ipython3",
   "version": "3.10.0"
  }
 },
 "nbformat": 4,
 "nbformat_minor": 2
}
