{
 "cells": [
  {
   "cell_type": "code",
   "execution_count": 1,
   "metadata": {},
   "outputs": [],
   "source": [
    "import pandas as pd\n",
    "import re\n",
    "import os\n",
    "import glob\n",
    "import snapatac2 as snap"
   ]
  },
  {
   "cell_type": "code",
   "execution_count": 2,
   "metadata": {},
   "outputs": [],
   "source": [
    "import seaborn as sns\n",
    "import matplotlib.pyplot as plt\n",
    "import numpy as np\n",
    "import utils\n",
    "import subprocess"
   ]
  },
  {
   "cell_type": "code",
   "execution_count": 3,
   "metadata": {},
   "outputs": [],
   "source": [
    "df_deg_glut = pd.read_csv('/home/junyichen/code/scmmd/data/degs/Memento_Glut_DEGs_each_region_diff_gender_v1.csv',index_col=0)\n",
    "df_deg_gaba = pd.read_csv('/home/junyichen/code/scmmd/data/degs/Memento_GABA_DEGs_each_region_diff_gender_v1.csv',index_col=0)\n",
    "df_deg_glut['ctname'] = df_deg_glut['region'] + '_Glut'\n",
    "df_deg_gaba['ctname'] = df_deg_gaba['region'] + '_GABA'\n",
    "df_deg = pd.concat([df_deg_glut,df_deg_gaba],axis=0,ignore_index=True)"
   ]
  },
  {
   "cell_type": "code",
   "execution_count": 4,
   "metadata": {},
   "outputs": [],
   "source": [
    "df_deg_select = df_deg[(df_deg.de_pval<0.05) & (df_deg.gender==\"M\") & (df_deg.region.isin(['AMY','HIP','PFC']))]"
   ]
  },
  {
   "cell_type": "code",
   "execution_count": 5,
   "metadata": {},
   "outputs": [
    {
     "name": "stderr",
     "output_type": "stream",
     "text": [
      "/tmp/ipykernel_3704978/3437822688.py:1: SettingWithCopyWarning: \n",
      "A value is trying to be set on a copy of a slice from a DataFrame.\n",
      "Try using .loc[row_indexer,col_indexer] = value instead\n",
      "\n",
      "See the caveats in the documentation: https://pandas.pydata.org/pandas-docs/stable/user_guide/indexing.html#returning-a-view-versus-a-copy\n",
      "  df_deg_select['condition'] = 'MW'\n"
     ]
    }
   ],
   "source": [
    "df_deg_select['condition'] = 'MW'\n",
    "df_deg_select.loc[df_deg_select.de_coef>0,'condition'] = 'MC'"
   ]
  },
  {
   "cell_type": "code",
   "execution_count": 9,
   "metadata": {},
   "outputs": [],
   "source": [
    "df_wil = pd.read_csv('/data2st1/junyi/output/atac0416/dar/region_nt/df_annotattion_wilcoxon.csv')\n",
    "df_mementob_old = pd.read_csv('/data2st1/junyi/output/atac0416/cCRE/df_deg_mento_annotated.csv')"
   ]
  },
  {
   "cell_type": "code",
   "execution_count": 13,
   "metadata": {},
   "outputs": [],
   "source": [
    "df_memento_cov = pd.read_csv('/data2st1/junyi/output/atac0416/dar/region_nt/mementoht_dar_annotated.csv')\n",
    "df_memento_cov = df_memento_cov[df_memento_cov.de_pval<0.05]"
   ]
  },
  {
   "cell_type": "code",
   "execution_count": 14,
   "metadata": {},
   "outputs": [],
   "source": [
    "df_memento_cr = pd.read_csv('/data2st1/junyi/output/atac0526/dar/region_nt/mementob_dar_annotated.csv')\n",
    "df_memento_cr = df_memento_cr[df_memento_cr.de_pval<0.05]\n",
    "df_memento_dbatch = pd.read_csv('/data2st1/junyi/output/atac0526/dar/region_nt/mementoht_dar_annotated.csv')\n",
    "df_memento_dbatch = df_memento_dbatch[df_memento_dbatch.de_pval<0.05]"
   ]
  },
  {
   "cell_type": "code",
   "execution_count": 37,
   "metadata": {},
   "outputs": [
    {
     "name": "stdout",
     "output_type": "stream",
     "text": [
      "Correlation for PFC_Glut: 0.04,size=6834\n",
      "Correlation for PFC_GABA: 0.45,size=72\n",
      "Correlation for AMY_Glut: 0.52,size=143\n",
      "Correlation for HIP_Glut: -0.06,size=1466\n",
      "Correlation for AMY_GABA: 0.03,size=185\n",
      "Correlation for HIP_GABA: nan,size=1\n"
     ]
    }
   ],
   "source": [
    "df_wil.rename(columns={'gene_name': 'gene'}, inplace=True)\n",
    "d_degdar_wil = df_wil.merge(df_deg_select,how='inner',left_on=['ctname','condition','gene'],right_on=['ctname','condition','gene'],suffixes=('_atac', '_sc'))\n",
    "d_degdar_wil.sort_values(by='condition', ascending=False, inplace=True)\n",
    "d_degdar_wil.loc[d_degdar_wil.condition=='MW','logfoldchanges'] = d_degdar_wil.loc[d_degdar_wil.condition=='MW','logfoldchanges']*-1\n",
    "for ctname in d_degdar_wil.ctname.unique():\n",
    "    df_ct = d_degdar_wil[d_degdar_wil.ctname == ctname]\n",
    "    corr = df_ct[['logfoldchanges', 'de_coef']].corr().iloc[0, 1]\n",
    "    print(f'Correlation for {ctname}: {corr:.2f},size={len(df_ct)}')"
   ]
  },
  {
   "cell_type": "code",
   "execution_count": 46,
   "metadata": {},
   "outputs": [
    {
     "data": {
      "text/html": [
       "<div>\n",
       "<style scoped>\n",
       "    .dataframe tbody tr th:only-of-type {\n",
       "        vertical-align: middle;\n",
       "    }\n",
       "\n",
       "    .dataframe tbody tr th {\n",
       "        vertical-align: top;\n",
       "    }\n",
       "\n",
       "    .dataframe thead th {\n",
       "        text-align: right;\n",
       "    }\n",
       "</style>\n",
       "<table border=\"1\" class=\"dataframe\">\n",
       "  <thead>\n",
       "    <tr style=\"text-align: right;\">\n",
       "      <th></th>\n",
       "      <th>logfoldchanges</th>\n",
       "      <th>de_coef</th>\n",
       "    </tr>\n",
       "  </thead>\n",
       "  <tbody>\n",
       "    <tr>\n",
       "      <th>logfoldchanges</th>\n",
       "      <td>1.000000</td>\n",
       "      <td>0.636427</td>\n",
       "    </tr>\n",
       "    <tr>\n",
       "      <th>de_coef</th>\n",
       "      <td>0.636427</td>\n",
       "      <td>1.000000</td>\n",
       "    </tr>\n",
       "  </tbody>\n",
       "</table>\n",
       "</div>"
      ],
      "text/plain": [
       "                logfoldchanges   de_coef\n",
       "logfoldchanges        1.000000  0.636427\n",
       "de_coef               0.636427  1.000000"
      ]
     },
     "execution_count": 46,
     "metadata": {},
     "output_type": "execute_result"
    }
   ],
   "source": [
    "d_degdar_wil[['logfoldchanges','de_coef']].corr()"
   ]
  },
  {
   "cell_type": "code",
   "execution_count": 29,
   "metadata": {},
   "outputs": [
    {
     "name": "stdout",
     "output_type": "stream",
     "text": [
      "Correlation for PFC_Glut: 0.02,size=3624, IoU=0.23\n",
      "Correlation for PFC_GABA: 0.02,size=1471, IoU=0.13\n",
      "Correlation for HIP_Glut: 0.54,size=1606, IoU=0.12\n",
      "Correlation for HIP_GABA: 0.01,size=966, IoU=0.10\n",
      "Correlation for AMY_GABA: 0.48,size=974, IoU=0.09\n",
      "Correlation for AMY_Glut: 0.79,size=1207, IoU=0.09\n"
     ]
    }
   ],
   "source": [
    "df_memento_cov.rename(columns={'gene_name': 'gene'}, inplace=True)\n",
    "df_degmemento_cov = df_memento_cov.merge(df_deg_select, how='inner', left_on=['ctname', 'condition', 'gene'], right_on=['ctname', 'condition', 'gene'], suffixes=('_atac', '_sc'))\n",
    "for ctname in df_degmemento_cov.ctname.unique():\n",
    "    df_ct = df_degmemento_cov[df_degmemento_cov.ctname == ctname]\n",
    "    df_s_deg = df_deg[df_deg.ctname == ctname]\n",
    "    df_s_dar = df_memento_cov[df_memento_cov.ctname == ctname]\n",
    "    corr = df_ct[['de_coef_atac', 'de_coef_sc']].corr(method='pearson').iloc[0, 1]\n",
    "    IoU = len(df_ct.drop_duplicates(['gene'])) / len(set(df_s_deg.gene).union(set(df_s_dar.gene)))\n",
    "    print(f'Correlation for {ctname}: {corr:.2f},size={len(df_ct.drop_duplicates(subset=[\"gene\"]))}, IoU={IoU:.2f}')"
   ]
  },
  {
   "cell_type": "code",
   "execution_count": 41,
   "metadata": {},
   "outputs": [
    {
     "data": {
      "text/html": [
       "<div>\n",
       "<style scoped>\n",
       "    .dataframe tbody tr th:only-of-type {\n",
       "        vertical-align: middle;\n",
       "    }\n",
       "\n",
       "    .dataframe tbody tr th {\n",
       "        vertical-align: top;\n",
       "    }\n",
       "\n",
       "    .dataframe thead th {\n",
       "        text-align: right;\n",
       "    }\n",
       "</style>\n",
       "<table border=\"1\" class=\"dataframe\">\n",
       "  <thead>\n",
       "    <tr style=\"text-align: right;\">\n",
       "      <th></th>\n",
       "      <th>de_coef_atac</th>\n",
       "      <th>de_coef_sc</th>\n",
       "    </tr>\n",
       "  </thead>\n",
       "  <tbody>\n",
       "    <tr>\n",
       "      <th>de_coef_atac</th>\n",
       "      <td>1.000000</td>\n",
       "      <td>0.317278</td>\n",
       "    </tr>\n",
       "    <tr>\n",
       "      <th>de_coef_sc</th>\n",
       "      <td>0.317278</td>\n",
       "      <td>1.000000</td>\n",
       "    </tr>\n",
       "  </tbody>\n",
       "</table>\n",
       "</div>"
      ],
      "text/plain": [
       "              de_coef_atac  de_coef_sc\n",
       "de_coef_atac      1.000000    0.317278\n",
       "de_coef_sc        0.317278    1.000000"
      ]
     },
     "execution_count": 41,
     "metadata": {},
     "output_type": "execute_result"
    }
   ],
   "source": [
    "df_degmemento_cov[['de_coef_atac','de_coef_sc']].corr()"
   ]
  },
  {
   "cell_type": "code",
   "execution_count": 38,
   "metadata": {},
   "outputs": [
    {
     "name": "stdout",
     "output_type": "stream",
     "text": [
      "Correlation for PFC_Glut: 0.27,size=1285, IoU=0.07\n",
      "Correlation for PFC_GABA: 0.72,size=407, IoU=0.03\n",
      "Correlation for HIP_GABA: 0.03,size=907, IoU=0.09\n",
      "Correlation for HIP_Glut: 0.71,size=1924, IoU=0.13\n",
      "Correlation for AMY_Glut: 0.74,size=2085, IoU=0.14\n",
      "Correlation for AMY_GABA: 0.27,size=2087, IoU=0.18\n"
     ]
    }
   ],
   "source": [
    "df_memento_cr.rename(columns={'gene_name': 'gene'}, inplace=True)\n",
    "df_degmemento_cr = df_memento_cr.merge(df_deg_select, how='inner', left_on=['ctname', 'condition', 'gene'], right_on=['ctname', 'condition', 'gene'], suffixes=('_atac', '_sc'))\n",
    "for ctname in df_degmemento_cr.ctname.unique():\n",
    "    df_ct = df_degmemento_cr[df_degmemento_cr.ctname == ctname]\n",
    "    df_s_deg = df_deg[df_deg.ctname == ctname]\n",
    "    df_s_dar = df_memento_cr[df_memento_cr.ctname == ctname]\n",
    "    corr = df_ct[['de_coef_atac', 'de_coef_sc']].corr(method='pearson').iloc[0, 1]\n",
    "    IoU = len(df_ct.drop_duplicates(['gene'])) / len(set(df_s_deg.gene).union(set(df_s_dar.gene)))\n",
    "    print(f'Correlation for {ctname}: {corr:.2f},size={len(df_ct.drop_duplicates(subset=[\"gene\"]))}, IoU={IoU:.2f}')\n",
    "df_memento_dbatch.rename(columns={'gene_name': 'gene'}, inplace=True)"
   ]
  },
  {
   "cell_type": "code",
   "execution_count": 40,
   "metadata": {},
   "outputs": [
    {
     "data": {
      "text/html": [
       "<div>\n",
       "<style scoped>\n",
       "    .dataframe tbody tr th:only-of-type {\n",
       "        vertical-align: middle;\n",
       "    }\n",
       "\n",
       "    .dataframe tbody tr th {\n",
       "        vertical-align: top;\n",
       "    }\n",
       "\n",
       "    .dataframe thead th {\n",
       "        text-align: right;\n",
       "    }\n",
       "</style>\n",
       "<table border=\"1\" class=\"dataframe\">\n",
       "  <thead>\n",
       "    <tr style=\"text-align: right;\">\n",
       "      <th></th>\n",
       "      <th>de_coef_atac</th>\n",
       "      <th>de_coef_sc</th>\n",
       "    </tr>\n",
       "  </thead>\n",
       "  <tbody>\n",
       "    <tr>\n",
       "      <th>de_coef_atac</th>\n",
       "      <td>1.000000</td>\n",
       "      <td>0.775564</td>\n",
       "    </tr>\n",
       "    <tr>\n",
       "      <th>de_coef_sc</th>\n",
       "      <td>0.775564</td>\n",
       "      <td>1.000000</td>\n",
       "    </tr>\n",
       "  </tbody>\n",
       "</table>\n",
       "</div>"
      ],
      "text/plain": [
       "              de_coef_atac  de_coef_sc\n",
       "de_coef_atac      1.000000    0.775564\n",
       "de_coef_sc        0.775564    1.000000"
      ]
     },
     "execution_count": 40,
     "metadata": {},
     "output_type": "execute_result"
    }
   ],
   "source": [
    "df_degmemento_cr[['de_coef_atac','de_coef_sc']].corr()"
   ]
  },
  {
   "cell_type": "code",
   "execution_count": 23,
   "metadata": {},
   "outputs": [
    {
     "name": "stdout",
     "output_type": "stream",
     "text": [
      "Correlation for PFC_Glut: 0.26,size=1189, IoU=0.07\n",
      "Correlation for PFC_GABA: 0.68,size=358, IoU=0.03\n",
      "Correlation for HIP_Glut: 0.72,size=1944, IoU=0.13\n",
      "Correlation for HIP_GABA: 0.02,size=902, IoU=0.09\n",
      "Correlation for AMY_GABA: 0.25,size=2067, IoU=0.18\n",
      "Correlation for AMY_Glut: 0.74,size=2101, IoU=0.14\n"
     ]
    }
   ],
   "source": [
    "df_memento_dbatch.rename(columns={'gene_name': 'gene'}, inplace=True)\n",
    "df_degmemento_dbatch = df_memento_dbatch.merge(df_deg_select, how='inner', left_on=['ctname', 'condition', 'gene'], right_on=['ctname', 'condition', 'gene'], suffixes=('_atac', '_sc'))\n",
    "for ctname in df_degmemento_dbatch.ctname.unique():\n",
    "    df_ct = df_degmemento_dbatch[df_degmemento_dbatch.ctname == ctname]\n",
    "    df_s_deg = df_deg[df_deg.ctname == ctname]\n",
    "    df_s_dar = df_memento_dbatch[df_memento_dbatch.ctname == ctname]\n",
    "    corr = df_ct[['de_coef_atac', 'de_coef_sc']].corr(method='pearson').iloc[0, 1]\n",
    "    IoU = len(df_ct.drop_duplicates(['gene'])) / len(set(df_s_deg.gene).union(set(df_s_dar.gene)))\n",
    "    print(f'Correlation for {ctname}: {corr:.2f},size={len(df_ct.drop_duplicates(subset=[\"gene\"]))}, IoU={IoU:.2f}')"
   ]
  },
  {
   "cell_type": "code",
   "execution_count": 35,
   "metadata": {},
   "outputs": [
    {
     "name": "stdout",
     "output_type": "stream",
     "text": [
      "Correlation for PFC_Glut: 0.26,size=1267, IoU=0.07\n",
      "Correlation for PFC_GABA: 0.69,size=404, IoU=0.03\n",
      "Correlation for HIP_GABA: 0.01,size=941, IoU=0.09\n",
      "Correlation for HIP_Glut: 0.71,size=1904, IoU=0.13\n",
      "Correlation for AMY_Glut: 0.74,size=2108, IoU=0.15\n",
      "Correlation for AMY_GABA: 0.25,size=2099, IoU=0.18\n"
     ]
    }
   ],
   "source": [
    "df_mementob_old.rename(columns={'gene_name': 'gene'}, inplace=True)\n",
    "df_degmementob_old = df_mementob_old.merge(df_deg_select, how='inner', left_on=['ctname', 'condition', 'gene'], right_on=['ctname', 'condition', 'gene'], suffixes=('_atac', '_sc'))\n",
    "for ctname in df_degmementob_old.ctname.unique():\n",
    "    df_ct = df_degmementob_old[df_degmementob_old.ctname == ctname]\n",
    "    df_s_deg = df_deg[df_deg.ctname == ctname]\n",
    "    df_s_dar = df_mementob_old[df_mementob_old.ctname == ctname]\n",
    "    corr = df_ct[['de_coef_atac', 'de_coef_sc']].corr(method='pearson').iloc[0, 1]\n",
    "    IoU = len(df_ct.drop_duplicates(['gene'])) / len(set(df_s_deg.gene).union(set(df_s_dar.gene)))\n",
    "    print(f'Correlation for {ctname}: {corr:.2f},size={len(df_ct.drop_duplicates(subset=[\"gene\"]))}, IoU={IoU:.2f}')"
   ]
  },
  {
   "cell_type": "code",
   "execution_count": 36,
   "metadata": {},
   "outputs": [
    {
     "data": {
      "text/plain": [
       "<Axes: xlabel='de_coef_atac', ylabel='de_coef_sc'>"
      ]
     },
     "execution_count": 36,
     "metadata": {},
     "output_type": "execute_result"
    },
    {
     "data": {
      "image/png": "[encoded data removed]",
      "text/plain": [
       "<Figure size 640x480 with 1 Axes>"
      ]
     },
     "metadata": {},
     "output_type": "display_data"
    }
   ],
   "source": [
    "sns.regplot(data=df_degmementob_old, x='de_coef_atac', y='de_coef_sc')"
   ]
  }
 ],
 "metadata": {
  "kernelspec": {
   "display_name": "snapatac2",
   "language": "python",
   "name": "python3"
  },
  "language_info": {
   "codemirror_mode": {
    "name": "ipython",
    "version": 3
   },
   "file_extension": ".py",
   "mimetype": "text/x-python",
   "name": "python",
   "nbconvert_exporter": "python",
   "pygments_lexer": "ipython3",
   "version": "3.10.0"
  }
 },
 "nbformat": 4,
 "nbformat_minor": 2
}
