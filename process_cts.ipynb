{
 "cells": [
  {
   "cell_type": "code",
   "execution_count": 79,
   "id": "3467e3aa",
   "metadata": {},
   "outputs": [],
   "source": [
    "import pandas as pd\n",
    "import glob as glob\n",
    "import os"
   ]
  },
  {
   "cell_type": "code",
   "execution_count": 80,
   "id": "9557bac2",
   "metadata": {},
   "outputs": [],
   "source": [
    "outdir = '/data2st1/junyi/output/atac0627/snregulation/ctx'\n",
    "ctxpath ='/data1st1/yejun/pyscenic/ctx'"
   ]
  },
  {
   "cell_type": "code",
   "execution_count": 81,
   "id": "5ccf50de",
   "metadata": {},
   "outputs": [],
   "source": [
    "files = glob.glob(ctxpath + '/*.csv')"
   ]
  },
  {
   "cell_type": "code",
   "execution_count": 87,
   "id": "48bfcb33",
   "metadata": {},
   "outputs": [],
   "source": [
    "for f in files:\n",
    "    df_tmp = pd.read_csv(f,header=1)\n",
    "    brainregion = f.split('_')[1]\n",
    "    gender = f.split('_')[-1].split('.')[0]\n",
    "    celltype = \"_\".join(f.split('_')[2:-1])\n",
    "    df_tmp.TargetGenes\n",
    "    df_tmp.dropna(inplace=True)\n",
    "    df_tmp['target'] = df_tmp['TargetGenes'].str.replace(r'[()\\[\\]\\'\"]', '', regex=True)\n",
    "    df_tmp['target'] = df_tmp['target'].str.split(',').apply(lambda x: [i.strip() for i in x])\n",
    "    df_explode = df_tmp.explode('target')\n",
    "    # only keep odd rows\n",
    "    df_explode = df_explode.iloc[::2, :]\n",
    "    df_explode.rename(columns={'Unnamed: 1': 'modtifid','Unnamed: 0': 'TF'}, inplace=True)\n",
    "    df_explode.drop_duplicates(subset=['TF', 'modtifid', 'target'], inplace=True)\n",
    "    df_explode[['TF', 'modtifid', 'target']].to_csv(f\"{outdir}/{os.path.basename(f).replace('.csv', '.tsv')}\", sep='\\t', index=False)"
   ]
  }
 ],
 "metadata": {
  "kernelspec": {
   "display_name": "snapatac2",
   "language": "python",
   "name": "python3"
  },
  "language_info": {
   "codemirror_mode": {
    "name": "ipython",
    "version": 3
   },
   "file_extension": ".py",
   "mimetype": "text/x-python",
   "name": "python",
   "nbconvert_exporter": "python",
   "pygments_lexer": "ipython3",
   "version": "3.10.0"
  }
 },
 "nbformat": 4,
 "nbformat_minor": 5
}
