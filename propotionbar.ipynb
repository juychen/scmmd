{
 "cells": [
  {
   "cell_type": "code",
   "execution_count": null,
   "metadata": {},
   "outputs": [
    {
     "name": "stdout",
     "output_type": "stream",
     "text": [
      "1.8.2\n"
     ]
    }
   ],
   "source": [
    "import os,sys\n",
    "%matplotlib inline\n",
    "import matplotlib.pylab as plt\n",
    "import numpy as np\n",
    "import pandas as pd\n",
    "plt.rcParams['figure.dpi'] = 100\n",
    "plt.rcParams['savefig.dpi']=300\n",
    "plt.rcParams['font.family']='sans serif' #please remove this line if font is not installed\n",
    "plt.rcParams['font.sans-serif']='Arial' # please remove this line if Arial font is not installed\n",
    "plt.rcParams['pdf.fonttype']=42\n",
    "# sys.path.append(os.path.expanduser(\"~/Projects/Github/PyComplexHeatmap/\"))\n",
    "import PyComplexHeatmap as pch\n",
    "print(pch.__version__)\n",
    "\n",
    "import seaborn as sns\n",
    "import matplotlib.pyplot as plt\n"
   ]
  },
  {
   "cell_type": "code",
   "execution_count": 2,
   "metadata": {},
   "outputs": [
    {
     "data": {
      "text/html": [
       "<div>\n",
       "<style scoped>\n",
       "    .dataframe tbody tr th:only-of-type {\n",
       "        vertical-align: middle;\n",
       "    }\n",
       "\n",
       "    .dataframe tbody tr th {\n",
       "        vertical-align: top;\n",
       "    }\n",
       "\n",
       "    .dataframe thead th {\n",
       "        text-align: right;\n",
       "    }\n",
       "</style>\n",
       "<table border=\"1\" class=\"dataframe\">\n",
       "  <thead>\n",
       "    <tr style=\"text-align: right;\">\n",
       "      <th></th>\n",
       "      <th>AB</th>\n",
       "      <th>CD</th>\n",
       "      <th>EF</th>\n",
       "      <th>F</th>\n",
       "    </tr>\n",
       "  </thead>\n",
       "  <tbody>\n",
       "    <tr>\n",
       "      <th>sample1</th>\n",
       "      <td>GroupA</td>\n",
       "      <td>C</td>\n",
       "      <td>E</td>\n",
       "      <td>0.200561</td>\n",
       "    </tr>\n",
       "    <tr>\n",
       "      <th>sample2</th>\n",
       "      <td>GroupA</td>\n",
       "      <td>C</td>\n",
       "      <td>E</td>\n",
       "      <td>0.114696</td>\n",
       "    </tr>\n",
       "    <tr>\n",
       "      <th>sample3</th>\n",
       "      <td>GroupA</td>\n",
       "      <td>C</td>\n",
       "      <td>E</td>\n",
       "      <td>-0.758505</td>\n",
       "    </tr>\n",
       "    <tr>\n",
       "      <th>sample4</th>\n",
       "      <td>GroupA</td>\n",
       "      <td>D</td>\n",
       "      <td>E</td>\n",
       "      <td>-0.034787</td>\n",
       "    </tr>\n",
       "    <tr>\n",
       "      <th>sample5</th>\n",
       "      <td>GroupA</td>\n",
       "      <td>D</td>\n",
       "      <td>E</td>\n",
       "      <td>1.201899</td>\n",
       "    </tr>\n",
       "  </tbody>\n",
       "</table>\n",
       "</div>"
      ],
      "text/plain": [
       "             AB CD EF         F\n",
       "sample1  GroupA  C  E  0.200561\n",
       "sample2  GroupA  C  E  0.114696\n",
       "sample3  GroupA  C  E -0.758505\n",
       "sample4  GroupA  D  E -0.034787\n",
       "sample5  GroupA  D  E  1.201899"
      ]
     },
     "execution_count": 2,
     "metadata": {},
     "output_type": "execute_result"
    }
   ],
   "source": [
    "df = pd.DataFrame(['GroupA'] * 5 + ['GroupB'] * 5, columns=['AB'])\n",
    "df['CD'] = ['C'] * 3 + ['D'] * 3 + ['G'] * 4\n",
    "df['EF'] = ['E'] * 6 + ['F'] * 2 + ['H'] * 2\n",
    "df['F'] = np.random.normal(0, 1, 10)\n",
    "df.index = ['sample' + str(i) for i in range(1, df.shape[0] + 1)]\n",
    "df.head()\n"
   ]
  },
  {
   "cell_type": "code",
   "execution_count": 3,
   "metadata": {},
   "outputs": [
    {
     "name": "stderr",
     "output_type": "stream",
     "text": [
      "findfont: Generic family 'sans serif' not found because none of the following families were found: Arial\n",
      "findfont: Generic family 'sans serif' not found because none of the following families were found: Arial\n",
      "findfont: Generic family 'sans serif' not found because none of the following families were found: Arial\n",
      "findfont: Generic family 'sans serif' not found because none of the following families were found: Arial\n",
      "findfont: Generic family 'sans serif' not found because none of the following families were found: Arial\n",
      "findfont: Generic family 'sans serif' not found because none of the following families were found: Arial\n",
      "findfont: Generic family 'sans serif' not found because none of the following families were found: Arial\n",
      "findfont: Generic family 'sans serif' not found because none of the following families were found: Arial\n",
      "findfont: Generic family 'sans serif' not found because none of the following families were found: Arial\n",
      "findfont: Generic family 'sans serif' not found because none of the following families were found: Arial\n",
      "findfont: Generic family 'sans serif' not found because none of the following families were found: Arial\n",
      "findfont: Generic family 'sans serif' not found because none of the following families were found: Arial\n",
      "findfont: Generic family 'sans serif' not found because none of the following families were found: Arial\n",
      "findfont: Generic family 'sans serif' not found because none of the following families were found: Arial\n",
      "findfont: Generic family 'sans serif' not found because none of the following families were found: Arial\n",
      "findfont: Generic family 'sans serif' not found because none of the following families were found: Arial\n",
      "findfont: Generic family 'sans serif' not found because none of the following families were found: Arial\n",
      "findfont: Generic family 'sans serif' not found because none of the following families were found: Arial\n",
      "findfont: Generic family 'sans serif' not found because none of the following families were found: Arial\n",
      "findfont: Generic family 'sans serif' not found because none of the following families were found: Arial\n",
      "findfont: Generic family 'sans serif' not found because none of the following families were found: Arial\n",
      "findfont: Generic family 'sans serif' not found because none of the following families were found: Arial\n",
      "findfont: Generic family 'sans serif' not found because none of the following families were found: Arial\n",
      "findfont: Generic family 'sans serif' not found because none of the following families were found: Arial\n",
      "findfont: Generic family 'sans serif' not found because none of the following families were found: Arial\n",
      "findfont: Generic family 'sans serif' not found because none of the following families were found: Arial\n",
      "findfont: Generic family 'sans serif' not found because none of the following families were found: Arial\n",
      "findfont: Generic family 'sans serif' not found because none of the following families were found: Arial\n",
      "findfont: Generic family 'sans serif' not found because none of the following families were found: Arial\n",
      "findfont: Generic family 'sans serif' not found because none of the following families were found: Arial\n",
      "findfont: Generic family 'sans serif' not found because none of the following families were found: Arial\n",
      "findfont: Generic family 'sans serif' not found because none of the following families were found: Arial\n",
      "findfont: Generic family 'sans serif' not found because none of the following families were found: Arial\n",
      "findfont: Generic family 'sans serif' not found because none of the following families were found: Arial\n",
      "findfont: Generic family 'sans serif' not found because none of the following families were found: Arial\n",
      "findfont: Generic family 'sans serif' not found because none of the following families were found: Arial\n",
      "findfont: Generic family 'sans serif' not found because none of the following families were found: Arial\n",
      "findfont: Generic family 'sans serif' not found because none of the following families were found: Arial\n",
      "findfont: Generic family 'sans serif' not found because none of the following families were found: Arial\n",
      "findfont: Generic family 'sans serif' not found because none of the following families were found: Arial\n",
      "findfont: Generic family 'sans serif' not found because none of the following families were found: Arial\n",
      "findfont: Generic family 'sans serif' not found because none of the following families were found: Arial\n",
      "findfont: Generic family 'sans serif' not found because none of the following families were found: Arial\n",
      "findfont: Generic family 'sans serif' not found because none of the following families were found: Arial\n",
      "findfont: Generic family 'sans serif' not found because none of the following families were found: Arial\n",
      "findfont: Generic family 'sans serif' not found because none of the following families were found: Arial\n",
      "findfont: Generic family 'sans serif' not found because none of the following families were found: Arial\n",
      "findfont: Generic family 'sans serif' not found because none of the following families were found: Arial\n",
      "findfont: Generic family 'sans serif' not found because none of the following families were found: Arial\n",
      "findfont: Generic family 'sans serif' not found because none of the following families were found: Arial\n",
      "findfont: Generic family 'sans serif' not found because none of the following families were found: Arial\n",
      "findfont: Generic family 'sans serif' not found because none of the following families were found: Arial\n",
      "findfont: Generic family 'sans serif' not found because none of the following families were found: Arial\n",
      "findfont: Generic family 'sans serif' not found because none of the following families were found: Arial\n",
      "findfont: Generic family 'sans serif' not found because none of the following families were found: Arial\n",
      "findfont: Generic family 'sans serif' not found because none of the following families were found: Arial\n",
      "findfont: Generic family 'sans serif' not found because none of the following families were found: Arial\n",
      "findfont: Generic family 'sans serif' not found because none of the following families were found: Arial\n",
      "findfont: Generic family 'sans serif' not found because none of the following families were found: Arial\n",
      "findfont: Generic family 'sans serif' not found because none of the following families were found: Arial\n",
      "findfont: Generic family 'sans serif' not found because none of the following families were found: Arial\n",
      "findfont: Generic family 'sans serif' not found because none of the following families were found: Arial\n",
      "findfont: Generic family 'sans serif' not found because none of the following families were found: Arial\n",
      "findfont: Generic family 'sans serif' not found because none of the following families were found: Arial\n",
      "findfont: Generic family 'sans serif' not found because none of the following families were found: Arial\n",
      "findfont: Generic family 'sans serif' not found because none of the following families were found: Arial\n",
      "findfont: Generic family 'sans serif' not found because none of the following families were found: Arial\n",
      "findfont: Generic family 'sans serif' not found because none of the following families were found: Arial\n",
      "findfont: Generic family 'sans serif' not found because none of the following families were found: Arial\n",
      "findfont: Generic family 'sans serif' not found because none of the following families were found: Arial\n",
      "findfont: Generic family 'sans serif' not found because none of the following families were found: Arial\n",
      "findfont: Generic family 'sans serif' not found because none of the following families were found: Arial\n",
      "findfont: Generic family 'sans serif' not found because none of the following families were found: Arial\n",
      "findfont: Generic family 'sans serif' not found because none of the following families were found: Arial\n",
      "findfont: Generic family 'sans serif' not found because none of the following families were found: Arial\n",
      "findfont: Generic family 'sans serif' not found because none of the following families were found: Arial\n",
      "findfont: Generic family 'sans serif' not found because none of the following families were found: Arial\n",
      "findfont: Generic family 'sans serif' not found because none of the following families were found: Arial\n",
      "findfont: Generic family 'sans serif' not found because none of the following families were found: Arial\n",
      "findfont: Generic family 'sans serif' not found because none of the following families were found: Arial\n",
      "findfont: Generic family 'sans serif' not found because none of the following families were found: Arial\n",
      "findfont: Generic family 'sans serif' not found because none of the following families were found: Arial\n",
      "findfont: Generic family 'sans serif' not found because none of the following families were found: Arial\n",
      "findfont: Generic family 'sans serif' not found because none of the following families were found: Arial\n",
      "findfont: Generic family 'sans serif' not found because none of the following families were found: Arial\n",
      "findfont: Generic family 'sans serif' not found because none of the following families were found: Arial\n",
      "findfont: Generic family 'sans serif' not found because none of the following families were found: Arial\n",
      "findfont: Generic family 'sans serif' not found because none of the following families were found: Arial\n",
      "findfont: Generic family 'sans serif' not found because none of the following families were found: Arial\n",
      "findfont: Generic family 'sans serif' not found because none of the following families were found: Arial\n",
      "findfont: Generic family 'sans serif' not found because none of the following families were found: Arial\n",
      "findfont: Generic family 'sans serif' not found because none of the following families were found: Arial\n",
      "findfont: Generic family 'sans serif' not found because none of the following families were found: Arial\n",
      "findfont: Generic family 'sans serif' not found because none of the following families were found: Arial\n",
      "findfont: Generic family 'sans serif' not found because none of the following families were found: Arial\n",
      "findfont: Generic family 'sans serif' not found because none of the following families were found: Arial\n",
      "findfont: Generic family 'sans serif' not found because none of the following families were found: Arial\n",
      "findfont: Generic family 'sans serif' not found because none of the following families were found: Arial\n",
      "findfont: Generic family 'sans serif' not found because none of the following families were found: Arial\n",
      "findfont: Generic family 'sans serif' not found because none of the following families were found: Arial\n",
      "findfont: Generic family 'sans serif' not found because none of the following families were found: Arial\n",
      "findfont: Generic family 'sans serif' not found because none of the following families were found: Arial\n",
      "findfont: Generic family 'sans serif' not found because none of the following families were found: Arial\n",
      "findfont: Generic family 'sans serif' not found because none of the following families were found: Arial\n",
      "findfont: Generic family 'sans serif' not found because none of the following families were found: Arial\n",
      "findfont: Generic family 'sans serif' not found because none of the following families were found: Arial\n",
      "findfont: Generic family 'sans serif' not found because none of the following families were found: Arial\n",
      "findfont: Generic family 'sans serif' not found because none of the following families were found: Arial\n",
      "findfont: Generic family 'sans serif' not found because none of the following families were found: Arial\n",
      "findfont: Generic family 'sans serif' not found because none of the following families were found: Arial\n",
      "findfont: Generic family 'sans serif' not found because none of the following families were found: Arial\n",
      "findfont: Generic family 'sans serif' not found because none of the following families were found: Arial\n",
      "findfont: Generic family 'sans serif' not found because none of the following families were found: Arial\n",
      "findfont: Generic family 'sans serif' not found because none of the following families were found: Arial\n",
      "findfont: Generic family 'sans serif' not found because none of the following families were found: Arial\n",
      "findfont: Generic family 'sans serif' not found because none of the following families were found: Arial\n",
      "findfont: Generic family 'sans serif' not found because none of the following families were found: Arial\n",
      "findfont: Generic family 'sans serif' not found because none of the following families were found: Arial\n",
      "findfont: Generic family 'sans serif' not found because none of the following families were found: Arial\n",
      "findfont: Generic family 'sans serif' not found because none of the following families were found: Arial\n",
      "findfont: Generic family 'sans serif' not found because none of the following families were found: Arial\n",
      "findfont: Generic family 'sans serif' not found because none of the following families were found: Arial\n",
      "findfont: Generic family 'sans serif' not found because none of the following families were found: Arial\n",
      "findfont: Generic family 'sans serif' not found because none of the following families were found: Arial\n",
      "findfont: Generic family 'sans serif' not found because none of the following families were found: Arial\n",
      "findfont: Generic family 'sans serif' not found because none of the following families were found: Arial\n",
      "findfont: Generic family 'sans serif' not found because none of the following families were found: Arial\n",
      "findfont: Generic family 'sans serif' not found because none of the following families were found: Arial\n",
      "findfont: Generic family 'sans serif' not found because none of the following families were found: Arial\n",
      "findfont: Generic family 'sans serif' not found because none of the following families were found: Arial\n",
      "findfont: Generic family 'sans serif' not found because none of the following families were found: Arial\n",
      "findfont: Generic family 'sans serif' not found because none of the following families were found: Arial\n",
      "findfont: Generic family 'sans serif' not found because none of the following families were found: Arial\n",
      "findfont: Generic family 'sans serif' not found because none of the following families were found: Arial\n",
      "findfont: Generic family 'sans serif' not found because none of the following families were found: Arial\n",
      "findfont: Generic family 'sans serif' not found because none of the following families were found: Arial\n",
      "findfont: Generic family 'sans serif' not found because none of the following families were found: Arial\n",
      "findfont: Generic family 'sans serif' not found because none of the following families were found: Arial\n",
      "findfont: Generic family 'sans serif' not found because none of the following families were found: Arial\n",
      "findfont: Generic family 'sans serif' not found because none of the following families were found: Arial\n"
     ]
    },
    {
     "name": "stdout",
     "output_type": "stream",
     "text": [
      "Starting plotting HeatmapAnnotations\n",
      "Collecting annotation legends..\n"
     ]
    },
    {
     "name": "stderr",
     "output_type": "stream",
     "text": [
      "findfont: Generic family 'sans serif' not found because none of the following families were found: Arial\n",
      "findfont: Generic family 'sans serif' not found because none of the following families were found: Arial\n",
      "findfont: Generic family 'sans serif' not found because none of the following families were found: Arial\n",
      "findfont: Generic family 'sans serif' not found because none of the following families were found: Arial\n",
      "findfont: Generic family 'sans serif' not found because none of the following families were found: Arial\n",
      "findfont: Generic family 'sans serif' not found because none of the following families were found: Arial\n",
      "findfont: Generic family 'sans serif' not found because none of the following families were found: Arial\n",
      "findfont: Generic family 'sans serif' not found because none of the following families were found: Arial\n",
      "findfont: Generic family 'sans serif' not found because none of the following families were found: Arial\n",
      "findfont: Generic family 'sans serif' not found because none of the following families were found: Arial\n",
      "findfont: Generic family 'sans serif' not found because none of the following families were found: Arial\n",
      "findfont: Generic family 'sans serif' not found because none of the following families were found: Arial\n",
      "findfont: Generic family 'sans serif' not found because none of the following families were found: Arial\n",
      "findfont: Generic family 'sans serif' not found because none of the following families were found: Arial\n",
      "findfont: Generic family 'sans serif' not found because none of the following families were found: Arial\n",
      "findfont: Generic family 'sans serif' not found because none of the following families were found: Arial\n",
      "findfont: Generic family 'sans serif' not found because none of the following families were found: Arial\n",
      "findfont: Generic family 'sans serif' not found because none of the following families were found: Arial\n",
      "findfont: Generic family 'sans serif' not found because none of the following families were found: Arial\n",
      "findfont: Generic family 'sans serif' not found because none of the following families were found: Arial\n",
      "findfont: Generic family 'sans serif' not found because none of the following families were found: Arial\n",
      "findfont: Generic family 'sans serif' not found because none of the following families were found: Arial\n",
      "findfont: Generic family 'sans serif' not found because none of the following families were found: Arial\n",
      "findfont: Generic family 'sans serif' not found because none of the following families were found: Arial\n",
      "findfont: Generic family 'sans serif' not found because none of the following families were found: Arial\n",
      "findfont: Generic family 'sans serif' not found because none of the following families were found: Arial\n",
      "findfont: Generic family 'sans serif' not found because none of the following families were found: Arial\n",
      "findfont: Generic family 'sans serif' not found because none of the following families were found: Arial\n",
      "findfont: Generic family 'sans serif' not found because none of the following families were found: Arial\n",
      "findfont: Generic family 'sans serif' not found because none of the following families were found: Arial\n",
      "findfont: Generic family 'sans serif' not found because none of the following families were found: Arial\n",
      "findfont: Generic family 'sans serif' not found because none of the following families were found: Arial\n",
      "findfont: Generic family 'sans serif' not found because none of the following families were found: Arial\n",
      "findfont: Generic family 'sans serif' not found because none of the following families were found: Arial\n",
      "findfont: Generic family 'sans serif' not found because none of the following families were found: Arial\n",
      "findfont: Generic family 'sans serif' not found because none of the following families were found: Arial\n",
      "findfont: Generic family 'sans serif' not found because none of the following families were found: Arial\n",
      "findfont: Generic family 'sans serif' not found because none of the following families were found: Arial\n",
      "findfont: Generic family 'sans serif' not found because none of the following families were found: Arial\n",
      "findfont: Generic family 'sans serif' not found because none of the following families were found: Arial\n",
      "findfont: Generic family 'sans serif' not found because none of the following families were found: Arial\n",
      "findfont: Generic family 'sans serif' not found because none of the following families were found: Arial\n",
      "findfont: Generic family 'sans serif' not found because none of the following families were found: Arial\n",
      "findfont: Generic family 'sans serif' not found because none of the following families were found: Arial\n",
      "findfont: Generic family 'sans serif' not found because none of the following families were found: Arial\n",
      "findfont: Generic family 'sans serif' not found because none of the following families were found: Arial\n",
      "findfont: Generic family 'sans serif' not found because none of the following families were found: Arial\n",
      "findfont: Generic family 'sans serif' not found because none of the following families were found: Arial\n",
      "findfont: Generic family 'sans serif' not found because none of the following families were found: Arial\n",
      "findfont: Generic family 'sans serif' not found because none of the following families were found: Arial\n",
      "findfont: Generic family 'sans serif' not found because none of the following families were found: Arial\n",
      "findfont: Generic family 'sans serif' not found because none of the following families were found: Arial\n",
      "findfont: Generic family 'sans serif' not found because none of the following families were found: Arial\n",
      "findfont: Generic family 'sans serif' not found because none of the following families were found: Arial\n",
      "findfont: Generic family 'sans serif' not found because none of the following families were found: Arial\n",
      "findfont: Generic family 'sans serif' not found because none of the following families were found: Arial\n",
      "findfont: Generic family 'sans serif' not found because none of the following families were found: Arial\n",
      "findfont: Generic family 'sans serif' not found because none of the following families were found: Arial\n",
      "findfont: Generic family 'sans serif' not found because none of the following families were found: Arial\n",
      "findfont: Generic family 'sans serif' not found because none of the following families were found: Arial\n",
      "findfont: Generic family 'sans serif' not found because none of the following families were found: Arial\n",
      "findfont: Generic family 'sans serif' not found because none of the following families were found: Arial\n",
      "findfont: Generic family 'sans serif' not found because none of the following families were found: Arial\n",
      "findfont: Generic family 'sans serif' not found because none of the following families were found: Arial\n",
      "findfont: Generic family 'sans serif' not found because none of the following families were found: Arial\n",
      "findfont: Generic family 'sans serif' not found because none of the following families were found: Arial\n",
      "findfont: Generic family 'sans serif' not found because none of the following families were found: Arial\n",
      "findfont: Generic family 'sans serif' not found because none of the following families were found: Arial\n",
      "findfont: Generic family 'sans serif' not found because none of the following families were found: Arial\n",
      "findfont: Generic family 'sans serif' not found because none of the following families were found: Arial\n",
      "findfont: Generic family 'sans serif' not found because none of the following families were found: Arial\n",
      "findfont: Generic family 'sans serif' not found because none of the following families were found: Arial\n",
      "findfont: Generic family 'sans serif' not found because none of the following families were found: Arial\n",
      "findfont: Generic family 'sans serif' not found because none of the following families were found: Arial\n",
      "findfont: Generic family 'sans serif' not found because none of the following families were found: Arial\n",
      "findfont: Generic family 'sans serif' not found because none of the following families were found: Arial\n",
      "findfont: Generic family 'sans serif' not found because none of the following families were found: Arial\n",
      "findfont: Generic family 'sans serif' not found because none of the following families were found: Arial\n",
      "findfont: Generic family 'sans serif' not found because none of the following families were found: Arial\n",
      "findfont: Generic family 'sans serif' not found because none of the following families were found: Arial\n",
      "findfont: Generic family 'sans serif' not found because none of the following families were found: Arial\n",
      "findfont: Generic family 'sans serif' not found because none of the following families were found: Arial\n",
      "findfont: Generic family 'sans serif' not found because none of the following families were found: Arial\n",
      "findfont: Generic family 'sans serif' not found because none of the following families were found: Arial\n",
      "findfont: Generic family 'sans serif' not found because none of the following families were found: Arial\n",
      "findfont: Generic family 'sans serif' not found because none of the following families were found: Arial\n",
      "findfont: Generic family 'sans serif' not found because none of the following families were found: Arial\n",
      "findfont: Generic family 'sans serif' not found because none of the following families were found: Arial\n",
      "findfont: Generic family 'sans serif' not found because none of the following families were found: Arial\n",
      "findfont: Generic family 'sans serif' not found because none of the following families were found: Arial\n",
      "findfont: Generic family 'sans serif' not found because none of the following families were found: Arial\n",
      "findfont: Generic family 'sans serif' not found because none of the following families were found: Arial\n",
      "findfont: Generic family 'sans serif' not found because none of the following families were found: Arial\n",
      "findfont: Generic family 'sans serif' not found because none of the following families were found: Arial\n",
      "findfont: Generic family 'sans serif' not found because none of the following families were found: Arial\n",
      "findfont: Generic family 'sans serif' not found because none of the following families were found: Arial\n",
      "findfont: Generic family 'sans serif' not found because none of the following families were found: Arial\n",
      "findfont: Generic family 'sans serif' not found because none of the following families were found: Arial\n",
      "findfont: Generic family 'sans serif' not found because none of the following families were found: Arial\n",
      "findfont: Generic family 'sans serif' not found because none of the following families were found: Arial\n",
      "findfont: Generic family 'sans serif' not found because none of the following families were found: Arial\n",
      "findfont: Generic family 'sans serif' not found because none of the following families were found: Arial\n",
      "findfont: Generic family 'sans serif' not found because none of the following families were found: Arial\n",
      "findfont: Generic family 'sans serif' not found because none of the following families were found: Arial\n",
      "findfont: Generic family 'sans serif' not found because none of the following families were found: Arial\n",
      "findfont: Generic family 'sans serif' not found because none of the following families were found: Arial\n",
      "findfont: Generic family 'sans serif' not found because none of the following families were found: Arial\n",
      "findfont: Generic family 'sans serif' not found because none of the following families were found: Arial\n",
      "findfont: Generic family 'sans serif' not found because none of the following families were found: Arial\n",
      "findfont: Generic family 'sans serif' not found because none of the following families were found: Arial\n",
      "findfont: Generic family 'sans serif' not found because none of the following families were found: Arial\n",
      "findfont: Generic family 'sans serif' not found because none of the following families were found: Arial\n",
      "findfont: Generic family 'sans serif' not found because none of the following families were found: Arial\n",
      "findfont: Generic family 'sans serif' not found because none of the following families were found: Arial\n",
      "findfont: Generic family 'sans serif' not found because none of the following families were found: Arial\n",
      "findfont: Generic family 'sans serif' not found because none of the following families were found: Arial\n",
      "findfont: Generic family 'sans serif' not found because none of the following families were found: Arial\n",
      "findfont: Generic family 'sans serif' not found because none of the following families were found: Arial\n",
      "findfont: Generic family 'sans serif' not found because none of the following families were found: Arial\n",
      "findfont: Generic family 'sans serif' not found because none of the following families were found: Arial\n",
      "findfont: Generic family 'sans serif' not found because none of the following families were found: Arial\n",
      "findfont: Generic family 'sans serif' not found because none of the following families were found: Arial\n",
      "findfont: Generic family 'sans serif' not found because none of the following families were found: Arial\n",
      "findfont: Generic family 'sans serif' not found because none of the following families were found: Arial\n",
      "findfont: Generic family 'sans serif' not found because none of the following families were found: Arial\n",
      "findfont: Generic family 'sans serif' not found because none of the following families were found: Arial\n",
      "findfont: Generic family 'sans serif' not found because none of the following families were found: Arial\n",
      "findfont: Generic family 'sans serif' not found because none of the following families were found: Arial\n",
      "findfont: Generic family 'sans serif' not found because none of the following families were found: Arial\n",
      "findfont: Generic family 'sans serif' not found because none of the following families were found: Arial\n",
      "findfont: Generic family 'sans serif' not found because none of the following families were found: Arial\n",
      "findfont: Generic family 'sans serif' not found because none of the following families were found: Arial\n",
      "findfont: Generic family 'sans serif' not found because none of the following families were found: Arial\n",
      "findfont: Generic family 'sans serif' not found because none of the following families were found: Arial\n",
      "findfont: Generic family 'sans serif' not found because none of the following families were found: Arial\n",
      "findfont: Generic family 'sans serif' not found because none of the following families were found: Arial\n",
      "findfont: Generic family 'sans serif' not found because none of the following families were found: Arial\n",
      "findfont: Generic family 'sans serif' not found because none of the following families were found: Arial\n",
      "findfont: Generic family 'sans serif' not found because none of the following families were found: Arial\n",
      "findfont: Generic family 'sans serif' not found because none of the following families were found: Arial\n",
      "findfont: Generic family 'sans serif' not found because none of the following families were found: Arial\n",
      "findfont: Generic family 'sans serif' not found because none of the following families were found: Arial\n",
      "findfont: Generic family 'sans serif' not found because none of the following families were found: Arial\n",
      "findfont: Generic family 'sans serif' not found because none of the following families were found: Arial\n",
      "findfont: Generic family 'sans serif' not found because none of the following families were found: Arial\n",
      "findfont: Generic family 'sans serif' not found because none of the following families were found: Arial\n",
      "findfont: Generic family 'sans serif' not found because none of the following families were found: Arial\n",
      "findfont: Generic family 'sans serif' not found because none of the following families were found: Arial\n",
      "findfont: Generic family 'sans serif' not found because none of the following families were found: Arial\n",
      "findfont: Generic family 'sans serif' not found because none of the following families were found: Arial\n",
      "findfont: Generic family 'sans serif' not found because none of the following families were found: Arial\n",
      "findfont: Generic family 'sans serif' not found because none of the following families were found: Arial\n",
      "findfont: Generic family 'sans serif' not found because none of the following families were found: Arial\n",
      "findfont: Generic family 'sans serif' not found because none of the following families were found: Arial\n",
      "findfont: Generic family 'sans serif' not found because none of the following families were found: Arial\n",
      "findfont: Generic family 'sans serif' not found because none of the following families were found: Arial\n",
      "findfont: Generic family 'sans serif' not found because none of the following families were found: Arial\n",
      "findfont: Generic family 'sans serif' not found because none of the following families were found: Arial\n",
      "findfont: Generic family 'sans serif' not found because none of the following families were found: Arial\n",
      "findfont: Generic family 'sans serif' not found because none of the following families were found: Arial\n",
      "findfont: Generic family 'sans serif' not found because none of the following families were found: Arial\n",
      "findfont: Generic family 'sans serif' not found because none of the following families were found: Arial\n",
      "findfont: Generic family 'sans serif' not found because none of the following families were found: Arial\n",
      "findfont: Generic family 'sans serif' not found because none of the following families were found: Arial\n",
      "findfont: Generic family 'sans serif' not found because none of the following families were found: Arial\n",
      "findfont: Generic family 'sans serif' not found because none of the following families were found: Arial\n",
      "findfont: Generic family 'sans serif' not found because none of the following families were found: Arial\n",
      "findfont: Generic family 'sans serif' not found because none of the following families were found: Arial\n",
      "findfont: Generic family 'sans serif' not found because none of the following families were found: Arial\n",
      "findfont: Generic family 'sans serif' not found because none of the following families were found: Arial\n",
      "findfont: Generic family 'sans serif' not found because none of the following families were found: Arial\n",
      "findfont: Generic family 'sans serif' not found because none of the following families were found: Arial\n",
      "findfont: Generic family 'sans serif' not found because none of the following families were found: Arial\n",
      "findfont: Generic family 'sans serif' not found because none of the following families were found: Arial\n",
      "findfont: Generic family 'sans serif' not found because none of the following families were found: Arial\n",
      "findfont: Generic family 'sans serif' not found because none of the following families were found: Arial\n",
      "findfont: Generic family 'sans serif' not found because none of the following families were found: Arial\n",
      "findfont: Generic family 'sans serif' not found because none of the following families were found: Arial\n",
      "findfont: Generic family 'sans serif' not found because none of the following families were found: Arial\n",
      "findfont: Generic family 'sans serif' not found because none of the following families were found: Arial\n",
      "findfont: Generic family 'sans serif' not found because none of the following families were found: Arial\n",
      "findfont: Generic family 'sans serif' not found because none of the following families were found: Arial\n",
      "findfont: Generic family 'sans serif' not found because none of the following families were found: Arial\n",
      "findfont: Generic family 'sans serif' not found because none of the following families were found: Arial\n",
      "findfont: Generic family 'sans serif' not found because none of the following families were found: Arial\n",
      "findfont: Generic family 'sans serif' not found because none of the following families were found: Arial\n",
      "findfont: Generic family 'sans serif' not found because none of the following families were found: Arial\n",
      "findfont: Generic family 'sans serif' not found because none of the following families were found: Arial\n",
      "findfont: Generic family 'sans serif' not found because none of the following families were found: Arial\n",
      "findfont: Generic family 'sans serif' not found because none of the following families were found: Arial\n",
      "findfont: Generic family 'sans serif' not found because none of the following families were found: Arial\n",
      "findfont: Generic family 'sans serif' not found because none of the following families were found: Arial\n"
     ]
    },
    {
     "data": {
      "image/png": "[encoded data removed]",
      "text/plain": [
       "<Figure size 1000x400 with 7 Axes>"
      ]
     },
     "metadata": {},
     "output_type": "display_data"
    }
   ],
   "source": [
    "plt.figure(figsize=(10, 4))\n",
    "col_ha = pch.HeatmapAnnotation(df=df,plot=True,legend=True,legend_gap=5,hgap=0.5,axis=1)\n",
    "plt.show()\n"
   ]
  },
  {
   "cell_type": "code",
   "execution_count": 4,
   "metadata": {},
   "outputs": [],
   "source": [
    "meta_atac = pd.read_csv('/data2st1/junyi/output/ATAC.3regions.MetaData.labelled.csv.gz', index_col=0)\n"
   ]
  },
  {
   "cell_type": "code",
   "execution_count": 5,
   "metadata": {},
   "outputs": [
    {
     "data": {
      "text/plain": [
       "Index(['sample', 'sample_barcode', 'obs_names', 'celltype.L2.p',\n",
       "       'celltype.L1.p', 'leiden_x', 'celltype.L1.GBoost', 'celltype.L1.tab',\n",
       "       'umap_0', 'umap_1', 'pseudo_group', 'n_cells', 'leiden_y', 'n_counts',\n",
       "       'leiden_snap', 'celltype.L1', 'umap_pse0', 'umap_pse1'],\n",
       "      dtype='object')"
      ]
     },
     "execution_count": 5,
     "metadata": {},
     "output_type": "execute_result"
    }
   ],
   "source": [
    "meta_atac.columns"
   ]
  },
  {
   "cell_type": "code",
   "execution_count": null,
   "metadata": {},
   "outputs": [],
   "source": [
    "meta_atac['Sample_name'] = meta_atac['sample']\n",
    "meta_atac.loc[meta_atac['Sample_name'] == 'WT_W26_0_2_Perfrontal','Sample_name'] = 'MW26A_PFC_p02'\n",
    "meta_atac.loc[meta_atac['Sample_name'] == 'CUMS_W25_0_1_Perfrontal','Sample_name'] = 'MC25A_PFC_p01'"
   ]
  },
  {
   "cell_type": "code",
   "execution_count": 7,
   "metadata": {},
   "outputs": [],
   "source": [
    "meta_atac['Condition'] = meta_atac['Sample_name'].str[:2]"
   ]
  },
  {
   "cell_type": "code",
   "execution_count": 8,
   "metadata": {},
   "outputs": [],
   "source": [
    "meta_atac['Region'] = meta_atac['Sample_name'].str.split('_').str[1]"
   ]
  },
  {
   "cell_type": "code",
   "execution_count": 9,
   "metadata": {},
   "outputs": [
    {
     "data": {
      "text/plain": [
       "0         MC\n",
       "1         MC\n",
       "2         MC\n",
       "3         MC\n",
       "4         MC\n",
       "          ..\n",
       "139369    MW\n",
       "139370    MW\n",
       "139371    MW\n",
       "139372    MW\n",
       "139373    MW\n",
       "Name: Condition, Length: 139374, dtype: object"
      ]
     },
     "execution_count": 9,
     "metadata": {},
     "output_type": "execute_result"
    }
   ],
   "source": [
    "meta_atac['Condition']"
   ]
  },
  {
   "cell_type": "code",
   "execution_count": 10,
   "metadata": {},
   "outputs": [
    {
     "name": "stdout",
     "output_type": "stream",
     "text": [
      "Starting plotting HeatmapAnnotations\n"
     ]
    },
    {
     "name": "stderr",
     "output_type": "stream",
     "text": [
      "findfont: Generic family 'sans serif' not found because none of the following families were found: Arial\n",
      "findfont: Generic family 'sans serif' not found because none of the following families were found: Arial\n",
      "findfont: Generic family 'sans serif' not found because none of the following families were found: Arial\n",
      "findfont: Generic family 'sans serif' not found because none of the following families were found: Arial\n",
      "findfont: Generic family 'sans serif' not found because none of the following families were found: Arial\n",
      "/tmp/ipykernel_3732813/1214558333.py:5: UserWarning: This figure includes Axes that are not compatible with tight_layout, so results might be incorrect.\n",
      "  plt.tight_layout()\n",
      "findfont: Generic family 'sans serif' not found because none of the following families were found: Arial\n",
      "findfont: Generic family 'sans serif' not found because none of the following families were found: Arial\n",
      "findfont: Generic family 'sans serif' not found because none of the following families were found: Arial\n"
     ]
    },
    {
     "name": "stdout",
     "output_type": "stream",
     "text": [
      "Collecting annotation legends..\n"
     ]
    },
    {
     "name": "stderr",
     "output_type": "stream",
     "text": [
      "findfont: Generic family 'sans serif' not found because none of the following families were found: Arial\n",
      "findfont: Generic family 'sans serif' not found because none of the following families were found: Arial\n",
      "findfont: Generic family 'sans serif' not found because none of the following families were found: Arial\n",
      "findfont: Generic family 'sans serif' not found because none of the following families were found: Arial\n",
      "findfont: Generic family 'sans serif' not found because none of the following families were found: Arial\n",
      "findfont: Generic family 'sans serif' not found because none of the following families were found: Arial\n"
     ]
    },
    {
     "data": {
      "image/png": "[encoded data removed]",
      "text/plain": [
       "<Figure size 3000x400 with 5 Axes>"
      ]
     },
     "metadata": {},
     "output_type": "display_data"
    }
   ],
   "source": [
    "plt.figure(figsize=(30, 4))\n",
    "col_ha = pch.HeatmapAnnotation(df=meta_atac.loc[:,['celltype.L1','Sample_name','Condition','Region']],\n",
    "                               cmap ={'celltype.L1':'Pastel1','Sample_name':'Accent','Condition':'Set2','Region':'Set1'},\n",
    "                               plot=True,legend=False,legend_gap=0,hgap=0.5,axis=1)\n",
    "plt.tight_layout()\n",
    "plt.show()\n"
   ]
  },
  {
   "cell_type": "code",
   "execution_count": 39,
   "metadata": {},
   "outputs": [
    {
     "data": {
      "text/plain": [
       "Index(['sample', 'sample_barcode', 'obs_names', 'celltype.L2.p',\n",
       "       'celltype.L1.p', 'leiden_x', 'celltype.L1.GBoost', 'celltype.L1.tab',\n",
       "       'umap_0', 'umap_1', 'pseudo_group', 'n_cells', 'leiden_y', 'n_counts',\n",
       "       'leiden_snap', 'celltype.L1', 'umap_pse0', 'umap_pse1', 'Sample_name',\n",
       "       'Condition', 'Region'],\n",
       "      dtype='object')"
      ]
     },
     "execution_count": 39,
     "metadata": {},
     "output_type": "execute_result"
    }
   ],
   "source": [
    "meta_atac.columns"
   ]
  },
  {
   "cell_type": "code",
   "execution_count": 37,
   "metadata": {},
   "outputs": [],
   "source": [
    "def plot_stack_prop(x=None, y='proportion', figsize=(10, 6), **kwargs):\n",
    "    counts = df.groupby([x, 'celltype.L1']).size().unstack(fill_value=0)\n",
    "\n",
    "    df_prop = counts.div(counts.sum(axis=1), axis=0) * 100\n",
    "    df_prop = df_prop.reset_index().melt(id_vars=x, var_name='celltype.L1', value_name=y)\n",
    "    fig, ax = plt.subplots(figsize=figsize)\n",
    "    sns.set(style=\"whitegrid\")\n",
    "    # Initialize bottom positions for stacking\n",
    "    bottom = pd.Series([0] * len(df_prop[x].unique()), index=df_prop[x].unique())\n",
    "    # Plot each celltype layer\n",
    "    for i, celltype in enumerate(df_prop['celltype.L1'].unique()):\n",
    "        subset = df_prop[df_prop['celltype.L1'] == celltype]\n",
    "        sns.barplot(\n",
    "            x=x, y=y, data=subset,\n",
    "            label=celltype, bottom=bottom[subset[x]],\n",
    "            color=sns.color_palette(\"Set2\")[i]\n",
    "        )\n",
    "        bottom += subset.set_index(x)[y].reindex(bottom.index, fill_value=0)\n",
    "    ax.set_title('Celltype Proportions per Sample')\n",
    "    ax.set_ylabel('Proportion (%)')\n",
    "    ax.set_xticklabels(ax.get_xticklabels(), rotation=90)\n",
    "    ax.legend(title='Celltype', bbox_to_anchor=(1.05, 1))\n",
    "    return fig,ax\n",
    "\n"
   ]
  },
  {
   "cell_type": "code",
   "execution_count": 41,
   "metadata": {},
   "outputs": [
    {
     "name": "stderr",
     "output_type": "stream",
     "text": [
      "/tmp/ipykernel_3732813/1157268815.py:21: UserWarning: set_ticklabels() should only be used with a fixed number of ticks, i.e. after set_ticks() or using a FixedLocator.\n",
      "  ax.set_xticklabels(ax.get_xticklabels(), rotation=90)\n"
     ]
    },
    {
     "data": {
      "text/plain": [
       "(<Figure size 1000x600 with 1 Axes>,\n",
       " <Axes: title={'center': 'Celltype Proportions per Sample'}, xlabel='sample', ylabel='Proportion (%)'>)"
      ]
     },
     "execution_count": 41,
     "metadata": {},
     "output_type": "execute_result"
    },
    {
     "data": {
      "image/png": "[encoded data removed]",
      "text/plain": [
       "<Figure size 1000x600 with 1 Axes>"
      ]
     },
     "metadata": {},
     "output_type": "display_data"
    }
   ],
   "source": [
    "plot_stack_prop(x='sample', y='proportion', figsize=(10, 6))"
   ]
  },
  {
   "cell_type": "code",
   "execution_count": 11,
   "metadata": {},
   "outputs": [
    {
     "name": "stderr",
     "output_type": "stream",
     "text": [
      "findfont: Generic family 'sans serif' not found because none of the following families were found: Arial\n",
      "findfont: Generic family 'sans serif' not found because none of the following families were found: Arial\n",
      "findfont: Generic family 'sans serif' not found because none of the following families were found: Arial\n",
      "findfont: Generic family 'sans serif' not found because none of the following families were found: Arial\n",
      "findfont: Generic family 'sans serif' not found because none of the following families were found: Arial\n",
      "findfont: Generic family 'sans serif' not found because none of the following families were found: Arial\n",
      "findfont: Generic family 'sans serif' not found because none of the following families were found: Arial\n",
      "findfont: Generic family 'sans serif' not found because none of the following families were found: Arial\n",
      "findfont: Generic family 'sans serif' not found because none of the following families were found: Arial\n",
      "findfont: Generic family 'sans serif' not found because none of the following families were found: Arial\n",
      "findfont: Generic family 'sans serif' not found because none of the following families were found: Arial\n",
      "findfont: Generic family 'sans serif' not found because none of the following families were found: Arial\n",
      "findfont: Generic family 'sans serif' not found because none of the following families were found: Arial\n",
      "findfont: Generic family 'sans serif' not found because none of the following families were found: Arial\n",
      "findfont: Generic family 'sans serif' not found because none of the following families were found: Arial\n",
      "findfont: Generic family 'sans serif' not found because none of the following families were found: Arial\n",
      "findfont: Generic family 'sans serif' not found because none of the following families were found: Arial\n",
      "findfont: Generic family 'sans serif' not found because none of the following families were found: Arial\n",
      "findfont: Generic family 'sans serif' not found because none of the following families were found: Arial\n",
      "findfont: Generic family 'sans serif' not found because none of the following families were found: Arial\n",
      "findfont: Generic family 'sans serif' not found because none of the following families were found: Arial\n",
      "findfont: Generic family 'sans serif' not found because none of the following families were found: Arial\n",
      "findfont: Generic family 'sans serif' not found because none of the following families were found: Arial\n",
      "findfont: Generic family 'sans serif' not found because none of the following families were found: Arial\n",
      "findfont: Generic family 'sans serif' not found because none of the following families were found: Arial\n",
      "findfont: Generic family 'sans serif' not found because none of the following families were found: Arial\n",
      "findfont: Generic family 'sans serif' not found because none of the following families were found: Arial\n",
      "findfont: Generic family 'sans serif' not found because none of the following families were found: Arial\n",
      "findfont: Generic family 'sans serif' not found because none of the following families were found: Arial\n",
      "findfont: Generic family 'sans serif' not found because none of the following families were found: Arial\n",
      "findfont: Generic family 'sans serif' not found because none of the following families were found: Arial\n",
      "findfont: Generic family 'sans serif' not found because none of the following families were found: Arial\n",
      "findfont: Generic family 'sans serif' not found because none of the following families were found: Arial\n",
      "findfont: Generic family 'sans serif' not found because none of the following families were found: Arial\n",
      "findfont: Generic family 'sans serif' not found because none of the following families were found: Arial\n",
      "findfont: Generic family 'sans serif' not found because none of the following families were found: Arial\n",
      "findfont: Generic family 'sans serif' not found because none of the following families were found: Arial\n",
      "findfont: Generic family 'sans serif' not found because none of the following families were found: Arial\n",
      "findfont: Generic family 'sans serif' not found because none of the following families were found: Arial\n",
      "findfont: Generic family 'sans serif' not found because none of the following families were found: Arial\n",
      "findfont: Generic family 'sans serif' not found because none of the following families were found: Arial\n",
      "findfont: Generic family 'sans serif' not found because none of the following families were found: Arial\n",
      "findfont: Generic family 'sans serif' not found because none of the following families were found: Arial\n",
      "findfont: Generic family 'sans serif' not found because none of the following families were found: Arial\n",
      "findfont: Generic family 'sans serif' not found because none of the following families were found: Arial\n",
      "findfont: Generic family 'sans serif' not found because none of the following families were found: Arial\n",
      "findfont: Generic family 'sans serif' not found because none of the following families were found: Arial\n",
      "findfont: Generic family 'sans serif' not found because none of the following families were found: Arial\n",
      "findfont: Generic family 'sans serif' not found because none of the following families were found: Arial\n",
      "findfont: Generic family 'sans serif' not found because none of the following families were found: Arial\n",
      "findfont: Generic family 'sans serif' not found because none of the following families were found: Arial\n",
      "findfont: Generic family 'sans serif' not found because none of the following families were found: Arial\n",
      "findfont: Generic family 'sans serif' not found because none of the following families were found: Arial\n",
      "findfont: Generic family 'sans serif' not found because none of the following families were found: Arial\n",
      "findfont: Generic family 'sans serif' not found because none of the following families were found: Arial\n",
      "findfont: Generic family 'sans serif' not found because none of the following families were found: Arial\n",
      "findfont: Generic family 'sans serif' not found because none of the following families were found: Arial\n",
      "findfont: Generic family 'sans serif' not found because none of the following families were found: Arial\n",
      "findfont: Generic family 'sans serif' not found because none of the following families were found: Arial\n",
      "findfont: Generic family 'sans serif' not found because none of the following families were found: Arial\n"
     ]
    },
    {
     "data": {
      "image/png": "[encoded data removed]",
      "text/plain": [
       "<Figure size 800x400 with 1 Axes>"
      ]
     },
     "metadata": {},
     "output_type": "display_data"
    }
   ],
   "source": [
    "import seaborn as sns\n",
    "from matplotlib import pyplot as plt\n",
    "import pandas as pd\n",
    "\n",
    "df = pd.DataFrame({'Group 1': [20, 35, 30], 'Group 2': [25, 32, 34]}, index=['A', 'B', 'C'])\n",
    "df_pct = df.div(df.sum(axis=1), axis=0) * 100  # 转换为百分比\n",
    "\n",
    "df_pct.plot.bar(stacked=True, figsize=(8, 4))\n",
    "plt.ylabel('Percentage (%)')\n",
    "plt.show()\n"
   ]
  },
  {
   "cell_type": "code",
   "execution_count": 20,
   "metadata": {},
   "outputs": [
    {
     "data": {
      "text/html": [
       "<div>\n",
       "<style scoped>\n",
       "    .dataframe tbody tr th:only-of-type {\n",
       "        vertical-align: middle;\n",
       "    }\n",
       "\n",
       "    .dataframe tbody tr th {\n",
       "        vertical-align: top;\n",
       "    }\n",
       "\n",
       "    .dataframe thead th {\n",
       "        text-align: right;\n",
       "    }\n",
       "</style>\n",
       "<table border=\"1\" class=\"dataframe\">\n",
       "  <thead>\n",
       "    <tr style=\"text-align: right;\">\n",
       "      <th></th>\n",
       "      <th>Group 1</th>\n",
       "      <th>Group 2</th>\n",
       "    </tr>\n",
       "  </thead>\n",
       "  <tbody>\n",
       "    <tr>\n",
       "      <th>A</th>\n",
       "      <td>44.444444</td>\n",
       "      <td>55.555556</td>\n",
       "    </tr>\n",
       "    <tr>\n",
       "      <th>B</th>\n",
       "      <td>52.238806</td>\n",
       "      <td>47.761194</td>\n",
       "    </tr>\n",
       "    <tr>\n",
       "      <th>C</th>\n",
       "      <td>46.875000</td>\n",
       "      <td>53.125000</td>\n",
       "    </tr>\n",
       "  </tbody>\n",
       "</table>\n",
       "</div>"
      ],
      "text/plain": [
       "     Group 1    Group 2\n",
       "A  44.444444  55.555556\n",
       "B  52.238806  47.761194\n",
       "C  46.875000  53.125000"
      ]
     },
     "execution_count": 20,
     "metadata": {},
     "output_type": "execute_result"
    }
   ],
   "source": [
    "df_pct"
   ]
  }
 ],
 "metadata": {
  "kernelspec": {
   "display_name": "snapatac2",
   "language": "python",
   "name": "python3"
  },
  "language_info": {
   "codemirror_mode": {
    "name": "ipython",
    "version": 3
   },
   "file_extension": ".py",
   "mimetype": "text/x-python",
   "name": "python",
   "nbconvert_exporter": "python",
   "pygments_lexer": "ipython3",
   "version": "3.10.0"
  }
 },
 "nbformat": 4,
 "nbformat_minor": 2
}
