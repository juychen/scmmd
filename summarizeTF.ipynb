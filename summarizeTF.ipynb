{
 "cells": [
  {
   "cell_type": "code",
   "execution_count": 1,
   "id": "eb658730",
   "metadata": {},
   "outputs": [
    {
     "name": "stderr",
     "output_type": "stream",
     "text": [
      "/tmp/ipykernel_3586865/2506564632.py:4: DeprecationWarning: The current Dask DataFrame implementation is deprecated. \n",
      "In a future release, Dask DataFrame will use a new implementation that\n",
      "contains several improvements including a logical query planning.\n",
      "The user-facing DataFrame API will remain unchanged.\n",
      "\n",
      "The new implementation is already available and can be enabled by\n",
      "installing the dask-expr library:\n",
      "\n",
      "    $ pip install dask-expr\n",
      "\n",
      "and turning the query planning option on:\n",
      "\n",
      "    >>> import dask\n",
      "    >>> dask.config.set({'dataframe.query-planning': True})\n",
      "    >>> import dask.dataframe as dd\n",
      "\n",
      "API documentation for the new implementation is available at\n",
      "https://docs.dask.org/en/stable/dask-expr-api.html\n",
      "\n",
      "Any feedback can be reported on the Dask issue tracker\n",
      "https://github.com/dask/dask/issues \n",
      "\n",
      "To disable this warning in the future, set dask config:\n",
      "\n",
      "    # via Python\n",
      "    >>> dask.config.set({'dataframe.query-planning-warning': False})\n",
      "\n",
      "    # via CLI\n",
      "    dask config set dataframe.query-planning-warning False\n",
      "\n",
      "\n",
      "  import dask.dataframe as dd\n"
     ]
    }
   ],
   "source": [
    "import pandas as pd\n",
    "import os\n",
    "import glob\n",
    "import dask.dataframe as dd\n",
    "from dask import delayed\n",
    "import numpy as np\n",
    "@delayed\n",
    "def process_file(file):\n",
    "    df = pd.read_csv(file, index_col=0)\n",
    "    df['TF'] = file.split('_')[-2]\n",
    "    df['gender'] = file.split('_')[-3]\n",
    "    df['term_idname'] = df['term_id'] + '_' + df['term_name']\n",
    "    return df"
   ]
  },
  {
   "cell_type": "code",
   "execution_count": 2,
   "id": "73f430fc",
   "metadata": {},
   "outputs": [],
   "source": [
    "df_moudule =  '/data2st1/junyi/output/atac0627/snregulation/genemodule_new.csv'\n",
    "outdir ='/data2st1/junyi/output/atac0627/snregulation/gostmodule_new'\n",
    "df_TFstata = '/data1st1/yejun/long_neglog10p_merge.csv'\n",
    "df_glob = glob.glob('/data2st1/junyi/output/atac0627/snregulation/gost/_GO*.csv')\n",
    "meta=pd.read_csv('/data2st1/junyi/data/L2_anno_meta_add_mementovsmast.csv')\n",
    "meta['celltype.L2'] = meta['L2'].str.replace(' ','_').str.replace('/','_')\n",
    "l2nntype = dict(zip( meta['celltype.L2'],meta['Neurotransmitter_celltype']))\n",
    "df_TF = pd.read_csv(df_moudule, index_col=0)"
   ]
  },
  {
   "cell_type": "code",
   "execution_count": null,
   "id": "344604db",
   "metadata": {},
   "outputs": [],
   "source": []
  },
  {
   "cell_type": "code",
   "execution_count": 3,
   "id": "4749ed82",
   "metadata": {},
   "outputs": [
    {
     "data": {
      "application/vnd.microsoft.datawrangler.viewer.v0+json": {
       "columns": [
        {
         "name": "TF",
         "rawType": "object",
         "type": "string"
        },
        {
         "name": "module",
         "rawType": "int64",
         "type": "integer"
        }
       ],
       "ref": "42d1a4ab-5234-41da-9e37-7ef384b7d73d",
       "rows": [
        [
         "Cux1",
         "1"
        ],
        [
         "Tef",
         "1"
        ],
        [
         "Srebf2",
         "1"
        ],
        [
         "Zeb1",
         "1"
        ],
        [
         "Foxp1",
         "1"
        ],
        [
         "Zmiz1",
         "1"
        ],
        [
         "Bclaf1",
         "1"
        ],
        [
         "Atf2",
         "1"
        ],
        [
         "Foxn3",
         "1"
        ],
        [
         "Tcf4",
         "1"
        ],
        [
         "Taf1",
         "1"
        ],
        [
         "Rfx3",
         "1"
        ],
        [
         "Clock",
         "1"
        ],
        [
         "Meis2",
         "1"
        ],
        [
         "Mef2a",
         "1"
        ],
        [
         "Rfx7",
         "1"
        ],
        [
         "Pbx1",
         "1"
        ],
        [
         "Bach2",
         "1"
        ],
        [
         "Nr2c2",
         "1"
        ],
        [
         "Zmat4",
         "1"
        ],
        [
         "Pou2f1",
         "1"
        ],
        [
         "Nr3c1",
         "1"
        ],
        [
         "Chd2",
         "1"
        ],
        [
         "Tcf12",
         "1"
        ],
        [
         "Ep300",
         "1"
        ],
        [
         "Irf2",
         "1"
        ],
        [
         "Kdm5a",
         "1"
        ],
        [
         "Smarca4",
         "1"
        ],
        [
         "Phf8",
         "1"
        ],
        [
         "Bcl11a",
         "2"
        ],
        [
         "Rora",
         "2"
        ],
        [
         "Pknox2",
         "2"
        ],
        [
         "Runx2",
         "2"
        ],
        [
         "Esrrg",
         "2"
        ],
        [
         "Rcor1",
         "2"
        ],
        [
         "Hlf",
         "2"
        ],
        [
         "Kdm5b",
         "2"
        ],
        [
         "Foxo3",
         "2"
        ],
        [
         "Foxo1",
         "2"
        ],
        [
         "Mxi1",
         "2"
        ],
        [
         "Nfe2l1",
         "3"
        ],
        [
         "Esrra",
         "3"
        ],
        [
         "Maz",
         "3"
        ],
        [
         "Jun",
         "3"
        ],
        [
         "Foxp2",
         "4"
        ],
        [
         "Tcf7l2",
         "4"
        ],
        [
         "Mef2c",
         "4"
        ],
        [
         "Polr3a",
         "4"
        ],
        [
         "Prdx5",
         "4"
        ],
        [
         "Sox10",
         "4"
        ]
       ],
       "shape": {
        "columns": 1,
        "rows": 79
       }
      },
      "text/html": [
       "<div>\n",
       "<style scoped>\n",
       "    .dataframe tbody tr th:only-of-type {\n",
       "        vertical-align: middle;\n",
       "    }\n",
       "\n",
       "    .dataframe tbody tr th {\n",
       "        vertical-align: top;\n",
       "    }\n",
       "\n",
       "    .dataframe thead th {\n",
       "        text-align: right;\n",
       "    }\n",
       "</style>\n",
       "<table border=\"1\" class=\"dataframe\">\n",
       "  <thead>\n",
       "    <tr style=\"text-align: right;\">\n",
       "      <th></th>\n",
       "      <th>module</th>\n",
       "    </tr>\n",
       "    <tr>\n",
       "      <th>TF</th>\n",
       "      <th></th>\n",
       "    </tr>\n",
       "  </thead>\n",
       "  <tbody>\n",
       "    <tr>\n",
       "      <th>Cux1</th>\n",
       "      <td>1</td>\n",
       "    </tr>\n",
       "    <tr>\n",
       "      <th>Tef</th>\n",
       "      <td>1</td>\n",
       "    </tr>\n",
       "    <tr>\n",
       "      <th>Srebf2</th>\n",
       "      <td>1</td>\n",
       "    </tr>\n",
       "    <tr>\n",
       "      <th>Zeb1</th>\n",
       "      <td>1</td>\n",
       "    </tr>\n",
       "    <tr>\n",
       "      <th>Foxp1</th>\n",
       "      <td>1</td>\n",
       "    </tr>\n",
       "    <tr>\n",
       "      <th>...</th>\n",
       "      <td>...</td>\n",
       "    </tr>\n",
       "    <tr>\n",
       "      <th>Supt20</th>\n",
       "      <td>6</td>\n",
       "    </tr>\n",
       "    <tr>\n",
       "      <th>Junb</th>\n",
       "      <td>7</td>\n",
       "    </tr>\n",
       "    <tr>\n",
       "      <th>Egr4</th>\n",
       "      <td>7</td>\n",
       "    </tr>\n",
       "    <tr>\n",
       "      <th>Egr1</th>\n",
       "      <td>7</td>\n",
       "    </tr>\n",
       "    <tr>\n",
       "      <th>Fos</th>\n",
       "      <td>7</td>\n",
       "    </tr>\n",
       "  </tbody>\n",
       "</table>\n",
       "<p>79 rows × 1 columns</p>\n",
       "</div>"
      ],
      "text/plain": [
       "        module\n",
       "TF            \n",
       "Cux1         1\n",
       "Tef          1\n",
       "Srebf2       1\n",
       "Zeb1         1\n",
       "Foxp1        1\n",
       "...        ...\n",
       "Supt20       6\n",
       "Junb         7\n",
       "Egr4         7\n",
       "Egr1         7\n",
       "Fos          7\n",
       "\n",
       "[79 rows x 1 columns]"
      ]
     },
     "execution_count": 3,
     "metadata": {},
     "output_type": "execute_result"
    }
   ],
   "source": [
    "df_TF"
   ]
  },
  {
   "cell_type": "code",
   "execution_count": 4,
   "id": "90bbff11",
   "metadata": {},
   "outputs": [],
   "source": [
    "df_TF_stata = pd.read_csv(df_TFstata, index_col=0)"
   ]
  },
  {
   "cell_type": "code",
   "execution_count": 5,
   "id": "dfcbfa06",
   "metadata": {},
   "outputs": [
    {
     "data": {
      "application/vnd.microsoft.datawrangler.viewer.v0+json": {
       "columns": [
        {
         "name": "index",
         "rawType": "int64",
         "type": "integer"
        },
        {
         "name": "TF",
         "rawType": "object",
         "type": "string"
        },
        {
         "name": "celltype",
         "rawType": "object",
         "type": "string"
        },
        {
         "name": "nlog10_p_val_adj",
         "rawType": "float64",
         "type": "float"
        }
       ],
       "ref": "11b73267-1896-436e-973f-1062dcfc83c8",
       "rows": [
        [
         "1",
         "1810024B03Rik",
         "AMY",
         "0.0229577322662638"
        ],
        [
         "2",
         "1810024B03Rik",
         "AMY_Ccdc3_Acvr1c_Glut_F",
         "0.0"
        ],
        [
         "3",
         "1810024B03Rik",
         "AMY_Ccdc3_Acvr1c_Glut_M",
         "0.0"
        ],
        [
         "4",
         "1810024B03Rik",
         "AMY_Cdh23_Hmcn1_Glut_F",
         "0.0"
        ],
        [
         "5",
         "1810024B03Rik",
         "AMY_Cdh23_Hmcn1_Glut_M",
         "0.0"
        ],
        [
         "6",
         "1810024B03Rik",
         "AMY_F",
         "-0.0214474935043113"
        ],
        [
         "7",
         "1810024B03Rik",
         "AMY_Foxp2_Penk_GABA_F",
         "0.0"
        ],
        [
         "8",
         "1810024B03Rik",
         "AMY_Foxp2_Penk_GABA_M",
         "0.0"
        ],
        [
         "9",
         "1810024B03Rik",
         "AMY_Hgf_Satb2_Glut_F",
         "0.0"
        ],
        [
         "10",
         "1810024B03Rik",
         "AMY_Hgf_Satb2_Glut_M",
         "0.0"
        ],
        [
         "11",
         "1810024B03Rik",
         "AMY_Igfn1_Scube1_Glut_F",
         "0.0"
        ],
        [
         "12",
         "1810024B03Rik",
         "AMY_Igfn1_Scube1_Glut_M",
         "0.0"
        ],
        [
         "13",
         "1810024B03Rik",
         "AMY_Lhx6_Gldn_GABA_F",
         "0.0"
        ],
        [
         "14",
         "1810024B03Rik",
         "AMY_Lhx6_Gldn_GABA_M",
         "0.0"
        ],
        [
         "15",
         "1810024B03Rik",
         "AMY_Lhx6_Hapln1_GABA_F",
         "0.0"
        ],
        [
         "16",
         "1810024B03Rik",
         "AMY_Lhx6_Hapln1_GABA_M",
         "0.0"
        ],
        [
         "17",
         "1810024B03Rik",
         "AMY_Lhx6_Maf_GABA_F",
         "0.0"
        ],
        [
         "18",
         "1810024B03Rik",
         "AMY_Lhx6_Maf_GABA_M",
         "0.0"
        ],
        [
         "19",
         "1810024B03Rik",
         "AMY_Lhx6_Ostm1_GABA_F",
         "0.0"
        ],
        [
         "20",
         "1810024B03Rik",
         "AMY_Lhx6_Ostm1_GABA_M",
         "0.0"
        ],
        [
         "21",
         "1810024B03Rik",
         "AMY_Lhx8_Pde3a_GABA_F",
         "0.0"
        ],
        [
         "22",
         "1810024B03Rik",
         "AMY_Lhx8_Pde3a_GABA_M",
         "0.0"
        ],
        [
         "23",
         "1810024B03Rik",
         "AMY_M",
         "0.0502811936061191"
        ],
        [
         "24",
         "1810024B03Rik",
         "AMY_Maf_Pthlh_GABA_F",
         "0.0"
        ],
        [
         "25",
         "1810024B03Rik",
         "AMY_Maf_Pthlh_GABA_M",
         "0.0"
        ],
        [
         "26",
         "1810024B03Rik",
         "AMY_Meis1_Ebf1_Glut_F",
         "0.0"
        ],
        [
         "27",
         "1810024B03Rik",
         "AMY_Meis1_Ebf1_Glut_M",
         "0.0"
        ],
        [
         "28",
         "1810024B03Rik",
         "AMY_Meis1_Gpr149_Glut_F",
         "0.0"
        ],
        [
         "29",
         "1810024B03Rik",
         "AMY_Meis1_Gpr149_Glut_M",
         "0.0"
        ],
        [
         "30",
         "1810024B03Rik",
         "AMY_Ndnf_Lamp5_GABA_F",
         "0.0"
        ],
        [
         "31",
         "1810024B03Rik",
         "AMY_Ndnf_Lamp5_GABA_M",
         "0.0"
        ],
        [
         "32",
         "1810024B03Rik",
         "AMY_Rai14_Six3_GABA_F",
         "0.0"
        ],
        [
         "33",
         "1810024B03Rik",
         "AMY_Rai14_Six3_GABA_M",
         "0.0"
        ],
        [
         "34",
         "1810024B03Rik",
         "AMY_Rspo2_Tfap2d_Glut_F",
         "0.0"
        ],
        [
         "35",
         "1810024B03Rik",
         "AMY_Rspo2_Tfap2d_Glut_M",
         "0.0"
        ],
        [
         "36",
         "1810024B03Rik",
         "AMY_Sim1_Cav1_Glut_F",
         "0.0"
        ],
        [
         "37",
         "1810024B03Rik",
         "AMY_Sim1_Cav1_Glut_M",
         "0.0"
        ],
        [
         "38",
         "1810024B03Rik",
         "AMY_Sox6_Ephb1_GABA_F",
         "0.0"
        ],
        [
         "39",
         "1810024B03Rik",
         "AMY_Sox6_Ephb1_GABA_M",
         "0.0"
        ],
        [
         "40",
         "1810024B03Rik",
         "AMY_Strip2_Penk_GABA_F",
         "0.0"
        ],
        [
         "41",
         "1810024B03Rik",
         "AMY_Strip2_Penk_GABA_M",
         "0.0"
        ],
        [
         "42",
         "1810024B03Rik",
         "AMY_Tcf7l2_Cachd1_Glut_F",
         "0.0"
        ],
        [
         "43",
         "1810024B03Rik",
         "AMY_Tcf7l2_Cachd1_Glut_M",
         "0.0"
        ],
        [
         "44",
         "1810024B03Rik",
         "AMY_Trabd2b_Coch_Glut_F",
         "0.0"
        ],
        [
         "45",
         "1810024B03Rik",
         "AMY_Trabd2b_Coch_Glut_M",
         "0.0"
        ],
        [
         "46",
         "1810024B03Rik",
         "AMY_Trh_Met_Glut_F",
         "0.0"
        ],
        [
         "47",
         "1810024B03Rik",
         "AMY_Trh_Met_Glut_M",
         "0.0"
        ],
        [
         "48",
         "1810024B03Rik",
         "AMY_Vgll3_Pde11a_Glut_F",
         "0.0"
        ],
        [
         "49",
         "1810024B03Rik",
         "AMY_Vgll3_Pde11a_Glut_M",
         "0.0"
        ],
        [
         "50",
         "1810024B03Rik",
         "AMY_Vip_Htr3a_GABA_F",
         "0.0"
        ]
       ],
       "shape": {
        "columns": 3,
        "rows": 703660
       }
      },
      "text/html": [
       "<div>\n",
       "<style scoped>\n",
       "    .dataframe tbody tr th:only-of-type {\n",
       "        vertical-align: middle;\n",
       "    }\n",
       "\n",
       "    .dataframe tbody tr th {\n",
       "        vertical-align: top;\n",
       "    }\n",
       "\n",
       "    .dataframe thead th {\n",
       "        text-align: right;\n",
       "    }\n",
       "</style>\n",
       "<table border=\"1\" class=\"dataframe\">\n",
       "  <thead>\n",
       "    <tr style=\"text-align: right;\">\n",
       "      <th></th>\n",
       "      <th>TF</th>\n",
       "      <th>celltype</th>\n",
       "      <th>nlog10_p_val_adj</th>\n",
       "    </tr>\n",
       "  </thead>\n",
       "  <tbody>\n",
       "    <tr>\n",
       "      <th>1</th>\n",
       "      <td>1810024B03Rik</td>\n",
       "      <td>AMY</td>\n",
       "      <td>0.022958</td>\n",
       "    </tr>\n",
       "    <tr>\n",
       "      <th>2</th>\n",
       "      <td>1810024B03Rik</td>\n",
       "      <td>AMY_Ccdc3_Acvr1c_Glut_F</td>\n",
       "      <td>0.000000</td>\n",
       "    </tr>\n",
       "    <tr>\n",
       "      <th>3</th>\n",
       "      <td>1810024B03Rik</td>\n",
       "      <td>AMY_Ccdc3_Acvr1c_Glut_M</td>\n",
       "      <td>0.000000</td>\n",
       "    </tr>\n",
       "    <tr>\n",
       "      <th>4</th>\n",
       "      <td>1810024B03Rik</td>\n",
       "      <td>AMY_Cdh23_Hmcn1_Glut_F</td>\n",
       "      <td>0.000000</td>\n",
       "    </tr>\n",
       "    <tr>\n",
       "      <th>5</th>\n",
       "      <td>1810024B03Rik</td>\n",
       "      <td>AMY_Cdh23_Hmcn1_Glut_M</td>\n",
       "      <td>0.000000</td>\n",
       "    </tr>\n",
       "    <tr>\n",
       "      <th>...</th>\n",
       "      <td>...</td>\n",
       "      <td>...</td>\n",
       "      <td>...</td>\n",
       "    </tr>\n",
       "    <tr>\n",
       "      <th>703656</th>\n",
       "      <td>Zxdc</td>\n",
       "      <td>VLMC-2_M</td>\n",
       "      <td>0.000000</td>\n",
       "    </tr>\n",
       "    <tr>\n",
       "      <th>703657</th>\n",
       "      <td>Zxdc</td>\n",
       "      <td>VLMC-3_F</td>\n",
       "      <td>0.000000</td>\n",
       "    </tr>\n",
       "    <tr>\n",
       "      <th>703658</th>\n",
       "      <td>Zxdc</td>\n",
       "      <td>VLMC-3_M</td>\n",
       "      <td>-1.414311</td>\n",
       "    </tr>\n",
       "    <tr>\n",
       "      <th>703659</th>\n",
       "      <td>Zxdc</td>\n",
       "      <td>VSMC_F</td>\n",
       "      <td>-0.079969</td>\n",
       "    </tr>\n",
       "    <tr>\n",
       "      <th>703660</th>\n",
       "      <td>Zxdc</td>\n",
       "      <td>VSMC_M</td>\n",
       "      <td>0.000000</td>\n",
       "    </tr>\n",
       "  </tbody>\n",
       "</table>\n",
       "<p>703660 rows × 3 columns</p>\n",
       "</div>"
      ],
      "text/plain": [
       "                   TF                 celltype  nlog10_p_val_adj\n",
       "1       1810024B03Rik                      AMY          0.022958\n",
       "2       1810024B03Rik  AMY_Ccdc3_Acvr1c_Glut_F          0.000000\n",
       "3       1810024B03Rik  AMY_Ccdc3_Acvr1c_Glut_M          0.000000\n",
       "4       1810024B03Rik   AMY_Cdh23_Hmcn1_Glut_F          0.000000\n",
       "5       1810024B03Rik   AMY_Cdh23_Hmcn1_Glut_M          0.000000\n",
       "...               ...                      ...               ...\n",
       "703656           Zxdc                 VLMC-2_M          0.000000\n",
       "703657           Zxdc                 VLMC-3_F          0.000000\n",
       "703658           Zxdc                 VLMC-3_M         -1.414311\n",
       "703659           Zxdc                   VSMC_F         -0.079969\n",
       "703660           Zxdc                   VSMC_M          0.000000\n",
       "\n",
       "[703660 rows x 3 columns]"
      ]
     },
     "execution_count": 5,
     "metadata": {},
     "output_type": "execute_result"
    }
   ],
   "source": [
    "df_TF_stata"
   ]
  },
  {
   "cell_type": "code",
   "execution_count": 6,
   "id": "a4c86d01",
   "metadata": {},
   "outputs": [
    {
     "name": "stderr",
     "output_type": "stream",
     "text": [
      "/tmp/ipykernel_3586865/3103431475.py:4: SettingWithCopyWarning: \n",
      "A value is trying to be set on a copy of a slice from a DataFrame.\n",
      "Try using .loc[row_indexer,col_indexer] = value instead\n",
      "\n",
      "See the caveats in the documentation: https://pandas.pydata.org/pandas-docs/stable/user_guide/indexing.html#returning-a-view-versus-a-copy\n",
      "  df_TF_stata['status'] = np.sign(df_TF_stata['nlog10_p_val_adj'])\n"
     ]
    }
   ],
   "source": [
    "# only select row in df_TF\n",
    "df_TF_stata = df_TF_stata[df_TF_stata['TF'].isin(df_TF.index)]\n",
    "#df_TF_stata['status'] = df_TF_stata['nlog10_p_val_adj'].sign() ,status is the 1 of the nlog10_p_val_adj > 0.05, -1 of the nlog10_p_val_adj < 0.05\n",
    "df_TF_stata['status'] = np.sign(df_TF_stata['nlog10_p_val_adj'])\n",
    "df_TF_stata = df_TF_stata.merge(df_TF, on='TF', how='left')\n",
    "df_modulestat = df_TF_stata.groupby(['module','celltype']).aggregate({'nlog10_p_val_adj': 'mean', 'status': 'sum'}).reset_index()\n",
    "df_modulestat['regulation'] = 0\n",
    "df_modulestat.loc[df_modulestat['status'] > 0, 'regulation'] = 1\n",
    "df_modulestat.loc[df_modulestat['status'] < 0, 'regulation'] = -1"
   ]
  },
  {
   "cell_type": "code",
   "execution_count": 9,
   "id": "fe18cc11",
   "metadata": {},
   "outputs": [
    {
     "data": {
      "application/vnd.microsoft.datawrangler.viewer.v0+json": {
       "columns": [
        {
         "name": "index",
         "rawType": "int64",
         "type": "integer"
        },
        {
         "name": "module",
         "rawType": "int64",
         "type": "integer"
        },
        {
         "name": "celltype",
         "rawType": "object",
         "type": "string"
        },
        {
         "name": "nlog10_p_val_adj",
         "rawType": "float64",
         "type": "float"
        },
        {
         "name": "status",
         "rawType": "float64",
         "type": "float"
        },
        {
         "name": "regulation",
         "rawType": "int64",
         "type": "integer"
        }
       ],
       "ref": "7fa24c5c-52fa-439f-92e5-75fc8c9b4deb",
       "rows": [
        [
         "0",
         "1",
         "AMY",
         "19.470657125760532",
         "21.0",
         "1"
        ],
        [
         "1",
         "1",
         "AMY_Ccdc3_Acvr1c_Glut_F",
         "0.8575186903059359",
         "9.0",
         "1"
        ],
        [
         "2",
         "1",
         "AMY_Ccdc3_Acvr1c_Glut_M",
         "-0.21865923718686658",
         "-3.0",
         "-1"
        ],
        [
         "3",
         "1",
         "AMY_Cdh23_Hmcn1_Glut_F",
         "0.6448612666031226",
         "10.0",
         "1"
        ],
        [
         "4",
         "1",
         "AMY_Cdh23_Hmcn1_Glut_M",
         "0.8813571543746943",
         "13.0",
         "1"
        ],
        [
         "5",
         "1",
         "AMY_F",
         "20.25764889610654",
         "9.0",
         "1"
        ],
        [
         "6",
         "1",
         "AMY_Foxp2_Penk_GABA_F",
         "2.613225510366722",
         "10.0",
         "1"
        ],
        [
         "7",
         "1",
         "AMY_Foxp2_Penk_GABA_M",
         "1.3651204759679945",
         "7.0",
         "1"
        ],
        [
         "8",
         "1",
         "AMY_Hgf_Satb2_Glut_F",
         "1.9139651269209632",
         "8.0",
         "1"
        ],
        [
         "9",
         "1",
         "AMY_Hgf_Satb2_Glut_M",
         "2.1777598969325433",
         "9.0",
         "1"
        ],
        [
         "10",
         "1",
         "AMY_Igfn1_Scube1_Glut_F",
         "-0.8965848852822645",
         "-14.0",
         "-1"
        ],
        [
         "11",
         "1",
         "AMY_Igfn1_Scube1_Glut_M",
         "4.366849791631619",
         "14.0",
         "1"
        ],
        [
         "12",
         "1",
         "AMY_Lhx6_Gldn_GABA_F",
         "8.049220028756851",
         "12.0",
         "1"
        ],
        [
         "13",
         "1",
         "AMY_Lhx6_Gldn_GABA_M",
         "0.09406982698982992",
         "1.0",
         "1"
        ],
        [
         "14",
         "1",
         "AMY_Lhx6_Hapln1_GABA_F",
         "0.4704385638385677",
         "7.0",
         "1"
        ],
        [
         "15",
         "1",
         "AMY_Lhx6_Hapln1_GABA_M",
         "0.24409996804738418",
         "1.0",
         "1"
        ],
        [
         "16",
         "1",
         "AMY_Lhx6_Maf_GABA_F",
         "5.171288394421783",
         "8.0",
         "1"
        ],
        [
         "17",
         "1",
         "AMY_Lhx6_Maf_GABA_M",
         "1.1201738800813679",
         "3.0",
         "1"
        ],
        [
         "18",
         "1",
         "AMY_Lhx6_Ostm1_GABA_F",
         "3.9988005535183837",
         "8.0",
         "1"
        ],
        [
         "19",
         "1",
         "AMY_Lhx6_Ostm1_GABA_M",
         "1.9606320298851756",
         "7.0",
         "1"
        ],
        [
         "20",
         "1",
         "AMY_Lhx8_Pde3a_GABA_F",
         "0.3270549413360114",
         "2.0",
         "1"
        ],
        [
         "21",
         "1",
         "AMY_Lhx8_Pde3a_GABA_M",
         "1.52974292646377",
         "3.0",
         "1"
        ],
        [
         "22",
         "1",
         "AMY_M",
         "21.518323456311037",
         "21.0",
         "1"
        ],
        [
         "23",
         "1",
         "AMY_Maf_Pthlh_GABA_F",
         "0.6960367986224095",
         "6.0",
         "1"
        ],
        [
         "24",
         "1",
         "AMY_Maf_Pthlh_GABA_M",
         "0.535310758328817",
         "9.0",
         "1"
        ],
        [
         "25",
         "1",
         "AMY_Meis1_Ebf1_Glut_F",
         "12.250046966078571",
         "10.0",
         "1"
        ],
        [
         "26",
         "1",
         "AMY_Meis1_Ebf1_Glut_M",
         "5.267566052732908",
         "14.0",
         "1"
        ],
        [
         "27",
         "1",
         "AMY_Meis1_Gpr149_Glut_F",
         "3.0606450130419",
         "16.0",
         "1"
        ],
        [
         "28",
         "1",
         "AMY_Meis1_Gpr149_Glut_M",
         "2.7238705868147317",
         "7.0",
         "1"
        ],
        [
         "29",
         "1",
         "AMY_Ndnf_Lamp5_GABA_F",
         "1.7159736440947642",
         "12.0",
         "1"
        ],
        [
         "30",
         "1",
         "AMY_Ndnf_Lamp5_GABA_M",
         "0.5940048388946004",
         "8.0",
         "1"
        ],
        [
         "31",
         "1",
         "AMY_Rai14_Six3_GABA_F",
         "3.2426674393637476",
         "11.0",
         "1"
        ],
        [
         "32",
         "1",
         "AMY_Rai14_Six3_GABA_M",
         "0.6511505757612233",
         "3.0",
         "1"
        ],
        [
         "33",
         "1",
         "AMY_Rspo2_Tfap2d_Glut_F",
         "1.1330912378791762",
         "3.0",
         "1"
        ],
        [
         "34",
         "1",
         "AMY_Rspo2_Tfap2d_Glut_M",
         "2.48888104840909",
         "2.0",
         "1"
        ],
        [
         "35",
         "1",
         "AMY_Sim1_Cav1_Glut_F",
         "1.2218879323157572",
         "13.0",
         "1"
        ],
        [
         "36",
         "1",
         "AMY_Sim1_Cav1_Glut_M",
         "1.3133727125295698",
         "4.0",
         "1"
        ],
        [
         "37",
         "1",
         "AMY_Sox6_Ephb1_GABA_F",
         "12.897172099956762",
         "12.0",
         "1"
        ],
        [
         "38",
         "1",
         "AMY_Sox6_Ephb1_GABA_M",
         "3.089219413216371",
         "8.0",
         "1"
        ],
        [
         "39",
         "1",
         "AMY_Strip2_Penk_GABA_F",
         "3.7652909484617187",
         "10.0",
         "1"
        ],
        [
         "40",
         "1",
         "AMY_Strip2_Penk_GABA_M",
         "2.1987376260755704",
         "1.0",
         "1"
        ],
        [
         "41",
         "1",
         "AMY_Tcf7l2_Cachd1_Glut_F",
         "0.5642661971362143",
         "4.0",
         "1"
        ],
        [
         "42",
         "1",
         "AMY_Tcf7l2_Cachd1_Glut_M",
         "0.9287141032129141",
         "4.0",
         "1"
        ],
        [
         "43",
         "1",
         "AMY_Trabd2b_Coch_Glut_F",
         "1.0200309545923052",
         "5.0",
         "1"
        ],
        [
         "44",
         "1",
         "AMY_Trabd2b_Coch_Glut_M",
         "7.432169682984711",
         "17.0",
         "1"
        ],
        [
         "45",
         "1",
         "AMY_Trh_Met_Glut_F",
         "2.906563979684133",
         "8.0",
         "1"
        ],
        [
         "46",
         "1",
         "AMY_Trh_Met_Glut_M",
         "1.3568957284401484",
         "6.0",
         "1"
        ],
        [
         "47",
         "1",
         "AMY_Vgll3_Pde11a_Glut_F",
         "2.3812566006235643",
         "8.0",
         "1"
        ],
        [
         "48",
         "1",
         "AMY_Vgll3_Pde11a_Glut_M",
         "1.4498913873747414",
         "1.0",
         "1"
        ],
        [
         "49",
         "1",
         "AMY_Vip_Htr3a_GABA_F",
         "2.0922928815487922",
         "8.0",
         "1"
        ]
       ],
       "shape": {
        "columns": 5,
        "rows": 3262
       }
      },
      "text/html": [
       "<div>\n",
       "<style scoped>\n",
       "    .dataframe tbody tr th:only-of-type {\n",
       "        vertical-align: middle;\n",
       "    }\n",
       "\n",
       "    .dataframe tbody tr th {\n",
       "        vertical-align: top;\n",
       "    }\n",
       "\n",
       "    .dataframe thead th {\n",
       "        text-align: right;\n",
       "    }\n",
       "</style>\n",
       "<table border=\"1\" class=\"dataframe\">\n",
       "  <thead>\n",
       "    <tr style=\"text-align: right;\">\n",
       "      <th></th>\n",
       "      <th>module</th>\n",
       "      <th>celltype</th>\n",
       "      <th>nlog10_p_val_adj</th>\n",
       "      <th>status</th>\n",
       "      <th>regulation</th>\n",
       "    </tr>\n",
       "  </thead>\n",
       "  <tbody>\n",
       "    <tr>\n",
       "      <th>0</th>\n",
       "      <td>1</td>\n",
       "      <td>AMY</td>\n",
       "      <td>19.470657</td>\n",
       "      <td>21.0</td>\n",
       "      <td>1</td>\n",
       "    </tr>\n",
       "    <tr>\n",
       "      <th>1</th>\n",
       "      <td>1</td>\n",
       "      <td>AMY_Ccdc3_Acvr1c_Glut_F</td>\n",
       "      <td>0.857519</td>\n",
       "      <td>9.0</td>\n",
       "      <td>1</td>\n",
       "    </tr>\n",
       "    <tr>\n",
       "      <th>2</th>\n",
       "      <td>1</td>\n",
       "      <td>AMY_Ccdc3_Acvr1c_Glut_M</td>\n",
       "      <td>-0.218659</td>\n",
       "      <td>-3.0</td>\n",
       "      <td>-1</td>\n",
       "    </tr>\n",
       "    <tr>\n",
       "      <th>3</th>\n",
       "      <td>1</td>\n",
       "      <td>AMY_Cdh23_Hmcn1_Glut_F</td>\n",
       "      <td>0.644861</td>\n",
       "      <td>10.0</td>\n",
       "      <td>1</td>\n",
       "    </tr>\n",
       "    <tr>\n",
       "      <th>4</th>\n",
       "      <td>1</td>\n",
       "      <td>AMY_Cdh23_Hmcn1_Glut_M</td>\n",
       "      <td>0.881357</td>\n",
       "      <td>13.0</td>\n",
       "      <td>1</td>\n",
       "    </tr>\n",
       "    <tr>\n",
       "      <th>...</th>\n",
       "      <td>...</td>\n",
       "      <td>...</td>\n",
       "      <td>...</td>\n",
       "      <td>...</td>\n",
       "      <td>...</td>\n",
       "    </tr>\n",
       "    <tr>\n",
       "      <th>3257</th>\n",
       "      <td>7</td>\n",
       "      <td>VLMC-2_M</td>\n",
       "      <td>2.227248</td>\n",
       "      <td>4.0</td>\n",
       "      <td>1</td>\n",
       "    </tr>\n",
       "    <tr>\n",
       "      <th>3258</th>\n",
       "      <td>7</td>\n",
       "      <td>VLMC-3_F</td>\n",
       "      <td>-0.120550</td>\n",
       "      <td>-2.0</td>\n",
       "      <td>-1</td>\n",
       "    </tr>\n",
       "    <tr>\n",
       "      <th>3259</th>\n",
       "      <td>7</td>\n",
       "      <td>VLMC-3_M</td>\n",
       "      <td>1.185547</td>\n",
       "      <td>3.0</td>\n",
       "      <td>1</td>\n",
       "    </tr>\n",
       "    <tr>\n",
       "      <th>3260</th>\n",
       "      <td>7</td>\n",
       "      <td>VSMC_F</td>\n",
       "      <td>-2.191761</td>\n",
       "      <td>-4.0</td>\n",
       "      <td>-1</td>\n",
       "    </tr>\n",
       "    <tr>\n",
       "      <th>3261</th>\n",
       "      <td>7</td>\n",
       "      <td>VSMC_M</td>\n",
       "      <td>-0.119926</td>\n",
       "      <td>-2.0</td>\n",
       "      <td>-1</td>\n",
       "    </tr>\n",
       "  </tbody>\n",
       "</table>\n",
       "<p>3262 rows × 5 columns</p>\n",
       "</div>"
      ],
      "text/plain": [
       "      module                 celltype  nlog10_p_val_adj  status  regulation\n",
       "0          1                      AMY         19.470657    21.0           1\n",
       "1          1  AMY_Ccdc3_Acvr1c_Glut_F          0.857519     9.0           1\n",
       "2          1  AMY_Ccdc3_Acvr1c_Glut_M         -0.218659    -3.0          -1\n",
       "3          1   AMY_Cdh23_Hmcn1_Glut_F          0.644861    10.0           1\n",
       "4          1   AMY_Cdh23_Hmcn1_Glut_M          0.881357    13.0           1\n",
       "...      ...                      ...               ...     ...         ...\n",
       "3257       7                 VLMC-2_M          2.227248     4.0           1\n",
       "3258       7                 VLMC-3_F         -0.120550    -2.0          -1\n",
       "3259       7                 VLMC-3_M          1.185547     3.0           1\n",
       "3260       7                   VSMC_F         -2.191761    -4.0          -1\n",
       "3261       7                   VSMC_M         -0.119926    -2.0          -1\n",
       "\n",
       "[3262 rows x 5 columns]"
      ]
     },
     "execution_count": 9,
     "metadata": {},
     "output_type": "execute_result"
    }
   ],
   "source": [
    "df_modulestat"
   ]
  },
  {
   "cell_type": "code",
   "execution_count": 11,
   "id": "c9536eb4",
   "metadata": {},
   "outputs": [
    {
     "data": {
      "application/vnd.microsoft.datawrangler.viewer.v0+json": {
       "columns": [
        {
         "name": "index",
         "rawType": "int64",
         "type": "integer"
        },
        {
         "name": "module",
         "rawType": "int64",
         "type": "integer"
        },
        {
         "name": "celltype",
         "rawType": "object",
         "type": "string"
        },
        {
         "name": "nlog10_p_val_adj",
         "rawType": "float64",
         "type": "float"
        },
        {
         "name": "status",
         "rawType": "float64",
         "type": "float"
        },
        {
         "name": "regulation",
         "rawType": "int64",
         "type": "integer"
        }
       ],
       "ref": "6e1fa2cc-004f-4476-a8fb-17f79887c10c",
       "rows": [
        [
         "0",
         "1",
         "AMY",
         "19.470657125760532",
         "21.0",
         "1"
        ],
        [
         "1",
         "1",
         "AMY_Ccdc3_Acvr1c_Glut_F",
         "0.8575186903059359",
         "9.0",
         "1"
        ],
        [
         "2",
         "1",
         "AMY_Ccdc3_Acvr1c_Glut_M",
         "-0.21865923718686658",
         "-3.0",
         "-1"
        ],
        [
         "3",
         "1",
         "AMY_Cdh23_Hmcn1_Glut_F",
         "0.6448612666031226",
         "10.0",
         "1"
        ],
        [
         "4",
         "1",
         "AMY_Cdh23_Hmcn1_Glut_M",
         "0.8813571543746943",
         "13.0",
         "1"
        ],
        [
         "5",
         "1",
         "AMY_F",
         "20.25764889610654",
         "9.0",
         "1"
        ],
        [
         "6",
         "1",
         "AMY_Foxp2_Penk_GABA_F",
         "2.613225510366722",
         "10.0",
         "1"
        ],
        [
         "7",
         "1",
         "AMY_Foxp2_Penk_GABA_M",
         "1.3651204759679945",
         "7.0",
         "1"
        ],
        [
         "8",
         "1",
         "AMY_Hgf_Satb2_Glut_F",
         "1.9139651269209632",
         "8.0",
         "1"
        ],
        [
         "9",
         "1",
         "AMY_Hgf_Satb2_Glut_M",
         "2.1777598969325433",
         "9.0",
         "1"
        ],
        [
         "10",
         "1",
         "AMY_Igfn1_Scube1_Glut_F",
         "-0.8965848852822645",
         "-14.0",
         "-1"
        ],
        [
         "11",
         "1",
         "AMY_Igfn1_Scube1_Glut_M",
         "4.366849791631619",
         "14.0",
         "1"
        ],
        [
         "12",
         "1",
         "AMY_Lhx6_Gldn_GABA_F",
         "8.049220028756851",
         "12.0",
         "1"
        ],
        [
         "13",
         "1",
         "AMY_Lhx6_Gldn_GABA_M",
         "0.09406982698982992",
         "1.0",
         "1"
        ],
        [
         "14",
         "1",
         "AMY_Lhx6_Hapln1_GABA_F",
         "0.4704385638385677",
         "7.0",
         "1"
        ],
        [
         "15",
         "1",
         "AMY_Lhx6_Hapln1_GABA_M",
         "0.24409996804738418",
         "1.0",
         "1"
        ],
        [
         "16",
         "1",
         "AMY_Lhx6_Maf_GABA_F",
         "5.171288394421783",
         "8.0",
         "1"
        ],
        [
         "17",
         "1",
         "AMY_Lhx6_Maf_GABA_M",
         "1.1201738800813679",
         "3.0",
         "1"
        ],
        [
         "18",
         "1",
         "AMY_Lhx6_Ostm1_GABA_F",
         "3.9988005535183837",
         "8.0",
         "1"
        ],
        [
         "19",
         "1",
         "AMY_Lhx6_Ostm1_GABA_M",
         "1.9606320298851756",
         "7.0",
         "1"
        ],
        [
         "20",
         "1",
         "AMY_Lhx8_Pde3a_GABA_F",
         "0.3270549413360114",
         "2.0",
         "1"
        ],
        [
         "21",
         "1",
         "AMY_Lhx8_Pde3a_GABA_M",
         "1.52974292646377",
         "3.0",
         "1"
        ],
        [
         "22",
         "1",
         "AMY_M",
         "21.518323456311037",
         "21.0",
         "1"
        ],
        [
         "23",
         "1",
         "AMY_Maf_Pthlh_GABA_F",
         "0.6960367986224095",
         "6.0",
         "1"
        ],
        [
         "24",
         "1",
         "AMY_Maf_Pthlh_GABA_M",
         "0.535310758328817",
         "9.0",
         "1"
        ],
        [
         "25",
         "1",
         "AMY_Meis1_Ebf1_Glut_F",
         "12.250046966078571",
         "10.0",
         "1"
        ],
        [
         "26",
         "1",
         "AMY_Meis1_Ebf1_Glut_M",
         "5.267566052732908",
         "14.0",
         "1"
        ],
        [
         "27",
         "1",
         "AMY_Meis1_Gpr149_Glut_F",
         "3.0606450130419",
         "16.0",
         "1"
        ],
        [
         "28",
         "1",
         "AMY_Meis1_Gpr149_Glut_M",
         "2.7238705868147317",
         "7.0",
         "1"
        ],
        [
         "29",
         "1",
         "AMY_Ndnf_Lamp5_GABA_F",
         "1.7159736440947642",
         "12.0",
         "1"
        ],
        [
         "30",
         "1",
         "AMY_Ndnf_Lamp5_GABA_M",
         "0.5940048388946004",
         "8.0",
         "1"
        ],
        [
         "31",
         "1",
         "AMY_Rai14_Six3_GABA_F",
         "3.2426674393637476",
         "11.0",
         "1"
        ],
        [
         "32",
         "1",
         "AMY_Rai14_Six3_GABA_M",
         "0.6511505757612233",
         "3.0",
         "1"
        ],
        [
         "33",
         "1",
         "AMY_Rspo2_Tfap2d_Glut_F",
         "1.1330912378791762",
         "3.0",
         "1"
        ],
        [
         "34",
         "1",
         "AMY_Rspo2_Tfap2d_Glut_M",
         "2.48888104840909",
         "2.0",
         "1"
        ],
        [
         "35",
         "1",
         "AMY_Sim1_Cav1_Glut_F",
         "1.2218879323157572",
         "13.0",
         "1"
        ],
        [
         "36",
         "1",
         "AMY_Sim1_Cav1_Glut_M",
         "1.3133727125295698",
         "4.0",
         "1"
        ],
        [
         "37",
         "1",
         "AMY_Sox6_Ephb1_GABA_F",
         "12.897172099956762",
         "12.0",
         "1"
        ],
        [
         "38",
         "1",
         "AMY_Sox6_Ephb1_GABA_M",
         "3.089219413216371",
         "8.0",
         "1"
        ],
        [
         "39",
         "1",
         "AMY_Strip2_Penk_GABA_F",
         "3.7652909484617187",
         "10.0",
         "1"
        ],
        [
         "40",
         "1",
         "AMY_Strip2_Penk_GABA_M",
         "2.1987376260755704",
         "1.0",
         "1"
        ],
        [
         "41",
         "1",
         "AMY_Tcf7l2_Cachd1_Glut_F",
         "0.5642661971362143",
         "4.0",
         "1"
        ],
        [
         "42",
         "1",
         "AMY_Tcf7l2_Cachd1_Glut_M",
         "0.9287141032129141",
         "4.0",
         "1"
        ],
        [
         "43",
         "1",
         "AMY_Trabd2b_Coch_Glut_F",
         "1.0200309545923052",
         "5.0",
         "1"
        ],
        [
         "44",
         "1",
         "AMY_Trabd2b_Coch_Glut_M",
         "7.432169682984711",
         "17.0",
         "1"
        ],
        [
         "45",
         "1",
         "AMY_Trh_Met_Glut_F",
         "2.906563979684133",
         "8.0",
         "1"
        ],
        [
         "46",
         "1",
         "AMY_Trh_Met_Glut_M",
         "1.3568957284401484",
         "6.0",
         "1"
        ],
        [
         "47",
         "1",
         "AMY_Vgll3_Pde11a_Glut_F",
         "2.3812566006235643",
         "8.0",
         "1"
        ],
        [
         "48",
         "1",
         "AMY_Vgll3_Pde11a_Glut_M",
         "1.4498913873747414",
         "1.0",
         "1"
        ],
        [
         "49",
         "1",
         "AMY_Vip_Htr3a_GABA_F",
         "2.0922928815487922",
         "8.0",
         "1"
        ]
       ],
       "shape": {
        "columns": 5,
        "rows": 3262
       }
      },
      "text/html": [
       "<div>\n",
       "<style scoped>\n",
       "    .dataframe tbody tr th:only-of-type {\n",
       "        vertical-align: middle;\n",
       "    }\n",
       "\n",
       "    .dataframe tbody tr th {\n",
       "        vertical-align: top;\n",
       "    }\n",
       "\n",
       "    .dataframe thead th {\n",
       "        text-align: right;\n",
       "    }\n",
       "</style>\n",
       "<table border=\"1\" class=\"dataframe\">\n",
       "  <thead>\n",
       "    <tr style=\"text-align: right;\">\n",
       "      <th></th>\n",
       "      <th>module</th>\n",
       "      <th>celltype</th>\n",
       "      <th>nlog10_p_val_adj</th>\n",
       "      <th>status</th>\n",
       "      <th>regulation</th>\n",
       "    </tr>\n",
       "  </thead>\n",
       "  <tbody>\n",
       "    <tr>\n",
       "      <th>0</th>\n",
       "      <td>1</td>\n",
       "      <td>AMY</td>\n",
       "      <td>19.470657</td>\n",
       "      <td>21.0</td>\n",
       "      <td>1</td>\n",
       "    </tr>\n",
       "    <tr>\n",
       "      <th>1</th>\n",
       "      <td>1</td>\n",
       "      <td>AMY_Ccdc3_Acvr1c_Glut_F</td>\n",
       "      <td>0.857519</td>\n",
       "      <td>9.0</td>\n",
       "      <td>1</td>\n",
       "    </tr>\n",
       "    <tr>\n",
       "      <th>2</th>\n",
       "      <td>1</td>\n",
       "      <td>AMY_Ccdc3_Acvr1c_Glut_M</td>\n",
       "      <td>-0.218659</td>\n",
       "      <td>-3.0</td>\n",
       "      <td>-1</td>\n",
       "    </tr>\n",
       "    <tr>\n",
       "      <th>3</th>\n",
       "      <td>1</td>\n",
       "      <td>AMY_Cdh23_Hmcn1_Glut_F</td>\n",
       "      <td>0.644861</td>\n",
       "      <td>10.0</td>\n",
       "      <td>1</td>\n",
       "    </tr>\n",
       "    <tr>\n",
       "      <th>4</th>\n",
       "      <td>1</td>\n",
       "      <td>AMY_Cdh23_Hmcn1_Glut_M</td>\n",
       "      <td>0.881357</td>\n",
       "      <td>13.0</td>\n",
       "      <td>1</td>\n",
       "    </tr>\n",
       "    <tr>\n",
       "      <th>...</th>\n",
       "      <td>...</td>\n",
       "      <td>...</td>\n",
       "      <td>...</td>\n",
       "      <td>...</td>\n",
       "      <td>...</td>\n",
       "    </tr>\n",
       "    <tr>\n",
       "      <th>3257</th>\n",
       "      <td>7</td>\n",
       "      <td>VLMC-2_M</td>\n",
       "      <td>2.227248</td>\n",
       "      <td>4.0</td>\n",
       "      <td>1</td>\n",
       "    </tr>\n",
       "    <tr>\n",
       "      <th>3258</th>\n",
       "      <td>7</td>\n",
       "      <td>VLMC-3_F</td>\n",
       "      <td>-0.120550</td>\n",
       "      <td>-2.0</td>\n",
       "      <td>-1</td>\n",
       "    </tr>\n",
       "    <tr>\n",
       "      <th>3259</th>\n",
       "      <td>7</td>\n",
       "      <td>VLMC-3_M</td>\n",
       "      <td>1.185547</td>\n",
       "      <td>3.0</td>\n",
       "      <td>1</td>\n",
       "    </tr>\n",
       "    <tr>\n",
       "      <th>3260</th>\n",
       "      <td>7</td>\n",
       "      <td>VSMC_F</td>\n",
       "      <td>-2.191761</td>\n",
       "      <td>-4.0</td>\n",
       "      <td>-1</td>\n",
       "    </tr>\n",
       "    <tr>\n",
       "      <th>3261</th>\n",
       "      <td>7</td>\n",
       "      <td>VSMC_M</td>\n",
       "      <td>-0.119926</td>\n",
       "      <td>-2.0</td>\n",
       "      <td>-1</td>\n",
       "    </tr>\n",
       "  </tbody>\n",
       "</table>\n",
       "<p>3262 rows × 5 columns</p>\n",
       "</div>"
      ],
      "text/plain": [
       "      module                 celltype  nlog10_p_val_adj  status  regulation\n",
       "0          1                      AMY         19.470657    21.0           1\n",
       "1          1  AMY_Ccdc3_Acvr1c_Glut_F          0.857519     9.0           1\n",
       "2          1  AMY_Ccdc3_Acvr1c_Glut_M         -0.218659    -3.0          -1\n",
       "3          1   AMY_Cdh23_Hmcn1_Glut_F          0.644861    10.0           1\n",
       "4          1   AMY_Cdh23_Hmcn1_Glut_M          0.881357    13.0           1\n",
       "...      ...                      ...               ...     ...         ...\n",
       "3257       7                 VLMC-2_M          2.227248     4.0           1\n",
       "3258       7                 VLMC-3_F         -0.120550    -2.0          -1\n",
       "3259       7                 VLMC-3_M          1.185547     3.0           1\n",
       "3260       7                   VSMC_F         -2.191761    -4.0          -1\n",
       "3261       7                   VSMC_M         -0.119926    -2.0          -1\n",
       "\n",
       "[3262 rows x 5 columns]"
      ]
     },
     "execution_count": 11,
     "metadata": {},
     "output_type": "execute_result"
    }
   ],
   "source": [
    "df_modulestat"
   ]
  },
  {
   "cell_type": "code",
   "execution_count": 10,
   "id": "53d2403e",
   "metadata": {},
   "outputs": [],
   "source": [
    "modules = df_TF['module'].unique()\n",
    "\n",
    "for module in modules:\n",
    "    TF_module = df_TF[df_TF.module==module]\n",
    "    # subset the file tha contains any tf in TFmodule.index\n",
    "    filtered_list = [file for file in df_glob if any(tf in file for tf in TF_module.index)]\n",
    "\n",
    "    # Create list of delayed objects\n",
    "    delayed_dfs = [process_file(file) for file in filtered_list]\n",
    "\n",
    "    # Convert to Dask DataFrame\n",
    "    ddf = dd.from_delayed(delayed_dfs)\n",
    "\n",
    "    # Compute result\n",
    "    df_go_module = ddf.compute()\n",
    "\n",
    "    df_go_module_group = df_go_module.groupby(['term_name','celltype','gender']).size().reset_index(name='count')\n",
    "    df_go_module_group['celltype.gender'] = df_go_module_group['celltype'] + '_' + df_go_module_group['gender']\n",
    "    df_go_module_group['module'] = module\n",
    "    df_go_module_group =df_go_module_group.merge(df_modulestat, left_on=['celltype.gender','module'],right_on=['celltype','module'], how='left')\n",
    "    df_go_module_group['reg_count'] = df_go_module_group['count'] * df_go_module_group['regulation']\n",
    "    df_go_module_group.to_csv(os.path.join(outdir, f'{module}_gosummary.csv'), index=False)"
   ]
  },
  {
   "cell_type": "code",
   "execution_count": 26,
   "id": "af219575",
   "metadata": {},
   "outputs": [],
   "source": [
    "module_go = glob.glob(f\"/data2st1/junyi/output/atac0627/snregulation/gostmodule_new/*GO_enrich*TFmoudule*csv\")\n",
    "\n",
    "for module in modules:\n",
    "    modulestr = 'TFmoudule'+str(module)\n",
    "    #TF_module = df_TF[df_TF.module==module]\n",
    "    # subset the file tha contains any tf in TFmodule.index\n",
    "    filtered_list = [file for file in module_go if modulestr in file]\n",
    "\n",
    "    # Create list of delayed objects\n",
    "    delayed_dfs = [process_file(file) for file in filtered_list]\n",
    "\n",
    "    # Convert to Dask DataFrame\n",
    "    ddf = dd.from_delayed(delayed_dfs)\n",
    "\n",
    "    # Compute result\n",
    "    df_go_module = ddf.compute()\n",
    "\n",
    "#     df_go_module_group = df_go_module.groupby(['term_name','celltype','gender']).size().reset_index(name='count')\n",
    "#     df_go_module_group['celltype.gender'] = df_go_module_group['celltype'] + '_' + df_go_module_group['gender']\n",
    "#     df_go_module_group['module'] = module\n",
    "#     df_go_module_group =df_go_module_group.merge(df_modulestat, left_on=['celltype.gender','module'],right_on=['celltype','module'], how='left')\n",
    "#     df_go_module_group['reg_count'] = df_go_module_group['count'] * df_go_module_group['regulation']\n",
    "    df_go_module.to_csv(os.path.join(outdir, f'TFmodule{module}_gosummary.csv'), index=False)"
   ]
  },
  {
   "cell_type": "code",
   "execution_count": null,
   "id": "e9523623",
   "metadata": {},
   "outputs": [
    {
     "name": "stdout",
     "output_type": "stream",
     "text": [
      "\n",
      "CondaError: Run 'conda init' before 'conda activate'\n",
      "\n",
      "/bin/bash: line 1: !python: command not found\n",
      "/bin/bash: line 1: !python: command not found\n",
      "/bin/bash: line 1: !python: command not found\n",
      "Traceback (most recent call last):\n",
      "  File \"/home/junyichen/code/scmmd/testclf.py\", line 124, in <module>\n",
      "    classifiers = train_go_classifier(csv_path)\n",
      "                  ^^^^^^^^^^^^^^^^^^^^^^^^^^^^^\n",
      "  File \"/home/junyichen/code/scmmd/testclf.py\", line 83, in train_go_classifier\n",
      "    print(\"Module Classification Report:\")\n",
      "BrokenPipeError: [Errno 32] Broken pipe\n",
      "/bin/bash: line 1: !python: command not found\n",
      "/bin/bash: line 1: !python: command not found\n",
      "/bin/bash: line 1: !python: command not found\n",
      "Traceback (most recent call last):\n",
      "  File \"/home/junyichen/code/scmmd/testclf.py\", line 124, in <module>\n",
      "    classifiers = train_go_classifier(csv_path)\n",
      "                  ^^^^^^^^^^^^^^^^^^^^^^^^^^^^^\n",
      "  File \"/home/junyichen/code/scmmd/testclf.py\", line 83, in train_go_classifier\n",
      "    print(\"Module Classification Report:\")\n",
      "BrokenPipeError: [Errno 32] Broken pipe\n"
     ]
    }
   ],
   "source": [
    "# !source /home/junyichen/anaconda3/etc/profile.d/conda.sh\n",
    "# !conda activate snap\n",
    "# !python testclf.py --csv_test_path /data2st1/junyi/output/atac0627/snregulation/gosummary_module/TFmodule1_gosummary.csv |\\\n",
    "# !python testclf.py --csv_test_path /data2st1/junyi/output/atac0627/snregulation/gosummary_module/TFmodule2_gosummary.csv |\\\n",
    "# !python testclf.py --csv_test_path /data2st1/junyi/output/atac0627/snregulation/gosummary_module/TFmodule3_gosummary.csv |\\\n",
    "# !python testclf.py --csv_test_path /data2st1/junyi/output/atac0627/snregulation/gosummary_module/TFmodule4_gosummary.csv ;\n",
    "# !python testclf.py --csv_test_path /data2st1/junyi/output/atac0627/snregulation/gosummary_module/TFmodule5_gosummary.csv |\\\n",
    "# !python testclf.py --csv_test_path /data2st1/junyi/output/atac0627/snregulation/gosummary_module/TFmodule6_gosummary.csv |\\\n",
    "# !python testclf.py --csv_test_path /data2st1/junyi/output/atac0627/snregulation/gosummary_module/TFmodule7_gosummary.csv |\\\n",
    "# !python testclf.py --csv_test_path /data2st1/junyi/output/atac0627/snregulation/gosummary_module/TFmodule8_gosummary.csv ;"
   ]
  },
  {
   "cell_type": "code",
   "execution_count": 30,
   "id": "69b853bc",
   "metadata": {},
   "outputs": [],
   "source": [
    "df_moudule1 = pd.read_csv(\"/data2st1/junyi/output/atac0627/snregulation/gostmodule_new/TFmodule1_gosummary.csv.predicted.csv\")"
   ]
  },
  {
   "cell_type": "code",
   "execution_count": 31,
   "id": "8db41bf5",
   "metadata": {},
   "outputs": [],
   "source": [
    "import seaborn as sns\n",
    "import matplotlib.pyplot as plt\n"
   ]
  },
  {
   "cell_type": "code",
   "execution_count": 32,
   "id": "b342c0dc",
   "metadata": {},
   "outputs": [
    {
     "data": {
      "application/vnd.microsoft.datawrangler.viewer.v0+json": {
       "columns": [
        {
         "name": "index",
         "rawType": "int64",
         "type": "integer"
        },
        {
         "name": "significant",
         "rawType": "bool",
         "type": "boolean"
        },
        {
         "name": "p_value",
         "rawType": "float64",
         "type": "float"
        },
        {
         "name": "term_size",
         "rawType": "int64",
         "type": "integer"
        },
        {
         "name": "query_size",
         "rawType": "int64",
         "type": "integer"
        },
        {
         "name": "intersection_size",
         "rawType": "int64",
         "type": "integer"
        },
        {
         "name": "precision",
         "rawType": "float64",
         "type": "float"
        },
        {
         "name": "recall",
         "rawType": "float64",
         "type": "float"
        },
        {
         "name": "term_id",
         "rawType": "object",
         "type": "string"
        },
        {
         "name": "source",
         "rawType": "object",
         "type": "string"
        },
        {
         "name": "term_name",
         "rawType": "object",
         "type": "string"
        },
        {
         "name": "effective_domain_size",
         "rawType": "int64",
         "type": "integer"
        },
        {
         "name": "source_order",
         "rawType": "int64",
         "type": "integer"
        },
        {
         "name": "parents",
         "rawType": "object",
         "type": "string"
        },
        {
         "name": "evidence_codes",
         "rawType": "object",
         "type": "string"
        },
        {
         "name": "intersection",
         "rawType": "object",
         "type": "string"
        },
        {
         "name": "celltype",
         "rawType": "object",
         "type": "string"
        },
        {
         "name": "gene_type_group",
         "rawType": "object",
         "type": "string"
        },
        {
         "name": "TF",
         "rawType": "object",
         "type": "string"
        },
        {
         "name": "gender",
         "rawType": "object",
         "type": "string"
        },
        {
         "name": "term_idname",
         "rawType": "object",
         "type": "string"
        },
        {
         "name": "clean_go_term",
         "rawType": "object",
         "type": "string"
        },
        {
         "name": "predicted_module",
         "rawType": "int64",
         "type": "integer"
        }
       ],
       "ref": "96ff93e3-9d80-42d0-938d-610cdf7e82fd",
       "rows": [
        [
         "0",
         "True",
         "2.3421986094015397e-22",
         "13503",
         "377",
         "294",
         "0.779840848806366",
         "0.0217729393468118",
         "GO:0065007",
         "GO:BP",
         "biological regulation",
         "25907",
         "15666",
         "GO:0008150",
         "IDA IPI IMP IGI ISO IBA IEA,IMP IEA,IEA,IBA IEA,ISO,IMP ISO IBA IEA,IDA IMP IGI ISS IEA,IMP ISO IEA,IEA,IMP ISS ISO IBA IEA,IMP,IMP IGI IBA IEA,IDA IBA,IDA IMP ISO IEA,IEA,IMP,ISS IBA IEA,IDA IMP IGI ISO IBA TAS IEA,IEA,IBA IEA,IDA IPI ISS ISO IBA IEA,EXP IDA IMP ISO IBA IEA,IMP ISS ISO IEA,IEA,ISO IBA IEA,ISO IBA IEA,IDA ISS IBA IEA,ISO,IDA IMP IGI ISS ISO IBA IEA,IDA IMP IGI IBA IEA,ISS IEA,ISO IBA IEA,IEA,IMP ISO IBA IEA,IDA IMP IGI ISO IBA IEA,IBA IEA,IDA ISO IBA IEA,ISO IEA,IBA IEA,IDA IPI IMP IGI ISS ISO IBA IEA,IEA,IEA,IMP ISO,IMP IGI IEA,IEA,IDA IMP IGI ISS ISO IBA IEA,IDA IMP ISS IBA IEA,IMP ISS IBA IEA,IDA IMP IEP IBA IEA,IBA IEA,ISS IEA,IDA IMP ISO IBA TAS IEA,IDA IMP IGI ISO IBA IEA,ISS ISO IBA IEA,IMP,ISO IBA IEA,IDA IMP IGI ISS ISO IBA IEA,IDA IGI ISO IBA IEA,IGI,IDA IMP ISS TAS NAS IC IEA,IMP ISS IBA IEA,IDA IMP ISS ISO IBA IEA,IDA IMP ISS IBA NAS IEA,IBA,IDA IGI IBA IEA,IDA IMP IBA IEA,IBA IEA,IMP IBA,IMP ISO IEA,ISO,IGI IEA,IDA IMP,IMP ISO IBA IEA,ISS,IDA IMP ISS IBA TAS IEA,IDA IMP IGI ISS IEA,ISS IBA IEA,IEA,IDA IMP,IDA ISO IBA IEA,IDA IGI ISS ISO,IDA IMP ISO IBA IEA,ISS ISO IBA IEA,IDA IMP IGI ISS ISO IBA TAS IEA,ISO TAS IEA,IMP ISS ISO NAS IEA,IDA IMP ISO IBA IEA,IGI ISO IBA IEA,IDA IMP ISO,IMP ISS ISO IBA TAS NAS IEA,IEA,IBA IEA,ISO IBA,IDA IMP ISS ISO IBA IEA,IDA IMP ISS ISO IBA IEA,EXP IDA IMP ISS ISO IBA IEA,IMP ISO IBA IEA,IDA IMP IEP,IDA IMP IBA,IEA,IBA IEA,IMP,IEA,IEA,IDA,IMP,IMP ISS ISO IBA NAS IEA,IDA IMP ISS ISO IBA IEA,IEA,IDA IMP IGI ISS ISO IBA TAS IEA,IBA IEA,IEA,IDA IMP ISS ISO IEA,IDA IMP IGI ISO IBA IEA,IEA,IBA IEA,IGI IBA IEA,IPI IMP IBA IEA,IEA,IBA IEA,IEA,IDA,IDA IMP IGI ISS ISO IBA NAS IEA,ISS ISO IBA IEA,IEA,IDA IMP ISS IBA IEA,IEA,IMP,IDA IMP ISS IBA IEA,IMP ISS ISO IBA IEA,IDA IMP IBA IEA,IMP ISS ISO IBA IEA,ISO IEA,IDA IMP IGI ISO IBA IEA,IDA IMP ISS ISO IBA IEA,IDA ISS IBA IEA,ISS ISO TAS NAS IEA,IDA IBA,ISS ISO IBA IEA,IDA IGI IEA,IMP,IDA ISO IEA,IMP,IDA IMP ISO IBA IEA,IBA IEA,IGI ISO IEA,IDA IMP ISO IBA NAS IEA,IDA IMP ISO IEA,IEA,IEA,IMP IEA,IDA IGI IBA IEA,IDA IMP ISS IBA IEA,IDA ISO IBA TAS,IDA ISO IBA IEA,IEA,IDA IMP IGI IBA,IMP IEA,ISO IEA,IMP ISS ISO IBA IEA,IMP IBA IEA,IDA IMP IBA IEA,IDA IGI ISO IBA IEA,IDA,IBA,IEA,IEA,IMP ISO IBA IEA,IEA,IDA IMP,IDA IMP ISS IBA IEA,IDA IMP IGI ISS ISO IBA IEA,IMP ISO IEA,IBA IEA,IDA ISS IBA IEA,IDA IMP IEP ISS IBA IEA,ISS ISO IEA,ISS IEA,IDA IMP ISS ISO IBA IEA,ISO IBA NAS,IDA IMP ISS ISO IBA IEA,ISS ISO IBA IEA,ISO IBA NAS IEA,IGI ISS ISO IBA IEA,ISS ISO IEA,IMP ISS IBA IEA,IBA IEA,ISS IEA,IEA,IGI IBA IEA,IMP IEA,IEA,IBA IEA,IMP IGI ISS IEA,IMP ISS IBA IEA,ISS IEA,IDA IGI IBA,IDA IEA,IMP IBA IEA,ISO,IMP,IMP IEP ISS ISO IBA IEA,IMP,IMP ISS IEA,ISS IEA,EXP IDA IMP IGI ISS ISO IBA IEA,ISO IBA IEA,IGI IEA,ISS IEA,IMP IBA,IDA IMP IGI,ISO IEA,ISO,IDA IMP ISO IBA IEA,IMP,IMP IBA IEA,IDA IMP ISO IEA,ISO IBA IEA,IDA IMP ISO IBA IEA,IEA,ISS ISO IEA,IMP IEA,IDA IMP IEP ISO IEA,IDA IMP NAS,ISS ISO IBA TAS IEA,IMP ISS IEA,IMP IBA TAS IEA,IDA IBA IEA,IDA ISS ISO IEA,IDA IMP ISS IEA,IEA,IMP,ISS IEA,ISS ISO IBA IEA,IMP ISS ISO IBA NAS IEA,IDA IMP IBA TAS,IDA ISA IEA,IMP IEA,IBA,IEA,IMP IGI IBA,IMP ISS IBA IEA,IEA,IDA IMP IGI ISS ISO IBA IEA,IMP IGI IBA IEA,IDA IMP IEA,IDA ISO IBA,IEA,IMP ISS IBA IEA,IDA ISO IBA IEA,IBA IEA,IMP ISS IEA,IEA,IDA IMP IEP,IDA IMP,IDA IMP IGI IBA NAS IEA,IBA,IDA IMP IGI ISS IBA IEA,ISS,ISO IEA,IEA,IMP ISO IEA,IEA,IMP IGI ISS ISO IBA IEA,ISS IEA,EXP IDA IMP,IMP ISO IEA,IEA,IMP IGI ISO,IDA ISO IBA NAS IEA,IMP ISS ISO IBA NAS IEA,IDA IMP ISS IBA IEA,IMP ISO IEA,ISO IEA,IDA IMP,IDA IPI IEA,IBA IEA,IDA IBA IEA,IDA IMP IGI ISS ISO IBA IEA,IDA IMP IEA,IDA IMP ISO IBA IEA,IEA,IMP,IGI ISS IEA,IEA,IMP IEA,ISS IEA,IDA IMP,ISS IBA IEA,IMP IGI IEA,IEA,IEA,IDA IMP IGI ISS ISO IBA IEA,IDA IMP ISO IEA",
         "Map2k6,Frmd4a,Daam1,Smurf2,Ppp2r2b,Bcl11a,Abr,Shank2,Nr3c2,Kcnip4,Dscaml1,Plxna4,Zfp462,Lrrtm3,Chn2,Sgcd,Fhit,Dapk1,Tgfbr3,Rgl1,Magi2,Hcn1,Cacna2d1,Trps1,Zbtb38,Bclaf1,Nsd3,Trpm7,Pik3r1,Vax1,Tenm1,Kcnh5,Dock9,Irf2,Afdn,Mok,Syndig1,Cyth1,Kcne4,Ep300,Phip,A330023F24Rik,Myo5a,Atrx,Zfhx4,Mef2a,Rfx3,Crebrf,Nr2c2,Ssbp2,Ahctf1,Stxbp1,Braf,Clip1,Fut8,Gria4,Rora,Ntrk3,Dleu2,Socs5,Ldlrad4,Chrm3,Esrrg,Bbx,Onecut2,Aff3,Dtna,Mamld1,Auts2,Mprip,Slit3,Cdh8,Ccnd2,Zfp385b,Rc3h1,Ptprj,Basp1,Adgrl2,Prickle2,Zfp148,Pex5l,Htr2c,Scn9a,Rgs7,Dlgap1,Gabrb3,Map1b,Gria1,Tnr,Wfs1,Herc4,Snd1,Map6,Sox11,Rasgrf1,Pkd2,Prex2,Stxbp5,Spns2,Znrf1,Gpr45,Ablim1,Zfhx3,Peli2,Astn2,Sgpp2,Cacnb2,Prkcb,Ppp1r12b,Ptk2,Magi1,Ocrl,Sipa1l1,Gnaq,Mlxip,Zfat,Pknox2,Clec16a,Fbxo8,Med12l,Cux1,Fry,Grin2a,Aak1,Snap91,Atp8a1,Map3k2,Rian,Prkg1,Cdk13,Plxna2,Brd4,Sgms1,Grik2,Arhgap44,Adcy9,Pbrm1,Tcf20,Plce1,Scai,Slc24a5,Ube2k,Pdss2,Tcf12,Zc3h14,Epn2,Rictor,Suz12,Pds5a,Ubr5,Fbxw4,Hcn2,Btrc,Pacsin1,Map3k10,Kmt2c,Apba2,Chsy1,Nsf,Slk,Rab27a,Lcor,Pou2f1,Dennd5b,Zfp740,Ckap5,Crebbp,Phlpp1,Dnajc13,Lrrtm4,Lrrc4c,Epha4,Trio,Kctd17,Gpm6b,Ephb1,Eif2b5,Zer1,Kat7,Ica1,Rufy3,Jade3,Epc2,Camsap2,Gprasp1,Appl1,Zfp62,Smarcad1,Epha6,Mid1,Gas2,Spata13,Nkain2,Fnip2,Tsc22d1,Smc6,Ankrd6,Arhgap6,Nxn,Synpr,Vps54,Celf4,Fa2h,Hipk3,Kcnmb4,Oprm1,Gabra5,Unc5d,Usp4,Ncald,Mlip,Plekha7,Fgd4,Cadm1,Vps13a,L3mbtl3,Dcx,Mctp1,Pik3ca,Fxr2,Rhot1,Gapvd1,Snx27,Reln,Grm8,Epb41,Slc4a4,Plag1,Entpd1,Dmtn,Sfmbt2,Epb41l3,Epb41l2,Hrk,Kcnd2,Arhgef9,Sertad2,Rps6ka3,Kcnh7,Tbc1d4,Sez6,Ago4,Dpp10,Erbb4,Schip1,Meg3,Pcsk5,Gab2,Hnrnpl,Tef,Rhobtb2,Tmem175,Scn8a,Mir124-2hg,Slc24a4,Cry2,Phc2,Cbfa2t2,Tor1aip2,Akap6,Clasp2,Crbn,Golga4,Ptpn1,Ppp1r13b,Stxbp5l,Trim46,Osbpl2,Cers1,Smarcd3,Kcnip2,Arhgef2,Rap1gap,Uvrag,Gsg1l,Traip,Rasgrp2,Camta1,Foxo1,Sptbn4,Cplx2,Cdh13,Dip2b,Cep63,Med13l,Rasal2,Zfyve28,Fam20c,Ror1,Ftx,Dock7,Fnbp1l,Gsk3b,Igsf11",
         "STR_D2_GABA",
         "gene",
         "TFmoudule1",
         "F",
         "GO:0065007_biological regulation",
         "go0065007_biological regulation",
         "12"
        ],
        [
         "1",
         "True",
         "2.11325455540759e-21",
         "13108",
         "377",
         "287",
         "0.761273209549072",
         "0.0218950259383583",
         "GO:0050789",
         "GO:BP",
         "regulation of biological process",
         "25907",
         "13086",
         "GO:0008150/GO:0065007",
         "IDA IPI IMP IGI ISO IBA IEA,IMP IEA,IEA,IBA IEA,ISO,IMP ISO IBA IEA,IDA IMP IGI IEA,IMP ISO IEA,IEA,IMP ISS ISO IBA IEA,IMP,IMP IGI IBA IEA,IDA IBA,IDA IMP ISO IEA,IEA,IMP,ISS IBA IEA,IDA IMP IGI ISO IBA TAS IEA,IEA,IBA IEA,IDA IPI ISS ISO IBA IEA,ISO IBA,IMP ISS ISO IEA,IEA,ISO IBA IEA,ISO IBA IEA,IDA ISS IBA IEA,ISO,IDA IMP IGI ISS ISO IBA IEA,IDA IMP IGI IBA IEA,ISS IEA,ISO IEA,IEA,IMP ISO IBA IEA,IDA IMP IGI ISO IBA IEA,IBA IEA,IDA ISO IBA IEA,ISO IEA,IBA,IDA IPI IMP IGI ISS ISO IBA IEA,IEA,IEA,IMP ISO,IMP IGI IEA,IEA,IDA IMP IGI ISS ISO IBA IEA,IDA IMP ISS IBA IEA,IMP ISS IBA IEA,IDA IMP IEP IBA IEA,IBA IEA,ISS IEA,IDA IMP ISO IBA TAS IEA,IDA IMP IGI ISO IBA IEA,ISS ISO IBA IEA,IMP,ISO IBA IEA,IDA IMP IGI ISS ISO IBA IEA,IDA IGI ISO IBA IEA,IGI,IDA IMP ISS TAS NAS IC IEA,IMP ISS IBA IEA,IDA IMP ISS ISO IBA IEA,IDA IMP ISS IBA NAS IEA,IBA,IDA IGI IBA IEA,IDA IMP IBA IEA,IBA IEA,IMP IBA,IMP ISO IEA,ISO,IGI IEA,IDA IMP,IMP ISO IBA IEA,ISS,IDA IMP ISS IBA TAS IEA,IDA IMP IGI ISS IEA,ISS IBA IEA,IEA,IDA IMP,IDA ISO IBA IEA,ISS ISO,IDA IMP ISO IBA IEA,ISO,IDA IGI ISS ISO IBA TAS IEA,ISO TAS IEA,IMP ISS ISO NAS IEA,IDA IMP ISO IBA IEA,IGI ISO IBA IEA,IDA IMP ISO,IMP ISS ISO IBA TAS NAS IEA,IEA,IBA IEA,ISO IBA,IDA IMP ISS ISO IBA IEA,IDA IMP ISS ISO IBA IEA,EXP IDA IMP ISS ISO IBA IEA,IMP ISO IBA IEA,IDA IMP IEP,IDA IMP IBA,IEA,IBA IEA,IMP,IEA,IEA,IDA,IMP,IMP ISS ISO IBA NAS IEA,IDA IMP ISS ISO IBA IEA,IEA,IDA IMP IGI ISS ISO IBA TAS IEA,IBA IEA,IEA,IDA IMP ISS ISO IEA,IDA IMP IGI ISO IBA IEA,IEA,IBA IEA,IGI IBA IEA,IPI IMP IBA IEA,IEA,IBA IEA,IEA,IDA,IDA IMP IGI ISS ISO IBA NAS IEA,ISS ISO IBA IEA,IEA,IDA IMP,IEA,IMP,IDA IMP ISS IBA IEA,IMP ISS ISO IBA IEA,IDA IMP IBA IEA,IMP ISS ISO IBA IEA,ISO IEA,IMP IGI ISO IBA IEA,IDA IMP ISS ISO IBA IEA,IDA ISS IBA IEA,ISS ISO TAS NAS IEA,IDA IBA,ISS ISO IBA IEA,IDA IGI IEA,IMP,IDA ISO IEA,IDA IMP ISO IBA IEA,IBA IEA,IGI ISO IEA,IDA IMP ISO IBA NAS IEA,IDA IMP ISO IEA,IEA,IEA,IMP IEA,IBA,IDA IMP ISS IBA IEA,IDA ISO IBA TAS,IDA ISO IBA IEA,IEA,IDA IMP IGI IBA,IMP IEA,ISO IEA,IMP ISS ISO IBA IEA,IBA IEA,IDA IMP IBA IEA,IDA IGI ISO IBA IEA,IDA,IBA,IEA,IEA,IMP ISO IBA IEA,IEA,IDA IMP,IDA IMP ISS IBA IEA,IDA IMP IGI ISO IBA IEA,IMP ISO IEA,IBA IEA,IDA ISS IBA IEA,IDA IMP IEP ISS IBA IEA,ISS ISO IEA,ISS IEA,IDA IMP ISS ISO IBA IEA,ISO IBA NAS,IDA IMP ISS ISO IBA IEA,ISS ISO IBA IEA,ISO IBA NAS IEA,IGI ISS ISO IBA IEA,ISS ISO IEA,IMP ISS IBA IEA,IBA IEA,ISS IEA,IEA,IGI IBA IEA,IMP IEA,IEA,IBA IEA,IMP IGI ISS IEA,IMP ISS IBA IEA,ISS IEA,IDA IGI IBA,IEA,IMP IBA IEA,ISO,IMP,IMP IEP ISS ISO IBA IEA,IMP,IMP ISS IEA,EXP IDA IMP IGI ISS ISO IBA IEA,ISO IBA IEA,IGI IEA,ISS IEA,IMP IBA,IDA IMP IGI,ISO,IDA IMP ISO IBA IEA,IMP,IMP IBA IEA,IDA IMP ISO IEA,ISO IBA IEA,IDA IMP ISO IBA IEA,IEA,ISS ISO IEA,IMP IEA,ISO IEA,IDA IMP NAS,ISS ISO IBA TAS IEA,IMP ISS IEA,IMP IEA,IDA IBA IEA,IDA ISO,IDA IMP ISS IEA,IEA,IMP,ISS IEA,ISS ISO IBA IEA,NAS,IDA IMP IBA TAS,IDA ISA IEA,IMP IEA,IEA,IMP IGI IBA,IMP ISS IBA IEA,IEA,IDA IMP IGI ISS ISO IBA IEA,IMP IBA IEA,IDA IMP IEA,ISO,IEA,IMP ISS IBA IEA,IDA ISO IBA IEA,IBA IEA,IDA IMP IEP,IDA IMP,IDA IMP IGI IBA NAS IEA,IBA,IDA IMP IGI ISS IBA IEA,ISO IEA,IEA,IMP ISO IEA,IEA,IMP IGI ISS ISO IBA IEA,ISS IEA,EXP IDA IMP,IMP ISO IEA,IEA,IMP IGI ISO,IDA ISO IBA NAS IEA,IMP ISS ISO IBA NAS IEA,IDA IMP ISS IBA IEA,IMP ISO IEA,ISO IEA,IDA IMP,IDA IPI IEA,IBA IEA,IDA IBA IEA,IDA IMP IGI ISS ISO IBA IEA,IDA IMP IEA,IDA IMP ISO IBA IEA,IEA,IMP,IGI ISS IEA,IEA,IMP,ISS IEA,IDA IMP,ISS IBA IEA,IMP IGI IEA,IEA,IEA,IDA IMP IGI ISS ISO IBA IEA,IDA IMP ISO IEA",
         "Map2k6,Frmd4a,Daam1,Smurf2,Ppp2r2b,Bcl11a,Abr,Shank2,Nr3c2,Kcnip4,Dscaml1,Plxna4,Zfp462,Lrrtm3,Chn2,Sgcd,Fhit,Dapk1,Tgfbr3,Rgl1,Magi2,Hcn1,Cacna2d1,Trps1,Zbtb38,Bclaf1,Nsd3,Trpm7,Pik3r1,Vax1,Tenm1,Kcnh5,Dock9,Irf2,Afdn,Mok,Syndig1,Cyth1,Kcne4,Ep300,Phip,A330023F24Rik,Myo5a,Atrx,Zfhx4,Mef2a,Rfx3,Crebrf,Nr2c2,Ssbp2,Ahctf1,Stxbp1,Braf,Clip1,Fut8,Gria4,Rora,Ntrk3,Dleu2,Socs5,Ldlrad4,Chrm3,Esrrg,Bbx,Onecut2,Aff3,Dtna,Mamld1,Auts2,Mprip,Slit3,Cdh8,Ccnd2,Zfp385b,Rc3h1,Ptprj,Basp1,Adgrl2,Prickle2,Zfp148,Pex5l,Htr2c,Scn9a,Rgs7,Dlgap1,Gabrb3,Map1b,Gria1,Tnr,Wfs1,Herc4,Snd1,Map6,Sox11,Rasgrf1,Pkd2,Prex2,Stxbp5,Spns2,Znrf1,Gpr45,Ablim1,Zfhx3,Peli2,Astn2,Sgpp2,Cacnb2,Prkcb,Ppp1r12b,Ptk2,Magi1,Ocrl,Sipa1l1,Gnaq,Mlxip,Zfat,Pknox2,Clec16a,Fbxo8,Med12l,Cux1,Fry,Grin2a,Aak1,Snap91,Atp8a1,Map3k2,Rian,Prkg1,Cdk13,Plxna2,Brd4,Sgms1,Grik2,Arhgap44,Adcy9,Pbrm1,Tcf20,Plce1,Scai,Slc24a5,Ube2k,Tcf12,Zc3h14,Epn2,Rictor,Suz12,Pds5a,Ubr5,Fbxw4,Hcn2,Btrc,Pacsin1,Map3k10,Kmt2c,Apba2,Chsy1,Nsf,Slk,Rab27a,Lcor,Pou2f1,Dennd5b,Zfp740,Ckap5,Crebbp,Phlpp1,Dnajc13,Lrrtm4,Lrrc4c,Epha4,Trio,Kctd17,Gpm6b,Ephb1,Eif2b5,Zer1,Kat7,Ica1,Rufy3,Jade3,Epc2,Camsap2,Gprasp1,Appl1,Zfp62,Smarcad1,Epha6,Mid1,Gas2,Spata13,Nkain2,Fnip2,Tsc22d1,Smc6,Ankrd6,Arhgap6,Nxn,Synpr,Vps54,Celf4,Fa2h,Hipk3,Oprm1,Gabra5,Unc5d,Usp4,Ncald,Mlip,Fgd4,Cadm1,Vps13a,L3mbtl3,Dcx,Mctp1,Pik3ca,Fxr2,Rhot1,Gapvd1,Snx27,Reln,Grm8,Epb41,Slc4a4,Plag1,Entpd1,Dmtn,Sfmbt2,Epb41l3,Epb41l2,Hrk,Kcnd2,Arhgef9,Sertad2,Rps6ka3,Tbc1d4,Sez6,Ago4,Dpp10,Erbb4,Schip1,Meg3,Pcsk5,Gab2,Hnrnpl,Tef,Rhobtb2,Mir124-2hg,Slc24a4,Cry2,Phc2,Cbfa2t2,Akap6,Clasp2,Crbn,Golga4,Ptpn1,Ppp1r13b,Stxbp5l,Trim46,Osbpl2,Cers1,Smarcd3,Kcnip2,Arhgef2,Rap1gap,Uvrag,Gsg1l,Traip,Rasgrp2,Camta1,Foxo1,Sptbn4,Cplx2,Cdh13,Dip2b,Cep63,Med13l,Rasal2,Zfyve28,Fam20c,Ror1,Ftx,Dock7,Fnbp1l,Gsk3b,Igsf11",
         "STR_D2_GABA",
         "gene",
         "TFmoudule1",
         "F",
         "GO:0050789_regulation of biological process",
         "go0050789_regulation of biological process",
         "12"
        ],
        [
         "2",
         "True",
         "4.8348055813342905e-20",
         "12715",
         "377",
         "279",
         "0.740053050397878",
         "0.0219425874950845",
         "GO:0050794",
         "GO:BP",
         "regulation of cellular process",
         "25907",
         "13090",
         "GO:0009987/GO:0050789",
         "IDA IPI IMP IGI ISO IBA IEA,IMP IEA,IEA,IBA IEA,ISO,IMP ISO IBA IEA,IDA IMP IGI IEA,IMP ISO IEA,IEA,IMP ISS ISO IBA IEA,IMP,IMP IGI IBA IEA,IDA IBA,IDA IMP ISO IEA,IEA,IMP,ISS IBA IEA,IDA IMP IGI ISO IBA TAS IEA,IEA,IBA IEA,IDA IPI ISS ISO IBA IEA,ISO IBA,IEA,IEA,ISO IBA IEA,ISO IBA IEA,IDA ISS IBA IEA,ISO,IDA IMP IGI ISS ISO IBA IEA,IDA IMP IGI IBA IEA,ISS IEA,ISO IEA,IEA,IMP ISO IBA IEA,IDA IMP IGI ISO IBA IEA,IBA IEA,IDA ISO IBA IEA,ISO IEA,IDA IPI IMP IGI ISS ISO IBA IEA,IEA,IEA,ISO,IMP IGI IEA,IEA,IDA IGI ISS ISO IBA IEA,IDA IMP ISS IBA IEA,IMP ISS IBA IEA,IDA IMP IEP IBA IEA,IBA IEA,ISS IEA,IDA IMP ISO IEA,IDA IMP IGI ISO IBA IEA,ISS ISO IBA IEA,IMP,ISO IBA IEA,IDA IMP IGI ISS ISO IBA IEA,IDA IGI ISO IBA IEA,IGI,IDA IMP ISS TAS NAS IC IEA,IMP ISS IBA IEA,IDA IMP ISS ISO IBA IEA,IDA IMP ISS IBA NAS IEA,IBA,IDA IGI IBA IEA,IDA IMP IBA IEA,IMP IBA,IMP ISO IEA,ISO,IGI IEA,IDA IMP,IMP ISO IBA IEA,ISS,IDA IMP ISS IBA TAS IEA,IDA IMP IGI ISS IEA,ISS IBA IEA,IEA,IDA IMP,IDA ISO IBA IEA,ISS ISO,IDA IMP ISO IBA IEA,IDA IGI ISS ISO IBA TAS IEA,ISO,IMP,IDA IMP ISO IBA IEA,IGI ISO IBA IEA,IDA IMP ISO,IMP ISS ISO IBA TAS NAS IEA,IEA,IBA IEA,ISO IBA,IDA IMP ISS ISO IBA IEA,IDA IMP ISS ISO IBA IEA,EXP IDA IMP ISS ISO IBA IEA,IMP ISO IBA IEA,IDA IMP IEP,IDA IMP IBA,IEA,IBA IEA,IMP,IEA,IEA,IDA,IMP,ISS ISO,IDA IMP ISS ISO IBA IEA,IEA,IDA IMP ISS ISO IBA TAS IEA,IBA IEA,IEA,IDA IMP ISS ISO IEA,IDA IMP IGI ISO IBA IEA,IEA,IBA IEA,IGI IBA IEA,IPI IMP IBA IEA,IEA,IBA IEA,IEA,IDA,IDA IMP IGI ISS ISO IBA NAS IEA,ISS ISO IBA IEA,IEA,IDA IMP,IEA,IMP,IDA IMP ISS IBA IEA,IMP ISS ISO IBA IEA,IDA IMP IBA IEA,IMP ISS ISO IBA IEA,ISO IEA,IMP IGI ISO IBA IEA,IDA IMP ISS ISO IBA IEA,IDA ISS IBA IEA,ISS TAS NAS,IDA IBA,ISS ISO IBA IEA,IDA IGI IEA,IMP,IDA ISO IEA,IDA IMP ISO IBA IEA,IBA IEA,IGI ISO IEA,IDA IMP ISO IBA NAS IEA,IDA IMP ISO IEA,IEA,IEA,IMP IEA,IBA,IDA IMP ISS IBA IEA,IDA ISO IBA TAS,IDA ISO IBA IEA,IEA,IDA IMP IGI,IMP,ISO IEA,IMP ISS ISO IBA IEA,IBA IEA,IDA IMP IBA IEA,IDA IGI ISO IBA IEA,IBA,IEA,IEA,ISO IBA IEA,IEA,IDA IMP,IDA IMP ISS IBA IEA,IDA IMP IGI ISO IBA IEA,IMP ISO IEA,IBA IEA,IDA ISS IEA,IDA IMP IEP ISS IBA IEA,ISS ISO IEA,ISS IEA,IDA IMP ISS ISO IBA IEA,ISO NAS,IDA IMP ISS ISO IBA IEA,ISS ISO IBA IEA,ISO IBA NAS IEA,IGI ISS ISO IBA IEA,ISS ISO IEA,IMP ISS IBA IEA,IBA IEA,ISS IEA,IEA,IGI IBA IEA,IMP IEA,IEA,IMP IGI ISS IEA,IMP ISS IBA IEA,ISS IEA,IDA IGI IBA,IEA,IMP IBA IEA,ISO,IMP,IMP ISS ISO IBA IEA,IMP,IMP ISS IEA,EXP IDA IMP IGI ISS ISO IBA IEA,IGI IEA,ISS IEA,IMP IBA,IGI,ISO,IDA ISO IBA IEA,IMP,IMP IBA IEA,IDA IMP ISO IEA,ISO IBA IEA,IDA IMP ISO IBA IEA,IEA,ISS ISO IEA,IMP IEA,ISO IEA,IDA IMP NAS,ISS ISO IBA IEA,ISS IEA,IMP IEA,IDA IBA IEA,IDA ISO,IDA IMP ISS IEA,IEA,ISS IEA,ISS ISO IBA IEA,IDA IMP IBA TAS,IDA ISA IEA,IMP IEA,IEA,IMP IGI IBA,IMP ISS IBA IEA,IEA,IDA IMP IGI ISS ISO IBA IEA,IMP IBA IEA,IDA IMP IEA,ISO,IEA,IMP ISS IBA IEA,IDA ISO IBA IEA,IBA IEA,IDA IMP IEP,IDA IMP,IDA IMP IGI IBA NAS IEA,IBA,IDA IMP IGI ISS IBA IEA,ISO IEA,IEA,IMP ISO IEA,IEA,IMP IGI ISS ISO IBA IEA,ISS IEA,EXP IDA IMP,IMP ISO IEA,IEA,IMP IGI,IDA ISO IBA NAS IEA,IMP ISS ISO IBA IEA,IDA IMP ISS IBA IEA,IMP ISO IEA,ISO IEA,IDA IMP,IDA IPI IEA,IBA IEA,IDA IBA IEA,IDA IMP IGI ISS ISO IBA IEA,IDA IEA,IDA IMP IBA,IEA,IMP,IGI ISS IEA,IEA,IMP,ISS IEA,IDA IMP,ISS IBA IEA,IMP IGI IEA,IEA,IEA,IDA IMP IGI ISS ISO IBA IEA,IDA IMP ISO IEA",
         "Map2k6,Frmd4a,Daam1,Smurf2,Ppp2r2b,Bcl11a,Abr,Shank2,Nr3c2,Kcnip4,Dscaml1,Plxna4,Zfp462,Lrrtm3,Chn2,Sgcd,Fhit,Dapk1,Tgfbr3,Rgl1,Magi2,Hcn1,Cacna2d1,Trps1,Zbtb38,Bclaf1,Nsd3,Trpm7,Pik3r1,Vax1,Tenm1,Kcnh5,Dock9,Irf2,Afdn,Mok,Syndig1,Cyth1,Ep300,Phip,A330023F24Rik,Myo5a,Atrx,Zfhx4,Mef2a,Rfx3,Crebrf,Nr2c2,Ssbp2,Ahctf1,Stxbp1,Braf,Clip1,Fut8,Gria4,Rora,Ntrk3,Dleu2,Socs5,Ldlrad4,Chrm3,Esrrg,Bbx,Onecut2,Aff3,Mamld1,Auts2,Mprip,Slit3,Cdh8,Ccnd2,Zfp385b,Rc3h1,Ptprj,Basp1,Adgrl2,Prickle2,Zfp148,Pex5l,Htr2c,Rgs7,Dlgap1,Gabrb3,Map1b,Gria1,Tnr,Wfs1,Herc4,Snd1,Map6,Sox11,Rasgrf1,Pkd2,Prex2,Stxbp5,Spns2,Znrf1,Gpr45,Ablim1,Zfhx3,Peli2,Astn2,Sgpp2,Cacnb2,Prkcb,Ppp1r12b,Ptk2,Magi1,Ocrl,Sipa1l1,Gnaq,Mlxip,Zfat,Pknox2,Clec16a,Fbxo8,Med12l,Cux1,Fry,Grin2a,Aak1,Snap91,Atp8a1,Map3k2,Rian,Prkg1,Cdk13,Plxna2,Brd4,Sgms1,Grik2,Arhgap44,Adcy9,Pbrm1,Tcf20,Plce1,Scai,Slc24a5,Ube2k,Tcf12,Zc3h14,Epn2,Rictor,Suz12,Pds5a,Ubr5,Fbxw4,Hcn2,Btrc,Pacsin1,Map3k10,Kmt2c,Apba2,Chsy1,Nsf,Slk,Rab27a,Lcor,Pou2f1,Zfp740,Ckap5,Crebbp,Phlpp1,Dnajc13,Lrrtm4,Lrrc4c,Epha4,Trio,Kctd17,Gpm6b,Ephb1,Eif2b5,Zer1,Kat7,Ica1,Rufy3,Jade3,Epc2,Camsap2,Gprasp1,Appl1,Zfp62,Smarcad1,Epha6,Mid1,Gas2,Spata13,Fnip2,Tsc22d1,Smc6,Ankrd6,Arhgap6,Nxn,Synpr,Vps54,Celf4,Fa2h,Hipk3,Oprm1,Unc5d,Usp4,Ncald,Mlip,Fgd4,Cadm1,Vps13a,L3mbtl3,Dcx,Mctp1,Pik3ca,Fxr2,Rhot1,Gapvd1,Snx27,Reln,Grm8,Epb41,Slc4a4,Plag1,Entpd1,Dmtn,Sfmbt2,Epb41l2,Hrk,Arhgef9,Sertad2,Rps6ka3,Tbc1d4,Sez6,Ago4,Dpp10,Erbb4,Schip1,Meg3,Pcsk5,Gab2,Hnrnpl,Tef,Rhobtb2,Mir124-2hg,Slc24a4,Cry2,Phc2,Cbfa2t2,Akap6,Clasp2,Crbn,Golga4,Ptpn1,Ppp1r13b,Stxbp5l,Trim46,Osbpl2,Cers1,Smarcd3,Kcnip2,Arhgef2,Rap1gap,Uvrag,Gsg1l,Traip,Rasgrp2,Camta1,Foxo1,Sptbn4,Cplx2,Cdh13,Dip2b,Cep63,Med13l,Rasal2,Zfyve28,Fam20c,Ror1,Ftx,Dock7,Fnbp1l,Gsk3b,Igsf11",
         "STR_D2_GABA",
         "gene",
         "TFmoudule1",
         "F",
         "GO:0050794_regulation of cellular process",
         "go0050794_regulation of cellular process",
         "12"
        ],
        [
         "3",
         "True",
         "4.48922478342245e-19",
         "2593",
         "377",
         "104",
         "0.275862068965517",
         "0.0401079830312379",
         "GO:0007399",
         "GO:BP",
         "nervous system development",
         "25907",
         "2884",
         "GO:0048731",
         "IMP,ISO IBA IEA,IGI,IMP,IMP IBA IEA,IMP IGI IBA,IDA IEA,IDA ISS ISO IEA,IMP,ISO,IMP IBA,IBA,IDA IMP IGI ISO,IDA ISO IBA IEA,ISO IEA,IMP,IMP,ISO IEA,IMP,IMP,IDA IMP IGI,ISO,IMP,IDA IMP IGI ISO IBA IEA,IGI,IMP,IMP,IDA IBA IEA,IMP,IEA,IDA IMP,IDA IMP IEA,IDA IMP IBA IEA,IDA IMP IGI ISS ISO IBA IEA,IMP IEA,IDA IMP,ISS ISO IBA IEA,IDA IMP ISS IBA,IDA IMP ISO IBA IEA,IDA,IEA,IMP,TAS,IDA,IEA,IBA IEA,IDA IMP ISO,IDA ISS ISO,IMP,IBA,IMP,IMP IEA,IMP IEP IBA,IMP IBA,ISO IEA,IMP,IDA IEA,IMP IEA,ISS ISO IBA IEA,IDA IMP,ISS IBA IEA,IDA IMP IGI ISO IBA IEA,ISS IBA IEA,IBA,IDA IMP ISO IBA IEA,ISS IEA,IDA IMP ISS ISO IBA IEA,ISS ISO IEA,IEA,IMP,IMP,IMP,IMP IBA,IDA IGI IBA IEA,IDA IMP,IMP,IDA IMP IGI ISO IEA,IEA,IDA IMP IGI IEP ISO IBA NAS IEA,IDA,IMP,IDA IMP IBA,IMP IGI IBA,IDA IMP ISO IBA IEA,IEA,IMP,ISS IEA,IEA,IEA,IDA IMP ISO IBA IEA,IMP,IEA,ISO IEA,IMP IBA IEA,ISO IEA,IMP IBA,IEA,IMP IEA,IEA,ISO IBA IEA,IEA,IMP,IMP IGI ISS ISO IBA IEA,IDA IMP",
         "Bahcc1,Bcl11a,Abr,Shank2,Dscaml1,Plxna4,Lrrtm3,Magi2,Hcn1,Pik3r1,Vax1,Tenm1,Afdn,Syndig1,Ep300,Myo5a,Atrx,Mef2a,Nr2c2,Stxbp1,Braf,Clip1,Rora,Ntrk3,Dleu2,Onecut2,Auts2,Slit3,Ptprj,Adgrl2,Prickle2,Gabrb3,Astn1,Map1b,Gria1,Tnr,Map6,Sdk2,Sox11,Rasgrf1,Pkd2,Prex2,Stxbp5,Ablim1,Zfhx3,Astn2,Ptk2,Sipa1l1,Gnaq,Fry,Grin2a,Prkg1,Plxna2,Arhgap44,Pbrm1,Pdss2,Tcf12,Suz12,Pacsin1,Lrrtm4,Lrrc4c,Epha4,Trio,Gpm6b,Ephb1,Eif2b5,Rufy3,Camsap2,Pcdh9,Vps54,Fa2h,Oprm1,Gabra5,Unc5d,Cadm1,Vps13a,Dcx,Snx27,Reln,Plag1,Epb41l3,Arhgef9,Sez6,Erbb4,Scn8a,Slc24a4,Cbfa2t2,Golga4,Ptpn1,Trim46,Cers1,Smarcd3,Kcnip2,Arhgef2,Rap1gap,Sptbn4,Cplx2,Dip2b,Cdh9,Ror1,Dock7,Dst,Gsk3b,Igsf11",
         "STR_D2_GABA",
         "gene",
         "TFmoudule1",
         "F",
         "GO:0007399_nervous system development",
         "go0007399_nervous system development",
         "1"
        ],
        [
         "4",
         "True",
         "3.15544438736222e-18",
         "3558",
         "379",
         "124",
         "0.327176781002639",
         "0.0348510399100618",
         "GO:0023051",
         "GO:BP",
         "regulation of signaling",
         "25907",
         "6606",
         "GO:0023052/GO:0050789",
         "IDA IMP IGI,IBA IEA,IDA IMP,IMP IEA,IEA,IEA,IMP,IEA,IDA ISS IEA,IEA,ISS IEA,ISO,ISO IEA,ISS IEA,IEA,ISO,IMP,IMP ISS,IDA IMP ISO IEA,IDA IMP ISO IEA,ISO IBA,IMP ISS IEA,IBA,ISS NAS IEA,IMP ISS IBA IEA,IDA IMP,IGI,IMP,IEA,IDA IMP,IDA IMP IGI ISS IEA,ISS ISO,IDA IMP ISO IEA,IDA IGI ISS ISO IBA IEA,ISO,IEA,IGI ISO IBA IEA,IDA IMP,IMP ISO IEA,IEA,IMP IEA,IDA IMP ISS ISO,IBA,IDA IMP,IEA,IEA,IDA IMP ISS ISO IEA,ISS ISO IEA,ISS ISO IEA,IMP IGI,IEA,IEA,IDA IMP IGI ISS ISO IBA NAS,ISS IEA,IMP,ISO IEA,ISS IEA,IMP IGI ISO IBA IEA,IDA IMP IBA,IDA IEA,IEA,IEA,IDA ISO IBA IEA,ISO,IEA,IDA IMP IEA,IEA,IDA IMP,IMP,IEA,IEA,ISO IEA,IDA IMP IBA,IDA IGI IEA,ISO IEA,IDA IMP IEP ISS IEA,NAS,ISS ISO IEA,IMP,IEA,IMP,ISS IEA,ISS IEA,IDA IGI IBA,IMP IBA,ISO,IMP,IMP,EXP IDA IMP ISS ISO IEA,ISS IEA,ISO,ISO IEA,IMP,IBA,IEA,ISO IEA,IDA IMP NAS,ISO IBA,IGI IBA,IMP IGI ISS ISO IEA,IBA IEA,ISO,IEP,IDA IMP,IGI,IMP,ISO,IEA,IMP IGI ISS ISO IBA IEA,EXP IDA IMP,IDA IBA,IEA,IEA,IEA,IDA IGI IEA,IDA IBA,IEA,IGI,ISS IEA,IMP,ISS IBA IEA,IMP IGI ISS ISO IBA IEA,IMP ISO IEA,ISS",
         "Map2k6,Smurf2,Abr,Shank2,Nr3c2,Chn2,Dapk1,Tgfbr3,Magi2,Bclaf1,Pik3r1,Afdn,Cyth1,Ep300,Phip,Myo5a,Rfx3,Crebrf,Stxbp1,Braf,Gria4,Rora,Ntrk3,Socs5,Ldlrad4,Chrm3,Onecut2,Auts2,Slit3,Rc3h1,Ptprj,Pex5l,Htr2c,Rgs7,Dlgap1,Map1b,Gria1,Tnr,Wfs1,Herc4,Sox11,Rasgrf1,Prex2,Stxbp5,Znrf1,Peli2,Prkcb,Ptk2,Sipa1l1,Gnaq,Clec16a,Fbxo8,Grin2a,Aak1,Rian,Cdk13,Brd4,Grik2,Arhgap44,Scai,Ube2k,Epn2,Rictor,Suz12,Ubr5,Btrc,Map3k10,Apba2,Chsy1,Nsf,Crebbp,Phlpp1,Lrrc4c,Epha4,Trio,Ephb1,Ica1,Gprasp1,Appl1,Mid1,Gas2,Fnip2,Tsc22d1,Ankrd6,Nxn,Synpr,Celf4,Hipk3,Oprm1,Usp4,Fgd4,Cadm1,Vps13a,Mctp1,Pik3ca,Rhot1,Reln,Grm8,Sez6,Erbb4,Schip1,Pcsk5,Mir124-2hg,Slc24a4,Cry2,Cbfa2t2,Akap6,Crbn,Ptpn1,Stxbp5l,Arhgef2,Rap1gap,Traip,Camta1,Foxo1,Cplx2,Cdh13,Cep63,Zfyve28,Fam20c,Ror1,Gsk3b,Igsf11,Atxn3",
         "STR_D2_GABA",
         "gene",
         "TFmoudule1",
         "F",
         "GO:0023051_regulation of signaling",
         "go0023051_regulation of signaling",
         "12"
        ],
        [
         "5",
         "True",
         "7.40865396948699e-18",
         "4155",
         "377",
         "135",
         "0.358090185676393",
         "0.0324909747292419",
         "GO:0048731",
         "GO:BP",
         "system development",
         "25907",
         "12821",
         "GO:0007275/GO:0048856",
         "IMP,IMP,ISO IBA IEA,IGI,IMP,IMP IBA IEA,IMP IGI IBA,IDA IEA,IMP IBA IEA,IEA,IDA ISS ISO IEA,IMP,IEA,ISO,IMP IGI IBA,IBA,IDA IMP IGI ISO,IDA ISO IBA IEA,IMP ISO NAS IEA,IMP,IMP,IMP ISO IBA IEA,IMP,IMP,IMP,IDA IMP IGI,ISO,IMP ISS IEA,IDA IMP IGI ISS ISO IBA IEA,IGI,IMP,IMP IGI,IEA,IMP,IDA IMP IBA IEA,ISO,IGI,IMP,IDA,IEA,IDA IMP,IDA IMP IEA,IDA IMP IBA IEA,IDA IMP IGI ISS ISO IBA IEA,IMP IEA,IDA IMP,ISS IEA,ISS ISO IBA IEA,IDA IMP ISS IBA,IDA IMP ISO IBA IEA,IDA,IMP IGI IEA,IMP,TAS,IMP,IDA,IEA,IBA IEA,IMP,IDA IMP ISO IEA,IDA ISS ISO,IMP,IBA,IMP,IMP IEA,IMP IEP IBA,IMP IBA,IMP ISO TAS IEA,IEA,IMP,IDA IEA,IEA,IMP IEA,IMP,ISS ISO IBA IEA,IMP,IGI,IMP,IDA IMP,ISS IBA IEA,IDA IMP IGI ISO IBA IEA,ISS IBA IEA,IBA,IDA IMP ISS ISO IBA IEA,ISS IEA,IDA IMP ISS ISO IBA IEA,ISS ISO IEA,IEA,IMP,IMP,IMP,IEP,IMP,IMP,IMP IBA,IDA IGI IBA IEA,IDA IMP ISO IEA,IMP,IDA IMP IGI ISO IEA,IMP IEA,IEA,IDA IMP IGI IEP ISO IBA NAS IEA,IDA IMP,IMP,IDA IMP IBA,IMP IGI IBA,IMP,IDA IMP ISO IBA IEA,IMP IGI,IMP,IMP,IEA,IMP,IMP ISS IEA,ISO,IEA,IEA,IDA IMP ISO IBA IEA,IMP,IMP IEP IEA,ISO IEA,IMP IBA IEA,ISO IEA,IMP,IMP IBA,IEA,IEA,IMP IEA,IEA,IMP,ISO IBA IEA,IEA,IMP,IMP IGI ISS ISO IBA IEA,IDA IMP",
         "Map2k6,Bahcc1,Bcl11a,Abr,Shank2,Dscaml1,Plxna4,Lrrtm3,Sgcd,Tgfbr3,Magi2,Hcn1,Trps1,Pik3r1,Vax1,Tenm1,Afdn,Syndig1,Ep300,Myo5a,Atrx,Mef2a,Rfx3,Nr2c2,Stxbp1,Braf,Clip1,Rora,Ntrk3,Dleu2,Bbx,Onecut2,Mamld1,Auts2,Slit3,Ccnd2,Rc3h1,Ptprj,Basp1,Adgrl2,Prickle2,Gabrb3,Astn1,Map1b,Gria1,Tnr,Wfs1,Map6,Sdk2,Sox11,Rasgrf1,Pkd2,Prex2,Stxbp5,Spns2,Ablim1,Zfhx3,Astn2,Prkcb,Ptk2,Sipa1l1,Gnaq,Fry,Grin2a,Prkg1,Plxna2,Arhgap44,Pbrm1,Plce1,Pdss2,Tcf12,Epn2,Suz12,Fbxw4,Pacsin1,Chsy1,Pou2f1,Phlpp1,Lrrtm4,Lrrc4c,Epha4,Trio,Gpm6b,Ephb1,Eif2b5,Rufy3,Camsap2,Pcdh9,Gas2,Nxn,Vps54,Celf4,Fa2h,Oprm1,Gabra5,Unc5d,Cadm1,Vps13a,Dcx,Pik3ca,Snx27,Reln,Plag1,Epb41l3,Arhgef9,Sez6,Ago4,Erbb4,Schip1,Meg3,Pcsk5,Scn8a,Slc24a4,Cbfa2t2,Akap6,Golga4,Ptpn1,Trim46,Cers1,Smarcd3,Kcnip2,Arhgef2,Rap1gap,Foxo1,Sptbn4,Cplx2,Cdh13,Dip2b,Cdh9,Fam20c,Ror1,Dock7,Dst,Gsk3b,Igsf11",
         "STR_D2_GABA",
         "gene",
         "TFmoudule1",
         "F",
         "GO:0048731_system development",
         "go0048731_system development",
         "1"
        ],
        [
         "6",
         "True",
         "1.47502029586864e-17",
         "4907",
         "377",
         "149",
         "0.395225464190981",
         "0.030364785001019",
         "GO:0007275",
         "GO:BP",
         "multicellular organism development",
         "25907",
         "2788",
         "GO:0032501/GO:0048856",
         "IMP,IMP,IEA,ISO IBA IEA,IGI,IMP,IMP IBA IEA,IMP IGI IBA,IDA IEA,IMP IBA IEA,IEA,IDA ISS ISO IEA,IMP,IEA,IGI ISO,IMP IGI IBA,IBA,IDA IMP IGI ISO,IDA ISO IBA IEA,IMP IGI ISO NAS IEA,IMP,IMP,IMP ISO IBA IEA,IMP,IMP IBA IEA,IMP,IDA IMP IGI,ISO,IMP ISS IEA,IDA IMP IGI ISS ISO IBA IEA,IGI,IDA,IMP,IMP IGI,IEP IEA,IEA,IMP,IDA IMP IBA IEA,ISO,IMP IGI,IMP,IDA,IEA,IDA IMP,IMP,IDA IMP IEA,IDA IMP IBA IEA,IDA IMP IGI ISS ISO IBA IEA,IMP IEA,IDA IMP,ISS IEA,ISS ISO IBA IEA,IDA IMP ISS IBA,IDA IMP ISO IBA IEA,IDA,IMP IGI IEA,IMP,TAS,IMP,IDA,IEA,IBA IEA,IMP,IDA IMP ISO IEA,IGI,IDA ISS ISO,IMP IGI,IMP,IBA,IMP,IMP IEA,IMP IEP IBA,IMP,IMP IBA,IMP,IMP ISO TAS NAS IEA,IEA,IMP,IDA IEA,IGI IEA,IMP,IMP IEA,IMP IGI,IMP,ISS ISO IBA IEA,IGI,IMP,IGI,IMP,IDA IMP,ISS IBA IEA,IDA IMP IGI ISO IBA IEA,ISS IBA IEA,ISS IBA IEA,IDA IMP ISS ISO IBA IEA,ISS IEA,IMP,IDA IMP ISS ISO IBA IEA,ISS ISO IEA,IEA,IMP,IMP,IMP,IMP,IMP IEP,IMP,IMP,IMP IBA,IDA IGI IBA IEA,IDA IMP ISO IEA,IMP,IDA IMP IGI ISO IEA,IMP IEA,IEA,IDA IMP IGI IEP ISO IBA NAS IEA,IDA IMP,IMP,IDA IMP IBA,IMP IGI IBA,IMP,IDA IMP ISO IBA IEA,IMP IGI,IMP,IMP,IEA,IEP,IMP,IMP ISS IEA,ISO,IEA,IEA,IDA IMP ISO IBA IEA,IMP,IMP IEP NAS IEA,ISO IEA,IMP IBA IEA,ISO IEA,IMP,IMP IBA,IEA,IEA,IMP IEA,IEA,IDA IMP,ISO IBA IEA,IEA,IMP,IMP IGI ISS ISO IBA IEA,IDA IMP",
         "Map2k6,Bahcc1,Smurf2,Bcl11a,Abr,Shank2,Dscaml1,Plxna4,Lrrtm3,Sgcd,Tgfbr3,Magi2,Hcn1,Trps1,Pik3r1,Vax1,Tenm1,Afdn,Syndig1,Ep300,Myo5a,Atrx,Mef2a,Rfx3,Nr2c2,Stxbp1,Braf,Clip1,Rora,Ntrk3,Dleu2,Socs5,Bbx,Onecut2,Aff3,Mamld1,Auts2,Slit3,Ccnd2,Rc3h1,Ptprj,Basp1,Adgrl2,Prickle2,Scn9a,Gabrb3,Astn1,Map1b,Gria1,Tnr,Wfs1,Map6,Sdk2,Sox11,Rasgrf1,Pkd2,Prex2,Stxbp5,Spns2,Ablim1,Zfhx3,Astn2,Prkcb,Ptk2,Ocrl,Sipa1l1,Gnaq,Zfat,Fry,Grin2a,Prkg1,Plxna2,Brd4,Arhgap44,Adcy9,Pbrm1,Plce1,Pdss2,Tcf12,Epn2,Rictor,Suz12,Fbxw4,Btrc,Pacsin1,Apba2,Chsy1,Pou2f1,Phlpp1,Lrrtm4,Lrrc4c,Epha4,Trio,Gpm6b,Ephb1,Eif2b5,Kat7,Rufy3,Camsap2,Pcdh9,Gas2,Tsc22d1,Nxn,Vps54,Celf4,Fa2h,Oprm1,Gabra5,Unc5d,Cadm1,Vps13a,Dcx,Pik3ca,Snx27,Reln,Plag1,Epb41l3,Arhgef9,Sez6,Ago4,Erbb4,Schip1,Meg3,Pcsk5,Scn8a,Mir124-2hg,Slc24a4,Cbfa2t2,Akap6,Golga4,Ptpn1,Trim46,Cers1,Smarcd3,Kcnip2,Arhgef2,Rap1gap,Foxo1,Sptbn4,Cplx2,Cdh13,Dip2b,Cdh9,Fam20c,Ror1,Dock7,Dst,Gsk3b,Igsf11",
         "STR_D2_GABA",
         "gene",
         "TFmoudule1",
         "F",
         "GO:0007275_multicellular organism development",
         "go0007275_multicellular organism development",
         "12"
        ],
        [
         "7",
         "True",
         "3.20708310175983e-17",
         "3560",
         "379",
         "122",
         "0.321899736147757",
         "0.0342696629213483",
         "GO:0010646",
         "GO:BP",
         "regulation of cell communication",
         "25907",
         "4275",
         "GO:0007154/GO:0050794",
         "IDA IMP IGI,IBA IEA,IDA IMP,IMP IEA,IEA,IEA,IMP,IEA,IDA ISS IEA,IEA,ISS IEA,ISO,ISO IEA,ISS IEA,IEA,ISO,IMP,IMP ISS,IDA IMP ISO IEA,IDA IMP ISO IEA,ISO IBA,IMP ISS IEA,IBA,ISS NAS IEA,IMP ISS IBA IEA,IDA IMP,IGI,IMP,IEA,IDA IMP,IDA IMP IGI ISS IEA,ISS ISO,IDA IMP ISO IEA,IDA IGI ISS ISO IBA IEA,ISO,IEA,IGI ISO IBA IEA,IDA IMP,IMP ISO IEA,IEA,IMP IEA,IDA IMP ISS ISO,IDA IMP,IEA,IEA,IDA IMP ISS ISO IEA,ISS ISO IEA,ISS ISO IEA,IMP IGI,IEA,IEA,IDA IMP IGI ISS ISO IBA NAS,ISS IEA,IMP,ISO IEA,ISS IEA,IMP IGI ISO IBA IEA,IDA IMP IBA,IDA IEA,IEA,IEA,IDA ISO IBA IEA,ISO,IEA,IDA IMP IEA,IEA,IDA IMP,IMP,IEA,ISO IEA,IDA IMP IBA,IDA IGI IEA,ISO IEA,IDA IMP IEP ISS IEA,NAS,ISS ISO IEA,IMP,IEA,IMP,ISS IEA,ISS IEA,IDA IGI IBA,IMP IBA,ISO,IMP,IMP,EXP IDA IMP ISS ISO IEA,ISS IEA,ISO,ISO IEA,IMP,IBA,IEA,ISO IEA,IDA IMP NAS,ISO IBA,IGI IBA,IMP IGI ISS ISO IEA,IBA IEA,ISO,IEP,IDA IMP,IGI,IMP,ISO,IEA,IMP IGI ISS ISO IBA IEA,EXP IDA IMP,IDA IBA,IEA,IEA,IEA,IDA IGI IEA,IDA IBA,IEA,IGI,ISS IEA,IMP,ISS IBA IEA,IMP IGI ISS ISO IBA IEA,IMP ISO IEA,ISS",
         "Map2k6,Smurf2,Abr,Shank2,Nr3c2,Chn2,Dapk1,Tgfbr3,Magi2,Bclaf1,Pik3r1,Afdn,Cyth1,Ep300,Phip,Myo5a,Rfx3,Crebrf,Stxbp1,Braf,Gria4,Rora,Ntrk3,Socs5,Ldlrad4,Chrm3,Onecut2,Auts2,Slit3,Rc3h1,Ptprj,Pex5l,Htr2c,Rgs7,Dlgap1,Map1b,Gria1,Tnr,Wfs1,Herc4,Sox11,Rasgrf1,Stxbp5,Znrf1,Peli2,Prkcb,Ptk2,Sipa1l1,Gnaq,Clec16a,Fbxo8,Grin2a,Aak1,Rian,Cdk13,Brd4,Grik2,Arhgap44,Scai,Ube2k,Epn2,Rictor,Suz12,Ubr5,Btrc,Map3k10,Apba2,Chsy1,Crebbp,Phlpp1,Lrrc4c,Epha4,Trio,Ephb1,Ica1,Gprasp1,Appl1,Mid1,Gas2,Fnip2,Tsc22d1,Ankrd6,Nxn,Synpr,Celf4,Hipk3,Oprm1,Usp4,Fgd4,Cadm1,Vps13a,Mctp1,Pik3ca,Rhot1,Reln,Grm8,Sez6,Erbb4,Schip1,Pcsk5,Mir124-2hg,Slc24a4,Cry2,Cbfa2t2,Akap6,Crbn,Ptpn1,Stxbp5l,Arhgef2,Rap1gap,Traip,Camta1,Foxo1,Cplx2,Cdh13,Cep63,Zfyve28,Fam20c,Ror1,Gsk3b,Igsf11,Atxn3",
         "STR_D2_GABA",
         "gene",
         "TFmoudule1",
         "F",
         "GO:0010646_regulation of cell communication",
         "go0010646_regulation of cell communication",
         "12"
        ],
        [
         "8",
         "True",
         "6.72245090737188e-16",
         "6095",
         "377",
         "167",
         "0.442970822281167",
         "0.0273995077932732",
         "GO:0048522",
         "GO:BP",
         "positive regulation of cellular process",
         "25907",
         "12638",
         "GO:0009987/GO:0048518/GO:0050794",
         "IDA IMP IGI ISO IEA,IEA,IEA,ISO,ISO IEA,IGI,IMP IEA,IEA,IBA,IDA IBA,IDA IMP ISO IEA,ISO IBA IEA,IEA,ISS ISO IEA,ISO,ISO IBA IEA,ISS IEA,ISO,IDA IMP IGI ISS ISO IEA,ISS,IEA,ISO,IDA ISO IBA IEA,IDA IPI IGI ISS ISO IBA IEA,IEA,ISO,IMP IGI IEA,IDA IGI ISO IBA IEA,IDA IMP IEA,IMP ISS IEA,IDA IBA IEA,IBA IEA,IDA ISO IEA,IDA IMP IGI ISO IEA,ISS ISO IBA IEA,ISO,IDA IGI ISS ISO IEA,IDA IGI ISO IBA IEA,IDA IEA,IDA IMP,IDA IMP,IDA IGI IEA,IMP ISO IEA,ISO,ISO IBA IEA,IDA IMP IBA TAS IEA,IDA IMP IGI ISS IEA,IEA,IDA,ISO,IDA IMP ISO IEA,ISO IEA,ISO IEA,ISO IEA,IMP,IMP ISS TAS IEA,ISO IBA,IDA IMP ISS ISO IBA IEA,ISS ISO,IMP IEA,IDA,IEA,IMP,IEA,IEA,ISS ISO,IDA IMP IEA,IMP ISS ISO IBA IEA,IEA,IMP IGI ISO,IEA,IEA,IMP IEA,IBA,IMP IGI ISS ISO IBA,ISS IEA,IDA IMP,ISS ISO IBA IEA,IBA,IMP ISS ISO IEA,ISO IEA,ISO IEA,TAS NAS,IDA,ISS IEA,IEA,IDA IMP ISO IEA,IEA,IMP ISO IBA NAS IEA,IMP,IEA,IMP,IMP ISS IEA,ISO IBA,ISO IBA IEA,IMP,ISO IEA,ISO,IBA IEA,IDA,IDA IGI IEA,IEA,IEA,ISO,IDA,IDA IGI ISO IEA,IBA IEA,IMP,ISS ISO IEA,ISS IEA,IDA IMP ISS IEA,IDA ISS IEA,ISO NAS IEA,IMP ISS IEA,IEA,IEA,ISS IEA,IMP ISS IBA IEA,ISS IEA,IDA IBA,ISS IEA,IMP ISS ISO,ISS IEA,ISO,IDA IBA IEA,IEA,ISO,ISO IEA,ISO,IDA IMP,ISS IEA,IMP IEA,IDA IEA,IDA,ISS IEA,ISS ISO IBA IEA,IDA,IEA,IEA,IMP IGI ISS ISO IBA IEA,IBA IEA,ISO,IEA,IDA ISO IEA,IEP,IMP,IEA,ISO IEA,ISO IEA,IEA,IMP IEA,ISO IEA,IDA ISO NAS IEA,IEA,IMP ISS IBA IEA,IMP,IDA IEA,IDA IMP IGI ISS ISO IEA,IEA,IMP,IDA,ISS IBA IEA,IMP IEA,IEA,IEA,IDA IMP IGI ISO IBA IEA,IMP ISO IEA",
         "Map2k6,Frmd4a,Smurf2,Ppp2r2b,Bcl11a,Abr,Shank2,Nr3c2,Plxna4,Zfp462,Lrrtm3,Dapk1,Tgfbr3,Magi2,Zbtb38,Bclaf1,Nsd3,Trpm7,Pik3r1,Tenm1,Irf2,Afdn,Syndig1,Ep300,Phip,Myo5a,Atrx,Mef2a,Rfx3,Crebrf,Nr2c2,Ssbp2,Stxbp1,Braf,Clip1,Gria4,Rora,Ntrk3,Socs5,Chrm3,Esrrg,Onecut2,Auts2,Mprip,Ccnd2,Rc3h1,Ptprj,Adgrl2,Zfp148,Pex5l,Htr2c,Rgs7,Map1b,Gria1,Tnr,Wfs1,Map6,Sox11,Rasgrf1,Pkd2,Stxbp5,Znrf1,Ablim1,Zfhx3,Peli2,Cacnb2,Prkcb,Ptk2,Magi1,Gnaq,Mlxip,Zfat,Clec16a,Med12l,Grin2a,Aak1,Atp8a1,Cdk13,Plxna2,Brd4,Sgms1,Grik2,Pbrm1,Tcf20,Plce1,Ube2k,Tcf12,Epn2,Rictor,Suz12,Ubr5,Fbxw4,Btrc,Pacsin1,Map3k10,Chsy1,Nsf,Slk,Rab27a,Lcor,Pou2f1,Ckap5,Crebbp,Phlpp1,Lrrtm4,Epha4,Kctd17,Ephb1,Eif2b5,Zer1,Kat7,Rufy3,Epc2,Appl1,Zfp62,Mid1,Fnip2,Tsc22d1,Smc6,Ankrd6,Celf4,Oprm1,Usp4,Fgd4,Cadm1,L3mbtl3,Dcx,Pik3ca,Snx27,Reln,Epb41,Slc4a4,Plag1,Dmtn,Epb41l2,Hrk,Sertad2,Rps6ka3,Dpp10,Erbb4,Schip1,Pcsk5,Gab2,Tef,Mir124-2hg,Slc24a4,Cbfa2t2,Akap6,Crbn,Golga4,Ptpn1,Trim46,Smarcd3,Kcnip2,Arhgef2,Rap1gap,Camta1,Foxo1,Cdh13,Dip2b,Fam20c,Ror1,Ftx,Dock7,Fnbp1l,Gsk3b,Igsf11",
         "STR_D2_GABA",
         "gene",
         "TFmoudule1",
         "F",
         "GO:0048522_positive regulation of cellular process",
         "go0048522_positive regulation of cellular process",
         "12"
        ],
        [
         "9",
         "True",
         "1.54680128457831e-15",
         "2108",
         "362",
         "84",
         "0.232044198895028",
         "0.0398481973434535",
         "GO:0032879",
         "GO:BP",
         "regulation of localization",
         "25907",
         "7819",
         "GO:0050789/GO:0051179",
         "ISO IEA,IMP IEA,IGI,IMP ISS ISO IBA IEA,IMP,IDA ISS ISO IEA,IMP IEA,IDA IMP ISS IEA,ISS,IBA,ISO IEA,ISO,IDA,IMP,IDA ISO IEA,IMP IEA,IDA IMP,IGI,ISO,IMP ISO IBA IEA,ISO IEA,IMP,IEA,ISS IEA,IMP,IMP IBA IEA,IDA IMP,IEA,IDA,ISS ISO IEA,IDA IMP ISS ISO IEA,ISO,IMP IGI ISO,ISS ISO,ISS ISO IBA IEA,IEA,IDA,IEA,IDA IMP,IBA,ISO,IEA,IDA ISO IBA,ISO,IBA IEA,IDA,IEA,IEA,IDA IBA,IDA,IBA NAS,IDA,IMP ISS IEA,IBA IEA,ISS ISO IEA,ISO,ISO IBA IEA,IEA,ISO IEA,IMP IEA,ISO,IMP,ISO,IMP ISS IEA,ISO,IMP,ISS IEA,IEA,IEA,IGI ISO,IGI IEA,ISO IEA,IMP ISO IEA,ISS IEA,EXP IDA IMP,IMP ISO IEA,IMP,IMP ISS ISO IBA IEA,IMP,IDA IMP,IDA,IMP,IDA IMP IBA,IEA",
         "Map2k6,Frmd4a,Abr,Kcnip4,Dapk1,Magi2,Cacna2d1,Pik3r1,Tenm1,Afdn,Ep300,Myo5a,Mef2a,Rfx3,Stxbp1,Braf,Chrm3,Ptprj,Pex5l,Htr2c,Rgs7,Map1b,Gria1,Wfs1,Sox11,Pkd2,Stxbp5,Znrf1,Astn2,Cacnb2,Prkcb,Ptk2,Gnaq,Grin2a,Aak1,Snap91,Atp8a1,Prkg1,Arhgap44,Plce1,Epn2,Ubr5,Pacsin1,Nsf,Rab27a,Dennd5b,Crebbp,Dnajc13,Gpm6b,Kat7,Ica1,Rufy3,Appl1,Nkain2,Oprm1,Dcx,Mctp1,Pik3ca,Rhot1,Gapvd1,Snx27,Reln,Grm8,Epb41,Entpd1,Dmtn,Epb41l2,Tbc1d4,Dpp10,Erbb4,Cry2,Akap6,Crbn,Ptpn1,Stxbp5l,Trim46,Cers1,Kcnip2,Rap1gap,Gsg1l,Foxo1,Sptbn4,Cplx2,Cdh13",
         "STR_D2_GABA",
         "gene",
         "TFmoudule1",
         "F",
         "GO:0032879_regulation of localization",
         "go0032879_regulation of localization",
         "12"
        ],
        [
         "10",
         "True",
         "1.992414624808481e-15",
         "5309",
         "378",
         "152",
         "0.402116402116402",
         "0.0286306272367678",
         "GO:0051179",
         "GO:BP",
         "localization",
         "25907",
         "13378",
         "GO:0008150",
         "ISO IEA,IMP IEA,ISO,IGI,IMP ISS ISO IBA IEA,IMP,IMP,IDA IMP ISS ISO IBA IEA,IMP IBA IEA,IMP ISS ISO IEA,IDA ISO IBA IEA,IDA IMP ISS IEA,ISS,ISS IBA IEA,IMP IBA,IDA ISS ISO IBA IEA,IBA IEA,ISO IEA,IDA IMP ISO IBA TAS IEA,IMP,IDA IMP,IBA IEA,IMP,NAS IEA,IDA IMP ISO IBA TAS IEA,IMP IEA,IMP,IEA,IEA,IDA IMP IEA,ISO,IGI,IDA ISO IBA IEA,IMP ISO IBA IEA,IBA IEA,ISO IEA,ISO,IMP ISS ISO IBA IEA,IMP,IMP ISO IEA,ISS IEA,ISS ISO IBA IEA,IMP,IDA IMP IBA IEA,IDA IMP IEP ISO IBA IEA,IEA,IBA IEA,IEA,IDA IEA,ISS ISO IEA,IDA IMP ISS ISO IEA,IEA,IDA ISO,IMP IGI ISO,IBA,IEA,IBA IEA,IMP IGI ISS ISO IEA,IDA IMP ISS ISO IBA IEA,IEA,EXP IDA IMP IEP ISS IBA IEA,TAS,IEA,IMP,ISO IEA,IDA IMP IBA,IBA IEA,IBA,IDA ISO IBA IEA,IEA,ISO IBA IEA,IEA,IMP ISS IBA TAS IEA,ISS IBA IEA,IDA IMP ISO IBA IEA,IEA,IDA ISS ISO IBA IEA,IMP IBA IEA,IDA,IEA,IBA IEA,IDA IMP,IMP ISS ISO IBA IEA,IDA IBA IEA,IDA,IBA NAS IEA,IDA,ISS IEA,IMP ISS IEA,IEA,IBA IEA,IMP ISO IBA IEA,ISS IEA,ISS ISO IEA,IBA IEA,ISS IEA,IBA IEA,IBA,ISO,ISO IBA IEA,IEA,ISS ISO IBA IEA,IMP IEA,IMP ISS ISO IBA IEA,IMP,ISO,IMP ISS IEA,IDA IGI ISS IBA IEA,ISO,IMP,IMP,ISS IEA,IDA IMP ISS ISO IBA IEA,ISO,ISO IBA IEA,IEA,IEA,IDA IMP IGI ISO IEA,ISO IEA,ISO IBA IEA,IBA,IMP ISS IEA,IEA,IDA IBA IEA,IEA,IPI IGI IEA,IDA IBA IEA,IEA,ISO IEA,IBA,IMP ISO IEA,ISS IBA IEA,ISS IEA,EXP IDA IMP IBA IEA,IMP ISO IBA IEA,ISS IEA,IMP,IMP ISS ISO IBA IEA,IMP,IMP,IMP IBA IEA,IDA IMP,IDA,IMP,IDA IMP ISO IBA IEA,IEA,IMP,IMP,IEA,IDA IMP IGI ISS ISO IEA,ISO IEA,ISS ISO IBA IEA",
         "Map2k6,Frmd4a,Ppp2r2b,Abr,Kcnip4,Sgcd,Dapk1,Magi2,Hcn1,Cacna2d1,Trpm7,Pik3r1,Tenm1,Kcnh5,Afdn,Syndig1,Kcne4,Ep300,Myo5a,Atrx,Mef2a,Cntln,Rfx3,Ahctf1,Stxbp1,Braf,Clip1,Mical3,Gria4,Chrm3,Mprip,Ptprj,Pex5l,Htr2c,Scn9a,Rgs7,Dlgap1,Gabrb3,Map1b,Gria1,Wfs1,Map6,Sox11,Pkd2,Stxbp5,Slc35f1,Spns2,Znrf1,Astn2,Cacnb2,Prkcb,Slc22a23,Ptk2,Gnaq,Clec16a,Cux1,Tnpo1,Grin2a,Aak1,Snap91,Atp8a1,Chic2,Prkg1,Plxna2,Grik2,Arhgap44,Atp13a3,Plce1,Slc24a5,Got2,Epn2,Ubr5,Sec23a,Hcn2,Pacsin1,Apba2,Nsf,Rab27a,Dennd5b,Crebbp,Dnajc13,Lrrtm4,Slc44a1,Gpm6b,Kat7,Ica1,Rufy3,Gprasp1,Appl1,Mid1,Nkain2,Vps54,Kcnmb4,Oprm1,Gabra5,Usp4,Vps13a,Pard3b,Dcx,Mctp1,Pik3ca,Rhot1,Gapvd1,Snx27,Reln,Grm8,Epb41,Slc4a4,Entpd1,Dmtn,Epb41l3,Epb41l2,Kcnd2,Arhgef9,Kcnh7,Tbc1d4,Dpp10,Erbb4,Gulp1,Trpm3,Rhobtb2,Tmem175,Scn8a,Slc24a4,Lrp1b,Cry2,Myo1b,Tor1aip2,Akap6,Sgtb,Crbn,Golga4,Ptpn1,Stxbp5l,Trim46,Osbpl2,Cers1,Kcnip2,Arhgef2,Rap1gap,Uvrag,Gsg1l,Foxo1,Sptbn4,Cplx2,Cdh13,Cep63,Dst,Fnbp1l,Gsk3b,Igsf11,Dync1i1",
         "STR_D2_GABA",
         "gene",
         "TFmoudule1",
         "F",
         "GO:0051179_localization",
         "go0051179_localization",
         "12"
        ],
        [
         "11",
         "True",
         "2.09489095760684e-15",
         "6447",
         "377",
         "172",
         "0.456233421750663",
         "0.0266790755390104",
         "GO:0048518",
         "GO:BP",
         "positive regulation of biological process",
         "25907",
         "12634",
         "GO:0008150/GO:0050789",
         "IDA IMP IGI ISO IEA,IEA,IEA,ISO,ISO IEA,IGI,IMP IEA,IEA,IBA,IDA IBA,IDA IMP ISO IEA,ISO IBA IEA,IEA,IDA ISS ISO IEA,ISO,ISO,ISO IBA IEA,ISS IEA,ISO,IDA IMP IGI ISS ISO IEA,ISS,ISO IEA,ISO,IDA ISO IBA IEA,IDA IPI IGI ISS ISO IBA IEA,IEA,ISO,IMP IGI IEA,IDA IGI ISO IBA IEA,IDA IMP IEA,IMP ISS IEA,IDA IMP IBA IEA,IBA IEA,IDA ISO IEA,IDA IMP IGI ISO IEA,ISS ISO IBA IEA,ISO,IDA IGI ISS ISO IEA,IDA IGI ISO IBA IEA,IDA IEA,IDA IMP ISO IEA,IDA IMP,IDA IGI IEA,IMP ISO IEA,ISO,ISO IBA IEA,IDA IMP IBA TAS IEA,IDA IMP IGI ISS IEA,IEA,IDA,ISO,IDA IMP ISO IEA,ISO IEA,ISO IEA,ISO IEA,IMP,IMP ISS TAS IEA,ISO IBA,IDA IMP ISS ISO IBA IEA,ISS ISO,IMP IEA,IDA,IEA,IMP,IEA,IEA,ISS ISO NAS IEA,IDA IMP IEA,IDA IMP ISS ISO IBA IEA,IEA,IMP IGI ISO,IEA,IEA,IMP IEA,IBA,IMP IGI ISS ISO IBA,ISS IEA,IDA IMP,IEA,ISS ISO IBA IEA,IBA,IMP ISS ISO IEA,ISO IEA,ISO IEA,ISO TAS NAS IEA,IDA,ISS IEA,IEA,IDA IMP ISO IEA,IEA,IMP ISO IBA NAS IEA,IMP,IEA,IMP,IMP ISS IEA,ISO IBA,ISO IBA IEA,IMP,ISO IEA,ISO,IBA IEA,IDA,IDA IGI IEA,IDA,IEA,IEA,ISO,IDA,IDA IGI ISO IEA,IBA IEA,ISS IEA,IMP,ISS ISO IEA,ISS IEA,IDA IMP ISS IEA,IDA ISS IEA,ISO NAS IEA,IMP ISS IEA,IEA,IEA,ISS IEA,IMP ISS IBA IEA,ISS IEA,IDA IBA,ISS IEA,IMP ISS ISO,ISS IEA,ISO,IDA IBA IEA,IEA,ISO,ISO IEA,ISO,IDA IMP,ISS IEA,IMP IEA,IDA IEA,IDA IMP,ISS IEA,ISS ISO IBA IEA,IDA,IMP IEA,IEA,IMP IGI ISS ISO IBA IEA,IBA IEA,ISO,IEA,IDA ISO IEA,IEP,IMP,IEA,ISO IEA,ISO IEA,IEA,IMP IEA,ISO IEA,IDA ISO NAS IEA,IEA,IMP ISS IBA IEA,IMP,IDA IEA,IDA IMP IGI ISS ISO IEA,IMP,IEA,IMP,IDA,ISS IBA IEA,IMP IEA,IEA,IEA,IDA IMP IGI ISO IBA IEA,IMP ISO IEA",
         "Map2k6,Frmd4a,Smurf2,Ppp2r2b,Bcl11a,Abr,Shank2,Nr3c2,Plxna4,Zfp462,Lrrtm3,Dapk1,Tgfbr3,Magi2,Hcn1,Zbtb38,Bclaf1,Nsd3,Trpm7,Pik3r1,Tenm1,Irf2,Afdn,Syndig1,Ep300,Phip,Myo5a,Atrx,Mef2a,Rfx3,Crebrf,Nr2c2,Ssbp2,Stxbp1,Braf,Clip1,Gria4,Rora,Ntrk3,Socs5,Chrm3,Esrrg,Onecut2,Auts2,Mprip,Ccnd2,Rc3h1,Ptprj,Adgrl2,Zfp148,Pex5l,Htr2c,Rgs7,Map1b,Gria1,Tnr,Wfs1,Map6,Sox11,Rasgrf1,Pkd2,Stxbp5,Znrf1,Ablim1,Zfhx3,Peli2,Cacnb2,Prkcb,Ptk2,Magi1,Gnaq,Mlxip,Zfat,Clec16a,Med12l,Grin2a,Aak1,Atp8a1,Prkg1,Cdk13,Plxna2,Brd4,Sgms1,Grik2,Pbrm1,Tcf20,Plce1,Ube2k,Tcf12,Epn2,Rictor,Suz12,Ubr5,Fbxw4,Btrc,Pacsin1,Map3k10,Chsy1,Nsf,Slk,Rab27a,Lcor,Pou2f1,Dennd5b,Ckap5,Crebbp,Phlpp1,Lrrtm4,Epha4,Kctd17,Gpm6b,Ephb1,Eif2b5,Zer1,Kat7,Rufy3,Epc2,Appl1,Zfp62,Mid1,Fnip2,Tsc22d1,Smc6,Ankrd6,Celf4,Oprm1,Usp4,Fgd4,Cadm1,L3mbtl3,Dcx,Pik3ca,Snx27,Reln,Epb41,Slc4a4,Plag1,Dmtn,Epb41l2,Hrk,Sertad2,Rps6ka3,Dpp10,Erbb4,Schip1,Pcsk5,Gab2,Tef,Mir124-2hg,Slc24a4,Cbfa2t2,Akap6,Crbn,Golga4,Ptpn1,Trim46,Smarcd3,Kcnip2,Arhgef2,Rap1gap,Camta1,Foxo1,Sptbn4,Cdh13,Dip2b,Fam20c,Ror1,Ftx,Dock7,Fnbp1l,Gsk3b,Igsf11",
         "STR_D2_GABA",
         "gene",
         "TFmoudule1",
         "F",
         "GO:0048518_positive regulation of biological process",
         "go0048518_positive regulation of biological process",
         "12"
        ],
        [
         "12",
         "True",
         "2.7613889352141504e-15",
         "2810",
         "379",
         "102",
         "0.269129287598945",
         "0.0362989323843416",
         "GO:0035556",
         "GO:BP",
         "intracellular signal transduction",
         "25907",
         "9022",
         "GO:0007165",
         "IDA IPI IMP IGI IBA IEA,IEA,IEA,IEA,IEA,IMP,ISS IBA IEA,IDA IBA IEA,IEA,IBA IEA,IDA ISS IEA,IEA,IMP IGI ISS IEA,IEA,ISO,IBA,IEA,ISS IEA,IMP,ISS IEA,ISS,IEP IEA,IDA IMP ISO IBA IEA,ISS IEA,IBA,IEA,ISS IEA,IEA,IBA IEA,IMP,ISS,IDA,IDA IGI ISS IEA,ISS ISO,IDA IEA,IEA,IEA,IMP ISO IBA TAS IEA,IMP,IDA ISS ISO IBA IEA,IEA,IMP IEA,IEA,IMP IBA,ISS ISO,IEA,IEA,IEA,ISO IEA,IEA,IMP IBA,ISS IEA,ISO IEA,IMP IBA,IEA,ISS ISO IBA IEA,IDA,ISO,IDA ISO IBA IEA,IEA,IMP IEA,IEA,IEA,ISO IEA,IDA IEA,ISS IEA,IDA,IEA,IEA,IMP ISS IEA,IBA,IMP,ISS ISO,ISS IEA,IMP IBA,ISO,IEA,IDA IMP ISO IBA IEA,IEA,IDA,TAS,IEA,IGI IBA,IGI ISS IEA,IBA IEA,IBA IEA,IDA,IGI,ISO,IMP IGI ISS IBA IEA,ISS IEA,IDA IBA,IEA,IBA IEA,IEA,IEA,IEA,IGI ISS,ISS IBA IEA,IEA,IDA IMP IGI ISS ISO IBA IEA,ISS",
         "Map2k6,Abr,Shank2,Nr3c2,Chn2,Sgcd,Fhit,Dapk1,Tgfbr3,Rgl1,Magi2,Bclaf1,Pik3r1,Dock9,Irf2,Mok,Cyth1,Ep300,Atrx,Mef2a,Crebrf,Nr2c2,Braf,Rora,Ntrk3,Socs5,Ldlrad4,Chrm3,Esrrg,Auts2,Zfp385b,Rc3h1,Ptprj,Pex5l,Htr2c,Rgs7,Gria1,Wfs1,Sox11,Rasgrf1,Pkd2,Prex2,Peli2,Prkcb,Ptk2,Sipa1l1,Clec16a,Fbxo8,Grin2a,Map3k2,Prkg1,Brd4,Grik2,Arhgap44,Adcy9,Plce1,Scai,Ube2k,Rictor,Ubr5,Btrc,Map3k10,Crebbp,Phlpp1,Epha4,Ephb1,Kat7,Mid1,Spata13,Fnip2,Ankrd6,Hipk3,Oprm1,Usp4,Ncald,Fgd4,Dcx,Pik3ca,Rhot1,Reln,Arhgef9,Rps6ka3,Sez6,Erbb4,Schip1,Rhobtb2,Slc24a4,Cry2,Akap6,Ptpn1,Ppp1r13b,Arhgef2,Rap1gap,Rasgrp2,Camta1,Foxo1,Cdh13,Cep63,Ror1,Dock7,Gsk3b,Atxn3",
         "STR_D2_GABA",
         "gene",
         "TFmoudule1",
         "F",
         "GO:0035556_intracellular signal transduction",
         "go0035556_intracellular signal transduction",
         "12"
        ],
        [
         "13",
         "True",
         "3.227458990671571e-15",
         "1709",
         "362",
         "74",
         "0.204419889502762",
         "0.0433001755412522",
         "GO:0051049",
         "GO:BP",
         "regulation of transport",
         "25907",
         "13286",
         "GO:0006810/GO:0032879",
         "ISO IEA,IMP IEA,IGI,IMP ISS ISO IBA IEA,IMP,IDA ISS IEA,IMP IEA,IMP ISS IEA,ISS,ISO IEA,ISO,IDA,IMP,IDA ISO IEA,IMP IEA,IDA IMP,IGI,ISO,IMP ISO,ISO IEA,IMP,IEA,ISS IEA,IMP,IEA,IDA IMP,IEA,ISS ISO IEA,IDA IMP ISS ISO IEA,ISO,IMP IGI ISO,ISS ISO,ISS ISO IBA IEA,IEA,IDA,IEA,IDA IMP,ISO,IEA,IDA ISO IBA,ISO,IBA IEA,IDA,IEA,IDA IBA,IBA NAS,IDA,IMP ISS IEA,IBA IEA,ISS ISO IEA,ISO,ISO IBA IEA,ISO IEA,IMP IEA,IMP,ISO,IMP,ISO,IEA,ISO,IGI IEA,ISO IEA,IMP ISO IEA,ISS IEA,EXP IDA IMP,ISO IEA,IMP,IMP ISS ISO IBA IEA,IMP,IDA IMP,IDA,IMP,IDA IMP IBA,IEA",
         "Map2k6,Frmd4a,Abr,Kcnip4,Dapk1,Magi2,Cacna2d1,Pik3r1,Tenm1,Ep300,Myo5a,Mef2a,Rfx3,Stxbp1,Braf,Chrm3,Ptprj,Pex5l,Htr2c,Rgs7,Map1b,Gria1,Wfs1,Sox11,Pkd2,Stxbp5,Znrf1,Cacnb2,Prkcb,Ptk2,Gnaq,Grin2a,Aak1,Snap91,Atp8a1,Prkg1,Arhgap44,Epn2,Ubr5,Pacsin1,Nsf,Rab27a,Dennd5b,Dnajc13,Gpm6b,Ica1,Rufy3,Appl1,Nkain2,Oprm1,Dcx,Mctp1,Rhot1,Gapvd1,Reln,Grm8,Epb41,Entpd1,Tbc1d4,Erbb4,Cry2,Akap6,Crbn,Ptpn1,Stxbp5l,Trim46,Cers1,Kcnip2,Rap1gap,Gsg1l,Foxo1,Sptbn4,Cplx2,Cdh13",
         "STR_D2_GABA",
         "gene",
         "TFmoudule1",
         "F",
         "GO:0051049_regulation of transport",
         "go0051049_regulation of transport",
         "12"
        ],
        [
         "14",
         "True",
         "4.0593073423566105e-15",
         "1931",
         "376",
         "81",
         "0.215425531914894",
         "0.0419471776281719",
         "GO:0022008",
         "GO:BP",
         "neurogenesis",
         "25907",
         "6530",
         "GO:0007399/GO:0030154",
         "IMP,ISO IBA IEA,IMP IBA,IMP IGI IBA,ISS ISO,IMP,IMP IBA,IBA,IGI ISO,ISO IEA,ISO,IMP,IDA IMP IGI,ISO,IMP,IMP IGI ISO IBA,IGI,IMP,IMP,IDA IBA IEA,IMP,IMP,IMP,IDA IMP IBA IEA,IMP IGI ISS ISO IBA IEA,IDA IMP,ISS ISO IBA IEA,IDA,IDA IMP ISO IBA IEA,IDA,IMP,TAS,IDA,IEA,IBA IEA,IDA IMP ISO,IDA ISS ISO,IMP,IBA,IMP,IMP,IBA,IMP IBA,ISO IEA,IDA,IMP,ISS ISO IBA IEA,ISS IBA IEA,IDA IMP IGI ISO IBA IEA,ISS IBA IEA,IBA,IDA IMP ISO IBA IEA,ISS IEA,IDA IMP ISS ISO IBA,ISS ISO IEA,IMP,IMP,IMP,IMP,IDA IGI IBA IEA,IMP,IMP IGI ISO IEA,IDA IMP IGI ISO IBA NAS IEA,IDA,IMP,IMP IBA,IMP IBA,ISS IEA,IEA,IEA,IDA IMP ISO IBA IEA,IEA,ISO IEA,IMP IBA IEA,ISO IEA,IMP IBA,IMP,ISO IBA IEA,IEA,IMP,IMP IGI ISS ISO IBA IEA",
         "Bahcc1,Bcl11a,Dscaml1,Plxna4,Magi2,Hcn1,Vax1,Tenm1,Afdn,Ep300,Mef2a,Stxbp1,Braf,Clip1,Rora,Ntrk3,Dleu2,Onecut2,Auts2,Slit3,Ptprj,Prickle2,Gabrb3,Astn1,Map1b,Tnr,Map6,Sdk2,Sox11,Rasgrf1,Prex2,Stxbp5,Ablim1,Zfhx3,Astn2,Ptk2,Sipa1l1,Gnaq,Fry,Grin2a,Prkg1,Plxna2,Arhgap44,Pbrm1,Tcf12,Suz12,Pacsin1,Lrrc4c,Epha4,Trio,Gpm6b,Ephb1,Eif2b5,Rufy3,Camsap2,Vps54,Fa2h,Oprm1,Gabra5,Unc5d,Vps13a,Dcx,Reln,Plag1,Epb41l3,Sez6,Erbb4,Cbfa2t2,Golga4,Ptpn1,Trim46,Smarcd3,Kcnip2,Arhgef2,Rap1gap,Sptbn4,Dip2b,Ror1,Dock7,Dst,Gsk3b",
         "STR_D2_GABA",
         "gene",
         "TFmoudule1",
         "F",
         "GO:0022008_neurogenesis",
         "go0022008_neurogenesis",
         "12"
        ],
        [
         "15",
         "True",
         "7.616673613947461e-15",
         "898",
         "377",
         "53",
         "0.140583554376658",
         "0.0590200445434298",
         "GO:0034330",
         "GO:BP",
         "cell junction organization",
         "25907",
         "8509",
         "GO:0016043",
         "IEA,IMP ISO IEA,IDA IMP,IDA IEA,IBA,IDA ISO IEA,IDA ISO,IDA IMP ISO,IDA ISO IBA IEA,IMP,IDA ISO,IDA IMP IBA,ISS IEA,IEA,IDA IMP,IEA,IDA IEA,IDA IMP IEA,IMP,IMP,IMP ISS IBA,IBA,IDA IMP,ISS ISO,ISO,IDA IMP IBA,ISS IEA,IDA IMP ISO IEA,IDA IMP IEP IBA IEA,EXP IDA IMP IGI ISO IEA,ISS IEA,IMP,IEA,IDA IEA,IBA,ISS IBA,IDA IMP IEP,IDA IMP,ISO IEA,IDA IMP,IMP,IMP,IDA IMP IBA,IGI IBA,IDA IMP ISO,IEA,IEA,IMP,IBA,IEA,IBA,ISO,IDA IMP",
         "Daam1,Shank2,Plxna4,Lrrtm3,Cdh18,Magi2,Pik3r1,Afdn,Syndig1,Myo5a,Ntrk3,Cdh8,Ptprj,Adgrl2,Prickle2,Dlgap1,Gabrb3,Map1b,Gria1,Tnr,Sdk2,Cacnb2,Ptk2,Sipa1l1,Grin2a,Arhgap44,Slk,Lrrtm4,Lrrc4c,Epha4,Gpm6b,Ephb1,Appl1,Arhgap6,Gabra5,Plekha7,Cadm1,Dcx,Snx27,Reln,Dmtn,Epb41l3,Arhgef9,Sez6,Erbb4,Tln2,Ptpn1,Sptbn4,Cdh13,Cdh9,Dst,Gsk3b,Igsf11",
         "STR_D2_GABA",
         "gene",
         "TFmoudule1",
         "F",
         "GO:0034330_cell junction organization",
         "go0034330_cell junction organization",
         "12"
        ],
        [
         "16",
         "True",
         "8.89616466716061e-15",
         "3180",
         "364",
         "106",
         "0.291208791208791",
         "0.0333333333333333",
         "GO:0065008",
         "GO:BP",
         "regulation of biological quality",
         "25907",
         "15667",
         "GO:0065007",
         "IMP,IMP ISO IEA,IMP IBA,IDA IEA,ISO,EXP IDA IMP ISO IBA IEA,ISS ISO IEA,ISS ISO IEA,IBA,IDA IMP ISO,IDA ISO IBA IEA,IBA IEA,IDA ISS ISO IEA,IMP,IMP,IMP ISO IEA,IMP,IEA,IDA IGI ISO,IDA IMP ISO IEA,IDA IMP,IDA IMP IBA TAS IEA,IMP IEA,IEA,IDA IMP,IDA IGI ISO,IMP ISO,ISS ISO IBA IEA,IDA IMP,IMP,IDA IMP ISO IEA,IGI ISO IEA,IDA IMP,IMP ISS ISO IEA,IMP,IMP ISS ISO,ISO IEA,ISS IEA,IDA,IDA IMP ISS ISO IEA,ISS ISO,IMP IGI IBA IEA,IMP,IDA IMP IGI ISS ISO IBA NAS IEA,ISS IEA,IDA IMP ISS IBA IEA,IMP ISS IEA,IBA,IDA IMP IGI ISO IEA,IDA IMP IBA,IMP,IBA IEA,IMP,IDA IGI IBA IEA,ISS IEA,ISO,IMP,IEA,IDA IMP,IMP IGI ISO IEA,IMP,IDA,IEA,IMP,ISS IEA,ISS ISO,IBA IEA,ISS IEA,IMP,ISO IEA,ISO,IMP,IDA IMP ISO,IMP,ISS IEA,IDA IMP IEP IEA,IDA IMP NAS,ISS,IMP IBA IEA,IDA ISS IEA,IDA ISS IEA,IMP,ISS,IMP ISS ISO IBA IEA,IBA,IMP,IDA IMP IEA,IGI,IDA IBA,IMP ISS IEA,IEA,IEP,IMP,IGI,IEA,IEA,IEA,IDA,ISO IEA,ISO IEA,IDA IMP,IDA,IMP IEA,IDA,IMP,ISS IEA",
         "Abr,Shank2,Plxna4,Lrrtm3,Magi2,Hcn1,Cacna2d1,Pik3r1,Kcnh5,Afdn,Syndig1,Kcne4,Ep300,Myo5a,Rfx3,Stxbp1,Braf,Gria4,Ntrk3,Chrm3,Cdh8,Rc3h1,Ptprj,Adgrl2,Prickle2,Pex5l,Htr2c,Scn9a,Rgs7,Gabrb3,Map1b,Gria1,Tnr,Wfs1,Sox11,Rasgrf1,Pkd2,Cacnb2,Prkcb,Ptk2,Sipa1l1,Gnaq,Clec16a,Grin2a,Aak1,Atp8a1,Prkg1,Plxna2,Grik2,Arhgap44,Pdss2,Zc3h14,Rictor,Hcn2,Btrc,Pacsin1,Rab27a,Crebbp,Lrrtm4,Epha4,Ephb1,Rufy3,Gas2,Celf4,Kcnmb4,Oprm1,Gabra5,Usp4,Ncald,Plekha7,Fgd4,Vps13a,Dcx,Pik3ca,Rhot1,Snx27,Reln,Epb41,Slc4a4,Entpd1,Dmtn,Epb41l3,Epb41l2,Kcnd2,Kcnh7,Sez6,Erbb4,Schip1,Pcsk5,Tmem175,Scn8a,Mir124-2hg,Slc24a4,Cry2,Akap6,Golga4,Ptpn1,Stxbp5l,Trim46,Kcnip2,Gsg1l,Foxo1,Sptbn4,Cplx2,Dip2b,Cep63",
         "STR_D2_GABA",
         "gene",
         "TFmoudule1",
         "F",
         "GO:0065008_regulation of biological quality",
         "go0065008_regulation of biological quality",
         "12"
        ],
        [
         "17",
         "True",
         "8.949981384675791e-15",
         "1672",
         "376",
         "74",
         "0.196808510638298",
         "0.0442583732057416",
         "GO:0048699",
         "GO:BP",
         "generation of neurons",
         "25907",
         "12789",
         "GO:0022008",
         "IMP,ISO IBA IEA,IMP IBA,IMP IGI IBA,ISS ISO,IMP,IMP IBA,IBA,ISO,ISO IEA,ISO,IMP,IDA IMP IGI,ISO,IMP,IMP IGI ISO IBA,IGI,IMP,IMP,IDA IBA IEA,IMP,IMP,IDA IMP IBA IEA,IMP IGI ISS ISO IBA IEA,IDA IMP,ISS ISO IBA IEA,IDA,IDA IMP ISO IBA IEA,IDA,IMP,TAS,IDA,IEA,IBA IEA,IDA IMP,IDA ISS ISO,IMP,IBA,IMP,IBA,IMP IBA,ISO IEA,IDA,ISS ISO IBA IEA,ISS IBA IEA,IDA IMP IGI ISO IBA IEA,ISS IBA IEA,IBA,IDA IMP ISO IBA IEA,IDA IMP ISS ISO IBA,ISS ISO IEA,IMP,IMP,IDA IGI IBA IEA,IMP,IGI ISO IEA,IDA IMP IGI ISO IBA NAS IEA,IMP,IMP IBA,IMP,ISS IEA,IEA,IEA,IDA IMP ISO IBA IEA,IEA,ISO IEA,IMP IBA IEA,ISO IEA,IMP IBA,IMP,IBA,IEA,IMP,IMP IGI ISS ISO IBA IEA",
         "Bahcc1,Bcl11a,Dscaml1,Plxna4,Magi2,Hcn1,Vax1,Tenm1,Afdn,Ep300,Mef2a,Stxbp1,Braf,Clip1,Rora,Ntrk3,Dleu2,Onecut2,Auts2,Slit3,Prickle2,Gabrb3,Astn1,Map1b,Tnr,Map6,Sdk2,Sox11,Rasgrf1,Prex2,Stxbp5,Ablim1,Zfhx3,Astn2,Ptk2,Sipa1l1,Gnaq,Fry,Prkg1,Plxna2,Arhgap44,Pbrm1,Tcf12,Pacsin1,Lrrc4c,Epha4,Trio,Gpm6b,Ephb1,Rufy3,Camsap2,Vps54,Gabra5,Unc5d,Vps13a,Dcx,Reln,Epb41l3,Sez6,Erbb4,Cbfa2t2,Golga4,Ptpn1,Trim46,Smarcd3,Kcnip2,Arhgef2,Rap1gap,Sptbn4,Dip2b,Ror1,Dock7,Dst,Gsk3b",
         "STR_D2_GABA",
         "gene",
         "TFmoudule1",
         "F",
         "GO:0048699_generation of neurons",
         "go0048699_generation of neurons",
         "12"
        ],
        [
         "18",
         "True",
         "1.658345170361e-14",
         "1053",
         "376",
         "57",
         "0.151595744680851",
         "0.0541310541310541",
         "GO:0000902",
         "GO:BP",
         "cell morphogenesis",
         "25907",
         "238",
         "GO:0009653",
         "ISO IEA,IBA,IMP IGI IBA,IBA,IMP,ISO,IMP IGI ISO,IEA,ISO,IMP,IMP IGI,IGI,IMP,IDA IBA IEA,IBA,ISS IEA,IMP IGI ISO IBA IEA,IDA IMP,ISS ISO IBA IEA,IMP,TAS,IDA,IMP ISS,IMP,IDA ISS ISO,IBA IEA,IMP,IBA,IMP IBA,ISS ISO IBA,ISS IBA IEA,IDA IMP IGI ISO IBA IEA,ISS IBA IEA,IDA IMP IBA,IDA IMP ISS ISO IBA,IEA,IMP,IGI IBA IEA,ISO,IMP,IMP,IGI ISO,IDA IMP,ISS,IDA ISS IEA,IMP,ISS,IMP,IEA,IDA IMP ISO IBA IEA,IDA ISS IBA IEA,IMP IBA,IBA,IMP,IEA,IMP,IGI ISO",
         "Bcl11a,Dscaml1,Plxna4,Cdh18,Vax1,Afdn,Ep300,Phip,Mef2a,Stxbp1,Braf,Ntrk3,Auts2,Slit3,Cdh8,Ptprj,Map1b,Tnr,Map6,Prex2,Stxbp5,Ablim1,Ptk2,Magi1,Sipa1l1,Fry,Prkg1,Plxna2,Arhgap44,Pacsin1,Lrrc4c,Epha4,Trio,Ephb1,Rufy3,Gas2,Vps54,Unc5d,Fgd4,Cadm1,Vps13a,Dcx,Reln,Epb41,Dmtn,Epb41l3,Epb41l2,Ago4,Golga4,Trim46,Arhgef2,Sptbn4,Cdh13,Dip2b,Dock7,Dst,Gsk3b",
         "STR_D2_GABA",
         "gene",
         "TFmoudule1",
         "F",
         "GO:0000902_cell morphogenesis",
         "go0000902_cell morphogenesis",
         "1"
        ],
        [
         "19",
         "True",
         "1.75605414893491e-14",
         "2537",
         "377",
         "94",
         "0.249336870026525",
         "0.0370516357903035",
         "GO:0051128",
         "GO:BP",
         "regulation of cellular component organization",
         "25907",
         "13332",
         "GO:0016043/GO:0050794",
         "ISO IBA IEA,IGI,ISO IEA,IMP IBA,IDA IEA,IEA,ISS ISO IEA,IDA IMP ISO,IDA IMP ISO,IDA ISO IBA IEA,IMP ISO IEA,IMP IEA,ISO IEA,IDA IMP IGI,ISS ISO IBA IEA,IDA IGI ISO IBA,IGI,IMP,IEA,IDA IMP,IGI ISS IEA,IEA,IDA IMP,IDA IMP ISO IBA IEA,IDA IMP,ISO IBA,IDA IMP IEP,IEA,IDA IMP ISO IEA,IDA ISS ISO,IMP IBA IEA,ISS ISO IBA IEA,IEA,IDA,IBA,IMP ISS ISO IBA IEA,NAS,ISS IEA,ISO,IMP NAS IEA,IDA ISO IBA,ISO,ISS IEA,IEA,IEA,IDA IMP,ISS IBA IEA,IDA IMP IGI ISO IEA,IBA IEA,ISS IEA,IMP,IDA ISS ISO,ISO,IDA IMP ISS ISO IBA,ISS,IGI ISS ISO IBA IEA,IMP,IGI IBA,IEA,IEA,IDA IMP ISO,ISO IEA,IMP,IEA,ISO IEA,IDA IMP,IMP ISS IEA,IEA,IDA IMP IBA,ISA IEA,IEA,IMP IBA,IEA,ISO,ISS IEA,ISO,IEA,ISO IEA,IEA,ISS IEA,ISO IEA,IEA,NAS,IMP ISS IEA,IMP IEA,IDA IMP,IEA,IDA IMP,IEA,IMP,IBA,IEA,IDA IMP IGI ISO IBA IEA,IDA IMP",
         "Bcl11a,Abr,Shank2,Plxna4,Lrrtm3,Tgfbr3,Magi2,Pik3r1,Afdn,Syndig1,Ep300,Atrx,Stxbp1,Braf,Clip1,Ntrk3,Dleu2,Auts2,Slit3,Cdh8,Ptprj,Adgrl2,Prickle2,Map1b,Tnr,Map6,Stxbp5,Znrf1,Ptk2,Sipa1l1,Clec16a,Aak1,Snap91,Atp8a1,Plxna2,Arhgap44,Pbrm1,Plce1,Epn2,Rictor,Pacsin1,Nsf,Slk,Rab27a,Ckap5,Lrrtm4,Lrrc4c,Epha4,Kctd17,Gpm6b,Ephb1,Kat7,Ica1,Rufy3,Jade3,Camsap2,Appl1,Mid1,Fnip2,Arhgap6,Dcx,Mctp1,Pik3ca,Rhot1,Snx27,Reln,Dmtn,Hrk,Arhgef9,Sertad2,Tbc1d4,Sez6,Meg3,Pcsk5,Cbfa2t2,Akap6,Clasp2,Crbn,Golga4,Ptpn1,Trim46,Osbpl2,Smarcd3,Arhgef2,Rap1gap,Gsg1l,Sptbn4,Cplx2,Cdh13,Dip2b,Ror1,Fnbp1l,Gsk3b,Igsf11",
         "STR_D2_GABA",
         "gene",
         "TFmoudule1",
         "F",
         "GO:0051128_regulation of cellular component organization",
         "go0051128_regulation of cellular component organization",
         "12"
        ],
        [
         "20",
         "True",
         "2.84163900779906e-14",
         "1588",
         "376",
         "71",
         "0.188829787234043",
         "0.0447103274559194",
         "GO:0030182",
         "GO:BP",
         "neuron differentiation",
         "25907",
         "6666",
         "GO:0030154/GO:0048699",
         "IMP,ISO IBA IEA,IMP IBA,IMP IGI IBA,ISS ISO,IMP,IMP IBA,IBA,ISO,ISO IEA,ISO,IMP,IDA IMP IGI,ISO,IMP,IMP IGI ISO IBA,IGI,IMP,IMP,IDA IBA IEA,IMP,IMP,IMP IGI ISS ISO IBA IEA,IDA IMP,ISS ISO IBA IEA,IDA,IDA IMP ISO IBA IEA,IDA,IMP,TAS,IDA,IEA,IMP,IDA ISS ISO,IMP,IBA,IMP,IBA,IMP IBA,ISO IEA,IDA,ISS ISO IBA IEA,ISS IBA IEA,IDA IMP IGI ISO IBA IEA,ISS IBA IEA,IBA,IDA IMP ISO IBA IEA,IDA IMP ISS ISO IBA,ISS ISO IEA,IMP,IMP,IDA IGI IBA IEA,IMP,IGI ISO,IDA IMP IGI NAS,IMP,IMP IBA,IMP,ISS IEA,IEA,IEA,IDA IMP ISO IBA IEA,ISO IEA,IMP IBA IEA,ISO IEA,IMP IBA,IMP,IBA,IEA,IMP,IMP IGI ISS ISO IBA IEA",
         "Bahcc1,Bcl11a,Dscaml1,Plxna4,Magi2,Hcn1,Vax1,Tenm1,Afdn,Ep300,Mef2a,Stxbp1,Braf,Clip1,Rora,Ntrk3,Dleu2,Onecut2,Auts2,Slit3,Prickle2,Gabrb3,Map1b,Tnr,Map6,Sdk2,Sox11,Rasgrf1,Prex2,Stxbp5,Ablim1,Zfhx3,Ptk2,Sipa1l1,Gnaq,Fry,Prkg1,Plxna2,Arhgap44,Pbrm1,Tcf12,Pacsin1,Lrrc4c,Epha4,Trio,Gpm6b,Ephb1,Rufy3,Camsap2,Vps54,Gabra5,Unc5d,Vps13a,Dcx,Reln,Epb41l3,Sez6,Erbb4,Cbfa2t2,Golga4,Ptpn1,Trim46,Kcnip2,Arhgef2,Rap1gap,Sptbn4,Dip2b,Ror1,Dock7,Dst,Gsk3b",
         "STR_D2_GABA",
         "gene",
         "TFmoudule1",
         "F",
         "GO:0030182_neuron differentiation",
         "go0030182_neuron differentiation",
         "12"
        ],
        [
         "21",
         "True",
         "8.12326661204761e-14",
         "630",
         "377",
         "43",
         "0.114058355437666",
         "0.0682539682539682",
         "GO:0050808",
         "GO:BP",
         "synapse organization",
         "25907",
         "13102",
         "GO:0034330",
         "IEA,IMP ISO IEA,IDA IMP,IDA IEA,IDA ISO IEA,ISO,IDA IMP ISO,IDA ISO IBA IEA,IMP,IDA ISO,IDA IMP,IEA,IDA IMP,IEA,IDA IEA,IDA IMP IEA,IMP,IMP,IMP ISS IBA,IBA,IDA IMP,ISS ISO,ISO,IDA IMP IBA,IDA IMP ISO IEA,IDA IMP IEP IBA IEA,EXP IDA IMP IGI ISO IEA,IMP,IEA,IBA,IDA IMP IEP,IDA IMP,ISO IEA,IDA IMP,IDA IMP IBA,IGI IBA,IDA IMP ISO,IEA,IEA,IMP,IEA,ISO,IDA IMP",
         "Daam1,Shank2,Plxna4,Lrrtm3,Magi2,Pik3r1,Afdn,Syndig1,Myo5a,Ntrk3,Cdh8,Adgrl2,Prickle2,Dlgap1,Gabrb3,Map1b,Gria1,Tnr,Sdk2,Cacnb2,Ptk2,Sipa1l1,Grin2a,Arhgap44,Lrrtm4,Lrrc4c,Epha4,Ephb1,Appl1,Gabra5,Cadm1,Dcx,Snx27,Reln,Arhgef9,Sez6,Erbb4,Tln2,Ptpn1,Sptbn4,Cdh9,Gsk3b,Igsf11",
         "STR_D2_GABA",
         "gene",
         "TFmoudule1",
         "F",
         "GO:0050808_synapse organization",
         "go0050808_synapse organization",
         "12"
        ],
        [
         "22",
         "True",
         "9.512883564264581e-14",
         "6280",
         "377",
         "165",
         "0.437665782493369",
         "0.0262738853503185",
         "GO:0048856",
         "GO:BP",
         "anatomical structure development",
         "25907",
         "12931",
         "GO:0032502",
         "IMP,IMP,IEA,IMP ISO IBA IEA,IMP IGI,IMP,IMP IBA IEA,IMP IGI IBA,IDA IEA,IBA,IMP IBA IEA,IEA,IDA ISS ISO IEA,IMP,IEA,IMP IGI ISO,IMP IGI IBA,IBA,IDA IMP IGI ISO,IDA ISO IBA IEA,IMP IGI ISO NAS IEA,IEA,IDA IMP,IMP,IMP ISO IBA IEA,IMP,IDA IMP IBA IEA,TAS,IMP,IDA IMP IGI,ISO,IMP ISS IEA,IDA IMP IGI ISS ISO IBA IEA,IGI,IDA,ISS IEA,IMP,IMP IGI,IEP IEA,IEA,IMP,IDA IMP IGI IBA IEA,IBA,ISO,IMP IGI,IMP ISS IEA,IDA,IEA,IDA IMP,IMP,IDA IMP IEA,IDA IMP IBA IEA,IDA IMP IGI ISS ISO IBA IEA,IMP IEA,IDA IMP,ISS IEA,ISS ISO IBA IEA,IDA IMP ISS IBA,IDA IMP ISO IBA IEA,IDA,IMP IGI IEA,IMP,TAS,IMP,IDA,IEA,IGI IBA IEA,IMP IEA,IDA IMP ISS ISO IEA,IMP,IGI,IDA ISS ISO,IMP IGI,IMP,IBA IEA,IMP,IMP,IMP IEA,ISS IEA,IMP IEP IBA,IMP,IMP IBA,IMP,IMP ISO TAS NAS IEA,IEA,IMP,IDA IEA,IGI IEA,IMP,IMP IEA,IMP IGI,IMP,ISS ISO IBA IEA,IGI,IMP,IGI,IMP,IDA IMP,ISS IBA IEA,IDA IMP IGI ISO IBA IEA,ISS IBA IEA,ISS IBA IEA,IDA IMP ISS ISO IBA IEA,ISS IEA,IDA IMP,IDA IMP ISS ISO IBA IEA,ISS ISO IEA,IEA,IMP IEA,IMP,IMP,IMP,IMP IEP,IMP ISS IEA,IMP,IMP IBA,IDA IGI IBA IEA,ISO,IDA IMP ISO IEA,IMP,IDA IMP IGI,IDA IMP IGI ISO IEA,IDA IMP IEA,IEA,IDA IMP IGI IEP ISO IBA NAS IEA,ISS,IDA IMP,IDA IMP ISS IEA,IMP,ISS,IDA IMP IBA,IMP IGI IBA,IMP,IDA IMP ISO IBA IEA,IMP IGI,IDA IMP,IMP,IEA,IEA,IEP,IMP,IMP ISS IEA,ISO,IEA,IEA,IDA IMP ISO IBA IEA,IMP IGI,IMP IEP ISO NAS IEA,ISO IEA,IDA IMP ISS IBA IEA,ISO IEA,IMP IEA,IMP IBA,IEA,IBA IEA,IMP IEA,IBA,IMP,IEA,IDA IMP ISS IBA IEA,IMP ISO IBA IEA,IEA,IMP,IDA IMP IGI ISS ISO IBA IEA,IDA IMP",
         "Map2k6,Bahcc1,Smurf2,Bcl11a,Abr,Shank2,Dscaml1,Plxna4,Lrrtm3,Cdh18,Sgcd,Tgfbr3,Magi2,Hcn1,Trps1,Pik3r1,Vax1,Tenm1,Afdn,Syndig1,Ep300,Phip,Myo5a,Atrx,Mef2a,Rfx3,Nr2c2,Ahctf1,Stxbp1,Braf,Clip1,Rora,Ntrk3,Dleu2,Socs5,Ldlrad4,Bbx,Onecut2,Aff3,Mamld1,Auts2,Slit3,Cdh8,Ccnd2,Rc3h1,Ptprj,Basp1,Adgrl2,Prickle2,Scn9a,Gabrb3,Astn1,Map1b,Gria1,Tnr,Wfs1,Map6,Sdk2,Sox11,Rasgrf1,Pkd2,Prex2,Stxbp5,Spns2,Ablim1,Zfhx3,Astn2,Prkcb,Ptk2,Magi1,Ocrl,Sipa1l1,Gnaq,Zfat,Fry,Grin2a,Rian,Prkg1,Cdk13,Plxna2,Brd4,Arhgap44,Adcy9,Pbrm1,Plce1,Pdss2,Tcf12,Epn2,Rictor,Suz12,Fbxw4,Btrc,Pacsin1,Apba2,Chsy1,Pou2f1,Phlpp1,Lrrtm4,Lrrc4c,Epha4,Trio,Gpm6b,Ephb1,Eif2b5,Kat7,Rufy3,Camsap2,Pcdh9,Gas2,Tsc22d1,Nxn,Vps54,Celf4,Fa2h,Oprm1,Gabra5,Unc5d,Fgd4,Cadm1,Vps13a,L3mbtl3,Dcx,Pik3ca,Snx27,Reln,Epb41,Plag1,Dmtn,Epb41l3,Epb41l2,Arhgef9,Sez6,Ago4,Erbb4,Schip1,Meg3,Pcsk5,Gab2,Scn8a,Mir124-2hg,Slc24a4,Cbfa2t2,Akap6,Golga4,Ptpn1,Trim46,Cers1,Smarcd3,Kcnip2,Arhgef2,Rap1gap,Foxo1,Sptbn4,Cplx2,Cdh13,Dip2b,Cep63,Rasal2,Cdh9,Fam20c,Ror1,Dock7,Dst,Gsk3b,Igsf11",
         "STR_D2_GABA",
         "gene",
         "TFmoudule1",
         "F",
         "GO:0048856_anatomical structure development",
         "go0048856_anatomical structure development",
         "1"
        ],
        [
         "23",
         "True",
         "1.02361981674522e-13",
         "7475",
         "379",
         "186",
         "0.490765171503958",
         "0.0248829431438127",
         "GO:0007154",
         "GO:BP",
         "cell communication",
         "25907",
         "2705",
         "GO:0009987",
         "IDA IPI IMP IGI ISO IBA IEA,IEA,IBA IEA,IDA IMP IEA,IMP IEA,IEA,IMP IGI IEA,IEA,IMP,ISS IBA IEA,IDA IMP IGI IBA TAS IEA,IEA,IBA IEA,IDA IPI ISS ISO IBA IEA,IDA,IEA,IEA,IDA IMP IGI ISS ISO IBA IEA,IEA,IEA,ISO,ISO IEA,IBA,ISO IEA,ISS IEA,IEA,IMP ISO,IMP,ISS IEA,IMP,IMP ISS,IMP IEP IEA,IDA IMP ISO IBA TAS IEA,IDA IMP ISO IBA IEA,IMP,ISO IBA IEA,IMP ISS IEA,IGI IBA IEA,IDA ISS TAS NAS IEA,IMP ISS IBA IEA,IDA IMP ISS ISO IBA IEA,IBA IEA,IGI,IBA IEA,IMP,IEA,IMP,ISS,IDA IMP,IDA IMP IGI ISS IEA,IEA,ISS ISO,IDA IMP ISO IBA IEA,ISO IBA IEA,IDA IGI ISS ISO IBA TAS IEA,ISO TAS,IMP ISS ISO NAS IEA,IEA,IGI ISO IBA IEA,IDA IMP,IMP ISO IBA TAS IEA,IEA,IMP IEA,IDA IMP ISS ISO IBA IEA,EXP IDA ISS ISO IEA,IMP ISO IBA IEA,IDA IMP IEP,IDA IMP IBA,IEA,IBA IEA,IEA,IMP ISS IBA IEA,IDA IMP ISS ISO IBA IEA,IEA,ISS ISO IBA TAS IEA,IBA,IEA,IMP ISS ISO IEA,IDA IMP IGI ISO IBA IEA,IEA,IEA,IDA IMP IGI ISS ISO IBA NAS IEA,ISS IEA,IEA,IMP,IDA IMP IBA,ISO IEA,IDA IMP IEA,ISS IEA,IMP IGI ISO IBA IEA,IDA IMP IBA IEA,IDA ISS IBA IEA,ISS ISO IBA IEA,IDA IEA,ISO IEA,IGI IEA,IDA ISO IBA IEA,ISO,IEA,IEA,IDA IMP IEA,TAS,IEA,IDA IMP IGI IBA,IMP,IEA,ISO IBA IEA,IDA IMP IBA,IDA IGI IBA IEA,ISO IEA,IDA IMP IEP ISS IBA IEA,ISS IEA,IDA,NAS,ISS ISO IEA,IMP ISS IBA IEA,IEA,IEA,IMP,IEA,IMP ISS IEA,ISS IEA,IDA IGI IBA,IEA,IMP IBA IEA,ISO,IMP,IMP,IMP,ISS IEA,EXP IDA IMP IGI ISS ISO IBA IEA,ISO IBA IEA,IEA,ISS IEA,IMP IBA,ISO,IDA IMP ISO IEA,IMP,IEA,IBA,IDA IMP ISO IBA IEA,ISS ISO IEA,IEA,IDA IMP NAS,ISS ISO IBA TAS IEA,IDA ISO,IEA,IMP,TAS,IMP IEA,IMP IGI IBA,IDA IMP IGI ISS ISO IEA,IMP IBA IEA,ISO,IEA,IBA IEA,IEA,IEP,IDA IMP,IGI,IMP,ISO,IEA,IMP IGI ISS ISO IBA IEA,ISS IEA,EXP IDA IMP,IEA,IMP IGI,IDA IBA,IEA,IDA IPI IEA,IBA IEA,IEA,IDA IMP IGI IBA IEA,IMP,IDA IMP ISO IBA IEA,IEA,IGI ISS,ISS IEA,IMP,ISS IBA IEA,IEA,IEA,IDA IMP IGI ISS ISO IBA IEA,IDA IMP ISO IEA,ISS",
         "Map2k6,Daam1,Smurf2,Abr,Shank2,Nr3c2,Plxna4,Chn2,Sgcd,Fhit,Dapk1,Tgfbr3,Rgl1,Magi2,Hcn1,Cacna2d1,Bclaf1,Pik3r1,Tenm1,Dock9,Irf2,Afdn,Mok,Cyth1,Ep300,Phip,Myo5a,Atrx,Mef2a,Rfx3,Crebrf,Nr2c2,Stxbp1,Braf,Fut8,Gria4,Rora,Ntrk3,Socs5,Ldlrad4,Chrm3,Esrrg,Onecut2,Dtna,Auts2,Slit3,Cdh8,Zfp385b,Rc3h1,Ptprj,Adgrl2,Pex5l,Htr2c,Scn9a,Rgs7,Dlgap1,Gabrb3,Map1b,Gria1,Tnr,Wfs1,Herc4,Sox11,Rasgrf1,Pkd2,Prex2,Stxbp5,Spns2,Znrf1,Gpr45,Peli2,Cacnb2,Prkcb,Ppp1r12b,Ptk2,Magi1,Ocrl,Sipa1l1,Gnaq,Clec16a,Fbxo8,Grin2a,Aak1,Map3k2,Rian,Prkg1,Cdk13,Plxna2,Brd4,Grik2,Arhgap44,Adcy9,Plce1,Scai,Ube2k,Epn2,Rictor,Suz12,Ubr5,Fbxw4,Btrc,Pacsin1,Map3k10,Apba2,Chsy1,Crebbp,Phlpp1,Lrrc4c,Epha4,Trio,Ephb1,Eif2b5,Kat7,Ica1,Gprasp1,Appl1,Epha6,Mid1,Gas2,Spata13,Fnip2,Tsc22d1,Ankrd6,Arhgap6,Nxn,Synpr,Vps54,Celf4,Hipk3,Kcnmb4,Oprm1,Gabra5,Unc5d,Usp4,Ncald,Fgd4,Cadm1,Vps13a,Dcx,Mctp1,Pik3ca,Rhot1,Snx27,Reln,Grm8,Entpd1,Hrk,Kcnd2,Arhgef9,Rps6ka3,Sez6,Erbb4,Schip1,Pcsk5,Gab2,Rhobtb2,Scn8a,Mir124-2hg,Slc24a4,Cry2,Cbfa2t2,Akap6,Crbn,Ptpn1,Ppp1r13b,Stxbp5l,Osbpl2,Cers1,Arhgef2,Rap1gap,Traip,Rasgrp2,Camta1,Foxo1,Sptbn4,Cplx2,Cdh13,Cep63,Zfyve28,Fam20c,Ror1,Dock7,Fnbp1l,Gsk3b,Igsf11,Atxn3",
         "STR_D2_GABA",
         "gene",
         "TFmoudule1",
         "F",
         "GO:0007154_cell communication",
         "go0007154_cell communication",
         "12"
        ],
        [
         "24",
         "True",
         "2.38872945472508e-13",
         "1302",
         "376",
         "62",
         "0.164893617021277",
         "0.0476190476190476",
         "GO:0048666",
         "GO:BP",
         "neuron development",
         "25907",
         "12757",
         "GO:0030182/GO:0048468",
         "ISO IBA IEA,IMP IBA,IMP IGI IBA,ISS ISO,IMP,IMP,IBA,ISO,ISO IEA,ISO,IMP,IDA IMP IGI,ISO,IGI ISO IBA,IGI,IMP,IMP,IDA IBA IEA,IMP,IMP,IMP IGI ISS ISO IBA IEA,IDA IMP,ISS ISO IBA IEA,IDA,IMP,TAS,IDA,IMP,IDA ISS ISO,IMP,IBA,IMP,IBA,IMP IBA,ISO IEA,ISS ISO IBA IEA,ISS IBA IEA,IDA IMP IGI ISO IBA IEA,ISS IBA IEA,IBA,IDA IMP ISO IBA IEA,IDA IMP ISS ISO IBA,ISS ISO IEA,IMP,IMP,IGI IBA IEA,IMP,IGI ISO,IDA IMP IGI,IMP,IMP IBA,ISS IEA,IEA,IEA,IDA IMP ISO IBA IEA,ISO IEA,IMP IBA,IMP,IBA,IEA,IMP,IMP IGI ISS ISO IBA IEA",
         "Bcl11a,Dscaml1,Plxna4,Magi2,Hcn1,Vax1,Tenm1,Afdn,Ep300,Mef2a,Stxbp1,Braf,Clip1,Ntrk3,Dleu2,Onecut2,Auts2,Slit3,Prickle2,Gabrb3,Map1b,Tnr,Map6,Rasgrf1,Prex2,Stxbp5,Ablim1,Ptk2,Sipa1l1,Gnaq,Fry,Prkg1,Plxna2,Arhgap44,Pbrm1,Pacsin1,Lrrc4c,Epha4,Trio,Gpm6b,Ephb1,Rufy3,Camsap2,Vps54,Gabra5,Unc5d,Vps13a,Dcx,Reln,Epb41l3,Sez6,Cbfa2t2,Golga4,Ptpn1,Trim46,Kcnip2,Sptbn4,Dip2b,Ror1,Dock7,Dst,Gsk3b",
         "STR_D2_GABA",
         "gene",
         "TFmoudule1",
         "F",
         "GO:0048666_neuron development",
         "go0048666_neuron development",
         "1"
        ],
        [
         "25",
         "True",
         "2.54434849523896e-13",
         "4666",
         "378",
         "135",
         "0.357142857142857",
         "0.028932704672096",
         "GO:0051234",
         "GO:BP",
         "establishment of localization",
         "25907",
         "13403",
         "GO:0051179",
         "ISO IEA,IMP IEA,ISO,IGI,IMP ISS ISO IBA IEA,IMP,IDA IMP ISS IEA,IMP IBA IEA,IMP ISS ISO IEA,IDA ISO IBA IEA,IMP ISS IEA,ISS,ISS IBA IEA,IMP,IDA ISS ISO IBA IEA,IBA IEA,ISO IEA,IDA IMP ISO IBA TAS IEA,IDA,IMP,NAS IEA,IDA IMP ISO IBA TAS IEA,IMP IEA,IMP,IEA,IEA,IDA IMP IEA,IGI,ISO IBA IEA,IMP ISO IBA IEA,IBA IEA,ISO IEA,IMP ISS ISO IBA IEA,IMP,IMP ISO IEA,ISS IEA,ISO IBA,IMP,IDA IMP IBA IEA,IDA IMP IEP ISO IBA IEA,IEA,IBA IEA,IEA,IEA,ISS ISO IEA,IDA IMP ISS ISO IEA,IEA,IDA ISO,IMP IGI ISO,IBA,IEA,IBA IEA,IMP IGI ISS ISO IEA,IDA IMP ISS ISO IBA IEA,IEA,EXP IDA IMP IEP ISS IBA IEA,TAS,IEA,IEA,IDA IMP IBA,IBA IEA,IBA,IDA ISO IBA IEA,IEA,ISO IBA IEA,IEA,ISS IBA TAS IEA,ISS IBA IEA,IDA IMP ISO IBA IEA,IEA,IDA ISS ISO IBA IEA,IMP IBA IEA,IDA,IBA IEA,IMP ISS ISO IBA IEA,IDA IBA IEA,IBA NAS IEA,IDA,ISS IEA,IMP ISS IEA,IBA IEA,IMP ISO IBA IEA,ISS IEA,ISS ISO IEA,IBA IEA,IBA IEA,IBA,ISO,ISO IBA IEA,IEA,ISS ISO IBA IEA,IMP IEA,IMP ISS ISO IBA IEA,IMP,ISO,IMP,IDA IGI ISS IBA IEA,ISO,IMP,IDA IMP ISS ISO IBA IEA,ISO IBA IEA,IEA,IMP ISO IEA,ISO IEA,ISO IBA IEA,IBA,IMP ISS IEA,IEA,IDA IBA IEA,IEA,IPI IGI IEA,IDA IBA IEA,ISO IEA,IBA,IMP ISO IEA,ISS IBA IEA,ISS IEA,EXP IDA IMP IBA IEA,IMP ISO IBA IEA,ISS IEA,IMP,IMP ISS ISO IBA IEA,IMP,IMP,IMP IBA IEA,IDA IMP,IDA,IMP,IDA IMP ISO IBA IEA,IEA,IMP,IMP,IEA,IDA ISS ISO IEA,ISS ISO IBA IEA",
         "Map2k6,Frmd4a,Ppp2r2b,Abr,Kcnip4,Dapk1,Magi2,Hcn1,Cacna2d1,Trpm7,Pik3r1,Tenm1,Kcnh5,Afdn,Syndig1,Kcne4,Ep300,Myo5a,Mef2a,Rfx3,Ahctf1,Stxbp1,Braf,Clip1,Mical3,Gria4,Chrm3,Ptprj,Pex5l,Htr2c,Scn9a,Rgs7,Gabrb3,Map1b,Gria1,Wfs1,Map6,Sox11,Pkd2,Stxbp5,Slc35f1,Spns2,Znrf1,Astn2,Cacnb2,Prkcb,Slc22a23,Ptk2,Gnaq,Clec16a,Cux1,Tnpo1,Grin2a,Aak1,Snap91,Atp8a1,Chic2,Prkg1,Grik2,Arhgap44,Atp13a3,Plce1,Slc24a5,Got2,Epn2,Ubr5,Sec23a,Hcn2,Pacsin1,Apba2,Nsf,Rab27a,Dennd5b,Dnajc13,Slc44a1,Gpm6b,Ica1,Rufy3,Gprasp1,Appl1,Nkain2,Vps54,Kcnmb4,Oprm1,Gabra5,Vps13a,Pard3b,Dcx,Mctp1,Pik3ca,Rhot1,Gapvd1,Snx27,Reln,Grm8,Epb41,Slc4a4,Entpd1,Dmtn,Kcnd2,Kcnh7,Tbc1d4,Erbb4,Gulp1,Trpm3,Rhobtb2,Tmem175,Scn8a,Slc24a4,Lrp1b,Cry2,Myo1b,Akap6,Sgtb,Crbn,Golga4,Ptpn1,Stxbp5l,Trim46,Osbpl2,Cers1,Kcnip2,Arhgef2,Rap1gap,Uvrag,Gsg1l,Foxo1,Sptbn4,Cplx2,Cdh13,Cep63,Dst,Fnbp1l,Gsk3b,Dync1i1",
         "STR_D2_GABA",
         "gene",
         "TFmoudule1",
         "F",
         "GO:0051234_establishment of localization",
         "go0051234_establishment of localization",
         "12"
        ],
        [
         "26",
         "True",
         "4.3416416142436e-13",
         "953",
         "377",
         "52",
         "0.137931034482759",
         "0.0545645330535152",
         "GO:0099536",
         "GO:BP",
         "synaptic signaling",
         "25907",
         "18864",
         "GO:0007267",
         "IDA IMP,IMP,ISO,ISO,IMP ISO,IDA IMP ISO IBA TAS IEA,IDA IMP,ISO IBA,IDA IMP ISS ISO IBA IEA,IBA IEA,IMP,ISO IBA,ISO TAS,IMP ISO NAS IEA,IEA,IGI ISO IBA IEA,IDA IMP,IMP ISS ISO,IDA IMP IEP,IMP IBA,IDA IMP,ISO,ISS ISO,IGI,IDA IMP IGI ISS ISO IBA NAS,IMP IGI ISO IBA IEA,IDA IMP,IDA IMP IGI IBA,IDA IMP IBA,IGI,ISO IEA,IDA IMP IEP,NAS,ISO,IMP,IMP,EXP IDA IMP ISS ISO,ISO IBA IEA,IDA IMP,IMP,IBA,ISO IEA,IDA IMP NAS,ISO IBA TAS,IMP,ISO,IEP,EXP IDA IMP,IEA,IDA IMP ISO IBA IEA,IMP ISO IEA,IDA IMP ISO IEA",
         "Abr,Shank2,Afdn,Cyth1,Myo5a,Stxbp1,Braf,Gria4,Chrm3,Dtna,Cdh8,Htr2c,Dlgap1,Gabrb3,Map1b,Gria1,Tnr,Rasgrf1,Stxbp5,Cacnb2,Prkcb,Ptk2,Sipa1l1,Gnaq,Grin2a,Grik2,Arhgap44,Apba2,Lrrc4c,Epha4,Trio,Ephb1,Ica1,Synpr,Vps54,Celf4,Oprm1,Gabra5,Cadm1,Vps13a,Mctp1,Rhot1,Reln,Grm8,Sez6,Erbb4,Mir124-2hg,Stxbp5l,Osbpl2,Cplx2,Gsk3b,Igsf11",
         "STR_D2_GABA",
         "gene",
         "TFmoudule1",
         "F",
         "GO:0099536_synaptic signaling",
         "go0099536_synaptic signaling",
         "12"
        ],
        [
         "27",
         "True",
         "8.47106361129268e-13",
         "4364",
         "378",
         "128",
         "0.338624338624339",
         "0.0293308890925756",
         "GO:0006810",
         "GO:BP",
         "transport",
         "25907",
         "2482",
         "GO:0051234",
         "ISO IEA,IMP IEA,IGI,IMP ISS ISO IBA IEA,IMP,IDA IMP ISS IEA,IMP IBA IEA,IMP ISS ISO IEA,IDA ISO IBA IEA,IMP ISS IEA,ISS,ISS IBA IEA,IDA ISS ISO IBA IEA,IBA IEA,ISO IEA,IDA IMP ISO IBA TAS IEA,IDA,IMP,NAS IEA,IDA IMP ISO IBA TAS IEA,IMP IEA,IMP,IEA,IEA,IDA IMP IEA,IGI,ISO IBA IEA,IMP ISO IBA IEA,IBA IEA,ISO IEA,IMP ISS ISO IBA IEA,IMP,IMP ISO IEA,ISS IEA,ISO IBA,IMP,IDA IMP IBA IEA,IDA IMP IEP ISO IBA IEA,IEA,IBA IEA,IEA,IEA,ISS ISO IEA,IDA IMP ISS ISO IEA,IEA,IDA ISO,IMP IGI ISO,IBA,IEA,IBA IEA,IMP IGI ISS ISO IEA,IDA IMP ISS ISO IBA IEA,IEA,EXP IDA IMP IEP ISS IBA IEA,TAS,IEA,IEA,IDA IMP IBA,IBA IEA,IBA,IDA ISO IBA IEA,IEA,ISO IBA IEA,IEA,ISS IBA TAS IEA,ISS IBA IEA,IDA IMP ISO IBA IEA,IEA,IDA ISS ISO IBA IEA,IMP IBA IEA,IDA,IBA IEA,IMP ISS ISO IBA IEA,IDA IBA IEA,IBA NAS IEA,IDA,ISS IEA,IMP ISS IEA,IBA IEA,IMP ISO IBA IEA,ISS IEA,ISS ISO IEA,IBA IEA,IBA IEA,ISO,ISO IBA IEA,IEA,ISS ISO IBA IEA,IMP IEA,IMP ISS ISO IBA IEA,IMP,ISO,IMP,IDA IGI ISS IBA IEA,ISO,IDA IMP ISS ISO IBA IEA,ISO IBA IEA,IEA,IMP ISO IEA,ISO IEA,ISO IBA IEA,IBA,IMP ISS IEA,IEA,IDA IBA IEA,IEA,IPI IGI IEA,IDA IBA IEA,ISO IEA,IMP ISO IEA,ISS IBA IEA,ISS IEA,EXP IDA IMP IBA IEA,IMP ISO IBA IEA,ISS IEA,IMP,IMP ISS ISO IBA IEA,IMP,IMP IBA IEA,IDA IMP,IDA,IMP,IDA IMP ISO IBA IEA,IEA,IMP,IEA,IDA ISS ISO IEA,ISS ISO IBA IEA",
         "Map2k6,Frmd4a,Abr,Kcnip4,Dapk1,Magi2,Hcn1,Cacna2d1,Trpm7,Pik3r1,Tenm1,Kcnh5,Syndig1,Kcne4,Ep300,Myo5a,Mef2a,Rfx3,Ahctf1,Stxbp1,Braf,Clip1,Mical3,Gria4,Chrm3,Ptprj,Pex5l,Htr2c,Scn9a,Rgs7,Gabrb3,Map1b,Gria1,Wfs1,Map6,Sox11,Pkd2,Stxbp5,Slc35f1,Spns2,Znrf1,Astn2,Cacnb2,Prkcb,Slc22a23,Ptk2,Gnaq,Clec16a,Cux1,Tnpo1,Grin2a,Aak1,Snap91,Atp8a1,Chic2,Prkg1,Grik2,Arhgap44,Atp13a3,Plce1,Slc24a5,Got2,Epn2,Ubr5,Sec23a,Hcn2,Pacsin1,Apba2,Nsf,Rab27a,Dennd5b,Dnajc13,Slc44a1,Gpm6b,Ica1,Rufy3,Gprasp1,Appl1,Nkain2,Vps54,Kcnmb4,Oprm1,Gabra5,Vps13a,Dcx,Mctp1,Pik3ca,Rhot1,Gapvd1,Snx27,Reln,Grm8,Epb41,Slc4a4,Entpd1,Kcnd2,Kcnh7,Tbc1d4,Erbb4,Gulp1,Trpm3,Rhobtb2,Tmem175,Scn8a,Slc24a4,Lrp1b,Cry2,Myo1b,Akap6,Crbn,Golga4,Ptpn1,Stxbp5l,Trim46,Osbpl2,Cers1,Kcnip2,Rap1gap,Uvrag,Gsg1l,Foxo1,Sptbn4,Cplx2,Cdh13,Dst,Fnbp1l,Gsk3b,Dync1i1",
         "STR_D2_GABA",
         "gene",
         "TFmoudule1",
         "F",
         "GO:0006810_transport",
         "go0006810_transport",
         "12"
        ],
        [
         "28",
         "True",
         "1.4421732999965699e-12",
         "912",
         "377",
         "50",
         "0.13262599469496",
         "0.0548245614035088",
         "GO:0099537",
         "GO:BP",
         "trans-synaptic signaling",
         "25907",
         "18865",
         "GO:0099536",
         "IDA IMP,IMP,ISO,ISO,IMP ISO,IDA IMP ISO IBA TAS IEA,IDA IMP,ISO IBA,IMP IBA IEA,IMP,ISO IBA,ISO TAS,IMP ISO NAS IEA,IEA,IGI ISO IBA IEA,IDA IMP,IMP ISS ISO,IDA IMP IEP,IMP IBA,IDA IMP,ISO,ISS ISO,IDA IMP IGI ISS ISO IBA NAS,IMP IGI ISO IBA IEA,IDA IMP,IDA IMP IGI IBA,IDA IMP IBA,IGI,ISO IEA,IDA IMP IEP,NAS,ISO,IMP,IMP,EXP IDA IMP ISO,ISO IBA IEA,IDA IMP,IMP,IBA,ISO IEA,IDA IMP NAS,ISO IBA TAS,IMP,ISO,IEP,EXP IDA IMP,IEA,IDA IMP ISO IBA IEA,IMP ISO IEA,IDA IMP ISO IEA",
         "Abr,Shank2,Afdn,Cyth1,Myo5a,Stxbp1,Braf,Gria4,Chrm3,Cdh8,Htr2c,Dlgap1,Gabrb3,Map1b,Gria1,Tnr,Rasgrf1,Stxbp5,Cacnb2,Prkcb,Ptk2,Sipa1l1,Grin2a,Grik2,Arhgap44,Apba2,Lrrc4c,Epha4,Trio,Ephb1,Ica1,Synpr,Vps54,Celf4,Oprm1,Gabra5,Cadm1,Vps13a,Mctp1,Rhot1,Reln,Grm8,Sez6,Erbb4,Mir124-2hg,Stxbp5l,Osbpl2,Cplx2,Gsk3b,Igsf11",
         "STR_D2_GABA",
         "gene",
         "TFmoudule1",
         "F",
         "GO:0099537_trans-synaptic signaling",
         "go0099537_transsynaptic signaling",
         "12"
        ],
        [
         "29",
         "True",
         "1.58926018122619e-12",
         "2940",
         "379",
         "99",
         "0.261213720316623",
         "0.0336734693877551",
         "GO:0009966",
         "GO:BP",
         "regulation of signal transduction",
         "25907",
         "3789",
         "GO:0007165/GO:0010646/GO:0023051/GO:0048583",
         "IDA IMP IGI,IBA IEA,IEA,IEA,IEA,IMP,IEA,IDA ISS IEA,IEA,ISS IEA,ISO,IEA,ISS IEA,IEA,IMP ISS,IDA IMP ISO IEA,IMP ISS IEA,IBA,ISS NAS IEA,IMP ISS IBA IEA,IGI,IMP,IEA,IDA IMP,IDA IMP IGI ISS IEA,ISS ISO,IDA IEA,IDA IGI ISS ISO IBA IEA,IEA,IMP ISO IEA,IEA,IMP IEA,IDA ISS ISO,IEA,IEA,IMP ISS ISO IEA,ISS IEA,IEA,IEA,IEA,ISS ISO,ISS IEA,IMP,ISO IEA,ISS IEA,ISO IEA,IMP IBA,IDA IEA,IEA,IEA,IDA ISO IBA IEA,ISO,IEA,IDA IMP IEA,IEA,IMP,IEA,ISO IEA,IDA IEA,ISS IEA,ISS ISO IEA,IMP,IEA,IMP,ISS IEA,ISS IEA,IDA IGI IBA,IMP IBA,IMP,IMP,ISS ISO,ISS IEA,ISO,ISO IEA,IEA,IDA IMP,IGI IBA,IMP IGI ISS IEA,IBA IEA,ISO,IDA IMP,IGI,IMP,ISO,IEA,IMP IGI ISS ISO IBA IEA,IDA IBA,IEA,IEA,IEA,IGI IEA,IEA,IGI,ISS IEA,IMP,ISS IBA IEA,IMP IGI ISS ISO IBA IEA,ISO IEA,ISS",
         "Map2k6,Smurf2,Shank2,Nr3c2,Chn2,Dapk1,Tgfbr3,Magi2,Bclaf1,Pik3r1,Afdn,Cyth1,Ep300,Phip,Crebrf,Braf,Rora,Ntrk3,Socs5,Ldlrad4,Onecut2,Auts2,Slit3,Rc3h1,Ptprj,Pex5l,Htr2c,Rgs7,Gria1,Wfs1,Herc4,Sox11,Rasgrf1,Znrf1,Peli2,Prkcb,Ptk2,Sipa1l1,Clec16a,Fbxo8,Grin2a,Aak1,Rian,Cdk13,Brd4,Grik2,Arhgap44,Scai,Ube2k,Epn2,Rictor,Suz12,Ubr5,Btrc,Map3k10,Chsy1,Crebbp,Phlpp1,Epha4,Ephb1,Gprasp1,Appl1,Mid1,Gas2,Fnip2,Tsc22d1,Ankrd6,Nxn,Celf4,Hipk3,Oprm1,Usp4,Fgd4,Cadm1,Pik3ca,Reln,Sez6,Erbb4,Schip1,Pcsk5,Slc24a4,Cry2,Cbfa2t2,Akap6,Crbn,Ptpn1,Arhgef2,Rap1gap,Traip,Camta1,Foxo1,Cdh13,Cep63,Zfyve28,Fam20c,Ror1,Gsk3b,Igsf11,Atxn3",
         "STR_D2_GABA",
         "gene",
         "TFmoudule1",
         "F",
         "GO:0009966_regulation of signal transduction",
         "go0009966_regulation of signal transduction",
         "12"
        ],
        [
         "30",
         "True",
         "4.50059648348162e-12",
         "904",
         "377",
         "49",
         "0.129973474801061",
         "0.0542035398230089",
         "GO:0098916",
         "GO:BP",
         "anterograde trans-synaptic signaling",
         "25907",
         "18700",
         "GO:0099537",
         "IDA IMP,IMP,ISO,ISO,IMP ISO,IDA IMP ISO IBA TAS IEA,IDA IMP,ISO IBA,IMP IBA IEA,IMP,ISO IBA,ISO TAS,IMP ISO NAS IEA,IEA,IGI ISO IBA IEA,IDA IMP,IMP ISS ISO,IDA IMP IEP,IMP IBA,IDA IMP,ISO,ISS ISO,IDA IMP IGI ISS ISO IBA NAS,IMP IGI ISO IBA IEA,IDA IMP,IDA IMP IGI IBA,IDA IMP IBA,IGI,ISO IEA,IDA IMP IEP,NAS,ISO,IMP,IMP,EXP IDA IMP ISO,ISO IBA IEA,IMP,IBA,ISO IEA,IDA IMP NAS,ISO IBA TAS,IMP,ISO,IEP,EXP IDA IMP,IEA,IDA IMP ISO IBA IEA,IMP ISO IEA,IMP ISO IEA",
         "Abr,Shank2,Afdn,Cyth1,Myo5a,Stxbp1,Braf,Gria4,Chrm3,Cdh8,Htr2c,Dlgap1,Gabrb3,Map1b,Gria1,Tnr,Rasgrf1,Stxbp5,Cacnb2,Prkcb,Ptk2,Sipa1l1,Grin2a,Grik2,Arhgap44,Apba2,Lrrc4c,Epha4,Trio,Ephb1,Ica1,Synpr,Vps54,Celf4,Oprm1,Gabra5,Vps13a,Mctp1,Rhot1,Reln,Grm8,Sez6,Erbb4,Mir124-2hg,Stxbp5l,Osbpl2,Cplx2,Gsk3b,Igsf11",
         "STR_D2_GABA",
         "gene",
         "TFmoudule1",
         "F",
         "GO:0098916_anterograde trans-synaptic signaling",
         "go0098916_anterograde transsynaptic signaling",
         "3"
        ],
        [
         "31",
         "True",
         "4.50059648348162e-12",
         "904",
         "377",
         "49",
         "0.129973474801061",
         "0.0542035398230089",
         "GO:0007268",
         "GO:BP",
         "chemical synaptic transmission",
         "25907",
         "2782",
         "GO:0098916",
         "IDA IMP,IMP,ISO,ISO,IMP ISO,IDA IMP ISO IBA TAS IEA,IDA IMP,ISO IBA,IMP IBA IEA,IMP,ISO IBA,ISO TAS,IMP ISO NAS IEA,IEA,IGI ISO IBA IEA,IDA IMP,IMP ISS ISO,IDA IMP IEP,IMP IBA,IDA IMP,ISO,ISS ISO,IDA IMP IGI ISS ISO IBA NAS,IMP IGI ISO IBA IEA,IDA IMP,IDA IMP IGI IBA,IDA IMP IBA,IGI,ISO IEA,IDA IMP IEP,NAS,ISO,IMP,IMP,EXP IDA IMP ISO,ISO IBA IEA,IMP,IBA,ISO IEA,IDA IMP NAS,ISO IBA TAS,IMP,ISO,IEP,EXP IDA IMP,IEA,IDA IMP ISO IBA IEA,IMP ISO IEA,IMP ISO IEA",
         "Abr,Shank2,Afdn,Cyth1,Myo5a,Stxbp1,Braf,Gria4,Chrm3,Cdh8,Htr2c,Dlgap1,Gabrb3,Map1b,Gria1,Tnr,Rasgrf1,Stxbp5,Cacnb2,Prkcb,Ptk2,Sipa1l1,Grin2a,Grik2,Arhgap44,Apba2,Lrrc4c,Epha4,Trio,Ephb1,Ica1,Synpr,Vps54,Celf4,Oprm1,Gabra5,Vps13a,Mctp1,Rhot1,Reln,Grm8,Sez6,Erbb4,Mir124-2hg,Stxbp5l,Osbpl2,Cplx2,Gsk3b,Igsf11",
         "STR_D2_GABA",
         "gene",
         "TFmoudule1",
         "F",
         "GO:0007268_chemical synaptic transmission",
         "go0007268_chemical synaptic transmission",
         "3"
        ],
        [
         "32",
         "True",
         "4.861406452591e-12",
         "7443",
         "379",
         "181",
         "0.477572559366755",
         "0.0243181512830848",
         "GO:0023052",
         "GO:BP",
         "signaling",
         "25907",
         "6607",
         "GO:0050789",
         "IDA IPI IMP IGI ISO IBA IEA,IEA,IBA IEA,IDA IMP IEA,IMP IEA,IEA,IMP IGI IEA,IEA,IMP,ISS IBA IEA,IDA IMP IGI IBA TAS IEA,IEA,IBA IEA,IDA IPI ISS ISO IBA IEA,IEA,IEA,IDA IMP IGI ISS ISO IBA IEA,IEA,IEA,ISO,ISO IEA,IBA,ISO IEA,ISS IEA,IEA,IMP ISO,IMP,ISS IEA,IMP,IMP ISS,IMP IEP IEA,IDA IMP ISO IBA TAS IEA,IDA IMP ISO IBA IEA,IMP,ISO IBA IEA,IMP ISS IEA,IBA IEA,IDA ISS TAS NAS IEA,IMP ISS IBA IEA,IDA IMP ISS ISO IBA IEA,IBA IEA,IGI,IBA IEA,IMP,IEA,IMP,ISS,IDA IMP,IDA IMP IGI ISS IEA,IEA,ISS ISO,IDA IMP ISO IBA IEA,IDA IGI ISS ISO IBA TAS IEA,ISO TAS IEA,IMP ISS ISO NAS IEA,IEA,IGI ISO IBA IEA,IDA IMP,IMP ISO IBA TAS IEA,IEA,IMP IEA,IDA IMP ISS ISO IBA IEA,EXP IDA ISS ISO IEA,IMP ISO IBA IEA,IDA IMP IEP,IDA IMP IBA,IEA,IBA IEA,IEA,IMP ISS IBA IEA,IDA IMP ISS ISO IBA IEA,IEA,ISS ISO IBA TAS IEA,IBA,IEA,IMP ISS ISO IEA,IDA IMP IGI ISO IBA IEA,IEA,IEA,IDA IMP IGI ISS ISO IBA NAS IEA,ISS IEA,IEA,IMP,IDA IMP IBA,ISO IEA,IDA IMP IEA,ISS IEA,IMP IGI ISO IBA IEA,IDA IMP IBA IEA,IDA ISS IBA IEA,ISS ISO IBA IEA,IDA IEA,ISO IEA,IGI IEA,IDA ISO IBA IEA,ISO,IEA,IEA,IDA IMP IEA,TAS,IEA,IDA IMP IGI IBA,IMP,IEA,IEA,ISO IBA IEA,IDA IMP IBA,IDA IGI IBA IEA,ISO IEA,IDA IMP IEP ISS IBA IEA,ISS IEA,IDA,NAS,ISS ISO IEA,IMP ISS IBA IEA,IEA,IEA,IMP,IEA,IMP ISS IEA,ISS IEA,IDA IGI IBA,IEA,IMP IBA IEA,ISO,IMP,IMP,IMP,EXP IDA IMP IGI ISS ISO IBA IEA,ISO IBA IEA,IEA,ISS IEA,IMP IBA,ISO,IDA IMP ISO IEA,IMP,IEA,IBA,IDA IMP ISO IBA IEA,ISS ISO IEA,IEA,IDA IMP NAS,ISS ISO IBA TAS IEA,IDA ISO,IEA,TAS,IMP IEA,IMP IGI IBA,IDA IMP IGI ISS ISO IEA,IMP IBA IEA,ISO,IEA,IBA IEA,IEP,IDA IMP,IGI,IMP,ISO,IEA,IMP IGI ISS ISO IBA IEA,ISS IEA,EXP IDA IMP,IEA,IMP IGI,IDA IBA,IEA,IDA IPI IEA,IBA IEA,IEA,IDA IMP IGI IBA IEA,IDA IMP ISO IBA IEA,IEA,IGI ISS,ISS IEA,IMP,ISS IBA IEA,IEA,IEA,IDA IMP IGI ISS ISO IBA IEA,IDA IMP ISO IEA,ISS",
         "Map2k6,Daam1,Smurf2,Abr,Shank2,Nr3c2,Plxna4,Chn2,Sgcd,Fhit,Dapk1,Tgfbr3,Rgl1,Magi2,Cacna2d1,Bclaf1,Pik3r1,Tenm1,Dock9,Irf2,Afdn,Mok,Cyth1,Ep300,Phip,Myo5a,Atrx,Mef2a,Rfx3,Crebrf,Nr2c2,Stxbp1,Braf,Fut8,Gria4,Rora,Ntrk3,Socs5,Ldlrad4,Chrm3,Esrrg,Onecut2,Dtna,Auts2,Slit3,Cdh8,Zfp385b,Rc3h1,Ptprj,Adgrl2,Pex5l,Htr2c,Rgs7,Dlgap1,Gabrb3,Map1b,Gria1,Tnr,Wfs1,Herc4,Sox11,Rasgrf1,Pkd2,Prex2,Stxbp5,Spns2,Znrf1,Gpr45,Peli2,Cacnb2,Prkcb,Ppp1r12b,Ptk2,Magi1,Ocrl,Sipa1l1,Gnaq,Clec16a,Fbxo8,Grin2a,Aak1,Map3k2,Rian,Prkg1,Cdk13,Plxna2,Brd4,Grik2,Arhgap44,Adcy9,Plce1,Scai,Ube2k,Epn2,Rictor,Suz12,Ubr5,Fbxw4,Btrc,Pacsin1,Map3k10,Apba2,Chsy1,Nsf,Crebbp,Phlpp1,Lrrc4c,Epha4,Trio,Ephb1,Eif2b5,Kat7,Ica1,Gprasp1,Appl1,Epha6,Mid1,Gas2,Spata13,Fnip2,Tsc22d1,Ankrd6,Arhgap6,Nxn,Synpr,Vps54,Celf4,Hipk3,Oprm1,Gabra5,Unc5d,Usp4,Ncald,Fgd4,Cadm1,Vps13a,Dcx,Mctp1,Pik3ca,Rhot1,Snx27,Reln,Grm8,Entpd1,Hrk,Arhgef9,Rps6ka3,Sez6,Erbb4,Schip1,Pcsk5,Gab2,Rhobtb2,Mir124-2hg,Slc24a4,Cry2,Cbfa2t2,Akap6,Crbn,Ptpn1,Ppp1r13b,Stxbp5l,Osbpl2,Cers1,Arhgef2,Rap1gap,Traip,Rasgrp2,Camta1,Foxo1,Cplx2,Cdh13,Cep63,Zfyve28,Fam20c,Ror1,Dock7,Fnbp1l,Gsk3b,Igsf11,Atxn3",
         "STR_D2_GABA",
         "gene",
         "TFmoudule1",
         "F",
         "GO:0023052_signaling",
         "go0023052_signaling",
         "12"
        ],
        [
         "33",
         "True",
         "5.76351687525234e-12",
         "3939",
         "379",
         "118",
         "0.311345646437995",
         "0.02995684183803",
         "GO:0048583",
         "GO:BP",
         "regulation of response to stimulus",
         "25907",
         "12687",
         "GO:0050789/GO:0050896",
         "IDA IMP IGI,IBA IEA,IMP IGI,IEA,IEA,IMP,IEA,IMP ISO IEA,IEA,IDA ISS IEA,IEA,ISS IEA,ISO,ISO,IEA,ISS ISO IEA,IEA,ISO,IEA,IMP ISS,IDA IMP IGI ISO IEA,IMP,IMP ISS IBA IEA,IGI IBA IEA,IDA IMP ISS NAS IEA,IMP ISS IBA IEA,IGI,IMP,IEA,IDA IMP,IDA IMP IGI ISS IEA,ISS ISO,IDA IEA,IDA IGI ISS ISO IBA IEA,IEA,IMP,IMP ISS ISO TAS IEA,IEA,IMP IEA,IDA ISS ISO,IDA IMP,IEA,IEA,IMP ISS ISO IEA,IDA ISS IEA,IEA,IEA,IEA,ISS ISO,ISS IEA,IMP,ISS IEA,ISO IEA,IMP ISS IEA,ISO IEA,IMP IBA,NAS,IDA IEA,IEA,IEA,IDA IMP ISO IBA IEA,ISO,IEA,IDA IMP IEA,IEA,IMP,IEA,ISO IEA,IDA IMP ISO IEA,ISS IEA,ISS IEA,IDA ISS,ISO NAS IEA,ISS ISO IEA,IMP,IEA,IMP,ISS IEA,ISS IEA,IDA IGI IBA,IMP IBA,IMP,IMP,ISS ISO IEA,ISS IEA,IDA IMP,ISO,IDA ISO IBA IEA,ISO IEA,IEA,IDA IMP,IMP,IMP,IGI IBA,IMP IGI ISS IEA,IBA IEA,ISO,IDA IMP,IGI,IMP,ISO,IEA,IMP IGI ISS ISO IBA IEA,ISO,NAS,IDA IBA,IEA,IEA,IEA,IGI ISS ISO IEA,IEA,IGI IEA,ISS IEA,IMP,ISS IBA IEA,IDA IMP IGI ISS ISO IBA IEA,ISO IEA,ISS",
         "Map2k6,Smurf2,Abr,Shank2,Nr3c2,Plxna4,Chn2,Dapk1,Tgfbr3,Magi2,Bclaf1,Pik3r1,Irf2,Afdn,Cyth1,Ep300,Phip,Myo5a,Mef2a,Crebrf,Braf,Fut8,Rora,Ntrk3,Socs5,Ldlrad4,Onecut2,Auts2,Slit3,Rc3h1,Ptprj,Pex5l,Htr2c,Rgs7,Gria1,Tnr,Wfs1,Herc4,Sox11,Rasgrf1,Spns2,Znrf1,Peli2,Prkcb,Ptk2,Sipa1l1,Clec16a,Fbxo8,Grin2a,Aak1,Rian,Prkg1,Cdk13,Brd4,Grik2,Arhgap44,Pbrm1,Scai,Ube2k,Epn2,Rictor,Suz12,Ubr5,Btrc,Map3k10,Chsy1,Crebbp,Phlpp1,Epha4,Ephb1,Eif2b5,Kat7,Epc2,Gprasp1,Appl1,Mid1,Gas2,Fnip2,Tsc22d1,Ankrd6,Nxn,Celf4,Hipk3,Oprm1,Usp4,Mlip,Fgd4,Cadm1,Mctp1,Pik3ca,Reln,Dmtn,Rps6ka3,Sez6,Erbb4,Schip1,Pcsk5,Slc24a4,Cry2,Cbfa2t2,Akap6,Crbn,Ptpn1,Cers1,Smarcd3,Arhgef2,Rap1gap,Traip,Camta1,Foxo1,Cdh13,Cep63,Zfyve28,Fam20c,Ror1,Gsk3b,Igsf11,Atxn3",
         "STR_D2_GABA",
         "gene",
         "TFmoudule1",
         "F",
         "GO:0048583_regulation of response to stimulus",
         "go0048583_regulation of response to stimulus",
         "12"
        ],
        [
         "34",
         "True",
         "6.60139600421191e-12",
         "1681",
         "376",
         "69",
         "0.183510638297872",
         "0.041046995835812",
         "GO:0120036",
         "GO:BP",
         "plasma membrane bounded cell projection organization",
         "25907",
         "19210",
         "GO:0030030",
         "ISO IBA IEA,IBA,IMP IGI IBA,ISS ISO,IDA,IMP,ISO,ISO IEA,ISO,IMP,IMP,IDA IMP IGI,ISO,IGI ISO IBA,IGI,IMP,IMP,IDA IBA IEA,IMP,IMP IGI ISS ISO IBA IEA,IDA IMP,ISS ISO IBA IEA,IDA,ISO IEA,IMP,TAS,IDA ISO IBA IEA,IMP,IEA,IDA ISS ISO,IBA,ISO,IMP,IBA,IMP ISS ISO IBA IEA,ISO IEA,ISS IEA,ISS ISO IBA,ISS IBA IEA,IDA IMP IGI ISO IBA IEA,ISS IBA IEA,IBA IEA,IBA,IDA IMP ISO IBA IEA,IDA IMP ISS ISO IBA,ISS ISO IEA,IEA,IMP,IGI IBA IEA,IDA IBA,IMP,IGI ISO IEA,IDA IMP IGI,ISS IBA IEA,IMP,IMP IBA,ISS IEA,IEA,IEA,IDA IMP ISO IBA IEA,IEA,IMP IBA,IEA,IMP,IBA,IEA,IMP,IEA,IMP IGI ISS ISO IBA IEA",
         "Bcl11a,Dscaml1,Plxna4,Magi2,Pik3r1,Vax1,Afdn,Ep300,Mef2a,Rfx3,Stxbp1,Braf,Clip1,Ntrk3,Dleu2,Onecut2,Auts2,Slit3,Prickle2,Map1b,Tnr,Map6,Rasgrf1,Pkd2,Prex2,Stxbp5,Ablim1,Ptk2,Ocrl,Sipa1l1,Fry,Grin2a,Prkg1,Plxna2,Arhgap44,Pbrm1,Plce1,Pacsin1,Lrrc4c,Epha4,Trio,Kctd17,Gpm6b,Ephb1,Rufy3,Camsap2,Spata13,Vps54,Unc5d,Fgd4,Vps13a,Dcx,Reln,Dmtn,Epb41l3,Sez6,Cbfa2t2,Golga4,Ptpn1,Trim46,Rap1gap,Sptbn4,Cdh13,Dip2b,Ror1,Dock7,Dst,Fnbp1l,Gsk3b",
         "STR_D2_GABA",
         "gene",
         "TFmoudule1",
         "F",
         "GO:0120036_plasma membrane bounded cell projection organization",
         "go0120036_plasma membrane bounded cell projection organization",
         "2"
        ],
        [
         "35",
         "True",
         "6.7395628978538796e-12",
         "529",
         "377",
         "37",
         "0.0981432360742706",
         "0.0699432892249527",
         "GO:0034329",
         "GO:BP",
         "cell junction assembly",
         "25907",
         "8508",
         "GO:0022607/GO:0034330",
         "IMP,IDA IEA,IBA,IDA,ISO,IDA IMP,IDA ISO IBA IEA,IDA ISO,IBA,ISS IEA,IEA,IDA IMP,IDA IEA,IDA IMP IEA,IMP,IMP ISS IBA,IMP,ISO,ISS IEA,IDA IMP,ISS IEA,IMP,IDA IEA,IBA,IDA IMP,IDA IMP,IMP,IMP,IMP,IDA IMP IBA,IDA IMP,IEA,IBA,IEA,IBA,ISO,IDA IMP",
         "Shank2,Lrrtm3,Cdh18,Magi2,Pik3r1,Afdn,Syndig1,Ntrk3,Cdh8,Ptprj,Adgrl2,Prickle2,Gabrb3,Map1b,Gria1,Sdk2,Ptk2,Sipa1l1,Slk,Lrrtm4,Gpm6b,Ephb1,Arhgap6,Gabra5,Cadm1,Dcx,Reln,Dmtn,Epb41l3,Arhgef9,Erbb4,Ptpn1,Cdh13,Cdh9,Dst,Gsk3b,Igsf11",
         "STR_D2_GABA",
         "gene",
         "TFmoudule1",
         "F",
         "GO:0034329_cell junction assembly",
         "go0034329_cell junction assembly",
         "12"
        ],
        [
         "36",
         "True",
         "8.460919437600049e-12",
         "1773",
         "376",
         "71",
         "0.188829787234043",
         "0.0400451212633954",
         "GO:0141124",
         "GO:BP",
         "intracellular signaling cassette",
         "25907",
         "19772",
         "GO:0035556",
         "IDA IPI IMP IGI IBA IEA,IEA,IEA,IMP,IEA,IBA IEA,IDA ISS IEA,IEA,IEA,IEA,IEA,ISS IEA,IEP,IDA IMP ISO IBA IEA,ISS IEA,IBA,ISS IEA,IEA,IMP,IDA,IDA IGI ISS IEA,ISS ISO,IDA IEA,IEA,IDA ISS ISO IBA IEA,IEA,IMP,IEA,IMP,ISS ISO,IEA,IEA,ISO IEA,IEA,IMP,ISS IEA,ISO IEA,IMP IBA,ISO IBA IEA,IDA,IDA ISO IBA IEA,IMP IEA,IEA,IEA,ISO IEA,IDA IEA,ISS IEA,IEA,IBA,IMP,ISS ISO,IMP IBA,ISO,IDA IMP IBA IEA,IEA,IDA,TAS,IGI ISS IEA,IBA IEA,IDA,ISO,IMP IGI IBA IEA,IDA IBA,IEA,IBA IEA,IEA,IEA,IEA,ISS IBA IEA,IEA,IMP ISS IEA",
         "Map2k6,Nr3c2,Chn2,Sgcd,Tgfbr3,Rgl1,Magi2,Pik3r1,Dock9,Cyth1,Ep300,Mef2a,Nr2c2,Braf,Rora,Ntrk3,Ldlrad4,Chrm3,Auts2,Rc3h1,Ptprj,Pex5l,Htr2c,Gria1,Rasgrf1,Pkd2,Prex2,Peli2,Prkcb,Ptk2,Sipa1l1,Fbxo8,Grin2a,Map3k2,Prkg1,Brd4,Grik2,Arhgap44,Plce1,Scai,Rictor,Btrc,Map3k10,Crebbp,Phlpp1,Epha4,Ephb1,Mid1,Ankrd6,Hipk3,Oprm1,Ncald,Fgd4,Pik3ca,Rhot1,Reln,Arhgef9,Erbb4,Rhobtb2,Slc24a4,Akap6,Ptpn1,Arhgef2,Rap1gap,Rasgrp2,Camta1,Foxo1,Cdh13,Ror1,Dock7,Gsk3b",
         "STR_D2_GABA",
         "gene",
         "TFmoudule1",
         "F",
         "GO:0141124_intracellular signaling cassette",
         "go0141124_intracellular signaling cassette",
         "12"
        ],
        [
         "37",
         "True",
         "8.915189444817549e-12",
         "6873",
         "377",
         "170",
         "0.450928381962865",
         "0.0247344682089335",
         "GO:0032502",
         "GO:BP",
         "developmental process",
         "25907",
         "7558",
         "GO:0008150",
         "IMP,IMP,IEA,IMP ISO IBA IEA,IMP IGI,IMP,IMP IBA IEA,IMP IGI IBA,IDA IEA,IBA,IMP IBA IEA,IEA,IDA ISS ISO IEA,IMP,IEA,IMP IGI ISO,IMP IGI IBA,IBA,IDA IMP IGI ISO,IDA ISO IBA IEA,IMP IGI ISO NAS IEA,IEA,IDA IMP,IMP IEA,IMP ISO IBA IEA,IMP IEA,IDA IMP IBA IEA,TAS,IMP ISO IEA,IDA IMP IGI,ISO,IMP ISS IEA,IDA IMP IGI ISS ISO IBA IEA,IGI,IDA,ISS IEA,IMP,IMP IGI,IEP IEA,IEA,IMP,IDA IMP IGI IBA IEA,IBA,ISO,IMP IGI,IMP ISS IEA,IDA,IEA,IDA IMP,IMP,IMP,IDA IMP IEA,IDA IMP IBA IEA,IDA IMP IGI ISS ISO IBA IEA,IMP IEA,IDA IMP,ISS IEA,IMP IEA,ISS ISO IBA IEA,IDA IMP ISS IBA,IDA IMP ISS ISO IBA IEA,IDA,IMP IGI IEA,IMP,TAS,IMP,IDA,IEA,IGI IBA IEA,IMP IEA,IDA IMP IGI ISS ISO IEA,IMP,IGI,IDA ISS ISO,IMP IGI,IMP,IBA IEA,IMP,IMP,IMP IEA,IMP ISS IEA,IMP IEP IBA,IMP,IMP IBA,IMP,IMP ISO TAS NAS IEA,IEA,IBA,IMP,IDA IEA,IGI IEA,IMP,IMP IEA,IMP IGI,IMP,ISS ISO IBA IEA,IGI,IMP,IMP,IGI,IMP,IDA IMP,ISS IBA IEA,IDA IMP IGI ISO IBA IEA,IMP ISS IBA IEA,ISS IBA IEA,IDA IMP ISS ISO IBA IEA,ISS IEA,IDA IMP,IDA IMP ISS ISO IBA IEA,ISS ISO IEA,IEA,IMP IEA,IMP,IMP IEA,IMP,IMP IEP,IMP ISS IEA,IMP,IMP IBA,IDA IGI IBA IEA,ISO,IDA IMP ISO IEA,IMP,IDA IMP IGI,IDA IMP IGI ISO IEA,IDA IMP IEA,IEA,IDA IMP IGI IEP ISO IBA NAS IEA,ISS,IDA IMP,IDA IMP ISS IEA,IMP,ISS,IDA IMP IBA,IMP IGI IBA,IMP,IDA IMP ISO IBA IEA,IMP IGI,IDA IMP,IMP,IEA,IEA,IEP,IMP,IGI,IMP ISS IEA,ISO,IEA,IEA,IDA IMP ISO IBA IEA,IMP IGI,IMP IEP ISO NAS IEA,ISO IEA,IDA IMP ISS IBA IEA,ISO IEA,IMP IGI ISS IEA,IMP IBA,IEA,IBA IEA,IMP IEA,IBA,IMP,IEA,IDA IMP ISS IBA IEA,IMP ISO IBA IEA,IEA,IMP,IDA IMP IGI ISS ISO IBA IEA,IDA IMP",
         "Map2k6,Bahcc1,Smurf2,Bcl11a,Abr,Shank2,Dscaml1,Plxna4,Lrrtm3,Cdh18,Sgcd,Tgfbr3,Magi2,Hcn1,Trps1,Pik3r1,Vax1,Tenm1,Afdn,Syndig1,Ep300,Phip,Myo5a,Atrx,Mef2a,Rfx3,Nr2c2,Ahctf1,Stxbp1,Braf,Clip1,Rora,Ntrk3,Dleu2,Socs5,Ldlrad4,Bbx,Onecut2,Aff3,Mamld1,Auts2,Slit3,Cdh8,Ccnd2,Rc3h1,Ptprj,Basp1,Adgrl2,Prickle2,Htr2c,Scn9a,Gabrb3,Astn1,Map1b,Gria1,Tnr,Wfs1,Herc4,Map6,Sdk2,Sox11,Rasgrf1,Pkd2,Prex2,Stxbp5,Spns2,Ablim1,Zfhx3,Astn2,Prkcb,Ptk2,Magi1,Ocrl,Sipa1l1,Gnaq,Zfat,Fry,Grin2a,Rian,Prkg1,Cdk13,Plxna2,Brd4,Arhgap44,Adcy9,Pbrm1,Plce1,Slc24a5,Pdss2,Tcf12,Epn2,Rictor,Suz12,Fbxw4,Btrc,Pacsin1,Apba2,Chsy1,Rab27a,Pou2f1,Phlpp1,Lrrtm4,Lrrc4c,Epha4,Trio,Gpm6b,Ephb1,Eif2b5,Kat7,Rufy3,Camsap2,Pcdh9,Gas2,Tsc22d1,Nxn,Vps54,Celf4,Fa2h,Oprm1,Gabra5,Unc5d,Fgd4,Cadm1,Vps13a,L3mbtl3,Dcx,Pik3ca,Snx27,Reln,Epb41,Plag1,Dmtn,Epb41l3,Epb41l2,Arhgef9,Sez6,Ago4,Erbb4,Schip1,Meg3,Pcsk5,Gab2,Scn8a,Mir124-2hg,Slc24a4,Phc2,Cbfa2t2,Akap6,Golga4,Ptpn1,Trim46,Cers1,Smarcd3,Kcnip2,Arhgef2,Rap1gap,Foxo1,Sptbn4,Cplx2,Cdh13,Dip2b,Cep63,Rasal2,Cdh9,Fam20c,Ror1,Dock7,Dst,Gsk3b,Igsf11",
         "STR_D2_GABA",
         "gene",
         "TFmoudule1",
         "F",
         "GO:0032502_developmental process",
         "go0032502_developmental process",
         "12"
        ],
        [
         "38",
         "True",
         "1.06511676774833e-11",
         "1144",
         "376",
         "55",
         "0.146276595744681",
         "0.0480769230769231",
         "GO:0031175",
         "GO:BP",
         "neuron projection development",
         "25907",
         "7049",
         "GO:0048666/GO:0120036",
         "ISO IBA IEA,IBA,IMP IGI IBA,ISS ISO,IMP,ISO,ISO IEA,ISO,IMP,IDA IMP IGI,ISO,IGI ISO IBA,IGI,IMP,IDA IBA IEA,IMP,IMP IGI ISS ISO IBA IEA,IDA IMP,ISS ISO IBA IEA,IDA,IMP,TAS,IDA,IMP,IDA ISS ISO,IBA,IMP,IBA,IMP IBA,ISO IEA,ISS ISO IBA,ISS IBA IEA,IDA IMP IGI ISO IBA IEA,ISS IBA IEA,IBA,IDA IMP ISO IBA IEA,IDA IMP ISS ISO IBA,ISS ISO IEA,IMP,IGI IBA IEA,IMP,IGI ISO,IDA IMP IGI,IMP,IMP IBA,ISS IEA,IEA,IEA,IDA IMP ISO IBA IEA,IMP IBA,IMP,IBA,IEA,IMP,IMP IGI ISS ISO IBA IEA",
         "Bcl11a,Dscaml1,Plxna4,Magi2,Vax1,Afdn,Ep300,Mef2a,Stxbp1,Braf,Clip1,Ntrk3,Dleu2,Auts2,Slit3,Prickle2,Map1b,Tnr,Map6,Rasgrf1,Prex2,Stxbp5,Ablim1,Ptk2,Sipa1l1,Fry,Prkg1,Plxna2,Arhgap44,Pbrm1,Pacsin1,Lrrc4c,Epha4,Trio,Gpm6b,Ephb1,Rufy3,Camsap2,Vps54,Unc5d,Vps13a,Dcx,Reln,Epb41l3,Sez6,Cbfa2t2,Golga4,Ptpn1,Trim46,Sptbn4,Dip2b,Ror1,Dock7,Dst,Gsk3b",
         "STR_D2_GABA",
         "gene",
         "TFmoudule1",
         "F",
         "GO:0031175_neuron projection development",
         "go0031175_neuron projection development",
         "2"
        ],
        [
         "39",
         "True",
         "1.2248491177102698e-11",
         "7668",
         "380",
         "184",
         "0.484210526315789",
         "0.0239958268127282",
         "GO:0016043",
         "GO:BP",
         "cellular component organization",
         "25907",
         "5053",
         "GO:0071840",
         "IMP,IEA,ISO,ISO IBA IEA,IGI,IMP ISO IEA,IBA,IDA IMP IGI IBA,IMP,IDA IEA,IBA,TAS,IEA,IDA ISS ISO IEA,ISS IEA,IEA,IDA IEA,IDA IMP ISO,IMP,IDA IMP ISO,IDA ISO IBA IEA,IMP ISS ISO IEA,IEA,IDA IMP ISO IBA,IMP ISS IBA IEA,IMP ISO,IBA IEA,IMP,ISS IEA,IDA IMP ISO TAS IEA,IDA IMP IGI,IMP ISS ISO IBA IEA,ISS IEA,IDA IGI ISO IBA,IGI,IMP,IMP,IDA IBA IEA,IDA IMP IBA,IBA,IMP,IGI ISS IEA,IEA,IEA,IDA IMP,ISO,IBA IEA,ISO IEA,IDA IEA,IDA IMP IGI ISS ISO IBA IEA,IMP,IDA IMP,ISS ISO IBA IEA,IMP ISS IBA,IDA,ISS ISO IEA,IMP,IDA IMP IEP TAS,TAS IEA,IDA ISO IBA IEA,IBA,IEA,IDA IMP ISO IEA,IEA,IDA ISS ISO,IMP IBA IEA,IBA,ISO,ISS ISO IBA IEA,IEA,IDA IMP ISS IBA IEA,IDA,IMP,IBA,IBA IEA,IDA IMP ISS ISO IBA IEA,ISO IBA NAS IEA,ISS IEA,IEA,ISO,IMP ISS NAS IEA,IDA IMP IEA,IEA,IEA,ISS IBA IEA,IDA IMP ISS ISO IBA IEA,IEA,ISS ISO IEA,ISS IEA,IEA,IDA,IEA,IEA,IEA,IDA IMP ISO IEA,IDA IMP IEP ISS IBA IEA,EXP IDA IMP IGI ISO IBA IEA,ISS IBA IEA,IBA IEA,ISS IBA IEA,IDA IMP ISO IBA IEA,IDA IMP ISS ISO IEA,ISO,IDA IMP ISS ISO IBA,ISS,IEA,IGI ISS ISO IBA IEA,IMP IEA,IEA,IGI IBA,IMP IBA,IEA,IEA,ISS IEA,IDA IEA,IMP,IDA IBA,IMP,IBA,IGI IBA IEA,ISS IEA,IMP ISS IBA,IDA IBA,IDA IMP IEP,IMP,IEA,IBA,IDA IMP IGI ISO IEA,ISO IEA,IDA IMP,ISS IBA IEA,ISO IEA,IDA IMP IGI,ISS ISO IBA IEA,IDA IMP ISS IBA IEA,IMP IBA TAS IEA,ISS IBA IEA,IEA,IEA,IDA IMP IBA,ISA IEA,IEA,IMP IGI IBA,IMP IEA,IDA IMP ISS ISO IEA,ISO IEA,IDA IMP IEA,IEA,ISO,IBA,IMP ISS IEA,ISS IEA,ISS ISO IBA IEA,IEA,ISS IBA IEA,ISO,ISO IEA,IEA,ISO IEA,IEA,ISS IEA,IDA IMP ISO IBA IEA,ISS IEA,NAS IEA,ISO IEA,IPI IMP ISS IBA IEA,IMP IEA,IMP ISS IBA IEA,IDA IMP,IMP IBA IEA,IDA IMP,IBA IEA,IMP,IMP ISS IBA IEA,IEA,IBA,IMP IGI,IEA,IMP ISS IBA IEA,IEA,IDA IMP IGI ISS ISO IBA TAS IEA,IDA IMP,ISS ISO IEA,ISO IBA IEA",
         "Bahcc1,Daam1,Ppp2r2b,Bcl11a,Abr,Shank2,Dscaml1,Plxna4,Zfp462,Lrrtm3,Cdh18,Sgcd,Tgfbr3,Magi2,Hcn1,Nsd3,Trpm7,Pik3r1,Vax1,Afdn,Syndig1,Ep300,Phip,Myo5a,Atrx,Mef2a,Cntln,Rfx3,Ahctf1,Stxbp1,Braf,Clip1,Mical3,Ntrk3,Dleu2,Onecut2,Auts2,Slit3,Cdh8,Frmd3,Rc3h1,Ptprj,Basp1,Adgrl2,Prickle2,Zfp148,Pex5l,Dlgap1,Gabrb3,Map1b,Gria1,Tnr,Map6,Sdk2,Rasgrf1,Pkd2,Prex2,Stxbp5,Znrf1,Ablim1,Cacnb2,Prkcb,Ptk2,Ocrl,Sipa1l1,Clec16a,Fry,Grin2a,Aak1,Snap91,Atp8a1,Rian,Prkg1,Plxna2,Brd4,Arhgap44,Pbrm1,Plce1,Ube2k,Epn2,Rictor,Suz12,Pds5a,Ubr5,Sec23a,Pacsin1,Kmt2c,Nsf,Slk,Rab27a,Lcor,Ckap5,Crebbp,Dnajc13,Lrrtm4,Lrrc4c,Epha4,Trio,Kctd17,Gpm6b,Ephb1,Kat7,Ica1,Rufy3,Jade3,Epc2,Camsap2,Appl1,Smarcad1,Mid1,Gas2,Spata13,Fnip2,Smc6,Arhgap6,Vps54,Celf4,Fa2h,Gabra5,Unc5d,Usp4,Plekha7,Fgd4,Cadm1,Vps13a,L3mbtl3,Pard3b,Dcx,Mctp1,Pik3ca,Rhot1,Snx27,Reln,Epb41,Dmtn,Epb41l3,Epb41l2,Hrk,Kcnd2,Arhgef9,Sertad2,Tbc1d4,Sez6,Ago4,Erbb4,Gulp1,Meg3,Trpm3,Pcsk5,Rhobtb2,Tmem175,Cbfa2t2,Myo1b,Tln2,Tor1aip2,Akap6,Sgtb,Clasp2,Crbn,Golga4,Ptpn1,Trim46,Osbpl2,Smarcd3,Kcnip2,Arhgef2,Rap1gap,Uvrag,Gsg1l,Sptbn4,Cplx2,Cdh13,Dip2b,Cep63,Cdh9,Ror1,Ftx,Dock7,Dst,Fnbp1l,Gsk3b,Igsf11,Atxn3,Arhgef17",
         "STR_D2_GABA",
         "gene",
         "TFmoudule1",
         "F",
         "GO:0016043_cellular component organization",
         "go0016043_cellular component organization",
         "12"
        ],
        [
         "40",
         "True",
         "2.10989294034546e-11",
         "706",
         "376",
         "42",
         "0.111702127659574",
         "0.0594900849858357",
         "GO:0048812",
         "GO:BP",
         "neuron projection morphogenesis",
         "25907",
         "12891",
         "GO:0031175/GO:0120039",
         "ISO IEA,IBA,IMP IGI IBA,IMP,ISO,ISO,ISO,IMP,IMP IGI,IGI,IMP,IDA IBA IEA,IMP IGI ISO IBA IEA,IDA IMP,ISS ISO IBA IEA,IMP,TAS,IDA,IMP,IDA ISS ISO,IMP,IBA,IMP IBA,ISS ISO IBA,ISS IBA IEA,IDA IMP IGI ISO IBA IEA,ISS IBA IEA,IDA IMP IBA,IDA IMP ISS ISO IBA,IMP,IGI IBA IEA,IMP,IGI ISO,IDA IMP,IMP,IEA,IDA IMP ISO IBA IEA,IMP IBA,IMP,IEA,IMP,IGI ISO",
         "Bcl11a,Dscaml1,Plxna4,Vax1,Afdn,Ep300,Mef2a,Stxbp1,Braf,Ntrk3,Auts2,Slit3,Map1b,Tnr,Map6,Prex2,Stxbp5,Ablim1,Ptk2,Sipa1l1,Prkg1,Plxna2,Arhgap44,Pacsin1,Lrrc4c,Epha4,Trio,Ephb1,Rufy3,Vps54,Unc5d,Vps13a,Dcx,Reln,Epb41l3,Golga4,Trim46,Sptbn4,Dip2b,Dock7,Dst,Gsk3b",
         "STR_D2_GABA",
         "gene",
         "TFmoudule1",
         "F",
         "GO:0048812_neuron projection morphogenesis",
         "go0048812_neuron projection morphogenesis",
         "2"
        ],
        [
         "41",
         "True",
         "2.2846497731632597e-11",
         "1724",
         "376",
         "69",
         "0.183510638297872",
         "0.0400232018561485",
         "GO:0030030",
         "GO:BP",
         "cell projection organization",
         "25907",
         "6621",
         "GO:0016043",
         "ISO IBA IEA,IBA,IMP IGI IBA,ISS ISO,IDA,IMP,ISO,ISO IEA,ISO,IMP,IMP,IDA IMP IGI,ISO,IGI ISO IBA,IGI,IMP,IMP,IDA IBA IEA,IMP,IMP IGI ISS ISO IBA IEA,IDA IMP,ISS ISO IBA IEA,IDA,ISO IEA,IMP,TAS,IDA ISO IBA IEA,IMP,IEA,IDA ISS ISO,IBA,ISO,IMP,IBA,IMP ISS ISO IBA IEA,ISO IEA,ISS IEA,ISS ISO IBA,ISS IBA IEA,IDA IMP IGI ISO IBA IEA,ISS IBA IEA,IBA IEA,IBA,IDA IMP ISO IBA IEA,IDA IMP ISS ISO IBA,ISS ISO IEA,IEA,IMP,IGI IBA IEA,IDA IBA,IMP,IGI ISO IEA,IDA IMP IGI,ISS IBA IEA,IMP,IMP IBA,ISS IEA,IEA,IEA,IDA IMP ISO IBA IEA,IEA,IMP IBA,IEA,IMP,IBA,IEA,IMP,IEA,IMP IGI ISS ISO IBA IEA",
         "Bcl11a,Dscaml1,Plxna4,Magi2,Pik3r1,Vax1,Afdn,Ep300,Mef2a,Rfx3,Stxbp1,Braf,Clip1,Ntrk3,Dleu2,Onecut2,Auts2,Slit3,Prickle2,Map1b,Tnr,Map6,Rasgrf1,Pkd2,Prex2,Stxbp5,Ablim1,Ptk2,Ocrl,Sipa1l1,Fry,Grin2a,Prkg1,Plxna2,Arhgap44,Pbrm1,Plce1,Pacsin1,Lrrc4c,Epha4,Trio,Kctd17,Gpm6b,Ephb1,Rufy3,Camsap2,Spata13,Vps54,Unc5d,Fgd4,Vps13a,Dcx,Reln,Dmtn,Epb41l3,Sez6,Cbfa2t2,Golga4,Ptpn1,Trim46,Rap1gap,Sptbn4,Cdh13,Dip2b,Ror1,Dock7,Dst,Fnbp1l,Gsk3b",
         "STR_D2_GABA",
         "gene",
         "TFmoudule1",
         "F",
         "GO:0030030_cell projection organization",
         "go0030030_cell projection organization",
         "2"
        ],
        [
         "42",
         "True",
         "3.10315356337544e-11",
         "285",
         "377",
         "27",
         "0.0716180371352785",
         "0.0947368421052632",
         "GO:0007416",
         "GO:BP",
         "synapse assembly",
         "25907",
         "2897",
         "GO:0007399/GO:0034329/GO:0050808",
         "IMP,IDA IEA,IDA,ISO,IDA IMP,IDA ISO IBA IEA,IDA ISO,IEA,IDA IMP,IDA IEA,IDA IMP IEA,IMP,IMP ISS IBA,IMP,ISO,IDA IMP,IMP,IBA,IDA IMP,IDA IMP,IMP,IDA IMP IBA,IDA IMP,IEA,IEA,ISO,IDA IMP",
         "Shank2,Lrrtm3,Magi2,Pik3r1,Afdn,Syndig1,Ntrk3,Adgrl2,Prickle2,Gabrb3,Map1b,Gria1,Sdk2,Ptk2,Sipa1l1,Lrrtm4,Ephb1,Gabra5,Cadm1,Dcx,Reln,Arhgef9,Erbb4,Ptpn1,Cdh9,Gsk3b,Igsf11",
         "STR_D2_GABA",
         "gene",
         "TFmoudule1",
         "F",
         "GO:0007416_synapse assembly",
         "go0007416_synapse assembly",
         "3"
        ],
        [
         "43",
         "True",
         "4.3139002160639895e-11",
         "721",
         "376",
         "42",
         "0.111702127659574",
         "0.058252427184466",
         "GO:0120039",
         "GO:BP",
         "plasma membrane bounded cell projection morphogenesis",
         "25907",
         "19211",
         "GO:0048858",
         "ISO IEA,IBA,IMP IGI IBA,IMP,ISO,ISO,ISO,IMP,IMP IGI,IGI,IMP,IDA IBA IEA,IMP IGI ISO IBA IEA,IDA IMP,ISS ISO IBA IEA,IMP,TAS,IDA,IMP,IDA ISS ISO,IMP,IBA,IMP IBA,ISS ISO IBA,ISS IBA IEA,IDA IMP IGI ISO IBA IEA,ISS IBA IEA,IDA IMP IBA,IDA IMP ISS ISO IBA,IMP,IGI IBA IEA,IMP,IGI ISO,IDA IMP,IMP,IEA,IDA IMP ISO IBA IEA,IMP IBA,IMP,IEA,IMP,IGI ISO",
         "Bcl11a,Dscaml1,Plxna4,Vax1,Afdn,Ep300,Mef2a,Stxbp1,Braf,Ntrk3,Auts2,Slit3,Map1b,Tnr,Map6,Prex2,Stxbp5,Ablim1,Ptk2,Sipa1l1,Prkg1,Plxna2,Arhgap44,Pacsin1,Lrrc4c,Epha4,Trio,Ephb1,Rufy3,Vps54,Unc5d,Vps13a,Dcx,Reln,Epb41l3,Golga4,Trim46,Sptbn4,Dip2b,Dock7,Dst,Gsk3b",
         "STR_D2_GABA",
         "gene",
         "TFmoudule1",
         "F",
         "GO:0120039_plasma membrane bounded cell projection morphogenesis",
         "go0120039_plasma membrane bounded cell projection morphogenesis",
         "2"
        ],
        [
         "44",
         "True",
         "5.98304521516328e-11",
         "728",
         "376",
         "42",
         "0.111702127659574",
         "0.0576923076923077",
         "GO:0048858",
         "GO:BP",
         "cell projection morphogenesis",
         "25907",
         "12933",
         "GO:0000902/GO:0009653/GO:0030030",
         "ISO IEA,IBA,IMP IGI IBA,IMP,ISO,ISO,ISO,IMP,IMP IGI,IGI,IMP,IDA IBA IEA,IMP IGI ISO IBA IEA,IDA IMP,ISS ISO IBA IEA,IMP,TAS,IDA,IMP,IDA ISS ISO,IMP,IBA,IMP IBA,ISS ISO IBA,ISS IBA IEA,IDA IMP IGI ISO IBA IEA,ISS IBA IEA,IDA IMP IBA,IDA IMP ISS ISO IBA,IMP,IGI IBA IEA,IMP,IGI ISO,IDA IMP,IMP,IEA,IDA IMP ISO IBA IEA,IMP IBA,IMP,IEA,IMP,IGI ISO",
         "Bcl11a,Dscaml1,Plxna4,Vax1,Afdn,Ep300,Mef2a,Stxbp1,Braf,Ntrk3,Auts2,Slit3,Map1b,Tnr,Map6,Prex2,Stxbp5,Ablim1,Ptk2,Sipa1l1,Prkg1,Plxna2,Arhgap44,Pacsin1,Lrrc4c,Epha4,Trio,Ephb1,Rufy3,Vps54,Unc5d,Vps13a,Dcx,Reln,Epb41l3,Golga4,Trim46,Sptbn4,Dip2b,Dock7,Dst,Gsk3b",
         "STR_D2_GABA",
         "gene",
         "TFmoudule1",
         "F",
         "GO:0048858_cell projection morphogenesis",
         "go0048858_cell projection morphogenesis",
         "2"
        ],
        [
         "45",
         "True",
         "9.281226742048588e-11",
         "1398",
         "377",
         "60",
         "0.159151193633952",
         "0.0429184549356223",
         "GO:0007267",
         "GO:BP",
         "cell-cell signaling",
         "25907",
         "2781",
         "GO:0007154/GO:0023052",
         "ISO IEA,IDA IMP,IMP,IEA,ISO,ISO,IMP ISO,IMP,IDA IMP ISO IBA TAS IEA,IDA IMP,ISO IBA,IDA IMP ISS ISO IBA IEA,IBA IEA,IMP,ISO,IMP ISO IBA,ISO TAS,IMP ISS ISO NAS IEA,IEA,IGI ISO IBA IEA,IDA IMP,IMP,IMP ISS ISO,IDA IMP IEP,IMP ISS IBA IEA,IDA IMP ISO IEA,ISO,ISS ISO,IMP IGI,IDA IMP IGI ISS ISO IBA NAS,IMP IGI ISO IBA IEA,IDA IMP,IDA IMP IGI IBA,IDA IMP IBA,IGI,ISO IEA,IDA IMP IEP,NAS,ISO,IMP,IMP,EXP IDA IMP ISS ISO IEA,ISO IBA IEA,IDA IMP,IMP,IBA,ISO IEA,IDA IMP NAS,ISO IBA TAS,ISO,IMP,ISO,IEP,IGI,EXP IDA IMP,IEA,IDA,IDA IMP ISO IBA IEA,IMP ISO IEA,IDA IMP ISO IEA",
         "Map2k6,Abr,Shank2,Cacna2d1,Afdn,Cyth1,Myo5a,Rfx3,Stxbp1,Braf,Gria4,Chrm3,Dtna,Cdh8,Pex5l,Htr2c,Dlgap1,Gabrb3,Map1b,Gria1,Tnr,Sox11,Rasgrf1,Stxbp5,Cacnb2,Prkcb,Ptk2,Sipa1l1,Gnaq,Grin2a,Grik2,Arhgap44,Apba2,Lrrc4c,Epha4,Trio,Ephb1,Ica1,Synpr,Vps54,Celf4,Oprm1,Gabra5,Cadm1,Vps13a,Mctp1,Rhot1,Reln,Grm8,Entpd1,Sez6,Erbb4,Mir124-2hg,Cry2,Stxbp5l,Osbpl2,Foxo1,Cplx2,Gsk3b,Igsf11",
         "STR_D2_GABA",
         "gene",
         "TFmoudule1",
         "F",
         "GO:0007267_cell-cell signaling",
         "go0007267_cellcell signaling",
         "12"
        ],
        [
         "46",
         "True",
         "1.00866730705656e-10",
         "5759",
         "364",
         "144",
         "0.395604395604396",
         "0.0250043410314291",
         "GO:0048519",
         "GO:BP",
         "negative regulation of biological process",
         "25907",
         "12635",
         "GO:0008150/GO:0050789",
         "IMP,IMP,IBA IEA,IMP ISO IBA IEA,IMP IGI,IMP IEA,IMP,IBA,ISS IBA IEA,IMP IEA,IEA,IDA ISS ISO IEA,ISO,IEA,IEA,ISO IEA,IDA,IDA IGI ISO IEA,IDA IMP IGI,ISS ISO IEA,IEA,IEA,ISO,IMP IEA,ISS IEA,ISS IEA,ISS,IEA,IDA IMP ISO IEA,IMP ISO IEA,IEA,IMP ISS IBA IEA,ISO IEA,IGI,IDA IMP ISS NAS IC IEA,IMP ISS IBA IEA,ISO IEA,IGI,IGI IEA,ISO IEA,IDA IMP ISS IBA TAS IEA,IDA IMP ISS IEA,ISS IBA IEA,ISO IEA,ISO IBA IEA,ISO,ISS IEA,IMP ISO IEA,IGI,IDA IMP ISO,IMP ISS ISO TAS IEA,IEA,IBA IEA,IDA IMP IBA IEA,IMP IBA IEA,IEA,IDA,IMP ISS ISO IEA,IDA IMP IGI ISS ISO,ISO,IMP IEA,IDA,IGI,IMP,IMP ISS IEA,IMP,IBA,IGI ISO IEA,IMP ISS ISO IBA IEA,ISS,IBA,IDA IGI IEA,IMP,IBA IEA,IEA,NAS,IDA IMP ISO IEA,IEA,IEA,ISS IEA,IDA,IDA IEA,IEA,IDA IMP IEA,ISO IEA,IEA,ISO IEA,IDA IMP IGI ISO IEA,IMP,IDA IBA,IMP,IEA,ISS ISO,IBA,ISS ISO IEA,IMP,IGI,IGI ISS IEA,IMP IBA,IDA IGI IBA,IEA,IMP IBA,IMP,IMP,IMP ISS IEA,ISS ISO IEA,ISS IEA,IDA IMP IGI,ISO IEA,IBA IEA,ISO IEA,IDA IMP ISO IEA,IDA,ISO,IMP IEA,IEA,ISA IEA,IEA,IEA,IMP ISS IBA IEA,ISS ISO IBA IEA,IEA,ISS IEA,IDA IMP,IDA,IDA IMP IGI IBA NAS IEA,IBA,IDA IMP IGI ISS IBA IEA,ISO,IEA,IMP ISO IEA,IMP IGI IBA IEA,IEA,IDA,ISO IEA,IMP ISO,IMP ISS IEA,ISO IEA,IDA IEA,IDA IMP IGI ISS ISO IEA,IMP IEA,IEA,IMP,IGI ISS IEA",
         "Map2k6,Frmd4a,Smurf2,Bcl11a,Abr,Shank2,Dscaml1,Plxna4,Fhit,Dapk1,Tgfbr3,Magi2,Hcn1,Trps1,Zbtb38,Bclaf1,Nsd3,Pik3r1,Vax1,Ep300,Phip,A330023F24Rik,Myo5a,Atrx,Mef2a,Rfx3,Crebrf,Nr2c2,Stxbp1,Braf,Gria4,Rora,Ntrk3,Dleu2,Socs5,Ldlrad4,Chrm3,Onecut2,Slit3,Ccnd2,Rc3h1,Ptprj,Basp1,Zfp148,Htr2c,Scn9a,Rgs7,Map1b,Gria1,Tnr,Wfs1,Herc4,Snd1,Sox11,Pkd2,Zfhx3,Astn2,Prkcb,Ptk2,Gnaq,Clec16a,Fry,Grin2a,Rian,Prkg1,Cdk13,Plxna2,Grik2,Arhgap44,Pbrm1,Plce1,Scai,Slc24a5,Zc3h14,Epn2,Rictor,Suz12,Pds5a,Ubr5,Btrc,Pacsin1,Map3k10,Chsy1,Lcor,Pou2f1,Crebbp,Phlpp1,Epha4,Trio,Gpm6b,Ephb1,Kat7,Rufy3,Camsap2,Gprasp1,Appl1,Mid1,Fnip2,Tsc22d1,Ankrd6,Arhgap6,Nxn,Vps54,Celf4,Hipk3,Oprm1,Usp4,Mlip,Cadm1,L3mbtl3,Mctp1,Pik3ca,Plag1,Entpd1,Dmtn,Sfmbt2,Sertad2,Rps6ka3,Tbc1d4,Ago4,Erbb4,Meg3,Hnrnpl,Mir124-2hg,Slc24a4,Cry2,Phc2,Cbfa2t2,Akap6,Clasp2,Crbn,Ptpn1,Ppp1r13b,Stxbp5l,Trim46,Cers1,Arhgef2,Rap1gap,Traip,Foxo1,Sptbn4,Cdh13,Dip2b,Cep63",
         "STR_D2_GABA",
         "gene",
         "TFmoudule1",
         "F",
         "GO:0048519_negative regulation of biological process",
         "go0048519_negative regulation of biological process",
         "12"
        ],
        [
         "47",
         "True",
         "1.2446291981288002e-10",
         "552",
         "376",
         "36",
         "0.0957446808510638",
         "0.0652173913043478",
         "GO:0061564",
         "GO:BP",
         "axon development",
         "25907",
         "15345",
         "GO:0031175",
         "IBA,IMP IGI IBA,IMP,ISO,IMP,IDA IMP IGI,IGI,IMP,IDA IBA IEA,IMP IGI ISO IBA IEA,IDA IMP,ISO IBA,TAS,IDA,IMP,IDA,IMP,IBA,ISS IBA IEA,IMP IGI ISO IBA IEA,IBA,IBA,IDA IMP IBA,IDA IMP ISS ISO IBA,ISS ISO IEA,IGI IBA IEA,IGI ISO,IMP,IMP,IEA,IDA IMP ISO IBA IEA,IMP IBA,IMP,IEA,IMP,IGI ISO",
         "Dscaml1,Plxna4,Vax1,Ep300,Stxbp1,Braf,Ntrk3,Auts2,Slit3,Map1b,Tnr,Map6,Stxbp5,Ablim1,Ptk2,Sipa1l1,Prkg1,Plxna2,Lrrc4c,Epha4,Trio,Gpm6b,Ephb1,Rufy3,Camsap2,Unc5d,Dcx,Reln,Epb41l3,Golga4,Trim46,Sptbn4,Dip2b,Dock7,Dst,Gsk3b",
         "STR_D2_GABA",
         "gene",
         "TFmoudule1",
         "F",
         "GO:0061564_axon development",
         "go0061564_axon development",
         "1"
        ],
        [
         "48",
         "True",
         "1.25550063375607e-10",
         "5540",
         "364",
         "140",
         "0.384615384615385",
         "0.0252707581227437",
         "GO:0048523",
         "GO:BP",
         "negative regulation of cellular process",
         "25907",
         "12639",
         "GO:0009987/GO:0048519/GO:0050794",
         "IMP,IMP,IBA IEA,IMP ISO IBA IEA,IMP IGI,IMP IEA,IMP,IBA,ISS IBA IEA,IMP IEA,IEA,IDA ISS ISO IEA,IEA,IEA,ISO IEA,IDA,IDA IGI ISO IEA,IDA IMP IGI,ISS ISO IEA,IEA,IEA,ISO,IMP IEA,ISS IEA,ISS IEA,ISS,IEA,IDA IMP ISO IEA,IMP ISO IEA,IEA,IMP ISS IEA,ISO IEA,IGI,IDA IMP ISS NAS IC IEA,IMP ISS IBA IEA,IGI,IGI IEA,ISO IEA,IDA IMP ISS IBA TAS IEA,IDA IMP ISS IEA,ISS IBA IEA,ISO IEA,ISO IBA IEA,ISS IEA,IMP ISO IEA,IGI,IDA IMP ISO,IMP ISS ISO TAS IEA,IEA,IBA IEA,IDA IMP IBA IEA,IMP IBA IEA,IEA,IDA,IMP ISS ISO IEA,IDA IMP ISS ISO,ISO,IMP IEA,IDA,IGI,IMP,ISS IEA,IMP,IBA,IGI ISO IEA,IMP ISS ISO IBA IEA,ISS,IBA,IDA IGI IEA,IMP,IBA IEA,IEA,NAS,IDA IMP ISO IEA,IEA,IEA,ISS IEA,IDA,IDA IEA,IDA IMP IEA,ISO IEA,IEA,ISO IEA,IDA IMP ISO IEA,IMP,IDA,IMP,IEA,ISS ISO,IBA,ISS ISO IEA,IMP,IGI,IGI ISS IEA,IMP IBA,IDA IGI IBA,IEA,IMP IBA,IMP,IMP,IMP ISS IEA,ISS ISO IEA,ISS IEA,IGI,ISO IEA,IBA IEA,ISO IEA,IDA IMP ISO IEA,IDA,ISO,IMP IEA,IEA,ISA IEA,IEA,IEA,IMP ISS IBA IEA,ISS ISO IBA IEA,IEA,ISS IEA,IDA IMP,IDA,IDA IMP IGI IBA IEA,IBA,IDA IMP IGI ISS IBA IEA,ISO,IEA,IMP ISO IEA,IMP IGI IBA IEA,IEA,IDA,ISO IEA,IMP,IMP ISS IEA,ISO IEA,IDA IEA,IDA IMP IGI ISS IEA,IEA,IEA,IMP,IGI ISS IEA",
         "Map2k6,Frmd4a,Smurf2,Bcl11a,Abr,Shank2,Dscaml1,Plxna4,Fhit,Dapk1,Tgfbr3,Magi2,Trps1,Zbtb38,Bclaf1,Nsd3,Pik3r1,Vax1,Ep300,Phip,A330023F24Rik,Myo5a,Atrx,Mef2a,Rfx3,Crebrf,Nr2c2,Stxbp1,Braf,Gria4,Rora,Ntrk3,Dleu2,Socs5,Ldlrad4,Onecut2,Slit3,Ccnd2,Rc3h1,Ptprj,Basp1,Zfp148,Htr2c,Rgs7,Map1b,Gria1,Tnr,Wfs1,Herc4,Snd1,Sox11,Pkd2,Zfhx3,Astn2,Prkcb,Ptk2,Gnaq,Clec16a,Fry,Grin2a,Rian,Prkg1,Cdk13,Plxna2,Grik2,Arhgap44,Pbrm1,Plce1,Scai,Slc24a5,Zc3h14,Epn2,Rictor,Suz12,Pds5a,Ubr5,Btrc,Pacsin1,Map3k10,Lcor,Pou2f1,Crebbp,Phlpp1,Epha4,Trio,Gpm6b,Ephb1,Kat7,Rufy3,Camsap2,Gprasp1,Appl1,Mid1,Fnip2,Tsc22d1,Ankrd6,Arhgap6,Nxn,Vps54,Celf4,Hipk3,Oprm1,Usp4,Mlip,Cadm1,L3mbtl3,Mctp1,Pik3ca,Plag1,Entpd1,Dmtn,Sfmbt2,Sertad2,Rps6ka3,Tbc1d4,Ago4,Erbb4,Meg3,Hnrnpl,Mir124-2hg,Slc24a4,Cry2,Phc2,Cbfa2t2,Akap6,Clasp2,Crbn,Ptpn1,Ppp1r13b,Stxbp5l,Trim46,Cers1,Arhgef2,Rap1gap,Traip,Foxo1,Sptbn4,Cdh13,Dip2b,Cep63",
         "STR_D2_GABA",
         "gene",
         "TFmoudule1",
         "F",
         "GO:0048523_negative regulation of cellular process",
         "go0048523_negative regulation of cellular process",
         "12"
        ],
        [
         "49",
         "True",
         "1.71330290001519e-10",
         "7867",
         "380",
         "184",
         "0.484210526315789",
         "0.0233888394559553",
         "GO:0071840",
         "GO:BP",
         "cellular component organization or biogenesis",
         "25907",
         "16709",
         "GO:0009987",
         "IMP,IEA,ISO,ISO IBA IEA,IGI,IMP ISO IEA,IBA,IDA IMP IGI IBA,IMP,IDA IEA,IBA,TAS,IEA,IDA ISS ISO IEA,ISS IEA,IEA,IDA IEA,IDA IMP ISO,IMP,IDA IMP ISO,IDA ISO IBA IEA,IMP ISS ISO IEA,IEA,IDA IMP ISO IBA,IMP ISS IBA IEA,IMP ISO,IBA IEA,IMP,ISS IEA,IDA IMP ISO TAS IEA,IDA IMP IGI,IMP ISS ISO IBA IEA,ISS IEA,IDA IGI ISO IBA,IGI,IMP,IMP,IDA IBA IEA,IDA IMP IBA,IBA,IMP,IGI ISS IEA,IEA,IEA,IDA IMP,ISO,IBA IEA,ISO IEA,IDA IEA,IDA IMP IGI ISS ISO IBA IEA,IMP,IDA IMP,ISS ISO IBA IEA,IMP ISS IBA,IDA,ISS ISO IEA,IMP,IDA IMP IEP TAS,TAS IEA,IDA ISO IBA IEA,IBA,IEA,IDA IMP ISO IEA,IEA,IDA ISS ISO,IMP IBA IEA,IBA,ISO,ISS ISO IBA IEA,IEA,IDA IMP ISS IBA IEA,IDA,IMP,IBA,IBA IEA,IDA IMP ISS ISO IBA IEA,ISO IBA NAS IEA,ISS IEA,IEA,ISO,IMP ISS NAS IEA,IDA IMP IEA,IEA,IEA,ISS IBA IEA,IDA IMP ISS ISO IBA IEA,IEA,ISS ISO IEA,ISS IEA,IEA,IDA,IEA,IEA,IEA,IDA IMP ISO IEA,IDA IMP IEP ISS IBA IEA,EXP IDA IMP IGI ISO IBA IEA,ISS IBA IEA,IBA IEA,ISS IBA IEA,IDA IMP ISO IBA IEA,IDA IMP ISS ISO IEA,ISO,IDA IMP ISS ISO IBA,ISS,IEA,IGI ISS ISO IBA IEA,IMP IEA,IEA,IGI IBA,IMP IBA,IEA,IEA,ISS IEA,IDA IEA,IMP,IDA IBA,IMP,IBA,IGI IBA IEA,ISS IEA,IMP ISS IBA,IDA IBA,IDA IMP IEP,IMP,IEA,IBA,IDA IMP IGI ISO IEA,ISO IEA,IDA IMP,ISS IBA IEA,ISO IEA,IDA IMP IGI,ISS ISO IBA IEA,IDA IMP ISS IBA IEA,IMP IBA TAS IEA,ISS IBA IEA,IEA,IEA,IDA IMP IBA,ISA IEA,IEA,IMP IGI IBA,IMP IEA,IDA IMP ISS ISO IEA,ISO IEA,IDA IMP IEA,IEA,ISO,IBA,IMP ISS IEA,ISS IEA,ISS ISO IBA IEA,IEA,ISS IBA IEA,ISO,ISO IEA,IEA,ISO IEA,IEA,ISS IEA,IDA IMP ISO IBA IEA,ISS IEA,NAS IEA,ISO IEA,IPI IMP ISS IBA IEA,IMP IEA,IMP ISS IBA IEA,IDA IMP,IMP IBA IEA,IDA IMP,IBA IEA,IMP,IMP ISS IBA IEA,IEA,IBA,IMP IGI,IEA,IMP ISS IBA IEA,IEA,IDA IMP IGI ISS ISO IBA TAS IEA,IDA IMP,ISS ISO IEA,ISO IBA IEA",
         "Bahcc1,Daam1,Ppp2r2b,Bcl11a,Abr,Shank2,Dscaml1,Plxna4,Zfp462,Lrrtm3,Cdh18,Sgcd,Tgfbr3,Magi2,Hcn1,Nsd3,Trpm7,Pik3r1,Vax1,Afdn,Syndig1,Ep300,Phip,Myo5a,Atrx,Mef2a,Cntln,Rfx3,Ahctf1,Stxbp1,Braf,Clip1,Mical3,Ntrk3,Dleu2,Onecut2,Auts2,Slit3,Cdh8,Frmd3,Rc3h1,Ptprj,Basp1,Adgrl2,Prickle2,Zfp148,Pex5l,Dlgap1,Gabrb3,Map1b,Gria1,Tnr,Map6,Sdk2,Rasgrf1,Pkd2,Prex2,Stxbp5,Znrf1,Ablim1,Cacnb2,Prkcb,Ptk2,Ocrl,Sipa1l1,Clec16a,Fry,Grin2a,Aak1,Snap91,Atp8a1,Rian,Prkg1,Plxna2,Brd4,Arhgap44,Pbrm1,Plce1,Ube2k,Epn2,Rictor,Suz12,Pds5a,Ubr5,Sec23a,Pacsin1,Kmt2c,Nsf,Slk,Rab27a,Lcor,Ckap5,Crebbp,Dnajc13,Lrrtm4,Lrrc4c,Epha4,Trio,Kctd17,Gpm6b,Ephb1,Kat7,Ica1,Rufy3,Jade3,Epc2,Camsap2,Appl1,Smarcad1,Mid1,Gas2,Spata13,Fnip2,Smc6,Arhgap6,Vps54,Celf4,Fa2h,Gabra5,Unc5d,Usp4,Plekha7,Fgd4,Cadm1,Vps13a,L3mbtl3,Pard3b,Dcx,Mctp1,Pik3ca,Rhot1,Snx27,Reln,Epb41,Dmtn,Epb41l3,Epb41l2,Hrk,Kcnd2,Arhgef9,Sertad2,Tbc1d4,Sez6,Ago4,Erbb4,Gulp1,Meg3,Trpm3,Pcsk5,Rhobtb2,Tmem175,Cbfa2t2,Myo1b,Tln2,Tor1aip2,Akap6,Sgtb,Clasp2,Crbn,Golga4,Ptpn1,Trim46,Osbpl2,Smarcd3,Kcnip2,Arhgef2,Rap1gap,Uvrag,Gsg1l,Sptbn4,Cplx2,Cdh13,Dip2b,Cep63,Cdh9,Ror1,Ftx,Dock7,Dst,Fnbp1l,Gsk3b,Igsf11,Atxn3,Arhgef17",
         "STR_D2_GABA",
         "gene",
         "TFmoudule1",
         "F",
         "GO:0071840_cellular component organization or biogenesis",
         "go0071840_cellular component organization or biogenesis",
         "12"
        ]
       ],
       "shape": {
        "columns": 22,
        "rows": 343760
       }
      },
      "text/html": [
       "<div>\n",
       "<style scoped>\n",
       "    .dataframe tbody tr th:only-of-type {\n",
       "        vertical-align: middle;\n",
       "    }\n",
       "\n",
       "    .dataframe tbody tr th {\n",
       "        vertical-align: top;\n",
       "    }\n",
       "\n",
       "    .dataframe thead th {\n",
       "        text-align: right;\n",
       "    }\n",
       "</style>\n",
       "<table border=\"1\" class=\"dataframe\">\n",
       "  <thead>\n",
       "    <tr style=\"text-align: right;\">\n",
       "      <th></th>\n",
       "      <th>significant</th>\n",
       "      <th>p_value</th>\n",
       "      <th>term_size</th>\n",
       "      <th>query_size</th>\n",
       "      <th>intersection_size</th>\n",
       "      <th>precision</th>\n",
       "      <th>recall</th>\n",
       "      <th>term_id</th>\n",
       "      <th>source</th>\n",
       "      <th>term_name</th>\n",
       "      <th>...</th>\n",
       "      <th>parents</th>\n",
       "      <th>evidence_codes</th>\n",
       "      <th>intersection</th>\n",
       "      <th>celltype</th>\n",
       "      <th>gene_type_group</th>\n",
       "      <th>TF</th>\n",
       "      <th>gender</th>\n",
       "      <th>term_idname</th>\n",
       "      <th>clean_go_term</th>\n",
       "      <th>predicted_module</th>\n",
       "    </tr>\n",
       "  </thead>\n",
       "  <tbody>\n",
       "    <tr>\n",
       "      <th>0</th>\n",
       "      <td>True</td>\n",
       "      <td>2.342199e-22</td>\n",
       "      <td>13503</td>\n",
       "      <td>377</td>\n",
       "      <td>294</td>\n",
       "      <td>0.779841</td>\n",
       "      <td>0.021773</td>\n",
       "      <td>GO:0065007</td>\n",
       "      <td>GO:BP</td>\n",
       "      <td>biological regulation</td>\n",
       "      <td>...</td>\n",
       "      <td>GO:0008150</td>\n",
       "      <td>IDA IPI IMP IGI ISO IBA IEA,IMP IEA,IEA,IBA IE...</td>\n",
       "      <td>Map2k6,Frmd4a,Daam1,Smurf2,Ppp2r2b,Bcl11a,Abr,...</td>\n",
       "      <td>STR_D2_GABA</td>\n",
       "      <td>gene</td>\n",
       "      <td>TFmoudule1</td>\n",
       "      <td>F</td>\n",
       "      <td>GO:0065007_biological regulation</td>\n",
       "      <td>go0065007_biological regulation</td>\n",
       "      <td>12</td>\n",
       "    </tr>\n",
       "    <tr>\n",
       "      <th>1</th>\n",
       "      <td>True</td>\n",
       "      <td>2.113255e-21</td>\n",
       "      <td>13108</td>\n",
       "      <td>377</td>\n",
       "      <td>287</td>\n",
       "      <td>0.761273</td>\n",
       "      <td>0.021895</td>\n",
       "      <td>GO:0050789</td>\n",
       "      <td>GO:BP</td>\n",
       "      <td>regulation of biological process</td>\n",
       "      <td>...</td>\n",
       "      <td>GO:0008150/GO:0065007</td>\n",
       "      <td>IDA IPI IMP IGI ISO IBA IEA,IMP IEA,IEA,IBA IE...</td>\n",
       "      <td>Map2k6,Frmd4a,Daam1,Smurf2,Ppp2r2b,Bcl11a,Abr,...</td>\n",
       "      <td>STR_D2_GABA</td>\n",
       "      <td>gene</td>\n",
       "      <td>TFmoudule1</td>\n",
       "      <td>F</td>\n",
       "      <td>GO:0050789_regulation of biological process</td>\n",
       "      <td>go0050789_regulation of biological process</td>\n",
       "      <td>12</td>\n",
       "    </tr>\n",
       "    <tr>\n",
       "      <th>2</th>\n",
       "      <td>True</td>\n",
       "      <td>4.834806e-20</td>\n",
       "      <td>12715</td>\n",
       "      <td>377</td>\n",
       "      <td>279</td>\n",
       "      <td>0.740053</td>\n",
       "      <td>0.021943</td>\n",
       "      <td>GO:0050794</td>\n",
       "      <td>GO:BP</td>\n",
       "      <td>regulation of cellular process</td>\n",
       "      <td>...</td>\n",
       "      <td>GO:0009987/GO:0050789</td>\n",
       "      <td>IDA IPI IMP IGI ISO IBA IEA,IMP IEA,IEA,IBA IE...</td>\n",
       "      <td>Map2k6,Frmd4a,Daam1,Smurf2,Ppp2r2b,Bcl11a,Abr,...</td>\n",
       "      <td>STR_D2_GABA</td>\n",
       "      <td>gene</td>\n",
       "      <td>TFmoudule1</td>\n",
       "      <td>F</td>\n",
       "      <td>GO:0050794_regulation of cellular process</td>\n",
       "      <td>go0050794_regulation of cellular process</td>\n",
       "      <td>12</td>\n",
       "    </tr>\n",
       "    <tr>\n",
       "      <th>3</th>\n",
       "      <td>True</td>\n",
       "      <td>4.489225e-19</td>\n",
       "      <td>2593</td>\n",
       "      <td>377</td>\n",
       "      <td>104</td>\n",
       "      <td>0.275862</td>\n",
       "      <td>0.040108</td>\n",
       "      <td>GO:0007399</td>\n",
       "      <td>GO:BP</td>\n",
       "      <td>nervous system development</td>\n",
       "      <td>...</td>\n",
       "      <td>GO:0048731</td>\n",
       "      <td>IMP,ISO IBA IEA,IGI,IMP,IMP IBA IEA,IMP IGI IB...</td>\n",
       "      <td>Bahcc1,Bcl11a,Abr,Shank2,Dscaml1,Plxna4,Lrrtm3...</td>\n",
       "      <td>STR_D2_GABA</td>\n",
       "      <td>gene</td>\n",
       "      <td>TFmoudule1</td>\n",
       "      <td>F</td>\n",
       "      <td>GO:0007399_nervous system development</td>\n",
       "      <td>go0007399_nervous system development</td>\n",
       "      <td>1</td>\n",
       "    </tr>\n",
       "    <tr>\n",
       "      <th>4</th>\n",
       "      <td>True</td>\n",
       "      <td>3.155444e-18</td>\n",
       "      <td>3558</td>\n",
       "      <td>379</td>\n",
       "      <td>124</td>\n",
       "      <td>0.327177</td>\n",
       "      <td>0.034851</td>\n",
       "      <td>GO:0023051</td>\n",
       "      <td>GO:BP</td>\n",
       "      <td>regulation of signaling</td>\n",
       "      <td>...</td>\n",
       "      <td>GO:0023052/GO:0050789</td>\n",
       "      <td>IDA IMP IGI,IBA IEA,IDA IMP,IMP IEA,IEA,IEA,IM...</td>\n",
       "      <td>Map2k6,Smurf2,Abr,Shank2,Nr3c2,Chn2,Dapk1,Tgfb...</td>\n",
       "      <td>STR_D2_GABA</td>\n",
       "      <td>gene</td>\n",
       "      <td>TFmoudule1</td>\n",
       "      <td>F</td>\n",
       "      <td>GO:0023051_regulation of signaling</td>\n",
       "      <td>go0023051_regulation of signaling</td>\n",
       "      <td>12</td>\n",
       "    </tr>\n",
       "    <tr>\n",
       "      <th>...</th>\n",
       "      <td>...</td>\n",
       "      <td>...</td>\n",
       "      <td>...</td>\n",
       "      <td>...</td>\n",
       "      <td>...</td>\n",
       "      <td>...</td>\n",
       "      <td>...</td>\n",
       "      <td>...</td>\n",
       "      <td>...</td>\n",
       "      <td>...</td>\n",
       "      <td>...</td>\n",
       "      <td>...</td>\n",
       "      <td>...</td>\n",
       "      <td>...</td>\n",
       "      <td>...</td>\n",
       "      <td>...</td>\n",
       "      <td>...</td>\n",
       "      <td>...</td>\n",
       "      <td>...</td>\n",
       "      <td>...</td>\n",
       "      <td>...</td>\n",
       "    </tr>\n",
       "    <tr>\n",
       "      <th>343755</th>\n",
       "      <td>True</td>\n",
       "      <td>3.740292e-02</td>\n",
       "      <td>42</td>\n",
       "      <td>1599</td>\n",
       "      <td>11</td>\n",
       "      <td>0.006879</td>\n",
       "      <td>0.261905</td>\n",
       "      <td>GO:0140938</td>\n",
       "      <td>GO:MF</td>\n",
       "      <td>histone H3 methyltransferase activity</td>\n",
       "      <td>...</td>\n",
       "      <td>GO:0042054</td>\n",
       "      <td>IDA ISS IBA,IEA,ISS IEA,IDA IMP IBA IEA,IMP IB...</td>\n",
       "      <td>Setd3,Nsd1,Setmar,Ash1l,Kmt2d,Setbp1,Setd2,Set...</td>\n",
       "      <td>TH_Car4_Tspan11_Glut</td>\n",
       "      <td>gene</td>\n",
       "      <td>TFmoudule1</td>\n",
       "      <td>M</td>\n",
       "      <td>GO:0140938_histone H3 methyltransferase activity</td>\n",
       "      <td>go0140938_histone h3 methyltransferase activity</td>\n",
       "      <td>12</td>\n",
       "    </tr>\n",
       "    <tr>\n",
       "      <th>343756</th>\n",
       "      <td>True</td>\n",
       "      <td>3.760909e-02</td>\n",
       "      <td>38</td>\n",
       "      <td>1173</td>\n",
       "      <td>9</td>\n",
       "      <td>0.007673</td>\n",
       "      <td>0.236842</td>\n",
       "      <td>GO:0004712</td>\n",
       "      <td>GO:MF</td>\n",
       "      <td>protein serine/threonine/tyrosine kinase activity</td>\n",
       "      <td>...</td>\n",
       "      <td>GO:0004672</td>\n",
       "      <td>IEA,IMP,ISO IEA,IEA,IDA IBA IEA,IEA,ISS IEA,IS...</td>\n",
       "      <td>Tesk2,Mapk9,Sgk1,Clk4,Map2k5,Dyrk1a,Pak3,Prkcg...</td>\n",
       "      <td>TH_Car4_Tspan11_Glut</td>\n",
       "      <td>gene</td>\n",
       "      <td>TFmoudule1</td>\n",
       "      <td>M</td>\n",
       "      <td>GO:0004712_protein serine/threonine/tyrosine k...</td>\n",
       "      <td>go0004712_protein serinethreoninetyrosine kina...</td>\n",
       "      <td>12</td>\n",
       "    </tr>\n",
       "    <tr>\n",
       "      <th>343757</th>\n",
       "      <td>True</td>\n",
       "      <td>4.139629e-02</td>\n",
       "      <td>125</td>\n",
       "      <td>1477</td>\n",
       "      <td>20</td>\n",
       "      <td>0.013541</td>\n",
       "      <td>0.160000</td>\n",
       "      <td>GO:0042826</td>\n",
       "      <td>GO:MF</td>\n",
       "      <td>histone deacetylase binding</td>\n",
       "      <td>...</td>\n",
       "      <td>GO:0019899</td>\n",
       "      <td>ISS IBA IEA,ISO,IPI,IEA,IEA,IPI,IEA,IPI IBA,ID...</td>\n",
       "      <td>Mef2a,Runx2,Chd5,Sfpq,Sp2,Jdp2,Nipbl,Mef2c,Mef...</td>\n",
       "      <td>TH_Car4_Tspan11_Glut</td>\n",
       "      <td>gene</td>\n",
       "      <td>TFmoudule1</td>\n",
       "      <td>M</td>\n",
       "      <td>GO:0042826_histone deacetylase binding</td>\n",
       "      <td>go0042826_histone deacetylase binding</td>\n",
       "      <td>12</td>\n",
       "    </tr>\n",
       "    <tr>\n",
       "      <th>343758</th>\n",
       "      <td>True</td>\n",
       "      <td>4.167046e-02</td>\n",
       "      <td>1285</td>\n",
       "      <td>1014</td>\n",
       "      <td>83</td>\n",
       "      <td>0.081854</td>\n",
       "      <td>0.064591</td>\n",
       "      <td>GO:0000977</td>\n",
       "      <td>GO:MF</td>\n",
       "      <td>RNA polymerase II transcription regulatory reg...</td>\n",
       "      <td>...</td>\n",
       "      <td>GO:0000976</td>\n",
       "      <td>IBA,IMP IBA,IDA ISS IBA IEA,IDA IMP IBA,IBA IE...</td>\n",
       "      <td>Zkscan2,Foxp1,Mef2a,Nr6a1,Irf2,Pou2f1,Zfp704,P...</td>\n",
       "      <td>TH_Car4_Tspan11_Glut</td>\n",
       "      <td>gene</td>\n",
       "      <td>TFmoudule1</td>\n",
       "      <td>M</td>\n",
       "      <td>GO:0000977_RNA polymerase II transcription reg...</td>\n",
       "      <td>go0000977_rna polymerase ii transcription regu...</td>\n",
       "      <td>12</td>\n",
       "    </tr>\n",
       "    <tr>\n",
       "      <th>343759</th>\n",
       "      <td>True</td>\n",
       "      <td>4.963438e-02</td>\n",
       "      <td>21</td>\n",
       "      <td>1827</td>\n",
       "      <td>8</td>\n",
       "      <td>0.004379</td>\n",
       "      <td>0.380952</td>\n",
       "      <td>GO:0048156</td>\n",
       "      <td>GO:MF</td>\n",
       "      <td>tau protein binding</td>\n",
       "      <td>...</td>\n",
       "      <td>GO:0008092</td>\n",
       "      <td>IDA,ISO,IPI,IPI,IPI IBA IEA,ISO IEA,IEA,IEA</td>\n",
       "      <td>Smad2,Sgk1,Dyrk1a,Fyn,Bin1,Aatf,Ttbk1,Picalm</td>\n",
       "      <td>TH_Car4_Tspan11_Glut</td>\n",
       "      <td>gene</td>\n",
       "      <td>TFmoudule1</td>\n",
       "      <td>M</td>\n",
       "      <td>GO:0048156_tau protein binding</td>\n",
       "      <td>go0048156_tau protein binding</td>\n",
       "      <td>12</td>\n",
       "    </tr>\n",
       "  </tbody>\n",
       "</table>\n",
       "<p>343760 rows × 22 columns</p>\n",
       "</div>"
      ],
      "text/plain": [
       "        significant       p_value  term_size  query_size  intersection_size  \\\n",
       "0              True  2.342199e-22      13503         377                294   \n",
       "1              True  2.113255e-21      13108         377                287   \n",
       "2              True  4.834806e-20      12715         377                279   \n",
       "3              True  4.489225e-19       2593         377                104   \n",
       "4              True  3.155444e-18       3558         379                124   \n",
       "...             ...           ...        ...         ...                ...   \n",
       "343755         True  3.740292e-02         42        1599                 11   \n",
       "343756         True  3.760909e-02         38        1173                  9   \n",
       "343757         True  4.139629e-02        125        1477                 20   \n",
       "343758         True  4.167046e-02       1285        1014                 83   \n",
       "343759         True  4.963438e-02         21        1827                  8   \n",
       "\n",
       "        precision    recall     term_id source  \\\n",
       "0        0.779841  0.021773  GO:0065007  GO:BP   \n",
       "1        0.761273  0.021895  GO:0050789  GO:BP   \n",
       "2        0.740053  0.021943  GO:0050794  GO:BP   \n",
       "3        0.275862  0.040108  GO:0007399  GO:BP   \n",
       "4        0.327177  0.034851  GO:0023051  GO:BP   \n",
       "...           ...       ...         ...    ...   \n",
       "343755   0.006879  0.261905  GO:0140938  GO:MF   \n",
       "343756   0.007673  0.236842  GO:0004712  GO:MF   \n",
       "343757   0.013541  0.160000  GO:0042826  GO:MF   \n",
       "343758   0.081854  0.064591  GO:0000977  GO:MF   \n",
       "343759   0.004379  0.380952  GO:0048156  GO:MF   \n",
       "\n",
       "                                                term_name  ...  \\\n",
       "0                                   biological regulation  ...   \n",
       "1                        regulation of biological process  ...   \n",
       "2                          regulation of cellular process  ...   \n",
       "3                              nervous system development  ...   \n",
       "4                                 regulation of signaling  ...   \n",
       "...                                                   ...  ...   \n",
       "343755              histone H3 methyltransferase activity  ...   \n",
       "343756  protein serine/threonine/tyrosine kinase activity  ...   \n",
       "343757                        histone deacetylase binding  ...   \n",
       "343758  RNA polymerase II transcription regulatory reg...  ...   \n",
       "343759                                tau protein binding  ...   \n",
       "\n",
       "                      parents  \\\n",
       "0                  GO:0008150   \n",
       "1       GO:0008150/GO:0065007   \n",
       "2       GO:0009987/GO:0050789   \n",
       "3                  GO:0048731   \n",
       "4       GO:0023052/GO:0050789   \n",
       "...                       ...   \n",
       "343755             GO:0042054   \n",
       "343756             GO:0004672   \n",
       "343757             GO:0019899   \n",
       "343758             GO:0000976   \n",
       "343759             GO:0008092   \n",
       "\n",
       "                                           evidence_codes  \\\n",
       "0       IDA IPI IMP IGI ISO IBA IEA,IMP IEA,IEA,IBA IE...   \n",
       "1       IDA IPI IMP IGI ISO IBA IEA,IMP IEA,IEA,IBA IE...   \n",
       "2       IDA IPI IMP IGI ISO IBA IEA,IMP IEA,IEA,IBA IE...   \n",
       "3       IMP,ISO IBA IEA,IGI,IMP,IMP IBA IEA,IMP IGI IB...   \n",
       "4       IDA IMP IGI,IBA IEA,IDA IMP,IMP IEA,IEA,IEA,IM...   \n",
       "...                                                   ...   \n",
       "343755  IDA ISS IBA,IEA,ISS IEA,IDA IMP IBA IEA,IMP IB...   \n",
       "343756  IEA,IMP,ISO IEA,IEA,IDA IBA IEA,IEA,ISS IEA,IS...   \n",
       "343757  ISS IBA IEA,ISO,IPI,IEA,IEA,IPI,IEA,IPI IBA,ID...   \n",
       "343758  IBA,IMP IBA,IDA ISS IBA IEA,IDA IMP IBA,IBA IE...   \n",
       "343759        IDA,ISO,IPI,IPI,IPI IBA IEA,ISO IEA,IEA,IEA   \n",
       "\n",
       "                                             intersection  \\\n",
       "0       Map2k6,Frmd4a,Daam1,Smurf2,Ppp2r2b,Bcl11a,Abr,...   \n",
       "1       Map2k6,Frmd4a,Daam1,Smurf2,Ppp2r2b,Bcl11a,Abr,...   \n",
       "2       Map2k6,Frmd4a,Daam1,Smurf2,Ppp2r2b,Bcl11a,Abr,...   \n",
       "3       Bahcc1,Bcl11a,Abr,Shank2,Dscaml1,Plxna4,Lrrtm3...   \n",
       "4       Map2k6,Smurf2,Abr,Shank2,Nr3c2,Chn2,Dapk1,Tgfb...   \n",
       "...                                                   ...   \n",
       "343755  Setd3,Nsd1,Setmar,Ash1l,Kmt2d,Setbp1,Setd2,Set...   \n",
       "343756  Tesk2,Mapk9,Sgk1,Clk4,Map2k5,Dyrk1a,Pak3,Prkcg...   \n",
       "343757  Mef2a,Runx2,Chd5,Sfpq,Sp2,Jdp2,Nipbl,Mef2c,Mef...   \n",
       "343758  Zkscan2,Foxp1,Mef2a,Nr6a1,Irf2,Pou2f1,Zfp704,P...   \n",
       "343759       Smad2,Sgk1,Dyrk1a,Fyn,Bin1,Aatf,Ttbk1,Picalm   \n",
       "\n",
       "                    celltype gene_type_group          TF gender  \\\n",
       "0                STR_D2_GABA            gene  TFmoudule1      F   \n",
       "1                STR_D2_GABA            gene  TFmoudule1      F   \n",
       "2                STR_D2_GABA            gene  TFmoudule1      F   \n",
       "3                STR_D2_GABA            gene  TFmoudule1      F   \n",
       "4                STR_D2_GABA            gene  TFmoudule1      F   \n",
       "...                      ...             ...         ...    ...   \n",
       "343755  TH_Car4_Tspan11_Glut            gene  TFmoudule1      M   \n",
       "343756  TH_Car4_Tspan11_Glut            gene  TFmoudule1      M   \n",
       "343757  TH_Car4_Tspan11_Glut            gene  TFmoudule1      M   \n",
       "343758  TH_Car4_Tspan11_Glut            gene  TFmoudule1      M   \n",
       "343759  TH_Car4_Tspan11_Glut            gene  TFmoudule1      M   \n",
       "\n",
       "                                              term_idname  \\\n",
       "0                        GO:0065007_biological regulation   \n",
       "1             GO:0050789_regulation of biological process   \n",
       "2               GO:0050794_regulation of cellular process   \n",
       "3                   GO:0007399_nervous system development   \n",
       "4                      GO:0023051_regulation of signaling   \n",
       "...                                                   ...   \n",
       "343755   GO:0140938_histone H3 methyltransferase activity   \n",
       "343756  GO:0004712_protein serine/threonine/tyrosine k...   \n",
       "343757             GO:0042826_histone deacetylase binding   \n",
       "343758  GO:0000977_RNA polymerase II transcription reg...   \n",
       "343759                     GO:0048156_tau protein binding   \n",
       "\n",
       "                                            clean_go_term predicted_module  \n",
       "0                         go0065007_biological regulation               12  \n",
       "1              go0050789_regulation of biological process               12  \n",
       "2                go0050794_regulation of cellular process               12  \n",
       "3                    go0007399_nervous system development                1  \n",
       "4                       go0023051_regulation of signaling               12  \n",
       "...                                                   ...              ...  \n",
       "343755    go0140938_histone h3 methyltransferase activity               12  \n",
       "343756  go0004712_protein serinethreoninetyrosine kina...               12  \n",
       "343757              go0042826_histone deacetylase binding               12  \n",
       "343758  go0000977_rna polymerase ii transcription regu...               12  \n",
       "343759                      go0048156_tau protein binding               12  \n",
       "\n",
       "[343760 rows x 22 columns]"
      ]
     },
     "execution_count": 32,
     "metadata": {},
     "output_type": "execute_result"
    }
   ],
   "source": [
    "df_moudule1"
   ]
  },
  {
   "cell_type": "code",
   "execution_count": 33,
   "id": "af9f68f9",
   "metadata": {},
   "outputs": [
    {
     "data": {
      "application/vnd.microsoft.datawrangler.viewer.v0+json": {
       "columns": [
        {
         "name": "index",
         "rawType": "int64",
         "type": "integer"
        },
        {
         "name": "predicted_module",
         "rawType": "int64",
         "type": "integer"
        }
       ],
       "ref": "6ca57dbd-dbfa-4876-882a-b84a3151ff1d",
       "rows": [
        [
         "12",
         "253691"
        ],
        [
         "1",
         "33791"
        ],
        [
         "3",
         "20569"
        ],
        [
         "2",
         "17637"
        ],
        [
         "5",
         "8700"
        ],
        [
         "9",
         "3298"
        ],
        [
         "4",
         "3097"
        ],
        [
         "6",
         "1013"
        ],
        [
         "10",
         "762"
        ],
        [
         "7",
         "660"
        ],
        [
         "8",
         "329"
        ],
        [
         "11",
         "213"
        ]
       ],
       "shape": {
        "columns": 1,
        "rows": 12
       }
      },
      "text/plain": [
       "12    253691\n",
       "1      33791\n",
       "3      20569\n",
       "2      17637\n",
       "5       8700\n",
       "9       3298\n",
       "4       3097\n",
       "6       1013\n",
       "10       762\n",
       "7        660\n",
       "8        329\n",
       "11       213\n",
       "Name: predicted_module, dtype: int64"
      ]
     },
     "execution_count": 33,
     "metadata": {},
     "output_type": "execute_result"
    }
   ],
   "source": [
    "df_moudule1['predicted_module'].value_counts()"
   ]
  },
  {
   "cell_type": "code",
   "execution_count": 42,
   "id": "42a9e154",
   "metadata": {},
   "outputs": [],
   "source": [
    "module_color = {\n",
    "    1 :'#59F5FD',\n",
    "    2 :'#D86DCD',\n",
    "    3 :'#E49EDD',\n",
    "    4 :'#FFC000',\n",
    "    5 :'#00B050',\n",
    "    6 :'#92D050',\n",
    "    7 :'#83E28E',\n",
    "    8 :'#4D93D9',\n",
    "    9 :'#747474',\n",
    "    10: '#ADADAD',\n",
    "    11: '#7E350E',\n",
    "    12: '#BE5014',\n",
    "    13: '#FFFF00',\n",
    "    14: '#6666FF',\n",
    "    15: '#782170',\n",
    "}\n"
   ]
  },
  {
   "cell_type": "code",
   "execution_count": null,
   "id": "dd4e6961",
   "metadata": {},
   "outputs": [
    {
     "name": "stderr",
     "output_type": "stream",
     "text": [
      "/tmp/ipykernel_3586865/2504079534.py:6: SettingWithCopyWarning: \n",
      "A value is trying to be set on a copy of a slice from a DataFrame.\n",
      "Try using .loc[row_indexer,col_indexer] = value instead\n",
      "\n",
      "See the caveats in the documentation: https://pandas.pydata.org/pandas-docs/stable/user_guide/indexing.html#returning-a-view-versus-a-copy\n",
      "  df_module_selected['genes'] = df_module_selected['intersection'].apply(lambda x: x.split(','))\n"
     ]
    },
    {
     "data": {
      "image/png": "[encoded data removed]",
      "text/plain": [
       "<Figure size 640x480 with 1 Axes>"
      ]
     },
     "metadata": {},
     "output_type": "display_data"
    },
    {
     "name": "stderr",
     "output_type": "stream",
     "text": [
      "/tmp/ipykernel_3586865/2504079534.py:6: SettingWithCopyWarning: \n",
      "A value is trying to be set on a copy of a slice from a DataFrame.\n",
      "Try using .loc[row_indexer,col_indexer] = value instead\n",
      "\n",
      "See the caveats in the documentation: https://pandas.pydata.org/pandas-docs/stable/user_guide/indexing.html#returning-a-view-versus-a-copy\n",
      "  df_module_selected['genes'] = df_module_selected['intersection'].apply(lambda x: x.split(','))\n"
     ]
    },
    {
     "data": {
      "image/png": "[encoded data removed]",
      "text/plain": [
       "<Figure size 640x480 with 1 Axes>"
      ]
     },
     "metadata": {},
     "output_type": "display_data"
    },
    {
     "name": "stderr",
     "output_type": "stream",
     "text": [
      "/tmp/ipykernel_3586865/2504079534.py:6: SettingWithCopyWarning: \n",
      "A value is trying to be set on a copy of a slice from a DataFrame.\n",
      "Try using .loc[row_indexer,col_indexer] = value instead\n",
      "\n",
      "See the caveats in the documentation: https://pandas.pydata.org/pandas-docs/stable/user_guide/indexing.html#returning-a-view-versus-a-copy\n",
      "  df_module_selected['genes'] = df_module_selected['intersection'].apply(lambda x: x.split(','))\n"
     ]
    },
    {
     "data": {
      "image/png": "[encoded data removed]",
      "text/plain": [
       "<Figure size 640x480 with 1 Axes>"
      ]
     },
     "metadata": {},
     "output_type": "display_data"
    },
    {
     "name": "stderr",
     "output_type": "stream",
     "text": [
      "/tmp/ipykernel_3586865/2504079534.py:6: SettingWithCopyWarning: \n",
      "A value is trying to be set on a copy of a slice from a DataFrame.\n",
      "Try using .loc[row_indexer,col_indexer] = value instead\n",
      "\n",
      "See the caveats in the documentation: https://pandas.pydata.org/pandas-docs/stable/user_guide/indexing.html#returning-a-view-versus-a-copy\n",
      "  df_module_selected['genes'] = df_module_selected['intersection'].apply(lambda x: x.split(','))\n"
     ]
    },
    {
     "data": {
      "image/png": "[encoded data removed]",
      "text/plain": [
       "<Figure size 640x480 with 1 Axes>"
      ]
     },
     "metadata": {},
     "output_type": "display_data"
    },
    {
     "name": "stderr",
     "output_type": "stream",
     "text": [
      "/tmp/ipykernel_3586865/2504079534.py:6: SettingWithCopyWarning: \n",
      "A value is trying to be set on a copy of a slice from a DataFrame.\n",
      "Try using .loc[row_indexer,col_indexer] = value instead\n",
      "\n",
      "See the caveats in the documentation: https://pandas.pydata.org/pandas-docs/stable/user_guide/indexing.html#returning-a-view-versus-a-copy\n",
      "  df_module_selected['genes'] = df_module_selected['intersection'].apply(lambda x: x.split(','))\n"
     ]
    },
    {
     "data": {
      "image/png": "[encoded data removed]",
      "text/plain": [
       "<Figure size 640x480 with 1 Axes>"
      ]
     },
     "metadata": {},
     "output_type": "display_data"
    },
    {
     "name": "stderr",
     "output_type": "stream",
     "text": [
      "/tmp/ipykernel_3586865/2504079534.py:6: SettingWithCopyWarning: \n",
      "A value is trying to be set on a copy of a slice from a DataFrame.\n",
      "Try using .loc[row_indexer,col_indexer] = value instead\n",
      "\n",
      "See the caveats in the documentation: https://pandas.pydata.org/pandas-docs/stable/user_guide/indexing.html#returning-a-view-versus-a-copy\n",
      "  df_module_selected['genes'] = df_module_selected['intersection'].apply(lambda x: x.split(','))\n"
     ]
    },
    {
     "data": {
      "image/png": "[encoded data removed]",
      "text/plain": [
       "<Figure size 640x480 with 1 Axes>"
      ]
     },
     "metadata": {},
     "output_type": "display_data"
    },
    {
     "name": "stderr",
     "output_type": "stream",
     "text": [
      "/tmp/ipykernel_3586865/2504079534.py:6: SettingWithCopyWarning: \n",
      "A value is trying to be set on a copy of a slice from a DataFrame.\n",
      "Try using .loc[row_indexer,col_indexer] = value instead\n",
      "\n",
      "See the caveats in the documentation: https://pandas.pydata.org/pandas-docs/stable/user_guide/indexing.html#returning-a-view-versus-a-copy\n",
      "  df_module_selected['genes'] = df_module_selected['intersection'].apply(lambda x: x.split(','))\n"
     ]
    },
    {
     "data": {
      "image/png": "[encoded data removed]",
      "text/plain": [
       "<Figure size 640x480 with 1 Axes>"
      ]
     },
     "metadata": {},
     "output_type": "display_data"
    }
   ],
   "source": [
    "# # plot the distribution of predicted_module\n",
    "for module in range(1, 8):\n",
    "    df_module = pd.read_csv(f\"/data2st1/junyi/output/atac0627/snregulation/gostmodule_new/TFmodule{module}_gosummary.csv.predicted.csv\")\n",
    "    # module_count = df_module.groupby(['predicted_module','celltype.gender']).sum()['reg_count'].reset_index()\n",
    "    df_module_selected = df_module[~df_module['predicted_module'].isin([1,12])]\n",
    "    df_module_selected['genes'] = df_module_selected['intersection'].apply(lambda x: x.split(','))\n",
    "    df_module_exp = df_module_selected.explode('genes')\n",
    "    df_gene_count = df_module_exp.groupby(['predicted_module', 'genes']).nunique()['term_idname'].reset_index()\n",
    "    df_gene_count.to_csv(f\"/data2st1/junyi/output/atac0627/snregulation/gosummary_module/{module}_gocount_gene.csv\", index=False)\n",
    "\n",
    "        # write csv\n",
    "    # module_count.to_csv(f\"/data2st1/junyi/output/atac0627/snregulation/gosummary_module/{module}_gocount_gropup.csv\", index=False)\n",
    "    # plt.figure(figsize=(10, 5))\n",
    "    # df_t = df_module.pivot('celltype.gender', 'predicted_module', 'reg_count').T\n",
    "    # df_t.to_csv(f\"/data2st1/junyi/output/atac0627/snregulation/gosummary_module/{module}_gocount_gropup.pivot.csv\")\n",
    "    # sns.heatmap(df_t, cmap='coolwarm', vmax=30, vmin=-30, center=0)\n",
    "    # plt.show()\n",
    "    # plt.close()\n",
    "    # print(df_module[df_module.predicted_module!=12].drop_duplicates('term_name')['predicted_module'].value_counts())\n",
    "    # plot piechart\n",
    "    # donnot show percentage if < 10%\n",
    "    df_module_selected = df_module_selected[~df_module_selected['predicted_module'].isin([2,3])]\n",
    "\n",
    "    df_module_selected['predicted_module'].value_counts().plot.pie(autopct=lambda p: '{:.1f}%'.format(p) if p >= 10 else '', \n",
    "                                                          title=f'Module {module} Distribution',\n",
    "                                                          colors=[module_color.get(x, 'white') for x in df_module_selected['predicted_module'].value_counts().index])\n",
    "    plt.show()\n",
    "    plt.close()"
   ]
  },
  {
   "cell_type": "code",
   "execution_count": null,
   "id": "e0436549",
   "metadata": {},
   "outputs": [],
   "source": []
  }
 ],
 "metadata": {
  "kernelspec": {
   "display_name": "scenicplus",
   "language": "python",
   "name": "python3"
  },
  "language_info": {
   "codemirror_mode": {
    "name": "ipython",
    "version": 3
   },
   "file_extension": ".py",
   "mimetype": "text/x-python",
   "name": "python",
   "nbconvert_exporter": "python",
   "pygments_lexer": "ipython3",
   "version": "3.11.8"
  }
 },
 "nbformat": 4,
 "nbformat_minor": 5
}
