{
 "cells": [
  {
   "cell_type": "code",
   "execution_count": 5,
   "metadata": {},
   "outputs": [],
   "source": [
    "import dask.dataframe as dd\n"
   ]
  },
  {
   "cell_type": "code",
   "execution_count": 6,
   "metadata": {},
   "outputs": [],
   "source": [
    "ddf = dd.read_csv('/data2st1/junyi/snmc_bedgraph/merged/merge_peak_unified.bedGraph',sep='\\t',header=0, assume_missing=True)"
   ]
  },
  {
   "cell_type": "code",
   "execution_count": 7,
   "metadata": {},
   "outputs": [
    {
     "data": {
      "text/plain": [
       "Index(['chrom', 'start', 'end', 'ABC_NN.CGN', 'ACB-BST-FS_D1_Gaba.CGN',\n",
       "       'ADP-MPO_Trp73_Glut.CGN', 'AD_Serpinb7_Glut.CGN',\n",
       "       'AHN_Onecut3_Gaba.CGN', 'AHN-RCH-LHA_Otp_Fezf1_Glut.CGN',\n",
       "       'AHN-SBPV-PVHd_Pdrm12_Gaba.CGN',\n",
       "       ...\n",
       "       'TH_Prkcd_Grin2c_Glut.CGN', 'TMv-PMv_Tbx3_Hist-Gaba.CGN',\n",
       "       'TRS-BAC_Sln_Glut.CGN', 'TU-ARH_Otp_Six6_Gaba.CGN',\n",
       "       'VCO_Mafa_Meis2_Glut.CGN', 'Vip_Gaba.CGN', 'VLMC_NN.CGN',\n",
       "       'VMH_Fezf1_Glut.CGN', 'VMH_Nr5a1_Glut.CGN', 'ZI_Pax6_Gaba.CGN'],\n",
       "      dtype='object', length=277)"
      ]
     },
     "execution_count": 7,
     "metadata": {},
     "output_type": "execute_result"
    }
   ],
   "source": [
    "ddf.columns"
   ]
  },
  {
   "cell_type": "code",
   "execution_count": 8,
   "metadata": {},
   "outputs": [],
   "source": [
    "matrix = ddf.iloc[:,3:]"
   ]
  },
  {
   "cell_type": "code",
   "execution_count": 9,
   "metadata": {},
   "outputs": [],
   "source": [
    "matrix = matrix.compute()"
   ]
  },
  {
   "cell_type": "code",
   "execution_count": 10,
   "metadata": {},
   "outputs": [],
   "source": [
    "# import scipy.sparse as sp\n",
    "# sparse_matrix = sp.csr_matrix(matrix.values)\n",
    "sparse_matrix = matrix"
   ]
  },
  {
   "cell_type": "code",
   "execution_count": 13,
   "metadata": {},
   "outputs": [
    {
     "name": "stderr",
     "output_type": "stream",
     "text": [
      "/home/junyichen/anaconda3/envs/snapatac2/lib/python3.10/site-packages/anndata/_core/aligned_df.py:68: ImplicitModificationWarning: Transforming to str index.\n",
      "  warnings.warn(\"Transforming to str index.\", ImplicitModificationWarning)\n",
      "/home/junyichen/anaconda3/envs/snapatac2/lib/python3.10/site-packages/anndata/_core/anndata.py:1754: UserWarning: Observation names are not unique. To make them unique, call `.obs_names_make_unique`.\n",
      "  utils.warn_names_duplicates(\"obs\")\n"
     ]
    }
   ],
   "source": [
    "import scanpy as sc\n",
    "adata = sc.AnnData(sparse_matrix)"
   ]
  },
  {
   "cell_type": "code",
   "execution_count": 15,
   "metadata": {},
   "outputs": [
    {
     "name": "stderr",
     "output_type": "stream",
     "text": [
      "/home/junyichen/anaconda3/envs/snapatac2/lib/python3.10/site-packages/anndata/_core/anndata.py:1756: UserWarning: Variable names are not unique. To make them unique, call `.var_names_make_unique`.\n",
      "  utils.warn_names_duplicates(\"var\")\n"
     ]
    }
   ],
   "source": [
    "adata = adata.T"
   ]
  },
  {
   "cell_type": "code",
   "execution_count": 16,
   "metadata": {},
   "outputs": [],
   "source": [
    "region_df = ddf.iloc[:,0:3]"
   ]
  },
  {
   "cell_type": "code",
   "execution_count": 17,
   "metadata": {},
   "outputs": [],
   "source": [
    "region_df = region_df.compute()"
   ]
  },
  {
   "cell_type": "code",
   "execution_count": 18,
   "metadata": {},
   "outputs": [],
   "source": [
    "region_df['start'] = region_df['start'].astype(int)\n",
    "region_df['end'] = region_df['end'].astype(int)"
   ]
  },
  {
   "cell_type": "code",
   "execution_count": 19,
   "metadata": {},
   "outputs": [
    {
     "data": {
      "text/html": [
       "<div>\n",
       "<style scoped>\n",
       "    .dataframe tbody tr th:only-of-type {\n",
       "        vertical-align: middle;\n",
       "    }\n",
       "\n",
       "    .dataframe tbody tr th {\n",
       "        vertical-align: top;\n",
       "    }\n",
       "\n",
       "    .dataframe thead th {\n",
       "        text-align: right;\n",
       "    }\n",
       "</style>\n",
       "<table border=\"1\" class=\"dataframe\">\n",
       "  <thead>\n",
       "    <tr style=\"text-align: right;\">\n",
       "      <th></th>\n",
       "      <th>chrom</th>\n",
       "      <th>start</th>\n",
       "      <th>end</th>\n",
       "    </tr>\n",
       "  </thead>\n",
       "  <tbody>\n",
       "    <tr>\n",
       "      <th>0</th>\n",
       "      <td>chr1</td>\n",
       "      <td>3000826</td>\n",
       "      <td>3000828</td>\n",
       "    </tr>\n",
       "    <tr>\n",
       "      <th>1</th>\n",
       "      <td>chr1</td>\n",
       "      <td>3001006</td>\n",
       "      <td>3001019</td>\n",
       "    </tr>\n",
       "    <tr>\n",
       "      <th>2</th>\n",
       "      <td>chr1</td>\n",
       "      <td>3001276</td>\n",
       "      <td>3001278</td>\n",
       "    </tr>\n",
       "    <tr>\n",
       "      <th>3</th>\n",
       "      <td>chr1</td>\n",
       "      <td>3001628</td>\n",
       "      <td>3001630</td>\n",
       "    </tr>\n",
       "    <tr>\n",
       "      <th>4</th>\n",
       "      <td>chr1</td>\n",
       "      <td>3003225</td>\n",
       "      <td>3003380</td>\n",
       "    </tr>\n",
       "    <tr>\n",
       "      <th>...</th>\n",
       "      <td>...</td>\n",
       "      <td>...</td>\n",
       "      <td>...</td>\n",
       "    </tr>\n",
       "    <tr>\n",
       "      <th>87082</th>\n",
       "      <td>chrY</td>\n",
       "      <td>90840847</td>\n",
       "      <td>90841007</td>\n",
       "    </tr>\n",
       "    <tr>\n",
       "      <th>87083</th>\n",
       "      <td>chrY</td>\n",
       "      <td>90841179</td>\n",
       "      <td>90842358</td>\n",
       "    </tr>\n",
       "    <tr>\n",
       "      <th>87084</th>\n",
       "      <td>chrY</td>\n",
       "      <td>90842522</td>\n",
       "      <td>90842770</td>\n",
       "    </tr>\n",
       "    <tr>\n",
       "      <th>87085</th>\n",
       "      <td>chrY</td>\n",
       "      <td>90842936</td>\n",
       "      <td>90843476</td>\n",
       "    </tr>\n",
       "    <tr>\n",
       "      <th>87086</th>\n",
       "      <td>chrY</td>\n",
       "      <td>90843638</td>\n",
       "      <td>90844677</td>\n",
       "    </tr>\n",
       "  </tbody>\n",
       "</table>\n",
       "<p>5380485 rows × 3 columns</p>\n",
       "</div>"
      ],
      "text/plain": [
       "      chrom     start       end\n",
       "0      chr1   3000826   3000828\n",
       "1      chr1   3001006   3001019\n",
       "2      chr1   3001276   3001278\n",
       "3      chr1   3001628   3001630\n",
       "4      chr1   3003225   3003380\n",
       "...     ...       ...       ...\n",
       "87082  chrY  90840847  90841007\n",
       "87083  chrY  90841179  90842358\n",
       "87084  chrY  90842522  90842770\n",
       "87085  chrY  90842936  90843476\n",
       "87086  chrY  90843638  90844677\n",
       "\n",
       "[5380485 rows x 3 columns]"
      ]
     },
     "execution_count": 19,
     "metadata": {},
     "output_type": "execute_result"
    }
   ],
   "source": [
    "region_df"
   ]
  },
  {
   "cell_type": "code",
   "execution_count": 20,
   "metadata": {},
   "outputs": [],
   "source": [
    "adata.obs_names = ddf.columns[3:]"
   ]
  },
  {
   "cell_type": "code",
   "execution_count": 21,
   "metadata": {},
   "outputs": [
    {
     "name": "stderr",
     "output_type": "stream",
     "text": [
      "/home/junyichen/anaconda3/envs/snapatac2/lib/python3.10/site-packages/anndata/_core/anndata.py:747: UserWarning: \n",
      "AnnData expects .var.index to contain strings, but got values like:\n",
      "    [0, 1, 2, 3, 4]\n",
      "\n",
      "    Inferred to be: integer\n",
      "\n",
      "  value_idx = self._prep_dim_index(value.index, attr)\n"
     ]
    }
   ],
   "source": [
    "adata.var = region_df"
   ]
  },
  {
   "cell_type": "code",
   "execution_count": 22,
   "metadata": {},
   "outputs": [],
   "source": [
    "adata.var.index = adata.var['chrom'] + ':' + adata.var['start'].astype(str) + '-' + adata.var['end'].astype(str)"
   ]
  },
  {
   "cell_type": "code",
   "execution_count": 23,
   "metadata": {},
   "outputs": [],
   "source": [
    "adata.var.index = adata.var.index.astype(str)\n",
    "adata.obs.index = adata.obs.index.astype(str)"
   ]
  },
  {
   "cell_type": "code",
   "execution_count": 26,
   "metadata": {},
   "outputs": [],
   "source": [
    "adata.var.to_csv('/data2st1/junyi/snmc_bedgraph/merged/region_bed.bed', sep='\\t', header=False, index=False)"
   ]
  },
  {
   "cell_type": "code",
   "execution_count": 24,
   "metadata": {},
   "outputs": [],
   "source": [
    "adata.write_h5ad('/data2st1/junyi/snmc_bedgraph/merged/meth_sum_regions.h5ad')"
   ]
  },
  {
   "cell_type": "code",
   "execution_count": 27,
   "metadata": {},
   "outputs": [],
   "source": [
    "mapping = {\n",
    "    'Oligo_NN': 'OPC-Oligo',\n",
    "    'Microglia_NN': 'Immune',\n",
    "    'Endo_NN': 'Vascular',\n",
    "    'Astro-TE_NN': 'Astro-Epen',\n",
    "    'Astro-OLF_NN': 'Astro-Epen',\n",
    "    'Astro-NT_NN': 'Astro-Epen',\n",
    "    'Astroependymal_NN': 'Astro-Epen',\n",
    "    'Hypendymal_NN': 'Astro-Epen',\n",
    "    'Ependymal_NN': 'Astro-Epen',\n",
    "    'Tanycyte_NN': 'Astro-Epen',\n",
    "    'Bergmann_NN': 'Astro-Epen',\n",
    "    'CHOR_NN': 'Astro-Epen',\n",
    "    'Astro-CB_NN': 'Astro-Epen',\n",
    "    'OPC_NN': 'OPC-Oligo',\n",
    "    'OEC_NN': 'Astro-Epen',\n",
    "    'BAM_NN': 'Immune',\n",
    "    'DC_NN': 'Immune',\n",
    "    'Lymphoid_NN': 'Immune',\n",
    "    'VLMC_NN': 'Vascular',\n",
    "    'ABC_NN': 'Immune',\n",
    "    'SMC_NN': 'Vascular',\n",
    "    'Peri_NN': 'Vascular'\n",
    "}"
   ]
  },
  {
   "cell_type": "code",
   "execution_count": 28,
   "metadata": {},
   "outputs": [],
   "source": [
    "adata.obs['Subtype'] = adata.obs.index.str.replace('.CGN','')"
   ]
  },
  {
   "cell_type": "code",
   "execution_count": 29,
   "metadata": {},
   "outputs": [],
   "source": [
    "adata.obs['Celltype.l1'] = adata.obs['Subtype'].map(mapping).fillna('Neuron')\n"
   ]
  },
  {
   "cell_type": "code",
   "execution_count": 30,
   "metadata": {},
   "outputs": [],
   "source": [
    "adata.obs['Celltype.l2'] = adata.obs['Subtype'].str.split('_').str[0]+\"_\"+adata.obs['Subtype'].str.split('_').str[-1]"
   ]
  },
  {
   "cell_type": "code",
   "execution_count": 34,
   "metadata": {},
   "outputs": [
    {
     "data": {
      "text/plain": [
       "4.870273599875502"
      ]
     },
     "execution_count": 34,
     "metadata": {},
     "output_type": "execute_result"
    }
   ],
   "source": [
    "adata.X.mean()"
   ]
  },
  {
   "cell_type": "code",
   "execution_count": 38,
   "metadata": {},
   "outputs": [
    {
     "name": "stdout",
     "output_type": "stream",
     "text": [
      "Fasta index file not found. Creating index file\n"
     ]
    }
   ],
   "source": [
    "import pybedtools\n",
    "from pyfaidx import Fasta\n",
    "\n",
    "# Paths to your BED file and FASTA genome sequence file\n",
    "bed_file = '/data2st1/junyi/snmc_bedgraph/merged/region_bed.bed'  # Replace with your BED file\n",
    "fasta_file = '/data2st1/junyi/ref/GRCm38.p6.genome.fa'  # Replace with your FASTA file\n",
    "fasta_index = '/data2st1/junyi/ref/GRCm38.p6.genome.fa.fai' #Index file of the fasta file\n",
    "\n",
    "try:\n",
    "    genome = Fasta(fasta_file, sequence_always_upper=True, rebuild=False, build_index=False) # sequence_always_upper=True to ensure all sequences are uppercase\n",
    "except Exception as e:\n",
    "    print(\"Fasta index file not found. Creating index file\")\n",
    "    genome = Fasta(fasta_file, sequence_always_upper=True, rebuild=True)\n",
    "\n",
    "def count_c_bases(sequence):\n",
    "    \"\"\"Counts the number of 'C' bases in a sequence.\"\"\"\n",
    "    return sequence.upper().count('C')  # Ensure case-insensitivity\n"
   ]
  },
  {
   "cell_type": "code",
   "execution_count": 98,
   "metadata": {},
   "outputs": [],
   "source": [
    "bed = pybedtools.BedTool(bed_file)\n",
    "counts = []\n",
    "\n",
    "# Iterate through each region in the BED file\n",
    "for interval in bed:\n",
    "    chrom = interval.chrom\n",
    "    start = interval.start\n",
    "    end = interval.end\n",
    "\n",
    "    # Extract the genomic sequence for the region\n",
    "    try:\n",
    "        sequence = genome[chrom][start-1:end].seq\n",
    "    except KeyError as e:\n",
    "        print(f\"Warning: Chromosome {chrom} not found in FASTA file. Skipping.\")\n",
    "        continue\n",
    "    except IndexError as e:\n",
    "        print(f\"Warning: Indexing error for {chrom}:{start}-{end}. Skipping.\")\n",
    "        continue\n",
    "\n",
    "    # Count the number of 'C' bases in the sequence\n",
    "    c_count = count_c_bases(sequence)\n",
    "\n",
    "    counts.append(c_count)\n",
    "    # Print the results (you can modify this to save to a file)\n"
   ]
  },
  {
   "cell_type": "code",
   "execution_count": 100,
   "metadata": {},
   "outputs": [],
   "source": [
    "adata.var['C_count'] = counts"
   ]
  },
  {
   "cell_type": "code",
   "execution_count": 45,
   "metadata": {},
   "outputs": [],
   "source": [
    "adata.write_h5ad('/data2st1/junyi/snmc_bedgraph/merged/meth_sum_regions.h5ad')"
   ]
  },
  {
   "cell_type": "code",
   "execution_count": null,
   "metadata": {},
   "outputs": [],
   "source": [
    "#adata.layers['raw'] = adata.X.copy() "
   ]
  },
  {
   "cell_type": "code",
   "execution_count": 102,
   "metadata": {},
   "outputs": [],
   "source": [
    "adata.X = adata.layers['raw'] / adata.var['C_count'].values"
   ]
  },
  {
   "cell_type": "code",
   "execution_count": 111,
   "metadata": {},
   "outputs": [
    {
     "data": {
      "text/plain": [
       "array([1280.223943 , 1190.129391 ,  938.749034 , 1102.214862 ,\n",
       "       1205.490717 , 1311.250237 , 1237.701641 , 1128.234862 ,\n",
       "       1230.392805 ,  898.253682 , 1154.166254 , 1484.215099 ,\n",
       "       1484.698233 , 1293.283435 ,  929.948259 ,  868.68483  ,\n",
       "        865.949477 , 1215.059059 ,  780.631231 ,  929.526633 ,\n",
       "       1050.766867 , 1458.792721 , 1376.572657 , 1446.557257 ,\n",
       "       1409.071374 , 1299.763842 ,  998.9035301, 1348.047269 ,\n",
       "        911.682029 , 1359.946256 , 1478.12818  , 1304.137432 ,\n",
       "       1167.152821 ,  640.788821 ,  884.770037 , 1139.499388 ,\n",
       "        776.18189  , 1479.979319 , 1326.635972 , 1364.67393  ,\n",
       "        983.158961 , 1143.58617  , 1076.575678 , 1311.925773 ,\n",
       "        889.563252 , 1225.385729 , 1095.435068 , 1069.220209 ,\n",
       "       1315.532709 , 1459.953368 , 1359.389872 , 1342.625966 ,\n",
       "       1066.265151 , 1236.817373 ,  853.883559 ,  944.265397 ,\n",
       "        698.630373 ,  754.49561  , 1241.020984 , 1171.15038  ,\n",
       "       1206.429986 , 1055.339366 ,  813.770763 ,  862.408463 ,\n",
       "       1035.958265 , 1403.057598 , 1480.081809 , 1137.589108 ,\n",
       "        942.489281 ,  846.902842 ,  958.293237 , 1479.337144 ,\n",
       "       1481.210943 , 1445.567462 , 1471.103082 , 1492.647812 ,\n",
       "       1402.179165 , 1468.735408 , 1059.458207 , 1078.557628 ,\n",
       "       1472.182863 , 1316.787401 , 1422.978691 , 1480.105516 ,\n",
       "       1477.712639 , 1501.454581 , 1484.909651 , 1467.225589 ,\n",
       "       1388.294409 , 1478.73218  , 1476.053525 , 1464.402582 ,\n",
       "       1497.732404 , 1211.46044  ,  906.880383 , 1067.365112 ,\n",
       "        814.290047 , 1153.008299 ,  764.747073 , 1223.582749 ,\n",
       "       1181.053458 , 1039.173114 , 1146.041257 ,  865.686779 ,\n",
       "        840.922375 ,  999.325214 , 1393.082135 , 1226.617048 ,\n",
       "       1427.992416 , 1423.351097 , 1089.092175 , 1099.386977 ,\n",
       "       1309.680645 , 1337.601303 ,  786.79566  , 1207.180901 ,\n",
       "        919.095718 , 1165.225936 ,  872.602556 , 1220.214839 ,\n",
       "       1253.222147 ,  825.277352 , 1196.079337 ,  617.064943 ,\n",
       "       1308.083595 , 1480.667165 ,  778.816654 ,  943.206808 ,\n",
       "       1132.708514 , 1176.637201 , 1138.134505 , 1155.264632 ,\n",
       "       1145.077144 ,  895.828504 ,  897.375508 , 1219.017813 ,\n",
       "        995.473769 , 1132.328851 , 1490.888659 , 1033.25442  ,\n",
       "       1276.807606 , 1496.763423 , 1013.600728 ,  965.4922   ,\n",
       "       1289.352031 ,  817.001602 , 1162.990973 ,  849.175299 ,\n",
       "        759.812991 , 1207.183101 , 1371.599825 ,  825.873788 ,\n",
       "        845.151624 , 1392.765852 ,  855.988538 , 1454.744866 ,\n",
       "        855.65663  , 1482.297871 , 1460.669166 , 1459.487666 ,\n",
       "       1297.826267 , 1209.365227 , 1116.885503 , 1305.845928 ,\n",
       "       1244.198351 , 1299.274039 , 1416.829822 , 1276.708479 ,\n",
       "       1312.993769 , 1099.84327  , 1351.458484 , 1269.799553 ,\n",
       "       1317.531134 ,  783.943853 , 1225.911609 , 1265.18748  ,\n",
       "       1033.640898 , 1384.955297 , 1179.312247 , 1090.718799 ,\n",
       "        983.25954  , 1225.161368 , 1095.038093 , 1278.753632 ,\n",
       "       1319.494853 , 1455.343481 , 1324.758361 ,  833.097665 ,\n",
       "       1318.505597 , 1261.800032 , 1349.908186 , 1287.17648  ,\n",
       "       1103.299069 ,  889.473889 ,  891.196423 , 1210.811014 ,\n",
       "       1180.675277 , 1296.167706 ,  898.011982 , 1238.69652  ,\n",
       "        881.723405 ,  789.779302 ,  956.860922 , 1160.872063 ,\n",
       "       1043.731701 , 1046.383066 , 1461.675301 , 1387.758157 ,\n",
       "       1039.400167 , 1492.265377 , 1096.825685 ,  811.431163 ,\n",
       "       1278.548324 , 1239.408676 , 1340.36911  , 1109.083502 ,\n",
       "       1331.626931 , 1311.556614 , 1146.820792 , 1479.490225 ,\n",
       "        985.70241  , 1264.556999 , 1140.476322 ,  938.390897 ,\n",
       "       1271.41332  , 1430.631709 ,  879.156754 , 1089.398467 ,\n",
       "       1339.89841  , 1151.194591 , 1309.508271 ,  920.60451  ,\n",
       "       1077.958263 ,  949.348165 , 1440.099096 , 1439.050515 ,\n",
       "       1368.133266 , 1383.124317 , 1237.43212  , 1374.911356 ,\n",
       "       1077.680437 ,  932.460465 , 1348.534159 , 1455.652576 ,\n",
       "       1413.569305 , 1455.892313 , 1309.439695 , 1281.367186 ,\n",
       "       1476.695328 ,  830.470593 , 1107.437259 ,  883.942896 ,\n",
       "       1129.16992  ,  896.875996 , 1319.352041 , 1505.288576 ,\n",
       "       1445.764168 , 1470.426151 , 1418.094828 , 1473.144112 ,\n",
       "       1155.406496 , 1472.496944 , 1166.262454 , 1312.408324 ,\n",
       "       1489.733157 ,  771.062991 , 1282.052974 , 1219.183834 ,\n",
       "       1135.118468 , 1484.817385 , 1420.599348 , 1097.775886 ,\n",
       "       1384.882763 , 1492.405731 ])"
      ]
     },
     "execution_count": 111,
     "metadata": {},
     "output_type": "execute_result"
    }
   ],
   "source": [
    "adata.layers['raw'].max(axis=1)"
   ]
  },
  {
   "cell_type": "code",
   "execution_count": 114,
   "metadata": {},
   "outputs": [
    {
     "data": {
      "text/plain": [
       "5380485"
      ]
     },
     "execution_count": 114,
     "metadata": {},
     "output_type": "execute_result"
    }
   ],
   "source": [
    "len(adata.X.max(axis=0))"
   ]
  },
  {
   "cell_type": "code",
   "execution_count": 121,
   "metadata": {},
   "outputs": [],
   "source": [
    "x_argmax = adata.X.argmax(axis=1)"
   ]
  },
  {
   "cell_type": "code",
   "execution_count": 128,
   "metadata": {},
   "outputs": [],
   "source": [
    "maxlarge1 = adata.X.max(axis=0) > 1"
   ]
  },
  {
   "cell_type": "code",
   "execution_count": 132,
   "metadata": {},
   "outputs": [
    {
     "data": {
      "text/plain": [
       "5380485"
      ]
     },
     "execution_count": 132,
     "metadata": {},
     "output_type": "execute_result"
    }
   ],
   "source": [
    "len(maxlarge1)"
   ]
  },
  {
   "cell_type": "code",
   "execution_count": 135,
   "metadata": {},
   "outputs": [
    {
     "data": {
      "text/html": [
       "<div>\n",
       "<style scoped>\n",
       "    .dataframe tbody tr th:only-of-type {\n",
       "        vertical-align: middle;\n",
       "    }\n",
       "\n",
       "    .dataframe tbody tr th {\n",
       "        vertical-align: top;\n",
       "    }\n",
       "\n",
       "    .dataframe thead th {\n",
       "        text-align: right;\n",
       "    }\n",
       "</style>\n",
       "<table border=\"1\" class=\"dataframe\">\n",
       "  <thead>\n",
       "    <tr style=\"text-align: right;\">\n",
       "      <th></th>\n",
       "      <th>chrom</th>\n",
       "      <th>start</th>\n",
       "      <th>end</th>\n",
       "      <th>C_count</th>\n",
       "    </tr>\n",
       "  </thead>\n",
       "  <tbody>\n",
       "    <tr>\n",
       "      <th>chr5:125166307-125166806</th>\n",
       "      <td>chr5</td>\n",
       "      <td>125166307</td>\n",
       "      <td>125166806</td>\n",
       "      <td>97</td>\n",
       "    </tr>\n",
       "    <tr>\n",
       "      <th>chr1:185458101-185458724</th>\n",
       "      <td>chr1</td>\n",
       "      <td>185458101</td>\n",
       "      <td>185458724</td>\n",
       "      <td>93</td>\n",
       "    </tr>\n",
       "    <tr>\n",
       "      <th>chr13:77109385-77109897</th>\n",
       "      <td>chr13</td>\n",
       "      <td>77109385</td>\n",
       "      <td>77109897</td>\n",
       "      <td>75</td>\n",
       "    </tr>\n",
       "    <tr>\n",
       "      <th>chr12:50807500-50808099</th>\n",
       "      <td>chr12</td>\n",
       "      <td>50807500</td>\n",
       "      <td>50808099</td>\n",
       "      <td>63</td>\n",
       "    </tr>\n",
       "    <tr>\n",
       "      <th>chrX:107589505-107590059</th>\n",
       "      <td>chrX</td>\n",
       "      <td>107589505</td>\n",
       "      <td>107590059</td>\n",
       "      <td>62</td>\n",
       "    </tr>\n",
       "    <tr>\n",
       "      <th>...</th>\n",
       "      <td>...</td>\n",
       "      <td>...</td>\n",
       "      <td>...</td>\n",
       "      <td>...</td>\n",
       "    </tr>\n",
       "    <tr>\n",
       "      <th>chr6:58863681-58863683</th>\n",
       "      <td>chr6</td>\n",
       "      <td>58863681</td>\n",
       "      <td>58863683</td>\n",
       "      <td>1</td>\n",
       "    </tr>\n",
       "    <tr>\n",
       "      <th>chr6:58863430-58863432</th>\n",
       "      <td>chr6</td>\n",
       "      <td>58863430</td>\n",
       "      <td>58863432</td>\n",
       "      <td>1</td>\n",
       "    </tr>\n",
       "    <tr>\n",
       "      <th>chr6:58858146-58858148</th>\n",
       "      <td>chr6</td>\n",
       "      <td>58858146</td>\n",
       "      <td>58858148</td>\n",
       "      <td>1</td>\n",
       "    </tr>\n",
       "    <tr>\n",
       "      <th>chr6:58855670-58855672</th>\n",
       "      <td>chr6</td>\n",
       "      <td>58855670</td>\n",
       "      <td>58855672</td>\n",
       "      <td>1</td>\n",
       "    </tr>\n",
       "    <tr>\n",
       "      <th>chr6:58884192-58884194</th>\n",
       "      <td>chr6</td>\n",
       "      <td>58884192</td>\n",
       "      <td>58884194</td>\n",
       "      <td>1</td>\n",
       "    </tr>\n",
       "  </tbody>\n",
       "</table>\n",
       "<p>1603548 rows × 4 columns</p>\n",
       "</div>"
      ],
      "text/plain": [
       "                          chrom      start        end  C_count\n",
       "chr5:125166307-125166806   chr5  125166307  125166806       97\n",
       "chr1:185458101-185458724   chr1  185458101  185458724       93\n",
       "chr13:77109385-77109897   chr13   77109385   77109897       75\n",
       "chr12:50807500-50808099   chr12   50807500   50808099       63\n",
       "chrX:107589505-107590059   chrX  107589505  107590059       62\n",
       "...                         ...        ...        ...      ...\n",
       "chr6:58863681-58863683     chr6   58863681   58863683        1\n",
       "chr6:58863430-58863432     chr6   58863430   58863432        1\n",
       "chr6:58858146-58858148     chr6   58858146   58858148        1\n",
       "chr6:58855670-58855672     chr6   58855670   58855672        1\n",
       "chr6:58884192-58884194     chr6   58884192   58884194        1\n",
       "\n",
       "[1603548 rows x 4 columns]"
      ]
     },
     "execution_count": 135,
     "metadata": {},
     "output_type": "execute_result"
    }
   ],
   "source": [
    "adata.var[maxlarge1].sort_values('C_count', ascending=False)"
   ]
  },
  {
   "cell_type": "code",
   "execution_count": 96,
   "metadata": {},
   "outputs": [
    {
     "data": {
      "text/plain": [
       ">chr1:3001628-3001630\n",
       "CCG"
      ]
     },
     "execution_count": 96,
     "metadata": {},
     "output_type": "execute_result"
    }
   ],
   "source": [
    "genome[0][3001627:3001630]"
   ]
  },
  {
   "cell_type": "code",
   "execution_count": 57,
   "metadata": {},
   "outputs": [
    {
     "data": {
      "text/plain": [
       "chr1:3000826-3000828        1\n",
       "chr1:3001006-3001019        3\n",
       "chr1:3001276-3001278        1\n",
       "chr1:3001628-3001630        1\n",
       "chr1:3003225-3003380       40\n",
       "                         ... \n",
       "chrY:90840847-90841007     33\n",
       "chrY:90841179-90842358    276\n",
       "chrY:90842522-90842770     55\n",
       "chrY:90842936-90843476    105\n",
       "chrY:90843638-90844677    237\n",
       "Name: C_count, Length: 5380485, dtype: int64"
      ]
     },
     "execution_count": 57,
     "metadata": {},
     "output_type": "execute_result"
    }
   ],
   "source": [
    "adata.var['C_count']"
   ]
  },
  {
   "cell_type": "code",
   "execution_count": 77,
   "metadata": {},
   "outputs": [
    {
     "data": {
      "text/plain": [
       "array([ 1.983398,  3.978028,  1.988281, ...,  3.      ,  0.      ,\n",
       "       13.333008])"
      ]
     },
     "execution_count": 77,
     "metadata": {},
     "output_type": "execute_result"
    }
   ],
   "source": [
    "adata.layers['raw'].max(axis=0)"
   ]
  }
 ],
 "metadata": {
  "kernelspec": {
   "display_name": "snapatac2",
   "language": "python",
   "name": "python3"
  },
  "language_info": {
   "codemirror_mode": {
    "name": "ipython",
    "version": 3
   },
   "file_extension": ".py",
   "mimetype": "text/x-python",
   "name": "python",
   "nbconvert_exporter": "python",
   "pygments_lexer": "ipython3",
   "version": "3.10.0"
  }
 },
 "nbformat": 4,
 "nbformat_minor": 2
}
