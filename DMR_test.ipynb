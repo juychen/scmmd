{
 "cells": [
  {
   "cell_type": "code",
   "execution_count": 2,
   "metadata": {},
   "outputs": [],
   "source": [
    "import dask.dataframe as dd\n"
   ]
  },
  {
   "cell_type": "code",
   "execution_count": 3,
   "metadata": {},
   "outputs": [],
   "source": [
    "ddf = dd.read_csv('/data2st1/junyi/snmc_bedgraph/merged/all_unified.bedGraph',sep='\\t',header=0, assume_missing=True)"
   ]
  },
  {
   "cell_type": "code",
   "execution_count": 5,
   "metadata": {},
   "outputs": [
    {
     "data": {
      "text/plain": [
       "Index(['chrom', 'start', 'end', 'ABC_NN.CGN', 'ACB-BST-FS_D1_Gaba.CGN',\n",
       "       'ADP-MPO_Trp73_Glut.CGN', 'AD_Serpinb7_Glut.CGN',\n",
       "       'AHN_Onecut3_Gaba.CGN', 'AHN-RCH-LHA_Otp_Fezf1_Glut.CGN',\n",
       "       'AHN-SBPV-PVHd_Pdrm12_Gaba.CGN',\n",
       "       ...\n",
       "       'TH_Prkcd_Grin2c_Glut.CGN', 'TMv-PMv_Tbx3_Hist-Gaba.CGN',\n",
       "       'TRS-BAC_Sln_Glut.CGN', 'TU-ARH_Otp_Six6_Gaba.CGN',\n",
       "       'VCO_Mafa_Meis2_Glut.CGN', 'Vip_Gaba.CGN', 'VLMC_NN.CGN',\n",
       "       'VMH_Fezf1_Glut.CGN', 'VMH_Nr5a1_Glut.CGN', 'ZI_Pax6_Gaba.CGN'],\n",
       "      dtype='object', length=277)"
      ]
     },
     "execution_count": 5,
     "metadata": {},
     "output_type": "execute_result"
    }
   ],
   "source": [
    "ddf.columns"
   ]
  },
  {
   "cell_type": "code",
   "execution_count": 9,
   "metadata": {},
   "outputs": [],
   "source": [
    "matrix = ddf.iloc[:,3:]"
   ]
  },
  {
   "cell_type": "code",
   "execution_count": 10,
   "metadata": {},
   "outputs": [],
   "source": [
    "matrix = matrix.compute()"
   ]
  },
  {
   "cell_type": "code",
   "execution_count": 11,
   "metadata": {},
   "outputs": [],
   "source": [
    "import scipy.sparse as sp\n",
    "sparse_matrix = sp.csr_matrix(matrix.values)\n"
   ]
  },
  {
   "cell_type": "code",
   "execution_count": 13,
   "metadata": {},
   "outputs": [],
   "source": [
    "import scanpy as sc\n",
    "adata = sc.AnnData(sparse_matrix)"
   ]
  },
  {
   "cell_type": "code",
   "execution_count": 16,
   "metadata": {},
   "outputs": [],
   "source": [
    "adata = adata.T"
   ]
  },
  {
   "cell_type": "code",
   "execution_count": 22,
   "metadata": {},
   "outputs": [],
   "source": [
    "region_df = ddf.iloc[:,0:3]"
   ]
  },
  {
   "cell_type": "code",
   "execution_count": 24,
   "metadata": {},
   "outputs": [],
   "source": [
    "region_df = region_df.compute()"
   ]
  },
  {
   "cell_type": "code",
   "execution_count": 26,
   "metadata": {},
   "outputs": [],
   "source": [
    "region_df['start'] = region_df['start'].astype(int)\n",
    "region_df['end'] = region_df['end'].astype(int)"
   ]
  },
  {
   "cell_type": "code",
   "execution_count": 27,
   "metadata": {},
   "outputs": [
    {
     "data": {
      "text/html": [
       "<div>\n",
       "<style scoped>\n",
       "    .dataframe tbody tr th:only-of-type {\n",
       "        vertical-align: middle;\n",
       "    }\n",
       "\n",
       "    .dataframe tbody tr th {\n",
       "        vertical-align: top;\n",
       "    }\n",
       "\n",
       "    .dataframe thead th {\n",
       "        text-align: right;\n",
       "    }\n",
       "</style>\n",
       "<table border=\"1\" class=\"dataframe\">\n",
       "  <thead>\n",
       "    <tr style=\"text-align: right;\">\n",
       "      <th></th>\n",
       "      <th>chrom</th>\n",
       "      <th>start</th>\n",
       "      <th>end</th>\n",
       "    </tr>\n",
       "  </thead>\n",
       "  <tbody>\n",
       "    <tr>\n",
       "      <th>0</th>\n",
       "      <td>chr1</td>\n",
       "      <td>3000826</td>\n",
       "      <td>3000827</td>\n",
       "    </tr>\n",
       "    <tr>\n",
       "      <th>1</th>\n",
       "      <td>chr1</td>\n",
       "      <td>3000827</td>\n",
       "      <td>3000828</td>\n",
       "    </tr>\n",
       "    <tr>\n",
       "      <th>2</th>\n",
       "      <td>chr1</td>\n",
       "      <td>3001006</td>\n",
       "      <td>3001007</td>\n",
       "    </tr>\n",
       "    <tr>\n",
       "      <th>3</th>\n",
       "      <td>chr1</td>\n",
       "      <td>3001007</td>\n",
       "      <td>3001008</td>\n",
       "    </tr>\n",
       "    <tr>\n",
       "      <th>4</th>\n",
       "      <td>chr1</td>\n",
       "      <td>3001017</td>\n",
       "      <td>3001018</td>\n",
       "    </tr>\n",
       "    <tr>\n",
       "      <th>...</th>\n",
       "      <td>...</td>\n",
       "      <td>...</td>\n",
       "      <td>...</td>\n",
       "    </tr>\n",
       "    <tr>\n",
       "      <th>76479</th>\n",
       "      <td>chrY</td>\n",
       "      <td>90844638</td>\n",
       "      <td>90844639</td>\n",
       "    </tr>\n",
       "    <tr>\n",
       "      <th>76480</th>\n",
       "      <td>chrY</td>\n",
       "      <td>90844648</td>\n",
       "      <td>90844649</td>\n",
       "    </tr>\n",
       "    <tr>\n",
       "      <th>76481</th>\n",
       "      <td>chrY</td>\n",
       "      <td>90844649</td>\n",
       "      <td>90844650</td>\n",
       "    </tr>\n",
       "    <tr>\n",
       "      <th>76482</th>\n",
       "      <td>chrY</td>\n",
       "      <td>90844675</td>\n",
       "      <td>90844676</td>\n",
       "    </tr>\n",
       "    <tr>\n",
       "      <th>76483</th>\n",
       "      <td>chrY</td>\n",
       "      <td>90844676</td>\n",
       "      <td>90844677</td>\n",
       "    </tr>\n",
       "  </tbody>\n",
       "</table>\n",
       "<p>43329127 rows × 3 columns</p>\n",
       "</div>"
      ],
      "text/plain": [
       "      chrom     start       end\n",
       "0      chr1   3000826   3000827\n",
       "1      chr1   3000827   3000828\n",
       "2      chr1   3001006   3001007\n",
       "3      chr1   3001007   3001008\n",
       "4      chr1   3001017   3001018\n",
       "...     ...       ...       ...\n",
       "76479  chrY  90844638  90844639\n",
       "76480  chrY  90844648  90844649\n",
       "76481  chrY  90844649  90844650\n",
       "76482  chrY  90844675  90844676\n",
       "76483  chrY  90844676  90844677\n",
       "\n",
       "[43329127 rows x 3 columns]"
      ]
     },
     "execution_count": 27,
     "metadata": {},
     "output_type": "execute_result"
    }
   ],
   "source": [
    "region_df"
   ]
  },
  {
   "cell_type": "code",
   "execution_count": 21,
   "metadata": {},
   "outputs": [],
   "source": [
    "adata.obs_names = ddf.columns[3:]"
   ]
  },
  {
   "cell_type": "code",
   "execution_count": 29,
   "metadata": {},
   "outputs": [
    {
     "name": "stderr",
     "output_type": "stream",
     "text": [
      "/home/junyichen/anaconda3/envs/snapatac2/lib/python3.10/site-packages/anndata/_core/anndata.py:747: UserWarning: \n",
      "AnnData expects .var.index to contain strings, but got values like:\n",
      "    [0, 1, 2, 3, 4]\n",
      "\n",
      "    Inferred to be: integer\n",
      "\n",
      "  value_idx = self._prep_dim_index(value.index, attr)\n"
     ]
    }
   ],
   "source": [
    "adata.var = region_df"
   ]
  },
  {
   "cell_type": "code",
   "execution_count": 32,
   "metadata": {},
   "outputs": [],
   "source": [
    "adata.var.index = adata.var['chrom'] + ':' + adata.var['start'].astype(str) + '-' + adata.var['end'].astype(str)"
   ]
  },
  {
   "cell_type": "code",
   "execution_count": 35,
   "metadata": {},
   "outputs": [],
   "source": [
    "adata.var.index = adata.var.index.astype(str)\n",
    "adata.obs.index = adata.obs.index.astype(str)"
   ]
  },
  {
   "cell_type": "code",
   "execution_count": 36,
   "metadata": {},
   "outputs": [],
   "source": [
    "adata.write_h5ad('/data2st1/junyi/snmc_bedgraph/merged/meth_frac_all.h5ad')"
   ]
  },
  {
   "cell_type": "code",
   "execution_count": 39,
   "metadata": {},
   "outputs": [],
   "source": [
    "mapping = {\n",
    "    'Oligo_NN': 'OPC-Oligo',\n",
    "    'Microglia_NN': 'Immune',\n",
    "    'Endo_NN': 'Vascular',\n",
    "    'Astro-TE_NN': 'Astro-Epen',\n",
    "    'Astro-OLF_NN': 'Astro-Epen',\n",
    "    'Astro-NT_NN': 'Astro-Epen',\n",
    "    'Astroependymal_NN': 'Astro-Epen',\n",
    "    'Hypendymal_NN': 'Astro-Epen',\n",
    "    'Ependymal_NN': 'Astro-Epen',\n",
    "    'Tanycyte_NN': 'Astro-Epen',\n",
    "    'Bergmann_NN': 'Astro-Epen',\n",
    "    'CHOR_NN': 'Astro-Epen',\n",
    "    'Astro-CB_NN': 'Astro-Epen',\n",
    "    'OPC_NN': 'OPC-Oligo',\n",
    "    'OEC_NN': 'Astro-Epen',\n",
    "    'BAM_NN': 'Immune',\n",
    "    'DC_NN': 'Immune',\n",
    "    'Lymphoid_NN': 'Immune',\n",
    "    'VLMC_NN': 'Vascular',\n",
    "    'ABC_NN': 'Immune',\n",
    "    'SMC_NN': 'Vascular',\n",
    "    'Peri_NN': 'Vascular'\n",
    "}"
   ]
  },
  {
   "cell_type": "code",
   "execution_count": 52,
   "metadata": {},
   "outputs": [],
   "source": [
    "adata.obs['Subtype'] = adata.obs.index.str.replace('.CGN','')"
   ]
  },
  {
   "cell_type": "code",
   "execution_count": 53,
   "metadata": {},
   "outputs": [],
   "source": [
    "adata.obs['Celltype.l1'] = adata.obs['Subtype'].map(mapping).fillna('Neuron')\n"
   ]
  },
  {
   "cell_type": "code",
   "execution_count": 58,
   "metadata": {},
   "outputs": [],
   "source": [
    "adata.obs['Celltype.l2'] = adata.obs['Subtype'].str.split('_').str[0]+\"_\"+adata.obs['Subtype'].str.split('_').str[-1]"
   ]
  },
  {
   "cell_type": "code",
   "execution_count": 60,
   "metadata": {},
   "outputs": [
    {
     "ename": "",
     "evalue": "",
     "output_type": "error",
     "traceback": [
      "\u001b[1;31mThe Kernel crashed while executing code in the current cell or a previous cell. \n",
      "\u001b[1;31mPlease review the code in the cell(s) to identify a possible cause of the failure. \n",
      "\u001b[1;31mClick <a href='https://aka.ms/vscodeJupyterKernelCrash'>here</a> for more info. \n",
      "\u001b[1;31mView Jupyter <a href='command:jupyter.viewOutput'>log</a> for further details."
     ]
    }
   ],
   "source": [
    "sc.pp.highly_variable_genes(adata, n_top_genes=5000)"
   ]
  }
 ],
 "metadata": {
  "kernelspec": {
   "display_name": "snapatac2",
   "language": "python",
   "name": "python3"
  },
  "language_info": {
   "codemirror_mode": {
    "name": "ipython",
    "version": 3
   },
   "file_extension": ".py",
   "mimetype": "text/x-python",
   "name": "python",
   "nbconvert_exporter": "python",
   "pygments_lexer": "ipython3",
   "version": "3.10.0"
  }
 },
 "nbformat": 4,
 "nbformat_minor": 2
}
