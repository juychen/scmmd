{
 "cells": [
  {
   "cell_type": "code",
   "execution_count": null,
   "metadata": {},
   "outputs": [],
   "source": [
    "import snapatac2 as snap\n",
    "import numpy as np\n",
    "import os\n",
    "import scanpy as sc\n",
    "import pandas as pd\n",
    "snap.__version__\n"
   ]
  },
  {
   "cell_type": "code",
   "execution_count": null,
   "metadata": {},
   "outputs": [],
   "source": [
    "# files = [\n",
    "# # '/data1st2/hannan_25/data/snATAC_process/snATAC_01_bam/MW45A_HIP/',\n",
    "# # '/data1st2/hannan_25/data/snATAC_process/snATAC_01_bam/MC48D_HIP/',\n",
    "# # '/data1st2/hannan_25/data/snATAC_process/snATAC_01_bam/MC39C_HIP/',\n",
    "# # '/data1st2/hannan_25/data/snATAC_process/snATAC_01_bam/FW57B_AMY/',\n",
    "# # '/data1st2/hannan_25/data/snATAC_process/snATAC_01_bam/MC39A_HIP/',\n",
    "# # '/data1st2/hannan_25/data/snATAC_process/snATAC_01_bam/MC37A_HIP/',\n",
    "# # '/data1st2/hannan_25/data/snATAC_process/snATAC_01_bam/MW51A_PFC/',\n",
    "# # '/data1st2/hannan_25/data/snATAC_process/snATAC_01_bam/MC52E_AMY/',\n",
    "# # '/data1st2/hannan_25/data/snATAC_process/snATAC_01_bam/MW47A_HIP/',\n",
    "# # '/data1st2/hannan_25/data/snATAC_process/snATAC_01_bam/MW47A_AMY/',\n",
    "# # '/data1st2/hannan_25/data/snATAC_process/snATAC_01_bam/MW51A_AMY/',\n",
    "# # '/data1st2/hannan_25/data/snATAC_process/snATAC_01_bam/MC50B_HIP/',\n",
    "# # '/data1st2/hannan_25/data/snATAC_process/snATAC_01_bam/MC50B_AMY/',\n",
    "# # '/data1st2/hannan_25/data/snATAC_process/snATAC_01_bam/MC50B_PFC/',\n",
    "# # '/data1st2/hannan_25/data/snATAC_process/snATAC_01_bam/MW51A_HIP/',\n",
    "# # '/data1st2/hannan_25/data/snATAC_process/snATAC_01_bam/MW47A_PFC/',\n",
    "# # '/data1st2/hannan_25/data/snATAC_process/snATAC_01_bam/MC52E_PFC/',\n",
    "# # '/data1st2/hannan_25/data/snATAC_process/snATAC_01_bam/W26_0_2_Perfrontal/',\n",
    "# # '/data1st2/hannan_25/data/snATAC_process/snATAC_01_bam/W25_0_1_Perfrontal/'\n",
    "\n",
    "# # '/data1st2/hannan_25/data/snATAC_process/snATAC_01_bam/MW65A-AMY/outs'\n",
    "# ]\n",
    "# files\n"
   ]
  },
  {
   "cell_type": "code",
   "execution_count": null,
   "metadata": {},
   "outputs": [],
   "source": [
    "# files = [ os.path.join(fl,\"outs\",\"fragments.tsv.gz\") for fl in files]"
   ]
  },
  {
   "cell_type": "code",
   "execution_count": null,
   "metadata": {},
   "outputs": [],
   "source": [
    "# %%time\n",
    "# data = snap.pp.import_fragments(\n",
    "#     '/data1st2/hannan_25/data/snATAC_process/snATAC_01_bam/MW65A-AMY/outs/fragments.tsv.gz',\n",
    "#     chrom_sizes=snap.genome.mm10,\n",
    "#     file=\"/data2st1/junyi/output/atac0627/MW65A_AMY.h5ad\",  # Optional\n",
    "#     sorted_by_barcode=False,\n",
    "# )\n"
   ]
  },
  {
   "cell_type": "code",
   "execution_count": null,
   "metadata": {},
   "outputs": [],
   "source": [
    "%%time\n",
    "# fragment_file = \"/data2st1/junyi/WT_W26/outs/fragments.tsv.gz\"\n",
    "# chromzie_file = \"/data2st1/junyi/ref/mm10.chrom.sizes\"\n",
    "\n",
    "# # Load the fragment file\n",
    "# data = snap.pp.import_fragments(\n",
    "#     files,\n",
    "#     file = [  \"/data2st1/junyi/output/atac0627/\"+fl.split(\"/\")[-3]+\".h5ad\" for fl in files]\n",
    "#     , chrom_sizes=snap.genome.mm10, \n",
    "#     min_num_fragments=1000,\n",
    "#     sorted_by_barcode=False)\n"
   ]
  },
  {
   "cell_type": "code",
   "execution_count": null,
   "metadata": {},
   "outputs": [],
   "source": [
    "# adatas= data"
   ]
  },
  {
   "cell_type": "code",
   "execution_count": null,
   "metadata": {},
   "outputs": [],
   "source": [
    "# adatas"
   ]
  },
  {
   "cell_type": "code",
   "execution_count": null,
   "metadata": {},
   "outputs": [],
   "source": [
    "# %%time\n",
    "# snap.metrics.tsse(data, snap.genome.mm10)\n"
   ]
  },
  {
   "cell_type": "code",
   "execution_count": null,
   "metadata": {},
   "outputs": [],
   "source": [
    "# fig = snap.pl.tsse(data, interactive=False)"
   ]
  },
  {
   "cell_type": "code",
   "execution_count": null,
   "metadata": {},
   "outputs": [],
   "source": [
    "# display(fig)"
   ]
  },
  {
   "cell_type": "code",
   "execution_count": null,
   "metadata": {},
   "outputs": [],
   "source": [
    "# from PIL import Image\n",
    "# figures  = []\n",
    "# names = []\n",
    "# for data in adatas:\n",
    "#     fig = snap.pl.tsse(data, interactive=False)\n",
    "#     print(data.filename)\n",
    "#     display(fig)\n",
    "#     # figures.append(fig)\n",
    "#     # names.append(data.filename.split(\"/\")[-1].split(\".\")[0])"
   ]
  },
  {
   "cell_type": "code",
   "execution_count": null,
   "metadata": {},
   "outputs": [],
   "source": [
    "# snap.pp.filter_cells(data, min_counts=3000, min_tsse=3, max_counts=100000)\n",
    "# snap.pp.add_tile_matrix(data, bin_size=5000)\n",
    "# snap.pp.select_features(data, n_features=50000)\n",
    "# # snap.pp.scrublet(adatas)\n",
    "# # snap.pp.filter_doublets(adatas)\n",
    "# data.close()"
   ]
  },
  {
   "cell_type": "code",
   "execution_count": null,
   "metadata": {},
   "outputs": [],
   "source": [
    "# data = snap.AnnDataSet(\n",
    "#     adatas=[(name, adata) for (name), adata in zip(files, adatas)],\n",
    "#     filename=\"output/atac0416/mouse_brain.h5ads\"\n",
    "# )"
   ]
  },
  {
   "cell_type": "code",
   "execution_count": null,
   "metadata": {},
   "outputs": [],
   "source": [
    "# print(f'Number of cells: {data.n_obs}')\n",
    "# print(f'Number of unique barcodes: {np.unique(data.obs_names).size}')\n"
   ]
  },
  {
   "cell_type": "code",
   "execution_count": null,
   "metadata": {},
   "outputs": [],
   "source": [
    "# data.var"
   ]
  },
  {
   "cell_type": "code",
   "execution_count": null,
   "metadata": {},
   "outputs": [],
   "source": [
    "# unique_cell_ids = [sa + ':' + bc for sa, bc in zip(data.obs['sample'], data.obs_names)]\n",
    "# data.obs_names = unique_cell_ids\n",
    "# assert data.n_obs == np.unique(data.obs_names).size\n"
   ]
  },
  {
   "cell_type": "code",
   "execution_count": null,
   "metadata": {},
   "outputs": [],
   "source": [
    "# snap.pp.select_features(data, n_features=50000)\n"
   ]
  },
  {
   "cell_type": "code",
   "execution_count": null,
   "metadata": {},
   "outputs": [],
   "source": [
    "data = snap.read(\"/data2st1/junyi/output/atac0627/MW65A_AMY.h5ad\")"
   ]
  },
  {
   "cell_type": "code",
   "execution_count": null,
   "metadata": {},
   "outputs": [],
   "source": [
    "data.close()\n"
   ]
  },
  {
   "cell_type": "code",
   "execution_count": null,
   "metadata": {},
   "outputs": [],
   "source": [
    "data.close()"
   ]
  },
  {
   "cell_type": "code",
   "execution_count": null,
   "metadata": {},
   "outputs": [],
   "source": [
    "adfiles={\n",
    "'MC37A_AMY':'/data2st1/junyi/output/atac0627/MC37A_AMY.h5ad',\n",
    "'MC39C_HIP':'/data2st1/junyi/output/atac0627/MC39C_HIP.h5ad',\n",
    "'MC48D_HIP':'/data2st1/junyi/output/atac0627/MC48D_HIP.h5ad',\n",
    "'MC50B_AMY':'/data2st1/junyi/output/atac0627/MC50B_AMY.h5ad',\n",
    "'MC50B_HIP':'/data2st1/junyi/output/atac0627/MC50B_HIP.h5ad',\n",
    "'MC50B_PFC':'/data2st1/junyi/output/atac0627/MC50B_PFC.h5ad',\n",
    "'MC52E_AMY':'/data2st1/junyi/output/atac0627/MC52E_AMY.h5ad',\n",
    "'MC52E_PFC':'/data2st1/junyi/output/atac0627/MC52E_PFC.h5ad',\n",
    "'MW45A_HIP':'/data2st1/junyi/output/atac0627/MW45A_HIP.h5ad',\n",
    "'MW47A_AMY':'/data2st1/junyi/output/atac0627/MW47A_AMY.h5ad',\n",
    "'MW47A_HIP':'/data2st1/junyi/output/atac0627/MW47A_HIP.h5ad',\n",
    "'MW47A_PFC':'/data2st1/junyi/output/atac0627/MW47A_PFC.h5ad',\n",
    "'MW51A_AMY':'/data2st1/junyi/output/atac0627/MW51A_AMY.h5ad',\n",
    "'MW51A_HIP':'/data2st1/junyi/output/atac0627/MW51A_HIP.h5ad',\n",
    "'MW51A_PFC':'/data2st1/junyi/output/atac0627/MW51A_PFC.h5ad',\n",
    "'MC25A_PFC':'/data2st1/junyi/output/atac0627/MC25A_PFC.h5ad',\n",
    "'MW26A_PFC':'/data2st1/junyi/output/atac0627/MW26A_PFC.h5ad',\n",
    "'MW65A_AMY':'/data2st1/junyi/output/atac0627/MW65A_AMY.h5ad',\n",
    "\n",
    "# 'MC25A_PFC':'/data2st1/junyi/output/atac0416/W25_0_1_Perfrontal.h5ad',\n",
    "# 'MW26A_PFC':'/data2st1/junyi/output/atac0416/W26_0_2_Perfrontal.h5ad'\n",
    "}\n",
    "\n",
    "# newfolder = \"/data2st1/junyi/output/atac0627/\"\n",
    "\n",
    "# # for each file ind adfiles, make a hard link to the file in newfolder\n",
    "# for name, adfile in adfiles.items():\n",
    "#     newfile = os.path.join(newfolder, name + \".h5ad\")\n",
    "#     if not os.path.exists(newfile):\n",
    "#         os.link(adfile, newfile)\n",
    "#         print(f\"Created hard link for {name} at {newfile}\")\n",
    "#     else:\n",
    "#         print(f\"File {newfile} already exists, skipping.\")"
   ]
  },
  {
   "cell_type": "code",
   "execution_count": null,
   "metadata": {},
   "outputs": [],
   "source": [
    "for name, adfile in adfiles.items():\n",
    "    data = snap.read(adfile)\n",
    "    snap.pp.scrublet(data)\n",
    "    data.close()\n"
   ]
  },
  {
   "cell_type": "code",
   "execution_count": null,
   "metadata": {},
   "outputs": [],
   "source": [
    "adatass = [ snap.read(k) for k in adfiles.values()]"
   ]
  },
  {
   "cell_type": "code",
   "execution_count": null,
   "metadata": {},
   "outputs": [],
   "source": [
    "data = snap.AnnDataSet(\n",
    "    adatas=[(name, adata) for (name), adata in zip(adfiles.keys(), adatass)],\n",
    "    filename=\"output/atac0627/mouse_brain_subset.h5ads\"\n",
    ")"
   ]
  },
  {
   "cell_type": "code",
   "execution_count": null,
   "metadata": {},
   "outputs": [],
   "source": [
    "print(f'Number of cells: {data.n_obs}')\n",
    "print(f'Number of unique barcodes: {np.unique(data.obs_names).size}')\n"
   ]
  },
  {
   "cell_type": "code",
   "execution_count": null,
   "metadata": {},
   "outputs": [],
   "source": [
    "unique_cell_ids = [sa + ':' + bc for sa, bc in zip(data.obs['sample'], data.obs_names)]\n",
    "data.obs_names = unique_cell_ids\n",
    "assert data.n_obs == np.unique(data.obs_names).size\n"
   ]
  },
  {
   "cell_type": "code",
   "execution_count": null,
   "metadata": {},
   "outputs": [],
   "source": [
    "data.obs[\"doublet_probability\"] = data.adatas.obs[\"doublet_probability\"]\n",
    "data.obs['doublet_score'] = data.adatas.obs[\"doublet_score\"]\n"
   ]
  },
  {
   "cell_type": "code",
   "execution_count": null,
   "metadata": {},
   "outputs": [],
   "source": [
    "print(sum(data.obs['doublet_probability']>0.5), \"doublets found in the dataset\")"
   ]
  },
  {
   "cell_type": "code",
   "execution_count": null,
   "metadata": {},
   "outputs": [],
   "source": [
    "%%time\n",
    "snap.pp.select_features(data, n_features=50000)\n",
    "snap.tl.spectral(data)\n",
    "snap.tl.umap(data)"
   ]
  },
  {
   "cell_type": "code",
   "execution_count": null,
   "metadata": {},
   "outputs": [],
   "source": [
    "snap.pl.umap(data,color='doublet_probability',marker_size=2)  # 6，9，10，11"
   ]
  },
  {
   "cell_type": "code",
   "execution_count": null,
   "metadata": {},
   "outputs": [],
   "source": [
    "idx = data.obs_names"
   ]
  },
  {
   "cell_type": "code",
   "execution_count": null,
   "metadata": {},
   "outputs": [],
   "source": [
    "dp = data.obs['doublet_probability']"
   ]
  },
  {
   "cell_type": "code",
   "execution_count": null,
   "metadata": {},
   "outputs": [],
   "source": [
    "sp = data.obs['sample']"
   ]
  },
  {
   "cell_type": "code",
   "execution_count": null,
   "metadata": {},
   "outputs": [],
   "source": [
    "df_spdf = pd.DataFrame({\n",
    "    'barcode': idx,\n",
    "    'sample':sp,\n",
    "    'doublet_probability': dp})"
   ]
  },
  {
   "cell_type": "code",
   "execution_count": null,
   "metadata": {},
   "outputs": [],
   "source": [
    "df_spdf['is_doublet'] = df_spdf['doublet_probability'] > 0.5"
   ]
  },
  {
   "cell_type": "code",
   "execution_count": null,
   "metadata": {},
   "outputs": [],
   "source": [
    "df_spdf.groupby('sample').sum()['is_doublet']"
   ]
  },
  {
   "cell_type": "code",
   "execution_count": null,
   "metadata": {},
   "outputs": [],
   "source": [
    "index = df_spdf[df_spdf['doublet_probability']<0.5].barcode.values\n"
   ]
  },
  {
   "cell_type": "code",
   "execution_count": null,
   "metadata": {},
   "outputs": [],
   "source": [
    "data.close()"
   ]
  },
  {
   "cell_type": "code",
   "execution_count": null,
   "metadata": {},
   "outputs": [],
   "source": [
    "datasubset,newidx =data.subset(obs_indices=index,out=f'/data2st1/junyi/output/atac0627/doublet_filtered.h5ads')\n"
   ]
  },
  {
   "cell_type": "code",
   "execution_count": null,
   "metadata": {},
   "outputs": [],
   "source": [
    "snap.pl.umap(datasubset,color='doublet_probability',marker_size=2)  # 6，9，10，11"
   ]
  },
  {
   "cell_type": "code",
   "execution_count": null,
   "metadata": {},
   "outputs": [],
   "source": [
    "%%time\n",
    "snap.pp.select_features(datasubset, n_features=50000)\n",
    "snap.tl.spectral(datasubset)\n"
   ]
  },
  {
   "cell_type": "code",
   "execution_count": null,
   "metadata": {},
   "outputs": [],
   "source": [
    "snap.tl.umap(datasubset)\n",
    "\n",
    "snap.pl.umap(datasubset,color='doublet_probability',marker_size=2)  # 6，9，10，11"
   ]
  },
  {
   "cell_type": "code",
   "execution_count": null,
   "metadata": {},
   "outputs": [],
   "source": [
    "snap.pp.knn(datasubset, use_rep=\"X_spectral\")\n"
   ]
  },
  {
   "cell_type": "code",
   "execution_count": null,
   "metadata": {},
   "outputs": [],
   "source": [
    "snap.tl.leiden(datasubset)\n"
   ]
  },
  {
   "cell_type": "code",
   "execution_count": null,
   "metadata": {},
   "outputs": [],
   "source": [
    "snap.pl.umap(datasubset,color='leiden',marker_size=2)  # 6，9，10，11"
   ]
  },
  {
   "cell_type": "code",
   "execution_count": null,
   "metadata": {},
   "outputs": [],
   "source": [
    "datasubset.obs['leiden_default'] = datasubset.obs['leiden']"
   ]
  },
  {
   "cell_type": "code",
   "execution_count": null,
   "metadata": {},
   "outputs": [],
   "source": [
    "from sklearn.metrics import silhouette_score\n",
    "X=datasubset.obsm['X_spectral']\n",
    "max_silhoutte = -1\n",
    "\n",
    "for res in np.arange(0.1, 2.0, 0.1):\n",
    "    snap.tl.leiden(datasubset, resolution=res)\n",
    "    datasubset.obs['leiden_res_'+str(res)] = datasubset.obs['leiden']\n",
    "    Y=datasubset.obs['leiden']\n",
    "\n",
    "    # Calculate silhouette score\n",
    "    try:\n",
    "        score = silhouette_score(X,Y)\n",
    "    except ValueError as e:\n",
    "        score = 0\n",
    "    if score > max_silhoutte:\n",
    "        max_silhoutte = score\n",
    "        best_res = res\n",
    "        print(f\"Best silhouette score: {max_silhoutte} at resolution {best_res}\")\n"
   ]
  },
  {
   "cell_type": "code",
   "execution_count": null,
   "metadata": {},
   "outputs": [],
   "source": [
    "datasubset"
   ]
  },
  {
   "cell_type": "code",
   "execution_count": null,
   "metadata": {},
   "outputs": [],
   "source": [
    "snap.pl.umap(datasubset,color='leiden_res_0.5',marker_size=2)  # 6，9，10，11"
   ]
  },
  {
   "cell_type": "code",
   "execution_count": null,
   "metadata": {},
   "outputs": [],
   "source": [
    "query = snap.pp.make_gene_matrix(datasubset, gene_anno=snap.genome.mm10)\n"
   ]
  },
  {
   "cell_type": "code",
   "execution_count": null,
   "metadata": {},
   "outputs": [],
   "source": [
    "datasubset.close()"
   ]
  },
  {
   "cell_type": "code",
   "execution_count": null,
   "metadata": {},
   "outputs": [],
   "source": [
    "query.obsm['X_spectral_tile']=datasubset.obsm['X_spectral']\n",
    "query.obsm['X_umap_tile']=datasubset.obsm['X_umap']"
   ]
  },
  {
   "cell_type": "code",
   "execution_count": null,
   "metadata": {},
   "outputs": [],
   "source": [
    "query.obsm"
   ]
  },
  {
   "cell_type": "code",
   "execution_count": null,
   "metadata": {},
   "outputs": [],
   "source": [
    "query.write_h5ad('/data2st1/junyi/output/atac0627/3REGIONS_gene.h5ad')"
   ]
  },
  {
   "cell_type": "code",
   "execution_count": null,
   "metadata": {},
   "outputs": [],
   "source": [
    "query.layers['count'] = query.X.copy()"
   ]
  },
  {
   "cell_type": "code",
   "execution_count": null,
   "metadata": {},
   "outputs": [],
   "source": [
    "sc.pp.normalize_total(query, target_sum=1e4)\n",
    "sc.pp.log1p(query)\n",
    "sc.pp.scale(query)"
   ]
  },
  {
   "cell_type": "code",
   "execution_count": null,
   "metadata": {},
   "outputs": [],
   "source": [
    "# for all columns in query.obs, if the column name starts with 'leiden', and the name is too long, just keep the first 2 digit after leiden_res_xx\n",
    "rename_map = {}\n",
    "for col in query.obs.columns:\n",
    "    if col.startswith('leiden_res_'):\n",
    "        rename_map[col] = col[:14]"
   ]
  },
  {
   "cell_type": "code",
   "execution_count": null,
   "metadata": {},
   "outputs": [],
   "source": [
    "query.obs.rename(columns=rename_map, inplace=True)"
   ]
  },
  {
   "cell_type": "code",
   "execution_count": null,
   "metadata": {},
   "outputs": [],
   "source": [
    "snap.pl.umap(query,color='leiden_res_1.9',use_rep='X_umap_tile')"
   ]
  },
  {
   "cell_type": "code",
   "execution_count": null,
   "metadata": {},
   "outputs": [],
   "source": [
    "marker_genes_dict = {\n",
    "    \"Neuron\": [\"Snap25\", \"Syt1\", \"Gad1\", \"Slc17a7\"],\n",
    "    \"Astrocyte-Epen\": [\"Gfap\", \"Aqp4\", \"Slc1a3\", \"Aldh1l1\"],\n",
    "    \"OPC-Oligo\": [\"Mag\", \"Mog\", \"Pdgfra\", \"Plp1\"],\n",
    "    \"Vascular\": [\"Flt1\", \"Kcnj8\", \"Dcn\"],\n",
    "    \"Immune\": [\"Cx3cr1\", \"Dock8\"]\n",
    "}\n",
    "sc.pl.dotplot(query, marker_genes_dict, \"leiden_res_\"+str(1.9), dendrogram=False)\n"
   ]
  },
  {
   "cell_type": "code",
   "execution_count": null,
   "metadata": {},
   "outputs": [],
   "source": [
    "query.obsm['X_umap'] = query.obsm['X_umap_tile']"
   ]
  },
  {
   "cell_type": "code",
   "execution_count": null,
   "metadata": {},
   "outputs": [],
   "source": [
    "sc.pl.umap(query,color=marker_genes_dict['Neuron'])"
   ]
  },
  {
   "cell_type": "code",
   "execution_count": null,
   "metadata": {},
   "outputs": [],
   "source": [
    "sc.pl.umap(query,color=marker_genes_dict['OPC-Oligo'])"
   ]
  },
  {
   "cell_type": "code",
   "execution_count": null,
   "metadata": {},
   "outputs": [],
   "source": [
    "sc.pl.umap(query,color=marker_genes_dict['Astrocyte-Epen'])"
   ]
  },
  {
   "cell_type": "code",
   "execution_count": null,
   "metadata": {},
   "outputs": [],
   "source": [
    "sc.pl.umap(query,color=marker_genes_dict['Vascular'],ncols=1,size=1)"
   ]
  },
  {
   "cell_type": "code",
   "execution_count": null,
   "metadata": {},
   "outputs": [],
   "source": [
    "sc.pl.umap(query,color=marker_genes_dict['Immune'],ncols=1,size=1)"
   ]
  },
  {
   "cell_type": "code",
   "execution_count": null,
   "metadata": {},
   "outputs": [],
   "source": [
    "# query.obs.to_csv('/data2st1/junyi/output/atac0416/3REGIONS_meta_refined.csv')"
   ]
  },
  {
   "cell_type": "code",
   "execution_count": null,
   "metadata": {},
   "outputs": [],
   "source": [
    "# query.write_h5ad('/data2st1/junyi/output/atac0416/3REGIONS_gene.h5ad')"
   ]
  },
  {
   "cell_type": "code",
   "execution_count": null,
   "metadata": {},
   "outputs": [],
   "source": [
    "sc.pl.dotplot(query, marker_genes_dict, \"leiden_res_\"+str(0.5), dendrogram=False)\n"
   ]
  },
  {
   "cell_type": "code",
   "execution_count": null,
   "metadata": {},
   "outputs": [],
   "source": [
    "# snap.pl.umap(query,color='celltype.L1',size=10)"
   ]
  },
  {
   "cell_type": "code",
   "execution_count": null,
   "metadata": {},
   "outputs": [],
   "source": [
    "snap.pl.umap(query,color='leiden_res_'+str(best_res),marker_size=2)  # 6，9，10，11"
   ]
  },
  {
   "cell_type": "code",
   "execution_count": null,
   "metadata": {},
   "outputs": [],
   "source": [
    "# query.obs['celltype.L1.old'] = query.obs['celltype.L1']"
   ]
  },
  {
   "cell_type": "code",
   "execution_count": null,
   "metadata": {},
   "outputs": [],
   "source": [
    "# query.obs['celltype.L1'] = 'Neuron'\n",
    "# query.obs.loc[query.obs.leiden=='10','celltype.L1'] =  'Astro-Epen'\n",
    "# query.obs.loc[query.obs.leiden=='11','celltype.L1'] =  'OPC-Oligo'\n",
    "# query.obs.loc[query.obs.leiden=='6','celltype.L1'] =  'OPC-Oligo'\n",
    "# query.obs.loc[query.obs.leiden=='9','celltype.L1'] =  'Immune'\n",
    "\n",
    "\n",
    "query.obs['celltype.L1'] = 'Neuron'\n",
    "query.obs.loc[query.obs['leiden_res_0.5']=='8','celltype.L1'] =  'Astro-Epen'\n",
    "query.obs.loc[query.obs['leiden_res_0.5']=='10','celltype.L1'] =  'OPC-Oligo'\n",
    "query.obs.loc[query.obs['leiden_res_0.5']=='6','celltype.L1'] =  'OPC-Oligo'\n",
    "query.obs.loc[query.obs['leiden_res_0.5']=='7','celltype.L1'] =  'Immune'\n",
    "query.obs.loc[query.obs['leiden_res_1.9']=='21','celltype.L1'] =  'Vascular'\n"
   ]
  },
  {
   "cell_type": "code",
   "execution_count": null,
   "metadata": {},
   "outputs": [],
   "source": [
    "sc.pl.umap(query,color='celltype.L1',ncols=1,size=10)"
   ]
  },
  {
   "cell_type": "code",
   "execution_count": null,
   "metadata": {},
   "outputs": [],
   "source": [
    "query.write_h5ad('/data2st1/junyi/output/atac0627/3REGIONS_gene.h5ad')"
   ]
  },
  {
   "cell_type": "code",
   "execution_count": null,
   "metadata": {},
   "outputs": [],
   "source": [
    "query.obs['Region'] = query.obs['sample'].str.split(\"_\").str[1]\n"
   ]
  },
  {
   "cell_type": "code",
   "execution_count": null,
   "metadata": {},
   "outputs": [],
   "source": [
    "query.obs['Condition']=query.obs['sample'].str[:2]"
   ]
  },
  {
   "cell_type": "code",
   "execution_count": null,
   "metadata": {},
   "outputs": [],
   "source": [
    "sc.pl.umap(query,color='Region',ncols=1,size=10)"
   ]
  },
  {
   "cell_type": "code",
   "execution_count": null,
   "metadata": {},
   "outputs": [],
   "source": [
    "for region in query.obs['Region'].unique():\n",
    "    adata_region = query[query.obs['Region'] == region]\n",
    "    adata_neuron = adata_region[adata_region.obs['celltype.L1'] == 'Neuron']\n",
    "    adata_neuron.write_h5ad(f'/data2st1/junyi/output/atac0627/3REGIONS_gene_{region}_Neuron.h5ad')\n",
    "\n",
    "    adata_nn = adata_region[~(adata_region.obs['celltype.L1'] == 'Neuron')]\n",
    "    adata_nn.write_h5ad(f'/data2st1/junyi/output/atac0627/3REGIONS_gene_{region}_NN.h5ad')"
   ]
  }
 ],
 "metadata": {
  "kernelspec": {
   "display_name": "snapatac2",
   "language": "python",
   "name": "python3"
  },
  "language_info": {
   "codemirror_mode": {
    "name": "ipython",
    "version": 3
   },
   "file_extension": ".py",
   "mimetype": "text/x-python",
   "name": "python",
   "nbconvert_exporter": "python",
   "pygments_lexer": "ipython3",
   "version": "3.10.0"
  }
 },
 "nbformat": 4,
 "nbformat_minor": 2
}
