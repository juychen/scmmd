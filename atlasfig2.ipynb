{
 "cells": [
  {
   "cell_type": "code",
   "execution_count": 1,
   "metadata": {},
   "outputs": [],
   "source": [
    "from pybedtools import BedTool\n"
   ]
  },
  {
   "cell_type": "code",
   "execution_count": 2,
   "metadata": {},
   "outputs": [],
   "source": [
    "def intersect_bed_files(bed_file1, bed_file2):\n",
    "    bed1 = BedTool(bed_file1)\n",
    "    bed2 = BedTool(bed_file2)\n",
    "\n",
    "    # Intersect and split regions\n",
    "    # Retain annotations from bed_file2 for overlapping regions\n",
    "    merged = bed1.intersect(bed2, wa=True, wb=True)#.saveas(\"output/temp_intersect.bed\")\n",
    "\n",
    "    # Split non-overlapping regions from bed_file1\n",
    "    non_overlapping = bed1.subtract(bed2)#.saveas(\"output/temp_non_overlapping.bed\")\n",
    "\n",
    "    return merged, non_overlapping"
   ]
  },
  {
   "cell_type": "code",
   "execution_count": 41,
   "metadata": {},
   "outputs": [],
   "source": [
    "def intersect_bed_objects(bed_file1, bed_file2):\n",
    "    bed1 = bed_file1\n",
    "    bed2 = bed_file2\n",
    "\n",
    "    # Intersect and split regions\n",
    "    # Retain annotations from bed_file2 for overlapping regions\n",
    "    merged = bed1.intersect(bed2, wa=True, wb=True)#.saveas(\"output/temp_intersect.bed\")\n",
    "\n",
    "    # Split non-overlapping regions from bed_file1\n",
    "    non_overlapping = bed1.subtract(bed2)#.saveas(\"output/temp_non_overlapping.bed\")\n",
    "\n",
    "    return merged, non_overlapping"
   ]
  },
  {
   "cell_type": "code",
   "execution_count": 3,
   "metadata": {},
   "outputs": [],
   "source": [
    "bed_allpeaks = \"/data2st1/junyi/output/cCRE/ALL_sampled_peaks.bed\"\n",
    "bed_encode = \"/data2st1/junyi/output/enhancer_m39converted_renamed.bed\"\n",
    "\n",
    "merged, non_overlapping = intersect_bed_files(bed_allpeaks, bed_encode)"
   ]
  },
  {
   "cell_type": "code",
   "execution_count": null,
   "metadata": {},
   "outputs": [],
   "source": [
    "bed_allpeaks"
   ]
  },
  {
   "cell_type": "code",
   "execution_count": 7,
   "metadata": {},
   "outputs": [
    {
     "data": {
      "text/plain": [
       "(172839, 545816)"
      ]
     },
     "execution_count": 7,
     "metadata": {},
     "output_type": "execute_result"
    }
   ],
   "source": [
    "len(merged), len(non_overlapping)"
   ]
  },
  {
   "cell_type": "code",
   "execution_count": 11,
   "metadata": {},
   "outputs": [],
   "source": [
    "bedall_peaks = BedTool(bed_allpeaks)"
   ]
  },
  {
   "cell_type": "code",
   "execution_count": null,
   "metadata": {},
   "outputs": [],
   "source": []
  },
  {
   "cell_type": "code",
   "execution_count": 12,
   "metadata": {},
   "outputs": [
    {
     "data": {
      "text/plain": [
       "443155"
      ]
     },
     "execution_count": 12,
     "metadata": {},
     "output_type": "execute_result"
    }
   ],
   "source": [
    "len(bedall_peaks)"
   ]
  },
  {
   "cell_type": "code",
   "execution_count": 37,
   "metadata": {},
   "outputs": [
    {
     "name": "stderr",
     "output_type": "stream",
     "text": [
      "***** WARNING: File /data2st1/junyi/generegion_vM33/intron.bed has inconsistent naming convention for record:\n",
      "GL456210.1\t123906\t124786\t.\t+\tENSMUSG00000079192\tENSMUSG00000079192.3\tintron\n",
      "\n",
      "***** WARNING: File /data2st1/junyi/generegion_vM33/intron.bed has inconsistent naming convention for record:\n",
      "GL456210.1\t123906\t124786\t.\t+\tENSMUSG00000079192\tENSMUSG00000079192.3\tintron\n",
      "\n",
      "***** WARNING: File /data2st1/junyi/generegion_vM33/intron.bed has inconsistent naming convention for record:\n",
      "GL456210.1\t123906\t124786\t.\t+\tENSMUSG00000079192\tENSMUSG00000079192.3\tintron\n",
      "\n",
      "***** WARNING: File /data2st1/junyi/generegion_vM33/intron.bed has inconsistent naming convention for record:\n",
      "GL456210.1\t123906\t124786\t.\t+\tENSMUSG00000079192\tENSMUSG00000079192.3\tintron\n",
      "\n"
     ]
    }
   ],
   "source": [
    "bed_intron = \"/data2st1/junyi/generegion_vM33/intron.bed\"\n",
    "\n",
    "intron, non_intron = intersect_bed_files(bed_allpeaks, bed_intron)\n",
    "\n",
    "df_intron = intron.to_dataframe().drop_duplicates(subset=['chrom', 'start', 'end'])\n",
    "\n",
    "num_intron = len(df_intron)"
   ]
  },
  {
   "cell_type": "code",
   "execution_count": 42,
   "metadata": {},
   "outputs": [
    {
     "name": "stderr",
     "output_type": "stream",
     "text": [
      "***** WARNING: File /data2st1/junyi/generegion_vM33/exon.bed has inconsistent naming convention for record:\n",
      "GL456210.1\t58594\t58882\t.\t-\tENSMUSG00000079800\tENSMUSG00000079800.3\texon\n",
      "\n",
      "***** WARNING: File /data2st1/junyi/generegion_vM33/exon.bed has inconsistent naming convention for record:\n",
      "GL456210.1\t58594\t58882\t.\t-\tENSMUSG00000079800\tENSMUSG00000079800.3\texon\n",
      "\n",
      "***** WARNING: File /data2st1/junyi/generegion_vM33/exon.bed has inconsistent naming convention for record:\n",
      "GL456210.1\t58594\t58882\t.\t-\tENSMUSG00000079800\tENSMUSG00000079800.3\texon\n",
      "\n",
      "***** WARNING: File /data2st1/junyi/generegion_vM33/exon.bed has inconsistent naming convention for record:\n",
      "GL456210.1\t58594\t58882\t.\t-\tENSMUSG00000079800\tENSMUSG00000079800.3\texon\n",
      "\n"
     ]
    }
   ],
   "source": [
    "bed_intron = \"/data2st1/junyi/generegion_vM33/exon.bed\"\n",
    "exon = BedTool(bed_intron)\n",
    "exon, non_ie = intersect_bed_objects(non_intron, exon)\n"
   ]
  },
  {
   "cell_type": "code",
   "execution_count": 92,
   "metadata": {},
   "outputs": [],
   "source": [
    "df_exon = exon.to_dataframe().drop_duplicates(subset=['chrom', 'start', 'end'])\n",
    "num_exon = len(df_exon)"
   ]
  },
  {
   "cell_type": "code",
   "execution_count": 93,
   "metadata": {},
   "outputs": [
    {
     "name": "stderr",
     "output_type": "stream",
     "text": [
      "***** WARNING: File /data2st1/junyi/generegion_vM33/promoter.bed has inconsistent naming convention for record:\n",
      "GL456210.1\t10028\t11028\t.\t-\tENSMUSG00000079800\tENSMUSG00000079800.3\tpromoter\n",
      "\n",
      "***** WARNING: File /data2st1/junyi/generegion_vM33/promoter.bed has inconsistent naming convention for record:\n",
      "GL456210.1\t10028\t11028\t.\t-\tENSMUSG00000079800\tENSMUSG00000079800.3\tpromoter\n",
      "\n",
      "***** WARNING: File /data2st1/junyi/generegion_vM33/promoter.bed has inconsistent naming convention for record:\n",
      "GL456210.1\t10028\t11028\t.\t-\tENSMUSG00000079800\tENSMUSG00000079800.3\tpromoter\n",
      "\n",
      "***** WARNING: File /data2st1/junyi/generegion_vM33/promoter.bed has inconsistent naming convention for record:\n",
      "GL456210.1\t10028\t11028\t.\t-\tENSMUSG00000079800\tENSMUSG00000079800.3\tpromoter\n",
      "\n"
     ]
    }
   ],
   "source": [
    "promoter = BedTool(\"/data2st1/junyi/generegion_vM33/promoter.bed\")\n",
    "promoter, non_iep = intersect_bed_objects(non_ie, promoter)\n",
    "df_promoter = promoter.to_dataframe().drop_duplicates(subset=['chrom', 'start', 'end'])\n",
    "num_promoter = len(df_promoter)"
   ]
  },
  {
   "cell_type": "code",
   "execution_count": 94,
   "metadata": {},
   "outputs": [],
   "source": [
    "SINES = BedTool(\"/data2st1/junyi/generegion_vM33/sines.bed\")\n",
    "SINES, non_sines = intersect_bed_files(non_iep, SINES)\n",
    "df_sines = SINES.to_dataframe().drop_duplicates(subset=['chrom', 'start', 'end'])\n",
    "num_sines = len(df_sines)"
   ]
  },
  {
   "cell_type": "code",
   "execution_count": 95,
   "metadata": {},
   "outputs": [],
   "source": [
    "LTRS = BedTool(\"/data2st1/junyi/generegion_vM33/ltrs.bed\")\n",
    "LTRS, non_LTRS = intersect_bed_files(non_iep, LTRS)\n",
    "df_ltrs = LTRS.to_dataframe().drop_duplicates(subset=['chrom', 'start', 'end'])\n",
    "num_ltrs = len(df_ltrs)"
   ]
  },
  {
   "cell_type": "code",
   "execution_count": 96,
   "metadata": {},
   "outputs": [],
   "source": [
    "LINES = BedTool(\"/data2st1/junyi/generegion_vM33/lines.bed\")\n",
    "LINES, non_LINES = intersect_bed_files(non_iep, LINES)\n",
    "df_lines = LINES.to_dataframe().drop_duplicates(subset=['chrom', 'start', 'end'])\n",
    "num_lines = len(df_lines)\n"
   ]
  },
  {
   "cell_type": "code",
   "execution_count": 97,
   "metadata": {},
   "outputs": [
    {
     "name": "stderr",
     "output_type": "stream",
     "text": [
      "***** WARNING: File /data2st1/junyi/generegion_vM33/intergenic.bed has inconsistent naming convention for record:\n",
      "GL456210.1\t58883\t108389\t.\t.\tintergenic\n",
      "\n",
      "***** WARNING: File /data2st1/junyi/generegion_vM33/intergenic.bed has inconsistent naming convention for record:\n",
      "GL456210.1\t58883\t108389\t.\t.\tintergenic\n",
      "\n",
      "***** WARNING: File /data2st1/junyi/generegion_vM33/intergenic.bed has inconsistent naming convention for record:\n",
      "GL456210.1\t58883\t108389\t.\t.\tintergenic\n",
      "\n",
      "***** WARNING: File /data2st1/junyi/generegion_vM33/intergenic.bed has inconsistent naming convention for record:\n",
      "GL456210.1\t58883\t108389\t.\t.\tintergenic\n",
      "\n"
     ]
    }
   ],
   "source": [
    "intergenic = '/data2st1/junyi/generegion_vM33/intergenic.bed'\n",
    "intergenic, non_intergenic = intersect_bed_files(bed_allpeaks, intergenic)\n",
    "df_intergenic = intergenic.to_dataframe().drop_duplicates(subset=['chrom', 'start', 'end'])\n",
    "num_intergenic = len(df_intergenic)"
   ]
  },
  {
   "cell_type": "code",
   "execution_count": 98,
   "metadata": {},
   "outputs": [],
   "source": [
    "other_repeat = '/data2st1/junyi/generegion_vM33/other_repeats.bed'\n",
    "other_repeat, non_other_repeat = intersect_bed_files(non_iep, other_repeat)\n",
    "df_other_repeat = other_repeat.to_dataframe().drop_duplicates(subset=['chrom', 'start', 'end'])\n",
    "num_other_repeat = len(df_other_repeat)"
   ]
  },
  {
   "cell_type": "code",
   "execution_count": 99,
   "metadata": {},
   "outputs": [],
   "source": [
    "cpgi = '/data2st1/junyi/generegion_vM33/cpg.bed'\n",
    "cpgi, non_cpgi = intersect_bed_files(bed_allpeaks, cpgi)\n",
    "df_cpgi = cpgi.to_dataframe().drop_duplicates(subset=['chrom', 'start', 'end'])\n",
    "num_cpgi = len(df_cpgi)"
   ]
  },
  {
   "cell_type": "code",
   "execution_count": 100,
   "metadata": {},
   "outputs": [
    {
     "data": {
      "text/plain": [
       "19364"
      ]
     },
     "execution_count": 100,
     "metadata": {},
     "output_type": "execute_result"
    }
   ],
   "source": [
    "num_cpgi"
   ]
  },
  {
   "cell_type": "code",
   "execution_count": 101,
   "metadata": {},
   "outputs": [],
   "source": [
    "import seaborn as sns\n",
    "import matplotlib.pyplot as plt\n",
    "import pandas as pd\n",
    "\n",
    "data = {'Region': ['Intron', 'Exon', 'Promoter', 'SINES', 'LTRs', 'LINES', 'Intergenic', 'Other Repeats', 'CpG Islands'],\n",
    "        'Number of Peaks': [num_intron, num_exon, num_promoter, num_sines, num_ltrs, num_lines, num_intergenic, num_other_repeat, num_cpgi]}\n",
    "df = pd.DataFrame(data)\n"
   ]
  },
  {
   "cell_type": "code",
   "execution_count": 114,
   "metadata": {},
   "outputs": [
    {
     "data": {
      "image/png": "[encoded data removed]",
      "text/plain": [
       "<Figure size 600x600 with 1 Axes>"
      ]
     },
     "metadata": {},
     "output_type": "display_data"
    }
   ],
   "source": [
    "sns.set_style(\"whitegrid\")\n",
    "plt.figure(figsize=(6,6))\n",
    "plt.pie(df['Number of Peaks'], labels=df['Region'], autopct='%1.1f%%',pctdistance=1.15,labeldistance=1.28)\n",
    "plt.show()\n"
   ]
  }
 ],
 "metadata": {
  "kernelspec": {
   "display_name": "allcools",
   "language": "python",
   "name": "python3"
  },
  "language_info": {
   "codemirror_mode": {
    "name": "ipython",
    "version": 3
   },
   "file_extension": ".py",
   "mimetype": "text/x-python",
   "name": "python",
   "nbconvert_exporter": "python",
   "pygments_lexer": "ipython3",
   "version": "3.8.20"
  }
 },
 "nbformat": 4,
 "nbformat_minor": 2
}
