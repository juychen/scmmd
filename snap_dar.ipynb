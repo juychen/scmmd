{
 "cells": [
  {
   "cell_type": "code",
   "execution_count": null,
   "metadata": {},
   "outputs": [],
   "source": [
    "import matplotlib.pyplot as plt\n",
    "import anndata\n",
    "import scanpy as sc\n",
    "import snapatac2 as snap\n",
    "import numpy as np\n",
    "import pandas as pd\n",
    "import os\n",
    "import scanpy.external as sce\n",
    "#adata_concat = snap.read_dataset('output/motif/motif/motif/motif/motif/mouse_brain.h5ads')"
   ]
  },
  {
   "cell_type": "code",
   "execution_count": null,
   "metadata": {},
   "outputs": [],
   "source": [
    "file = \"/data2st1/junyi/output/mouse_brain_dar.h5ad\""
   ]
  },
  {
   "cell_type": "code",
   "execution_count": null,
   "metadata": {},
   "outputs": [],
   "source": [
    "adata = anndata.read_h5ad(file)"
   ]
  },
  {
   "cell_type": "code",
   "execution_count": null,
   "metadata": {},
   "outputs": [],
   "source": [
    "snap.pl.umap(adata, color=\"celltype.L1.tab\", interactive=False,  marker_size=3)\n"
   ]
  },
  {
   "cell_type": "code",
   "execution_count": null,
   "metadata": {},
   "outputs": [],
   "source": [
    "celltypes = adata.obs[\"celltype.L1.tab\"].unique()\n",
    "region = ['AMY','HIP','PFC']\n",
    "print(celltypes)\n",
    "print(region)"
   ]
  },
  {
   "cell_type": "code",
   "execution_count": null,
   "metadata": {},
   "outputs": [],
   "source": [
    "rergion = 'HIP'\n",
    "celltype = 'Neuron'\n",
    "base_name = f\"{region}_{celltype}\""
   ]
  },
  {
   "cell_type": "code",
   "execution_count": null,
   "metadata": {},
   "outputs": [],
   "source": [
    "adata_AMY_neuron = adata[(adata.obs['sample'].str.contains(rergion)) & (adata.obs['celltype.L1.tab'].str.contains(celltype)) ].copy()\n",
    "adata_AMY_neuron\n"
   ]
  },
  {
   "cell_type": "code",
   "execution_count": null,
   "metadata": {},
   "outputs": [],
   "source": [
    "adata_AMY_neuron.obs['expriment'] = adata_AMY_neuron.obs['sample'].str[:2]\n"
   ]
  },
  {
   "cell_type": "code",
   "execution_count": null,
   "metadata": {},
   "outputs": [],
   "source": [
    "snap.pl.umap(adata_AMY_neuron, color=\"sample\", interactive=False,  marker_size=3)\n"
   ]
  },
  {
   "cell_type": "code",
   "execution_count": null,
   "metadata": {},
   "outputs": [],
   "source": [
    "%%time\n",
    "snap.tl.macs3(adata_AMY_neuron, groupby='expriment')\n"
   ]
  },
  {
   "cell_type": "code",
   "execution_count": null,
   "metadata": {},
   "outputs": [],
   "source": [
    "adata_AMY_neuron"
   ]
  },
  {
   "cell_type": "code",
   "execution_count": null,
   "metadata": {},
   "outputs": [],
   "source": [
    "%%time\n",
    "peaks = snap.tl.merge_peaks(adata_AMY_neuron.uns['macs3'], snap.genome.GRCm39)\n",
    "peaks.head()\n"
   ]
  },
  {
   "cell_type": "code",
   "execution_count": null,
   "metadata": {},
   "outputs": [],
   "source": [
    "%%time\n",
    "peak_mat = snap.pp.make_peak_matrix(adata_AMY_neuron, use_rep=peaks['Peaks'])\n",
    "peak_mat\n"
   ]
  },
  {
   "cell_type": "code",
   "execution_count": null,
   "metadata": {},
   "outputs": [],
   "source": [
    "peak_mat.layers['raw'] = peak_mat.X.copy()"
   ]
  },
  {
   "cell_type": "code",
   "execution_count": null,
   "metadata": {},
   "outputs": [],
   "source": [
    "sc.pp.normalize_total(peak_mat)"
   ]
  },
  {
   "cell_type": "code",
   "execution_count": null,
   "metadata": {},
   "outputs": [],
   "source": [
    "sc.pp.log1p(peak_mat)"
   ]
  },
  {
   "cell_type": "code",
   "execution_count": null,
   "metadata": {},
   "outputs": [],
   "source": [
    "%%time\n",
    "sc.tl.rank_genes_groups(peak_mat, groupby='expriment', method='wilcoxon',pts=True)"
   ]
  },
  {
   "cell_type": "code",
   "execution_count": null,
   "metadata": {},
   "outputs": [],
   "source": [
    "peak_mat.obsm['X_umap'] = adata_AMY_neuron.obsm['X_umap']"
   ]
  },
  {
   "cell_type": "code",
   "execution_count": null,
   "metadata": {},
   "outputs": [],
   "source": [
    "sc.pl.umap(peak_mat, color='expriment', size=50)"
   ]
  },
  {
   "cell_type": "code",
   "execution_count": null,
   "metadata": {},
   "outputs": [],
   "source": [
    "sc.pl.violin(peak_mat, keys='chr6:145133176-145133677', groupby='expriment')"
   ]
  },
  {
   "cell_type": "code",
   "execution_count": null,
   "metadata": {},
   "outputs": [],
   "source": [
    "df = sc.get.rank_genes_groups_df(peak_mat, group='MC', key='rank_genes_groups',pval_cutoff=0.05)"
   ]
  },
  {
   "cell_type": "code",
   "execution_count": null,
   "metadata": {},
   "outputs": [],
   "source": [
    "df.to_csv(f\"output/motif/{rergion}_{celltype}_wilcoxon.csv\")\n",
    "#df.to_csv(\"output/AMY_neuron_MC_wilcoxon.csv\")"
   ]
  },
  {
   "cell_type": "code",
   "execution_count": null,
   "metadata": {},
   "outputs": [],
   "source": [
    "#df.sort_values('logfoldchanges',ascending=False).names.str.split(r'[-:]', expand=True).to_csv(\"output/AMY_neuron_MC_wilcoxon.bed\",sep='\\t', header=False, index=False) "
   ]
  },
  {
   "cell_type": "code",
   "execution_count": null,
   "metadata": {},
   "outputs": [],
   "source": [
    "sc.pl.umap(peak_mat, color=df.sort_values('logfoldchanges',ascending=False).head(10).names, size=50)"
   ]
  },
  {
   "cell_type": "code",
   "execution_count": null,
   "metadata": {},
   "outputs": [],
   "source": [
    "peak_mat.uns['rank_genes_groups']"
   ]
  },
  {
   "cell_type": "code",
   "execution_count": null,
   "metadata": {},
   "outputs": [],
   "source": [
    "# Create a pandas dataframe\n",
    "df = pd.DataFrame({group + '_' + key: rank_gene_groups[key][group]\n",
    "                   for group in rank_gene_groups.keys()\n",
    "                   for key in ['names', 'scores']})"
   ]
  },
  {
   "cell_type": "code",
   "execution_count": null,
   "metadata": {},
   "outputs": [],
   "source": [
    "df_mw = sc.get.rank_genes_groups_df(peak_mat, group='MW', key='rank_genes_groups',pval_cutoff=0.05)"
   ]
  },
  {
   "cell_type": "code",
   "execution_count": null,
   "metadata": {},
   "outputs": [],
   "source": [
    "df_mw.to_csv(f\"output/motif/{rergion}_{celltype}_MW.csv\")"
   ]
  },
  {
   "cell_type": "code",
   "execution_count": null,
   "metadata": {},
   "outputs": [],
   "source": [
    "# %%time\n",
    "# marker_peaks = snap.tl.marker_regions(peak_mat, groupby='expriment', pvalue=0.05)\n"
   ]
  },
  {
   "cell_type": "code",
   "execution_count": null,
   "metadata": {},
   "outputs": [],
   "source": [
    "marker_peaks = {\"MC\": df[df.logfoldchanges>0].set_index('names').index,\"MW\":df_mw[df_mw.logfoldchanges>0].set_index('names').index}"
   ]
  },
  {
   "cell_type": "code",
   "execution_count": null,
   "metadata": {},
   "outputs": [],
   "source": [
    "marker_peaks"
   ]
  },
  {
   "cell_type": "code",
   "execution_count": null,
   "metadata": {},
   "outputs": [],
   "source": [
    "from snapatac2._snapatac2 import read_motifs, PyDNAMotif\n",
    "\n",
    "def cis_bp_mouse(unique: bool = True , path=\"data/motifdb/Mus_musculus.meme\") -> list[PyDNAMotif]:\n",
    "    motifs = read_motifs(path)\n",
    "    for motif in motifs:\n",
    "        motif.name = motif.id.split('+')[0]\n",
    "    if unique:\n",
    "        unique_motifs = {}\n",
    "        for motif in motifs:\n",
    "            name = motif.name\n",
    "            if (\n",
    "                    name not in unique_motifs or \n",
    "                    unique_motifs[name].info_content() < motif.info_content()\n",
    "               ):\n",
    "               unique_motifs[name] = motif\n",
    "        motifs = list(unique_motifs.values())\n",
    "    return motifs\n"
   ]
  },
  {
   "cell_type": "code",
   "execution_count": null,
   "metadata": {},
   "outputs": [],
   "source": [
    "motifs = snap.tl.motif_enrichment(\n",
    "    motifs=cis_bp_mouse(unique=True,path=\"data/motifdb/Mus_musculus.meme\"),\n",
    "    regions=marker_peaks,\n",
    "    genome_fasta=snap.genome.GRCm39,\n",
    ")\n"
   ]
  },
  {
   "cell_type": "code",
   "execution_count": null,
   "metadata": {},
   "outputs": [],
   "source": [
    "motifs['MC'].write_csv(f\"output/motif/{rergion}_{celltype}_MC_cisbp_motif.csv\")"
   ]
  },
  {
   "cell_type": "code",
   "execution_count": null,
   "metadata": {},
   "outputs": [],
   "source": [
    "fig = snap.pl.motif_enrichment(motifs, max_fdr=0.0001, height=4000, interactive=False)\n",
    "with open(f\"output/motif/{base_name}_MC_cisbp_motif.png\", 'wb') as f:\n",
    "    f.write(fig.data)  # Assuming 'im.data' contains the image data\n"
   ]
  },
  {
   "cell_type": "code",
   "execution_count": null,
   "metadata": {},
   "outputs": [],
   "source": [
    "motifs = snap.tl.motif_enrichment(\n",
    "    motifs=cis_bp_mouse(unique=True,path=\"data/motifdb/uniprobe_mouse.meme\"),\n",
    "    regions=marker_peaks,\n",
    "    genome_fasta=snap.genome.GRCm39,\n",
    ")\n"
   ]
  },
  {
   "cell_type": "code",
   "execution_count": null,
   "metadata": {},
   "outputs": [],
   "source": [
    "fig = snap.pl.motif_enrichment(motifs, max_fdr=0.0001, height=4000, interactive=False)\n",
    "with open(f\"output/motif/{base_name}_MC_uniprod_motif.png\", 'wb') as f:\n",
    "    f.write(fig.data)  # Assuming 'im.data' contains the image data\n"
   ]
  },
  {
   "cell_type": "code",
   "execution_count": null,
   "metadata": {},
   "outputs": [],
   "source": [
    "#motifs['MC'].write_csv(\"output/motif/AMY_neuron_MC_motif_uniprot.csv\")\n",
    "motifs['MC'].write_csv(f\"output/motif/{rergion}_{celltype}_MC_motif_uniprot.csv\")"
   ]
  }
 ],
 "metadata": {
  "kernelspec": {
   "display_name": "snapatac2",
   "language": "python",
   "name": "python3"
  },
  "language_info": {
   "codemirror_mode": {
    "name": "ipython",
    "version": 3
   },
   "file_extension": ".py",
   "mimetype": "text/x-python",
   "name": "python",
   "nbconvert_exporter": "python",
   "pygments_lexer": "ipython3",
   "version": "3.10.0"
  }
 },
 "nbformat": 4,
 "nbformat_minor": 2
}
