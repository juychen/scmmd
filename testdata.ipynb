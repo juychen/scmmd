{
 "cells": [
  {
   "cell_type": "code",
   "execution_count": 3,
   "metadata": {},
   "outputs": [],
   "source": [
    "import pandas as pd\n",
    "import tarfile\n",
    "import io\n",
    "\n",
    "df_mc_meta=pd.read_csv('/data2st1/junyi/methlyatlas/mCseq/CEMBA.mC.Metadata/CEMBA.mC.Metadata.csv')"
   ]
  },
  {
   "cell_type": "code",
   "execution_count": null,
   "metadata": {},
   "outputs": [],
   "source": [
    "df_mc_meta"
   ]
  },
  {
   "cell_type": "code",
   "execution_count": null,
   "metadata": {},
   "outputs": [],
   "source": [
    "df_mc_meta.head(10).to_csv('/data2st1/junyi/methlyatlas/mCseq/CEMBA.mC.Metadata/CEMBA.mC.Metadata.head10.csv',index=False)"
   ]
  },
  {
   "cell_type": "code",
   "execution_count": null,
   "metadata": {},
   "outputs": [],
   "source": [
    "import h5py\n",
    "\n",
    "# Open the HDF5 file in read mode\n",
    "with h5py.File(\"/data2st1/junyi/methlyatlas/atac/catlas.org/catlas_downloads/mousebrain/snap/CEMBA180205_4A.snap\", 'r') as file:\n",
    "    # List all datasets in the HDF5 file\n",
    "    print(\"Datasets in the HDF5 file:\")\n",
    "    for dataset in file.keys():\n",
    "        print(dataset)\n",
    "\n",
    "    # Read a specific dataset\n",
    "    dataset_name = 'your_dataset_name'  # Replace 'your_dataset_name' with the actual dataset name\n",
    "    data = file[dataset_name][:]  # Read the dataset into a NumPy array\n",
    "\n",
    "    # Perform operations on the data as needed\n",
    "    print(\"Shape of the dataset:\", data.shape)\n",
    "    print(\"Data from the dataset:\")\n",
    "    print(data)\n"
   ]
  },
  {
   "cell_type": "code",
   "execution_count": null,
   "metadata": {},
   "outputs": [],
   "source": []
  },
  {
   "cell_type": "code",
   "execution_count": null,
   "metadata": {},
   "outputs": [],
   "source": [
    "df_meta_integrateion = pd.read_csv(\"/data2st1/junyi/methlyatlas/mCseq/mC-ATAC.Integration/mC-ATAC.Integration.csv\")"
   ]
  },
  {
   "cell_type": "code",
   "execution_count": null,
   "metadata": {},
   "outputs": [],
   "source": []
  },
  {
   "cell_type": "code",
   "execution_count": null,
   "metadata": {},
   "outputs": [],
   "source": [
    "df_meta_integrateion.head(10)"
   ]
  },
  {
   "cell_type": "code",
   "execution_count": null,
   "metadata": {},
   "outputs": [],
   "source": [
    "import h5py\n",
    "filename = \"/data2st1/junyi/methlyatlas/atac/catlas.org/catlas_downloads/mousebrain/snap/CEMBA180123_2A.snap\"\n",
    "\n",
    "with h5py.File(filename, 'r') as file:\n",
    "    # List all groups in the file\n",
    "    print(\"Groups in the HDF5 file:\")\n",
    "    for group in file.keys():\n",
    "        print(group)\n"
   ]
  },
  {
   "cell_type": "code",
   "execution_count": null,
   "metadata": {},
   "outputs": [],
   "source": [
    "import snapatac2 as snap\n",
    "\n",
    "snap.__version__\n"
   ]
  },
  {
   "cell_type": "code",
   "execution_count": null,
   "metadata": {},
   "outputs": [],
   "source": [
    "adata=snap.read(\"/data2st1/junyi/methlyatlas/atac/catlas.org/catlas_downloads/mousebrain/snap/CEMBA180123_2A.snap\",backend=\"hdf5\")"
   ]
  },
  {
   "cell_type": "code",
   "execution_count": 15,
   "metadata": {},
   "outputs": [],
   "source": [
    "import zarr \n",
    "import numpy as np\n",
    "z = zarr.open('/data2st1/junyi/methlyatlas/mCseq/data.nemoarchive.org/biccn/grant/u19_cemba/ecker/epigenome/cellgroup/mCseq3/mouse/processed/counts/CEMBA.snmC.L4RegionAgg.zarr', mode='r')\n"
   ]
  },
  {
   "cell_type": "markdown",
   "metadata": {},
   "source": [
    "\"_ARRAY_DIMENSIONS\": [\n",
    "    \"L4Region\",\n",
    "    \"chrom100k\",\n",
    "    \"mc_type\",\n",
    "    \"count_type\"\n",
    "],\n"
   ]
  },
  {
   "cell_type": "code",
   "execution_count": null,
   "metadata": {},
   "outputs": [],
   "source": [
    "z['/count_type/'][:]"
   ]
  },
  {
   "cell_type": "code",
   "execution_count": null,
   "metadata": {},
   "outputs": [],
   "source": [
    "z['/mc_type/'][:]"
   ]
  },
  {
   "cell_type": "code",
   "execution_count": null,
   "metadata": {},
   "outputs": [],
   "source": [
    "z['/geneslop2k-vm23_da/'][:100,:100,1,0].max()"
   ]
  },
  {
   "cell_type": "code",
   "execution_count": 5,
   "metadata": {},
   "outputs": [],
   "source": [
    "from ALLCools.mcds import MCDS\n",
    "\n",
    "import pandas as pd\n"
   ]
  },
  {
   "cell_type": "code",
   "execution_count": 2,
   "metadata": {},
   "outputs": [],
   "source": [
    "var_dim = \"chrom100k\"\n",
    "mcds = MCDS.open('/data2st1/junyi/methlyatlas/mCseq/data.nemoarchive.org/biccn/grant/u19_cemba/ecker/epigenome/cellgroup/mCseq3/mouse/processed/counts/CEMBA.snmC.L4RegionAgg.zarr',\n",
    "                   obs_dim='L4Region',var_dim='chrom100k')\n"
   ]
  },
  {
   "cell_type": "code",
   "execution_count": null,
   "metadata": {},
   "outputs": [],
   "source": [
    "mcds"
   ]
  },
  {
   "cell_type": "code",
   "execution_count": null,
   "metadata": {},
   "outputs": [],
   "source": [
    "var_dim = \"chrom100k\"\n",
    "mcds.add_feature_cov_mean(var_dim=var_dim)\n"
   ]
  },
  {
   "cell_type": "code",
   "execution_count": 77,
   "metadata": {},
   "outputs": [],
   "source": [
    "from wmb import cemba, mm10"
   ]
  },
  {
   "cell_type": "code",
   "execution_count": 78,
   "metadata": {},
   "outputs": [],
   "source": [
    "black_list_path = mm10.ENCODE_BLACKLIST_PATH\n"
   ]
  },
  {
   "cell_type": "code",
   "execution_count": null,
   "metadata": {},
   "outputs": [],
   "source": [
    "black_list_path"
   ]
  },
  {
   "cell_type": "code",
   "execution_count": null,
   "metadata": {},
   "outputs": [],
   "source": [
    "mcds = mcds.remove_black_list_region(\n",
    "    black_list_path=black_list_path,\n",
    "    f=0.2  # Features having overlap > f with any black list region will be removed.\n",
    ")\n"
   ]
  },
  {
   "cell_type": "code",
   "execution_count": null,
   "metadata": {},
   "outputs": [],
   "source": [
    "mcds = mcds.remove_chromosome(['chrM', 'chrX', 'chrY'])"
   ]
  },
  {
   "cell_type": "code",
   "execution_count": 82,
   "metadata": {},
   "outputs": [],
   "source": [
    "with open('output/FeatureList.BasicFilter.txt', 'w') as f:\n",
    "    for var in mcds.get_index(mcds.var_dim).astype(str):\n",
    "        f.write(var + '\\n')"
   ]
  },
  {
   "cell_type": "code",
   "execution_count": 83,
   "metadata": {},
   "outputs": [],
   "source": [
    "mcds.add_mc_frac(\n",
    "normalize_per_cell=True,  # after calculating mC frac, per cell normalize the matrix\n",
    "    clip_norm_value=10  # clip outlier values above 10 to 10\n",
    ")\n"
   ]
  },
  {
   "cell_type": "code",
   "execution_count": null,
   "metadata": {},
   "outputs": [],
   "source": [
    "mch_pattern = 'CHN'\n",
    "mcg_pattern = 'CGN'\n",
    "n_top_feature = 20000\n",
    "\n",
    "mch_hvf = mcds.calculate_hvf_svr(var_dim=var_dim,\n",
    "                                 mc_type=mch_pattern,\n",
    "                                 n_top_feature=n_top_feature,\n",
    "                                 plot=True)\n"
   ]
  },
  {
   "cell_type": "code",
   "execution_count": null,
   "metadata": {},
   "outputs": [],
   "source": [
    "mcg_hvf = mcds.calculate_hvf_svr(var_dim=var_dim,\n",
    "                                 mc_type=mcg_pattern,\n",
    "                                 n_top_feature=n_top_feature,\n",
    "                                 plot=True)\n"
   ]
  },
  {
   "cell_type": "code",
   "execution_count": 86,
   "metadata": {},
   "outputs": [],
   "source": [
    "gene_meta_path = '/home/junyichen/code/whole_mouse_brain/wmb/files/gencode.vM22.annotation.gene.flat.tsv.gz'"
   ]
  },
  {
   "cell_type": "code",
   "execution_count": null,
   "metadata": {},
   "outputs": [],
   "source": [
    "chrom_to_remove = ['chrM', 'chrX', 'chrY']\n"
   ]
  },
  {
   "cell_type": "code",
   "execution_count": 6,
   "metadata": {},
   "outputs": [],
   "source": [
    "var_dim = \"geneslop2k-vm23\"\n",
    "mcds = MCDS.open('/data2st1/junyi/methlyatlas/mCseq/data.nemoarchive.org/biccn/grant/u19_cemba/ecker/epigenome/cellgroup/mCseq3/mouse/processed/counts/CEMBA.snmC.L4RegionAgg.zarr',\n",
    "                   obs_dim='L4Region',var_dim=var_dim)\n"
   ]
  },
  {
   "cell_type": "code",
   "execution_count": null,
   "metadata": {},
   "outputs": [],
   "source": [
    "abs(mcds['geneslop2k-vm23_start']-mcds['geneslop2k-vm23_end']).min()"
   ]
  },
  {
   "cell_type": "code",
   "execution_count": 8,
   "metadata": {},
   "outputs": [],
   "source": [
    "gene_meta_path = '/home/junyichen/code/whole_mouse_brain/wmb/files/modified_gencode.vM23.primary_assembly.annotation.gene.flat.tsv.gz'\n"
   ]
  },
  {
   "cell_type": "code",
   "execution_count": 9,
   "metadata": {},
   "outputs": [],
   "source": [
    "gene_meta = pd.read_csv(gene_meta_path, index_col='gene_id', sep='\\t')\n"
   ]
  },
  {
   "cell_type": "code",
   "execution_count": null,
   "metadata": {},
   "outputs": [],
   "source": []
  },
  {
   "cell_type": "code",
   "execution_count": null,
   "metadata": {},
   "outputs": [],
   "source": [
    "gene_meta"
   ]
  },
  {
   "cell_type": "code",
   "execution_count": null,
   "metadata": {},
   "outputs": [],
   "source": [
    "import pybedtools\n",
    "\n",
    "genes_to_skip = set()\n",
    "chrom_to_remove = ['chrM']\n",
    "\n",
    "# skip smaller genes mostly covered by a larger gene, e.g., a miRNA within a protein coding gene.\n",
    "# F=0.9 means > 90% of gene_b is overlapped with gene_a, in this case, we only keep gene_a for DMG test\n",
    "gene_bed = pybedtools.BedTool.from_dataframe(\n",
    "    gene_meta.reset_index()[['chrom', 'start', 'end', 'gene_id']])\n",
    "mapped_bam = gene_bed.map(b=gene_bed, c=4, o='distinct', F=0.9)\n",
    "for _, (*_, gene_a, gene_b_str) in mapped_bam.to_dataframe().iterrows():\n",
    "    for gene_b in gene_b_str.split(','):\n",
    "        if gene_b != gene_a:\n",
    "            genes_to_skip.add(gene_b)\n",
    "\n",
    "# remove certain chromosomes\n",
    "genes_to_skip |= set(gene_meta.index[gene_meta['chrom'].isin(chrom_to_remove)])\n",
    "use_features = gene_meta.index[~gene_meta.index.isin(genes_to_skip)]\n",
    "print(f'{use_features.size} features remained')"
   ]
  },
  {
   "cell_type": "code",
   "execution_count": null,
   "metadata": {},
   "outputs": [],
   "source": [
    "use_features"
   ]
  },
  {
   "cell_type": "code",
   "execution_count": null,
   "metadata": {},
   "outputs": [],
   "source": [
    "\n",
    "min_cov = 5\n",
    "\n",
    "mcds.add_feature_cov_mean()\n",
    "\n",
    "feature_cov_mean = mcds.coords[f'{var_dim}_cov_mean'].to_pandas()\n",
    "use_features &= feature_cov_mean[feature_cov_mean > min_cov].index\n"
   ]
  },
  {
   "cell_type": "code",
   "execution_count": null,
   "metadata": {},
   "outputs": [],
   "source": [
    "use_features"
   ]
  },
  {
   "cell_type": "code",
   "execution_count": 15,
   "metadata": {},
   "outputs": [],
   "source": [
    "use_gene_meta = gene_meta.loc[use_features]\n"
   ]
  },
  {
   "cell_type": "code",
   "execution_count": null,
   "metadata": {},
   "outputs": [],
   "source": [
    "use_gene_meta"
   ]
  },
  {
   "cell_type": "code",
   "execution_count": 18,
   "metadata": {},
   "outputs": [],
   "source": [
    "use_gene_meta.to_csv('output/GeneMetadata.csv.gz')\n"
   ]
  },
  {
   "cell_type": "code",
   "execution_count": 17,
   "metadata": {},
   "outputs": [],
   "source": [
    "gtf_path = '/data2st1/junyi/ref/gencode.vM23.chr_patch_hapl_scaff.annotation.gtf.gz'"
   ]
  },
  {
   "cell_type": "markdown",
   "metadata": {},
   "source": []
  },
  {
   "cell_type": "code",
   "execution_count": 45,
   "metadata": {},
   "outputs": [],
   "source": [
    "gene_meta = pd.read_csv(gtf_path, sep='\\t',skiprows=5,header=None)\n"
   ]
  },
  {
   "cell_type": "code",
   "execution_count": null,
   "metadata": {},
   "outputs": [],
   "source": [
    "gene_meta"
   ]
  },
  {
   "cell_type": "code",
   "execution_count": null,
   "metadata": {},
   "outputs": [],
   "source": [
    "mcds[\"L4Region\"]"
   ]
  },
  {
   "cell_type": "code",
   "execution_count": 55,
   "metadata": {},
   "outputs": [],
   "source": [
    "df_region = pd.read_csv('/data2st1/junyi/methlyatlas/atac/Subclass.names.map.csv.gz',index_col=0)"
   ]
  },
  {
   "cell_type": "code",
   "execution_count": null,
   "metadata": {},
   "outputs": [],
   "source": [
    "df_region"
   ]
  },
  {
   "cell_type": "code",
   "execution_count": 57,
   "metadata": {},
   "outputs": [],
   "source": [
    "df_meta_integrateion = pd.read_csv(\"/data2st1/junyi/methlyatlas/mCseq/CEMBA.mC.Metadata/CEMBA.mC.Metadata.csv\")"
   ]
  },
  {
   "cell_type": "code",
   "execution_count": 59,
   "metadata": {},
   "outputs": [],
   "source": [
    "df_meta_integrateion.drop_duplicates(subset='CellGroup',inplace=True)"
   ]
  },
  {
   "cell_type": "code",
   "execution_count": 64,
   "metadata": {},
   "outputs": [],
   "source": [
    "df_meta_integrateion.set_index('CellGroup',inplace=True)"
   ]
  },
  {
   "cell_type": "code",
   "execution_count": null,
   "metadata": {},
   "outputs": [],
   "source": [
    "df_meta_integrateion.loc[mcds[\"L4Region\"]]"
   ]
  },
  {
   "cell_type": "code",
   "execution_count": null,
   "metadata": {},
   "outputs": [],
   "source": [
    "df_meta_integrateion"
   ]
  },
  {
   "cell_type": "code",
   "execution_count": null,
   "metadata": {},
   "outputs": [],
   "source": [
    "import pyBigWig\n"
   ]
  },
  {
   "cell_type": "code",
   "execution_count": 171,
   "metadata": {},
   "outputs": [],
   "source": [
    "bw = pyBigWig.open(\"/data2st1/junyi/methlyatlas/atac/catlas.org/renlab_downloads/wholemousebrain/bigwig_macs2/001_CLA-EPd-CTX_Car3_Glut.bw\")"
   ]
  },
  {
   "cell_type": "code",
   "execution_count": null,
   "metadata": {},
   "outputs": [],
   "source": [
    "bw.isBigWig()"
   ]
  },
  {
   "cell_type": "code",
   "execution_count": null,
   "metadata": {},
   "outputs": [],
   "source": [
    "use_gene_meta"
   ]
  },
  {
   "cell_type": "code",
   "execution_count": 192,
   "metadata": {},
   "outputs": [],
   "source": [
    "stats =[]\n",
    "for gene in use_gene_meta.index:\n",
    "    chrom = use_gene_meta.loc[gene, 'chrom']\n",
    "    start = use_gene_meta.loc[gene, 'start']\n",
    "    end = use_gene_meta.loc[gene, 'end']\n",
    "    \n",
    "    values = bw.values(chrom, start-2000, start)\n",
    "    arr_values = np.array(values)\n",
    "    arr_values = np.nan_to_num(arr_values)\n",
    "    stats.append(arr_values.sum())"
   ]
  },
  {
   "cell_type": "code",
   "execution_count": null,
   "metadata": {},
   "outputs": [],
   "source": [
    "values"
   ]
  },
  {
   "cell_type": "code",
   "execution_count": null,
   "metadata": {},
   "outputs": [],
   "source": [
    "import matplotlib.pyplot as plt\n",
    "\n",
    "plt.hist(stats, bins=100, color='skyblue', edgecolor='black')\n",
    "\n",
    "# Add labels and title\n",
    "plt.xlabel('Value')\n",
    "plt.ylabel('Frequency')\n",
    "plt.ylim(0,1000)\n",
    "plt.title('Histogram of Random Data')\n"
   ]
  },
  {
   "cell_type": "code",
   "execution_count": null,
   "metadata": {},
   "outputs": [],
   "source": [
    "np.array(stats).max()"
   ]
  },
  {
   "cell_type": "code",
   "execution_count": 177,
   "metadata": {},
   "outputs": [],
   "source": [
    "import numpy as np\n",
    "array=np.array(bw.values(\"chr1\", 3205901-2000, 3205901))"
   ]
  },
  {
   "cell_type": "code",
   "execution_count": null,
   "metadata": {},
   "outputs": [],
   "source": [
    "array = np.nan_to_num(array, nan=0).mean()\n",
    "array"
   ]
  },
  {
   "cell_type": "code",
   "execution_count": null,
   "metadata": {},
   "outputs": [],
   "source": [
    "arr = array\n",
    "result = arr[(arr > 0) & (arr < 1)]\n",
    "result"
   ]
  },
  {
   "cell_type": "code",
   "execution_count": 197,
   "metadata": {},
   "outputs": [],
   "source": [
    "bw_atac = pyBigWig.open(\"/data2st1/junyi/methlyatlas/atac/catlas.org/renlab_downloads/wholemousebrain/bigwig_macs2/001_CLA-EPd-CTX_Car3_Glut.bw\")"
   ]
  },
  {
   "cell_type": "code",
   "execution_count": null,
   "metadata": {},
   "outputs": [],
   "source": [
    "values = bw_atac.values(chrom, 3205901, 3671498)\n",
    "np.array(values).max()"
   ]
  },
  {
   "cell_type": "code",
   "execution_count": 181,
   "metadata": {},
   "outputs": [],
   "source": [
    "stats =[]\n",
    "for gene in use_gene_meta.index:\n",
    "    chrom = use_gene_meta.loc[gene, 'chrom']\n",
    "    start = use_gene_meta.loc[gene, 'start']\n",
    "    end = use_gene_meta.loc[gene, 'end']\n",
    "    \n",
    "    values = bw.values(chrom, start-2000, start)\n",
    "    arr_values = np.array(values)\n",
    "    arr_values = np.nan_to_num(arr_values)\n",
    "    stats.append(arr_values.mean())"
   ]
  },
  {
   "cell_type": "code",
   "execution_count": 1,
   "metadata": {},
   "outputs": [],
   "source": [
    "import matplotlib.pyplot as plt\n",
    "import anndata as adata\n",
    "import scanpy as sc\n",
    "from wmb import cemba, mm10\n",
    "from ALLCools.mcds import MCDS\n",
    "from ALLCools.clustering import significant_pc_test\n",
    "from ALLCools.plot import *\n",
    "import pandas as pd\n",
    "from harmonypy import run_harmony"
   ]
  },
  {
   "cell_type": "code",
   "execution_count": 2,
   "metadata": {},
   "outputs": [],
   "source": [
    "adata = sc.read_h5ad('output/merged-clustering.h5ad')"
   ]
  },
  {
   "cell_type": "code",
   "execution_count": null,
   "metadata": {},
   "outputs": [],
   "source": [
    "sc.pl.umap(adata, color='MajorRegion', size=0.5, palette='tab20')"
   ]
  },
  {
   "cell_type": "code",
   "execution_count": null,
   "metadata": {},
   "outputs": [],
   "source": [
    "interactive_scatter(data=adata,\n",
    "                    hue='MajorRegion',\n",
    "                    coord_base='umap',\n",
    "                    max_points=10000)"
   ]
  },
  {
   "cell_type": "code",
   "execution_count": null,
   "metadata": {},
   "outputs": [],
   "source": [
    "fig, ax = plt.subplots(figsize=(4, 4), dpi=300)\n",
    "_ = categorical_scatter(data=adata,\n",
    "                        ax=ax,\n",
    "                        coord_base='umap',\n",
    "                        hue='MajorRegion',\n",
    "                        text_anno='MajorRegion',\n",
    "                        show_legend=True)\n"
   ]
  },
  {
   "cell_type": "code",
   "execution_count": 10,
   "metadata": {},
   "outputs": [],
   "source": [
    "df_mc_meta=pd.read_csv('/data2st1/junyi/methlyatlas/mCseq/CEMBA.mC.Metadata/CEMBA.mC.Metadata.csv')"
   ]
  },
  {
   "cell_type": "code",
   "execution_count": null,
   "metadata": {},
   "outputs": [],
   "source": [
    "df_mc_meta.columns"
   ]
  },
  {
   "cell_type": "code",
   "execution_count": null,
   "metadata": {},
   "outputs": [],
   "source": [
    "df_mc_meta.MajorRegion.unique()"
   ]
  },
  {
   "cell_type": "code",
   "execution_count": null,
   "metadata": {},
   "outputs": [],
   "source": [
    "df_mc_meta.SubRegion.unique()"
   ]
  },
  {
   "cell_type": "code",
   "execution_count": 17,
   "metadata": {},
   "outputs": [],
   "source": [
    "PFC_AMY_subregions = ['MOs','PL.ORB','PL,ACA,ILA','CTXsp,sAMY']\n",
    "selected_cells = df_mc_meta[(df_mc_meta.SubRegion.isin(PFC_AMY_subregions)) | (df_mc_meta.MajorRegion.isin([\"HPF\"]))].index\n",
    "selected_meta = df_mc_meta.loc[selected_cells]"
   ]
  },
  {
   "cell_type": "code",
   "execution_count": null,
   "metadata": {},
   "outputs": [],
   "source": [
    "selected_meta"
   ]
  },
  {
   "cell_type": "code",
   "execution_count": null,
   "metadata": {},
   "outputs": [],
   "source": [
    "df_umap = pd.read_csv('/data2st1/junyi/methlyatlas/mCseq/CEMBA.mC.Coordinates/CEMBA.mC.Coordinates.csv.gz',index_col=0)"
   ]
  },
  {
   "cell_type": "code",
   "execution_count": null,
   "metadata": {},
   "outputs": [],
   "source": [
    "df_umap"
   ]
  },
  {
   "cell_type": "code",
   "execution_count": 43,
   "metadata": {},
   "outputs": [],
   "source": [
    "var_dim = 'geneslop2k-vm23'\n",
    "mcds = MCDS.open('/data2st1/junyi/methlyatlas/mCseq/data.nemoarchive.org/biccn/grant/u19_cemba/ecker/epigenome/cellgroup/mCseq3/mouse/processed/counts/CEMBA.snmC.mcds',\n",
    "                   obs_dim='cell',var_dim=var_dim,use_obs=selected_meta.index)"
   ]
  },
  {
   "cell_type": "code",
   "execution_count": 28,
   "metadata": {},
   "outputs": [],
   "source": [
    "sampled_df = selected_meta.groupby('SubRegion', group_keys=False).count()"
   ]
  },
  {
   "cell_type": "code",
   "execution_count": 35,
   "metadata": {},
   "outputs": [],
   "source": [
    "sampled_df = selected_meta.sample(n=25000, random_state=42)  # Setting a random state for reproducibility\n"
   ]
  },
  {
   "cell_type": "code",
   "execution_count": 49,
   "metadata": {},
   "outputs": [],
   "source": [
    "selected_df_meta = sampled_df.merge(df_umap,left_on=\"cell\",right_index=True)"
   ]
  }
 ],
 "metadata": {
  "kernelspec": {
   "display_name": "allcools",
   "language": "python",
   "name": "python3"
  },
  "language_info": {
   "codemirror_mode": {
    "name": "ipython",
    "version": 3
   },
   "file_extension": ".py",
   "mimetype": "text/x-python",
   "name": "python",
   "nbconvert_exporter": "python",
   "pygments_lexer": "ipython3",
   "version": "3.8.20"
  }
 },
 "nbformat": 4,
 "nbformat_minor": 2
}
