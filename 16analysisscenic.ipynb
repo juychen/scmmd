{
 "cells": [
  {
   "cell_type": "code",
   "execution_count": 4,
   "id": "11303241",
   "metadata": {},
   "outputs": [],
   "source": [
    "import scanpy as sc\n",
    "import pycisTopic\n",
    "from pycisTopic.cistopic_class import *\n",
    "import pickle\n",
    "import os\n",
    "import pickle\n",
    "import scanpy as sc\n",
    "import anndata\n",
    "\n",
    "import mudata\n"
   ]
  },
  {
   "cell_type": "code",
   "execution_count": 6,
   "id": "45f64ebd",
   "metadata": {},
   "outputs": [],
   "source": [
    "cellltype = 'HIP_HIP_Glut'\n",
    "ctname = 'HIP_Glut'"
   ]
  },
  {
   "cell_type": "code",
   "execution_count": 7,
   "id": "81300995",
   "metadata": {},
   "outputs": [],
   "source": [
    "oudir = f'/data1st2/junyi/output/atac0416/scenic/{cellltype}/Snakemake'"
   ]
  },
  {
   "cell_type": "code",
   "execution_count": null,
   "id": "3f2b541f",
   "metadata": {},
   "outputs": [
    {
     "name": "stderr",
     "output_type": "stream",
     "text": [
      "/home/junyichen/anaconda3/envs/scenicplus/lib/python3.11/site-packages/anndata/_core/anndata.py:522: FutureWarning: The dtype argument is deprecated and will be removed in late 2024.\n",
      "  warnings.warn(\n",
      "/home/junyichen/anaconda3/envs/scenicplus/lib/python3.11/site-packages/anndata/_core/anndata.py:522: FutureWarning: The dtype argument is deprecated and will be removed in late 2024.\n",
      "  warnings.warn(\n",
      "/home/junyichen/anaconda3/envs/scenicplus/lib/python3.11/site-packages/anndata/_core/anndata.py:522: FutureWarning: The dtype argument is deprecated and will be removed in late 2024.\n",
      "  warnings.warn(\n",
      "/home/junyichen/anaconda3/envs/scenicplus/lib/python3.11/site-packages/anndata/_core/anndata.py:522: FutureWarning: The dtype argument is deprecated and will be removed in late 2024.\n",
      "  warnings.warn(\n"
     ]
    }
   ],
   "source": [
    "scplus_mdata = mudata.read(f'{oudir}/scplusmdata.h5mu')\n"
   ]
  },
  {
   "cell_type": "code",
   "execution_count": null,
   "id": "b33f6152",
   "metadata": {},
   "outputs": [],
   "source": [
    "\n",
    "\n",
    "eRegulon_gene_AUC = anndata.concat(\n",
    "    [scplus_mdata[\"direct_gene_based_AUC\"], scplus_mdata[\"extended_gene_based_AUC\"]],\n",
    "    axis = 1,\n",
    ")\n"
   ]
  },
  {
   "cell_type": "code",
   "execution_count": null,
   "id": "7eb159e7",
   "metadata": {},
   "outputs": [],
   "source": [
    "scplus_mdata.uns[\"direct_e_regulon_metadata\"].to_csv(\n",
    "    \"/data1st2/junyi/output/atac0416/scenic/AMY_AMY_Glut/direct_e_regulon_metadata.csv\"\n",
    ")\n"
   ]
  },
  {
   "cell_type": "code",
   "execution_count": null,
   "id": "50223589",
   "metadata": {},
   "outputs": [],
   "source": [
    "eRegulon_gene_AUC.obs = scplus_mdata.obs.loc[eRegulon_gene_AUC.obs_names]\n"
   ]
  },
  {
   "cell_type": "code",
   "execution_count": null,
   "id": "a56c9144",
   "metadata": {},
   "outputs": [],
   "source": [
    "sc.pp.neighbors(eRegulon_gene_AUC, use_rep = \"X\")\n"
   ]
  },
  {
   "cell_type": "code",
   "execution_count": null,
   "id": "dba763e8",
   "metadata": {},
   "outputs": [],
   "source": [
    "sc.tl.umap(eRegulon_gene_AUC)\n"
   ]
  },
  {
   "cell_type": "code",
   "execution_count": null,
   "id": "84be7144",
   "metadata": {},
   "outputs": [],
   "source": [
    "eRegulon_gene_AUC.obs['celltype.L2'] = eRegulon_gene_AUC.obs.index.str.split(\"_\").str[:-1].str.join(\"_\")"
   ]
  },
  {
   "cell_type": "code",
   "execution_count": null,
   "id": "f9623ec6",
   "metadata": {},
   "outputs": [],
   "source": [
    "sc.pl.umap(eRegulon_gene_AUC, color = ['celltype.L2'])\n"
   ]
  },
  {
   "cell_type": "code",
   "execution_count": null,
   "id": "94c9bae5",
   "metadata": {},
   "outputs": [],
   "source": [
    "scplus_mdata.obs['celltype.L2'] = scplus_mdata.obs.index.str.split(\"_\").str[:-1].str.join(\"_\")"
   ]
  },
  {
   "cell_type": "code",
   "execution_count": null,
   "id": "d0f70a08",
   "metadata": {},
   "outputs": [],
   "source": [
    "from scenicplus.RSS import (regulon_specificity_scores, plot_rss)\n"
   ]
  },
  {
   "cell_type": "code",
   "execution_count": null,
   "id": "20ad4f2c",
   "metadata": {},
   "outputs": [],
   "source": [
    "rss = regulon_specificity_scores(\n",
    "    scplus_mudata = scplus_mdata,\n",
    "    variable = \"celltype.L2\",\n",
    "    modalities = [\"direct_gene_based_AUC\", \"extended_gene_based_AUC\"]\n",
    ")\n"
   ]
  },
  {
   "cell_type": "code",
   "execution_count": null,
   "id": "0b63df52",
   "metadata": {},
   "outputs": [],
   "source": [
    "plot_rss(\n",
    "    data_matrix = rss,\n",
    "    top_n = 3,\n",
    "    num_columns = 3\n",
    ")"
   ]
  },
  {
   "cell_type": "code",
   "execution_count": null,
   "id": "ed4f77d9",
   "metadata": {},
   "outputs": [],
   "source": [
    "from scenicplus.plotting.dotplot import heatmap_dotplot\n",
    "heatmap_dotplot(\n",
    "    scplus_mudata = scplus_mdata,\n",
    "    color_modality = \"direct_gene_based_AUC\",\n",
    "    size_modality = \"direct_region_based_AUC\",\n",
    "    group_variable = \"celltype.L2\",\n",
    "    eRegulon_metadata_key = \"direct_e_regulon_metadata\",\n",
    "    color_feature_key = \"Gene_signature_name\",\n",
    "    size_feature_key = \"Region_signature_name\",\n",
    "    feature_name_key = \"eRegulon_name\",\n",
    "    sort_data_by = \"direct_gene_based_AUC\",\n",
    "    orientation = \"horizontal\",\n",
    "    figsize = (16, 5)\n",
    ")"
   ]
  }
 ],
 "metadata": {
  "kernelspec": {
   "display_name": "scenicplus",
   "language": "python",
   "name": "python3"
  },
  "language_info": {
   "codemirror_mode": {
    "name": "ipython",
    "version": 3
   },
   "file_extension": ".py",
   "mimetype": "text/x-python",
   "name": "python",
   "nbconvert_exporter": "python",
   "pygments_lexer": "ipython3",
   "version": "3.11.8"
  }
 },
 "nbformat": 4,
 "nbformat_minor": 5
}
