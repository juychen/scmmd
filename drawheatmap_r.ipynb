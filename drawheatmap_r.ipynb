{
 "cells": [
  {
   "cell_type": "code",
   "execution_count": null,
   "id": "eb7994d4",
   "metadata": {
    "vscode": {
     "languageId": "r"
    }
   },
   "outputs": [],
   "source": [
    "# 在绘图前设置随机种子\n",
    "set.seed(123)\n",
    "\n",
    "library(tidyr)\n",
    "library(dplyr)\n",
    "library(ComplexHeatmap)\n",
    "library(circlize) \n"
   ]
  },
  {
   "cell_type": "code",
   "execution_count": null,
   "id": "34da8ff4",
   "metadata": {
    "vscode": {
     "languageId": "r"
    }
   },
   "outputs": [],
   "source": [
    "# 定义热图颜色函数 (蓝-白-红)\n",
    "col_fun <- colorRamp2(c(-8, 0, 8), c(\"#3498db\", \"#FFFFFF\", \"#d62728\"))\n",
    "\n",
    "# 定义注释颜色\n",
    "ann_colors <- list(\n",
    "  region = c(\n",
    "    AMY = \"#1f77b4\",\n",
    "    Isocortex = \"#ff7f0e\",\n",
    "    HPF = \"#009E73\",\n",
    "    HY = \"#d62728\",\n",
    "    MB = \"#9467bd\",\n",
    "    PFC = \"#8c564b\",\n",
    "    STR = \"#e377c2\",\n",
    "    TH = \"#bcbd22\",            \n",
    "    Astro_Epen = \"#17becf\",    \n",
    "    OPC_Oligo = \"#7f7f7f\",    \n",
    "    Immune = \"#ff9896\",        \n",
    "    Vascular = \"#c5b0d5\"       \n",
    "  ),\n",
    "  sex = c(\n",
    "    Male = \"#6AA221\",\n",
    "    Female = \"#E51E78\"\n",
    "  )\n",
    ")\n"
   ]
  },
  {
   "cell_type": "code",
   "execution_count": 49,
   "id": "0374508a",
   "metadata": {
    "vscode": {
     "languageId": "r"
    }
   },
   "outputs": [],
   "source": [
    "file_path_scenic <- '/data2st1/junyi/output/atac0627/snregulation/example_go_input.csv'\n",
    "file_path <- '/data1st2/junyi/output/atac0627/scenic/scplus_region_based_AUC_filterd.csv'\n",
    "#file_path <- '/data1st2/junyi/output/atac0627/scenic/scplus_gene_based_AUC_filterd.csv'    \n",
    "file_basename <- tools::file_path_sans_ext(basename(file_path))"
   ]
  },
  {
   "cell_type": "code",
   "execution_count": null,
   "id": "8334748b",
   "metadata": {
    "vscode": {
     "languageId": "r"
    }
   },
   "outputs": [],
   "source": [
    "go_results <- read.csv(file_path)"
   ]
  },
  {
   "cell_type": "code",
   "execution_count": null,
   "id": "37e3a002",
   "metadata": {
    "vscode": {
     "languageId": "r"
    }
   },
   "outputs": [],
   "source": [
    "scenic_results <- read.csv(file_path_scenic)"
   ]
  },
  {
   "cell_type": "code",
   "execution_count": null,
   "id": "ef8c4ef7",
   "metadata": {
    "vscode": {
     "languageId": "r"
    }
   },
   "outputs": [],
   "source": [
    "scenic_results_3r <- scenic_results %>%\n",
    "  filter(sex == \"Male\", region %in% c(\"PFC\",\"AMY\",\"HPF\"))"
   ]
  },
  {
   "cell_type": "code",
   "execution_count": null,
   "id": "f4806275",
   "metadata": {
    "vscode": {
     "languageId": "r"
    }
   },
   "outputs": [],
   "source": [
    "#go_results <- read.csv('/data1st2/junyi/output/atac0627/scenic/scplus_region_based_AUC.csv')"
   ]
  },
  {
   "cell_type": "code",
   "execution_count": null,
   "id": "558dcaa1",
   "metadata": {
    "vscode": {
     "languageId": "r"
    }
   },
   "outputs": [],
   "source": [
    "# define a R function to order the go_results based on the celltype\n",
    "# funct\n",
    "\n",
    "order_go_results <- function(go_results) {\n",
    "\n",
    "    go_results$region <- gsub(\"-\", \"_\", go_results$region)\n",
    "\n",
    "    #先定义变量为因子\n",
    "    region_order <- c(\"PFC\", \"Isocortex\", \"HPF\", \"TH\",\"HY\",\"MB\",\"AMY\",\"STR\",\"OPC_Oligo\",\"Astro_Epen\",\"Immune\",\"Vascular\")\n",
    "    sex_order <- c(\"Male\", \"Female\")\n",
    "    Neurotransmitter_order <- c(\"Glut\", \"GABA\", \"Chol\",\"Dopa\")\n",
    "\n",
    "    go_results$region <- factor(go_results$region, levels = region_order)\n",
    "    go_results$sex <- factor(go_results$sex, levels = sex_order)\n",
    "    go_results$Neurotransmitter <- factor(go_results$Neurotransmitter, levels = Neurotransmitter_order)\n",
    "\n",
    "    # 使用 order() 按 region、sex、Neurotransmitter 排序数据框\n",
    "    go_results <- go_results[order(go_results$region, go_results$sex, go_results$Neurotransmitter,go_results$celltype), ]\n",
    "\n",
    "    # If TF_reg in column names, then rename, use TF_reg as term_name\n",
    "\n",
    "    if (\"TF_reg\" %in% colnames(go_results)) {\n",
    "        go_results$term_name = go_results$TF_reg\n",
    "    } else {\n",
    "        go_results$term_name = go_results$TF\n",
    "    }\n",
    "\n",
    "    return(go_results)\n",
    "}\n",
    "\n",
    "go_results <- order_go_results(go_results)"
   ]
  },
  {
   "cell_type": "code",
   "execution_count": 22,
   "id": "0e1594fb",
   "metadata": {
    "vscode": {
     "languageId": "r"
    }
   },
   "outputs": [],
   "source": [
    "generate_heatmap <- function(go_results) {\n",
    "    # Create a heatmap、\n",
    "  go_results_BP_MF = go_results\n",
    "  #subset(go_results,source %in% c(\"GO:BP\",\"GO:MF\"))\n",
    "\n",
    "\n",
    "  heatmap_data_BP_MF <- go_results_BP_MF %>%\n",
    "    select(sample, term_name, nlog10_p_val_adj) %>%\n",
    "    pivot_wider(names_from = term_name, values_from = nlog10_p_val_adj)\n",
    "\n",
    "\n",
    "  # heatmap_data_BP_MF <- go_results_BP_MF %>%\n",
    "  #   select(sample, term_name, nlog10_p_val_adj) %>%\n",
    "  #   pivot_wider(names_from = term_name, values_from = nlog10_p_val_adj,values_fn = list(nlog10_p_val_adj = mean))\n",
    "\n",
    "\n",
    "  mat_BP_MF <- as.data.frame(heatmap_data_BP_MF)\n",
    "  rownames(mat_BP_MF) <- mat_BP_MF$sample\n",
    "  mat_BP_MF$sample <- NULL\n",
    "  mat_BP_MF <- as.matrix(mat_BP_MF)\n",
    "  mat_BP_MF[is.na(mat_BP_MF)] <- 0\n",
    "  mat_BP_MF_clipped <- pmax(pmin(mat_BP_MF, 8), -8)\n",
    "\n",
    "  # generate the annotations for the heatmap\n",
    "  annotation_row <- go_results_BP_MF %>%\n",
    "    select(sample, region, sex) %>%\n",
    "    distinct()\n",
    "  rownames(annotation_row) <- annotation_row$sample\n",
    "  annotation_row$sample <- NULL\n",
    "\n",
    "\n",
    "  return (list(mat_BP_MF_clipped = mat_BP_MF_clipped, annotation_row = annotation_row))\n",
    "}\n",
    "\n",
    "go_elements <- generate_heatmap(go_results)\n",
    "mat_BP_MF_clipped <- go_elements$mat_BP_MF_clipped\n",
    "annotation_row <- go_elements$annotation_row\n"
   ]
  },
  {
   "cell_type": "code",
   "execution_count": 23,
   "id": "0f4dbe94",
   "metadata": {
    "vscode": {
     "languageId": "r"
    }
   },
   "outputs": [],
   "source": [
    "#write.csv(mat_BP_MF_clipped, file = \"/data1st2/junyi/output/atac0627/regulon_analysis/TF_unfil_scenic_heatmap_40_40_cutoff8.csv\")\n",
    "write.csv(mat_BP_MF_clipped, file = paste0(\"/data1st2/junyi/output/atac0627/regulon_analysis/\", file_basename, \"_heatmap_40_40_cutoff8.csv\"))"
   ]
  },
  {
   "cell_type": "code",
   "execution_count": 37,
   "id": "8b425565",
   "metadata": {
    "vscode": {
     "languageId": "r"
    }
   },
   "outputs": [
    {
     "data": {
      "text/html": [
       "<strong>null device:</strong> 1"
      ],
      "text/latex": [
       "\\textbf{null device:} 1"
      ],
      "text/markdown": [
       "**null device:** 1"
      ],
      "text/plain": [
       "null device \n",
       "          1 "
      ]
     },
     "metadata": {},
     "output_type": "display_data"
    }
   ],
   "source": [
    "dev.off()  "
   ]
  },
  {
   "cell_type": "code",
   "execution_count": 39,
   "id": "14a966ce",
   "metadata": {
    "vscode": {
     "languageId": "r"
    }
   },
   "outputs": [
    {
     "data": {
      "text/html": [
       "<strong>pdf:</strong> 2"
      ],
      "text/latex": [
       "\\textbf{pdf:} 2"
      ],
      "text/markdown": [
       "**pdf:** 2"
      ],
      "text/plain": [
       "pdf \n",
       "  2 "
      ]
     },
     "metadata": {},
     "output_type": "display_data"
    }
   ],
   "source": [
    "# 创建行注释对象 RowAnnotation\n",
    "draw_heatmap <- function(mat_BP_MF_clipped, annotation_row,file_basename) {\n",
    "  # 创建行注释对象\n",
    "  row_ha <- rowAnnotation(\n",
    "    region = annotation_row$region,\n",
    "    sex = annotation_row$sex,\n",
    "    col = ann_colors,\n",
    "    annotation_name_side = \"top\"  # 注释名放在顶端\n",
    "  )\n",
    "\n",
    "  #pdf(\"figures/TF_scenic_heatmap_40_40_cutoff8.pdf\", height = 40, width = 40) \n",
    "  pdf(paste0(\"/data1st2/junyi/output/atac0627/regulon_analysis/\", file_basename, \"_heatmap_40_40_cutoff8.pdf\"), height = 40, width = 40)\n",
    "  ht<-Heatmap(mat_BP_MF_clipped,\n",
    "          name = \"nlog10_p_val_adj\",   # 颜色条标题\n",
    "          col = col_fun,\n",
    "          heatmap_legend_param = list(\n",
    "            at = c(-8, -4, 0, 4, 8),   \n",
    "            labels = c(\"-8\", \"-4\", \"0\", \"4\", \"8\")\n",
    "          ),\n",
    "          show_row_names = TRUE,\n",
    "          show_column_names = TRUE,\n",
    "          cluster_rows = TRUE,\n",
    "          cluster_columns = TRUE,\n",
    "          top_annotation = NULL,\n",
    "          left_annotation = row_ha,\n",
    "          column_title = \"Heatmap by Celltype and GO Term\",\n",
    "          row_names_gp = gpar(fontsize = 5),      \n",
    "          column_names_gp = gpar(fontsize = 5),\n",
    "          use_raster = F\n",
    "          \n",
    "  )\n",
    "  draw(ht)\n",
    "  dev.off()  \n",
    "}\n",
    "draw_heatmap(mat_BP_MF_clipped, annotation_row,file_basename = file_basename)"
   ]
  },
  {
   "cell_type": "code",
   "execution_count": 56,
   "id": "a82db39c",
   "metadata": {
    "vscode": {
     "languageId": "r"
    }
   },
   "outputs": [],
   "source": [
    "# only select the TF that are in the go_results and scenic_results\n",
    "go_results_select <- go_results %>%\n",
    "  filter(TF %in% scenic_results_3r$TF)\n",
    "\n",
    "scenic_results_select <- scenic_results_3r %>%\n",
    "  filter(TF %in% go_results_select$TF)"
   ]
  },
  {
   "cell_type": "code",
   "execution_count": 60,
   "id": "86e01a6c",
   "metadata": {
    "vscode": {
     "languageId": "r"
    }
   },
   "outputs": [],
   "source": [
    "# onlyselect the term_name contains THE FULL STRING of  \"_+/+\"\n",
    "go_results_select <- go_results_select %>%\n",
    "  filter(grepl(\"_+/+\", term_name, fixed = TRUE))\n"
   ]
  },
  {
   "cell_type": "code",
   "execution_count": 62,
   "id": "ecb58cdb",
   "metadata": {
    "vscode": {
     "languageId": "r"
    }
   },
   "outputs": [
    {
     "data": {
      "text/html": [
       "<strong>pdf:</strong> 2"
      ],
      "text/latex": [
       "\\textbf{pdf:} 2"
      ],
      "text/markdown": [
       "**pdf:** 2"
      ],
      "text/plain": [
       "pdf \n",
       "  2 "
      ]
     },
     "metadata": {},
     "output_type": "display_data"
    }
   ],
   "source": [
    "go_results_select <- order_go_results(go_results_select)\n",
    "selected_elements <- generate_heatmap(go_results_select)\n",
    "selected_BP_MF_clipped <- selected_elements$mat_BP_MF_clipped\n",
    "selected_annotation_row <- selected_elements$annotation_row\n",
    "#write.csv(mat_BP_MF_clipped, file = \"/data1st2/junyi/output/atac0627/regulon_analysis/TF_scenic_heatmap_40_40_cutoff8.csv\")\n",
    "write.csv(selected_BP_MF_clipped, file = paste0(\"/data1st2/junyi/output/atac0627/regulon_analysis/\", file_basename, \"_selected_heatmap_40_40_cutoff8.csv\"))\n",
    "draw_heatmap(selected_BP_MF_clipped, selected_annotation_row,file_basename = paste0(file_basename, \"_selected\"))"
   ]
  },
  {
   "cell_type": "code",
   "execution_count": null,
   "id": "e81624b1",
   "metadata": {
    "vscode": {
     "languageId": "r"
    }
   },
   "outputs": [],
   "source": [
    "# As to your second questions. The + and - signs refer to the TF-to-gene and region-to-gene correlation coefficients. The first sign indicates wether the TF expression is either positively (+) or negatively (-) correlated with the predicted target gene expression. The second sign indiciates wether the region accessibility is either positively (+) or negatively (-) correlated with the predicted target gene expression.\n"
   ]
  },
  {
   "cell_type": "code",
   "execution_count": 45,
   "id": "b9f4e6fc",
   "metadata": {
    "vscode": {
     "languageId": "r"
    }
   },
   "outputs": [
    {
     "data": {
      "text/html": [
       "<strong>pdf:</strong> 2"
      ],
      "text/latex": [
       "\\textbf{pdf:} 2"
      ],
      "text/markdown": [
       "**pdf:** 2"
      ],
      "text/plain": [
       "pdf \n",
       "  2 "
      ]
     },
     "metadata": {},
     "output_type": "display_data"
    }
   ],
   "source": [
    "scenic_results_select <- order_go_results(scenic_results_select)\n",
    "selected_elements_scenic <- generate_heatmap(scenic_results_select)\n",
    "selected_BP_MF_clipped_scenic <- selected_elements_scenic$mat_BP_MF_clipped\n",
    "selected_annotation_row_scenic <- selected_elements_scenic$annotation_row\n",
    "#write.csv(mat_BP_MF_clipped, file = \"/data1st2/junyi/output/atac0627/regulon_analysis/TF_scenic_heatmap_40_40_cutoff8.csv\")\n",
    "write.csv(selected_BP_MF_clipped_scenic, file = paste0(\"/data1st2/junyi/output/atac0627/regulon_analysis/\", file_basename, \"_selected_scenic_heatmap_40_40_cutoff8.csv\"))\n",
    "draw_heatmap(selected_BP_MF_clipped_scenic, selected_annotation_row_scenic,file_basename = paste0(file_basename, \"_selected_scenic\"))"
   ]
  },
  {
   "cell_type": "code",
   "execution_count": 63,
   "id": "823747b1",
   "metadata": {
    "vscode": {
     "languageId": "r"
    }
   },
   "outputs": [],
   "source": [
    "list_inter<-c('Zfp207',\n",
    " 'Fosb',\n",
    " 'Cux1',\n",
    " 'Atf6',\n",
    " 'Junb',\n",
    " 'Tcf12',\n",
    " 'Mta3',\n",
    " 'Mef2a',\n",
    " 'Etv5',\n",
    " 'Xbp1',\n",
    " 'Meis1',\n",
    " 'Nfix',\n",
    " 'Tfdp2',\n",
    " 'Tcf4',\n",
    " 'Max',\n",
    " 'Bach2',\n",
    " 'Gtf2ird1')"
   ]
  },
  {
   "cell_type": "code",
   "execution_count": null,
   "id": "56037cc2",
   "metadata": {
    "vscode": {
     "languageId": "r"
    }
   },
   "outputs": [],
   "source": [
    "scenic_results_select$region <- gsub(\"-\", \"_\", scenic_results_select$region)\n",
    "\n",
    "#先定义变量为因子\n",
    "region_order <- c(\"PFC\", \"Isocortex\", \"HPF\", \"TH\",\"HY\",\"MB\",\"AMY\",\"STR\",\"OPC_Oligo\",\"Astro_Epen\",\"Immune\",\"Vascular\")\n",
    "sex_order <- c(\"Male\", \"Female\")\n",
    "table(scenic_results_select$Neurotransmitter)\n",
    "Neurotransmitter_order <- c(\"Glut\", \"GABA\", \"Chol\",\"Dopa\")\n",
    "\n",
    "scenic_results_select$region <- factor(scenic_results_select$region, levels = region_order)\n",
    "scenic_results_select$sex <- factor(scenic_results_select$sex, levels = sex_order)\n",
    "scenic_results_select$Neurotransmitter <- factor(scenic_results_select$Neurotransmitter, levels = Neurotransmitter_order)\n",
    "\n",
    "# 使用 order() 按 region、sex、Neurotransmitter 排序数据框\n",
    "scenic_results_select <- scenic_results_select[order(scenic_results_select$region, scenic_results_select$sex, scenic_results_select$Neurotransmitter, scenic_results_select$celltype), ]\n"
   ]
  },
  {
   "cell_type": "code",
   "execution_count": null,
   "id": "5c138212",
   "metadata": {
    "vscode": {
     "languageId": "r"
    }
   },
   "outputs": [],
   "source": [
    "if (\"TF_reg\" %in% colnames(go_results)) {\n",
    "    scenic_results_select$term_name = scenic_results_select$TF_reg\n",
    "} else {\n",
    "    scenic_results_select$term_name = scenic_results_select$TF\n",
    "}"
   ]
  },
  {
   "cell_type": "code",
   "execution_count": null,
   "id": "d7432d7b",
   "metadata": {
    "vscode": {
     "languageId": "r"
    }
   },
   "outputs": [],
   "source": [
    "\n",
    "\n",
    "\n",
    "##########cutoff10\n",
    "\n",
    "\n",
    "\n",
    "\n",
    "mat_BP_MF_clipped <- pmax(pmin(mat_BP_MF, 10), -10)\n",
    "\n",
    "annotation_row <- go_results_BP_MF %>%\n",
    "  select(sample, region, sex) %>%\n",
    "  distinct()\n",
    "\n",
    "rownames(annotation_row) <- annotation_row$sample\n",
    "annotation_row$sample <- NULL\n",
    "\n",
    "#定义热图颜色函数 (蓝-白-红)\n",
    "col_fun <- colorRamp2(c(-10, 0, 10), c(\"#3498db\", \"#FFFFFF\", \"#d62728\"))\n",
    "\n",
    "#定义注释颜色\n",
    "ann_colors <- list(\n",
    "  region = c(\n",
    "    AMY = \"#1f77b4\",\n",
    "    Isocortex = \"#ff7f0e\",\n",
    "    HPF = \"#009E73\",\n",
    "    HY = \"#d62728\",\n",
    "    MB = \"#9467bd\",\n",
    "    PFC = \"#8c564b\",\n",
    "    STR = \"#e377c2\",\n",
    "    TH = \"#bcbd22\",            \n",
    "    Astro_Epen = \"#17becf\",    \n",
    "    OPC_Oligo = \"#7f7f7f\",     \n",
    "    Immune = \"#ff9896\",        \n",
    "    Vascular = \"#c5b0d5\"       \n",
    "  ),\n",
    "  sex = c(\n",
    "    Male = \"#6AA221\",\n",
    "    Female = \"#E51E78\"\n",
    "  )\n",
    ")\n",
    "\n",
    "#创建行注释对象 RowAnnotation\n",
    "row_ha <- rowAnnotation(\n",
    "  region = annotation_row$region,\n",
    "  sex = annotation_row$sex,\n",
    "  col = ann_colors,\n",
    "  annotation_name_side = \"top\"  # 注释名放在顶端\n",
    ")\n",
    "\n",
    "\n",
    "pdf(\"GO_BP_MF_heatmap_40_40_cutoff10.pdf\", height = 40, width = 40)  \n",
    "Heatmap(mat_BP_MF_clipped,\n",
    "        name = \"-log10(p_val_adj)\",  \n",
    "        col = col_fun,\n",
    "        heatmap_legend_param = list(\n",
    "          at = c(-10, -5, 0, 5, 10),   \n",
    "          labels = c(\"-10\", \"-5\", \"0\", \"5\", \"10\")\n",
    "        ),\n",
    "        show_row_names = TRUE,\n",
    "        show_column_names = TRUE,\n",
    "        cluster_rows = TRUE,\n",
    "        cluster_columns = TRUE,\n",
    "        top_annotation = NULL,\n",
    "        left_annotation = row_ha,\n",
    "        column_title = \"Heatmap by Celltype and GO Term\",\n",
    "        row_names_gp = gpar(fontsize = 5),       \n",
    "        column_names_gp = gpar(fontsize = 1),\n",
    "        use_raster = F\n",
    "        \n",
    ")\n",
    "dev.off()  \n",
    "\n",
    "##########cutoff8\n",
    "#################v2 \n",
    "\n",
    "mat_BP_MF_clipped <- pmax(pmin(mat_BP_MF, 8), -8)\n",
    "\n",
    "\n",
    "set.seed(111)\n",
    "\n",
    "annotation_row <- go_results_BP_MF %>%\n",
    "  select(sample, region, sex) %>%\n",
    "  distinct()\n",
    "\n",
    "rownames(annotation_row) <- annotation_row$sample\n",
    "annotation_row$sample <- NULL\n",
    "\n",
    "#定义热图颜色函数 (蓝-白-红)\n",
    "col_fun <- colorRamp2(c(-8, 0, 8), c(\"#3498db\", \"#FFFFFF\", \"#d62728\"))\n",
    "\n",
    "#定义注释颜色\n",
    "ann_colors <- list(\n",
    "  region = c(\n",
    "    AMY = \"#1f77b4\",\n",
    "    Isocortex = \"#ff7f0e\",\n",
    "    HPF = \"#009E73\",\n",
    "    HY = \"#d62728\",\n",
    "    MB = \"#9467bd\",\n",
    "    PFC = \"#8c564b\",\n",
    "    STR = \"#e377c2\",\n",
    "    TH = \"#bcbd22\",            \n",
    "    Astro_Epen = \"#17becf\",    \n",
    "    OPC_Oligo = \"#7f7f7f\",     \n",
    "    Immune = \"#ff9896\",        \n",
    "    Vascular = \"#c5b0d5\"       \n",
    "  ),\n",
    "  sex = c(\n",
    "    Male = \"#6AA221\",\n",
    "    Female = \"#E51E78\"\n",
    "  )\n",
    ")\n",
    "\n",
    "#创建行注释对象 RowAnnotation\n",
    "row_ha <- rowAnnotation(\n",
    "  region = annotation_row$region,\n",
    "  sex = annotation_row$sex,\n",
    "  col = ann_colors,\n",
    "  annotation_name_side = \"top\"  # 注释名放在顶端\n",
    ")\n",
    "\n",
    "# 转置矩阵\n",
    "mat_t <- t(mat_BP_MF_clipped)\n",
    "\n",
    "#转置注释\n",
    "annotation_col <- annotation_row\n",
    "rownames(annotation_col) <- rownames(annotation_row)\n",
    "\n",
    "# 创建列注释（原来是行注释数据，转成列对应）\n",
    "col_ha <- HeatmapAnnotation(\n",
    "  region = annotation_col$region,\n",
    "  sex = annotation_col$sex,\n",
    "  col = ann_colors,\n",
    "  annotation_name_side = \"right\"\n",
    ")\n",
    "\n",
    "pdf(\"GO_BP_MF_heatmap_40_40_cutoff8_rotated.pdf\", height = 40, width = 40)\n",
    "\n",
    "Heatmap(mat_t,\n",
    "        name = \"-log10(p_val_adj)\",\n",
    "        col = col_fun,\n",
    "        heatmap_legend_param = list(\n",
    "          at = c(-8, -4, 0, 4, 8),\n",
    "          labels = c(\"-8\", \"-4\", \"0\", \"4\", \"8\")\n",
    "        ),\n",
    "        show_row_names = TRUE,        # 显示旋转后行名（原来列名 GO term）\n",
    "        show_column_names = TRUE,     # 显示旋转后列名（原来行名 sample）\n",
    "        cluster_rows = TRUE,\n",
    "        cluster_columns = TRUE,\n",
    "        top_annotation = col_ha,      # 注释条放上方，且对应转置后列\n",
    "        row_names_side = \"right\",     # 原来列名 GO term 在热图右侧\n",
    "        column_names_side = \"bottom\", # 原来行名 sample 在热图下方\n",
    "        row_names_gp = gpar(fontsize = 1),\n",
    "        column_names_gp = gpar(fontsize = 5),  \n",
    "        use_raster = FALSE\n",
    ")\n",
    "\n",
    "dev.off()\n",
    "\n",
    "\n",
    "\n",
    "##########cutoff8\n",
    "###############v3\n",
    "\n",
    "\n",
    "# 1. 先画一次热图获取列顺序\n",
    "ht_temp <- Heatmap(mat_t,\n",
    "                   cluster_rows = TRUE,\n",
    "                   cluster_columns = TRUE,\n",
    "                   use_raster = F)\n",
    "\n",
    "ht_temp_drawn <- draw(ht_temp)\n",
    "\n",
    "# 2. 获取列顺序\n",
    "col_order <- column_order(ht_temp_drawn)\n",
    "\n",
    "# 3. 反转列顺序\n",
    "col_order_reversed <- rev(col_order)\n",
    "\n",
    "\n",
    "# 4. 使用 column_dend_reorder 参数重新绘制\n",
    "pdf(\"GO_BP_MF_heatmap_40_40_cutoff8_rotated_reversed.pdf\", height = 40, width = 40)\n",
    "\n",
    "Heatmap(mat_t,\n",
    "        name = \"-log10(p_val_adj)\",\n",
    "        col = col_fun,\n",
    "        heatmap_legend_param = list(\n",
    "          at = c(-8, -4, 0, 4, 8),\n",
    "          labels = c(\"-8\", \"-4\", \"0\", \"4\", \"8\")\n",
    "        ),\n",
    "        show_row_names = TRUE,\n",
    "        show_column_names = TRUE,\n",
    "        cluster_rows = TRUE,\n",
    "        cluster_columns = TRUE,\n",
    "        column_dend_reorder = col_order_reversed,  \n",
    "        top_annotation = col_ha,\n",
    "        row_names_side = \"right\",\n",
    "        column_names_side = \"bottom\",\n",
    "        row_names_gp = gpar(fontsize = 1),\n",
    "        column_names_gp = gpar(fontsize = 5),\n",
    "        use_raster = FALSE\n",
    ")\n",
    "\n",
    "dev.off()\n",
    "\n",
    "#################cutoff10\n",
    "###############v2\n",
    "\n",
    "mat_BP_MF_clipped <- pmax(pmin(mat_BP_MF, 10), -10)\n",
    "\n",
    "\n",
    "annotation_row <- go_results_BP_MF %>%\n",
    "  select(sample, region, sex) %>%\n",
    "  distinct()\n",
    "\n",
    "rownames(annotation_row) <- annotation_row$sample\n",
    "annotation_row$sample <- NULL\n",
    "\n",
    "#定义热图颜色函数 (蓝-白-红)\n",
    "col_fun <- colorRamp2(c(-10, 0, 10), c(\"#3498db\", \"#FFFFFF\", \"#d62728\"))\n",
    "\n",
    "#定义注释颜色\n",
    "ann_colors <- list(\n",
    "  region = c(\n",
    "    AMY = \"#1f77b4\",\n",
    "    Isocortex = \"#ff7f0e\",\n",
    "    HPF = \"#009E73\",\n",
    "    HY = \"#d62728\",\n",
    "    MB = \"#9467bd\",\n",
    "    PFC = \"#8c564b\",\n",
    "    STR = \"#e377c2\",\n",
    "    TH = \"#bcbd22\",            \n",
    "    Astro_Epen = \"#17becf\",    \n",
    "    OPC_Oligo = \"#7f7f7f\",     \n",
    "    Immune = \"#ff9896\",        \n",
    "    Vascular = \"#c5b0d5\"       \n",
    "  ),\n",
    "  sex = c(\n",
    "    Male = \"#6AA221\",\n",
    "    Female = \"#E51E78\"\n",
    "  )\n",
    ")\n",
    "\n",
    "#创建行注释对象 RowAnnotation\n",
    "row_ha <- rowAnnotation(\n",
    "  region = annotation_row$region,\n",
    "  sex = annotation_row$sex,\n",
    "  col = ann_colors,\n",
    "  annotation_name_side = \"top\"  # 注释名放在顶端\n",
    ")\n",
    "\n",
    "#转置矩阵\n",
    "mat_t <- t(mat_BP_MF_clipped)\n",
    "\n",
    "\n",
    "#转置注释\n",
    "annotation_col <- annotation_row\n",
    "rownames(annotation_col) <- rownames(annotation_row)\n",
    "\n",
    "# 创建列注释（原来是行注释数据，转成列对应）\n",
    "col_ha <- HeatmapAnnotation(\n",
    "  region = annotation_col$region,\n",
    "  sex = annotation_col$sex,\n",
    "  col = ann_colors,\n",
    "  annotation_name_side = \"right\"\n",
    ")\n",
    "\n",
    "pdf(\"GO_BP_MF_heatmap_40_40_cutoff10_rotated.pdf\", height = 40, width = 40)\n",
    "\n",
    "Heatmap(mat_t,\n",
    "        name = \"-log10(p_val_adj)\",\n",
    "        col = col_fun,\n",
    "        heatmap_legend_param = list(\n",
    "          at = c(-10, -5, 0, 5, 10),\n",
    "          labels = c(\"-10\", \"-5\", \"0\", \"5\", \"10\")\n",
    "        ),\n",
    "        show_row_names = TRUE,        # 显示旋转后行名（原来列名 GO term）\n",
    "        show_column_names = TRUE,     # 显示旋转后列名（原来行名 sample）\n",
    "        cluster_rows = TRUE,\n",
    "        cluster_columns = TRUE,\n",
    "        top_annotation = col_ha,      # 注释条放上方，且对应转置后列\n",
    "        row_names_side = \"right\",     # 原来列名 GO term 在热图右侧\n",
    "        column_names_side = \"bottom\", # 原来行名 sample 在热图下方\n",
    "        row_names_gp = gpar(fontsize = 1),\n",
    "        column_names_gp = gpar(fontsize = 5),  \n",
    "        use_raster = FALSE\n",
    ")\n",
    "\n",
    "dev.off()\n",
    "\n",
    "\n",
    "#################cutoff10\n",
    "###############v3\n",
    "\n",
    "\n",
    "# 1. 先画一次热图获取列顺序\n",
    "ht_temp <- Heatmap(mat_t,\n",
    "                   cluster_rows = TRUE,\n",
    "                   cluster_columns = TRUE,\n",
    "                   use_raster = F)\n",
    "\n",
    "ht_temp_drawn <- draw(ht_temp)\n",
    "\n",
    "# 2. 获取列顺序\n",
    "col_order <- column_order(ht_temp_drawn)\n",
    "\n",
    "# 3. 反转列顺序\n",
    "col_order_reversed <- rev(col_order)\n",
    "\n",
    "\n",
    "# 4. 使用 column_dend_reorder 参数重新绘制\n",
    "pdf(\"GO_BP_MF_heatmap_40_40_cutoff10_rotated_reversed.pdf\", height = 40, width = 40)\n",
    "\n",
    "Heatmap(mat_t,\n",
    "        name = \"-log10(p_val_adj)\",\n",
    "        col = col_fun,\n",
    "        heatmap_legend_param = list(\n",
    "          at = c(-10, -5, 0, 5, 10),\n",
    "          labels = c(\"-10\", \"-5\", \"0\", \"5\", \"10\")\n",
    "        ),\n",
    "        show_row_names = TRUE,\n",
    "        show_column_names = TRUE,\n",
    "        cluster_rows = TRUE,\n",
    "        cluster_columns = TRUE,\n",
    "        column_dend_reorder = col_order_reversed,  \n",
    "        top_annotation = col_ha,\n",
    "        row_names_side = \"right\",\n",
    "        column_names_side = \"bottom\",\n",
    "        row_names_gp = gpar(fontsize = 1),\n",
    "        column_names_gp = gpar(fontsize = 5),\n",
    "        use_raster = FALSE\n",
    ")\n",
    "\n",
    "dev.off()\n",
    "\n"
   ]
  }
 ],
 "metadata": {
  "kernelspec": {
   "display_name": "R",
   "language": "R",
   "name": "ir"
  },
  "language_info": {
   "codemirror_mode": "r",
   "file_extension": ".r",
   "mimetype": "text/x-r-source",
   "name": "R",
   "pygments_lexer": "r",
   "version": "4.3.3"
  }
 },
 "nbformat": 4,
 "nbformat_minor": 5
}
