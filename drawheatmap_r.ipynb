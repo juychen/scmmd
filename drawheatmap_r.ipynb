{
 "cells": [
  {
   "cell_type": "code",
   "execution_count": 34,
   "id": "eb7994d4",
   "metadata": {
    "vscode": {
     "languageId": "r"
    }
   },
   "outputs": [],
   "source": [
    "# 在绘图前设置随机种子\n",
    "set.seed(123)\n",
    "\n",
    "library(tidyr)\n",
    "library(dplyr)\n",
    "library(ComplexHeatmap)\n",
    "library(circlize) \n"
   ]
  },
  {
   "cell_type": "code",
   "execution_count": 35,
   "id": "34da8ff4",
   "metadata": {
    "vscode": {
     "languageId": "r"
    }
   },
   "outputs": [],
   "source": [
    "# 定义热图颜色函数 (蓝-白-红)\n",
    "col_fun <- colorRamp2(c(-8, 0, 8), c(\"#3498db\", \"#FFFFFF\", \"#d62728\"))\n",
    "\n",
    "# 定义注释颜色\n",
    "ann_colors <- list(\n",
    "  region = c(\n",
    "    AMY = \"#1f77b4\",\n",
    "    Isocortex = \"#ff7f0e\",\n",
    "    HPF = \"#009E73\",\n",
    "    HY = \"#d62728\",\n",
    "    MB = \"#9467bd\",\n",
    "    PFC = \"#8c564b\",\n",
    "    STR = \"#e377c2\",\n",
    "    TH = \"#bcbd22\",            \n",
    "    Astro_Epen = \"#17becf\",    \n",
    "    OPC_Oligo = \"#7f7f7f\",    \n",
    "    Immune = \"#ff9896\",        \n",
    "    Vascular = \"#c5b0d5\"       \n",
    "  ),\n",
    "  sex = c(\n",
    "    Male = \"#6AA221\",\n",
    "    Female = \"#E51E78\"\n",
    "  )\n",
    ")\n"
   ]
  },
  {
   "cell_type": "code",
   "execution_count": 36,
   "id": "0374508a",
   "metadata": {
    "vscode": {
     "languageId": "r"
    }
   },
   "outputs": [],
   "source": [
    "file_path_scenic <- '/data2st1/junyi/output/atac0627/snregulation/example_go_input.csv'\n",
    "file_path <- '/data1st2/junyi/output/atac0627/scenic/scplus_region_based_AUC_filterd.csv'\n",
    "file_overlap <- '/data2st1/junyi/output/atac0627/snregulation/TFtarget_AUC_significant_3r.csv'\n",
    "#file_path <- '/data1st2/junyi/output/atac0627/scenic/scplus_gene_based_AUC_filterd.csv'    \n",
    "file_basename <- tools::file_path_sans_ext(basename(file_path))"
   ]
  },
  {
   "cell_type": "code",
   "execution_count": 37,
   "id": "8334748b",
   "metadata": {
    "vscode": {
     "languageId": "r"
    }
   },
   "outputs": [],
   "source": [
    "go_results <- read.csv(file_path)"
   ]
  },
  {
   "cell_type": "code",
   "execution_count": 38,
   "id": "37e3a002",
   "metadata": {
    "vscode": {
     "languageId": "r"
    }
   },
   "outputs": [],
   "source": [
    "scenic_results <- read.csv(file_path_scenic)"
   ]
  },
  {
   "cell_type": "code",
   "execution_count": 39,
   "id": "ef8c4ef7",
   "metadata": {
    "vscode": {
     "languageId": "r"
    }
   },
   "outputs": [],
   "source": [
    "scenic_results_3r <- scenic_results %>%\n",
    "  filter(sex == \"Male\", region %in% c(\"PFC\",\"AMY\",\"HPF\"))"
   ]
  },
  {
   "cell_type": "code",
   "execution_count": 40,
   "id": "f4806275",
   "metadata": {
    "vscode": {
     "languageId": "r"
    }
   },
   "outputs": [],
   "source": [
    "#go_results <- read.csv('/data1st2/junyi/output/atac0627/scenic/scplus_region_based_AUC.csv')"
   ]
  },
  {
   "cell_type": "code",
   "execution_count": 41,
   "id": "558dcaa1",
   "metadata": {
    "vscode": {
     "languageId": "r"
    }
   },
   "outputs": [],
   "source": [
    "# define a R function to order the go_results based on the celltype\n",
    "# funct\n",
    "\n",
    "order_go_results <- function(go_results) {\n",
    "\n",
    "    go_results$region <- gsub(\"-\", \"_\", go_results$region)\n",
    "\n",
    "    #先定义变量为因子\n",
    "    region_order <- c(\"PFC\", \"Isocortex\", \"HPF\", \"TH\",\"HY\",\"MB\",\"AMY\",\"STR\",\"OPC_Oligo\",\"Astro_Epen\",\"Immune\",\"Vascular\")\n",
    "    sex_order <- c(\"Male\", \"Female\")\n",
    "    Neurotransmitter_order <- c(\"Glut\", \"GABA\", \"Chol\",\"Dopa\")\n",
    "\n",
    "    go_results$region <- factor(go_results$region, levels = region_order)\n",
    "    go_results$sex <- factor(go_results$sex, levels = sex_order)\n",
    "    go_results$Neurotransmitter <- factor(go_results$Neurotransmitter, levels = Neurotransmitter_order)\n",
    "\n",
    "    # 使用 order() 按 region、sex、Neurotransmitter 排序数据框\n",
    "    go_results <- go_results[order(go_results$region, go_results$sex, go_results$Neurotransmitter,go_results$celltype), ]\n",
    "\n",
    "    # If TF_reg in column names, then rename, use TF_reg as term_name\n",
    "\n",
    "    if (\"TF_reg\" %in% colnames(go_results)) {\n",
    "        go_results$term_name = go_results$TF_reg\n",
    "    } else {\n",
    "        go_results$term_name = go_results$TF\n",
    "    }\n",
    "\n",
    "    return(go_results)\n",
    "}\n",
    "\n",
    "go_results <- order_go_results(go_results)"
   ]
  },
  {
   "cell_type": "code",
   "execution_count": 60,
   "id": "0e1594fb",
   "metadata": {
    "vscode": {
     "languageId": "r"
    }
   },
   "outputs": [],
   "source": [
    "generate_heatmap <- function(go_results) {\n",
    "    # Create a heatmap、\n",
    "  go_results_BP_MF = go_results\n",
    "  #subset(go_results,source %in% c(\"GO:BP\",\"GO:MF\"))\n",
    "\n",
    "\n",
    "  # heatmap_data_BP_MF <- go_results_BP_MF %>%\n",
    "  #   select(sample, term_name, nlog10_p_val_adj) %>%\n",
    "  #   pivot_wider(names_from = term_name, values_from = nlog10_p_val_adj)\n",
    "\n",
    "\n",
    "  heatmap_data_BP_MF <- go_results_BP_MF %>%\n",
    "    select(sample, term_name, nlog10_p_val_adj) %>%\n",
    "    pivot_wider(names_from = term_name, values_from = nlog10_p_val_adj,values_fn = list(nlog10_p_val_adj = mean))\n",
    "\n",
    "\n",
    "  mat_BP_MF <- as.data.frame(heatmap_data_BP_MF)\n",
    "  rownames(mat_BP_MF) <- mat_BP_MF$sample\n",
    "  mat_BP_MF$sample <- NULL\n",
    "  mat_BP_MF <- as.matrix(mat_BP_MF)\n",
    "  mat_BP_MF[is.na(mat_BP_MF)] <- 0\n",
    "  mat_BP_MF_clipped <- pmax(pmin(mat_BP_MF, 8), -8)\n",
    "\n",
    "  # generate the annotations for the heatmap\n",
    "  annotation_row <- go_results_BP_MF %>%\n",
    "    select(sample, region, sex) %>%\n",
    "    distinct()\n",
    "  rownames(annotation_row) <- annotation_row$sample\n",
    "  annotation_row$sample <- NULL\n",
    "\n",
    "\n",
    "  return (list(mat_BP_MF_clipped = mat_BP_MF_clipped, annotation_row = annotation_row))\n",
    "}\n",
    "\n",
    "go_elements <- generate_heatmap(go_results)\n",
    "mat_BP_MF_clipped <- go_elements$mat_BP_MF_clipped\n",
    "annotation_row <- go_elements$annotation_row\n"
   ]
  },
  {
   "cell_type": "code",
   "execution_count": 43,
   "id": "0f4dbe94",
   "metadata": {
    "vscode": {
     "languageId": "r"
    }
   },
   "outputs": [],
   "source": [
    "#write.csv(mat_BP_MF_clipped, file = \"/data1st2/junyi/output/atac0627/regulon_analysis/TF_unfil_scenic_heatmap_40_40_cutoff8.csv\")\n",
    "write.csv(mat_BP_MF_clipped, file = paste0(\"/data1st2/junyi/output/atac0627/regulon_analysis/\", file_basename, \"_heatmap_40_40_cutoff8.csv\"))"
   ]
  },
  {
   "cell_type": "code",
   "execution_count": 44,
   "id": "8b425565",
   "metadata": {
    "vscode": {
     "languageId": "r"
    }
   },
   "outputs": [
    {
     "data": {
      "text/html": [
       "<strong>null device:</strong> 1"
      ],
      "text/latex": [
       "\\textbf{null device:} 1"
      ],
      "text/markdown": [
       "**null device:** 1"
      ],
      "text/plain": [
       "null device \n",
       "          1 "
      ]
     },
     "metadata": {},
     "output_type": "display_data"
    }
   ],
   "source": [
    "dev.off()  "
   ]
  },
  {
   "cell_type": "code",
   "execution_count": 56,
   "id": "14a966ce",
   "metadata": {
    "vscode": {
     "languageId": "r"
    }
   },
   "outputs": [
    {
     "data": {
      "text/html": [
       "<strong>pdf:</strong> 2"
      ],
      "text/latex": [
       "\\textbf{pdf:} 2"
      ],
      "text/markdown": [
       "**pdf:** 2"
      ],
      "text/plain": [
       "pdf \n",
       "  2 "
      ]
     },
     "metadata": {},
     "output_type": "display_data"
    }
   ],
   "source": [
    "# 创建行注释对象 RowAnnotation\n",
    "draw_heatmap <- function(mat_BP_MF_clipped, annotation_row,file_basename,size= 40) {\n",
    "  # 创建行注释对象\n",
    "  row_ha <- rowAnnotation(\n",
    "    region = annotation_row$region,\n",
    "    sex = annotation_row$sex,\n",
    "    col = ann_colors,\n",
    "    annotation_name_side = \"top\"  # 注释名放在顶端\n",
    "  )\n",
    "\n",
    "  #pdf(\"figures/TF_scenic_heatmap_40_40_cutoff8.pdf\", height = 40, width = 40) \n",
    "  pdf(paste0(\"/data1st2/junyi/output/atac0627/regulon_analysis/\", file_basename, \"_heatmap_40_40_cutoff8.pdf\"), height = size, width = size)\n",
    "  ht<-Heatmap(mat_BP_MF_clipped,\n",
    "          name = \"nlog10_p_val_adj\",   # 颜色条标题\n",
    "          col = col_fun,\n",
    "          heatmap_legend_param = list(\n",
    "            at = c(-8, -4, 0, 4, 8),   \n",
    "            labels = c(\"-8\", \"-4\", \"0\", \"4\", \"8\")\n",
    "          ),\n",
    "          show_row_names = TRUE,\n",
    "          show_column_names = TRUE,\n",
    "          cluster_rows = TRUE,\n",
    "          cluster_columns = TRUE,\n",
    "          top_annotation = NULL,\n",
    "          left_annotation = row_ha,\n",
    "          column_title = \"Heatmap by Celltype and GO Term\",\n",
    "          row_names_gp = gpar(fontsize = 5),      \n",
    "          column_names_gp = gpar(fontsize = 5),\n",
    "          use_raster = F\n",
    "          \n",
    "  )\n",
    "  draw(ht)\n",
    "  dev.off()  \n",
    "}\n",
    "draw_heatmap(mat_BP_MF_clipped, annotation_row,file_basename = file_basename)"
   ]
  },
  {
   "cell_type": "code",
   "execution_count": 46,
   "id": "f9d36461",
   "metadata": {
    "vscode": {
     "languageId": "r"
    }
   },
   "outputs": [
    {
     "data": {
      "text/html": [
       "<table class=\"dataframe\">\n",
       "<caption>A data.frame: 6 × 21</caption>\n",
       "<thead>\n",
       "\t<tr><th></th><th scope=col>names</th><th scope=col>scores</th><th scope=col>logfoldchanges</th><th scope=col>pvals</th><th scope=col>pvals_adj</th><th scope=col>status</th><th scope=col>celltype.L2</th><th scope=col>TF</th><th scope=col>sample</th><th scope=col>sex</th><th scope=col>⋯</th><th scope=col>nlog10_p_val_adj</th><th scope=col>de_nlog10_p_val_adjcoef</th><th scope=col>nlog10_p_val_adjcoef</th><th scope=col>region_x</th><th scope=col>TF_reg</th><th scope=col>celltype</th><th scope=col>AUC_p</th><th scope=col>AUC_t</th><th scope=col>region_y</th><th scope=col>gender</th></tr>\n",
       "\t<tr><th></th><th scope=col>&lt;chr&gt;</th><th scope=col>&lt;dbl&gt;</th><th scope=col>&lt;dbl&gt;</th><th scope=col>&lt;dbl&gt;</th><th scope=col>&lt;dbl&gt;</th><th scope=col>&lt;chr&gt;</th><th scope=col>&lt;chr&gt;</th><th scope=col>&lt;chr&gt;</th><th scope=col>&lt;chr&gt;</th><th scope=col>&lt;chr&gt;</th><th scope=col>⋯</th><th scope=col>&lt;dbl&gt;</th><th scope=col>&lt;dbl&gt;</th><th scope=col>&lt;dbl&gt;</th><th scope=col>&lt;chr&gt;</th><th scope=col>&lt;chr&gt;</th><th scope=col>&lt;chr&gt;</th><th scope=col>&lt;dbl&gt;</th><th scope=col>&lt;dbl&gt;</th><th scope=col>&lt;chr&gt;</th><th scope=col>&lt;chr&gt;</th></tr>\n",
       "</thead>\n",
       "<tbody>\n",
       "\t<tr><th scope=row>1</th><td>Thra_extended_+/-_(2067r)</td><td>7.845675</td><td>0.15574794</td><td>4.306332e-15</td><td>5.659751e-14</td><td>up</td><td>AMY_Ccdc3_Acvr1c_Glut</td><td>Thra </td><td>AMY_Ccdc3_Acvr1c_Glut</td><td>Male</td><td>⋯</td><td>13.247203</td><td>13.247203</td><td>13.247203</td><td>AMY</td><td>Thra_+/- </td><td>AMY_Ccdc3_Acvr1c_Glut_M</td><td>5.391523e-14</td><td>7.557277</td><td>AMY</td><td>M</td></tr>\n",
       "\t<tr><th scope=row>2</th><td>Klf10_direct_+/-_(658r)  </td><td>7.924923</td><td>0.09869862</td><td>2.282867e-15</td><td>3.036214e-14</td><td>up</td><td>AMY_Ccdc3_Acvr1c_Glut</td><td>Klf10</td><td>AMY_Ccdc3_Acvr1c_Glut</td><td>Male</td><td>⋯</td><td>13.517668</td><td>13.517668</td><td>13.517668</td><td>AMY</td><td>Klf10_+/-</td><td>AMY_Ccdc3_Acvr1c_Glut_M</td><td>5.657280e-14</td><td>7.550898</td><td>AMY</td><td>M</td></tr>\n",
       "\t<tr><th scope=row>3</th><td>Thra_extended_-/+_(62r)  </td><td>6.257223</td><td>0.09484251</td><td>3.918942e-10</td><td>2.120839e-09</td><td>up</td><td>AMY_Ccdc3_Acvr1c_Glut</td><td>Thra </td><td>AMY_Ccdc3_Acvr1c_Glut</td><td>Male</td><td>⋯</td><td> 8.673492</td><td> 8.673492</td><td> 8.673492</td><td>AMY</td><td>Thra_-/+ </td><td>AMY_Ccdc3_Acvr1c_Glut_M</td><td>5.391523e-14</td><td>7.557277</td><td>AMY</td><td>M</td></tr>\n",
       "\t<tr><th scope=row>4</th><td>Jund_direct_+/-_(52r)    </td><td>4.224975</td><td>0.07347207</td><td>2.389674e-05</td><td>5.885680e-05</td><td>up</td><td>AMY_Ccdc3_Acvr1c_Glut</td><td>Jund </td><td>AMY_Ccdc3_Acvr1c_Glut</td><td>Male</td><td>⋯</td><td> 4.230203</td><td> 4.230203</td><td> 4.230203</td><td>AMY</td><td>Jund_+/- </td><td>AMY_Ccdc3_Acvr1c_Glut_M</td><td>8.984366e-23</td><td>9.900811</td><td>AMY</td><td>M</td></tr>\n",
       "\t<tr><th scope=row>5</th><td>Fos_direct_+/+_(23r)     </td><td>3.404745</td><td>0.04777952</td><td>6.622580e-04</td><td>1.295299e-03</td><td>up</td><td>AMY_Ccdc3_Acvr1c_Glut</td><td>Fos  </td><td>AMY_Ccdc3_Acvr1c_Glut</td><td>Male</td><td>⋯</td><td> 2.887630</td><td> 2.887630</td><td> 2.887630</td><td>AMY</td><td>Fos_+/+  </td><td>AMY_Ccdc3_Acvr1c_Glut_M</td><td>3.604871e-14</td><td>7.610450</td><td>AMY</td><td>M</td></tr>\n",
       "\t<tr><th scope=row>6</th><td>Thra_extended_-/-_(11r)  </td><td>2.630084</td><td>0.04548344</td><td>8.536377e-03</td><td>1.331096e-02</td><td>up</td><td>AMY_Ccdc3_Acvr1c_Glut</td><td>Thra </td><td>AMY_Ccdc3_Acvr1c_Glut</td><td>Male</td><td>⋯</td><td> 1.875791</td><td> 1.875791</td><td> 1.875791</td><td>AMY</td><td>Thra_-/- </td><td>AMY_Ccdc3_Acvr1c_Glut_M</td><td>5.391523e-14</td><td>7.557277</td><td>AMY</td><td>M</td></tr>\n",
       "</tbody>\n",
       "</table>\n"
      ],
      "text/latex": [
       "A data.frame: 6 × 21\n",
       "\\begin{tabular}{r|lllllllllllllllllllll}\n",
       "  & names & scores & logfoldchanges & pvals & pvals\\_adj & status & celltype.L2 & TF & sample & sex & ⋯ & nlog10\\_p\\_val\\_adj & de\\_nlog10\\_p\\_val\\_adjcoef & nlog10\\_p\\_val\\_adjcoef & region\\_x & TF\\_reg & celltype & AUC\\_p & AUC\\_t & region\\_y & gender\\\\\n",
       "  & <chr> & <dbl> & <dbl> & <dbl> & <dbl> & <chr> & <chr> & <chr> & <chr> & <chr> & ⋯ & <dbl> & <dbl> & <dbl> & <chr> & <chr> & <chr> & <dbl> & <dbl> & <chr> & <chr>\\\\\n",
       "\\hline\n",
       "\t1 & Thra\\_extended\\_+/-\\_(2067r) & 7.845675 & 0.15574794 & 4.306332e-15 & 5.659751e-14 & up & AMY\\_Ccdc3\\_Acvr1c\\_Glut & Thra  & AMY\\_Ccdc3\\_Acvr1c\\_Glut & Male & ⋯ & 13.247203 & 13.247203 & 13.247203 & AMY & Thra\\_+/-  & AMY\\_Ccdc3\\_Acvr1c\\_Glut\\_M & 5.391523e-14 & 7.557277 & AMY & M\\\\\n",
       "\t2 & Klf10\\_direct\\_+/-\\_(658r)   & 7.924923 & 0.09869862 & 2.282867e-15 & 3.036214e-14 & up & AMY\\_Ccdc3\\_Acvr1c\\_Glut & Klf10 & AMY\\_Ccdc3\\_Acvr1c\\_Glut & Male & ⋯ & 13.517668 & 13.517668 & 13.517668 & AMY & Klf10\\_+/- & AMY\\_Ccdc3\\_Acvr1c\\_Glut\\_M & 5.657280e-14 & 7.550898 & AMY & M\\\\\n",
       "\t3 & Thra\\_extended\\_-/+\\_(62r)   & 6.257223 & 0.09484251 & 3.918942e-10 & 2.120839e-09 & up & AMY\\_Ccdc3\\_Acvr1c\\_Glut & Thra  & AMY\\_Ccdc3\\_Acvr1c\\_Glut & Male & ⋯ &  8.673492 &  8.673492 &  8.673492 & AMY & Thra\\_-/+  & AMY\\_Ccdc3\\_Acvr1c\\_Glut\\_M & 5.391523e-14 & 7.557277 & AMY & M\\\\\n",
       "\t4 & Jund\\_direct\\_+/-\\_(52r)     & 4.224975 & 0.07347207 & 2.389674e-05 & 5.885680e-05 & up & AMY\\_Ccdc3\\_Acvr1c\\_Glut & Jund  & AMY\\_Ccdc3\\_Acvr1c\\_Glut & Male & ⋯ &  4.230203 &  4.230203 &  4.230203 & AMY & Jund\\_+/-  & AMY\\_Ccdc3\\_Acvr1c\\_Glut\\_M & 8.984366e-23 & 9.900811 & AMY & M\\\\\n",
       "\t5 & Fos\\_direct\\_+/+\\_(23r)      & 3.404745 & 0.04777952 & 6.622580e-04 & 1.295299e-03 & up & AMY\\_Ccdc3\\_Acvr1c\\_Glut & Fos   & AMY\\_Ccdc3\\_Acvr1c\\_Glut & Male & ⋯ &  2.887630 &  2.887630 &  2.887630 & AMY & Fos\\_+/+   & AMY\\_Ccdc3\\_Acvr1c\\_Glut\\_M & 3.604871e-14 & 7.610450 & AMY & M\\\\\n",
       "\t6 & Thra\\_extended\\_-/-\\_(11r)   & 2.630084 & 0.04548344 & 8.536377e-03 & 1.331096e-02 & up & AMY\\_Ccdc3\\_Acvr1c\\_Glut & Thra  & AMY\\_Ccdc3\\_Acvr1c\\_Glut & Male & ⋯ &  1.875791 &  1.875791 &  1.875791 & AMY & Thra\\_-/-  & AMY\\_Ccdc3\\_Acvr1c\\_Glut\\_M & 5.391523e-14 & 7.557277 & AMY & M\\\\\n",
       "\\end{tabular}\n"
      ],
      "text/markdown": [
       "\n",
       "A data.frame: 6 × 21\n",
       "\n",
       "| <!--/--> | names &lt;chr&gt; | scores &lt;dbl&gt; | logfoldchanges &lt;dbl&gt; | pvals &lt;dbl&gt; | pvals_adj &lt;dbl&gt; | status &lt;chr&gt; | celltype.L2 &lt;chr&gt; | TF &lt;chr&gt; | sample &lt;chr&gt; | sex &lt;chr&gt; | ⋯ ⋯ | nlog10_p_val_adj &lt;dbl&gt; | de_nlog10_p_val_adjcoef &lt;dbl&gt; | nlog10_p_val_adjcoef &lt;dbl&gt; | region_x &lt;chr&gt; | TF_reg &lt;chr&gt; | celltype &lt;chr&gt; | AUC_p &lt;dbl&gt; | AUC_t &lt;dbl&gt; | region_y &lt;chr&gt; | gender &lt;chr&gt; |\n",
       "|---|---|---|---|---|---|---|---|---|---|---|---|---|---|---|---|---|---|---|---|---|---|\n",
       "| 1 | Thra_extended_+/-_(2067r) | 7.845675 | 0.15574794 | 4.306332e-15 | 5.659751e-14 | up | AMY_Ccdc3_Acvr1c_Glut | Thra  | AMY_Ccdc3_Acvr1c_Glut | Male | ⋯ | 13.247203 | 13.247203 | 13.247203 | AMY | Thra_+/-  | AMY_Ccdc3_Acvr1c_Glut_M | 5.391523e-14 | 7.557277 | AMY | M |\n",
       "| 2 | Klf10_direct_+/-_(658r)   | 7.924923 | 0.09869862 | 2.282867e-15 | 3.036214e-14 | up | AMY_Ccdc3_Acvr1c_Glut | Klf10 | AMY_Ccdc3_Acvr1c_Glut | Male | ⋯ | 13.517668 | 13.517668 | 13.517668 | AMY | Klf10_+/- | AMY_Ccdc3_Acvr1c_Glut_M | 5.657280e-14 | 7.550898 | AMY | M |\n",
       "| 3 | Thra_extended_-/+_(62r)   | 6.257223 | 0.09484251 | 3.918942e-10 | 2.120839e-09 | up | AMY_Ccdc3_Acvr1c_Glut | Thra  | AMY_Ccdc3_Acvr1c_Glut | Male | ⋯ |  8.673492 |  8.673492 |  8.673492 | AMY | Thra_-/+  | AMY_Ccdc3_Acvr1c_Glut_M | 5.391523e-14 | 7.557277 | AMY | M |\n",
       "| 4 | Jund_direct_+/-_(52r)     | 4.224975 | 0.07347207 | 2.389674e-05 | 5.885680e-05 | up | AMY_Ccdc3_Acvr1c_Glut | Jund  | AMY_Ccdc3_Acvr1c_Glut | Male | ⋯ |  4.230203 |  4.230203 |  4.230203 | AMY | Jund_+/-  | AMY_Ccdc3_Acvr1c_Glut_M | 8.984366e-23 | 9.900811 | AMY | M |\n",
       "| 5 | Fos_direct_+/+_(23r)      | 3.404745 | 0.04777952 | 6.622580e-04 | 1.295299e-03 | up | AMY_Ccdc3_Acvr1c_Glut | Fos   | AMY_Ccdc3_Acvr1c_Glut | Male | ⋯ |  2.887630 |  2.887630 |  2.887630 | AMY | Fos_+/+   | AMY_Ccdc3_Acvr1c_Glut_M | 3.604871e-14 | 7.610450 | AMY | M |\n",
       "| 6 | Thra_extended_-/-_(11r)   | 2.630084 | 0.04548344 | 8.536377e-03 | 1.331096e-02 | up | AMY_Ccdc3_Acvr1c_Glut | Thra  | AMY_Ccdc3_Acvr1c_Glut | Male | ⋯ |  1.875791 |  1.875791 |  1.875791 | AMY | Thra_-/-  | AMY_Ccdc3_Acvr1c_Glut_M | 5.391523e-14 | 7.557277 | AMY | M |\n",
       "\n"
      ],
      "text/plain": [
       "  names                     scores   logfoldchanges pvals        pvals_adj   \n",
       "1 Thra_extended_+/-_(2067r) 7.845675 0.15574794     4.306332e-15 5.659751e-14\n",
       "2 Klf10_direct_+/-_(658r)   7.924923 0.09869862     2.282867e-15 3.036214e-14\n",
       "3 Thra_extended_-/+_(62r)   6.257223 0.09484251     3.918942e-10 2.120839e-09\n",
       "4 Jund_direct_+/-_(52r)     4.224975 0.07347207     2.389674e-05 5.885680e-05\n",
       "5 Fos_direct_+/+_(23r)      3.404745 0.04777952     6.622580e-04 1.295299e-03\n",
       "6 Thra_extended_-/-_(11r)   2.630084 0.04548344     8.536377e-03 1.331096e-02\n",
       "  status celltype.L2           TF    sample                sex  ⋯\n",
       "1 up     AMY_Ccdc3_Acvr1c_Glut Thra  AMY_Ccdc3_Acvr1c_Glut Male ⋯\n",
       "2 up     AMY_Ccdc3_Acvr1c_Glut Klf10 AMY_Ccdc3_Acvr1c_Glut Male ⋯\n",
       "3 up     AMY_Ccdc3_Acvr1c_Glut Thra  AMY_Ccdc3_Acvr1c_Glut Male ⋯\n",
       "4 up     AMY_Ccdc3_Acvr1c_Glut Jund  AMY_Ccdc3_Acvr1c_Glut Male ⋯\n",
       "5 up     AMY_Ccdc3_Acvr1c_Glut Fos   AMY_Ccdc3_Acvr1c_Glut Male ⋯\n",
       "6 up     AMY_Ccdc3_Acvr1c_Glut Thra  AMY_Ccdc3_Acvr1c_Glut Male ⋯\n",
       "  nlog10_p_val_adj de_nlog10_p_val_adjcoef nlog10_p_val_adjcoef region_x\n",
       "1 13.247203        13.247203               13.247203            AMY     \n",
       "2 13.517668        13.517668               13.517668            AMY     \n",
       "3  8.673492         8.673492                8.673492            AMY     \n",
       "4  4.230203         4.230203                4.230203            AMY     \n",
       "5  2.887630         2.887630                2.887630            AMY     \n",
       "6  1.875791         1.875791                1.875791            AMY     \n",
       "  TF_reg    celltype                AUC_p        AUC_t    region_y gender\n",
       "1 Thra_+/-  AMY_Ccdc3_Acvr1c_Glut_M 5.391523e-14 7.557277 AMY      M     \n",
       "2 Klf10_+/- AMY_Ccdc3_Acvr1c_Glut_M 5.657280e-14 7.550898 AMY      M     \n",
       "3 Thra_-/+  AMY_Ccdc3_Acvr1c_Glut_M 5.391523e-14 7.557277 AMY      M     \n",
       "4 Jund_+/-  AMY_Ccdc3_Acvr1c_Glut_M 8.984366e-23 9.900811 AMY      M     \n",
       "5 Fos_+/+   AMY_Ccdc3_Acvr1c_Glut_M 3.604871e-14 7.610450 AMY      M     \n",
       "6 Thra_-/-  AMY_Ccdc3_Acvr1c_Glut_M 5.391523e-14 7.557277 AMY      M     "
      ]
     },
     "metadata": {},
     "output_type": "display_data"
    }
   ],
   "source": [
    "head(overlap_results)"
   ]
  },
  {
   "cell_type": "code",
   "execution_count": 55,
   "id": "0eed44fb",
   "metadata": {
    "vscode": {
     "languageId": "r"
    }
   },
   "outputs": [],
   "source": [
    "overlap_results <- read.csv(file_overlap)\n",
    "#overlap_results$celltype.L2 <- gsub(\"-\", \"_\", overlap_results$celltype.L2)\n",
    "# overlap_results <- overlap_results %>%\n",
    "#   select(TF, celltype.L2, region, logfoldchanges, p_val_adj) %>%\n",
    "#   distinct()\n",
    "overlap_results <- order_go_results(overlap_results)\n",
    "overlap_heatmap_data <- generate_heatmap(overlap_results)\n",
    "mat_overlap_clipped <- overlap_heatmap_data$mat_BP_MF_clipped\n",
    "annotation_row_overlap <- overlap_heatmap_data$annotation_row\n",
    "#write.csv(mat_overlap_clipped, file = \"/data1st2/junyi/output/atac0627/regulon_analysis/TF_overlap_heatmap_40_40_cutoff8.csv\")\n",
    "write.csv(mat_overlap_clipped, file = paste0(\"/data1st2/junyi/output/atac0627/regulon_analysis/\", file_basename, \"_overlap_heatmap_40_40_cutoff8.csv\"))"
   ]
  },
  {
   "cell_type": "code",
   "execution_count": 59,
   "id": "02bea924",
   "metadata": {
    "vscode": {
     "languageId": "r"
    }
   },
   "outputs": [
    {
     "data": {
      "text/html": [
       "<strong>pdf:</strong> 2"
      ],
      "text/latex": [
       "\\textbf{pdf:} 2"
      ],
      "text/markdown": [
       "**pdf:** 2"
      ],
      "text/plain": [
       "pdf \n",
       "  2 "
      ]
     },
     "metadata": {},
     "output_type": "display_data"
    }
   ],
   "source": [
    "draw_heatmap(mat_overlap_clipped, annotation_row_overlap,file_basename = paste0(file_basename, \"_pverlpselected\"),size = 15)"
   ]
  },
  {
   "cell_type": "code",
   "execution_count": null,
   "id": "a82db39c",
   "metadata": {
    "vscode": {
     "languageId": "r"
    }
   },
   "outputs": [],
   "source": [
    "# only select the TF that are in the go_results and scenic_results\n",
    "go_results_select <- go_results %>%\n",
    "  filter(TF %in% scenic_results_3r$TF)\n",
    "\n",
    "scenic_results_select <- scenic_results_3r %>%\n",
    "  filter(TF %in% go_results_select$TF)"
   ]
  },
  {
   "cell_type": "code",
   "execution_count": null,
   "id": "86e01a6c",
   "metadata": {
    "vscode": {
     "languageId": "r"
    }
   },
   "outputs": [],
   "source": [
    "# onlyselect the term_name contains THE FULL STRING of  \"_+/+\"\n",
    "go_results_select <- go_results_select %>%\n",
    "  filter(grepl(\"_+/+\", term_name, fixed = TRUE))\n"
   ]
  },
  {
   "cell_type": "code",
   "execution_count": null,
   "id": "cf7dcdb1",
   "metadata": {
    "vscode": {
     "languageId": "r"
    }
   },
   "outputs": [],
   "source": []
  },
  {
   "cell_type": "code",
   "execution_count": null,
   "id": "ecb58cdb",
   "metadata": {
    "vscode": {
     "languageId": "r"
    }
   },
   "outputs": [],
   "source": [
    "go_results_select <- order_go_results(go_results_select)\n",
    "selected_elements <- generate_heatmap(go_results_select)\n",
    "selected_BP_MF_clipped <- selected_elements$mat_BP_MF_clipped\n",
    "selected_annotation_row <- selected_elements$annotation_row\n",
    "#write.csv(mat_BP_MF_clipped, file = \"/data1st2/junyi/output/atac0627/regulon_analysis/TF_scenic_heatmap_40_40_cutoff8.csv\")\n",
    "write.csv(selected_BP_MF_clipped, file = paste0(\"/data1st2/junyi/output/atac0627/regulon_analysis/\", file_basename, \"_selected_heatmap_40_40_cutoff8.csv\"))\n",
    "draw_heatmap(selected_BP_MF_clipped, selected_annotation_row,file_basename = paste0(file_basename, \"_selected\"))"
   ]
  },
  {
   "cell_type": "code",
   "execution_count": null,
   "id": "e81624b1",
   "metadata": {
    "vscode": {
     "languageId": "r"
    }
   },
   "outputs": [],
   "source": [
    "# As to your second questions. The + and - signs refer to the TF-to-gene and region-to-gene correlation coefficients. The first sign indicates wether the TF expression is either positively (+) or negatively (-) correlated with the predicted target gene expression. The second sign indiciates wether the region accessibility is either positively (+) or negatively (-) correlated with the predicted target gene expression.\n"
   ]
  },
  {
   "cell_type": "code",
   "execution_count": null,
   "id": "b9f4e6fc",
   "metadata": {
    "vscode": {
     "languageId": "r"
    }
   },
   "outputs": [],
   "source": [
    "scenic_results_select <- order_go_results(scenic_results_select)\n",
    "selected_elements_scenic <- generate_heatmap(scenic_results_select)\n",
    "selected_BP_MF_clipped_scenic <- selected_elements_scenic$mat_BP_MF_clipped\n",
    "selected_annotation_row_scenic <- selected_elements_scenic$annotation_row\n",
    "#write.csv(mat_BP_MF_clipped, file = \"/data1st2/junyi/output/atac0627/regulon_analysis/TF_scenic_heatmap_40_40_cutoff8.csv\")\n",
    "write.csv(selected_BP_MF_clipped_scenic, file = paste0(\"/data1st2/junyi/output/atac0627/regulon_analysis/\", file_basename, \"_selected_scenic_heatmap_40_40_cutoff8.csv\"))\n",
    "draw_heatmap(selected_BP_MF_clipped_scenic, selected_annotation_row_scenic,file_basename = paste0(file_basename, \"_selected_scenic\"))"
   ]
  },
  {
   "cell_type": "code",
   "execution_count": null,
   "id": "823747b1",
   "metadata": {
    "vscode": {
     "languageId": "r"
    }
   },
   "outputs": [],
   "source": [
    "list_inter<-c('Zfp207',\n",
    " 'Fosb',\n",
    " 'Cux1',\n",
    " 'Atf6',\n",
    " 'Junb',\n",
    " 'Tcf12',\n",
    " 'Mta3',\n",
    " 'Mef2a',\n",
    " 'Etv5',\n",
    " 'Xbp1',\n",
    " 'Meis1',\n",
    " 'Nfix',\n",
    " 'Tfdp2',\n",
    " 'Tcf4',\n",
    " 'Max',\n",
    " 'Bach2',\n",
    " 'Gtf2ird1')"
   ]
  },
  {
   "cell_type": "code",
   "execution_count": null,
   "id": "56037cc2",
   "metadata": {
    "vscode": {
     "languageId": "r"
    }
   },
   "outputs": [],
   "source": [
    "scenic_results_select$region <- gsub(\"-\", \"_\", scenic_results_select$region)\n",
    "\n",
    "#先定义变量为因子\n",
    "region_order <- c(\"PFC\", \"Isocortex\", \"HPF\", \"TH\",\"HY\",\"MB\",\"AMY\",\"STR\",\"OPC_Oligo\",\"Astro_Epen\",\"Immune\",\"Vascular\")\n",
    "sex_order <- c(\"Male\", \"Female\")\n",
    "table(scenic_results_select$Neurotransmitter)\n",
    "Neurotransmitter_order <- c(\"Glut\", \"GABA\", \"Chol\",\"Dopa\")\n",
    "\n",
    "scenic_results_select$region <- factor(scenic_results_select$region, levels = region_order)\n",
    "scenic_results_select$sex <- factor(scenic_results_select$sex, levels = sex_order)\n",
    "scenic_results_select$Neurotransmitter <- factor(scenic_results_select$Neurotransmitter, levels = Neurotransmitter_order)\n",
    "\n",
    "# 使用 order() 按 region、sex、Neurotransmitter 排序数据框\n",
    "scenic_results_select <- scenic_results_select[order(scenic_results_select$region, scenic_results_select$sex, scenic_results_select$Neurotransmitter, scenic_results_select$celltype), ]\n"
   ]
  },
  {
   "cell_type": "code",
   "execution_count": null,
   "id": "5c138212",
   "metadata": {
    "vscode": {
     "languageId": "r"
    }
   },
   "outputs": [],
   "source": [
    "if (\"TF_reg\" %in% colnames(go_results)) {\n",
    "    scenic_results_select$term_name = scenic_results_select$TF_reg\n",
    "} else {\n",
    "    scenic_results_select$term_name = scenic_results_select$TF\n",
    "}"
   ]
  },
  {
   "cell_type": "code",
   "execution_count": null,
   "id": "d7432d7b",
   "metadata": {
    "vscode": {
     "languageId": "r"
    }
   },
   "outputs": [],
   "source": [
    "\n",
    "\n",
    "\n",
    "##########cutoff10\n",
    "\n",
    "\n",
    "\n",
    "\n",
    "mat_BP_MF_clipped <- pmax(pmin(mat_BP_MF, 10), -10)\n",
    "\n",
    "annotation_row <- go_results_BP_MF %>%\n",
    "  select(sample, region, sex) %>%\n",
    "  distinct()\n",
    "\n",
    "rownames(annotation_row) <- annotation_row$sample\n",
    "annotation_row$sample <- NULL\n",
    "\n",
    "#定义热图颜色函数 (蓝-白-红)\n",
    "col_fun <- colorRamp2(c(-10, 0, 10), c(\"#3498db\", \"#FFFFFF\", \"#d62728\"))\n",
    "\n",
    "#定义注释颜色\n",
    "ann_colors <- list(\n",
    "  region = c(\n",
    "    AMY = \"#1f77b4\",\n",
    "    Isocortex = \"#ff7f0e\",\n",
    "    HPF = \"#009E73\",\n",
    "    HY = \"#d62728\",\n",
    "    MB = \"#9467bd\",\n",
    "    PFC = \"#8c564b\",\n",
    "    STR = \"#e377c2\",\n",
    "    TH = \"#bcbd22\",            \n",
    "    Astro_Epen = \"#17becf\",    \n",
    "    OPC_Oligo = \"#7f7f7f\",     \n",
    "    Immune = \"#ff9896\",        \n",
    "    Vascular = \"#c5b0d5\"       \n",
    "  ),\n",
    "  sex = c(\n",
    "    Male = \"#6AA221\",\n",
    "    Female = \"#E51E78\"\n",
    "  )\n",
    ")\n",
    "\n",
    "#创建行注释对象 RowAnnotation\n",
    "row_ha <- rowAnnotation(\n",
    "  region = annotation_row$region,\n",
    "  sex = annotation_row$sex,\n",
    "  col = ann_colors,\n",
    "  annotation_name_side = \"top\"  # 注释名放在顶端\n",
    ")\n",
    "\n",
    "\n",
    "pdf(\"GO_BP_MF_heatmap_40_40_cutoff10.pdf\", height = 40, width = 40)  \n",
    "Heatmap(mat_BP_MF_clipped,\n",
    "        name = \"-log10(p_val_adj)\",  \n",
    "        col = col_fun,\n",
    "        heatmap_legend_param = list(\n",
    "          at = c(-10, -5, 0, 5, 10),   \n",
    "          labels = c(\"-10\", \"-5\", \"0\", \"5\", \"10\")\n",
    "        ),\n",
    "        show_row_names = TRUE,\n",
    "        show_column_names = TRUE,\n",
    "        cluster_rows = TRUE,\n",
    "        cluster_columns = TRUE,\n",
    "        top_annotation = NULL,\n",
    "        left_annotation = row_ha,\n",
    "        column_title = \"Heatmap by Celltype and GO Term\",\n",
    "        row_names_gp = gpar(fontsize = 5),       \n",
    "        column_names_gp = gpar(fontsize = 1),\n",
    "        use_raster = F\n",
    "        \n",
    ")\n",
    "dev.off()  \n",
    "\n",
    "##########cutoff8\n",
    "#################v2 \n",
    "\n",
    "mat_BP_MF_clipped <- pmax(pmin(mat_BP_MF, 8), -8)\n",
    "\n",
    "\n",
    "set.seed(111)\n",
    "\n",
    "annotation_row <- go_results_BP_MF %>%\n",
    "  select(sample, region, sex) %>%\n",
    "  distinct()\n",
    "\n",
    "rownames(annotation_row) <- annotation_row$sample\n",
    "annotation_row$sample <- NULL\n",
    "\n",
    "#定义热图颜色函数 (蓝-白-红)\n",
    "col_fun <- colorRamp2(c(-8, 0, 8), c(\"#3498db\", \"#FFFFFF\", \"#d62728\"))\n",
    "\n",
    "#定义注释颜色\n",
    "ann_colors <- list(\n",
    "  region = c(\n",
    "    AMY = \"#1f77b4\",\n",
    "    Isocortex = \"#ff7f0e\",\n",
    "    HPF = \"#009E73\",\n",
    "    HY = \"#d62728\",\n",
    "    MB = \"#9467bd\",\n",
    "    PFC = \"#8c564b\",\n",
    "    STR = \"#e377c2\",\n",
    "    TH = \"#bcbd22\",            \n",
    "    Astro_Epen = \"#17becf\",    \n",
    "    OPC_Oligo = \"#7f7f7f\",     \n",
    "    Immune = \"#ff9896\",        \n",
    "    Vascular = \"#c5b0d5\"       \n",
    "  ),\n",
    "  sex = c(\n",
    "    Male = \"#6AA221\",\n",
    "    Female = \"#E51E78\"\n",
    "  )\n",
    ")\n",
    "\n",
    "#创建行注释对象 RowAnnotation\n",
    "row_ha <- rowAnnotation(\n",
    "  region = annotation_row$region,\n",
    "  sex = annotation_row$sex,\n",
    "  col = ann_colors,\n",
    "  annotation_name_side = \"top\"  # 注释名放在顶端\n",
    ")\n",
    "\n",
    "# 转置矩阵\n",
    "mat_t <- t(mat_BP_MF_clipped)\n",
    "\n",
    "#转置注释\n",
    "annotation_col <- annotation_row\n",
    "rownames(annotation_col) <- rownames(annotation_row)\n",
    "\n",
    "# 创建列注释（原来是行注释数据，转成列对应）\n",
    "col_ha <- HeatmapAnnotation(\n",
    "  region = annotation_col$region,\n",
    "  sex = annotation_col$sex,\n",
    "  col = ann_colors,\n",
    "  annotation_name_side = \"right\"\n",
    ")\n",
    "\n",
    "pdf(\"GO_BP_MF_heatmap_40_40_cutoff8_rotated.pdf\", height = 40, width = 40)\n",
    "\n",
    "Heatmap(mat_t,\n",
    "        name = \"-log10(p_val_adj)\",\n",
    "        col = col_fun,\n",
    "        heatmap_legend_param = list(\n",
    "          at = c(-8, -4, 0, 4, 8),\n",
    "          labels = c(\"-8\", \"-4\", \"0\", \"4\", \"8\")\n",
    "        ),\n",
    "        show_row_names = TRUE,        # 显示旋转后行名（原来列名 GO term）\n",
    "        show_column_names = TRUE,     # 显示旋转后列名（原来行名 sample）\n",
    "        cluster_rows = TRUE,\n",
    "        cluster_columns = TRUE,\n",
    "        top_annotation = col_ha,      # 注释条放上方，且对应转置后列\n",
    "        row_names_side = \"right\",     # 原来列名 GO term 在热图右侧\n",
    "        column_names_side = \"bottom\", # 原来行名 sample 在热图下方\n",
    "        row_names_gp = gpar(fontsize = 1),\n",
    "        column_names_gp = gpar(fontsize = 5),  \n",
    "        use_raster = FALSE\n",
    ")\n",
    "\n",
    "dev.off()\n",
    "\n",
    "\n",
    "\n",
    "##########cutoff8\n",
    "###############v3\n",
    "\n",
    "\n",
    "# 1. 先画一次热图获取列顺序\n",
    "ht_temp <- Heatmap(mat_t,\n",
    "                   cluster_rows = TRUE,\n",
    "                   cluster_columns = TRUE,\n",
    "                   use_raster = F)\n",
    "\n",
    "ht_temp_drawn <- draw(ht_temp)\n",
    "\n",
    "# 2. 获取列顺序\n",
    "col_order <- column_order(ht_temp_drawn)\n",
    "\n",
    "# 3. 反转列顺序\n",
    "col_order_reversed <- rev(col_order)\n",
    "\n",
    "\n",
    "# 4. 使用 column_dend_reorder 参数重新绘制\n",
    "pdf(\"GO_BP_MF_heatmap_40_40_cutoff8_rotated_reversed.pdf\", height = 40, width = 40)\n",
    "\n",
    "Heatmap(mat_t,\n",
    "        name = \"-log10(p_val_adj)\",\n",
    "        col = col_fun,\n",
    "        heatmap_legend_param = list(\n",
    "          at = c(-8, -4, 0, 4, 8),\n",
    "          labels = c(\"-8\", \"-4\", \"0\", \"4\", \"8\")\n",
    "        ),\n",
    "        show_row_names = TRUE,\n",
    "        show_column_names = TRUE,\n",
    "        cluster_rows = TRUE,\n",
    "        cluster_columns = TRUE,\n",
    "        column_dend_reorder = col_order_reversed,  \n",
    "        top_annotation = col_ha,\n",
    "        row_names_side = \"right\",\n",
    "        column_names_side = \"bottom\",\n",
    "        row_names_gp = gpar(fontsize = 1),\n",
    "        column_names_gp = gpar(fontsize = 5),\n",
    "        use_raster = FALSE\n",
    ")\n",
    "\n",
    "dev.off()\n",
    "\n",
    "#################cutoff10\n",
    "###############v2\n",
    "\n",
    "mat_BP_MF_clipped <- pmax(pmin(mat_BP_MF, 10), -10)\n",
    "\n",
    "\n",
    "annotation_row <- go_results_BP_MF %>%\n",
    "  select(sample, region, sex) %>%\n",
    "  distinct()\n",
    "\n",
    "rownames(annotation_row) <- annotation_row$sample\n",
    "annotation_row$sample <- NULL\n",
    "\n",
    "#定义热图颜色函数 (蓝-白-红)\n",
    "col_fun <- colorRamp2(c(-10, 0, 10), c(\"#3498db\", \"#FFFFFF\", \"#d62728\"))\n",
    "\n",
    "#定义注释颜色\n",
    "ann_colors <- list(\n",
    "  region = c(\n",
    "    AMY = \"#1f77b4\",\n",
    "    Isocortex = \"#ff7f0e\",\n",
    "    HPF = \"#009E73\",\n",
    "    HY = \"#d62728\",\n",
    "    MB = \"#9467bd\",\n",
    "    PFC = \"#8c564b\",\n",
    "    STR = \"#e377c2\",\n",
    "    TH = \"#bcbd22\",            \n",
    "    Astro_Epen = \"#17becf\",    \n",
    "    OPC_Oligo = \"#7f7f7f\",     \n",
    "    Immune = \"#ff9896\",        \n",
    "    Vascular = \"#c5b0d5\"       \n",
    "  ),\n",
    "  sex = c(\n",
    "    Male = \"#6AA221\",\n",
    "    Female = \"#E51E78\"\n",
    "  )\n",
    ")\n",
    "\n",
    "#创建行注释对象 RowAnnotation\n",
    "row_ha <- rowAnnotation(\n",
    "  region = annotation_row$region,\n",
    "  sex = annotation_row$sex,\n",
    "  col = ann_colors,\n",
    "  annotation_name_side = \"top\"  # 注释名放在顶端\n",
    ")\n",
    "\n",
    "#转置矩阵\n",
    "mat_t <- t(mat_BP_MF_clipped)\n",
    "\n",
    "\n",
    "#转置注释\n",
    "annotation_col <- annotation_row\n",
    "rownames(annotation_col) <- rownames(annotation_row)\n",
    "\n",
    "# 创建列注释（原来是行注释数据，转成列对应）\n",
    "col_ha <- HeatmapAnnotation(\n",
    "  region = annotation_col$region,\n",
    "  sex = annotation_col$sex,\n",
    "  col = ann_colors,\n",
    "  annotation_name_side = \"right\"\n",
    ")\n",
    "\n",
    "pdf(\"GO_BP_MF_heatmap_40_40_cutoff10_rotated.pdf\", height = 40, width = 40)\n",
    "\n",
    "Heatmap(mat_t,\n",
    "        name = \"-log10(p_val_adj)\",\n",
    "        col = col_fun,\n",
    "        heatmap_legend_param = list(\n",
    "          at = c(-10, -5, 0, 5, 10),\n",
    "          labels = c(\"-10\", \"-5\", \"0\", \"5\", \"10\")\n",
    "        ),\n",
    "        show_row_names = TRUE,        # 显示旋转后行名（原来列名 GO term）\n",
    "        show_column_names = TRUE,     # 显示旋转后列名（原来行名 sample）\n",
    "        cluster_rows = TRUE,\n",
    "        cluster_columns = TRUE,\n",
    "        top_annotation = col_ha,      # 注释条放上方，且对应转置后列\n",
    "        row_names_side = \"right\",     # 原来列名 GO term 在热图右侧\n",
    "        column_names_side = \"bottom\", # 原来行名 sample 在热图下方\n",
    "        row_names_gp = gpar(fontsize = 1),\n",
    "        column_names_gp = gpar(fontsize = 5),  \n",
    "        use_raster = FALSE\n",
    ")\n",
    "\n",
    "dev.off()\n",
    "\n",
    "\n",
    "#################cutoff10\n",
    "###############v3\n",
    "\n",
    "\n",
    "# 1. 先画一次热图获取列顺序\n",
    "ht_temp <- Heatmap(mat_t,\n",
    "                   cluster_rows = TRUE,\n",
    "                   cluster_columns = TRUE,\n",
    "                   use_raster = F)\n",
    "\n",
    "ht_temp_drawn <- draw(ht_temp)\n",
    "\n",
    "# 2. 获取列顺序\n",
    "col_order <- column_order(ht_temp_drawn)\n",
    "\n",
    "# 3. 反转列顺序\n",
    "col_order_reversed <- rev(col_order)\n",
    "\n",
    "\n",
    "# 4. 使用 column_dend_reorder 参数重新绘制\n",
    "pdf(\"GO_BP_MF_heatmap_40_40_cutoff10_rotated_reversed.pdf\", height = 40, width = 40)\n",
    "\n",
    "Heatmap(mat_t,\n",
    "        name = \"-log10(p_val_adj)\",\n",
    "        col = col_fun,\n",
    "        heatmap_legend_param = list(\n",
    "          at = c(-10, -5, 0, 5, 10),\n",
    "          labels = c(\"-10\", \"-5\", \"0\", \"5\", \"10\")\n",
    "        ),\n",
    "        show_row_names = TRUE,\n",
    "        show_column_names = TRUE,\n",
    "        cluster_rows = TRUE,\n",
    "        cluster_columns = TRUE,\n",
    "        column_dend_reorder = col_order_reversed,  \n",
    "        top_annotation = col_ha,\n",
    "        row_names_side = \"right\",\n",
    "        column_names_side = \"bottom\",\n",
    "        row_names_gp = gpar(fontsize = 1),\n",
    "        column_names_gp = gpar(fontsize = 5),\n",
    "        use_raster = FALSE\n",
    ")\n",
    "\n",
    "dev.off()\n",
    "\n"
   ]
  }
 ],
 "metadata": {
  "kernelspec": {
   "display_name": "R",
   "language": "R",
   "name": "ir"
  },
  "language_info": {
   "codemirror_mode": "r",
   "file_extension": ".r",
   "mimetype": "text/x-r-source",
   "name": "R",
   "pygments_lexer": "r",
   "version": "4.3.3"
  }
 },
 "nbformat": 4,
 "nbformat_minor": 5
}
