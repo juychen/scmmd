{
 "cells": [
  {
   "cell_type": "code",
   "execution_count": 9,
   "id": "36228cb5",
   "metadata": {
    "vscode": {
     "languageId": "r"
    }
   },
   "outputs": [],
   "source": [
    "library(scRNAseq)\n",
    "library(scater)\n",
    "library(scran)\n",
    "library(Glimma)\n",
    "library(edgeR)\n",
    "library(Seurat)\n"
   ]
  },
  {
   "cell_type": "code",
   "execution_count": 2,
   "id": "788e6830",
   "metadata": {
    "vscode": {
     "languageId": "r"
    }
   },
   "outputs": [],
   "source": [
    "setwd(\"/data2st1/sch_backup/data_from_huangyin_128samples/Neuron/data_for_R/HIP\")\n",
    "seo = readRDS(\"HIP_final_v2.rds\")"
   ]
  },
  {
   "cell_type": "code",
   "execution_count": 3,
   "id": "08b3faa5",
   "metadata": {
    "vscode": {
     "languageId": "r"
    }
   },
   "outputs": [],
   "source": [
    "# scale the nFeature_RNA to 0-1\n",
    "seo$nFeature_RNAS = (seo$nFeature_RNA - min(seo$nFeature_RNA)) / (max(seo$nFeature_RNA) - min(seo$nFeature_RNA))\n",
    "# scale the nCount_RNA\n",
    "seo$nCount_RNAS = (seo$nCount_RNA - min(seo$nCount_RNA)) / (max(seo$nCount_RNA) - min(seo$nCount_RNA))\n",
    "\n",
    "\n",
    "cell_groups <- unique(seo@meta.data[['celltype.L2']])"
   ]
  },
  {
   "cell_type": "code",
   "execution_count": null,
   "id": "e9694ab1",
   "metadata": {
    "vscode": {
     "languageId": "r"
    }
   },
   "outputs": [],
   "source": [
    "perform_edgeR_analysis <- function(seurat_obj,\n",
    "                                   group.by, \n",
    "                                   compare.by,\n",
    "                                   batch.by, \n",
    "                                   group1, \n",
    "                                   group2,\n",
    "                                   min.cpm = 1,\n",
    "                                   min.samples = 2,\n",
    "                                   pval_cutoff = 0.05,\n",
    "                                   lfc_threshold = 0) {\n",
    "  \n",
    "  # Load required libraries\n",
    "#   if (!requireNamespace(\"edgeR\", quietly = TRUE)) {\n",
    "#     BiocManager::install(\"edgeR\")\n",
    "#   }\n",
    "#   library(edgeR)\n",
    "  \n",
    "  # Extract counts and metadata\n",
    "  counts <- GetAssayData(seurat_obj, layer = \"counts\")  # Raw counts\n",
    "  metadata <- seurat_obj@meta.data\n",
    "  \n",
    "  # Filter genes (mitochondrial, ribosomal, low-expression)\n",
    "  filter_genes <- !grepl(\"^Rp|^mt-\", rownames(counts))\n",
    "  counts <- counts[filter_genes, ]\n",
    "  \n",
    "  # Subset cells for comparison\n",
    "  cells_group1 <- rownames(metadata[metadata[[compare.by]] == group1 & metadata[[group.by]] == \"HPF DG GC Glut\", ])\n",
    "  cells_group2 <- rownames(metadata[metadata[[compare.by]] == group2 & metadata[[group.by]] == \"HPF DG GC Glut\", ])\n",
    "  counts <- counts[, c(cells_group1, cells_group2)]\n",
    "  \n",
    "  # Create DGEList object\n",
    "  group <- factor(c(rep(group1, length(cells_group1)), rep(group2, length(cells_group2))))\n",
    "  y <- DGEList(counts = counts, group = group)\n",
    "  \n",
    "  # Filter low-expressed genes (CPM-based)\n",
    "  keep <- rowSums(cpm(y) > min.cpm) >= min.samples\n",
    "  y <- y[keep, , keep.lib.sizes = FALSE]\n",
    "  \n",
    "  # Normalize (TMM)\n",
    "  y <- calcNormFactors(y)\n",
    "  \n",
    "  # Estimate dispersion (for QL F-test)\n",
    "  #design <- model.matrix(~group)\n",
    "  batch <- factor(metadata[[batch.by]])\n",
    "  #design <- model.matrix(~group + batch)  # Add batch as a covariate\n",
    "\n",
    "  design <- model.matrix(~group + batch, data = metadata)\n",
    "  y <- estimateDisp(y, design)\n",
    "  \n",
    "  # Differential testing (QL F-test recommended for bulk RNA-seq)\n",
    "  fit <- glmQLFit(y, design)\n",
    "  qlf <- glmQLFTest(fit, coef = 2)\n",
    "  \n",
    "  # Extract results\n",
    "  res <- topTags(qlf, n = Inf, sort.by = \"PValue\")$table\n",
    "  res$gene <- rownames(res)\n",
    "  res$cell_group <- \"HPF DG GC Glut\"\n",
    "  \n",
    "  # Filter significant DEGs\n",
    "  res_sig <- res[res$FDR < pval_cutoff & abs(res$logFC) > lfc_threshold, ]\n",
    "  \n",
    "  if (nrow(res_sig) == 0) {\n",
    "    warning(\"No significant DEGs found at the given thresholds.\")\n",
    "  }\n",
    "  \n",
    "  return(list(all_results = res, significant_results = res_sig))\n",
    "}"
   ]
  },
  {
   "cell_type": "code",
   "execution_count": 11,
   "id": "303f8f41",
   "metadata": {
    "vscode": {
     "languageId": "r"
    }
   },
   "outputs": [
    {
     "name": "stderr",
     "output_type": "stream",
     "text": [
      "Warning message in asMethod(object):\n",
      "\"sparse->dense coercion: allocating vector of size 7.6 GiB\"\n"
     ]
    },
    {
     "ename": "ERROR",
     "evalue": "Error in perform_edgeR_analysis(seo_M, group.by = \"celltype.L2\", compare.by = \"treatment\", : object 'metadata_subset' not found\n",
     "output_type": "error",
     "traceback": [
      "Error in perform_edgeR_analysis(seo_M, group.by = \"celltype.L2\", compare.by = \"treatment\", : object 'metadata_subset' not found\nTraceback:\n",
      "1. factor(metadata_subset[[batch.by]])",
      "2. .handleSimpleError(function (cnd) \n . {\n .     watcher$capture_plot_and_output()\n .     cnd <- sanitize_call(cnd)\n .     watcher$push(cnd)\n .     switch(on_error, continue = invokeRestart(\"eval_continue\"), \n .         stop = invokeRestart(\"eval_stop\"), error = NULL)\n . }, \"object 'metadata_subset' not found\", base::quote(perform_edgeR_analysis(seo_M, \n .     group.by = \"celltype.L2\", compare.by = \"treatment\", group1 = \"control\", \n .     group2 = \"depression\", batch.by = \"company\")))"
     ]
    }
   ],
   "source": [
    "seo_M = subset(seo, sex==\"M\")\n",
    "seo_F = subset(seo, sex==\"F\")\n",
    "\n",
    "# MAST\n",
    "r.deg_M <- perform_edgeR_analysis (seo_M,\n",
    "                               group.by = \"celltype.L2\",\n",
    "                               compare.by = \"treatment\",\n",
    "                               group1 = \"control\",\n",
    "                               group2 = \"depression\",\n",
    "                               batch.by = \"company\")\n"
   ]
  }
 ],
 "metadata": {
  "kernelspec": {
   "display_name": "R",
   "language": "R",
   "name": "ir"
  },
  "language_info": {
   "codemirror_mode": "r",
   "file_extension": ".r",
   "mimetype": "text/x-r-source",
   "name": "R",
   "pygments_lexer": "r",
   "version": "4.4.3"
  }
 },
 "nbformat": 4,
 "nbformat_minor": 5
}
