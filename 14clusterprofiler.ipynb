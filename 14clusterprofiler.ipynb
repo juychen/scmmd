{
 "cells": [
  {
   "cell_type": "code",
   "execution_count": 1,
   "metadata": {
    "vscode": {
     "languageId": "r"
    }
   },
   "outputs": [
    {
     "name": "stderr",
     "output_type": "stream",
     "text": [
      "\n",
      "\n",
      "clusterProfiler v4.14.6 Learn more at https://yulab-smu.top/contribution-knowledge-mining/\n",
      "\n",
      "Please cite:\n",
      "\n",
      "T Wu, E Hu, S Xu, M Chen, P Guo, Z Dai, T Feng, L Zhou, W Tang, L Zhan,\n",
      "X Fu, S Liu, X Bo, and G Yu. clusterProfiler 4.0: A universal\n",
      "enrichment tool for interpreting omics data. The Innovation. 2021,\n",
      "2(3):100141\n",
      "\n",
      "\n",
      "Attaching package: ‘clusterProfiler’\n",
      "\n",
      "\n",
      "The following object is masked from ‘package:stats’:\n",
      "\n",
      "    filter\n",
      "\n",
      "\n",
      "Loading required package: AnnotationDbi\n",
      "\n",
      "Loading required package: stats4\n",
      "\n",
      "Loading required package: BiocGenerics\n",
      "\n",
      "\n",
      "Attaching package: ‘BiocGenerics’\n",
      "\n",
      "\n",
      "The following objects are masked from ‘package:stats’:\n",
      "\n",
      "    IQR, mad, sd, var, xtabs\n",
      "\n",
      "\n",
      "The following objects are masked from ‘package:base’:\n",
      "\n",
      "    anyDuplicated, aperm, append, as.data.frame, basename, cbind,\n",
      "    colnames, dirname, do.call, duplicated, eval, evalq, Filter, Find,\n",
      "    get, grep, grepl, intersect, is.unsorted, lapply, Map, mapply,\n",
      "    match, mget, order, paste, pmax, pmax.int, pmin, pmin.int,\n",
      "    Position, rank, rbind, Reduce, rownames, sapply, saveRDS, setdiff,\n",
      "    table, tapply, union, unique, unsplit, which.max, which.min\n",
      "\n",
      "\n",
      "Loading required package: Biobase\n",
      "\n",
      "Welcome to Bioconductor\n",
      "\n",
      "    Vignettes contain introductory material; view with\n",
      "    'browseVignettes()'. To cite Bioconductor, see\n",
      "    'citation(\"Biobase\")', and for packages 'citation(\"pkgname\")'.\n",
      "\n",
      "\n",
      "Loading required package: IRanges\n",
      "\n",
      "Loading required package: S4Vectors\n",
      "\n",
      "\n",
      "Attaching package: ‘S4Vectors’\n",
      "\n",
      "\n",
      "The following object is masked from ‘package:clusterProfiler’:\n",
      "\n",
      "    rename\n",
      "\n",
      "\n",
      "The following object is masked from ‘package:utils’:\n",
      "\n",
      "    findMatches\n",
      "\n",
      "\n",
      "The following objects are masked from ‘package:base’:\n",
      "\n",
      "    expand.grid, I, unname\n",
      "\n",
      "\n",
      "\n",
      "Attaching package: ‘IRanges’\n",
      "\n",
      "\n",
      "The following object is masked from ‘package:clusterProfiler’:\n",
      "\n",
      "    slice\n",
      "\n",
      "\n",
      "\n",
      "Attaching package: ‘AnnotationDbi’\n",
      "\n",
      "\n",
      "The following object is masked from ‘package:clusterProfiler’:\n",
      "\n",
      "    select\n",
      "\n",
      "\n",
      "\n",
      "\n"
     ]
    }
   ],
   "source": [
    "library('clusterProfiler')\n",
    "library(org.Mm.eg.db)\n",
    "library(ggplot2)"
   ]
  },
  {
   "cell_type": "code",
   "execution_count": 2,
   "metadata": {
    "vscode": {
     "languageId": "r"
    }
   },
   "outputs": [],
   "source": [
    "df.deg <- read.csv(\"/data2st1/junyi/data/127degs_new/Overlapped_DEGs_Merge_L2_each_region_diff_gender_padj05.csv\")"
   ]
  },
  {
   "cell_type": "code",
   "execution_count": 7,
   "metadata": {
    "vscode": {
     "languageId": "r"
    }
   },
   "outputs": [],
   "source": [
    "# add acolum name celltype.L2.gender\n",
    "# replace the space and \"/\" in the column named ct\n",
    "df.deg$celltype.L2.gender <- gsub(\" |/\", \"_\", df.deg$ct)\n"
   ]
  },
  {
   "cell_type": "code",
   "execution_count": 10,
   "metadata": {
    "vscode": {
     "languageId": "r"
    }
   },
   "outputs": [],
   "source": [
    "# df_grns = glob.glob(f'/data1st1/yejun/pyscenic/grn/adj_*.tsv')\n",
    "# use R to read the grn files\n",
    "df_grns <- list.files(path = \"/data1st1/yejun/pyscenic/grn/\", pattern = \"adj_.*\\\\.tsv\", full.names = TRUE)"
   ]
  },
  {
   "cell_type": "code",
   "execution_count": 29,
   "metadata": {
    "vscode": {
     "languageId": "r"
    }
   },
   "outputs": [],
   "source": [
    "# select the top 3 files in the list\n",
    "df_grns3 <- df_grns[1:2]"
   ]
  },
  {
   "cell_type": "code",
   "execution_count": null,
   "metadata": {
    "vscode": {
     "languageId": "r"
    }
   },
   "outputs": [],
   "source": []
  },
  {
   "cell_type": "code",
   "execution_count": 21,
   "metadata": {
    "vscode": {
     "languageId": "r"
    }
   },
   "outputs": [],
   "source": [
    "df_tf_list <- read.csv(\"/data2st1/junyi/output/atac0627/snregulation/TFtarget_analysis_ovlp_significant_selected.csv\")"
   ]
  },
  {
   "cell_type": "code",
   "execution_count": 23,
   "metadata": {
    "vscode": {
     "languageId": "r"
    }
   },
   "outputs": [],
   "source": [
    "df_tf_list <- c('Npdc1','Junb','Jund','Bmyc')"
   ]
  },
  {
   "cell_type": "code",
   "execution_count": 24,
   "metadata": {
    "vscode": {
     "languageId": "r"
    }
   },
   "outputs": [
    {
     "data": {
      "text/html": [
       "'/data1st1/yejun/pyscenic/grn//adj_AMY_Cdh23_Hmcn1_Glut_F.tsv'"
      ],
      "text/latex": [
       "'/data1st1/yejun/pyscenic/grn//adj\\_AMY\\_Cdh23\\_Hmcn1\\_Glut\\_F.tsv'"
      ],
      "text/markdown": [
       "'/data1st1/yejun/pyscenic/grn//adj_AMY_Cdh23_Hmcn1_Glut_F.tsv'"
      ],
      "text/plain": [
       "[1] \"/data1st1/yejun/pyscenic/grn//adj_AMY_Cdh23_Hmcn1_Glut_F.tsv\""
      ]
     },
     "metadata": {},
     "output_type": "display_data"
    }
   ],
   "source": [
    "grn_file"
   ]
  },
  {
   "cell_type": "code",
   "execution_count": 40,
   "metadata": {
    "vscode": {
     "languageId": "r"
    }
   },
   "outputs": [],
   "source": [
    "for (grn_file in df_grns3) {\n",
    "  grn <- read.table(grn_file, header = TRUE, sep = \"\\t\")\n",
    "  # split the grn file name by \"_\", the second part is region, the last part removing .tsv is gender, the region + rest joining together is the cell type\n",
    "  parts <- strsplit(basename(grn_file), \"_\")[[1]]\n",
    "  region <- parts[2]\n",
    "  gender <- gsub(\".tsv\", \"\", parts[length(parts)])\n",
    "  #cell_type <- paste(parts[-c(1, 2, length(parts))], collapse = \"_\")\n",
    "  cell_type <- paste(parts[-c(1, length(parts))], collapse = \"_\")\n",
    "  # subset grn only for the TFs in df_tf_list\n",
    "  grn <- grn[grn$TF %in% df_tf_list, ]\n",
    "\n",
    "}\n",
    "  \n",
    "  # filter the grn by the cell"
   ]
  },
  {
   "cell_type": "code",
   "execution_count": 42,
   "metadata": {
    "vscode": {
     "languageId": "r"
    }
   },
   "outputs": [
    {
     "data": {
      "text/html": [
       "<table class=\"dataframe\">\n",
       "<caption>A data.frame: 9151 × 3</caption>\n",
       "<thead>\n",
       "\t<tr><th></th><th scope=col>TF</th><th scope=col>target</th><th scope=col>importance</th></tr>\n",
       "\t<tr><th></th><th scope=col>&lt;chr&gt;</th><th scope=col>&lt;chr&gt;</th><th scope=col>&lt;dbl&gt;</th></tr>\n",
       "</thead>\n",
       "<tbody>\n",
       "\t<tr><th scope=row>139</th><td>Junb </td><td>Egr4         </td><td>6.150240</td></tr>\n",
       "\t<tr><th scope=row>408</th><td>Jund </td><td>Aldh3b3      </td><td>5.107458</td></tr>\n",
       "\t<tr><th scope=row>539</th><td>Junb </td><td>Gadd45g      </td><td>4.888018</td></tr>\n",
       "\t<tr><th scope=row>1128</th><td>Bmyc </td><td>9630014M24Rik</td><td>4.309574</td></tr>\n",
       "\t<tr><th scope=row>1352</th><td>Npdc1</td><td>March9       </td><td>4.166869</td></tr>\n",
       "\t<tr><th scope=row>1635</th><td>Junb </td><td>Gpr85        </td><td>4.018531</td></tr>\n",
       "\t<tr><th scope=row>1859</th><td>Bmyc </td><td>Dand5        </td><td>3.915278</td></tr>\n",
       "\t<tr><th scope=row>1958</th><td>Junb </td><td>Olfr545      </td><td>3.876021</td></tr>\n",
       "\t<tr><th scope=row>2051</th><td>Bmyc </td><td>Aass         </td><td>3.841333</td></tr>\n",
       "\t<tr><th scope=row>2105</th><td>Npdc1</td><td>Aplp1        </td><td>3.823651</td></tr>\n",
       "\t<tr><th scope=row>2191</th><td>Npdc1</td><td>Sirpa        </td><td>3.798636</td></tr>\n",
       "\t<tr><th scope=row>2554</th><td>Junb </td><td>Btg2         </td><td>3.683619</td></tr>\n",
       "\t<tr><th scope=row>2595</th><td>Jund </td><td>Gch1         </td><td>3.674296</td></tr>\n",
       "\t<tr><th scope=row>2640</th><td>Junb </td><td>Gm13889      </td><td>3.663380</td></tr>\n",
       "\t<tr><th scope=row>2843</th><td>Jund </td><td>2310002F09Rik</td><td>3.607640</td></tr>\n",
       "\t<tr><th scope=row>2863</th><td>Jund </td><td>Palm         </td><td>3.603776</td></tr>\n",
       "\t<tr><th scope=row>3115</th><td>Bmyc </td><td>Snx16        </td><td>3.542793</td></tr>\n",
       "\t<tr><th scope=row>3476</th><td>Junb </td><td>Plk2         </td><td>3.461216</td></tr>\n",
       "\t<tr><th scope=row>3536</th><td>Junb </td><td>Egr1         </td><td>3.446934</td></tr>\n",
       "\t<tr><th scope=row>3612</th><td>Npdc1</td><td>Zcwpw1       </td><td>3.433747</td></tr>\n",
       "\t<tr><th scope=row>4303</th><td>Jund </td><td>Gimap9       </td><td>3.310260</td></tr>\n",
       "\t<tr><th scope=row>4404</th><td>Jund </td><td>Ebp          </td><td>3.295658</td></tr>\n",
       "\t<tr><th scope=row>4438</th><td>Junb </td><td>Gm47207      </td><td>3.290077</td></tr>\n",
       "\t<tr><th scope=row>5037</th><td>Npdc1</td><td>Gm49227      </td><td>3.198432</td></tr>\n",
       "\t<tr><th scope=row>5334</th><td>Npdc1</td><td>Dusp23       </td><td>3.155975</td></tr>\n",
       "\t<tr><th scope=row>5423</th><td>Jund </td><td>Srp14        </td><td>3.142736</td></tr>\n",
       "\t<tr><th scope=row>5623</th><td>Npdc1</td><td>Pcsk1n       </td><td>3.118088</td></tr>\n",
       "\t<tr><th scope=row>5969</th><td>Npdc1</td><td>Mindy1       </td><td>3.078710</td></tr>\n",
       "\t<tr><th scope=row>6098</th><td>Jund </td><td>Zbtb17       </td><td>3.062619</td></tr>\n",
       "\t<tr><th scope=row>6249</th><td>Jund </td><td>Hist2h4      </td><td>3.044261</td></tr>\n",
       "\t<tr><th scope=row>⋮</th><td>⋮</td><td>⋮</td><td>⋮</td></tr>\n",
       "\t<tr><th scope=row>1951302</th><td>Npdc1</td><td>Gm48606      </td><td>1.295848e-12</td></tr>\n",
       "\t<tr><th scope=row>1951644</th><td>Jund </td><td>Flnc         </td><td>1.080723e-12</td></tr>\n",
       "\t<tr><th scope=row>1951740</th><td>Bmyc </td><td>BC035947     </td><td>1.032355e-12</td></tr>\n",
       "\t<tr><th scope=row>1952568</th><td>Npdc1</td><td>Gm44756      </td><td>5.896863e-13</td></tr>\n",
       "\t<tr><th scope=row>1953121</th><td>Junb </td><td>Gm14548      </td><td>3.550110e-13</td></tr>\n",
       "\t<tr><th scope=row>1953468</th><td>Npdc1</td><td>Lag3         </td><td>2.432329e-13</td></tr>\n",
       "\t<tr><th scope=row>1953796</th><td>Npdc1</td><td>Il9r         </td><td>1.608522e-13</td></tr>\n",
       "\t<tr><th scope=row>1953836</th><td>Npdc1</td><td>Cfap97d1     </td><td>1.542375e-13</td></tr>\n",
       "\t<tr><th scope=row>1953967</th><td>Bmyc </td><td>Gm40909      </td><td>1.322353e-13</td></tr>\n",
       "\t<tr><th scope=row>1954316</th><td>Npdc1</td><td>1700119H24Rik</td><td>8.598703e-14</td></tr>\n",
       "\t<tr><th scope=row>1954348</th><td>Jund </td><td>Gm50416      </td><td>8.266798e-14</td></tr>\n",
       "\t<tr><th scope=row>1954819</th><td>Bmyc </td><td>Actl9        </td><td>4.650456e-14</td></tr>\n",
       "\t<tr><th scope=row>1955216</th><td>Junb </td><td>Gm16575      </td><td>2.996068e-14</td></tr>\n",
       "\t<tr><th scope=row>1955587</th><td>Npdc1</td><td>Sept14       </td><td>1.942637e-14</td></tr>\n",
       "\t<tr><th scope=row>1955839</th><td>Bmyc </td><td>Gm48830      </td><td>1.500209e-14</td></tr>\n",
       "\t<tr><th scope=row>1955879</th><td>Junb </td><td>Odf3b        </td><td>1.450649e-14</td></tr>\n",
       "\t<tr><th scope=row>1955987</th><td>Jund </td><td>Gm15755      </td><td>1.281145e-14</td></tr>\n",
       "\t<tr><th scope=row>1956335</th><td>Npdc1</td><td>Gm20234      </td><td>9.125069e-15</td></tr>\n",
       "\t<tr><th scope=row>1956351</th><td>Npdc1</td><td>Mcm5         </td><td>8.999382e-15</td></tr>\n",
       "\t<tr><th scope=row>1956717</th><td>Npdc1</td><td>Smim41       </td><td>5.942432e-15</td></tr>\n",
       "\t<tr><th scope=row>1956923</th><td>Npdc1</td><td>Olfr288      </td><td>4.611114e-15</td></tr>\n",
       "\t<tr><th scope=row>1957114</th><td>Junb </td><td>Gm12590      </td><td>3.651058e-15</td></tr>\n",
       "\t<tr><th scope=row>1957298</th><td>Jund </td><td>Vmn1r5       </td><td>2.784604e-15</td></tr>\n",
       "\t<tr><th scope=row>1957314</th><td>Npdc1</td><td>Gm26552      </td><td>2.680710e-15</td></tr>\n",
       "\t<tr><th scope=row>1957426</th><td>Npdc1</td><td>4930465M20Rik</td><td>2.228714e-15</td></tr>\n",
       "\t<tr><th scope=row>1957633</th><td>Npdc1</td><td>Gm48129      </td><td>1.398598e-15</td></tr>\n",
       "\t<tr><th scope=row>1958222</th><td>Npdc1</td><td>Plgrkt       </td><td>1.035188e-16</td></tr>\n",
       "\t<tr><th scope=row>1958234</th><td>Npdc1</td><td>Tecpr2       </td><td>1.018864e-16</td></tr>\n",
       "\t<tr><th scope=row>1958260</th><td>Junb </td><td>AV039307     </td><td>9.744565e-17</td></tr>\n",
       "\t<tr><th scope=row>1958628</th><td>Npdc1</td><td>5730455P16Rik</td><td>5.780742e-17</td></tr>\n",
       "</tbody>\n",
       "</table>\n"
      ],
      "text/latex": [
       "A data.frame: 9151 × 3\n",
       "\\begin{tabular}{r|lll}\n",
       "  & TF & target & importance\\\\\n",
       "  & <chr> & <chr> & <dbl>\\\\\n",
       "\\hline\n",
       "\t139 & Junb  & Egr4          & 6.150240\\\\\n",
       "\t408 & Jund  & Aldh3b3       & 5.107458\\\\\n",
       "\t539 & Junb  & Gadd45g       & 4.888018\\\\\n",
       "\t1128 & Bmyc  & 9630014M24Rik & 4.309574\\\\\n",
       "\t1352 & Npdc1 & March9        & 4.166869\\\\\n",
       "\t1635 & Junb  & Gpr85         & 4.018531\\\\\n",
       "\t1859 & Bmyc  & Dand5         & 3.915278\\\\\n",
       "\t1958 & Junb  & Olfr545       & 3.876021\\\\\n",
       "\t2051 & Bmyc  & Aass          & 3.841333\\\\\n",
       "\t2105 & Npdc1 & Aplp1         & 3.823651\\\\\n",
       "\t2191 & Npdc1 & Sirpa         & 3.798636\\\\\n",
       "\t2554 & Junb  & Btg2          & 3.683619\\\\\n",
       "\t2595 & Jund  & Gch1          & 3.674296\\\\\n",
       "\t2640 & Junb  & Gm13889       & 3.663380\\\\\n",
       "\t2843 & Jund  & 2310002F09Rik & 3.607640\\\\\n",
       "\t2863 & Jund  & Palm          & 3.603776\\\\\n",
       "\t3115 & Bmyc  & Snx16         & 3.542793\\\\\n",
       "\t3476 & Junb  & Plk2          & 3.461216\\\\\n",
       "\t3536 & Junb  & Egr1          & 3.446934\\\\\n",
       "\t3612 & Npdc1 & Zcwpw1        & 3.433747\\\\\n",
       "\t4303 & Jund  & Gimap9        & 3.310260\\\\\n",
       "\t4404 & Jund  & Ebp           & 3.295658\\\\\n",
       "\t4438 & Junb  & Gm47207       & 3.290077\\\\\n",
       "\t5037 & Npdc1 & Gm49227       & 3.198432\\\\\n",
       "\t5334 & Npdc1 & Dusp23        & 3.155975\\\\\n",
       "\t5423 & Jund  & Srp14         & 3.142736\\\\\n",
       "\t5623 & Npdc1 & Pcsk1n        & 3.118088\\\\\n",
       "\t5969 & Npdc1 & Mindy1        & 3.078710\\\\\n",
       "\t6098 & Jund  & Zbtb17        & 3.062619\\\\\n",
       "\t6249 & Jund  & Hist2h4       & 3.044261\\\\\n",
       "\t⋮ & ⋮ & ⋮ & ⋮\\\\\n",
       "\t1951302 & Npdc1 & Gm48606       & 1.295848e-12\\\\\n",
       "\t1951644 & Jund  & Flnc          & 1.080723e-12\\\\\n",
       "\t1951740 & Bmyc  & BC035947      & 1.032355e-12\\\\\n",
       "\t1952568 & Npdc1 & Gm44756       & 5.896863e-13\\\\\n",
       "\t1953121 & Junb  & Gm14548       & 3.550110e-13\\\\\n",
       "\t1953468 & Npdc1 & Lag3          & 2.432329e-13\\\\\n",
       "\t1953796 & Npdc1 & Il9r          & 1.608522e-13\\\\\n",
       "\t1953836 & Npdc1 & Cfap97d1      & 1.542375e-13\\\\\n",
       "\t1953967 & Bmyc  & Gm40909       & 1.322353e-13\\\\\n",
       "\t1954316 & Npdc1 & 1700119H24Rik & 8.598703e-14\\\\\n",
       "\t1954348 & Jund  & Gm50416       & 8.266798e-14\\\\\n",
       "\t1954819 & Bmyc  & Actl9         & 4.650456e-14\\\\\n",
       "\t1955216 & Junb  & Gm16575       & 2.996068e-14\\\\\n",
       "\t1955587 & Npdc1 & Sept14        & 1.942637e-14\\\\\n",
       "\t1955839 & Bmyc  & Gm48830       & 1.500209e-14\\\\\n",
       "\t1955879 & Junb  & Odf3b         & 1.450649e-14\\\\\n",
       "\t1955987 & Jund  & Gm15755       & 1.281145e-14\\\\\n",
       "\t1956335 & Npdc1 & Gm20234       & 9.125069e-15\\\\\n",
       "\t1956351 & Npdc1 & Mcm5          & 8.999382e-15\\\\\n",
       "\t1956717 & Npdc1 & Smim41        & 5.942432e-15\\\\\n",
       "\t1956923 & Npdc1 & Olfr288       & 4.611114e-15\\\\\n",
       "\t1957114 & Junb  & Gm12590       & 3.651058e-15\\\\\n",
       "\t1957298 & Jund  & Vmn1r5        & 2.784604e-15\\\\\n",
       "\t1957314 & Npdc1 & Gm26552       & 2.680710e-15\\\\\n",
       "\t1957426 & Npdc1 & 4930465M20Rik & 2.228714e-15\\\\\n",
       "\t1957633 & Npdc1 & Gm48129       & 1.398598e-15\\\\\n",
       "\t1958222 & Npdc1 & Plgrkt        & 1.035188e-16\\\\\n",
       "\t1958234 & Npdc1 & Tecpr2        & 1.018864e-16\\\\\n",
       "\t1958260 & Junb  & AV039307      & 9.744565e-17\\\\\n",
       "\t1958628 & Npdc1 & 5730455P16Rik & 5.780742e-17\\\\\n",
       "\\end{tabular}\n"
      ],
      "text/markdown": [
       "\n",
       "A data.frame: 9151 × 3\n",
       "\n",
       "| <!--/--> | TF &lt;chr&gt; | target &lt;chr&gt; | importance &lt;dbl&gt; |\n",
       "|---|---|---|---|\n",
       "| 139 | Junb  | Egr4          | 6.150240 |\n",
       "| 408 | Jund  | Aldh3b3       | 5.107458 |\n",
       "| 539 | Junb  | Gadd45g       | 4.888018 |\n",
       "| 1128 | Bmyc  | 9630014M24Rik | 4.309574 |\n",
       "| 1352 | Npdc1 | March9        | 4.166869 |\n",
       "| 1635 | Junb  | Gpr85         | 4.018531 |\n",
       "| 1859 | Bmyc  | Dand5         | 3.915278 |\n",
       "| 1958 | Junb  | Olfr545       | 3.876021 |\n",
       "| 2051 | Bmyc  | Aass          | 3.841333 |\n",
       "| 2105 | Npdc1 | Aplp1         | 3.823651 |\n",
       "| 2191 | Npdc1 | Sirpa         | 3.798636 |\n",
       "| 2554 | Junb  | Btg2          | 3.683619 |\n",
       "| 2595 | Jund  | Gch1          | 3.674296 |\n",
       "| 2640 | Junb  | Gm13889       | 3.663380 |\n",
       "| 2843 | Jund  | 2310002F09Rik | 3.607640 |\n",
       "| 2863 | Jund  | Palm          | 3.603776 |\n",
       "| 3115 | Bmyc  | Snx16         | 3.542793 |\n",
       "| 3476 | Junb  | Plk2          | 3.461216 |\n",
       "| 3536 | Junb  | Egr1          | 3.446934 |\n",
       "| 3612 | Npdc1 | Zcwpw1        | 3.433747 |\n",
       "| 4303 | Jund  | Gimap9        | 3.310260 |\n",
       "| 4404 | Jund  | Ebp           | 3.295658 |\n",
       "| 4438 | Junb  | Gm47207       | 3.290077 |\n",
       "| 5037 | Npdc1 | Gm49227       | 3.198432 |\n",
       "| 5334 | Npdc1 | Dusp23        | 3.155975 |\n",
       "| 5423 | Jund  | Srp14         | 3.142736 |\n",
       "| 5623 | Npdc1 | Pcsk1n        | 3.118088 |\n",
       "| 5969 | Npdc1 | Mindy1        | 3.078710 |\n",
       "| 6098 | Jund  | Zbtb17        | 3.062619 |\n",
       "| 6249 | Jund  | Hist2h4       | 3.044261 |\n",
       "| ⋮ | ⋮ | ⋮ | ⋮ |\n",
       "| 1951302 | Npdc1 | Gm48606       | 1.295848e-12 |\n",
       "| 1951644 | Jund  | Flnc          | 1.080723e-12 |\n",
       "| 1951740 | Bmyc  | BC035947      | 1.032355e-12 |\n",
       "| 1952568 | Npdc1 | Gm44756       | 5.896863e-13 |\n",
       "| 1953121 | Junb  | Gm14548       | 3.550110e-13 |\n",
       "| 1953468 | Npdc1 | Lag3          | 2.432329e-13 |\n",
       "| 1953796 | Npdc1 | Il9r          | 1.608522e-13 |\n",
       "| 1953836 | Npdc1 | Cfap97d1      | 1.542375e-13 |\n",
       "| 1953967 | Bmyc  | Gm40909       | 1.322353e-13 |\n",
       "| 1954316 | Npdc1 | 1700119H24Rik | 8.598703e-14 |\n",
       "| 1954348 | Jund  | Gm50416       | 8.266798e-14 |\n",
       "| 1954819 | Bmyc  | Actl9         | 4.650456e-14 |\n",
       "| 1955216 | Junb  | Gm16575       | 2.996068e-14 |\n",
       "| 1955587 | Npdc1 | Sept14        | 1.942637e-14 |\n",
       "| 1955839 | Bmyc  | Gm48830       | 1.500209e-14 |\n",
       "| 1955879 | Junb  | Odf3b         | 1.450649e-14 |\n",
       "| 1955987 | Jund  | Gm15755       | 1.281145e-14 |\n",
       "| 1956335 | Npdc1 | Gm20234       | 9.125069e-15 |\n",
       "| 1956351 | Npdc1 | Mcm5          | 8.999382e-15 |\n",
       "| 1956717 | Npdc1 | Smim41        | 5.942432e-15 |\n",
       "| 1956923 | Npdc1 | Olfr288       | 4.611114e-15 |\n",
       "| 1957114 | Junb  | Gm12590       | 3.651058e-15 |\n",
       "| 1957298 | Jund  | Vmn1r5        | 2.784604e-15 |\n",
       "| 1957314 | Npdc1 | Gm26552       | 2.680710e-15 |\n",
       "| 1957426 | Npdc1 | 4930465M20Rik | 2.228714e-15 |\n",
       "| 1957633 | Npdc1 | Gm48129       | 1.398598e-15 |\n",
       "| 1958222 | Npdc1 | Plgrkt        | 1.035188e-16 |\n",
       "| 1958234 | Npdc1 | Tecpr2        | 1.018864e-16 |\n",
       "| 1958260 | Junb  | AV039307      | 9.744565e-17 |\n",
       "| 1958628 | Npdc1 | 5730455P16Rik | 5.780742e-17 |\n",
       "\n"
      ],
      "text/plain": [
       "        TF    target        importance  \n",
       "139     Junb  Egr4          6.150240    \n",
       "408     Jund  Aldh3b3       5.107458    \n",
       "539     Junb  Gadd45g       4.888018    \n",
       "1128    Bmyc  9630014M24Rik 4.309574    \n",
       "1352    Npdc1 March9        4.166869    \n",
       "1635    Junb  Gpr85         4.018531    \n",
       "1859    Bmyc  Dand5         3.915278    \n",
       "1958    Junb  Olfr545       3.876021    \n",
       "2051    Bmyc  Aass          3.841333    \n",
       "2105    Npdc1 Aplp1         3.823651    \n",
       "2191    Npdc1 Sirpa         3.798636    \n",
       "2554    Junb  Btg2          3.683619    \n",
       "2595    Jund  Gch1          3.674296    \n",
       "2640    Junb  Gm13889       3.663380    \n",
       "2843    Jund  2310002F09Rik 3.607640    \n",
       "2863    Jund  Palm          3.603776    \n",
       "3115    Bmyc  Snx16         3.542793    \n",
       "3476    Junb  Plk2          3.461216    \n",
       "3536    Junb  Egr1          3.446934    \n",
       "3612    Npdc1 Zcwpw1        3.433747    \n",
       "4303    Jund  Gimap9        3.310260    \n",
       "4404    Jund  Ebp           3.295658    \n",
       "4438    Junb  Gm47207       3.290077    \n",
       "5037    Npdc1 Gm49227       3.198432    \n",
       "5334    Npdc1 Dusp23        3.155975    \n",
       "5423    Jund  Srp14         3.142736    \n",
       "5623    Npdc1 Pcsk1n        3.118088    \n",
       "5969    Npdc1 Mindy1        3.078710    \n",
       "6098    Jund  Zbtb17        3.062619    \n",
       "6249    Jund  Hist2h4       3.044261    \n",
       "⋮       ⋮     ⋮             ⋮           \n",
       "1951302 Npdc1 Gm48606       1.295848e-12\n",
       "1951644 Jund  Flnc          1.080723e-12\n",
       "1951740 Bmyc  BC035947      1.032355e-12\n",
       "1952568 Npdc1 Gm44756       5.896863e-13\n",
       "1953121 Junb  Gm14548       3.550110e-13\n",
       "1953468 Npdc1 Lag3          2.432329e-13\n",
       "1953796 Npdc1 Il9r          1.608522e-13\n",
       "1953836 Npdc1 Cfap97d1      1.542375e-13\n",
       "1953967 Bmyc  Gm40909       1.322353e-13\n",
       "1954316 Npdc1 1700119H24Rik 8.598703e-14\n",
       "1954348 Jund  Gm50416       8.266798e-14\n",
       "1954819 Bmyc  Actl9         4.650456e-14\n",
       "1955216 Junb  Gm16575       2.996068e-14\n",
       "1955587 Npdc1 Sept14        1.942637e-14\n",
       "1955839 Bmyc  Gm48830       1.500209e-14\n",
       "1955879 Junb  Odf3b         1.450649e-14\n",
       "1955987 Jund  Gm15755       1.281145e-14\n",
       "1956335 Npdc1 Gm20234       9.125069e-15\n",
       "1956351 Npdc1 Mcm5          8.999382e-15\n",
       "1956717 Npdc1 Smim41        5.942432e-15\n",
       "1956923 Npdc1 Olfr288       4.611114e-15\n",
       "1957114 Junb  Gm12590       3.651058e-15\n",
       "1957298 Jund  Vmn1r5        2.784604e-15\n",
       "1957314 Npdc1 Gm26552       2.680710e-15\n",
       "1957426 Npdc1 4930465M20Rik 2.228714e-15\n",
       "1957633 Npdc1 Gm48129       1.398598e-15\n",
       "1958222 Npdc1 Plgrkt        1.035188e-16\n",
       "1958234 Npdc1 Tecpr2        1.018864e-16\n",
       "1958260 Junb  AV039307      9.744565e-17\n",
       "1958628 Npdc1 5730455P16Rik 5.780742e-17"
      ]
     },
     "metadata": {},
     "output_type": "display_data"
    }
   ],
   "source": [
    "grn"
   ]
  },
  {
   "cell_type": "code",
   "execution_count": null,
   "metadata": {
    "vscode": {
     "languageId": "r"
    }
   },
   "outputs": [],
   "source": [
    "# 获取所有唯一的ct_name和condition组合\n",
    "ct.names <- c(\"AMY_Glut\", \"AMY_GABA\", \"HIP_Glut\", \"HIP_GABA\", \"PFC_Glut\", \"PFC_GABA\")\n",
    "conditions <- c(\"MC\", \"MW\")\n",
    "\n",
    "outfolder <- \"/data2st1/junyi/output/atac0416/dar/region_nt/\"\n"
   ]
  },
  {
   "cell_type": "code",
   "execution_count": null,
   "metadata": {
    "vscode": {
     "languageId": "r"
    }
   },
   "outputs": [
    {
     "name": "stdout",
     "output_type": "stream",
     "text": [
      "[1] \"Processing: AMY_Glut MC\"\n",
      "[1] \"Number of genes: 278\"\n"
     ]
    },
    {
     "name": "stderr",
     "output_type": "stream",
     "text": [
      "'select()' returned 1:1 mapping between keys and columns\n",
      "\n",
      "Warning message in bitr(unique(subset_df$gene_name), fromType = \"SYMBOL\", toType = \"ENTREZID\", :\n",
      "“6.91% of input gene IDs are fail to map...”\n",
      "Warning message in rep(yes, length.out = len):\n",
      "“'x' is NULL so the result will be NULL”\n"
     ]
    },
    {
     "name": "stdout",
     "output_type": "stream",
     "text": [
      "[1] \"Error in subsetting data for AMY_Glut MC\"\n",
      "[1] \"Processing: AMY_Glut MW\"\n",
      "[1] \"Number of genes: 77\"\n"
     ]
    },
    {
     "name": "stderr",
     "output_type": "stream",
     "text": [
      "'select()' returned 1:1 mapping between keys and columns\n",
      "\n",
      "Warning message in bitr(unique(subset_df$gene_name), fromType = \"SYMBOL\", toType = \"ENTREZID\", :\n",
      "“25.76% of input gene IDs are fail to map...”\n",
      "Warning message in rep(yes, length.out = len):\n",
      "“'x' is NULL so the result will be NULL”\n"
     ]
    },
    {
     "name": "stdout",
     "output_type": "stream",
     "text": [
      "[1] \"Error in subsetting data for AMY_Glut MW\"\n",
      "[1] \"Processing: AMY_GABA MC\"\n",
      "[1] \"Number of genes: 442\"\n"
     ]
    },
    {
     "name": "stderr",
     "output_type": "stream",
     "text": [
      "'select()' returned 1:1 mapping between keys and columns\n",
      "\n",
      "Warning message in bitr(unique(subset_df$gene_name), fromType = \"SYMBOL\", toType = \"ENTREZID\", :\n",
      "“5.18% of input gene IDs are fail to map...”\n",
      "Warning message in rep(yes, length.out = len):\n",
      "“'x' is NULL so the result will be NULL”\n"
     ]
    },
    {
     "name": "stdout",
     "output_type": "stream",
     "text": [
      "[1] \"Error in subsetting data for AMY_GABA MC\"\n",
      "[1] \"Processing: AMY_GABA MW\"\n",
      "[1] \"Number of genes: 13\"\n"
     ]
    },
    {
     "name": "stderr",
     "output_type": "stream",
     "text": [
      "'select()' returned 1:1 mapping between keys and columns\n",
      "\n",
      "Warning message in bitr(unique(subset_df$gene_name), fromType = \"SYMBOL\", toType = \"ENTREZID\", :\n",
      "“28.57% of input gene IDs are fail to map...”\n",
      "--> No gene can be mapped....\n",
      "\n",
      "--> Expected input gene ID: 93747,19733,19063,22236,110208,18642\n",
      "\n",
      "--> return NULL...\n",
      "\n"
     ]
    },
    {
     "name": "stdout",
     "output_type": "stream",
     "text": [
      "[1] \"Error in subsetting data for AMY_GABA MW\"\n",
      "[1] \"Processing: HIP_Glut MC\"\n",
      "[1] \"Number of genes: 9881\"\n"
     ]
    },
    {
     "name": "stderr",
     "output_type": "stream",
     "text": [
      "'select()' returned 1:1 mapping between keys and columns\n",
      "\n",
      "Warning message in bitr(unique(subset_df$gene_name), fromType = \"SYMBOL\", toType = \"ENTREZID\", :\n",
      "“8.69% of input gene IDs are fail to map...”\n"
     ]
    },
    {
     "name": "stdout",
     "output_type": "stream",
     "text": [
      "[1] \"Processing: HIP_Glut MW\"\n",
      "[1] \"Number of genes: 25\"\n"
     ]
    },
    {
     "name": "stderr",
     "output_type": "stream",
     "text": [
      "'select()' returned 1:1 mapping between keys and columns\n",
      "\n",
      "Warning message in bitr(unique(subset_df$gene_name), fromType = \"SYMBOL\", toType = \"ENTREZID\", :\n",
      "“57.14% of input gene IDs are fail to map...”\n"
     ]
    },
    {
     "name": "stdout",
     "output_type": "stream",
     "text": [
      "[1] \"Processing: HIP_GABA MC\"\n",
      "[1] \"Number of genes: 3\"\n"
     ]
    },
    {
     "name": "stderr",
     "output_type": "stream",
     "text": [
      "'select()' returned 1:1 mapping between keys and columns\n",
      "\n",
      "Warning message in rep(yes, length.out = len):\n",
      "“'x' is NULL so the result will be NULL”\n"
     ]
    },
    {
     "name": "stdout",
     "output_type": "stream",
     "text": [
      "[1] \"Error in subsetting data for HIP_GABA MC\"\n",
      "[1] \"Processing: HIP_GABA MW\"\n",
      "[1] \"Number of genes: 0\"\n",
      "[1] \"Error in subsetting data for HIP_GABA MW\"\n",
      "[1] \"Processing: PFC_Glut MC\"\n",
      "[1] \"Number of genes: 111\"\n"
     ]
    },
    {
     "name": "stderr",
     "output_type": "stream",
     "text": [
      "'select()' returned 1:1 mapping between keys and columns\n",
      "\n",
      "Warning message in bitr(unique(subset_df$gene_name), fromType = \"SYMBOL\", toType = \"ENTREZID\", :\n",
      "“18.48% of input gene IDs are fail to map...”\n"
     ]
    },
    {
     "name": "stdout",
     "output_type": "stream",
     "text": [
      "[1] \"Processing: PFC_Glut MW\"\n",
      "[1] \"Number of genes: 67283\"\n"
     ]
    },
    {
     "name": "stderr",
     "output_type": "stream",
     "text": [
      "'select()' returned 1:1 mapping between keys and columns\n",
      "\n",
      "Warning message in bitr(unique(subset_df$gene_name), fromType = \"SYMBOL\", toType = \"ENTREZID\", :\n",
      "“15.23% of input gene IDs are fail to map...”\n"
     ]
    },
    {
     "name": "stdout",
     "output_type": "stream",
     "text": [
      "[1] \"Processing: PFC_GABA MC\"\n",
      "[1] \"Number of genes: 12\"\n"
     ]
    },
    {
     "name": "stderr",
     "output_type": "stream",
     "text": [
      "'select()' returned 1:1 mapping between keys and columns\n",
      "\n",
      "Warning message in bitr(unique(subset_df$gene_name), fromType = \"SYMBOL\", toType = \"ENTREZID\", :\n",
      "“60% of input gene IDs are fail to map...”\n"
     ]
    },
    {
     "name": "stdout",
     "output_type": "stream",
     "text": [
      "[1] \"Processing: PFC_GABA MW\"\n",
      "[1] \"Number of genes: 1473\"\n"
     ]
    },
    {
     "name": "stderr",
     "output_type": "stream",
     "text": [
      "'select()' returned 1:1 mapping between keys and columns\n",
      "\n",
      "Warning message in bitr(unique(subset_df$gene_name), fromType = \"SYMBOL\", toType = \"ENTREZID\", :\n",
      "“7.46% of input gene IDs are fail to map...”\n"
     ]
    }
   ],
   "source": [
    "# 转换ID（Symbol → Entrez）\n",
    "\n",
    "# ctname <- \"PFC_Glut\"\n",
    "# condition <- \"MW\"\n",
    "\n",
    "for (ctname in ct.names) {\n",
    "  for (condition in conditions) {\n",
    "    # 筛选数据\n",
    "    tryCatch(\n",
    "      {\n",
    "        print(paste(\"Processing:\", ctname, condition))\n",
    "\n",
    "        subset_df <- df.deg[df.deg$ctname == ctname & df.deg$condition == condition, ]\n",
    "\n",
    "        print(paste(\"Number of genes:\", nrow(subset_df)))\n",
    "\n",
    "        gene_entrez <- bitr(unique(subset_df$gene_name), \n",
    "                            fromType = \"SYMBOL\", \n",
    "                            toType = \"ENTREZID\", \n",
    "                            OrgDb = \"org.Mm.eg.db\")\n",
    "                            \n",
    "        entrez_ids <- gene_entrez$ENTREZID\n",
    "        ego <- enrichGO(gene = entrez_ids,\n",
    "                        OrgDb = org.Mm.eg.db,\n",
    "                        keyType = \"ENTREZID\",\n",
    "                        ont = \"ALL\",  # \"BP\", \"MF\", \"CC\" 或 \"ALL\"\n",
    "                        pvalueCutoff = 0.05,\n",
    "                        qvalueCutoff = 0.05,\n",
    "                        readable = TRUE)  # 结果中显示基因符号\n",
    "\n",
    "        # 查看结果\n",
    "        write.csv(ego, file = paste(outfolder, \"GO_enrichment_results\",ctname,condition,\".csv\",sep = \"_\"), row.names = FALSE)\n",
    "        p <- dotplot(ego, showCategory = 30)\n",
    "        ggsave(paste(outfolder, \"GO_enrichment_dot\",ctname,condition,\".pdf\",sep = \"_\"), plot = p, width = 12, height = 15)  # 宽度12英寸，高度15英寸\n",
    "\n",
    "        p<-barplot(ego, showCategory = 30)  # 条形图\n",
    "        ggsave(paste(outfolder, \"GO_enrichment_bar\",ctname,condition,\".pdf\",sep = \"_\"), plot = p, width = 12, height = 15)  # 宽度12英寸，高度15英寸\n",
    "\n",
    "        kk <- enrichKEGG(gene = entrez_ids,\n",
    "                        organism = \"mmu\",  # 小鼠KEGG代码\n",
    "                        pvalueCutoff = 0.05,\n",
    "                        qvalueCutoff = 0.05)\n",
    "\n",
    "        # 可视化\n",
    "        p<-dotplot(kk, showCategory = 30)\n",
    "        write.csv(kk, file = paste(outfolder, \"KEGG_enrichment_results\",ctname,condition,\".csv\",sep = \"_\"), row.names = FALSE)\n",
    "        ggsave(paste(outfolder, \"kegg_enrichment_dot\",ctname,condition,\".pdf\",sep = \"_\"), plot = p, width = 12, height = 15)  # 宽度12英寸，高度15英寸\n",
    "      }, \n",
    "      error = function(e) {\n",
    "        print(paste(\"Error in subsetting data for\", ctname, condition))\n",
    "    })\n",
    "\n",
    "  }\n",
    "}"
   ]
  }
 ],
 "metadata": {
  "kernelspec": {
   "display_name": "R",
   "language": "R",
   "name": "ir"
  },
  "language_info": {
   "codemirror_mode": "r",
   "file_extension": ".r",
   "mimetype": "text/x-r-source",
   "name": "R",
   "pygments_lexer": "r",
   "version": "4.4.3"
  }
 },
 "nbformat": 4,
 "nbformat_minor": 2
}
