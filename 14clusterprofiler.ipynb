{
 "cells": [
  {
   "cell_type": "code",
   "execution_count": null,
   "metadata": {
    "vscode": {
     "languageId": "r"
    }
   },
   "outputs": [
    {
     "ename": "ERROR",
     "evalue": "Error in library(org.Hs.eg.db): there is no package called ‘org.Hs.eg.db’\n",
     "output_type": "error",
     "traceback": [
      "Error in library(org.Hs.eg.db): there is no package called ‘org.Hs.eg.db’\nTraceback:\n",
      "1. stop(packageNotFoundError(package, lib.loc, sys.call()))"
     ]
    }
   ],
   "source": [
    "library('clusterProfiler')\n",
    "library(org.Mm.eg.db)\n",
    "library(ggplot2)"
   ]
  },
  {
   "cell_type": "code",
   "execution_count": 4,
   "metadata": {
    "vscode": {
     "languageId": "r"
    }
   },
   "outputs": [],
   "source": [
    "df.deg <- read.csv(\"/data2st1/junyi/output/atac0416/dar/region_nt/df_annotattion_wilcoxon.csv\")"
   ]
  },
  {
   "cell_type": "code",
   "execution_count": 15,
   "metadata": {
    "vscode": {
     "languageId": "r"
    }
   },
   "outputs": [
    {
     "data": {
      "text/html": [
       "<table class=\"dataframe\">\n",
       "<caption>A data.frame: 6 × 16</caption>\n",
       "<thead>\n",
       "\t<tr><th></th><th scope=col>names</th><th scope=col>scores</th><th scope=col>logfoldchanges</th><th scope=col>pvals</th><th scope=col>pvals_adj</th><th scope=col>pct_nz_group</th><th scope=col>pct_nz_reference</th><th scope=col>ctname</th><th scope=col>region</th><th scope=col>condition</th><th scope=col>gene_name</th><th scope=col>gene_id</th><th scope=col>gstart</th><th scope=col>gend</th><th scope=col>strand</th><th scope=col>distance</th></tr>\n",
       "\t<tr><th></th><th scope=col>&lt;chr&gt;</th><th scope=col>&lt;dbl&gt;</th><th scope=col>&lt;dbl&gt;</th><th scope=col>&lt;dbl&gt;</th><th scope=col>&lt;dbl&gt;</th><th scope=col>&lt;dbl&gt;</th><th scope=col>&lt;dbl&gt;</th><th scope=col>&lt;chr&gt;</th><th scope=col>&lt;chr&gt;</th><th scope=col>&lt;chr&gt;</th><th scope=col>&lt;chr&gt;</th><th scope=col>&lt;chr&gt;</th><th scope=col>&lt;int&gt;</th><th scope=col>&lt;int&gt;</th><th scope=col>&lt;chr&gt;</th><th scope=col>&lt;int&gt;</th></tr>\n",
       "</thead>\n",
       "<tbody>\n",
       "\t<tr><th scope=row>1</th><td>chr2:98666917-98667418</td><td>23.533844</td><td>0.9004145</td><td>1.837545e-122</td><td>2.519275e-116</td><td>0.9574536</td><td>0.8823978</td><td>PFC_GABA</td><td>PFC</td><td>MC</td><td>Gm10800</td><td>ENSMUSG00000075014.1</td><td>98666546</td><td>98667301</td><td>-</td><td>0</td></tr>\n",
       "\t<tr><th scope=row>2</th><td>chr2:98662045-98662546</td><td>19.915870</td><td>0.9123986</td><td> 2.964556e-88</td><td> 2.032203e-82</td><td>0.7962252</td><td>0.6446533</td><td>PFC_GABA</td><td>PFC</td><td>MC</td><td>Gm10801</td><td>ENSMUSG00000075015.3</td><td>98662236</td><td>98664083</td><td>+</td><td>0</td></tr>\n",
       "\t<tr><th scope=row>3</th><td>chr2:98666414-98666915</td><td>18.153790</td><td>0.7490824</td><td> 1.198400e-73</td><td> 5.476689e-68</td><td>0.8691619</td><td>0.7602235</td><td>PFC_GABA</td><td>PFC</td><td>MC</td><td>Gm10800</td><td>ENSMUSG00000075014.1</td><td>98666546</td><td>98667301</td><td>-</td><td>0</td></tr>\n",
       "\t<tr><th scope=row>4</th><td>chr9:35305176-35305677</td><td>13.207377</td><td>0.7783439</td><td> 7.954764e-40</td><td> 2.726495e-34</td><td>0.5758157</td><td>0.4462789</td><td>PFC_GABA</td><td>PFC</td><td>MC</td><td>Gm33838</td><td>ENSMUSG00000111059.1</td><td>35301721</td><td>35307599</td><td>-</td><td>0</td></tr>\n",
       "\t<tr><th scope=row>5</th><td>chr2:98662628-98663129</td><td>11.916548</td><td>0.7575722</td><td> 9.704762e-33</td><td> 2.661046e-27</td><td>0.5201536</td><td>0.3916688</td><td>PFC_GABA</td><td>PFC</td><td>MC</td><td>Gm10801</td><td>ENSMUSG00000075015.3</td><td>98662236</td><td>98664083</td><td>+</td><td>0</td></tr>\n",
       "\t<tr><th scope=row>6</th><td>chr9:3001884-3002385  </td><td> 8.819262</td><td>0.9723987</td><td> 1.152170e-18</td><td> 2.632707e-13</td><td>0.3000640</td><td>0.1894844</td><td>PFC_GABA</td><td>PFC</td><td>MC</td><td>Gm10722</td><td>ENSMUSG00000091028.1</td><td> 3000921</td><td> 3002330</td><td>+</td><td>0</td></tr>\n",
       "</tbody>\n",
       "</table>\n"
      ],
      "text/latex": [
       "A data.frame: 6 × 16\n",
       "\\begin{tabular}{r|llllllllllllllll}\n",
       "  & names & scores & logfoldchanges & pvals & pvals\\_adj & pct\\_nz\\_group & pct\\_nz\\_reference & ctname & region & condition & gene\\_name & gene\\_id & gstart & gend & strand & distance\\\\\n",
       "  & <chr> & <dbl> & <dbl> & <dbl> & <dbl> & <dbl> & <dbl> & <chr> & <chr> & <chr> & <chr> & <chr> & <int> & <int> & <chr> & <int>\\\\\n",
       "\\hline\n",
       "\t1 & chr2:98666917-98667418 & 23.533844 & 0.9004145 & 1.837545e-122 & 2.519275e-116 & 0.9574536 & 0.8823978 & PFC\\_GABA & PFC & MC & Gm10800 & ENSMUSG00000075014.1 & 98666546 & 98667301 & - & 0\\\\\n",
       "\t2 & chr2:98662045-98662546 & 19.915870 & 0.9123986 &  2.964556e-88 &  2.032203e-82 & 0.7962252 & 0.6446533 & PFC\\_GABA & PFC & MC & Gm10801 & ENSMUSG00000075015.3 & 98662236 & 98664083 & + & 0\\\\\n",
       "\t3 & chr2:98666414-98666915 & 18.153790 & 0.7490824 &  1.198400e-73 &  5.476689e-68 & 0.8691619 & 0.7602235 & PFC\\_GABA & PFC & MC & Gm10800 & ENSMUSG00000075014.1 & 98666546 & 98667301 & - & 0\\\\\n",
       "\t4 & chr9:35305176-35305677 & 13.207377 & 0.7783439 &  7.954764e-40 &  2.726495e-34 & 0.5758157 & 0.4462789 & PFC\\_GABA & PFC & MC & Gm33838 & ENSMUSG00000111059.1 & 35301721 & 35307599 & - & 0\\\\\n",
       "\t5 & chr2:98662628-98663129 & 11.916548 & 0.7575722 &  9.704762e-33 &  2.661046e-27 & 0.5201536 & 0.3916688 & PFC\\_GABA & PFC & MC & Gm10801 & ENSMUSG00000075015.3 & 98662236 & 98664083 & + & 0\\\\\n",
       "\t6 & chr9:3001884-3002385   &  8.819262 & 0.9723987 &  1.152170e-18 &  2.632707e-13 & 0.3000640 & 0.1894844 & PFC\\_GABA & PFC & MC & Gm10722 & ENSMUSG00000091028.1 &  3000921 &  3002330 & + & 0\\\\\n",
       "\\end{tabular}\n"
      ],
      "text/markdown": [
       "\n",
       "A data.frame: 6 × 16\n",
       "\n",
       "| <!--/--> | names &lt;chr&gt; | scores &lt;dbl&gt; | logfoldchanges &lt;dbl&gt; | pvals &lt;dbl&gt; | pvals_adj &lt;dbl&gt; | pct_nz_group &lt;dbl&gt; | pct_nz_reference &lt;dbl&gt; | ctname &lt;chr&gt; | region &lt;chr&gt; | condition &lt;chr&gt; | gene_name &lt;chr&gt; | gene_id &lt;chr&gt; | gstart &lt;int&gt; | gend &lt;int&gt; | strand &lt;chr&gt; | distance &lt;int&gt; |\n",
       "|---|---|---|---|---|---|---|---|---|---|---|---|---|---|---|---|---|\n",
       "| 1 | chr2:98666917-98667418 | 23.533844 | 0.9004145 | 1.837545e-122 | 2.519275e-116 | 0.9574536 | 0.8823978 | PFC_GABA | PFC | MC | Gm10800 | ENSMUSG00000075014.1 | 98666546 | 98667301 | - | 0 |\n",
       "| 2 | chr2:98662045-98662546 | 19.915870 | 0.9123986 |  2.964556e-88 |  2.032203e-82 | 0.7962252 | 0.6446533 | PFC_GABA | PFC | MC | Gm10801 | ENSMUSG00000075015.3 | 98662236 | 98664083 | + | 0 |\n",
       "| 3 | chr2:98666414-98666915 | 18.153790 | 0.7490824 |  1.198400e-73 |  5.476689e-68 | 0.8691619 | 0.7602235 | PFC_GABA | PFC | MC | Gm10800 | ENSMUSG00000075014.1 | 98666546 | 98667301 | - | 0 |\n",
       "| 4 | chr9:35305176-35305677 | 13.207377 | 0.7783439 |  7.954764e-40 |  2.726495e-34 | 0.5758157 | 0.4462789 | PFC_GABA | PFC | MC | Gm33838 | ENSMUSG00000111059.1 | 35301721 | 35307599 | - | 0 |\n",
       "| 5 | chr2:98662628-98663129 | 11.916548 | 0.7575722 |  9.704762e-33 |  2.661046e-27 | 0.5201536 | 0.3916688 | PFC_GABA | PFC | MC | Gm10801 | ENSMUSG00000075015.3 | 98662236 | 98664083 | + | 0 |\n",
       "| 6 | chr9:3001884-3002385   |  8.819262 | 0.9723987 |  1.152170e-18 |  2.632707e-13 | 0.3000640 | 0.1894844 | PFC_GABA | PFC | MC | Gm10722 | ENSMUSG00000091028.1 |  3000921 |  3002330 | + | 0 |\n",
       "\n"
      ],
      "text/plain": [
       "  names                  scores    logfoldchanges pvals         pvals_adj    \n",
       "1 chr2:98666917-98667418 23.533844 0.9004145      1.837545e-122 2.519275e-116\n",
       "2 chr2:98662045-98662546 19.915870 0.9123986       2.964556e-88  2.032203e-82\n",
       "3 chr2:98666414-98666915 18.153790 0.7490824       1.198400e-73  5.476689e-68\n",
       "4 chr9:35305176-35305677 13.207377 0.7783439       7.954764e-40  2.726495e-34\n",
       "5 chr2:98662628-98663129 11.916548 0.7575722       9.704762e-33  2.661046e-27\n",
       "6 chr9:3001884-3002385    8.819262 0.9723987       1.152170e-18  2.632707e-13\n",
       "  pct_nz_group pct_nz_reference ctname   region condition gene_name\n",
       "1 0.9574536    0.8823978        PFC_GABA PFC    MC        Gm10800  \n",
       "2 0.7962252    0.6446533        PFC_GABA PFC    MC        Gm10801  \n",
       "3 0.8691619    0.7602235        PFC_GABA PFC    MC        Gm10800  \n",
       "4 0.5758157    0.4462789        PFC_GABA PFC    MC        Gm33838  \n",
       "5 0.5201536    0.3916688        PFC_GABA PFC    MC        Gm10801  \n",
       "6 0.3000640    0.1894844        PFC_GABA PFC    MC        Gm10722  \n",
       "  gene_id              gstart   gend     strand distance\n",
       "1 ENSMUSG00000075014.1 98666546 98667301 -      0       \n",
       "2 ENSMUSG00000075015.3 98662236 98664083 +      0       \n",
       "3 ENSMUSG00000075014.1 98666546 98667301 -      0       \n",
       "4 ENSMUSG00000111059.1 35301721 35307599 -      0       \n",
       "5 ENSMUSG00000075015.3 98662236 98664083 +      0       \n",
       "6 ENSMUSG00000091028.1  3000921  3002330 +      0       "
      ]
     },
     "metadata": {},
     "output_type": "display_data"
    }
   ],
   "source": [
    "head(df.deg)"
   ]
  },
  {
   "cell_type": "code",
   "execution_count": null,
   "metadata": {
    "vscode": {
     "languageId": "r"
    }
   },
   "outputs": [],
   "source": [
    "# 获取所有唯一的ct_name和condition组合\n",
    "ct.names <- c(\"AMY_Glut\", \"AMY_GABA\", \"HIP_Glut\", \"HIP_GABA\", \"PFC_Glut\", \"PFC_GABA\")\n",
    "conditions <- c(\"MC\", \"MW\")\n",
    "\n",
    "outfolder <- \"/data2st1/junyi/output/atac0416/dar/region_nt/\"\n"
   ]
  },
  {
   "cell_type": "code",
   "execution_count": null,
   "metadata": {
    "vscode": {
     "languageId": "r"
    }
   },
   "outputs": [
    {
     "name": "stdout",
     "output_type": "stream",
     "text": [
      "[1] \"Processing: AMY_Glut MC\"\n",
      "[1] \"Number of genes: 278\"\n"
     ]
    },
    {
     "name": "stderr",
     "output_type": "stream",
     "text": [
      "'select()' returned 1:1 mapping between keys and columns\n",
      "\n",
      "Warning message in bitr(unique(subset_df$gene_name), fromType = \"SYMBOL\", toType = \"ENTREZID\", :\n",
      "“6.91% of input gene IDs are fail to map...”\n",
      "Warning message in rep(yes, length.out = len):\n",
      "“'x' is NULL so the result will be NULL”\n"
     ]
    },
    {
     "name": "stdout",
     "output_type": "stream",
     "text": [
      "[1] \"Error in subsetting data for AMY_Glut MC\"\n",
      "[1] \"Processing: AMY_Glut MW\"\n",
      "[1] \"Number of genes: 77\"\n"
     ]
    },
    {
     "name": "stderr",
     "output_type": "stream",
     "text": [
      "'select()' returned 1:1 mapping between keys and columns\n",
      "\n",
      "Warning message in bitr(unique(subset_df$gene_name), fromType = \"SYMBOL\", toType = \"ENTREZID\", :\n",
      "“25.76% of input gene IDs are fail to map...”\n",
      "Warning message in rep(yes, length.out = len):\n",
      "“'x' is NULL so the result will be NULL”\n"
     ]
    },
    {
     "name": "stdout",
     "output_type": "stream",
     "text": [
      "[1] \"Error in subsetting data for AMY_Glut MW\"\n",
      "[1] \"Processing: AMY_GABA MC\"\n",
      "[1] \"Number of genes: 442\"\n"
     ]
    },
    {
     "name": "stderr",
     "output_type": "stream",
     "text": [
      "'select()' returned 1:1 mapping between keys and columns\n",
      "\n",
      "Warning message in bitr(unique(subset_df$gene_name), fromType = \"SYMBOL\", toType = \"ENTREZID\", :\n",
      "“5.18% of input gene IDs are fail to map...”\n",
      "Warning message in rep(yes, length.out = len):\n",
      "“'x' is NULL so the result will be NULL”\n"
     ]
    },
    {
     "name": "stdout",
     "output_type": "stream",
     "text": [
      "[1] \"Error in subsetting data for AMY_GABA MC\"\n",
      "[1] \"Processing: AMY_GABA MW\"\n",
      "[1] \"Number of genes: 13\"\n"
     ]
    },
    {
     "name": "stderr",
     "output_type": "stream",
     "text": [
      "'select()' returned 1:1 mapping between keys and columns\n",
      "\n",
      "Warning message in bitr(unique(subset_df$gene_name), fromType = \"SYMBOL\", toType = \"ENTREZID\", :\n",
      "“28.57% of input gene IDs are fail to map...”\n",
      "--> No gene can be mapped....\n",
      "\n",
      "--> Expected input gene ID: 93747,19733,19063,22236,110208,18642\n",
      "\n",
      "--> return NULL...\n",
      "\n"
     ]
    },
    {
     "name": "stdout",
     "output_type": "stream",
     "text": [
      "[1] \"Error in subsetting data for AMY_GABA MW\"\n",
      "[1] \"Processing: HIP_Glut MC\"\n",
      "[1] \"Number of genes: 9881\"\n"
     ]
    },
    {
     "name": "stderr",
     "output_type": "stream",
     "text": [
      "'select()' returned 1:1 mapping between keys and columns\n",
      "\n",
      "Warning message in bitr(unique(subset_df$gene_name), fromType = \"SYMBOL\", toType = \"ENTREZID\", :\n",
      "“8.69% of input gene IDs are fail to map...”\n"
     ]
    },
    {
     "name": "stdout",
     "output_type": "stream",
     "text": [
      "[1] \"Processing: HIP_Glut MW\"\n",
      "[1] \"Number of genes: 25\"\n"
     ]
    },
    {
     "name": "stderr",
     "output_type": "stream",
     "text": [
      "'select()' returned 1:1 mapping between keys and columns\n",
      "\n",
      "Warning message in bitr(unique(subset_df$gene_name), fromType = \"SYMBOL\", toType = \"ENTREZID\", :\n",
      "“57.14% of input gene IDs are fail to map...”\n"
     ]
    },
    {
     "name": "stdout",
     "output_type": "stream",
     "text": [
      "[1] \"Processing: HIP_GABA MC\"\n",
      "[1] \"Number of genes: 3\"\n"
     ]
    },
    {
     "name": "stderr",
     "output_type": "stream",
     "text": [
      "'select()' returned 1:1 mapping between keys and columns\n",
      "\n",
      "Warning message in rep(yes, length.out = len):\n",
      "“'x' is NULL so the result will be NULL”\n"
     ]
    },
    {
     "name": "stdout",
     "output_type": "stream",
     "text": [
      "[1] \"Error in subsetting data for HIP_GABA MC\"\n",
      "[1] \"Processing: HIP_GABA MW\"\n",
      "[1] \"Number of genes: 0\"\n",
      "[1] \"Error in subsetting data for HIP_GABA MW\"\n",
      "[1] \"Processing: PFC_Glut MC\"\n",
      "[1] \"Number of genes: 111\"\n"
     ]
    },
    {
     "name": "stderr",
     "output_type": "stream",
     "text": [
      "'select()' returned 1:1 mapping between keys and columns\n",
      "\n",
      "Warning message in bitr(unique(subset_df$gene_name), fromType = \"SYMBOL\", toType = \"ENTREZID\", :\n",
      "“18.48% of input gene IDs are fail to map...”\n"
     ]
    },
    {
     "name": "stdout",
     "output_type": "stream",
     "text": [
      "[1] \"Processing: PFC_Glut MW\"\n",
      "[1] \"Number of genes: 67283\"\n"
     ]
    },
    {
     "name": "stderr",
     "output_type": "stream",
     "text": [
      "'select()' returned 1:1 mapping between keys and columns\n",
      "\n",
      "Warning message in bitr(unique(subset_df$gene_name), fromType = \"SYMBOL\", toType = \"ENTREZID\", :\n",
      "“15.23% of input gene IDs are fail to map...”\n"
     ]
    },
    {
     "name": "stdout",
     "output_type": "stream",
     "text": [
      "[1] \"Processing: PFC_GABA MC\"\n",
      "[1] \"Number of genes: 12\"\n"
     ]
    },
    {
     "name": "stderr",
     "output_type": "stream",
     "text": [
      "'select()' returned 1:1 mapping between keys and columns\n",
      "\n",
      "Warning message in bitr(unique(subset_df$gene_name), fromType = \"SYMBOL\", toType = \"ENTREZID\", :\n",
      "“60% of input gene IDs are fail to map...”\n"
     ]
    },
    {
     "name": "stdout",
     "output_type": "stream",
     "text": [
      "[1] \"Processing: PFC_GABA MW\"\n",
      "[1] \"Number of genes: 1473\"\n"
     ]
    },
    {
     "name": "stderr",
     "output_type": "stream",
     "text": [
      "'select()' returned 1:1 mapping between keys and columns\n",
      "\n",
      "Warning message in bitr(unique(subset_df$gene_name), fromType = \"SYMBOL\", toType = \"ENTREZID\", :\n",
      "“7.46% of input gene IDs are fail to map...”\n"
     ]
    }
   ],
   "source": [
    "# 转换ID（Symbol → Entrez）\n",
    "\n",
    "# ctname <- \"PFC_Glut\"\n",
    "# condition <- \"MW\"\n",
    "\n",
    "for (ctname in ct.names) {\n",
    "  for (condition in conditions) {\n",
    "    # 筛选数据\n",
    "    tryCatch(\n",
    "      {\n",
    "        print(paste(\"Processing:\", ctname, condition))\n",
    "\n",
    "        subset_df <- df.deg[df.deg$ctname == ctname & df.deg$condition == condition, ]\n",
    "\n",
    "        print(paste(\"Number of genes:\", nrow(subset_df)))\n",
    "\n",
    "        gene_entrez <- bitr(unique(subset_df$gene_name), \n",
    "                            fromType = \"SYMBOL\", \n",
    "                            toType = \"ENTREZID\", \n",
    "                            OrgDb = \"org.Mm.eg.db\")\n",
    "                            \n",
    "        entrez_ids <- gene_entrez$ENTREZID\n",
    "        ego <- enrichGO(gene = entrez_ids,\n",
    "                        OrgDb = org.Mm.eg.db,\n",
    "                        keyType = \"ENTREZID\",\n",
    "                        ont = \"ALL\",  # \"BP\", \"MF\", \"CC\" 或 \"ALL\"\n",
    "                        pvalueCutoff = 0.05,\n",
    "                        qvalueCutoff = 0.05,\n",
    "                        readable = TRUE)  # 结果中显示基因符号\n",
    "\n",
    "        # 查看结果\n",
    "        write.csv(ego, file = paste(outfolder, \"GO_enrichment_results\",ctname,condition,\".csv\",sep = \"_\"), row.names = FALSE)\n",
    "        p <- dotplot(ego, showCategory = 30)\n",
    "        ggsave(paste(outfolder, \"GO_enrichment_dot\",ctname,condition,\".pdf\",sep = \"_\"), plot = p, width = 12, height = 15)  # 宽度12英寸，高度15英寸\n",
    "\n",
    "        p<-barplot(ego, showCategory = 30)  # 条形图\n",
    "        ggsave(paste(outfolder, \"GO_enrichment_bar\",ctname,condition,\".pdf\",sep = \"_\"), plot = p, width = 12, height = 15)  # 宽度12英寸，高度15英寸\n",
    "\n",
    "        kk <- enrichKEGG(gene = entrez_ids,\n",
    "                        organism = \"mmu\",  # 小鼠KEGG代码\n",
    "                        pvalueCutoff = 0.05,\n",
    "                        qvalueCutoff = 0.05)\n",
    "\n",
    "        # 可视化\n",
    "        p<-dotplot(kk, showCategory = 30)\n",
    "        write.csv(kk, file = paste(outfolder, \"KEGG_enrichment_results\",ctname,condition,\".csv\",sep = \"_\"), row.names = FALSE)\n",
    "        ggsave(paste(outfolder, \"kegg_enrichment_dot\",ctname,condition,\".pdf\",sep = \"_\"), plot = p, width = 12, height = 15)  # 宽度12英寸，高度15英寸\n",
    "      }, \n",
    "      error = function(e) {\n",
    "        print(paste(\"Error in subsetting data for\", ctname, condition))\n",
    "    })\n",
    "\n",
    "  }\n",
    "}"
   ]
  }
 ],
 "metadata": {
  "kernelspec": {
   "display_name": "R",
   "language": "R",
   "name": "ir"
  },
  "language_info": {
   "codemirror_mode": "r",
   "file_extension": ".r",
   "mimetype": "text/x-r-source",
   "name": "R",
   "pygments_lexer": "r",
   "version": "4.4.3"
  }
 },
 "nbformat": 4,
 "nbformat_minor": 2
}
