{
 "cells": [
  {
   "cell_type": "code",
   "execution_count": 1,
   "id": "c565a2a2",
   "metadata": {
    "vscode": {
     "languageId": "r"
    }
   },
   "outputs": [
    {
     "name": "stderr",
     "output_type": "stream",
     "text": [
      "Warning message:\n",
      "“package ‘igraph’ was built under R version 4.3.3”\n",
      "\n",
      "Attaching package: ‘igraph’\n",
      "\n",
      "\n",
      "The following objects are masked from ‘package:stats’:\n",
      "\n",
      "    decompose, spectrum\n",
      "\n",
      "\n",
      "The following object is masked from ‘package:base’:\n",
      "\n",
      "    union\n",
      "\n",
      "\n",
      "Warning message:\n",
      "“package ‘NetworkComparisonTest’ was built under R version 4.3.3”\n"
     ]
    }
   ],
   "source": [
    "library(igraph)\n",
    "library(NetworkComparisonTest)\n"
   ]
  },
  {
   "cell_type": "code",
   "execution_count": 2,
   "id": "0cdb04b4",
   "metadata": {
    "vscode": {
     "languageId": "r"
    }
   },
   "outputs": [],
   "source": [
    "df1 <- read.csv(\"/data1st2/junyi/output/atac0416/cicre/region_nt/PFC_PFC_Glut_MC_circe_network.csv\")"
   ]
  },
  {
   "cell_type": "code",
   "execution_count": 3,
   "id": "3143869d",
   "metadata": {
    "vscode": {
     "languageId": "r"
    }
   },
   "outputs": [],
   "source": [
    "df2 <- read.csv(\"/data1st2/junyi/output/atac0416/cicre/region_nt/PFC_PFC_Glut_MW_circe_network.csv\")"
   ]
  },
  {
   "cell_type": "code",
   "execution_count": 5,
   "id": "afb03852",
   "metadata": {
    "vscode": {
     "languageId": "r"
    }
   },
   "outputs": [],
   "source": [
    "ccan1 <- read.csv(\"/data1st2/junyi/output/atac0416/cicre/region_nt/PFC_PFC_Glut_MC_ccans.csv\")\n",
    "ccan2 <- read.csv(\"/data1st2/junyi/output/atac0416/cicre/region_nt/PFC_PFC_Glut_MW_ccans.csv\")"
   ]
  },
  {
   "cell_type": "code",
   "execution_count": null,
   "id": "709e3ed5",
   "metadata": {
    "vscode": {
     "languageId": "r"
    }
   },
   "outputs": [],
   "source": [
    "# sort ccan1 dataframe by peak column\n",
    "ccan1 <- ccan1[order(ccan1$Peak), ]"
   ]
  },
  {
   "cell_type": "code",
   "execution_count": 67,
   "id": "6355e6ee",
   "metadata": {
    "vscode": {
     "languageId": "r"
    }
   },
   "outputs": [],
   "source": [
    "ccan2 <- ccan2[order(ccan2$Peak), ]"
   ]
  },
  {
   "cell_type": "code",
   "execution_count": 84,
   "id": "cd41c28d",
   "metadata": {
    "vscode": {
     "languageId": "r"
    }
   },
   "outputs": [
    {
     "data": {
      "text/html": [
       "<table class=\"dataframe\">\n",
       "<caption>A data.frame: 19 × 6</caption>\n",
       "<thead>\n",
       "\t<tr><th></th><th scope=col>X</th><th scope=col>Peak1</th><th scope=col>Peak2</th><th scope=col>score</th><th scope=col>pval_adj</th><th scope=col>pval</th></tr>\n",
       "\t<tr><th></th><th scope=col>&lt;int&gt;</th><th scope=col>&lt;chr&gt;</th><th scope=col>&lt;chr&gt;</th><th scope=col>&lt;dbl&gt;</th><th scope=col>&lt;dbl&gt;</th><th scope=col>&lt;dbl&gt;</th></tr>\n",
       "</thead>\n",
       "<tbody>\n",
       "\t<tr><th scope=row>105782</th><td> 105781</td><td>chr1_100265864_100266365</td><td>chr1_100339872_100340373</td><td>0.14835742</td><td>0.000000e+00</td><td>0.000000e+00</td></tr>\n",
       "\t<tr><th scope=row>119982</th><td> 119981</td><td>chr1_100265864_100266365</td><td>chr1_100373345_100373846</td><td>0.13943363</td><td>0.000000e+00</td><td>0.000000e+00</td></tr>\n",
       "\t<tr><th scope=row>171408</th><td> 171407</td><td>chr1_100265864_100266365</td><td>chr1_100434732_100435233</td><td>0.11522843</td><td>0.000000e+00</td><td>0.000000e+00</td></tr>\n",
       "\t<tr><th scope=row>222265</th><td> 222264</td><td>chr1_100265864_100266365</td><td>chr1_100274167_100274668</td><td>0.09868757</td><td>0.000000e+00</td><td>0.000000e+00</td></tr>\n",
       "\t<tr><th scope=row>328773</th><td> 328772</td><td>chr1_100265864_100266365</td><td>chr1_100270792_100271293</td><td>0.07588699</td><td>0.000000e+00</td><td>0.000000e+00</td></tr>\n",
       "\t<tr><th scope=row>385261</th><td> 385260</td><td>chr1_100265864_100266365</td><td>chr1_100702810_100703311</td><td>0.06741343</td><td>0.000000e+00</td><td>0.000000e+00</td></tr>\n",
       "\t<tr><th scope=row>461394</th><td> 461393</td><td>chr1_100265864_100266365</td><td>chr1_100447423_100447924</td><td>0.05843296</td><td>0.000000e+00</td><td>0.000000e+00</td></tr>\n",
       "\t<tr><th scope=row>515146</th><td> 515145</td><td>chr1_100265864_100266365</td><td>chr1_100275453_100275954</td><td>0.05328603</td><td>2.376769e-14</td><td>5.551115e-16</td></tr>\n",
       "\t<tr><th scope=row>530510</th><td> 530509</td><td>chr1_100265864_100266365</td><td>chr1_100725786_100726287</td><td>0.05196734</td><td>1.110305e-13</td><td>2.664535e-15</td></tr>\n",
       "\t<tr><th scope=row>604887</th><td> 604886</td><td>chr1_100265864_100266365</td><td>chr1_100356494_100356995</td><td>0.04635788</td><td>6.203559e-11</td><td>1.697420e-12</td></tr>\n",
       "\t<tr><th scope=row>605696</th><td> 605695</td><td>chr1_100265864_100266365</td><td>chr1_100364217_100364718</td><td>0.04630216</td><td>6.580640e-11</td><td>1.803002e-12</td></tr>\n",
       "\t<tr><th scope=row>634209</th><td> 634208</td><td>chr1_100265864_100266365</td><td>chr1_100362032_100362533</td><td>0.04444783</td><td>4.495982e-10</td><td>1.289824e-11</td></tr>\n",
       "\t<tr><th scope=row>670505</th><td> 670504</td><td>chr1_100265864_100266365</td><td>chr1_100473887_100474388</td><td>0.04228624</td><td>3.817116e-09</td><td>1.157739e-10</td></tr>\n",
       "\t<tr><th scope=row>677377</th><td> 677376</td><td>chr1_100265864_100266365</td><td>chr1_100320830_100321331</td><td>0.04189690</td><td>5.546998e-09</td><td>1.699659e-10</td></tr>\n",
       "\t<tr><th scope=row>811033</th><td> 811032</td><td>chr1_100265864_100266365</td><td>chr1_100282618_100283119</td><td>0.03544455</td><td>1.626872e-06</td><td>5.968503e-08</td></tr>\n",
       "\t<tr><th scope=row>919710</th><td> 919709</td><td>chr1_100265864_100266365</td><td>chr1_100680250_100680751</td><td>0.03139739</td><td>3.504062e-05</td><td>1.457794e-06</td></tr>\n",
       "\t<tr><th scope=row>1191124</th><td>1191123</td><td>chr1_100265864_100266365</td><td>chr1_100690354_100690855</td><td>0.02416598</td><td>3.276990e-03</td><td>1.765654e-04</td></tr>\n",
       "\t<tr><th scope=row>1398764</th><td>1398763</td><td>chr1_100265864_100266365</td><td>chr1_100493584_100494085</td><td>0.02040353</td><td>2.143844e-02</td><td>1.356473e-03</td></tr>\n",
       "\t<tr><th scope=row>1486994</th><td>1486993</td><td>chr1_100265864_100266365</td><td>chr1_100662402_100662903</td><td>0.01910826</td><td>3.789230e-02</td><td>2.548787e-03</td></tr>\n",
       "</tbody>\n",
       "</table>\n"
      ],
      "text/latex": [
       "A data.frame: 19 × 6\n",
       "\\begin{tabular}{r|llllll}\n",
       "  & X & Peak1 & Peak2 & score & pval\\_adj & pval\\\\\n",
       "  & <int> & <chr> & <chr> & <dbl> & <dbl> & <dbl>\\\\\n",
       "\\hline\n",
       "\t105782 &  105781 & chr1\\_100265864\\_100266365 & chr1\\_100339872\\_100340373 & 0.14835742 & 0.000000e+00 & 0.000000e+00\\\\\n",
       "\t119982 &  119981 & chr1\\_100265864\\_100266365 & chr1\\_100373345\\_100373846 & 0.13943363 & 0.000000e+00 & 0.000000e+00\\\\\n",
       "\t171408 &  171407 & chr1\\_100265864\\_100266365 & chr1\\_100434732\\_100435233 & 0.11522843 & 0.000000e+00 & 0.000000e+00\\\\\n",
       "\t222265 &  222264 & chr1\\_100265864\\_100266365 & chr1\\_100274167\\_100274668 & 0.09868757 & 0.000000e+00 & 0.000000e+00\\\\\n",
       "\t328773 &  328772 & chr1\\_100265864\\_100266365 & chr1\\_100270792\\_100271293 & 0.07588699 & 0.000000e+00 & 0.000000e+00\\\\\n",
       "\t385261 &  385260 & chr1\\_100265864\\_100266365 & chr1\\_100702810\\_100703311 & 0.06741343 & 0.000000e+00 & 0.000000e+00\\\\\n",
       "\t461394 &  461393 & chr1\\_100265864\\_100266365 & chr1\\_100447423\\_100447924 & 0.05843296 & 0.000000e+00 & 0.000000e+00\\\\\n",
       "\t515146 &  515145 & chr1\\_100265864\\_100266365 & chr1\\_100275453\\_100275954 & 0.05328603 & 2.376769e-14 & 5.551115e-16\\\\\n",
       "\t530510 &  530509 & chr1\\_100265864\\_100266365 & chr1\\_100725786\\_100726287 & 0.05196734 & 1.110305e-13 & 2.664535e-15\\\\\n",
       "\t604887 &  604886 & chr1\\_100265864\\_100266365 & chr1\\_100356494\\_100356995 & 0.04635788 & 6.203559e-11 & 1.697420e-12\\\\\n",
       "\t605696 &  605695 & chr1\\_100265864\\_100266365 & chr1\\_100364217\\_100364718 & 0.04630216 & 6.580640e-11 & 1.803002e-12\\\\\n",
       "\t634209 &  634208 & chr1\\_100265864\\_100266365 & chr1\\_100362032\\_100362533 & 0.04444783 & 4.495982e-10 & 1.289824e-11\\\\\n",
       "\t670505 &  670504 & chr1\\_100265864\\_100266365 & chr1\\_100473887\\_100474388 & 0.04228624 & 3.817116e-09 & 1.157739e-10\\\\\n",
       "\t677377 &  677376 & chr1\\_100265864\\_100266365 & chr1\\_100320830\\_100321331 & 0.04189690 & 5.546998e-09 & 1.699659e-10\\\\\n",
       "\t811033 &  811032 & chr1\\_100265864\\_100266365 & chr1\\_100282618\\_100283119 & 0.03544455 & 1.626872e-06 & 5.968503e-08\\\\\n",
       "\t919710 &  919709 & chr1\\_100265864\\_100266365 & chr1\\_100680250\\_100680751 & 0.03139739 & 3.504062e-05 & 1.457794e-06\\\\\n",
       "\t1191124 & 1191123 & chr1\\_100265864\\_100266365 & chr1\\_100690354\\_100690855 & 0.02416598 & 3.276990e-03 & 1.765654e-04\\\\\n",
       "\t1398764 & 1398763 & chr1\\_100265864\\_100266365 & chr1\\_100493584\\_100494085 & 0.02040353 & 2.143844e-02 & 1.356473e-03\\\\\n",
       "\t1486994 & 1486993 & chr1\\_100265864\\_100266365 & chr1\\_100662402\\_100662903 & 0.01910826 & 3.789230e-02 & 2.548787e-03\\\\\n",
       "\\end{tabular}\n"
      ],
      "text/markdown": [
       "\n",
       "A data.frame: 19 × 6\n",
       "\n",
       "| <!--/--> | X &lt;int&gt; | Peak1 &lt;chr&gt; | Peak2 &lt;chr&gt; | score &lt;dbl&gt; | pval_adj &lt;dbl&gt; | pval &lt;dbl&gt; |\n",
       "|---|---|---|---|---|---|---|\n",
       "| 105782 |  105781 | chr1_100265864_100266365 | chr1_100339872_100340373 | 0.14835742 | 0.000000e+00 | 0.000000e+00 |\n",
       "| 119982 |  119981 | chr1_100265864_100266365 | chr1_100373345_100373846 | 0.13943363 | 0.000000e+00 | 0.000000e+00 |\n",
       "| 171408 |  171407 | chr1_100265864_100266365 | chr1_100434732_100435233 | 0.11522843 | 0.000000e+00 | 0.000000e+00 |\n",
       "| 222265 |  222264 | chr1_100265864_100266365 | chr1_100274167_100274668 | 0.09868757 | 0.000000e+00 | 0.000000e+00 |\n",
       "| 328773 |  328772 | chr1_100265864_100266365 | chr1_100270792_100271293 | 0.07588699 | 0.000000e+00 | 0.000000e+00 |\n",
       "| 385261 |  385260 | chr1_100265864_100266365 | chr1_100702810_100703311 | 0.06741343 | 0.000000e+00 | 0.000000e+00 |\n",
       "| 461394 |  461393 | chr1_100265864_100266365 | chr1_100447423_100447924 | 0.05843296 | 0.000000e+00 | 0.000000e+00 |\n",
       "| 515146 |  515145 | chr1_100265864_100266365 | chr1_100275453_100275954 | 0.05328603 | 2.376769e-14 | 5.551115e-16 |\n",
       "| 530510 |  530509 | chr1_100265864_100266365 | chr1_100725786_100726287 | 0.05196734 | 1.110305e-13 | 2.664535e-15 |\n",
       "| 604887 |  604886 | chr1_100265864_100266365 | chr1_100356494_100356995 | 0.04635788 | 6.203559e-11 | 1.697420e-12 |\n",
       "| 605696 |  605695 | chr1_100265864_100266365 | chr1_100364217_100364718 | 0.04630216 | 6.580640e-11 | 1.803002e-12 |\n",
       "| 634209 |  634208 | chr1_100265864_100266365 | chr1_100362032_100362533 | 0.04444783 | 4.495982e-10 | 1.289824e-11 |\n",
       "| 670505 |  670504 | chr1_100265864_100266365 | chr1_100473887_100474388 | 0.04228624 | 3.817116e-09 | 1.157739e-10 |\n",
       "| 677377 |  677376 | chr1_100265864_100266365 | chr1_100320830_100321331 | 0.04189690 | 5.546998e-09 | 1.699659e-10 |\n",
       "| 811033 |  811032 | chr1_100265864_100266365 | chr1_100282618_100283119 | 0.03544455 | 1.626872e-06 | 5.968503e-08 |\n",
       "| 919710 |  919709 | chr1_100265864_100266365 | chr1_100680250_100680751 | 0.03139739 | 3.504062e-05 | 1.457794e-06 |\n",
       "| 1191124 | 1191123 | chr1_100265864_100266365 | chr1_100690354_100690855 | 0.02416598 | 3.276990e-03 | 1.765654e-04 |\n",
       "| 1398764 | 1398763 | chr1_100265864_100266365 | chr1_100493584_100494085 | 0.02040353 | 2.143844e-02 | 1.356473e-03 |\n",
       "| 1486994 | 1486993 | chr1_100265864_100266365 | chr1_100662402_100662903 | 0.01910826 | 3.789230e-02 | 2.548787e-03 |\n",
       "\n"
      ],
      "text/plain": [
       "        X       Peak1                    Peak2                    score     \n",
       "105782   105781 chr1_100265864_100266365 chr1_100339872_100340373 0.14835742\n",
       "119982   119981 chr1_100265864_100266365 chr1_100373345_100373846 0.13943363\n",
       "171408   171407 chr1_100265864_100266365 chr1_100434732_100435233 0.11522843\n",
       "222265   222264 chr1_100265864_100266365 chr1_100274167_100274668 0.09868757\n",
       "328773   328772 chr1_100265864_100266365 chr1_100270792_100271293 0.07588699\n",
       "385261   385260 chr1_100265864_100266365 chr1_100702810_100703311 0.06741343\n",
       "461394   461393 chr1_100265864_100266365 chr1_100447423_100447924 0.05843296\n",
       "515146   515145 chr1_100265864_100266365 chr1_100275453_100275954 0.05328603\n",
       "530510   530509 chr1_100265864_100266365 chr1_100725786_100726287 0.05196734\n",
       "604887   604886 chr1_100265864_100266365 chr1_100356494_100356995 0.04635788\n",
       "605696   605695 chr1_100265864_100266365 chr1_100364217_100364718 0.04630216\n",
       "634209   634208 chr1_100265864_100266365 chr1_100362032_100362533 0.04444783\n",
       "670505   670504 chr1_100265864_100266365 chr1_100473887_100474388 0.04228624\n",
       "677377   677376 chr1_100265864_100266365 chr1_100320830_100321331 0.04189690\n",
       "811033   811032 chr1_100265864_100266365 chr1_100282618_100283119 0.03544455\n",
       "919710   919709 chr1_100265864_100266365 chr1_100680250_100680751 0.03139739\n",
       "1191124 1191123 chr1_100265864_100266365 chr1_100690354_100690855 0.02416598\n",
       "1398764 1398763 chr1_100265864_100266365 chr1_100493584_100494085 0.02040353\n",
       "1486994 1486993 chr1_100265864_100266365 chr1_100662402_100662903 0.01910826\n",
       "        pval_adj     pval        \n",
       "105782  0.000000e+00 0.000000e+00\n",
       "119982  0.000000e+00 0.000000e+00\n",
       "171408  0.000000e+00 0.000000e+00\n",
       "222265  0.000000e+00 0.000000e+00\n",
       "328773  0.000000e+00 0.000000e+00\n",
       "385261  0.000000e+00 0.000000e+00\n",
       "461394  0.000000e+00 0.000000e+00\n",
       "515146  2.376769e-14 5.551115e-16\n",
       "530510  1.110305e-13 2.664535e-15\n",
       "604887  6.203559e-11 1.697420e-12\n",
       "605696  6.580640e-11 1.803002e-12\n",
       "634209  4.495982e-10 1.289824e-11\n",
       "670505  3.817116e-09 1.157739e-10\n",
       "677377  5.546998e-09 1.699659e-10\n",
       "811033  1.626872e-06 5.968503e-08\n",
       "919710  3.504062e-05 1.457794e-06\n",
       "1191124 3.276990e-03 1.765654e-04\n",
       "1398764 2.143844e-02 1.356473e-03\n",
       "1486994 3.789230e-02 2.548787e-03"
      ]
     },
     "metadata": {},
     "output_type": "display_data"
    }
   ],
   "source": [
    "df1[df1$Peak1 ==\"chr1_100265864_100266365\",]"
   ]
  },
  {
   "cell_type": "code",
   "execution_count": 86,
   "id": "850b1f8b",
   "metadata": {
    "vscode": {
     "languageId": "r"
    }
   },
   "outputs": [
    {
     "data": {
      "text/html": [
       "<table class=\"dataframe\">\n",
       "<caption>A data.frame: 5 × 6</caption>\n",
       "<thead>\n",
       "\t<tr><th></th><th scope=col>X</th><th scope=col>Peak1</th><th scope=col>Peak2</th><th scope=col>score</th><th scope=col>pval_adj</th><th scope=col>pval</th></tr>\n",
       "\t<tr><th></th><th scope=col>&lt;int&gt;</th><th scope=col>&lt;chr&gt;</th><th scope=col>&lt;chr&gt;</th><th scope=col>&lt;dbl&gt;</th><th scope=col>&lt;dbl&gt;</th><th scope=col>&lt;dbl&gt;</th></tr>\n",
       "</thead>\n",
       "<tbody>\n",
       "\t<tr><th scope=row>461348</th><td> 461347</td><td>chr1_100254592_100255093</td><td>chr1_100265864_100266365</td><td>0.05683898</td><td>0.000000e+00</td><td>0.000000e+00</td></tr>\n",
       "\t<tr><th scope=row>911126</th><td> 911125</td><td>chr1_100260062_100260563</td><td>chr1_100265864_100266365</td><td>0.03136769</td><td>5.853009e-06</td><td>2.464141e-07</td></tr>\n",
       "\t<tr><th scope=row>1181823</th><td>1181822</td><td>chr1_100252517_100253018</td><td>chr1_100265864_100266365</td><td>0.02431795</td><td>9.749792e-04</td><td>5.324216e-05</td></tr>\n",
       "\t<tr><th scope=row>1183659</th><td>1183658</td><td>chr1_100260782_100261283</td><td>chr1_100265864_100266365</td><td>0.02428062</td><td>9.981838e-04</td><td>5.459402e-05</td></tr>\n",
       "\t<tr><th scope=row>1186978</th><td>1186977</td><td>chr1_100250466_100250967</td><td>chr1_100265864_100266365</td><td>0.02420922</td><td>1.044185e-03</td><td>5.727011e-05</td></tr>\n",
       "</tbody>\n",
       "</table>\n"
      ],
      "text/latex": [
       "A data.frame: 5 × 6\n",
       "\\begin{tabular}{r|llllll}\n",
       "  & X & Peak1 & Peak2 & score & pval\\_adj & pval\\\\\n",
       "  & <int> & <chr> & <chr> & <dbl> & <dbl> & <dbl>\\\\\n",
       "\\hline\n",
       "\t461348 &  461347 & chr1\\_100254592\\_100255093 & chr1\\_100265864\\_100266365 & 0.05683898 & 0.000000e+00 & 0.000000e+00\\\\\n",
       "\t911126 &  911125 & chr1\\_100260062\\_100260563 & chr1\\_100265864\\_100266365 & 0.03136769 & 5.853009e-06 & 2.464141e-07\\\\\n",
       "\t1181823 & 1181822 & chr1\\_100252517\\_100253018 & chr1\\_100265864\\_100266365 & 0.02431795 & 9.749792e-04 & 5.324216e-05\\\\\n",
       "\t1183659 & 1183658 & chr1\\_100260782\\_100261283 & chr1\\_100265864\\_100266365 & 0.02428062 & 9.981838e-04 & 5.459402e-05\\\\\n",
       "\t1186978 & 1186977 & chr1\\_100250466\\_100250967 & chr1\\_100265864\\_100266365 & 0.02420922 & 1.044185e-03 & 5.727011e-05\\\\\n",
       "\\end{tabular}\n"
      ],
      "text/markdown": [
       "\n",
       "A data.frame: 5 × 6\n",
       "\n",
       "| <!--/--> | X &lt;int&gt; | Peak1 &lt;chr&gt; | Peak2 &lt;chr&gt; | score &lt;dbl&gt; | pval_adj &lt;dbl&gt; | pval &lt;dbl&gt; |\n",
       "|---|---|---|---|---|---|---|\n",
       "| 461348 |  461347 | chr1_100254592_100255093 | chr1_100265864_100266365 | 0.05683898 | 0.000000e+00 | 0.000000e+00 |\n",
       "| 911126 |  911125 | chr1_100260062_100260563 | chr1_100265864_100266365 | 0.03136769 | 5.853009e-06 | 2.464141e-07 |\n",
       "| 1181823 | 1181822 | chr1_100252517_100253018 | chr1_100265864_100266365 | 0.02431795 | 9.749792e-04 | 5.324216e-05 |\n",
       "| 1183659 | 1183658 | chr1_100260782_100261283 | chr1_100265864_100266365 | 0.02428062 | 9.981838e-04 | 5.459402e-05 |\n",
       "| 1186978 | 1186977 | chr1_100250466_100250967 | chr1_100265864_100266365 | 0.02420922 | 1.044185e-03 | 5.727011e-05 |\n",
       "\n"
      ],
      "text/plain": [
       "        X       Peak1                    Peak2                    score     \n",
       "461348   461347 chr1_100254592_100255093 chr1_100265864_100266365 0.05683898\n",
       "911126   911125 chr1_100260062_100260563 chr1_100265864_100266365 0.03136769\n",
       "1181823 1181822 chr1_100252517_100253018 chr1_100265864_100266365 0.02431795\n",
       "1183659 1183658 chr1_100260782_100261283 chr1_100265864_100266365 0.02428062\n",
       "1186978 1186977 chr1_100250466_100250967 chr1_100265864_100266365 0.02420922\n",
       "        pval_adj     pval        \n",
       "461348  0.000000e+00 0.000000e+00\n",
       "911126  5.853009e-06 2.464141e-07\n",
       "1181823 9.749792e-04 5.324216e-05\n",
       "1183659 9.981838e-04 5.459402e-05\n",
       "1186978 1.044185e-03 5.727011e-05"
      ]
     },
     "metadata": {},
     "output_type": "display_data"
    }
   ],
   "source": [
    "df2[df2$Peak2 ==\"chr1_100265864_100266365\",]"
   ]
  },
  {
   "cell_type": "code",
   "execution_count": 79,
   "id": "c11136de",
   "metadata": {
    "vscode": {
     "languageId": "r"
    }
   },
   "outputs": [
    {
     "data": {
      "text/html": [
       "<table class=\"dataframe\">\n",
       "<caption>A data.frame: 6 × 3</caption>\n",
       "<thead>\n",
       "\t<tr><th></th><th scope=col>X</th><th scope=col>Peak</th><th scope=col>CCAN</th></tr>\n",
       "\t<tr><th></th><th scope=col>&lt;int&gt;</th><th scope=col>&lt;chr&gt;</th><th scope=col>&lt;int&gt;</th></tr>\n",
       "</thead>\n",
       "<tbody>\n",
       "\t<tr><th scope=row>65477</th><td>65476</td><td>chr1_100260062_100260563</td><td> 9431</td></tr>\n",
       "\t<tr><th scope=row>65523</th><td>65522</td><td>chr1_100262895_100263396</td><td> 9431</td></tr>\n",
       "\t<tr><th scope=row>79482</th><td>79481</td><td>chr1_100265864_100266365</td><td>13769</td></tr>\n",
       "\t<tr><th scope=row>65555</th><td>65554</td><td>chr1_100270792_100271293</td><td> 9431</td></tr>\n",
       "\t<tr><th scope=row>65471</th><td>65470</td><td>chr1_100289493_100289994</td><td> 9431</td></tr>\n",
       "\t<tr><th scope=row>65636</th><td>65635</td><td>chr1_100290689_100291190</td><td> 9431</td></tr>\n",
       "</tbody>\n",
       "</table>\n"
      ],
      "text/latex": [
       "A data.frame: 6 × 3\n",
       "\\begin{tabular}{r|lll}\n",
       "  & X & Peak & CCAN\\\\\n",
       "  & <int> & <chr> & <int>\\\\\n",
       "\\hline\n",
       "\t65477 & 65476 & chr1\\_100260062\\_100260563 &  9431\\\\\n",
       "\t65523 & 65522 & chr1\\_100262895\\_100263396 &  9431\\\\\n",
       "\t79482 & 79481 & chr1\\_100265864\\_100266365 & 13769\\\\\n",
       "\t65555 & 65554 & chr1\\_100270792\\_100271293 &  9431\\\\\n",
       "\t65471 & 65470 & chr1\\_100289493\\_100289994 &  9431\\\\\n",
       "\t65636 & 65635 & chr1\\_100290689\\_100291190 &  9431\\\\\n",
       "\\end{tabular}\n"
      ],
      "text/markdown": [
       "\n",
       "A data.frame: 6 × 3\n",
       "\n",
       "| <!--/--> | X &lt;int&gt; | Peak &lt;chr&gt; | CCAN &lt;int&gt; |\n",
       "|---|---|---|---|\n",
       "| 65477 | 65476 | chr1_100260062_100260563 |  9431 |\n",
       "| 65523 | 65522 | chr1_100262895_100263396 |  9431 |\n",
       "| 79482 | 79481 | chr1_100265864_100266365 | 13769 |\n",
       "| 65555 | 65554 | chr1_100270792_100271293 |  9431 |\n",
       "| 65471 | 65470 | chr1_100289493_100289994 |  9431 |\n",
       "| 65636 | 65635 | chr1_100290689_100291190 |  9431 |\n",
       "\n"
      ],
      "text/plain": [
       "      X     Peak                     CCAN \n",
       "65477 65476 chr1_100260062_100260563  9431\n",
       "65523 65522 chr1_100262895_100263396  9431\n",
       "79482 79481 chr1_100265864_100266365 13769\n",
       "65555 65554 chr1_100270792_100271293  9431\n",
       "65471 65470 chr1_100289493_100289994  9431\n",
       "65636 65635 chr1_100290689_100291190  9431"
      ]
     },
     "metadata": {},
     "output_type": "display_data"
    }
   ],
   "source": [
    "head(ccan1)"
   ]
  },
  {
   "cell_type": "code",
   "execution_count": 77,
   "id": "73493a25",
   "metadata": {
    "vscode": {
     "languageId": "r"
    }
   },
   "outputs": [
    {
     "data": {
      "text/html": [
       "<table class=\"dataframe\">\n",
       "<caption>A data.frame: 6 × 3</caption>\n",
       "<thead>\n",
       "\t<tr><th></th><th scope=col>X</th><th scope=col>Peak</th><th scope=col>CCAN</th></tr>\n",
       "\t<tr><th></th><th scope=col>&lt;int&gt;</th><th scope=col>&lt;chr&gt;</th><th scope=col>&lt;int&gt;</th></tr>\n",
       "</thead>\n",
       "<tbody>\n",
       "\t<tr><th scope=row>4724</th><td> 4723</td><td>chr1_100262895_100263396</td><td> 360</td></tr>\n",
       "\t<tr><th scope=row>24213</th><td>24212</td><td>chr1_100270041_100270542</td><td>2291</td></tr>\n",
       "\t<tr><th scope=row>24216</th><td>24215</td><td>chr1_100276979_100277480</td><td>2291</td></tr>\n",
       "\t<tr><th scope=row>54082</th><td>54081</td><td>chr1_100299166_100299667</td><td>6717</td></tr>\n",
       "\t<tr><th scope=row>54081</th><td>54080</td><td>chr1_100302825_100303326</td><td>6717</td></tr>\n",
       "\t<tr><th scope=row>54077</th><td>54076</td><td>chr1_100303345_100303846</td><td>6717</td></tr>\n",
       "</tbody>\n",
       "</table>\n"
      ],
      "text/latex": [
       "A data.frame: 6 × 3\n",
       "\\begin{tabular}{r|lll}\n",
       "  & X & Peak & CCAN\\\\\n",
       "  & <int> & <chr> & <int>\\\\\n",
       "\\hline\n",
       "\t4724 &  4723 & chr1\\_100262895\\_100263396 &  360\\\\\n",
       "\t24213 & 24212 & chr1\\_100270041\\_100270542 & 2291\\\\\n",
       "\t24216 & 24215 & chr1\\_100276979\\_100277480 & 2291\\\\\n",
       "\t54082 & 54081 & chr1\\_100299166\\_100299667 & 6717\\\\\n",
       "\t54081 & 54080 & chr1\\_100302825\\_100303326 & 6717\\\\\n",
       "\t54077 & 54076 & chr1\\_100303345\\_100303846 & 6717\\\\\n",
       "\\end{tabular}\n"
      ],
      "text/markdown": [
       "\n",
       "A data.frame: 6 × 3\n",
       "\n",
       "| <!--/--> | X &lt;int&gt; | Peak &lt;chr&gt; | CCAN &lt;int&gt; |\n",
       "|---|---|---|---|\n",
       "| 4724 |  4723 | chr1_100262895_100263396 |  360 |\n",
       "| 24213 | 24212 | chr1_100270041_100270542 | 2291 |\n",
       "| 24216 | 24215 | chr1_100276979_100277480 | 2291 |\n",
       "| 54082 | 54081 | chr1_100299166_100299667 | 6717 |\n",
       "| 54081 | 54080 | chr1_100302825_100303326 | 6717 |\n",
       "| 54077 | 54076 | chr1_100303345_100303846 | 6717 |\n",
       "\n"
      ],
      "text/plain": [
       "      X     Peak                     CCAN\n",
       "4724   4723 chr1_100262895_100263396  360\n",
       "24213 24212 chr1_100270041_100270542 2291\n",
       "24216 24215 chr1_100276979_100277480 2291\n",
       "54082 54081 chr1_100299166_100299667 6717\n",
       "54081 54080 chr1_100302825_100303326 6717\n",
       "54077 54076 chr1_100303345_100303846 6717"
      ]
     },
     "metadata": {},
     "output_type": "display_data"
    }
   ],
   "source": [
    "head(ccan2)"
   ]
  },
  {
   "cell_type": "code",
   "execution_count": 7,
   "id": "8a6c52f3",
   "metadata": {
    "vscode": {
     "languageId": "r"
    }
   },
   "outputs": [],
   "source": [
    "# filter the row by pval adj < 0.05\n",
    "df1 <- df1[df1$pval_adj < 0.05, ]\n",
    "df2 <- df2[df2$pval_adj < 0.05, ]"
   ]
  },
  {
   "cell_type": "code",
   "execution_count": 17,
   "id": "38d4586a",
   "metadata": {
    "vscode": {
     "languageId": "r"
    }
   },
   "outputs": [],
   "source": [
    "all_peaks <- union(union(df1$Peak1, df1$Peak2), union(df2$Peak1, df2$Peak2))"
   ]
  },
  {
   "cell_type": "code",
   "execution_count": 25,
   "id": "287e4538",
   "metadata": {
    "vscode": {
     "languageId": "r"
    }
   },
   "outputs": [],
   "source": [
    "# calculate size of difference betwwen peaks in df1 and all_peaks\n",
    "onlyn_df1 <- setdiff(all_peaks, union(df1$Peak1, df1$Peak2))\n",
    "onlyn_df2 <- setdiff(all_peaks, union(df2$Peak1, df2$Peak2))"
   ]
  },
  {
   "cell_type": "code",
   "execution_count": 38,
   "id": "882eb13a",
   "metadata": {
    "vscode": {
     "languageId": "r"
    }
   },
   "outputs": [],
   "source": [
    "df1append <- data.frame(X=0, Peak1 = onlyn_df1, Peak2 = df1$Peak2[1], score =0, pval_adj = 1,pval=1)\n",
    "df2append <- data.frame(X=0,Peak1 = onlyn_df2, Peak2 = df2$Peak2[1], score =0, pval_adj = 1,pval=1)"
   ]
  },
  {
   "cell_type": "code",
   "execution_count": 41,
   "id": "b6eba4c5",
   "metadata": {
    "vscode": {
     "languageId": "r"
    }
   },
   "outputs": [],
   "source": [
    "df1a <- rbind(df1, df1append)\n",
    "df2a <- rbind(df2, df2append)"
   ]
  },
  {
   "cell_type": "code",
   "execution_count": 51,
   "id": "861626e5",
   "metadata": {
    "vscode": {
     "languageId": "r"
    }
   },
   "outputs": [],
   "source": [
    "g1 <- graph_from_data_frame(df1a[, c(\"Peak1\", \"Peak2\", \"score\")], directed = FALSE)\n",
    "g2 <- graph_from_data_frame(df2a[, c(\"Peak1\", \"Peak2\", \"score\")], directed = FALSE)\n"
   ]
  },
  {
   "cell_type": "code",
   "execution_count": 52,
   "id": "1e11bdc1",
   "metadata": {
    "vscode": {
     "languageId": "r"
    }
   },
   "outputs": [],
   "source": [
    "node_community1 <- setNames(ccan1$CCAN, ccan1$Peak)\n",
    "node_community2 <- setNames(ccan2$CCAN, ccan2$Peak)"
   ]
  },
  {
   "cell_type": "code",
   "execution_count": 53,
   "id": "2f4021d5",
   "metadata": {
    "vscode": {
     "languageId": "r"
    }
   },
   "outputs": [],
   "source": [
    "V(g1)$community <- node_community1[V(g1)$name]  # NA for unmatched nodes\n",
    "V(g2)$community <- node_community2[V(g2)$name]  # NA for unmatched nodes"
   ]
  },
  {
   "cell_type": "code",
   "execution_count": 54,
   "id": "ba0af3fc",
   "metadata": {
    "vscode": {
     "languageId": "r"
    }
   },
   "outputs": [],
   "source": [
    "ed1<-edge_density(g1)  # 网络1的边密度"
   ]
  },
  {
   "cell_type": "code",
   "execution_count": 55,
   "id": "4d975ef1",
   "metadata": {
    "vscode": {
     "languageId": "r"
    }
   },
   "outputs": [],
   "source": [
    "ed2<-edge_density(g2)  # 网络2的边密度"
   ]
  },
  {
   "cell_type": "code",
   "execution_count": 56,
   "id": "d8ea1cb2",
   "metadata": {
    "vscode": {
     "languageId": "r"
    }
   },
   "outputs": [],
   "source": [
    "adj1 <- as_adjacency_matrix(g1,attr = \"score\") # 提取加权邻接矩阵\n",
    "adj2 <- as_adjacency_matrix(g2,attr = \"score\") # 提取加权邻接矩阵"
   ]
  },
  {
   "cell_type": "code",
   "execution_count": 57,
   "id": "44593f89",
   "metadata": {
    "vscode": {
     "languageId": "r"
    }
   },
   "outputs": [
    {
     "data": {
      "text/html": [
       "<style>\n",
       ".list-inline {list-style: none; margin:0; padding: 0}\n",
       ".list-inline>li {display: inline-block}\n",
       ".list-inline>li:not(:last-child)::after {content: \"\\00b7\"; padding: 0 .5ex}\n",
       "</style>\n",
       "<ol class=list-inline><li>237613</li><li>237613</li></ol>\n"
      ],
      "text/latex": [
       "\\begin{enumerate*}\n",
       "\\item 237613\n",
       "\\item 237613\n",
       "\\end{enumerate*}\n"
      ],
      "text/markdown": [
       "1. 237613\n",
       "2. 237613\n",
       "\n",
       "\n"
      ],
      "text/plain": [
       "[1] 237613 237613"
      ]
     },
     "metadata": {},
     "output_type": "display_data"
    }
   ],
   "source": [
    "dim(adj1)  # 确认矩阵维度"
   ]
  },
  {
   "cell_type": "code",
   "execution_count": 60,
   "id": "3c40ef8b",
   "metadata": {
    "vscode": {
     "languageId": "r"
    }
   },
   "outputs": [
    {
     "data": {
      "text/html": [
       "237613"
      ],
      "text/latex": [
       "237613"
      ],
      "text/markdown": [
       "237613"
      ],
      "text/plain": [
       "[1] 237613"
      ]
     },
     "metadata": {},
     "output_type": "display_data"
    }
   ],
   "source": [
    "ncol(adj1)  # 确认矩阵维度"
   ]
  },
  {
   "cell_type": "code",
   "execution_count": 59,
   "id": "f634c8c8",
   "metadata": {
    "vscode": {
     "languageId": "r"
    }
   },
   "outputs": [
    {
     "name": "stdout",
     "output_type": "stream",
     "text": [
      "  |                                                                      |   0%"
     ]
    },
    {
     "name": "stderr",
     "output_type": "stream",
     "text": [
      "Warning message in matrix(0, it, nedges):\n",
      "“NAs introduced by coercion to integer range”\n"
     ]
    },
    {
     "ename": "ERROR",
     "evalue": "Error in matrix(0, it, nedges): invalid 'ncol' value (too large or NA)\n",
     "output_type": "error",
     "traceback": [
      "Error in matrix(0, it, nedges): invalid 'ncol' value (too large or NA)\nTraceback:\n",
      "1. NCT(adj1, adj2)",
      "2. matrix(0, it, nedges)"
     ]
    }
   ],
   "source": [
    "result_global <- NCT(adj1, adj2)\n"
   ]
  }
 ],
 "metadata": {
  "kernelspec": {
   "display_name": "R",
   "language": "R",
   "name": "ir"
  },
  "language_info": {
   "codemirror_mode": "r",
   "file_extension": ".r",
   "mimetype": "text/x-r-source",
   "name": "R",
   "pygments_lexer": "r",
   "version": "4.3.1"
  }
 },
 "nbformat": 4,
 "nbformat_minor": 5
}
