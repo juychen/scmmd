{
 "cells": [
  {
   "cell_type": "code",
   "execution_count": 1,
   "id": "11303241",
   "metadata": {},
   "outputs": [],
   "source": [
    "import scanpy as sc\n",
    "import pycisTopic\n",
    "from pycisTopic.cistopic_class import *\n",
    "import pickle\n",
    "import os\n",
    "import pickle\n"
   ]
  },
  {
   "cell_type": "code",
   "execution_count": 2,
   "id": "43aa31de",
   "metadata": {},
   "outputs": [],
   "source": [
    "ctname = 'AMY_NN'\n",
    "cellltype = 'AMY_NN'\n",
    "\n",
    "refine_map = {'VLMC-1': 'VLMC',\n",
    "'VLMC-2': 'VLMC',\n",
    "'VLMC-3': 'VLMC',\n",
    "'Endothelial cell-1': 'Endothelial cell',\n",
    "'Endothelial cell-2': 'Endothelial cell',\n",
    "'Endothelial cell-3': 'Endothelial cell',\n",
    "'Tanycyte': 'OPC-1',\n",
    "'Astrocyte-3': 'Astrocyte-2',\n",
    "'Astrocyte-5': 'Astrocyte-2',\n",
    "'Astrocyte-7': 'Astrocyte-2',\n",
    "'Microglia-5': 'Microglia-2',\n",
    "'MOL-3': 'MOL-1'}\n"
   ]
  },
  {
   "cell_type": "code",
   "execution_count": 3,
   "id": "81a48e18",
   "metadata": {},
   "outputs": [],
   "source": [
    "if not os.path.exists(f'/data2st1/junyi/output/atac0627/{cellltype}_sc.h5ad'): \n",
    "    refine_map = {'VLMC-1': 'VLMC',\n",
    "    'VLMC-2': 'VLMC',\n",
    "    'VLMC-3': 'VLMC',\n",
    "    'Endothelial cell-1': 'Endothelial cell',\n",
    "    'Endothelial cell-2': 'Endothelial cell',\n",
    "    'Endothelial cell-3': 'Endothelial cell',\n",
    "    'Tanycyte': 'OPC-1',\n",
    "    'Astrocyte-3': 'Astrocyte-2',\n",
    "    'Astrocyte-5': 'Astrocyte-2',\n",
    "    'Astrocyte-7': 'Astrocyte-2',\n",
    "    'Microglia-5': 'Microglia-2',\n",
    "    'MOL-3': 'MOL-1'}\n",
    "    adata_sc = sc.read_h5ad(\"/data1st1/sch/20250626/anndata_before_intergration_anno.h5ad\")\n",
    "\n",
    "    celltypes = ['NN']\n",
    "    regions = ['AMY', 'HPF', 'PFC']\n",
    "\n",
    "    for region in regions:\n",
    "        for celltype in celltypes:\n",
    "            if celltype == 'NN':\n",
    "                adata_sc_region_neuron  = adata_sc[\n",
    "                    ((adata_sc.obs.region == region) & (adata_sc.obs.sex.isin(['M']))) \n",
    "                    & (~adata_sc.obs.Neurotransmitter_celltype.isin(['GABAergic', 'Glutamatergic']))\n",
    "                    ]\n",
    "\n",
    "                adata_sc_region_neuron.write_h5ad(f\"/data2st1/junyi/output/atac0627/{region}_{celltype}_sc.h5ad\")\n",
    "            elif celltype == 'GABAergic':\n",
    "                adata_sc_region_neuron = adata_sc[\n",
    "                    ((adata_sc.obs.region == region) & (adata_sc.obs.sex.isin(['M']))) \n",
    "                    & (adata_sc.obs.Neurotransmitter_celltype == 'GABAergic')\n",
    "                    ]\n",
    "                adata_sc_region_neuron.write_h5ad(f\"/data2st1/junyi/output/atac0627/{region}_{region}_GABA_sc.h5ad\")\n",
    "            elif celltype == 'Glutamatergic':\n",
    "                adata_sc_region_neuron  = adata_sc[\n",
    "                    ((adata_sc.obs.region == region) & (adata_sc.obs.sex.isin(['M']))) \n",
    "                    & (adata_sc.obs.Neurotransmitter_celltype == 'Glutamatergic')\n",
    "                    ]\n",
    "                adata_sc_region_neuron.write_h5ad(f\"/data2st1/junyi/output/atac0627/{region}_{region}_Glut_sc.h5ad\")"
   ]
  },
  {
   "cell_type": "code",
   "execution_count": 4,
   "id": "02e37274",
   "metadata": {},
   "outputs": [],
   "source": [
    "# Process the anndata object of \n",
    "def pre_process_anndata(input_file, output_file):\n",
    "    # Filter cells based on quality control metrics\n",
    "    adata_sc = sc.read_h5ad(input_file)\n",
    "    adata_sc.layers['counts']\n",
    "    adata_sc_raw = adata_sc.copy()\n",
    "    adata_sc_raw.X = adata_sc.layers['counts'].copy()\n",
    "    adata_sc.raw = adata_sc_raw\n",
    "    adata_sc.obs['region'] = adata_sc.obs['region'].cat.rename_categories({'HPF':'HIP'})\n",
    "    adata_sc.obs['condition'] = (\"M\"+adata_sc.obs['status'].astype(str)).astype('category')\n",
    "    adata_sc.obs['GEX:condition'] = adata_sc.obs['condition'].astype('category')\n",
    "    adata_sc.obs['GEX:celltype.L2']= adata_sc.obs['celltype.L2'].replace(refine_map).astype('category')\n",
    "    adata_sc.obs['GEX:celltype.L2.condition'] = adata_sc.obs['GEX:celltype.L2'].astype('str').str.replace(' ','_').str.replace('/','-') + '_' + adata_sc.obs['condition'].astype('str')\n",
    "    adata_sc.obs['GEX:celltype.L2.condition'] = adata_sc.obs['GEX:celltype.L2.condition'].astype('category')\n",
    "    adata_sc.obs['celltype.L2.condition'] = adata_sc.obs['GEX:celltype.L2.condition']\n",
    "\n",
    "    adata_sc.write_h5ad(\n",
    "        output_file\n",
    "    )\n",
    "    return adata_sc"
   ]
  },
  {
   "cell_type": "code",
   "execution_count": 5,
   "id": "1edf9510",
   "metadata": {},
   "outputs": [],
   "source": [
    "\n",
    "# if not os.path.exists(f'/data1st2/junyi/output/atac0627/subset/region_nt/{cellltype}_sc.h5ad'):\n",
    "# for region in ['AMY', 'HIP', 'PFC']:\n",
    "#     for nt in ['GABA', 'Glut', 'NN']:\n",
    "#         ctname = f'{region}_{nt}'\n",
    "#         if nt == 'NN':\n",
    "#             cellltype = f'{region}_{nt}'\n",
    "#         else:\n",
    "#             cellltype = f'{region}_{region}_{nt}'\n",
    "#         adata_sc = pre_process_anndata(\n",
    "#             input_file=f'/data2st1/junyi/output/atac0627/{cellltype}_sc.h5ad',\n",
    "#             output_file=f'/data1st2/junyi/output/atac0627/subset/region_nt/{cellltype}_sc.h5ad'\n",
    "#         )   \n",
    "\n",
    "#         pycis_topic_obj = pickle.load(\n",
    "#             open(f\"/data1st2/junyi/output/atac0627/cistopic/cistopic_{cellltype}.pkl\", \"rb\")\n",
    "#         )\n",
    "#         pycis_topic_obj.cell_data['ACC:celltype.L2.condition'] = pycis_topic_obj.cell_data['ACC:celltype.L2.condtion'].astype('category')\n",
    "#         pycis_topic_obj.cell_data['celltype.L2.condition'] = pycis_topic_obj.cell_data['ACC:celltype.L2.condtion'].astype('category')\n",
    "#         pickle.dump(\n",
    "#             pycis_topic_obj,\n",
    "#             open(os.path.join('/data1st2/junyi/output/atac0627/cistopic', f\"cistopic_{cellltype}.pkl\"), \"wb\")\n",
    "#         )\n"
   ]
  },
  {
   "cell_type": "code",
   "execution_count": 6,
   "id": "af76a00a",
   "metadata": {},
   "outputs": [],
   "source": [
    "if not os.path.exists(f'/data1st2/junyi/output/atac0627/subset/region_nt/{cellltype}_sc.h5ad'):\n",
    "    adata_sc = pre_process_anndata(\n",
    "        input_file=f'/data2st1/junyi/output/atac0627/{cellltype}_sc.h5ad',\n",
    "        output_file=f'/data1st2/junyi/output/atac0627/subset/region_nt/{cellltype}_sc.h5ad'\n",
    "    )\n",
    "# pycis_topic_obj = pickle.load(\n",
    "#     open(f\"/data1st2/junyi/output/atac0627/cistopic/cistopic_{cellltype}.pkl\", \"rb\")\n",
    "# )\n",
    "# pycis_topic_obj.cell_data['ACC:celltype.L2.condition'] = pycis_topic_obj.cell_data['ACC:celltype.L2.condtion'].astype('category')\n",
    "# pycis_topic_obj.cell_data['celltype.L2.condition'] = pycis_topic_obj.cell_data['ACC:celltype.L2.condtion'].astype('category')\n",
    "# pickle.dump(\n",
    "#     pycis_topic_obj,\n",
    "#     open(os.path.join('/data1st2/junyi/output/atac0627/cistopic', f\"cistopic_{cellltype}.pkl\"), \"wb\")\n",
    "# )\n",
    "else:\n",
    "    adata_sc = sc.read_h5ad(f'/data1st2/junyi/output/atac0627/subset/region_nt/{cellltype}_sc.h5ad')\n"
   ]
  },
  {
   "cell_type": "code",
   "execution_count": 7,
   "id": "87370650",
   "metadata": {},
   "outputs": [],
   "source": [
    "# find celltypes condiction counts smaller than 10\n",
    "sc_small_ct = adata_sc.obs['celltype.L2.condition'].value_counts()[adata_sc.obs['celltype.L2.condition'].value_counts() < 10]"
   ]
  },
  {
   "cell_type": "code",
   "execution_count": 8,
   "id": "52901efe",
   "metadata": {},
   "outputs": [],
   "source": [
    "\n",
    "models = pickle.load(\n",
    "    open(f\"/data1st2/junyi/output/atac0627/cistopic/cistopic_{cellltype}_models.pkl\", \"rb\")\n",
    ")"
   ]
  },
  {
   "cell_type": "code",
   "execution_count": 10,
   "id": "aef24e2e",
   "metadata": {},
   "outputs": [
    {
     "data": {
      "image/png": "[encoded data removed]",
      "text/plain": [
       "<Figure size 640x480 with 1 Axes>"
      ]
     },
     "metadata": {},
     "output_type": "display_data"
    }
   ],
   "source": [
    "from pycisTopic.lda_models import evaluate_models\n",
    "model = evaluate_models(\n",
    "    models,\n",
    "    min_topics_coh=0,\n",
    "    select_model = 50,\n",
    "    return_model = True\n",
    ")\n"
   ]
  },
  {
   "cell_type": "code",
   "execution_count": 11,
   "id": "d8a3bd49",
   "metadata": {},
   "outputs": [],
   "source": [
    "pycis_topic_obj = pickle.load(\n",
    "    open(f\"/data1st2/junyi/output/atac0627/cistopic/cistopic_{cellltype}.pkl\", \"rb\")\n",
    ")"
   ]
  },
  {
   "cell_type": "code",
   "execution_count": 12,
   "id": "06e99151",
   "metadata": {},
   "outputs": [],
   "source": [
    "pycis_topic_obj.cell_data['ACC:celltype.L2.condition'] = pycis_topic_obj.cell_data['ACC:celltype.L2.condtion'].astype('category')\n",
    "pycis_topic_obj.cell_data['celltype.L2.condition'] = pycis_topic_obj.cell_data['ACC:celltype.L2.condtion'].astype('category')"
   ]
  },
  {
   "cell_type": "code",
   "execution_count": 13,
   "id": "d9bf321c",
   "metadata": {},
   "outputs": [
    {
     "data": {
      "text/plain": [
       "['Microglia-3_MC', 'Microglia-2_MC', 'OPC-1_MC', 'Astrocyte-1_MC', 'Astrocyte-2_MC', ..., 'Ependymal_cell_MW', 'Lymphocyte_MW', 'Arachnoid_Barrier_cell_MW', 'NFOL_MW', 'Astrocyte-6_MW']\n",
       "Length: 43\n",
       "Categories (43, object): ['Arachnoid_Barrier_cell_MC', 'Arachnoid_Barrier_cell_MW', 'Astrocyte-1_MC', 'Astrocyte-1_MW', ..., 'Perivascular_Macrophage_MC', 'Perivascular_Macrophage_MW', 'VLMC_MC', 'VLMC_MW']"
      ]
     },
     "execution_count": 13,
     "metadata": {},
     "output_type": "execute_result"
    }
   ],
   "source": [
    "pycis_topic_obj.cell_data['celltype.L2.condition'].unique()"
   ]
  },
  {
   "cell_type": "code",
   "execution_count": 14,
   "id": "93717441",
   "metadata": {},
   "outputs": [],
   "source": [
    "# find celltypes condiction counts smaller than 10\n",
    "atac_small_ct= pycis_topic_obj.cell_data['celltype.L2.condition'].value_counts()[pycis_topic_obj.cell_data['celltype.L2.condition'].value_counts() < 10]"
   ]
  },
  {
   "cell_type": "code",
   "execution_count": 15,
   "id": "f38ac719",
   "metadata": {},
   "outputs": [],
   "source": [
    "small_union =(sc_small_ct + atac_small_ct).index.tolist()\n",
    "small_union_l2 = [ \"_\".join(item.split(\"_\")[:-1]) for item in small_union]\n",
    "small_union_l2 = list(set(small_union_l2))"
   ]
  },
  {
   "cell_type": "code",
   "execution_count": 16,
   "id": "ee997033",
   "metadata": {},
   "outputs": [
    {
     "data": {
      "text/plain": [
       "['NFOL',\n",
       " 'VSMC',\n",
       " 'Lymphocyte',\n",
       " 'Arachnoid_Barrier_cell',\n",
       " 'Choroid_plexus_cell',\n",
       " 'Microglia-7',\n",
       " 'Astrocyte-6']"
      ]
     },
     "execution_count": 16,
     "metadata": {},
     "output_type": "execute_result"
    }
   ],
   "source": [
    "small_union_l2"
   ]
  },
  {
   "cell_type": "code",
   "execution_count": 17,
   "id": "780c22f4",
   "metadata": {},
   "outputs": [],
   "source": [
    "atac_tokeep = pycis_topic_obj.cell_data[~pycis_topic_obj.cell_data['ACC:celltype.L2'].isin(small_union_l2)].index"
   ]
  },
  {
   "cell_type": "code",
   "execution_count": 18,
   "id": "b0f08458",
   "metadata": {},
   "outputs": [],
   "source": [
    "subset_obj = pycis_topic_obj.subset(cells=atac_tokeep, copy=True)"
   ]
  },
  {
   "cell_type": "code",
   "execution_count": 19,
   "id": "05f8bb13",
   "metadata": {},
   "outputs": [],
   "source": [
    "subset_obj.add_LDA_model(model)"
   ]
  },
  {
   "cell_type": "code",
   "execution_count": 20,
   "id": "86042329",
   "metadata": {},
   "outputs": [],
   "source": [
    "subset_obj.cell_data['celltype.L2.condition'] = subset_obj.cell_data['ACC:celltype.L2.condition'].astype('str').astype('category')"
   ]
  },
  {
   "cell_type": "code",
   "execution_count": 22,
   "id": "8f0dbef8",
   "metadata": {},
   "outputs": [],
   "source": [
    "adata_sc.obs['GEX:celltype.L2'] = adata_sc.obs['GEX:celltype.L2'].str.replace(' ', '_').str.replace('/', '-')\n",
    "adata_sc_subset = adata_sc[~adata_sc.obs['GEX:celltype.L2'].isin(small_union_l2)].copy()"
   ]
  },
  {
   "cell_type": "code",
   "execution_count": 23,
   "id": "2994d916",
   "metadata": {},
   "outputs": [],
   "source": [
    "adata_sc_subset.obs['celltype.L2.condition'] = adata_sc_subset.obs['celltype.L2.condition'].astype('str').astype('category')"
   ]
  },
  {
   "cell_type": "code",
   "execution_count": 24,
   "id": "9ec3343b",
   "metadata": {},
   "outputs": [
    {
     "data": {
      "text/plain": [
       "OPC-1_MW                      1113\n",
       "Astrocyte-2_MW                 995\n",
       "MOL-1_MW                       918\n",
       "OPC-1_MC                       903\n",
       "Astrocyte-2_MC                 719\n",
       "Microglia-2_MW                 690\n",
       "Microglia-2_MC                 637\n",
       "MOL-1_MC                       527\n",
       "Astrocyte-1_MW                 517\n",
       "Microglia-3_MW                 353\n",
       "MOL-2_MW                       317\n",
       "Astrocyte-1_MC                 311\n",
       "Microglia-3_MC                 259\n",
       "MOL-2_MC                       248\n",
       "MOL-4_MW                       139\n",
       "Microglia-4_MW                 131\n",
       "VLMC_MW                        125\n",
       "MOL-4_MC                       117\n",
       "VLMC_MC                         96\n",
       "Astrocyte-4_MW                  93\n",
       "MFOL_MC                         81\n",
       "MFOL_MW                         81\n",
       "Microglia-4_MC                  75\n",
       "Astrocyte-4_MC                  62\n",
       "COP_MW                          57\n",
       "Endothelial_cell_MW             44\n",
       "COP_MC                          43\n",
       "Pericyte_MW                     37\n",
       "Perivascular_Macrophage_MW      33\n",
       "Endothelial_cell_MC             28\n",
       "Microglia-1_MW                  27\n",
       "Microglia-1_MC                  27\n",
       "Perivascular_Macrophage_MC      23\n",
       "Pericyte_MC                     21\n",
       "Ependymal_cell_MC               16\n",
       "Ependymal_cell_MW               16\n",
       "Name: celltype.L2.condition, dtype: int64"
      ]
     },
     "execution_count": 24,
     "metadata": {},
     "output_type": "execute_result"
    }
   ],
   "source": [
    "subset_obj.cell_data['celltype.L2.condition'].value_counts()"
   ]
  },
  {
   "cell_type": "code",
   "execution_count": 25,
   "id": "ea935306",
   "metadata": {},
   "outputs": [],
   "source": [
    "pickle.dump(\n",
    "    subset_obj,\n",
    "    open(os.path.join('/data1st2/junyi/output/atac0627/cistopic', f\"cistopic_{cellltype}_subset.pkl\"), \"wb\")\n",
    ")\n"
   ]
  },
  {
   "cell_type": "code",
   "execution_count": 26,
   "id": "48a42c34",
   "metadata": {},
   "outputs": [
    {
     "name": "stderr",
     "output_type": "stream",
     "text": [
      "... storing 'GEX:celltype.L2' as categorical\n"
     ]
    }
   ],
   "source": [
    "adata_sc_subset.write_h5ad(\n",
    "    f'/data1st2/junyi/output/atac0627/subset/region_nt/{cellltype}_sc_subset.h5ad'\n",
    ")"
   ]
  },
  {
   "cell_type": "code",
   "execution_count": null,
   "id": "0d62ec75",
   "metadata": {},
   "outputs": [],
   "source": [
    "# pycis_topic_obj.add_LDA_model(model)"
   ]
  },
  {
   "cell_type": "code",
   "execution_count": null,
   "id": "b03e137a",
   "metadata": {},
   "outputs": [],
   "source": [
    "# pickle.dump(\n",
    "#     pycis_topic_obj,\n",
    "#     open(os.path.join('/data1st2/junyi/output/atac0627/cistopic', f\"cistopic_{cellltype}.pkl\"), \"wb\")\n",
    "# )\n"
   ]
  },
  {
   "cell_type": "code",
   "execution_count": null,
   "id": "b4b48394",
   "metadata": {},
   "outputs": [],
   "source": [
    "pycis_topic_obj = subset_obj"
   ]
  },
  {
   "cell_type": "code",
   "execution_count": null,
   "id": "86d0334d",
   "metadata": {},
   "outputs": [],
   "source": [
    "from pycisTopic.clust_vis import (\n",
    "    find_clusters,\n",
    "    run_umap,\n",
    "    run_tsne,\n",
    "    plot_metadata,\n",
    "    plot_topic,\n",
    "    cell_topic_heatmap\n",
    ")"
   ]
  },
  {
   "cell_type": "code",
   "execution_count": null,
   "id": "498b05dd",
   "metadata": {},
   "outputs": [],
   "source": [
    "# find_clusters(\n",
    "#     pycis_topic_obj,\n",
    "#     target  = 'cell',\n",
    "#     k = 10,\n",
    "#     res = [0.6, 1.2, 3],\n",
    "#     prefix = 'pycisTopic_',\n",
    "#     scale = True,\n",
    "#     split_pattern = '-'\n",
    "# )\n"
   ]
  },
  {
   "cell_type": "code",
   "execution_count": null,
   "id": "cded25ad",
   "metadata": {},
   "outputs": [],
   "source": [
    "# run_umap(\n",
    "#     pycis_topic_obj,\n",
    "#     target  = 'cell', scale=True)\n"
   ]
  },
  {
   "cell_type": "code",
   "execution_count": null,
   "id": "786cc570",
   "metadata": {},
   "outputs": [],
   "source": [
    "# plot_metadata(\n",
    "#     pycis_topic_obj,\n",
    "#     reduction_name='UMAP',\n",
    "#     variables=['celltype.L2'],\n",
    "#     target='cell', num_columns=1,\n",
    "#     text_size=10,\n",
    "#     dot_size=5)\n"
   ]
  },
  {
   "cell_type": "code",
   "execution_count": null,
   "id": "d2f74a01",
   "metadata": {},
   "outputs": [],
   "source": [
    "# annot_dict = {}\n",
    "# for resolution in [0.6, 1.2, 3]:\n",
    "#     annot_dict[f\"pycisTopic_leiden_10_{resolution}\"] = {}\n",
    "#     for cluster in set(pycis_topic_obj.cell_data[f\"pycisTopic_leiden_10_{resolution}\"]):\n",
    "#         counts = pycis_topic_obj.cell_data.loc[\n",
    "#             pycis_topic_obj.cell_data.loc[pycis_topic_obj.cell_data[f\"pycisTopic_leiden_10_{resolution}\"] == cluster].index,\n",
    "#             \"celltype.L2\"].value_counts()\n",
    "#         annot_dict[f\"pycisTopic_leiden_10_{resolution}\"][cluster] = f\"{counts.index[counts.argmax()]}({cluster})\"\n"
   ]
  },
  {
   "cell_type": "code",
   "execution_count": null,
   "id": "7dd86cb1",
   "metadata": {},
   "outputs": [],
   "source": [
    "# for resolution in [0.6, 1.2, 3]:\n",
    "#     pycis_topic_obj.cell_data[f'pycisTopic_leiden_10_{resolution}'] = [\n",
    "#         annot_dict[f'pycisTopic_leiden_10_{resolution}'][x] for x in pycis_topic_obj.cell_data[f'pycisTopic_leiden_10_{resolution}'].tolist()\n",
    "#     ]\n"
   ]
  },
  {
   "cell_type": "code",
   "execution_count": null,
   "id": "828ea659",
   "metadata": {},
   "outputs": [],
   "source": [
    "# plot_metadata(\n",
    "#     pycis_topic_obj,\n",
    "#     reduction_name='UMAP',\n",
    "#     variables=['celltype.L2', 'pycisTopic_leiden_10_0.6', 'pycisTopic_leiden_10_1.2', 'celltype.L3'],\n",
    "#     target='cell', num_columns=4,\n",
    "#     text_size=10,\n",
    "#     dot_size=5)\n"
   ]
  },
  {
   "cell_type": "code",
   "execution_count": null,
   "id": "2964c26f",
   "metadata": {},
   "outputs": [],
   "source": [
    "# plot_topic(\n",
    "#     pycis_topic_obj,\n",
    "#     reduction_name = 'UMAP',\n",
    "#     target = 'cell',\n",
    "#     num_columns=5\n",
    "# )\n"
   ]
  },
  {
   "cell_type": "code",
   "execution_count": null,
   "id": "a689a95e",
   "metadata": {},
   "outputs": [],
   "source": [
    "# if isinstance(pycis_topic_obj.cell_data.index, pd.MultiIndex):\n",
    "#     pycis_topic_obj.cell_data = pycis_topic_obj.cell_data.reset_index()\n"
   ]
  },
  {
   "cell_type": "code",
   "execution_count": null,
   "id": "91709edf",
   "metadata": {},
   "outputs": [],
   "source": [
    "# pycis_topic_obj.cell_data['celltype.L2'] = pycis_topic_obj.cell_data['celltype.L2'].astype('str')pycis_topic_obj.cell_data['celltype.L2'].astype('str').replace(\"Hippo_\",\"\")\n",
    "pycis_topic_obj.cell_data['celltype.L2str'] = pycis_topic_obj.cell_data['celltype.L2'].astype('str')\n",
    "pycis_topic_obj.cell_data['C'] = pycis_topic_obj.cell_data['condtion'].astype('str')"
   ]
  },
  {
   "cell_type": "code",
   "execution_count": null,
   "id": "23e93617",
   "metadata": {},
   "outputs": [],
   "source": [
    "cell_topic_heatmap(\n",
    "    pycis_topic_obj,\n",
    "    variables = ['celltype.L2str'],\n",
    "    scale = False,\n",
    "    legend_loc_x = 0.98,\n",
    "    legend_loc_y = -1.2,\n",
    "    legend_dist_y = -1.5,\n",
    "    figsize = (15, 12),\n",
    ")\n"
   ]
  },
  {
   "cell_type": "code",
   "execution_count": null,
   "id": "202a5d2c",
   "metadata": {},
   "outputs": [],
   "source": [
    "from pycisTopic.topic_binarization import binarize_topics\n",
    "region_bin_topics_top_3k = binarize_topics(\n",
    "    pycis_topic_obj, method='ntop', ntop = 3_000,\n",
    "    plot=True, num_columns=5\n",
    ")\n"
   ]
  },
  {
   "cell_type": "code",
   "execution_count": null,
   "id": "e6ed9497",
   "metadata": {},
   "outputs": [],
   "source": [
    "region_bin_topics_otsu = binarize_topics(\n",
    "    pycis_topic_obj, method='otsu',\n",
    "    plot=True, num_columns=5\n",
    ")\n"
   ]
  },
  {
   "cell_type": "code",
   "execution_count": null,
   "id": "f685a850",
   "metadata": {},
   "outputs": [],
   "source": [
    "binarized_cell_topic = binarize_topics(\n",
    "    pycis_topic_obj,\n",
    "    target='cell',\n",
    "    method='li',\n",
    "    plot=True,\n",
    "    num_columns=5, nbins=100)\n"
   ]
  },
  {
   "cell_type": "code",
   "execution_count": null,
   "id": "4e4b86f7",
   "metadata": {},
   "outputs": [],
   "source": [
    "from pycisTopic.topic_qc import compute_topic_metrics, plot_topic_qc, topic_annotation\n",
    "import matplotlib.pyplot as plt\n",
    "from pycisTopic.utils import fig2img\n"
   ]
  },
  {
   "cell_type": "code",
   "execution_count": null,
   "id": "283aa523",
   "metadata": {},
   "outputs": [],
   "source": [
    "topic_qc_metrics = compute_topic_metrics(pycis_topic_obj)\n"
   ]
  },
  {
   "cell_type": "code",
   "execution_count": null,
   "id": "28b81285",
   "metadata": {},
   "outputs": [],
   "source": [
    "fig_dict={}\n",
    "fig_dict['CoherenceVSAssignments']=plot_topic_qc(topic_qc_metrics, var_x='Coherence', var_y='Log10_Assignments', var_color='Gini_index', plot=False, return_fig=True)\n",
    "fig_dict['AssignmentsVSCells_in_bin']=plot_topic_qc(topic_qc_metrics, var_x='Log10_Assignments', var_y='Cells_in_binarized_topic', var_color='Gini_index', plot=False, return_fig=True)\n",
    "fig_dict['CoherenceVSCells_in_bin']=plot_topic_qc(topic_qc_metrics, var_x='Coherence', var_y='Cells_in_binarized_topic', var_color='Gini_index', plot=False, return_fig=True)\n",
    "fig_dict['CoherenceVSRegions_in_bin']=plot_topic_qc(topic_qc_metrics, var_x='Coherence', var_y='Regions_in_binarized_topic', var_color='Gini_index', plot=False, return_fig=True)\n",
    "fig_dict['CoherenceVSMarginal_dist']=plot_topic_qc(topic_qc_metrics, var_x='Coherence', var_y='Marginal_topic_dist', var_color='Gini_index', plot=False, return_fig=True)\n",
    "fig_dict['CoherenceVSGini_index']=plot_topic_qc(topic_qc_metrics, var_x='Coherence', var_y='Gini_index', var_color='Gini_index', plot=False, return_fig=True)\n"
   ]
  },
  {
   "cell_type": "code",
   "execution_count": null,
   "id": "4a642953",
   "metadata": {},
   "outputs": [],
   "source": [
    "# Plot topic stats in one figure\n",
    "fig=plt.figure(figsize=(40, 43))\n",
    "i = 1\n",
    "for fig_ in fig_dict.keys():\n",
    "    plt.subplot(2, 3, i)\n",
    "    img = fig2img(fig_dict[fig_]) #To convert figures to png to plot together, see .utils.py. This converts the figure to png.\n",
    "    plt.imshow(img)\n",
    "    plt.axis('off')\n",
    "    i += 1\n",
    "plt.subplots_adjust(wspace=0, hspace=-0.70)\n",
    "plt.show()\n"
   ]
  },
  {
   "cell_type": "code",
   "execution_count": null,
   "id": "c7f7a7a3",
   "metadata": {},
   "outputs": [],
   "source": [
    "topic_annot = topic_annotation(\n",
    "    pycis_topic_obj,\n",
    "    annot_var='celltype.L2',\n",
    "    binarized_cell_topic=binarized_cell_topic,\n",
    "    general_topic_thr = 0.2\n",
    ")\n"
   ]
  },
  {
   "cell_type": "code",
   "execution_count": null,
   "id": "998070c9",
   "metadata": {},
   "outputs": [],
   "source": [
    "import os\n",
    "\n",
    "out_dir = f'/data1st2/junyi/output/atac0627/cistopic/{cellltype}'\n",
    "\n",
    "if not os.path.exists(out_dir):\n",
    "    os.makedirs(out_dir, exist_ok=True)\n",
    "if not os.path.exists(os.path.join(out_dir, \"region_sets\")):\n",
    "    os.makedirs(os.path.join(out_dir, \"region_sets\"), exist_ok=True)\n",
    "\n",
    "\n",
    "os.makedirs(os.path.join(out_dir, \"region_sets\"), exist_ok=True)\n",
    "os.makedirs(os.path.join(out_dir, \"region_sets\", \"Topics_otsu\"), exist_ok=True)\n",
    "os.makedirs(os.path.join(out_dir, \"region_sets\", \"Topics_top_3k\"), exist_ok=True)\n",
    "os.makedirs(os.path.join(out_dir, \"region_sets\", \"DARs\"), exist_ok=True)\n",
    "os.makedirs(os.path.join(out_dir, \"region_sets\", \"DARsL2\"), exist_ok=True)\n",
    "\n"
   ]
  },
  {
   "cell_type": "code",
   "execution_count": null,
   "id": "2ba3613f",
   "metadata": {},
   "outputs": [],
   "source": [
    "from pycisTopic.utils import region_names_to_coordinates\n"
   ]
  },
  {
   "cell_type": "code",
   "execution_count": null,
   "id": "88951a17",
   "metadata": {},
   "outputs": [],
   "source": [
    "for topic in region_bin_topics_otsu:\n",
    "    region_names_to_coordinates(\n",
    "        region_bin_topics_otsu[topic].index\n",
    "    ).sort_values(\n",
    "        [\"Chromosome\", \"Start\", \"End\"]\n",
    "    ).to_csv(\n",
    "        os.path.join(out_dir, \"region_sets\", \"Topics_otsu\", f\"{topic}.bed\"),\n",
    "        sep = \"\\t\",\n",
    "        header = False, index = False\n",
    "    )\n"
   ]
  },
  {
   "cell_type": "code",
   "execution_count": null,
   "id": "a91464bb",
   "metadata": {},
   "outputs": [],
   "source": [
    "for topic in region_bin_topics_top_3k:\n",
    "    region_names_to_coordinates(\n",
    "        region_bin_topics_top_3k[topic].index\n",
    "    ).sort_values(\n",
    "        [\"Chromosome\", \"Start\", \"End\"]\n",
    "    ).to_csv(\n",
    "        os.path.join(out_dir, \"region_sets\", \"Topics_top_3k\", f\"{topic}.bed\"),\n",
    "        sep = \"\\t\",\n",
    "        header = False, index = False\n",
    "    )"
   ]
  },
  {
   "cell_type": "code",
   "execution_count": null,
   "id": "486d774f",
   "metadata": {},
   "outputs": [],
   "source": [
    "scenic_dir = f'/data1st2/junyi/output/atac0627/scenic/{cellltype}'"
   ]
  },
  {
   "cell_type": "code",
   "execution_count": null,
   "id": "72f2a8c0",
   "metadata": {},
   "outputs": [],
   "source": [
    "df_dar= pd.read_csv(\n",
    "    '/data2st1/junyi/output/atac0627/dar/region_nt/mementob_dar_ncelltype.csv')"
   ]
  },
  {
   "cell_type": "code",
   "execution_count": null,
   "id": "7cea1836",
   "metadata": {},
   "outputs": [],
   "source": [
    "map_up = {\"MC\":\"Up\",'MW':\"Down\"}\n",
    "df_dar['regulation'] = df_dar['condition'].replace(map_up).astype('category')"
   ]
  },
  {
   "cell_type": "code",
   "execution_count": null,
   "id": "85e77c87",
   "metadata": {},
   "outputs": [],
   "source": [
    "if ctname.find('NN') != -1:\n",
    "    df_dar_UP = df_dar.loc[\n",
    "        (~df_dar['ctname'].str.contains('_G')) & (df_dar['regulation'] == 'Up')\n",
    "    ]\n",
    "else:\n",
    "    df_dar_UP = df_dar.loc[\n",
    "    (df_dar['ctname'] == ctname) & (df_dar['regulation'] == 'Up')\n",
    "    ]\n",
    "df_dar_bed = df_dar_UP.names.str.split(r'[:-]',expand=True)\n",
    "df_dar_bed.iloc[:, 1] = df_dar_bed.iloc[:, 1].astype(int)\n",
    "df_dar_bed.iloc[:, 2] = df_dar_bed.iloc[:, 2].astype(int)\n",
    "df_dar_bed.sort_values(\n",
    "    [0, 1, 2]\n",
    ").to_csv(\n",
    "    os.path.join(out_dir, \"region_sets\", \"DARs\", f\"CUMS_Up.bed\"),\n",
    "    sep = \"\\t\",\n",
    "    header = False, index = False\n",
    ")"
   ]
  },
  {
   "cell_type": "code",
   "execution_count": null,
   "id": "dd33f947",
   "metadata": {},
   "outputs": [],
   "source": [
    "if ctname.find('NN') != -1:\n",
    "    df_dar_DOWN = df_dar.loc[\n",
    "        (~df_dar['ctname'].str.contains('_G')) & (df_dar['regulation'] == 'Down')\n",
    "    ]\n",
    "else:\n",
    "    df_dar_DOWN = df_dar.loc[\n",
    "    (df_dar['ctname'] == ctname) & (df_dar['regulation'] == 'Down')\n",
    "    ]\n",
    "df_dar_bed = df_dar_DOWN.names.str.split(r'[:-]',expand=True)\n",
    "df_dar_bed.iloc[:, 1] = df_dar_bed.iloc[:, 1].astype(int)\n",
    "df_dar_bed.iloc[:, 2] = df_dar_bed.iloc[:, 2].astype(int)\n",
    "df_dar_bed.sort_values(\n",
    "    [0, 1, 2]\n",
    ").to_csv(\n",
    "    os.path.join(out_dir, \"region_sets\", \"DARs\", f\"CUMS_Down.bed\"),\n",
    "    sep = \"\\t\",\n",
    "    header = False, index = False\n",
    ")"
   ]
  },
  {
   "cell_type": "code",
   "execution_count": null,
   "id": "a0376ca6",
   "metadata": {},
   "outputs": [],
   "source": [
    "# df_darl2= pd.read_csv(\n",
    "#     '/data2st1/junyi/output/atac0627/dar/celltype.L2/mementob_dar_ncelltype.csv')\n",
    "# map_up = {\"MC\":\"Up\",'MW':\"Down\"}\n",
    "# df_darl2['regulation'] = df_darl2['condition'].replace(map_up).astype('category')\n",
    "# df_darl2_UP = df_darl2.loc[\n",
    "#     (df_darl2['ctname'] == ctname) & (df_darl2['regulation'] == 'Up')\n",
    "# ]\n",
    "# df_darl2_bed = df_darl2_UP.names.str.split(r'[:-]',expand=True)\n"
   ]
  },
  {
   "cell_type": "code",
   "execution_count": null,
   "id": "bcb48cb3",
   "metadata": {},
   "outputs": [],
   "source": [
    "# df_darl2"
   ]
  },
  {
   "cell_type": "code",
   "execution_count": null,
   "id": "13bb6384",
   "metadata": {},
   "outputs": [],
   "source": [
    "# df_darl2_bed.iloc[:, 1] = df_darl2_bed.iloc[:, 1].astype(int)\n",
    "# df_darl2_bed.iloc[:, 2] = df_darl2_bed.iloc[:, 2].astype(int)\n",
    "# df_darl2_bed.sort_values(\n",
    "#     [0, 1, 2]   \n",
    "# ).to_csv(\n",
    "#     os.path.join(out_dir, \"region_sets\", \"DARsL2\", f\"CUMS_Up.bed\"),\n",
    "#     sep = \"\\t\",\n",
    "#     header = False, index = False\n",
    "# )\n",
    "# df_darl2_DOWN = df_darl2.loc[\n",
    "#     (df_darl2['ctname'] == ctname) & (df_darl2['regulation'] == 'Down')\n",
    "# ]\n",
    "# df_darl2_bed = df_darl2_DOWN.names.str.split(r'[:-]',expand=True)\n",
    "# df_darl2_bed.iloc[:, 1] = df_darl2_bed.iloc[:, 1].astype(int)\n",
    "# df_darl2_bed.iloc[:, 2] = df_darl2_bed.iloc[:, 2].astype(int)\n",
    "# df_darl2_bed.sort_values(\n",
    "#     [0, 1, 2]\n",
    "# ).to_csv(\n",
    "#     os.path.join(out_dir, \"region_sets\", \"DARsL2\", f\"CUMS_Down.bed\"),\n",
    "#     sep = \"\\t\",\n",
    "#     header = False, index = False\n",
    "# )   "
   ]
  },
  {
   "cell_type": "code",
   "execution_count": null,
   "id": "2e9693d0",
   "metadata": {},
   "outputs": [],
   "source": [
    "!cd {scenic_dir}\n",
    "!scenicplus init_snakemake --out_dir {scenic_dir}"
   ]
  },
  {
   "cell_type": "markdown",
   "id": "911b67d0",
   "metadata": {},
   "source": [
    "input_data:  \n",
    "  cisTopic_obj_fname: \"/data1st2/junyi/output/atac0627/cistopic/cistopic_HIP_HIP_Glut.pkl\"\n",
    "  GEX_anndata_fname: \"/data1st2/junyi/output/atac0627/subset/region_nt/HIP_HIP_Glut_sc.h5ad\"\n",
    "  region_set_folder: \"/data1st2/junyi/output/atac0627/cistopic/HIP_HIP_Glut/region_sets/\"\n",
    "  ctx_db_fname: \"/data2st1/junyi/scenic/mouse/motif/mm10_screen_v10_clust.regions_vs_motifs.rankings.feather\"\n",
    "  dem_db_fname: \"/data2st1/junyi/scenic/mouse/motif/mm10_screen_v10_clust.regions_vs_motifs.scores.feather\"\n",
    "  path_to_motif_annotations: \"/data2st1/junyi/scenic/mouse/motif/motifs-v10nr_clust-nr.mgi-m0.001-o0.0.tbl\"\n",
    "\n",
    "params_general:\n",
    "  temp_dir: \"/data1st2/junyi/output/atac0627/scenic/HIP_HIP_Glut/\"\n",
    "  n_cpu: 32\n",
    "\n",
    "params_data_preparation:\n",
    "  # Params for prepare_GEX_ACC\n",
    "  is_multiome: False\n",
    "  key_to_group_by: \"celltype.L2\"\n",
    "  species: \"mmusculus\"\n",
    "  biomart_host: \"http://nov2020.archive.ensembl.org\"\n",
    "\n",
    "  species: \"mus_musculus\"\n"
   ]
  },
  {
   "cell_type": "code",
   "execution_count": null,
   "id": "afe3200d",
   "metadata": {},
   "outputs": [],
   "source": [
    "import shutil\n"
   ]
  },
  {
   "cell_type": "code",
   "execution_count": null,
   "id": "78aad7d2",
   "metadata": {},
   "outputs": [],
   "source": [
    "# backup the config.yaml file\n",
    "for region in ['AMY', 'HIP', 'PFC']:\n",
    "    for nt in ['GABA', 'Glut', 'NN']:\n",
    "        ctname = f'{region}_{nt}'\n",
    "        if nt == 'NN':\n",
    "            cellltype = f'{region}_{nt}'\n",
    "        else:\n",
    "            cellltype = f'{region}_{region}_{nt}'\n",
    "        scenic_dir = f'/data1st2/junyi/output/atac0627/scenic/{cellltype}'\n",
    "        out_dir = f'/data1st2/junyi/output/atac0627/cistopic/{cellltype}'\n",
    "\n",
    "        shutil.copyfile(os.path.join(scenic_dir,'Snakemake','config', \"config.yaml\"),\n",
    "                        os.path.join(scenic_dir,'Snakemake','config', \"config.yaml.bak\"))\n",
    "        # read yaml file line by line and change the\n",
    "        with open(os.path.join(scenic_dir,'Snakemake','config', \"config.yaml\"), 'r') as file:\n",
    "            lines = file.readlines()\n",
    "        # config['input_data']['cisTopic_obj_fname'] = f\"/data1st2/junyi/output/atac0627/cistopic/cistopic_{cellltype}.pkl\"\n",
    "        # config['input_data']['GEX_anndata_fname'] = f\"/data1st2/junyi/output/atac0627/subset/region_nt/{cellltype}_sc.h5ad\"\n",
    "        # config['input_data']['region_set_folder'] = os.path.join(out_dir, \"region_sets\")\n",
    "        # config['input_data']['ctx_db_fname'] = \"/data2st1/junyi/scenic/mouse/motif/mm10_screen_v10_clust.regions_vs_motifs.rankings.feather\"\n",
    "        # config['input_data']['dem_db_fname'] = \"/data2st1/junyi/scenic/mouse/motif/mm10_screen_v10_clust.regions_vs_motifs.scores.feather\"\n",
    "        # config['input_data']['path_to_motif_annotations'] = \"/data2st1/junyi/scenic/mouse/motif/motifs-v10nr_clust-nr.mgi-m0.001-o0.0.tbl\"\n",
    "\n",
    "        # config['params_general']['temp_dir'] = scenic_dir\n",
    "        # config['params_general']['n_cpu'] = 32\n",
    "        # config['params_data_preparation']['species'] = \"mus_musculus\"\n",
    "        # config['params_data_preparation']['key_to_group_by'] = \"celltype.L2\"\n",
    "        # config['params_data_preparation']['is_multiome'] = False\n",
    "        # config['params_data_preparation']['biomart_host'] = \"http://nov2020.archive.ensembl.org\"\n",
    "        # config['params_motif_enrichment']['species'] = \"mus_musculus\"\n",
    "\n",
    "        section = 'input_data'\n",
    "        for l in range(len(lines)):\n",
    "            if 'input_data' in lines[l]:\n",
    "                section = 'input_data'\n",
    "            elif 'output_data' in lines[l]:\n",
    "                section = 'output_data'\n",
    "            elif 'params_general' in lines[l]:\n",
    "                section = 'params_general'\n",
    "            elif 'params_data_preparation' in lines[l]:\n",
    "                section = 'params_data_preparation'\n",
    "            elif 'params_motif_enrichment' in lines[l]:\n",
    "                section = 'params_motif_enrichment'\n",
    "\n",
    "            if 'cisTopic_obj_fname' in lines[l]:\n",
    "                lines[l] = f\"  cisTopic_obj_fname: \\\"/data1st2/junyi/output/atac0627/cistopic/cistopic_{cellltype}.pkl\\\"\\n\"\n",
    "            elif 'GEX_anndata_fname' in lines[l]:\n",
    "                lines[l] = f\"  GEX_anndata_fname: \\\"/data1st2/junyi/output/atac0627/subset/region_nt/{cellltype}_sc.h5ad\\\"\\n\"\n",
    "            elif 'region_set_folder' in lines[l]:\n",
    "                lines[l] = f\"  region_set_folder: \\\"{os.path.join(out_dir, 'region_sets')}\\\"\\n\"\n",
    "            elif 'ctx_db_fname' in lines[l]:\n",
    "                lines[l] = f\"  ctx_db_fname: \\\"/data2st1/junyi/scenic/mouse/motif/mm10_screen_v10_clust.regions_vs_motifs.rankings.feather\\\"\\n\"\n",
    "            elif 'dem_db_fname' in lines[l]:\n",
    "                lines[l] = f\"  dem_db_fname: \\\"/data2st1/junyi/scenic/mouse/motif/mm10_screen_v10_clust.regions_vs_motifs.scores.feather\\\"\\n\"\n",
    "            elif 'path_to_motif_annotations' in lines[l]:\n",
    "                lines[l] = f\"  path_to_motif_annotations: \\\"/data2st1/junyi/scenic/mouse/motif/motifs-v10nr_clust-nr.mgi-m0.001-o0.0.tbl\\\"\\n\"\n",
    "            elif 'temp_dir' in lines[l]:\n",
    "                lines[l] = f\"  temp_dir: \\\"{scenic_dir}\\\"\\n\"\n",
    "            elif 'n_cpu' in lines[l]:\n",
    "                lines[l] = f\"  n_cpu: 32\\n\"\n",
    "            elif 'species' in lines[l] and section == 'params_data_preparation':\n",
    "                lines[l] = f\"  species: \\\"mmusculus\\\"\\n\"\n",
    "            elif 'key_to_group_by' in lines[l] and section == 'params_data_preparation':\n",
    "                lines[l] = f\"  key_to_group_by: \\\"celltype.L2.condition\\\"\\n\"\n",
    "            elif 'is_multiome' in lines[l] and section == 'params_data_preparation':\n",
    "                lines[l] = f\"  is_multiome: False\\n\"\n",
    "            elif 'biomart_host' in lines[l] and section == 'params_data_preparation':\n",
    "                lines[l] = f\"  biomart_host: \\\"http://nov2020.archive.ensembl.org\\\"\\n\"\n",
    "            elif 'species' in lines[l] and section == 'params_motif_enrichment':\n",
    "                lines[l] = f\"  species: \\\"mus_musculus\\\"\\n\"\n",
    "\n",
    "        with open(os.path.join(scenic_dir,'Snakemake','config', \"config.yaml\"), 'w') as file:\n",
    "            file.writelines(lines)"
   ]
  },
  {
   "cell_type": "code",
   "execution_count": null,
   "id": "7600a7a4",
   "metadata": {},
   "outputs": [],
   "source": [
    "os.path.join(scenic_dir,'Snakemake','config', \"config.yaml\")"
   ]
  }
 ],
 "metadata": {
  "kernelspec": {
   "display_name": "scenicplus",
   "language": "python",
   "name": "python3"
  },
  "language_info": {
   "codemirror_mode": {
    "name": "ipython",
    "version": 3
   },
   "file_extension": ".py",
   "mimetype": "text/x-python",
   "name": "python",
   "nbconvert_exporter": "python",
   "pygments_lexer": "ipython3",
   "version": "3.11.8"
  }
 },
 "nbformat": 4,
 "nbformat_minor": 5
}
