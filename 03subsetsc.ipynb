{
 "cells": [
  {
   "cell_type": "code",
   "execution_count": 1,
   "metadata": {},
   "outputs": [
    {
     "name": "stderr",
     "output_type": "stream",
     "text": [
      "/home/junyichen/anaconda3/envs/snapatac2/lib/python3.10/site-packages/tqdm/auto.py:21: TqdmWarning: IProgress not found. Please update jupyter and ipywidgets. See https://ipywidgets.readthedocs.io/en/stable/user_install.html\n",
      "  from .autonotebook import tqdm as notebook_tqdm\n",
      "/home/junyichen/anaconda3/envs/snapatac2/lib/python3.10/site-packages/docrep/decorators.py:43: SyntaxWarning: 'param_categorical_covariate_keys' is not a valid key!\n",
      "  doc = func(self, args[0].__doc__, *args[1:], **kwargs)\n",
      "/home/junyichen/anaconda3/envs/snapatac2/lib/python3.10/site-packages/docrep/decorators.py:43: SyntaxWarning: 'param_continuous_covariate_keys' is not a valid key!\n",
      "  doc = func(self, args[0].__doc__, *args[1:], **kwargs)\n",
      "INFO: Seed set to 0\n",
      "2025-06-03 16:36:07 - INFO - Seed set to 0\n"
     ]
    }
   ],
   "source": [
    "import matplotlib.pyplot as plt\n",
    "import anndata as adata\n",
    "import scanpy as sc\n",
    "import pandas as pd\n",
    "from harmonypy import run_harmony\n",
    "\n",
    "import snapatac2 as snap\n",
    "import anndata as ad\n",
    "import pandas as pd\n",
    "import scanpy as sc\n",
    "import scvi\n",
    "import numpy as np\n",
    "\n",
    "scvi.settings.seed = 0\n",
    "snap.__version__\n",
    "import warnings\n",
    "\n",
    "warnings.filterwarnings(\"ignore\")\n"
   ]
  },
  {
   "cell_type": "code",
   "execution_count": 2,
   "metadata": {},
   "outputs": [],
   "source": [
    "import os\n",
    "default_n_threads = 8\n",
    "os.environ['OPENBLAS_NUM_THREADS'] = f\"{default_n_threads}\"\n",
    "os.environ['MKL_NUM_THREADS'] = f\"{default_n_threads}\"\n",
    "os.environ['OMP_NUM_THREADS'] = f\"{default_n_threads}\""
   ]
  },
  {
   "cell_type": "code",
   "execution_count": 3,
   "metadata": {},
   "outputs": [],
   "source": [
    "!export OPENBLAS_NUM_THREADS=8\n",
    "!export MKL_NUM_THREADS=8\n",
    "!export OMP_NUM_THREADS=8"
   ]
  },
  {
   "cell_type": "markdown",
   "metadata": {},
   "source": [
    "# Read single cell data"
   ]
  },
  {
   "cell_type": "code",
   "execution_count": 4,
   "metadata": {},
   "outputs": [],
   "source": [
    "adata_sc = adata.read_h5ad(\"/data1st1/hydata/SN_neuron_after_int_filter_anno.h5ad\")\n",
    "# Fix cell type 22 to neuron\n",
    "# cluster_22_cells = adata_sc.obs_names[adata_sc.obs['Leiden_clusters_res1.0'] == '22']\n",
    "# adata_sc.obs.loc[cluster_22_cells, 'celltype.L1'] = 'Neuron'"
   ]
  },
  {
   "cell_type": "code",
   "execution_count": 5,
   "metadata": {},
   "outputs": [],
   "source": [
    "adata_sc = adata_sc[adata_sc.obs.region.isin(['AMY', 'HIP', 'PFC'])]"
   ]
  },
  {
   "cell_type": "code",
   "execution_count": null,
   "metadata": {},
   "outputs": [],
   "source": [
    "adata_sc = adata_sc[adata_sc.obs.region.isin(['AMY', 'HIP', 'PFC'])]"
   ]
  },
  {
   "cell_type": "code",
   "execution_count": 27,
   "metadata": {},
   "outputs": [
    {
     "data": {
      "text/plain": [
       "{'Chol', 'Dopa', 'GABA', 'Glut', 'Hist', 'Sero'}"
      ]
     },
     "execution_count": 27,
     "metadata": {},
     "output_type": "execute_result"
    }
   ],
   "source": [
    "set(adata_sc.obs.level1)"
   ]
  },
  {
   "cell_type": "code",
   "execution_count": 22,
   "metadata": {},
   "outputs": [
    {
     "data": {
      "text/plain": [
       "AAACCCAAGAAACACT-1HIP_seekgene_FW32B    HIP_Glut\n",
       "AAACCCAAGAAACCCA-1HIP_seekgene_FW32B    HIP_Glut\n",
       "AAACCCAAGAAACCCG-1HIP_seekgene_FW32B    HIP_Glut\n",
       "AAACCCAAGAAACCTG-1HIP_seekgene_FW32B    HIP_Glut\n",
       "AAACCCAAGAAACGTC-1HIP_seekgene_FW32B    HIP_Glut\n",
       "                                          ...   \n",
       "TTTGTTGCAGCGTAGA-1PFC_novogene_MC33A    PFC_Glut\n",
       "TTTGTTGCATCCGGTG-1PFC_novogene_MC33A    PFC_Glut\n",
       "TTTGTTGCATGGAAGC-1PFC_novogene_MC33A    PFC_GABA\n",
       "TTTGTTGGTGCCTGCA-1PFC_novogene_MC33A    PFC_Glut\n",
       "TTTGTTGGTGTCCGGT-1PFC_novogene_MC33A    PFC_Glut\n",
       "Length: 305669, dtype: object"
      ]
     },
     "execution_count": 22,
     "metadata": {},
     "output_type": "execute_result"
    }
   ],
   "source": [
    "adata_sc.obs['region'].astype(str) + '_' + adata_sc.obs['level1'].astype(str) "
   ]
  },
  {
   "cell_type": "code",
   "execution_count": 42,
   "metadata": {},
   "outputs": [],
   "source": [
    "df_marker = pd.read_excel(\"/data2st1/junyi/output/atac0416/20250423maker list.xlsx\")"
   ]
  },
  {
   "cell_type": "code",
   "execution_count": 48,
   "metadata": {},
   "outputs": [],
   "source": [
    "df_marker.loc[df_marker.region=='PFC','celltype.L2'] = df_marker.loc[df_marker.region=='PFC','celltype.L2'].str.replace('PFC ', '')"
   ]
  },
  {
   "cell_type": "code",
   "execution_count": 51,
   "metadata": {},
   "outputs": [],
   "source": [
    "adata_sc.obs = adata_sc.obs.merge(df_marker, how='left', left_on='celltype.L2', right_on='celltype.L2')"
   ]
  },
  {
   "cell_type": "code",
   "execution_count": 69,
   "metadata": {},
   "outputs": [],
   "source": [
    "adata_sc.obs.index = adata_sc.obs.key_0"
   ]
  },
  {
   "cell_type": "code",
   "execution_count": 74,
   "metadata": {},
   "outputs": [],
   "source": [
    "selected_idx  = adata_sc.obs[~adata_sc.obs['celltype.L2'].isin(['Doublet', 'Cell segment', 'Not sure'])].key_0\n",
    "adata_sc = adata_sc[selected_idx]"
   ]
  },
  {
   "cell_type": "code",
   "execution_count": 79,
   "metadata": {},
   "outputs": [],
   "source": [
    "adata_sc.obs.rename(columns={'region_y': 'region'}, inplace=True)"
   ]
  },
  {
   "cell_type": "code",
   "execution_count": 83,
   "metadata": {},
   "outputs": [],
   "source": [
    "adata_sc.obs.loc[adata_sc.obs.region=='PFC','celltype.L2'] =\"PFC_\" + adata_sc.obs.loc[adata_sc.obs.region=='PFC','celltype.L2']"
   ]
  },
  {
   "cell_type": "code",
   "execution_count": 87,
   "metadata": {},
   "outputs": [],
   "source": [
    "adata_sc.obs['celltype.L2'] = adata_sc.obs['celltype.L2'].str.replace('/', '-').str.replace(' ', '_')"
   ]
  },
  {
   "cell_type": "code",
   "execution_count": 92,
   "metadata": {},
   "outputs": [],
   "source": [
    "adata_sc.obs['region_nt'] = adata_sc.obs['region'].astype(str) + '_' + adata_sc.obs['Neurotransmitter_celltype'].str[:4]"
   ]
  },
  {
   "cell_type": "code",
   "execution_count": 99,
   "metadata": {},
   "outputs": [],
   "source": [
    "adata_sc.obs['GEX:celltype.L2'] = adata_sc.obs['celltype.L2'].astype(str)"
   ]
  },
  {
   "cell_type": "code",
   "execution_count": 104,
   "metadata": {},
   "outputs": [],
   "source": [
    "adata_sc = adata_sc[adata_sc.obs.gender==\"M\"]"
   ]
  },
  {
   "cell_type": "code",
   "execution_count": 109,
   "metadata": {},
   "outputs": [
    {
     "name": "stderr",
     "output_type": "stream",
     "text": [
      "... storing 'celltype.L2' as categorical\n",
      "... storing 'region' as categorical\n",
      "... storing 'Neurotransmitter_celltype' as categorical\n",
      "... storing 'celltype.L1' as categorical\n",
      "... storing 'marker' as categorical\n",
      "... storing 'region_nt' as categorical\n",
      "... storing 'GEX:celltype.L2' as categorical\n",
      "... storing 'celltype.L2' as categorical\n",
      "... storing 'region' as categorical\n",
      "... storing 'Neurotransmitter_celltype' as categorical\n",
      "... storing 'celltype.L1' as categorical\n",
      "... storing 'marker' as categorical\n",
      "... storing 'region_nt' as categorical\n",
      "... storing 'GEX:celltype.L2' as categorical\n",
      "... storing 'celltype.L2' as categorical\n",
      "... storing 'region' as categorical\n",
      "... storing 'Neurotransmitter_celltype' as categorical\n",
      "... storing 'celltype.L1' as categorical\n",
      "... storing 'marker' as categorical\n",
      "... storing 'region_nt' as categorical\n",
      "... storing 'GEX:celltype.L2' as categorical\n",
      "... storing 'celltype.L2' as categorical\n",
      "... storing 'region' as categorical\n",
      "... storing 'Neurotransmitter_celltype' as categorical\n",
      "... storing 'celltype.L1' as categorical\n",
      "... storing 'marker' as categorical\n",
      "... storing 'region_nt' as categorical\n",
      "... storing 'GEX:celltype.L2' as categorical\n",
      "... storing 'celltype.L2' as categorical\n",
      "... storing 'region' as categorical\n",
      "... storing 'Neurotransmitter_celltype' as categorical\n",
      "... storing 'celltype.L1' as categorical\n",
      "... storing 'marker' as categorical\n",
      "... storing 'region_nt' as categorical\n",
      "... storing 'GEX:celltype.L2' as categorical\n",
      "... storing 'celltype.L2' as categorical\n",
      "... storing 'region' as categorical\n",
      "... storing 'Neurotransmitter_celltype' as categorical\n",
      "... storing 'celltype.L1' as categorical\n",
      "... storing 'marker' as categorical\n",
      "... storing 'region_nt' as categorical\n",
      "... storing 'GEX:celltype.L2' as categorical\n"
     ]
    }
   ],
   "source": [
    "for region in adata_sc.obs['region_nt'].unique():\n",
    "    adata_subset = adata_sc[adata_sc.obs['region_nt'] == region]\n",
    "    adata_subset.write_h5ad(f\"/data1st2/junyi/output/atac0416/subset/region_nt/{region}_sc.h5ad\")\n"
   ]
  }
 ],
 "metadata": {
  "kernelspec": {
   "display_name": "snapatac2",
   "language": "python",
   "name": "python3"
  },
  "language_info": {
   "codemirror_mode": {
    "name": "ipython",
    "version": 3
   },
   "file_extension": ".py",
   "mimetype": "text/x-python",
   "name": "python",
   "nbconvert_exporter": "python",
   "pygments_lexer": "ipython3",
   "version": "3.10.0"
  }
 },
 "nbformat": 4,
 "nbformat_minor": 2
}
