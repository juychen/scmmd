{
 "cells": [
  {
   "cell_type": "code",
   "execution_count": 2,
   "metadata": {
    "vscode": {
     "languageId": "r"
    }
   },
   "outputs": [
    {
     "name": "stderr",
     "output_type": "stream",
     "text": [
      "Loading required package: AnnotationDbi\n",
      "\n",
      "Loading required package: stats4\n",
      "\n",
      "Loading required package: BiocGenerics\n",
      "\n",
      "\n",
      "Attaching package: ‘BiocGenerics’\n",
      "\n",
      "\n",
      "The following objects are masked from ‘package:stats’:\n",
      "\n",
      "    IQR, mad, sd, var, xtabs\n",
      "\n",
      "\n",
      "The following objects are masked from ‘package:base’:\n",
      "\n",
      "    anyDuplicated, aperm, append, as.data.frame, basename, cbind,\n",
      "    colnames, dirname, do.call, duplicated, eval, evalq, Filter, Find,\n",
      "    get, grep, grepl, intersect, is.unsorted, lapply, Map, mapply,\n",
      "    match, mget, order, paste, pmax, pmax.int, pmin, pmin.int,\n",
      "    Position, rank, rbind, Reduce, rownames, sapply, setdiff, sort,\n",
      "    table, tapply, union, unique, unsplit, which.max, which.min\n",
      "\n",
      "\n",
      "Loading required package: Biobase\n",
      "\n",
      "Welcome to Bioconductor\n",
      "\n",
      "    Vignettes contain introductory material; view with\n",
      "    'browseVignettes()'. To cite Bioconductor, see\n",
      "    'citation(\"Biobase\")', and for packages 'citation(\"pkgname\")'.\n",
      "\n",
      "\n",
      "Loading required package: IRanges\n",
      "\n",
      "Loading required package: S4Vectors\n",
      "\n"
     ]
    },
    {
     "name": "stderr",
     "output_type": "stream",
     "text": [
      "\n",
      "Attaching package: ‘S4Vectors’\n",
      "\n",
      "\n",
      "The following object is masked from ‘package:clusterProfiler’:\n",
      "\n",
      "    rename\n",
      "\n",
      "\n",
      "The following object is masked from ‘package:utils’:\n",
      "\n",
      "    findMatches\n",
      "\n",
      "\n",
      "The following objects are masked from ‘package:base’:\n",
      "\n",
      "    expand.grid, I, unname\n",
      "\n",
      "\n",
      "\n",
      "Attaching package: ‘IRanges’\n",
      "\n",
      "\n",
      "The following object is masked from ‘package:clusterProfiler’:\n",
      "\n",
      "    slice\n",
      "\n",
      "\n",
      "\n",
      "Attaching package: ‘AnnotationDbi’\n",
      "\n",
      "\n",
      "The following object is masked from ‘package:clusterProfiler’:\n",
      "\n",
      "    select\n",
      "\n",
      "\n",
      "\n",
      "\n"
     ]
    }
   ],
   "source": [
    "library('clusterProfiler')\n",
    "library(org.Mm.eg.db)\n",
    "library(ggplot2)"
   ]
  },
  {
   "cell_type": "code",
   "execution_count": 3,
   "metadata": {
    "vscode": {
     "languageId": "r"
    }
   },
   "outputs": [],
   "source": [
    "df.deg <- read.csv(\"/data2st1/junyi/output/atac0416/dar/region_nt/df_annotattion_mememto.csv\")"
   ]
  },
  {
   "cell_type": "code",
   "execution_count": 4,
   "metadata": {
    "vscode": {
     "languageId": "r"
    }
   },
   "outputs": [
    {
     "data": {
      "text/html": [
       "<table class=\"dataframe\">\n",
       "<caption>A data.frame: 6 × 19</caption>\n",
       "<thead>\n",
       "\t<tr><th></th><th scope=col>names</th><th scope=col>tx</th><th scope=col>de_coef</th><th scope=col>de_se</th><th scope=col>de_pval</th><th scope=col>dv_coef</th><th scope=col>dv_se</th><th scope=col>dv_pval</th><th scope=col>ctname</th><th scope=col>region</th><th scope=col>condition</th><th scope=col>gene_name</th><th scope=col>gene_id</th><th scope=col>gstart</th><th scope=col>gend</th><th scope=col>strand</th><th scope=col>annotation</th><th scope=col>distance</th><th scope=col>de_pval_adj</th></tr>\n",
       "\t<tr><th></th><th scope=col>&lt;chr&gt;</th><th scope=col>&lt;chr&gt;</th><th scope=col>&lt;dbl&gt;</th><th scope=col>&lt;dbl&gt;</th><th scope=col>&lt;dbl&gt;</th><th scope=col>&lt;dbl&gt;</th><th scope=col>&lt;dbl&gt;</th><th scope=col>&lt;dbl&gt;</th><th scope=col>&lt;chr&gt;</th><th scope=col>&lt;chr&gt;</th><th scope=col>&lt;chr&gt;</th><th scope=col>&lt;chr&gt;</th><th scope=col>&lt;chr&gt;</th><th scope=col>&lt;int&gt;</th><th scope=col>&lt;int&gt;</th><th scope=col>&lt;chr&gt;</th><th scope=col>&lt;chr&gt;</th><th scope=col>&lt;int&gt;</th><th scope=col>&lt;dbl&gt;</th></tr>\n",
       "</thead>\n",
       "<tbody>\n",
       "\t<tr><th scope=row>1</th><td>chr15:75086569-75087070  </td><td>stim</td><td>0.4328717</td><td>0.02169902</td><td>1.011588e-88</td><td>-0.2990962</td><td>0.12576227</td><td>1.999109e-02</td><td>PFC_Glut</td><td>PFC</td><td>MC</td><td>Gm28502</td><td>ENSMUSG00000099452.1 </td><td> 75076209</td><td> 75079094</td><td>-</td><td>genebody</td><td>-7476</td><td>9.510063e-86</td></tr>\n",
       "\t<tr><th scope=row>2</th><td>chr12:120028551-120029052</td><td>stim</td><td>0.4805240</td><td>0.02477918</td><td>5.125947e-84</td><td> 0.2256055</td><td>0.12031550</td><td>5.658753e-02</td><td>PFC_Glut</td><td>PFC</td><td>MC</td><td>Tmem196</td><td>ENSMUSG00000048004.15</td><td>119945821</td><td>120021246</td><td>+</td><td>genebody</td><td>-7306</td><td>3.234648e-81</td></tr>\n",
       "\t<tr><th scope=row>3</th><td>chrX:143482812-143483313 </td><td>stim</td><td>0.6766919</td><td>0.04040743</td><td>3.030414e-63</td><td>-0.4103432</td><td>0.15793791</td><td>1.027334e-02</td><td>PFC_Glut</td><td>PFC</td><td>MC</td><td>Pak3   </td><td>ENSMUSG00000031284.16</td><td>143518590</td><td>143797796</td><td>+</td><td>genebody</td><td>35278</td><td>4.431668e-61</td></tr>\n",
       "\t<tr><th scope=row>4</th><td>chr2:98662045-98662546   </td><td>stim</td><td>0.5046512</td><td>0.03123931</td><td>5.452844e-59</td><td>-1.2121796</td><td>0.09370949</td><td>5.131220e-38</td><td>PFC_Glut</td><td>PFC</td><td>MC</td><td>Gm10801</td><td>ENSMUSG00000075015.3 </td><td> 98662236</td><td> 98664083</td><td>+</td><td>genebody</td><td>    0</td><td>6.164123e-57</td></tr>\n",
       "\t<tr><th scope=row>5</th><td>chr2:98662628-98663129   </td><td>stim</td><td>0.5258591</td><td>0.03770465</td><td>1.715753e-44</td><td>-0.7587388</td><td>0.09776371</td><td>1.811849e-14</td><td>PFC_Glut</td><td>PFC</td><td>MC</td><td>Gm10801</td><td>ENSMUSG00000075015.3 </td><td> 98662236</td><td> 98664083</td><td>+</td><td>genebody</td><td>    0</td><td>7.114042e-43</td></tr>\n",
       "\t<tr><th scope=row>6</th><td>chr6:103648949-103649450 </td><td>stim</td><td>0.4805918</td><td>0.03522453</td><td>1.141932e-42</td><td>-0.4912399</td><td>0.14027693</td><td>4.267667e-04</td><td>PFC_Glut</td><td>PFC</td><td>MC</td><td>Chl1   </td><td>ENSMUSG00000030077.11</td><td>103510585</td><td>103750211</td><td>+</td><td>genebody</td><td>    0</td><td>4.188192e-41</td></tr>\n",
       "</tbody>\n",
       "</table>\n"
      ],
      "text/latex": [
       "A data.frame: 6 × 19\n",
       "\\begin{tabular}{r|lllllllllllllllllll}\n",
       "  & names & tx & de\\_coef & de\\_se & de\\_pval & dv\\_coef & dv\\_se & dv\\_pval & ctname & region & condition & gene\\_name & gene\\_id & gstart & gend & strand & annotation & distance & de\\_pval\\_adj\\\\\n",
       "  & <chr> & <chr> & <dbl> & <dbl> & <dbl> & <dbl> & <dbl> & <dbl> & <chr> & <chr> & <chr> & <chr> & <chr> & <int> & <int> & <chr> & <chr> & <int> & <dbl>\\\\\n",
       "\\hline\n",
       "\t1 & chr15:75086569-75087070   & stim & 0.4328717 & 0.02169902 & 1.011588e-88 & -0.2990962 & 0.12576227 & 1.999109e-02 & PFC\\_Glut & PFC & MC & Gm28502 & ENSMUSG00000099452.1  &  75076209 &  75079094 & - & genebody & -7476 & 9.510063e-86\\\\\n",
       "\t2 & chr12:120028551-120029052 & stim & 0.4805240 & 0.02477918 & 5.125947e-84 &  0.2256055 & 0.12031550 & 5.658753e-02 & PFC\\_Glut & PFC & MC & Tmem196 & ENSMUSG00000048004.15 & 119945821 & 120021246 & + & genebody & -7306 & 3.234648e-81\\\\\n",
       "\t3 & chrX:143482812-143483313  & stim & 0.6766919 & 0.04040743 & 3.030414e-63 & -0.4103432 & 0.15793791 & 1.027334e-02 & PFC\\_Glut & PFC & MC & Pak3    & ENSMUSG00000031284.16 & 143518590 & 143797796 & + & genebody & 35278 & 4.431668e-61\\\\\n",
       "\t4 & chr2:98662045-98662546    & stim & 0.5046512 & 0.03123931 & 5.452844e-59 & -1.2121796 & 0.09370949 & 5.131220e-38 & PFC\\_Glut & PFC & MC & Gm10801 & ENSMUSG00000075015.3  &  98662236 &  98664083 & + & genebody &     0 & 6.164123e-57\\\\\n",
       "\t5 & chr2:98662628-98663129    & stim & 0.5258591 & 0.03770465 & 1.715753e-44 & -0.7587388 & 0.09776371 & 1.811849e-14 & PFC\\_Glut & PFC & MC & Gm10801 & ENSMUSG00000075015.3  &  98662236 &  98664083 & + & genebody &     0 & 7.114042e-43\\\\\n",
       "\t6 & chr6:103648949-103649450  & stim & 0.4805918 & 0.03522453 & 1.141932e-42 & -0.4912399 & 0.14027693 & 4.267667e-04 & PFC\\_Glut & PFC & MC & Chl1    & ENSMUSG00000030077.11 & 103510585 & 103750211 & + & genebody &     0 & 4.188192e-41\\\\\n",
       "\\end{tabular}\n"
      ],
      "text/markdown": [
       "\n",
       "A data.frame: 6 × 19\n",
       "\n",
       "| <!--/--> | names &lt;chr&gt; | tx &lt;chr&gt; | de_coef &lt;dbl&gt; | de_se &lt;dbl&gt; | de_pval &lt;dbl&gt; | dv_coef &lt;dbl&gt; | dv_se &lt;dbl&gt; | dv_pval &lt;dbl&gt; | ctname &lt;chr&gt; | region &lt;chr&gt; | condition &lt;chr&gt; | gene_name &lt;chr&gt; | gene_id &lt;chr&gt; | gstart &lt;int&gt; | gend &lt;int&gt; | strand &lt;chr&gt; | annotation &lt;chr&gt; | distance &lt;int&gt; | de_pval_adj &lt;dbl&gt; |\n",
       "|---|---|---|---|---|---|---|---|---|---|---|---|---|---|---|---|---|---|---|---|\n",
       "| 1 | chr15:75086569-75087070   | stim | 0.4328717 | 0.02169902 | 1.011588e-88 | -0.2990962 | 0.12576227 | 1.999109e-02 | PFC_Glut | PFC | MC | Gm28502 | ENSMUSG00000099452.1  |  75076209 |  75079094 | - | genebody | -7476 | 9.510063e-86 |\n",
       "| 2 | chr12:120028551-120029052 | stim | 0.4805240 | 0.02477918 | 5.125947e-84 |  0.2256055 | 0.12031550 | 5.658753e-02 | PFC_Glut | PFC | MC | Tmem196 | ENSMUSG00000048004.15 | 119945821 | 120021246 | + | genebody | -7306 | 3.234648e-81 |\n",
       "| 3 | chrX:143482812-143483313  | stim | 0.6766919 | 0.04040743 | 3.030414e-63 | -0.4103432 | 0.15793791 | 1.027334e-02 | PFC_Glut | PFC | MC | Pak3    | ENSMUSG00000031284.16 | 143518590 | 143797796 | + | genebody | 35278 | 4.431668e-61 |\n",
       "| 4 | chr2:98662045-98662546    | stim | 0.5046512 | 0.03123931 | 5.452844e-59 | -1.2121796 | 0.09370949 | 5.131220e-38 | PFC_Glut | PFC | MC | Gm10801 | ENSMUSG00000075015.3  |  98662236 |  98664083 | + | genebody |     0 | 6.164123e-57 |\n",
       "| 5 | chr2:98662628-98663129    | stim | 0.5258591 | 0.03770465 | 1.715753e-44 | -0.7587388 | 0.09776371 | 1.811849e-14 | PFC_Glut | PFC | MC | Gm10801 | ENSMUSG00000075015.3  |  98662236 |  98664083 | + | genebody |     0 | 7.114042e-43 |\n",
       "| 6 | chr6:103648949-103649450  | stim | 0.4805918 | 0.03522453 | 1.141932e-42 | -0.4912399 | 0.14027693 | 4.267667e-04 | PFC_Glut | PFC | MC | Chl1    | ENSMUSG00000030077.11 | 103510585 | 103750211 | + | genebody |     0 | 4.188192e-41 |\n",
       "\n"
      ],
      "text/plain": [
       "  names                     tx   de_coef   de_se      de_pval      dv_coef   \n",
       "1 chr15:75086569-75087070   stim 0.4328717 0.02169902 1.011588e-88 -0.2990962\n",
       "2 chr12:120028551-120029052 stim 0.4805240 0.02477918 5.125947e-84  0.2256055\n",
       "3 chrX:143482812-143483313  stim 0.6766919 0.04040743 3.030414e-63 -0.4103432\n",
       "4 chr2:98662045-98662546    stim 0.5046512 0.03123931 5.452844e-59 -1.2121796\n",
       "5 chr2:98662628-98663129    stim 0.5258591 0.03770465 1.715753e-44 -0.7587388\n",
       "6 chr6:103648949-103649450  stim 0.4805918 0.03522453 1.141932e-42 -0.4912399\n",
       "  dv_se      dv_pval      ctname   region condition gene_name\n",
       "1 0.12576227 1.999109e-02 PFC_Glut PFC    MC        Gm28502  \n",
       "2 0.12031550 5.658753e-02 PFC_Glut PFC    MC        Tmem196  \n",
       "3 0.15793791 1.027334e-02 PFC_Glut PFC    MC        Pak3     \n",
       "4 0.09370949 5.131220e-38 PFC_Glut PFC    MC        Gm10801  \n",
       "5 0.09776371 1.811849e-14 PFC_Glut PFC    MC        Gm10801  \n",
       "6 0.14027693 4.267667e-04 PFC_Glut PFC    MC        Chl1     \n",
       "  gene_id               gstart    gend      strand annotation distance\n",
       "1 ENSMUSG00000099452.1   75076209  75079094 -      genebody   -7476   \n",
       "2 ENSMUSG00000048004.15 119945821 120021246 +      genebody   -7306   \n",
       "3 ENSMUSG00000031284.16 143518590 143797796 +      genebody   35278   \n",
       "4 ENSMUSG00000075015.3   98662236  98664083 +      genebody       0   \n",
       "5 ENSMUSG00000075015.3   98662236  98664083 +      genebody       0   \n",
       "6 ENSMUSG00000030077.11 103510585 103750211 +      genebody       0   \n",
       "  de_pval_adj \n",
       "1 9.510063e-86\n",
       "2 3.234648e-81\n",
       "3 4.431668e-61\n",
       "4 6.164123e-57\n",
       "5 7.114042e-43\n",
       "6 4.188192e-41"
      ]
     },
     "metadata": {},
     "output_type": "display_data"
    }
   ],
   "source": [
    "head(df.deg)"
   ]
  },
  {
   "cell_type": "code",
   "execution_count": 5,
   "metadata": {
    "vscode": {
     "languageId": "r"
    }
   },
   "outputs": [],
   "source": [
    "# 获取所有唯一的ct_name和condition组合\n",
    "ct.names <- c(\"AMY_Glut\", \"AMY_GABA\", \"HIP_Glut\", \"HIP_GABA\", \"PFC_Glut\", \"PFC_GABA\")\n",
    "conditions <- c(\"MC\", \"MW\")\n",
    "\n",
    "outfolder <- \"/data2st1/junyi/output/atac0416/dar/region_nt/\"\n"
   ]
  },
  {
   "cell_type": "code",
   "execution_count": 7,
   "metadata": {
    "vscode": {
     "languageId": "r"
    }
   },
   "outputs": [
    {
     "name": "stdout",
     "output_type": "stream",
     "text": [
      "[1] \"Processing: AMY_Glut MC\"\n",
      "[1] \"Number of genes: 5354\"\n"
     ]
    },
    {
     "name": "stderr",
     "output_type": "stream",
     "text": [
      "'select()' returned 1:1 mapping between keys and columns\n",
      "\n",
      "Warning message in bitr(unique(subset_df$gene_name), fromType = \"SYMBOL\", toType = \"ENTREZID\", :\n",
      "“8.04% of input gene IDs are fail to map...”\n",
      "Reading KEGG annotation online: \"https://rest.kegg.jp/link/mmu/pathway\"...\n",
      "\n",
      "Reading KEGG annotation online: \"https://rest.kegg.jp/list/pathway/mmu\"...\n",
      "\n"
     ]
    },
    {
     "name": "stdout",
     "output_type": "stream",
     "text": [
      "[1] \"Processing: AMY_Glut MW\"\n",
      "[1] \"Number of genes: 9056\"\n"
     ]
    },
    {
     "name": "stderr",
     "output_type": "stream",
     "text": [
      "'select()' returned 1:1 mapping between keys and columns\n",
      "\n",
      "Warning message in bitr(unique(subset_df$gene_name), fromType = \"SYMBOL\", toType = \"ENTREZID\", :\n",
      "“13.46% of input gene IDs are fail to map...”\n"
     ]
    },
    {
     "name": "stdout",
     "output_type": "stream",
     "text": [
      "[1] \"Processing: AMY_GABA MC\"\n",
      "[1] \"Number of genes: 6850\"\n"
     ]
    },
    {
     "name": "stderr",
     "output_type": "stream",
     "text": [
      "'select()' returned 1:1 mapping between keys and columns\n",
      "\n",
      "Warning message in bitr(unique(subset_df$gene_name), fromType = \"SYMBOL\", toType = \"ENTREZID\", :\n",
      "“7.46% of input gene IDs are fail to map...”\n"
     ]
    },
    {
     "name": "stdout",
     "output_type": "stream",
     "text": [
      "[1] \"Processing: AMY_GABA MW\"\n",
      "[1] \"Number of genes: 709\"\n"
     ]
    },
    {
     "name": "stderr",
     "output_type": "stream",
     "text": [
      "'select()' returned 1:1 mapping between keys and columns\n",
      "\n",
      "Warning message in bitr(unique(subset_df$gene_name), fromType = \"SYMBOL\", toType = \"ENTREZID\", :\n",
      "“10.45% of input gene IDs are fail to map...”\n"
     ]
    },
    {
     "name": "stdout",
     "output_type": "stream",
     "text": [
      "[1] \"Processing: HIP_Glut MC\"\n",
      "[1] \"Number of genes: 16677\"\n"
     ]
    },
    {
     "name": "stderr",
     "output_type": "stream",
     "text": [
      "'select()' returned 1:1 mapping between keys and columns\n",
      "\n",
      "Warning message in bitr(unique(subset_df$gene_name), fromType = \"SYMBOL\", toType = \"ENTREZID\", :\n",
      "“9.92% of input gene IDs are fail to map...”\n"
     ]
    },
    {
     "name": "stdout",
     "output_type": "stream",
     "text": [
      "[1] \"Processing: HIP_Glut MW\"\n",
      "[1] \"Number of genes: 2519\"\n"
     ]
    },
    {
     "name": "stderr",
     "output_type": "stream",
     "text": [
      "'select()' returned 1:1 mapping between keys and columns\n",
      "\n",
      "Warning message in bitr(unique(subset_df$gene_name), fromType = \"SYMBOL\", toType = \"ENTREZID\", :\n",
      "“10.94% of input gene IDs are fail to map...”\n"
     ]
    },
    {
     "name": "stdout",
     "output_type": "stream",
     "text": [
      "[1] \"Processing: HIP_GABA MC\"\n",
      "[1] \"Number of genes: 4682\"\n"
     ]
    },
    {
     "name": "stderr",
     "output_type": "stream",
     "text": [
      "'select()' returned 1:1 mapping between keys and columns\n",
      "\n",
      "Warning message in bitr(unique(subset_df$gene_name), fromType = \"SYMBOL\", toType = \"ENTREZID\", :\n",
      "“6.83% of input gene IDs are fail to map...”\n"
     ]
    },
    {
     "name": "stdout",
     "output_type": "stream",
     "text": [
      "[1] \"Processing: HIP_GABA MW\"\n",
      "[1] \"Number of genes: 160\"\n"
     ]
    },
    {
     "name": "stderr",
     "output_type": "stream",
     "text": [
      "'select()' returned 1:1 mapping between keys and columns\n",
      "\n",
      "Warning message in bitr(unique(subset_df$gene_name), fromType = \"SYMBOL\", toType = \"ENTREZID\", :\n",
      "“9.74% of input gene IDs are fail to map...”\n",
      "Warning message in rep(yes, length.out = len):\n",
      "“'x' is NULL so the result will be NULL”\n"
     ]
    },
    {
     "name": "stdout",
     "output_type": "stream",
     "text": [
      "[1] \"Error in subsetting data for HIP_GABA MW\"\n",
      "[1] \"Processing: PFC_Glut MC\"\n",
      "[1] \"Number of genes: 523\"\n"
     ]
    },
    {
     "name": "stderr",
     "output_type": "stream",
     "text": [
      "'select()' returned 1:1 mapping between keys and columns\n",
      "\n",
      "Warning message in bitr(unique(subset_df$gene_name), fromType = \"SYMBOL\", toType = \"ENTREZID\", :\n",
      "“9.22% of input gene IDs are fail to map...”\n"
     ]
    },
    {
     "name": "stdout",
     "output_type": "stream",
     "text": [
      "[1] \"Processing: PFC_Glut MW\"\n",
      "[1] \"Number of genes: 35404\"\n"
     ]
    },
    {
     "name": "stderr",
     "output_type": "stream",
     "text": [
      "'select()' returned 1:1 mapping between keys and columns\n",
      "\n",
      "Warning message in bitr(unique(subset_df$gene_name), fromType = \"SYMBOL\", toType = \"ENTREZID\", :\n",
      "“11.89% of input gene IDs are fail to map...”\n"
     ]
    },
    {
     "name": "stdout",
     "output_type": "stream",
     "text": [
      "[1] \"Processing: PFC_GABA MC\"\n",
      "[1] \"Number of genes: 313\"\n"
     ]
    },
    {
     "name": "stderr",
     "output_type": "stream",
     "text": [
      "'select()' returned 1:1 mapping between keys and columns\n",
      "\n",
      "Warning message in bitr(unique(subset_df$gene_name), fromType = \"SYMBOL\", toType = \"ENTREZID\", :\n",
      "“9.75% of input gene IDs are fail to map...”\n"
     ]
    },
    {
     "name": "stdout",
     "output_type": "stream",
     "text": [
      "[1] \"Processing: PFC_GABA MW\"\n",
      "[1] \"Number of genes: 9884\"\n"
     ]
    },
    {
     "name": "stderr",
     "output_type": "stream",
     "text": [
      "'select()' returned 1:1 mapping between keys and columns\n",
      "\n",
      "Warning message in bitr(unique(subset_df$gene_name), fromType = \"SYMBOL\", toType = \"ENTREZID\", :\n",
      "“8.49% of input gene IDs are fail to map...”\n"
     ]
    }
   ],
   "source": [
    "# 转换ID（Symbol → Entrez）\n",
    "\n",
    "# ctname <- \"PFC_Glut\"\n",
    "# condition <- \"MW\"\n",
    "\n",
    "for (ctname in ct.names) {\n",
    "  for (condition in conditions) {\n",
    "    # 筛选数据\n",
    "    tryCatch(\n",
    "      {\n",
    "        print(paste(\"Processing:\", ctname, condition))\n",
    "\n",
    "        subset_df <- df.deg[df.deg$ctname == ctname & df.deg$condition == condition, ]\n",
    "\n",
    "        print(paste(\"Number of genes:\", nrow(subset_df)))\n",
    "\n",
    "        gene_entrez <- bitr(unique(subset_df$gene_name), \n",
    "                            fromType = \"SYMBOL\", \n",
    "                            toType = \"ENTREZID\", \n",
    "                            OrgDb = \"org.Mm.eg.db\")\n",
    "                            \n",
    "        entrez_ids <- gene_entrez$ENTREZID\n",
    "        ego <- enrichGO(gene = entrez_ids,\n",
    "                        OrgDb = org.Mm.eg.db,\n",
    "                        keyType = \"ENTREZID\",\n",
    "                        ont = \"ALL\",  # \"BP\", \"MF\", \"CC\" 或 \"ALL\"\n",
    "                        pvalueCutoff = 0.05,\n",
    "                        qvalueCutoff = 0.05,\n",
    "                        readable = TRUE)  # 结果中显示基因符号\n",
    "\n",
    "        # 查看结果\n",
    "        write.csv(ego, file = paste(outfolder, \"GO_enrichment_memento\",ctname,condition,\".csv\",sep = \"_\"), row.names = FALSE)\n",
    "        p <- dotplot(ego, showCategory = 30)\n",
    "        ggsave(paste(outfolder, \"GO_enrichment_memento_dot\",ctname,condition,\".pdf\",sep = \"_\"), plot = p, width = 12, height = 15)  # 宽度12英寸，高度15英寸\n",
    "\n",
    "        p<-barplot(ego, showCategory = 30)  # 条形图\n",
    "        ggsave(paste(outfolder, \"GO_enrichment_memento_bar\",ctname,condition,\".pdf\",sep = \"_\"), plot = p, width = 12, height = 15)  # 宽度12英寸，高度15英寸\n",
    "\n",
    "        kk <- enrichKEGG(gene = entrez_ids,\n",
    "                        organism = \"mmu\",  # 小鼠KEGG代码\n",
    "                        pvalueCutoff = 0.05,\n",
    "                        qvalueCutoff = 0.05)\n",
    "\n",
    "        # 可视化\n",
    "        p<-dotplot(kk, showCategory = 30)\n",
    "        write.csv(kk, file = paste(outfolder, \"KEGG_enrichment_memento\",ctname,condition,\".csv\",sep = \"_\"), row.names = FALSE)\n",
    "        ggsave(paste(outfolder, \"kegg_enrichment_memento_dot\",ctname,condition,\".pdf\",sep = \"_\"), plot = p, width = 12, height = 15)  # 宽度12英寸，高度15英寸\n",
    "      }, \n",
    "      error = function(e) {\n",
    "        print(paste(\"Error in subsetting data for\", ctname, condition))\n",
    "    })\n",
    "\n",
    "  }\n",
    "}"
   ]
  }
 ],
 "metadata": {
  "kernelspec": {
   "display_name": "R",
   "language": "R",
   "name": "ir"
  },
  "language_info": {
   "codemirror_mode": "r",
   "file_extension": ".r",
   "mimetype": "text/x-r-source",
   "name": "R",
   "pygments_lexer": "r",
   "version": "4.3.3"
  }
 },
 "nbformat": 4,
 "nbformat_minor": 2
}
