{
 "cells": [
  {
   "cell_type": "code",
   "execution_count": 1,
   "metadata": {},
   "outputs": [],
   "source": [
    "import pandas as pd\n",
    "import numpy as np"
   ]
  },
  {
   "cell_type": "code",
   "execution_count": null,
   "metadata": {},
   "outputs": [],
   "source": [
    "#df_ccree = pd.read_csv('/data2st1/junyi/data/SI_Tables/SI_Table_6_Cell-subtype_specific_cCREs.csv',nrows=10)"
   ]
  },
  {
   "cell_type": "code",
   "execution_count": 2,
   "metadata": {},
   "outputs": [],
   "source": [
    "df_meta = pd.read_csv('/data2st1/junyi/data/SI_Tables/SI_Table_2_Metadata_table_for_all_the_2.3_million_nuclei_in_the_snATAC-seq_data.txt',sep='\\t')"
   ]
  },
  {
   "cell_type": "code",
   "execution_count": 6,
   "metadata": {},
   "outputs": [],
   "source": [
    "mapping = {\n",
    "    '327 Oligo NN': 'OPC-Oligo',\n",
    "    '334 Microglia NN': 'Immune',\n",
    "    '333 Endo NN': 'Vascular',\n",
    "    '319 Astro-TE NN': 'Astro-Epen',\n",
    "    '320 Astro-OLF NN': 'Astro-Epen',\n",
    "    '318 Astro-NT NN': 'Astro-Epen',\n",
    "    '321 Astroependymal NN': 'Astro-Epen',\n",
    "    '324 Hypendymal NN': 'Astro-Epen',\n",
    "    '323 Ependymal NN': 'Astro-Epen',\n",
    "    '322 Tanycyte NN': 'Astro-Epen',\n",
    "    '316 Bergmann NN': 'Astro-Epen',\n",
    "    '325 CHOR NN': 'Astro-Epen',\n",
    "    '317 Astro-CB NN': 'Astro-Epen',\n",
    "    '326 OPC NN': 'OPC-Oligo',\n",
    "    '328 OEC NN': 'Astro-Epen',\n",
    "    '335 BAM NN': 'Immune',\n",
    "    '337 DC NN': 'Immune',\n",
    "    '338 Lymphoid NN': 'Immune',\n",
    "    '330 VLMC NN': 'Vascular',\n",
    "    '329 ABC NN': 'Immune',\n",
    "    '332 SMC NN': 'Vascular',\n",
    "    '331 Peri NN': 'Vascular'\n",
    "}"
   ]
  },
  {
   "cell_type": "code",
   "execution_count": 7,
   "metadata": {},
   "outputs": [],
   "source": [
    "df_meta['Celltype.l1'] = df_meta['Subclass'].map(mapping).fillna('Neuron')\n"
   ]
  },
  {
   "cell_type": "code",
   "execution_count": 11,
   "metadata": {},
   "outputs": [
    {
     "data": {
      "text/html": [
       "<div>\n",
       "<style scoped>\n",
       "    .dataframe tbody tr th:only-of-type {\n",
       "        vertical-align: middle;\n",
       "    }\n",
       "\n",
       "    .dataframe tbody tr th {\n",
       "        vertical-align: top;\n",
       "    }\n",
       "\n",
       "    .dataframe thead th {\n",
       "        text-align: right;\n",
       "    }\n",
       "</style>\n",
       "<table border=\"1\" class=\"dataframe\">\n",
       "  <thead>\n",
       "    <tr style=\"text-align: right;\">\n",
       "      <th></th>\n",
       "      <th>CellID</th>\n",
       "      <th>Sample</th>\n",
       "      <th>Barcode</th>\n",
       "      <th># of Fragments</th>\n",
       "      <th>TSSe</th>\n",
       "      <th>L1</th>\n",
       "      <th>L2</th>\n",
       "      <th>L3</th>\n",
       "      <th>L4</th>\n",
       "      <th>pL4</th>\n",
       "      <th>NeuronTransmitter</th>\n",
       "      <th>Subclass</th>\n",
       "      <th>Celltype.l1</th>\n",
       "    </tr>\n",
       "  </thead>\n",
       "  <tbody>\n",
       "    <tr>\n",
       "      <th>0</th>\n",
       "      <td>CEMBA171206_3C.AGCGATAGACGTTCGATAAGATCCTATAGCCT</td>\n",
       "      <td>CEMBA171206_3C</td>\n",
       "      <td>AGCGATAGACGTTCGATAAGATCCTATAGCCT</td>\n",
       "      <td>3375</td>\n",
       "      <td>20.476611</td>\n",
       "      <td>1</td>\n",
       "      <td>1-1</td>\n",
       "      <td>1-1-1</td>\n",
       "      <td>1-1-1-1</td>\n",
       "      <td>1-1-1-1</td>\n",
       "      <td>NN</td>\n",
       "      <td>327 Oligo NN</td>\n",
       "      <td>OPC-Oligo</td>\n",
       "    </tr>\n",
       "    <tr>\n",
       "      <th>1</th>\n",
       "      <td>CEMBA171206_3C.AGCGATAGACTCGCTATTATGCGAATAGAGGC</td>\n",
       "      <td>CEMBA171206_3C</td>\n",
       "      <td>AGCGATAGACTCGCTATTATGCGAATAGAGGC</td>\n",
       "      <td>2566</td>\n",
       "      <td>24.494949</td>\n",
       "      <td>1</td>\n",
       "      <td>1-1</td>\n",
       "      <td>1-1-1</td>\n",
       "      <td>1-1-1-1</td>\n",
       "      <td>1-1-1-1</td>\n",
       "      <td>NN</td>\n",
       "      <td>327 Oligo NN</td>\n",
       "      <td>OPC-Oligo</td>\n",
       "    </tr>\n",
       "    <tr>\n",
       "      <th>2</th>\n",
       "      <td>CEMBA171206_3C.AGCGATAGACTCGCTATTCTAGCTATAGAGGC</td>\n",
       "      <td>CEMBA171206_3C</td>\n",
       "      <td>AGCGATAGACTCGCTATTCTAGCTATAGAGGC</td>\n",
       "      <td>1531</td>\n",
       "      <td>22.479339</td>\n",
       "      <td>1</td>\n",
       "      <td>1-1</td>\n",
       "      <td>1-1-1</td>\n",
       "      <td>1-1-1-1</td>\n",
       "      <td>1-1-1-1</td>\n",
       "      <td>NN</td>\n",
       "      <td>327 Oligo NN</td>\n",
       "      <td>OPC-Oligo</td>\n",
       "    </tr>\n",
       "    <tr>\n",
       "      <th>3</th>\n",
       "      <td>CEMBA171206_3C.AGCGATAGACTGAGCGGTAAGGAGCCTATCCT</td>\n",
       "      <td>CEMBA171206_3C</td>\n",
       "      <td>AGCGATAGACTGAGCGGTAAGGAGCCTATCCT</td>\n",
       "      <td>1430</td>\n",
       "      <td>19.805195</td>\n",
       "      <td>1</td>\n",
       "      <td>1-1</td>\n",
       "      <td>1-1-1</td>\n",
       "      <td>1-1-1-1</td>\n",
       "      <td>1-1-1-1</td>\n",
       "      <td>NN</td>\n",
       "      <td>327 Oligo NN</td>\n",
       "      <td>OPC-Oligo</td>\n",
       "    </tr>\n",
       "    <tr>\n",
       "      <th>4</th>\n",
       "      <td>CEMBA171206_3C.AGCGATAGCGTACTAGCGTCTAATCAGGACGT</td>\n",
       "      <td>CEMBA171206_3C</td>\n",
       "      <td>AGCGATAGCGTACTAGCGTCTAATCAGGACGT</td>\n",
       "      <td>1842</td>\n",
       "      <td>30.681818</td>\n",
       "      <td>1</td>\n",
       "      <td>1-1</td>\n",
       "      <td>1-1-1</td>\n",
       "      <td>1-1-1-1</td>\n",
       "      <td>1-1-1-1</td>\n",
       "      <td>NN</td>\n",
       "      <td>327 Oligo NN</td>\n",
       "      <td>OPC-Oligo</td>\n",
       "    </tr>\n",
       "    <tr>\n",
       "      <th>...</th>\n",
       "      <td>...</td>\n",
       "      <td>...</td>\n",
       "      <td>...</td>\n",
       "      <td>...</td>\n",
       "      <td>...</td>\n",
       "      <td>...</td>\n",
       "      <td>...</td>\n",
       "      <td>...</td>\n",
       "      <td>...</td>\n",
       "      <td>...</td>\n",
       "      <td>...</td>\n",
       "      <td>...</td>\n",
       "      <td>...</td>\n",
       "    </tr>\n",
       "    <tr>\n",
       "      <th>2355837</th>\n",
       "      <td>CEMBA191031_11D.TATACTCCGCTCGACCAGATCT</td>\n",
       "      <td>CEMBA191031_11D</td>\n",
       "      <td>TATACTCCGCTCGACCAGATCT</td>\n",
       "      <td>1323</td>\n",
       "      <td>13.729128</td>\n",
       "      <td>37</td>\n",
       "      <td>37-4</td>\n",
       "      <td>37-4-2</td>\n",
       "      <td>37-4-2-1</td>\n",
       "      <td>37-4-2-1</td>\n",
       "      <td>Glut</td>\n",
       "      <td>038 DG-PIR Ex IMN</td>\n",
       "      <td>Neuron</td>\n",
       "    </tr>\n",
       "    <tr>\n",
       "      <th>2355838</th>\n",
       "      <td>CEMBA191031_11D.TCTATTCCTGATGTGCATCTGG</td>\n",
       "      <td>CEMBA191031_11D</td>\n",
       "      <td>TCTATTCCTGATGTGCATCTGG</td>\n",
       "      <td>1716</td>\n",
       "      <td>21.612350</td>\n",
       "      <td>37</td>\n",
       "      <td>37-4</td>\n",
       "      <td>37-4-2</td>\n",
       "      <td>37-4-2-1</td>\n",
       "      <td>37-4-2-1</td>\n",
       "      <td>Glut</td>\n",
       "      <td>038 DG-PIR Ex IMN</td>\n",
       "      <td>Neuron</td>\n",
       "    </tr>\n",
       "    <tr>\n",
       "      <th>2355839</th>\n",
       "      <td>CEMBA191031_11D.TGTACAGCGAACGCATAGGCAC</td>\n",
       "      <td>CEMBA191031_11D</td>\n",
       "      <td>TGTACAGCGAACGCATAGGCAC</td>\n",
       "      <td>1506</td>\n",
       "      <td>19.545455</td>\n",
       "      <td>37</td>\n",
       "      <td>37-4</td>\n",
       "      <td>37-4-2</td>\n",
       "      <td>37-4-2-1</td>\n",
       "      <td>37-4-2-1</td>\n",
       "      <td>Glut</td>\n",
       "      <td>038 DG-PIR Ex IMN</td>\n",
       "      <td>Neuron</td>\n",
       "    </tr>\n",
       "    <tr>\n",
       "      <th>2355840</th>\n",
       "      <td>CEMBA191031_11D.TTAGTCGGCGGCGTTATTGTGC</td>\n",
       "      <td>CEMBA191031_11D</td>\n",
       "      <td>TTAGTCGGCGGCGTTATTGTGC</td>\n",
       "      <td>2018</td>\n",
       "      <td>16.433566</td>\n",
       "      <td>37</td>\n",
       "      <td>37-4</td>\n",
       "      <td>37-4-2</td>\n",
       "      <td>37-4-2-1</td>\n",
       "      <td>37-4-2-1</td>\n",
       "      <td>Glut</td>\n",
       "      <td>038 DG-PIR Ex IMN</td>\n",
       "      <td>Neuron</td>\n",
       "    </tr>\n",
       "    <tr>\n",
       "      <th>2355841</th>\n",
       "      <td>CEMBA191031_11D.TTGCCTGAACGGCCATCCACAA</td>\n",
       "      <td>CEMBA191031_11D</td>\n",
       "      <td>TTGCCTGAACGGCCATCCACAA</td>\n",
       "      <td>1604</td>\n",
       "      <td>13.036021</td>\n",
       "      <td>37</td>\n",
       "      <td>37-4</td>\n",
       "      <td>37-4-2</td>\n",
       "      <td>37-4-2-1</td>\n",
       "      <td>37-4-2-1</td>\n",
       "      <td>Glut</td>\n",
       "      <td>038 DG-PIR Ex IMN</td>\n",
       "      <td>Neuron</td>\n",
       "    </tr>\n",
       "  </tbody>\n",
       "</table>\n",
       "<p>2355842 rows × 13 columns</p>\n",
       "</div>"
      ],
      "text/plain": [
       "                                                  CellID           Sample  \\\n",
       "0        CEMBA171206_3C.AGCGATAGACGTTCGATAAGATCCTATAGCCT   CEMBA171206_3C   \n",
       "1        CEMBA171206_3C.AGCGATAGACTCGCTATTATGCGAATAGAGGC   CEMBA171206_3C   \n",
       "2        CEMBA171206_3C.AGCGATAGACTCGCTATTCTAGCTATAGAGGC   CEMBA171206_3C   \n",
       "3        CEMBA171206_3C.AGCGATAGACTGAGCGGTAAGGAGCCTATCCT   CEMBA171206_3C   \n",
       "4        CEMBA171206_3C.AGCGATAGCGTACTAGCGTCTAATCAGGACGT   CEMBA171206_3C   \n",
       "...                                                  ...              ...   \n",
       "2355837           CEMBA191031_11D.TATACTCCGCTCGACCAGATCT  CEMBA191031_11D   \n",
       "2355838           CEMBA191031_11D.TCTATTCCTGATGTGCATCTGG  CEMBA191031_11D   \n",
       "2355839           CEMBA191031_11D.TGTACAGCGAACGCATAGGCAC  CEMBA191031_11D   \n",
       "2355840           CEMBA191031_11D.TTAGTCGGCGGCGTTATTGTGC  CEMBA191031_11D   \n",
       "2355841           CEMBA191031_11D.TTGCCTGAACGGCCATCCACAA  CEMBA191031_11D   \n",
       "\n",
       "                                  Barcode  # of Fragments       TSSe  L1  \\\n",
       "0        AGCGATAGACGTTCGATAAGATCCTATAGCCT            3375  20.476611   1   \n",
       "1        AGCGATAGACTCGCTATTATGCGAATAGAGGC            2566  24.494949   1   \n",
       "2        AGCGATAGACTCGCTATTCTAGCTATAGAGGC            1531  22.479339   1   \n",
       "3        AGCGATAGACTGAGCGGTAAGGAGCCTATCCT            1430  19.805195   1   \n",
       "4        AGCGATAGCGTACTAGCGTCTAATCAGGACGT            1842  30.681818   1   \n",
       "...                                   ...             ...        ...  ..   \n",
       "2355837            TATACTCCGCTCGACCAGATCT            1323  13.729128  37   \n",
       "2355838            TCTATTCCTGATGTGCATCTGG            1716  21.612350  37   \n",
       "2355839            TGTACAGCGAACGCATAGGCAC            1506  19.545455  37   \n",
       "2355840            TTAGTCGGCGGCGTTATTGTGC            2018  16.433566  37   \n",
       "2355841            TTGCCTGAACGGCCATCCACAA            1604  13.036021  37   \n",
       "\n",
       "           L2      L3        L4       pL4 NeuronTransmitter  \\\n",
       "0         1-1   1-1-1   1-1-1-1   1-1-1-1                NN   \n",
       "1         1-1   1-1-1   1-1-1-1   1-1-1-1                NN   \n",
       "2         1-1   1-1-1   1-1-1-1   1-1-1-1                NN   \n",
       "3         1-1   1-1-1   1-1-1-1   1-1-1-1                NN   \n",
       "4         1-1   1-1-1   1-1-1-1   1-1-1-1                NN   \n",
       "...       ...     ...       ...       ...               ...   \n",
       "2355837  37-4  37-4-2  37-4-2-1  37-4-2-1              Glut   \n",
       "2355838  37-4  37-4-2  37-4-2-1  37-4-2-1              Glut   \n",
       "2355839  37-4  37-4-2  37-4-2-1  37-4-2-1              Glut   \n",
       "2355840  37-4  37-4-2  37-4-2-1  37-4-2-1              Glut   \n",
       "2355841  37-4  37-4-2  37-4-2-1  37-4-2-1              Glut   \n",
       "\n",
       "                  Subclass Celltype.l1  \n",
       "0             327 Oligo NN   OPC-Oligo  \n",
       "1             327 Oligo NN   OPC-Oligo  \n",
       "2             327 Oligo NN   OPC-Oligo  \n",
       "3             327 Oligo NN   OPC-Oligo  \n",
       "4             327 Oligo NN   OPC-Oligo  \n",
       "...                    ...         ...  \n",
       "2355837  038 DG-PIR Ex IMN      Neuron  \n",
       "2355838  038 DG-PIR Ex IMN      Neuron  \n",
       "2355839  038 DG-PIR Ex IMN      Neuron  \n",
       "2355840  038 DG-PIR Ex IMN      Neuron  \n",
       "2355841  038 DG-PIR Ex IMN      Neuron  \n",
       "\n",
       "[2355842 rows x 13 columns]"
      ]
     },
     "execution_count": 11,
     "metadata": {},
     "output_type": "execute_result"
    }
   ],
   "source": [
    "df_meta"
   ]
  },
  {
   "cell_type": "code",
   "execution_count": 12,
   "metadata": {},
   "outputs": [],
   "source": [
    "row_ccree = pd.read_csv('/data2st1/junyi/data/SI_Tables/SI_Table_6_Cell-subtype_specific_cCREs.csv',nrows=1)"
   ]
  },
  {
   "cell_type": "code",
   "execution_count": null,
   "metadata": {},
   "outputs": [
    {
     "data": {
      "text/plain": [
       "array([0., 0., 0., ..., 0., 0., 0.])"
      ]
     },
     "execution_count": 14,
     "metadata": {},
     "output_type": "execute_result"
    }
   ],
   "source": [
    "np.zeros(row_ccree.shape[1])"
   ]
  },
  {
   "cell_type": "code",
   "execution_count": 16,
   "metadata": {},
   "outputs": [],
   "source": [
    "from scipy.sparse import csr_matrix\n",
    "\n",
    "csr_zero_matrix = csr_matrix(np.zeros(row_ccree.shape[1]))\n"
   ]
  },
  {
   "cell_type": "code",
   "execution_count": 17,
   "metadata": {},
   "outputs": [
    {
     "data": {
      "text/plain": [
       "<Compressed Sparse Row sparse matrix of dtype 'float64'\n",
       "\twith 0 stored elements and shape (1, 1053811)>"
      ]
     },
     "execution_count": 17,
     "metadata": {},
     "output_type": "execute_result"
    }
   ],
   "source": [
    "csr_zero_matrix"
   ]
  },
  {
   "cell_type": "code",
   "execution_count": null,
   "metadata": {},
   "outputs": [],
   "source": []
  },
  {
   "cell_type": "code",
   "execution_count": 21,
   "metadata": {},
   "outputs": [],
   "source": [
    "cell_to_type = dict(zip(df_meta['L4'],df_meta['Celltype.l1']))"
   ]
  },
  {
   "cell_type": "code",
   "execution_count": 26,
   "metadata": {},
   "outputs": [
    {
     "data": {
      "text/plain": [
       "False"
      ]
     },
     "execution_count": 26,
     "metadata": {},
     "output_type": "execute_result"
    }
   ],
   "source": [
    "'12-2-3-p3' in df_meta['pL4']"
   ]
  },
  {
   "cell_type": "code",
   "execution_count": 1,
   "metadata": {},
   "outputs": [
    {
     "ename": "NameError",
     "evalue": "name 'df_meta' is not defined",
     "output_type": "error",
     "traceback": [
      "\u001b[0;31m---------------------------------------------------------------------------\u001b[0m",
      "\u001b[0;31mNameError\u001b[0m                                 Traceback (most recent call last)",
      "Cell \u001b[0;32mIn[1], line 3\u001b[0m\n\u001b[1;32m      1\u001b[0m csv_file \u001b[38;5;241m=\u001b[39m \u001b[38;5;124m\"\u001b[39m\u001b[38;5;124m/data2st1/junyi/data/SI_Tables/SI_Table_6_Cell-subtype_specific_cCREs.csv\u001b[39m\u001b[38;5;124m\"\u001b[39m\n\u001b[1;32m      2\u001b[0m cell_type_sums \u001b[38;5;241m=\u001b[39m {}\n\u001b[0;32m----> 3\u001b[0m \u001b[38;5;28;01mfor\u001b[39;00m cell_type \u001b[38;5;129;01min\u001b[39;00m \u001b[43mdf_meta\u001b[49m[\u001b[38;5;124m'\u001b[39m\u001b[38;5;124mCelltype.l1\u001b[39m\u001b[38;5;124m'\u001b[39m]\u001b[38;5;241m.\u001b[39munique():\n\u001b[1;32m      4\u001b[0m     cell_type_sums[cell_type] \u001b[38;5;241m=\u001b[39m csr_zero_matrix\n\u001b[1;32m      5\u001b[0m chunksize \u001b[38;5;241m=\u001b[39m \u001b[38;5;241m100\u001b[39m  \u001b[38;5;66;03m# Number of rows to process at a time\u001b[39;00m\n",
      "\u001b[0;31mNameError\u001b[0m: name 'df_meta' is not defined"
     ]
    }
   ],
   "source": [
    "csv_file = \"/data2st1/junyi/data/SI_Tables/SI_Table_6_Cell-subtype_specific_cCREs.csv\"\n",
    "cell_type_sums = {}\n",
    "for cell_type in df_meta['Celltype.l1'].unique():\n",
    "    cell_type_sums[cell_type] = csr_zero_matrix\n",
    "chunksize = 100  # Number of rows to process at a time\n",
    "for chunk in pd.read_csv(csv_file, chunksize=chunksize):    \n",
    "    for cell, row in chunk.iterrows():\n",
    "        try:\n",
    "            cell_type = cell_to_type[cell]\n",
    "            cell_type_sums[cell_type] += csr_matrix(row)\n",
    "        except KeyError:\n",
    "            continue\n",
    "        \n"
   ]
  }
 ],
 "metadata": {
  "kernelspec": {
   "display_name": "snapatac2",
   "language": "python",
   "name": "python3"
  },
  "language_info": {
   "codemirror_mode": {
    "name": "ipython",
    "version": 3
   },
   "file_extension": ".py",
   "mimetype": "text/x-python",
   "name": "python",
   "nbconvert_exporter": "python",
   "pygments_lexer": "ipython3",
   "version": "3.10.0"
  }
 },
 "nbformat": 4,
 "nbformat_minor": 2
}
