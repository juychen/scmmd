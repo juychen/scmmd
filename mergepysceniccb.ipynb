{
 "cells": [
  {
   "cell_type": "code",
   "execution_count": 17,
   "id": "8846e411",
   "metadata": {},
   "outputs": [],
   "source": [
    "import pandas as pd\n",
    "import glob as glob\n",
    "import os"
   ]
  },
  {
   "cell_type": "code",
   "execution_count": 4,
   "id": "99e298a7",
   "metadata": {},
   "outputs": [],
   "source": [
    "files =glob.glob('/data2st1/junyi/scenic/mouse/motif/singletons/*')"
   ]
  },
  {
   "cell_type": "code",
   "execution_count": 7,
   "id": "1cdb5901",
   "metadata": {},
   "outputs": [],
   "source": [
    "f = files[0]"
   ]
  },
  {
   "cell_type": "code",
   "execution_count": 10,
   "id": "b3cf1199",
   "metadata": {},
   "outputs": [],
   "source": [
    "df_f = pd.read_csv(f, sep='\\t', header=None,skiprows=1)"
   ]
  },
  {
   "cell_type": "code",
   "execution_count": 18,
   "id": "681d47e3",
   "metadata": {},
   "outputs": [],
   "source": [
    "name = os.path.basename(f).replace('.cb', '')"
   ]
  },
  {
   "cell_type": "code",
   "execution_count": 19,
   "id": "a83e2b66",
   "metadata": {},
   "outputs": [
    {
     "data": {
      "text/plain": [
       "'metacluster_53.9'"
      ]
     },
     "execution_count": 19,
     "metadata": {},
     "output_type": "execute_result"
    }
   ],
   "source": [
    "name"
   ]
  },
  {
   "cell_type": "code",
   "execution_count": 20,
   "id": "cbbe58a8",
   "metadata": {},
   "outputs": [
    {
     "data": {
      "application/vnd.microsoft.datawrangler.viewer.v0+json": {
       "columns": [
        {
         "name": "index",
         "rawType": "int64",
         "type": "integer"
        },
        {
         "name": "0",
         "rawType": "int64",
         "type": "integer"
        },
        {
         "name": "1",
         "rawType": "int64",
         "type": "integer"
        },
        {
         "name": "2",
         "rawType": "int64",
         "type": "integer"
        },
        {
         "name": "3",
         "rawType": "int64",
         "type": "integer"
        },
        {
         "name": "4",
         "rawType": "int64",
         "type": "integer"
        },
        {
         "name": "5",
         "rawType": "int64",
         "type": "integer"
        },
        {
         "name": "6",
         "rawType": "int64",
         "type": "integer"
        },
        {
         "name": "7",
         "rawType": "int64",
         "type": "integer"
        }
       ],
       "ref": "b59e30d4-8ed7-4e7b-97e2-e53f5bbb215e",
       "rows": [
        [
         "0",
         "51",
         "42",
         "43",
         "885",
         "39",
         "65",
         "286",
         "118"
        ],
        [
         "1",
         "777",
         "26",
         "12",
         "62",
         "922",
         "106",
         "208",
         "614"
        ],
        [
         "2",
         "123",
         "912",
         "89",
         "22",
         "14",
         "798",
         "365",
         "41"
        ],
        [
         "3",
         "49",
         "20",
         "856",
         "31",
         "25",
         "31",
         "142",
         "227"
        ]
       ],
       "shape": {
        "columns": 8,
        "rows": 4
       }
      },
      "text/html": [
       "<div>\n",
       "<style scoped>\n",
       "    .dataframe tbody tr th:only-of-type {\n",
       "        vertical-align: middle;\n",
       "    }\n",
       "\n",
       "    .dataframe tbody tr th {\n",
       "        vertical-align: top;\n",
       "    }\n",
       "\n",
       "    .dataframe thead th {\n",
       "        text-align: right;\n",
       "    }\n",
       "</style>\n",
       "<table border=\"1\" class=\"dataframe\">\n",
       "  <thead>\n",
       "    <tr style=\"text-align: right;\">\n",
       "      <th></th>\n",
       "      <th>0</th>\n",
       "      <th>1</th>\n",
       "      <th>2</th>\n",
       "      <th>3</th>\n",
       "      <th>4</th>\n",
       "      <th>5</th>\n",
       "      <th>6</th>\n",
       "      <th>7</th>\n",
       "    </tr>\n",
       "  </thead>\n",
       "  <tbody>\n",
       "    <tr>\n",
       "      <th>0</th>\n",
       "      <td>51</td>\n",
       "      <td>42</td>\n",
       "      <td>43</td>\n",
       "      <td>885</td>\n",
       "      <td>39</td>\n",
       "      <td>65</td>\n",
       "      <td>286</td>\n",
       "      <td>118</td>\n",
       "    </tr>\n",
       "    <tr>\n",
       "      <th>1</th>\n",
       "      <td>777</td>\n",
       "      <td>26</td>\n",
       "      <td>12</td>\n",
       "      <td>62</td>\n",
       "      <td>922</td>\n",
       "      <td>106</td>\n",
       "      <td>208</td>\n",
       "      <td>614</td>\n",
       "    </tr>\n",
       "    <tr>\n",
       "      <th>2</th>\n",
       "      <td>123</td>\n",
       "      <td>912</td>\n",
       "      <td>89</td>\n",
       "      <td>22</td>\n",
       "      <td>14</td>\n",
       "      <td>798</td>\n",
       "      <td>365</td>\n",
       "      <td>41</td>\n",
       "    </tr>\n",
       "    <tr>\n",
       "      <th>3</th>\n",
       "      <td>49</td>\n",
       "      <td>20</td>\n",
       "      <td>856</td>\n",
       "      <td>31</td>\n",
       "      <td>25</td>\n",
       "      <td>31</td>\n",
       "      <td>142</td>\n",
       "      <td>227</td>\n",
       "    </tr>\n",
       "  </tbody>\n",
       "</table>\n",
       "</div>"
      ],
      "text/plain": [
       "     0    1    2    3    4    5    6    7\n",
       "0   51   42   43  885   39   65  286  118\n",
       "1  777   26   12   62  922  106  208  614\n",
       "2  123  912   89   22   14  798  365   41\n",
       "3   49   20  856   31   25   31  142  227"
      ]
     },
     "execution_count": 20,
     "metadata": {},
     "output_type": "execute_result"
    }
   ],
   "source": [
    "df_f.T"
   ]
  },
  {
   "cell_type": "code",
   "execution_count": null,
   "id": "7b69cbbb",
   "metadata": {},
   "outputs": [],
   "source": [
    "# >fantom__motif144_AAKCMSGT  \n",
    "# A  [89.4  73.6  16.7   4.8  56.4  22.0   1.8   8.6]  \n",
    "# C  [ 3.6   7.3   0.1  78.4  38.9  32.2   8.0   8.8]  \n",
    "# G  [ 3.8  14.2  37.4   6.9   0.1  45.7  85.5   4.7]  \n",
    "# T  [ 3.2   4.9  45.8   9.9   4.6   0.1   4.7  77.9]  \n",
    "# transform into jaspar format\n",
    "df_f.columns = ['A [', 'C [', 'G [', 'T [']\n"
   ]
  },
  {
   "cell_type": "code",
   "execution_count": 33,
   "id": "601c34ca",
   "metadata": {},
   "outputs": [
    {
     "name": "stderr",
     "output_type": "stream",
     "text": [
      "/tmp/ipykernel_2597811/2507552384.py:1: FutureWarning: The frame.append method is deprecated and will be removed from pandas in a future version. Use pandas.concat instead.\n",
      "  df_f.append(pd.Series([']'] *4), ignore_index=True)\n"
     ]
    },
    {
     "data": {
      "application/vnd.microsoft.datawrangler.viewer.v0+json": {
       "columns": [
        {
         "name": "index",
         "rawType": "int64",
         "type": "integer"
        },
        {
         "name": "A [",
         "rawType": "float64",
         "type": "float"
        },
        {
         "name": "C [",
         "rawType": "float64",
         "type": "float"
        },
        {
         "name": "G [",
         "rawType": "float64",
         "type": "float"
        },
        {
         "name": "T [",
         "rawType": "float64",
         "type": "float"
        },
        {
         "name": "0",
         "rawType": "object",
         "type": "string"
        },
        {
         "name": "1",
         "rawType": "object",
         "type": "string"
        },
        {
         "name": "2",
         "rawType": "object",
         "type": "string"
        },
        {
         "name": "3",
         "rawType": "object",
         "type": "string"
        }
       ],
       "ref": "93b3687f-0a00-4cf9-994b-f317f61cad1b",
       "rows": [
        [
         "0",
         "51.0",
         "777.0",
         "123.0",
         "49.0",
         null,
         null,
         null,
         null
        ],
        [
         "1",
         "42.0",
         "26.0",
         "912.0",
         "20.0",
         null,
         null,
         null,
         null
        ],
        [
         "2",
         "43.0",
         "12.0",
         "89.0",
         "856.0",
         null,
         null,
         null,
         null
        ],
        [
         "3",
         "885.0",
         "62.0",
         "22.0",
         "31.0",
         null,
         null,
         null,
         null
        ],
        [
         "4",
         "39.0",
         "922.0",
         "14.0",
         "25.0",
         null,
         null,
         null,
         null
        ],
        [
         "5",
         "65.0",
         "106.0",
         "798.0",
         "31.0",
         null,
         null,
         null,
         null
        ],
        [
         "6",
         "286.0",
         "208.0",
         "365.0",
         "142.0",
         null,
         null,
         null,
         null
        ],
        [
         "7",
         "118.0",
         "614.0",
         "41.0",
         "227.0",
         null,
         null,
         null,
         null
        ],
        [
         "8",
         null,
         null,
         null,
         null,
         "]",
         "]",
         "]",
         "]"
        ]
       ],
       "shape": {
        "columns": 8,
        "rows": 9
       }
      },
      "text/html": [
       "<div>\n",
       "<style scoped>\n",
       "    .dataframe tbody tr th:only-of-type {\n",
       "        vertical-align: middle;\n",
       "    }\n",
       "\n",
       "    .dataframe tbody tr th {\n",
       "        vertical-align: top;\n",
       "    }\n",
       "\n",
       "    .dataframe thead th {\n",
       "        text-align: right;\n",
       "    }\n",
       "</style>\n",
       "<table border=\"1\" class=\"dataframe\">\n",
       "  <thead>\n",
       "    <tr style=\"text-align: right;\">\n",
       "      <th></th>\n",
       "      <th>A [</th>\n",
       "      <th>C [</th>\n",
       "      <th>G [</th>\n",
       "      <th>T [</th>\n",
       "      <th>0</th>\n",
       "      <th>1</th>\n",
       "      <th>2</th>\n",
       "      <th>3</th>\n",
       "    </tr>\n",
       "  </thead>\n",
       "  <tbody>\n",
       "    <tr>\n",
       "      <th>0</th>\n",
       "      <td>51.0</td>\n",
       "      <td>777.0</td>\n",
       "      <td>123.0</td>\n",
       "      <td>49.0</td>\n",
       "      <td>NaN</td>\n",
       "      <td>NaN</td>\n",
       "      <td>NaN</td>\n",
       "      <td>NaN</td>\n",
       "    </tr>\n",
       "    <tr>\n",
       "      <th>1</th>\n",
       "      <td>42.0</td>\n",
       "      <td>26.0</td>\n",
       "      <td>912.0</td>\n",
       "      <td>20.0</td>\n",
       "      <td>NaN</td>\n",
       "      <td>NaN</td>\n",
       "      <td>NaN</td>\n",
       "      <td>NaN</td>\n",
       "    </tr>\n",
       "    <tr>\n",
       "      <th>2</th>\n",
       "      <td>43.0</td>\n",
       "      <td>12.0</td>\n",
       "      <td>89.0</td>\n",
       "      <td>856.0</td>\n",
       "      <td>NaN</td>\n",
       "      <td>NaN</td>\n",
       "      <td>NaN</td>\n",
       "      <td>NaN</td>\n",
       "    </tr>\n",
       "    <tr>\n",
       "      <th>3</th>\n",
       "      <td>885.0</td>\n",
       "      <td>62.0</td>\n",
       "      <td>22.0</td>\n",
       "      <td>31.0</td>\n",
       "      <td>NaN</td>\n",
       "      <td>NaN</td>\n",
       "      <td>NaN</td>\n",
       "      <td>NaN</td>\n",
       "    </tr>\n",
       "    <tr>\n",
       "      <th>4</th>\n",
       "      <td>39.0</td>\n",
       "      <td>922.0</td>\n",
       "      <td>14.0</td>\n",
       "      <td>25.0</td>\n",
       "      <td>NaN</td>\n",
       "      <td>NaN</td>\n",
       "      <td>NaN</td>\n",
       "      <td>NaN</td>\n",
       "    </tr>\n",
       "    <tr>\n",
       "      <th>5</th>\n",
       "      <td>65.0</td>\n",
       "      <td>106.0</td>\n",
       "      <td>798.0</td>\n",
       "      <td>31.0</td>\n",
       "      <td>NaN</td>\n",
       "      <td>NaN</td>\n",
       "      <td>NaN</td>\n",
       "      <td>NaN</td>\n",
       "    </tr>\n",
       "    <tr>\n",
       "      <th>6</th>\n",
       "      <td>286.0</td>\n",
       "      <td>208.0</td>\n",
       "      <td>365.0</td>\n",
       "      <td>142.0</td>\n",
       "      <td>NaN</td>\n",
       "      <td>NaN</td>\n",
       "      <td>NaN</td>\n",
       "      <td>NaN</td>\n",
       "    </tr>\n",
       "    <tr>\n",
       "      <th>7</th>\n",
       "      <td>118.0</td>\n",
       "      <td>614.0</td>\n",
       "      <td>41.0</td>\n",
       "      <td>227.0</td>\n",
       "      <td>NaN</td>\n",
       "      <td>NaN</td>\n",
       "      <td>NaN</td>\n",
       "      <td>NaN</td>\n",
       "    </tr>\n",
       "    <tr>\n",
       "      <th>8</th>\n",
       "      <td>NaN</td>\n",
       "      <td>NaN</td>\n",
       "      <td>NaN</td>\n",
       "      <td>NaN</td>\n",
       "      <td>]</td>\n",
       "      <td>]</td>\n",
       "      <td>]</td>\n",
       "      <td>]</td>\n",
       "    </tr>\n",
       "  </tbody>\n",
       "</table>\n",
       "</div>"
      ],
      "text/plain": [
       "     A [    C [    G [    T [    0    1    2    3\n",
       "0   51.0  777.0  123.0   49.0  NaN  NaN  NaN  NaN\n",
       "1   42.0   26.0  912.0   20.0  NaN  NaN  NaN  NaN\n",
       "2   43.0   12.0   89.0  856.0  NaN  NaN  NaN  NaN\n",
       "3  885.0   62.0   22.0   31.0  NaN  NaN  NaN  NaN\n",
       "4   39.0  922.0   14.0   25.0  NaN  NaN  NaN  NaN\n",
       "5   65.0  106.0  798.0   31.0  NaN  NaN  NaN  NaN\n",
       "6  286.0  208.0  365.0  142.0  NaN  NaN  NaN  NaN\n",
       "7  118.0  614.0   41.0  227.0  NaN  NaN  NaN  NaN\n",
       "8    NaN    NaN    NaN    NaN    ]    ]    ]    ]"
      ]
     },
     "execution_count": 33,
     "metadata": {},
     "output_type": "execute_result"
    }
   ],
   "source": [
    "df_f.append(pd.Series([']'] *4), ignore_index=True)"
   ]
  }
 ],
 "metadata": {
  "kernelspec": {
   "display_name": "snapatac2",
   "language": "python",
   "name": "python3"
  },
  "language_info": {
   "codemirror_mode": {
    "name": "ipython",
    "version": 3
   },
   "file_extension": ".py",
   "mimetype": "text/x-python",
   "name": "python",
   "nbconvert_exporter": "python",
   "pygments_lexer": "ipython3",
   "version": "3.10.0"
  }
 },
 "nbformat": 4,
 "nbformat_minor": 5
}
