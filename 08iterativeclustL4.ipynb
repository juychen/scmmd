{
 "cells": [
  {
   "cell_type": "code",
   "execution_count": 1,
   "metadata": {},
   "outputs": [],
   "source": [
    "import matplotlib.pyplot as plt\n",
    "import snapatac2 as snap\n",
    "import numpy as np\n",
    "import pandas as pd\n",
    "import seaborn as sns\n",
    "from sklearn.metrics import silhouette_score\n",
    "import glob\n",
    "import warnings\n",
    "import os\n",
    "warnings.filterwarnings(\"ignore\")\n"
   ]
  },
  {
   "cell_type": "code",
   "execution_count": 2,
   "metadata": {},
   "outputs": [],
   "source": [
    "files_l3s = glob.glob(\"/data2st1/junyi/output/atac0416/iterative/l3/*.csv\")"
   ]
  },
  {
   "cell_type": "code",
   "execution_count": 3,
   "metadata": {},
   "outputs": [],
   "source": [
    "file_l3=files_l3s[0]"
   ]
  },
  {
   "cell_type": "code",
   "execution_count": 4,
   "metadata": {},
   "outputs": [],
   "source": [
    "df_l3 = pd.read_csv(file_l3,index_col=0)"
   ]
  },
  {
   "cell_type": "code",
   "execution_count": 5,
   "metadata": {},
   "outputs": [
    {
     "data": {
      "text/html": [
       "<div>\n",
       "<style scoped>\n",
       "    .dataframe tbody tr th:only-of-type {\n",
       "        vertical-align: middle;\n",
       "    }\n",
       "\n",
       "    .dataframe tbody tr th {\n",
       "        vertical-align: top;\n",
       "    }\n",
       "\n",
       "    .dataframe thead th {\n",
       "        text-align: right;\n",
       "    }\n",
       "</style>\n",
       "<table border=\"1\" class=\"dataframe\">\n",
       "  <thead>\n",
       "    <tr style=\"text-align: right;\">\n",
       "      <th></th>\n",
       "      <th>celltype.L3</th>\n",
       "      <th>count</th>\n",
       "    </tr>\n",
       "  </thead>\n",
       "  <tbody>\n",
       "    <tr>\n",
       "      <th>0</th>\n",
       "      <td>Hippo Pvalb GABA-0</td>\n",
       "      <td>486</td>\n",
       "    </tr>\n",
       "    <tr>\n",
       "      <th>1</th>\n",
       "      <td>Hippo Pvalb GABA-1</td>\n",
       "      <td>292</td>\n",
       "    </tr>\n",
       "  </tbody>\n",
       "</table>\n",
       "</div>"
      ],
      "text/plain": [
       "          celltype.L3  count\n",
       "0  Hippo Pvalb GABA-0    486\n",
       "1  Hippo Pvalb GABA-1    292"
      ]
     },
     "execution_count": 5,
     "metadata": {},
     "output_type": "execute_result"
    }
   ],
   "source": [
    "df_l3_count = df_l3.value_counts().reset_index()\n",
    "df_l3_count"
   ]
  },
  {
   "cell_type": "code",
   "execution_count": 6,
   "metadata": {},
   "outputs": [],
   "source": [
    "ctname = os.path.basename(file_l3).split(\".\")[0].replace(\"_l3\",\"\")"
   ]
  },
  {
   "cell_type": "code",
   "execution_count": 7,
   "metadata": {},
   "outputs": [],
   "source": [
    "adata_concat = snap.read_dataset(f'/data2st1/junyi/output/atac0416/iterative/l3/{ctname}.h5ads/_dataset.h5ads')"
   ]
  },
  {
   "cell_type": "code",
   "execution_count": 9,
   "metadata": {},
   "outputs": [
    {
     "name": "stderr",
     "output_type": "stream",
     "text": [
      "thread '<unnamed>' panicked at /root/.cargo/registry/src/index.crates.io-6f17d22bba15001f/anndata-0.4.2/src/data/array.rs:263:27:\n",
      "called `Option::unwrap()` on a `None` value\n",
      "note: run with `RUST_BACKTRACE=1` environment variable to display a backtrace\n"
     ]
    },
    {
     "ename": "PanicException",
     "evalue": "called `Option::unwrap()` on a `None` value",
     "output_type": "error",
     "traceback": [
      "\u001b[0;31m---------------------------------------------------------------------------\u001b[0m",
      "\u001b[0;31mPanicException\u001b[0m                            Traceback (most recent call last)",
      "Cell \u001b[0;32mIn[9], line 1\u001b[0m\n\u001b[0;32m----> 1\u001b[0m \u001b[43madata_concat\u001b[49m\u001b[38;5;241;43m.\u001b[39;49m\u001b[43mto_adata\u001b[49m\u001b[43m(\u001b[49m\u001b[43m)\u001b[49m\n",
      "\u001b[0;31mPanicException\u001b[0m: called `Option::unwrap()` on a `None` value"
     ]
    }
   ],
   "source": [
    "adata_concat.to_adata()"
   ]
  },
  {
   "cell_type": "code",
   "execution_count": null,
   "metadata": {},
   "outputs": [],
   "source": [
    "for index,row in (df_l3_count.iterrows()):\n",
    "    celltype = row['celltype.L3']\n",
    "    count = row['count']\n",
    "    print(celltype,count)\n",
    "    if count > 400:\n",
    "        select_idx = df_l3[df_l3['celltype.L3'] == celltype].index\n",
    "        datasubset,newidx =adata_concat.subset(obs_indices=select_idx,out=f'/data2st1/junyi/output/atac0416/iterative/l4/{celltype}.h5ads')\n",
    "    else:\n",
    "        continue    "
   ]
  },
  {
   "cell_type": "code",
   "execution_count": null,
   "metadata": {},
   "outputs": [],
   "source": [
    "celltype"
   ]
  },
  {
   "cell_type": "code",
   "execution_count": null,
   "metadata": {},
   "outputs": [],
   "source": [
    "df_l3"
   ]
  },
  {
   "cell_type": "code",
   "execution_count": null,
   "metadata": {},
   "outputs": [],
   "source": [
    "datasubset,newidx =adata_concat.subset(obs_indices=st1.index,out=f'/data2st1/junyi/output/atac0416/iterative/l3/{l2name}.h5ads')\n"
   ]
  },
  {
   "cell_type": "code",
   "execution_count": null,
   "metadata": {},
   "outputs": [],
   "source": [
    "black_list = ['Immune','OPC-Oligo','Doublet','PFC Doublet','PFC Not sure','Not sure','Astro-Epen']"
   ]
  },
  {
   "cell_type": "code",
   "execution_count": null,
   "metadata": {},
   "outputs": [],
   "source": [
    "df_meta_all[\"celltype.L2\"].unique()\n",
    "l2type = df_meta_all[\"celltype.L2\"].unique()[0]"
   ]
  },
  {
   "cell_type": "code",
   "execution_count": null,
   "metadata": {},
   "outputs": [],
   "source": [
    "best_ress = []\n",
    "n_clusters = []\n",
    "n_cells = []\n",
    "ctypes = []\n",
    "\n",
    "for l2type in df_meta_all[\"celltype.L2\"].unique()[:3]:\n",
    "    if l2type in black_list:\n",
    "        continue\n",
    "\n",
    "    # Subset the data for the current L2 type\n",
    "    st1 = df_meta_all[df_meta_all[\"celltype.L2\"]==l2type]\n",
    "    l2name = l2type.replace(' ','_')\n",
    "\n",
    "    # Preprocess the subset \n",
    "    snap.tl.spectral(datasubset,n_comps=30)\n",
    "    snap.pp.knn(datasubset, use_rep=\"X_spectral\",n_neighbors=50)\n",
    "    snap.tl.umap(datasubset)\n",
    "\n",
    "    # Perform clustering with different resolutions and calculate silhouette scores\n",
    "    max_silhoutte =0\n",
    "    X=datasubset.obsm['X_spectral']\n",
    "    df_plot = pd.DataFrame()\n",
    "\n",
    "    # Iterate over different resolution values\n",
    "    for res in np.arange(0.1, 2.0, 0.1):\n",
    "        snap.tl.leiden(datasubset, resolution=res)\n",
    "        Y=datasubset.obs['leiden']\n",
    "\n",
    "        # Calculate silhouette score\n",
    "        try:\n",
    "            score = silhouette_score(X,Y)\n",
    "        except ValueError as e:\n",
    "            score = 0\n",
    "        if score > max_silhoutte:\n",
    "            max_silhoutte = score\n",
    "            best_res = res\n",
    "            print(f\"Best silhouette score: {max_silhoutte} at resolution {best_res}\")\n",
    "\n",
    "        if len(df_plot) == 0:\n",
    "            df_plot = pd.DataFrame({\"UMAP1\":datasubset.obsm['X_umap'][:,0],\"UMAP2\":datasubset.obsm['X_umap'][:,1],\n",
    "                                    \"resolution\":np.round(res,1),\"silhouette_score\":score,\n",
    "                                    \"leiden\":Y})\n",
    "\n",
    "        else:\n",
    "            df_tmp = pd.DataFrame({\"UMAP1\":datasubset.obsm['X_umap'][:,0],\"UMAP2\":datasubset.obsm['X_umap'][:,1],\n",
    "                                    \"resolution\":np.round(res,1),\"silhouette_score\":score,\n",
    "                                    \"leiden\":Y})\n",
    "            df_plot = pd.concat([df_plot,df_tmp],ignore_index=True)\n",
    "        \n",
    "        # Stop if the median cluster size is less than 400\n",
    "        if Y.value_counts().to_pandas()[\"count\"].median()<400:\n",
    "            print(f\"Resolution {res} has a median cluster with less than 400 cells\")\n",
    "            break\n",
    "\n",
    "    # Plot the results\n",
    "    snap.tl.leiden(datasubset, resolution=best_res)\n",
    "    sns.relplot(\n",
    "        data=df_plot, x=\"UMAP1\", y=\"UMAP2\",\n",
    "        col=\"resolution\", hue=\"leiden\",\n",
    "        col_wrap=5,linewidth=0,\n",
    "        height=3, aspect=1.3\n",
    "    )\n",
    "    plt.savefig(f'/data2st1/junyi/output/atac0416/iterative/l3/{l2name}_umap.png', dpi=300, bbox_inches='tight')\n",
    "    df_meta_subtypes = pd.DataFrame({\"celltype.L3\":datasubset.obs['leiden'].to_numpy()},index=datasubset.obs_names)\n",
    "    df_meta_subtypes[\"celltype.L3\"] = l2type+\"-\"+df_meta_subtypes[\"celltype.L3\"].astype(str)\n",
    "    df_meta_subtypes.to_csv(f'/data2st1/junyi/output/atac0416/iterative/l3/{l2name}_l3.csv')\n",
    "\n",
    "    best_ress.append(best_res)\n",
    "    n_clusters.append(len(datasubset.obs['leiden'].unique()))\n",
    "    ctypes.append(l2type)\n",
    "    n_cells.append(len(datasubset.obs_names))\n",
    "    datasubset.close()"
   ]
  },
  {
   "cell_type": "code",
   "execution_count": null,
   "metadata": {},
   "outputs": [],
   "source": [
    "df_summary = pd.DataFrame({\"celltype.L2\":ctypes,\"best_resolution\":best_ress,\"n_clusters\":n_clusters,\"n_cells\":n_cells})  "
   ]
  },
  {
   "cell_type": "code",
   "execution_count": null,
   "metadata": {},
   "outputs": [],
   "source": [
    "df_summary.to_csv('/data2st1/junyi/output/atac0416/iterative/l3/l3_summary.csv')"
   ]
  }
 ],
 "metadata": {
  "kernelspec": {
   "display_name": "snapatac2",
   "language": "python",
   "name": "python3"
  },
  "language_info": {
   "codemirror_mode": {
    "name": "ipython",
    "version": 3
   },
   "file_extension": ".py",
   "mimetype": "text/x-python",
   "name": "python",
   "nbconvert_exporter": "python",
   "pygments_lexer": "ipython3",
   "version": "3.10.0"
  }
 },
 "nbformat": 4,
 "nbformat_minor": 2
}
