{
 "cells": [
  {
   "cell_type": "code",
   "execution_count": 22,
   "metadata": {},
   "outputs": [],
   "source": [
    "import matplotlib.pyplot as plt\n",
    "import snapatac2 as snap\n",
    "import numpy as np\n",
    "import pandas as pd\n",
    "import seaborn as sns\n",
    "from sklearn.metrics import silhouette_score\n",
    "import glob\n",
    "import warnings\n",
    "import os\n",
    "warnings.filterwarnings(\"ignore\")\n"
   ]
  },
  {
   "cell_type": "code",
   "execution_count": 6,
   "metadata": {},
   "outputs": [],
   "source": [
    "files_l3s = glob.glob(\"/data2st1/junyi/output/atac0416/iterative/l3/*.csv\")"
   ]
  },
  {
   "cell_type": "code",
   "execution_count": 12,
   "metadata": {},
   "outputs": [],
   "source": [
    "file_l3=files_l3s[0]"
   ]
  },
  {
   "cell_type": "code",
   "execution_count": 16,
   "metadata": {},
   "outputs": [],
   "source": [
    "df_l3 = pd.read_csv(file_l3,index_col=0)"
   ]
  },
  {
   "cell_type": "code",
   "execution_count": 36,
   "metadata": {},
   "outputs": [
    {
     "data": {
      "text/plain": [
       "celltype.L3       \n",
       "Hippo Pvalb GABA-0    486\n",
       "Hippo Pvalb GABA-1    292\n",
       "Name: count, dtype: int64"
      ]
     },
     "execution_count": 36,
     "metadata": {},
     "output_type": "execute_result"
    }
   ],
   "source": [
    "df_l3.value_counts()"
   ]
  },
  {
   "cell_type": "code",
   "execution_count": 32,
   "metadata": {},
   "outputs": [],
   "source": [
    "ctname = os.path.basename(file_l3).split(\".\")[0].replace(\"_l3\",\"\")"
   ]
  },
  {
   "cell_type": "code",
   "execution_count": 34,
   "metadata": {},
   "outputs": [],
   "source": [
    "adata_concat = snap.read_dataset(f'/data2st1/junyi/output/atac0416/iterative/l3/{ctname}.h5ads/_dataset.h5ads')"
   ]
  },
  {
   "cell_type": "code",
   "execution_count": 35,
   "metadata": {},
   "outputs": [
    {
     "data": {
      "text/plain": [
       "AnnDataSet object with n_obs x n_vars = 778 x 526765 backed at '/data2st1/junyi/output/atac0416/iterative/l3/Hippo_Pvalb_GABA.h5ads/_dataset.h5ads'\n",
       "contains 17 AnnData objects with keys: 'MC37A_AMY', 'MC39C_HIP', 'MC48D_HIP', 'MC50B_AMY', 'MC50B_HIP', 'MC50B_PFC', 'MC52E_AMY', 'MC52E_PFC', 'MW45A_HIP', 'MW47A_AMY', 'MW47A_HIP', 'MW47A_PFC', 'MW51A_AMY', 'MW51A_HIP', 'MW51A_PFC', 'MC25A_PFC', 'MW26A_PFC'\n",
       "    obs: 'sample', 'leiden'\n",
       "    var: 'count', 'selected'\n",
       "    uns: 'reference_sequences', 'spectral_eigenvalue', 'AnnDataSet'\n",
       "    obsm: 'X_spectral', 'X_umap'\n",
       "    obsp: 'distances'"
      ]
     },
     "execution_count": 35,
     "metadata": {},
     "output_type": "execute_result"
    }
   ],
   "source": [
    "adata_concat"
   ]
  },
  {
   "cell_type": "code",
   "execution_count": null,
   "metadata": {},
   "outputs": [],
   "source": [
    "black_list = ['Immune','OPC-Oligo','Doublet','PFC Doublet','PFC Not sure','Not sure','Astro-Epen']"
   ]
  },
  {
   "cell_type": "code",
   "execution_count": 7,
   "metadata": {},
   "outputs": [],
   "source": [
    "df_meta_all[\"celltype.L2\"].unique()\n",
    "l2type = df_meta_all[\"celltype.L2\"].unique()[0]"
   ]
  },
  {
   "cell_type": "code",
   "execution_count": 31,
   "metadata": {},
   "outputs": [
    {
     "ename": "KeyboardInterrupt",
     "evalue": "",
     "output_type": "error",
     "traceback": [
      "\u001b[0;31m---------------------------------------------------------------------------\u001b[0m",
      "\u001b[0;31mKeyboardInterrupt\u001b[0m                         Traceback (most recent call last)",
      "Cell \u001b[0;32mIn[31], line 12\u001b[0m\n\u001b[1;32m     10\u001b[0m st1 \u001b[38;5;241m=\u001b[39m df_meta_all[df_meta_all[\u001b[38;5;124m\"\u001b[39m\u001b[38;5;124mcelltype.L2\u001b[39m\u001b[38;5;124m\"\u001b[39m]\u001b[38;5;241m==\u001b[39ml2type]\n\u001b[1;32m     11\u001b[0m l2name \u001b[38;5;241m=\u001b[39m l2type\u001b[38;5;241m.\u001b[39mreplace(\u001b[38;5;124m'\u001b[39m\u001b[38;5;124m \u001b[39m\u001b[38;5;124m'\u001b[39m,\u001b[38;5;124m'\u001b[39m\u001b[38;5;124m_\u001b[39m\u001b[38;5;124m'\u001b[39m)\n\u001b[0;32m---> 12\u001b[0m datasubset,newidx \u001b[38;5;241m=\u001b[39m\u001b[43madata_concat\u001b[49m\u001b[38;5;241;43m.\u001b[39;49m\u001b[43msubset\u001b[49m\u001b[43m(\u001b[49m\u001b[43mobs_indices\u001b[49m\u001b[38;5;241;43m=\u001b[39;49m\u001b[43mst1\u001b[49m\u001b[38;5;241;43m.\u001b[39;49m\u001b[43mindex\u001b[49m\u001b[43m,\u001b[49m\u001b[43mout\u001b[49m\u001b[38;5;241;43m=\u001b[39;49m\u001b[38;5;124;43mf\u001b[39;49m\u001b[38;5;124;43m'\u001b[39;49m\u001b[38;5;124;43m/data2st1/junyi/output/atac0416/iterative/l3/\u001b[39;49m\u001b[38;5;132;43;01m{\u001b[39;49;00m\u001b[43ml2name\u001b[49m\u001b[38;5;132;43;01m}\u001b[39;49;00m\u001b[38;5;124;43m.h5ads\u001b[39;49m\u001b[38;5;124;43m'\u001b[39;49m\u001b[43m)\u001b[49m\n\u001b[1;32m     14\u001b[0m \u001b[38;5;66;03m# Preprocess the subset \u001b[39;00m\n\u001b[1;32m     15\u001b[0m snap\u001b[38;5;241m.\u001b[39mtl\u001b[38;5;241m.\u001b[39mspectral(datasubset,n_comps\u001b[38;5;241m=\u001b[39m\u001b[38;5;241m30\u001b[39m)\n",
      "\u001b[0;31mKeyboardInterrupt\u001b[0m: "
     ]
    }
   ],
   "source": [
    "best_ress = []\n",
    "n_clusters = []\n",
    "n_cells = []\n",
    "ctypes = []\n",
    "\n",
    "for l2type in df_meta_all[\"celltype.L2\"].unique()[:3]:\n",
    "    if l2type in black_list:\n",
    "        continue\n",
    "\n",
    "    # Subset the data for the current L2 type\n",
    "    st1 = df_meta_all[df_meta_all[\"celltype.L2\"]==l2type]\n",
    "    l2name = l2type.replace(' ','_')\n",
    "    datasubset,newidx =adata_concat.subset(obs_indices=st1.index,out=f'/data2st1/junyi/output/atac0416/iterative/l3/{l2name}.h5ads')\n",
    "\n",
    "    # Preprocess the subset \n",
    "    snap.tl.spectral(datasubset,n_comps=30)\n",
    "    snap.pp.knn(datasubset, use_rep=\"X_spectral\",n_neighbors=50)\n",
    "    snap.tl.umap(datasubset)\n",
    "\n",
    "    # Perform clustering with different resolutions and calculate silhouette scores\n",
    "    max_silhoutte =0\n",
    "    X=datasubset.obsm['X_spectral']\n",
    "    df_plot = pd.DataFrame()\n",
    "\n",
    "    # Iterate over different resolution values\n",
    "    for res in np.arange(0.1, 2.0, 0.1):\n",
    "        snap.tl.leiden(datasubset, resolution=res)\n",
    "        Y=datasubset.obs['leiden']\n",
    "\n",
    "        # Calculate silhouette score\n",
    "        try:\n",
    "            score = silhouette_score(X,Y)\n",
    "        except ValueError as e:\n",
    "            score = 0\n",
    "        if score > max_silhoutte:\n",
    "            max_silhoutte = score\n",
    "            best_res = res\n",
    "            print(f\"Best silhouette score: {max_silhoutte} at resolution {best_res}\")\n",
    "\n",
    "        if len(df_plot) == 0:\n",
    "            df_plot = pd.DataFrame({\"UMAP1\":datasubset.obsm['X_umap'][:,0],\"UMAP2\":datasubset.obsm['X_umap'][:,1],\n",
    "                                    \"resolution\":np.round(res,1),\"silhouette_score\":score,\n",
    "                                    \"leiden\":Y})\n",
    "\n",
    "        else:\n",
    "            df_tmp = pd.DataFrame({\"UMAP1\":datasubset.obsm['X_umap'][:,0],\"UMAP2\":datasubset.obsm['X_umap'][:,1],\n",
    "                                    \"resolution\":np.round(res,1),\"silhouette_score\":score,\n",
    "                                    \"leiden\":Y})\n",
    "            df_plot = pd.concat([df_plot,df_tmp],ignore_index=True)\n",
    "        \n",
    "        # Stop if the median cluster size is less than 400\n",
    "        if Y.value_counts().to_pandas()[\"count\"].median()<400:\n",
    "            print(f\"Resolution {res} has a median cluster with less than 400 cells\")\n",
    "            break\n",
    "\n",
    "    # Plot the results\n",
    "    snap.tl.leiden(datasubset, resolution=best_res)\n",
    "    sns.relplot(\n",
    "        data=df_plot, x=\"UMAP1\", y=\"UMAP2\",\n",
    "        col=\"resolution\", hue=\"leiden\",\n",
    "        col_wrap=5,linewidth=0,\n",
    "        height=3, aspect=1.3\n",
    "    )\n",
    "    plt.savefig(f'/data2st1/junyi/output/atac0416/iterative/l3/{l2name}_umap.png', dpi=300, bbox_inches='tight')\n",
    "    df_meta_subtypes = pd.DataFrame({\"celltype.L3\":datasubset.obs['leiden'].to_numpy()},index=datasubset.obs_names)\n",
    "    df_meta_subtypes[\"celltype.L3\"] = l2type+\"-\"+df_meta_subtypes[\"celltype.L3\"].astype(str)\n",
    "    df_meta_subtypes.to_csv(f'/data2st1/junyi/output/atac0416/iterative/l3/{l2name}_l3.csv')\n",
    "\n",
    "    best_ress.append(best_res)\n",
    "    n_clusters.append(len(datasubset.obs['leiden'].unique()))\n",
    "    ctypes.append(l2type)\n",
    "    n_cells.append(len(datasubset.obs_names))\n",
    "    datasubset.close()"
   ]
  },
  {
   "cell_type": "code",
   "execution_count": null,
   "metadata": {},
   "outputs": [],
   "source": [
    "df_summary = pd.DataFrame({\"celltype.L2\":ctypes,\"best_resolution\":best_ress,\"n_clusters\":n_clusters,\"n_cells\":n_cells})  "
   ]
  },
  {
   "cell_type": "code",
   "execution_count": null,
   "metadata": {},
   "outputs": [
    {
     "data": {
      "text/html": [
       "<div>\n",
       "<style scoped>\n",
       "    .dataframe tbody tr th:only-of-type {\n",
       "        vertical-align: middle;\n",
       "    }\n",
       "\n",
       "    .dataframe tbody tr th {\n",
       "        vertical-align: top;\n",
       "    }\n",
       "\n",
       "    .dataframe thead th {\n",
       "        text-align: right;\n",
       "    }\n",
       "</style>\n",
       "<table border=\"1\" class=\"dataframe\">\n",
       "  <thead>\n",
       "    <tr style=\"text-align: right;\">\n",
       "      <th></th>\n",
       "      <th>celltype.L2</th>\n",
       "      <th>best_resolution</th>\n",
       "      <th>n_clusters</th>\n",
       "    </tr>\n",
       "  </thead>\n",
       "  <tbody>\n",
       "    <tr>\n",
       "      <th>0</th>\n",
       "      <td>AMY Meis1 Glut</td>\n",
       "      <td>0.4</td>\n",
       "      <td>3</td>\n",
       "    </tr>\n",
       "    <tr>\n",
       "      <th>1</th>\n",
       "      <td>AMY Egfr GABA</td>\n",
       "      <td>0.3</td>\n",
       "      <td>2</td>\n",
       "    </tr>\n",
       "  </tbody>\n",
       "</table>\n",
       "</div>"
      ],
      "text/plain": [
       "      celltype.L2  best_resolution  n_clusters\n",
       "0  AMY Meis1 Glut              0.4           3\n",
       "1   AMY Egfr GABA              0.3           2"
      ]
     },
     "execution_count": 30,
     "metadata": {},
     "output_type": "execute_result"
    }
   ],
   "source": [
    "df_summary.to_csv('/data2st1/junyi/output/atac0416/iterative/l3/l3_summary.csv')"
   ]
  }
 ],
 "metadata": {
  "kernelspec": {
   "display_name": "snapatac2",
   "language": "python",
   "name": "python3"
  },
  "language_info": {
   "codemirror_mode": {
    "name": "ipython",
    "version": 3
   },
   "file_extension": ".py",
   "mimetype": "text/x-python",
   "name": "python",
   "nbconvert_exporter": "python",
   "pygments_lexer": "ipython3",
   "version": "3.10.0"
  }
 },
 "nbformat": 4,
 "nbformat_minor": 2
}
