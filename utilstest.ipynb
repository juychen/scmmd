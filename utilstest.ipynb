{
 "cells": [
  {
   "cell_type": "code",
   "execution_count": 22,
   "id": "fa026eca",
   "metadata": {},
   "outputs": [],
   "source": [
    "import pandas as pd\n",
    "import utils"
   ]
  },
  {
   "cell_type": "code",
   "execution_count": 23,
   "id": "6e3b13a8",
   "metadata": {},
   "outputs": [
    {
     "name": "stderr",
     "output_type": "stream",
     "text": [
      "/tmp/ipykernel_1211645/2266675247.py:2: DtypeWarning: Columns (0) have mixed types. Specify dtype option on import or set low_memory=False.\n",
      "  df_rmsk = pd.read_csv(\"/data2st1/junyi/output/atac0416/cCRE/rmsk.bed\", sep=\"\\t\")\n"
     ]
    }
   ],
   "source": [
    "# convert the rmsk to gene\n",
    "df_rmsk = pd.read_csv(\"/data2st1/junyi/output/atac0416/cCRE/rmsk.bed\", sep=\"\\t\")"
   ]
  },
  {
   "cell_type": "code",
   "execution_count": 24,
   "id": "181b594e",
   "metadata": {},
   "outputs": [],
   "source": [
    "import glob\n",
    "flist = glob.glob(\"/data1st2/hannan_25/data/snATAC_process/snATAC_01_bam/*/outs/summary*csv\")"
   ]
  },
  {
   "cell_type": "code",
   "execution_count": 25,
   "id": "d222cd31",
   "metadata": {},
   "outputs": [
    {
     "data": {
      "text/plain": [
       "['/data1st2/hannan_25/data/snATAC_process/snATAC_01_bam/MC52E_PFC/outs/summary.csv',\n",
       " '/data1st2/hannan_25/data/snATAC_process/snATAC_01_bam/MC52E_AMY_1st/outs/summary.csv',\n",
       " '/data1st2/hannan_25/data/snATAC_process/snATAC_01_bam/MC50B_PFC/outs/summary.csv',\n",
       " '/data1st2/hannan_25/data/snATAC_process/snATAC_01_bam/MC39C_HIP/outs/summary.csv',\n",
       " '/data1st2/hannan_25/data/snATAC_process/snATAC_01_bam/MC50B_HIP/outs/summary.csv',\n",
       " '/data1st2/hannan_25/data/snATAC_process/snATAC_01_bam/MW51A_HIP/outs/summary.csv',\n",
       " '/data1st2/hannan_25/data/snATAC_process/snATAC_01_bam/MC48D_HIP/outs/summary.csv',\n",
       " '/data1st2/hannan_25/data/snATAC_process/snATAC_01_bam/MW47A_AMY/outs/summary.csv',\n",
       " '/data1st2/hannan_25/data/snATAC_process/snATAC_01_bam/MC37A_AMY/outs/summary.csv',\n",
       " '/data1st2/hannan_25/data/snATAC_process/snATAC_01_bam/MW47A_PFC/outs/summary.csv',\n",
       " '/data1st2/hannan_25/data/snATAC_process/snATAC_01_bam/MC50B_AMY/outs/summary.csv',\n",
       " '/data1st2/hannan_25/data/snATAC_process/snATAC_01_bam/MW51A_PFC/outs/summary.csv',\n",
       " '/data1st2/hannan_25/data/snATAC_process/snATAC_01_bam/MW45A_HIP/outs/summary.csv',\n",
       " '/data1st2/hannan_25/data/snATAC_process/snATAC_01_bam/FW57B_AMY/outs/summary.csv',\n",
       " '/data1st2/hannan_25/data/snATAC_process/snATAC_01_bam/MW47A_HIP/outs/summary.csv',\n",
       " '/data1st2/hannan_25/data/snATAC_process/snATAC_01_bam/MC52E_AMY/outs/summary.csv',\n",
       " '/data1st2/hannan_25/data/snATAC_process/snATAC_01_bam/MW47A_AMY_1st/outs/summary.csv',\n",
       " '/data1st2/hannan_25/data/snATAC_process/snATAC_01_bam/W25_0_1_Perfrontal/outs/summary.csv',\n",
       " '/data1st2/hannan_25/data/snATAC_process/snATAC_01_bam/MW51A_AMY/outs/summary.csv',\n",
       " '/data1st2/hannan_25/data/snATAC_process/snATAC_01_bam/W26_0_2_Perfrontal/outs/summary.csv',\n",
       " '/data1st2/hannan_25/data/snATAC_process/snATAC_01_bam/MW51A_PFC_1st/outs/summary.csv',\n",
       " '/data1st2/hannan_25/data/snATAC_process/snATAC_01_bam/MW47A_HIP_1st/outs/summary.csv']"
      ]
     },
     "execution_count": 25,
     "metadata": {},
     "output_type": "execute_result"
    }
   ],
   "source": [
    "flist"
   ]
  },
  {
   "cell_type": "code",
   "execution_count": 26,
   "id": "b9925cc2",
   "metadata": {},
   "outputs": [],
   "source": [
    "adfiles={\n",
    "'MC37A_AMY':'MC37A_AMY',\n",
    "'MC39C_HIP':'MC39C_HIP',\n",
    "'MC48D_HIP':'MC48D_HIP',\n",
    "'MC50B_AMY':'MC50B_AMY',\n",
    "'MC50B_HIP':'MC50B_HIP',\n",
    "'MC50B_PFC':'MC50B_PFC',\n",
    "'MC52E_AMY':'MC52E_AMY',\n",
    "'MC52E_PFC':'MC52E_PFC',\n",
    "'MW45A_HIP':'MW45A_HIP',\n",
    "'MW47A_AMY':'MW47A_AMY',\n",
    "'MW47A_HIP':'MW47A_HIP',\n",
    "'MW47A_PFC':'MW47A_PFC',\n",
    "'MW51A_AMY':'MW51A_AMY',\n",
    "'MW51A_HIP':'MW51A_HIP',\n",
    "'MW51A_PFC':'MW51A_PFC',\n",
    "'W25_0_1_Perfrontal':'MC25A_PFC',\n",
    "'W26_0_2_Perfrontal':'MW26A_PFC'\n",
    "}"
   ]
  },
  {
   "cell_type": "code",
   "execution_count": 27,
   "id": "7424f60b",
   "metadata": {},
   "outputs": [
    {
     "data": {
      "text/plain": [
       "dict_keys(['MC37A_AMY', 'MC39C_HIP', 'MC48D_HIP', 'MC50B_AMY', 'MC50B_HIP', 'MC50B_PFC', 'MC52E_AMY', 'MC52E_PFC', 'MW45A_HIP', 'MW47A_AMY', 'MW47A_HIP', 'MW47A_PFC', 'MW51A_AMY', 'MW51A_HIP', 'MW51A_PFC', 'W25_0_1_Perfrontal', 'W26_0_2_Perfrontal'])"
      ]
     },
     "execution_count": 27,
     "metadata": {},
     "output_type": "execute_result"
    }
   ],
   "source": [
    "adfiles.keys()"
   ]
  },
  {
   "cell_type": "code",
   "execution_count": 28,
   "id": "d4ff41bf",
   "metadata": {},
   "outputs": [
    {
     "name": "stdout",
     "output_type": "stream",
     "text": [
      "[28195.5] 0    MC52E_PFC\n",
      "Name: sample, dtype: object\n",
      "[40552.5] 0    MC50B_PFC\n",
      "Name: sample, dtype: object\n",
      "[23517.] 0    MC39C_HIP\n",
      "Name: sample, dtype: object\n",
      "[45490.] 0    MC50B_HIP\n",
      "Name: sample, dtype: object\n",
      "[29338.] 0    MW51A_HIP\n",
      "Name: sample, dtype: object\n",
      "[20728.] 0    MC48D_HIP\n",
      "Name: sample, dtype: object\n",
      "[26759.] 0    MW47A_AMY\n",
      "Name: sample, dtype: object\n",
      "[21611.5] 0    MC37A_AMY\n",
      "Name: sample, dtype: object\n",
      "[41144.] 0    MW47A_PFC\n",
      "Name: sample, dtype: object\n",
      "[31560.5] 0    MC50B_AMY\n",
      "Name: sample, dtype: object\n",
      "[27430.5] 0    MW51A_PFC\n",
      "Name: sample, dtype: object\n",
      "[18184.] 0    MW45A_HIP\n",
      "Name: sample, dtype: object\n",
      "[28406.] 0    MW47A_HIP\n",
      "Name: sample, dtype: object\n",
      "[27821.] 0    MC52E_AMY\n",
      "Name: sample, dtype: object\n",
      "[26764.] 0    MC25A_PFC\n",
      "Name: sample, dtype: object\n",
      "[36247.] 0    MW51A_AMY\n",
      "Name: sample, dtype: object\n",
      "[34259.] 0    MW26A_PFC\n",
      "Name: sample, dtype: object\n"
     ]
    }
   ],
   "source": [
    "df_all = pd.DataFrame()\n",
    "for f in flist:\n",
    "\n",
    "    sample = f.split(\"/\")[-3]\n",
    "    if not(sample in adfiles.keys()):\n",
    "        continue\n",
    "    else:\n",
    "        df = pd.read_csv(f)\n",
    "        df['sample'] = adfiles[sample]\n",
    "        df_all = pd.concat([df_all, df], axis=0)\n",
    "        print(df['Median high-quality fragments per cell'].values,df['sample'])"
   ]
  },
  {
   "cell_type": "code",
   "execution_count": 30,
   "id": "4a575b9d",
   "metadata": {},
   "outputs": [],
   "source": [
    "df_all['region'] = df_all['sample'].str.split(\"_\").str[1]"
   ]
  },
  {
   "cell_type": "code",
   "execution_count": 31,
   "id": "fc8d5d38",
   "metadata": {},
   "outputs": [
    {
     "data": {
      "text/html": [
       "<div>\n",
       "<style scoped>\n",
       "    .dataframe tbody tr th:only-of-type {\n",
       "        vertical-align: middle;\n",
       "    }\n",
       "\n",
       "    .dataframe tbody tr th {\n",
       "        vertical-align: top;\n",
       "    }\n",
       "\n",
       "    .dataframe thead th {\n",
       "        text-align: right;\n",
       "    }\n",
       "</style>\n",
       "<table border=\"1\" class=\"dataframe\">\n",
       "  <thead>\n",
       "    <tr style=\"text-align: right;\">\n",
       "      <th></th>\n",
       "      <th>Sample ID</th>\n",
       "      <th>Genome</th>\n",
       "      <th>Pipeline version</th>\n",
       "      <th>Estimated number of cells</th>\n",
       "      <th>Confidently mapped read pairs</th>\n",
       "      <th>Estimated bulk library complexity</th>\n",
       "      <th>Fraction of all fragments in cells</th>\n",
       "      <th>Fraction of all fragments that pass all filters and overlap called peaks</th>\n",
       "      <th>Fraction of genome in peaks</th>\n",
       "      <th>Fraction of high-quality fragments in cells</th>\n",
       "      <th>...</th>\n",
       "      <th>Q30 bases in read 1</th>\n",
       "      <th>Q30 bases in read 2</th>\n",
       "      <th>Q30 bases in sample index i1</th>\n",
       "      <th>Sequenced read pairs</th>\n",
       "      <th>Sequencing saturation</th>\n",
       "      <th>TSS enrichment score</th>\n",
       "      <th>Unmapped read pairs</th>\n",
       "      <th>Valid barcodes</th>\n",
       "      <th>sample</th>\n",
       "      <th>region</th>\n",
       "    </tr>\n",
       "  </thead>\n",
       "  <tbody>\n",
       "    <tr>\n",
       "      <th>0</th>\n",
       "      <td>MC52E_PFC</td>\n",
       "      <td>mm10</td>\n",
       "      <td>cellranger-atac-2.1.0</td>\n",
       "      <td>7766</td>\n",
       "      <td>0.9381</td>\n",
       "      <td>4.847372e+08</td>\n",
       "      <td>0.9514</td>\n",
       "      <td>0.1517</td>\n",
       "      <td>0.0462</td>\n",
       "      <td>0.9492</td>\n",
       "      <td>...</td>\n",
       "      <td>0.8210</td>\n",
       "      <td>0.9172</td>\n",
       "      <td>NaN</td>\n",
       "      <td>524315342</td>\n",
       "      <td>0.5545</td>\n",
       "      <td>8.3556</td>\n",
       "      <td>0.0034</td>\n",
       "      <td>0.9836</td>\n",
       "      <td>MC52E_PFC</td>\n",
       "      <td>PFC</td>\n",
       "    </tr>\n",
       "    <tr>\n",
       "      <th>0</th>\n",
       "      <td>MC50B_PFC</td>\n",
       "      <td>mm10</td>\n",
       "      <td>cellranger-atac-2.1.0</td>\n",
       "      <td>8764</td>\n",
       "      <td>0.9448</td>\n",
       "      <td>7.401247e+08</td>\n",
       "      <td>0.9529</td>\n",
       "      <td>0.1856</td>\n",
       "      <td>0.0484</td>\n",
       "      <td>0.9582</td>\n",
       "      <td>...</td>\n",
       "      <td>0.8732</td>\n",
       "      <td>0.9458</td>\n",
       "      <td>NaN</td>\n",
       "      <td>670596450</td>\n",
       "      <td>0.5170</td>\n",
       "      <td>8.4662</td>\n",
       "      <td>0.0036</td>\n",
       "      <td>0.9855</td>\n",
       "      <td>MC50B_PFC</td>\n",
       "      <td>PFC</td>\n",
       "    </tr>\n",
       "    <tr>\n",
       "      <th>0</th>\n",
       "      <td>MC39C_HIP</td>\n",
       "      <td>mm10</td>\n",
       "      <td>cellranger-atac-2.1.0</td>\n",
       "      <td>10778</td>\n",
       "      <td>0.9195</td>\n",
       "      <td>5.634264e+08</td>\n",
       "      <td>0.8895</td>\n",
       "      <td>0.1234</td>\n",
       "      <td>0.0396</td>\n",
       "      <td>0.9321</td>\n",
       "      <td>...</td>\n",
       "      <td>0.8153</td>\n",
       "      <td>0.9243</td>\n",
       "      <td>NaN</td>\n",
       "      <td>744529010</td>\n",
       "      <td>0.6094</td>\n",
       "      <td>8.2244</td>\n",
       "      <td>0.0048</td>\n",
       "      <td>0.9784</td>\n",
       "      <td>MC39C_HIP</td>\n",
       "      <td>HIP</td>\n",
       "    </tr>\n",
       "    <tr>\n",
       "      <th>0</th>\n",
       "      <td>MC50B_HIP</td>\n",
       "      <td>mm10</td>\n",
       "      <td>cellranger-atac-2.1.0</td>\n",
       "      <td>5486</td>\n",
       "      <td>0.9373</td>\n",
       "      <td>5.060145e+08</td>\n",
       "      <td>0.9121</td>\n",
       "      <td>0.1229</td>\n",
       "      <td>0.0427</td>\n",
       "      <td>0.8958</td>\n",
       "      <td>...</td>\n",
       "      <td>0.8784</td>\n",
       "      <td>0.9410</td>\n",
       "      <td>NaN</td>\n",
       "      <td>652892516</td>\n",
       "      <td>0.6138</td>\n",
       "      <td>8.2405</td>\n",
       "      <td>0.0061</td>\n",
       "      <td>0.9845</td>\n",
       "      <td>MC50B_HIP</td>\n",
       "      <td>HIP</td>\n",
       "    </tr>\n",
       "    <tr>\n",
       "      <th>0</th>\n",
       "      <td>MW51A_HIP</td>\n",
       "      <td>mm10</td>\n",
       "      <td>cellranger-atac-2.1.0</td>\n",
       "      <td>9162</td>\n",
       "      <td>0.9406</td>\n",
       "      <td>6.799489e+08</td>\n",
       "      <td>0.9188</td>\n",
       "      <td>0.2066</td>\n",
       "      <td>0.0681</td>\n",
       "      <td>0.9161</td>\n",
       "      <td>...</td>\n",
       "      <td>0.7896</td>\n",
       "      <td>0.9152</td>\n",
       "      <td>NaN</td>\n",
       "      <td>579559203</td>\n",
       "      <td>0.4874</td>\n",
       "      <td>10.4681</td>\n",
       "      <td>0.0046</td>\n",
       "      <td>0.9826</td>\n",
       "      <td>MW51A_HIP</td>\n",
       "      <td>HIP</td>\n",
       "    </tr>\n",
       "    <tr>\n",
       "      <th>0</th>\n",
       "      <td>MC48D_HIP</td>\n",
       "      <td>mm10</td>\n",
       "      <td>cellranger-atac-2.1.0</td>\n",
       "      <td>9317</td>\n",
       "      <td>0.9390</td>\n",
       "      <td>4.823342e+08</td>\n",
       "      <td>0.9157</td>\n",
       "      <td>0.1827</td>\n",
       "      <td>0.0594</td>\n",
       "      <td>0.8917</td>\n",
       "      <td>...</td>\n",
       "      <td>0.8213</td>\n",
       "      <td>0.9233</td>\n",
       "      <td>NaN</td>\n",
       "      <td>647040646</td>\n",
       "      <td>0.6049</td>\n",
       "      <td>11.7538</td>\n",
       "      <td>0.0051</td>\n",
       "      <td>0.9797</td>\n",
       "      <td>MC48D_HIP</td>\n",
       "      <td>HIP</td>\n",
       "    </tr>\n",
       "    <tr>\n",
       "      <th>0</th>\n",
       "      <td>MW47A_AMY</td>\n",
       "      <td>mm10</td>\n",
       "      <td>cellranger-atac-2.1.0</td>\n",
       "      <td>13407</td>\n",
       "      <td>0.9364</td>\n",
       "      <td>8.940807e+08</td>\n",
       "      <td>0.9414</td>\n",
       "      <td>0.2065</td>\n",
       "      <td>0.0593</td>\n",
       "      <td>0.9471</td>\n",
       "      <td>...</td>\n",
       "      <td>0.8189</td>\n",
       "      <td>0.9272</td>\n",
       "      <td>NaN</td>\n",
       "      <td>667457720</td>\n",
       "      <td>0.4546</td>\n",
       "      <td>10.7605</td>\n",
       "      <td>0.0047</td>\n",
       "      <td>0.9841</td>\n",
       "      <td>MW47A_AMY</td>\n",
       "      <td>AMY</td>\n",
       "    </tr>\n",
       "    <tr>\n",
       "      <th>0</th>\n",
       "      <td>MC37A_AMY</td>\n",
       "      <td>mm10</td>\n",
       "      <td>cellranger-atac-2.1.0</td>\n",
       "      <td>7184</td>\n",
       "      <td>0.9371</td>\n",
       "      <td>3.240959e+08</td>\n",
       "      <td>0.8679</td>\n",
       "      <td>0.1698</td>\n",
       "      <td>0.0727</td>\n",
       "      <td>0.8975</td>\n",
       "      <td>...</td>\n",
       "      <td>0.8018</td>\n",
       "      <td>0.9366</td>\n",
       "      <td>NaN</td>\n",
       "      <td>531837621</td>\n",
       "      <td>0.6834</td>\n",
       "      <td>12.6424</td>\n",
       "      <td>0.0033</td>\n",
       "      <td>0.9851</td>\n",
       "      <td>MC37A_AMY</td>\n",
       "      <td>AMY</td>\n",
       "    </tr>\n",
       "    <tr>\n",
       "      <th>0</th>\n",
       "      <td>MW47A_PFC</td>\n",
       "      <td>mm10</td>\n",
       "      <td>cellranger-atac-2.1.0</td>\n",
       "      <td>8965</td>\n",
       "      <td>0.9513</td>\n",
       "      <td>6.467576e+08</td>\n",
       "      <td>0.9557</td>\n",
       "      <td>0.2046</td>\n",
       "      <td>0.0598</td>\n",
       "      <td>0.9562</td>\n",
       "      <td>...</td>\n",
       "      <td>0.8475</td>\n",
       "      <td>0.9436</td>\n",
       "      <td>NaN</td>\n",
       "      <td>793139497</td>\n",
       "      <td>0.6143</td>\n",
       "      <td>9.8891</td>\n",
       "      <td>0.0046</td>\n",
       "      <td>0.9854</td>\n",
       "      <td>MW47A_PFC</td>\n",
       "      <td>PFC</td>\n",
       "    </tr>\n",
       "    <tr>\n",
       "      <th>0</th>\n",
       "      <td>MC50B_AMY</td>\n",
       "      <td>mm10</td>\n",
       "      <td>cellranger-atac-2.1.0</td>\n",
       "      <td>10352</td>\n",
       "      <td>0.9398</td>\n",
       "      <td>6.633858e+08</td>\n",
       "      <td>0.9499</td>\n",
       "      <td>0.1833</td>\n",
       "      <td>0.0531</td>\n",
       "      <td>0.9540</td>\n",
       "      <td>...</td>\n",
       "      <td>0.8570</td>\n",
       "      <td>0.9427</td>\n",
       "      <td>NaN</td>\n",
       "      <td>691646317</td>\n",
       "      <td>0.5609</td>\n",
       "      <td>10.4445</td>\n",
       "      <td>0.0052</td>\n",
       "      <td>0.9858</td>\n",
       "      <td>MC50B_AMY</td>\n",
       "      <td>AMY</td>\n",
       "    </tr>\n",
       "    <tr>\n",
       "      <th>0</th>\n",
       "      <td>MW51A_PFC</td>\n",
       "      <td>mm10</td>\n",
       "      <td>cellranger-atac-2.1.0</td>\n",
       "      <td>11478</td>\n",
       "      <td>0.9430</td>\n",
       "      <td>7.814864e+08</td>\n",
       "      <td>0.9513</td>\n",
       "      <td>0.2205</td>\n",
       "      <td>0.0583</td>\n",
       "      <td>0.9574</td>\n",
       "      <td>...</td>\n",
       "      <td>0.8045</td>\n",
       "      <td>0.9181</td>\n",
       "      <td>NaN</td>\n",
       "      <td>587465693</td>\n",
       "      <td>0.4546</td>\n",
       "      <td>8.9259</td>\n",
       "      <td>0.0030</td>\n",
       "      <td>0.9835</td>\n",
       "      <td>MW51A_PFC</td>\n",
       "      <td>PFC</td>\n",
       "    </tr>\n",
       "    <tr>\n",
       "      <th>0</th>\n",
       "      <td>MW45A_HIP</td>\n",
       "      <td>mm10</td>\n",
       "      <td>cellranger-atac-2.1.0</td>\n",
       "      <td>12849</td>\n",
       "      <td>0.9223</td>\n",
       "      <td>7.628215e+08</td>\n",
       "      <td>0.9010</td>\n",
       "      <td>0.1330</td>\n",
       "      <td>0.0385</td>\n",
       "      <td>0.8983</td>\n",
       "      <td>...</td>\n",
       "      <td>0.8220</td>\n",
       "      <td>0.9255</td>\n",
       "      <td>NaN</td>\n",
       "      <td>648439047</td>\n",
       "      <td>0.4755</td>\n",
       "      <td>8.1673</td>\n",
       "      <td>0.0049</td>\n",
       "      <td>0.9797</td>\n",
       "      <td>MW45A_HIP</td>\n",
       "      <td>HIP</td>\n",
       "    </tr>\n",
       "    <tr>\n",
       "      <th>0</th>\n",
       "      <td>MW47A_HIP</td>\n",
       "      <td>mm10</td>\n",
       "      <td>cellranger-atac-2.1.0</td>\n",
       "      <td>14135</td>\n",
       "      <td>0.9377</td>\n",
       "      <td>1.090925e+09</td>\n",
       "      <td>0.9215</td>\n",
       "      <td>0.1877</td>\n",
       "      <td>0.0499</td>\n",
       "      <td>0.9263</td>\n",
       "      <td>...</td>\n",
       "      <td>0.8251</td>\n",
       "      <td>0.9201</td>\n",
       "      <td>NaN</td>\n",
       "      <td>747643300</td>\n",
       "      <td>0.4273</td>\n",
       "      <td>8.7675</td>\n",
       "      <td>0.0049</td>\n",
       "      <td>0.9818</td>\n",
       "      <td>MW47A_HIP</td>\n",
       "      <td>HIP</td>\n",
       "    </tr>\n",
       "    <tr>\n",
       "      <th>0</th>\n",
       "      <td>MC52E_AMY</td>\n",
       "      <td>mm10</td>\n",
       "      <td>cellranger-atac-2.1.0</td>\n",
       "      <td>11134</td>\n",
       "      <td>0.9361</td>\n",
       "      <td>8.847225e+08</td>\n",
       "      <td>0.9374</td>\n",
       "      <td>0.1790</td>\n",
       "      <td>0.0470</td>\n",
       "      <td>0.9444</td>\n",
       "      <td>...</td>\n",
       "      <td>0.8285</td>\n",
       "      <td>0.9206</td>\n",
       "      <td>NaN</td>\n",
       "      <td>576638101</td>\n",
       "      <td>0.4111</td>\n",
       "      <td>9.1570</td>\n",
       "      <td>0.0047</td>\n",
       "      <td>0.9820</td>\n",
       "      <td>MC52E_AMY</td>\n",
       "      <td>AMY</td>\n",
       "    </tr>\n",
       "    <tr>\n",
       "      <th>0</th>\n",
       "      <td>W25_0_1_Perfrontal</td>\n",
       "      <td>mm10</td>\n",
       "      <td>cellranger-atac-2.1.0</td>\n",
       "      <td>20004</td>\n",
       "      <td>0.9155</td>\n",
       "      <td>1.494195e+09</td>\n",
       "      <td>0.7617</td>\n",
       "      <td>0.1388</td>\n",
       "      <td>0.0475</td>\n",
       "      <td>0.8326</td>\n",
       "      <td>...</td>\n",
       "      <td>0.8114</td>\n",
       "      <td>0.9344</td>\n",
       "      <td>NaN</td>\n",
       "      <td>1113621332</td>\n",
       "      <td>0.4477</td>\n",
       "      <td>8.4301</td>\n",
       "      <td>0.0028</td>\n",
       "      <td>0.9695</td>\n",
       "      <td>MC25A_PFC</td>\n",
       "      <td>PFC</td>\n",
       "    </tr>\n",
       "    <tr>\n",
       "      <th>0</th>\n",
       "      <td>MW51A_AMY</td>\n",
       "      <td>mm10</td>\n",
       "      <td>cellranger-atac-2.1.0</td>\n",
       "      <td>8657</td>\n",
       "      <td>0.9315</td>\n",
       "      <td>9.446315e+08</td>\n",
       "      <td>0.9356</td>\n",
       "      <td>0.1950</td>\n",
       "      <td>0.0508</td>\n",
       "      <td>0.9421</td>\n",
       "      <td>...</td>\n",
       "      <td>0.8306</td>\n",
       "      <td>0.9157</td>\n",
       "      <td>NaN</td>\n",
       "      <td>497998577</td>\n",
       "      <td>0.3554</td>\n",
       "      <td>9.2199</td>\n",
       "      <td>0.0074</td>\n",
       "      <td>0.9839</td>\n",
       "      <td>MW51A_AMY</td>\n",
       "      <td>AMY</td>\n",
       "    </tr>\n",
       "    <tr>\n",
       "      <th>0</th>\n",
       "      <td>W26_0_2_Perfrontal</td>\n",
       "      <td>mm10</td>\n",
       "      <td>cellranger-atac-2.1.0</td>\n",
       "      <td>19745</td>\n",
       "      <td>0.9470</td>\n",
       "      <td>1.585638e+09</td>\n",
       "      <td>0.9533</td>\n",
       "      <td>0.2353</td>\n",
       "      <td>0.0593</td>\n",
       "      <td>0.9644</td>\n",
       "      <td>...</td>\n",
       "      <td>0.8370</td>\n",
       "      <td>0.9325</td>\n",
       "      <td>NaN</td>\n",
       "      <td>1229429331</td>\n",
       "      <td>0.4706</td>\n",
       "      <td>9.1832</td>\n",
       "      <td>0.0031</td>\n",
       "      <td>0.9848</td>\n",
       "      <td>MW26A_PFC</td>\n",
       "      <td>PFC</td>\n",
       "    </tr>\n",
       "  </tbody>\n",
       "</table>\n",
       "<p>17 rows × 31 columns</p>\n",
       "</div>"
      ],
      "text/plain": [
       "            Sample ID Genome       Pipeline version  \\\n",
       "0           MC52E_PFC   mm10  cellranger-atac-2.1.0   \n",
       "0           MC50B_PFC   mm10  cellranger-atac-2.1.0   \n",
       "0           MC39C_HIP   mm10  cellranger-atac-2.1.0   \n",
       "0           MC50B_HIP   mm10  cellranger-atac-2.1.0   \n",
       "0           MW51A_HIP   mm10  cellranger-atac-2.1.0   \n",
       "0           MC48D_HIP   mm10  cellranger-atac-2.1.0   \n",
       "0           MW47A_AMY   mm10  cellranger-atac-2.1.0   \n",
       "0           MC37A_AMY   mm10  cellranger-atac-2.1.0   \n",
       "0           MW47A_PFC   mm10  cellranger-atac-2.1.0   \n",
       "0           MC50B_AMY   mm10  cellranger-atac-2.1.0   \n",
       "0           MW51A_PFC   mm10  cellranger-atac-2.1.0   \n",
       "0           MW45A_HIP   mm10  cellranger-atac-2.1.0   \n",
       "0           MW47A_HIP   mm10  cellranger-atac-2.1.0   \n",
       "0           MC52E_AMY   mm10  cellranger-atac-2.1.0   \n",
       "0  W25_0_1_Perfrontal   mm10  cellranger-atac-2.1.0   \n",
       "0           MW51A_AMY   mm10  cellranger-atac-2.1.0   \n",
       "0  W26_0_2_Perfrontal   mm10  cellranger-atac-2.1.0   \n",
       "\n",
       "   Estimated number of cells  Confidently mapped read pairs  \\\n",
       "0                       7766                         0.9381   \n",
       "0                       8764                         0.9448   \n",
       "0                      10778                         0.9195   \n",
       "0                       5486                         0.9373   \n",
       "0                       9162                         0.9406   \n",
       "0                       9317                         0.9390   \n",
       "0                      13407                         0.9364   \n",
       "0                       7184                         0.9371   \n",
       "0                       8965                         0.9513   \n",
       "0                      10352                         0.9398   \n",
       "0                      11478                         0.9430   \n",
       "0                      12849                         0.9223   \n",
       "0                      14135                         0.9377   \n",
       "0                      11134                         0.9361   \n",
       "0                      20004                         0.9155   \n",
       "0                       8657                         0.9315   \n",
       "0                      19745                         0.9470   \n",
       "\n",
       "   Estimated bulk library complexity  Fraction of all fragments in cells  \\\n",
       "0                       4.847372e+08                              0.9514   \n",
       "0                       7.401247e+08                              0.9529   \n",
       "0                       5.634264e+08                              0.8895   \n",
       "0                       5.060145e+08                              0.9121   \n",
       "0                       6.799489e+08                              0.9188   \n",
       "0                       4.823342e+08                              0.9157   \n",
       "0                       8.940807e+08                              0.9414   \n",
       "0                       3.240959e+08                              0.8679   \n",
       "0                       6.467576e+08                              0.9557   \n",
       "0                       6.633858e+08                              0.9499   \n",
       "0                       7.814864e+08                              0.9513   \n",
       "0                       7.628215e+08                              0.9010   \n",
       "0                       1.090925e+09                              0.9215   \n",
       "0                       8.847225e+08                              0.9374   \n",
       "0                       1.494195e+09                              0.7617   \n",
       "0                       9.446315e+08                              0.9356   \n",
       "0                       1.585638e+09                              0.9533   \n",
       "\n",
       "   Fraction of all fragments that pass all filters and overlap called peaks  \\\n",
       "0                                             0.1517                          \n",
       "0                                             0.1856                          \n",
       "0                                             0.1234                          \n",
       "0                                             0.1229                          \n",
       "0                                             0.2066                          \n",
       "0                                             0.1827                          \n",
       "0                                             0.2065                          \n",
       "0                                             0.1698                          \n",
       "0                                             0.2046                          \n",
       "0                                             0.1833                          \n",
       "0                                             0.2205                          \n",
       "0                                             0.1330                          \n",
       "0                                             0.1877                          \n",
       "0                                             0.1790                          \n",
       "0                                             0.1388                          \n",
       "0                                             0.1950                          \n",
       "0                                             0.2353                          \n",
       "\n",
       "   Fraction of genome in peaks  Fraction of high-quality fragments in cells  \\\n",
       "0                       0.0462                                       0.9492   \n",
       "0                       0.0484                                       0.9582   \n",
       "0                       0.0396                                       0.9321   \n",
       "0                       0.0427                                       0.8958   \n",
       "0                       0.0681                                       0.9161   \n",
       "0                       0.0594                                       0.8917   \n",
       "0                       0.0593                                       0.9471   \n",
       "0                       0.0727                                       0.8975   \n",
       "0                       0.0598                                       0.9562   \n",
       "0                       0.0531                                       0.9540   \n",
       "0                       0.0583                                       0.9574   \n",
       "0                       0.0385                                       0.8983   \n",
       "0                       0.0499                                       0.9263   \n",
       "0                       0.0470                                       0.9444   \n",
       "0                       0.0475                                       0.8326   \n",
       "0                       0.0508                                       0.9421   \n",
       "0                       0.0593                                       0.9644   \n",
       "\n",
       "   ...  Q30 bases in read 1  Q30 bases in read 2  \\\n",
       "0  ...               0.8210               0.9172   \n",
       "0  ...               0.8732               0.9458   \n",
       "0  ...               0.8153               0.9243   \n",
       "0  ...               0.8784               0.9410   \n",
       "0  ...               0.7896               0.9152   \n",
       "0  ...               0.8213               0.9233   \n",
       "0  ...               0.8189               0.9272   \n",
       "0  ...               0.8018               0.9366   \n",
       "0  ...               0.8475               0.9436   \n",
       "0  ...               0.8570               0.9427   \n",
       "0  ...               0.8045               0.9181   \n",
       "0  ...               0.8220               0.9255   \n",
       "0  ...               0.8251               0.9201   \n",
       "0  ...               0.8285               0.9206   \n",
       "0  ...               0.8114               0.9344   \n",
       "0  ...               0.8306               0.9157   \n",
       "0  ...               0.8370               0.9325   \n",
       "\n",
       "   Q30 bases in sample index i1  Sequenced read pairs  Sequencing saturation  \\\n",
       "0                           NaN             524315342                 0.5545   \n",
       "0                           NaN             670596450                 0.5170   \n",
       "0                           NaN             744529010                 0.6094   \n",
       "0                           NaN             652892516                 0.6138   \n",
       "0                           NaN             579559203                 0.4874   \n",
       "0                           NaN             647040646                 0.6049   \n",
       "0                           NaN             667457720                 0.4546   \n",
       "0                           NaN             531837621                 0.6834   \n",
       "0                           NaN             793139497                 0.6143   \n",
       "0                           NaN             691646317                 0.5609   \n",
       "0                           NaN             587465693                 0.4546   \n",
       "0                           NaN             648439047                 0.4755   \n",
       "0                           NaN             747643300                 0.4273   \n",
       "0                           NaN             576638101                 0.4111   \n",
       "0                           NaN            1113621332                 0.4477   \n",
       "0                           NaN             497998577                 0.3554   \n",
       "0                           NaN            1229429331                 0.4706   \n",
       "\n",
       "   TSS enrichment score  Unmapped read pairs  Valid barcodes     sample  \\\n",
       "0                8.3556               0.0034          0.9836  MC52E_PFC   \n",
       "0                8.4662               0.0036          0.9855  MC50B_PFC   \n",
       "0                8.2244               0.0048          0.9784  MC39C_HIP   \n",
       "0                8.2405               0.0061          0.9845  MC50B_HIP   \n",
       "0               10.4681               0.0046          0.9826  MW51A_HIP   \n",
       "0               11.7538               0.0051          0.9797  MC48D_HIP   \n",
       "0               10.7605               0.0047          0.9841  MW47A_AMY   \n",
       "0               12.6424               0.0033          0.9851  MC37A_AMY   \n",
       "0                9.8891               0.0046          0.9854  MW47A_PFC   \n",
       "0               10.4445               0.0052          0.9858  MC50B_AMY   \n",
       "0                8.9259               0.0030          0.9835  MW51A_PFC   \n",
       "0                8.1673               0.0049          0.9797  MW45A_HIP   \n",
       "0                8.7675               0.0049          0.9818  MW47A_HIP   \n",
       "0                9.1570               0.0047          0.9820  MC52E_AMY   \n",
       "0                8.4301               0.0028          0.9695  MC25A_PFC   \n",
       "0                9.2199               0.0074          0.9839  MW51A_AMY   \n",
       "0                9.1832               0.0031          0.9848  MW26A_PFC   \n",
       "\n",
       "   region  \n",
       "0     PFC  \n",
       "0     PFC  \n",
       "0     HIP  \n",
       "0     HIP  \n",
       "0     HIP  \n",
       "0     HIP  \n",
       "0     AMY  \n",
       "0     AMY  \n",
       "0     PFC  \n",
       "0     AMY  \n",
       "0     PFC  \n",
       "0     HIP  \n",
       "0     HIP  \n",
       "0     AMY  \n",
       "0     PFC  \n",
       "0     AMY  \n",
       "0     PFC  \n",
       "\n",
       "[17 rows x 31 columns]"
      ]
     },
     "execution_count": 31,
     "metadata": {},
     "output_type": "execute_result"
    }
   ],
   "source": [
    "df_all"
   ]
  },
  {
   "cell_type": "code",
   "execution_count": null,
   "id": "04d9d0fe",
   "metadata": {},
   "outputs": [],
   "source": [
    "df_all.to_csv(\"/data2st1/junyi/output/atac0416/snATACQC_summary.csv\", index=False)"
   ]
  },
  {
   "cell_type": "code",
   "execution_count": null,
   "id": "10b25400",
   "metadata": {},
   "outputs": [],
   "source": [
    "df_all.iloc[:,3:-2]"
   ]
  },
  {
   "cell_type": "code",
   "execution_count": null,
   "id": "7e10ae04",
   "metadata": {},
   "outputs": [],
   "source": [
    "df_all = df_all.dropna(axis=1)"
   ]
  },
  {
   "cell_type": "code",
   "execution_count": null,
   "id": "4b04e5dd",
   "metadata": {},
   "outputs": [],
   "source": [
    "df_all"
   ]
  },
  {
   "cell_type": "code",
   "execution_count": null,
   "id": "e6b5d4f8",
   "metadata": {},
   "outputs": [],
   "source": []
  },
  {
   "cell_type": "code",
   "execution_count": null,
   "id": "e97e72ed",
   "metadata": {},
   "outputs": [],
   "source": [
    "df_frac_qc = df_all[[\"Fraction of high-quality fragments overlapping peaks\",\"sample\"]]"
   ]
  },
  {
   "cell_type": "code",
   "execution_count": null,
   "id": "3f8c3c10",
   "metadata": {},
   "outputs": [],
   "source": [
    "df_frac_qc['farcq'] = pd.qcut(\n",
    "    df_all[\"Fraction of high-quality fragments overlapping peaks\"],\n",
    "    q=3,                          # 分成3部分\n",
    "    labels=['0', '1', '2']  # 标签\n",
    ")\n"
   ]
  },
  {
   "cell_type": "code",
   "execution_count": null,
   "id": "a3588762",
   "metadata": {},
   "outputs": [],
   "source": [
    "df_frac_qc.set_index('sample', inplace=True)"
   ]
  },
  {
   "cell_type": "code",
   "execution_count": null,
   "id": "9d184068",
   "metadata": {},
   "outputs": [],
   "source": [
    "df_frac_qc.to_csv(\"/data2st1/junyi/output/atac0416/frac_qc.csv\")"
   ]
  },
  {
   "cell_type": "code",
   "execution_count": null,
   "id": "e9aca958",
   "metadata": {},
   "outputs": [],
   "source": [
    "pd.read_csv('/data2st1/junyi/output/atac0416/frac_qc.csv')"
   ]
  },
  {
   "cell_type": "code",
   "execution_count": null,
   "id": "5e2c7e15",
   "metadata": {},
   "outputs": [],
   "source": [
    "import numpy as np\n",
    "from sklearn.decomposition import PCA\n",
    "from sklearn.preprocessing import StandardScaler,MinMaxScaler\n",
    "\n",
    "df_selected = df_all.iloc[:,3:-2]\n",
    "\n",
    "X = df_selected.values\n",
    "scaler = StandardScaler()\n",
    "X = scaler.fit_transform(X)\n",
    "\n",
    "pca = PCA(n_components=2)\n",
    "pca.fit(X)\n",
    "print(pca.explained_variance_ratio_)\n",
    "print(pca.singular_values_)"
   ]
  },
  {
   "cell_type": "code",
   "execution_count": null,
   "id": "c0bb01c3",
   "metadata": {},
   "outputs": [],
   "source": [
    "np.percentile(df_selected.iloc[:,8], 33)"
   ]
  },
  {
   "cell_type": "code",
   "execution_count": null,
   "id": "b601a2e6",
   "metadata": {},
   "outputs": [],
   "source": [
    "pca.components_[0]"
   ]
  },
  {
   "cell_type": "code",
   "execution_count": null,
   "id": "5da52d27",
   "metadata": {},
   "outputs": [],
   "source": [
    "df_selected.iloc[:,[1,5,7,8,9,15]]"
   ]
  },
  {
   "cell_type": "code",
   "execution_count": null,
   "id": "e1052043",
   "metadata": {},
   "outputs": [],
   "source": [
    "df_all.iloc[:,3:-2].iloc[:,15]"
   ]
  },
  {
   "cell_type": "code",
   "execution_count": null,
   "id": "cbdcb82b",
   "metadata": {},
   "outputs": [],
   "source": [
    "import matplotlib.pyplot as plt\n",
    "import seaborn as sns\n",
    "plt.figure(figsize=(10, 8))\n",
    "sns.set_style(\"whitegrid\")\n",
    "sns.scatterplot(x=pca.transform(X)[:, 0], y=pca.transform(X)[:, 1], hue=df_all['sample'], s=100)"
   ]
  },
  {
   "cell_type": "code",
   "execution_count": null,
   "id": "91bd17ce",
   "metadata": {},
   "outputs": [],
   "source": [
    "from bioinfokit import analys, visuz\n",
    "\n",
    "df_up = pd.read_csv(\"/data2st1/junyi/output/atac0416/dar/region_nt/PFC_PFC_Glut_MC_mementoht.csv\",index_col=0)\n",
    "df_down = pd.read_csv(\"/data2st1/junyi/output/atac0416/dar/region_nt/PFC_PFC_Glut_MW_mementoht.csv\",index_col=0)\n",
    "\n",
    "df_all = pd.concat([df_up, df_down], axis=0)"
   ]
  },
  {
   "cell_type": "code",
   "execution_count": null,
   "id": "b10b4165",
   "metadata": {},
   "outputs": [],
   "source": [
    "df_all.sort_values(by='de_coef', ascending=False, inplace=True)"
   ]
  },
  {
   "cell_type": "code",
   "execution_count": null,
   "id": "002d1846",
   "metadata": {},
   "outputs": [],
   "source": [
    "df_all.set_index('gene', inplace=True)"
   ]
  },
  {
   "cell_type": "code",
   "execution_count": null,
   "id": "da7645e1",
   "metadata": {},
   "outputs": [],
   "source": [
    "df_all"
   ]
  },
  {
   "cell_type": "code",
   "execution_count": null,
   "id": "30e86215",
   "metadata": {},
   "outputs": [],
   "source": [
    "visuz.GeneExpression.volcano(\n",
    "    df=df_all,\n",
    "    lfc=\"de_coef\",\n",
    "    pv=\"de_pval\",\n",
    "    lfc_thr=(1, 2), pv_thr=(0.05, 0.01),\n",
    ")\n"
   ]
  },
  {
   "cell_type": "code",
   "execution_count": null,
   "id": "e0116976",
   "metadata": {},
   "outputs": [],
   "source": [
    "df_rmsk = df_rmsk.dropna()"
   ]
  },
  {
   "cell_type": "code",
   "execution_count": null,
   "id": "2c66cd81",
   "metadata": {},
   "outputs": [],
   "source": [
    "df_rmsk['genoStart'] = df_rmsk['genoStart'].astype(int)\n",
    "df_rmsk['genoEnd'] = df_rmsk['genoEnd'].astype(int)"
   ]
  },
  {
   "cell_type": "code",
   "execution_count": null,
   "id": "8f297b0a",
   "metadata": {},
   "outputs": [],
   "source": [
    "df_rmsk['names'] = df_rmsk['genoName']+\":\"+ df_rmsk['genoStart'].astype(str) + \"-\" + df_rmsk['genoEnd'].astype(str)"
   ]
  },
  {
   "cell_type": "code",
   "execution_count": null,
   "id": "04bfed70",
   "metadata": {},
   "outputs": [],
   "source": [
    "df_rmsk.head()"
   ]
  },
  {
   "cell_type": "code",
   "execution_count": null,
   "id": "18d94693",
   "metadata": {},
   "outputs": [],
   "source": [
    "set(df_rmsk.repClass)"
   ]
  },
  {
   "cell_type": "code",
   "execution_count": null,
   "id": "1f2b6b30",
   "metadata": {},
   "outputs": [],
   "source": [
    "df_rmsk[\"type\"] = \"Other repeats\""
   ]
  },
  {
   "cell_type": "code",
   "execution_count": null,
   "id": "ed31f9db",
   "metadata": {},
   "outputs": [],
   "source": [
    "df_rmsk.loc[df_rmsk.repClass.str.contains(\"SINE\"),\"type\"] = \"SINE\"\n",
    "df_rmsk.loc[df_rmsk.repClass.str.contains(\"LINE\"),\"type\"] = \"LINE\"\n",
    "df_rmsk.loc[df_rmsk.repClass.str.contains(\"LTR\"),\"type\"] = \"LTR\""
   ]
  },
  {
   "cell_type": "code",
   "execution_count": null,
   "id": "a591d1ca",
   "metadata": {},
   "outputs": [],
   "source": [
    "df_rmsk_select = df_rmsk[[\"genoName\", \"genoStart\", \"genoEnd\",'strand', \"type\", \"names\"]]"
   ]
  },
  {
   "cell_type": "code",
   "execution_count": null,
   "id": "e2f6361a",
   "metadata": {},
   "outputs": [],
   "source": [
    "df_rmsk_select.columns = [\"chr\", \"start\", \"end\", \"strand\", \"type\", \"names\"]\n",
    "df_rmsk_select"
   ]
  },
  {
   "cell_type": "code",
   "execution_count": null,
   "id": "d7cb84bb",
   "metadata": {},
   "outputs": [],
   "source": [
    "df_rmsk_select = df_rmsk_select[df_rmsk_select['chr'].str.match(r'^chr([1-9]|1\\d|2[0-2]|[XYM])$')]\n"
   ]
  },
  {
   "cell_type": "code",
   "execution_count": null,
   "id": "b0d11656",
   "metadata": {},
   "outputs": [],
   "source": [
    "df_rmsk_gene = utils.annotate_region(df_rmsk_select,region_col='names', bedfile='/data2st1/junyi/generegion_vM23/genebody_selected.bed')"
   ]
  },
  {
   "cell_type": "code",
   "execution_count": null,
   "id": "60f4c199",
   "metadata": {},
   "outputs": [],
   "source": [
    "df_rmsk_gene.loc[df_rmsk_gene.distance!= 0,'gene_name'] = 'intergenic'\n",
    "df_rmsk_gene.loc[df_rmsk_gene.distance!= 0,'gene_id'] = 'intergenic'\n"
   ]
  },
  {
   "cell_type": "code",
   "execution_count": null,
   "id": "3699d36f",
   "metadata": {},
   "outputs": [],
   "source": [
    "df_rmsk_gene['score'] = \".\""
   ]
  },
  {
   "cell_type": "code",
   "execution_count": null,
   "id": "5aca62ca",
   "metadata": {},
   "outputs": [],
   "source": [
    "df_all_rmsk_gene= df_rmsk_gene[['chr', 'start', 'end','score', 'strand_x','gene_name', 'gene_id', 'type']]\n",
    "df_all_rmsk_gen"
   ]
  },
  {
   "cell_type": "code",
   "execution_count": null,
   "id": "e111dd00",
   "metadata": {},
   "outputs": [],
   "source": [
    "for type in df_all_rmsk_gene['type'].unique():\n",
    "    df_rmsk_gene_type = df_all_rmsk_gene[df_all_rmsk_gene['type'] == type]\n",
    "    df_rmsk_gene_type.to_csv(f\"/data2st1/junyi/output/atac0416/cCRE/{type}.bed\", sep=\"\\t\", index=False, header=False)"
   ]
  },
  {
   "cell_type": "code",
   "execution_count": null,
   "id": "3ab45296",
   "metadata": {},
   "outputs": [],
   "source": [
    "df_cpg = pd.read_csv(\"/data2st1/junyi/output/atac0416/cCRE/cpgIslandExt.txt\", sep=\"\\t\", header=None)"
   ]
  },
  {
   "cell_type": "code",
   "execution_count": null,
   "id": "7db6f61f",
   "metadata": {},
   "outputs": [],
   "source": [
    "df_cpg.iloc[:,4] = df_cpg.iloc[:,4].str.replace(\" \", \"\")"
   ]
  },
  {
   "cell_type": "code",
   "execution_count": null,
   "id": "ff03e368",
   "metadata": {},
   "outputs": [],
   "source": [
    "df_cpg_subset = df_cpg.iloc[:,[1,2,3,4]]\n",
    "df_cpg_subset.columns = [\"chr\", \"start\", \"end\", \"type\"]"
   ]
  },
  {
   "cell_type": "code",
   "execution_count": null,
   "id": "cf00b8ba",
   "metadata": {},
   "outputs": [],
   "source": [
    "df_cpg_subset\n",
    "df_cpg_subset = df_cpg_subset[df_cpg_subset['chr'].str.match(r'^chr([1-9]|1\\d|2[0-2]|[XYM])$')]\n"
   ]
  },
  {
   "cell_type": "code",
   "execution_count": null,
   "id": "6270130b",
   "metadata": {},
   "outputs": [],
   "source": [
    "df_cpg_subset['names'] = df_cpg_subset['chr'] + \":\" + df_cpg_subset['start'].astype(str) + \"-\" + df_cpg_subset['end'].astype(str)"
   ]
  },
  {
   "cell_type": "code",
   "execution_count": null,
   "id": "72d3fef3",
   "metadata": {},
   "outputs": [],
   "source": [
    "df_cpg_subset_gene = utils.annotate_region(df_cpg_subset,region_col='names', bedfile='/data2st1/junyi/generegion_vM23/genebody_selected.bed')"
   ]
  },
  {
   "cell_type": "code",
   "execution_count": null,
   "id": "b2372eb2",
   "metadata": {},
   "outputs": [],
   "source": [
    "df_cpg_subset_gene"
   ]
  },
  {
   "cell_type": "code",
   "execution_count": null,
   "id": "a790242c",
   "metadata": {},
   "outputs": [],
   "source": [
    "df_cpg_subset_gene.loc[df_cpg_subset_gene.distance!= 0,'gene_name'] = 'intergenic'\n",
    "df_cpg_subset_gene.loc[df_cpg_subset_gene.distance!= 0,'gene_id'] = 'intergenic'"
   ]
  },
  {
   "cell_type": "code",
   "execution_count": null,
   "id": "04a18c30",
   "metadata": {},
   "outputs": [],
   "source": [
    "df_cpg_subset_gene['score'] = \".\""
   ]
  },
  {
   "cell_type": "code",
   "execution_count": null,
   "id": "881bfabe",
   "metadata": {},
   "outputs": [],
   "source": [
    "df_cpg_subset_gene= df_cpg_subset_gene[['chr', 'start', 'end','score', 'strand','gene_name', 'gene_id', 'type']]\n",
    "df_cpg_subset_gene"
   ]
  },
  {
   "cell_type": "code",
   "execution_count": null,
   "id": "16ae9b37",
   "metadata": {},
   "outputs": [],
   "source": []
  },
  {
   "cell_type": "code",
   "execution_count": null,
   "id": "34634a58",
   "metadata": {},
   "outputs": [],
   "source": [
    "df_cpg_subset_gene.to_csv(\"/data2st1/junyi/output/atac0416/cCRE/cpg.bed\", sep=\"\\t\", index=False, header=False)"
   ]
  },
  {
   "cell_type": "code",
   "execution_count": null,
   "id": "d0a21a44",
   "metadata": {},
   "outputs": [],
   "source": [
    "df_interg = pd.read_csv(\"/data2st1/junyi/generegion_vM23/intergenic.bed\", sep=\"\\t\", header=None)"
   ]
  },
  {
   "cell_type": "code",
   "execution_count": null,
   "id": "2531a1f7",
   "metadata": {},
   "outputs": [],
   "source": [
    "df_interg.columns = [\"chr\", \"start\", \"end\", \"score\", \"strand\", \"gene_name\"]"
   ]
  },
  {
   "cell_type": "code",
   "execution_count": null,
   "id": "c44c57b8",
   "metadata": {},
   "outputs": [],
   "source": [
    "df_interg['type'] = df_interg['gene_id'] = df_interg['gene_name'] \n"
   ]
  },
  {
   "cell_type": "markdown",
   "id": "3966c82c",
   "metadata": {},
   "source": []
  },
  {
   "cell_type": "code",
   "execution_count": null,
   "id": "fbdd6793",
   "metadata": {},
   "outputs": [],
   "source": [
    "df_interg = df_interg[df_interg['chr'].str.match(r'^chr([1-9]|1\\d|2[0-2]|[XYM])$')]\n"
   ]
  },
  {
   "cell_type": "code",
   "execution_count": null,
   "id": "d0a3e9b3",
   "metadata": {},
   "outputs": [],
   "source": [
    "df_interg.loc[df_interg.end==\".\",\"end\"] = df_interg.loc[df_interg.end==\".\",\"start\"]"
   ]
  },
  {
   "cell_type": "code",
   "execution_count": null,
   "id": "d6641e04",
   "metadata": {},
   "outputs": [],
   "source": [
    "df_interg.to_csv(\"/data2st1/junyi/output/atac0416/cCRE/intergenic.bed\", sep=\"\\t\", index=False, header=False)"
   ]
  }
 ],
 "metadata": {
  "kernelspec": {
   "display_name": "snapatac2",
   "language": "python",
   "name": "python3"
  },
  "language_info": {
   "codemirror_mode": {
    "name": "ipython",
    "version": 3
   },
   "file_extension": ".py",
   "mimetype": "text/x-python",
   "name": "python",
   "nbconvert_exporter": "python",
   "pygments_lexer": "ipython3",
   "version": "3.10.0"
  }
 },
 "nbformat": 4,
 "nbformat_minor": 5
}
