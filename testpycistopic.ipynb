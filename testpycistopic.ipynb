{
 "cells": [
  {
   "cell_type": "code",
   "execution_count": 12,
   "id": "11303241",
   "metadata": {},
   "outputs": [],
   "source": [
    "import scanpy as sc\n",
    "import pycisTopic\n",
    "from pycisTopic.cistopic_class import *\n"
   ]
  },
  {
   "cell_type": "code",
   "execution_count": 2,
   "id": "d0fc36ee",
   "metadata": {},
   "outputs": [],
   "source": [
    "adata = sc.read_h5ad(\"/home/junyichen/code/scmmd/output/atac0416/3REGIONS_peak.h5ads\")"
   ]
  },
  {
   "cell_type": "code",
   "execution_count": 25,
   "id": "117268f0",
   "metadata": {},
   "outputs": [],
   "source": [
    "gene_peak_matrix = adata.layers['count'].T.tocsr()"
   ]
  },
  {
   "cell_type": "code",
   "execution_count": 5,
   "id": "a3b9b951",
   "metadata": {},
   "outputs": [],
   "source": [
    "cell_data = adata.obs\n",
    "gene_data = adata.var"
   ]
  },
  {
   "cell_type": "code",
   "execution_count": 23,
   "id": "2ded1726",
   "metadata": {},
   "outputs": [
    {
     "data": {
      "text/plain": [
       "scipy.sparse._csc.csc_matrix"
      ]
     },
     "execution_count": 23,
     "metadata": {},
     "output_type": "execute_result"
    }
   ],
   "source": [
    "type(gene_peak_matrix)"
   ]
  },
  {
   "cell_type": "code",
   "execution_count": 26,
   "id": "9ae50a1c",
   "metadata": {},
   "outputs": [
    {
     "name": "stdout",
     "output_type": "stream",
     "text": [
      "2025-06-02 17:10:33,779 cisTopic     INFO     Creating CistopicObject\n",
      "2025-06-02 17:51:45,794 cisTopic     INFO     Done!\n"
     ]
    }
   ],
   "source": [
    "pycis_topic_obj = create_cistopic_object(\n",
    "    fragment_matrix=gene_peak_matrix,\n",
    "    cell_names=cell_data.index.tolist(),\n",
    "    region_names=gene_data.index.tolist()\n",
    ")\n"
   ]
  }
 ],
 "metadata": {
  "kernelspec": {
   "display_name": "scenicplus",
   "language": "python",
   "name": "python3"
  },
  "language_info": {
   "codemirror_mode": {
    "name": "ipython",
    "version": 3
   },
   "file_extension": ".py",
   "mimetype": "text/x-python",
   "name": "python",
   "nbconvert_exporter": "python",
   "pygments_lexer": "ipython3",
   "version": "3.11.8"
  }
 },
 "nbformat": 4,
 "nbformat_minor": 5
}
