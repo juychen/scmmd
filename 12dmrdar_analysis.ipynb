{
 "cells": [
  {
   "cell_type": "code",
   "execution_count": 6,
   "id": "fedcdf5b",
   "metadata": {},
   "outputs": [],
   "source": [
    "import pandas as pd\n",
    "import re\n",
    "import os\n",
    "import glob\n",
    "import snapatac2 as snap\n",
    "from statsmodels.stats.multitest import multipletests\n",
    "\n",
    "import seaborn as sns\n",
    "import numpy as np\n",
    "import utils\n",
    "import subprocess\n",
    "\n",
    "from pybedtools import BedTool\n",
    "import matplotlib.pyplot as plt\n",
    "from upsetplot import UpSet, from_contents\n",
    "from matplotlib_venn import venn2\n",
    "#import pyBigWig"
   ]
  },
  {
   "cell_type": "code",
   "execution_count": 7,
   "id": "a5fc591c",
   "metadata": {},
   "outputs": [],
   "source": [
    "def merge_region(region='PFC',condition=\"MC\",folder='/data2st1/junyi/output/atac0627/dar/region_nt/',method='mementob',blacklist=['Doublet','NN',\"Neuron\"]):\n",
    "    df_result = pd.DataFrame()\n",
    "    files = glob.glob(f'{folder}/{region}*{condition}_{method}.csv')\n",
    "    for file in files:\n",
    "        if any([file.find(black) > -1 for black in blacklist]):\n",
    "            continue\n",
    "        df_dar = pd.read_csv(file,index_col=0)\n",
    "\n",
    "        ctname = file.split('/')[-1].replace('.csv', '')\n",
    "        ctname = \"_\".join(ctname.split('_')[1:-2])\n",
    "        if len(df_dar) == 0:\n",
    "            continue\n",
    "        df_dar['ctname'] = ctname\n",
    "        df_result = pd.concat([df_result, df_dar], axis=0, ignore_index=True)\n",
    "    df_result['region'] = region\n",
    "    df_result['condition'] = condition\n",
    "    return df_result\n",
    "\n",
    "def intersect_bed_files(bed_file1, bed_file2):\n",
    "    bed1 = BedTool(bed_file1)\n",
    "    bed2 = BedTool(bed_file2)\n",
    "\n",
    "    # Intersect and split regions\n",
    "    # Retain annotations from bed_file2 for overlapping regions\n",
    "    merged = bed1.intersect(bed2, wa=True, wb=True)#.saveas(\"output/temp_intersect.bed\")\n",
    "\n",
    "    # Split non-overlapping regions from bed_file1\n",
    "    non_overlapping = bed1.subtract(bed2)#.saveas(\"output/temp_non_overlapping.bed\")\n",
    "\n",
    "    return merged, non_overlapping\n",
    "\n",
    "def intersect_bed_objects(bed_file1, bed_file2):\n",
    "    bed1 = bed_file1\n",
    "    bed2 = bed_file2\n",
    "\n",
    "    # Intersect and split regions\n",
    "    # Retain annotations from bed_file2 for overlapping regions\n",
    "    merged = bed1.intersect(bed2, wa=True, wb=True)#.saveas(\"output/temp_intersect.bed\")\n",
    "\n",
    "    # Split non-overlapping regions from bed_file1\n",
    "    non_overlapping = bed1.subtract(bed2)#.saveas(\"output/temp_non_overlapping.bed\")\n",
    "\n",
    "    return merged, non_overlapping\n",
    "\n",
    "def get_proity_region(df_in, priority = [\n",
    "    \"promoter\",\n",
    "    \"UTR\",\n",
    "    \"exon\",\n",
    "    \"intron\",\n",
    "    \"intergenic\"   ]\n",
    "\n",
    "):\n",
    "    df_in['annotation'] = priority[-1]\n",
    "    df_in = df_in.loc[:,priority+['id']]\n",
    "    priorityi = priority[::-1]\n",
    "    for column in priorityi:\n",
    "        df_in.loc[df_in[column]==True,\"annotation\"] = column\n",
    "    return df_in\n",
    "\n",
    "\n",
    "def is_promoter(row,interval_col=\"names\"):\n",
    "    # 解析第一个区间\n",
    "    chrom_part, pos_part = row[interval_col].split(':')\n",
    "    start1, end1 = map(int, pos_part.split('-'))\n",
    "    strand = row['strand']\n",
    "\n",
    "    if strand == \"+\":\n",
    "        # 如果是正链，start1和end1不变\n",
    "        # 获取第二个区间\n",
    "        start2 = row['gstart']-2000\n",
    "        end2 = row['gstart']\n",
    "    else:\n",
    "        strand = \"-\"\n",
    "        start2 = row['gend']\n",
    "        end2 = row['gend']+2000\n",
    "    # 判断是否有交集\n",
    "    return not (end1 < start2 or end2 < start1)"
   ]
  },
  {
   "cell_type": "code",
   "execution_count": 8,
   "id": "fee258f5",
   "metadata": {},
   "outputs": [],
   "source": [
    "df_meta_dmr = pd.read_csv('/data1st2/hannan_25/data/Nanopore_processV1/nanopore_08_differential/summary/dmr_seg_anno_2tools_nofilter.csv')"
   ]
  },
  {
   "cell_type": "code",
   "execution_count": 9,
   "id": "c6a72b19",
   "metadata": {},
   "outputs": [],
   "source": [
    "method = 'mementob'\n",
    "folder = '/data2st1/junyi/output/atac0627/darmr/All'\n",
    "df_PFC_MC = merge_region(region='PFC',condition=\"MC\",folder=folder,method=method)\n",
    "df_PFC_MW = merge_region(region='PFC',condition=\"MW\", folder=folder, method=method)\n",
    "df_HIP_MC = merge_region(region='HIP',condition=\"MC\",folder=folder,method=method)\n",
    "df_HIP_MW = merge_region(region='HIP',condition=\"MW\", folder=folder, method=method)\n",
    "df_AMY_MC = merge_region(region='AMY',condition=\"MC\",folder=folder,method=method)\n",
    "df_AMY_MW = merge_region(region='AMY',condition=\"MW\", folder=folder, method=method)\n",
    "df_DAR_ALL = pd.concat([df_PFC_MC, df_PFC_MW, df_HIP_MC, df_HIP_MW, df_AMY_MC, df_AMY_MW], axis=0, ignore_index=True)"
   ]
  },
  {
   "cell_type": "code",
   "execution_count": 15,
   "id": "73ccf42a",
   "metadata": {},
   "outputs": [],
   "source": [
    "df_DAR_ALL = df_DAR_ALL.drop_duplicates(subset=['gene', 'region','condition'])"
   ]
  },
  {
   "cell_type": "code",
   "execution_count": 17,
   "id": "8869bb56",
   "metadata": {},
   "outputs": [],
   "source": [
    "df_DAR_sign = df_DAR_ALL[df_DAR_ALL['de_pval'] <0.05]"
   ]
  },
  {
   "cell_type": "code",
   "execution_count": 52,
   "id": "f978dd61",
   "metadata": {},
   "outputs": [],
   "source": [
    "df_meta_dmr['brainregion'] = df_meta_dmr['comparision'].str.split('-').str[-1]\n",
    "df_meta_dmr['gender'] = df_meta_dmr['comparision'].str[0]\n",
    "df_meta_dmr['region'] = \"chr\"+df_meta_dmr['dmr'].str.split('_').str[1]"
   ]
  },
  {
   "cell_type": "code",
   "execution_count": 83,
   "id": "7c807b86",
   "metadata": {},
   "outputs": [],
   "source": [
    "# find the region only happen in female samples\n",
    "df_meta_dmr_f = df_meta_dmr[df_meta_dmr['gender'] == 'F']\n",
    "df_meta_dmr_m = df_meta_dmr[df_meta_dmr['gender'] == 'M']\n",
    "region_f_only=(set(df_meta_dmr_f.region)).difference(set(df_meta_dmr_m.region))\n",
    "df_DAR_sign_m = df_DAR_sign[~df_DAR_sign['gene'].isin(region_f_only)]"
   ]
  },
  {
   "cell_type": "code",
   "execution_count": 104,
   "id": "cc49e889",
   "metadata": {},
   "outputs": [
    {
     "data": {
      "text/plain": [
       "34858"
      ]
     },
     "execution_count": 104,
     "metadata": {},
     "output_type": "execute_result"
    }
   ],
   "source": [
    "df_DAR_sign_m['gene'].nunique()"
   ]
  },
  {
   "cell_type": "code",
   "execution_count": 107,
   "id": "44e47c35",
   "metadata": {},
   "outputs": [
    {
     "data": {
      "text/plain": [
       "31838"
      ]
     },
     "execution_count": 107,
     "metadata": {},
     "output_type": "execute_result"
    }
   ],
   "source": [
    "df_meta_dmr_m['region'].nunique()"
   ]
  },
  {
   "cell_type": "code",
   "execution_count": 98,
   "id": "babbff48",
   "metadata": {},
   "outputs": [],
   "source": [
    "df_merge_dardmr = df_DAR_sign_m.merge(df_meta_dmr_m, left_on=['gene','region'], right_on=['region','brainregion'], how='inner', suffixes=('_dar', '_dmr'))"
   ]
  },
  {
   "cell_type": "code",
   "execution_count": 109,
   "id": "8bb63aef",
   "metadata": {},
   "outputs": [],
   "source": [
    "df_merge_dardmr.to_csv('/data2st1/junyi/output/atac0627/darmr/All/merge_dardmr_mementob.csv', index=False)"
   ]
  }
 ],
 "metadata": {
  "kernelspec": {
   "display_name": "snapatac2",
   "language": "python",
   "name": "python3"
  },
  "language_info": {
   "codemirror_mode": {
    "name": "ipython",
    "version": 3
   },
   "file_extension": ".py",
   "mimetype": "text/x-python",
   "name": "python",
   "nbconvert_exporter": "python",
   "pygments_lexer": "ipython3",
   "version": "3.10.0"
  }
 },
 "nbformat": 4,
 "nbformat_minor": 5
}
