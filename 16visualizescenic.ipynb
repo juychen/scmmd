{
 "cells": [
  {
   "cell_type": "code",
   "execution_count": 1,
   "id": "bd228e59",
   "metadata": {},
   "outputs": [],
   "source": [
    "import scanpy as sc\n",
    "import pandas as pd\n",
    "import numpy as np"
   ]
  },
  {
   "cell_type": "code",
   "execution_count": 2,
   "id": "984b04f7",
   "metadata": {},
   "outputs": [],
   "source": [
    "adata_atac= sc.read_h5ad('/data2st1/junyi/output/atac0627/3REGIONS_gene.h5ad')"
   ]
  },
  {
   "cell_type": "code",
   "execution_count": 3,
   "id": "1a4f256b",
   "metadata": {},
   "outputs": [],
   "source": [
    "adata_sc = sc.read_h5ad(\"/data1st1/sch/20250626/anndata_before_intergration_anno.h5ad\")"
   ]
  },
  {
   "cell_type": "code",
   "execution_count": 40,
   "id": "e1dbdd78",
   "metadata": {},
   "outputs": [],
   "source": [
    "# downsample the sc data t0 5000 cells \n",
    "adata_scsubset = sc.pp.subsample(adata_sc[adata_sc.obs.region.isin(['HPF','AMY','PFC']) & (adata_sc.obs.sex=='M')], n_obs=5000, copy=True)"
   ]
  },
  {
   "cell_type": "code",
   "execution_count": 5,
   "id": "5d62de47",
   "metadata": {},
   "outputs": [],
   "source": [
    "adata_atacsubset = sc.pp.subsample(adata_atac, n_obs=5000, copy=True)"
   ]
  },
  {
   "cell_type": "code",
   "execution_count": 41,
   "id": "38400b8a",
   "metadata": {},
   "outputs": [
    {
     "data": {
      "text/plain": [
       "AnnData object with n_obs × n_vars = 5000 × 32285\n",
       "    obs: 'batch', 'region', 'tech', 'donor', 'sex', 'status', 'folder', 'path', 'capture_rate', 'n_genes_by_counts', 'log1p_n_genes_by_counts', 'total_counts', 'log1p_total_counts', 'pct_counts_in_top_50_genes', 'pct_counts_in_top_100_genes', 'pct_counts_in_top_200_genes', 'pct_counts_in_top_500_genes', 'doublet_score', 'predicted_doublet', 'outlier', 'leiden', 'predicted_labels', 'conf_score', 'pred_mwb', 'pred_mdg', 'pred_mih', 'pred_mpd', 'level1', 'level2', 'group', 'filter1', 'trd', 'treatment', 'louvain', 'Neurotransmitter_celltype', 'celltype.L1', 'celltype.L2', 'predict.subclass', 'umap_seurat_1', 'umap_seurat_2'\n",
       "    var: 'gene_ids', 'feature_types', 'highly_variable', 'highly_variable_rank', 'means', 'variances', 'variances_norm', 'highly_variable_nbatches'\n",
       "    uns: 'celltype.L2_colors', 'donor_colors', 'gender_colors', 'hvg', 'leiden', 'level1_colors', 'level2_colors', 'log1p', 'neighbors', 'pca', 'pred_mdg_colors', 'pred_mih_colors', 'pred_mpd_colors', 'predicted_labels_colors', 'region_colors', 'sample_colors', 'status_colors', 'tech_colors', 'umap', 'celltype.L1_colors', 'dendrogram_celltype.L1'\n",
       "    obsm: 'X_pca', 'X_umap', 'X_umap_raw'\n",
       "    varm: 'PCs'\n",
       "    layers: 'counts'\n",
       "    obsp: 'connectivities', 'distances'"
      ]
     },
     "execution_count": 41,
     "metadata": {},
     "output_type": "execute_result"
    }
   ],
   "source": [
    "adata_scsubset"
   ]
  },
  {
   "cell_type": "code",
   "execution_count": 7,
   "id": "5c0c4073",
   "metadata": {},
   "outputs": [],
   "source": [
    "df_marker_list = pd.read_csv('/data2st1/junyi/data/markerlist.csv')"
   ]
  },
  {
   "cell_type": "code",
   "execution_count": 8,
   "id": "19d3716c",
   "metadata": {},
   "outputs": [
    {
     "data": {
      "application/vnd.microsoft.datawrangler.viewer.v0+json": {
       "columns": [
        {
         "name": "index",
         "rawType": "int64",
         "type": "integer"
        },
        {
         "name": "cell type",
         "rawType": "object",
         "type": "string"
        },
        {
         "name": "BrainRegion",
         "rawType": "object",
         "type": "string"
        },
        {
         "name": "Marker1",
         "rawType": "object",
         "type": "string"
        },
        {
         "name": "Marker2",
         "rawType": "object",
         "type": "string"
        },
        {
         "name": "Neurotransmitter",
         "rawType": "object",
         "type": "string"
        }
       ],
       "ref": "f1861a9a-34c6-4e7c-82e1-3d8f00452e1e",
       "rows": [
        [
         "0",
         "AMY Ccdc3_Acvr1c Glut",
         "AMY",
         "Ccdc3",
         "Acvr1c",
         "Glut"
        ],
        [
         "1",
         "AMY Cdh23_Hmcn1 Glut",
         "AMY",
         "Cdh23",
         "Hmcn1",
         "Glut"
        ],
        [
         "2",
         "AMY Foxp2_Penk GABA",
         "AMY",
         "Foxp2",
         "Penk",
         "GABA"
        ],
        [
         "3",
         "AMY Hgf_Satb2 Glut",
         "AMY",
         "Hgf",
         "Satb2",
         "Glut"
        ],
        [
         "4",
         "AMY Igfn1_Scube1 Glut",
         "AMY",
         "Igfn1",
         "Scube1",
         "Glut"
        ],
        [
         "5",
         "AMY Lhx6_Gldn GABA",
         "AMY",
         "Lhx6",
         "Gldn",
         "GABA"
        ],
        [
         "6",
         "AMY Lhx6_Hapln1 GABA",
         "AMY",
         "Lhx6",
         "Hapln1",
         "GABA"
        ],
        [
         "7",
         "AMY Lhx6_Maf GABA",
         "AMY",
         "Lhx6",
         "Maf",
         "GABA"
        ],
        [
         "8",
         "AMY Lhx6_Ostm1 GABA",
         "AMY",
         "Lhx6",
         "Ostm1",
         "GABA"
        ],
        [
         "9",
         "AMY Lhx8_Pde3a GABA",
         "AMY",
         "Lhx8",
         "Pde3a",
         "GABA"
        ],
        [
         "10",
         "AMY Maf_Pthlh GABA",
         "AMY",
         "Maf",
         "Pthlh",
         "GABA"
        ],
        [
         "11",
         "AMY Meis1_Ebf1 Glut",
         "AMY",
         "Meis1",
         "Ebf1",
         "Glut"
        ],
        [
         "12",
         "AMY Meis1_Gpr149 Glut",
         "AMY",
         "Meis1",
         "Gpr149",
         "Glut"
        ],
        [
         "13",
         "AMY Ndnf_Lamp5 GABA",
         "AMY",
         "Ndnf",
         "Lamp5",
         "GABA"
        ],
        [
         "14",
         "AMY Rai14_Six3 GABA",
         "AMY",
         "Rai14",
         "Six3",
         "GABA"
        ],
        [
         "15",
         "AMY Rspo2_Tfap2d Glut",
         "AMY",
         "Rspo2",
         "Tfap2d",
         "Glut"
        ],
        [
         "16",
         "AMY Sim1_Cav1 Glut",
         "AMY",
         "Sim1",
         "Cav1",
         "Glut"
        ],
        [
         "17",
         "AMY Sox6_Ephb1 GABA",
         "AMY",
         "Sox6",
         "Ephb1",
         "GABA"
        ],
        [
         "18",
         "AMY Strip2_Penk GABA",
         "AMY",
         "Strip2",
         "Penk",
         "GABA"
        ],
        [
         "19",
         "AMY Tcf7l2_Cachd1 Glut",
         "AMY",
         "Tcf7l2",
         "Cachd1",
         "Glut"
        ],
        [
         "20",
         "AMY Trabd2b_Coch Glut",
         "AMY",
         "Trabd2b",
         "Coch",
         "Glut"
        ],
        [
         "21",
         "AMY Trh_Met Glut",
         "AMY",
         "Trh",
         "Met",
         "Glut"
        ],
        [
         "22",
         "AMY Vgll3_Pde11a Glut",
         "AMY",
         "Vgll3",
         "Pde11a",
         "Glut"
        ],
        [
         "23",
         "AMY Vip_Htr3a GABA",
         "AMY",
         "Vip",
         "Htr3a",
         "GABA"
        ],
        [
         "24",
         "AMY Zbtb7c_Vwa5b1 Glut",
         "AMY",
         "Zbtb7c",
         "Vwa5b1",
         "Glut"
        ],
        [
         "25",
         "AMY Zfhx3_Glra1 Glut",
         "AMY",
         "Zfhx3",
         "Glra1",
         "Glut"
        ],
        [
         "26",
         "AMY Zfhx4_Gfra1 GABA",
         "AMY",
         "Zfhx4",
         "Gfra1",
         "GABA"
        ],
        [
         "27",
         "HPF CA1 Glut",
         "HPF",
         "Fibcd1",
         null,
         "Glut"
        ],
        [
         "28",
         "HPF CA2 Glut",
         "HPF",
         "Cacng5",
         null,
         "Glut"
        ],
        [
         "29",
         "HPF CA3 Glut",
         "HPF",
         "Tspan18",
         "Hes1",
         "Glut"
        ],
        [
         "30",
         "HPF Cajal-Retzius Glut",
         "HPF",
         "Trp73",
         "Reln",
         "Glut"
        ],
        [
         "31",
         "HPF DG GC Glut",
         "HPF",
         "Prox1",
         "C1ql3",
         "Glut"
        ],
        [
         "32",
         "HPF Htr3a GABA",
         "HPF",
         "Htr3a",
         null,
         "GABA"
        ],
        [
         "33",
         "HPF Lamp5 GABA",
         "HPF",
         "Lamp5",
         null,
         "GABA"
        ],
        [
         "34",
         "HPF Mossy Glut",
         "HPF",
         "Calb2",
         "Adcyap1",
         "Glut"
        ],
        [
         "35",
         "HPF Pvalb GABA",
         "HPF",
         "Pvalb",
         null,
         "GABA"
        ],
        [
         "36",
         "HPF Pvalb Vipr2 GABA",
         "HPF",
         "Pvalb",
         "Vipr2",
         "GABA"
        ],
        [
         "37",
         "HPF Sst GABA",
         "HPF",
         "Sst",
         null,
         "GABA"
        ],
        [
         "38",
         "HPF Subiculum CT Glut",
         "HPF",
         "Foxp2",
         "Thsd7b",
         "Glut"
        ],
        [
         "39",
         "HPF Subiculum IT Glut",
         "HPF",
         "Satb2",
         null,
         "Glut"
        ],
        [
         "40",
         "HPF Subiculum NP Glut",
         "HPF",
         "Ly6g6e",
         "Nxph3",
         "Glut"
        ],
        [
         "41",
         "HPF Subiculum ProS Glut",
         "HPF",
         "Arhgap6",
         null,
         "Glut"
        ],
        [
         "42",
         "HPF Subiculum SUB Glut",
         "HPF",
         "Fn1",
         null,
         "Glut"
        ],
        [
         "43",
         "HPF Vip GABA",
         "HPF",
         "Vip",
         null,
         "GABA"
        ],
        [
         "44",
         "HY Agrp_Npy GABA",
         "HY",
         "Agrp",
         "Npy",
         "GABA"
        ],
        [
         "45",
         "HY Agtr1a_Tns1 Glut",
         "HY",
         "Agtr1a",
         "Tns1",
         "Glut"
        ],
        [
         "46",
         "HY Avp_Dnah8 Glut",
         "HY",
         "Avp",
         "Dnah8",
         "Glut"
        ],
        [
         "47",
         "HY Chol",
         "HY",
         "Chat",
         null,
         "Chol"
        ],
        [
         "48",
         "HY Dnah11_Abi3bp GABA",
         "HY",
         "Dnah11",
         "Abi3bp",
         "GABA"
        ],
        [
         "49",
         "HY E2f7_Prkch Glut",
         "HY",
         "E2f7",
         "Prkch",
         "Glut"
        ]
       ],
       "shape": {
        "columns": 5,
        "rows": 221
       }
      },
      "text/html": [
       "<div>\n",
       "<style scoped>\n",
       "    .dataframe tbody tr th:only-of-type {\n",
       "        vertical-align: middle;\n",
       "    }\n",
       "\n",
       "    .dataframe tbody tr th {\n",
       "        vertical-align: top;\n",
       "    }\n",
       "\n",
       "    .dataframe thead th {\n",
       "        text-align: right;\n",
       "    }\n",
       "</style>\n",
       "<table border=\"1\" class=\"dataframe\">\n",
       "  <thead>\n",
       "    <tr style=\"text-align: right;\">\n",
       "      <th></th>\n",
       "      <th>cell type</th>\n",
       "      <th>BrainRegion</th>\n",
       "      <th>Marker1</th>\n",
       "      <th>Marker2</th>\n",
       "      <th>Neurotransmitter</th>\n",
       "    </tr>\n",
       "  </thead>\n",
       "  <tbody>\n",
       "    <tr>\n",
       "      <th>0</th>\n",
       "      <td>AMY Ccdc3_Acvr1c Glut</td>\n",
       "      <td>AMY</td>\n",
       "      <td>Ccdc3</td>\n",
       "      <td>Acvr1c</td>\n",
       "      <td>Glut</td>\n",
       "    </tr>\n",
       "    <tr>\n",
       "      <th>1</th>\n",
       "      <td>AMY Cdh23_Hmcn1 Glut</td>\n",
       "      <td>AMY</td>\n",
       "      <td>Cdh23</td>\n",
       "      <td>Hmcn1</td>\n",
       "      <td>Glut</td>\n",
       "    </tr>\n",
       "    <tr>\n",
       "      <th>2</th>\n",
       "      <td>AMY Foxp2_Penk GABA</td>\n",
       "      <td>AMY</td>\n",
       "      <td>Foxp2</td>\n",
       "      <td>Penk</td>\n",
       "      <td>GABA</td>\n",
       "    </tr>\n",
       "    <tr>\n",
       "      <th>3</th>\n",
       "      <td>AMY Hgf_Satb2 Glut</td>\n",
       "      <td>AMY</td>\n",
       "      <td>Hgf</td>\n",
       "      <td>Satb2</td>\n",
       "      <td>Glut</td>\n",
       "    </tr>\n",
       "    <tr>\n",
       "      <th>4</th>\n",
       "      <td>AMY Igfn1_Scube1 Glut</td>\n",
       "      <td>AMY</td>\n",
       "      <td>Igfn1</td>\n",
       "      <td>Scube1</td>\n",
       "      <td>Glut</td>\n",
       "    </tr>\n",
       "    <tr>\n",
       "      <th>...</th>\n",
       "      <td>...</td>\n",
       "      <td>...</td>\n",
       "      <td>...</td>\n",
       "      <td>...</td>\n",
       "      <td>...</td>\n",
       "    </tr>\n",
       "    <tr>\n",
       "      <th>216</th>\n",
       "      <td>Tanycyte</td>\n",
       "      <td>NN</td>\n",
       "      <td>Rax</td>\n",
       "      <td>Gpr50</td>\n",
       "      <td>NN</td>\n",
       "    </tr>\n",
       "    <tr>\n",
       "      <th>217</th>\n",
       "      <td>VLMC-1</td>\n",
       "      <td>NN</td>\n",
       "      <td>Lum,Dcn</td>\n",
       "      <td>Sidt1</td>\n",
       "      <td>NN</td>\n",
       "    </tr>\n",
       "    <tr>\n",
       "      <th>218</th>\n",
       "      <td>VLMC-2</td>\n",
       "      <td>NN</td>\n",
       "      <td>Lum,Dcn</td>\n",
       "      <td>Ppp1r1a</td>\n",
       "      <td>NN</td>\n",
       "    </tr>\n",
       "    <tr>\n",
       "      <th>219</th>\n",
       "      <td>VLMC-3</td>\n",
       "      <td>NN</td>\n",
       "      <td>Lum,Dcn</td>\n",
       "      <td>Enpp1</td>\n",
       "      <td>NN</td>\n",
       "    </tr>\n",
       "    <tr>\n",
       "      <th>220</th>\n",
       "      <td>VSMC</td>\n",
       "      <td>NN</td>\n",
       "      <td>Acta2</td>\n",
       "      <td>Myh11</td>\n",
       "      <td>NN</td>\n",
       "    </tr>\n",
       "  </tbody>\n",
       "</table>\n",
       "<p>221 rows × 5 columns</p>\n",
       "</div>"
      ],
      "text/plain": [
       "                 cell type BrainRegion  Marker1  Marker2 Neurotransmitter\n",
       "0    AMY Ccdc3_Acvr1c Glut         AMY    Ccdc3   Acvr1c             Glut\n",
       "1     AMY Cdh23_Hmcn1 Glut         AMY    Cdh23    Hmcn1             Glut\n",
       "2      AMY Foxp2_Penk GABA         AMY    Foxp2     Penk             GABA\n",
       "3       AMY Hgf_Satb2 Glut         AMY      Hgf    Satb2             Glut\n",
       "4    AMY Igfn1_Scube1 Glut         AMY    Igfn1   Scube1             Glut\n",
       "..                     ...         ...      ...      ...              ...\n",
       "216               Tanycyte          NN      Rax    Gpr50               NN\n",
       "217                 VLMC-1          NN  Lum,Dcn    Sidt1               NN\n",
       "218                 VLMC-2          NN  Lum,Dcn  Ppp1r1a               NN\n",
       "219                 VLMC-3          NN  Lum,Dcn    Enpp1               NN\n",
       "220                   VSMC          NN    Acta2    Myh11               NN\n",
       "\n",
       "[221 rows x 5 columns]"
      ]
     },
     "execution_count": 8,
     "metadata": {},
     "output_type": "execute_result"
    }
   ],
   "source": [
    "df_marker_list"
   ]
  },
  {
   "cell_type": "code",
   "execution_count": 9,
   "id": "f177cad2",
   "metadata": {},
   "outputs": [],
   "source": [
    "dict_maker = {}\n",
    "for index,row in df_marker_list.iterrows():\n",
    "    celltype = row['cell type']\n",
    "    marker = row['Marker1']\n",
    "    marker_list = []\n",
    "    if type(marker) == str:\n",
    "        maker1 = marker.split(',')\n",
    "        marker_list.extend(maker1)\n",
    "    marker2 = row['Marker2']\n",
    "    if type(marker2) == str:\n",
    "        maker2 = marker2.split(',')\n",
    "        marker_list.extend(maker2)\n",
    "    dict_maker[celltype] = marker_list\n",
    "all_markers = []\n",
    "for key in dict_maker.keys():\n",
    "    \n",
    "    all_markers.extend(dict_maker[key])"
   ]
  },
  {
   "cell_type": "code",
   "execution_count": 10,
   "id": "1ed80c7b",
   "metadata": {},
   "outputs": [],
   "source": [
    "# cal intersection between adata_sc.var\n",
    "intersect_markers = adata_sc.var_names.intersection(all_markers)"
   ]
  },
  {
   "cell_type": "code",
   "execution_count": 11,
   "id": "49ef112c",
   "metadata": {},
   "outputs": [],
   "source": [
    "marker_genes_dict = {\n",
    "    \"Neuron\": [\"Snap25\", \"Syt1\", \"Gad1\", \"Slc17a7\"],\n",
    "    \"Astrocyte-Epen\": [\"Gfap\", \"Aqp4\", \"Slc1a3\", \"Aldh1l1\"],\n",
    "    \"OPC-Oligo\": [\"Mag\", \"Mog\", \"Pdgfra\", \"Plp1\"],\n",
    "    \"Vascular\": [\"Flt1\", \"Kcnj8\", \"Dcn\"],\n",
    "    \"Immune\": [\"Cx3cr1\", \"Dock8\"]\n",
    "}\n"
   ]
  },
  {
   "cell_type": "code",
   "execution_count": 45,
   "id": "d72e8409",
   "metadata": {},
   "outputs": [],
   "source": [
    "colors={'gender': {'M': '#0080FF', 'F': '#E800E8'},\n",
    " 'region': {'AMY': '#1f77b4',\n",
    "  'Isocortex': '#ff7f0e',\n",
    "  'HPF': '#009E73',\n",
    "  'HY': '#d62728',\n",
    "  'MB': '#9467bd',\n",
    "  'PFC': '#8c564b',\n",
    "  'STR': '#e377c2',\n",
    "  'TH': '#bcbd22',\n",
    "  'Astro_Epen': '#17becf',\n",
    "  'OPC_Oligo': '#7f7f7f',\n",
    "  'Astro-Epen': '#17becf',\n",
    "  'OPC-Oligo': '#7f7f7f',\n",
    "  'Immune': '#ff9896',\n",
    "  'Vascular': '#c5b0d5'},\n",
    " 'neurotransmitter': {'Chol': '#1f77b4',\n",
    "  'Dopa': '#ff7f0e',\n",
    "  'Gaba': '#279e68',\n",
    "  'Glut': '#d62728',\n",
    "  'Hist': '#aa40fc',\n",
    "  'NN': '#8c564b',\n",
    "  'Sero': '#e377c2'},\n",
    " 'degs': {'UP': '#d62728', 'DOWN': '#3498db'}}"
   ]
  },
  {
   "cell_type": "code",
   "execution_count": 48,
   "id": "66580a92",
   "metadata": {},
   "outputs": [
    {
     "name": "stderr",
     "output_type": "stream",
     "text": [
      "/home/junyichen/anaconda3/envs/scenicplus/lib/python3.11/site-packages/pandas/core/internals/blocks.py:352: RuntimeWarning: invalid value encountered in log1p\n",
      "  result = func(self.values, **kwargs)\n",
      "/home/junyichen/anaconda3/envs/scenicplus/lib/python3.11/site-packages/scanpy/plotting/_anndata.py:2406: FutureWarning: iteritems is deprecated and will be removed in a future version. Use .items instead.\n",
      "  obs_tidy.index.value_counts(sort=False).iteritems()\n"
     ]
    },
    {
     "data": {
      "image/png": "[encoded data removed]",
      "text/plain": [
       "<Figure size 1000x319 with 4 Axes>"
      ]
     },
     "metadata": {},
     "output_type": "display_data"
    }
   ],
   "source": [
    "# order of cell types\n",
    "sc.pl.heatmap(adata_atacsubset, marker_genes_dict, groupby='celltype.L1', swap_axes=True,log=True,dendrogram=False, vmin=0, vmax=2, \n",
    "              standard_scale='var', show_gene_labels=True)\n"
   ]
  },
  {
   "cell_type": "code",
   "execution_count": 42,
   "id": "ee5066c0",
   "metadata": {},
   "outputs": [
    {
     "name": "stderr",
     "output_type": "stream",
     "text": [
      "/home/junyichen/anaconda3/envs/scenicplus/lib/python3.11/site-packages/scanpy/plotting/_anndata.py:2406: FutureWarning: iteritems is deprecated and will be removed in a future version. Use .items instead.\n",
      "  obs_tidy.index.value_counts(sort=False).iteritems()\n"
     ]
    },
    {
     "data": {
      "image/png": "[encoded data removed]",
      "text/plain": [
       "<Figure size 1000x319 with 4 Axes>"
      ]
     },
     "metadata": {},
     "output_type": "display_data"
    }
   ],
   "source": [
    "sc.pl.heatmap(adata_scsubset, marker_genes_dict, groupby='celltype.L1', swap_axes=True,log=True,dendrogram=False, vmin=0, vmax=2, standard_scale='var', show_gene_labels=True)\n"
   ]
  }
 ],
 "metadata": {
  "kernelspec": {
   "display_name": "scenicplus",
   "language": "python",
   "name": "python3"
  },
  "language_info": {
   "codemirror_mode": {
    "name": "ipython",
    "version": 3
   },
   "file_extension": ".py",
   "mimetype": "text/x-python",
   "name": "python",
   "nbconvert_exporter": "python",
   "pygments_lexer": "ipython3",
   "version": "3.11.8"
  }
 },
 "nbformat": 4,
 "nbformat_minor": 5
}
