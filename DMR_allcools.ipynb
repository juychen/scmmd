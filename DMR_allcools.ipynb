{
 "cells": [
  {
   "cell_type": "code",
   "execution_count": 1,
   "metadata": {},
   "outputs": [],
   "source": [
    "from ALLCools.mcds import RegionDS\n",
    "from ALLCools.dmr import call_dms, call_dmr\n",
    "import glob as glob\n",
    "import pandas as pd\n",
    "import numpy as np\n",
    "import os"
   ]
  },
  {
   "cell_type": "code",
   "execution_count": 2,
   "metadata": {},
   "outputs": [],
   "source": [
    "brain_regions = ['PFC','AMY','HIP']"
   ]
  },
  {
   "cell_type": "code",
   "execution_count": 3,
   "metadata": {},
   "outputs": [],
   "source": [
    "cell_types = ['Neuron','Astro-Epen','Vascular','Immune','OPC-Oligo']"
   ]
  },
  {
   "cell_type": "code",
   "execution_count": 4,
   "metadata": {},
   "outputs": [],
   "source": [
    "celltype = cell_types[0]\n",
    "brain_region = brain_regions[0]"
   ]
  },
  {
   "cell_type": "code",
   "execution_count": 5,
   "metadata": {},
   "outputs": [],
   "source": [
    "mc_bulk_dir = f'/data2st1/junyi/merged_allcs/{brain_region}/'\n",
    "allc_paths = glob.glob(f'{mc_bulk_dir}/*.tsv.gz')"
   ]
  },
  {
   "cell_type": "code",
   "execution_count": 6,
   "metadata": {},
   "outputs": [
    {
     "name": "stderr",
     "output_type": "stream",
     "text": [
      "/tmp/ipykernel_2508315/679740978.py:7: SettingWithCopyWarning: \n",
      "A value is trying to be set on a copy of a slice from a DataFrame.\n",
      "Try using .loc[row_indexer,col_indexer] = value instead\n",
      "\n",
      "See the caveats in the documentation: https://pandas.pydata.org/pandas-docs/stable/user_guide/indexing.html#returning-a-view-versus-a-copy\n",
      "  df_dar_selected['regionmm10'] = df_dar_selected['chr'] + ':' + df_dar_selected['start'].astype(str) + '-' + df_dar_selected['end'].astype(str)\n",
      "/tmp/ipykernel_2508315/679740978.py:8: SettingWithCopyWarning: \n",
      "A value is trying to be set on a copy of a slice from a DataFrame.\n",
      "Try using .loc[row_indexer,col_indexer] = value instead\n",
      "\n",
      "See the caveats in the documentation: https://pandas.pydata.org/pandas-docs/stable/user_guide/indexing.html#returning-a-view-versus-a-copy\n",
      "  df_dar_selected['region_extended'] = df_dar_selected['chr'] + ':' + (df_dar_selected['start']-5000).astype(str) + '-' + (df_dar_selected['end']+5000).astype(str)\n"
     ]
    }
   ],
   "source": [
    "# 3rd column is the orginal id in the wilcox table\n",
    "df_dar = pd.read_csv(f'/data2st1/junyi/output/motif/ALL_{celltype}_wilcoxon_DAR_lifted_sorted_gene.bed',sep='\\t',header=None,index_col=3)\n",
    "df_dar.columns = ['chr','start','end','chrmm10','startmm10','endmm10','score','strand','gene_name','gene_id','region','distance']\n",
    "df_pval = pd.read_csv(f'/data2st1/junyi/output/motif/ALL_{celltype}_wilcoxon.csv',index_col=0)\n",
    "df_concatted= pd.concat([df_pval.loc[df_dar.index],df_dar],axis=1)\n",
    "df_dar_selected = df_concatted[(df_concatted.pvals<0.05) & (df_concatted.logfoldchanges>0.1)& (df_concatted.pct_nz_group>0.1)]\n",
    "df_dar_selected['regionmm10'] = df_dar_selected['chr'] + ':' + df_dar_selected['start'].astype(str) + '-' + df_dar_selected['end'].astype(str)\n",
    "df_dar_selected['region_extended'] = df_dar_selected['chr'] + ':' + (df_dar_selected['start']-5000).astype(str) + '-' + (df_dar_selected['end']+5000).astype(str)"
   ]
  },
  {
   "cell_type": "code",
   "execution_count": 7,
   "metadata": {},
   "outputs": [],
   "source": [
    "allc_table= {}\n",
    "\n",
    "for allc_path in cell_types:\n",
    "    #allc_table[\"/data2st1/junyi/merged_allcs/PFC/\"+allc_path] = mc_bulk_dir+allc_path+'.tsv.gz'\n",
    "    allc_table[allc_path] = mc_bulk_dir+allc_path+'.tsv.gz'\n"
   ]
  },
  {
   "cell_type": "code",
   "execution_count": 8,
   "metadata": {},
   "outputs": [
    {
     "data": {
      "text/plain": [
       "{'Neuron': '/data2st1/junyi/merged_allcs/PFC/Neuron.tsv.gz',\n",
       " 'Astro-Epen': '/data2st1/junyi/merged_allcs/PFC/Astro-Epen.tsv.gz',\n",
       " 'Vascular': '/data2st1/junyi/merged_allcs/PFC/Vascular.tsv.gz',\n",
       " 'Immune': '/data2st1/junyi/merged_allcs/PFC/Immune.tsv.gz',\n",
       " 'OPC-Oligo': '/data2st1/junyi/merged_allcs/PFC/OPC-Oligo.tsv.gz'}"
      ]
     },
     "execution_count": 8,
     "metadata": {},
     "output_type": "execute_result"
    }
   ],
   "source": [
    "allc_table"
   ]
  },
  {
   "cell_type": "code",
   "execution_count": 9,
   "metadata": {},
   "outputs": [],
   "source": [
    "# make a dict, key is sample name, value is allc path\n",
    "# import pathlib\n",
    "# allc_table = {\n",
    "#     allc_path.name.split('.')[0]: str(allc_path)\n",
    "#     for allc_path in pathlib.Path(mc_bulk_dir).glob(\n",
    "#         f'{mc_bulk_dir}/*.tsv.gz')\n",
    "# }\n",
    "samples = list(allc_table.keys())\n",
    "allc_paths = list(allc_table.values())\n",
    "chrom_size_path = '/home/junyichen/code/whole_mouse_brain/wmb/files/mm10.main.chrom.sizes'\n",
    "output_dir = f'/data2st1/junyi/output/dmr/{brain_region}/{celltype}/'\n"
   ]
  },
  {
   "cell_type": "code",
   "execution_count": 10,
   "metadata": {},
   "outputs": [],
   "source": [
    "if os.path.exists(output_dir) == False:\n",
    "    os.makedirs(output_dir)"
   ]
  },
  {
   "cell_type": "code",
   "execution_count": 11,
   "metadata": {},
   "outputs": [],
   "source": [
    "input_region = df_dar_selected.sort_values(by='scores',ascending=False).head(100)\n",
    "input_region.sort_values(['chr','start','end'],inplace=True)\n",
    "input_region.drop_duplicates(subset=['chr','start','end'],keep='first',inplace=True)\n",
    "input_region = input_region.regionmm10.values.tolist()  "
   ]
  },
  {
   "cell_type": "code",
   "execution_count": 12,
   "metadata": {},
   "outputs": [
    {
     "data": {
      "text/plain": [
       "['chr1:165075570-165076071',\n",
       " 'chr1:173390024-173390525',\n",
       " 'chr10:62101453-62101954',\n",
       " 'chr10:78001697-78002198',\n",
       " 'chr10:79780052-79780553',\n",
       " 'chr10:81472818-81473319',\n",
       " 'chr10:93275198-93275699',\n",
       " 'chr10:109010764-109011265',\n",
       " 'chr11:4946974-4947475',\n",
       " 'chr11:6065488-6065989',\n",
       " 'chr11:19835219-19835720',\n",
       " 'chr11:46235225-46235726',\n",
       " 'chr11:54833793-54834294',\n",
       " 'chr11:80504011-80504512',\n",
       " 'chr11:103666177-103666678',\n",
       " 'chr12:29872362-29872863',\n",
       " 'chr12:85436006-85436507',\n",
       " 'chr12:100265850-100266351',\n",
       " 'chr12:104415539-104416040',\n",
       " 'chr13:24576626-24577127',\n",
       " 'chr13:43230178-43230679',\n",
       " 'chr13:55483567-55484068',\n",
       " 'chr13:59073747-59074248',\n",
       " 'chr14:8208863-8209364',\n",
       " 'chr14:31268412-31268913',\n",
       " 'chr14:55108488-55108989',\n",
       " 'chr14:65266337-65266838',\n",
       " 'chr14:66319547-66320048',\n",
       " 'chr14:69994777-69995278',\n",
       " 'chr14:70628774-70629275',\n",
       " 'chr14:76760656-76761157',\n",
       " 'chr15:77245336-77245837',\n",
       " 'chr15:100923376-100923877',\n",
       " 'chr16:13197259-13197760',\n",
       " 'chr16:16930866-16931367',\n",
       " 'chr17:73271863-73272364',\n",
       " 'chr18:22985081-22985582',\n",
       " 'chr18:60925316-60925817',\n",
       " 'chr18:74146069-74146570',\n",
       " 'chr19:4989849-4990350',\n",
       " 'chr19:5001677-5002178',\n",
       " 'chr19:45048249-45048750',\n",
       " 'chr2:7269972-7270473',\n",
       " 'chr2:28068459-28068960',\n",
       " 'chr2:32342407-32342908',\n",
       " 'chr2:73596733-73597234',\n",
       " 'chr2:73604995-73605496',\n",
       " 'chr2:109677962-109678463',\n",
       " 'chr2:119350849-119351350',\n",
       " 'chr2:130657434-130657935',\n",
       " 'chr2:136713136-136713637',\n",
       " 'chr2:154379075-154379576',\n",
       " 'chr2:168080524-168081025',\n",
       " 'chr2:168440770-168441271',\n",
       " 'chr2:180892798-180893299',\n",
       " 'chr3:51195260-51195761',\n",
       " 'chr3:94483989-94484490',\n",
       " 'chr3:107537043-107537544',\n",
       " 'chr3:108536402-108536903',\n",
       " 'chr4:42946711-42947212',\n",
       " 'chr4:46061529-46062030',\n",
       " 'chr4:68954180-68954681',\n",
       " 'chr4:95966925-95967426',\n",
       " 'chr4:130861524-130862025',\n",
       " 'chr4:141425470-141425971',\n",
       " 'chr4:154856006-154856507',\n",
       " 'chr4:155305566-155306067',\n",
       " 'chr5:8622818-8623319',\n",
       " 'chr5:37241702-37242203',\n",
       " 'chr5:113591721-113592222',\n",
       " 'chr5:115732393-115732894',\n",
       " 'chr5:116591635-116592136',\n",
       " 'chr5:137734247-137734748',\n",
       " 'chr6:85513481-85513982',\n",
       " 'chr6:90809969-90810470',\n",
       " 'chr6:124464571-124465072',\n",
       " 'chr7:4546447-4546948',\n",
       " 'chr7:140082273-140082774',\n",
       " 'chr7:141060683-141061184',\n",
       " 'chr7:144417506-144418007',\n",
       " 'chr7:145197032-145197533',\n",
       " 'chr8:12983981-12984482',\n",
       " 'chr8:83899514-83900015',\n",
       " 'chr8:123884741-123885242',\n",
       " 'chr9:21031759-21032260',\n",
       " 'chr9:36944782-36945283',\n",
       " 'chr9:59577807-59578308',\n",
       " 'chr9:62783169-62783670',\n",
       " 'chr9:86880320-86880821',\n",
       " 'chr9:106664335-106664836',\n",
       " 'chr9:108137485-108137986',\n",
       " 'chr9:122572112-122572613']"
      ]
     },
     "execution_count": 12,
     "metadata": {},
     "output_type": "execute_result"
    }
   ],
   "source": [
    "input_region"
   ]
  },
  {
   "cell_type": "code",
   "execution_count": 13,
   "metadata": {},
   "outputs": [
    {
     "name": "stdout",
     "output_type": "stream",
     "text": [
      "RMS tests for 286 sites.RMS tests for 274 sites.RMS tests for 280 sites.\n",
      "RMS tests for 393 sites.\n",
      "\n",
      "\n",
      "RMS tests for 259 sites.RMS tests for 262 sites.\n",
      "\n",
      "RMS tests for 283 sites.\n",
      "RMS tests for 280 sites.RMS tests for 372 sites.\n",
      "\n",
      "RMS tests for 238 sites.RMS tests for 310 sites.\n",
      "RMS tests for 252 sites.\n",
      "\n",
      "RMS tests for 332 sites.\n",
      "RMS tests for 255 sites.\n",
      "RMS tests for 300 sites.RMS tests for 259 sites.\n",
      "\n",
      "RMS tests for 261 sites.\n",
      "RMS tests for 272 sites.\n",
      "RMS tests for 250 sites.\n",
      "RMS tests for 247 sites.\n",
      "RMS tests for 264 sites.\n",
      "RMS tests for 290 sites.\n",
      "RMS tests for 283 sites.\n",
      "RMS tests for 283 sites.\n",
      "RMS tests for 255 sites.\n",
      "RMS tests for 266 sites.\n",
      "RMS tests for 265 sites.\n",
      "RMS tests for 288 sites.\n",
      "RMS tests for 297 sites.\n",
      "RMS tests for 302 sites.\n",
      "RMS tests for 256 sites.\n",
      "RMS tests for 250 sites.\n",
      "RMS tests for 272 sites.RMS tests for 280 sites.\n",
      "\n",
      "RMS tests for 252 sites.\n",
      "RMS tests for 242 sites.\n",
      "RMS tests for 304 sites.\n",
      "RMS tests for 296 sites.\n",
      "RMS tests for 281 sites.\n",
      "RMS tests for 302 sites.\n",
      "RMS tests for 307 sites.\n",
      "RMS tests for 263 sites.\n",
      "RMS tests for 291 sites.\n",
      "RMS tests for 272 sites.\n",
      "RMS tests for 225 sites.\n",
      "RMS tests for 257 sites.RMS tests for 286 sites.\n",
      "\n",
      "RMS tests for 275 sites.\n",
      "RMS tests for 319 sites.\n",
      "RMS tests for 280 sites.\n",
      "RMS tests for 273 sites.\n",
      "RMS tests for 290 sites.\n",
      "RMS tests for 362 sites.\n",
      "RMS tests for 305 sites.\n",
      "RMS tests for 233 sites.\n",
      "RMS tests for 348 sites.\n",
      "RMS tests for 297 sites.\n",
      "RMS tests for 292 sites.\n",
      "RMS tests for 301 sites.\n",
      "RMS tests for 282 sites.\n",
      "RMS tests for 254 sites.\n",
      "RMS tests for 315 sites.\n",
      "RMS tests for 346 sites.\n",
      "RMS tests for 297 sites.\n",
      "RMS tests for 297 sites.\n",
      "RMS tests for 370 sites.\n",
      "RMS tests for 247 sites.\n",
      "RMS tests for 350 sites.\n",
      "RMS tests for 362 sites.\n",
      "RMS tests for 271 sites.\n",
      "RMS tests for 362 sites.\n",
      "RMS tests for 307 sites.\n",
      "RMS tests for 271 sites.\n",
      "RMS tests for 328 sites.\n",
      "RMS tests for 308 sites.\n",
      "RMS tests for 293 sites.\n",
      "RMS tests for 299 sites.\n",
      "RMS tests for 290 sites.\n",
      "RMS tests for 350 sites.\n",
      "RMS tests for 261 sites.\n",
      "RMS tests for 264 sites.\n",
      "RMS tests for 261 sites.\n",
      "RMS tests for 314 sites.\n",
      "RMS tests for 292 sites.\n",
      "RMS tests for 334 sites.\n",
      "RMS tests for 263 sites.\n",
      "RMS tests for 325 sites.\n",
      "RMS tests for 278 sites.\n",
      "RMS tests for 387 sites.\n",
      "RMS tests for 288 sites.\n",
      "RMS tests for 276 sites.\n",
      "RMS tests for 358 sites.\n"
     ]
    }
   ],
   "source": [
    "call_dms(\n",
    "    output_dir=output_dir,\n",
    "    allc_paths=allc_paths,\n",
    "    samples=samples,\n",
    "    chrom_size_path=chrom_size_path,\n",
    "    cpu=16,\n",
    "    max_row_count=50,\n",
    "    n_permute=3000,\n",
    "    min_pvalue=0.01,\n",
    "    # here we just calculate some small regions for demo\n",
    "    # do not provide region parameter if you want to run DMR calling for the whole genome\n",
    "    # This parameter can also be used for call DMR/DMS in specific region of interest\n",
    "    region=input_region)\n"
   ]
  },
  {
   "cell_type": "code",
   "execution_count": 14,
   "metadata": {},
   "outputs": [
    {
     "ename": "ContainsGroupError",
     "evalue": "path \"path '' contains a group\" contains a group",
     "output_type": "error",
     "traceback": [
      "\u001b[0;31m---------------------------------------------------------------------------\u001b[0m",
      "\u001b[0;31m_RemoteTraceback\u001b[0m                          Traceback (most recent call last)",
      "\u001b[0;31m_RemoteTraceback\u001b[0m: \n\"\"\"\nTraceback (most recent call last):\n  File \"/home/junyichen/anaconda3/envs/allcools/lib/python3.8/concurrent/futures/process.py\", line 239, in _process_worker\n    r = call_item.fn(*call_item.args, **call_item.kwargs)\n  File \"/home/junyichen/anaconda3/envs/allcools/lib/python3.8/site-packages/ALLCools/dmr/call_dmr.py\", line 130, in _call_dmr_single_chrom\n    dmr_ds.to_zarr(output_path)\n  File \"/home/junyichen/anaconda3/envs/allcools/lib/python3.8/site-packages/xarray/core/dataset.py\", line 2099, in to_zarr\n    return to_zarr(  # type: ignore\n  File \"/home/junyichen/anaconda3/envs/allcools/lib/python3.8/site-packages/xarray/backends/api.py\", line 1629, in to_zarr\n    zstore = backends.ZarrStore.open_group(\n  File \"/home/junyichen/anaconda3/envs/allcools/lib/python3.8/site-packages/xarray/backends/zarr.py\", line 425, in open_group\n    zarr_group = zarr.open_group(store, **open_kwargs)\n  File \"/home/junyichen/anaconda3/envs/allcools/lib/python3.8/site-packages/zarr/hierarchy.py\", line 1541, in open_group\n    raise ContainsGroupError(path)\nzarr.errors.ContainsGroupError: path '' contains a group\n\"\"\"",
      "\nThe above exception was the direct cause of the following exception:\n",
      "\u001b[0;31mContainsGroupError\u001b[0m                        Traceback (most recent call last)",
      "Cell \u001b[0;32mIn[14], line 1\u001b[0m\n\u001b[0;32m----> 1\u001b[0m \u001b[43mcall_dmr\u001b[49m\u001b[43m(\u001b[49m\u001b[43moutput_dir\u001b[49m\u001b[38;5;241;43m=\u001b[39;49m\u001b[43moutput_dir\u001b[49m\u001b[43m,\u001b[49m\n\u001b[1;32m      2\u001b[0m \u001b[43m         \u001b[49m\u001b[43mp_value_cutoff\u001b[49m\u001b[38;5;241;43m=\u001b[39;49m\u001b[38;5;241;43m0.001\u001b[39;49m\u001b[43m,\u001b[49m\n\u001b[1;32m      3\u001b[0m \u001b[43m         \u001b[49m\u001b[43mfrac_delta_cutoff\u001b[49m\u001b[38;5;241;43m=\u001b[39;49m\u001b[38;5;241;43m0.3\u001b[39;49m\u001b[43m,\u001b[49m\n\u001b[1;32m      4\u001b[0m \u001b[43m         \u001b[49m\u001b[43mmax_dist\u001b[49m\u001b[38;5;241;43m=\u001b[39;49m\u001b[38;5;241;43m250\u001b[39;49m\u001b[43m,\u001b[49m\n\u001b[1;32m      5\u001b[0m \u001b[43m         \u001b[49m\u001b[43mresidual_quantile\u001b[49m\u001b[38;5;241;43m=\u001b[39;49m\u001b[38;5;241;43m0.7\u001b[39;49m\u001b[43m,\u001b[49m\n\u001b[1;32m      6\u001b[0m \u001b[43m         \u001b[49m\u001b[43mcorr_cutoff\u001b[49m\u001b[38;5;241;43m=\u001b[39;49m\u001b[38;5;241;43m0.3\u001b[39;49m\u001b[43m,\u001b[49m\n\u001b[1;32m      7\u001b[0m \u001b[43m         \u001b[49m\u001b[43mcpu\u001b[49m\u001b[38;5;241;43m=\u001b[39;49m\u001b[38;5;241;43m16\u001b[39;49m\u001b[43m)\u001b[49m\n",
      "File \u001b[0;32m~/anaconda3/envs/allcools/lib/python3.8/site-packages/ALLCools/dmr/call_dmr.py:196\u001b[0m, in \u001b[0;36mcall_dmr\u001b[0;34m(output_dir, replicate_label, p_value_cutoff, frac_delta_cutoff, max_dist, residual_quantile, corr_cutoff, dms_ratio, cpu, chrom)\u001b[0m\n\u001b[1;32m    194\u001b[0m     \u001b[38;5;28;01mfor\u001b[39;00m future \u001b[38;5;129;01min\u001b[39;00m as_completed(futures):\n\u001b[1;32m    195\u001b[0m         chunk_i \u001b[38;5;241m=\u001b[39m futures[future]\n\u001b[0;32m--> 196\u001b[0m         output_path \u001b[38;5;241m=\u001b[39m \u001b[43mfuture\u001b[49m\u001b[38;5;241;43m.\u001b[39;49m\u001b[43mresult\u001b[49m\u001b[43m(\u001b[49m\u001b[43m)\u001b[49m\n\u001b[1;32m    197\u001b[0m         chunks_to_write[chunk_i] \u001b[38;5;241m=\u001b[39m output_path\n\u001b[1;32m    199\u001b[0m write_ordered_chunks(\n\u001b[1;32m    200\u001b[0m     chunks_to_write,\n\u001b[1;32m    201\u001b[0m     final_path\u001b[38;5;241m=\u001b[39mdmr_dir,\n\u001b[0;32m   (...)\u001b[0m\n\u001b[1;32m    204\u001b[0m     coord_dtypes\u001b[38;5;241m=\u001b[39m\u001b[38;5;28;01mNone\u001b[39;00m,\n\u001b[1;32m    205\u001b[0m )\n",
      "File \u001b[0;32m~/anaconda3/envs/allcools/lib/python3.8/concurrent/futures/_base.py:437\u001b[0m, in \u001b[0;36mFuture.result\u001b[0;34m(self, timeout)\u001b[0m\n\u001b[1;32m    435\u001b[0m     \u001b[38;5;28;01mraise\u001b[39;00m CancelledError()\n\u001b[1;32m    436\u001b[0m \u001b[38;5;28;01melif\u001b[39;00m \u001b[38;5;28mself\u001b[39m\u001b[38;5;241m.\u001b[39m_state \u001b[38;5;241m==\u001b[39m FINISHED:\n\u001b[0;32m--> 437\u001b[0m     \u001b[38;5;28;01mreturn\u001b[39;00m \u001b[38;5;28;43mself\u001b[39;49m\u001b[38;5;241;43m.\u001b[39;49m\u001b[43m__get_result\u001b[49m\u001b[43m(\u001b[49m\u001b[43m)\u001b[49m\n\u001b[1;32m    439\u001b[0m \u001b[38;5;28mself\u001b[39m\u001b[38;5;241m.\u001b[39m_condition\u001b[38;5;241m.\u001b[39mwait(timeout)\n\u001b[1;32m    441\u001b[0m \u001b[38;5;28;01mif\u001b[39;00m \u001b[38;5;28mself\u001b[39m\u001b[38;5;241m.\u001b[39m_state \u001b[38;5;129;01min\u001b[39;00m [CANCELLED, CANCELLED_AND_NOTIFIED]:\n",
      "File \u001b[0;32m~/anaconda3/envs/allcools/lib/python3.8/concurrent/futures/_base.py:389\u001b[0m, in \u001b[0;36mFuture.__get_result\u001b[0;34m(self)\u001b[0m\n\u001b[1;32m    387\u001b[0m \u001b[38;5;28;01mif\u001b[39;00m \u001b[38;5;28mself\u001b[39m\u001b[38;5;241m.\u001b[39m_exception:\n\u001b[1;32m    388\u001b[0m     \u001b[38;5;28;01mtry\u001b[39;00m:\n\u001b[0;32m--> 389\u001b[0m         \u001b[38;5;28;01mraise\u001b[39;00m \u001b[38;5;28mself\u001b[39m\u001b[38;5;241m.\u001b[39m_exception\n\u001b[1;32m    390\u001b[0m     \u001b[38;5;28;01mfinally\u001b[39;00m:\n\u001b[1;32m    391\u001b[0m         \u001b[38;5;66;03m# Break a reference cycle with the exception in self._exception\u001b[39;00m\n\u001b[1;32m    392\u001b[0m         \u001b[38;5;28mself\u001b[39m \u001b[38;5;241m=\u001b[39m \u001b[38;5;28;01mNone\u001b[39;00m\n",
      "File \u001b[0;32m~/anaconda3/envs/allcools/lib/python3.8/concurrent/futures/process.py:239\u001b[0m, in \u001b[0;36m_process_worker\u001b[0;34m()\u001b[0m\n\u001b[1;32m    237\u001b[0m     \u001b[38;5;28;01mreturn\u001b[39;00m\n\u001b[1;32m    238\u001b[0m \u001b[38;5;28;01mtry\u001b[39;00m:\n\u001b[0;32m--> 239\u001b[0m     r \u001b[38;5;241m=\u001b[39m call_item\u001b[38;5;241m.\u001b[39mfn(\u001b[38;5;241m*\u001b[39mcall_item\u001b[38;5;241m.\u001b[39margs, \u001b[38;5;241m*\u001b[39m\u001b[38;5;241m*\u001b[39mcall_item\u001b[38;5;241m.\u001b[39mkwargs)\n\u001b[1;32m    240\u001b[0m \u001b[38;5;28;01mexcept\u001b[39;00m \u001b[38;5;167;01mBaseException\u001b[39;00m \u001b[38;5;28;01mas\u001b[39;00m e:\n\u001b[1;32m    241\u001b[0m     exc \u001b[38;5;241m=\u001b[39m _ExceptionWithTraceback(e, e\u001b[38;5;241m.\u001b[39m__traceback__)\n",
      "File \u001b[0;32m~/anaconda3/envs/allcools/lib/python3.8/site-packages/ALLCools/dmr/call_dmr.py:130\u001b[0m, in \u001b[0;36m_call_dmr_single_chrom\u001b[0;34m()\u001b[0m\n\u001b[1;32m    127\u001b[0m dmr_ds \u001b[38;5;241m=\u001b[39m dmr_ds\u001b[38;5;241m.\u001b[39mrename({k: \u001b[38;5;124mf\u001b[39m\u001b[38;5;124m\"\u001b[39m\u001b[38;5;124mdmr_\u001b[39m\u001b[38;5;132;01m{\u001b[39;00mk\u001b[38;5;132;01m}\u001b[39;00m\u001b[38;5;124m\"\u001b[39m \u001b[38;5;28;01mfor\u001b[39;00m k \u001b[38;5;129;01min\u001b[39;00m dmr_ds\u001b[38;5;241m.\u001b[39mcoords\u001b[38;5;241m.\u001b[39mkeys() \u001b[38;5;28;01mif\u001b[39;00m k \u001b[38;5;129;01mnot\u001b[39;00m \u001b[38;5;129;01min\u001b[39;00m dmr_ds\u001b[38;5;241m.\u001b[39mdims})\n\u001b[1;32m    129\u001b[0m output_path \u001b[38;5;241m=\u001b[39m \u001b[38;5;124mf\u001b[39m\u001b[38;5;124m\"\u001b[39m\u001b[38;5;132;01m{\u001b[39;00moutput_dir\u001b[38;5;132;01m}\u001b[39;00m\u001b[38;5;124m/\u001b[39m\u001b[38;5;132;01m{\u001b[39;00mchrom\u001b[38;5;132;01m}\u001b[39;00m\u001b[38;5;124m.zarr\u001b[39m\u001b[38;5;124m\"\u001b[39m\n\u001b[0;32m--> 130\u001b[0m dmr_ds\u001b[38;5;241m.\u001b[39mto_zarr(output_path)\n\u001b[1;32m    131\u001b[0m \u001b[38;5;28;01mreturn\u001b[39;00m output_path\n",
      "File \u001b[0;32m~/anaconda3/envs/allcools/lib/python3.8/site-packages/xarray/core/dataset.py:2099\u001b[0m, in \u001b[0;36mto_zarr\u001b[0;34m()\u001b[0m\n\u001b[1;32m   1982\u001b[0m \u001b[38;5;250m\u001b[39m\u001b[38;5;124;03m\"\"\"Write dataset contents to a zarr group.\u001b[39;00m\n\u001b[1;32m   1983\u001b[0m \n\u001b[1;32m   1984\u001b[0m \u001b[38;5;124;03mZarr chunks are determined in the following way:\u001b[39;00m\n\u001b[0;32m   (...)\u001b[0m\n\u001b[1;32m   2095\u001b[0m \u001b[38;5;124;03m    The I/O user guide, with more details and examples.\u001b[39;00m\n\u001b[1;32m   2096\u001b[0m \u001b[38;5;124;03m\"\"\"\u001b[39;00m\n\u001b[1;32m   2097\u001b[0m \u001b[38;5;28;01mfrom\u001b[39;00m \u001b[38;5;21;01mxarray\u001b[39;00m\u001b[38;5;21;01m.\u001b[39;00m\u001b[38;5;21;01mbackends\u001b[39;00m\u001b[38;5;21;01m.\u001b[39;00m\u001b[38;5;21;01mapi\u001b[39;00m \u001b[38;5;28;01mimport\u001b[39;00m to_zarr\n\u001b[0;32m-> 2099\u001b[0m \u001b[38;5;28;01mreturn\u001b[39;00m to_zarr(  \u001b[38;5;66;03m# type: ignore\u001b[39;00m\n\u001b[1;32m   2100\u001b[0m     \u001b[38;5;28mself\u001b[39m,\n\u001b[1;32m   2101\u001b[0m     store\u001b[38;5;241m=\u001b[39mstore,\n\u001b[1;32m   2102\u001b[0m     chunk_store\u001b[38;5;241m=\u001b[39mchunk_store,\n\u001b[1;32m   2103\u001b[0m     storage_options\u001b[38;5;241m=\u001b[39mstorage_options,\n\u001b[1;32m   2104\u001b[0m     mode\u001b[38;5;241m=\u001b[39mmode,\n\u001b[1;32m   2105\u001b[0m     synchronizer\u001b[38;5;241m=\u001b[39msynchronizer,\n\u001b[1;32m   2106\u001b[0m     group\u001b[38;5;241m=\u001b[39mgroup,\n\u001b[1;32m   2107\u001b[0m     encoding\u001b[38;5;241m=\u001b[39mencoding,\n\u001b[1;32m   2108\u001b[0m     compute\u001b[38;5;241m=\u001b[39mcompute,\n\u001b[1;32m   2109\u001b[0m     consolidated\u001b[38;5;241m=\u001b[39mconsolidated,\n\u001b[1;32m   2110\u001b[0m     append_dim\u001b[38;5;241m=\u001b[39mappend_dim,\n\u001b[1;32m   2111\u001b[0m     region\u001b[38;5;241m=\u001b[39mregion,\n\u001b[1;32m   2112\u001b[0m     safe_chunks\u001b[38;5;241m=\u001b[39msafe_chunks,\n\u001b[1;32m   2113\u001b[0m     zarr_version\u001b[38;5;241m=\u001b[39mzarr_version,\n\u001b[1;32m   2114\u001b[0m )\n",
      "File \u001b[0;32m~/anaconda3/envs/allcools/lib/python3.8/site-packages/xarray/backends/api.py:1629\u001b[0m, in \u001b[0;36mto_zarr\u001b[0;34m()\u001b[0m\n\u001b[1;32m   1627\u001b[0m     already_consolidated \u001b[38;5;241m=\u001b[39m \u001b[38;5;28;01mFalse\u001b[39;00m\n\u001b[1;32m   1628\u001b[0m     consolidate_on_close \u001b[38;5;241m=\u001b[39m consolidated \u001b[38;5;129;01mor\u001b[39;00m consolidated \u001b[38;5;129;01mis\u001b[39;00m \u001b[38;5;28;01mNone\u001b[39;00m\n\u001b[0;32m-> 1629\u001b[0m zstore \u001b[38;5;241m=\u001b[39m backends\u001b[38;5;241m.\u001b[39mZarrStore\u001b[38;5;241m.\u001b[39mopen_group(\n\u001b[1;32m   1630\u001b[0m     store\u001b[38;5;241m=\u001b[39mmapper,\n\u001b[1;32m   1631\u001b[0m     mode\u001b[38;5;241m=\u001b[39mmode,\n\u001b[1;32m   1632\u001b[0m     synchronizer\u001b[38;5;241m=\u001b[39msynchronizer,\n\u001b[1;32m   1633\u001b[0m     group\u001b[38;5;241m=\u001b[39mgroup,\n\u001b[1;32m   1634\u001b[0m     consolidated\u001b[38;5;241m=\u001b[39malready_consolidated,\n\u001b[1;32m   1635\u001b[0m     consolidate_on_close\u001b[38;5;241m=\u001b[39mconsolidate_on_close,\n\u001b[1;32m   1636\u001b[0m     chunk_store\u001b[38;5;241m=\u001b[39mchunk_mapper,\n\u001b[1;32m   1637\u001b[0m     append_dim\u001b[38;5;241m=\u001b[39mappend_dim,\n\u001b[1;32m   1638\u001b[0m     write_region\u001b[38;5;241m=\u001b[39mregion,\n\u001b[1;32m   1639\u001b[0m     safe_chunks\u001b[38;5;241m=\u001b[39msafe_chunks,\n\u001b[1;32m   1640\u001b[0m     stacklevel\u001b[38;5;241m=\u001b[39m\u001b[38;5;241m4\u001b[39m,  \u001b[38;5;66;03m# for Dataset.to_zarr()\u001b[39;00m\n\u001b[1;32m   1641\u001b[0m     zarr_version\u001b[38;5;241m=\u001b[39mzarr_version,\n\u001b[1;32m   1642\u001b[0m )\n\u001b[1;32m   1644\u001b[0m \u001b[38;5;28;01mif\u001b[39;00m mode \u001b[38;5;129;01min\u001b[39;00m [\u001b[38;5;124m\"\u001b[39m\u001b[38;5;124ma\u001b[39m\u001b[38;5;124m\"\u001b[39m, \u001b[38;5;124m\"\u001b[39m\u001b[38;5;124mr+\u001b[39m\u001b[38;5;124m\"\u001b[39m]:\n\u001b[1;32m   1645\u001b[0m     _validate_datatypes_for_zarr_append(zstore, dataset)\n",
      "File \u001b[0;32m~/anaconda3/envs/allcools/lib/python3.8/site-packages/xarray/backends/zarr.py:425\u001b[0m, in \u001b[0;36mopen_group\u001b[0;34m()\u001b[0m\n\u001b[1;32m    423\u001b[0m     zarr_group \u001b[38;5;241m=\u001b[39m zarr\u001b[38;5;241m.\u001b[39mopen_consolidated(store, \u001b[38;5;241m*\u001b[39m\u001b[38;5;241m*\u001b[39mopen_kwargs)\n\u001b[1;32m    424\u001b[0m \u001b[38;5;28;01melse\u001b[39;00m:\n\u001b[0;32m--> 425\u001b[0m     zarr_group \u001b[38;5;241m=\u001b[39m zarr\u001b[38;5;241m.\u001b[39mopen_group(store, \u001b[38;5;241m*\u001b[39m\u001b[38;5;241m*\u001b[39mopen_kwargs)\n\u001b[1;32m    426\u001b[0m \u001b[38;5;28;01mreturn\u001b[39;00m \u001b[38;5;28mcls\u001b[39m(\n\u001b[1;32m    427\u001b[0m     zarr_group,\n\u001b[1;32m    428\u001b[0m     mode,\n\u001b[0;32m   (...)\u001b[0m\n\u001b[1;32m    432\u001b[0m     safe_chunks,\n\u001b[1;32m    433\u001b[0m )\n",
      "File \u001b[0;32m~/anaconda3/envs/allcools/lib/python3.8/site-packages/zarr/hierarchy.py:1541\u001b[0m, in \u001b[0;36mopen_group\u001b[0;34m()\u001b[0m\n\u001b[1;32m   1539\u001b[0m     \u001b[38;5;28;01mraise\u001b[39;00m ContainsArrayError(path)\n\u001b[1;32m   1540\u001b[0m \u001b[38;5;28;01melif\u001b[39;00m contains_group(store, path\u001b[38;5;241m=\u001b[39mpath):\n\u001b[0;32m-> 1541\u001b[0m     \u001b[38;5;28;01mraise\u001b[39;00m ContainsGroupError(path)\n\u001b[1;32m   1542\u001b[0m \u001b[38;5;28;01melse\u001b[39;00m:\n\u001b[1;32m   1543\u001b[0m     init_group(store, path\u001b[38;5;241m=\u001b[39mpath, chunk_store\u001b[38;5;241m=\u001b[39mchunk_store)\n",
      "\u001b[0;31mContainsGroupError\u001b[0m: path \"path '' contains a group\" contains a group"
     ]
    }
   ],
   "source": [
    "call_dmr(output_dir=output_dir,\n",
    "         p_value_cutoff=0.001,\n",
    "         frac_delta_cutoff=0.3,\n",
    "         max_dist=250,\n",
    "         residual_quantile=0.7,\n",
    "         corr_cutoff=0.3,\n",
    "         cpu=16)"
   ]
  },
  {
   "cell_type": "code",
   "execution_count": null,
   "metadata": {},
   "outputs": [],
   "source": [
    "dmr_ds = RegionDS.open(output_dir)\n",
    "dmr_ds\n"
   ]
  },
  {
   "cell_type": "code",
   "execution_count": null,
   "metadata": {},
   "outputs": [],
   "source": [
    "df_dmr = pd.DataFrame(\n",
    "    {\n",
    "        'chr': dmr_ds['dmr_chrom'].to_numpy(),\n",
    "        'start': dmr_ds['dmr_start'].to_numpy(),\n",
    "        'end': dmr_ds['dmr_end'].to_numpy(),\n",
    "    }\n",
    ")"
   ]
  },
  {
   "cell_type": "code",
   "execution_count": null,
   "metadata": {},
   "outputs": [],
   "source": [
    "sample_mapping = {}\n",
    "for i in range(len(dmr_ds['sample'].to_numpy())):\n",
    "    sample_mapping[i] = dmr_ds['sample'].to_numpy()[i]\n",
    "sample_mapping"
   ]
  },
  {
   "cell_type": "code",
   "execution_count": null,
   "metadata": {},
   "outputs": [],
   "source": [
    "drm_state = dmr_ds['dmr_state'].to_numpy()\n",
    "for i in range(len(drm_state)):\n",
    "    df_dmr[sample_mapping[i]] = drm_state[i]"
   ]
  },
  {
   "cell_type": "code",
   "execution_count": null,
   "metadata": {},
   "outputs": [],
   "source": [
    "df_dmr.to_csv(f'{output_dir}/dmr_stat.csv',index=False)"
   ]
  },
  {
   "cell_type": "code",
   "execution_count": null,
   "metadata": {},
   "outputs": [],
   "source": [
    "np.save(f'{output_dir}/dmr_frac.npy', dmr_ds['dmr_da_frac'].to_numpy())\n"
   ]
  }
 ],
 "metadata": {
  "kernelspec": {
   "display_name": "allcools",
   "language": "python",
   "name": "python3"
  },
  "language_info": {
   "codemirror_mode": {
    "name": "ipython",
    "version": 3
   },
   "file_extension": ".py",
   "mimetype": "text/x-python",
   "name": "python",
   "nbconvert_exporter": "python",
   "pygments_lexer": "ipython3",
   "version": "3.8.20"
  }
 },
 "nbformat": 4,
 "nbformat_minor": 2
}
