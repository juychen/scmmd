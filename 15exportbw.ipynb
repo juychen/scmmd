{
 "cells": [
  {
   "cell_type": "code",
   "execution_count": 1,
   "id": "11303241",
   "metadata": {},
   "outputs": [],
   "source": [
    "import snapatac2 as snap\n",
    "import scanpy as sc\n"
   ]
  },
  {
   "cell_type": "code",
   "execution_count": null,
   "id": "7e50c613",
   "metadata": {},
   "outputs": [],
   "source": [
    "\n",
    "# adata = sc.read_h5ad(\"/data2st1/junyi/output/atac0627/3REGIONS_peak.h5ads\")\n",
    "# adata.obs['celltype.L2.Condition'] = adata.obs['celltype.L2'].astype(str) + \"_\" + adata.obs['Condition'].astype(str)\n",
    "# adata.write_h5ad(\"/data2st1/junyi/output/atac0627/3REGIONS_peak.h5ads\")\n",
    "# adata.obs.to_csv(\"/data2st1/junyi/output/atac0627/3REGIONS_peak_final.obs.csv\")"
   ]
  },
  {
   "cell_type": "code",
   "execution_count": null,
   "id": "4b50ccde",
   "metadata": {},
   "outputs": [],
   "source": []
  },
  {
   "cell_type": "code",
   "execution_count": 6,
   "id": "5391fddc",
   "metadata": {},
   "outputs": [],
   "source": [
    "adata = sc.read_h5ad(\"/data2st1/junyi/output/atac0627/3REGIONS_peak.h5ads\")"
   ]
  },
  {
   "cell_type": "code",
   "execution_count": null,
   "id": "e74716cc",
   "metadata": {},
   "outputs": [
    {
     "data": {
      "text/plain": [
       "AnnData object with n_obs × n_vars = 176318 × 1635846\n",
       "    obs: 'sample', 'doublet_probability', 'doublet_score', 'leiden', 'leiden_default', 'leiden_res_0.1', 'leiden_res_0.2', 'leiden_res_0.30000000000000004', 'leiden_res_0.4', 'leiden_res_0.5', 'leiden_res_0.6', 'leiden_res_0.7000000000000001', 'leiden_res_0.8', 'leiden_res_0.9', 'leiden_res_1.0', 'leiden_res_1.1', 'leiden_res_1.2000000000000002', 'leiden_res_1.3000000000000003', 'leiden_res_1.4000000000000001', 'leiden_res_1.5000000000000002', 'leiden_res_1.6', 'leiden_res_1.7000000000000002', 'leiden_res_1.8000000000000003', 'leiden_res_1.9000000000000001', 'leiden_res_0.3', 'leiden_res_0.7', 'leiden_res_1.2', 'leiden_res_1.3', 'leiden_res_1.4', 'leiden_res_1.5', 'leiden_res_1.7', 'leiden_res_1.8', 'leiden_res_1.9', 'celltype.L1', 'celltype.L2', 'Neurotransmitter_celltype', 'celltype.L1_ct', 'Sample_name', 'Condition', 'Region', 'celltype.L2.raw', 'region_nt', 'celltype.L3', 'celltype.L4', 'celltype.L1nt', 'celltype.L2.Condition'\n",
       "    obsm: 'X_spectral', 'X_umap'\n",
       "    layers: 'count'"
      ]
     },
     "execution_count": 22,
     "metadata": {},
     "output_type": "execute_result"
    }
   ],
   "source": [
    "adata"
   ]
  },
  {
   "cell_type": "code",
   "execution_count": null,
   "id": "60a4fb8b",
   "metadata": {},
   "outputs": [
    {
     "name": "stderr",
     "output_type": "stream",
     "text": [
      "2025-07-14 17:29:26 - INFO - Exporting fragments...\n"
     ]
    },
    {
     "ename": "RuntimeError",
     "evalue": "one of the following keys must be present in the '.obsm': 'fragment_single', 'fragment_paired'",
     "output_type": "error",
     "traceback": [
      "\u001b[0;31m---------------------------------------------------------------------------\u001b[0m",
      "\u001b[0;31mRuntimeError\u001b[0m                              Traceback (most recent call last)",
      "Cell \u001b[0;32mIn[9], line 1\u001b[0m\n\u001b[0;32m----> 1\u001b[0m \u001b[43msnap\u001b[49m\u001b[38;5;241;43m.\u001b[39;49m\u001b[43mex\u001b[49m\u001b[38;5;241;43m.\u001b[39;49m\u001b[43mexport_coverage\u001b[49m\u001b[43m(\u001b[49m\u001b[43madata\u001b[49m\u001b[43m,\u001b[49m\u001b[43m \u001b[49m\u001b[43mgroupby\u001b[49m\u001b[38;5;241;43m=\u001b[39;49m\u001b[38;5;124;43m'\u001b[39;49m\u001b[38;5;124;43mcelltype.L2.Condition\u001b[39;49m\u001b[38;5;124;43m'\u001b[39;49m\u001b[43m,\u001b[49m\u001b[43mout_dir\u001b[49m\u001b[38;5;241;43m=\u001b[39;49m\u001b[38;5;124;43m'\u001b[39;49m\u001b[38;5;124;43m/data2st1/junyi/output/atac0627/tracks\u001b[39;49m\u001b[38;5;124;43m'\u001b[39;49m\u001b[43m,\u001b[49m\u001b[43m \u001b[49m\u001b[43msuffix\u001b[49m\u001b[38;5;241;43m=\u001b[39;49m\u001b[38;5;124;43m'\u001b[39;49m\u001b[38;5;124;43m.bw\u001b[39;49m\u001b[38;5;124;43m'\u001b[39;49m\u001b[43m)\u001b[49m\n",
      "File \u001b[0;32m~/anaconda3/envs/snapatac2/lib/python3.10/site-packages/snapatac2/export/__init__.py:232\u001b[0m, in \u001b[0;36mexport_coverage\u001b[0;34m(adata, groupby, selections, bin_size, blacklist, normalization, include_for_norm, exclude_for_norm, min_frag_length, max_frag_length, counting_strategy, smooth_base, out_dir, prefix, suffix, output_format, compression, compression_level, tempdir, n_jobs)\u001b[0m\n\u001b[1;32m    229\u001b[0m         compression \u001b[38;5;241m=\u001b[39m inferred_compression\n\u001b[1;32m    231\u001b[0m n_jobs \u001b[38;5;241m=\u001b[39m \u001b[38;5;28;01mNone\u001b[39;00m \u001b[38;5;28;01mif\u001b[39;00m n_jobs \u001b[38;5;241m<\u001b[39m\u001b[38;5;241m=\u001b[39m \u001b[38;5;241m0\u001b[39m \u001b[38;5;28;01melse\u001b[39;00m n_jobs\n\u001b[0;32m--> 232\u001b[0m \u001b[38;5;28;01mreturn\u001b[39;00m \u001b[43minternal\u001b[49m\u001b[38;5;241;43m.\u001b[39;49m\u001b[43mexport_coverage\u001b[49m\u001b[43m(\u001b[49m\n\u001b[1;32m    233\u001b[0m \u001b[43m    \u001b[49m\u001b[43madata\u001b[49m\u001b[43m,\u001b[49m\u001b[43m \u001b[49m\u001b[38;5;28;43mlist\u001b[39;49m\u001b[43m(\u001b[49m\u001b[43mgroupby\u001b[49m\u001b[43m)\u001b[49m\u001b[43m,\u001b[49m\u001b[43m \u001b[49m\u001b[43mbin_size\u001b[49m\u001b[43m,\u001b[49m\u001b[43m \u001b[49m\u001b[43mout_dir\u001b[49m\u001b[43m,\u001b[49m\u001b[43m \u001b[49m\u001b[43mprefix\u001b[49m\u001b[43m,\u001b[49m\u001b[43m \u001b[49m\u001b[43msuffix\u001b[49m\u001b[43m,\u001b[49m\u001b[43m \u001b[49m\u001b[43moutput_format\u001b[49m\u001b[43m,\u001b[49m\u001b[43m \u001b[49m\u001b[43mcounting_strategy\u001b[49m\u001b[43m,\u001b[49m\n\u001b[1;32m    234\u001b[0m \u001b[43m    \u001b[49m\u001b[43mselections\u001b[49m\u001b[43m,\u001b[49m\u001b[43m \u001b[49m\u001b[43mblacklist\u001b[49m\u001b[43m,\u001b[49m\u001b[43m \u001b[49m\u001b[43mnormalization\u001b[49m\u001b[43m,\u001b[49m\u001b[43m \u001b[49m\u001b[43minclude_for_norm\u001b[49m\u001b[43m,\u001b[49m\u001b[43m \u001b[49m\u001b[43mexclude_for_norm\u001b[49m\u001b[43m,\u001b[49m\u001b[43m \u001b[49m\u001b[43mmin_frag_length\u001b[49m\u001b[43m,\u001b[49m\n\u001b[1;32m    235\u001b[0m \u001b[43m    \u001b[49m\u001b[43mmax_frag_length\u001b[49m\u001b[43m,\u001b[49m\u001b[43m \u001b[49m\u001b[43msmooth_base\u001b[49m\u001b[43m,\u001b[49m\u001b[43m \u001b[49m\u001b[43mcompression\u001b[49m\u001b[43m,\u001b[49m\u001b[43m \u001b[49m\u001b[43mcompression_level\u001b[49m\u001b[43m,\u001b[49m\u001b[43m \u001b[49m\u001b[43mtempdir\u001b[49m\u001b[43m,\u001b[49m\u001b[43m \u001b[49m\u001b[43mn_jobs\u001b[49m\u001b[43m,\u001b[49m\n\u001b[1;32m    236\u001b[0m \u001b[43m\u001b[49m\u001b[43m)\u001b[49m\n",
      "\u001b[0;31mRuntimeError\u001b[0m: one of the following keys must be present in the '.obsm': 'fragment_single', 'fragment_paired'"
     ]
    }
   ],
   "source": []
  },
  {
   "cell_type": "code",
   "execution_count": null,
   "id": "1c73ead5",
   "metadata": {},
   "outputs": [],
   "source": []
  },
  {
   "cell_type": "code",
   "execution_count": 39,
   "id": "eb4feb8b",
   "metadata": {},
   "outputs": [],
   "source": [
    "data_frag = snap.read_dataset(\"/data2st1/junyi/output/atac0627/doublet_filtered.h5ads/_dataset.h5ads\")"
   ]
  },
  {
   "cell_type": "code",
   "execution_count": 40,
   "id": "e143ecde",
   "metadata": {},
   "outputs": [
    {
     "data": {
      "text/plain": [
       "AnnDataSet object with n_obs x n_vars = 176318 x 526765 backed at '/data2st1/junyi/output/atac0627/doublet_filtered.h5ads/_dataset.h5ads'\n",
       "contains 18 AnnData objects with keys: 'MC37A_AMY', 'MC39C_HIP', 'MC48D_HIP', 'MC50B_AMY', 'MC50B_HIP', 'MC50B_PFC', 'MC52E_AMY', 'MC52E_PFC', 'MW45A_HIP', 'MW47A_AMY', 'MW47A_HIP', 'MW47A_PFC', 'MW51A_AMY', 'MW51A_HIP', 'MW51A_PFC', 'MC25A_PFC', 'MW26A_PFC', 'MW65A_AMY'\n",
       "    obs: 'sample', 'doublet_probability', 'doublet_score', 'leiden', 'leiden_default', 'leiden_res_0.1', 'leiden_res_0.2', 'leiden_res_0.3', 'leiden_res_0.4', 'leiden_res_0.5', 'leiden_res_0.6', 'leiden_res_0.7', 'leiden_res_0.8', 'leiden_res_0.9', 'leiden_res_1.0', 'leiden_res_1.1', 'leiden_res_1.2', 'leiden_res_1.3', 'leiden_res_1.4', 'leiden_res_1.5', 'leiden_res_1.6', 'leiden_res_1.7', 'leiden_res_1.8', 'leiden_res_1.9', 'celltype.L2.Condition'\n",
       "    var: 'count', 'selected'\n",
       "    uns: 'doublet_rate', 'spectral_eigenvalue', 'AnnDataSet', 'reference_sequences'\n",
       "    obsm: 'X_spectral', 'X_umap'\n",
       "    obsp: 'distances'"
      ]
     },
     "execution_count": 40,
     "metadata": {},
     "output_type": "execute_result"
    }
   ],
   "source": [
    "data_frag"
   ]
  },
  {
   "cell_type": "code",
   "execution_count": 32,
   "id": "da8af61a",
   "metadata": {},
   "outputs": [],
   "source": [
    "assert (adata.obs.index == data_frag.obs_names).all()\n",
    "adata.obsm['fragment_paired'] = data_frag.adatas.obsm['fragment_paired']\n"
   ]
  },
  {
   "cell_type": "code",
   "execution_count": 41,
   "id": "7cd43d72",
   "metadata": {},
   "outputs": [],
   "source": [
    "data_frag.close()"
   ]
  },
  {
   "cell_type": "code",
   "execution_count": 36,
   "id": "9d123547",
   "metadata": {},
   "outputs": [],
   "source": [
    "data_frag.obs['celltype.L2.Condition'] = adata.obs['celltype.L2.Condition']"
   ]
  },
  {
   "cell_type": "code",
   "execution_count": 37,
   "id": "83f67f27",
   "metadata": {},
   "outputs": [
    {
     "name": "stderr",
     "output_type": "stream",
     "text": [
      "2025-07-14 21:11:54 - INFO - Exporting fragments...\n",
      "2025-07-14 21:38:28 - INFO - Computing coverage...\n"
     ]
    },
    {
     "ename": "RuntimeError",
     "evalue": "Resource temporarily unavailable (os error 11)\n\nCaused by:\n    Resource temporarily unavailable (os error 11)",
     "output_type": "error",
     "traceback": [
      "\u001b[0;31m---------------------------------------------------------------------------\u001b[0m",
      "\u001b[0;31mRuntimeError\u001b[0m                              Traceback (most recent call last)",
      "Cell \u001b[0;32mIn[37], line 1\u001b[0m\n\u001b[0;32m----> 1\u001b[0m \u001b[43msnap\u001b[49m\u001b[38;5;241;43m.\u001b[39;49m\u001b[43mex\u001b[49m\u001b[38;5;241;43m.\u001b[39;49m\u001b[43mexport_coverage\u001b[49m\u001b[43m(\u001b[49m\u001b[43mdata_frag\u001b[49m\u001b[43m,\u001b[49m\u001b[43m \u001b[49m\u001b[43mgroupby\u001b[49m\u001b[38;5;241;43m=\u001b[39;49m\u001b[38;5;124;43m'\u001b[39;49m\u001b[38;5;124;43mcelltype.L2.Condition\u001b[39;49m\u001b[38;5;124;43m'\u001b[39;49m\u001b[43m,\u001b[49m\u001b[43mout_dir\u001b[49m\u001b[38;5;241;43m=\u001b[39;49m\u001b[38;5;124;43m'\u001b[39;49m\u001b[38;5;124;43m/data2st1/junyi/output/atac0627/tracks\u001b[39;49m\u001b[38;5;124;43m'\u001b[39;49m\u001b[43m,\u001b[49m\u001b[43m \u001b[49m\u001b[43msuffix\u001b[49m\u001b[38;5;241;43m=\u001b[39;49m\u001b[38;5;124;43m'\u001b[39;49m\u001b[38;5;124;43m.bw\u001b[39;49m\u001b[38;5;124;43m'\u001b[39;49m\u001b[43m)\u001b[49m\n",
      "File \u001b[0;32m~/anaconda3/envs/snapatac2/lib/python3.10/site-packages/snapatac2/export/__init__.py:232\u001b[0m, in \u001b[0;36mexport_coverage\u001b[0;34m(adata, groupby, selections, bin_size, blacklist, normalization, include_for_norm, exclude_for_norm, min_frag_length, max_frag_length, counting_strategy, smooth_base, out_dir, prefix, suffix, output_format, compression, compression_level, tempdir, n_jobs)\u001b[0m\n\u001b[1;32m    229\u001b[0m         compression \u001b[38;5;241m=\u001b[39m inferred_compression\n\u001b[1;32m    231\u001b[0m n_jobs \u001b[38;5;241m=\u001b[39m \u001b[38;5;28;01mNone\u001b[39;00m \u001b[38;5;28;01mif\u001b[39;00m n_jobs \u001b[38;5;241m<\u001b[39m\u001b[38;5;241m=\u001b[39m \u001b[38;5;241m0\u001b[39m \u001b[38;5;28;01melse\u001b[39;00m n_jobs\n\u001b[0;32m--> 232\u001b[0m \u001b[38;5;28;01mreturn\u001b[39;00m \u001b[43minternal\u001b[49m\u001b[38;5;241;43m.\u001b[39;49m\u001b[43mexport_coverage\u001b[49m\u001b[43m(\u001b[49m\n\u001b[1;32m    233\u001b[0m \u001b[43m    \u001b[49m\u001b[43madata\u001b[49m\u001b[43m,\u001b[49m\u001b[43m \u001b[49m\u001b[38;5;28;43mlist\u001b[39;49m\u001b[43m(\u001b[49m\u001b[43mgroupby\u001b[49m\u001b[43m)\u001b[49m\u001b[43m,\u001b[49m\u001b[43m \u001b[49m\u001b[43mbin_size\u001b[49m\u001b[43m,\u001b[49m\u001b[43m \u001b[49m\u001b[43mout_dir\u001b[49m\u001b[43m,\u001b[49m\u001b[43m \u001b[49m\u001b[43mprefix\u001b[49m\u001b[43m,\u001b[49m\u001b[43m \u001b[49m\u001b[43msuffix\u001b[49m\u001b[43m,\u001b[49m\u001b[43m \u001b[49m\u001b[43moutput_format\u001b[49m\u001b[43m,\u001b[49m\u001b[43m \u001b[49m\u001b[43mcounting_strategy\u001b[49m\u001b[43m,\u001b[49m\n\u001b[1;32m    234\u001b[0m \u001b[43m    \u001b[49m\u001b[43mselections\u001b[49m\u001b[43m,\u001b[49m\u001b[43m \u001b[49m\u001b[43mblacklist\u001b[49m\u001b[43m,\u001b[49m\u001b[43m \u001b[49m\u001b[43mnormalization\u001b[49m\u001b[43m,\u001b[49m\u001b[43m \u001b[49m\u001b[43minclude_for_norm\u001b[49m\u001b[43m,\u001b[49m\u001b[43m \u001b[49m\u001b[43mexclude_for_norm\u001b[49m\u001b[43m,\u001b[49m\u001b[43m \u001b[49m\u001b[43mmin_frag_length\u001b[49m\u001b[43m,\u001b[49m\n\u001b[1;32m    235\u001b[0m \u001b[43m    \u001b[49m\u001b[43mmax_frag_length\u001b[49m\u001b[43m,\u001b[49m\u001b[43m \u001b[49m\u001b[43msmooth_base\u001b[49m\u001b[43m,\u001b[49m\u001b[43m \u001b[49m\u001b[43mcompression\u001b[49m\u001b[43m,\u001b[49m\u001b[43m \u001b[49m\u001b[43mcompression_level\u001b[49m\u001b[43m,\u001b[49m\u001b[43m \u001b[49m\u001b[43mtempdir\u001b[49m\u001b[43m,\u001b[49m\u001b[43m \u001b[49m\u001b[43mn_jobs\u001b[49m\u001b[43m,\u001b[49m\n\u001b[1;32m    236\u001b[0m \u001b[43m\u001b[49m\u001b[43m)\u001b[49m\n",
      "\u001b[0;31mRuntimeError\u001b[0m: Resource temporarily unavailable (os error 11)\n\nCaused by:\n    Resource temporarily unavailable (os error 11)"
     ]
    }
   ],
   "source": [
    "snap.ex.export_coverage(data_frag, groupby='celltype.L2.Condition',out_dir='/data2st1/junyi/output/atac0627/tracks', suffix='.bw')"
   ]
  },
  {
   "cell_type": "code",
   "execution_count": 38,
   "id": "8c9ccfb1",
   "metadata": {},
   "outputs": [],
   "source": [
    "data_frag.close()"
   ]
  },
  {
   "cell_type": "code",
   "execution_count": null,
   "id": "306ee7d0",
   "metadata": {},
   "outputs": [
    {
     "data": {
      "text/plain": [
       "Stacked AnnData objects:\n",
       "    obs: 'n_fragment', 'frac_dup', 'frac_mito', 'tsse', 'doublet_probability', 'doublet_score'\n",
       "    obsm: 'fragment_paired'"
      ]
     },
     "execution_count": 16,
     "metadata": {},
     "output_type": "execute_result"
    }
   ],
   "source": [
    "data_frag."
   ]
  },
  {
   "cell_type": "code",
   "execution_count": 18,
   "id": "56993baf",
   "metadata": {},
   "outputs": [],
   "source": [
    "data.close()"
   ]
  }
 ],
 "metadata": {
  "kernelspec": {
   "display_name": "snapatac2",
   "language": "python",
   "name": "python3"
  },
  "language_info": {
   "codemirror_mode": {
    "name": "ipython",
    "version": 3
   },
   "file_extension": ".py",
   "mimetype": "text/x-python",
   "name": "python",
   "nbconvert_exporter": "python",
   "pygments_lexer": "ipython3",
   "version": "3.10.0"
  }
 },
 "nbformat": 4,
 "nbformat_minor": 5
}
