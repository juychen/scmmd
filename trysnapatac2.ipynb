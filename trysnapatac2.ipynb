{
 "cells": [
  {
   "cell_type": "code",
   "execution_count": 1,
   "metadata": {},
   "outputs": [
    {
     "data": {
      "text/plain": [
       "'2.5.3'"
      ]
     },
     "execution_count": 1,
     "metadata": {},
     "output_type": "execute_result"
    }
   ],
   "source": [
    "import snapatac2 as snap\n",
    "\n",
    "snap.__version__\n"
   ]
  },
  {
   "cell_type": "code",
   "execution_count": 4,
   "metadata": {},
   "outputs": [
    {
     "ename": "AttributeError",
     "evalue": "module 'snapatac2.preprocessing' has no attribute 'import_fragments'",
     "output_type": "error",
     "traceback": [
      "\u001b[0;31m---------------------------------------------------------------------------\u001b[0m",
      "\u001b[0;31mAttributeError\u001b[0m                            Traceback (most recent call last)",
      "Cell \u001b[0;32mIn[4], line 4\u001b[0m\n\u001b[1;32m      1\u001b[0m fragment_file \u001b[38;5;241m=\u001b[39m \u001b[38;5;124m\"\u001b[39m\u001b[38;5;124m/data8/hannan/data/snATAC_process/snATAC_01_bam/WT_PF_W26/outs/fragments.tsv.gz\u001b[39m\u001b[38;5;124m\"\u001b[39m\n\u001b[1;32m      3\u001b[0m \u001b[38;5;66;03m# Load the fragment file\u001b[39;00m\n\u001b[0;32m----> 4\u001b[0m data \u001b[38;5;241m=\u001b[39m \u001b[43msnap\u001b[49m\u001b[38;5;241;43m.\u001b[39;49m\u001b[43mpp\u001b[49m\u001b[38;5;241;43m.\u001b[39;49m\u001b[43mimport_fragments\u001b[49m(fragment_file, chrom_sizes\u001b[38;5;241m=\u001b[39msnap\u001b[38;5;241m.\u001b[39mgenome\u001b[38;5;241m.\u001b[39mmm10, sorted_by_barcode\u001b[38;5;241m=\u001b[39m\u001b[38;5;28;01mFalse\u001b[39;00m)\n",
      "\u001b[0;31mAttributeError\u001b[0m: module 'snapatac2.preprocessing' has no attribute 'import_fragments'"
     ]
    }
   ],
   "source": [
    "fragment_file = \"/data8/hannan/data/snATAC_process/snATAC_01_bam/WT_PF_W26/outs/fragments.tsv.gz\"\n",
    "\n",
    "# Load the fragment file\n",
    "data = snap.pp.import_data(fragment_file, chrom_sizes=snap.genome.mm10, sorted_by_barcode=False)\n"
   ]
  }
 ],
 "metadata": {
  "kernelspec": {
   "display_name": "allcools",
   "language": "python",
   "name": "python3"
  },
  "language_info": {
   "codemirror_mode": {
    "name": "ipython",
    "version": 3
   },
   "file_extension": ".py",
   "mimetype": "text/x-python",
   "name": "python",
   "nbconvert_exporter": "python",
   "pygments_lexer": "ipython3",
   "version": "3.8.20"
  }
 },
 "nbformat": 4,
 "nbformat_minor": 2
}
