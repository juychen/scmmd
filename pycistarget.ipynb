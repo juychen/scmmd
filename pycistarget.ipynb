{
 "cells": [
  {
   "cell_type": "code",
   "execution_count": 22,
   "metadata": {},
   "outputs": [],
   "source": [
    "import pandas as pd\n",
    "import re\n",
    "import os\n",
    "import glob"
   ]
  },
  {
   "cell_type": "code",
   "execution_count": 31,
   "metadata": {},
   "outputs": [],
   "source": [
    "files = glob.glob('/data2st1/junyi/output/motif/*MC*wilcoxon.csv')"
   ]
  },
  {
   "cell_type": "code",
   "execution_count": 24,
   "metadata": {},
   "outputs": [],
   "source": [
    "#filename = \"/data2st1/junyi/output/motif/AMY_Neuron_MC_wilcoxon.csv\""
   ]
  },
  {
   "cell_type": "code",
   "execution_count": 32,
   "metadata": {},
   "outputs": [
    {
     "name": "stderr",
     "output_type": "stream",
     "text": [
      "/tmp/ipykernel_1328986/2662463418.py:7: SettingWithCopyWarning: \n",
      "A value is trying to be set on a copy of a slice from a DataFrame\n",
      "\n",
      "See the caveats in the documentation: https://pandas.pydata.org/pandas-docs/stable/user_guide/indexing.html#returning-a-view-versus-a-copy\n",
      "  df_dar_filtered.sort_values(by='logfoldchanges',ascending=False,inplace=True)\n",
      "/tmp/ipykernel_1328986/2662463418.py:7: SettingWithCopyWarning: \n",
      "A value is trying to be set on a copy of a slice from a DataFrame\n",
      "\n",
      "See the caveats in the documentation: https://pandas.pydata.org/pandas-docs/stable/user_guide/indexing.html#returning-a-view-versus-a-copy\n",
      "  df_dar_filtered.sort_values(by='logfoldchanges',ascending=False,inplace=True)\n",
      "/tmp/ipykernel_1328986/2662463418.py:7: SettingWithCopyWarning: \n",
      "A value is trying to be set on a copy of a slice from a DataFrame\n",
      "\n",
      "See the caveats in the documentation: https://pandas.pydata.org/pandas-docs/stable/user_guide/indexing.html#returning-a-view-versus-a-copy\n",
      "  df_dar_filtered.sort_values(by='logfoldchanges',ascending=False,inplace=True)\n",
      "/tmp/ipykernel_1328986/2662463418.py:7: SettingWithCopyWarning: \n",
      "A value is trying to be set on a copy of a slice from a DataFrame\n",
      "\n",
      "See the caveats in the documentation: https://pandas.pydata.org/pandas-docs/stable/user_guide/indexing.html#returning-a-view-versus-a-copy\n",
      "  df_dar_filtered.sort_values(by='logfoldchanges',ascending=False,inplace=True)\n"
     ]
    }
   ],
   "source": [
    "for filename in files:\n",
    "    df_dar  = pd.read_csv(filename,index_col=0)\n",
    "    experimentname = re.split(r'[./]', filename)[-2]\n",
    "    experimentname\n",
    "    folder_name = os.path.dirname(filename)\n",
    "    df_dar_filtered = df_dar[(df_dar['pvals']<0.05) & (df_dar['logfoldchanges']>0) ]\n",
    "    df_dar_filtered.sort_values(by='logfoldchanges',ascending=False,inplace=True)\n",
    "    # For liftover\n",
    "    df_dar_filtered.names.str.split(r'[ ,!\\-;:|]',expand=True).to_csv(f\"{folder_name}/{experimentname}_DAR.bed\",header=False,index=False,sep=\"\\t\")"
   ]
  },
  {
   "cell_type": "code",
   "execution_count": 33,
   "metadata": {},
   "outputs": [],
   "source": [
    "!sort -k1,1 -k2,2n /data2st1/junyi/output/motif/HIP_Neuron_MC_wilcoxon_DAR_lifted.bed > /data2st1/junyi/output/motif/HIP_Neuron_MC_wilcoxon_DAR_lifted_sorted.bed"
   ]
  },
  {
   "cell_type": "code",
   "execution_count": 34,
   "metadata": {},
   "outputs": [],
   "source": [
    "!sort -k1,1 -k2,2n /data2st1/junyi/output/motif/PFC_Neuron_MC_wilcoxon_DAR_lifted.bed > /data2st1/junyi/output/motif/PFC_Neuron_MC_wilcoxon_DAR_lifted_sorted.bed"
   ]
  },
  {
   "cell_type": "code",
   "execution_count": 35,
   "metadata": {},
   "outputs": [],
   "source": [
    "!bedtools closest -a /data2st1/junyi/output/motif/PFC_Neuron_MC_wilcoxon_DAR_lifted_sorted.bed -b /data2st1/junyi/output/motif/genebody_selected_sorted.bed -D ref > /data2st1/junyi/output/motif/PFC_Neuron_MC_wilcoxon_DAR_gene.bed"
   ]
  },
  {
   "cell_type": "code",
   "execution_count": 36,
   "metadata": {},
   "outputs": [],
   "source": [
    "!bedtools closest -a /data2st1/junyi/output/motif/HIP_Neuron_MC_wilcoxon_DAR_lifted_sorted.bed -b /data2st1/junyi/output/motif/genebody_selected_sorted.bed -D ref > /data2st1/junyi/output/motif/HIP_Neuron_MC_wilcoxon_DAR_gene.bed"
   ]
  },
  {
   "cell_type": "code",
   "execution_count": null,
   "metadata": {},
   "outputs": [
    {
     "name": "stdout",
     "output_type": "stream",
     "text": [
      "2025-03-12 15:00:10,347 cisTarget    INFO     Reading cisTarget database\n",
      "Traceback (most recent call last):\n",
      "  File \"/home/junyichen/anaconda3/envs/allcools/bin/pycistarget\", line 8, in <module>\n",
      "    sys.exit(main())\n",
      "  File \"/home/junyichen/code/pycistarget/src/pycistarget/cli/pycistarget.py\", line 586, in main\n",
      "    args.func(args)\n",
      "  File \"/home/junyichen/code/pycistarget/src/pycistarget/cli/pycistarget.py\", line 69, in cistarget\n",
      "    run_cistarget_command(\n",
      "  File \"/home/junyichen/code/pycistarget/src/pycistarget/cli/commands.py\", line 93, in run_cistarget_command\n",
      "    ctx_db = cisTargetDatabase(\n",
      "  File \"/home/junyichen/code/pycistarget/src/pycistarget/motif_enrichment_cistarget.py\", line 55, in __init__\n",
      "    self.regions_to_db, self.db_rankings, self.total_regions = self.load_db(fname,\n",
      "  File \"/home/junyichen/code/pycistarget/src/pycistarget/motif_enrichment_cistarget.py\", line 111, in load_db\n",
      "    target_to_db = target_to_query(region_sets, list(db_regions), fraction_overlap = fraction_overlap)\n",
      "  File \"/home/junyichen/code/pycistarget/src/pycistarget/utils.py\", line 280, in target_to_query\n",
      "    query_pr=pr.PyRanges(region_names_to_coordinates(query))\n",
      "  File \"/home/junyichen/code/pycistarget/src/pycistarget/utils.py\", line 35, in region_names_to_coordinates\n",
      "    regiondf.columns=['Chromosome', 'Start', 'End']\n",
      "  File \"/home/junyichen/anaconda3/envs/allcools/lib/python3.8/site-packages/pandas/core/generic.py\", line 5915, in __setattr__\n",
      "    return object.__setattr__(self, name, value)\n",
      "  File \"pandas/_libs/properties.pyx\", line 69, in pandas._libs.properties.AxisProperty.__set__\n",
      "  File \"/home/junyichen/anaconda3/envs/allcools/lib/python3.8/site-packages/pandas/core/generic.py\", line 823, in _set_axis\n",
      "    self._mgr.set_axis(axis, labels)\n",
      "  File \"/home/junyichen/anaconda3/envs/allcools/lib/python3.8/site-packages/pandas/core/internals/managers.py\", line 230, in set_axis\n",
      "    self._validate_set_axis(axis, new_labels)\n",
      "  File \"/home/junyichen/anaconda3/envs/allcools/lib/python3.8/site-packages/pandas/core/internals/base.py\", line 70, in _validate_set_axis\n",
      "    raise ValueError(\n",
      "ValueError: Length mismatch: Expected axis has 0 elements, new values have 3 elements\n"
     ]
    }
   ],
   "source": [
    "# !pycistarget cistarget --cistarget_db_fname '/data2st1/junyi/scenic/mouse/motif/mm10_10kbp_up_10kbp_down_full_tx_v10_clust.genes_vs_motifs.rankings.feather' --bed_fname '/data2st1/junyi/output/motif/AMY_Neuron_MC_wilcoxon_DAR_lift.bed' \\\n",
    "# --species 'mus_musculus' \\\n",
    "# --auc_threshold 0.005 \\\n",
    "# --nes_threshold 3.0 \\\n",
    "# --rank_threshold 0.05 \\\n",
    "# --path_to_motif_annotations '/data2st1/junyi/scenic/mouse/motif/motifs-v10nr_clust-nr.mgi-m0.001-o0.0.tbl' \\\n",
    "# --output_folder '/data2st1/junyi/output/motif/' \\\n",
    "# --write_html\n"
   ]
  },
  {
   "cell_type": "code",
   "execution_count": 37,
   "metadata": {},
   "outputs": [],
   "source": [
    "files = glob.glob('/data2st1/junyi/output/motif/*MW*wilcoxon.csv')"
   ]
  },
  {
   "cell_type": "code",
   "execution_count": 38,
   "metadata": {},
   "outputs": [
    {
     "name": "stderr",
     "output_type": "stream",
     "text": [
      "/tmp/ipykernel_1328986/2662463418.py:7: SettingWithCopyWarning: \n",
      "A value is trying to be set on a copy of a slice from a DataFrame\n",
      "\n",
      "See the caveats in the documentation: https://pandas.pydata.org/pandas-docs/stable/user_guide/indexing.html#returning-a-view-versus-a-copy\n",
      "  df_dar_filtered.sort_values(by='logfoldchanges',ascending=False,inplace=True)\n",
      "/tmp/ipykernel_1328986/2662463418.py:7: SettingWithCopyWarning: \n",
      "A value is trying to be set on a copy of a slice from a DataFrame\n",
      "\n",
      "See the caveats in the documentation: https://pandas.pydata.org/pandas-docs/stable/user_guide/indexing.html#returning-a-view-versus-a-copy\n",
      "  df_dar_filtered.sort_values(by='logfoldchanges',ascending=False,inplace=True)\n",
      "/tmp/ipykernel_1328986/2662463418.py:7: SettingWithCopyWarning: \n",
      "A value is trying to be set on a copy of a slice from a DataFrame\n",
      "\n",
      "See the caveats in the documentation: https://pandas.pydata.org/pandas-docs/stable/user_guide/indexing.html#returning-a-view-versus-a-copy\n",
      "  df_dar_filtered.sort_values(by='logfoldchanges',ascending=False,inplace=True)\n",
      "/tmp/ipykernel_1328986/2662463418.py:7: SettingWithCopyWarning: \n",
      "A value is trying to be set on a copy of a slice from a DataFrame\n",
      "\n",
      "See the caveats in the documentation: https://pandas.pydata.org/pandas-docs/stable/user_guide/indexing.html#returning-a-view-versus-a-copy\n",
      "  df_dar_filtered.sort_values(by='logfoldchanges',ascending=False,inplace=True)\n",
      "/tmp/ipykernel_1328986/2662463418.py:7: SettingWithCopyWarning: \n",
      "A value is trying to be set on a copy of a slice from a DataFrame\n",
      "\n",
      "See the caveats in the documentation: https://pandas.pydata.org/pandas-docs/stable/user_guide/indexing.html#returning-a-view-versus-a-copy\n",
      "  df_dar_filtered.sort_values(by='logfoldchanges',ascending=False,inplace=True)\n"
     ]
    }
   ],
   "source": [
    "for filename in files:\n",
    "    df_dar  = pd.read_csv(filename,index_col=0)\n",
    "    experimentname = re.split(r'[./]', filename)[-2]\n",
    "    experimentname\n",
    "    folder_name = os.path.dirname(filename)\n",
    "    df_dar_filtered = df_dar[(df_dar['pvals']<0.05) & (df_dar['logfoldchanges']>0) ]\n",
    "    df_dar_filtered.sort_values(by='logfoldchanges',ascending=False,inplace=True)\n",
    "    # For liftover\n",
    "    df_dar_filtered.names.str.split(r'[ ,!\\-;:|]',expand=True).to_csv(f\"{folder_name}/{experimentname}_DAR.bed\",header=False,index=False,sep=\"\\t\")"
   ]
  },
  {
   "cell_type": "code",
   "execution_count": 39,
   "metadata": {},
   "outputs": [
    {
     "name": "stdout",
     "output_type": "stream",
     "text": [
      "Reading liftover chains\n",
      "Mapping coordinates\n",
      "Reading liftover chains\n",
      "Mapping coordinates\n",
      "Reading liftover chains\n",
      "Mapping coordinates\n"
     ]
    }
   ],
   "source": [
    "# Convert hg38 to hg19\n",
    "!/home/junyichen/liftOver /data2st1/junyi/output/motif/HIP_Neuron_MW_wilcoxon_DAR.bed /data2st1/junyi/mm39ToMm10.over.chain.gz /data2st1/junyi/output/motif/HIP_Neuron_MW_wilcoxon_DAR_lifted.bed /data2st1/junyi/output/motif/HIP_Neuron_MW_wilcoxon_DAR_unmap.bed\n",
    "!/home/junyichen/liftOver /data2st1/junyi/output/motif/PFC_Neuron_MW_wilcoxon_DAR.bed /data2st1/junyi/mm39ToMm10.over.chain.gz /data2st1/junyi/output/motif/PFC_Neuron_MW_wilcoxon_DAR_lifted.bed /data2st1/junyi/output/motif/PFC_Neuron_MW_wilcoxon_DAR_unmap.bed\n",
    "!/home/junyichen/liftOver /data2st1/junyi/output/motif/AMY_Neuron_MW_wilcoxon_DAR.bed /data2st1/junyi/mm39ToMm10.over.chain.gz /data2st1/junyi/output/motif/AMY_Neuron_MW_wilcoxon_DAR_lifted.bed /data2st1/junyi/output/motif/AMY_Neuron_MW_wilcoxon_DAR_unmap.bed\n"
   ]
  },
  {
   "cell_type": "code",
   "execution_count": 40,
   "metadata": {},
   "outputs": [
    {
     "name": "stdout",
     "output_type": "stream",
     "text": [
      "2025-03-13 11:46:41,507 cisTarget    INFO     Reading cisTarget database\n",
      "2025-03-13 11:46:52,501 cisTarget    INFO     Running cisTarget for HIP_Neuron_MW_wilcoxon_DAR_lifted which has 361 regions\n",
      "2025-03-13 11:46:58,533 cisTarget    INFO     Annotating motifs for HIP_Neuron_MW_wilcoxon_DAR_lifted\n",
      "2025-03-13 11:47:00,109 cisTarget    INFO     Getting cistromes for HIP_Neuron_MW_wilcoxon_DAR_lifted\n",
      "\u001b[0m"
     ]
    }
   ],
   "source": [
    "!pycistarget cistarget --cistarget_db_fname '/data2st1/junyi/scenic/mouse/motif/mm10_screen_v10_clust.regions_vs_motifs.rankings.feather' \\\n",
    "--bed_fname '/data2st1/junyi/output/motif/HIP_Neuron_MW_wilcoxon_DAR_lifted.bed' \\\n",
    "--species 'mus_musculus' \\\n",
    "--auc_threshold 0.005 \\\n",
    "--nes_threshold 3.0 \\\n",
    "--rank_threshold 0.05 \\\n",
    "--path_to_motif_annotations '/data2st1/junyi/scenic/mouse/motif/motifs-v10nr_clust-nr.mgi-m0.001-o0.0.tbl' \\\n",
    "--output_folder '/data2st1/junyi/output/motif/' \\\n",
    "--write_html"
   ]
  },
  {
   "cell_type": "code",
   "execution_count": 41,
   "metadata": {},
   "outputs": [
    {
     "name": "stdout",
     "output_type": "stream",
     "text": [
      "2025-03-13 11:47:03,296 cisTarget    INFO     Reading cisTarget database\n",
      "2025-03-13 11:47:15,062 cisTarget    INFO     Running cisTarget for AMY_Neuron_MW_wilcoxon_DAR_lifted which has 61 regions\n",
      "2025-03-13 11:47:21,582 cisTarget    INFO     Annotating motifs for AMY_Neuron_MW_wilcoxon_DAR_lifted\n",
      "2025-03-13 11:47:22,984 cisTarget    INFO     Getting cistromes for AMY_Neuron_MW_wilcoxon_DAR_lifted\n",
      "\u001b[0m"
     ]
    }
   ],
   "source": [
    "!pycistarget cistarget --cistarget_db_fname '/data2st1/junyi/scenic/mouse/motif/mm10_screen_v10_clust.regions_vs_motifs.rankings.feather' \\\n",
    "--bed_fname '/data2st1/junyi/output/motif/AMY_Neuron_MW_wilcoxon_DAR_lifted.bed' \\\n",
    "--species 'mus_musculus' \\\n",
    "--auc_threshold 0.005 \\\n",
    "--nes_threshold 3.0 \\\n",
    "--rank_threshold 0.05 \\\n",
    "--path_to_motif_annotations '/data2st1/junyi/scenic/mouse/motif/motifs-v10nr_clust-nr.mgi-m0.001-o0.0.tbl' \\\n",
    "--output_folder '/data2st1/junyi/output/motif/' \\\n",
    "--write_html"
   ]
  },
  {
   "cell_type": "code",
   "execution_count": 42,
   "metadata": {},
   "outputs": [
    {
     "name": "stdout",
     "output_type": "stream",
     "text": [
      "2025-03-13 11:47:26,309 cisTarget    INFO     Reading cisTarget database\n",
      "2025-03-13 11:47:37,891 cisTarget    INFO     Running cisTarget for PFC_Neuron_MW_wilcoxon_DAR_lifted which has 4627 regions\n",
      "2025-03-13 11:47:44,729 cisTarget    INFO     Annotating motifs for PFC_Neuron_MW_wilcoxon_DAR_lifted\n",
      "2025-03-13 11:47:46,902 cisTarget    INFO     Getting cistromes for PFC_Neuron_MW_wilcoxon_DAR_lifted\n",
      "\u001b[0m"
     ]
    }
   ],
   "source": [
    "!pycistarget cistarget --cistarget_db_fname '/data2st1/junyi/scenic/mouse/motif/mm10_screen_v10_clust.regions_vs_motifs.rankings.feather' \\\n",
    "--bed_fname '/data2st1/junyi/output/motif/PFC_Neuron_MW_wilcoxon_DAR_lifted.bed' \\\n",
    "--species 'mus_musculus' \\\n",
    "--auc_threshold 0.005 \\\n",
    "--nes_threshold 3.0 \\\n",
    "--rank_threshold 0.05 \\\n",
    "--path_to_motif_annotations '/data2st1/junyi/scenic/mouse/motif/motifs-v10nr_clust-nr.mgi-m0.001-o0.0.tbl' \\\n",
    "--output_folder '/data2st1/junyi/output/motif/' \\\n",
    "--write_html"
   ]
  },
  {
   "cell_type": "code",
   "execution_count": 50,
   "metadata": {},
   "outputs": [
    {
     "name": "stdout",
     "output_type": "stream",
     "text": [
      "Keys in the file: ['PFC_Neuron_MC_wilcoxon_DAR_lifted']\n"
     ]
    },
    {
     "ename": "KeyboardInterrupt",
     "evalue": "",
     "output_type": "error",
     "traceback": [
      "\u001b[0;31m---------------------------------------------------------------------------\u001b[0m",
      "\u001b[0;31mKeyboardInterrupt\u001b[0m                         Traceback (most recent call last)",
      "Cell \u001b[0;32mIn[50], line 14\u001b[0m\n\u001b[1;32m      9\u001b[0m dataset \u001b[38;5;241m=\u001b[39m f[\u001b[38;5;124m'\u001b[39m\u001b[38;5;124mPFC_Neuron_MC_wilcoxon_DAR_lifted\u001b[39m\u001b[38;5;124m'\u001b[39m]  \u001b[38;5;66;03m# Replace with your dataset name\u001b[39;00m\n\u001b[1;32m     10\u001b[0m \u001b[38;5;66;03m# print(\"Shape of the dataset:\", dataset.shape)\u001b[39;00m\n\u001b[1;32m     11\u001b[0m \u001b[38;5;66;03m# print(\"Data type of the dataset:\", dataset.dtype)\u001b[39;00m\n\u001b[1;32m     12\u001b[0m \n\u001b[1;32m     13\u001b[0m \u001b[38;5;66;03m# Read the dataset into a NumPy array\u001b[39;00m\n\u001b[0;32m---> 14\u001b[0m data \u001b[38;5;241m=\u001b[39m \u001b[43mdataset\u001b[49m[:]\n\u001b[1;32m     15\u001b[0m \u001b[38;5;66;03m# print(\"Data:\", data)\u001b[39;00m\n",
      "Cell \u001b[0;32mIn[50], line 14\u001b[0m\n\u001b[1;32m      9\u001b[0m dataset \u001b[38;5;241m=\u001b[39m f[\u001b[38;5;124m'\u001b[39m\u001b[38;5;124mPFC_Neuron_MC_wilcoxon_DAR_lifted\u001b[39m\u001b[38;5;124m'\u001b[39m]  \u001b[38;5;66;03m# Replace with your dataset name\u001b[39;00m\n\u001b[1;32m     10\u001b[0m \u001b[38;5;66;03m# print(\"Shape of the dataset:\", dataset.shape)\u001b[39;00m\n\u001b[1;32m     11\u001b[0m \u001b[38;5;66;03m# print(\"Data type of the dataset:\", dataset.dtype)\u001b[39;00m\n\u001b[1;32m     12\u001b[0m \n\u001b[1;32m     13\u001b[0m \u001b[38;5;66;03m# Read the dataset into a NumPy array\u001b[39;00m\n\u001b[0;32m---> 14\u001b[0m data \u001b[38;5;241m=\u001b[39m \u001b[43mdataset\u001b[49m[:]\n\u001b[1;32m     15\u001b[0m \u001b[38;5;66;03m# print(\"Data:\", data)\u001b[39;00m\n",
      "File \u001b[0;32m_pydevd_bundle/pydevd_cython.pyx:1457\u001b[0m, in \u001b[0;36m_pydevd_bundle.pydevd_cython.SafeCallWrapper.__call__\u001b[0;34m()\u001b[0m\n",
      "File \u001b[0;32m_pydevd_bundle/pydevd_cython.pyx:701\u001b[0m, in \u001b[0;36m_pydevd_bundle.pydevd_cython.PyDBFrame.trace_dispatch\u001b[0;34m()\u001b[0m\n",
      "File \u001b[0;32m_pydevd_bundle/pydevd_cython.pyx:1395\u001b[0m, in \u001b[0;36m_pydevd_bundle.pydevd_cython.PyDBFrame.trace_dispatch\u001b[0;34m()\u001b[0m\n",
      "File \u001b[0;32m_pydevd_bundle/pydevd_cython.pyx:1344\u001b[0m, in \u001b[0;36m_pydevd_bundle.pydevd_cython.PyDBFrame.trace_dispatch\u001b[0;34m()\u001b[0m\n",
      "File \u001b[0;32m_pydevd_bundle/pydevd_cython.pyx:312\u001b[0m, in \u001b[0;36m_pydevd_bundle.pydevd_cython.PyDBFrame.do_wait_suspend\u001b[0;34m()\u001b[0m\n",
      "File \u001b[0;32m~/anaconda3/envs/allcools/lib/python3.8/site-packages/debugpy/_vendored/pydevd/pydevd.py:2070\u001b[0m, in \u001b[0;36mPyDB.do_wait_suspend\u001b[0;34m(self, thread, frame, event, arg, exception_type)\u001b[0m\n\u001b[1;32m   2067\u001b[0m             from_this_thread\u001b[38;5;241m.\u001b[39mappend(frame_custom_thread_id)\n\u001b[1;32m   2069\u001b[0m     \u001b[38;5;28;01mwith\u001b[39;00m \u001b[38;5;28mself\u001b[39m\u001b[38;5;241m.\u001b[39m_threads_suspended_single_notification\u001b[38;5;241m.\u001b[39mnotify_thread_suspended(thread_id, thread, stop_reason):\n\u001b[0;32m-> 2070\u001b[0m         keep_suspended \u001b[38;5;241m=\u001b[39m \u001b[38;5;28;43mself\u001b[39;49m\u001b[38;5;241;43m.\u001b[39;49m\u001b[43m_do_wait_suspend\u001b[49m\u001b[43m(\u001b[49m\u001b[43mthread\u001b[49m\u001b[43m,\u001b[49m\u001b[43m \u001b[49m\u001b[43mframe\u001b[49m\u001b[43m,\u001b[49m\u001b[43m \u001b[49m\u001b[43mevent\u001b[49m\u001b[43m,\u001b[49m\u001b[43m \u001b[49m\u001b[43marg\u001b[49m\u001b[43m,\u001b[49m\u001b[43m \u001b[49m\u001b[43msuspend_type\u001b[49m\u001b[43m,\u001b[49m\u001b[43m \u001b[49m\u001b[43mfrom_this_thread\u001b[49m\u001b[43m,\u001b[49m\u001b[43m \u001b[49m\u001b[43mframes_tracker\u001b[49m\u001b[43m)\u001b[49m\n\u001b[1;32m   2072\u001b[0m frames_list \u001b[38;5;241m=\u001b[39m \u001b[38;5;28;01mNone\u001b[39;00m\n\u001b[1;32m   2074\u001b[0m \u001b[38;5;28;01mif\u001b[39;00m keep_suspended:\n\u001b[1;32m   2075\u001b[0m     \u001b[38;5;66;03m# This means that we should pause again after a set next statement.\u001b[39;00m\n",
      "File \u001b[0;32m~/anaconda3/envs/allcools/lib/python3.8/site-packages/debugpy/_vendored/pydevd/pydevd.py:2106\u001b[0m, in \u001b[0;36mPyDB._do_wait_suspend\u001b[0;34m(self, thread, frame, event, arg, suspend_type, from_this_thread, frames_tracker)\u001b[0m\n\u001b[1;32m   2103\u001b[0m         \u001b[38;5;28mself\u001b[39m\u001b[38;5;241m.\u001b[39m_call_input_hook()\n\u001b[1;32m   2105\u001b[0m     \u001b[38;5;28mself\u001b[39m\u001b[38;5;241m.\u001b[39mprocess_internal_commands()\n\u001b[0;32m-> 2106\u001b[0m     \u001b[43mtime\u001b[49m\u001b[38;5;241;43m.\u001b[39;49m\u001b[43msleep\u001b[49m\u001b[43m(\u001b[49m\u001b[38;5;241;43m0.01\u001b[39;49m\u001b[43m)\u001b[49m\n\u001b[1;32m   2108\u001b[0m \u001b[38;5;28mself\u001b[39m\u001b[38;5;241m.\u001b[39mcancel_async_evaluation(get_current_thread_id(thread), \u001b[38;5;28mstr\u001b[39m(\u001b[38;5;28mid\u001b[39m(frame)))\n\u001b[1;32m   2110\u001b[0m \u001b[38;5;66;03m# process any stepping instructions\u001b[39;00m\n",
      "\u001b[0;31mKeyboardInterrupt\u001b[0m: "
     ]
    }
   ],
   "source": [
    "import h5py\n",
    "\n",
    "# Open the HDF5 file\n",
    "with h5py.File('/data2st1/junyi/output/motif/motif_enrichment_cistarget_PFC_Neuron_MC_wilcoxon_DAR_lifted.hdf5', 'r') as f:\n",
    "    # List all groups and datasets in the file\n",
    "    print(\"Keys in the file:\", list(f.keys()))\n",
    "\n",
    "    # # Access a specific dataset\n",
    "    dataset = f['PFC_Neuron_MC_wilcoxon_DAR_lifted']  # Replace with your dataset name\n",
    "    # print(\"Shape of the dataset:\", dataset.shape)\n",
    "    # print(\"Data type of the dataset:\", dataset.dtype)\n",
    "\n",
    "    # Read the dataset into a NumPy array\n",
    "    data = dataset[:]\n",
    "    # print(\"Data:\", data)"
   ]
  },
  {
   "cell_type": "code",
   "execution_count": 48,
   "metadata": {},
   "outputs": [
    {
     "data": {
      "text/plain": [
       "<Closed HDF5 group>"
      ]
     },
     "execution_count": 48,
     "metadata": {},
     "output_type": "execute_result"
    }
   ],
   "source": [
    "dataset"
   ]
  }
 ],
 "metadata": {
  "kernelspec": {
   "display_name": "allcools",
   "language": "python",
   "name": "python3"
  },
  "language_info": {
   "codemirror_mode": {
    "name": "ipython",
    "version": 3
   },
   "file_extension": ".py",
   "mimetype": "text/x-python",
   "name": "python",
   "nbconvert_exporter": "python",
   "pygments_lexer": "ipython3",
   "version": "3.8.20"
  }
 },
 "nbformat": 4,
 "nbformat_minor": 2
}
