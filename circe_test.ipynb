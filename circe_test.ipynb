{
 "cells": [
  {
   "cell_type": "code",
   "execution_count": 13,
   "metadata": {},
   "outputs": [],
   "source": [
    "import numpy as np\n",
    "import circe as ci\n",
    "import scanpy as sc\n",
    "import scipy as sp\n",
    "import warnings\n",
    "warnings.filterwarnings('ignore')"
   ]
  },
  {
   "cell_type": "code",
   "execution_count": 14,
   "metadata": {},
   "outputs": [],
   "source": [
    "regions = ['AMY','HIP','PFC']\n",
    "celltypes = ['OPC-Oligo', 'Immune','Astro-Epen','Vascular']\n"
   ]
  },
  {
   "cell_type": "code",
   "execution_count": 15,
   "metadata": {},
   "outputs": [],
   "source": [
    "region = 'AMY'\n",
    "celltype = 'Vascular'\n",
    "base_name = f\"{region}_{celltype}\"\n"
   ]
  },
  {
   "cell_type": "code",
   "execution_count": 16,
   "metadata": {},
   "outputs": [
    {
     "data": {
      "text/plain": [
       "'AMY_Vascular'"
      ]
     },
     "execution_count": 16,
     "metadata": {},
     "output_type": "execute_result"
    }
   ],
   "source": [
    "base_name"
   ]
  },
  {
   "cell_type": "code",
   "execution_count": 17,
   "metadata": {},
   "outputs": [],
   "source": [
    "adata = sc.read_h5ad(f\"/data2st1/junyi/output/motif/{base_name}.h5ads\")"
   ]
  },
  {
   "cell_type": "code",
   "execution_count": 18,
   "metadata": {},
   "outputs": [
    {
     "data": {
      "text/plain": [
       "AnnData object with n_obs × n_vars = 181 × 51935\n",
       "    obs: 'sample', 'sample_barcode', 'obs_names', 'celltype.L2.p', 'celltype.L1.p', 'leiden', 'celltype.L1.GBoost', 'celltype.L1.tab', 'celltype.L1.new', 'expriment'\n",
       "    uns: 'log1p', 'rank_genes_groups'\n",
       "    obsm: 'X_umap'\n",
       "    layers: 'raw'"
      ]
     },
     "execution_count": 18,
     "metadata": {},
     "output_type": "execute_result"
    }
   ],
   "source": [
    "adata"
   ]
  },
  {
   "cell_type": "code",
   "execution_count": 19,
   "metadata": {},
   "outputs": [],
   "source": [
    "sc.pp.filter_genes(adata, min_cells=3)\n",
    "sc.pp.filter_cells(adata, min_genes=200)\n"
   ]
  },
  {
   "cell_type": "code",
   "execution_count": 20,
   "metadata": {},
   "outputs": [],
   "source": [
    "adata.var.index=adata.var.index.str.replace(\":\", \"_\").str.replace(\"-\", \"_\")"
   ]
  },
  {
   "cell_type": "code",
   "execution_count": 21,
   "metadata": {},
   "outputs": [],
   "source": [
    "# Column to use for stratification\n",
    "if adata.shape[0] > 10000:\n",
    "    stratify_column = 'sample'\n",
    "    stratify_column = 'sample'\n",
    "\n",
    "    # Number of cells to sample from each group\n",
    "    n_samples_per_group = 2000\n",
    "\n",
    "    # Perform stratified sampling\n",
    "    sampled_indices = (\n",
    "        adata.obs\n",
    "        .groupby(stratify_column, group_keys=False)\n",
    "        .apply(lambda x: x.sample(min(n_samples_per_group, len(x))))\n",
    "        .index\n",
    "    )\n",
    "    adata  = adata[sampled_indices, :]\n",
    "\n"
   ]
  },
  {
   "cell_type": "code",
   "execution_count": 22,
   "metadata": {},
   "outputs": [],
   "source": [
    "%%capture\n",
    "adata = ci.add_region_infos(adata)\n"
   ]
  },
  {
   "cell_type": "code",
   "execution_count": 23,
   "metadata": {},
   "outputs": [],
   "source": [
    "%%capture\n",
    "ci.compute_atac_network(\n",
    "    adata, #metacells,\n",
    "    organism=\"mouse\",\n",
    ")"
   ]
  },
  {
   "cell_type": "code",
   "execution_count": 24,
   "metadata": {},
   "outputs": [],
   "source": [
    "%%capture\n",
    "final_score = ci.sliding_graphical_lasso(\n",
    "    adata,\n",
    "    n_samples=50,\n",
    "    n_samples_maxtry=100,\n",
    "    max_alpha_iteration=500,\n",
    "    verbose=True\n",
    ")\n",
    "adata.varp['atac_network'] = final_score\n"
   ]
  },
  {
   "cell_type": "code",
   "execution_count": 25,
   "metadata": {},
   "outputs": [
    {
     "data": {
      "text/plain": [
       "<Compressed Sparse Row sparse matrix of dtype 'float64'\n",
       "\twith 513840 stored elements and shape (42404, 42404)>"
      ]
     },
     "execution_count": 25,
     "metadata": {},
     "output_type": "execute_result"
    }
   ],
   "source": [
    "adata.varp['atac_network']"
   ]
  },
  {
   "cell_type": "code",
   "execution_count": 26,
   "metadata": {},
   "outputs": [
    {
     "data": {
      "text/html": [
       "<div>\n",
       "<style scoped>\n",
       "    .dataframe tbody tr th:only-of-type {\n",
       "        vertical-align: middle;\n",
       "    }\n",
       "\n",
       "    .dataframe tbody tr th {\n",
       "        vertical-align: top;\n",
       "    }\n",
       "\n",
       "    .dataframe thead th {\n",
       "        text-align: right;\n",
       "    }\n",
       "</style>\n",
       "<table border=\"1\" class=\"dataframe\">\n",
       "  <thead>\n",
       "    <tr style=\"text-align: right;\">\n",
       "      <th></th>\n",
       "      <th>Peak1</th>\n",
       "      <th>Peak2</th>\n",
       "      <th>score</th>\n",
       "    </tr>\n",
       "  </thead>\n",
       "  <tbody>\n",
       "    <tr>\n",
       "      <th>0</th>\n",
       "      <td>chr14_34602469_34602970</td>\n",
       "      <td>chr14_34616598_34617099</td>\n",
       "      <td>0.830381</td>\n",
       "    </tr>\n",
       "    <tr>\n",
       "      <th>1</th>\n",
       "      <td>chr2_5962411_5962912</td>\n",
       "      <td>chr2_6172643_6173144</td>\n",
       "      <td>0.825758</td>\n",
       "    </tr>\n",
       "    <tr>\n",
       "      <th>2</th>\n",
       "      <td>chr2_98492392_98492893</td>\n",
       "      <td>chr2_98497262_98497763</td>\n",
       "      <td>0.807276</td>\n",
       "    </tr>\n",
       "    <tr>\n",
       "      <th>3</th>\n",
       "      <td>chr2_98496428_98496929</td>\n",
       "      <td>chr2_98497262_98497763</td>\n",
       "      <td>0.778543</td>\n",
       "    </tr>\n",
       "    <tr>\n",
       "      <th>4</th>\n",
       "      <td>chr6_82679676_82680177</td>\n",
       "      <td>chr6_82810038_82810539</td>\n",
       "      <td>0.768455</td>\n",
       "    </tr>\n",
       "    <tr>\n",
       "      <th>5</th>\n",
       "      <td>chr4_118368508_118369009</td>\n",
       "      <td>chr4_118405568_118406069</td>\n",
       "      <td>0.767991</td>\n",
       "    </tr>\n",
       "    <tr>\n",
       "      <th>6</th>\n",
       "      <td>chr5_125459976_125460477</td>\n",
       "      <td>chr5_125460568_125461069</td>\n",
       "      <td>0.764465</td>\n",
       "    </tr>\n",
       "    <tr>\n",
       "      <th>7</th>\n",
       "      <td>chr2_98492392_98492893</td>\n",
       "      <td>chr2_98496428_98496929</td>\n",
       "      <td>0.752069</td>\n",
       "    </tr>\n",
       "    <tr>\n",
       "      <th>8</th>\n",
       "      <td>chr9_60523545_60524046</td>\n",
       "      <td>chr9_60524158_60524659</td>\n",
       "      <td>0.732264</td>\n",
       "    </tr>\n",
       "    <tr>\n",
       "      <th>9</th>\n",
       "      <td>chr9_116794661_116795162</td>\n",
       "      <td>chr9_116896712_116897213</td>\n",
       "      <td>0.731914</td>\n",
       "    </tr>\n",
       "  </tbody>\n",
       "</table>\n",
       "</div>"
      ],
      "text/plain": [
       "                      Peak1                     Peak2     score\n",
       "0   chr14_34602469_34602970   chr14_34616598_34617099  0.830381\n",
       "1      chr2_5962411_5962912      chr2_6172643_6173144  0.825758\n",
       "2    chr2_98492392_98492893    chr2_98497262_98497763  0.807276\n",
       "3    chr2_98496428_98496929    chr2_98497262_98497763  0.778543\n",
       "4    chr6_82679676_82680177    chr6_82810038_82810539  0.768455\n",
       "5  chr4_118368508_118369009  chr4_118405568_118406069  0.767991\n",
       "6  chr5_125459976_125460477  chr5_125460568_125461069  0.764465\n",
       "7    chr2_98492392_98492893    chr2_98496428_98496929  0.752069\n",
       "8    chr9_60523545_60524046    chr9_60524158_60524659  0.732264\n",
       "9  chr9_116794661_116795162  chr9_116896712_116897213  0.731914"
      ]
     },
     "execution_count": 26,
     "metadata": {},
     "output_type": "execute_result"
    }
   ],
   "source": [
    "circe_network = ci.extract_atac_links(adata) #metacells)\n",
    "circe_network.head(10)\n"
   ]
  },
  {
   "cell_type": "code",
   "execution_count": null,
   "metadata": {},
   "outputs": [],
   "source": [
    "circe_network.to_csv(f\"/data2st1/junyi/output/cicre/{base_name}_circe_network.csv\")"
   ]
  },
  {
   "cell_type": "code",
   "execution_count": 28,
   "metadata": {},
   "outputs": [
    {
     "name": "stdout",
     "output_type": "stream",
     "text": [
      "Coaccessibility cutoff used: 0.07\n",
      "Number of CCANs generated: 1732\n"
     ]
    }
   ],
   "source": [
    "ccans = ci.find_ccans(circe_network, seed=0)\n"
   ]
  },
  {
   "cell_type": "code",
   "execution_count": null,
   "metadata": {},
   "outputs": [
    {
     "data": {
      "text/html": [
       "<div>\n",
       "<style scoped>\n",
       "    .dataframe tbody tr th:only-of-type {\n",
       "        vertical-align: middle;\n",
       "    }\n",
       "\n",
       "    .dataframe tbody tr th {\n",
       "        vertical-align: top;\n",
       "    }\n",
       "\n",
       "    .dataframe thead th {\n",
       "        text-align: right;\n",
       "    }\n",
       "</style>\n",
       "<table border=\"1\" class=\"dataframe\">\n",
       "  <thead>\n",
       "    <tr style=\"text-align: right;\">\n",
       "      <th></th>\n",
       "      <th>Peak</th>\n",
       "      <th>CCAN</th>\n",
       "    </tr>\n",
       "  </thead>\n",
       "  <tbody>\n",
       "    <tr>\n",
       "      <th>0</th>\n",
       "      <td>chr2_98496428_98496929</td>\n",
       "      <td>2</td>\n",
       "    </tr>\n",
       "    <tr>\n",
       "      <th>1</th>\n",
       "      <td>chr2_98492392_98492893</td>\n",
       "      <td>2</td>\n",
       "    </tr>\n",
       "    <tr>\n",
       "      <th>2</th>\n",
       "      <td>chr2_98495223_98495724</td>\n",
       "      <td>2</td>\n",
       "    </tr>\n",
       "    <tr>\n",
       "      <th>3</th>\n",
       "      <td>chr2_98497262_98497763</td>\n",
       "      <td>2</td>\n",
       "    </tr>\n",
       "    <tr>\n",
       "      <th>4</th>\n",
       "      <td>chr4_118117978_118118479</td>\n",
       "      <td>3</td>\n",
       "    </tr>\n",
       "    <tr>\n",
       "      <th>...</th>\n",
       "      <td>...</td>\n",
       "      <td>...</td>\n",
       "    </tr>\n",
       "    <tr>\n",
       "      <th>15352</th>\n",
       "      <td>chr1_180716148_180716649</td>\n",
       "      <td>3805</td>\n",
       "    </tr>\n",
       "    <tr>\n",
       "      <th>15353</th>\n",
       "      <td>chr1_180764258_180764759</td>\n",
       "      <td>3805</td>\n",
       "    </tr>\n",
       "    <tr>\n",
       "      <th>15354</th>\n",
       "      <td>chr1_180978275_180978776</td>\n",
       "      <td>3805</td>\n",
       "    </tr>\n",
       "    <tr>\n",
       "      <th>15355</th>\n",
       "      <td>chr1_180794048_180794549</td>\n",
       "      <td>3805</td>\n",
       "    </tr>\n",
       "    <tr>\n",
       "      <th>15356</th>\n",
       "      <td>chr1_180837285_180837786</td>\n",
       "      <td>3805</td>\n",
       "    </tr>\n",
       "  </tbody>\n",
       "</table>\n",
       "<p>15357 rows × 2 columns</p>\n",
       "</div>"
      ],
      "text/plain": [
       "                           Peak  CCAN\n",
       "0        chr2_98496428_98496929     2\n",
       "1        chr2_98492392_98492893     2\n",
       "2        chr2_98495223_98495724     2\n",
       "3        chr2_98497262_98497763     2\n",
       "4      chr4_118117978_118118479     3\n",
       "...                         ...   ...\n",
       "15352  chr1_180716148_180716649  3805\n",
       "15353  chr1_180764258_180764759  3805\n",
       "15354  chr1_180978275_180978776  3805\n",
       "15355  chr1_180794048_180794549  3805\n",
       "15356  chr1_180837285_180837786  3805\n",
       "\n",
       "[15357 rows x 2 columns]"
      ]
     },
     "execution_count": 29,
     "metadata": {},
     "output_type": "execute_result"
    }
   ],
   "source": [
    "ccans.to_csv(f\"/data2st1/junyi/output/cicre/{base_name}_ccans.csv\")"
   ]
  },
  {
   "cell_type": "code",
   "execution_count": 30,
   "metadata": {},
   "outputs": [
    {
     "name": "stdout",
     "output_type": "stream",
     "text": [
      "Coaccessibility cutoff used: 0.07\n"
     ]
    }
   ],
   "source": [
    "adata = ci.add_ccans(adata)\n"
   ]
  },
  {
   "cell_type": "code",
   "execution_count": 31,
   "metadata": {},
   "outputs": [
    {
     "data": {
      "text/html": [
       "<div>\n",
       "<style scoped>\n",
       "    .dataframe tbody tr th:only-of-type {\n",
       "        vertical-align: middle;\n",
       "    }\n",
       "\n",
       "    .dataframe tbody tr th {\n",
       "        vertical-align: top;\n",
       "    }\n",
       "\n",
       "    .dataframe thead th {\n",
       "        text-align: right;\n",
       "    }\n",
       "</style>\n",
       "<table border=\"1\" class=\"dataframe\">\n",
       "  <thead>\n",
       "    <tr style=\"text-align: right;\">\n",
       "      <th></th>\n",
       "      <th>n_cells</th>\n",
       "      <th>chromosome</th>\n",
       "      <th>start</th>\n",
       "      <th>end</th>\n",
       "      <th>CCAN</th>\n",
       "    </tr>\n",
       "  </thead>\n",
       "  <tbody>\n",
       "    <tr>\n",
       "      <th>chr1_3495191_3495692</th>\n",
       "      <td>3</td>\n",
       "      <td>chr1</td>\n",
       "      <td>3495191</td>\n",
       "      <td>3495692</td>\n",
       "      <td>None</td>\n",
       "    </tr>\n",
       "    <tr>\n",
       "      <th>chr1_3741601_3742102</th>\n",
       "      <td>5</td>\n",
       "      <td>chr1</td>\n",
       "      <td>3741601</td>\n",
       "      <td>3742102</td>\n",
       "      <td>None</td>\n",
       "    </tr>\n",
       "    <tr>\n",
       "      <th>chr1_4496955_4497456</th>\n",
       "      <td>3</td>\n",
       "      <td>chr1</td>\n",
       "      <td>4496955</td>\n",
       "      <td>4497456</td>\n",
       "      <td>None</td>\n",
       "    </tr>\n",
       "    <tr>\n",
       "      <th>chr1_4614183_4614684</th>\n",
       "      <td>4</td>\n",
       "      <td>chr1</td>\n",
       "      <td>4614183</td>\n",
       "      <td>4614684</td>\n",
       "      <td>None</td>\n",
       "    </tr>\n",
       "    <tr>\n",
       "      <th>chr1_4759284_4759785</th>\n",
       "      <td>3</td>\n",
       "      <td>chr1</td>\n",
       "      <td>4759284</td>\n",
       "      <td>4759785</td>\n",
       "      <td>None</td>\n",
       "    </tr>\n",
       "  </tbody>\n",
       "</table>\n",
       "</div>"
      ],
      "text/plain": [
       "                      n_cells chromosome    start      end  CCAN\n",
       "chr1_3495191_3495692        3       chr1  3495191  3495692  None\n",
       "chr1_3741601_3742102        5       chr1  3741601  3742102  None\n",
       "chr1_4496955_4497456        3       chr1  4496955  4497456  None\n",
       "chr1_4614183_4614684        4       chr1  4614183  4614684  None\n",
       "chr1_4759284_4759785        3       chr1  4759284  4759785  None"
      ]
     },
     "execution_count": 31,
     "metadata": {},
     "output_type": "execute_result"
    }
   ],
   "source": [
    "adata.var.head()\n"
   ]
  }
 ],
 "metadata": {
  "kernelspec": {
   "display_name": "snapatac2",
   "language": "python",
   "name": "python3"
  },
  "language_info": {
   "codemirror_mode": {
    "name": "ipython",
    "version": 3
   },
   "file_extension": ".py",
   "mimetype": "text/x-python",
   "name": "python",
   "nbconvert_exporter": "python",
   "pygments_lexer": "ipython3",
   "version": "3.10.0"
  }
 },
 "nbformat": 4,
 "nbformat_minor": 2
}
