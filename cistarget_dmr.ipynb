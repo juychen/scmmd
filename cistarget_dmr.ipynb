{
 "cells": [
  {
   "cell_type": "code",
   "execution_count": 2,
   "metadata": {},
   "outputs": [],
   "source": [
    "import pandas as pd\n",
    "import re\n",
    "import os\n",
    "import glob\n",
    "import snapatac2 as snap"
   ]
  },
  {
   "cell_type": "code",
   "execution_count": 3,
   "metadata": {},
   "outputs": [],
   "source": [
    "import seaborn as sns\n",
    "import matplotlib.pyplot as plt\n",
    "import numpy as np\n",
    "import utils\n",
    "import subprocess"
   ]
  },
  {
   "cell_type": "code",
   "execution_count": null,
   "metadata": {},
   "outputs": [
    {
     "ename": "KeyboardInterrupt",
     "evalue": "",
     "output_type": "error",
     "traceback": [
      "\u001b[0;31m---------------------------------------------------------------------------\u001b[0m",
      "\u001b[0;31mKeyboardInterrupt\u001b[0m                         Traceback (most recent call last)",
      "Cell \u001b[0;32mIn[10], line 13\u001b[0m\n\u001b[1;32m     11\u001b[0m df\u001b[38;5;241m.\u001b[39mcolumns \u001b[38;5;241m=\u001b[39m [\u001b[38;5;124m'\u001b[39m\u001b[38;5;124mchr\u001b[39m\u001b[38;5;124m'\u001b[39m, \u001b[38;5;124m'\u001b[39m\u001b[38;5;124mstart\u001b[39m\u001b[38;5;124m'\u001b[39m, \u001b[38;5;124m'\u001b[39m\u001b[38;5;124mend\u001b[39m\u001b[38;5;124m'\u001b[39m, \u001b[38;5;124m'\u001b[39m\u001b[38;5;124mnames\u001b[39m\u001b[38;5;124m'\u001b[39m]\n\u001b[1;32m     12\u001b[0m df[\u001b[38;5;124m'\u001b[39m\u001b[38;5;124mchr\u001b[39m\u001b[38;5;124m'\u001b[39m] \u001b[38;5;241m=\u001b[39m \u001b[38;5;124m'\u001b[39m\u001b[38;5;124mchr\u001b[39m\u001b[38;5;124m'\u001b[39m\u001b[38;5;241m+\u001b[39m df[\u001b[38;5;124m'\u001b[39m\u001b[38;5;124mchr\u001b[39m\u001b[38;5;124m'\u001b[39m]\u001b[38;5;241m.\u001b[39mastype(\u001b[38;5;28mstr\u001b[39m)\n\u001b[0;32m---> 13\u001b[0m \u001b[43mdf\u001b[49m\u001b[38;5;241;43m.\u001b[39;49m\u001b[43mto_csv\u001b[49m\u001b[43m(\u001b[49m\u001b[43mfile\u001b[49m\u001b[43m,\u001b[49m\u001b[43m \u001b[49m\u001b[43msep\u001b[49m\u001b[38;5;241;43m=\u001b[39;49m\u001b[38;5;124;43m'\u001b[39;49m\u001b[38;5;130;43;01m\\t\u001b[39;49;00m\u001b[38;5;124;43m'\u001b[39;49m\u001b[43m,\u001b[49m\u001b[43m \u001b[49m\u001b[43mheader\u001b[49m\u001b[38;5;241;43m=\u001b[39;49m\u001b[38;5;28;43;01mFalse\u001b[39;49;00m\u001b[43m,\u001b[49m\u001b[43m \u001b[49m\u001b[43mindex\u001b[49m\u001b[38;5;241;43m=\u001b[39;49m\u001b[38;5;28;43;01mFalse\u001b[39;49;00m\u001b[43m)\u001b[49m\n\u001b[1;32m     14\u001b[0m filename \u001b[38;5;241m=\u001b[39m os\u001b[38;5;241m.\u001b[39mpath\u001b[38;5;241m.\u001b[39mbasename(file)\n",
      "File \u001b[0;32m~/anaconda3/envs/snapatac2/lib/python3.10/site-packages/pandas/util/_decorators.py:211\u001b[0m, in \u001b[0;36mdeprecate_kwarg.<locals>._deprecate_kwarg.<locals>.wrapper\u001b[0;34m(*args, **kwargs)\u001b[0m\n\u001b[1;32m    209\u001b[0m     \u001b[38;5;28;01melse\u001b[39;00m:\n\u001b[1;32m    210\u001b[0m         kwargs[new_arg_name] \u001b[38;5;241m=\u001b[39m new_arg_value\n\u001b[0;32m--> 211\u001b[0m \u001b[38;5;28;01mreturn\u001b[39;00m \u001b[43mfunc\u001b[49m\u001b[43m(\u001b[49m\u001b[38;5;241;43m*\u001b[39;49m\u001b[43margs\u001b[49m\u001b[43m,\u001b[49m\u001b[43m \u001b[49m\u001b[38;5;241;43m*\u001b[39;49m\u001b[38;5;241;43m*\u001b[39;49m\u001b[43mkwargs\u001b[49m\u001b[43m)\u001b[49m\n",
      "File \u001b[0;32m~/anaconda3/envs/snapatac2/lib/python3.10/site-packages/pandas/core/generic.py:3720\u001b[0m, in \u001b[0;36mNDFrame.to_csv\u001b[0;34m(self, path_or_buf, sep, na_rep, float_format, columns, header, index, index_label, mode, encoding, compression, quoting, quotechar, lineterminator, chunksize, date_format, doublequote, escapechar, decimal, errors, storage_options)\u001b[0m\n\u001b[1;32m   3709\u001b[0m df \u001b[38;5;241m=\u001b[39m \u001b[38;5;28mself\u001b[39m \u001b[38;5;28;01mif\u001b[39;00m \u001b[38;5;28misinstance\u001b[39m(\u001b[38;5;28mself\u001b[39m, ABCDataFrame) \u001b[38;5;28;01melse\u001b[39;00m \u001b[38;5;28mself\u001b[39m\u001b[38;5;241m.\u001b[39mto_frame()\n\u001b[1;32m   3711\u001b[0m formatter \u001b[38;5;241m=\u001b[39m DataFrameFormatter(\n\u001b[1;32m   3712\u001b[0m     frame\u001b[38;5;241m=\u001b[39mdf,\n\u001b[1;32m   3713\u001b[0m     header\u001b[38;5;241m=\u001b[39mheader,\n\u001b[0;32m   (...)\u001b[0m\n\u001b[1;32m   3717\u001b[0m     decimal\u001b[38;5;241m=\u001b[39mdecimal,\n\u001b[1;32m   3718\u001b[0m )\n\u001b[0;32m-> 3720\u001b[0m \u001b[38;5;28;01mreturn\u001b[39;00m \u001b[43mDataFrameRenderer\u001b[49m\u001b[43m(\u001b[49m\u001b[43mformatter\u001b[49m\u001b[43m)\u001b[49m\u001b[38;5;241;43m.\u001b[39;49m\u001b[43mto_csv\u001b[49m\u001b[43m(\u001b[49m\n\u001b[1;32m   3721\u001b[0m \u001b[43m    \u001b[49m\u001b[43mpath_or_buf\u001b[49m\u001b[43m,\u001b[49m\n\u001b[1;32m   3722\u001b[0m \u001b[43m    \u001b[49m\u001b[43mlineterminator\u001b[49m\u001b[38;5;241;43m=\u001b[39;49m\u001b[43mlineterminator\u001b[49m\u001b[43m,\u001b[49m\n\u001b[1;32m   3723\u001b[0m \u001b[43m    \u001b[49m\u001b[43msep\u001b[49m\u001b[38;5;241;43m=\u001b[39;49m\u001b[43msep\u001b[49m\u001b[43m,\u001b[49m\n\u001b[1;32m   3724\u001b[0m \u001b[43m    \u001b[49m\u001b[43mencoding\u001b[49m\u001b[38;5;241;43m=\u001b[39;49m\u001b[43mencoding\u001b[49m\u001b[43m,\u001b[49m\n\u001b[1;32m   3725\u001b[0m \u001b[43m    \u001b[49m\u001b[43merrors\u001b[49m\u001b[38;5;241;43m=\u001b[39;49m\u001b[43merrors\u001b[49m\u001b[43m,\u001b[49m\n\u001b[1;32m   3726\u001b[0m \u001b[43m    \u001b[49m\u001b[43mcompression\u001b[49m\u001b[38;5;241;43m=\u001b[39;49m\u001b[43mcompression\u001b[49m\u001b[43m,\u001b[49m\n\u001b[1;32m   3727\u001b[0m \u001b[43m    \u001b[49m\u001b[43mquoting\u001b[49m\u001b[38;5;241;43m=\u001b[39;49m\u001b[43mquoting\u001b[49m\u001b[43m,\u001b[49m\n\u001b[1;32m   3728\u001b[0m \u001b[43m    \u001b[49m\u001b[43mcolumns\u001b[49m\u001b[38;5;241;43m=\u001b[39;49m\u001b[43mcolumns\u001b[49m\u001b[43m,\u001b[49m\n\u001b[1;32m   3729\u001b[0m \u001b[43m    \u001b[49m\u001b[43mindex_label\u001b[49m\u001b[38;5;241;43m=\u001b[39;49m\u001b[43mindex_label\u001b[49m\u001b[43m,\u001b[49m\n\u001b[1;32m   3730\u001b[0m \u001b[43m    \u001b[49m\u001b[43mmode\u001b[49m\u001b[38;5;241;43m=\u001b[39;49m\u001b[43mmode\u001b[49m\u001b[43m,\u001b[49m\n\u001b[1;32m   3731\u001b[0m \u001b[43m    \u001b[49m\u001b[43mchunksize\u001b[49m\u001b[38;5;241;43m=\u001b[39;49m\u001b[43mchunksize\u001b[49m\u001b[43m,\u001b[49m\n\u001b[1;32m   3732\u001b[0m \u001b[43m    \u001b[49m\u001b[43mquotechar\u001b[49m\u001b[38;5;241;43m=\u001b[39;49m\u001b[43mquotechar\u001b[49m\u001b[43m,\u001b[49m\n\u001b[1;32m   3733\u001b[0m \u001b[43m    \u001b[49m\u001b[43mdate_format\u001b[49m\u001b[38;5;241;43m=\u001b[39;49m\u001b[43mdate_format\u001b[49m\u001b[43m,\u001b[49m\n\u001b[1;32m   3734\u001b[0m \u001b[43m    \u001b[49m\u001b[43mdoublequote\u001b[49m\u001b[38;5;241;43m=\u001b[39;49m\u001b[43mdoublequote\u001b[49m\u001b[43m,\u001b[49m\n\u001b[1;32m   3735\u001b[0m \u001b[43m    \u001b[49m\u001b[43mescapechar\u001b[49m\u001b[38;5;241;43m=\u001b[39;49m\u001b[43mescapechar\u001b[49m\u001b[43m,\u001b[49m\n\u001b[1;32m   3736\u001b[0m \u001b[43m    \u001b[49m\u001b[43mstorage_options\u001b[49m\u001b[38;5;241;43m=\u001b[39;49m\u001b[43mstorage_options\u001b[49m\u001b[43m,\u001b[49m\n\u001b[1;32m   3737\u001b[0m \u001b[43m\u001b[49m\u001b[43m)\u001b[49m\n",
      "File \u001b[0;32m~/anaconda3/envs/snapatac2/lib/python3.10/site-packages/pandas/util/_decorators.py:211\u001b[0m, in \u001b[0;36mdeprecate_kwarg.<locals>._deprecate_kwarg.<locals>.wrapper\u001b[0;34m(*args, **kwargs)\u001b[0m\n\u001b[1;32m    209\u001b[0m     \u001b[38;5;28;01melse\u001b[39;00m:\n\u001b[1;32m    210\u001b[0m         kwargs[new_arg_name] \u001b[38;5;241m=\u001b[39m new_arg_value\n\u001b[0;32m--> 211\u001b[0m \u001b[38;5;28;01mreturn\u001b[39;00m \u001b[43mfunc\u001b[49m\u001b[43m(\u001b[49m\u001b[38;5;241;43m*\u001b[39;49m\u001b[43margs\u001b[49m\u001b[43m,\u001b[49m\u001b[43m \u001b[49m\u001b[38;5;241;43m*\u001b[39;49m\u001b[38;5;241;43m*\u001b[39;49m\u001b[43mkwargs\u001b[49m\u001b[43m)\u001b[49m\n",
      "File \u001b[0;32m~/anaconda3/envs/snapatac2/lib/python3.10/site-packages/pandas/io/formats/format.py:1189\u001b[0m, in \u001b[0;36mDataFrameRenderer.to_csv\u001b[0;34m(self, path_or_buf, encoding, sep, columns, index_label, mode, compression, quoting, quotechar, lineterminator, chunksize, date_format, doublequote, escapechar, errors, storage_options)\u001b[0m\n\u001b[1;32m   1168\u001b[0m     created_buffer \u001b[38;5;241m=\u001b[39m \u001b[38;5;28;01mFalse\u001b[39;00m\n\u001b[1;32m   1170\u001b[0m csv_formatter \u001b[38;5;241m=\u001b[39m CSVFormatter(\n\u001b[1;32m   1171\u001b[0m     path_or_buf\u001b[38;5;241m=\u001b[39mpath_or_buf,\n\u001b[1;32m   1172\u001b[0m     lineterminator\u001b[38;5;241m=\u001b[39mlineterminator,\n\u001b[0;32m   (...)\u001b[0m\n\u001b[1;32m   1187\u001b[0m     formatter\u001b[38;5;241m=\u001b[39m\u001b[38;5;28mself\u001b[39m\u001b[38;5;241m.\u001b[39mfmt,\n\u001b[1;32m   1188\u001b[0m )\n\u001b[0;32m-> 1189\u001b[0m \u001b[43mcsv_formatter\u001b[49m\u001b[38;5;241;43m.\u001b[39;49m\u001b[43msave\u001b[49m\u001b[43m(\u001b[49m\u001b[43m)\u001b[49m\n\u001b[1;32m   1191\u001b[0m \u001b[38;5;28;01mif\u001b[39;00m created_buffer:\n\u001b[1;32m   1192\u001b[0m     \u001b[38;5;28;01massert\u001b[39;00m \u001b[38;5;28misinstance\u001b[39m(path_or_buf, StringIO)\n",
      "File \u001b[0;32m~/anaconda3/envs/snapatac2/lib/python3.10/site-packages/pandas/io/formats/csvs.py:241\u001b[0m, in \u001b[0;36mCSVFormatter.save\u001b[0;34m(self)\u001b[0m\n\u001b[1;32m    237\u001b[0m \u001b[38;5;250m\u001b[39m\u001b[38;5;124;03m\"\"\"\u001b[39;00m\n\u001b[1;32m    238\u001b[0m \u001b[38;5;124;03mCreate the writer & save.\u001b[39;00m\n\u001b[1;32m    239\u001b[0m \u001b[38;5;124;03m\"\"\"\u001b[39;00m\n\u001b[1;32m    240\u001b[0m \u001b[38;5;66;03m# apply compression and byte/text conversion\u001b[39;00m\n\u001b[0;32m--> 241\u001b[0m \u001b[38;5;28;01mwith\u001b[39;00m get_handle(\n\u001b[1;32m    242\u001b[0m     \u001b[38;5;28mself\u001b[39m\u001b[38;5;241m.\u001b[39mfilepath_or_buffer,\n\u001b[1;32m    243\u001b[0m     \u001b[38;5;28mself\u001b[39m\u001b[38;5;241m.\u001b[39mmode,\n\u001b[1;32m    244\u001b[0m     encoding\u001b[38;5;241m=\u001b[39m\u001b[38;5;28mself\u001b[39m\u001b[38;5;241m.\u001b[39mencoding,\n\u001b[1;32m    245\u001b[0m     errors\u001b[38;5;241m=\u001b[39m\u001b[38;5;28mself\u001b[39m\u001b[38;5;241m.\u001b[39merrors,\n\u001b[1;32m    246\u001b[0m     compression\u001b[38;5;241m=\u001b[39m\u001b[38;5;28mself\u001b[39m\u001b[38;5;241m.\u001b[39mcompression,\n\u001b[1;32m    247\u001b[0m     storage_options\u001b[38;5;241m=\u001b[39m\u001b[38;5;28mself\u001b[39m\u001b[38;5;241m.\u001b[39mstorage_options,\n\u001b[1;32m    248\u001b[0m ) \u001b[38;5;28;01mas\u001b[39;00m handles:\n\u001b[1;32m    249\u001b[0m \n\u001b[1;32m    250\u001b[0m     \u001b[38;5;66;03m# Note: self.encoding is irrelevant here\u001b[39;00m\n\u001b[1;32m    251\u001b[0m     \u001b[38;5;28mself\u001b[39m\u001b[38;5;241m.\u001b[39mwriter \u001b[38;5;241m=\u001b[39m csvlib\u001b[38;5;241m.\u001b[39mwriter(\n\u001b[1;32m    252\u001b[0m         handles\u001b[38;5;241m.\u001b[39mhandle,\n\u001b[1;32m    253\u001b[0m         lineterminator\u001b[38;5;241m=\u001b[39m\u001b[38;5;28mself\u001b[39m\u001b[38;5;241m.\u001b[39mlineterminator,\n\u001b[0;32m   (...)\u001b[0m\n\u001b[1;32m    258\u001b[0m         quotechar\u001b[38;5;241m=\u001b[39m\u001b[38;5;28mself\u001b[39m\u001b[38;5;241m.\u001b[39mquotechar,\n\u001b[1;32m    259\u001b[0m     )\n\u001b[1;32m    261\u001b[0m     \u001b[38;5;28mself\u001b[39m\u001b[38;5;241m.\u001b[39m_save()\n",
      "File \u001b[0;32m~/anaconda3/envs/snapatac2/lib/python3.10/site-packages/pandas/io/common.py:133\u001b[0m, in \u001b[0;36mIOHandles.__exit__\u001b[0;34m(self, *args)\u001b[0m\n\u001b[1;32m    132\u001b[0m \u001b[38;5;28;01mdef\u001b[39;00m\u001b[38;5;250m \u001b[39m\u001b[38;5;21m__exit__\u001b[39m(\u001b[38;5;28mself\u001b[39m, \u001b[38;5;241m*\u001b[39margs: Any) \u001b[38;5;241m-\u001b[39m\u001b[38;5;241m>\u001b[39m \u001b[38;5;28;01mNone\u001b[39;00m:\n\u001b[0;32m--> 133\u001b[0m     \u001b[38;5;28;43mself\u001b[39;49m\u001b[38;5;241;43m.\u001b[39;49m\u001b[43mclose\u001b[49m\u001b[43m(\u001b[49m\u001b[43m)\u001b[49m\n",
      "File \u001b[0;32m~/anaconda3/envs/snapatac2/lib/python3.10/site-packages/pandas/io/common.py:125\u001b[0m, in \u001b[0;36mIOHandles.close\u001b[0;34m(self)\u001b[0m\n\u001b[1;32m    123\u001b[0m     \u001b[38;5;28mself\u001b[39m\u001b[38;5;241m.\u001b[39mcreated_handles\u001b[38;5;241m.\u001b[39mremove(\u001b[38;5;28mself\u001b[39m\u001b[38;5;241m.\u001b[39mhandle)\n\u001b[1;32m    124\u001b[0m \u001b[38;5;28;01mfor\u001b[39;00m handle \u001b[38;5;129;01min\u001b[39;00m \u001b[38;5;28mself\u001b[39m\u001b[38;5;241m.\u001b[39mcreated_handles:\n\u001b[0;32m--> 125\u001b[0m     \u001b[43mhandle\u001b[49m\u001b[38;5;241;43m.\u001b[39;49m\u001b[43mclose\u001b[49m\u001b[43m(\u001b[49m\u001b[43m)\u001b[49m\n\u001b[1;32m    126\u001b[0m \u001b[38;5;28mself\u001b[39m\u001b[38;5;241m.\u001b[39mcreated_handles \u001b[38;5;241m=\u001b[39m []\n\u001b[1;32m    127\u001b[0m \u001b[38;5;28mself\u001b[39m\u001b[38;5;241m.\u001b[39mis_wrapped \u001b[38;5;241m=\u001b[39m \u001b[38;5;28;01mFalse\u001b[39;00m\n",
      "\u001b[0;31mKeyboardInterrupt\u001b[0m: "
     ]
    }
   ],
   "source": [
    "# out_dir ='/data2st1/junyi/output/atac0416/dar/motif/region_nt'\n",
    "# for ct in df_DAR_mememto['ctname'].unique():\n",
    "#     for condition in df_inner['condition'].unique():\n",
    "#         df_sub = df_inner[(df_inner['ctname'] == ct) & (df_inner['condition'] == condition)]\n",
    "#         if len(df_sub) == 0:\n",
    "#             continue\n",
    "#         df_sub[\"names\"].str.split(r'[:-]', expand=True).to_csv(f'{out_dir}/{ct}_{condition}_memento.bed', sep='\\t', header=False, index=False)\n",
    "# files = glob.glob('/data1st2/hannan_25/data/Nanopore_process/nanopore_08_differential/summary/dmr_sets/*vs*.bed')\n",
    "# for file in files:\n",
    "#     df = pd.read_csv(file, sep='\\t', header=None)\n",
    "#     df.columns = ['chr', 'start', 'end', 'names']\n",
    "#     df['chr'] = 'chr'+ df['chr'].astype(str)\n",
    "#     df.to_csv(file, sep='\\t', header=False, index=False)\n",
    "#     filename = os.path.basename(file)"
   ]
  },
  {
   "cell_type": "code",
   "execution_count": 11,
   "metadata": {},
   "outputs": [
    {
     "name": "stdout",
     "output_type": "stream",
     "text": [
      "['pycistarget', 'cistarget', '--cistarget_db_fname', '/data2st1/junyi/scenic/mouse/motif/mm10_screen_v10_clust.regions_vs_motifs.rankings.feather', '--bed_fname', '/data1st2/hannan_25/data/Nanopore_process/nanopore_08_differential/summary/dmr_sets/FC-HIP_vs_FW-HIP.5hmC.CN.down.dmr_2tools.bed', '--species', 'mus_musculus', '--auc_threshold', '0.005', '--nes_threshold', '3.0', '--rank_threshold', '0.05', '--path_to_motif_annotations', '/data2st1/junyi/scenic/mouse/motif/motifs-v10nr_clust-nr.mgi-m0.001-o0.0.tbl', '--output_folder', '/data1st2/hannan_25/data/Nanopore_process/nanopore_08_differential/summary/dmr_sets/cistarget/', '--write_html']\n"
     ]
    },
    {
     "name": "stderr",
     "output_type": "stream",
     "text": [
      "/home/junyichen/code/pycistarget/src/pycistarget/__init__.py:1: UserWarning: pkg_resources is deprecated as an API. See https://setuptools.pypa.io/en/latest/pkg_resources.html. The pkg_resources package is slated for removal as early as 2025-11-30. Refrain from using this package or pin to Setuptools<81.\n",
      "  from pkg_resources import get_distribution, DistributionNotFound\n"
     ]
    },
    {
     "name": "stdout",
     "output_type": "stream",
     "text": [
      "2025-06-24 19:56:02,969 cisTarget    INFO     Reading cisTarget database\n"
     ]
    },
    {
     "name": "stderr",
     "output_type": "stream",
     "text": [
      "Traceback (most recent call last):\n",
      "  File \"/home/junyichen/anaconda3/envs/snapatac2/bin/pycistarget\", line 8, in <module>\n",
      "    sys.exit(main())\n",
      "  File \"/home/junyichen/code/pycistarget/src/pycistarget/cli/pycistarget.py\", line 586, in main\n",
      "    args.func(args)\n",
      "  File \"/home/junyichen/code/pycistarget/src/pycistarget/cli/pycistarget.py\", line 69, in cistarget\n",
      "    run_cistarget_command(\n",
      "  File \"/home/junyichen/code/pycistarget/src/pycistarget/cli/commands.py\", line 93, in run_cistarget_command\n",
      "    ctx_db = cisTargetDatabase(\n",
      "  File \"/home/junyichen/code/pycistarget/src/pycistarget/motif_enrichment_cistarget.py\", line 55, in __init__\n",
      "    self.regions_to_db, self.db_rankings, self.total_regions = self.load_db(fname,\n",
      "  File \"/home/junyichen/code/pycistarget/src/pycistarget/motif_enrichment_cistarget.py\", line 111, in load_db\n",
      "    target_to_db = target_to_query(region_sets, list(db_regions), fraction_overlap = fraction_overlap)\n",
      "  File \"/home/junyichen/code/pycistarget/src/pycistarget/utils.py\", line 286, in target_to_query\n",
      "    raise ValueError(\n",
      "ValueError: \n",
      "            None of the regions in the bed file overlap with the cistarget database. \n",
      "            Check wether the chromosome names of the input regions are correctly \n",
      "            formatted and that you are using the correct database.\n",
      "            \n"
     ]
    },
    {
     "name": "stdout",
     "output_type": "stream",
     "text": [
      "['pycistarget', 'cistarget', '--cistarget_db_fname', '/data2st1/junyi/scenic/mouse/motif/mm10_screen_v10_clust.regions_vs_motifs.rankings.feather', '--bed_fname', '/data1st2/hannan_25/data/Nanopore_process/nanopore_08_differential/summary/dmr_sets/MC-HIP_vs_MW-HIP.5mC.CN.down.dmr_2tools.bed', '--species', 'mus_musculus', '--auc_threshold', '0.005', '--nes_threshold', '3.0', '--rank_threshold', '0.05', '--path_to_motif_annotations', '/data2st1/junyi/scenic/mouse/motif/motifs-v10nr_clust-nr.mgi-m0.001-o0.0.tbl', '--output_folder', '/data1st2/hannan_25/data/Nanopore_process/nanopore_08_differential/summary/dmr_sets/cistarget/', '--write_html']\n"
     ]
    },
    {
     "name": "stderr",
     "output_type": "stream",
     "text": [
      "/home/junyichen/code/pycistarget/src/pycistarget/__init__.py:1: UserWarning: pkg_resources is deprecated as an API. See https://setuptools.pypa.io/en/latest/pkg_resources.html. The pkg_resources package is slated for removal as early as 2025-11-30. Refrain from using this package or pin to Setuptools<81.\n",
      "  from pkg_resources import get_distribution, DistributionNotFound\n"
     ]
    },
    {
     "name": "stdout",
     "output_type": "stream",
     "text": [
      "2025-06-24 19:56:11,773 cisTarget    INFO     Reading cisTarget database\n"
     ]
    },
    {
     "name": "stderr",
     "output_type": "stream",
     "text": [
      "Traceback (most recent call last):\n",
      "  File \"/home/junyichen/anaconda3/envs/snapatac2/bin/pycistarget\", line 8, in <module>\n",
      "    sys.exit(main())\n",
      "  File \"/home/junyichen/code/pycistarget/src/pycistarget/cli/pycistarget.py\", line 586, in main\n",
      "    args.func(args)\n",
      "  File \"/home/junyichen/code/pycistarget/src/pycistarget/cli/pycistarget.py\", line 69, in cistarget\n",
      "    run_cistarget_command(\n",
      "  File \"/home/junyichen/code/pycistarget/src/pycistarget/cli/commands.py\", line 93, in run_cistarget_command\n",
      "    ctx_db = cisTargetDatabase(\n",
      "  File \"/home/junyichen/code/pycistarget/src/pycistarget/motif_enrichment_cistarget.py\", line 55, in __init__\n",
      "    self.regions_to_db, self.db_rankings, self.total_regions = self.load_db(fname,\n",
      "  File \"/home/junyichen/code/pycistarget/src/pycistarget/motif_enrichment_cistarget.py\", line 111, in load_db\n",
      "    target_to_db = target_to_query(region_sets, list(db_regions), fraction_overlap = fraction_overlap)\n",
      "  File \"/home/junyichen/code/pycistarget/src/pycistarget/utils.py\", line 286, in target_to_query\n",
      "    raise ValueError(\n",
      "ValueError: \n",
      "            None of the regions in the bed file overlap with the cistarget database. \n",
      "            Check wether the chromosome names of the input regions are correctly \n",
      "            formatted and that you are using the correct database.\n",
      "            \n"
     ]
    },
    {
     "name": "stdout",
     "output_type": "stream",
     "text": [
      "['pycistarget', 'cistarget', '--cistarget_db_fname', '/data2st1/junyi/scenic/mouse/motif/mm10_screen_v10_clust.regions_vs_motifs.rankings.feather', '--bed_fname', '/data1st2/hannan_25/data/Nanopore_process/nanopore_08_differential/summary/dmr_sets/FC-AMY_vs_FW-AMY.5mC.CH.up.dmr_2tools.bed', '--species', 'mus_musculus', '--auc_threshold', '0.005', '--nes_threshold', '3.0', '--rank_threshold', '0.05', '--path_to_motif_annotations', '/data2st1/junyi/scenic/mouse/motif/motifs-v10nr_clust-nr.mgi-m0.001-o0.0.tbl', '--output_folder', '/data1st2/hannan_25/data/Nanopore_process/nanopore_08_differential/summary/dmr_sets/cistarget/', '--write_html']\n"
     ]
    },
    {
     "name": "stderr",
     "output_type": "stream",
     "text": [
      "/home/junyichen/code/pycistarget/src/pycistarget/__init__.py:1: UserWarning: pkg_resources is deprecated as an API. See https://setuptools.pypa.io/en/latest/pkg_resources.html. The pkg_resources package is slated for removal as early as 2025-11-30. Refrain from using this package or pin to Setuptools<81.\n",
      "  from pkg_resources import get_distribution, DistributionNotFound\n"
     ]
    },
    {
     "name": "stdout",
     "output_type": "stream",
     "text": [
      "2025-06-24 19:56:20,547 cisTarget    INFO     Reading cisTarget database\n"
     ]
    },
    {
     "name": "stderr",
     "output_type": "stream",
     "text": [
      "Traceback (most recent call last):\n",
      "  File \"/home/junyichen/anaconda3/envs/snapatac2/bin/pycistarget\", line 8, in <module>\n",
      "    sys.exit(main())\n",
      "  File \"/home/junyichen/code/pycistarget/src/pycistarget/cli/pycistarget.py\", line 586, in main\n",
      "    args.func(args)\n",
      "  File \"/home/junyichen/code/pycistarget/src/pycistarget/cli/pycistarget.py\", line 69, in cistarget\n",
      "    run_cistarget_command(\n",
      "  File \"/home/junyichen/code/pycistarget/src/pycistarget/cli/commands.py\", line 93, in run_cistarget_command\n",
      "    ctx_db = cisTargetDatabase(\n",
      "  File \"/home/junyichen/code/pycistarget/src/pycistarget/motif_enrichment_cistarget.py\", line 55, in __init__\n",
      "    self.regions_to_db, self.db_rankings, self.total_regions = self.load_db(fname,\n",
      "  File \"/home/junyichen/code/pycistarget/src/pycistarget/motif_enrichment_cistarget.py\", line 111, in load_db\n",
      "    target_to_db = target_to_query(region_sets, list(db_regions), fraction_overlap = fraction_overlap)\n",
      "  File \"/home/junyichen/code/pycistarget/src/pycistarget/utils.py\", line 286, in target_to_query\n",
      "    raise ValueError(\n",
      "ValueError: \n",
      "            None of the regions in the bed file overlap with the cistarget database. \n",
      "            Check wether the chromosome names of the input regions are correctly \n",
      "            formatted and that you are using the correct database.\n",
      "            \n"
     ]
    },
    {
     "name": "stdout",
     "output_type": "stream",
     "text": [
      "['pycistarget', 'cistarget', '--cistarget_db_fname', '/data2st1/junyi/scenic/mouse/motif/mm10_screen_v10_clust.regions_vs_motifs.rankings.feather', '--bed_fname', '/data1st2/hannan_25/data/Nanopore_process/nanopore_08_differential/summary/dmr_sets/MC-PFC_vs_MW-PFC.5hmC.CN.up.dmr_2tools.bed', '--species', 'mus_musculus', '--auc_threshold', '0.005', '--nes_threshold', '3.0', '--rank_threshold', '0.05', '--path_to_motif_annotations', '/data2st1/junyi/scenic/mouse/motif/motifs-v10nr_clust-nr.mgi-m0.001-o0.0.tbl', '--output_folder', '/data1st2/hannan_25/data/Nanopore_process/nanopore_08_differential/summary/dmr_sets/cistarget/', '--write_html']\n"
     ]
    },
    {
     "name": "stderr",
     "output_type": "stream",
     "text": [
      "/home/junyichen/code/pycistarget/src/pycistarget/__init__.py:1: UserWarning: pkg_resources is deprecated as an API. See https://setuptools.pypa.io/en/latest/pkg_resources.html. The pkg_resources package is slated for removal as early as 2025-11-30. Refrain from using this package or pin to Setuptools<81.\n",
      "  from pkg_resources import get_distribution, DistributionNotFound\n"
     ]
    },
    {
     "name": "stdout",
     "output_type": "stream",
     "text": [
      "2025-06-24 19:56:29,285 cisTarget    INFO     Reading cisTarget database\n",
      "2025-06-24 19:56:38,451 cisTarget    INFO     Running cisTarget for MC-PFC_vs_MW-PFC.5hmC.CN.up.dmr_2tools which has 1 regions\n",
      "2025-06-24 19:56:47,280 cisTarget    INFO     Annotating motifs for MC-PFC_vs_MW-PFC.5hmC.CN.up.dmr_2tools\n",
      "2025-06-24 19:56:48,712 cisTarget    INFO     Getting cistromes for MC-PFC_vs_MW-PFC.5hmC.CN.up.dmr_2tools\n",
      "['pycistarget', 'cistarget', '--cistarget_db_fname', '/data2st1/junyi/scenic/mouse/motif/mm10_screen_v10_clust.regions_vs_motifs.rankings.feather', '--bed_fname', '/data1st2/hannan_25/data/Nanopore_process/nanopore_08_differential/summary/dmr_sets/MC-HIP_vs_MW-HIP.5hmC.CG.up.dmr_2tools.bed', '--species', 'mus_musculus', '--auc_threshold', '0.005', '--nes_threshold', '3.0', '--rank_threshold', '0.05', '--path_to_motif_annotations', '/data2st1/junyi/scenic/mouse/motif/motifs-v10nr_clust-nr.mgi-m0.001-o0.0.tbl', '--output_folder', '/data1st2/hannan_25/data/Nanopore_process/nanopore_08_differential/summary/dmr_sets/cistarget/', '--write_html']\n"
     ]
    },
    {
     "name": "stderr",
     "output_type": "stream",
     "text": [
      "/home/junyichen/code/pycistarget/src/pycistarget/__init__.py:1: UserWarning: pkg_resources is deprecated as an API. See https://setuptools.pypa.io/en/latest/pkg_resources.html. The pkg_resources package is slated for removal as early as 2025-11-30. Refrain from using this package or pin to Setuptools<81.\n",
      "  from pkg_resources import get_distribution, DistributionNotFound\n"
     ]
    },
    {
     "name": "stdout",
     "output_type": "stream",
     "text": [
      "2025-06-24 19:56:50,771 cisTarget    INFO     Reading cisTarget database\n"
     ]
    },
    {
     "name": "stderr",
     "output_type": "stream",
     "text": [
      "Traceback (most recent call last):\n",
      "  File \"/home/junyichen/anaconda3/envs/snapatac2/bin/pycistarget\", line 8, in <module>\n",
      "    sys.exit(main())\n",
      "  File \"/home/junyichen/code/pycistarget/src/pycistarget/cli/pycistarget.py\", line 586, in main\n",
      "    args.func(args)\n",
      "  File \"/home/junyichen/code/pycistarget/src/pycistarget/cli/pycistarget.py\", line 69, in cistarget\n",
      "    run_cistarget_command(\n",
      "  File \"/home/junyichen/code/pycistarget/src/pycistarget/cli/commands.py\", line 93, in run_cistarget_command\n",
      "    ctx_db = cisTargetDatabase(\n",
      "  File \"/home/junyichen/code/pycistarget/src/pycistarget/motif_enrichment_cistarget.py\", line 55, in __init__\n",
      "    self.regions_to_db, self.db_rankings, self.total_regions = self.load_db(fname,\n",
      "  File \"/home/junyichen/code/pycistarget/src/pycistarget/motif_enrichment_cistarget.py\", line 111, in load_db\n",
      "    target_to_db = target_to_query(region_sets, list(db_regions), fraction_overlap = fraction_overlap)\n",
      "  File \"/home/junyichen/code/pycistarget/src/pycistarget/utils.py\", line 286, in target_to_query\n",
      "    raise ValueError(\n",
      "ValueError: \n",
      "            None of the regions in the bed file overlap with the cistarget database. \n",
      "            Check wether the chromosome names of the input regions are correctly \n",
      "            formatted and that you are using the correct database.\n",
      "            \n"
     ]
    },
    {
     "name": "stdout",
     "output_type": "stream",
     "text": [
      "['pycistarget', 'cistarget', '--cistarget_db_fname', '/data2st1/junyi/scenic/mouse/motif/mm10_screen_v10_clust.regions_vs_motifs.rankings.feather', '--bed_fname', '/data1st2/hannan_25/data/Nanopore_process/nanopore_08_differential/summary/dmr_sets/FC-AMY_vs_FW-AMY.5hmC.CN.down.dmr_2tools.bed', '--species', 'mus_musculus', '--auc_threshold', '0.005', '--nes_threshold', '3.0', '--rank_threshold', '0.05', '--path_to_motif_annotations', '/data2st1/junyi/scenic/mouse/motif/motifs-v10nr_clust-nr.mgi-m0.001-o0.0.tbl', '--output_folder', '/data1st2/hannan_25/data/Nanopore_process/nanopore_08_differential/summary/dmr_sets/cistarget/', '--write_html']\n"
     ]
    },
    {
     "name": "stderr",
     "output_type": "stream",
     "text": [
      "/home/junyichen/code/pycistarget/src/pycistarget/__init__.py:1: UserWarning: pkg_resources is deprecated as an API. See https://setuptools.pypa.io/en/latest/pkg_resources.html. The pkg_resources package is slated for removal as early as 2025-11-30. Refrain from using this package or pin to Setuptools<81.\n",
      "  from pkg_resources import get_distribution, DistributionNotFound\n"
     ]
    },
    {
     "name": "stdout",
     "output_type": "stream",
     "text": [
      "2025-06-24 19:56:59,522 cisTarget    INFO     Reading cisTarget database\n"
     ]
    },
    {
     "name": "stderr",
     "output_type": "stream",
     "text": [
      "Traceback (most recent call last):\n",
      "  File \"/home/junyichen/anaconda3/envs/snapatac2/bin/pycistarget\", line 8, in <module>\n",
      "    sys.exit(main())\n",
      "  File \"/home/junyichen/code/pycistarget/src/pycistarget/cli/pycistarget.py\", line 586, in main\n",
      "    args.func(args)\n",
      "  File \"/home/junyichen/code/pycistarget/src/pycistarget/cli/pycistarget.py\", line 69, in cistarget\n",
      "    run_cistarget_command(\n",
      "  File \"/home/junyichen/code/pycistarget/src/pycistarget/cli/commands.py\", line 93, in run_cistarget_command\n",
      "    ctx_db = cisTargetDatabase(\n",
      "  File \"/home/junyichen/code/pycistarget/src/pycistarget/motif_enrichment_cistarget.py\", line 55, in __init__\n",
      "    self.regions_to_db, self.db_rankings, self.total_regions = self.load_db(fname,\n",
      "  File \"/home/junyichen/code/pycistarget/src/pycistarget/motif_enrichment_cistarget.py\", line 111, in load_db\n",
      "    target_to_db = target_to_query(region_sets, list(db_regions), fraction_overlap = fraction_overlap)\n",
      "  File \"/home/junyichen/code/pycistarget/src/pycistarget/utils.py\", line 286, in target_to_query\n",
      "    raise ValueError(\n",
      "ValueError: \n",
      "            None of the regions in the bed file overlap with the cistarget database. \n",
      "            Check wether the chromosome names of the input regions are correctly \n",
      "            formatted and that you are using the correct database.\n",
      "            \n"
     ]
    },
    {
     "name": "stdout",
     "output_type": "stream",
     "text": [
      "['pycistarget', 'cistarget', '--cistarget_db_fname', '/data2st1/junyi/scenic/mouse/motif/mm10_screen_v10_clust.regions_vs_motifs.rankings.feather', '--bed_fname', '/data1st2/hannan_25/data/Nanopore_process/nanopore_08_differential/summary/dmr_sets/FC-AMY_vs_FW-AMY.5mC.up.dmr_2tools.bed', '--species', 'mus_musculus', '--auc_threshold', '0.005', '--nes_threshold', '3.0', '--rank_threshold', '0.05', '--path_to_motif_annotations', '/data2st1/junyi/scenic/mouse/motif/motifs-v10nr_clust-nr.mgi-m0.001-o0.0.tbl', '--output_folder', '/data1st2/hannan_25/data/Nanopore_process/nanopore_08_differential/summary/dmr_sets/cistarget/', '--write_html']\n"
     ]
    },
    {
     "name": "stderr",
     "output_type": "stream",
     "text": [
      "/home/junyichen/code/pycistarget/src/pycistarget/__init__.py:1: UserWarning: pkg_resources is deprecated as an API. See https://setuptools.pypa.io/en/latest/pkg_resources.html. The pkg_resources package is slated for removal as early as 2025-11-30. Refrain from using this package or pin to Setuptools<81.\n",
      "  from pkg_resources import get_distribution, DistributionNotFound\n"
     ]
    },
    {
     "name": "stdout",
     "output_type": "stream",
     "text": [
      "2025-06-24 19:57:08,260 cisTarget    INFO     Reading cisTarget database\n",
      "2025-06-24 19:57:17,700 cisTarget    INFO     Running cisTarget for FC-AMY_vs_FW-AMY.5mC.up.dmr_2tools which has 37 regions\n",
      "2025-06-24 19:57:26,761 cisTarget    INFO     Annotating motifs for FC-AMY_vs_FW-AMY.5mC.up.dmr_2tools\n",
      "2025-06-24 19:57:28,083 cisTarget    INFO     Getting cistromes for FC-AMY_vs_FW-AMY.5mC.up.dmr_2tools\n",
      "['pycistarget', 'cistarget', '--cistarget_db_fname', '/data2st1/junyi/scenic/mouse/motif/mm10_screen_v10_clust.regions_vs_motifs.rankings.feather', '--bed_fname', '/data1st2/hannan_25/data/Nanopore_process/nanopore_08_differential/summary/dmr_sets/FC-HIP_vs_FW-HIP.5mC.CH.up.dmr_2tools.bed', '--species', 'mus_musculus', '--auc_threshold', '0.005', '--nes_threshold', '3.0', '--rank_threshold', '0.05', '--path_to_motif_annotations', '/data2st1/junyi/scenic/mouse/motif/motifs-v10nr_clust-nr.mgi-m0.001-o0.0.tbl', '--output_folder', '/data1st2/hannan_25/data/Nanopore_process/nanopore_08_differential/summary/dmr_sets/cistarget/', '--write_html']\n"
     ]
    },
    {
     "name": "stderr",
     "output_type": "stream",
     "text": [
      "/home/junyichen/code/pycistarget/src/pycistarget/__init__.py:1: UserWarning: pkg_resources is deprecated as an API. See https://setuptools.pypa.io/en/latest/pkg_resources.html. The pkg_resources package is slated for removal as early as 2025-11-30. Refrain from using this package or pin to Setuptools<81.\n",
      "  from pkg_resources import get_distribution, DistributionNotFound\n"
     ]
    },
    {
     "name": "stdout",
     "output_type": "stream",
     "text": [
      "2025-06-24 19:57:30,202 cisTarget    INFO     Reading cisTarget database\n"
     ]
    },
    {
     "name": "stderr",
     "output_type": "stream",
     "text": [
      "Traceback (most recent call last):\n",
      "  File \"/home/junyichen/anaconda3/envs/snapatac2/bin/pycistarget\", line 8, in <module>\n",
      "    sys.exit(main())\n",
      "  File \"/home/junyichen/code/pycistarget/src/pycistarget/cli/pycistarget.py\", line 586, in main\n",
      "    args.func(args)\n",
      "  File \"/home/junyichen/code/pycistarget/src/pycistarget/cli/pycistarget.py\", line 69, in cistarget\n",
      "    run_cistarget_command(\n",
      "  File \"/home/junyichen/code/pycistarget/src/pycistarget/cli/commands.py\", line 93, in run_cistarget_command\n",
      "    ctx_db = cisTargetDatabase(\n",
      "  File \"/home/junyichen/code/pycistarget/src/pycistarget/motif_enrichment_cistarget.py\", line 55, in __init__\n",
      "    self.regions_to_db, self.db_rankings, self.total_regions = self.load_db(fname,\n",
      "  File \"/home/junyichen/code/pycistarget/src/pycistarget/motif_enrichment_cistarget.py\", line 111, in load_db\n",
      "    target_to_db = target_to_query(region_sets, list(db_regions), fraction_overlap = fraction_overlap)\n",
      "  File \"/home/junyichen/code/pycistarget/src/pycistarget/utils.py\", line 286, in target_to_query\n",
      "    raise ValueError(\n",
      "ValueError: \n",
      "            None of the regions in the bed file overlap with the cistarget database. \n",
      "            Check wether the chromosome names of the input regions are correctly \n",
      "            formatted and that you are using the correct database.\n",
      "            \n"
     ]
    },
    {
     "name": "stdout",
     "output_type": "stream",
     "text": [
      "['pycistarget', 'cistarget', '--cistarget_db_fname', '/data2st1/junyi/scenic/mouse/motif/mm10_screen_v10_clust.regions_vs_motifs.rankings.feather', '--bed_fname', '/data1st2/hannan_25/data/Nanopore_process/nanopore_08_differential/summary/dmr_sets/FC-PFC_vs_FW-PFC.5hmC.CG.down.dmr_2tools.bed', '--species', 'mus_musculus', '--auc_threshold', '0.005', '--nes_threshold', '3.0', '--rank_threshold', '0.05', '--path_to_motif_annotations', '/data2st1/junyi/scenic/mouse/motif/motifs-v10nr_clust-nr.mgi-m0.001-o0.0.tbl', '--output_folder', '/data1st2/hannan_25/data/Nanopore_process/nanopore_08_differential/summary/dmr_sets/cistarget/', '--write_html']\n"
     ]
    },
    {
     "name": "stderr",
     "output_type": "stream",
     "text": [
      "/home/junyichen/code/pycistarget/src/pycistarget/__init__.py:1: UserWarning: pkg_resources is deprecated as an API. See https://setuptools.pypa.io/en/latest/pkg_resources.html. The pkg_resources package is slated for removal as early as 2025-11-30. Refrain from using this package or pin to Setuptools<81.\n",
      "  from pkg_resources import get_distribution, DistributionNotFound\n"
     ]
    },
    {
     "name": "stdout",
     "output_type": "stream",
     "text": [
      "2025-06-24 19:57:38,897 cisTarget    INFO     Reading cisTarget database\n",
      "2025-06-24 19:57:48,045 cisTarget    INFO     Running cisTarget for FC-PFC_vs_FW-PFC.5hmC.CG.down.dmr_2tools which has 1 regions\n",
      "2025-06-24 19:57:56,854 cisTarget    INFO     Annotating motifs for FC-PFC_vs_FW-PFC.5hmC.CG.down.dmr_2tools\n",
      "2025-06-24 19:57:58,211 cisTarget    INFO     Getting cistromes for FC-PFC_vs_FW-PFC.5hmC.CG.down.dmr_2tools\n",
      "['pycistarget', 'cistarget', '--cistarget_db_fname', '/data2st1/junyi/scenic/mouse/motif/mm10_screen_v10_clust.regions_vs_motifs.rankings.feather', '--bed_fname', '/data1st2/hannan_25/data/Nanopore_process/nanopore_08_differential/summary/dmr_sets/MC-AMY_vs_MW-AMY.5mC.up.dmr_2tools.bed', '--species', 'mus_musculus', '--auc_threshold', '0.005', '--nes_threshold', '3.0', '--rank_threshold', '0.05', '--path_to_motif_annotations', '/data2st1/junyi/scenic/mouse/motif/motifs-v10nr_clust-nr.mgi-m0.001-o0.0.tbl', '--output_folder', '/data1st2/hannan_25/data/Nanopore_process/nanopore_08_differential/summary/dmr_sets/cistarget/', '--write_html']\n"
     ]
    },
    {
     "name": "stderr",
     "output_type": "stream",
     "text": [
      "/home/junyichen/code/pycistarget/src/pycistarget/__init__.py:1: UserWarning: pkg_resources is deprecated as an API. See https://setuptools.pypa.io/en/latest/pkg_resources.html. The pkg_resources package is slated for removal as early as 2025-11-30. Refrain from using this package or pin to Setuptools<81.\n",
      "  from pkg_resources import get_distribution, DistributionNotFound\n"
     ]
    },
    {
     "name": "stdout",
     "output_type": "stream",
     "text": [
      "2025-06-24 19:58:00,188 cisTarget    INFO     Reading cisTarget database\n",
      "2025-06-24 19:58:09,634 cisTarget    INFO     Running cisTarget for MC-AMY_vs_MW-AMY.5mC.up.dmr_2tools which has 122 regions\n",
      "2025-06-24 19:58:18,752 cisTarget    INFO     Annotating motifs for MC-AMY_vs_MW-AMY.5mC.up.dmr_2tools\n",
      "2025-06-24 19:58:20,115 cisTarget    INFO     Getting cistromes for MC-AMY_vs_MW-AMY.5mC.up.dmr_2tools\n",
      "['pycistarget', 'cistarget', '--cistarget_db_fname', '/data2st1/junyi/scenic/mouse/motif/mm10_screen_v10_clust.regions_vs_motifs.rankings.feather', '--bed_fname', '/data1st2/hannan_25/data/Nanopore_process/nanopore_08_differential/summary/dmr_sets/FC-HIP_vs_FW-HIP.5hmC.CH.down.dmr_2tools.bed', '--species', 'mus_musculus', '--auc_threshold', '0.005', '--nes_threshold', '3.0', '--rank_threshold', '0.05', '--path_to_motif_annotations', '/data2st1/junyi/scenic/mouse/motif/motifs-v10nr_clust-nr.mgi-m0.001-o0.0.tbl', '--output_folder', '/data1st2/hannan_25/data/Nanopore_process/nanopore_08_differential/summary/dmr_sets/cistarget/', '--write_html']\n"
     ]
    },
    {
     "name": "stderr",
     "output_type": "stream",
     "text": [
      "/home/junyichen/code/pycistarget/src/pycistarget/__init__.py:1: UserWarning: pkg_resources is deprecated as an API. See https://setuptools.pypa.io/en/latest/pkg_resources.html. The pkg_resources package is slated for removal as early as 2025-11-30. Refrain from using this package or pin to Setuptools<81.\n",
      "  from pkg_resources import get_distribution, DistributionNotFound\n"
     ]
    },
    {
     "name": "stdout",
     "output_type": "stream",
     "text": [
      "2025-06-24 19:58:22,223 cisTarget    INFO     Reading cisTarget database\n"
     ]
    },
    {
     "name": "stderr",
     "output_type": "stream",
     "text": [
      "Traceback (most recent call last):\n",
      "  File \"/home/junyichen/anaconda3/envs/snapatac2/bin/pycistarget\", line 8, in <module>\n",
      "    sys.exit(main())\n",
      "  File \"/home/junyichen/code/pycistarget/src/pycistarget/cli/pycistarget.py\", line 586, in main\n",
      "    args.func(args)\n",
      "  File \"/home/junyichen/code/pycistarget/src/pycistarget/cli/pycistarget.py\", line 69, in cistarget\n",
      "    run_cistarget_command(\n",
      "  File \"/home/junyichen/code/pycistarget/src/pycistarget/cli/commands.py\", line 93, in run_cistarget_command\n",
      "    ctx_db = cisTargetDatabase(\n",
      "  File \"/home/junyichen/code/pycistarget/src/pycistarget/motif_enrichment_cistarget.py\", line 55, in __init__\n",
      "    self.regions_to_db, self.db_rankings, self.total_regions = self.load_db(fname,\n",
      "  File \"/home/junyichen/code/pycistarget/src/pycistarget/motif_enrichment_cistarget.py\", line 111, in load_db\n",
      "    target_to_db = target_to_query(region_sets, list(db_regions), fraction_overlap = fraction_overlap)\n",
      "  File \"/home/junyichen/code/pycistarget/src/pycistarget/utils.py\", line 286, in target_to_query\n",
      "    raise ValueError(\n",
      "ValueError: \n",
      "            None of the regions in the bed file overlap with the cistarget database. \n",
      "            Check wether the chromosome names of the input regions are correctly \n",
      "            formatted and that you are using the correct database.\n",
      "            \n"
     ]
    },
    {
     "name": "stdout",
     "output_type": "stream",
     "text": [
      "['pycistarget', 'cistarget', '--cistarget_db_fname', '/data2st1/junyi/scenic/mouse/motif/mm10_screen_v10_clust.regions_vs_motifs.rankings.feather', '--bed_fname', '/data1st2/hannan_25/data/Nanopore_process/nanopore_08_differential/summary/dmr_sets/MC-HIP_vs_MW-HIP.5hmC.CG.down.dmr_2tools.bed', '--species', 'mus_musculus', '--auc_threshold', '0.005', '--nes_threshold', '3.0', '--rank_threshold', '0.05', '--path_to_motif_annotations', '/data2st1/junyi/scenic/mouse/motif/motifs-v10nr_clust-nr.mgi-m0.001-o0.0.tbl', '--output_folder', '/data1st2/hannan_25/data/Nanopore_process/nanopore_08_differential/summary/dmr_sets/cistarget/', '--write_html']\n"
     ]
    },
    {
     "name": "stderr",
     "output_type": "stream",
     "text": [
      "/home/junyichen/code/pycistarget/src/pycistarget/__init__.py:1: UserWarning: pkg_resources is deprecated as an API. See https://setuptools.pypa.io/en/latest/pkg_resources.html. The pkg_resources package is slated for removal as early as 2025-11-30. Refrain from using this package or pin to Setuptools<81.\n",
      "  from pkg_resources import get_distribution, DistributionNotFound\n"
     ]
    },
    {
     "name": "stdout",
     "output_type": "stream",
     "text": [
      "2025-06-24 19:58:31,020 cisTarget    INFO     Reading cisTarget database\n",
      "2025-06-24 19:58:40,273 cisTarget    INFO     Running cisTarget for MC-HIP_vs_MW-HIP.5hmC.CG.down.dmr_2tools which has 1 regions\n",
      "2025-06-24 19:58:49,050 cisTarget    INFO     Annotating motifs for MC-HIP_vs_MW-HIP.5hmC.CG.down.dmr_2tools\n",
      "2025-06-24 19:58:50,414 cisTarget    INFO     Getting cistromes for MC-HIP_vs_MW-HIP.5hmC.CG.down.dmr_2tools\n",
      "['pycistarget', 'cistarget', '--cistarget_db_fname', '/data2st1/junyi/scenic/mouse/motif/mm10_screen_v10_clust.regions_vs_motifs.rankings.feather', '--bed_fname', '/data1st2/hannan_25/data/Nanopore_process/nanopore_08_differential/summary/dmr_sets/FC-AMY_vs_FW-AMY.5hmC.CG.up.dmr_2tools.bed', '--species', 'mus_musculus', '--auc_threshold', '0.005', '--nes_threshold', '3.0', '--rank_threshold', '0.05', '--path_to_motif_annotations', '/data2st1/junyi/scenic/mouse/motif/motifs-v10nr_clust-nr.mgi-m0.001-o0.0.tbl', '--output_folder', '/data1st2/hannan_25/data/Nanopore_process/nanopore_08_differential/summary/dmr_sets/cistarget/', '--write_html']\n"
     ]
    },
    {
     "name": "stderr",
     "output_type": "stream",
     "text": [
      "/home/junyichen/code/pycistarget/src/pycistarget/__init__.py:1: UserWarning: pkg_resources is deprecated as an API. See https://setuptools.pypa.io/en/latest/pkg_resources.html. The pkg_resources package is slated for removal as early as 2025-11-30. Refrain from using this package or pin to Setuptools<81.\n",
      "  from pkg_resources import get_distribution, DistributionNotFound\n"
     ]
    },
    {
     "name": "stdout",
     "output_type": "stream",
     "text": [
      "2025-06-24 19:58:52,382 cisTarget    INFO     Reading cisTarget database\n",
      "2025-06-24 19:59:01,478 cisTarget    INFO     Running cisTarget for FC-AMY_vs_FW-AMY.5hmC.CG.up.dmr_2tools which has 2 regions\n",
      "2025-06-24 19:59:10,383 cisTarget    INFO     Annotating motifs for FC-AMY_vs_FW-AMY.5hmC.CG.up.dmr_2tools\n",
      "2025-06-24 19:59:11,760 cisTarget    INFO     Getting cistromes for FC-AMY_vs_FW-AMY.5hmC.CG.up.dmr_2tools\n",
      "['pycistarget', 'cistarget', '--cistarget_db_fname', '/data2st1/junyi/scenic/mouse/motif/mm10_screen_v10_clust.regions_vs_motifs.rankings.feather', '--bed_fname', '/data1st2/hannan_25/data/Nanopore_process/nanopore_08_differential/summary/dmr_sets/FC-PFC_vs_FW-PFC.5mC.CG.up.dmr_2tools.bed', '--species', 'mus_musculus', '--auc_threshold', '0.005', '--nes_threshold', '3.0', '--rank_threshold', '0.05', '--path_to_motif_annotations', '/data2st1/junyi/scenic/mouse/motif/motifs-v10nr_clust-nr.mgi-m0.001-o0.0.tbl', '--output_folder', '/data1st2/hannan_25/data/Nanopore_process/nanopore_08_differential/summary/dmr_sets/cistarget/', '--write_html']\n"
     ]
    },
    {
     "name": "stderr",
     "output_type": "stream",
     "text": [
      "/home/junyichen/code/pycistarget/src/pycistarget/__init__.py:1: UserWarning: pkg_resources is deprecated as an API. See https://setuptools.pypa.io/en/latest/pkg_resources.html. The pkg_resources package is slated for removal as early as 2025-11-30. Refrain from using this package or pin to Setuptools<81.\n",
      "  from pkg_resources import get_distribution, DistributionNotFound\n"
     ]
    },
    {
     "name": "stdout",
     "output_type": "stream",
     "text": [
      "2025-06-24 19:59:13,814 cisTarget    INFO     Reading cisTarget database\n",
      "2025-06-24 19:59:23,858 cisTarget    INFO     Running cisTarget for FC-PFC_vs_FW-PFC.5mC.CG.up.dmr_2tools which has 83 regions\n",
      "2025-06-24 19:59:33,112 cisTarget    INFO     Annotating motifs for FC-PFC_vs_FW-PFC.5mC.CG.up.dmr_2tools\n",
      "2025-06-24 19:59:34,476 cisTarget    INFO     Getting cistromes for FC-PFC_vs_FW-PFC.5mC.CG.up.dmr_2tools\n",
      "['pycistarget', 'cistarget', '--cistarget_db_fname', '/data2st1/junyi/scenic/mouse/motif/mm10_screen_v10_clust.regions_vs_motifs.rankings.feather', '--bed_fname', '/data1st2/hannan_25/data/Nanopore_process/nanopore_08_differential/summary/dmr_sets/MC-HIP_vs_MW-HIP.5hmC.CH.up.dmr_2tools.bed', '--species', 'mus_musculus', '--auc_threshold', '0.005', '--nes_threshold', '3.0', '--rank_threshold', '0.05', '--path_to_motif_annotations', '/data2st1/junyi/scenic/mouse/motif/motifs-v10nr_clust-nr.mgi-m0.001-o0.0.tbl', '--output_folder', '/data1st2/hannan_25/data/Nanopore_process/nanopore_08_differential/summary/dmr_sets/cistarget/', '--write_html']\n"
     ]
    },
    {
     "name": "stderr",
     "output_type": "stream",
     "text": [
      "/home/junyichen/code/pycistarget/src/pycistarget/__init__.py:1: UserWarning: pkg_resources is deprecated as an API. See https://setuptools.pypa.io/en/latest/pkg_resources.html. The pkg_resources package is slated for removal as early as 2025-11-30. Refrain from using this package or pin to Setuptools<81.\n",
      "  from pkg_resources import get_distribution, DistributionNotFound\n"
     ]
    },
    {
     "name": "stdout",
     "output_type": "stream",
     "text": [
      "2025-06-24 19:59:36,647 cisTarget    INFO     Reading cisTarget database\n"
     ]
    },
    {
     "name": "stderr",
     "output_type": "stream",
     "text": [
      "Traceback (most recent call last):\n",
      "  File \"/home/junyichen/anaconda3/envs/snapatac2/bin/pycistarget\", line 8, in <module>\n",
      "    sys.exit(main())\n",
      "  File \"/home/junyichen/code/pycistarget/src/pycistarget/cli/pycistarget.py\", line 586, in main\n",
      "    args.func(args)\n",
      "  File \"/home/junyichen/code/pycistarget/src/pycistarget/cli/pycistarget.py\", line 69, in cistarget\n",
      "    run_cistarget_command(\n",
      "  File \"/home/junyichen/code/pycistarget/src/pycistarget/cli/commands.py\", line 93, in run_cistarget_command\n",
      "    ctx_db = cisTargetDatabase(\n",
      "  File \"/home/junyichen/code/pycistarget/src/pycistarget/motif_enrichment_cistarget.py\", line 55, in __init__\n",
      "    self.regions_to_db, self.db_rankings, self.total_regions = self.load_db(fname,\n",
      "  File \"/home/junyichen/code/pycistarget/src/pycistarget/motif_enrichment_cistarget.py\", line 111, in load_db\n",
      "    target_to_db = target_to_query(region_sets, list(db_regions), fraction_overlap = fraction_overlap)\n",
      "  File \"/home/junyichen/code/pycistarget/src/pycistarget/utils.py\", line 286, in target_to_query\n",
      "    raise ValueError(\n",
      "ValueError: \n",
      "            None of the regions in the bed file overlap with the cistarget database. \n",
      "            Check wether the chromosome names of the input regions are correctly \n",
      "            formatted and that you are using the correct database.\n",
      "            \n"
     ]
    },
    {
     "name": "stdout",
     "output_type": "stream",
     "text": [
      "['pycistarget', 'cistarget', '--cistarget_db_fname', '/data2st1/junyi/scenic/mouse/motif/mm10_screen_v10_clust.regions_vs_motifs.rankings.feather', '--bed_fname', '/data1st2/hannan_25/data/Nanopore_process/nanopore_08_differential/summary/dmr_sets/MC-PFC_vs_MW-PFC.dmr_2tools.bed', '--species', 'mus_musculus', '--auc_threshold', '0.005', '--nes_threshold', '3.0', '--rank_threshold', '0.05', '--path_to_motif_annotations', '/data2st1/junyi/scenic/mouse/motif/motifs-v10nr_clust-nr.mgi-m0.001-o0.0.tbl', '--output_folder', '/data1st2/hannan_25/data/Nanopore_process/nanopore_08_differential/summary/dmr_sets/cistarget/', '--write_html']\n"
     ]
    },
    {
     "name": "stderr",
     "output_type": "stream",
     "text": [
      "/home/junyichen/code/pycistarget/src/pycistarget/__init__.py:1: UserWarning: pkg_resources is deprecated as an API. See https://setuptools.pypa.io/en/latest/pkg_resources.html. The pkg_resources package is slated for removal as early as 2025-11-30. Refrain from using this package or pin to Setuptools<81.\n",
      "  from pkg_resources import get_distribution, DistributionNotFound\n"
     ]
    },
    {
     "name": "stdout",
     "output_type": "stream",
     "text": [
      "2025-06-24 19:59:45,381 cisTarget    INFO     Reading cisTarget database\n",
      "2025-06-24 19:59:55,147 cisTarget    INFO     Running cisTarget for MC-PFC_vs_MW-PFC.dmr_2tools which has 164 regions\n",
      "2025-06-24 20:00:04,355 cisTarget    INFO     Annotating motifs for MC-PFC_vs_MW-PFC.dmr_2tools\n",
      "2025-06-24 20:00:05,781 cisTarget    INFO     Getting cistromes for MC-PFC_vs_MW-PFC.dmr_2tools\n",
      "['pycistarget', 'cistarget', '--cistarget_db_fname', '/data2st1/junyi/scenic/mouse/motif/mm10_screen_v10_clust.regions_vs_motifs.rankings.feather', '--bed_fname', '/data1st2/hannan_25/data/Nanopore_process/nanopore_08_differential/summary/dmr_sets/MC-HIP_vs_MW-HIP.5hmC.up.dmr_2tools.bed', '--species', 'mus_musculus', '--auc_threshold', '0.005', '--nes_threshold', '3.0', '--rank_threshold', '0.05', '--path_to_motif_annotations', '/data2st1/junyi/scenic/mouse/motif/motifs-v10nr_clust-nr.mgi-m0.001-o0.0.tbl', '--output_folder', '/data1st2/hannan_25/data/Nanopore_process/nanopore_08_differential/summary/dmr_sets/cistarget/', '--write_html']\n"
     ]
    },
    {
     "name": "stderr",
     "output_type": "stream",
     "text": [
      "/home/junyichen/code/pycistarget/src/pycistarget/__init__.py:1: UserWarning: pkg_resources is deprecated as an API. See https://setuptools.pypa.io/en/latest/pkg_resources.html. The pkg_resources package is slated for removal as early as 2025-11-30. Refrain from using this package or pin to Setuptools<81.\n",
      "  from pkg_resources import get_distribution, DistributionNotFound\n"
     ]
    },
    {
     "name": "stdout",
     "output_type": "stream",
     "text": [
      "2025-06-24 20:00:07,999 cisTarget    INFO     Reading cisTarget database\n"
     ]
    },
    {
     "name": "stderr",
     "output_type": "stream",
     "text": [
      "Traceback (most recent call last):\n",
      "  File \"/home/junyichen/anaconda3/envs/snapatac2/bin/pycistarget\", line 8, in <module>\n",
      "    sys.exit(main())\n",
      "  File \"/home/junyichen/code/pycistarget/src/pycistarget/cli/pycistarget.py\", line 586, in main\n",
      "    args.func(args)\n",
      "  File \"/home/junyichen/code/pycistarget/src/pycistarget/cli/pycistarget.py\", line 69, in cistarget\n",
      "    run_cistarget_command(\n",
      "  File \"/home/junyichen/code/pycistarget/src/pycistarget/cli/commands.py\", line 93, in run_cistarget_command\n",
      "    ctx_db = cisTargetDatabase(\n",
      "  File \"/home/junyichen/code/pycistarget/src/pycistarget/motif_enrichment_cistarget.py\", line 55, in __init__\n",
      "    self.regions_to_db, self.db_rankings, self.total_regions = self.load_db(fname,\n",
      "  File \"/home/junyichen/code/pycistarget/src/pycistarget/motif_enrichment_cistarget.py\", line 111, in load_db\n",
      "    target_to_db = target_to_query(region_sets, list(db_regions), fraction_overlap = fraction_overlap)\n",
      "  File \"/home/junyichen/code/pycistarget/src/pycistarget/utils.py\", line 286, in target_to_query\n",
      "    raise ValueError(\n",
      "ValueError: \n",
      "            None of the regions in the bed file overlap with the cistarget database. \n",
      "            Check wether the chromosome names of the input regions are correctly \n",
      "            formatted and that you are using the correct database.\n",
      "            \n"
     ]
    },
    {
     "name": "stdout",
     "output_type": "stream",
     "text": [
      "['pycistarget', 'cistarget', '--cistarget_db_fname', '/data2st1/junyi/scenic/mouse/motif/mm10_screen_v10_clust.regions_vs_motifs.rankings.feather', '--bed_fname', '/data1st2/hannan_25/data/Nanopore_process/nanopore_08_differential/summary/dmr_sets/FC-PFC_vs_FW-PFC.5mC.CN.up.dmr_2tools.bed', '--species', 'mus_musculus', '--auc_threshold', '0.005', '--nes_threshold', '3.0', '--rank_threshold', '0.05', '--path_to_motif_annotations', '/data2st1/junyi/scenic/mouse/motif/motifs-v10nr_clust-nr.mgi-m0.001-o0.0.tbl', '--output_folder', '/data1st2/hannan_25/data/Nanopore_process/nanopore_08_differential/summary/dmr_sets/cistarget/', '--write_html']\n"
     ]
    },
    {
     "name": "stderr",
     "output_type": "stream",
     "text": [
      "/home/junyichen/code/pycistarget/src/pycistarget/__init__.py:1: UserWarning: pkg_resources is deprecated as an API. See https://setuptools.pypa.io/en/latest/pkg_resources.html. The pkg_resources package is slated for removal as early as 2025-11-30. Refrain from using this package or pin to Setuptools<81.\n",
      "  from pkg_resources import get_distribution, DistributionNotFound\n"
     ]
    },
    {
     "name": "stdout",
     "output_type": "stream",
     "text": [
      "2025-06-24 20:00:16,763 cisTarget    INFO     Reading cisTarget database\n",
      "2025-06-24 20:00:25,961 cisTarget    INFO     Running cisTarget for FC-PFC_vs_FW-PFC.5mC.CN.up.dmr_2tools which has 3 regions\n",
      "2025-06-24 20:00:34,867 cisTarget    INFO     Annotating motifs for FC-PFC_vs_FW-PFC.5mC.CN.up.dmr_2tools\n",
      "2025-06-24 20:00:36,217 cisTarget    INFO     Getting cistromes for FC-PFC_vs_FW-PFC.5mC.CN.up.dmr_2tools\n",
      "['pycistarget', 'cistarget', '--cistarget_db_fname', '/data2st1/junyi/scenic/mouse/motif/mm10_screen_v10_clust.regions_vs_motifs.rankings.feather', '--bed_fname', '/data1st2/hannan_25/data/Nanopore_process/nanopore_08_differential/summary/dmr_sets/MC-HIP_vs_MW-HIP.dmr_2tools.bed', '--species', 'mus_musculus', '--auc_threshold', '0.005', '--nes_threshold', '3.0', '--rank_threshold', '0.05', '--path_to_motif_annotations', '/data2st1/junyi/scenic/mouse/motif/motifs-v10nr_clust-nr.mgi-m0.001-o0.0.tbl', '--output_folder', '/data1st2/hannan_25/data/Nanopore_process/nanopore_08_differential/summary/dmr_sets/cistarget/', '--write_html']\n"
     ]
    },
    {
     "name": "stderr",
     "output_type": "stream",
     "text": [
      "/home/junyichen/code/pycistarget/src/pycistarget/__init__.py:1: UserWarning: pkg_resources is deprecated as an API. See https://setuptools.pypa.io/en/latest/pkg_resources.html. The pkg_resources package is slated for removal as early as 2025-11-30. Refrain from using this package or pin to Setuptools<81.\n",
      "  from pkg_resources import get_distribution, DistributionNotFound\n"
     ]
    },
    {
     "name": "stdout",
     "output_type": "stream",
     "text": [
      "2025-06-24 20:00:38,168 cisTarget    INFO     Reading cisTarget database\n",
      "2025-06-24 20:00:47,735 cisTarget    INFO     Running cisTarget for MC-HIP_vs_MW-HIP.dmr_2tools which has 148 regions\n",
      "2025-06-24 20:00:56,913 cisTarget    INFO     Annotating motifs for MC-HIP_vs_MW-HIP.dmr_2tools\n",
      "2025-06-24 20:00:58,317 cisTarget    INFO     Getting cistromes for MC-HIP_vs_MW-HIP.dmr_2tools\n",
      "['pycistarget', 'cistarget', '--cistarget_db_fname', '/data2st1/junyi/scenic/mouse/motif/mm10_screen_v10_clust.regions_vs_motifs.rankings.feather', '--bed_fname', '/data1st2/hannan_25/data/Nanopore_process/nanopore_08_differential/summary/dmr_sets/FC-HIP_vs_FW-HIP.5hmC.down.dmr_2tools.bed', '--species', 'mus_musculus', '--auc_threshold', '0.005', '--nes_threshold', '3.0', '--rank_threshold', '0.05', '--path_to_motif_annotations', '/data2st1/junyi/scenic/mouse/motif/motifs-v10nr_clust-nr.mgi-m0.001-o0.0.tbl', '--output_folder', '/data1st2/hannan_25/data/Nanopore_process/nanopore_08_differential/summary/dmr_sets/cistarget/', '--write_html']\n"
     ]
    },
    {
     "name": "stderr",
     "output_type": "stream",
     "text": [
      "/home/junyichen/code/pycistarget/src/pycistarget/__init__.py:1: UserWarning: pkg_resources is deprecated as an API. See https://setuptools.pypa.io/en/latest/pkg_resources.html. The pkg_resources package is slated for removal as early as 2025-11-30. Refrain from using this package or pin to Setuptools<81.\n",
      "  from pkg_resources import get_distribution, DistributionNotFound\n"
     ]
    },
    {
     "name": "stdout",
     "output_type": "stream",
     "text": [
      "2025-06-24 20:01:00,589 cisTarget    INFO     Reading cisTarget database\n",
      "2025-06-24 20:01:09,844 cisTarget    INFO     Running cisTarget for FC-HIP_vs_FW-HIP.5hmC.down.dmr_2tools which has 3 regions\n",
      "2025-06-24 20:01:19,078 cisTarget    INFO     Annotating motifs for FC-HIP_vs_FW-HIP.5hmC.down.dmr_2tools\n",
      "2025-06-24 20:01:20,457 cisTarget    INFO     Getting cistromes for FC-HIP_vs_FW-HIP.5hmC.down.dmr_2tools\n",
      "['pycistarget', 'cistarget', '--cistarget_db_fname', '/data2st1/junyi/scenic/mouse/motif/mm10_screen_v10_clust.regions_vs_motifs.rankings.feather', '--bed_fname', '/data1st2/hannan_25/data/Nanopore_process/nanopore_08_differential/summary/dmr_sets/FC-HIP_vs_FW-HIP.dmr_2tools.bed', '--species', 'mus_musculus', '--auc_threshold', '0.005', '--nes_threshold', '3.0', '--rank_threshold', '0.05', '--path_to_motif_annotations', '/data2st1/junyi/scenic/mouse/motif/motifs-v10nr_clust-nr.mgi-m0.001-o0.0.tbl', '--output_folder', '/data1st2/hannan_25/data/Nanopore_process/nanopore_08_differential/summary/dmr_sets/cistarget/', '--write_html']\n"
     ]
    },
    {
     "name": "stderr",
     "output_type": "stream",
     "text": [
      "/home/junyichen/code/pycistarget/src/pycistarget/__init__.py:1: UserWarning: pkg_resources is deprecated as an API. See https://setuptools.pypa.io/en/latest/pkg_resources.html. The pkg_resources package is slated for removal as early as 2025-11-30. Refrain from using this package or pin to Setuptools<81.\n",
      "  from pkg_resources import get_distribution, DistributionNotFound\n"
     ]
    },
    {
     "name": "stdout",
     "output_type": "stream",
     "text": [
      "2025-06-24 20:01:22,539 cisTarget    INFO     Reading cisTarget database\n",
      "2025-06-24 20:01:32,261 cisTarget    INFO     Running cisTarget for FC-HIP_vs_FW-HIP.dmr_2tools which has 150 regions\n",
      "2025-06-24 20:01:41,303 cisTarget    INFO     Annotating motifs for FC-HIP_vs_FW-HIP.dmr_2tools\n",
      "2025-06-24 20:01:42,714 cisTarget    INFO     Getting cistromes for FC-HIP_vs_FW-HIP.dmr_2tools\n",
      "['pycistarget', 'cistarget', '--cistarget_db_fname', '/data2st1/junyi/scenic/mouse/motif/mm10_screen_v10_clust.regions_vs_motifs.rankings.feather', '--bed_fname', '/data1st2/hannan_25/data/Nanopore_process/nanopore_08_differential/summary/dmr_sets/MC-HIP_vs_MW-HIP.5mC.down.dmr_2tools.bed', '--species', 'mus_musculus', '--auc_threshold', '0.005', '--nes_threshold', '3.0', '--rank_threshold', '0.05', '--path_to_motif_annotations', '/data2st1/junyi/scenic/mouse/motif/motifs-v10nr_clust-nr.mgi-m0.001-o0.0.tbl', '--output_folder', '/data1st2/hannan_25/data/Nanopore_process/nanopore_08_differential/summary/dmr_sets/cistarget/', '--write_html']\n"
     ]
    },
    {
     "name": "stderr",
     "output_type": "stream",
     "text": [
      "/home/junyichen/code/pycistarget/src/pycistarget/__init__.py:1: UserWarning: pkg_resources is deprecated as an API. See https://setuptools.pypa.io/en/latest/pkg_resources.html. The pkg_resources package is slated for removal as early as 2025-11-30. Refrain from using this package or pin to Setuptools<81.\n",
      "  from pkg_resources import get_distribution, DistributionNotFound\n"
     ]
    },
    {
     "name": "stdout",
     "output_type": "stream",
     "text": [
      "2025-06-24 20:01:44,867 cisTarget    INFO     Reading cisTarget database\n",
      "2025-06-24 20:01:54,180 cisTarget    INFO     Running cisTarget for MC-HIP_vs_MW-HIP.5mC.down.dmr_2tools which has 43 regions\n",
      "2025-06-24 20:02:03,260 cisTarget    INFO     Annotating motifs for MC-HIP_vs_MW-HIP.5mC.down.dmr_2tools\n",
      "2025-06-24 20:02:04,613 cisTarget    INFO     Getting cistromes for MC-HIP_vs_MW-HIP.5mC.down.dmr_2tools\n",
      "['pycistarget', 'cistarget', '--cistarget_db_fname', '/data2st1/junyi/scenic/mouse/motif/mm10_screen_v10_clust.regions_vs_motifs.rankings.feather', '--bed_fname', '/data1st2/hannan_25/data/Nanopore_process/nanopore_08_differential/summary/dmr_sets/MC-AMY_vs_MW-AMY.5hmC.CN.down.dmr_2tools.bed', '--species', 'mus_musculus', '--auc_threshold', '0.005', '--nes_threshold', '3.0', '--rank_threshold', '0.05', '--path_to_motif_annotations', '/data2st1/junyi/scenic/mouse/motif/motifs-v10nr_clust-nr.mgi-m0.001-o0.0.tbl', '--output_folder', '/data1st2/hannan_25/data/Nanopore_process/nanopore_08_differential/summary/dmr_sets/cistarget/', '--write_html']\n"
     ]
    },
    {
     "name": "stderr",
     "output_type": "stream",
     "text": [
      "/home/junyichen/code/pycistarget/src/pycistarget/__init__.py:1: UserWarning: pkg_resources is deprecated as an API. See https://setuptools.pypa.io/en/latest/pkg_resources.html. The pkg_resources package is slated for removal as early as 2025-11-30. Refrain from using this package or pin to Setuptools<81.\n",
      "  from pkg_resources import get_distribution, DistributionNotFound\n"
     ]
    },
    {
     "name": "stdout",
     "output_type": "stream",
     "text": [
      "2025-06-24 20:02:06,697 cisTarget    INFO     Reading cisTarget database\n"
     ]
    },
    {
     "name": "stderr",
     "output_type": "stream",
     "text": [
      "Traceback (most recent call last):\n",
      "  File \"/home/junyichen/anaconda3/envs/snapatac2/bin/pycistarget\", line 8, in <module>\n",
      "    sys.exit(main())\n",
      "  File \"/home/junyichen/code/pycistarget/src/pycistarget/cli/pycistarget.py\", line 586, in main\n",
      "    args.func(args)\n",
      "  File \"/home/junyichen/code/pycistarget/src/pycistarget/cli/pycistarget.py\", line 69, in cistarget\n",
      "    run_cistarget_command(\n",
      "  File \"/home/junyichen/code/pycistarget/src/pycistarget/cli/commands.py\", line 93, in run_cistarget_command\n",
      "    ctx_db = cisTargetDatabase(\n",
      "  File \"/home/junyichen/code/pycistarget/src/pycistarget/motif_enrichment_cistarget.py\", line 55, in __init__\n",
      "    self.regions_to_db, self.db_rankings, self.total_regions = self.load_db(fname,\n",
      "  File \"/home/junyichen/code/pycistarget/src/pycistarget/motif_enrichment_cistarget.py\", line 111, in load_db\n",
      "    target_to_db = target_to_query(region_sets, list(db_regions), fraction_overlap = fraction_overlap)\n",
      "  File \"/home/junyichen/code/pycistarget/src/pycistarget/utils.py\", line 286, in target_to_query\n",
      "    raise ValueError(\n",
      "ValueError: \n",
      "            None of the regions in the bed file overlap with the cistarget database. \n",
      "            Check wether the chromosome names of the input regions are correctly \n",
      "            formatted and that you are using the correct database.\n",
      "            \n"
     ]
    },
    {
     "name": "stdout",
     "output_type": "stream",
     "text": [
      "['pycistarget', 'cistarget', '--cistarget_db_fname', '/data2st1/junyi/scenic/mouse/motif/mm10_screen_v10_clust.regions_vs_motifs.rankings.feather', '--bed_fname', '/data1st2/hannan_25/data/Nanopore_process/nanopore_08_differential/summary/dmr_sets/FC-HIP_vs_FW-HIP.5hmC.CH.up.dmr_2tools.bed', '--species', 'mus_musculus', '--auc_threshold', '0.005', '--nes_threshold', '3.0', '--rank_threshold', '0.05', '--path_to_motif_annotations', '/data2st1/junyi/scenic/mouse/motif/motifs-v10nr_clust-nr.mgi-m0.001-o0.0.tbl', '--output_folder', '/data1st2/hannan_25/data/Nanopore_process/nanopore_08_differential/summary/dmr_sets/cistarget/', '--write_html']\n"
     ]
    },
    {
     "name": "stderr",
     "output_type": "stream",
     "text": [
      "/home/junyichen/code/pycistarget/src/pycistarget/__init__.py:1: UserWarning: pkg_resources is deprecated as an API. See https://setuptools.pypa.io/en/latest/pkg_resources.html. The pkg_resources package is slated for removal as early as 2025-11-30. Refrain from using this package or pin to Setuptools<81.\n",
      "  from pkg_resources import get_distribution, DistributionNotFound\n"
     ]
    },
    {
     "name": "stdout",
     "output_type": "stream",
     "text": [
      "2025-06-24 20:02:15,433 cisTarget    INFO     Reading cisTarget database\n"
     ]
    },
    {
     "name": "stderr",
     "output_type": "stream",
     "text": [
      "Traceback (most recent call last):\n",
      "  File \"/home/junyichen/anaconda3/envs/snapatac2/bin/pycistarget\", line 8, in <module>\n",
      "    sys.exit(main())\n",
      "  File \"/home/junyichen/code/pycistarget/src/pycistarget/cli/pycistarget.py\", line 586, in main\n",
      "    args.func(args)\n",
      "  File \"/home/junyichen/code/pycistarget/src/pycistarget/cli/pycistarget.py\", line 69, in cistarget\n",
      "    run_cistarget_command(\n",
      "  File \"/home/junyichen/code/pycistarget/src/pycistarget/cli/commands.py\", line 93, in run_cistarget_command\n",
      "    ctx_db = cisTargetDatabase(\n",
      "  File \"/home/junyichen/code/pycistarget/src/pycistarget/motif_enrichment_cistarget.py\", line 55, in __init__\n",
      "    self.regions_to_db, self.db_rankings, self.total_regions = self.load_db(fname,\n",
      "  File \"/home/junyichen/code/pycistarget/src/pycistarget/motif_enrichment_cistarget.py\", line 111, in load_db\n",
      "    target_to_db = target_to_query(region_sets, list(db_regions), fraction_overlap = fraction_overlap)\n",
      "  File \"/home/junyichen/code/pycistarget/src/pycistarget/utils.py\", line 286, in target_to_query\n",
      "    raise ValueError(\n",
      "ValueError: \n",
      "            None of the regions in the bed file overlap with the cistarget database. \n",
      "            Check wether the chromosome names of the input regions are correctly \n",
      "            formatted and that you are using the correct database.\n",
      "            \n"
     ]
    },
    {
     "name": "stdout",
     "output_type": "stream",
     "text": [
      "['pycistarget', 'cistarget', '--cistarget_db_fname', '/data2st1/junyi/scenic/mouse/motif/mm10_screen_v10_clust.regions_vs_motifs.rankings.feather', '--bed_fname', '/data1st2/hannan_25/data/Nanopore_process/nanopore_08_differential/summary/dmr_sets/MC-HIP_vs_MW-HIP.5hmC.CN.down.dmr_2tools.bed', '--species', 'mus_musculus', '--auc_threshold', '0.005', '--nes_threshold', '3.0', '--rank_threshold', '0.05', '--path_to_motif_annotations', '/data2st1/junyi/scenic/mouse/motif/motifs-v10nr_clust-nr.mgi-m0.001-o0.0.tbl', '--output_folder', '/data1st2/hannan_25/data/Nanopore_process/nanopore_08_differential/summary/dmr_sets/cistarget/', '--write_html']\n"
     ]
    },
    {
     "name": "stderr",
     "output_type": "stream",
     "text": [
      "/home/junyichen/code/pycistarget/src/pycistarget/__init__.py:1: UserWarning: pkg_resources is deprecated as an API. See https://setuptools.pypa.io/en/latest/pkg_resources.html. The pkg_resources package is slated for removal as early as 2025-11-30. Refrain from using this package or pin to Setuptools<81.\n",
      "  from pkg_resources import get_distribution, DistributionNotFound\n"
     ]
    },
    {
     "name": "stdout",
     "output_type": "stream",
     "text": [
      "2025-06-24 20:02:24,165 cisTarget    INFO     Reading cisTarget database\n"
     ]
    },
    {
     "name": "stderr",
     "output_type": "stream",
     "text": [
      "Traceback (most recent call last):\n",
      "  File \"/home/junyichen/anaconda3/envs/snapatac2/bin/pycistarget\", line 8, in <module>\n",
      "    sys.exit(main())\n",
      "  File \"/home/junyichen/code/pycistarget/src/pycistarget/cli/pycistarget.py\", line 586, in main\n",
      "    args.func(args)\n",
      "  File \"/home/junyichen/code/pycistarget/src/pycistarget/cli/pycistarget.py\", line 69, in cistarget\n",
      "    run_cistarget_command(\n",
      "  File \"/home/junyichen/code/pycistarget/src/pycistarget/cli/commands.py\", line 93, in run_cistarget_command\n",
      "    ctx_db = cisTargetDatabase(\n",
      "  File \"/home/junyichen/code/pycistarget/src/pycistarget/motif_enrichment_cistarget.py\", line 55, in __init__\n",
      "    self.regions_to_db, self.db_rankings, self.total_regions = self.load_db(fname,\n",
      "  File \"/home/junyichen/code/pycistarget/src/pycistarget/motif_enrichment_cistarget.py\", line 111, in load_db\n",
      "    target_to_db = target_to_query(region_sets, list(db_regions), fraction_overlap = fraction_overlap)\n",
      "  File \"/home/junyichen/code/pycistarget/src/pycistarget/utils.py\", line 286, in target_to_query\n",
      "    raise ValueError(\n",
      "ValueError: \n",
      "            None of the regions in the bed file overlap with the cistarget database. \n",
      "            Check wether the chromosome names of the input regions are correctly \n",
      "            formatted and that you are using the correct database.\n",
      "            \n"
     ]
    },
    {
     "name": "stdout",
     "output_type": "stream",
     "text": [
      "['pycistarget', 'cistarget', '--cistarget_db_fname', '/data2st1/junyi/scenic/mouse/motif/mm10_screen_v10_clust.regions_vs_motifs.rankings.feather', '--bed_fname', '/data1st2/hannan_25/data/Nanopore_process/nanopore_08_differential/summary/dmr_sets/MC-HIP_vs_MW-HIP.5hmC.CN.up.dmr_2tools.bed', '--species', 'mus_musculus', '--auc_threshold', '0.005', '--nes_threshold', '3.0', '--rank_threshold', '0.05', '--path_to_motif_annotations', '/data2st1/junyi/scenic/mouse/motif/motifs-v10nr_clust-nr.mgi-m0.001-o0.0.tbl', '--output_folder', '/data1st2/hannan_25/data/Nanopore_process/nanopore_08_differential/summary/dmr_sets/cistarget/', '--write_html']\n"
     ]
    },
    {
     "name": "stderr",
     "output_type": "stream",
     "text": [
      "/home/junyichen/code/pycistarget/src/pycistarget/__init__.py:1: UserWarning: pkg_resources is deprecated as an API. See https://setuptools.pypa.io/en/latest/pkg_resources.html. The pkg_resources package is slated for removal as early as 2025-11-30. Refrain from using this package or pin to Setuptools<81.\n",
      "  from pkg_resources import get_distribution, DistributionNotFound\n"
     ]
    },
    {
     "name": "stdout",
     "output_type": "stream",
     "text": [
      "2025-06-24 20:02:32,918 cisTarget    INFO     Reading cisTarget database\n"
     ]
    },
    {
     "name": "stderr",
     "output_type": "stream",
     "text": [
      "Traceback (most recent call last):\n",
      "  File \"/home/junyichen/anaconda3/envs/snapatac2/bin/pycistarget\", line 8, in <module>\n",
      "    sys.exit(main())\n",
      "  File \"/home/junyichen/code/pycistarget/src/pycistarget/cli/pycistarget.py\", line 586, in main\n",
      "    args.func(args)\n",
      "  File \"/home/junyichen/code/pycistarget/src/pycistarget/cli/pycistarget.py\", line 69, in cistarget\n",
      "    run_cistarget_command(\n",
      "  File \"/home/junyichen/code/pycistarget/src/pycistarget/cli/commands.py\", line 93, in run_cistarget_command\n",
      "    ctx_db = cisTargetDatabase(\n",
      "  File \"/home/junyichen/code/pycistarget/src/pycistarget/motif_enrichment_cistarget.py\", line 55, in __init__\n",
      "    self.regions_to_db, self.db_rankings, self.total_regions = self.load_db(fname,\n",
      "  File \"/home/junyichen/code/pycistarget/src/pycistarget/motif_enrichment_cistarget.py\", line 111, in load_db\n",
      "    target_to_db = target_to_query(region_sets, list(db_regions), fraction_overlap = fraction_overlap)\n",
      "  File \"/home/junyichen/code/pycistarget/src/pycistarget/utils.py\", line 286, in target_to_query\n",
      "    raise ValueError(\n",
      "ValueError: \n",
      "            None of the regions in the bed file overlap with the cistarget database. \n",
      "            Check wether the chromosome names of the input regions are correctly \n",
      "            formatted and that you are using the correct database.\n",
      "            \n"
     ]
    },
    {
     "name": "stdout",
     "output_type": "stream",
     "text": [
      "['pycistarget', 'cistarget', '--cistarget_db_fname', '/data2st1/junyi/scenic/mouse/motif/mm10_screen_v10_clust.regions_vs_motifs.rankings.feather', '--bed_fname', '/data1st2/hannan_25/data/Nanopore_process/nanopore_08_differential/summary/dmr_sets/MC-PFC_vs_MW-PFC.5hmC.up.dmr_2tools.bed', '--species', 'mus_musculus', '--auc_threshold', '0.005', '--nes_threshold', '3.0', '--rank_threshold', '0.05', '--path_to_motif_annotations', '/data2st1/junyi/scenic/mouse/motif/motifs-v10nr_clust-nr.mgi-m0.001-o0.0.tbl', '--output_folder', '/data1st2/hannan_25/data/Nanopore_process/nanopore_08_differential/summary/dmr_sets/cistarget/', '--write_html']\n"
     ]
    },
    {
     "name": "stderr",
     "output_type": "stream",
     "text": [
      "/home/junyichen/code/pycistarget/src/pycistarget/__init__.py:1: UserWarning: pkg_resources is deprecated as an API. See https://setuptools.pypa.io/en/latest/pkg_resources.html. The pkg_resources package is slated for removal as early as 2025-11-30. Refrain from using this package or pin to Setuptools<81.\n",
      "  from pkg_resources import get_distribution, DistributionNotFound\n"
     ]
    },
    {
     "name": "stdout",
     "output_type": "stream",
     "text": [
      "2025-06-24 20:02:41,737 cisTarget    INFO     Reading cisTarget database\n",
      "2025-06-24 20:02:51,002 cisTarget    INFO     Running cisTarget for MC-PFC_vs_MW-PFC.5hmC.up.dmr_2tools which has 4 regions\n",
      "2025-06-24 20:03:00,017 cisTarget    INFO     Annotating motifs for MC-PFC_vs_MW-PFC.5hmC.up.dmr_2tools\n",
      "2025-06-24 20:03:01,342 cisTarget    INFO     Getting cistromes for MC-PFC_vs_MW-PFC.5hmC.up.dmr_2tools\n",
      "['pycistarget', 'cistarget', '--cistarget_db_fname', '/data2st1/junyi/scenic/mouse/motif/mm10_screen_v10_clust.regions_vs_motifs.rankings.feather', '--bed_fname', '/data1st2/hannan_25/data/Nanopore_process/nanopore_08_differential/summary/dmr_sets/FC-AMY_vs_FW-AMY.5hmC.CH.up.dmr_2tools.bed', '--species', 'mus_musculus', '--auc_threshold', '0.005', '--nes_threshold', '3.0', '--rank_threshold', '0.05', '--path_to_motif_annotations', '/data2st1/junyi/scenic/mouse/motif/motifs-v10nr_clust-nr.mgi-m0.001-o0.0.tbl', '--output_folder', '/data1st2/hannan_25/data/Nanopore_process/nanopore_08_differential/summary/dmr_sets/cistarget/', '--write_html']\n"
     ]
    },
    {
     "name": "stderr",
     "output_type": "stream",
     "text": [
      "/home/junyichen/code/pycistarget/src/pycistarget/__init__.py:1: UserWarning: pkg_resources is deprecated as an API. See https://setuptools.pypa.io/en/latest/pkg_resources.html. The pkg_resources package is slated for removal as early as 2025-11-30. Refrain from using this package or pin to Setuptools<81.\n",
      "  from pkg_resources import get_distribution, DistributionNotFound\n"
     ]
    },
    {
     "name": "stdout",
     "output_type": "stream",
     "text": [
      "2025-06-24 20:03:03,437 cisTarget    INFO     Reading cisTarget database\n"
     ]
    },
    {
     "name": "stderr",
     "output_type": "stream",
     "text": [
      "Traceback (most recent call last):\n",
      "  File \"/home/junyichen/anaconda3/envs/snapatac2/bin/pycistarget\", line 8, in <module>\n",
      "    sys.exit(main())\n",
      "  File \"/home/junyichen/code/pycistarget/src/pycistarget/cli/pycistarget.py\", line 586, in main\n",
      "    args.func(args)\n",
      "  File \"/home/junyichen/code/pycistarget/src/pycistarget/cli/pycistarget.py\", line 69, in cistarget\n",
      "    run_cistarget_command(\n",
      "  File \"/home/junyichen/code/pycistarget/src/pycistarget/cli/commands.py\", line 93, in run_cistarget_command\n",
      "    ctx_db = cisTargetDatabase(\n",
      "  File \"/home/junyichen/code/pycistarget/src/pycistarget/motif_enrichment_cistarget.py\", line 55, in __init__\n",
      "    self.regions_to_db, self.db_rankings, self.total_regions = self.load_db(fname,\n",
      "  File \"/home/junyichen/code/pycistarget/src/pycistarget/motif_enrichment_cistarget.py\", line 111, in load_db\n",
      "    target_to_db = target_to_query(region_sets, list(db_regions), fraction_overlap = fraction_overlap)\n",
      "  File \"/home/junyichen/code/pycistarget/src/pycistarget/utils.py\", line 286, in target_to_query\n",
      "    raise ValueError(\n",
      "ValueError: \n",
      "            None of the regions in the bed file overlap with the cistarget database. \n",
      "            Check wether the chromosome names of the input regions are correctly \n",
      "            formatted and that you are using the correct database.\n",
      "            \n"
     ]
    },
    {
     "name": "stdout",
     "output_type": "stream",
     "text": [
      "['pycistarget', 'cistarget', '--cistarget_db_fname', '/data2st1/junyi/scenic/mouse/motif/mm10_screen_v10_clust.regions_vs_motifs.rankings.feather', '--bed_fname', '/data1st2/hannan_25/data/Nanopore_process/nanopore_08_differential/summary/dmr_sets/FC-PFC_vs_FW-PFC.5mC.down.dmr_2tools.bed', '--species', 'mus_musculus', '--auc_threshold', '0.005', '--nes_threshold', '3.0', '--rank_threshold', '0.05', '--path_to_motif_annotations', '/data2st1/junyi/scenic/mouse/motif/motifs-v10nr_clust-nr.mgi-m0.001-o0.0.tbl', '--output_folder', '/data1st2/hannan_25/data/Nanopore_process/nanopore_08_differential/summary/dmr_sets/cistarget/', '--write_html']\n"
     ]
    },
    {
     "name": "stderr",
     "output_type": "stream",
     "text": [
      "/home/junyichen/code/pycistarget/src/pycistarget/__init__.py:1: UserWarning: pkg_resources is deprecated as an API. See https://setuptools.pypa.io/en/latest/pkg_resources.html. The pkg_resources package is slated for removal as early as 2025-11-30. Refrain from using this package or pin to Setuptools<81.\n",
      "  from pkg_resources import get_distribution, DistributionNotFound\n"
     ]
    },
    {
     "name": "stdout",
     "output_type": "stream",
     "text": [
      "2025-06-24 20:03:12,183 cisTarget    INFO     Reading cisTarget database\n",
      "2025-06-24 20:03:21,689 cisTarget    INFO     Running cisTarget for FC-PFC_vs_FW-PFC.5mC.down.dmr_2tools which has 51 regions\n",
      "2025-06-24 20:03:30,927 cisTarget    INFO     Annotating motifs for FC-PFC_vs_FW-PFC.5mC.down.dmr_2tools\n",
      "2025-06-24 20:03:32,340 cisTarget    INFO     Getting cistromes for FC-PFC_vs_FW-PFC.5mC.down.dmr_2tools\n",
      "['pycistarget', 'cistarget', '--cistarget_db_fname', '/data2st1/junyi/scenic/mouse/motif/mm10_screen_v10_clust.regions_vs_motifs.rankings.feather', '--bed_fname', '/data1st2/hannan_25/data/Nanopore_process/nanopore_08_differential/summary/dmr_sets/FC-HIP_vs_FW-HIP.5mC.down.dmr_2tools.bed', '--species', 'mus_musculus', '--auc_threshold', '0.005', '--nes_threshold', '3.0', '--rank_threshold', '0.05', '--path_to_motif_annotations', '/data2st1/junyi/scenic/mouse/motif/motifs-v10nr_clust-nr.mgi-m0.001-o0.0.tbl', '--output_folder', '/data1st2/hannan_25/data/Nanopore_process/nanopore_08_differential/summary/dmr_sets/cistarget/', '--write_html']\n"
     ]
    },
    {
     "name": "stderr",
     "output_type": "stream",
     "text": [
      "/home/junyichen/code/pycistarget/src/pycistarget/__init__.py:1: UserWarning: pkg_resources is deprecated as an API. See https://setuptools.pypa.io/en/latest/pkg_resources.html. The pkg_resources package is slated for removal as early as 2025-11-30. Refrain from using this package or pin to Setuptools<81.\n",
      "  from pkg_resources import get_distribution, DistributionNotFound\n"
     ]
    },
    {
     "name": "stdout",
     "output_type": "stream",
     "text": [
      "2025-06-24 20:03:34,497 cisTarget    INFO     Reading cisTarget database\n",
      "2025-06-24 20:03:43,874 cisTarget    INFO     Running cisTarget for FC-HIP_vs_FW-HIP.5mC.down.dmr_2tools which has 78 regions\n",
      "2025-06-24 20:03:52,964 cisTarget    INFO     Annotating motifs for FC-HIP_vs_FW-HIP.5mC.down.dmr_2tools\n",
      "2025-06-24 20:03:54,340 cisTarget    INFO     Getting cistromes for FC-HIP_vs_FW-HIP.5mC.down.dmr_2tools\n",
      "['pycistarget', 'cistarget', '--cistarget_db_fname', '/data2st1/junyi/scenic/mouse/motif/mm10_screen_v10_clust.regions_vs_motifs.rankings.feather', '--bed_fname', '/data1st2/hannan_25/data/Nanopore_process/nanopore_08_differential/summary/dmr_sets/MC-HIP_vs_MW-HIP.5mC.CN.up.dmr_2tools.bed', '--species', 'mus_musculus', '--auc_threshold', '0.005', '--nes_threshold', '3.0', '--rank_threshold', '0.05', '--path_to_motif_annotations', '/data2st1/junyi/scenic/mouse/motif/motifs-v10nr_clust-nr.mgi-m0.001-o0.0.tbl', '--output_folder', '/data1st2/hannan_25/data/Nanopore_process/nanopore_08_differential/summary/dmr_sets/cistarget/', '--write_html']\n"
     ]
    },
    {
     "name": "stderr",
     "output_type": "stream",
     "text": [
      "/home/junyichen/code/pycistarget/src/pycistarget/__init__.py:1: UserWarning: pkg_resources is deprecated as an API. See https://setuptools.pypa.io/en/latest/pkg_resources.html. The pkg_resources package is slated for removal as early as 2025-11-30. Refrain from using this package or pin to Setuptools<81.\n",
      "  from pkg_resources import get_distribution, DistributionNotFound\n"
     ]
    },
    {
     "name": "stdout",
     "output_type": "stream",
     "text": [
      "2025-06-24 20:03:56,515 cisTarget    INFO     Reading cisTarget database\n"
     ]
    },
    {
     "name": "stderr",
     "output_type": "stream",
     "text": [
      "Traceback (most recent call last):\n",
      "  File \"/home/junyichen/anaconda3/envs/snapatac2/bin/pycistarget\", line 8, in <module>\n",
      "    sys.exit(main())\n",
      "  File \"/home/junyichen/code/pycistarget/src/pycistarget/cli/pycistarget.py\", line 586, in main\n",
      "    args.func(args)\n",
      "  File \"/home/junyichen/code/pycistarget/src/pycistarget/cli/pycistarget.py\", line 69, in cistarget\n",
      "    run_cistarget_command(\n",
      "  File \"/home/junyichen/code/pycistarget/src/pycistarget/cli/commands.py\", line 93, in run_cistarget_command\n",
      "    ctx_db = cisTargetDatabase(\n",
      "  File \"/home/junyichen/code/pycistarget/src/pycistarget/motif_enrichment_cistarget.py\", line 55, in __init__\n",
      "    self.regions_to_db, self.db_rankings, self.total_regions = self.load_db(fname,\n",
      "  File \"/home/junyichen/code/pycistarget/src/pycistarget/motif_enrichment_cistarget.py\", line 111, in load_db\n",
      "    target_to_db = target_to_query(region_sets, list(db_regions), fraction_overlap = fraction_overlap)\n",
      "  File \"/home/junyichen/code/pycistarget/src/pycistarget/utils.py\", line 286, in target_to_query\n",
      "    raise ValueError(\n",
      "ValueError: \n",
      "            None of the regions in the bed file overlap with the cistarget database. \n",
      "            Check wether the chromosome names of the input regions are correctly \n",
      "            formatted and that you are using the correct database.\n",
      "            \n"
     ]
    },
    {
     "name": "stdout",
     "output_type": "stream",
     "text": [
      "['pycistarget', 'cistarget', '--cistarget_db_fname', '/data2st1/junyi/scenic/mouse/motif/mm10_screen_v10_clust.regions_vs_motifs.rankings.feather', '--bed_fname', '/data1st2/hannan_25/data/Nanopore_process/nanopore_08_differential/summary/dmr_sets/MC-PFC_vs_MW-PFC.5mC.CG.up.dmr_2tools.bed', '--species', 'mus_musculus', '--auc_threshold', '0.005', '--nes_threshold', '3.0', '--rank_threshold', '0.05', '--path_to_motif_annotations', '/data2st1/junyi/scenic/mouse/motif/motifs-v10nr_clust-nr.mgi-m0.001-o0.0.tbl', '--output_folder', '/data1st2/hannan_25/data/Nanopore_process/nanopore_08_differential/summary/dmr_sets/cistarget/', '--write_html']\n"
     ]
    },
    {
     "name": "stderr",
     "output_type": "stream",
     "text": [
      "/home/junyichen/code/pycistarget/src/pycistarget/__init__.py:1: UserWarning: pkg_resources is deprecated as an API. See https://setuptools.pypa.io/en/latest/pkg_resources.html. The pkg_resources package is slated for removal as early as 2025-11-30. Refrain from using this package or pin to Setuptools<81.\n",
      "  from pkg_resources import get_distribution, DistributionNotFound\n"
     ]
    },
    {
     "name": "stdout",
     "output_type": "stream",
     "text": [
      "2025-06-24 20:04:05,247 cisTarget    INFO     Reading cisTarget database\n",
      "2025-06-24 20:04:14,562 cisTarget    INFO     Running cisTarget for MC-PFC_vs_MW-PFC.5mC.CG.up.dmr_2tools which has 79 regions\n",
      "2025-06-24 20:04:23,828 cisTarget    INFO     Annotating motifs for MC-PFC_vs_MW-PFC.5mC.CG.up.dmr_2tools\n",
      "2025-06-24 20:04:25,219 cisTarget    INFO     Getting cistromes for MC-PFC_vs_MW-PFC.5mC.CG.up.dmr_2tools\n",
      "['pycistarget', 'cistarget', '--cistarget_db_fname', '/data2st1/junyi/scenic/mouse/motif/mm10_screen_v10_clust.regions_vs_motifs.rankings.feather', '--bed_fname', '/data1st2/hannan_25/data/Nanopore_process/nanopore_08_differential/summary/dmr_sets/FC-PFC_vs_FW-PFC.5hmC.CH.up.dmr_2tools.bed', '--species', 'mus_musculus', '--auc_threshold', '0.005', '--nes_threshold', '3.0', '--rank_threshold', '0.05', '--path_to_motif_annotations', '/data2st1/junyi/scenic/mouse/motif/motifs-v10nr_clust-nr.mgi-m0.001-o0.0.tbl', '--output_folder', '/data1st2/hannan_25/data/Nanopore_process/nanopore_08_differential/summary/dmr_sets/cistarget/', '--write_html']\n"
     ]
    },
    {
     "name": "stderr",
     "output_type": "stream",
     "text": [
      "/home/junyichen/code/pycistarget/src/pycistarget/__init__.py:1: UserWarning: pkg_resources is deprecated as an API. See https://setuptools.pypa.io/en/latest/pkg_resources.html. The pkg_resources package is slated for removal as early as 2025-11-30. Refrain from using this package or pin to Setuptools<81.\n",
      "  from pkg_resources import get_distribution, DistributionNotFound\n"
     ]
    },
    {
     "name": "stdout",
     "output_type": "stream",
     "text": [
      "2025-06-24 20:04:27,486 cisTarget    INFO     Reading cisTarget database\n"
     ]
    },
    {
     "name": "stderr",
     "output_type": "stream",
     "text": [
      "Traceback (most recent call last):\n",
      "  File \"/home/junyichen/anaconda3/envs/snapatac2/bin/pycistarget\", line 8, in <module>\n",
      "    sys.exit(main())\n",
      "  File \"/home/junyichen/code/pycistarget/src/pycistarget/cli/pycistarget.py\", line 586, in main\n",
      "    args.func(args)\n",
      "  File \"/home/junyichen/code/pycistarget/src/pycistarget/cli/pycistarget.py\", line 69, in cistarget\n",
      "    run_cistarget_command(\n",
      "  File \"/home/junyichen/code/pycistarget/src/pycistarget/cli/commands.py\", line 93, in run_cistarget_command\n",
      "    ctx_db = cisTargetDatabase(\n",
      "  File \"/home/junyichen/code/pycistarget/src/pycistarget/motif_enrichment_cistarget.py\", line 55, in __init__\n",
      "    self.regions_to_db, self.db_rankings, self.total_regions = self.load_db(fname,\n",
      "  File \"/home/junyichen/code/pycistarget/src/pycistarget/motif_enrichment_cistarget.py\", line 111, in load_db\n",
      "    target_to_db = target_to_query(region_sets, list(db_regions), fraction_overlap = fraction_overlap)\n",
      "  File \"/home/junyichen/code/pycistarget/src/pycistarget/utils.py\", line 286, in target_to_query\n",
      "    raise ValueError(\n",
      "ValueError: \n",
      "            None of the regions in the bed file overlap with the cistarget database. \n",
      "            Check wether the chromosome names of the input regions are correctly \n",
      "            formatted and that you are using the correct database.\n",
      "            \n"
     ]
    },
    {
     "name": "stdout",
     "output_type": "stream",
     "text": [
      "['pycistarget', 'cistarget', '--cistarget_db_fname', '/data2st1/junyi/scenic/mouse/motif/mm10_screen_v10_clust.regions_vs_motifs.rankings.feather', '--bed_fname', '/data1st2/hannan_25/data/Nanopore_process/nanopore_08_differential/summary/dmr_sets/MC-AMY_vs_MW-AMY.5mC.CN.down.dmr_2tools.bed', '--species', 'mus_musculus', '--auc_threshold', '0.005', '--nes_threshold', '3.0', '--rank_threshold', '0.05', '--path_to_motif_annotations', '/data2st1/junyi/scenic/mouse/motif/motifs-v10nr_clust-nr.mgi-m0.001-o0.0.tbl', '--output_folder', '/data1st2/hannan_25/data/Nanopore_process/nanopore_08_differential/summary/dmr_sets/cistarget/', '--write_html']\n"
     ]
    },
    {
     "name": "stderr",
     "output_type": "stream",
     "text": [
      "/home/junyichen/code/pycistarget/src/pycistarget/__init__.py:1: UserWarning: pkg_resources is deprecated as an API. See https://setuptools.pypa.io/en/latest/pkg_resources.html. The pkg_resources package is slated for removal as early as 2025-11-30. Refrain from using this package or pin to Setuptools<81.\n",
      "  from pkg_resources import get_distribution, DistributionNotFound\n"
     ]
    },
    {
     "name": "stdout",
     "output_type": "stream",
     "text": [
      "2025-06-24 20:04:36,175 cisTarget    INFO     Reading cisTarget database\n"
     ]
    },
    {
     "name": "stderr",
     "output_type": "stream",
     "text": [
      "Traceback (most recent call last):\n",
      "  File \"/home/junyichen/anaconda3/envs/snapatac2/bin/pycistarget\", line 8, in <module>\n",
      "    sys.exit(main())\n",
      "  File \"/home/junyichen/code/pycistarget/src/pycistarget/cli/pycistarget.py\", line 586, in main\n",
      "    args.func(args)\n",
      "  File \"/home/junyichen/code/pycistarget/src/pycistarget/cli/pycistarget.py\", line 69, in cistarget\n",
      "    run_cistarget_command(\n",
      "  File \"/home/junyichen/code/pycistarget/src/pycistarget/cli/commands.py\", line 93, in run_cistarget_command\n",
      "    ctx_db = cisTargetDatabase(\n",
      "  File \"/home/junyichen/code/pycistarget/src/pycistarget/motif_enrichment_cistarget.py\", line 55, in __init__\n",
      "    self.regions_to_db, self.db_rankings, self.total_regions = self.load_db(fname,\n",
      "  File \"/home/junyichen/code/pycistarget/src/pycistarget/motif_enrichment_cistarget.py\", line 111, in load_db\n",
      "    target_to_db = target_to_query(region_sets, list(db_regions), fraction_overlap = fraction_overlap)\n",
      "  File \"/home/junyichen/code/pycistarget/src/pycistarget/utils.py\", line 286, in target_to_query\n",
      "    raise ValueError(\n",
      "ValueError: \n",
      "            None of the regions in the bed file overlap with the cistarget database. \n",
      "            Check wether the chromosome names of the input regions are correctly \n",
      "            formatted and that you are using the correct database.\n",
      "            \n"
     ]
    },
    {
     "name": "stdout",
     "output_type": "stream",
     "text": [
      "['pycistarget', 'cistarget', '--cistarget_db_fname', '/data2st1/junyi/scenic/mouse/motif/mm10_screen_v10_clust.regions_vs_motifs.rankings.feather', '--bed_fname', '/data1st2/hannan_25/data/Nanopore_process/nanopore_08_differential/summary/dmr_sets/FC-AMY_vs_FW-AMY.5hmC.CN.up.dmr_2tools.bed', '--species', 'mus_musculus', '--auc_threshold', '0.005', '--nes_threshold', '3.0', '--rank_threshold', '0.05', '--path_to_motif_annotations', '/data2st1/junyi/scenic/mouse/motif/motifs-v10nr_clust-nr.mgi-m0.001-o0.0.tbl', '--output_folder', '/data1st2/hannan_25/data/Nanopore_process/nanopore_08_differential/summary/dmr_sets/cistarget/', '--write_html']\n"
     ]
    },
    {
     "name": "stderr",
     "output_type": "stream",
     "text": [
      "/home/junyichen/code/pycistarget/src/pycistarget/__init__.py:1: UserWarning: pkg_resources is deprecated as an API. See https://setuptools.pypa.io/en/latest/pkg_resources.html. The pkg_resources package is slated for removal as early as 2025-11-30. Refrain from using this package or pin to Setuptools<81.\n",
      "  from pkg_resources import get_distribution, DistributionNotFound\n"
     ]
    },
    {
     "name": "stdout",
     "output_type": "stream",
     "text": [
      "2025-06-24 20:04:44,977 cisTarget    INFO     Reading cisTarget database\n"
     ]
    },
    {
     "name": "stderr",
     "output_type": "stream",
     "text": [
      "Traceback (most recent call last):\n",
      "  File \"/home/junyichen/anaconda3/envs/snapatac2/bin/pycistarget\", line 8, in <module>\n",
      "    sys.exit(main())\n",
      "  File \"/home/junyichen/code/pycistarget/src/pycistarget/cli/pycistarget.py\", line 586, in main\n",
      "    args.func(args)\n",
      "  File \"/home/junyichen/code/pycistarget/src/pycistarget/cli/pycistarget.py\", line 69, in cistarget\n",
      "    run_cistarget_command(\n",
      "  File \"/home/junyichen/code/pycistarget/src/pycistarget/cli/commands.py\", line 93, in run_cistarget_command\n",
      "    ctx_db = cisTargetDatabase(\n",
      "  File \"/home/junyichen/code/pycistarget/src/pycistarget/motif_enrichment_cistarget.py\", line 55, in __init__\n",
      "    self.regions_to_db, self.db_rankings, self.total_regions = self.load_db(fname,\n",
      "  File \"/home/junyichen/code/pycistarget/src/pycistarget/motif_enrichment_cistarget.py\", line 111, in load_db\n",
      "    target_to_db = target_to_query(region_sets, list(db_regions), fraction_overlap = fraction_overlap)\n",
      "  File \"/home/junyichen/code/pycistarget/src/pycistarget/utils.py\", line 286, in target_to_query\n",
      "    raise ValueError(\n",
      "ValueError: \n",
      "            None of the regions in the bed file overlap with the cistarget database. \n",
      "            Check wether the chromosome names of the input regions are correctly \n",
      "            formatted and that you are using the correct database.\n",
      "            \n"
     ]
    },
    {
     "name": "stdout",
     "output_type": "stream",
     "text": [
      "['pycistarget', 'cistarget', '--cistarget_db_fname', '/data2st1/junyi/scenic/mouse/motif/mm10_screen_v10_clust.regions_vs_motifs.rankings.feather', '--bed_fname', '/data1st2/hannan_25/data/Nanopore_process/nanopore_08_differential/summary/dmr_sets/FC-HIP_vs_FW-HIP.5hmC.up.dmr_2tools.bed', '--species', 'mus_musculus', '--auc_threshold', '0.005', '--nes_threshold', '3.0', '--rank_threshold', '0.05', '--path_to_motif_annotations', '/data2st1/junyi/scenic/mouse/motif/motifs-v10nr_clust-nr.mgi-m0.001-o0.0.tbl', '--output_folder', '/data1st2/hannan_25/data/Nanopore_process/nanopore_08_differential/summary/dmr_sets/cistarget/', '--write_html']\n"
     ]
    },
    {
     "name": "stderr",
     "output_type": "stream",
     "text": [
      "/home/junyichen/code/pycistarget/src/pycistarget/__init__.py:1: UserWarning: pkg_resources is deprecated as an API. See https://setuptools.pypa.io/en/latest/pkg_resources.html. The pkg_resources package is slated for removal as early as 2025-11-30. Refrain from using this package or pin to Setuptools<81.\n",
      "  from pkg_resources import get_distribution, DistributionNotFound\n"
     ]
    },
    {
     "name": "stdout",
     "output_type": "stream",
     "text": [
      "2025-06-24 20:04:53,695 cisTarget    INFO     Reading cisTarget database\n"
     ]
    },
    {
     "name": "stderr",
     "output_type": "stream",
     "text": [
      "Traceback (most recent call last):\n",
      "  File \"/home/junyichen/anaconda3/envs/snapatac2/bin/pycistarget\", line 8, in <module>\n",
      "    sys.exit(main())\n",
      "  File \"/home/junyichen/code/pycistarget/src/pycistarget/cli/pycistarget.py\", line 586, in main\n",
      "    args.func(args)\n",
      "  File \"/home/junyichen/code/pycistarget/src/pycistarget/cli/pycistarget.py\", line 69, in cistarget\n",
      "    run_cistarget_command(\n",
      "  File \"/home/junyichen/code/pycistarget/src/pycistarget/cli/commands.py\", line 93, in run_cistarget_command\n",
      "    ctx_db = cisTargetDatabase(\n",
      "  File \"/home/junyichen/code/pycistarget/src/pycistarget/motif_enrichment_cistarget.py\", line 55, in __init__\n",
      "    self.regions_to_db, self.db_rankings, self.total_regions = self.load_db(fname,\n",
      "  File \"/home/junyichen/code/pycistarget/src/pycistarget/motif_enrichment_cistarget.py\", line 111, in load_db\n",
      "    target_to_db = target_to_query(region_sets, list(db_regions), fraction_overlap = fraction_overlap)\n",
      "  File \"/home/junyichen/code/pycistarget/src/pycistarget/utils.py\", line 286, in target_to_query\n",
      "    raise ValueError(\n",
      "ValueError: \n",
      "            None of the regions in the bed file overlap with the cistarget database. \n",
      "            Check wether the chromosome names of the input regions are correctly \n",
      "            formatted and that you are using the correct database.\n",
      "            \n"
     ]
    },
    {
     "name": "stdout",
     "output_type": "stream",
     "text": [
      "['pycistarget', 'cistarget', '--cistarget_db_fname', '/data2st1/junyi/scenic/mouse/motif/mm10_screen_v10_clust.regions_vs_motifs.rankings.feather', '--bed_fname', '/data1st2/hannan_25/data/Nanopore_process/nanopore_08_differential/summary/dmr_sets/FC-AMY_vs_FW-AMY.5hmC.down.dmr_2tools.bed', '--species', 'mus_musculus', '--auc_threshold', '0.005', '--nes_threshold', '3.0', '--rank_threshold', '0.05', '--path_to_motif_annotations', '/data2st1/junyi/scenic/mouse/motif/motifs-v10nr_clust-nr.mgi-m0.001-o0.0.tbl', '--output_folder', '/data1st2/hannan_25/data/Nanopore_process/nanopore_08_differential/summary/dmr_sets/cistarget/', '--write_html']\n"
     ]
    },
    {
     "name": "stderr",
     "output_type": "stream",
     "text": [
      "/home/junyichen/code/pycistarget/src/pycistarget/__init__.py:1: UserWarning: pkg_resources is deprecated as an API. See https://setuptools.pypa.io/en/latest/pkg_resources.html. The pkg_resources package is slated for removal as early as 2025-11-30. Refrain from using this package or pin to Setuptools<81.\n",
      "  from pkg_resources import get_distribution, DistributionNotFound\n"
     ]
    },
    {
     "name": "stdout",
     "output_type": "stream",
     "text": [
      "2025-06-24 20:05:02,496 cisTarget    INFO     Reading cisTarget database\n"
     ]
    },
    {
     "name": "stderr",
     "output_type": "stream",
     "text": [
      "Traceback (most recent call last):\n",
      "  File \"/home/junyichen/anaconda3/envs/snapatac2/bin/pycistarget\", line 8, in <module>\n",
      "    sys.exit(main())\n",
      "  File \"/home/junyichen/code/pycistarget/src/pycistarget/cli/pycistarget.py\", line 586, in main\n",
      "    args.func(args)\n",
      "  File \"/home/junyichen/code/pycistarget/src/pycistarget/cli/pycistarget.py\", line 69, in cistarget\n",
      "    run_cistarget_command(\n",
      "  File \"/home/junyichen/code/pycistarget/src/pycistarget/cli/commands.py\", line 93, in run_cistarget_command\n",
      "    ctx_db = cisTargetDatabase(\n",
      "  File \"/home/junyichen/code/pycistarget/src/pycistarget/motif_enrichment_cistarget.py\", line 55, in __init__\n",
      "    self.regions_to_db, self.db_rankings, self.total_regions = self.load_db(fname,\n",
      "  File \"/home/junyichen/code/pycistarget/src/pycistarget/motif_enrichment_cistarget.py\", line 111, in load_db\n",
      "    target_to_db = target_to_query(region_sets, list(db_regions), fraction_overlap = fraction_overlap)\n",
      "  File \"/home/junyichen/code/pycistarget/src/pycistarget/utils.py\", line 286, in target_to_query\n",
      "    raise ValueError(\n",
      "ValueError: \n",
      "            None of the regions in the bed file overlap with the cistarget database. \n",
      "            Check wether the chromosome names of the input regions are correctly \n",
      "            formatted and that you are using the correct database.\n",
      "            \n"
     ]
    },
    {
     "name": "stdout",
     "output_type": "stream",
     "text": [
      "['pycistarget', 'cistarget', '--cistarget_db_fname', '/data2st1/junyi/scenic/mouse/motif/mm10_screen_v10_clust.regions_vs_motifs.rankings.feather', '--bed_fname', '/data1st2/hannan_25/data/Nanopore_process/nanopore_08_differential/summary/dmr_sets/MC-HIP_vs_MW-HIP.5mC.CH.up.dmr_2tools.bed', '--species', 'mus_musculus', '--auc_threshold', '0.005', '--nes_threshold', '3.0', '--rank_threshold', '0.05', '--path_to_motif_annotations', '/data2st1/junyi/scenic/mouse/motif/motifs-v10nr_clust-nr.mgi-m0.001-o0.0.tbl', '--output_folder', '/data1st2/hannan_25/data/Nanopore_process/nanopore_08_differential/summary/dmr_sets/cistarget/', '--write_html']\n"
     ]
    },
    {
     "name": "stderr",
     "output_type": "stream",
     "text": [
      "/home/junyichen/code/pycistarget/src/pycistarget/__init__.py:1: UserWarning: pkg_resources is deprecated as an API. See https://setuptools.pypa.io/en/latest/pkg_resources.html. The pkg_resources package is slated for removal as early as 2025-11-30. Refrain from using this package or pin to Setuptools<81.\n",
      "  from pkg_resources import get_distribution, DistributionNotFound\n"
     ]
    },
    {
     "name": "stdout",
     "output_type": "stream",
     "text": [
      "2025-06-24 20:05:11,277 cisTarget    INFO     Reading cisTarget database\n"
     ]
    },
    {
     "name": "stderr",
     "output_type": "stream",
     "text": [
      "Traceback (most recent call last):\n",
      "  File \"/home/junyichen/anaconda3/envs/snapatac2/bin/pycistarget\", line 8, in <module>\n",
      "    sys.exit(main())\n",
      "  File \"/home/junyichen/code/pycistarget/src/pycistarget/cli/pycistarget.py\", line 586, in main\n",
      "    args.func(args)\n",
      "  File \"/home/junyichen/code/pycistarget/src/pycistarget/cli/pycistarget.py\", line 69, in cistarget\n",
      "    run_cistarget_command(\n",
      "  File \"/home/junyichen/code/pycistarget/src/pycistarget/cli/commands.py\", line 93, in run_cistarget_command\n",
      "    ctx_db = cisTargetDatabase(\n",
      "  File \"/home/junyichen/code/pycistarget/src/pycistarget/motif_enrichment_cistarget.py\", line 55, in __init__\n",
      "    self.regions_to_db, self.db_rankings, self.total_regions = self.load_db(fname,\n",
      "  File \"/home/junyichen/code/pycistarget/src/pycistarget/motif_enrichment_cistarget.py\", line 111, in load_db\n",
      "    target_to_db = target_to_query(region_sets, list(db_regions), fraction_overlap = fraction_overlap)\n",
      "  File \"/home/junyichen/code/pycistarget/src/pycistarget/utils.py\", line 286, in target_to_query\n",
      "    raise ValueError(\n",
      "ValueError: \n",
      "            None of the regions in the bed file overlap with the cistarget database. \n",
      "            Check wether the chromosome names of the input regions are correctly \n",
      "            formatted and that you are using the correct database.\n",
      "            \n"
     ]
    },
    {
     "name": "stdout",
     "output_type": "stream",
     "text": [
      "['pycistarget', 'cistarget', '--cistarget_db_fname', '/data2st1/junyi/scenic/mouse/motif/mm10_screen_v10_clust.regions_vs_motifs.rankings.feather', '--bed_fname', '/data1st2/hannan_25/data/Nanopore_process/nanopore_08_differential/summary/dmr_sets/MC-AMY_vs_MW-AMY.5mC.CH.down.dmr_2tools.bed', '--species', 'mus_musculus', '--auc_threshold', '0.005', '--nes_threshold', '3.0', '--rank_threshold', '0.05', '--path_to_motif_annotations', '/data2st1/junyi/scenic/mouse/motif/motifs-v10nr_clust-nr.mgi-m0.001-o0.0.tbl', '--output_folder', '/data1st2/hannan_25/data/Nanopore_process/nanopore_08_differential/summary/dmr_sets/cistarget/', '--write_html']\n"
     ]
    },
    {
     "name": "stderr",
     "output_type": "stream",
     "text": [
      "/home/junyichen/code/pycistarget/src/pycistarget/__init__.py:1: UserWarning: pkg_resources is deprecated as an API. See https://setuptools.pypa.io/en/latest/pkg_resources.html. The pkg_resources package is slated for removal as early as 2025-11-30. Refrain from using this package or pin to Setuptools<81.\n",
      "  from pkg_resources import get_distribution, DistributionNotFound\n"
     ]
    },
    {
     "name": "stdout",
     "output_type": "stream",
     "text": [
      "2025-06-24 20:05:20,039 cisTarget    INFO     Reading cisTarget database\n"
     ]
    },
    {
     "name": "stderr",
     "output_type": "stream",
     "text": [
      "Traceback (most recent call last):\n",
      "  File \"/home/junyichen/anaconda3/envs/snapatac2/bin/pycistarget\", line 8, in <module>\n",
      "    sys.exit(main())\n",
      "  File \"/home/junyichen/code/pycistarget/src/pycistarget/cli/pycistarget.py\", line 586, in main\n",
      "    args.func(args)\n",
      "  File \"/home/junyichen/code/pycistarget/src/pycistarget/cli/pycistarget.py\", line 69, in cistarget\n",
      "    run_cistarget_command(\n",
      "  File \"/home/junyichen/code/pycistarget/src/pycistarget/cli/commands.py\", line 93, in run_cistarget_command\n",
      "    ctx_db = cisTargetDatabase(\n",
      "  File \"/home/junyichen/code/pycistarget/src/pycistarget/motif_enrichment_cistarget.py\", line 55, in __init__\n",
      "    self.regions_to_db, self.db_rankings, self.total_regions = self.load_db(fname,\n",
      "  File \"/home/junyichen/code/pycistarget/src/pycistarget/motif_enrichment_cistarget.py\", line 111, in load_db\n",
      "    target_to_db = target_to_query(region_sets, list(db_regions), fraction_overlap = fraction_overlap)\n",
      "  File \"/home/junyichen/code/pycistarget/src/pycistarget/utils.py\", line 286, in target_to_query\n",
      "    raise ValueError(\n",
      "ValueError: \n",
      "            None of the regions in the bed file overlap with the cistarget database. \n",
      "            Check wether the chromosome names of the input regions are correctly \n",
      "            formatted and that you are using the correct database.\n",
      "            \n"
     ]
    },
    {
     "name": "stdout",
     "output_type": "stream",
     "text": [
      "['pycistarget', 'cistarget', '--cistarget_db_fname', '/data2st1/junyi/scenic/mouse/motif/mm10_screen_v10_clust.regions_vs_motifs.rankings.feather', '--bed_fname', '/data1st2/hannan_25/data/Nanopore_process/nanopore_08_differential/summary/dmr_sets/FC-PFC_vs_FW-PFC.dmr_2tools.bed', '--species', 'mus_musculus', '--auc_threshold', '0.005', '--nes_threshold', '3.0', '--rank_threshold', '0.05', '--path_to_motif_annotations', '/data2st1/junyi/scenic/mouse/motif/motifs-v10nr_clust-nr.mgi-m0.001-o0.0.tbl', '--output_folder', '/data1st2/hannan_25/data/Nanopore_process/nanopore_08_differential/summary/dmr_sets/cistarget/', '--write_html']\n"
     ]
    },
    {
     "name": "stderr",
     "output_type": "stream",
     "text": [
      "/home/junyichen/code/pycistarget/src/pycistarget/__init__.py:1: UserWarning: pkg_resources is deprecated as an API. See https://setuptools.pypa.io/en/latest/pkg_resources.html. The pkg_resources package is slated for removal as early as 2025-11-30. Refrain from using this package or pin to Setuptools<81.\n",
      "  from pkg_resources import get_distribution, DistributionNotFound\n"
     ]
    },
    {
     "name": "stdout",
     "output_type": "stream",
     "text": [
      "2025-06-24 20:05:28,872 cisTarget    INFO     Reading cisTarget database\n",
      "2025-06-24 20:05:38,269 cisTarget    INFO     Running cisTarget for FC-PFC_vs_FW-PFC.dmr_2tools which has 142 regions\n",
      "2025-06-24 20:05:47,485 cisTarget    INFO     Annotating motifs for FC-PFC_vs_FW-PFC.dmr_2tools\n",
      "2025-06-24 20:05:48,914 cisTarget    INFO     Getting cistromes for FC-PFC_vs_FW-PFC.dmr_2tools\n",
      "['pycistarget', 'cistarget', '--cistarget_db_fname', '/data2st1/junyi/scenic/mouse/motif/mm10_screen_v10_clust.regions_vs_motifs.rankings.feather', '--bed_fname', '/data1st2/hannan_25/data/Nanopore_process/nanopore_08_differential/summary/dmr_sets/FC-PFC_vs_FW-PFC.5hmC.CH.down.dmr_2tools.bed', '--species', 'mus_musculus', '--auc_threshold', '0.005', '--nes_threshold', '3.0', '--rank_threshold', '0.05', '--path_to_motif_annotations', '/data2st1/junyi/scenic/mouse/motif/motifs-v10nr_clust-nr.mgi-m0.001-o0.0.tbl', '--output_folder', '/data1st2/hannan_25/data/Nanopore_process/nanopore_08_differential/summary/dmr_sets/cistarget/', '--write_html']\n"
     ]
    },
    {
     "name": "stderr",
     "output_type": "stream",
     "text": [
      "/home/junyichen/code/pycistarget/src/pycistarget/__init__.py:1: UserWarning: pkg_resources is deprecated as an API. See https://setuptools.pypa.io/en/latest/pkg_resources.html. The pkg_resources package is slated for removal as early as 2025-11-30. Refrain from using this package or pin to Setuptools<81.\n",
      "  from pkg_resources import get_distribution, DistributionNotFound\n"
     ]
    },
    {
     "name": "stdout",
     "output_type": "stream",
     "text": [
      "2025-06-24 20:05:51,078 cisTarget    INFO     Reading cisTarget database\n"
     ]
    },
    {
     "name": "stderr",
     "output_type": "stream",
     "text": [
      "Traceback (most recent call last):\n",
      "  File \"/home/junyichen/anaconda3/envs/snapatac2/bin/pycistarget\", line 8, in <module>\n",
      "    sys.exit(main())\n",
      "  File \"/home/junyichen/code/pycistarget/src/pycistarget/cli/pycistarget.py\", line 586, in main\n",
      "    args.func(args)\n",
      "  File \"/home/junyichen/code/pycistarget/src/pycistarget/cli/pycistarget.py\", line 69, in cistarget\n",
      "    run_cistarget_command(\n",
      "  File \"/home/junyichen/code/pycistarget/src/pycistarget/cli/commands.py\", line 93, in run_cistarget_command\n",
      "    ctx_db = cisTargetDatabase(\n",
      "  File \"/home/junyichen/code/pycistarget/src/pycistarget/motif_enrichment_cistarget.py\", line 55, in __init__\n",
      "    self.regions_to_db, self.db_rankings, self.total_regions = self.load_db(fname,\n",
      "  File \"/home/junyichen/code/pycistarget/src/pycistarget/motif_enrichment_cistarget.py\", line 111, in load_db\n",
      "    target_to_db = target_to_query(region_sets, list(db_regions), fraction_overlap = fraction_overlap)\n",
      "  File \"/home/junyichen/code/pycistarget/src/pycistarget/utils.py\", line 286, in target_to_query\n",
      "    raise ValueError(\n",
      "ValueError: \n",
      "            None of the regions in the bed file overlap with the cistarget database. \n",
      "            Check wether the chromosome names of the input regions are correctly \n",
      "            formatted and that you are using the correct database.\n",
      "            \n"
     ]
    },
    {
     "name": "stdout",
     "output_type": "stream",
     "text": [
      "['pycistarget', 'cistarget', '--cistarget_db_fname', '/data2st1/junyi/scenic/mouse/motif/mm10_screen_v10_clust.regions_vs_motifs.rankings.feather', '--bed_fname', '/data1st2/hannan_25/data/Nanopore_process/nanopore_08_differential/summary/dmr_sets/FC-AMY_vs_FW-AMY.5mC.CG.up.dmr_2tools.bed', '--species', 'mus_musculus', '--auc_threshold', '0.005', '--nes_threshold', '3.0', '--rank_threshold', '0.05', '--path_to_motif_annotations', '/data2st1/junyi/scenic/mouse/motif/motifs-v10nr_clust-nr.mgi-m0.001-o0.0.tbl', '--output_folder', '/data1st2/hannan_25/data/Nanopore_process/nanopore_08_differential/summary/dmr_sets/cistarget/', '--write_html']\n"
     ]
    },
    {
     "name": "stderr",
     "output_type": "stream",
     "text": [
      "/home/junyichen/code/pycistarget/src/pycistarget/__init__.py:1: UserWarning: pkg_resources is deprecated as an API. See https://setuptools.pypa.io/en/latest/pkg_resources.html. The pkg_resources package is slated for removal as early as 2025-11-30. Refrain from using this package or pin to Setuptools<81.\n",
      "  from pkg_resources import get_distribution, DistributionNotFound\n"
     ]
    },
    {
     "name": "stdout",
     "output_type": "stream",
     "text": [
      "2025-06-24 20:05:59,758 cisTarget    INFO     Reading cisTarget database\n",
      "2025-06-24 20:06:09,030 cisTarget    INFO     Running cisTarget for FC-AMY_vs_FW-AMY.5mC.CG.up.dmr_2tools which has 37 regions\n",
      "2025-06-24 20:06:18,073 cisTarget    INFO     Annotating motifs for FC-AMY_vs_FW-AMY.5mC.CG.up.dmr_2tools\n",
      "2025-06-24 20:06:19,439 cisTarget    INFO     Getting cistromes for FC-AMY_vs_FW-AMY.5mC.CG.up.dmr_2tools\n",
      "['pycistarget', 'cistarget', '--cistarget_db_fname', '/data2st1/junyi/scenic/mouse/motif/mm10_screen_v10_clust.regions_vs_motifs.rankings.feather', '--bed_fname', '/data1st2/hannan_25/data/Nanopore_process/nanopore_08_differential/summary/dmr_sets/FC-AMY_vs_FW-AMY.5hmC.CG.down.dmr_2tools.bed', '--species', 'mus_musculus', '--auc_threshold', '0.005', '--nes_threshold', '3.0', '--rank_threshold', '0.05', '--path_to_motif_annotations', '/data2st1/junyi/scenic/mouse/motif/motifs-v10nr_clust-nr.mgi-m0.001-o0.0.tbl', '--output_folder', '/data1st2/hannan_25/data/Nanopore_process/nanopore_08_differential/summary/dmr_sets/cistarget/', '--write_html']\n"
     ]
    },
    {
     "name": "stderr",
     "output_type": "stream",
     "text": [
      "/home/junyichen/code/pycistarget/src/pycistarget/__init__.py:1: UserWarning: pkg_resources is deprecated as an API. See https://setuptools.pypa.io/en/latest/pkg_resources.html. The pkg_resources package is slated for removal as early as 2025-11-30. Refrain from using this package or pin to Setuptools<81.\n",
      "  from pkg_resources import get_distribution, DistributionNotFound\n"
     ]
    },
    {
     "name": "stdout",
     "output_type": "stream",
     "text": [
      "2025-06-24 20:06:21,560 cisTarget    INFO     Reading cisTarget database\n"
     ]
    },
    {
     "name": "stderr",
     "output_type": "stream",
     "text": [
      "Traceback (most recent call last):\n",
      "  File \"/home/junyichen/anaconda3/envs/snapatac2/bin/pycistarget\", line 8, in <module>\n",
      "    sys.exit(main())\n",
      "  File \"/home/junyichen/code/pycistarget/src/pycistarget/cli/pycistarget.py\", line 586, in main\n",
      "    args.func(args)\n",
      "  File \"/home/junyichen/code/pycistarget/src/pycistarget/cli/pycistarget.py\", line 69, in cistarget\n",
      "    run_cistarget_command(\n",
      "  File \"/home/junyichen/code/pycistarget/src/pycistarget/cli/commands.py\", line 93, in run_cistarget_command\n",
      "    ctx_db = cisTargetDatabase(\n",
      "  File \"/home/junyichen/code/pycistarget/src/pycistarget/motif_enrichment_cistarget.py\", line 55, in __init__\n",
      "    self.regions_to_db, self.db_rankings, self.total_regions = self.load_db(fname,\n",
      "  File \"/home/junyichen/code/pycistarget/src/pycistarget/motif_enrichment_cistarget.py\", line 111, in load_db\n",
      "    target_to_db = target_to_query(region_sets, list(db_regions), fraction_overlap = fraction_overlap)\n",
      "  File \"/home/junyichen/code/pycistarget/src/pycistarget/utils.py\", line 286, in target_to_query\n",
      "    raise ValueError(\n",
      "ValueError: \n",
      "            None of the regions in the bed file overlap with the cistarget database. \n",
      "            Check wether the chromosome names of the input regions are correctly \n",
      "            formatted and that you are using the correct database.\n",
      "            \n"
     ]
    },
    {
     "name": "stdout",
     "output_type": "stream",
     "text": [
      "['pycistarget', 'cistarget', '--cistarget_db_fname', '/data2st1/junyi/scenic/mouse/motif/mm10_screen_v10_clust.regions_vs_motifs.rankings.feather', '--bed_fname', '/data1st2/hannan_25/data/Nanopore_process/nanopore_08_differential/summary/dmr_sets/FC-PFC_vs_FW-PFC.5hmC.CN.down.dmr_2tools.bed', '--species', 'mus_musculus', '--auc_threshold', '0.005', '--nes_threshold', '3.0', '--rank_threshold', '0.05', '--path_to_motif_annotations', '/data2st1/junyi/scenic/mouse/motif/motifs-v10nr_clust-nr.mgi-m0.001-o0.0.tbl', '--output_folder', '/data1st2/hannan_25/data/Nanopore_process/nanopore_08_differential/summary/dmr_sets/cistarget/', '--write_html']\n"
     ]
    },
    {
     "name": "stderr",
     "output_type": "stream",
     "text": [
      "/home/junyichen/code/pycistarget/src/pycistarget/__init__.py:1: UserWarning: pkg_resources is deprecated as an API. See https://setuptools.pypa.io/en/latest/pkg_resources.html. The pkg_resources package is slated for removal as early as 2025-11-30. Refrain from using this package or pin to Setuptools<81.\n",
      "  from pkg_resources import get_distribution, DistributionNotFound\n"
     ]
    },
    {
     "name": "stdout",
     "output_type": "stream",
     "text": [
      "2025-06-24 20:06:30,320 cisTarget    INFO     Reading cisTarget database\n"
     ]
    },
    {
     "name": "stderr",
     "output_type": "stream",
     "text": [
      "Traceback (most recent call last):\n",
      "  File \"/home/junyichen/anaconda3/envs/snapatac2/bin/pycistarget\", line 8, in <module>\n",
      "    sys.exit(main())\n",
      "  File \"/home/junyichen/code/pycistarget/src/pycistarget/cli/pycistarget.py\", line 586, in main\n",
      "    args.func(args)\n",
      "  File \"/home/junyichen/code/pycistarget/src/pycistarget/cli/pycistarget.py\", line 69, in cistarget\n",
      "    run_cistarget_command(\n",
      "  File \"/home/junyichen/code/pycistarget/src/pycistarget/cli/commands.py\", line 93, in run_cistarget_command\n",
      "    ctx_db = cisTargetDatabase(\n",
      "  File \"/home/junyichen/code/pycistarget/src/pycistarget/motif_enrichment_cistarget.py\", line 55, in __init__\n",
      "    self.regions_to_db, self.db_rankings, self.total_regions = self.load_db(fname,\n",
      "  File \"/home/junyichen/code/pycistarget/src/pycistarget/motif_enrichment_cistarget.py\", line 111, in load_db\n",
      "    target_to_db = target_to_query(region_sets, list(db_regions), fraction_overlap = fraction_overlap)\n",
      "  File \"/home/junyichen/code/pycistarget/src/pycistarget/utils.py\", line 286, in target_to_query\n",
      "    raise ValueError(\n",
      "ValueError: \n",
      "            None of the regions in the bed file overlap with the cistarget database. \n",
      "            Check wether the chromosome names of the input regions are correctly \n",
      "            formatted and that you are using the correct database.\n",
      "            \n"
     ]
    },
    {
     "name": "stdout",
     "output_type": "stream",
     "text": [
      "['pycistarget', 'cistarget', '--cistarget_db_fname', '/data2st1/junyi/scenic/mouse/motif/mm10_screen_v10_clust.regions_vs_motifs.rankings.feather', '--bed_fname', '/data1st2/hannan_25/data/Nanopore_process/nanopore_08_differential/summary/dmr_sets/FC-HIP_vs_FW-HIP.5mC.CH.down.dmr_2tools.bed', '--species', 'mus_musculus', '--auc_threshold', '0.005', '--nes_threshold', '3.0', '--rank_threshold', '0.05', '--path_to_motif_annotations', '/data2st1/junyi/scenic/mouse/motif/motifs-v10nr_clust-nr.mgi-m0.001-o0.0.tbl', '--output_folder', '/data1st2/hannan_25/data/Nanopore_process/nanopore_08_differential/summary/dmr_sets/cistarget/', '--write_html']\n"
     ]
    },
    {
     "name": "stderr",
     "output_type": "stream",
     "text": [
      "/home/junyichen/code/pycistarget/src/pycistarget/__init__.py:1: UserWarning: pkg_resources is deprecated as an API. See https://setuptools.pypa.io/en/latest/pkg_resources.html. The pkg_resources package is slated for removal as early as 2025-11-30. Refrain from using this package or pin to Setuptools<81.\n",
      "  from pkg_resources import get_distribution, DistributionNotFound\n"
     ]
    },
    {
     "name": "stdout",
     "output_type": "stream",
     "text": [
      "2025-06-24 20:06:39,060 cisTarget    INFO     Reading cisTarget database\n"
     ]
    },
    {
     "name": "stderr",
     "output_type": "stream",
     "text": [
      "Traceback (most recent call last):\n",
      "  File \"/home/junyichen/anaconda3/envs/snapatac2/bin/pycistarget\", line 8, in <module>\n",
      "    sys.exit(main())\n",
      "  File \"/home/junyichen/code/pycistarget/src/pycistarget/cli/pycistarget.py\", line 586, in main\n",
      "    args.func(args)\n",
      "  File \"/home/junyichen/code/pycistarget/src/pycistarget/cli/pycistarget.py\", line 69, in cistarget\n",
      "    run_cistarget_command(\n",
      "  File \"/home/junyichen/code/pycistarget/src/pycistarget/cli/commands.py\", line 93, in run_cistarget_command\n",
      "    ctx_db = cisTargetDatabase(\n",
      "  File \"/home/junyichen/code/pycistarget/src/pycistarget/motif_enrichment_cistarget.py\", line 55, in __init__\n",
      "    self.regions_to_db, self.db_rankings, self.total_regions = self.load_db(fname,\n",
      "  File \"/home/junyichen/code/pycistarget/src/pycistarget/motif_enrichment_cistarget.py\", line 111, in load_db\n",
      "    target_to_db = target_to_query(region_sets, list(db_regions), fraction_overlap = fraction_overlap)\n",
      "  File \"/home/junyichen/code/pycistarget/src/pycistarget/utils.py\", line 286, in target_to_query\n",
      "    raise ValueError(\n",
      "ValueError: \n",
      "            None of the regions in the bed file overlap with the cistarget database. \n",
      "            Check wether the chromosome names of the input regions are correctly \n",
      "            formatted and that you are using the correct database.\n",
      "            \n"
     ]
    },
    {
     "name": "stdout",
     "output_type": "stream",
     "text": [
      "['pycistarget', 'cistarget', '--cistarget_db_fname', '/data2st1/junyi/scenic/mouse/motif/mm10_screen_v10_clust.regions_vs_motifs.rankings.feather', '--bed_fname', '/data1st2/hannan_25/data/Nanopore_process/nanopore_08_differential/summary/dmr_sets/FC-AMY_vs_FW-AMY.5mC.CN.up.dmr_2tools.bed', '--species', 'mus_musculus', '--auc_threshold', '0.005', '--nes_threshold', '3.0', '--rank_threshold', '0.05', '--path_to_motif_annotations', '/data2st1/junyi/scenic/mouse/motif/motifs-v10nr_clust-nr.mgi-m0.001-o0.0.tbl', '--output_folder', '/data1st2/hannan_25/data/Nanopore_process/nanopore_08_differential/summary/dmr_sets/cistarget/', '--write_html']\n"
     ]
    },
    {
     "name": "stderr",
     "output_type": "stream",
     "text": [
      "/home/junyichen/code/pycistarget/src/pycistarget/__init__.py:1: UserWarning: pkg_resources is deprecated as an API. See https://setuptools.pypa.io/en/latest/pkg_resources.html. The pkg_resources package is slated for removal as early as 2025-11-30. Refrain from using this package or pin to Setuptools<81.\n",
      "  from pkg_resources import get_distribution, DistributionNotFound\n"
     ]
    },
    {
     "name": "stdout",
     "output_type": "stream",
     "text": [
      "2025-06-24 20:06:47,818 cisTarget    INFO     Reading cisTarget database\n"
     ]
    },
    {
     "name": "stderr",
     "output_type": "stream",
     "text": [
      "Traceback (most recent call last):\n",
      "  File \"/home/junyichen/anaconda3/envs/snapatac2/bin/pycistarget\", line 8, in <module>\n",
      "    sys.exit(main())\n",
      "  File \"/home/junyichen/code/pycistarget/src/pycistarget/cli/pycistarget.py\", line 586, in main\n",
      "    args.func(args)\n",
      "  File \"/home/junyichen/code/pycistarget/src/pycistarget/cli/pycistarget.py\", line 69, in cistarget\n",
      "    run_cistarget_command(\n",
      "  File \"/home/junyichen/code/pycistarget/src/pycistarget/cli/commands.py\", line 93, in run_cistarget_command\n",
      "    ctx_db = cisTargetDatabase(\n",
      "  File \"/home/junyichen/code/pycistarget/src/pycistarget/motif_enrichment_cistarget.py\", line 55, in __init__\n",
      "    self.regions_to_db, self.db_rankings, self.total_regions = self.load_db(fname,\n",
      "  File \"/home/junyichen/code/pycistarget/src/pycistarget/motif_enrichment_cistarget.py\", line 111, in load_db\n",
      "    target_to_db = target_to_query(region_sets, list(db_regions), fraction_overlap = fraction_overlap)\n",
      "  File \"/home/junyichen/code/pycistarget/src/pycistarget/utils.py\", line 286, in target_to_query\n",
      "    raise ValueError(\n",
      "ValueError: \n",
      "            None of the regions in the bed file overlap with the cistarget database. \n",
      "            Check wether the chromosome names of the input regions are correctly \n",
      "            formatted and that you are using the correct database.\n",
      "            \n"
     ]
    },
    {
     "name": "stdout",
     "output_type": "stream",
     "text": [
      "['pycistarget', 'cistarget', '--cistarget_db_fname', '/data2st1/junyi/scenic/mouse/motif/mm10_screen_v10_clust.regions_vs_motifs.rankings.feather', '--bed_fname', '/data1st2/hannan_25/data/Nanopore_process/nanopore_08_differential/summary/dmr_sets/FC-HIP_vs_FW-HIP.5hmC.CG.up.dmr_2tools.bed', '--species', 'mus_musculus', '--auc_threshold', '0.005', '--nes_threshold', '3.0', '--rank_threshold', '0.05', '--path_to_motif_annotations', '/data2st1/junyi/scenic/mouse/motif/motifs-v10nr_clust-nr.mgi-m0.001-o0.0.tbl', '--output_folder', '/data1st2/hannan_25/data/Nanopore_process/nanopore_08_differential/summary/dmr_sets/cistarget/', '--write_html']\n"
     ]
    },
    {
     "name": "stderr",
     "output_type": "stream",
     "text": [
      "/home/junyichen/code/pycistarget/src/pycistarget/__init__.py:1: UserWarning: pkg_resources is deprecated as an API. See https://setuptools.pypa.io/en/latest/pkg_resources.html. The pkg_resources package is slated for removal as early as 2025-11-30. Refrain from using this package or pin to Setuptools<81.\n",
      "  from pkg_resources import get_distribution, DistributionNotFound\n"
     ]
    },
    {
     "name": "stdout",
     "output_type": "stream",
     "text": [
      "2025-06-24 20:06:56,569 cisTarget    INFO     Reading cisTarget database\n"
     ]
    },
    {
     "name": "stderr",
     "output_type": "stream",
     "text": [
      "Traceback (most recent call last):\n",
      "  File \"/home/junyichen/anaconda3/envs/snapatac2/bin/pycistarget\", line 8, in <module>\n",
      "    sys.exit(main())\n",
      "  File \"/home/junyichen/code/pycistarget/src/pycistarget/cli/pycistarget.py\", line 586, in main\n",
      "    args.func(args)\n",
      "  File \"/home/junyichen/code/pycistarget/src/pycistarget/cli/pycistarget.py\", line 69, in cistarget\n",
      "    run_cistarget_command(\n",
      "  File \"/home/junyichen/code/pycistarget/src/pycistarget/cli/commands.py\", line 93, in run_cistarget_command\n",
      "    ctx_db = cisTargetDatabase(\n",
      "  File \"/home/junyichen/code/pycistarget/src/pycistarget/motif_enrichment_cistarget.py\", line 55, in __init__\n",
      "    self.regions_to_db, self.db_rankings, self.total_regions = self.load_db(fname,\n",
      "  File \"/home/junyichen/code/pycistarget/src/pycistarget/motif_enrichment_cistarget.py\", line 111, in load_db\n",
      "    target_to_db = target_to_query(region_sets, list(db_regions), fraction_overlap = fraction_overlap)\n",
      "  File \"/home/junyichen/code/pycistarget/src/pycistarget/utils.py\", line 286, in target_to_query\n",
      "    raise ValueError(\n",
      "ValueError: \n",
      "            None of the regions in the bed file overlap with the cistarget database. \n",
      "            Check wether the chromosome names of the input regions are correctly \n",
      "            formatted and that you are using the correct database.\n",
      "            \n"
     ]
    },
    {
     "name": "stdout",
     "output_type": "stream",
     "text": [
      "['pycistarget', 'cistarget', '--cistarget_db_fname', '/data2st1/junyi/scenic/mouse/motif/mm10_screen_v10_clust.regions_vs_motifs.rankings.feather', '--bed_fname', '/data1st2/hannan_25/data/Nanopore_process/nanopore_08_differential/summary/dmr_sets/MC-AMY_vs_MW-AMY.dmr_2tools.bed', '--species', 'mus_musculus', '--auc_threshold', '0.005', '--nes_threshold', '3.0', '--rank_threshold', '0.05', '--path_to_motif_annotations', '/data2st1/junyi/scenic/mouse/motif/motifs-v10nr_clust-nr.mgi-m0.001-o0.0.tbl', '--output_folder', '/data1st2/hannan_25/data/Nanopore_process/nanopore_08_differential/summary/dmr_sets/cistarget/', '--write_html']\n"
     ]
    },
    {
     "name": "stderr",
     "output_type": "stream",
     "text": [
      "/home/junyichen/code/pycistarget/src/pycistarget/__init__.py:1: UserWarning: pkg_resources is deprecated as an API. See https://setuptools.pypa.io/en/latest/pkg_resources.html. The pkg_resources package is slated for removal as early as 2025-11-30. Refrain from using this package or pin to Setuptools<81.\n",
      "  from pkg_resources import get_distribution, DistributionNotFound\n"
     ]
    },
    {
     "name": "stdout",
     "output_type": "stream",
     "text": [
      "2025-06-24 20:07:05,321 cisTarget    INFO     Reading cisTarget database\n",
      "2025-06-24 20:07:14,891 cisTarget    INFO     Running cisTarget for MC-AMY_vs_MW-AMY.dmr_2tools which has 187 regions\n",
      "2025-06-24 20:07:23,971 cisTarget    INFO     Annotating motifs for MC-AMY_vs_MW-AMY.dmr_2tools\n",
      "2025-06-24 20:07:25,355 cisTarget    INFO     Getting cistromes for MC-AMY_vs_MW-AMY.dmr_2tools\n",
      "['pycistarget', 'cistarget', '--cistarget_db_fname', '/data2st1/junyi/scenic/mouse/motif/mm10_screen_v10_clust.regions_vs_motifs.rankings.feather', '--bed_fname', '/data1st2/hannan_25/data/Nanopore_process/nanopore_08_differential/summary/dmr_sets/MC-AMY_vs_MW-AMY.5mC.CN.up.dmr_2tools.bed', '--species', 'mus_musculus', '--auc_threshold', '0.005', '--nes_threshold', '3.0', '--rank_threshold', '0.05', '--path_to_motif_annotations', '/data2st1/junyi/scenic/mouse/motif/motifs-v10nr_clust-nr.mgi-m0.001-o0.0.tbl', '--output_folder', '/data1st2/hannan_25/data/Nanopore_process/nanopore_08_differential/summary/dmr_sets/cistarget/', '--write_html']\n"
     ]
    },
    {
     "name": "stderr",
     "output_type": "stream",
     "text": [
      "/home/junyichen/code/pycistarget/src/pycistarget/__init__.py:1: UserWarning: pkg_resources is deprecated as an API. See https://setuptools.pypa.io/en/latest/pkg_resources.html. The pkg_resources package is slated for removal as early as 2025-11-30. Refrain from using this package or pin to Setuptools<81.\n",
      "  from pkg_resources import get_distribution, DistributionNotFound\n"
     ]
    },
    {
     "name": "stdout",
     "output_type": "stream",
     "text": [
      "2025-06-24 20:07:27,371 cisTarget    INFO     Reading cisTarget database\n"
     ]
    },
    {
     "name": "stderr",
     "output_type": "stream",
     "text": [
      "Traceback (most recent call last):\n",
      "  File \"/home/junyichen/anaconda3/envs/snapatac2/bin/pycistarget\", line 8, in <module>\n",
      "    sys.exit(main())\n",
      "  File \"/home/junyichen/code/pycistarget/src/pycistarget/cli/pycistarget.py\", line 586, in main\n",
      "    args.func(args)\n",
      "  File \"/home/junyichen/code/pycistarget/src/pycistarget/cli/pycistarget.py\", line 69, in cistarget\n",
      "    run_cistarget_command(\n",
      "  File \"/home/junyichen/code/pycistarget/src/pycistarget/cli/commands.py\", line 93, in run_cistarget_command\n",
      "    ctx_db = cisTargetDatabase(\n",
      "  File \"/home/junyichen/code/pycistarget/src/pycistarget/motif_enrichment_cistarget.py\", line 55, in __init__\n",
      "    self.regions_to_db, self.db_rankings, self.total_regions = self.load_db(fname,\n",
      "  File \"/home/junyichen/code/pycistarget/src/pycistarget/motif_enrichment_cistarget.py\", line 111, in load_db\n",
      "    target_to_db = target_to_query(region_sets, list(db_regions), fraction_overlap = fraction_overlap)\n",
      "  File \"/home/junyichen/code/pycistarget/src/pycistarget/utils.py\", line 286, in target_to_query\n",
      "    raise ValueError(\n",
      "ValueError: \n",
      "            None of the regions in the bed file overlap with the cistarget database. \n",
      "            Check wether the chromosome names of the input regions are correctly \n",
      "            formatted and that you are using the correct database.\n",
      "            \n"
     ]
    },
    {
     "name": "stdout",
     "output_type": "stream",
     "text": [
      "['pycistarget', 'cistarget', '--cistarget_db_fname', '/data2st1/junyi/scenic/mouse/motif/mm10_screen_v10_clust.regions_vs_motifs.rankings.feather', '--bed_fname', '/data1st2/hannan_25/data/Nanopore_process/nanopore_08_differential/summary/dmr_sets/FC-AMY_vs_FW-AMY.5mC.CG.down.dmr_2tools.bed', '--species', 'mus_musculus', '--auc_threshold', '0.005', '--nes_threshold', '3.0', '--rank_threshold', '0.05', '--path_to_motif_annotations', '/data2st1/junyi/scenic/mouse/motif/motifs-v10nr_clust-nr.mgi-m0.001-o0.0.tbl', '--output_folder', '/data1st2/hannan_25/data/Nanopore_process/nanopore_08_differential/summary/dmr_sets/cistarget/', '--write_html']\n"
     ]
    },
    {
     "name": "stderr",
     "output_type": "stream",
     "text": [
      "/home/junyichen/code/pycistarget/src/pycistarget/__init__.py:1: UserWarning: pkg_resources is deprecated as an API. See https://setuptools.pypa.io/en/latest/pkg_resources.html. The pkg_resources package is slated for removal as early as 2025-11-30. Refrain from using this package or pin to Setuptools<81.\n",
      "  from pkg_resources import get_distribution, DistributionNotFound\n"
     ]
    },
    {
     "name": "stdout",
     "output_type": "stream",
     "text": [
      "2025-06-24 20:07:36,138 cisTarget    INFO     Reading cisTarget database\n",
      "2025-06-24 20:07:45,694 cisTarget    INFO     Running cisTarget for FC-AMY_vs_FW-AMY.5mC.CG.down.dmr_2tools which has 42 regions\n",
      "2025-06-24 20:07:55,106 cisTarget    INFO     Annotating motifs for FC-AMY_vs_FW-AMY.5mC.CG.down.dmr_2tools\n",
      "2025-06-24 20:07:56,514 cisTarget    INFO     Getting cistromes for FC-AMY_vs_FW-AMY.5mC.CG.down.dmr_2tools\n",
      "['pycistarget', 'cistarget', '--cistarget_db_fname', '/data2st1/junyi/scenic/mouse/motif/mm10_screen_v10_clust.regions_vs_motifs.rankings.feather', '--bed_fname', '/data1st2/hannan_25/data/Nanopore_process/nanopore_08_differential/summary/dmr_sets/FC-HIP_vs_FW-HIP.5hmC.CG.down.dmr_2tools.bed', '--species', 'mus_musculus', '--auc_threshold', '0.005', '--nes_threshold', '3.0', '--rank_threshold', '0.05', '--path_to_motif_annotations', '/data2st1/junyi/scenic/mouse/motif/motifs-v10nr_clust-nr.mgi-m0.001-o0.0.tbl', '--output_folder', '/data1st2/hannan_25/data/Nanopore_process/nanopore_08_differential/summary/dmr_sets/cistarget/', '--write_html']\n"
     ]
    },
    {
     "name": "stderr",
     "output_type": "stream",
     "text": [
      "/home/junyichen/code/pycistarget/src/pycistarget/__init__.py:1: UserWarning: pkg_resources is deprecated as an API. See https://setuptools.pypa.io/en/latest/pkg_resources.html. The pkg_resources package is slated for removal as early as 2025-11-30. Refrain from using this package or pin to Setuptools<81.\n",
      "  from pkg_resources import get_distribution, DistributionNotFound\n"
     ]
    },
    {
     "name": "stdout",
     "output_type": "stream",
     "text": [
      "2025-06-24 20:07:58,765 cisTarget    INFO     Reading cisTarget database\n",
      "2025-06-24 20:08:07,993 cisTarget    INFO     Running cisTarget for FC-HIP_vs_FW-HIP.5hmC.CG.down.dmr_2tools which has 3 regions\n",
      "2025-06-24 20:08:17,223 cisTarget    INFO     Annotating motifs for FC-HIP_vs_FW-HIP.5hmC.CG.down.dmr_2tools\n",
      "2025-06-24 20:08:18,594 cisTarget    INFO     Getting cistromes for FC-HIP_vs_FW-HIP.5hmC.CG.down.dmr_2tools\n",
      "['pycistarget', 'cistarget', '--cistarget_db_fname', '/data2st1/junyi/scenic/mouse/motif/mm10_screen_v10_clust.regions_vs_motifs.rankings.feather', '--bed_fname', '/data1st2/hannan_25/data/Nanopore_process/nanopore_08_differential/summary/dmr_sets/FC-PFC_vs_FW-PFC.5mC.up.dmr_2tools.bed', '--species', 'mus_musculus', '--auc_threshold', '0.005', '--nes_threshold', '3.0', '--rank_threshold', '0.05', '--path_to_motif_annotations', '/data2st1/junyi/scenic/mouse/motif/motifs-v10nr_clust-nr.mgi-m0.001-o0.0.tbl', '--output_folder', '/data1st2/hannan_25/data/Nanopore_process/nanopore_08_differential/summary/dmr_sets/cistarget/', '--write_html']\n"
     ]
    },
    {
     "name": "stderr",
     "output_type": "stream",
     "text": [
      "/home/junyichen/code/pycistarget/src/pycistarget/__init__.py:1: UserWarning: pkg_resources is deprecated as an API. See https://setuptools.pypa.io/en/latest/pkg_resources.html. The pkg_resources package is slated for removal as early as 2025-11-30. Refrain from using this package or pin to Setuptools<81.\n",
      "  from pkg_resources import get_distribution, DistributionNotFound\n"
     ]
    },
    {
     "name": "stdout",
     "output_type": "stream",
     "text": [
      "2025-06-24 20:08:20,791 cisTarget    INFO     Reading cisTarget database\n",
      "2025-06-24 20:08:30,021 cisTarget    INFO     Running cisTarget for FC-PFC_vs_FW-PFC.5mC.up.dmr_2tools which has 86 regions\n",
      "2025-06-24 20:08:39,274 cisTarget    INFO     Annotating motifs for FC-PFC_vs_FW-PFC.5mC.up.dmr_2tools\n",
      "2025-06-24 20:08:40,704 cisTarget    INFO     Getting cistromes for FC-PFC_vs_FW-PFC.5mC.up.dmr_2tools\n",
      "['pycistarget', 'cistarget', '--cistarget_db_fname', '/data2st1/junyi/scenic/mouse/motif/mm10_screen_v10_clust.regions_vs_motifs.rankings.feather', '--bed_fname', '/data1st2/hannan_25/data/Nanopore_process/nanopore_08_differential/summary/dmr_sets/MC-HIP_vs_MW-HIP.5hmC.CH.down.dmr_2tools.bed', '--species', 'mus_musculus', '--auc_threshold', '0.005', '--nes_threshold', '3.0', '--rank_threshold', '0.05', '--path_to_motif_annotations', '/data2st1/junyi/scenic/mouse/motif/motifs-v10nr_clust-nr.mgi-m0.001-o0.0.tbl', '--output_folder', '/data1st2/hannan_25/data/Nanopore_process/nanopore_08_differential/summary/dmr_sets/cistarget/', '--write_html']\n"
     ]
    },
    {
     "name": "stderr",
     "output_type": "stream",
     "text": [
      "/home/junyichen/code/pycistarget/src/pycistarget/__init__.py:1: UserWarning: pkg_resources is deprecated as an API. See https://setuptools.pypa.io/en/latest/pkg_resources.html. The pkg_resources package is slated for removal as early as 2025-11-30. Refrain from using this package or pin to Setuptools<81.\n",
      "  from pkg_resources import get_distribution, DistributionNotFound\n"
     ]
    },
    {
     "name": "stdout",
     "output_type": "stream",
     "text": [
      "2025-06-24 20:08:42,931 cisTarget    INFO     Reading cisTarget database\n"
     ]
    },
    {
     "name": "stderr",
     "output_type": "stream",
     "text": [
      "Traceback (most recent call last):\n",
      "  File \"/home/junyichen/anaconda3/envs/snapatac2/bin/pycistarget\", line 8, in <module>\n",
      "    sys.exit(main())\n",
      "  File \"/home/junyichen/code/pycistarget/src/pycistarget/cli/pycistarget.py\", line 586, in main\n",
      "    args.func(args)\n",
      "  File \"/home/junyichen/code/pycistarget/src/pycistarget/cli/pycistarget.py\", line 69, in cistarget\n",
      "    run_cistarget_command(\n",
      "  File \"/home/junyichen/code/pycistarget/src/pycistarget/cli/commands.py\", line 93, in run_cistarget_command\n",
      "    ctx_db = cisTargetDatabase(\n",
      "  File \"/home/junyichen/code/pycistarget/src/pycistarget/motif_enrichment_cistarget.py\", line 55, in __init__\n",
      "    self.regions_to_db, self.db_rankings, self.total_regions = self.load_db(fname,\n",
      "  File \"/home/junyichen/code/pycistarget/src/pycistarget/motif_enrichment_cistarget.py\", line 111, in load_db\n",
      "    target_to_db = target_to_query(region_sets, list(db_regions), fraction_overlap = fraction_overlap)\n",
      "  File \"/home/junyichen/code/pycistarget/src/pycistarget/utils.py\", line 286, in target_to_query\n",
      "    raise ValueError(\n",
      "ValueError: \n",
      "            None of the regions in the bed file overlap with the cistarget database. \n",
      "            Check wether the chromosome names of the input regions are correctly \n",
      "            formatted and that you are using the correct database.\n",
      "            \n"
     ]
    },
    {
     "name": "stdout",
     "output_type": "stream",
     "text": [
      "['pycistarget', 'cistarget', '--cistarget_db_fname', '/data2st1/junyi/scenic/mouse/motif/mm10_screen_v10_clust.regions_vs_motifs.rankings.feather', '--bed_fname', '/data1st2/hannan_25/data/Nanopore_process/nanopore_08_differential/summary/dmr_sets/FC-HIP_vs_FW-HIP.5mC.CN.down.dmr_2tools.bed', '--species', 'mus_musculus', '--auc_threshold', '0.005', '--nes_threshold', '3.0', '--rank_threshold', '0.05', '--path_to_motif_annotations', '/data2st1/junyi/scenic/mouse/motif/motifs-v10nr_clust-nr.mgi-m0.001-o0.0.tbl', '--output_folder', '/data1st2/hannan_25/data/Nanopore_process/nanopore_08_differential/summary/dmr_sets/cistarget/', '--write_html']\n"
     ]
    },
    {
     "name": "stderr",
     "output_type": "stream",
     "text": [
      "/home/junyichen/code/pycistarget/src/pycistarget/__init__.py:1: UserWarning: pkg_resources is deprecated as an API. See https://setuptools.pypa.io/en/latest/pkg_resources.html. The pkg_resources package is slated for removal as early as 2025-11-30. Refrain from using this package or pin to Setuptools<81.\n",
      "  from pkg_resources import get_distribution, DistributionNotFound\n"
     ]
    },
    {
     "name": "stdout",
     "output_type": "stream",
     "text": [
      "2025-06-24 20:08:51,674 cisTarget    INFO     Reading cisTarget database\n"
     ]
    },
    {
     "name": "stderr",
     "output_type": "stream",
     "text": [
      "Traceback (most recent call last):\n",
      "  File \"/home/junyichen/anaconda3/envs/snapatac2/bin/pycistarget\", line 8, in <module>\n",
      "    sys.exit(main())\n",
      "  File \"/home/junyichen/code/pycistarget/src/pycistarget/cli/pycistarget.py\", line 586, in main\n",
      "    args.func(args)\n",
      "  File \"/home/junyichen/code/pycistarget/src/pycistarget/cli/pycistarget.py\", line 69, in cistarget\n",
      "    run_cistarget_command(\n",
      "  File \"/home/junyichen/code/pycistarget/src/pycistarget/cli/commands.py\", line 93, in run_cistarget_command\n",
      "    ctx_db = cisTargetDatabase(\n",
      "  File \"/home/junyichen/code/pycistarget/src/pycistarget/motif_enrichment_cistarget.py\", line 55, in __init__\n",
      "    self.regions_to_db, self.db_rankings, self.total_regions = self.load_db(fname,\n",
      "  File \"/home/junyichen/code/pycistarget/src/pycistarget/motif_enrichment_cistarget.py\", line 111, in load_db\n",
      "    target_to_db = target_to_query(region_sets, list(db_regions), fraction_overlap = fraction_overlap)\n",
      "  File \"/home/junyichen/code/pycistarget/src/pycistarget/utils.py\", line 286, in target_to_query\n",
      "    raise ValueError(\n",
      "ValueError: \n",
      "            None of the regions in the bed file overlap with the cistarget database. \n",
      "            Check wether the chromosome names of the input regions are correctly \n",
      "            formatted and that you are using the correct database.\n",
      "            \n"
     ]
    },
    {
     "name": "stdout",
     "output_type": "stream",
     "text": [
      "['pycistarget', 'cistarget', '--cistarget_db_fname', '/data2st1/junyi/scenic/mouse/motif/mm10_screen_v10_clust.regions_vs_motifs.rankings.feather', '--bed_fname', '/data1st2/hannan_25/data/Nanopore_process/nanopore_08_differential/summary/dmr_sets/FC-PFC_vs_FW-PFC.5mC.CH.down.dmr_2tools.bed', '--species', 'mus_musculus', '--auc_threshold', '0.005', '--nes_threshold', '3.0', '--rank_threshold', '0.05', '--path_to_motif_annotations', '/data2st1/junyi/scenic/mouse/motif/motifs-v10nr_clust-nr.mgi-m0.001-o0.0.tbl', '--output_folder', '/data1st2/hannan_25/data/Nanopore_process/nanopore_08_differential/summary/dmr_sets/cistarget/', '--write_html']\n"
     ]
    },
    {
     "name": "stderr",
     "output_type": "stream",
     "text": [
      "/home/junyichen/code/pycistarget/src/pycistarget/__init__.py:1: UserWarning: pkg_resources is deprecated as an API. See https://setuptools.pypa.io/en/latest/pkg_resources.html. The pkg_resources package is slated for removal as early as 2025-11-30. Refrain from using this package or pin to Setuptools<81.\n",
      "  from pkg_resources import get_distribution, DistributionNotFound\n"
     ]
    },
    {
     "name": "stdout",
     "output_type": "stream",
     "text": [
      "2025-06-24 20:09:00,442 cisTarget    INFO     Reading cisTarget database\n"
     ]
    },
    {
     "name": "stderr",
     "output_type": "stream",
     "text": [
      "Traceback (most recent call last):\n",
      "  File \"/home/junyichen/anaconda3/envs/snapatac2/bin/pycistarget\", line 8, in <module>\n",
      "    sys.exit(main())\n",
      "  File \"/home/junyichen/code/pycistarget/src/pycistarget/cli/pycistarget.py\", line 586, in main\n",
      "    args.func(args)\n",
      "  File \"/home/junyichen/code/pycistarget/src/pycistarget/cli/pycistarget.py\", line 69, in cistarget\n",
      "    run_cistarget_command(\n",
      "  File \"/home/junyichen/code/pycistarget/src/pycistarget/cli/commands.py\", line 93, in run_cistarget_command\n",
      "    ctx_db = cisTargetDatabase(\n",
      "  File \"/home/junyichen/code/pycistarget/src/pycistarget/motif_enrichment_cistarget.py\", line 55, in __init__\n",
      "    self.regions_to_db, self.db_rankings, self.total_regions = self.load_db(fname,\n",
      "  File \"/home/junyichen/code/pycistarget/src/pycistarget/motif_enrichment_cistarget.py\", line 111, in load_db\n",
      "    target_to_db = target_to_query(region_sets, list(db_regions), fraction_overlap = fraction_overlap)\n",
      "  File \"/home/junyichen/code/pycistarget/src/pycistarget/utils.py\", line 286, in target_to_query\n",
      "    raise ValueError(\n",
      "ValueError: \n",
      "            None of the regions in the bed file overlap with the cistarget database. \n",
      "            Check wether the chromosome names of the input regions are correctly \n",
      "            formatted and that you are using the correct database.\n",
      "            \n"
     ]
    },
    {
     "name": "stdout",
     "output_type": "stream",
     "text": [
      "['pycistarget', 'cistarget', '--cistarget_db_fname', '/data2st1/junyi/scenic/mouse/motif/mm10_screen_v10_clust.regions_vs_motifs.rankings.feather', '--bed_fname', '/data1st2/hannan_25/data/Nanopore_process/nanopore_08_differential/summary/dmr_sets/MC-PFC_vs_MW-PFC.5hmC.down.dmr_2tools.bed', '--species', 'mus_musculus', '--auc_threshold', '0.005', '--nes_threshold', '3.0', '--rank_threshold', '0.05', '--path_to_motif_annotations', '/data2st1/junyi/scenic/mouse/motif/motifs-v10nr_clust-nr.mgi-m0.001-o0.0.tbl', '--output_folder', '/data1st2/hannan_25/data/Nanopore_process/nanopore_08_differential/summary/dmr_sets/cistarget/', '--write_html']\n"
     ]
    },
    {
     "name": "stderr",
     "output_type": "stream",
     "text": [
      "/home/junyichen/code/pycistarget/src/pycistarget/__init__.py:1: UserWarning: pkg_resources is deprecated as an API. See https://setuptools.pypa.io/en/latest/pkg_resources.html. The pkg_resources package is slated for removal as early as 2025-11-30. Refrain from using this package or pin to Setuptools<81.\n",
      "  from pkg_resources import get_distribution, DistributionNotFound\n"
     ]
    },
    {
     "name": "stdout",
     "output_type": "stream",
     "text": [
      "2025-06-24 20:09:09,225 cisTarget    INFO     Reading cisTarget database\n"
     ]
    },
    {
     "name": "stderr",
     "output_type": "stream",
     "text": [
      "Traceback (most recent call last):\n",
      "  File \"/home/junyichen/anaconda3/envs/snapatac2/bin/pycistarget\", line 8, in <module>\n",
      "    sys.exit(main())\n",
      "  File \"/home/junyichen/code/pycistarget/src/pycistarget/cli/pycistarget.py\", line 586, in main\n",
      "    args.func(args)\n",
      "  File \"/home/junyichen/code/pycistarget/src/pycistarget/cli/pycistarget.py\", line 69, in cistarget\n",
      "    run_cistarget_command(\n",
      "  File \"/home/junyichen/code/pycistarget/src/pycistarget/cli/commands.py\", line 93, in run_cistarget_command\n",
      "    ctx_db = cisTargetDatabase(\n",
      "  File \"/home/junyichen/code/pycistarget/src/pycistarget/motif_enrichment_cistarget.py\", line 55, in __init__\n",
      "    self.regions_to_db, self.db_rankings, self.total_regions = self.load_db(fname,\n",
      "  File \"/home/junyichen/code/pycistarget/src/pycistarget/motif_enrichment_cistarget.py\", line 111, in load_db\n",
      "    target_to_db = target_to_query(region_sets, list(db_regions), fraction_overlap = fraction_overlap)\n",
      "  File \"/home/junyichen/code/pycistarget/src/pycistarget/utils.py\", line 286, in target_to_query\n",
      "    raise ValueError(\n",
      "ValueError: \n",
      "            None of the regions in the bed file overlap with the cistarget database. \n",
      "            Check wether the chromosome names of the input regions are correctly \n",
      "            formatted and that you are using the correct database.\n",
      "            \n"
     ]
    },
    {
     "name": "stdout",
     "output_type": "stream",
     "text": [
      "['pycistarget', 'cistarget', '--cistarget_db_fname', '/data2st1/junyi/scenic/mouse/motif/mm10_screen_v10_clust.regions_vs_motifs.rankings.feather', '--bed_fname', '/data1st2/hannan_25/data/Nanopore_process/nanopore_08_differential/summary/dmr_sets/FC-HIP_vs_FW-HIP.5mC.CN.up.dmr_2tools.bed', '--species', 'mus_musculus', '--auc_threshold', '0.005', '--nes_threshold', '3.0', '--rank_threshold', '0.05', '--path_to_motif_annotations', '/data2st1/junyi/scenic/mouse/motif/motifs-v10nr_clust-nr.mgi-m0.001-o0.0.tbl', '--output_folder', '/data1st2/hannan_25/data/Nanopore_process/nanopore_08_differential/summary/dmr_sets/cistarget/', '--write_html']\n"
     ]
    },
    {
     "name": "stderr",
     "output_type": "stream",
     "text": [
      "/home/junyichen/code/pycistarget/src/pycistarget/__init__.py:1: UserWarning: pkg_resources is deprecated as an API. See https://setuptools.pypa.io/en/latest/pkg_resources.html. The pkg_resources package is slated for removal as early as 2025-11-30. Refrain from using this package or pin to Setuptools<81.\n",
      "  from pkg_resources import get_distribution, DistributionNotFound\n"
     ]
    },
    {
     "name": "stdout",
     "output_type": "stream",
     "text": [
      "2025-06-24 20:09:18,086 cisTarget    INFO     Reading cisTarget database\n"
     ]
    },
    {
     "name": "stderr",
     "output_type": "stream",
     "text": [
      "Traceback (most recent call last):\n",
      "  File \"/home/junyichen/anaconda3/envs/snapatac2/bin/pycistarget\", line 8, in <module>\n",
      "    sys.exit(main())\n",
      "  File \"/home/junyichen/code/pycistarget/src/pycistarget/cli/pycistarget.py\", line 586, in main\n",
      "    args.func(args)\n",
      "  File \"/home/junyichen/code/pycistarget/src/pycistarget/cli/pycistarget.py\", line 69, in cistarget\n",
      "    run_cistarget_command(\n",
      "  File \"/home/junyichen/code/pycistarget/src/pycistarget/cli/commands.py\", line 93, in run_cistarget_command\n",
      "    ctx_db = cisTargetDatabase(\n",
      "  File \"/home/junyichen/code/pycistarget/src/pycistarget/motif_enrichment_cistarget.py\", line 55, in __init__\n",
      "    self.regions_to_db, self.db_rankings, self.total_regions = self.load_db(fname,\n",
      "  File \"/home/junyichen/code/pycistarget/src/pycistarget/motif_enrichment_cistarget.py\", line 111, in load_db\n",
      "    target_to_db = target_to_query(region_sets, list(db_regions), fraction_overlap = fraction_overlap)\n",
      "  File \"/home/junyichen/code/pycistarget/src/pycistarget/utils.py\", line 286, in target_to_query\n",
      "    raise ValueError(\n",
      "ValueError: \n",
      "            None of the regions in the bed file overlap with the cistarget database. \n",
      "            Check wether the chromosome names of the input regions are correctly \n",
      "            formatted and that you are using the correct database.\n",
      "            \n"
     ]
    },
    {
     "name": "stdout",
     "output_type": "stream",
     "text": [
      "['pycistarget', 'cistarget', '--cistarget_db_fname', '/data2st1/junyi/scenic/mouse/motif/mm10_screen_v10_clust.regions_vs_motifs.rankings.feather', '--bed_fname', '/data1st2/hannan_25/data/Nanopore_process/nanopore_08_differential/summary/dmr_sets/FC-HIP_vs_FW-HIP.5hmC.CN.up.dmr_2tools.bed', '--species', 'mus_musculus', '--auc_threshold', '0.005', '--nes_threshold', '3.0', '--rank_threshold', '0.05', '--path_to_motif_annotations', '/data2st1/junyi/scenic/mouse/motif/motifs-v10nr_clust-nr.mgi-m0.001-o0.0.tbl', '--output_folder', '/data1st2/hannan_25/data/Nanopore_process/nanopore_08_differential/summary/dmr_sets/cistarget/', '--write_html']\n"
     ]
    },
    {
     "name": "stderr",
     "output_type": "stream",
     "text": [
      "/home/junyichen/code/pycistarget/src/pycistarget/__init__.py:1: UserWarning: pkg_resources is deprecated as an API. See https://setuptools.pypa.io/en/latest/pkg_resources.html. The pkg_resources package is slated for removal as early as 2025-11-30. Refrain from using this package or pin to Setuptools<81.\n",
      "  from pkg_resources import get_distribution, DistributionNotFound\n"
     ]
    },
    {
     "name": "stdout",
     "output_type": "stream",
     "text": [
      "2025-06-24 20:09:26,811 cisTarget    INFO     Reading cisTarget database\n"
     ]
    },
    {
     "name": "stderr",
     "output_type": "stream",
     "text": [
      "Traceback (most recent call last):\n",
      "  File \"/home/junyichen/anaconda3/envs/snapatac2/bin/pycistarget\", line 8, in <module>\n",
      "    sys.exit(main())\n",
      "  File \"/home/junyichen/code/pycistarget/src/pycistarget/cli/pycistarget.py\", line 586, in main\n",
      "    args.func(args)\n",
      "  File \"/home/junyichen/code/pycistarget/src/pycistarget/cli/pycistarget.py\", line 69, in cistarget\n",
      "    run_cistarget_command(\n",
      "  File \"/home/junyichen/code/pycistarget/src/pycistarget/cli/commands.py\", line 93, in run_cistarget_command\n",
      "    ctx_db = cisTargetDatabase(\n",
      "  File \"/home/junyichen/code/pycistarget/src/pycistarget/motif_enrichment_cistarget.py\", line 55, in __init__\n",
      "    self.regions_to_db, self.db_rankings, self.total_regions = self.load_db(fname,\n",
      "  File \"/home/junyichen/code/pycistarget/src/pycistarget/motif_enrichment_cistarget.py\", line 111, in load_db\n",
      "    target_to_db = target_to_query(region_sets, list(db_regions), fraction_overlap = fraction_overlap)\n",
      "  File \"/home/junyichen/code/pycistarget/src/pycistarget/utils.py\", line 286, in target_to_query\n",
      "    raise ValueError(\n",
      "ValueError: \n",
      "            None of the regions in the bed file overlap with the cistarget database. \n",
      "            Check wether the chromosome names of the input regions are correctly \n",
      "            formatted and that you are using the correct database.\n",
      "            \n"
     ]
    },
    {
     "name": "stdout",
     "output_type": "stream",
     "text": [
      "['pycistarget', 'cistarget', '--cistarget_db_fname', '/data2st1/junyi/scenic/mouse/motif/mm10_screen_v10_clust.regions_vs_motifs.rankings.feather', '--bed_fname', '/data1st2/hannan_25/data/Nanopore_process/nanopore_08_differential/summary/dmr_sets/MC-AMY_vs_MW-AMY.5mC.CG.up.dmr_2tools.bed', '--species', 'mus_musculus', '--auc_threshold', '0.005', '--nes_threshold', '3.0', '--rank_threshold', '0.05', '--path_to_motif_annotations', '/data2st1/junyi/scenic/mouse/motif/motifs-v10nr_clust-nr.mgi-m0.001-o0.0.tbl', '--output_folder', '/data1st2/hannan_25/data/Nanopore_process/nanopore_08_differential/summary/dmr_sets/cistarget/', '--write_html']\n"
     ]
    },
    {
     "name": "stderr",
     "output_type": "stream",
     "text": [
      "/home/junyichen/code/pycistarget/src/pycistarget/__init__.py:1: UserWarning: pkg_resources is deprecated as an API. See https://setuptools.pypa.io/en/latest/pkg_resources.html. The pkg_resources package is slated for removal as early as 2025-11-30. Refrain from using this package or pin to Setuptools<81.\n",
      "  from pkg_resources import get_distribution, DistributionNotFound\n"
     ]
    },
    {
     "name": "stdout",
     "output_type": "stream",
     "text": [
      "2025-06-24 20:09:35,543 cisTarget    INFO     Reading cisTarget database\n",
      "2025-06-24 20:09:44,822 cisTarget    INFO     Running cisTarget for MC-AMY_vs_MW-AMY.5mC.CG.up.dmr_2tools which has 122 regions\n",
      "2025-06-24 20:09:53,935 cisTarget    INFO     Annotating motifs for MC-AMY_vs_MW-AMY.5mC.CG.up.dmr_2tools\n",
      "2025-06-24 20:09:55,330 cisTarget    INFO     Getting cistromes for MC-AMY_vs_MW-AMY.5mC.CG.up.dmr_2tools\n",
      "['pycistarget', 'cistarget', '--cistarget_db_fname', '/data2st1/junyi/scenic/mouse/motif/mm10_screen_v10_clust.regions_vs_motifs.rankings.feather', '--bed_fname', '/data1st2/hannan_25/data/Nanopore_process/nanopore_08_differential/summary/dmr_sets/FC-HIP_vs_FW-HIP.5mC.up.dmr_2tools.bed', '--species', 'mus_musculus', '--auc_threshold', '0.005', '--nes_threshold', '3.0', '--rank_threshold', '0.05', '--path_to_motif_annotations', '/data2st1/junyi/scenic/mouse/motif/motifs-v10nr_clust-nr.mgi-m0.001-o0.0.tbl', '--output_folder', '/data1st2/hannan_25/data/Nanopore_process/nanopore_08_differential/summary/dmr_sets/cistarget/', '--write_html']\n"
     ]
    },
    {
     "name": "stderr",
     "output_type": "stream",
     "text": [
      "/home/junyichen/code/pycistarget/src/pycistarget/__init__.py:1: UserWarning: pkg_resources is deprecated as an API. See https://setuptools.pypa.io/en/latest/pkg_resources.html. The pkg_resources package is slated for removal as early as 2025-11-30. Refrain from using this package or pin to Setuptools<81.\n",
      "  from pkg_resources import get_distribution, DistributionNotFound\n"
     ]
    },
    {
     "name": "stdout",
     "output_type": "stream",
     "text": [
      "2025-06-24 20:09:57,454 cisTarget    INFO     Reading cisTarget database\n",
      "2025-06-24 20:10:06,748 cisTarget    INFO     Running cisTarget for FC-HIP_vs_FW-HIP.5mC.up.dmr_2tools which has 69 regions\n",
      "2025-06-24 20:10:15,932 cisTarget    INFO     Annotating motifs for FC-HIP_vs_FW-HIP.5mC.up.dmr_2tools\n",
      "2025-06-24 20:10:17,284 cisTarget    INFO     Getting cistromes for FC-HIP_vs_FW-HIP.5mC.up.dmr_2tools\n",
      "['pycistarget', 'cistarget', '--cistarget_db_fname', '/data2st1/junyi/scenic/mouse/motif/mm10_screen_v10_clust.regions_vs_motifs.rankings.feather', '--bed_fname', '/data1st2/hannan_25/data/Nanopore_process/nanopore_08_differential/summary/dmr_sets/FC-PFC_vs_FW-PFC.5mC.CN.down.dmr_2tools.bed', '--species', 'mus_musculus', '--auc_threshold', '0.005', '--nes_threshold', '3.0', '--rank_threshold', '0.05', '--path_to_motif_annotations', '/data2st1/junyi/scenic/mouse/motif/motifs-v10nr_clust-nr.mgi-m0.001-o0.0.tbl', '--output_folder', '/data1st2/hannan_25/data/Nanopore_process/nanopore_08_differential/summary/dmr_sets/cistarget/', '--write_html']\n"
     ]
    },
    {
     "name": "stderr",
     "output_type": "stream",
     "text": [
      "/home/junyichen/code/pycistarget/src/pycistarget/__init__.py:1: UserWarning: pkg_resources is deprecated as an API. See https://setuptools.pypa.io/en/latest/pkg_resources.html. The pkg_resources package is slated for removal as early as 2025-11-30. Refrain from using this package or pin to Setuptools<81.\n",
      "  from pkg_resources import get_distribution, DistributionNotFound\n"
     ]
    },
    {
     "name": "stdout",
     "output_type": "stream",
     "text": [
      "2025-06-24 20:10:19,364 cisTarget    INFO     Reading cisTarget database\n"
     ]
    },
    {
     "name": "stderr",
     "output_type": "stream",
     "text": [
      "Traceback (most recent call last):\n",
      "  File \"/home/junyichen/anaconda3/envs/snapatac2/bin/pycistarget\", line 8, in <module>\n",
      "    sys.exit(main())\n",
      "  File \"/home/junyichen/code/pycistarget/src/pycistarget/cli/pycistarget.py\", line 586, in main\n",
      "    args.func(args)\n",
      "  File \"/home/junyichen/code/pycistarget/src/pycistarget/cli/pycistarget.py\", line 69, in cistarget\n",
      "    run_cistarget_command(\n",
      "  File \"/home/junyichen/code/pycistarget/src/pycistarget/cli/commands.py\", line 93, in run_cistarget_command\n",
      "    ctx_db = cisTargetDatabase(\n",
      "  File \"/home/junyichen/code/pycistarget/src/pycistarget/motif_enrichment_cistarget.py\", line 55, in __init__\n",
      "    self.regions_to_db, self.db_rankings, self.total_regions = self.load_db(fname,\n",
      "  File \"/home/junyichen/code/pycistarget/src/pycistarget/motif_enrichment_cistarget.py\", line 111, in load_db\n",
      "    target_to_db = target_to_query(region_sets, list(db_regions), fraction_overlap = fraction_overlap)\n",
      "  File \"/home/junyichen/code/pycistarget/src/pycistarget/utils.py\", line 286, in target_to_query\n",
      "    raise ValueError(\n",
      "ValueError: \n",
      "            None of the regions in the bed file overlap with the cistarget database. \n",
      "            Check wether the chromosome names of the input regions are correctly \n",
      "            formatted and that you are using the correct database.\n",
      "            \n"
     ]
    },
    {
     "name": "stdout",
     "output_type": "stream",
     "text": [
      "['pycistarget', 'cistarget', '--cistarget_db_fname', '/data2st1/junyi/scenic/mouse/motif/mm10_screen_v10_clust.regions_vs_motifs.rankings.feather', '--bed_fname', '/data1st2/hannan_25/data/Nanopore_process/nanopore_08_differential/summary/dmr_sets/FC-PFC_vs_FW-PFC.5mC.CG.down.dmr_2tools.bed', '--species', 'mus_musculus', '--auc_threshold', '0.005', '--nes_threshold', '3.0', '--rank_threshold', '0.05', '--path_to_motif_annotations', '/data2st1/junyi/scenic/mouse/motif/motifs-v10nr_clust-nr.mgi-m0.001-o0.0.tbl', '--output_folder', '/data1st2/hannan_25/data/Nanopore_process/nanopore_08_differential/summary/dmr_sets/cistarget/', '--write_html']\n"
     ]
    },
    {
     "name": "stderr",
     "output_type": "stream",
     "text": [
      "/home/junyichen/code/pycistarget/src/pycistarget/__init__.py:1: UserWarning: pkg_resources is deprecated as an API. See https://setuptools.pypa.io/en/latest/pkg_resources.html. The pkg_resources package is slated for removal as early as 2025-11-30. Refrain from using this package or pin to Setuptools<81.\n",
      "  from pkg_resources import get_distribution, DistributionNotFound\n"
     ]
    },
    {
     "name": "stdout",
     "output_type": "stream",
     "text": [
      "2025-06-24 20:10:28,134 cisTarget    INFO     Reading cisTarget database\n",
      "2025-06-24 20:10:37,404 cisTarget    INFO     Running cisTarget for FC-PFC_vs_FW-PFC.5mC.CG.down.dmr_2tools which has 51 regions\n",
      "2025-06-24 20:10:46,632 cisTarget    INFO     Annotating motifs for FC-PFC_vs_FW-PFC.5mC.CG.down.dmr_2tools\n",
      "2025-06-24 20:10:48,005 cisTarget    INFO     Getting cistromes for FC-PFC_vs_FW-PFC.5mC.CG.down.dmr_2tools\n",
      "['pycistarget', 'cistarget', '--cistarget_db_fname', '/data2st1/junyi/scenic/mouse/motif/mm10_screen_v10_clust.regions_vs_motifs.rankings.feather', '--bed_fname', '/data1st2/hannan_25/data/Nanopore_process/nanopore_08_differential/summary/dmr_sets/FC-PFC_vs_FW-PFC.5mC.CH.up.dmr_2tools.bed', '--species', 'mus_musculus', '--auc_threshold', '0.005', '--nes_threshold', '3.0', '--rank_threshold', '0.05', '--path_to_motif_annotations', '/data2st1/junyi/scenic/mouse/motif/motifs-v10nr_clust-nr.mgi-m0.001-o0.0.tbl', '--output_folder', '/data1st2/hannan_25/data/Nanopore_process/nanopore_08_differential/summary/dmr_sets/cistarget/', '--write_html']\n"
     ]
    },
    {
     "name": "stderr",
     "output_type": "stream",
     "text": [
      "/home/junyichen/code/pycistarget/src/pycistarget/__init__.py:1: UserWarning: pkg_resources is deprecated as an API. See https://setuptools.pypa.io/en/latest/pkg_resources.html. The pkg_resources package is slated for removal as early as 2025-11-30. Refrain from using this package or pin to Setuptools<81.\n",
      "  from pkg_resources import get_distribution, DistributionNotFound\n"
     ]
    },
    {
     "name": "stdout",
     "output_type": "stream",
     "text": [
      "2025-06-24 20:10:50,114 cisTarget    INFO     Reading cisTarget database\n"
     ]
    },
    {
     "name": "stderr",
     "output_type": "stream",
     "text": [
      "Traceback (most recent call last):\n",
      "  File \"/home/junyichen/anaconda3/envs/snapatac2/bin/pycistarget\", line 8, in <module>\n",
      "    sys.exit(main())\n",
      "  File \"/home/junyichen/code/pycistarget/src/pycistarget/cli/pycistarget.py\", line 586, in main\n",
      "    args.func(args)\n",
      "  File \"/home/junyichen/code/pycistarget/src/pycistarget/cli/pycistarget.py\", line 69, in cistarget\n",
      "    run_cistarget_command(\n",
      "  File \"/home/junyichen/code/pycistarget/src/pycistarget/cli/commands.py\", line 93, in run_cistarget_command\n",
      "    ctx_db = cisTargetDatabase(\n",
      "  File \"/home/junyichen/code/pycistarget/src/pycistarget/motif_enrichment_cistarget.py\", line 55, in __init__\n",
      "    self.regions_to_db, self.db_rankings, self.total_regions = self.load_db(fname,\n",
      "  File \"/home/junyichen/code/pycistarget/src/pycistarget/motif_enrichment_cistarget.py\", line 111, in load_db\n",
      "    target_to_db = target_to_query(region_sets, list(db_regions), fraction_overlap = fraction_overlap)\n",
      "  File \"/home/junyichen/code/pycistarget/src/pycistarget/utils.py\", line 286, in target_to_query\n",
      "    raise ValueError(\n",
      "ValueError: \n",
      "            None of the regions in the bed file overlap with the cistarget database. \n",
      "            Check wether the chromosome names of the input regions are correctly \n",
      "            formatted and that you are using the correct database.\n",
      "            \n"
     ]
    },
    {
     "name": "stdout",
     "output_type": "stream",
     "text": [
      "['pycistarget', 'cistarget', '--cistarget_db_fname', '/data2st1/junyi/scenic/mouse/motif/mm10_screen_v10_clust.regions_vs_motifs.rankings.feather', '--bed_fname', '/data1st2/hannan_25/data/Nanopore_process/nanopore_08_differential/summary/dmr_sets/FC-AMY_vs_FW-AMY.5mC.CN.down.dmr_2tools.bed', '--species', 'mus_musculus', '--auc_threshold', '0.005', '--nes_threshold', '3.0', '--rank_threshold', '0.05', '--path_to_motif_annotations', '/data2st1/junyi/scenic/mouse/motif/motifs-v10nr_clust-nr.mgi-m0.001-o0.0.tbl', '--output_folder', '/data1st2/hannan_25/data/Nanopore_process/nanopore_08_differential/summary/dmr_sets/cistarget/', '--write_html']\n"
     ]
    },
    {
     "name": "stderr",
     "output_type": "stream",
     "text": [
      "/home/junyichen/code/pycistarget/src/pycistarget/__init__.py:1: UserWarning: pkg_resources is deprecated as an API. See https://setuptools.pypa.io/en/latest/pkg_resources.html. The pkg_resources package is slated for removal as early as 2025-11-30. Refrain from using this package or pin to Setuptools<81.\n",
      "  from pkg_resources import get_distribution, DistributionNotFound\n"
     ]
    },
    {
     "name": "stdout",
     "output_type": "stream",
     "text": [
      "2025-06-24 20:10:58,861 cisTarget    INFO     Reading cisTarget database\n"
     ]
    },
    {
     "name": "stderr",
     "output_type": "stream",
     "text": [
      "Traceback (most recent call last):\n",
      "  File \"/home/junyichen/anaconda3/envs/snapatac2/bin/pycistarget\", line 8, in <module>\n",
      "    sys.exit(main())\n",
      "  File \"/home/junyichen/code/pycistarget/src/pycistarget/cli/pycistarget.py\", line 586, in main\n",
      "    args.func(args)\n",
      "  File \"/home/junyichen/code/pycistarget/src/pycistarget/cli/pycistarget.py\", line 69, in cistarget\n",
      "    run_cistarget_command(\n",
      "  File \"/home/junyichen/code/pycistarget/src/pycistarget/cli/commands.py\", line 93, in run_cistarget_command\n",
      "    ctx_db = cisTargetDatabase(\n",
      "  File \"/home/junyichen/code/pycistarget/src/pycistarget/motif_enrichment_cistarget.py\", line 55, in __init__\n",
      "    self.regions_to_db, self.db_rankings, self.total_regions = self.load_db(fname,\n",
      "  File \"/home/junyichen/code/pycistarget/src/pycistarget/motif_enrichment_cistarget.py\", line 111, in load_db\n",
      "    target_to_db = target_to_query(region_sets, list(db_regions), fraction_overlap = fraction_overlap)\n",
      "  File \"/home/junyichen/code/pycistarget/src/pycistarget/utils.py\", line 286, in target_to_query\n",
      "    raise ValueError(\n",
      "ValueError: \n",
      "            None of the regions in the bed file overlap with the cistarget database. \n",
      "            Check wether the chromosome names of the input regions are correctly \n",
      "            formatted and that you are using the correct database.\n",
      "            \n"
     ]
    },
    {
     "name": "stdout",
     "output_type": "stream",
     "text": [
      "['pycistarget', 'cistarget', '--cistarget_db_fname', '/data2st1/junyi/scenic/mouse/motif/mm10_screen_v10_clust.regions_vs_motifs.rankings.feather', '--bed_fname', '/data1st2/hannan_25/data/Nanopore_process/nanopore_08_differential/summary/dmr_sets/MC-PFC_vs_MW-PFC.5mC.CH.down.dmr_2tools.bed', '--species', 'mus_musculus', '--auc_threshold', '0.005', '--nes_threshold', '3.0', '--rank_threshold', '0.05', '--path_to_motif_annotations', '/data2st1/junyi/scenic/mouse/motif/motifs-v10nr_clust-nr.mgi-m0.001-o0.0.tbl', '--output_folder', '/data1st2/hannan_25/data/Nanopore_process/nanopore_08_differential/summary/dmr_sets/cistarget/', '--write_html']\n"
     ]
    },
    {
     "name": "stderr",
     "output_type": "stream",
     "text": [
      "/home/junyichen/code/pycistarget/src/pycistarget/__init__.py:1: UserWarning: pkg_resources is deprecated as an API. See https://setuptools.pypa.io/en/latest/pkg_resources.html. The pkg_resources package is slated for removal as early as 2025-11-30. Refrain from using this package or pin to Setuptools<81.\n",
      "  from pkg_resources import get_distribution, DistributionNotFound\n"
     ]
    },
    {
     "name": "stdout",
     "output_type": "stream",
     "text": [
      "2025-06-24 20:11:07,612 cisTarget    INFO     Reading cisTarget database\n"
     ]
    },
    {
     "name": "stderr",
     "output_type": "stream",
     "text": [
      "Traceback (most recent call last):\n",
      "  File \"/home/junyichen/anaconda3/envs/snapatac2/bin/pycistarget\", line 8, in <module>\n",
      "    sys.exit(main())\n",
      "  File \"/home/junyichen/code/pycistarget/src/pycistarget/cli/pycistarget.py\", line 586, in main\n",
      "    args.func(args)\n",
      "  File \"/home/junyichen/code/pycistarget/src/pycistarget/cli/pycistarget.py\", line 69, in cistarget\n",
      "    run_cistarget_command(\n",
      "  File \"/home/junyichen/code/pycistarget/src/pycistarget/cli/commands.py\", line 93, in run_cistarget_command\n",
      "    ctx_db = cisTargetDatabase(\n",
      "  File \"/home/junyichen/code/pycistarget/src/pycistarget/motif_enrichment_cistarget.py\", line 55, in __init__\n",
      "    self.regions_to_db, self.db_rankings, self.total_regions = self.load_db(fname,\n",
      "  File \"/home/junyichen/code/pycistarget/src/pycistarget/motif_enrichment_cistarget.py\", line 111, in load_db\n",
      "    target_to_db = target_to_query(region_sets, list(db_regions), fraction_overlap = fraction_overlap)\n",
      "  File \"/home/junyichen/code/pycistarget/src/pycistarget/utils.py\", line 286, in target_to_query\n",
      "    raise ValueError(\n",
      "ValueError: \n",
      "            None of the regions in the bed file overlap with the cistarget database. \n",
      "            Check wether the chromosome names of the input regions are correctly \n",
      "            formatted and that you are using the correct database.\n",
      "            \n"
     ]
    },
    {
     "name": "stdout",
     "output_type": "stream",
     "text": [
      "['pycistarget', 'cistarget', '--cistarget_db_fname', '/data2st1/junyi/scenic/mouse/motif/mm10_screen_v10_clust.regions_vs_motifs.rankings.feather', '--bed_fname', '/data1st2/hannan_25/data/Nanopore_process/nanopore_08_differential/summary/dmr_sets/MC-PFC_vs_MW-PFC.5mC.CN.down.dmr_2tools.bed', '--species', 'mus_musculus', '--auc_threshold', '0.005', '--nes_threshold', '3.0', '--rank_threshold', '0.05', '--path_to_motif_annotations', '/data2st1/junyi/scenic/mouse/motif/motifs-v10nr_clust-nr.mgi-m0.001-o0.0.tbl', '--output_folder', '/data1st2/hannan_25/data/Nanopore_process/nanopore_08_differential/summary/dmr_sets/cistarget/', '--write_html']\n"
     ]
    },
    {
     "name": "stderr",
     "output_type": "stream",
     "text": [
      "/home/junyichen/code/pycistarget/src/pycistarget/__init__.py:1: UserWarning: pkg_resources is deprecated as an API. See https://setuptools.pypa.io/en/latest/pkg_resources.html. The pkg_resources package is slated for removal as early as 2025-11-30. Refrain from using this package or pin to Setuptools<81.\n",
      "  from pkg_resources import get_distribution, DistributionNotFound\n"
     ]
    },
    {
     "name": "stdout",
     "output_type": "stream",
     "text": [
      "2025-06-24 20:11:16,377 cisTarget    INFO     Reading cisTarget database\n"
     ]
    },
    {
     "name": "stderr",
     "output_type": "stream",
     "text": [
      "Traceback (most recent call last):\n",
      "  File \"/home/junyichen/anaconda3/envs/snapatac2/bin/pycistarget\", line 8, in <module>\n",
      "    sys.exit(main())\n",
      "  File \"/home/junyichen/code/pycistarget/src/pycistarget/cli/pycistarget.py\", line 586, in main\n",
      "    args.func(args)\n",
      "  File \"/home/junyichen/code/pycistarget/src/pycistarget/cli/pycistarget.py\", line 69, in cistarget\n",
      "    run_cistarget_command(\n",
      "  File \"/home/junyichen/code/pycistarget/src/pycistarget/cli/commands.py\", line 93, in run_cistarget_command\n",
      "    ctx_db = cisTargetDatabase(\n",
      "  File \"/home/junyichen/code/pycistarget/src/pycistarget/motif_enrichment_cistarget.py\", line 55, in __init__\n",
      "    self.regions_to_db, self.db_rankings, self.total_regions = self.load_db(fname,\n",
      "  File \"/home/junyichen/code/pycistarget/src/pycistarget/motif_enrichment_cistarget.py\", line 111, in load_db\n",
      "    target_to_db = target_to_query(region_sets, list(db_regions), fraction_overlap = fraction_overlap)\n",
      "  File \"/home/junyichen/code/pycistarget/src/pycistarget/utils.py\", line 286, in target_to_query\n",
      "    raise ValueError(\n",
      "ValueError: \n",
      "            None of the regions in the bed file overlap with the cistarget database. \n",
      "            Check wether the chromosome names of the input regions are correctly \n",
      "            formatted and that you are using the correct database.\n",
      "            \n"
     ]
    },
    {
     "name": "stdout",
     "output_type": "stream",
     "text": [
      "['pycistarget', 'cistarget', '--cistarget_db_fname', '/data2st1/junyi/scenic/mouse/motif/mm10_screen_v10_clust.regions_vs_motifs.rankings.feather', '--bed_fname', '/data1st2/hannan_25/data/Nanopore_process/nanopore_08_differential/summary/dmr_sets/MC-AMY_vs_MW-AMY.5hmC.CH.down.dmr_2tools.bed', '--species', 'mus_musculus', '--auc_threshold', '0.005', '--nes_threshold', '3.0', '--rank_threshold', '0.05', '--path_to_motif_annotations', '/data2st1/junyi/scenic/mouse/motif/motifs-v10nr_clust-nr.mgi-m0.001-o0.0.tbl', '--output_folder', '/data1st2/hannan_25/data/Nanopore_process/nanopore_08_differential/summary/dmr_sets/cistarget/', '--write_html']\n"
     ]
    },
    {
     "name": "stderr",
     "output_type": "stream",
     "text": [
      "/home/junyichen/code/pycistarget/src/pycistarget/__init__.py:1: UserWarning: pkg_resources is deprecated as an API. See https://setuptools.pypa.io/en/latest/pkg_resources.html. The pkg_resources package is slated for removal as early as 2025-11-30. Refrain from using this package or pin to Setuptools<81.\n",
      "  from pkg_resources import get_distribution, DistributionNotFound\n"
     ]
    },
    {
     "name": "stdout",
     "output_type": "stream",
     "text": [
      "2025-06-24 20:11:25,105 cisTarget    INFO     Reading cisTarget database\n"
     ]
    },
    {
     "name": "stderr",
     "output_type": "stream",
     "text": [
      "Traceback (most recent call last):\n",
      "  File \"/home/junyichen/anaconda3/envs/snapatac2/bin/pycistarget\", line 8, in <module>\n",
      "    sys.exit(main())\n",
      "  File \"/home/junyichen/code/pycistarget/src/pycistarget/cli/pycistarget.py\", line 586, in main\n",
      "    args.func(args)\n",
      "  File \"/home/junyichen/code/pycistarget/src/pycistarget/cli/pycistarget.py\", line 69, in cistarget\n",
      "    run_cistarget_command(\n",
      "  File \"/home/junyichen/code/pycistarget/src/pycistarget/cli/commands.py\", line 93, in run_cistarget_command\n",
      "    ctx_db = cisTargetDatabase(\n",
      "  File \"/home/junyichen/code/pycistarget/src/pycistarget/motif_enrichment_cistarget.py\", line 55, in __init__\n",
      "    self.regions_to_db, self.db_rankings, self.total_regions = self.load_db(fname,\n",
      "  File \"/home/junyichen/code/pycistarget/src/pycistarget/motif_enrichment_cistarget.py\", line 111, in load_db\n",
      "    target_to_db = target_to_query(region_sets, list(db_regions), fraction_overlap = fraction_overlap)\n",
      "  File \"/home/junyichen/code/pycistarget/src/pycistarget/utils.py\", line 286, in target_to_query\n",
      "    raise ValueError(\n",
      "ValueError: \n",
      "            None of the regions in the bed file overlap with the cistarget database. \n",
      "            Check wether the chromosome names of the input regions are correctly \n",
      "            formatted and that you are using the correct database.\n",
      "            \n"
     ]
    },
    {
     "name": "stdout",
     "output_type": "stream",
     "text": [
      "['pycistarget', 'cistarget', '--cistarget_db_fname', '/data2st1/junyi/scenic/mouse/motif/mm10_screen_v10_clust.regions_vs_motifs.rankings.feather', '--bed_fname', '/data1st2/hannan_25/data/Nanopore_process/nanopore_08_differential/summary/dmr_sets/FC-AMY_vs_FW-AMY.5hmC.CH.down.dmr_2tools.bed', '--species', 'mus_musculus', '--auc_threshold', '0.005', '--nes_threshold', '3.0', '--rank_threshold', '0.05', '--path_to_motif_annotations', '/data2st1/junyi/scenic/mouse/motif/motifs-v10nr_clust-nr.mgi-m0.001-o0.0.tbl', '--output_folder', '/data1st2/hannan_25/data/Nanopore_process/nanopore_08_differential/summary/dmr_sets/cistarget/', '--write_html']\n"
     ]
    },
    {
     "name": "stderr",
     "output_type": "stream",
     "text": [
      "/home/junyichen/code/pycistarget/src/pycistarget/__init__.py:1: UserWarning: pkg_resources is deprecated as an API. See https://setuptools.pypa.io/en/latest/pkg_resources.html. The pkg_resources package is slated for removal as early as 2025-11-30. Refrain from using this package or pin to Setuptools<81.\n",
      "  from pkg_resources import get_distribution, DistributionNotFound\n"
     ]
    },
    {
     "name": "stdout",
     "output_type": "stream",
     "text": [
      "2025-06-24 20:11:33,814 cisTarget    INFO     Reading cisTarget database\n"
     ]
    },
    {
     "name": "stderr",
     "output_type": "stream",
     "text": [
      "Traceback (most recent call last):\n",
      "  File \"/home/junyichen/anaconda3/envs/snapatac2/bin/pycistarget\", line 8, in <module>\n",
      "    sys.exit(main())\n",
      "  File \"/home/junyichen/code/pycistarget/src/pycistarget/cli/pycistarget.py\", line 586, in main\n",
      "    args.func(args)\n",
      "  File \"/home/junyichen/code/pycistarget/src/pycistarget/cli/pycistarget.py\", line 69, in cistarget\n",
      "    run_cistarget_command(\n",
      "  File \"/home/junyichen/code/pycistarget/src/pycistarget/cli/commands.py\", line 93, in run_cistarget_command\n",
      "    ctx_db = cisTargetDatabase(\n",
      "  File \"/home/junyichen/code/pycistarget/src/pycistarget/motif_enrichment_cistarget.py\", line 55, in __init__\n",
      "    self.regions_to_db, self.db_rankings, self.total_regions = self.load_db(fname,\n",
      "  File \"/home/junyichen/code/pycistarget/src/pycistarget/motif_enrichment_cistarget.py\", line 111, in load_db\n",
      "    target_to_db = target_to_query(region_sets, list(db_regions), fraction_overlap = fraction_overlap)\n",
      "  File \"/home/junyichen/code/pycistarget/src/pycistarget/utils.py\", line 286, in target_to_query\n",
      "    raise ValueError(\n",
      "ValueError: \n",
      "            None of the regions in the bed file overlap with the cistarget database. \n",
      "            Check wether the chromosome names of the input regions are correctly \n",
      "            formatted and that you are using the correct database.\n",
      "            \n"
     ]
    },
    {
     "name": "stdout",
     "output_type": "stream",
     "text": [
      "['pycistarget', 'cistarget', '--cistarget_db_fname', '/data2st1/junyi/scenic/mouse/motif/mm10_screen_v10_clust.regions_vs_motifs.rankings.feather', '--bed_fname', '/data1st2/hannan_25/data/Nanopore_process/nanopore_08_differential/summary/dmr_sets/MC-AMY_vs_MW-AMY.5hmC.CN.up.dmr_2tools.bed', '--species', 'mus_musculus', '--auc_threshold', '0.005', '--nes_threshold', '3.0', '--rank_threshold', '0.05', '--path_to_motif_annotations', '/data2st1/junyi/scenic/mouse/motif/motifs-v10nr_clust-nr.mgi-m0.001-o0.0.tbl', '--output_folder', '/data1st2/hannan_25/data/Nanopore_process/nanopore_08_differential/summary/dmr_sets/cistarget/', '--write_html']\n"
     ]
    },
    {
     "name": "stderr",
     "output_type": "stream",
     "text": [
      "/home/junyichen/code/pycistarget/src/pycistarget/__init__.py:1: UserWarning: pkg_resources is deprecated as an API. See https://setuptools.pypa.io/en/latest/pkg_resources.html. The pkg_resources package is slated for removal as early as 2025-11-30. Refrain from using this package or pin to Setuptools<81.\n",
      "  from pkg_resources import get_distribution, DistributionNotFound\n"
     ]
    },
    {
     "name": "stdout",
     "output_type": "stream",
     "text": [
      "2025-06-24 20:11:42,568 cisTarget    INFO     Reading cisTarget database\n"
     ]
    },
    {
     "name": "stderr",
     "output_type": "stream",
     "text": [
      "Traceback (most recent call last):\n",
      "  File \"/home/junyichen/anaconda3/envs/snapatac2/bin/pycistarget\", line 8, in <module>\n",
      "    sys.exit(main())\n",
      "  File \"/home/junyichen/code/pycistarget/src/pycistarget/cli/pycistarget.py\", line 586, in main\n",
      "    args.func(args)\n",
      "  File \"/home/junyichen/code/pycistarget/src/pycistarget/cli/pycistarget.py\", line 69, in cistarget\n",
      "    run_cistarget_command(\n",
      "  File \"/home/junyichen/code/pycistarget/src/pycistarget/cli/commands.py\", line 93, in run_cistarget_command\n",
      "    ctx_db = cisTargetDatabase(\n",
      "  File \"/home/junyichen/code/pycistarget/src/pycistarget/motif_enrichment_cistarget.py\", line 55, in __init__\n",
      "    self.regions_to_db, self.db_rankings, self.total_regions = self.load_db(fname,\n",
      "  File \"/home/junyichen/code/pycistarget/src/pycistarget/motif_enrichment_cistarget.py\", line 111, in load_db\n",
      "    target_to_db = target_to_query(region_sets, list(db_regions), fraction_overlap = fraction_overlap)\n",
      "  File \"/home/junyichen/code/pycistarget/src/pycistarget/utils.py\", line 286, in target_to_query\n",
      "    raise ValueError(\n",
      "ValueError: \n",
      "            None of the regions in the bed file overlap with the cistarget database. \n",
      "            Check wether the chromosome names of the input regions are correctly \n",
      "            formatted and that you are using the correct database.\n",
      "            \n"
     ]
    },
    {
     "name": "stdout",
     "output_type": "stream",
     "text": [
      "['pycistarget', 'cistarget', '--cistarget_db_fname', '/data2st1/junyi/scenic/mouse/motif/mm10_screen_v10_clust.regions_vs_motifs.rankings.feather', '--bed_fname', '/data1st2/hannan_25/data/Nanopore_process/nanopore_08_differential/summary/dmr_sets/FC-HIP_vs_FW-HIP.5mC.CG.up.dmr_2tools.bed', '--species', 'mus_musculus', '--auc_threshold', '0.005', '--nes_threshold', '3.0', '--rank_threshold', '0.05', '--path_to_motif_annotations', '/data2st1/junyi/scenic/mouse/motif/motifs-v10nr_clust-nr.mgi-m0.001-o0.0.tbl', '--output_folder', '/data1st2/hannan_25/data/Nanopore_process/nanopore_08_differential/summary/dmr_sets/cistarget/', '--write_html']\n"
     ]
    },
    {
     "name": "stderr",
     "output_type": "stream",
     "text": [
      "/home/junyichen/code/pycistarget/src/pycistarget/__init__.py:1: UserWarning: pkg_resources is deprecated as an API. See https://setuptools.pypa.io/en/latest/pkg_resources.html. The pkg_resources package is slated for removal as early as 2025-11-30. Refrain from using this package or pin to Setuptools<81.\n",
      "  from pkg_resources import get_distribution, DistributionNotFound\n"
     ]
    },
    {
     "name": "stdout",
     "output_type": "stream",
     "text": [
      "2025-06-24 20:11:51,325 cisTarget    INFO     Reading cisTarget database\n",
      "2025-06-24 20:12:00,563 cisTarget    INFO     Running cisTarget for FC-HIP_vs_FW-HIP.5mC.CG.up.dmr_2tools which has 69 regions\n",
      "2025-06-24 20:12:09,730 cisTarget    INFO     Annotating motifs for FC-HIP_vs_FW-HIP.5mC.CG.up.dmr_2tools\n",
      "2025-06-24 20:12:11,152 cisTarget    INFO     Getting cistromes for FC-HIP_vs_FW-HIP.5mC.CG.up.dmr_2tools\n",
      "['pycistarget', 'cistarget', '--cistarget_db_fname', '/data2st1/junyi/scenic/mouse/motif/mm10_screen_v10_clust.regions_vs_motifs.rankings.feather', '--bed_fname', '/data1st2/hannan_25/data/Nanopore_process/nanopore_08_differential/summary/dmr_sets/FC-AMY_vs_FW-AMY.5mC.CH.down.dmr_2tools.bed', '--species', 'mus_musculus', '--auc_threshold', '0.005', '--nes_threshold', '3.0', '--rank_threshold', '0.05', '--path_to_motif_annotations', '/data2st1/junyi/scenic/mouse/motif/motifs-v10nr_clust-nr.mgi-m0.001-o0.0.tbl', '--output_folder', '/data1st2/hannan_25/data/Nanopore_process/nanopore_08_differential/summary/dmr_sets/cistarget/', '--write_html']\n"
     ]
    },
    {
     "name": "stderr",
     "output_type": "stream",
     "text": [
      "/home/junyichen/code/pycistarget/src/pycistarget/__init__.py:1: UserWarning: pkg_resources is deprecated as an API. See https://setuptools.pypa.io/en/latest/pkg_resources.html. The pkg_resources package is slated for removal as early as 2025-11-30. Refrain from using this package or pin to Setuptools<81.\n",
      "  from pkg_resources import get_distribution, DistributionNotFound\n"
     ]
    },
    {
     "name": "stdout",
     "output_type": "stream",
     "text": [
      "2025-06-24 20:12:13,355 cisTarget    INFO     Reading cisTarget database\n"
     ]
    },
    {
     "name": "stderr",
     "output_type": "stream",
     "text": [
      "Traceback (most recent call last):\n",
      "  File \"/home/junyichen/anaconda3/envs/snapatac2/bin/pycistarget\", line 8, in <module>\n",
      "    sys.exit(main())\n",
      "  File \"/home/junyichen/code/pycistarget/src/pycistarget/cli/pycistarget.py\", line 586, in main\n",
      "    args.func(args)\n",
      "  File \"/home/junyichen/code/pycistarget/src/pycistarget/cli/pycistarget.py\", line 69, in cistarget\n",
      "    run_cistarget_command(\n",
      "  File \"/home/junyichen/code/pycistarget/src/pycistarget/cli/commands.py\", line 93, in run_cistarget_command\n",
      "    ctx_db = cisTargetDatabase(\n",
      "  File \"/home/junyichen/code/pycistarget/src/pycistarget/motif_enrichment_cistarget.py\", line 55, in __init__\n",
      "    self.regions_to_db, self.db_rankings, self.total_regions = self.load_db(fname,\n",
      "  File \"/home/junyichen/code/pycistarget/src/pycistarget/motif_enrichment_cistarget.py\", line 111, in load_db\n",
      "    target_to_db = target_to_query(region_sets, list(db_regions), fraction_overlap = fraction_overlap)\n",
      "  File \"/home/junyichen/code/pycistarget/src/pycistarget/utils.py\", line 286, in target_to_query\n",
      "    raise ValueError(\n",
      "ValueError: \n",
      "            None of the regions in the bed file overlap with the cistarget database. \n",
      "            Check wether the chromosome names of the input regions are correctly \n",
      "            formatted and that you are using the correct database.\n",
      "            \n"
     ]
    },
    {
     "name": "stdout",
     "output_type": "stream",
     "text": [
      "['pycistarget', 'cistarget', '--cistarget_db_fname', '/data2st1/junyi/scenic/mouse/motif/mm10_screen_v10_clust.regions_vs_motifs.rankings.feather', '--bed_fname', '/data1st2/hannan_25/data/Nanopore_process/nanopore_08_differential/summary/dmr_sets/MC-PFC_vs_MW-PFC.5hmC.CH.down.dmr_2tools.bed', '--species', 'mus_musculus', '--auc_threshold', '0.005', '--nes_threshold', '3.0', '--rank_threshold', '0.05', '--path_to_motif_annotations', '/data2st1/junyi/scenic/mouse/motif/motifs-v10nr_clust-nr.mgi-m0.001-o0.0.tbl', '--output_folder', '/data1st2/hannan_25/data/Nanopore_process/nanopore_08_differential/summary/dmr_sets/cistarget/', '--write_html']\n"
     ]
    },
    {
     "name": "stderr",
     "output_type": "stream",
     "text": [
      "/home/junyichen/code/pycistarget/src/pycistarget/__init__.py:1: UserWarning: pkg_resources is deprecated as an API. See https://setuptools.pypa.io/en/latest/pkg_resources.html. The pkg_resources package is slated for removal as early as 2025-11-30. Refrain from using this package or pin to Setuptools<81.\n",
      "  from pkg_resources import get_distribution, DistributionNotFound\n"
     ]
    },
    {
     "name": "stdout",
     "output_type": "stream",
     "text": [
      "2025-06-24 20:12:22,181 cisTarget    INFO     Reading cisTarget database\n"
     ]
    },
    {
     "name": "stderr",
     "output_type": "stream",
     "text": [
      "Traceback (most recent call last):\n",
      "  File \"/home/junyichen/anaconda3/envs/snapatac2/bin/pycistarget\", line 8, in <module>\n",
      "    sys.exit(main())\n",
      "  File \"/home/junyichen/code/pycistarget/src/pycistarget/cli/pycistarget.py\", line 586, in main\n",
      "    args.func(args)\n",
      "  File \"/home/junyichen/code/pycistarget/src/pycistarget/cli/pycistarget.py\", line 69, in cistarget\n",
      "    run_cistarget_command(\n",
      "  File \"/home/junyichen/code/pycistarget/src/pycistarget/cli/commands.py\", line 93, in run_cistarget_command\n",
      "    ctx_db = cisTargetDatabase(\n",
      "  File \"/home/junyichen/code/pycistarget/src/pycistarget/motif_enrichment_cistarget.py\", line 55, in __init__\n",
      "    self.regions_to_db, self.db_rankings, self.total_regions = self.load_db(fname,\n",
      "  File \"/home/junyichen/code/pycistarget/src/pycistarget/motif_enrichment_cistarget.py\", line 111, in load_db\n",
      "    target_to_db = target_to_query(region_sets, list(db_regions), fraction_overlap = fraction_overlap)\n",
      "  File \"/home/junyichen/code/pycistarget/src/pycistarget/utils.py\", line 286, in target_to_query\n",
      "    raise ValueError(\n",
      "ValueError: \n",
      "            None of the regions in the bed file overlap with the cistarget database. \n",
      "            Check wether the chromosome names of the input regions are correctly \n",
      "            formatted and that you are using the correct database.\n",
      "            \n"
     ]
    },
    {
     "name": "stdout",
     "output_type": "stream",
     "text": [
      "['pycistarget', 'cistarget', '--cistarget_db_fname', '/data2st1/junyi/scenic/mouse/motif/mm10_screen_v10_clust.regions_vs_motifs.rankings.feather', '--bed_fname', '/data1st2/hannan_25/data/Nanopore_process/nanopore_08_differential/summary/dmr_sets/MC-PFC_vs_MW-PFC.5mC.CG.down.dmr_2tools.bed', '--species', 'mus_musculus', '--auc_threshold', '0.005', '--nes_threshold', '3.0', '--rank_threshold', '0.05', '--path_to_motif_annotations', '/data2st1/junyi/scenic/mouse/motif/motifs-v10nr_clust-nr.mgi-m0.001-o0.0.tbl', '--output_folder', '/data1st2/hannan_25/data/Nanopore_process/nanopore_08_differential/summary/dmr_sets/cistarget/', '--write_html']\n"
     ]
    },
    {
     "name": "stderr",
     "output_type": "stream",
     "text": [
      "/home/junyichen/code/pycistarget/src/pycistarget/__init__.py:1: UserWarning: pkg_resources is deprecated as an API. See https://setuptools.pypa.io/en/latest/pkg_resources.html. The pkg_resources package is slated for removal as early as 2025-11-30. Refrain from using this package or pin to Setuptools<81.\n",
      "  from pkg_resources import get_distribution, DistributionNotFound\n"
     ]
    },
    {
     "name": "stdout",
     "output_type": "stream",
     "text": [
      "2025-06-24 20:12:30,934 cisTarget    INFO     Reading cisTarget database\n",
      "2025-06-24 20:12:40,186 cisTarget    INFO     Running cisTarget for MC-PFC_vs_MW-PFC.5mC.CG.down.dmr_2tools which has 80 regions\n",
      "2025-06-24 20:12:49,445 cisTarget    INFO     Annotating motifs for MC-PFC_vs_MW-PFC.5mC.CG.down.dmr_2tools\n",
      "2025-06-24 20:12:50,855 cisTarget    INFO     Getting cistromes for MC-PFC_vs_MW-PFC.5mC.CG.down.dmr_2tools\n",
      "['pycistarget', 'cistarget', '--cistarget_db_fname', '/data2st1/junyi/scenic/mouse/motif/mm10_screen_v10_clust.regions_vs_motifs.rankings.feather', '--bed_fname', '/data1st2/hannan_25/data/Nanopore_process/nanopore_08_differential/summary/dmr_sets/MC-PFC_vs_MW-PFC.5hmC.CG.down.dmr_2tools.bed', '--species', 'mus_musculus', '--auc_threshold', '0.005', '--nes_threshold', '3.0', '--rank_threshold', '0.05', '--path_to_motif_annotations', '/data2st1/junyi/scenic/mouse/motif/motifs-v10nr_clust-nr.mgi-m0.001-o0.0.tbl', '--output_folder', '/data1st2/hannan_25/data/Nanopore_process/nanopore_08_differential/summary/dmr_sets/cistarget/', '--write_html']\n"
     ]
    },
    {
     "name": "stderr",
     "output_type": "stream",
     "text": [
      "/home/junyichen/code/pycistarget/src/pycistarget/__init__.py:1: UserWarning: pkg_resources is deprecated as an API. See https://setuptools.pypa.io/en/latest/pkg_resources.html. The pkg_resources package is slated for removal as early as 2025-11-30. Refrain from using this package or pin to Setuptools<81.\n",
      "  from pkg_resources import get_distribution, DistributionNotFound\n"
     ]
    },
    {
     "name": "stdout",
     "output_type": "stream",
     "text": [
      "2025-06-24 20:12:53,055 cisTarget    INFO     Reading cisTarget database\n"
     ]
    },
    {
     "name": "stderr",
     "output_type": "stream",
     "text": [
      "Traceback (most recent call last):\n",
      "  File \"/home/junyichen/anaconda3/envs/snapatac2/bin/pycistarget\", line 8, in <module>\n",
      "    sys.exit(main())\n",
      "  File \"/home/junyichen/code/pycistarget/src/pycistarget/cli/pycistarget.py\", line 586, in main\n",
      "    args.func(args)\n",
      "  File \"/home/junyichen/code/pycistarget/src/pycistarget/cli/pycistarget.py\", line 69, in cistarget\n",
      "    run_cistarget_command(\n",
      "  File \"/home/junyichen/code/pycistarget/src/pycistarget/cli/commands.py\", line 93, in run_cistarget_command\n",
      "    ctx_db = cisTargetDatabase(\n",
      "  File \"/home/junyichen/code/pycistarget/src/pycistarget/motif_enrichment_cistarget.py\", line 55, in __init__\n",
      "    self.regions_to_db, self.db_rankings, self.total_regions = self.load_db(fname,\n",
      "  File \"/home/junyichen/code/pycistarget/src/pycistarget/motif_enrichment_cistarget.py\", line 111, in load_db\n",
      "    target_to_db = target_to_query(region_sets, list(db_regions), fraction_overlap = fraction_overlap)\n",
      "  File \"/home/junyichen/code/pycistarget/src/pycistarget/utils.py\", line 286, in target_to_query\n",
      "    raise ValueError(\n",
      "ValueError: \n",
      "            None of the regions in the bed file overlap with the cistarget database. \n",
      "            Check wether the chromosome names of the input regions are correctly \n",
      "            formatted and that you are using the correct database.\n",
      "            \n"
     ]
    },
    {
     "name": "stdout",
     "output_type": "stream",
     "text": [
      "['pycistarget', 'cistarget', '--cistarget_db_fname', '/data2st1/junyi/scenic/mouse/motif/mm10_screen_v10_clust.regions_vs_motifs.rankings.feather', '--bed_fname', '/data1st2/hannan_25/data/Nanopore_process/nanopore_08_differential/summary/dmr_sets/FC-PFC_vs_FW-PFC.5hmC.up.dmr_2tools.bed', '--species', 'mus_musculus', '--auc_threshold', '0.005', '--nes_threshold', '3.0', '--rank_threshold', '0.05', '--path_to_motif_annotations', '/data2st1/junyi/scenic/mouse/motif/motifs-v10nr_clust-nr.mgi-m0.001-o0.0.tbl', '--output_folder', '/data1st2/hannan_25/data/Nanopore_process/nanopore_08_differential/summary/dmr_sets/cistarget/', '--write_html']\n"
     ]
    },
    {
     "name": "stderr",
     "output_type": "stream",
     "text": [
      "/home/junyichen/code/pycistarget/src/pycistarget/__init__.py:1: UserWarning: pkg_resources is deprecated as an API. See https://setuptools.pypa.io/en/latest/pkg_resources.html. The pkg_resources package is slated for removal as early as 2025-11-30. Refrain from using this package or pin to Setuptools<81.\n",
      "  from pkg_resources import get_distribution, DistributionNotFound\n"
     ]
    },
    {
     "name": "stdout",
     "output_type": "stream",
     "text": [
      "2025-06-24 20:13:01,854 cisTarget    INFO     Reading cisTarget database\n",
      "2025-06-24 20:13:11,030 cisTarget    INFO     Running cisTarget for FC-PFC_vs_FW-PFC.5hmC.up.dmr_2tools which has 4 regions\n",
      "2025-06-24 20:13:19,837 cisTarget    INFO     Annotating motifs for FC-PFC_vs_FW-PFC.5hmC.up.dmr_2tools\n",
      "2025-06-24 20:13:21,236 cisTarget    INFO     Getting cistromes for FC-PFC_vs_FW-PFC.5hmC.up.dmr_2tools\n",
      "['pycistarget', 'cistarget', '--cistarget_db_fname', '/data2st1/junyi/scenic/mouse/motif/mm10_screen_v10_clust.regions_vs_motifs.rankings.feather', '--bed_fname', '/data1st2/hannan_25/data/Nanopore_process/nanopore_08_differential/summary/dmr_sets/FC-PFC_vs_FW-PFC.5hmC.CN.up.dmr_2tools.bed', '--species', 'mus_musculus', '--auc_threshold', '0.005', '--nes_threshold', '3.0', '--rank_threshold', '0.05', '--path_to_motif_annotations', '/data2st1/junyi/scenic/mouse/motif/motifs-v10nr_clust-nr.mgi-m0.001-o0.0.tbl', '--output_folder', '/data1st2/hannan_25/data/Nanopore_process/nanopore_08_differential/summary/dmr_sets/cistarget/', '--write_html']\n"
     ]
    },
    {
     "name": "stderr",
     "output_type": "stream",
     "text": [
      "/home/junyichen/code/pycistarget/src/pycistarget/__init__.py:1: UserWarning: pkg_resources is deprecated as an API. See https://setuptools.pypa.io/en/latest/pkg_resources.html. The pkg_resources package is slated for removal as early as 2025-11-30. Refrain from using this package or pin to Setuptools<81.\n",
      "  from pkg_resources import get_distribution, DistributionNotFound\n"
     ]
    },
    {
     "name": "stdout",
     "output_type": "stream",
     "text": [
      "2025-06-24 20:13:23,232 cisTarget    INFO     Reading cisTarget database\n",
      "2025-06-24 20:13:32,362 cisTarget    INFO     Running cisTarget for FC-PFC_vs_FW-PFC.5hmC.CN.up.dmr_2tools which has 3 regions\n",
      "2025-06-24 20:13:41,227 cisTarget    INFO     Annotating motifs for FC-PFC_vs_FW-PFC.5hmC.CN.up.dmr_2tools\n",
      "2025-06-24 20:13:42,557 cisTarget    INFO     Getting cistromes for FC-PFC_vs_FW-PFC.5hmC.CN.up.dmr_2tools\n",
      "['pycistarget', 'cistarget', '--cistarget_db_fname', '/data2st1/junyi/scenic/mouse/motif/mm10_screen_v10_clust.regions_vs_motifs.rankings.feather', '--bed_fname', '/data1st2/hannan_25/data/Nanopore_process/nanopore_08_differential/summary/dmr_sets/MC-AMY_vs_MW-AMY.5hmC.up.dmr_2tools.bed', '--species', 'mus_musculus', '--auc_threshold', '0.005', '--nes_threshold', '3.0', '--rank_threshold', '0.05', '--path_to_motif_annotations', '/data2st1/junyi/scenic/mouse/motif/motifs-v10nr_clust-nr.mgi-m0.001-o0.0.tbl', '--output_folder', '/data1st2/hannan_25/data/Nanopore_process/nanopore_08_differential/summary/dmr_sets/cistarget/', '--write_html']\n"
     ]
    },
    {
     "name": "stderr",
     "output_type": "stream",
     "text": [
      "/home/junyichen/code/pycistarget/src/pycistarget/__init__.py:1: UserWarning: pkg_resources is deprecated as an API. See https://setuptools.pypa.io/en/latest/pkg_resources.html. The pkg_resources package is slated for removal as early as 2025-11-30. Refrain from using this package or pin to Setuptools<81.\n",
      "  from pkg_resources import get_distribution, DistributionNotFound\n"
     ]
    },
    {
     "name": "stdout",
     "output_type": "stream",
     "text": [
      "2025-06-24 20:13:44,563 cisTarget    INFO     Reading cisTarget database\n",
      "2025-06-24 20:13:53,790 cisTarget    INFO     Running cisTarget for MC-AMY_vs_MW-AMY.5hmC.up.dmr_2tools which has 5 regions\n",
      "2025-06-24 20:14:03,034 cisTarget    INFO     Annotating motifs for MC-AMY_vs_MW-AMY.5hmC.up.dmr_2tools\n",
      "2025-06-24 20:14:04,425 cisTarget    INFO     Getting cistromes for MC-AMY_vs_MW-AMY.5hmC.up.dmr_2tools\n",
      "['pycistarget', 'cistarget', '--cistarget_db_fname', '/data2st1/junyi/scenic/mouse/motif/mm10_screen_v10_clust.regions_vs_motifs.rankings.feather', '--bed_fname', '/data1st2/hannan_25/data/Nanopore_process/nanopore_08_differential/summary/dmr_sets/MC-AMY_vs_MW-AMY.5hmC.CG.up.dmr_2tools.bed', '--species', 'mus_musculus', '--auc_threshold', '0.005', '--nes_threshold', '3.0', '--rank_threshold', '0.05', '--path_to_motif_annotations', '/data2st1/junyi/scenic/mouse/motif/motifs-v10nr_clust-nr.mgi-m0.001-o0.0.tbl', '--output_folder', '/data1st2/hannan_25/data/Nanopore_process/nanopore_08_differential/summary/dmr_sets/cistarget/', '--write_html']\n"
     ]
    },
    {
     "name": "stderr",
     "output_type": "stream",
     "text": [
      "/home/junyichen/code/pycistarget/src/pycistarget/__init__.py:1: UserWarning: pkg_resources is deprecated as an API. See https://setuptools.pypa.io/en/latest/pkg_resources.html. The pkg_resources package is slated for removal as early as 2025-11-30. Refrain from using this package or pin to Setuptools<81.\n",
      "  from pkg_resources import get_distribution, DistributionNotFound\n"
     ]
    },
    {
     "name": "stdout",
     "output_type": "stream",
     "text": [
      "2025-06-24 20:14:06,586 cisTarget    INFO     Reading cisTarget database\n",
      "2025-06-24 20:14:15,923 cisTarget    INFO     Running cisTarget for MC-AMY_vs_MW-AMY.5hmC.CG.up.dmr_2tools which has 5 regions\n",
      "2025-06-24 20:14:25,173 cisTarget    INFO     Annotating motifs for MC-AMY_vs_MW-AMY.5hmC.CG.up.dmr_2tools\n",
      "2025-06-24 20:14:26,557 cisTarget    INFO     Getting cistromes for MC-AMY_vs_MW-AMY.5hmC.CG.up.dmr_2tools\n",
      "['pycistarget', 'cistarget', '--cistarget_db_fname', '/data2st1/junyi/scenic/mouse/motif/mm10_screen_v10_clust.regions_vs_motifs.rankings.feather', '--bed_fname', '/data1st2/hannan_25/data/Nanopore_process/nanopore_08_differential/summary/dmr_sets/MC-HIP_vs_MW-HIP.5mC.CG.up.dmr_2tools.bed', '--species', 'mus_musculus', '--auc_threshold', '0.005', '--nes_threshold', '3.0', '--rank_threshold', '0.05', '--path_to_motif_annotations', '/data2st1/junyi/scenic/mouse/motif/motifs-v10nr_clust-nr.mgi-m0.001-o0.0.tbl', '--output_folder', '/data1st2/hannan_25/data/Nanopore_process/nanopore_08_differential/summary/dmr_sets/cistarget/', '--write_html']\n"
     ]
    },
    {
     "name": "stderr",
     "output_type": "stream",
     "text": [
      "/home/junyichen/code/pycistarget/src/pycistarget/__init__.py:1: UserWarning: pkg_resources is deprecated as an API. See https://setuptools.pypa.io/en/latest/pkg_resources.html. The pkg_resources package is slated for removal as early as 2025-11-30. Refrain from using this package or pin to Setuptools<81.\n",
      "  from pkg_resources import get_distribution, DistributionNotFound\n"
     ]
    },
    {
     "name": "stdout",
     "output_type": "stream",
     "text": [
      "2025-06-24 20:14:28,731 cisTarget    INFO     Reading cisTarget database\n",
      "2025-06-24 20:14:37,963 cisTarget    INFO     Running cisTarget for MC-HIP_vs_MW-HIP.5mC.CG.up.dmr_2tools which has 104 regions\n",
      "2025-06-24 20:14:47,247 cisTarget    INFO     Annotating motifs for MC-HIP_vs_MW-HIP.5mC.CG.up.dmr_2tools\n",
      "2025-06-24 20:14:48,676 cisTarget    INFO     Getting cistromes for MC-HIP_vs_MW-HIP.5mC.CG.up.dmr_2tools\n",
      "['pycistarget', 'cistarget', '--cistarget_db_fname', '/data2st1/junyi/scenic/mouse/motif/mm10_screen_v10_clust.regions_vs_motifs.rankings.feather', '--bed_fname', '/data1st2/hannan_25/data/Nanopore_process/nanopore_08_differential/summary/dmr_sets/MC-PFC_vs_MW-PFC.5hmC.CH.up.dmr_2tools.bed', '--species', 'mus_musculus', '--auc_threshold', '0.005', '--nes_threshold', '3.0', '--rank_threshold', '0.05', '--path_to_motif_annotations', '/data2st1/junyi/scenic/mouse/motif/motifs-v10nr_clust-nr.mgi-m0.001-o0.0.tbl', '--output_folder', '/data1st2/hannan_25/data/Nanopore_process/nanopore_08_differential/summary/dmr_sets/cistarget/', '--write_html']\n"
     ]
    },
    {
     "name": "stderr",
     "output_type": "stream",
     "text": [
      "/home/junyichen/code/pycistarget/src/pycistarget/__init__.py:1: UserWarning: pkg_resources is deprecated as an API. See https://setuptools.pypa.io/en/latest/pkg_resources.html. The pkg_resources package is slated for removal as early as 2025-11-30. Refrain from using this package or pin to Setuptools<81.\n",
      "  from pkg_resources import get_distribution, DistributionNotFound\n"
     ]
    },
    {
     "name": "stdout",
     "output_type": "stream",
     "text": [
      "2025-06-24 20:14:50,852 cisTarget    INFO     Reading cisTarget database\n"
     ]
    },
    {
     "name": "stderr",
     "output_type": "stream",
     "text": [
      "Traceback (most recent call last):\n",
      "  File \"/home/junyichen/anaconda3/envs/snapatac2/bin/pycistarget\", line 8, in <module>\n",
      "    sys.exit(main())\n",
      "  File \"/home/junyichen/code/pycistarget/src/pycistarget/cli/pycistarget.py\", line 586, in main\n",
      "    args.func(args)\n",
      "  File \"/home/junyichen/code/pycistarget/src/pycistarget/cli/pycistarget.py\", line 69, in cistarget\n",
      "    run_cistarget_command(\n",
      "  File \"/home/junyichen/code/pycistarget/src/pycistarget/cli/commands.py\", line 93, in run_cistarget_command\n",
      "    ctx_db = cisTargetDatabase(\n",
      "  File \"/home/junyichen/code/pycistarget/src/pycistarget/motif_enrichment_cistarget.py\", line 55, in __init__\n",
      "    self.regions_to_db, self.db_rankings, self.total_regions = self.load_db(fname,\n",
      "  File \"/home/junyichen/code/pycistarget/src/pycistarget/motif_enrichment_cistarget.py\", line 111, in load_db\n",
      "    target_to_db = target_to_query(region_sets, list(db_regions), fraction_overlap = fraction_overlap)\n",
      "  File \"/home/junyichen/code/pycistarget/src/pycistarget/utils.py\", line 286, in target_to_query\n",
      "    raise ValueError(\n",
      "ValueError: \n",
      "            None of the regions in the bed file overlap with the cistarget database. \n",
      "            Check wether the chromosome names of the input regions are correctly \n",
      "            formatted and that you are using the correct database.\n",
      "            \n"
     ]
    },
    {
     "name": "stdout",
     "output_type": "stream",
     "text": [
      "['pycistarget', 'cistarget', '--cistarget_db_fname', '/data2st1/junyi/scenic/mouse/motif/mm10_screen_v10_clust.regions_vs_motifs.rankings.feather', '--bed_fname', '/data1st2/hannan_25/data/Nanopore_process/nanopore_08_differential/summary/dmr_sets/FC-AMY_vs_FW-AMY.5mC.down.dmr_2tools.bed', '--species', 'mus_musculus', '--auc_threshold', '0.005', '--nes_threshold', '3.0', '--rank_threshold', '0.05', '--path_to_motif_annotations', '/data2st1/junyi/scenic/mouse/motif/motifs-v10nr_clust-nr.mgi-m0.001-o0.0.tbl', '--output_folder', '/data1st2/hannan_25/data/Nanopore_process/nanopore_08_differential/summary/dmr_sets/cistarget/', '--write_html']\n"
     ]
    },
    {
     "name": "stderr",
     "output_type": "stream",
     "text": [
      "/home/junyichen/code/pycistarget/src/pycistarget/__init__.py:1: UserWarning: pkg_resources is deprecated as an API. See https://setuptools.pypa.io/en/latest/pkg_resources.html. The pkg_resources package is slated for removal as early as 2025-11-30. Refrain from using this package or pin to Setuptools<81.\n",
      "  from pkg_resources import get_distribution, DistributionNotFound\n"
     ]
    },
    {
     "name": "stdout",
     "output_type": "stream",
     "text": [
      "2025-06-24 20:14:59,625 cisTarget    INFO     Reading cisTarget database\n",
      "2025-06-24 20:15:08,898 cisTarget    INFO     Running cisTarget for FC-AMY_vs_FW-AMY.5mC.down.dmr_2tools which has 42 regions\n",
      "2025-06-24 20:15:18,257 cisTarget    INFO     Annotating motifs for FC-AMY_vs_FW-AMY.5mC.down.dmr_2tools\n",
      "2025-06-24 20:15:19,624 cisTarget    INFO     Getting cistromes for FC-AMY_vs_FW-AMY.5mC.down.dmr_2tools\n",
      "['pycistarget', 'cistarget', '--cistarget_db_fname', '/data2st1/junyi/scenic/mouse/motif/mm10_screen_v10_clust.regions_vs_motifs.rankings.feather', '--bed_fname', '/data1st2/hannan_25/data/Nanopore_process/nanopore_08_differential/summary/dmr_sets/MC-AMY_vs_MW-AMY.5mC.down.dmr_2tools.bed', '--species', 'mus_musculus', '--auc_threshold', '0.005', '--nes_threshold', '3.0', '--rank_threshold', '0.05', '--path_to_motif_annotations', '/data2st1/junyi/scenic/mouse/motif/motifs-v10nr_clust-nr.mgi-m0.001-o0.0.tbl', '--output_folder', '/data1st2/hannan_25/data/Nanopore_process/nanopore_08_differential/summary/dmr_sets/cistarget/', '--write_html']\n"
     ]
    },
    {
     "name": "stderr",
     "output_type": "stream",
     "text": [
      "/home/junyichen/code/pycistarget/src/pycistarget/__init__.py:1: UserWarning: pkg_resources is deprecated as an API. See https://setuptools.pypa.io/en/latest/pkg_resources.html. The pkg_resources package is slated for removal as early as 2025-11-30. Refrain from using this package or pin to Setuptools<81.\n",
      "  from pkg_resources import get_distribution, DistributionNotFound\n"
     ]
    },
    {
     "name": "stdout",
     "output_type": "stream",
     "text": [
      "2025-06-24 20:15:21,884 cisTarget    INFO     Reading cisTarget database\n",
      "2025-06-24 20:15:31,108 cisTarget    INFO     Running cisTarget for MC-AMY_vs_MW-AMY.5mC.down.dmr_2tools which has 59 regions\n",
      "2025-06-24 20:15:40,248 cisTarget    INFO     Annotating motifs for MC-AMY_vs_MW-AMY.5mC.down.dmr_2tools\n",
      "2025-06-24 20:15:41,627 cisTarget    INFO     Getting cistromes for MC-AMY_vs_MW-AMY.5mC.down.dmr_2tools\n",
      "['pycistarget', 'cistarget', '--cistarget_db_fname', '/data2st1/junyi/scenic/mouse/motif/mm10_screen_v10_clust.regions_vs_motifs.rankings.feather', '--bed_fname', '/data1st2/hannan_25/data/Nanopore_process/nanopore_08_differential/summary/dmr_sets/MC-PFC_vs_MW-PFC.5hmC.CG.up.dmr_2tools.bed', '--species', 'mus_musculus', '--auc_threshold', '0.005', '--nes_threshold', '3.0', '--rank_threshold', '0.05', '--path_to_motif_annotations', '/data2st1/junyi/scenic/mouse/motif/motifs-v10nr_clust-nr.mgi-m0.001-o0.0.tbl', '--output_folder', '/data1st2/hannan_25/data/Nanopore_process/nanopore_08_differential/summary/dmr_sets/cistarget/', '--write_html']\n"
     ]
    },
    {
     "name": "stderr",
     "output_type": "stream",
     "text": [
      "/home/junyichen/code/pycistarget/src/pycistarget/__init__.py:1: UserWarning: pkg_resources is deprecated as an API. See https://setuptools.pypa.io/en/latest/pkg_resources.html. The pkg_resources package is slated for removal as early as 2025-11-30. Refrain from using this package or pin to Setuptools<81.\n",
      "  from pkg_resources import get_distribution, DistributionNotFound\n"
     ]
    },
    {
     "name": "stdout",
     "output_type": "stream",
     "text": [
      "2025-06-24 20:15:43,812 cisTarget    INFO     Reading cisTarget database\n",
      "2025-06-24 20:15:52,998 cisTarget    INFO     Running cisTarget for MC-PFC_vs_MW-PFC.5hmC.CG.up.dmr_2tools which has 3 regions\n",
      "2025-06-24 20:16:01,939 cisTarget    INFO     Annotating motifs for MC-PFC_vs_MW-PFC.5hmC.CG.up.dmr_2tools\n",
      "2025-06-24 20:16:03,335 cisTarget    INFO     Getting cistromes for MC-PFC_vs_MW-PFC.5hmC.CG.up.dmr_2tools\n",
      "['pycistarget', 'cistarget', '--cistarget_db_fname', '/data2st1/junyi/scenic/mouse/motif/mm10_screen_v10_clust.regions_vs_motifs.rankings.feather', '--bed_fname', '/data1st2/hannan_25/data/Nanopore_process/nanopore_08_differential/summary/dmr_sets/FC-PFC_vs_FW-PFC.5hmC.CG.up.dmr_2tools.bed', '--species', 'mus_musculus', '--auc_threshold', '0.005', '--nes_threshold', '3.0', '--rank_threshold', '0.05', '--path_to_motif_annotations', '/data2st1/junyi/scenic/mouse/motif/motifs-v10nr_clust-nr.mgi-m0.001-o0.0.tbl', '--output_folder', '/data1st2/hannan_25/data/Nanopore_process/nanopore_08_differential/summary/dmr_sets/cistarget/', '--write_html']\n"
     ]
    },
    {
     "name": "stderr",
     "output_type": "stream",
     "text": [
      "/home/junyichen/code/pycistarget/src/pycistarget/__init__.py:1: UserWarning: pkg_resources is deprecated as an API. See https://setuptools.pypa.io/en/latest/pkg_resources.html. The pkg_resources package is slated for removal as early as 2025-11-30. Refrain from using this package or pin to Setuptools<81.\n",
      "  from pkg_resources import get_distribution, DistributionNotFound\n"
     ]
    },
    {
     "name": "stdout",
     "output_type": "stream",
     "text": [
      "2025-06-24 20:16:05,390 cisTarget    INFO     Reading cisTarget database\n",
      "2025-06-24 20:16:14,532 cisTarget    INFO     Running cisTarget for FC-PFC_vs_FW-PFC.5hmC.CG.up.dmr_2tools which has 1 regions\n",
      "2025-06-24 20:16:23,337 cisTarget    INFO     Annotating motifs for FC-PFC_vs_FW-PFC.5hmC.CG.up.dmr_2tools\n",
      "2025-06-24 20:16:24,700 cisTarget    INFO     Getting cistromes for FC-PFC_vs_FW-PFC.5hmC.CG.up.dmr_2tools\n",
      "['pycistarget', 'cistarget', '--cistarget_db_fname', '/data2st1/junyi/scenic/mouse/motif/mm10_screen_v10_clust.regions_vs_motifs.rankings.feather', '--bed_fname', '/data1st2/hannan_25/data/Nanopore_process/nanopore_08_differential/summary/dmr_sets/MC-PFC_vs_MW-PFC.5hmC.CN.down.dmr_2tools.bed', '--species', 'mus_musculus', '--auc_threshold', '0.005', '--nes_threshold', '3.0', '--rank_threshold', '0.05', '--path_to_motif_annotations', '/data2st1/junyi/scenic/mouse/motif/motifs-v10nr_clust-nr.mgi-m0.001-o0.0.tbl', '--output_folder', '/data1st2/hannan_25/data/Nanopore_process/nanopore_08_differential/summary/dmr_sets/cistarget/', '--write_html']\n"
     ]
    },
    {
     "name": "stderr",
     "output_type": "stream",
     "text": [
      "/home/junyichen/code/pycistarget/src/pycistarget/__init__.py:1: UserWarning: pkg_resources is deprecated as an API. See https://setuptools.pypa.io/en/latest/pkg_resources.html. The pkg_resources package is slated for removal as early as 2025-11-30. Refrain from using this package or pin to Setuptools<81.\n",
      "  from pkg_resources import get_distribution, DistributionNotFound\n"
     ]
    },
    {
     "name": "stdout",
     "output_type": "stream",
     "text": [
      "2025-06-24 20:16:26,655 cisTarget    INFO     Reading cisTarget database\n"
     ]
    },
    {
     "name": "stderr",
     "output_type": "stream",
     "text": [
      "Traceback (most recent call last):\n",
      "  File \"/home/junyichen/anaconda3/envs/snapatac2/bin/pycistarget\", line 8, in <module>\n",
      "    sys.exit(main())\n",
      "  File \"/home/junyichen/code/pycistarget/src/pycistarget/cli/pycistarget.py\", line 586, in main\n",
      "    args.func(args)\n",
      "  File \"/home/junyichen/code/pycistarget/src/pycistarget/cli/pycistarget.py\", line 69, in cistarget\n",
      "    run_cistarget_command(\n",
      "  File \"/home/junyichen/code/pycistarget/src/pycistarget/cli/commands.py\", line 93, in run_cistarget_command\n",
      "    ctx_db = cisTargetDatabase(\n",
      "  File \"/home/junyichen/code/pycistarget/src/pycistarget/motif_enrichment_cistarget.py\", line 55, in __init__\n",
      "    self.regions_to_db, self.db_rankings, self.total_regions = self.load_db(fname,\n",
      "  File \"/home/junyichen/code/pycistarget/src/pycistarget/motif_enrichment_cistarget.py\", line 111, in load_db\n",
      "    target_to_db = target_to_query(region_sets, list(db_regions), fraction_overlap = fraction_overlap)\n",
      "  File \"/home/junyichen/code/pycistarget/src/pycistarget/utils.py\", line 286, in target_to_query\n",
      "    raise ValueError(\n",
      "ValueError: \n",
      "            None of the regions in the bed file overlap with the cistarget database. \n",
      "            Check wether the chromosome names of the input regions are correctly \n",
      "            formatted and that you are using the correct database.\n",
      "            \n"
     ]
    },
    {
     "name": "stdout",
     "output_type": "stream",
     "text": [
      "['pycistarget', 'cistarget', '--cistarget_db_fname', '/data2st1/junyi/scenic/mouse/motif/mm10_screen_v10_clust.regions_vs_motifs.rankings.feather', '--bed_fname', '/data1st2/hannan_25/data/Nanopore_process/nanopore_08_differential/summary/dmr_sets/FC-AMY_vs_FW-AMY.5hmC.up.dmr_2tools.bed', '--species', 'mus_musculus', '--auc_threshold', '0.005', '--nes_threshold', '3.0', '--rank_threshold', '0.05', '--path_to_motif_annotations', '/data2st1/junyi/scenic/mouse/motif/motifs-v10nr_clust-nr.mgi-m0.001-o0.0.tbl', '--output_folder', '/data1st2/hannan_25/data/Nanopore_process/nanopore_08_differential/summary/dmr_sets/cistarget/', '--write_html']\n"
     ]
    },
    {
     "name": "stderr",
     "output_type": "stream",
     "text": [
      "/home/junyichen/code/pycistarget/src/pycistarget/__init__.py:1: UserWarning: pkg_resources is deprecated as an API. See https://setuptools.pypa.io/en/latest/pkg_resources.html. The pkg_resources package is slated for removal as early as 2025-11-30. Refrain from using this package or pin to Setuptools<81.\n",
      "  from pkg_resources import get_distribution, DistributionNotFound\n"
     ]
    },
    {
     "name": "stdout",
     "output_type": "stream",
     "text": [
      "2025-06-24 20:16:35,483 cisTarget    INFO     Reading cisTarget database\n",
      "2025-06-24 20:16:44,661 cisTarget    INFO     Running cisTarget for FC-AMY_vs_FW-AMY.5hmC.up.dmr_2tools which has 2 regions\n",
      "2025-06-24 20:16:53,518 cisTarget    INFO     Annotating motifs for FC-AMY_vs_FW-AMY.5hmC.up.dmr_2tools\n",
      "2025-06-24 20:16:54,902 cisTarget    INFO     Getting cistromes for FC-AMY_vs_FW-AMY.5hmC.up.dmr_2tools\n",
      "['pycistarget', 'cistarget', '--cistarget_db_fname', '/data2st1/junyi/scenic/mouse/motif/mm10_screen_v10_clust.regions_vs_motifs.rankings.feather', '--bed_fname', '/data1st2/hannan_25/data/Nanopore_process/nanopore_08_differential/summary/dmr_sets/FC-AMY_vs_FW-AMY.dmr_2tools.bed', '--species', 'mus_musculus', '--auc_threshold', '0.005', '--nes_threshold', '3.0', '--rank_threshold', '0.05', '--path_to_motif_annotations', '/data2st1/junyi/scenic/mouse/motif/motifs-v10nr_clust-nr.mgi-m0.001-o0.0.tbl', '--output_folder', '/data1st2/hannan_25/data/Nanopore_process/nanopore_08_differential/summary/dmr_sets/cistarget/', '--write_html']\n"
     ]
    },
    {
     "name": "stderr",
     "output_type": "stream",
     "text": [
      "/home/junyichen/code/pycistarget/src/pycistarget/__init__.py:1: UserWarning: pkg_resources is deprecated as an API. See https://setuptools.pypa.io/en/latest/pkg_resources.html. The pkg_resources package is slated for removal as early as 2025-11-30. Refrain from using this package or pin to Setuptools<81.\n",
      "  from pkg_resources import get_distribution, DistributionNotFound\n"
     ]
    },
    {
     "name": "stdout",
     "output_type": "stream",
     "text": [
      "2025-06-24 20:16:56,946 cisTarget    INFO     Reading cisTarget database\n"
     ]
    },
    {
     "name": "stderr",
     "output_type": "stream",
     "text": [
      "Traceback (most recent call last):\n",
      "  File \"/home/junyichen/anaconda3/envs/snapatac2/bin/pycistarget\", line 8, in <module>\n",
      "    sys.exit(main())\n",
      "  File \"/home/junyichen/code/pycistarget/src/pycistarget/cli/pycistarget.py\", line 586, in main\n",
      "    args.func(args)\n",
      "  File \"/home/junyichen/code/pycistarget/src/pycistarget/cli/pycistarget.py\", line 69, in cistarget\n",
      "    run_cistarget_command(\n",
      "  File \"/home/junyichen/code/pycistarget/src/pycistarget/cli/commands.py\", line 93, in run_cistarget_command\n",
      "    ctx_db = cisTargetDatabase(\n",
      "  File \"/home/junyichen/code/pycistarget/src/pycistarget/motif_enrichment_cistarget.py\", line 55, in __init__\n",
      "    self.regions_to_db, self.db_rankings, self.total_regions = self.load_db(fname,\n",
      "  File \"/home/junyichen/code/pycistarget/src/pycistarget/motif_enrichment_cistarget.py\", line 111, in load_db\n",
      "    target_to_db = target_to_query(region_sets, list(db_regions), fraction_overlap = fraction_overlap)\n",
      "  File \"/home/junyichen/code/pycistarget/src/pycistarget/utils.py\", line 286, in target_to_query\n",
      "    raise ValueError(\n",
      "ValueError: \n",
      "            None of the regions in the bed file overlap with the cistarget database. \n",
      "            Check wether the chromosome names of the input regions are correctly \n",
      "            formatted and that you are using the correct database.\n",
      "            \n"
     ]
    },
    {
     "name": "stdout",
     "output_type": "stream",
     "text": [
      "['pycistarget', 'cistarget', '--cistarget_db_fname', '/data2st1/junyi/scenic/mouse/motif/mm10_screen_v10_clust.regions_vs_motifs.rankings.feather', '--bed_fname', '/data1st2/hannan_25/data/Nanopore_process/nanopore_08_differential/summary/dmr_sets/MC-HIP_vs_MW-HIP.5mC.CG.down.dmr_2tools.bed', '--species', 'mus_musculus', '--auc_threshold', '0.005', '--nes_threshold', '3.0', '--rank_threshold', '0.05', '--path_to_motif_annotations', '/data2st1/junyi/scenic/mouse/motif/motifs-v10nr_clust-nr.mgi-m0.001-o0.0.tbl', '--output_folder', '/data1st2/hannan_25/data/Nanopore_process/nanopore_08_differential/summary/dmr_sets/cistarget/', '--write_html']\n"
     ]
    },
    {
     "name": "stderr",
     "output_type": "stream",
     "text": [
      "/home/junyichen/code/pycistarget/src/pycistarget/__init__.py:1: UserWarning: pkg_resources is deprecated as an API. See https://setuptools.pypa.io/en/latest/pkg_resources.html. The pkg_resources package is slated for removal as early as 2025-11-30. Refrain from using this package or pin to Setuptools<81.\n",
      "  from pkg_resources import get_distribution, DistributionNotFound\n"
     ]
    },
    {
     "name": "stdout",
     "output_type": "stream",
     "text": [
      "2025-06-24 20:17:05,646 cisTarget    INFO     Reading cisTarget database\n",
      "2025-06-24 20:17:14,948 cisTarget    INFO     Running cisTarget for MC-HIP_vs_MW-HIP.5mC.CG.down.dmr_2tools which has 43 regions\n",
      "2025-06-24 20:17:24,031 cisTarget    INFO     Annotating motifs for MC-HIP_vs_MW-HIP.5mC.CG.down.dmr_2tools\n",
      "2025-06-24 20:17:25,419 cisTarget    INFO     Getting cistromes for MC-HIP_vs_MW-HIP.5mC.CG.down.dmr_2tools\n",
      "['pycistarget', 'cistarget', '--cistarget_db_fname', '/data2st1/junyi/scenic/mouse/motif/mm10_screen_v10_clust.regions_vs_motifs.rankings.feather', '--bed_fname', '/data1st2/hannan_25/data/Nanopore_process/nanopore_08_differential/summary/dmr_sets/MC-PFC_vs_MW-PFC.5mC.CH.up.dmr_2tools.bed', '--species', 'mus_musculus', '--auc_threshold', '0.005', '--nes_threshold', '3.0', '--rank_threshold', '0.05', '--path_to_motif_annotations', '/data2st1/junyi/scenic/mouse/motif/motifs-v10nr_clust-nr.mgi-m0.001-o0.0.tbl', '--output_folder', '/data1st2/hannan_25/data/Nanopore_process/nanopore_08_differential/summary/dmr_sets/cistarget/', '--write_html']\n"
     ]
    },
    {
     "name": "stderr",
     "output_type": "stream",
     "text": [
      "/home/junyichen/code/pycistarget/src/pycistarget/__init__.py:1: UserWarning: pkg_resources is deprecated as an API. See https://setuptools.pypa.io/en/latest/pkg_resources.html. The pkg_resources package is slated for removal as early as 2025-11-30. Refrain from using this package or pin to Setuptools<81.\n",
      "  from pkg_resources import get_distribution, DistributionNotFound\n"
     ]
    },
    {
     "name": "stdout",
     "output_type": "stream",
     "text": [
      "2025-06-24 20:17:27,538 cisTarget    INFO     Reading cisTarget database\n"
     ]
    },
    {
     "name": "stderr",
     "output_type": "stream",
     "text": [
      "Traceback (most recent call last):\n",
      "  File \"/home/junyichen/anaconda3/envs/snapatac2/bin/pycistarget\", line 8, in <module>\n",
      "    sys.exit(main())\n",
      "  File \"/home/junyichen/code/pycistarget/src/pycistarget/cli/pycistarget.py\", line 586, in main\n",
      "    args.func(args)\n",
      "  File \"/home/junyichen/code/pycistarget/src/pycistarget/cli/pycistarget.py\", line 69, in cistarget\n",
      "    run_cistarget_command(\n",
      "  File \"/home/junyichen/code/pycistarget/src/pycistarget/cli/commands.py\", line 93, in run_cistarget_command\n",
      "    ctx_db = cisTargetDatabase(\n",
      "  File \"/home/junyichen/code/pycistarget/src/pycistarget/motif_enrichment_cistarget.py\", line 55, in __init__\n",
      "    self.regions_to_db, self.db_rankings, self.total_regions = self.load_db(fname,\n",
      "  File \"/home/junyichen/code/pycistarget/src/pycistarget/motif_enrichment_cistarget.py\", line 111, in load_db\n",
      "    target_to_db = target_to_query(region_sets, list(db_regions), fraction_overlap = fraction_overlap)\n",
      "  File \"/home/junyichen/code/pycistarget/src/pycistarget/utils.py\", line 286, in target_to_query\n",
      "    raise ValueError(\n",
      "ValueError: \n",
      "            None of the regions in the bed file overlap with the cistarget database. \n",
      "            Check wether the chromosome names of the input regions are correctly \n",
      "            formatted and that you are using the correct database.\n",
      "            \n"
     ]
    },
    {
     "name": "stdout",
     "output_type": "stream",
     "text": [
      "['pycistarget', 'cistarget', '--cistarget_db_fname', '/data2st1/junyi/scenic/mouse/motif/mm10_screen_v10_clust.regions_vs_motifs.rankings.feather', '--bed_fname', '/data1st2/hannan_25/data/Nanopore_process/nanopore_08_differential/summary/dmr_sets/MC-AMY_vs_MW-AMY.5hmC.CH.up.dmr_2tools.bed', '--species', 'mus_musculus', '--auc_threshold', '0.005', '--nes_threshold', '3.0', '--rank_threshold', '0.05', '--path_to_motif_annotations', '/data2st1/junyi/scenic/mouse/motif/motifs-v10nr_clust-nr.mgi-m0.001-o0.0.tbl', '--output_folder', '/data1st2/hannan_25/data/Nanopore_process/nanopore_08_differential/summary/dmr_sets/cistarget/', '--write_html']\n"
     ]
    },
    {
     "name": "stderr",
     "output_type": "stream",
     "text": [
      "/home/junyichen/code/pycistarget/src/pycistarget/__init__.py:1: UserWarning: pkg_resources is deprecated as an API. See https://setuptools.pypa.io/en/latest/pkg_resources.html. The pkg_resources package is slated for removal as early as 2025-11-30. Refrain from using this package or pin to Setuptools<81.\n",
      "  from pkg_resources import get_distribution, DistributionNotFound\n"
     ]
    },
    {
     "name": "stdout",
     "output_type": "stream",
     "text": [
      "2025-06-24 20:17:36,501 cisTarget    INFO     Reading cisTarget database\n"
     ]
    },
    {
     "name": "stderr",
     "output_type": "stream",
     "text": [
      "Traceback (most recent call last):\n",
      "  File \"/home/junyichen/anaconda3/envs/snapatac2/bin/pycistarget\", line 8, in <module>\n",
      "    sys.exit(main())\n",
      "  File \"/home/junyichen/code/pycistarget/src/pycistarget/cli/pycistarget.py\", line 586, in main\n",
      "    args.func(args)\n",
      "  File \"/home/junyichen/code/pycistarget/src/pycistarget/cli/pycistarget.py\", line 69, in cistarget\n",
      "    run_cistarget_command(\n",
      "  File \"/home/junyichen/code/pycistarget/src/pycistarget/cli/commands.py\", line 93, in run_cistarget_command\n",
      "    ctx_db = cisTargetDatabase(\n",
      "  File \"/home/junyichen/code/pycistarget/src/pycistarget/motif_enrichment_cistarget.py\", line 55, in __init__\n",
      "    self.regions_to_db, self.db_rankings, self.total_regions = self.load_db(fname,\n",
      "  File \"/home/junyichen/code/pycistarget/src/pycistarget/motif_enrichment_cistarget.py\", line 111, in load_db\n",
      "    target_to_db = target_to_query(region_sets, list(db_regions), fraction_overlap = fraction_overlap)\n",
      "  File \"/home/junyichen/code/pycistarget/src/pycistarget/utils.py\", line 286, in target_to_query\n",
      "    raise ValueError(\n",
      "ValueError: \n",
      "            None of the regions in the bed file overlap with the cistarget database. \n",
      "            Check wether the chromosome names of the input regions are correctly \n",
      "            formatted and that you are using the correct database.\n",
      "            \n"
     ]
    },
    {
     "name": "stdout",
     "output_type": "stream",
     "text": [
      "['pycistarget', 'cistarget', '--cistarget_db_fname', '/data2st1/junyi/scenic/mouse/motif/mm10_screen_v10_clust.regions_vs_motifs.rankings.feather', '--bed_fname', '/data1st2/hannan_25/data/Nanopore_process/nanopore_08_differential/summary/dmr_sets/MC-HIP_vs_MW-HIP.5hmC.down.dmr_2tools.bed', '--species', 'mus_musculus', '--auc_threshold', '0.005', '--nes_threshold', '3.0', '--rank_threshold', '0.05', '--path_to_motif_annotations', '/data2st1/junyi/scenic/mouse/motif/motifs-v10nr_clust-nr.mgi-m0.001-o0.0.tbl', '--output_folder', '/data1st2/hannan_25/data/Nanopore_process/nanopore_08_differential/summary/dmr_sets/cistarget/', '--write_html']\n"
     ]
    },
    {
     "name": "stderr",
     "output_type": "stream",
     "text": [
      "/home/junyichen/code/pycistarget/src/pycistarget/__init__.py:1: UserWarning: pkg_resources is deprecated as an API. See https://setuptools.pypa.io/en/latest/pkg_resources.html. The pkg_resources package is slated for removal as early as 2025-11-30. Refrain from using this package or pin to Setuptools<81.\n",
      "  from pkg_resources import get_distribution, DistributionNotFound\n"
     ]
    },
    {
     "name": "stdout",
     "output_type": "stream",
     "text": [
      "2025-06-24 20:17:45,209 cisTarget    INFO     Reading cisTarget database\n",
      "2025-06-24 20:17:54,349 cisTarget    INFO     Running cisTarget for MC-HIP_vs_MW-HIP.5hmC.down.dmr_2tools which has 1 regions\n",
      "2025-06-24 20:18:03,099 cisTarget    INFO     Annotating motifs for MC-HIP_vs_MW-HIP.5hmC.down.dmr_2tools\n",
      "2025-06-24 20:18:04,414 cisTarget    INFO     Getting cistromes for MC-HIP_vs_MW-HIP.5hmC.down.dmr_2tools\n",
      "['pycistarget', 'cistarget', '--cistarget_db_fname', '/data2st1/junyi/scenic/mouse/motif/mm10_screen_v10_clust.regions_vs_motifs.rankings.feather', '--bed_fname', '/data1st2/hannan_25/data/Nanopore_process/nanopore_08_differential/summary/dmr_sets/MC-PFC_vs_MW-PFC.5mC.CN.up.dmr_2tools.bed', '--species', 'mus_musculus', '--auc_threshold', '0.005', '--nes_threshold', '3.0', '--rank_threshold', '0.05', '--path_to_motif_annotations', '/data2st1/junyi/scenic/mouse/motif/motifs-v10nr_clust-nr.mgi-m0.001-o0.0.tbl', '--output_folder', '/data1st2/hannan_25/data/Nanopore_process/nanopore_08_differential/summary/dmr_sets/cistarget/', '--write_html']\n"
     ]
    },
    {
     "name": "stderr",
     "output_type": "stream",
     "text": [
      "/home/junyichen/code/pycistarget/src/pycistarget/__init__.py:1: UserWarning: pkg_resources is deprecated as an API. See https://setuptools.pypa.io/en/latest/pkg_resources.html. The pkg_resources package is slated for removal as early as 2025-11-30. Refrain from using this package or pin to Setuptools<81.\n",
      "  from pkg_resources import get_distribution, DistributionNotFound\n"
     ]
    },
    {
     "name": "stdout",
     "output_type": "stream",
     "text": [
      "2025-06-24 20:18:06,307 cisTarget    INFO     Reading cisTarget database\n",
      "2025-06-24 20:18:15,555 cisTarget    INFO     Running cisTarget for MC-PFC_vs_MW-PFC.5mC.CN.up.dmr_2tools which has 1 regions\n",
      "2025-06-24 20:18:24,340 cisTarget    INFO     Annotating motifs for MC-PFC_vs_MW-PFC.5mC.CN.up.dmr_2tools\n",
      "2025-06-24 20:18:25,736 cisTarget    INFO     Getting cistromes for MC-PFC_vs_MW-PFC.5mC.CN.up.dmr_2tools\n",
      "['pycistarget', 'cistarget', '--cistarget_db_fname', '/data2st1/junyi/scenic/mouse/motif/mm10_screen_v10_clust.regions_vs_motifs.rankings.feather', '--bed_fname', '/data1st2/hannan_25/data/Nanopore_process/nanopore_08_differential/summary/dmr_sets/MC-AMY_vs_MW-AMY.5hmC.down.dmr_2tools.bed', '--species', 'mus_musculus', '--auc_threshold', '0.005', '--nes_threshold', '3.0', '--rank_threshold', '0.05', '--path_to_motif_annotations', '/data2st1/junyi/scenic/mouse/motif/motifs-v10nr_clust-nr.mgi-m0.001-o0.0.tbl', '--output_folder', '/data1st2/hannan_25/data/Nanopore_process/nanopore_08_differential/summary/dmr_sets/cistarget/', '--write_html']\n"
     ]
    },
    {
     "name": "stderr",
     "output_type": "stream",
     "text": [
      "/home/junyichen/code/pycistarget/src/pycistarget/__init__.py:1: UserWarning: pkg_resources is deprecated as an API. See https://setuptools.pypa.io/en/latest/pkg_resources.html. The pkg_resources package is slated for removal as early as 2025-11-30. Refrain from using this package or pin to Setuptools<81.\n",
      "  from pkg_resources import get_distribution, DistributionNotFound\n"
     ]
    },
    {
     "name": "stdout",
     "output_type": "stream",
     "text": [
      "2025-06-24 20:18:27,764 cisTarget    INFO     Reading cisTarget database\n",
      "2025-06-24 20:18:37,033 cisTarget    INFO     Running cisTarget for MC-AMY_vs_MW-AMY.5hmC.down.dmr_2tools which has 1 regions\n",
      "2025-06-24 20:18:45,803 cisTarget    INFO     Annotating motifs for MC-AMY_vs_MW-AMY.5hmC.down.dmr_2tools\n",
      "2025-06-24 20:18:47,161 cisTarget    INFO     Getting cistromes for MC-AMY_vs_MW-AMY.5hmC.down.dmr_2tools\n",
      "['pycistarget', 'cistarget', '--cistarget_db_fname', '/data2st1/junyi/scenic/mouse/motif/mm10_screen_v10_clust.regions_vs_motifs.rankings.feather', '--bed_fname', '/data1st2/hannan_25/data/Nanopore_process/nanopore_08_differential/summary/dmr_sets/FC-PFC_vs_FW-PFC.5hmC.down.dmr_2tools.bed', '--species', 'mus_musculus', '--auc_threshold', '0.005', '--nes_threshold', '3.0', '--rank_threshold', '0.05', '--path_to_motif_annotations', '/data2st1/junyi/scenic/mouse/motif/motifs-v10nr_clust-nr.mgi-m0.001-o0.0.tbl', '--output_folder', '/data1st2/hannan_25/data/Nanopore_process/nanopore_08_differential/summary/dmr_sets/cistarget/', '--write_html']\n"
     ]
    },
    {
     "name": "stderr",
     "output_type": "stream",
     "text": [
      "/home/junyichen/code/pycistarget/src/pycistarget/__init__.py:1: UserWarning: pkg_resources is deprecated as an API. See https://setuptools.pypa.io/en/latest/pkg_resources.html. The pkg_resources package is slated for removal as early as 2025-11-30. Refrain from using this package or pin to Setuptools<81.\n",
      "  from pkg_resources import get_distribution, DistributionNotFound\n"
     ]
    },
    {
     "name": "stdout",
     "output_type": "stream",
     "text": [
      "2025-06-24 20:18:49,182 cisTarget    INFO     Reading cisTarget database\n",
      "2025-06-24 20:18:58,355 cisTarget    INFO     Running cisTarget for FC-PFC_vs_FW-PFC.5hmC.down.dmr_2tools which has 1 regions\n",
      "2025-06-24 20:19:07,184 cisTarget    INFO     Annotating motifs for FC-PFC_vs_FW-PFC.5hmC.down.dmr_2tools\n",
      "2025-06-24 20:19:08,563 cisTarget    INFO     Getting cistromes for FC-PFC_vs_FW-PFC.5hmC.down.dmr_2tools\n",
      "['pycistarget', 'cistarget', '--cistarget_db_fname', '/data2st1/junyi/scenic/mouse/motif/mm10_screen_v10_clust.regions_vs_motifs.rankings.feather', '--bed_fname', '/data1st2/hannan_25/data/Nanopore_process/nanopore_08_differential/summary/dmr_sets/MC-PFC_vs_MW-PFC.5mC.down.dmr_2tools.bed', '--species', 'mus_musculus', '--auc_threshold', '0.005', '--nes_threshold', '3.0', '--rank_threshold', '0.05', '--path_to_motif_annotations', '/data2st1/junyi/scenic/mouse/motif/motifs-v10nr_clust-nr.mgi-m0.001-o0.0.tbl', '--output_folder', '/data1st2/hannan_25/data/Nanopore_process/nanopore_08_differential/summary/dmr_sets/cistarget/', '--write_html']\n"
     ]
    },
    {
     "name": "stderr",
     "output_type": "stream",
     "text": [
      "/home/junyichen/code/pycistarget/src/pycistarget/__init__.py:1: UserWarning: pkg_resources is deprecated as an API. See https://setuptools.pypa.io/en/latest/pkg_resources.html. The pkg_resources package is slated for removal as early as 2025-11-30. Refrain from using this package or pin to Setuptools<81.\n",
      "  from pkg_resources import get_distribution, DistributionNotFound\n"
     ]
    },
    {
     "name": "stdout",
     "output_type": "stream",
     "text": [
      "2025-06-24 20:19:10,605 cisTarget    INFO     Reading cisTarget database\n",
      "2025-06-24 20:19:19,866 cisTarget    INFO     Running cisTarget for MC-PFC_vs_MW-PFC.5mC.down.dmr_2tools which has 80 regions\n",
      "2025-06-24 20:19:29,125 cisTarget    INFO     Annotating motifs for MC-PFC_vs_MW-PFC.5mC.down.dmr_2tools\n",
      "2025-06-24 20:19:30,549 cisTarget    INFO     Getting cistromes for MC-PFC_vs_MW-PFC.5mC.down.dmr_2tools\n",
      "['pycistarget', 'cistarget', '--cistarget_db_fname', '/data2st1/junyi/scenic/mouse/motif/mm10_screen_v10_clust.regions_vs_motifs.rankings.feather', '--bed_fname', '/data1st2/hannan_25/data/Nanopore_process/nanopore_08_differential/summary/dmr_sets/MC-HIP_vs_MW-HIP.5mC.CH.down.dmr_2tools.bed', '--species', 'mus_musculus', '--auc_threshold', '0.005', '--nes_threshold', '3.0', '--rank_threshold', '0.05', '--path_to_motif_annotations', '/data2st1/junyi/scenic/mouse/motif/motifs-v10nr_clust-nr.mgi-m0.001-o0.0.tbl', '--output_folder', '/data1st2/hannan_25/data/Nanopore_process/nanopore_08_differential/summary/dmr_sets/cistarget/', '--write_html']\n"
     ]
    },
    {
     "name": "stderr",
     "output_type": "stream",
     "text": [
      "/home/junyichen/code/pycistarget/src/pycistarget/__init__.py:1: UserWarning: pkg_resources is deprecated as an API. See https://setuptools.pypa.io/en/latest/pkg_resources.html. The pkg_resources package is slated for removal as early as 2025-11-30. Refrain from using this package or pin to Setuptools<81.\n",
      "  from pkg_resources import get_distribution, DistributionNotFound\n"
     ]
    },
    {
     "name": "stdout",
     "output_type": "stream",
     "text": [
      "2025-06-24 20:19:32,811 cisTarget    INFO     Reading cisTarget database\n"
     ]
    },
    {
     "name": "stderr",
     "output_type": "stream",
     "text": [
      "Traceback (most recent call last):\n",
      "  File \"/home/junyichen/anaconda3/envs/snapatac2/bin/pycistarget\", line 8, in <module>\n",
      "    sys.exit(main())\n",
      "  File \"/home/junyichen/code/pycistarget/src/pycistarget/cli/pycistarget.py\", line 586, in main\n",
      "    args.func(args)\n",
      "  File \"/home/junyichen/code/pycistarget/src/pycistarget/cli/pycistarget.py\", line 69, in cistarget\n",
      "    run_cistarget_command(\n",
      "  File \"/home/junyichen/code/pycistarget/src/pycistarget/cli/commands.py\", line 93, in run_cistarget_command\n",
      "    ctx_db = cisTargetDatabase(\n",
      "  File \"/home/junyichen/code/pycistarget/src/pycistarget/motif_enrichment_cistarget.py\", line 55, in __init__\n",
      "    self.regions_to_db, self.db_rankings, self.total_regions = self.load_db(fname,\n",
      "  File \"/home/junyichen/code/pycistarget/src/pycistarget/motif_enrichment_cistarget.py\", line 111, in load_db\n",
      "    target_to_db = target_to_query(region_sets, list(db_regions), fraction_overlap = fraction_overlap)\n",
      "  File \"/home/junyichen/code/pycistarget/src/pycistarget/utils.py\", line 286, in target_to_query\n",
      "    raise ValueError(\n",
      "ValueError: \n",
      "            None of the regions in the bed file overlap with the cistarget database. \n",
      "            Check wether the chromosome names of the input regions are correctly \n",
      "            formatted and that you are using the correct database.\n",
      "            \n"
     ]
    },
    {
     "name": "stdout",
     "output_type": "stream",
     "text": [
      "['pycistarget', 'cistarget', '--cistarget_db_fname', '/data2st1/junyi/scenic/mouse/motif/mm10_screen_v10_clust.regions_vs_motifs.rankings.feather', '--bed_fname', '/data1st2/hannan_25/data/Nanopore_process/nanopore_08_differential/summary/dmr_sets/MC-HIP_vs_MW-HIP.5mC.up.dmr_2tools.bed', '--species', 'mus_musculus', '--auc_threshold', '0.005', '--nes_threshold', '3.0', '--rank_threshold', '0.05', '--path_to_motif_annotations', '/data2st1/junyi/scenic/mouse/motif/motifs-v10nr_clust-nr.mgi-m0.001-o0.0.tbl', '--output_folder', '/data1st2/hannan_25/data/Nanopore_process/nanopore_08_differential/summary/dmr_sets/cistarget/', '--write_html']\n"
     ]
    },
    {
     "name": "stderr",
     "output_type": "stream",
     "text": [
      "/home/junyichen/code/pycistarget/src/pycistarget/__init__.py:1: UserWarning: pkg_resources is deprecated as an API. See https://setuptools.pypa.io/en/latest/pkg_resources.html. The pkg_resources package is slated for removal as early as 2025-11-30. Refrain from using this package or pin to Setuptools<81.\n",
      "  from pkg_resources import get_distribution, DistributionNotFound\n"
     ]
    },
    {
     "name": "stdout",
     "output_type": "stream",
     "text": [
      "2025-06-24 20:19:41,538 cisTarget    INFO     Reading cisTarget database\n",
      "2025-06-24 20:19:50,971 cisTarget    INFO     Running cisTarget for MC-HIP_vs_MW-HIP.5mC.up.dmr_2tools which has 104 regions\n",
      "2025-06-24 20:20:00,330 cisTarget    INFO     Annotating motifs for MC-HIP_vs_MW-HIP.5mC.up.dmr_2tools\n",
      "2025-06-24 20:20:01,697 cisTarget    INFO     Getting cistromes for MC-HIP_vs_MW-HIP.5mC.up.dmr_2tools\n",
      "['pycistarget', 'cistarget', '--cistarget_db_fname', '/data2st1/junyi/scenic/mouse/motif/mm10_screen_v10_clust.regions_vs_motifs.rankings.feather', '--bed_fname', '/data1st2/hannan_25/data/Nanopore_process/nanopore_08_differential/summary/dmr_sets/FC-HIP_vs_FW-HIP.5mC.CG.down.dmr_2tools.bed', '--species', 'mus_musculus', '--auc_threshold', '0.005', '--nes_threshold', '3.0', '--rank_threshold', '0.05', '--path_to_motif_annotations', '/data2st1/junyi/scenic/mouse/motif/motifs-v10nr_clust-nr.mgi-m0.001-o0.0.tbl', '--output_folder', '/data1st2/hannan_25/data/Nanopore_process/nanopore_08_differential/summary/dmr_sets/cistarget/', '--write_html']\n"
     ]
    },
    {
     "name": "stderr",
     "output_type": "stream",
     "text": [
      "/home/junyichen/code/pycistarget/src/pycistarget/__init__.py:1: UserWarning: pkg_resources is deprecated as an API. See https://setuptools.pypa.io/en/latest/pkg_resources.html. The pkg_resources package is slated for removal as early as 2025-11-30. Refrain from using this package or pin to Setuptools<81.\n",
      "  from pkg_resources import get_distribution, DistributionNotFound\n"
     ]
    },
    {
     "name": "stdout",
     "output_type": "stream",
     "text": [
      "2025-06-24 20:20:03,840 cisTarget    INFO     Reading cisTarget database\n",
      "2025-06-24 20:20:13,176 cisTarget    INFO     Running cisTarget for FC-HIP_vs_FW-HIP.5mC.CG.down.dmr_2tools which has 78 regions\n",
      "2025-06-24 20:20:22,261 cisTarget    INFO     Annotating motifs for FC-HIP_vs_FW-HIP.5mC.CG.down.dmr_2tools\n",
      "2025-06-24 20:20:23,616 cisTarget    INFO     Getting cistromes for FC-HIP_vs_FW-HIP.5mC.CG.down.dmr_2tools\n",
      "['pycistarget', 'cistarget', '--cistarget_db_fname', '/data2st1/junyi/scenic/mouse/motif/mm10_screen_v10_clust.regions_vs_motifs.rankings.feather', '--bed_fname', '/data1st2/hannan_25/data/Nanopore_process/nanopore_08_differential/summary/dmr_sets/MC-AMY_vs_MW-AMY.5hmC.CG.down.dmr_2tools.bed', '--species', 'mus_musculus', '--auc_threshold', '0.005', '--nes_threshold', '3.0', '--rank_threshold', '0.05', '--path_to_motif_annotations', '/data2st1/junyi/scenic/mouse/motif/motifs-v10nr_clust-nr.mgi-m0.001-o0.0.tbl', '--output_folder', '/data1st2/hannan_25/data/Nanopore_process/nanopore_08_differential/summary/dmr_sets/cistarget/', '--write_html']\n"
     ]
    },
    {
     "name": "stderr",
     "output_type": "stream",
     "text": [
      "/home/junyichen/code/pycistarget/src/pycistarget/__init__.py:1: UserWarning: pkg_resources is deprecated as an API. See https://setuptools.pypa.io/en/latest/pkg_resources.html. The pkg_resources package is slated for removal as early as 2025-11-30. Refrain from using this package or pin to Setuptools<81.\n",
      "  from pkg_resources import get_distribution, DistributionNotFound\n"
     ]
    },
    {
     "name": "stdout",
     "output_type": "stream",
     "text": [
      "2025-06-24 20:20:25,837 cisTarget    INFO     Reading cisTarget database\n",
      "2025-06-24 20:20:35,124 cisTarget    INFO     Running cisTarget for MC-AMY_vs_MW-AMY.5hmC.CG.down.dmr_2tools which has 1 regions\n",
      "2025-06-24 20:20:43,859 cisTarget    INFO     Annotating motifs for MC-AMY_vs_MW-AMY.5hmC.CG.down.dmr_2tools\n",
      "2025-06-24 20:20:45,218 cisTarget    INFO     Getting cistromes for MC-AMY_vs_MW-AMY.5hmC.CG.down.dmr_2tools\n",
      "['pycistarget', 'cistarget', '--cistarget_db_fname', '/data2st1/junyi/scenic/mouse/motif/mm10_screen_v10_clust.regions_vs_motifs.rankings.feather', '--bed_fname', '/data1st2/hannan_25/data/Nanopore_process/nanopore_08_differential/summary/dmr_sets/MC-AMY_vs_MW-AMY.5mC.CG.down.dmr_2tools.bed', '--species', 'mus_musculus', '--auc_threshold', '0.005', '--nes_threshold', '3.0', '--rank_threshold', '0.05', '--path_to_motif_annotations', '/data2st1/junyi/scenic/mouse/motif/motifs-v10nr_clust-nr.mgi-m0.001-o0.0.tbl', '--output_folder', '/data1st2/hannan_25/data/Nanopore_process/nanopore_08_differential/summary/dmr_sets/cistarget/', '--write_html']\n"
     ]
    },
    {
     "name": "stderr",
     "output_type": "stream",
     "text": [
      "/home/junyichen/code/pycistarget/src/pycistarget/__init__.py:1: UserWarning: pkg_resources is deprecated as an API. See https://setuptools.pypa.io/en/latest/pkg_resources.html. The pkg_resources package is slated for removal as early as 2025-11-30. Refrain from using this package or pin to Setuptools<81.\n",
      "  from pkg_resources import get_distribution, DistributionNotFound\n"
     ]
    },
    {
     "name": "stdout",
     "output_type": "stream",
     "text": [
      "2025-06-24 20:20:47,231 cisTarget    INFO     Reading cisTarget database\n",
      "2025-06-24 20:20:56,588 cisTarget    INFO     Running cisTarget for MC-AMY_vs_MW-AMY.5mC.CG.down.dmr_2tools which has 59 regions\n",
      "2025-06-24 20:21:05,755 cisTarget    INFO     Annotating motifs for MC-AMY_vs_MW-AMY.5mC.CG.down.dmr_2tools\n",
      "2025-06-24 20:21:07,132 cisTarget    INFO     Getting cistromes for MC-AMY_vs_MW-AMY.5mC.CG.down.dmr_2tools\n",
      "['pycistarget', 'cistarget', '--cistarget_db_fname', '/data2st1/junyi/scenic/mouse/motif/mm10_screen_v10_clust.regions_vs_motifs.rankings.feather', '--bed_fname', '/data1st2/hannan_25/data/Nanopore_process/nanopore_08_differential/summary/dmr_sets/MC-PFC_vs_MW-PFC.5mC.up.dmr_2tools.bed', '--species', 'mus_musculus', '--auc_threshold', '0.005', '--nes_threshold', '3.0', '--rank_threshold', '0.05', '--path_to_motif_annotations', '/data2st1/junyi/scenic/mouse/motif/motifs-v10nr_clust-nr.mgi-m0.001-o0.0.tbl', '--output_folder', '/data1st2/hannan_25/data/Nanopore_process/nanopore_08_differential/summary/dmr_sets/cistarget/', '--write_html']\n"
     ]
    },
    {
     "name": "stderr",
     "output_type": "stream",
     "text": [
      "/home/junyichen/code/pycistarget/src/pycistarget/__init__.py:1: UserWarning: pkg_resources is deprecated as an API. See https://setuptools.pypa.io/en/latest/pkg_resources.html. The pkg_resources package is slated for removal as early as 2025-11-30. Refrain from using this package or pin to Setuptools<81.\n",
      "  from pkg_resources import get_distribution, DistributionNotFound\n"
     ]
    },
    {
     "name": "stdout",
     "output_type": "stream",
     "text": [
      "2025-06-24 20:21:09,298 cisTarget    INFO     Reading cisTarget database\n",
      "2025-06-24 20:21:18,586 cisTarget    INFO     Running cisTarget for MC-PFC_vs_MW-PFC.5mC.up.dmr_2tools which has 80 regions\n",
      "2025-06-24 20:21:27,812 cisTarget    INFO     Annotating motifs for MC-PFC_vs_MW-PFC.5mC.up.dmr_2tools\n",
      "2025-06-24 20:21:29,214 cisTarget    INFO     Getting cistromes for MC-PFC_vs_MW-PFC.5mC.up.dmr_2tools\n",
      "['pycistarget', 'cistarget', '--cistarget_db_fname', '/data2st1/junyi/scenic/mouse/motif/mm10_screen_v10_clust.regions_vs_motifs.rankings.feather', '--bed_fname', '/data1st2/hannan_25/data/Nanopore_process/nanopore_08_differential/summary/dmr_sets/MC-AMY_vs_MW-AMY.5mC.CH.up.dmr_2tools.bed', '--species', 'mus_musculus', '--auc_threshold', '0.005', '--nes_threshold', '3.0', '--rank_threshold', '0.05', '--path_to_motif_annotations', '/data2st1/junyi/scenic/mouse/motif/motifs-v10nr_clust-nr.mgi-m0.001-o0.0.tbl', '--output_folder', '/data1st2/hannan_25/data/Nanopore_process/nanopore_08_differential/summary/dmr_sets/cistarget/', '--write_html']\n"
     ]
    },
    {
     "name": "stderr",
     "output_type": "stream",
     "text": [
      "/home/junyichen/code/pycistarget/src/pycistarget/__init__.py:1: UserWarning: pkg_resources is deprecated as an API. See https://setuptools.pypa.io/en/latest/pkg_resources.html. The pkg_resources package is slated for removal as early as 2025-11-30. Refrain from using this package or pin to Setuptools<81.\n",
      "  from pkg_resources import get_distribution, DistributionNotFound\n"
     ]
    },
    {
     "name": "stdout",
     "output_type": "stream",
     "text": [
      "2025-06-24 20:21:31,335 cisTarget    INFO     Reading cisTarget database\n"
     ]
    },
    {
     "name": "stderr",
     "output_type": "stream",
     "text": [
      "Traceback (most recent call last):\n",
      "  File \"/home/junyichen/anaconda3/envs/snapatac2/bin/pycistarget\", line 8, in <module>\n",
      "    sys.exit(main())\n",
      "  File \"/home/junyichen/code/pycistarget/src/pycistarget/cli/pycistarget.py\", line 586, in main\n",
      "    args.func(args)\n",
      "  File \"/home/junyichen/code/pycistarget/src/pycistarget/cli/pycistarget.py\", line 69, in cistarget\n",
      "    run_cistarget_command(\n",
      "  File \"/home/junyichen/code/pycistarget/src/pycistarget/cli/commands.py\", line 93, in run_cistarget_command\n",
      "    ctx_db = cisTargetDatabase(\n",
      "  File \"/home/junyichen/code/pycistarget/src/pycistarget/motif_enrichment_cistarget.py\", line 55, in __init__\n",
      "    self.regions_to_db, self.db_rankings, self.total_regions = self.load_db(fname,\n",
      "  File \"/home/junyichen/code/pycistarget/src/pycistarget/motif_enrichment_cistarget.py\", line 111, in load_db\n",
      "    target_to_db = target_to_query(region_sets, list(db_regions), fraction_overlap = fraction_overlap)\n",
      "  File \"/home/junyichen/code/pycistarget/src/pycistarget/utils.py\", line 286, in target_to_query\n",
      "    raise ValueError(\n",
      "ValueError: \n",
      "            None of the regions in the bed file overlap with the cistarget database. \n",
      "            Check wether the chromosome names of the input regions are correctly \n",
      "            formatted and that you are using the correct database.\n",
      "            \n"
     ]
    }
   ],
   "source": [
    "files = glob.glob('/data1st2/hannan_25/data/Nanopore_process/nanopore_08_differential/summary/dmr_sets/*vs*.bed')\n",
    "for filename in files:\n",
    "    command_str = ['pycistarget','cistarget','--cistarget_db_fname','/data2st1/junyi/scenic/mouse/motif/mm10_screen_v10_clust.regions_vs_motifs.rankings.feather'\n",
    "                   ,'--bed_fname',filename,'--species','mus_musculus','--auc_threshold','0.005','--nes_threshold','3.0','--rank_threshold','0.05'\n",
    "                   ,'--path_to_motif_annotations','/data2st1/junyi/scenic/mouse/motif/motifs-v10nr_clust-nr.mgi-m0.001-o0.0.tbl'\n",
    "                   ,'--output_folder','/data1st2/hannan_25/data/Nanopore_process/nanopore_08_differential/summary/dmr_sets/cistarget/','--write_html']\n",
    "    print(command_str)\n",
    "    subprocess.run(command_str)"
   ]
  },
  {
   "cell_type": "code",
   "execution_count": null,
   "metadata": {},
   "outputs": [
    {
     "data": {
      "text/html": [
       "<div>\n",
       "<style scoped>\n",
       "    .dataframe tbody tr th:only-of-type {\n",
       "        vertical-align: middle;\n",
       "    }\n",
       "\n",
       "    .dataframe tbody tr th {\n",
       "        vertical-align: top;\n",
       "    }\n",
       "\n",
       "    .dataframe thead th {\n",
       "        text-align: right;\n",
       "    }\n",
       "</style>\n",
       "<table border=\"1\" class=\"dataframe\">\n",
       "  <thead>\n",
       "    <tr style=\"text-align: right;\">\n",
       "      <th></th>\n",
       "      <th>chr</th>\n",
       "      <th>start</th>\n",
       "      <th>end</th>\n",
       "      <th>names</th>\n",
       "    </tr>\n",
       "  </thead>\n",
       "  <tbody>\n",
       "    <tr>\n",
       "      <th>0</th>\n",
       "      <td>chr2</td>\n",
       "      <td>26336950</td>\n",
       "      <td>26337076</td>\n",
       "      <td>5hmC|CG_2:26336950-26337076</td>\n",
       "    </tr>\n",
       "    <tr>\n",
       "      <th>1</th>\n",
       "      <td>chr2</td>\n",
       "      <td>26337215</td>\n",
       "      <td>26337264</td>\n",
       "      <td>5hmC|CG_2:26337215-26337264</td>\n",
       "    </tr>\n",
       "    <tr>\n",
       "      <th>2</th>\n",
       "      <td>chr6</td>\n",
       "      <td>70726507</td>\n",
       "      <td>70726675</td>\n",
       "      <td>5hmC|CG_6:70726507-70726675</td>\n",
       "    </tr>\n",
       "    <tr>\n",
       "      <th>3</th>\n",
       "      <td>chr6</td>\n",
       "      <td>70726507</td>\n",
       "      <td>70726509</td>\n",
       "      <td>5hmC|CN_6:70726507-70726509</td>\n",
       "    </tr>\n",
       "    <tr>\n",
       "      <th>4</th>\n",
       "      <td>chr6</td>\n",
       "      <td>70726574</td>\n",
       "      <td>70726587</td>\n",
       "      <td>5hmC|CN_6:70726574-70726587</td>\n",
       "    </tr>\n",
       "    <tr>\n",
       "      <th>...</th>\n",
       "      <td>...</td>\n",
       "      <td>...</td>\n",
       "      <td>...</td>\n",
       "      <td>...</td>\n",
       "    </tr>\n",
       "    <tr>\n",
       "      <th>62</th>\n",
       "      <td>chrY</td>\n",
       "      <td>90796944</td>\n",
       "      <td>90796946</td>\n",
       "      <td>5hmC|CN_Y:90796944-90796946</td>\n",
       "    </tr>\n",
       "    <tr>\n",
       "      <th>63</th>\n",
       "      <td>chrY</td>\n",
       "      <td>90799390</td>\n",
       "      <td>90799437</td>\n",
       "      <td>5hmC|CG_Y:90799390-90799437</td>\n",
       "    </tr>\n",
       "    <tr>\n",
       "      <th>64</th>\n",
       "      <td>chrY</td>\n",
       "      <td>90803587</td>\n",
       "      <td>90803592</td>\n",
       "      <td>5hmC|CG_Y:90803587-90803592</td>\n",
       "    </tr>\n",
       "    <tr>\n",
       "      <th>65</th>\n",
       "      <td>chrY</td>\n",
       "      <td>90803665</td>\n",
       "      <td>90803696</td>\n",
       "      <td>5hmC|CG_Y:90803665-90803696</td>\n",
       "    </tr>\n",
       "    <tr>\n",
       "      <th>66</th>\n",
       "      <td>chrY</td>\n",
       "      <td>90805201</td>\n",
       "      <td>90805218</td>\n",
       "      <td>5hmC|CG_Y:90805201-90805218</td>\n",
       "    </tr>\n",
       "  </tbody>\n",
       "</table>\n",
       "<p>67 rows × 4 columns</p>\n",
       "</div>"
      ],
      "text/plain": [
       "     chr     start       end                        names\n",
       "0   chr2  26336950  26337076  5hmC|CG_2:26336950-26337076\n",
       "1   chr2  26337215  26337264  5hmC|CG_2:26337215-26337264\n",
       "2   chr6  70726507  70726675  5hmC|CG_6:70726507-70726675\n",
       "3   chr6  70726507  70726509  5hmC|CN_6:70726507-70726509\n",
       "4   chr6  70726574  70726587  5hmC|CN_6:70726574-70726587\n",
       "..   ...       ...       ...                          ...\n",
       "62  chrY  90796944  90796946  5hmC|CN_Y:90796944-90796946\n",
       "63  chrY  90799390  90799437  5hmC|CG_Y:90799390-90799437\n",
       "64  chrY  90803587  90803592  5hmC|CG_Y:90803587-90803592\n",
       "65  chrY  90803665  90803696  5hmC|CG_Y:90803665-90803696\n",
       "66  chrY  90805201  90805218  5hmC|CG_Y:90805201-90805218\n",
       "\n",
       "[67 rows x 4 columns]"
      ]
     },
     "execution_count": 12,
     "metadata": {},
     "output_type": "execute_result"
    }
   ],
   "source": [
    "df_"
   ]
  },
  {
   "cell_type": "code",
   "execution_count": null,
   "metadata": {},
   "outputs": [],
   "source": [
    "for ct in df_inner['ctname'].unique():\n",
    "    for condition in df_inner['condition'].unique():\n",
    "        try:\n",
    "            flist = glob.glob(f'/data2st1/junyi/output/atac0416/dar/motif/region_nt/*{ct}*{condition}*_inner.hdf5')\n",
    "            df_report = utils.conclude_pycistargets(flist)  \n",
    "            df_report_annotation = utils.annotate_region(df_report,region_col='region', bedfile='/data2st1/junyi/generegion_vM23/genebody_selected.bed')\n",
    "            df_report_annotation.to_csv(f'/data2st1/junyi/output/atac0416/dar/motif/region_nt/{ct}_{condition}_inner_region_TF.csv', index=False)\n",
    "        except Exception as e:\n",
    "            print(f\"Error processing {ct} and {condition}: {e}\")\n"
   ]
  },
  {
   "cell_type": "code",
   "execution_count": null,
   "metadata": {},
   "outputs": [],
   "source": [
    "df_join_all_TFs = pd.DataFrame()\n",
    "for ct in df_DAR_mememto['ctname'].unique():\n",
    "    for condition in df_DAR_mememto['condition'].unique():\n",
    "        try:\n",
    "            #flist = glob.glob(f'/data2st1/junyi/output/atac0416/dar/motif/region_nt/*{ct}*{condition}*_memento.hdf5')\n",
    "            #df_report = utils.conclude_pycistargets(flist)  \n",
    "            #df_report_annotation = utils.annotate_region(df_report,region_col='region', bedfile='/data2st1/junyi/generegion_vM23/genebody_selected.bed')\n",
    "            #df_report.to_csv(f'/data2st1/junyi/output/atac0416/dar/motif/region_nt/{ct}_{condition}_memento_TF.csv', index=False)\n",
    "            df_test= pd.read_csv(f'/data2st1/junyi/output/atac0416/dar/motif/region_nt/{ct}_{condition}_memento_TF.csv')\n",
    "            df_test['TFs'] = df_test['TFs'].str.replace(r'[\"\\'}{}]|,?\\s*nan\\s*,?', '', regex=True).str.replace(r' ', '', regex=True).str.strip(\",\")\n",
    "            df_join_TFs=df_test[['region','TFs']].groupby(['region']).aggregate(\n",
    "                lambda x: \"/\".join(                        # Join aggregated values with '/'\n",
    "                    sorted(\n",
    "                        set(                                          # Keep unique values\n",
    "                            item for sublist in x.str.split(\",\")      # Split each string by '.'\n",
    "                            for item in sublist                       # Flatten the split lists\n",
    "                        )# Remove empty strings\n",
    "                    )\n",
    "                )\n",
    "            ).reset_index()\n",
    "            df_join_TFs[\"TFs\"]=df_join_TFs.TFs.str.strip('/')\n",
    "\n",
    "            df_join_TFs[\"motifs\"]=df_test[['region','motif']].groupby(['region']).aggregate(\n",
    "                lambda x:'/'.join(x)\n",
    "            ).reset_index()[\"motif\"]\n",
    "            df_join_TFs[\"ctname\"]=\"_\".join(df_test.key[0].split('_')[:2])\n",
    "            df_join_TFs[\"condition\"] = df_test.key[0].split('_')[2]\n",
    "            df_join_TFs[\"method\"] = df_test.key[0].split('_')[3]\n",
    "            df_join_all_TFs = pd.concat([df_join_all_TFs, df_join_TFs], axis=0, ignore_index=True)\n",
    "            #df_join_TFs.to_csv(f'/data2st1/junyi/output/atac0416/dar/motif/region_nt/{ct}_{condition}_memento_TF_join.csv', index=False)\n",
    "\n",
    "\n",
    "        except Exception as e:\n",
    "            print(f\"Error processing {ct} and {condition}: {e}\")\n"
   ]
  },
  {
   "cell_type": "code",
   "execution_count": null,
   "metadata": {},
   "outputs": [],
   "source": [
    "df_join_all_TFs"
   ]
  },
  {
   "cell_type": "code",
   "execution_count": null,
   "metadata": {},
   "outputs": [],
   "source": [
    "df_annotated_TFs = utils.annotate_region(df_join_all_TFs,region_col='region', bedfile='/data2st1/junyi/generegion_vM23/genebody_selected.bed')"
   ]
  },
  {
   "cell_type": "code",
   "execution_count": null,
   "metadata": {},
   "outputs": [],
   "source": [
    "df_annotated_TFs['brain_region'] = df_annotated_TFs['ctname'].str.split(r'[_]').str[0]"
   ]
  },
  {
   "cell_type": "code",
   "execution_count": null,
   "metadata": {},
   "outputs": [],
   "source": [
    "df_annotated_TFs.to_csv(f'/data2st1/junyi/output/atac0416/dar/motif/region_nt/motif_memento_TFs.csv', index=False)"
   ]
  },
  {
   "cell_type": "code",
   "execution_count": null,
   "metadata": {},
   "outputs": [],
   "source": [
    "for filename in files:\n",
    "    df_dar  = pd.read_csv(filename,index_col=0)\n",
    "    experimentname = re.split(r'[./]', filename)[-2]\n",
    "    experimentname\n",
    "    folder_name = os.path.dirname(filename)\n",
    "    df_dar_filtered = df_dar[(df_dar['pvals']<0.05) & (df_dar['logfoldchanges']>0) ]\n",
    "    df_dar_filtered.sort_values(by='logfoldchanges',ascending=False,inplace=True)\n",
    "    # For liftover\n",
    "\n",
    "    temp_df = df_dar_filtered.names.str.split(r'[ ,!\\-;:|]',expand=True)\n",
    "    temp_df['ID'] = temp_df.index\n",
    "    temp_df.to_csv(f\"{folder_name}/{experimentname}_DAR.bed\",header=False,index=False,sep=\"\\t\")"
   ]
  },
  {
   "cell_type": "code",
   "execution_count": null,
   "metadata": {},
   "outputs": [],
   "source": [
    "# import subprocess\n",
    "# files = glob.glob('/data2st1/junyi/output/motif/ALL_*_wilcoxon_DAR.bed')\n",
    "# for filename in files:\n",
    "#     experimentname = re.split(r'[./]', filename)[-2]\n",
    "#     folder_name = os.path.dirname(filename)\n",
    "\n",
    "#     #!/home/junyichen/liftOver /data2st1/junyi/output/motif/PFC_Neuron_MW_wilcoxon_DAR.bed /data2st1/junyi/mm39ToMm10.over.chain.gz /data2st1/junyi/output/motif/PFC_Neuron_MW_wilcoxon_DAR_lifted.bed /data2st1/junyi/output/motif/PFC_Neuron_MW_wilcoxon_DAR_unmap.bed\n",
    "\n",
    "#     command_str = f\"/home/junyichen/liftOver {filename} /data2st1/junyi/mm39ToMm10.over.chain.gz {folder_name}/{experimentname}_lifted.bed {folder_name}/{experimentname}_unmap.bed\"\n",
    "#     print(command_str)\n",
    "#     subprocess.run(command_str, shell=True)"
   ]
  },
  {
   "cell_type": "code",
   "execution_count": null,
   "metadata": {},
   "outputs": [],
   "source": [
    "import subprocess"
   ]
  },
  {
   "cell_type": "code",
   "execution_count": null,
   "metadata": {},
   "outputs": [],
   "source": [
    "files = glob.glob('/data2st1/junyi/output/motif/ALL_*_wilcoxon_DAR_lifted.bed')\n",
    "for filename in files:\n",
    "    destname = filename.replace(\"_lifted.bed\",\"_lifted_sorted.bed\")\n",
    "    #!sort -k1,1 -k2,2n {filename} > {destname}\n",
    "    command_str = f\"sort -k1,1 -k2,2n {filename} > {destname}\"\n",
    "    print(command_str)\n",
    "    subprocess.run(command_str, shell=True)"
   ]
  },
  {
   "cell_type": "code",
   "execution_count": null,
   "metadata": {},
   "outputs": [],
   "source": [
    "# !sort -k1,1 -k2,2n /data2st1/junyi/output/motif/HIP_Neuron_MC_wilcoxon_DAR_lifted.bed > /data2st1/junyi/output/motif/HIP_Neuron_MC_wilcoxon_DAR_lifted_sorted.bed"
   ]
  },
  {
   "cell_type": "code",
   "execution_count": null,
   "metadata": {},
   "outputs": [],
   "source": [
    "# !sort -k1,1 -k2,2n /data2st1/junyi/output/motif/PFC_Neuron_MC_wilcoxon_DAR_lifted.bed > /data2st1/junyi/output/motif/PFC_Neuron_MC_wilcoxon_DAR_lifted_sorted.bed"
   ]
  },
  {
   "cell_type": "code",
   "execution_count": null,
   "metadata": {},
   "outputs": [],
   "source": [
    "# !bedtools closest -a /data2st1/junyi/output/motif/PFC_Neuron_MC_wilcoxon_DAR_lifted_sorted.bed -b /data2st1/junyi/output/motif/genebody_selected_sorted.bed -D ref > /data2st1/junyi/output/motif/PFC_Neuron_MC_wilcoxon_DAR_gene.bed"
   ]
  },
  {
   "cell_type": "code",
   "execution_count": null,
   "metadata": {},
   "outputs": [],
   "source": [
    "# !bedtools closest -a /data2st1/junyi/output/motif/HIP_Neuron_MC_wilcoxon_DAR_lifted_sorted.bed -b /data2st1/junyi/output/motif/genebody_selected_sorted.bed -D ref > /data2st1/junyi/output/motif/HIP_Neuron_MC_wilcoxon_DAR_gene.bed"
   ]
  },
  {
   "cell_type": "code",
   "execution_count": null,
   "metadata": {},
   "outputs": [],
   "source": [
    "files = glob.glob('/data2st1/junyi/output/motif/ALL_*_wilcoxon_DAR_lifted.bed')\n",
    "for filename in files:\n",
    "    command_str = ['pycistarget','cistarget','--cistarget_db_fname','/data2st1/junyi/scenic/mouse/motif/mm10_screen_v10_clust.regions_vs_motifs.rankings.feather'\n",
    "                   ,'--bed_fname',filename,'--species','mus_musculus','--auc_threshold','0.005','--nes_threshold','3.0','--rank_threshold','0.05'\n",
    "                   ,'--path_to_motif_annotations','/data2st1/junyi/scenic/mouse/motif/motifs-v10nr_clust-nr.mgi-m0.001-o0.0.tbl'\n",
    "                   ,'--output_folder','/data2st1/junyi/output/motif/','--write_html']\n",
    "    print(command_str)\n",
    "    subprocess.run(command_str)\n",
    "    \n",
    "# !pycistarget cistarget --cistarget_db_fname '/data2st1/junyi/scenic/mouse/motif/mm10_screen_v10_clust.regions_vs_motifs.rankings.feather' \\\n",
    "# --bed_fname '/data2st1/junyi/output/motif/AMY_Neuron_MC_wilcoxon_DAR_lifted.bed' \\\n",
    "# --species 'mus_musculus' \\\n",
    "# --auc_threshold 0.005 \\\n",
    "# --nes_threshold 3.0 \\\n",
    "# --rank_threshold 0.05 \\\n",
    "# --path_to_motif_annotations '/data2st1/junyi/scenic/mouse/motif/motifs-v10nr_clust-nr.mgi-m0.001-o0.0.tbl' \\\n",
    "# --output_folder '/data2st1/junyi/output/motif/' \\\n",
    "# --write_html "
   ]
  },
  {
   "cell_type": "code",
   "execution_count": null,
   "metadata": {},
   "outputs": [],
   "source": [
    "import h5py\n",
    "dict_table = {}\n",
    "cell_types = ['Neuron','Astro-Epen','Vascular','Immune','OPC-Oligo']\n",
    "for celltype in cell_types:\n",
    "    with h5py.File(f'/data2st1/junyi/output/motif/motif_enrichment_cistarget_ALL_{celltype}_wilcoxon_DAR_lifted.hdf5', 'r') as f:\n",
    "        # Open the HDF5 file\n",
    "        # List all groups and datasets in the file\n",
    "        print(\"Keys in the file:\", list(f.keys()))\n",
    "        \n",
    "\n",
    "        # # Access a specific dataset\n",
    "        expname = f'ALL_{celltype}_wilcoxon_DAR_lifted'\n",
    "        dataset = f[expname]  # Replace with your dataset name\n",
    "        # print(\"Shape of the dataset:\", dataset.shape)\n",
    "        # print(\"Data type of the dataset:\", dataset.dtype)\n",
    "        dict_dataset = {}\n",
    "        #region = f[expname]['motif_hits']['region_set']['metacluster_33.8'][0:10]\n",
    "\n",
    "        table = f[expname]['motif_enrichment']['table'][:]\n",
    "        for key in dataset.keys():\n",
    "            dict_dataset[key] = dataset[key]\n",
    "        # print(\"Data:\", data)\n",
    "        dict_table[expname] = table"
   ]
  },
  {
   "cell_type": "code",
   "execution_count": null,
   "metadata": {},
   "outputs": [],
   "source": [
    "for keys in dict_table.keys():\n",
    "    print(keys)\n",
    "    print(dict_table[keys][:5])\n",
    "    #Astro : id, orthology, direcrt, id, msimilarity,logo\n",
    "    #Neuron : id,logo,orthology, id, direct, msimilarity\n",
    "    #Vascular : id,logo,orthology,msimilarity,id, direct"
   ]
  },
  {
   "cell_type": "code",
   "execution_count": null,
   "metadata": {},
   "outputs": [],
   "source": [
    "list_table = []\n",
    "list_key = []\n",
    "list_TFs = []\n",
    "\n",
    "df_TF_celltype = pd.DataFrame()\n",
    "\n",
    "for key in dict_table.keys():\n",
    "    data = dict_table[key]\n",
    "    for row in data:\n",
    "        list_table.append(row[0].decode('utf-8'))\n",
    "        list_key.append(key)\n",
    "        TFs_tmp=[]\n",
    "        for i in range(1, len(row)-2):\n",
    "            if 'img' in row[i][0].decode('utf-8') or 'wilcoxon' in row[i][0].decode('utf-8'):\n",
    "                continue\n",
    "            TFs_tmp+=([ tf.decode('utf-8') for tf in row[i]])\n",
    "\n",
    "        df_tfs = pd.DataFrame({'TF':\",\".join(TFs_tmp).split(',')})\n",
    "        df_tfs['NES'] = row[-2][0]\n",
    "        df_tfs['AUC'] = row[-2][1]\n",
    "        df_tfs['Rank'] = row[-2][2]\n",
    "        df_tfs['celltype.L1'] = key.split('_')[1]\n",
    "        df_tfs['id'] = row[0].decode('utf-8')\n",
    "\n",
    "        list_TFs.append(set(TFs_tmp))\n",
    "        df_TF_celltype = pd.concat([df_TF_celltype,df_tfs],axis=0)\n",
    "        \n",
    "df_TF = pd.DataFrame({'TF':list_table,'key':list_key,'TFs':list_TFs})"
   ]
  },
  {
   "cell_type": "code",
   "execution_count": null,
   "metadata": {},
   "outputs": [],
   "source": [
    "df_TF_celltype.drop_duplicates(inplace=True)\n"
   ]
  },
  {
   "cell_type": "code",
   "execution_count": null,
   "metadata": {},
   "outputs": [],
   "source": [
    "df_TF_celltype"
   ]
  },
  {
   "cell_type": "code",
   "execution_count": null,
   "metadata": {},
   "outputs": [],
   "source": [
    "df_RSS = pd.read_csv(\"/home/junyichen/code/scmmd/data/RSS_Score(only pos).csv\",index_col=0)"
   ]
  },
  {
   "cell_type": "code",
   "execution_count": null,
   "metadata": {},
   "outputs": [],
   "source": [
    "df_RSS['TF']=df_RSS['Topic'].str.replace('[()+]','')"
   ]
  },
  {
   "cell_type": "code",
   "execution_count": null,
   "metadata": {},
   "outputs": [],
   "source": [
    "cell_to_category = {\n",
    "    # Astro-Epen\n",
    "    'Astro-Gfaphigh': 'Astro-Epen',\n",
    "    'Astro-TE': 'Astro-Epen',\n",
    "    \n",
    "    # Immune\n",
    "    'Microglia': 'Immune',\n",
    "    'PVM': 'Immune',\n",
    "    \n",
    "    # Neuron\n",
    "    'L2/3 IT': 'Neuron',\n",
    "    'L4/5 IT': 'Neuron',\n",
    "    'L5 ET': 'Neuron',\n",
    "    'L6 CT': 'Neuron',\n",
    "    'L6 IT': 'Neuron',\n",
    "    'L6b': 'Neuron',\n",
    "    'Lamp5 GABA': 'Neuron',\n",
    "    'Pvalb GABA': 'Neuron',\n",
    "    'Pvalb Vipr2 GABA': 'Neuron',\n",
    "    'Sst GABA': 'Neuron',\n",
    "    'Vip GABA': 'Neuron',\n",
    "    \n",
    "    # OPC-Oligo\n",
    "    'COP': 'OPC-Oligo',\n",
    "    'MFOL': 'OPC-Oligo',\n",
    "    'MOL': 'OPC-Oligo',\n",
    "    'NFOL': 'OPC-Oligo',\n",
    "    'NP': 'OPC-Oligo',\n",
    "    'OPC': 'OPC-Oligo',\n",
    "    \n",
    "    # Vascular\n",
    "    'Arachnoid barrier cell': 'Vascular',\n",
    "    'Car3': 'Vascular',\n",
    "    'Endothelial cell': 'Vascular',\n",
    "    'Pericyte': 'Vascular',\n",
    "    'VLMC': 'Vascular'\n",
    "}"
   ]
  },
  {
   "cell_type": "code",
   "execution_count": null,
   "metadata": {},
   "outputs": [],
   "source": [
    "df_RSS['celltype.L1'] = df_RSS['celltype.L2'].map(cell_to_category)\n"
   ]
  },
  {
   "cell_type": "code",
   "execution_count": null,
   "metadata": {},
   "outputs": [],
   "source": [
    "df_TF_celltype.groupby(['celltype.L1']).nunique()"
   ]
  },
  {
   "cell_type": "code",
   "execution_count": null,
   "metadata": {},
   "outputs": [],
   "source": [
    "df_RSS.groupby(['celltype.L1']).nunique()"
   ]
  },
  {
   "cell_type": "code",
   "execution_count": null,
   "metadata": {},
   "outputs": [],
   "source": [
    "df_merged = df_RSS.merge(df_TF_celltype,left_on=['TF','celltype.L1'],right_on=['TF','celltype.L1'],how='inner')"
   ]
  },
  {
   "cell_type": "code",
   "execution_count": null,
   "metadata": {},
   "outputs": [],
   "source": [
    "df_merged.sort_values(by='RSS',ascending=False,inplace=True)"
   ]
  },
  {
   "cell_type": "code",
   "execution_count": null,
   "metadata": {},
   "outputs": [],
   "source": [
    "df_merged.drop_duplicates(set(['TF','celltype.L1']),keep='first').to_csv('/data2st1/junyi/output/motif/TF_RSS.csv',index=False)"
   ]
  },
  {
   "cell_type": "code",
   "execution_count": null,
   "metadata": {},
   "outputs": [],
   "source": [
    "df_merged.groupby('celltype.L1').nunique()"
   ]
  },
  {
   "cell_type": "code",
   "execution_count": null,
   "metadata": {},
   "outputs": [],
   "source": [
    "ct = pd.crosstab(df_merged['celltype'],df_merged['celltype.L1'],values=df_merged['RSS'],aggfunc='count')"
   ]
  },
  {
   "cell_type": "code",
   "execution_count": null,
   "metadata": {},
   "outputs": [],
   "source": [
    "ct"
   ]
  },
  {
   "cell_type": "code",
   "execution_count": null,
   "metadata": {},
   "outputs": [],
   "source": [
    "set(df_merged['celltype']\n",
    ")"
   ]
  },
  {
   "cell_type": "code",
   "execution_count": null,
   "metadata": {},
   "outputs": [],
   "source": [
    "files = glob.glob('/data2st1/junyi/output/motif/ALL_*_wilcoxon_DAR_lifted_sorted.bed')\n",
    "for filename in files:\n",
    "    destname = filename.replace(\"_lifted_sorted.bed\",\"_lifted_sorted_gene.bed\")\n",
    "    command_str = f\"bedtools closest -a {filename} -b /data2st1/junyi/output/motif/genebody_selected_sorted.bed -D ref > {destname}\"\n",
    "    print(command_str)\n",
    "    subprocess.run(command_str, shell=True)\n",
    "# !bedtools closest -a /data2st1/junyi/output/motif/PFC_Neuron_MC_wilcoxon_DAR_lifted_sorted.bed -b /data2st1/junyi/output/motif/genebody_selected_sorted.bed -D ref > /data2st1/junyi/output/motif/PFC_Neuron_MC_wilcoxon_DAR_gene.bed"
   ]
  },
  {
   "cell_type": "code",
   "execution_count": null,
   "metadata": {},
   "outputs": [],
   "source": [
    "!pycistarget cistarget --cistarget_db_fname '/data2st1/junyi/scenic/mouse/motif/mm10_screen_v10_clust.regions_vs_motifs.rankings.feather' \\\n",
    "--bed_fname '/data2st1/junyi/output/motif/AMY_Neuron_MC_wilcoxon_DAR_lifted.bed' \\\n",
    "--species 'mus_musculus' \\\n",
    "--auc_threshold 0.005 \\\n",
    "--nes_threshold 3.0 \\\n",
    "--rank_threshold 0.05 \\\n",
    "--path_to_motif_annotations '/data2st1/junyi/scenic/mouse/motif/motifs-v10nr_clust-nr.mgi-m0.001-o0.0.tbl' \\\n",
    "--output_folder '/data2st1/junyi/output/motif/' \\\n",
    "--write_html "
   ]
  },
  {
   "cell_type": "code",
   "execution_count": null,
   "metadata": {},
   "outputs": [],
   "source": [
    "files = glob.glob('/data2st1/junyi/output/motif/*MW*wilcoxon.csv')\n",
    "for filename in files:\n",
    "    df_dar  = pd.read_csv(filename,index_col=0)\n",
    "    experimentname = re.split(r'[./]', filename)[-2]\n",
    "    experimentname\n",
    "    folder_name = os.path.dirname(filename)\n",
    "    df_dar_filtered = df_dar[(df_dar['pvals']<0.05) & (df_dar['logfoldchanges']>0) ]\n",
    "    df_dar_filtered.sort_values(by='logfoldchanges',ascending=False,inplace=True)\n",
    "    # For liftover\n",
    "    df_dar_filtered.names.str.split(r'[ ,!\\-;:|]',expand=True).to_csv(f\"{folder_name}/{experimentname}_DAR.bed\",header=False,index=False,sep=\"\\t\")"
   ]
  },
  {
   "cell_type": "code",
   "execution_count": null,
   "metadata": {},
   "outputs": [],
   "source": [
    "files = glob.glob('/data2st1/junyi/output/motif/*MW*wilcoxon_DAR.bed')\n",
    "for filename in files:\n",
    "    experimentname = re.split(r'[./]', filename)[-2]\n",
    "    folder_name = os.path.dirname(filename)\n",
    "\n",
    "    #!/home/junyichen/liftOver /data2st1/junyi/output/motif/PFC_Neuron_MW_wilcoxon_DAR.bed /data2st1/junyi/mm39ToMm10.over.chain.gz /data2st1/junyi/output/motif/PFC_Neuron_MW_wilcoxon_DAR_lifted.bed /data2st1/junyi/output/motif/PFC_Neuron_MW_wilcoxon_DAR_unmap.bed\n",
    "\n",
    "    command_str = f\"/home/junyichen/liftOver {filename} /data2st1/junyi/mm39ToMm10.over.chain.gz {folder_name}/{experimentname}_lifted.bed {folder_name}/{experimentname}_unmap.bed\"\n",
    "    print(command_str)\n",
    "    subprocess.run(command_str, shell=True)"
   ]
  },
  {
   "cell_type": "code",
   "execution_count": null,
   "metadata": {},
   "outputs": [],
   "source": [
    "files = glob.glob('/data2st1/junyi/output/motif/*MW*wilcoxon_DAR_lifted.bed')\n",
    "for filename in files:\n",
    "    destname = filename.replace(\"_lifted.bed\",\"_lifted_sorted.bed\")\n",
    "    #!sort -k1,1 -k2,2n {filename} > {destname}\n",
    "    command_str = f\"sort -k1,1 -k2,2n {filename} > {destname}\"\n",
    "    print(command_str)\n",
    "    subprocess.run(command_str, shell=True)\n",
    "files = glob.glob('/data2st1/junyi/output/motif/*MW*wilcoxon_DAR_lifted_sorted.bed')\n",
    "for filename in files:\n",
    "    destname = filename.replace(\"_lifted_sorted.bed\",\"_lifted_sorted_gene.bed\")\n",
    "    command_str = f\"bedtools closest -a {filename} -b /data2st1/junyi/output/motif/genebody_selected_sorted.bed -D ref > {destname}\"\n",
    "    print(command_str)\n",
    "    subprocess.run(command_str, shell=True)"
   ]
  },
  {
   "cell_type": "code",
   "execution_count": null,
   "metadata": {},
   "outputs": [],
   "source": [
    "# from pyliftover import LiftOver\n",
    "# lo = LiftOver('/data2st1/junyi/mm10ToMm39.over.chain.gz')\n",
    "# lo.convert_coordinate('chr1', 1000000, '-')\n"
   ]
  },
  {
   "cell_type": "code",
   "execution_count": null,
   "metadata": {},
   "outputs": [],
   "source": [
    "result_frame = pd.DataFrame()\n",
    "files = glob.glob('/data2st1/junyi/output/motif/*MW*wilcoxon_DAR_lifted_sorted_gene.bed')\n",
    "for filename in files:\n",
    "    experimentname = re.split(r'[./]', filename)[-2]\n",
    "    region = re.split(r'_',experimentname)[0]\n",
    "    celltype = re.split(r'_',experimentname)[1]\n",
    "    condition = re.split(r'_',experimentname)[2]\n",
    "    try:\n",
    "        df = pd.read_csv(filename,sep='\\t',header=None)\n",
    "    except:\n",
    "        continue\n",
    "    df.columns = ['chrom','start','end','chrom2','start2','end2','score','starnd','gene_name','gene_id','annotation','distance']\n",
    "    df['region'] = region\n",
    "    df['celltype'] = celltype\n",
    "    df['condition'] = condition\n",
    "    df['name'] = df['chrom'] + ':' + df['start'].astype(str) + '-' + df['end'].astype(str)\n",
    "    # df_score = pd.read_csv(f\"/data2st1/junyi/output/motif/{region}_{celltype}_{condition}_wilcoxon.csv\",index_col=0)\n",
    "    # df['logfoldchanges'] = df_score.set_index('names').loc[df['name'],'logfoldchanges'].values\n",
    "    # df['pvals'] = df_score.set_index('names').loc[df['name'],'pvals'].values\n",
    "    result_frame = pd.concat([result_frame,df])"
   ]
  },
  {
   "cell_type": "code",
   "execution_count": null,
   "metadata": {},
   "outputs": [],
   "source": [
    "ax = sns.countplot(data=result_frame, x='celltype', hue='region', dodge=False, palette='Set2',)\n",
    "ax.set_ylim(0,6000)\n"
   ]
  },
  {
   "cell_type": "code",
   "execution_count": null,
   "metadata": {},
   "outputs": [],
   "source": [
    "keep1=result_frame.sort_values(by='starnd',ascending=True).drop_duplicates(subset=['chrom','start','end'])\n",
    "keep1['generegion'] = 'genebody'\n",
    "#keep1.loc[keep1['distance']<0,'generegion'] = 'downstream'\n",
    "promoter = keep1.loc[(keep1['distance']>0) & (keep1['distance']<=2000) & (keep1['starnd']=='+')].index\n",
    "distal = keep1.loc[(keep1['distance']>0) & (keep1['distance']>=2000) & (keep1['starnd']=='+')].index\n",
    "keep1.loc[promoter,'generegion'] = 'promoter'\n",
    "keep1.loc[distal,'generegion'] = 'distal'\n",
    "\n",
    "promoter = keep1.loc[(keep1['distance']<0) & (keep1['distance']>=-2000) & (keep1['starnd']=='-')].index\n",
    "distal = keep1.loc[(keep1['distance']<0) & (keep1['distance']<=-2000) & (keep1['starnd']=='-')].index\n",
    "keep1.loc[promoter,'generegion'] = 'promoter'\n",
    "keep1.loc[distal,'generegion'] = 'distal'\n"
   ]
  },
  {
   "cell_type": "code",
   "execution_count": null,
   "metadata": {},
   "outputs": [],
   "source": [
    "keep1=keep1.loc[keep1['start2']>0]"
   ]
  },
  {
   "cell_type": "code",
   "execution_count": null,
   "metadata": {},
   "outputs": [],
   "source": [
    "keep1.sort_values(by='starnd',ascending=True).drop_duplicates(subset=['chrom','start','end'])"
   ]
  },
  {
   "cell_type": "code",
   "execution_count": null,
   "metadata": {},
   "outputs": [],
   "source": [
    "ax = sns.countplot(data=keep1, x='celltype', hue='generegion', dodge=False, palette='Set2',)"
   ]
  },
  {
   "cell_type": "code",
   "execution_count": null,
   "metadata": {},
   "outputs": [],
   "source": [
    "pd.read_csv('/data2st1/junyi/output/motif/AMY_Neuron_MC_wilcoxon.csv',index_col=0)"
   ]
  },
  {
   "cell_type": "code",
   "execution_count": null,
   "metadata": {},
   "outputs": [],
   "source": [
    "# Convert hg38 to hg19\n",
    "# !/home/junyichen/liftOver /data2st1/junyi/output/motif/HIP_Neuron_MW_wilcoxon_DAR.bed /data2st1/junyi/mm39ToMm10.over.chain.gz /data2st1/junyi/output/motif/HIP_Neuron_MW_wilcoxon_DAR_lifted.bed /data2st1/junyi/output/motif/HIP_Neuron_MW_wilcoxon_DAR_unmap.bed\n",
    "# !/home/junyichen/liftOver /data2st1/junyi/output/motif/PFC_Neuron_MW_wilcoxon_DAR.bed /data2st1/junyi/mm39ToMm10.over.chain.gz /data2st1/junyi/output/motif/PFC_Neuron_MW_wilcoxon_DAR_lifted.bed /data2st1/junyi/output/motif/PFC_Neuron_MW_wilcoxon_DAR_unmap.bed\n",
    "# !/home/junyichen/liftOver /data2st1/junyi/output/motif/AMY_Neuron_MW_wilcoxon_DAR.bed /data2st1/junyi/mm39ToMm10.over.chain.gz /data2st1/junyi/output/motif/AMY_Neuron_MW_wilcoxon_DAR_lifted.bed /data2st1/junyi/output/motif/AMY_Neuron_MW_wilcoxon_DAR_unmap.bed\n"
   ]
  },
  {
   "cell_type": "code",
   "execution_count": null,
   "metadata": {},
   "outputs": [],
   "source": [
    "!pycistarget cistarget --cistarget_db_fname '/data2st1/junyi/scenic/mouse/motif/mm10_screen_v10_clust.regions_vs_motifs.rankings.feather' \\\n",
    "--bed_fname '/data2st1/junyi/output/motif/HIP_Neuron_MW_wilcoxon_DAR_lifted.bed' \\\n",
    "--species 'mus_musculus' \\\n",
    "--auc_threshold 0.005 \\\n",
    "--nes_threshold 3.0 \\\n",
    "--rank_threshold 0.05 \\\n",
    "--path_to_motif_annotations '/data2st1/junyi/scenic/mouse/motif/motifs-v10nr_clust-nr.mgi-m0.001-o0.0.tbl' \\\n",
    "--output_folder '/data2st1/junyi/output/motif/' \\\n",
    "--write_html"
   ]
  },
  {
   "cell_type": "code",
   "execution_count": null,
   "metadata": {},
   "outputs": [],
   "source": [
    "!pycistarget cistarget --cistarget_db_fname '/data2st1/junyi/scenic/mouse/motif/mm10_screen_v10_clust.regions_vs_motifs.rankings.feather' \\\n",
    "--bed_fname '/data2st1/junyi/output/motif/AMY_Neuron_MW_wilcoxon_DAR_lifted.bed' \\\n",
    "--species 'mus_musculus' \\\n",
    "--auc_threshold 0.005 \\\n",
    "--nes_threshold 3.0 \\\n",
    "--rank_threshold 0.05 \\\n",
    "--path_to_motif_annotations '/data2st1/junyi/scenic/mouse/motif/motifs-v10nr_clust-nr.mgi-m0.001-o0.0.tbl' \\\n",
    "--output_folder '/data2st1/junyi/output/motif/' \\\n",
    "--write_html"
   ]
  },
  {
   "cell_type": "code",
   "execution_count": null,
   "metadata": {},
   "outputs": [],
   "source": [
    "!pycistarget cistarget --cistarget_db_fname '/data2st1/junyi/scenic/mouse/motif/mm10_screen_v10_clust.regions_vs_motifs.rankings.feather' \\\n",
    "--bed_fname '/data2st1/junyi/output/motif/PFC_Neuron_MW_wilcoxon_DAR_lifted.bed' \\\n",
    "--species 'mus_musculus' \\\n",
    "--auc_threshold 0.005 \\\n",
    "--nes_threshold 3.0 \\\n",
    "--rank_threshold 0.05 \\\n",
    "--path_to_motif_annotations '/data2st1/junyi/scenic/mouse/motif/motifs-v10nr_clust-nr.mgi-m0.001-o0.0.tbl' \\\n",
    "--output_folder '/data2st1/junyi/output/motif/' \\\n",
    "--write_html"
   ]
  },
  {
   "cell_type": "code",
   "execution_count": null,
   "metadata": {},
   "outputs": [],
   "source": [
    "import h5py\n",
    "import copy\n",
    "\n",
    "regions = ['AMY','HIP','PFC']\n",
    "celltypes = ['Neuron']\n",
    "\n",
    "dict_table = {}\n",
    "\n",
    "for region in regions:\n",
    "    for celltype in celltypes:\n",
    "        with h5py.File(f'/data2st1/junyi/output/motif/motif_enrichment_cistarget_{region}_{celltype}_MC_wilcoxon_DAR_lifted.hdf5', 'r') as f:\n",
    "            # Open the HDF5 file\n",
    "            # List all groups and datasets in the file\n",
    "            print(\"Keys in the file:\", list(f.keys()))\n",
    "            \n",
    "\n",
    "            # # Access a specific dataset\n",
    "            expname = f'{region}_{celltype}_MC_wilcoxon_DAR_lifted'\n",
    "            dataset = f[expname]  # Replace with your dataset name\n",
    "            # print(\"Shape of the dataset:\", dataset.shape)\n",
    "            # print(\"Data type of the dataset:\", dataset.dtype)\n",
    "\n",
    "            dict_dataset = {}\n",
    "\n",
    "            #region = f[expname]['motif_hits']['region_set']['metacluster_33.8'][0:10]\n",
    "\n",
    "            table = f[expname]['motif_enrichment']['table'][:]\n",
    "            for key in dataset.keys():\n",
    "                dict_dataset[key] = dataset[key]\n",
    "            # print(\"Data:\", data)\n",
    "            dict_table[expname] = table"
   ]
  },
  {
   "cell_type": "code",
   "execution_count": null,
   "metadata": {},
   "outputs": [],
   "source": [
    "for i in dict_table['AMY_Neuron_MC_wilcoxon_DAR_lifted']:\n",
    "    print(i[0])"
   ]
  },
  {
   "cell_type": "code",
   "execution_count": null,
   "metadata": {},
   "outputs": [],
   "source": [
    "region_table = {}\n",
    "\n",
    "for region in regions:\n",
    "    for celltype in celltypes:\n",
    "        with h5py.File(f'/data2st1/junyi/output/motif/motif_enrichment_cistarget_{region}_{celltype}_MC_wilcoxon_DAR_lifted.hdf5', 'r') as f:\n",
    "            # Open the HDF5 file\n",
    "            # List all groups and datasets in the file\n",
    "            print(\"Keys in the file:\", list(f.keys()))\n",
    "            \n",
    "\n",
    "            # # Access a specific dataset\n",
    "            expname = f'{region}_{celltype}_MC_wilcoxon_DAR_lifted'\n",
    "            dataset = f[expname]  # Replace with your dataset name\n",
    "            # print(\"Shape of the dataset:\", dataset.shape)\n",
    "            # print(\"Data type of the dataset:\", dataset.dtype)\n",
    "\n",
    "            dict_dataset = {}\n",
    "\n",
    "            region = f[expname]['motif_hits']['region_set']['metacluster_33.8'][:]\n",
    "            region_table[expname] = region"
   ]
  },
  {
   "cell_type": "code",
   "execution_count": null,
   "metadata": {},
   "outputs": [],
   "source": [
    "import numpy as np\n",
    "\n",
    "list_table = []\n",
    "list_key = []\n",
    "\n",
    "for key in dict_table.keys():\n",
    "    data = dict_table[key]\n",
    "    for row in data:\n",
    "        list_table.append(row[0])\n",
    "        list_key.append(key)\n",
    "df_TF = pd.DataFrame({'TF':list_table,'key':list_key})"
   ]
  },
  {
   "cell_type": "code",
   "execution_count": null,
   "metadata": {},
   "outputs": [],
   "source": [
    "df_TF"
   ]
  },
  {
   "cell_type": "code",
   "execution_count": null,
   "metadata": {},
   "outputs": [],
   "source": [
    "df_count = df_TF.groupby('TF').count().sort_values(by='key',ascending=False)"
   ]
  },
  {
   "cell_type": "code",
   "execution_count": null,
   "metadata": {},
   "outputs": [],
   "source": [
    "df_count[df_count['key']>2].index"
   ]
  },
  {
   "cell_type": "code",
   "execution_count": null,
   "metadata": {},
   "outputs": [],
   "source": [
    "df_regions = pd.DataFrame()\n",
    "\n",
    "for region in regions:\n",
    "    for celltype in celltypes:\n",
    "        with h5py.File(f'/data2st1/junyi/output/motif/motif_enrichment_cistarget_{region}_{celltype}_MC_wilcoxon_DAR_lifted.hdf5', 'r') as f:\n",
    "            # Open the HDF5 file\n",
    "            # List all groups and datasets in the file\n",
    "            print(\"Keys in the file:\", list(f.keys()))\n",
    "            \n",
    "\n",
    "            # # Access a specific dataset\n",
    "            expname = f'{region}_{celltype}_MC_wilcoxon_DAR_lifted'\n",
    "            dataset = f[expname]  # Replace with your dataset name\n",
    "            # print(\"Shape of the dataset:\", dataset.shape)\n",
    "            # print(\"Data type of the dataset:\", dataset.dtype)\n",
    "\n",
    "\n",
    "            for TF in df_count[df_count['key']>2].index:\n",
    "                region = f[expname]['motif_hits']['region_set'][TF][:]\n",
    "                decoded_data = [item.decode('utf-8') for item in region]\n",
    "                df_region = pd.DataFrame(decoded_data,columns=['region'])\n",
    "                df_region['expreiment'] = expname\n",
    "                df_region['TF'] = TF.decode('utf-8')\n",
    "                if len(df_regions)>0:\n",
    "                    df_regions = pd.concat([df_regions,df_region],axis=0,ignore_index=True)\n",
    "                else:\n",
    "                    df_regions = df_region\n",
    "            #region = f[expname]['motif_hits']['region_set']['metacluster_33.8'][:]\n",
    "            #region_table[expname] = df_regions"
   ]
  },
  {
   "cell_type": "code",
   "execution_count": null,
   "metadata": {},
   "outputs": [],
   "source": [
    "df_count[df_count['key']>2].index"
   ]
  },
  {
   "cell_type": "code",
   "execution_count": null,
   "metadata": {},
   "outputs": [],
   "source": [
    "df_regions.head(10)"
   ]
  },
  {
   "cell_type": "code",
   "execution_count": null,
   "metadata": {},
   "outputs": [],
   "source": [
    "region_table"
   ]
  },
  {
   "cell_type": "code",
   "execution_count": null,
   "metadata": {},
   "outputs": [],
   "source": [
    "sns.countplot(data=df_TF, x='key', dodge=False, palette='Set2',)\n",
    "plt.xticks(rotation=60)\n"
   ]
  },
  {
   "cell_type": "code",
   "execution_count": null,
   "metadata": {},
   "outputs": [],
   "source": [
    "for key in dict_table.keys():\n",
    "    print(len(dict_table[key]))"
   ]
  },
  {
   "cell_type": "code",
   "execution_count": null,
   "metadata": {},
   "outputs": [],
   "source": [
    "table"
   ]
  }
 ],
 "metadata": {
  "kernelspec": {
   "display_name": "snapatac2",
   "language": "python",
   "name": "python3"
  },
  "language_info": {
   "codemirror_mode": {
    "name": "ipython",
    "version": 3
   },
   "file_extension": ".py",
   "mimetype": "text/x-python",
   "name": "python",
   "nbconvert_exporter": "python",
   "pygments_lexer": "ipython3",
   "version": "3.10.0"
  }
 },
 "nbformat": 4,
 "nbformat_minor": 2
}
