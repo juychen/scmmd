{
 "cells": [
  {
   "cell_type": "code",
   "execution_count": 67,
   "metadata": {},
   "outputs": [],
   "source": [
    "from pybedtools import BedTool\n",
    "import seaborn as sns\n",
    "import matplotlib.pyplot as plt\n",
    "import pandas as pd\n",
    "import utils\n",
    "from upsetplot import UpSet, from_contents\n",
    "from matplotlib_venn import venn2"
   ]
  },
  {
   "cell_type": "code",
   "execution_count": 68,
   "metadata": {},
   "outputs": [],
   "source": [
    "def intersect_bed_files(bed_file1, bed_file2):\n",
    "    bed1 = BedTool(bed_file1)\n",
    "    bed2 = BedTool(bed_file2)\n",
    "\n",
    "    # Intersect and split regions\n",
    "    # Retain annotations from bed_file2 for overlapping regions\n",
    "    merged = bed1.intersect(bed2, wa=True, wb=True)#.saveas(\"output/temp_intersect.bed\")\n",
    "\n",
    "    # Split non-overlapping regions from bed_file1\n",
    "    non_overlapping = bed1.subtract(bed2)#.saveas(\"output/temp_non_overlapping.bed\")\n",
    "\n",
    "    return merged, non_overlapping"
   ]
  },
  {
   "cell_type": "code",
   "execution_count": 69,
   "metadata": {},
   "outputs": [],
   "source": [
    "def intersect_bed_objects(bed_file1, bed_file2):\n",
    "    bed1 = bed_file1\n",
    "    bed2 = bed_file2\n",
    "\n",
    "    # Intersect and split regions\n",
    "    # Retain annotations from bed_file2 for overlapping regions\n",
    "    merged = bed1.intersect(bed2, wa=True, wb=True)#.saveas(\"output/temp_intersect.bed\")\n",
    "\n",
    "    # Split non-overlapping regions from bed_file1\n",
    "    non_overlapping = bed1.subtract(bed2)#.saveas(\"output/temp_non_overlapping.bed\")\n",
    "\n",
    "    return merged, non_overlapping"
   ]
  },
  {
   "cell_type": "code",
   "execution_count": 70,
   "metadata": {},
   "outputs": [],
   "source": [
    "bed_allpeaks = \"/data2st1/junyi/output/atac0416/cCRE/peak.bed\"\n",
    "\n",
    "\n",
    "bed_encode = \"/data2st1/junyi/output/atac0416/cCRE/mm10-cCREs.bed\"\n",
    "\n",
    "#https://www.encodeproject.org/annotations/ENCSR127YRL/\n",
    "bed_rdhs = \"/data2st1/junyi/output/atac0416/cCRE/ENCFF414KHO.bed\"\n",
    "\n"
   ]
  },
  {
   "cell_type": "code",
   "execution_count": 71,
   "metadata": {},
   "outputs": [],
   "source": [
    "merged, non_overlapping = intersect_bed_files(bed_allpeaks, bed_encode)"
   ]
  },
  {
   "cell_type": "code",
   "execution_count": 72,
   "metadata": {},
   "outputs": [],
   "source": [
    "inter_rdhs, non_overlapping_rdhs = intersect_bed_files(bed_allpeaks, bed_rdhs)"
   ]
  },
  {
   "cell_type": "code",
   "execution_count": 73,
   "metadata": {},
   "outputs": [
    {
     "data": {
      "text/plain": [
       "<BedTool(/data2st1/junyi/output/atac0416/cCRE/non_overlapp_rdhs.bed)>"
      ]
     },
     "execution_count": 73,
     "metadata": {},
     "output_type": "execute_result"
    }
   ],
   "source": [
    "inter_rdhs.saveas(\"/data2st1/junyi/output/atac0416/cCRE/overlap_rdhs.bed\")\n",
    "non_overlapping.saveas(\"/data2st1/junyi/output/atac0416/cCRE/non_overlapp_rdhs.bed\")"
   ]
  },
  {
   "cell_type": "code",
   "execution_count": 74,
   "metadata": {},
   "outputs": [
    {
     "data": {
      "text/plain": [
       "(295713, 1534765)"
      ]
     },
     "execution_count": 74,
     "metadata": {},
     "output_type": "execute_result"
    }
   ],
   "source": [
    "len(merged), len(non_overlapping)"
   ]
  },
  {
   "cell_type": "code",
   "execution_count": 75,
   "metadata": {},
   "outputs": [
    {
     "data": {
      "text/plain": [
       "(840623, 1836114)"
      ]
     },
     "execution_count": 75,
     "metadata": {},
     "output_type": "execute_result"
    }
   ],
   "source": [
    "len(inter_rdhs), len(non_overlapping_rdhs)"
   ]
  },
  {
   "cell_type": "code",
   "execution_count": null,
   "metadata": {},
   "outputs": [],
   "source": []
  },
  {
   "cell_type": "code",
   "execution_count": 76,
   "metadata": {},
   "outputs": [],
   "source": [
    "bedall_peaks = BedTool(bed_allpeaks)"
   ]
  },
  {
   "cell_type": "code",
   "execution_count": 77,
   "metadata": {},
   "outputs": [],
   "source": [
    "df_allpeaks = pd.read_csv(bed_allpeaks, sep=\"\\t\", header=None) \n",
    "df_allrdhs = pd.read_csv(bed_rdhs, sep=\"\\t\", header=None)"
   ]
  },
  {
   "cell_type": "code",
   "execution_count": 97,
   "metadata": {},
   "outputs": [],
   "source": [
    "n_overlap = len(inter_rdhs)\n",
    "n_cCRE = len(df_allpeaks)\n",
    "n_rDHS = len(df_allrdhs)"
   ]
  },
  {
   "cell_type": "code",
   "execution_count": 98,
   "metadata": {},
   "outputs": [],
   "source": [
    "venn2(subsets=( n_cCRE-n_overlap, n_rDHS-n_overlap, n_overlap), set_labels=('Our cCRE', 'ENCODE rDHS'))\n",
    "plt.title(\"Venn Diagram of rDHS and Set B\")\n",
    "plt.savefig(\"/data2st1/junyi/output/atac0416/cCRE/venn_rdhs.svg\", dpi=300, bbox_inches='tight')\n",
    "plt.close()"
   ]
  },
  {
   "cell_type": "code",
   "execution_count": 80,
   "metadata": {},
   "outputs": [],
   "source": [
    "df_allpeaks.columns = [\"chr\", \"start\", \"end\"]"
   ]
  },
  {
   "cell_type": "code",
   "execution_count": 81,
   "metadata": {},
   "outputs": [],
   "source": [
    "df_allpeaks['names'] = df_allpeaks['chr'] + \":\" + df_allpeaks['start'].astype(str) + \"-\" + df_allpeaks['end'].astype(str)"
   ]
  },
  {
   "cell_type": "code",
   "execution_count": null,
   "metadata": {},
   "outputs": [],
   "source": [
    "annotations = [\n",
    "    \"/data2st1/junyi/generegion_vM23/intron_selected.bed\",\n",
    "    \"/data2st1/junyi/generegion_vM23/exon_selected.bed\",\n",
    "    \"/data2st1/junyi/generegion_vM23/promoter2k.bed\",\n",
    "    #\"/data2st1/junyi/generegion_vM23/repeat.bed\",\n",
    "    \"/data2st1/junyi/output/atac0416/cCRE/LINE.bed\",\n",
    "    \"/data2st1/junyi/output/atac0416/cCRE/SINE.bed\",\n",
    "    \"/data2st1/junyi/output/atac0416/cCRE/LTR.bed\",\n",
    "    \"/data2st1/junyi/output/atac0416/cCRE/cpg.bed\",\n",
    "    \"/data2st1/junyi/output/atac0416/cCRE/Other_repeats.bed\",    \n",
    "    \"/data2st1/junyi/generegion_vM23/UTR.bed\",\n",
    "    \"/data2st1/junyi/generegion_vM23/CDS.bed\"\n",
    "    \"/data2st1/junyi/generegion_vM23/genebody.bed\",\n",
    "    \"/data2st1/junyi/generegion_vM23/intergenic.bed\"\n",
    "]\n",
    "dict_annot = {}\n",
    "for file in annotations:\n",
    "    name = file.split('/')[-1].replace('.bed', '')\n",
    "    try:\n",
    "        df_annot = utils.annotate_region(df_allpeaks,region_col='names', bedfile=file)\n",
    "        dict_annot[name] = df_annot[df_annot.distance==0]\n",
    "        dict_annot['cCRE'] = name\n",
    "        print(f\"Processed {file},{len(dict_annot[name])}\")\n",
    "    except:\n",
    "        print(f\"Error processing {file}\")\n",
    "        continue"
   ]
  },
  {
   "cell_type": "code",
   "execution_count": 134,
   "metadata": {},
   "outputs": [],
   "source": [
    "\n",
    "gene_regions = {\n",
    "    'intron': set(dict_annot['intron_selected'].names+\"_\"+dict_annot['intron_selected'].gene_name),\n",
    "    'exon': set(dict_annot['exon_selected'].names+\"_\"+dict_annot['exon_selected'].gene_name),\n",
    "    'promoter': set(dict_annot['promoter2k'].names+\"_\"+dict_annot['promoter2k'].gene_name),\n",
    "    'UTR': set(dict_annot['UTR'].names+\"_\"+dict_annot['UTR'].gene_name),\n",
    "    # 'LINE': set(dict_annot['LINE'].names+\"_\"+dict_annot['LINE'].gene_name),\n",
    "    # 'SINE': set(dict_annot['SINE'].names+\"_\"+dict_annot['SINE'].gene_name),\n",
    "    # 'LTR': set(dict_annot['LTR'].names+\"_\"+dict_annot['LTR'].gene_name),\n",
    "    # 'repeat': set(dict_annot['Other_repeats'].names+\"_\"+dict_annot['Other_repeats'].gene_name),\n",
    "    # 'cpg': set(dict_annot['cpg'].names+\"_\"+dict_annot['cpg'].gene_name)\n",
    "\n",
    "    # 'intron': set(dict_annot['intron_selected'].names),\n",
    "    # 'exon': set(dict_annot['exon_selected'].names),\n",
    "    # 'promoter': set(dict_annot['promoter2k'].names),\n",
    "    # 'UTR': set(dict_annot['UTR'].names),\n",
    "    # 'repeat': set(dict_annot['repeat'].names),\n",
    "    # 'cpg': set(dict_annot['cpg'].names),\n",
    "    }\n",
    "gene_regions = from_contents(gene_regions)"
   ]
  },
  {
   "cell_type": "code",
   "execution_count": 135,
   "metadata": {},
   "outputs": [
    {
     "data": {
      "image/png": "[encoded data removed]",
      "text/plain": [
       "<Figure size 888.889x444.444 with 4 Axes>"
      ]
     },
     "metadata": {},
     "output_type": "display_data"
    }
   ],
   "source": [
    "\n",
    "ax_dict = UpSet(gene_regions, subset_size=\"count\", sort_by=\"cardinality\", show_counts=True).plot()\n"
   ]
  },
  {
   "cell_type": "code",
   "execution_count": 141,
   "metadata": {},
   "outputs": [
    {
     "data": {
      "text/html": [
       "<div>\n",
       "<style scoped>\n",
       "    .dataframe tbody tr th:only-of-type {\n",
       "        vertical-align: middle;\n",
       "    }\n",
       "\n",
       "    .dataframe tbody tr th {\n",
       "        vertical-align: top;\n",
       "    }\n",
       "\n",
       "    .dataframe thead th {\n",
       "        text-align: right;\n",
       "    }\n",
       "</style>\n",
       "<table border=\"1\" class=\"dataframe\">\n",
       "  <thead>\n",
       "    <tr style=\"text-align: right;\">\n",
       "      <th></th>\n",
       "      <th>chr</th>\n",
       "      <th>start</th>\n",
       "      <th>end</th>\n",
       "      <th>names</th>\n",
       "      <th>gene_name</th>\n",
       "      <th>gene_id</th>\n",
       "      <th>gstart</th>\n",
       "      <th>gend</th>\n",
       "      <th>strand</th>\n",
       "      <th>annotation</th>\n",
       "      <th>distance</th>\n",
       "    </tr>\n",
       "  </thead>\n",
       "  <tbody>\n",
       "    <tr>\n",
       "      <th>17</th>\n",
       "      <td>chr1</td>\n",
       "      <td>3074064</td>\n",
       "      <td>3074565</td>\n",
       "      <td>chr1:3074064-3074565</td>\n",
       "      <td>intergenic</td>\n",
       "      <td>intergenic</td>\n",
       "      <td>3074323.0</td>\n",
       "      <td>3102015.0</td>\n",
       "      <td>.</td>\n",
       "      <td>intergenic</td>\n",
       "      <td>0.0</td>\n",
       "    </tr>\n",
       "    <tr>\n",
       "      <th>18</th>\n",
       "      <td>chr1</td>\n",
       "      <td>3077696</td>\n",
       "      <td>3078197</td>\n",
       "      <td>chr1:3077696-3078197</td>\n",
       "      <td>intergenic</td>\n",
       "      <td>intergenic</td>\n",
       "      <td>3074323.0</td>\n",
       "      <td>3102015.0</td>\n",
       "      <td>.</td>\n",
       "      <td>intergenic</td>\n",
       "      <td>0.0</td>\n",
       "    </tr>\n",
       "    <tr>\n",
       "      <th>19</th>\n",
       "      <td>chr1</td>\n",
       "      <td>3083220</td>\n",
       "      <td>3083721</td>\n",
       "      <td>chr1:3083220-3083721</td>\n",
       "      <td>intergenic</td>\n",
       "      <td>intergenic</td>\n",
       "      <td>3074323.0</td>\n",
       "      <td>3102015.0</td>\n",
       "      <td>.</td>\n",
       "      <td>intergenic</td>\n",
       "      <td>0.0</td>\n",
       "    </tr>\n",
       "    <tr>\n",
       "      <th>20</th>\n",
       "      <td>chr1</td>\n",
       "      <td>3084590</td>\n",
       "      <td>3085091</td>\n",
       "      <td>chr1:3084590-3085091</td>\n",
       "      <td>intergenic</td>\n",
       "      <td>intergenic</td>\n",
       "      <td>3074323.0</td>\n",
       "      <td>3102015.0</td>\n",
       "      <td>.</td>\n",
       "      <td>intergenic</td>\n",
       "      <td>0.0</td>\n",
       "    </tr>\n",
       "    <tr>\n",
       "      <th>21</th>\n",
       "      <td>chr1</td>\n",
       "      <td>3087207</td>\n",
       "      <td>3087708</td>\n",
       "      <td>chr1:3087207-3087708</td>\n",
       "      <td>intergenic</td>\n",
       "      <td>intergenic</td>\n",
       "      <td>3074323.0</td>\n",
       "      <td>3102015.0</td>\n",
       "      <td>.</td>\n",
       "      <td>intergenic</td>\n",
       "      <td>0.0</td>\n",
       "    </tr>\n",
       "    <tr>\n",
       "      <th>...</th>\n",
       "      <td>...</td>\n",
       "      <td>...</td>\n",
       "      <td>...</td>\n",
       "      <td>...</td>\n",
       "      <td>...</td>\n",
       "      <td>...</td>\n",
       "      <td>...</td>\n",
       "      <td>...</td>\n",
       "      <td>...</td>\n",
       "      <td>...</td>\n",
       "      <td>...</td>\n",
       "    </tr>\n",
       "    <tr>\n",
       "      <th>2683</th>\n",
       "      <td>chr1</td>\n",
       "      <td>9661093</td>\n",
       "      <td>9661594</td>\n",
       "      <td>chr1:9661093-9661594</td>\n",
       "      <td>intergenic</td>\n",
       "      <td>intergenic</td>\n",
       "      <td>9640583.0</td>\n",
       "      <td>9667414.0</td>\n",
       "      <td>.</td>\n",
       "      <td>intergenic</td>\n",
       "      <td>0.0</td>\n",
       "    </tr>\n",
       "    <tr>\n",
       "      <th>2684</th>\n",
       "      <td>chr1</td>\n",
       "      <td>9662107</td>\n",
       "      <td>9662608</td>\n",
       "      <td>chr1:9662107-9662608</td>\n",
       "      <td>intergenic</td>\n",
       "      <td>intergenic</td>\n",
       "      <td>9640583.0</td>\n",
       "      <td>9667414.0</td>\n",
       "      <td>.</td>\n",
       "      <td>intergenic</td>\n",
       "      <td>0.0</td>\n",
       "    </tr>\n",
       "    <tr>\n",
       "      <th>2685</th>\n",
       "      <td>chr1</td>\n",
       "      <td>9663138</td>\n",
       "      <td>9663639</td>\n",
       "      <td>chr1:9663138-9663639</td>\n",
       "      <td>intergenic</td>\n",
       "      <td>intergenic</td>\n",
       "      <td>9640583.0</td>\n",
       "      <td>9667414.0</td>\n",
       "      <td>.</td>\n",
       "      <td>intergenic</td>\n",
       "      <td>0.0</td>\n",
       "    </tr>\n",
       "    <tr>\n",
       "      <th>2686</th>\n",
       "      <td>chr1</td>\n",
       "      <td>9663926</td>\n",
       "      <td>9664427</td>\n",
       "      <td>chr1:9663926-9664427</td>\n",
       "      <td>intergenic</td>\n",
       "      <td>intergenic</td>\n",
       "      <td>9640583.0</td>\n",
       "      <td>9667414.0</td>\n",
       "      <td>.</td>\n",
       "      <td>intergenic</td>\n",
       "      <td>0.0</td>\n",
       "    </tr>\n",
       "    <tr>\n",
       "      <th>2687</th>\n",
       "      <td>chr1</td>\n",
       "      <td>9666409</td>\n",
       "      <td>9666910</td>\n",
       "      <td>chr1:9666409-9666910</td>\n",
       "      <td>intergenic</td>\n",
       "      <td>intergenic</td>\n",
       "      <td>9640583.0</td>\n",
       "      <td>9667414.0</td>\n",
       "      <td>.</td>\n",
       "      <td>intergenic</td>\n",
       "      <td>0.0</td>\n",
       "    </tr>\n",
       "  </tbody>\n",
       "</table>\n",
       "<p>1971 rows × 11 columns</p>\n",
       "</div>"
      ],
      "text/plain": [
       "       chr    start      end                 names   gene_name     gene_id  \\\n",
       "17    chr1  3074064  3074565  chr1:3074064-3074565  intergenic  intergenic   \n",
       "18    chr1  3077696  3078197  chr1:3077696-3078197  intergenic  intergenic   \n",
       "19    chr1  3083220  3083721  chr1:3083220-3083721  intergenic  intergenic   \n",
       "20    chr1  3084590  3085091  chr1:3084590-3085091  intergenic  intergenic   \n",
       "21    chr1  3087207  3087708  chr1:3087207-3087708  intergenic  intergenic   \n",
       "...    ...      ...      ...                   ...         ...         ...   \n",
       "2683  chr1  9661093  9661594  chr1:9661093-9661594  intergenic  intergenic   \n",
       "2684  chr1  9662107  9662608  chr1:9662107-9662608  intergenic  intergenic   \n",
       "2685  chr1  9663138  9663639  chr1:9663138-9663639  intergenic  intergenic   \n",
       "2686  chr1  9663926  9664427  chr1:9663926-9664427  intergenic  intergenic   \n",
       "2687  chr1  9666409  9666910  chr1:9666409-9666910  intergenic  intergenic   \n",
       "\n",
       "         gstart       gend strand  annotation  distance  \n",
       "17    3074323.0  3102015.0      .  intergenic       0.0  \n",
       "18    3074323.0  3102015.0      .  intergenic       0.0  \n",
       "19    3074323.0  3102015.0      .  intergenic       0.0  \n",
       "20    3074323.0  3102015.0      .  intergenic       0.0  \n",
       "21    3074323.0  3102015.0      .  intergenic       0.0  \n",
       "...         ...        ...    ...         ...       ...  \n",
       "2683  9640583.0  9667414.0      .  intergenic       0.0  \n",
       "2684  9640583.0  9667414.0      .  intergenic       0.0  \n",
       "2685  9640583.0  9667414.0      .  intergenic       0.0  \n",
       "2686  9640583.0  9667414.0      .  intergenic       0.0  \n",
       "2687  9640583.0  9667414.0      .  intergenic       0.0  \n",
       "\n",
       "[1971 rows x 11 columns]"
      ]
     },
     "execution_count": 141,
     "metadata": {},
     "output_type": "execute_result"
    }
   ],
   "source": [
    "df_annot[df_annot.distance==0]"
   ]
  },
  {
   "cell_type": "code",
   "execution_count": 138,
   "metadata": {},
   "outputs": [
    {
     "name": "stdout",
     "output_type": "stream",
     "text": [
      "Processed /data2st1/junyi/generegion_vM23/genebody.bed,814904\n"
     ]
    },
    {
     "name": "stderr",
     "output_type": "stream",
     "text": [
      "***** ERROR: illegal number \".\". Exiting...\n"
     ]
    },
    {
     "name": "stdout",
     "output_type": "stream",
     "text": [
      "Processed /data2st1/junyi/output/atac0416/cCRE/intergenic.bed,1971\n"
     ]
    }
   ],
   "source": [
    "annotations = [\n",
    "    \"/data2st1/junyi/generegion_vM23/genebody.bed\",\n",
    "    \"/data2st1/junyi/output/atac0416/cCRE/intergenic.bed\"\n",
    "    ]\n",
    "dict_annot = {}\n",
    "for file in annotations:\n",
    "    name = file.split('/')[-1].replace('.bed', '')\n",
    "    try:\n",
    "        df_annot = utils.annotate_region(df_allpeaks,region_col='names', bedfile=file)\n",
    "        dict_annot[name] = df_annot[df_annot.distance==0]\n",
    "        dict_annot['cCRE'] = name\n",
    "        print(f\"Processed {file},{len(dict_annot[name])}\")\n",
    "    except:\n",
    "        print(f\"Error processing {file}\")\n",
    "        continue"
   ]
  },
  {
   "cell_type": "code",
   "execution_count": 139,
   "metadata": {},
   "outputs": [
    {
     "data": {
      "image/png": "[encoded data removed]",
      "text/plain": [
       "<Figure size 311.111x355.556 with 4 Axes>"
      ]
     },
     "metadata": {},
     "output_type": "display_data"
    }
   ],
   "source": [
    "gene_regions = {\n",
    "    'genebody': set(dict_annot['genebody'].names+\"_\"+dict_annot['genebody'].gene_name),\n",
    "    'intergenic': set(dict_annot['intergenic'].names+\"_\"+dict_annot['intergenic'].gene_name),\n",
    "    # 'promoter': set(dict_annot['promoter2k'].names+\"_\"+dict_annot['promoter2k'].gene_name),\n",
    "    # 'UTR': set(dict_annot['UTR'].names+\"_\"+dict_annot['UTR'].gene_name),\n",
    "    # 'LINE': set(dict_annot['LINE'].names+\"_\"+dict_annot['LINE'].gene_name),\n",
    "    # 'SINE': set(dict_annot['SINE'].names+\"_\"+dict_annot['SINE'].gene_name),\n",
    "    # 'LTR': set(dict_annot['LTR'].names+\"_\"+dict_annot['LTR'].gene_name),\n",
    "    # 'repeat': set(dict_annot['Other_repeats'].names+\"_\"+dict_annot['Other_repeats'].gene_name),\n",
    "    # 'cpg': set(dict_annot['cpg'].names+\"_\"+dict_annot['cpg'].gene_name)\n",
    "\n",
    "    # 'intron': set(dict_annot['intron_selected'].names),\n",
    "    # 'exon': set(dict_annot['exon_selected'].names),\n",
    "    # 'promoter': set(dict_annot['promoter2k'].names),\n",
    "    # 'UTR': set(dict_annot['UTR'].names),\n",
    "    # 'repeat': set(dict_annot['repeat'].names),\n",
    "    # 'cpg': set(dict_annot['cpg'].names),\n",
    "    }\n",
    "gene_regions = from_contents(gene_regions)\n",
    "ax_dict = UpSet(gene_regions, subset_size=\"count\", sort_by=\"cardinality\", show_counts=True).plot()\n"
   ]
  },
  {
   "cell_type": "code",
   "execution_count": null,
   "metadata": {},
   "outputs": [],
   "source": [
    "bed_intron = \"/data2st1/junyi/generegion_vM33/intron.bed\"\n",
    "\n",
    "intron, non_intron = intersect_bed_files(bed_allpeaks, bed_intron)\n",
    "\n",
    "df_intron = intron.to_dataframe().drop_duplicates(subset=['chrom', 'start', 'end'])\n",
    "\n",
    "num_intron = len(df_intron)"
   ]
  },
  {
   "cell_type": "code",
   "execution_count": null,
   "metadata": {},
   "outputs": [],
   "source": [
    "df_intron.to_csv(\"/data2st1/junyi/output/cCRE/ALL_sampled_peaks_intron.bed\", sep=\"\\t\", index=False)"
   ]
  },
  {
   "cell_type": "code",
   "execution_count": null,
   "metadata": {},
   "outputs": [],
   "source": [
    "bed_intron = \"/data2st1/junyi/generegion_vM33/exon.bed\"\n",
    "exon = BedTool(bed_intron)\n",
    "exon, non_ie = intersect_bed_objects(non_intron, exon)\n"
   ]
  },
  {
   "cell_type": "code",
   "execution_count": null,
   "metadata": {},
   "outputs": [],
   "source": [
    "df_exon = exon.to_dataframe().drop_duplicates(subset=['chrom', 'start', 'end'])\n",
    "num_exon = len(df_exon)"
   ]
  },
  {
   "cell_type": "code",
   "execution_count": null,
   "metadata": {},
   "outputs": [],
   "source": [
    "promoter = BedTool(\"/data2st1/junyi/generegion_vM33/promoter.bed\")\n",
    "promoter, non_iep = intersect_bed_objects(non_ie, promoter)\n",
    "df_promoter = promoter.to_dataframe().drop_duplicates(subset=['chrom', 'start', 'end'])\n",
    "num_promoter = len(df_promoter)"
   ]
  },
  {
   "cell_type": "code",
   "execution_count": null,
   "metadata": {},
   "outputs": [],
   "source": [
    "SINES = BedTool(\"/data2st1/junyi/generegion_vM33/sines.bed\")\n",
    "SINES, non_sines = intersect_bed_files(non_iep, SINES)\n",
    "df_sines = SINES.to_dataframe().drop_duplicates(subset=['chrom', 'start', 'end'])\n",
    "num_sines = len(df_sines)"
   ]
  },
  {
   "cell_type": "code",
   "execution_count": null,
   "metadata": {},
   "outputs": [],
   "source": [
    "LTRS = BedTool(\"/data2st1/junyi/generegion_vM33/ltrs.bed\")\n",
    "LTRS, non_LTRS = intersect_bed_files(non_iep, LTRS)\n",
    "df_ltrs = LTRS.to_dataframe().drop_duplicates(subset=['chrom', 'start', 'end'])\n",
    "num_ltrs = len(df_ltrs)"
   ]
  },
  {
   "cell_type": "code",
   "execution_count": null,
   "metadata": {},
   "outputs": [],
   "source": [
    "LINES = BedTool(\"/data2st1/junyi/generegion_vM33/lines.bed\")\n",
    "LINES, non_LINES = intersect_bed_files(non_iep, LINES)\n",
    "df_lines = LINES.to_dataframe().drop_duplicates(subset=['chrom', 'start', 'end'])\n",
    "num_lines = len(df_lines)\n"
   ]
  },
  {
   "cell_type": "code",
   "execution_count": null,
   "metadata": {},
   "outputs": [],
   "source": [
    "intergenic = '/data2st1/junyi/generegion_vM33/intergenic.bed'\n",
    "intergenic, non_intergenic = intersect_bed_files(bed_allpeaks, intergenic)\n",
    "df_intergenic = intergenic.to_dataframe().drop_duplicates(subset=['chrom', 'start', 'end'])\n",
    "num_intergenic = len(df_intergenic)"
   ]
  },
  {
   "cell_type": "code",
   "execution_count": null,
   "metadata": {},
   "outputs": [],
   "source": [
    "other_repeat = '/data2st1/junyi/generegion_vM33/other_repeats.bed'\n",
    "other_repeat, non_other_repeat = intersect_bed_files(non_iep, other_repeat)\n",
    "df_other_repeat = other_repeat.to_dataframe().drop_duplicates(subset=['chrom', 'start', 'end'])\n",
    "num_other_repeat = len(df_other_repeat)"
   ]
  },
  {
   "cell_type": "code",
   "execution_count": null,
   "metadata": {},
   "outputs": [],
   "source": [
    "cpgi = '/data2st1/junyi/generegion_vM33/cpg.bed'\n",
    "cpgi, non_cpgi = intersect_bed_files(bed_allpeaks, cpgi)\n",
    "df_cpgi = cpgi.to_dataframe().drop_duplicates(subset=['chrom', 'start', 'end'])\n",
    "num_cpgi = len(df_cpgi)"
   ]
  },
  {
   "cell_type": "code",
   "execution_count": null,
   "metadata": {},
   "outputs": [],
   "source": [
    "num_cpgi"
   ]
  },
  {
   "cell_type": "code",
   "execution_count": null,
   "metadata": {},
   "outputs": [],
   "source": [
    "import seaborn as sns\n",
    "\n",
    "data = {'Region': ['Intron', 'Exon', 'Promoter', 'SINES', 'LTRs', 'LINES', 'Intergenic', 'Other Repeats', 'CpG Islands'],\n",
    "        'Number of Peaks': [num_intron, num_exon, num_promoter, num_sines, num_ltrs, num_lines, num_intergenic, num_other_repeat, num_cpgi]}\n",
    "df = pd.DataFrame(data)\n"
   ]
  },
  {
   "cell_type": "code",
   "execution_count": null,
   "metadata": {},
   "outputs": [],
   "source": [
    "sns.set_style(\"whitegrid\")\n",
    "plt.figure(figsize=(6,6))\n",
    "plt.pie(df['Number of Peaks'], labels=df['Region'], autopct='%1.1f%%',pctdistance=1.15,labeldistance=1.28)\n",
    "plt.show()\n"
   ]
  },
  {
   "cell_type": "code",
   "execution_count": null,
   "metadata": {},
   "outputs": [],
   "source": [
    "import subprocess\n",
    "filename= '/data2st1/junyi/output/cCRE/ALL_sampled_peaks.bed'\n",
    "command_str = f\"/home/junyichen/liftOver {filename} /data2st1/junyi/mm39ToMm10.over.chain.gz /data2st1/junyi/output/cCRE/ALL_sampled_peaks_mm10.bed /data2st1/junyi/output/cCRE/peaks_unmap.bed\"\n",
    "print(command_str)\n",
    "subprocess.run(command_str, shell=True)"
   ]
  },
  {
   "cell_type": "code",
   "execution_count": null,
   "metadata": {},
   "outputs": [],
   "source": [
    "bed_allpeaks = \"/data2st1/junyi/output/cCRE/ALL_sampled_peaks_mm10.bed\"\n",
    "bed_encode = \"/data2st1/junyi/output/convert_enhancer.bed\"\n",
    "\n",
    "merged, non_overlapping = intersect_bed_files(bed_allpeaks, bed_encode)"
   ]
  },
  {
   "cell_type": "code",
   "execution_count": null,
   "metadata": {},
   "outputs": [
    {
     "ename": "PermissionError",
     "evalue": "[Errno 13] Permission denied: '/data2st1/junyi/output/cCRE/merged_mm10.bed'",
     "output_type": "error",
     "traceback": [
      "\u001b[0;31m---------------------------------------------------------------------------\u001b[0m",
      "\u001b[0;31mPermissionError\u001b[0m                           Traceback (most recent call last)",
      "Cell \u001b[0;32mIn[87], line 1\u001b[0m\n\u001b[0;32m----> 1\u001b[0m \u001b[43mmerged\u001b[49m\u001b[38;5;241;43m.\u001b[39;49m\u001b[43msaveas\u001b[49m\u001b[43m(\u001b[49m\u001b[38;5;124;43m\"\u001b[39;49m\u001b[38;5;124;43m/data2st1/junyi/output/cCRE/merged_mm10.bed\u001b[39;49m\u001b[38;5;124;43m\"\u001b[39;49m\u001b[43m)\u001b[49m\n\u001b[1;32m      2\u001b[0m non_overlapping\u001b[38;5;241m.\u001b[39msaveas(\u001b[38;5;124m\"\u001b[39m\u001b[38;5;124m/data2st1/junyi/output/cCRE/non_overlapping_mm10.bed\u001b[39m\u001b[38;5;124m\"\u001b[39m)\n",
      "File \u001b[0;32m~/anaconda3/envs/snapatac2/lib/python3.10/site-packages/pybedtools/bedtool.py:454\u001b[0m, in \u001b[0;36m_log_to_history.<locals>.decorated\u001b[0;34m(self, *args, **kwargs)\u001b[0m\n\u001b[1;32m    450\u001b[0m \u001b[38;5;28;01mdef\u001b[39;00m\u001b[38;5;250m \u001b[39m\u001b[38;5;21mdecorated\u001b[39m(\u001b[38;5;28mself\u001b[39m, \u001b[38;5;241m*\u001b[39margs, \u001b[38;5;241m*\u001b[39m\u001b[38;5;241m*\u001b[39mkwargs):\n\u001b[1;32m    451\u001b[0m \n\u001b[1;32m    452\u001b[0m     \u001b[38;5;66;03m# this calls the actual method in the first place; *result* is\u001b[39;00m\n\u001b[1;32m    453\u001b[0m     \u001b[38;5;66;03m# whatever you get back\u001b[39;00m\n\u001b[0;32m--> 454\u001b[0m     result \u001b[38;5;241m=\u001b[39m \u001b[43mmethod\u001b[49m\u001b[43m(\u001b[49m\u001b[38;5;28;43mself\u001b[39;49m\u001b[43m,\u001b[49m\u001b[43m \u001b[49m\u001b[38;5;241;43m*\u001b[39;49m\u001b[43margs\u001b[49m\u001b[43m,\u001b[49m\u001b[43m \u001b[49m\u001b[38;5;241;43m*\u001b[39;49m\u001b[38;5;241;43m*\u001b[39;49m\u001b[43mkwargs\u001b[49m\u001b[43m)\u001b[49m\n\u001b[1;32m    456\u001b[0m     \u001b[38;5;66;03m# add appropriate tags\u001b[39;00m\n\u001b[1;32m    457\u001b[0m     parent_tag \u001b[38;5;241m=\u001b[39m \u001b[38;5;28mself\u001b[39m\u001b[38;5;241m.\u001b[39m_tag\n",
      "File \u001b[0;32m~/anaconda3/envs/snapatac2/lib/python3.10/site-packages/pybedtools/bedtool.py:3396\u001b[0m, in \u001b[0;36mBedTool.saveas\u001b[0;34m(self, fn, trackline, compressed)\u001b[0m\n\u001b[1;32m   3392\u001b[0m         compressed \u001b[38;5;241m=\u001b[39m \u001b[38;5;28;01mFalse\u001b[39;00m\n\u001b[1;32m   3394\u001b[0m in_compressed \u001b[38;5;241m=\u001b[39m \u001b[38;5;28misinstance\u001b[39m(\u001b[38;5;28mself\u001b[39m\u001b[38;5;241m.\u001b[39mfn, \u001b[38;5;28mstr\u001b[39m) \u001b[38;5;129;01mand\u001b[39;00m isGZIP(\u001b[38;5;28mself\u001b[39m\u001b[38;5;241m.\u001b[39mfn)\n\u001b[0;32m-> 3396\u001b[0m fn \u001b[38;5;241m=\u001b[39m \u001b[38;5;28;43mself\u001b[39;49m\u001b[38;5;241;43m.\u001b[39;49m\u001b[43m_collapse\u001b[49m\u001b[43m(\u001b[49m\n\u001b[1;32m   3397\u001b[0m \u001b[43m    \u001b[49m\u001b[38;5;28;43mself\u001b[39;49m\u001b[43m,\u001b[49m\n\u001b[1;32m   3398\u001b[0m \u001b[43m    \u001b[49m\u001b[43mfn\u001b[49m\u001b[38;5;241;43m=\u001b[39;49m\u001b[43mfn\u001b[49m\u001b[43m,\u001b[49m\n\u001b[1;32m   3399\u001b[0m \u001b[43m    \u001b[49m\u001b[43mtrackline\u001b[49m\u001b[38;5;241;43m=\u001b[39;49m\u001b[43mtrackline\u001b[49m\u001b[43m,\u001b[49m\n\u001b[1;32m   3400\u001b[0m \u001b[43m    \u001b[49m\u001b[43min_compressed\u001b[49m\u001b[38;5;241;43m=\u001b[39;49m\u001b[43min_compressed\u001b[49m\u001b[43m,\u001b[49m\n\u001b[1;32m   3401\u001b[0m \u001b[43m    \u001b[49m\u001b[43mout_compressed\u001b[49m\u001b[38;5;241;43m=\u001b[39;49m\u001b[43mcompressed\u001b[49m\u001b[43m,\u001b[49m\n\u001b[1;32m   3402\u001b[0m \u001b[43m\u001b[49m\u001b[43m)\u001b[49m\n\u001b[1;32m   3403\u001b[0m \u001b[38;5;28;01mreturn\u001b[39;00m BedTool(fn)\n",
      "File \u001b[0;32m~/anaconda3/envs/snapatac2/lib/python3.10/site-packages/pybedtools/bedtool.py:1413\u001b[0m, in \u001b[0;36mBedTool._collapse\u001b[0;34m(self, iterable, fn, trackline, in_compressed, out_compressed)\u001b[0m\n\u001b[1;32m   1410\u001b[0m \u001b[38;5;66;03m# If we're just working with filename-based BedTool objects, just copy\u001b[39;00m\n\u001b[1;32m   1411\u001b[0m \u001b[38;5;66;03m# the files directly\u001b[39;00m\n\u001b[1;32m   1412\u001b[0m \u001b[38;5;28;01mif\u001b[39;00m \u001b[38;5;28misinstance\u001b[39m(iterable, BedTool) \u001b[38;5;129;01mand\u001b[39;00m \u001b[38;5;28misinstance\u001b[39m(iterable\u001b[38;5;241m.\u001b[39mfn, \u001b[38;5;28mstr\u001b[39m):\n\u001b[0;32m-> 1413\u001b[0m     \u001b[38;5;28;01mwith\u001b[39;00m \u001b[43mout_open_func\u001b[49m\u001b[43m(\u001b[49m\u001b[43mfn\u001b[49m\u001b[43m,\u001b[49m\u001b[43m \u001b[49m\u001b[38;5;124;43m\"\u001b[39;49m\u001b[38;5;124;43mwt\u001b[39;49m\u001b[38;5;124;43m\"\u001b[39;49m\u001b[43m)\u001b[49m \u001b[38;5;28;01mas\u001b[39;00m out_:\n\u001b[1;32m   1414\u001b[0m         \u001b[38;5;28;01mif\u001b[39;00m sys\u001b[38;5;241m.\u001b[39mversion_info \u001b[38;5;241m>\u001b[39m (\u001b[38;5;241m3\u001b[39m,\u001b[38;5;241m0\u001b[39m):\n\u001b[1;32m   1415\u001b[0m             in_ \u001b[38;5;241m=\u001b[39m in_open_func(iterable\u001b[38;5;241m.\u001b[39mfn, \u001b[38;5;124m\"\u001b[39m\u001b[38;5;124mrt\u001b[39m\u001b[38;5;124m\"\u001b[39m, errors\u001b[38;5;241m=\u001b[39m\u001b[38;5;124m\"\u001b[39m\u001b[38;5;124mignore\u001b[39m\u001b[38;5;124m\"\u001b[39m)\n",
      "\u001b[0;31mPermissionError\u001b[0m: [Errno 13] Permission denied: '/data2st1/junyi/output/cCRE/merged_mm10.bed'"
     ]
    }
   ],
   "source": [
    "# merged.saveas(\"/data2st1/junyi/output/cCRE/merged_mm10.bed\")\n",
    "# non_overlapping.saveas(\"/data2st1/junyi/output/cCRE/non_overlapping_mm10.bed\")"
   ]
  },
  {
   "cell_type": "code",
   "execution_count": 89,
   "metadata": {},
   "outputs": [],
   "source": [
    "import pyBigWig\n",
    "\n",
    "# 打开 bigWig 文件\n",
    "bw = pyBigWig.open(\"/data2st1/junyi/phascon/mm10.60way.phastCons.bw\")"
   ]
  },
  {
   "cell_type": "code",
   "execution_count": 90,
   "metadata": {},
   "outputs": [],
   "source": [
    "import numpy as np\n",
    "scores_list = []\n",
    "with open(\"/data2st1/junyi/output/atac0416/cCRE/overlap_rdhs.bed\", \"r\") as bed_file:\n",
    "    for line in bed_file:\n",
    "        chrom, start, end, name,_,_,_ = line.strip().split('\\t')\n",
    "        start = int(start)\n",
    "        end = int(end)\n",
    "        summit = (start +\n",
    "                  end) // 2\n",
    "        \n",
    "\n",
    "        # 获取 PhastCons 分数\n",
    "        scores = bw.values(chrom, summit -250, summit + 250)\n",
    "        scores = [score for score in scores if score is not None]\n",
    "\n",
    "        # 计算平均分数\n",
    "        # mean_score = np.mean(scores)\n",
    "        # print(f\"Region {name} ({chrom}:{start}-{end}): Mean PhastCons score = {mean_score}\")\n",
    "        scores_list.append(scores)\n"
   ]
  },
  {
   "cell_type": "code",
   "execution_count": 91,
   "metadata": {},
   "outputs": [],
   "source": [
    "scores_array = np.array(scores_list)\n",
    "scores_array = np.nan_to_num(scores_array)\n",
    "mean_value = np.mean(scores_array, axis=0)\n"
   ]
  },
  {
   "cell_type": "code",
   "execution_count": 92,
   "metadata": {},
   "outputs": [],
   "source": [
    "scores_list_non = []\n",
    "\n",
    "with open(\"/data2st1/junyi/output/atac0416/cCRE/non_overlapp_rdhs.bed\", \"r\") as bed_file:\n",
    "    for line in bed_file:\n",
    "        chrom, start, end= line.strip().split('\\t')\n",
    "        start = int(start)\n",
    "        end = int(end)\n",
    "        summit = (start +\n",
    "                  end) // 2\n",
    "        \n",
    "\n",
    "        # 获取 PhastCons 分数\n",
    "        try:\n",
    "            scores = bw.values(chrom, summit -250, summit + 250)\n",
    "            scores = [score for score in scores if score is not None]\n",
    "        except:\n",
    "            continue    \n",
    "        # 计算平均分数\n",
    "        # mean_score = np.mean(scores)\n",
    "        # print(f\"Region {name} ({chrom}:{start}-{end}): Mean PhastCons score = {mean_score}\")\n",
    "        scores_list_non.append(scores)\n"
   ]
  },
  {
   "cell_type": "code",
   "execution_count": 93,
   "metadata": {},
   "outputs": [],
   "source": [
    "scores_array_non = np.array(scores_list_non)\n",
    "scores_array_non = np.nan_to_num(scores_array_non)\n",
    "mean_value_non = np.mean(scores_array_non, axis=0)"
   ]
  },
  {
   "cell_type": "code",
   "execution_count": 94,
   "metadata": {},
   "outputs": [],
   "source": [
    "sns.set_style(\"whitegrid\")\n"
   ]
  },
  {
   "cell_type": "code",
   "execution_count": 133,
   "metadata": {},
   "outputs": [
    {
     "data": {
      "image/png": "[encoded data removed]",
      "text/plain": [
       "<Figure size 640x480 with 1 Axes>"
      ]
     },
     "metadata": {},
     "output_type": "display_data"
    }
   ],
   "source": [
    "x = np.arange(-250, 250)\n",
    "plt.rcParams['axes.spines.top'] = False\n",
    "plt.rcParams['axes.spines.right'] = False\n",
    "\n",
    "plt.plot(x, mean_value,color='#EB3739', label='cCRE',linewidth=4)\n",
    "plt.plot(x, mean_value_non, color='#4C65AC', label='Non-ovlp',linewidth=4)\n",
    "plt.plot(x, np.zeros_like(x)+0.08, color='grey',label='Random', linestyle='--', linewidth=3)\n",
    "plt.xlabel('Distance from the summit')\n",
    "plt.ylabel('Mean PhastCons score')\n",
    "plt.legend(loc='upper right',frameon=False)\n",
    "plt.grid(visible=False)\n",
    "plt.axis('tight')\n",
    "plt.gca().yaxis.set_major_formatter('{:.2f}'.format)\n",
    "\n",
    "plt.show()\n",
    "\n"
   ]
  }
 ],
 "metadata": {
  "kernelspec": {
   "display_name": "snapatac2",
   "language": "python",
   "name": "python3"
  },
  "language_info": {
   "codemirror_mode": {
    "name": "ipython",
    "version": 3
   },
   "file_extension": ".py",
   "mimetype": "text/x-python",
   "name": "python",
   "nbconvert_exporter": "python",
   "pygments_lexer": "ipython3",
   "version": "3.10.0"
  }
 },
 "nbformat": 4,
 "nbformat_minor": 2
}
