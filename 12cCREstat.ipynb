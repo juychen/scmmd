{
 "cells": [
  {
   "cell_type": "code",
   "execution_count": 1,
   "metadata": {},
   "outputs": [],
   "source": [
    "from pybedtools import BedTool\n",
    "import seaborn as sns\n",
    "import matplotlib.pyplot as plt\n",
    "import pandas as pd\n"
   ]
  },
  {
   "cell_type": "code",
   "execution_count": 2,
   "metadata": {},
   "outputs": [],
   "source": [
    "def intersect_bed_files(bed_file1, bed_file2):\n",
    "    bed1 = BedTool(bed_file1)\n",
    "    bed2 = BedTool(bed_file2)\n",
    "\n",
    "    # Intersect and split regions\n",
    "    # Retain annotations from bed_file2 for overlapping regions\n",
    "    merged = bed1.intersect(bed2, wa=True, wb=True)#.saveas(\"output/temp_intersect.bed\")\n",
    "\n",
    "    # Split non-overlapping regions from bed_file1\n",
    "    non_overlapping = bed1.subtract(bed2)#.saveas(\"output/temp_non_overlapping.bed\")\n",
    "\n",
    "    return merged, non_overlapping"
   ]
  },
  {
   "cell_type": "code",
   "execution_count": 3,
   "metadata": {},
   "outputs": [],
   "source": [
    "def intersect_bed_objects(bed_file1, bed_file2):\n",
    "    bed1 = bed_file1\n",
    "    bed2 = bed_file2\n",
    "\n",
    "    # Intersect and split regions\n",
    "    # Retain annotations from bed_file2 for overlapping regions\n",
    "    merged = bed1.intersect(bed2, wa=True, wb=True)#.saveas(\"output/temp_intersect.bed\")\n",
    "\n",
    "    # Split non-overlapping regions from bed_file1\n",
    "    non_overlapping = bed1.subtract(bed2)#.saveas(\"output/temp_non_overlapping.bed\")\n",
    "\n",
    "    return merged, non_overlapping"
   ]
  },
  {
   "cell_type": "code",
   "execution_count": 10,
   "metadata": {},
   "outputs": [],
   "source": [
    "bed_allpeaks = \"/data2st1/junyi/output/atac0416/cCRE/peak.bed\"\n",
    "bed_encode = \"/data2st1/junyi/output/atac0416/cCRE/mm10-cCREs.bed\"\n",
    "\n",
    "merged, non_overlapping = intersect_bed_files(bed_allpeaks, bed_encode)"
   ]
  },
  {
   "cell_type": "code",
   "execution_count": 11,
   "metadata": {},
   "outputs": [
    {
     "data": {
      "text/plain": [
       "(295713, 1534765)"
      ]
     },
     "execution_count": 11,
     "metadata": {},
     "output_type": "execute_result"
    }
   ],
   "source": [
    "len(merged), len(non_overlapping)"
   ]
  },
  {
   "cell_type": "code",
   "execution_count": 12,
   "metadata": {},
   "outputs": [],
   "source": [
    "bedall_peaks = BedTool(bed_allpeaks)"
   ]
  },
  {
   "cell_type": "code",
   "execution_count": null,
   "metadata": {},
   "outputs": [],
   "source": []
  },
  {
   "cell_type": "code",
   "execution_count": 13,
   "metadata": {},
   "outputs": [
    {
     "data": {
      "text/plain": [
       "1371000"
      ]
     },
     "execution_count": 13,
     "metadata": {},
     "output_type": "execute_result"
    }
   ],
   "source": [
    "len(bedall_peaks)"
   ]
  },
  {
   "cell_type": "code",
   "execution_count": 8,
   "metadata": {},
   "outputs": [
    {
     "name": "stderr",
     "output_type": "stream",
     "text": [
      "***** WARNING: File /data2st1/junyi/generegion_vM33/intron.bed has inconsistent naming convention for record:\n",
      "GL456210.1\t123906\t124786\t.\t+\tENSMUSG00000079192\tENSMUSG00000079192.3\tintron\n",
      "\n",
      "***** WARNING: File /data2st1/junyi/generegion_vM33/intron.bed has inconsistent naming convention for record:\n",
      "GL456210.1\t123906\t124786\t.\t+\tENSMUSG00000079192\tENSMUSG00000079192.3\tintron\n",
      "\n",
      "***** WARNING: File /data2st1/junyi/generegion_vM33/intron.bed has inconsistent naming convention for record:\n",
      "GL456210.1\t123906\t124786\t.\t+\tENSMUSG00000079192\tENSMUSG00000079192.3\tintron\n",
      "\n",
      "***** WARNING: File /data2st1/junyi/generegion_vM33/intron.bed has inconsistent naming convention for record:\n",
      "GL456210.1\t123906\t124786\t.\t+\tENSMUSG00000079192\tENSMUSG00000079192.3\tintron\n",
      "\n"
     ]
    }
   ],
   "source": [
    "bed_intron = \"/data2st1/junyi/generegion_vM33/intron.bed\"\n",
    "\n",
    "intron, non_intron = intersect_bed_files(bed_allpeaks, bed_intron)\n",
    "\n",
    "df_intron = intron.to_dataframe().drop_duplicates(subset=['chrom', 'start', 'end'])\n",
    "\n",
    "num_intron = len(df_intron)"
   ]
  },
  {
   "cell_type": "code",
   "execution_count": 9,
   "metadata": {},
   "outputs": [],
   "source": [
    "df_intron.to_csv(\"/data2st1/junyi/output/cCRE/ALL_sampled_peaks_intron.bed\", sep=\"\\t\", index=False)"
   ]
  },
  {
   "cell_type": "code",
   "execution_count": 42,
   "metadata": {},
   "outputs": [
    {
     "name": "stderr",
     "output_type": "stream",
     "text": [
      "***** WARNING: File /data2st1/junyi/generegion_vM33/exon.bed has inconsistent naming convention for record:\n",
      "GL456210.1\t58594\t58882\t.\t-\tENSMUSG00000079800\tENSMUSG00000079800.3\texon\n",
      "\n",
      "***** WARNING: File /data2st1/junyi/generegion_vM33/exon.bed has inconsistent naming convention for record:\n",
      "GL456210.1\t58594\t58882\t.\t-\tENSMUSG00000079800\tENSMUSG00000079800.3\texon\n",
      "\n",
      "***** WARNING: File /data2st1/junyi/generegion_vM33/exon.bed has inconsistent naming convention for record:\n",
      "GL456210.1\t58594\t58882\t.\t-\tENSMUSG00000079800\tENSMUSG00000079800.3\texon\n",
      "\n",
      "***** WARNING: File /data2st1/junyi/generegion_vM33/exon.bed has inconsistent naming convention for record:\n",
      "GL456210.1\t58594\t58882\t.\t-\tENSMUSG00000079800\tENSMUSG00000079800.3\texon\n",
      "\n"
     ]
    }
   ],
   "source": [
    "bed_intron = \"/data2st1/junyi/generegion_vM33/exon.bed\"\n",
    "exon = BedTool(bed_intron)\n",
    "exon, non_ie = intersect_bed_objects(non_intron, exon)\n"
   ]
  },
  {
   "cell_type": "code",
   "execution_count": 92,
   "metadata": {},
   "outputs": [],
   "source": [
    "df_exon = exon.to_dataframe().drop_duplicates(subset=['chrom', 'start', 'end'])\n",
    "num_exon = len(df_exon)"
   ]
  },
  {
   "cell_type": "code",
   "execution_count": 93,
   "metadata": {},
   "outputs": [
    {
     "name": "stderr",
     "output_type": "stream",
     "text": [
      "***** WARNING: File /data2st1/junyi/generegion_vM33/promoter.bed has inconsistent naming convention for record:\n",
      "GL456210.1\t10028\t11028\t.\t-\tENSMUSG00000079800\tENSMUSG00000079800.3\tpromoter\n",
      "\n",
      "***** WARNING: File /data2st1/junyi/generegion_vM33/promoter.bed has inconsistent naming convention for record:\n",
      "GL456210.1\t10028\t11028\t.\t-\tENSMUSG00000079800\tENSMUSG00000079800.3\tpromoter\n",
      "\n",
      "***** WARNING: File /data2st1/junyi/generegion_vM33/promoter.bed has inconsistent naming convention for record:\n",
      "GL456210.1\t10028\t11028\t.\t-\tENSMUSG00000079800\tENSMUSG00000079800.3\tpromoter\n",
      "\n",
      "***** WARNING: File /data2st1/junyi/generegion_vM33/promoter.bed has inconsistent naming convention for record:\n",
      "GL456210.1\t10028\t11028\t.\t-\tENSMUSG00000079800\tENSMUSG00000079800.3\tpromoter\n",
      "\n"
     ]
    }
   ],
   "source": [
    "promoter = BedTool(\"/data2st1/junyi/generegion_vM33/promoter.bed\")\n",
    "promoter, non_iep = intersect_bed_objects(non_ie, promoter)\n",
    "df_promoter = promoter.to_dataframe().drop_duplicates(subset=['chrom', 'start', 'end'])\n",
    "num_promoter = len(df_promoter)"
   ]
  },
  {
   "cell_type": "code",
   "execution_count": 94,
   "metadata": {},
   "outputs": [],
   "source": [
    "SINES = BedTool(\"/data2st1/junyi/generegion_vM33/sines.bed\")\n",
    "SINES, non_sines = intersect_bed_files(non_iep, SINES)\n",
    "df_sines = SINES.to_dataframe().drop_duplicates(subset=['chrom', 'start', 'end'])\n",
    "num_sines = len(df_sines)"
   ]
  },
  {
   "cell_type": "code",
   "execution_count": 95,
   "metadata": {},
   "outputs": [],
   "source": [
    "LTRS = BedTool(\"/data2st1/junyi/generegion_vM33/ltrs.bed\")\n",
    "LTRS, non_LTRS = intersect_bed_files(non_iep, LTRS)\n",
    "df_ltrs = LTRS.to_dataframe().drop_duplicates(subset=['chrom', 'start', 'end'])\n",
    "num_ltrs = len(df_ltrs)"
   ]
  },
  {
   "cell_type": "code",
   "execution_count": 96,
   "metadata": {},
   "outputs": [],
   "source": [
    "LINES = BedTool(\"/data2st1/junyi/generegion_vM33/lines.bed\")\n",
    "LINES, non_LINES = intersect_bed_files(non_iep, LINES)\n",
    "df_lines = LINES.to_dataframe().drop_duplicates(subset=['chrom', 'start', 'end'])\n",
    "num_lines = len(df_lines)\n"
   ]
  },
  {
   "cell_type": "code",
   "execution_count": 97,
   "metadata": {},
   "outputs": [
    {
     "name": "stderr",
     "output_type": "stream",
     "text": [
      "***** WARNING: File /data2st1/junyi/generegion_vM33/intergenic.bed has inconsistent naming convention for record:\n",
      "GL456210.1\t58883\t108389\t.\t.\tintergenic\n",
      "\n",
      "***** WARNING: File /data2st1/junyi/generegion_vM33/intergenic.bed has inconsistent naming convention for record:\n",
      "GL456210.1\t58883\t108389\t.\t.\tintergenic\n",
      "\n",
      "***** WARNING: File /data2st1/junyi/generegion_vM33/intergenic.bed has inconsistent naming convention for record:\n",
      "GL456210.1\t58883\t108389\t.\t.\tintergenic\n",
      "\n",
      "***** WARNING: File /data2st1/junyi/generegion_vM33/intergenic.bed has inconsistent naming convention for record:\n",
      "GL456210.1\t58883\t108389\t.\t.\tintergenic\n",
      "\n"
     ]
    }
   ],
   "source": [
    "intergenic = '/data2st1/junyi/generegion_vM33/intergenic.bed'\n",
    "intergenic, non_intergenic = intersect_bed_files(bed_allpeaks, intergenic)\n",
    "df_intergenic = intergenic.to_dataframe().drop_duplicates(subset=['chrom', 'start', 'end'])\n",
    "num_intergenic = len(df_intergenic)"
   ]
  },
  {
   "cell_type": "code",
   "execution_count": 98,
   "metadata": {},
   "outputs": [],
   "source": [
    "other_repeat = '/data2st1/junyi/generegion_vM33/other_repeats.bed'\n",
    "other_repeat, non_other_repeat = intersect_bed_files(non_iep, other_repeat)\n",
    "df_other_repeat = other_repeat.to_dataframe().drop_duplicates(subset=['chrom', 'start', 'end'])\n",
    "num_other_repeat = len(df_other_repeat)"
   ]
  },
  {
   "cell_type": "code",
   "execution_count": 99,
   "metadata": {},
   "outputs": [],
   "source": [
    "cpgi = '/data2st1/junyi/generegion_vM33/cpg.bed'\n",
    "cpgi, non_cpgi = intersect_bed_files(bed_allpeaks, cpgi)\n",
    "df_cpgi = cpgi.to_dataframe().drop_duplicates(subset=['chrom', 'start', 'end'])\n",
    "num_cpgi = len(df_cpgi)"
   ]
  },
  {
   "cell_type": "code",
   "execution_count": 100,
   "metadata": {},
   "outputs": [
    {
     "data": {
      "text/plain": [
       "19364"
      ]
     },
     "execution_count": 100,
     "metadata": {},
     "output_type": "execute_result"
    }
   ],
   "source": [
    "num_cpgi"
   ]
  },
  {
   "cell_type": "code",
   "execution_count": null,
   "metadata": {},
   "outputs": [],
   "source": [
    "import seaborn as sns\n",
    "\n",
    "data = {'Region': ['Intron', 'Exon', 'Promoter', 'SINES', 'LTRs', 'LINES', 'Intergenic', 'Other Repeats', 'CpG Islands'],\n",
    "        'Number of Peaks': [num_intron, num_exon, num_promoter, num_sines, num_ltrs, num_lines, num_intergenic, num_other_repeat, num_cpgi]}\n",
    "df = pd.DataFrame(data)\n"
   ]
  },
  {
   "cell_type": "code",
   "execution_count": 114,
   "metadata": {},
   "outputs": [
    {
     "data": {
      "image/png": "[encoded data removed]",
      "text/plain": [
       "<Figure size 600x600 with 1 Axes>"
      ]
     },
     "metadata": {},
     "output_type": "display_data"
    }
   ],
   "source": [
    "sns.set_style(\"whitegrid\")\n",
    "plt.figure(figsize=(6,6))\n",
    "plt.pie(df['Number of Peaks'], labels=df['Region'], autopct='%1.1f%%',pctdistance=1.15,labeldistance=1.28)\n",
    "plt.show()\n"
   ]
  },
  {
   "cell_type": "code",
   "execution_count": 116,
   "metadata": {},
   "outputs": [
    {
     "name": "stdout",
     "output_type": "stream",
     "text": [
      "/home/junyichen/liftOver /data2st1/junyi/output/cCRE/ALL_sampled_peaks.bed /data2st1/junyi/mm39ToMm10.over.chain.gz /data2st1/junyi/output/cCRE/ALL_sampled_peaks_mm10.bed /data2st1/junyi/output/cCRE/peaks_unmap.bed\n"
     ]
    },
    {
     "name": "stderr",
     "output_type": "stream",
     "text": [
      "Reading liftover chains\n",
      "Mapping coordinates\n"
     ]
    },
    {
     "data": {
      "text/plain": [
       "CompletedProcess(args='/home/junyichen/liftOver /data2st1/junyi/output/cCRE/ALL_sampled_peaks.bed /data2st1/junyi/mm39ToMm10.over.chain.gz /data2st1/junyi/output/cCRE/ALL_sampled_peaks_mm10.bed /data2st1/junyi/output/cCRE/peaks_unmap.bed', returncode=0)"
      ]
     },
     "execution_count": 116,
     "metadata": {},
     "output_type": "execute_result"
    }
   ],
   "source": [
    "import subprocess\n",
    "filename= '/data2st1/junyi/output/cCRE/ALL_sampled_peaks.bed'\n",
    "command_str = f\"/home/junyichen/liftOver {filename} /data2st1/junyi/mm39ToMm10.over.chain.gz /data2st1/junyi/output/cCRE/ALL_sampled_peaks_mm10.bed /data2st1/junyi/output/cCRE/peaks_unmap.bed\"\n",
    "print(command_str)\n",
    "subprocess.run(command_str, shell=True)"
   ]
  },
  {
   "cell_type": "code",
   "execution_count": 117,
   "metadata": {},
   "outputs": [],
   "source": [
    "bed_allpeaks = \"/data2st1/junyi/output/cCRE/ALL_sampled_peaks_mm10.bed\"\n",
    "bed_encode = \"/data2st1/junyi/output/convert_enhancer.bed\"\n",
    "\n",
    "merged, non_overlapping = intersect_bed_files(bed_allpeaks, bed_encode)"
   ]
  },
  {
   "cell_type": "code",
   "execution_count": 124,
   "metadata": {},
   "outputs": [
    {
     "data": {
      "text/plain": [
       "<BedTool(/data2st1/junyi/output/cCRE/non_overlapping_mm10.bed)>"
      ]
     },
     "execution_count": 124,
     "metadata": {},
     "output_type": "execute_result"
    }
   ],
   "source": [
    "merged.saveas(\"/data2st1/junyi/output/cCRE/merged_mm10.bed\")\n",
    "non_overlapping.saveas(\"/data2st1/junyi/output/cCRE/non_overlapping_mm10.bed\")"
   ]
  },
  {
   "cell_type": "code",
   "execution_count": 122,
   "metadata": {},
   "outputs": [],
   "source": [
    "import pyBigWig\n",
    "\n",
    "# 打开 bigWig 文件\n",
    "bw = pyBigWig.open(\"/data2st1/junyi/phascon/mm10.60way.phastCons.bw\")"
   ]
  },
  {
   "cell_type": "code",
   "execution_count": 128,
   "metadata": {},
   "outputs": [
    {
     "data": {
      "text/plain": [
       "['chr1', '3119734', '3120235', 'chr1', '3119617', '3119911', '.', '.', 'dELS']"
      ]
     },
     "execution_count": 128,
     "metadata": {},
     "output_type": "execute_result"
    }
   ],
   "source": [
    "line.strip().split('\\t')"
   ]
  },
  {
   "cell_type": "code",
   "execution_count": 129,
   "metadata": {},
   "outputs": [],
   "source": [
    "import numpy as np\n",
    "scores_list = []\n",
    "with open(\"/data2st1/junyi/output/cCRE/merged_mm10.bed\", \"r\") as bed_file:\n",
    "    for line in bed_file:\n",
    "        chrom, start, end, name,_,_,_,_,_ = line.strip().split('\\t')\n",
    "        start = int(start)\n",
    "        end = int(end)\n",
    "        summit = (start +\n",
    "                  end) // 2\n",
    "        \n",
    "\n",
    "        # 获取 PhastCons 分数\n",
    "        scores = bw.values(chrom, summit -250, summit + 250)\n",
    "        scores = [score for score in scores if score is not None]\n",
    "\n",
    "        # 计算平均分数\n",
    "        # mean_score = np.mean(scores)\n",
    "        # print(f\"Region {name} ({chrom}:{start}-{end}): Mean PhastCons score = {mean_score}\")\n",
    "        scores_list.append(scores)\n"
   ]
  },
  {
   "cell_type": "code",
   "execution_count": null,
   "metadata": {},
   "outputs": [],
   "source": [
    "scores_array = np.array(scores_list)\n",
    "scores_array = np.nan_to_num(scores_array)\n",
    "mean_value = np.mean(scores_array, axis=0)\n"
   ]
  },
  {
   "cell_type": "code",
   "execution_count": null,
   "metadata": {},
   "outputs": [
    {
     "data": {
      "text/plain": [
       "'chr1\\t3012484\\t3012985\\n'"
      ]
     },
     "execution_count": 163,
     "metadata": {},
     "output_type": "execute_result"
    }
   ],
   "source": [
    "line"
   ]
  },
  {
   "cell_type": "code",
   "execution_count": 170,
   "metadata": {},
   "outputs": [
    {
     "data": {
      "text/plain": [
       "'chrUn_GL456393\\t0\\t476\\n'"
      ]
     },
     "execution_count": 170,
     "metadata": {},
     "output_type": "execute_result"
    }
   ],
   "source": [
    "line"
   ]
  },
  {
   "cell_type": "code",
   "execution_count": 171,
   "metadata": {},
   "outputs": [],
   "source": [
    "scores_list_non = []\n",
    "\n",
    "with open(\"/data2st1/junyi/output/cCRE/non_overlapping_mm10.bed\", \"r\") as bed_file:\n",
    "    for line in bed_file:\n",
    "        chrom, start, end= line.strip().split('\\t')\n",
    "        start = int(start)\n",
    "        end = int(end)\n",
    "        summit = (start +\n",
    "                  end) // 2\n",
    "        \n",
    "\n",
    "        # 获取 PhastCons 分数\n",
    "        try:\n",
    "            scores = bw.values(chrom, summit -250, summit + 250)\n",
    "            scores = [score for score in scores if score is not None]\n",
    "        except:\n",
    "            continue    \n",
    "        # 计算平均分数\n",
    "        # mean_score = np.mean(scores)\n",
    "        # print(f\"Region {name} ({chrom}:{start}-{end}): Mean PhastCons score = {mean_score}\")\n",
    "        scores_list_non.append(scores)\n"
   ]
  },
  {
   "cell_type": "code",
   "execution_count": 172,
   "metadata": {},
   "outputs": [],
   "source": [
    "scores_array_non = np.array(scores_list_non)\n",
    "scores_array_non = np.nan_to_num(scores_array_non)\n",
    "mean_value_non = np.mean(scores_array_non, axis=0)"
   ]
  },
  {
   "cell_type": "code",
   "execution_count": 177,
   "metadata": {},
   "outputs": [],
   "source": [
    "sns.set_style(\"whitegrid\")\n"
   ]
  },
  {
   "cell_type": "code",
   "execution_count": 179,
   "metadata": {},
   "outputs": [
    {
     "data": {
      "image/png": "[encoded data removed]",
      "text/plain": [
       "<Figure size 640x480 with 1 Axes>"
      ]
     },
     "metadata": {},
     "output_type": "display_data"
    }
   ],
   "source": [
    "x = np.arange(-250, 250)\n",
    "plt.plot(x, mean_value,color='blue', label='cCRE')\n",
    "plt.plot(x, mean_value_non, color='red', label='Non-overlapping-cCRE')\n",
    "plt.xlabel('Distance from the summit')\n",
    "plt.ylabel('Mean PhastCons score')\n",
    "plt.legend()\n",
    "plt.grid(visible=False)\n",
    "plt.show()\n",
    "\n"
   ]
  }
 ],
 "metadata": {
  "kernelspec": {
   "display_name": "snapatac2",
   "language": "python",
   "name": "python3"
  },
  "language_info": {
   "codemirror_mode": {
    "name": "ipython",
    "version": 3
   },
   "file_extension": ".py",
   "mimetype": "text/x-python",
   "name": "python",
   "nbconvert_exporter": "python",
   "pygments_lexer": "ipython3",
   "version": "3.10.0"
  }
 },
 "nbformat": 4,
 "nbformat_minor": 2
}
