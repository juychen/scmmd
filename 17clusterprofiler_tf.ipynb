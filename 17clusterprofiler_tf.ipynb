{
 "cells": [
  {
   "cell_type": "code",
   "execution_count": 5,
   "metadata": {
    "vscode": {
     "languageId": "r"
    }
   },
   "outputs": [],
   "source": [
    "library('clusterProfiler')\n",
    "library(org.Mm.eg.db)\n",
    "library(ggplot2)"
   ]
  },
  {
   "cell_type": "code",
   "execution_count": null,
   "metadata": {
    "vscode": {
     "languageId": "r"
    }
   },
   "outputs": [],
   "source": [
    "indir <- '/data2st1/junyi/output/atac0627/snregulation'\n",
    "outdir <- '/data2st1/junyi/output/atac0627/snregulation/enrich/'\n",
    "df_important_TF <- read.csv(paste0(indir, '/TFtarget_analysis_important_TF.csv'))\n",
    "df_grns <- list.files('/data1st1/yejun/pyscenic/grn/', pattern = 'adj_.*\\\\.tsv', full.names = TRUE)\n",
    "overwrite <- FALSE"
   ]
  },
  {
   "cell_type": "code",
   "execution_count": 7,
   "metadata": {
    "vscode": {
     "languageId": "r"
    }
   },
   "outputs": [],
   "source": [
    "df_important_TF.unique <- unique(df_important_TF$TF)"
   ]
  },
  {
   "cell_type": "code",
   "execution_count": null,
   "metadata": {
    "vscode": {
     "languageId": "r"
    }
   },
   "outputs": [
    {
     "name": "stdout",
     "output_type": "stream",
     "text": [
      "[1] \"Processing: AMY_Ccdc3_Acvr1c_Glut F\"\n",
      "[1] \"Number of genes: 5975\"\n"
     ]
    },
    {
     "name": "stderr",
     "output_type": "stream",
     "text": [
      "'select()' returned 1:1 mapping between keys and columns\n",
      "\n",
      "Warning message in bitr(unique(subset_df$target), fromType = \"SYMBOL\", toType = \"ENTREZID\", :\n",
      "“11.26% of input gene IDs are fail to map...”\n",
      "Reading KEGG annotation online: \"https://rest.kegg.jp/link/mmu/pathway\"...\n",
      "\n",
      "Reading KEGG annotation online: \"https://rest.kegg.jp/list/pathway/mmu\"...\n",
      "\n"
     ]
    },
    {
     "name": "stdout",
     "output_type": "stream",
     "text": [
      "[1] \"Processing: AMY_Ccdc3_Acvr1c_Glut F\"\n",
      "[1] \"Number of genes: 2764\"\n"
     ]
    },
    {
     "name": "stderr",
     "output_type": "stream",
     "text": [
      "'select()' returned 1:1 mapping between keys and columns\n",
      "\n",
      "Warning message in bitr(unique(subset_df$target), fromType = \"SYMBOL\", toType = \"ENTREZID\", :\n",
      "“11.47% of input gene IDs are fail to map...”\n"
     ]
    },
    {
     "name": "stdout",
     "output_type": "stream",
     "text": [
      "[1] \"Processing: AMY_Ccdc3_Acvr1c_Glut F\"\n",
      "[1] \"Number of genes: 3915\"\n"
     ]
    },
    {
     "name": "stderr",
     "output_type": "stream",
     "text": [
      "'select()' returned 1:1 mapping between keys and columns\n",
      "\n",
      "Warning message in bitr(unique(subset_df$target), fromType = \"SYMBOL\", toType = \"ENTREZID\", :\n",
      "“11.34% of input gene IDs are fail to map...”\n"
     ]
    },
    {
     "name": "stdout",
     "output_type": "stream",
     "text": [
      "[1] \"Processing: AMY_Ccdc3_Acvr1c_Glut F\"\n",
      "[1] \"Number of genes: 1054\"\n"
     ]
    },
    {
     "name": "stderr",
     "output_type": "stream",
     "text": [
      "'select()' returned 1:1 mapping between keys and columns\n",
      "\n",
      "Warning message in bitr(unique(subset_df$target), fromType = \"SYMBOL\", toType = \"ENTREZID\", :\n",
      "“14.23% of input gene IDs are fail to map...”\n",
      "Warning message in rep(yes, length.out = len):\n",
      "“'x' is NULL so the result will be NULL”\n"
     ]
    },
    {
     "name": "stdout",
     "output_type": "stream",
     "text": [
      "[1] \"Error in subsetting data for AMY_Ccdc3_Acvr1c_Glut F\"\n",
      "[1] \"Processing: AMY_Ccdc3_Acvr1c_Glut F\"\n",
      "[1] \"Number of genes: 1306\"\n"
     ]
    },
    {
     "name": "stderr",
     "output_type": "stream",
     "text": [
      "'select()' returned 1:1 mapping between keys and columns\n",
      "\n",
      "Warning message in bitr(unique(subset_df$target), fromType = \"SYMBOL\", toType = \"ENTREZID\", :\n",
      "“12.86% of input gene IDs are fail to map...”\n"
     ]
    },
    {
     "name": "stdout",
     "output_type": "stream",
     "text": [
      "[1] \"Processing: AMY_Ccdc3_Acvr1c_Glut F\"\n",
      "[1] \"Number of genes: 5214\"\n"
     ]
    },
    {
     "name": "stderr",
     "output_type": "stream",
     "text": [
      "'select()' returned 1:1 mapping between keys and columns\n",
      "\n",
      "Warning message in bitr(unique(subset_df$target), fromType = \"SYMBOL\", toType = \"ENTREZID\", :\n",
      "“10.4% of input gene IDs are fail to map...”\n"
     ]
    },
    {
     "name": "stdout",
     "output_type": "stream",
     "text": [
      "[1] \"Processing: AMY_Ccdc3_Acvr1c_Glut F\"\n",
      "[1] \"Number of genes: 2181\"\n"
     ]
    },
    {
     "name": "stderr",
     "output_type": "stream",
     "text": [
      "'select()' returned 1:1 mapping between keys and columns\n",
      "\n",
      "Warning message in bitr(unique(subset_df$target), fromType = \"SYMBOL\", toType = \"ENTREZID\", :\n",
      "“10.18% of input gene IDs are fail to map...”\n"
     ]
    },
    {
     "name": "stdout",
     "output_type": "stream",
     "text": [
      "[1] \"Processing: AMY_Ccdc3_Acvr1c_Glut F\"\n",
      "[1] \"Number of genes: 5317\"\n"
     ]
    },
    {
     "name": "stderr",
     "output_type": "stream",
     "text": [
      "'select()' returned 1:1 mapping between keys and columns\n",
      "\n",
      "Warning message in bitr(unique(subset_df$target), fromType = \"SYMBOL\", toType = \"ENTREZID\", :\n",
      "“11.23% of input gene IDs are fail to map...”\n"
     ]
    },
    {
     "name": "stdout",
     "output_type": "stream",
     "text": [
      "[1] \"Processing: AMY_Ccdc3_Acvr1c_Glut F\"\n",
      "[1] \"Number of genes: 4331\"\n"
     ]
    },
    {
     "name": "stderr",
     "output_type": "stream",
     "text": [
      "'select()' returned 1:1 mapping between keys and columns\n",
      "\n",
      "Warning message in bitr(unique(subset_df$target), fromType = \"SYMBOL\", toType = \"ENTREZID\", :\n",
      "“8.34% of input gene IDs are fail to map...”\n"
     ]
    },
    {
     "name": "stdout",
     "output_type": "stream",
     "text": [
      "[1] \"Processing: AMY_Ccdc3_Acvr1c_Glut F\"\n",
      "[1] \"Number of genes: 2393\"\n"
     ]
    },
    {
     "name": "stderr",
     "output_type": "stream",
     "text": [
      "'select()' returned 1:1 mapping between keys and columns\n",
      "\n",
      "Warning message in bitr(unique(subset_df$target), fromType = \"SYMBOL\", toType = \"ENTREZID\", :\n",
      "“10.49% of input gene IDs are fail to map...”\n"
     ]
    },
    {
     "name": "stdout",
     "output_type": "stream",
     "text": [
      "[1] \"Processing: AMY_Ccdc3_Acvr1c_Glut F\"\n",
      "[1] \"Number of genes: 829\"\n"
     ]
    },
    {
     "name": "stderr",
     "output_type": "stream",
     "text": [
      "'select()' returned 1:1 mapping between keys and columns\n",
      "\n",
      "Warning message in bitr(unique(subset_df$target), fromType = \"SYMBOL\", toType = \"ENTREZID\", :\n",
      "“13.39% of input gene IDs are fail to map...”\n",
      "Warning message in rep(yes, length.out = len):\n",
      "“'x' is NULL so the result will be NULL”\n"
     ]
    },
    {
     "name": "stdout",
     "output_type": "stream",
     "text": [
      "[1] \"Error in subsetting data for AMY_Ccdc3_Acvr1c_Glut F\"\n",
      "[1] \"Processing: AMY_Ccdc3_Acvr1c_Glut F\"\n",
      "[1] \"Number of genes: 5659\"\n"
     ]
    },
    {
     "name": "stderr",
     "output_type": "stream",
     "text": [
      "'select()' returned 1:1 mapping between keys and columns\n",
      "\n",
      "Warning message in bitr(unique(subset_df$target), fromType = \"SYMBOL\", toType = \"ENTREZID\", :\n",
      "“11.26% of input gene IDs are fail to map...”\n"
     ]
    },
    {
     "name": "stdout",
     "output_type": "stream",
     "text": [
      "[1] \"Processing: AMY_Ccdc3_Acvr1c_Glut F\"\n",
      "[1] \"Number of genes: 2982\"\n"
     ]
    },
    {
     "name": "stderr",
     "output_type": "stream",
     "text": [
      "'select()' returned 1:1 mapping between keys and columns\n",
      "\n",
      "Warning message in bitr(unique(subset_df$target), fromType = \"SYMBOL\", toType = \"ENTREZID\", :\n",
      "“10.09% of input gene IDs are fail to map...”\n"
     ]
    },
    {
     "name": "stdout",
     "output_type": "stream",
     "text": [
      "[1] \"Processing: AMY_Ccdc3_Acvr1c_Glut F\"\n",
      "[1] \"Number of genes: 2929\"\n"
     ]
    },
    {
     "name": "stderr",
     "output_type": "stream",
     "text": [
      "'select()' returned 1:1 mapping between keys and columns\n",
      "\n",
      "Warning message in bitr(unique(subset_df$target), fromType = \"SYMBOL\", toType = \"ENTREZID\", :\n",
      "“11.88% of input gene IDs are fail to map...”\n"
     ]
    },
    {
     "name": "stdout",
     "output_type": "stream",
     "text": [
      "[1] \"Processing: AMY_Ccdc3_Acvr1c_Glut F\"\n",
      "[1] \"Number of genes: 3536\"\n"
     ]
    },
    {
     "name": "stderr",
     "output_type": "stream",
     "text": [
      "'select()' returned 1:1 mapping between keys and columns\n",
      "\n",
      "Warning message in bitr(unique(subset_df$target), fromType = \"SYMBOL\", toType = \"ENTREZID\", :\n",
      "“11.57% of input gene IDs are fail to map...”\n"
     ]
    },
    {
     "name": "stdout",
     "output_type": "stream",
     "text": [
      "[1] \"Processing: AMY_Ccdc3_Acvr1c_Glut F\"\n",
      "[1] \"Number of genes: 2742\"\n"
     ]
    },
    {
     "name": "stderr",
     "output_type": "stream",
     "text": [
      "'select()' returned 1:1 mapping between keys and columns\n",
      "\n",
      "Warning message in bitr(unique(subset_df$target), fromType = \"SYMBOL\", toType = \"ENTREZID\", :\n",
      "“10.28% of input gene IDs are fail to map...”\n"
     ]
    },
    {
     "name": "stdout",
     "output_type": "stream",
     "text": [
      "[1] \"Processing: AMY_Ccdc3_Acvr1c_Glut F\"\n",
      "[1] \"Number of genes: 2684\"\n"
     ]
    },
    {
     "name": "stderr",
     "output_type": "stream",
     "text": [
      "'select()' returned 1:1 mapping between keys and columns\n",
      "\n",
      "Warning message in bitr(unique(subset_df$target), fromType = \"SYMBOL\", toType = \"ENTREZID\", :\n",
      "“10.88% of input gene IDs are fail to map...”\n",
      "Warning message in rep(yes, length.out = len):\n",
      "“'x' is NULL so the result will be NULL”\n"
     ]
    },
    {
     "name": "stdout",
     "output_type": "stream",
     "text": [
      "[1] \"Error in subsetting data for AMY_Ccdc3_Acvr1c_Glut F\"\n",
      "[1] \"Processing: AMY_Ccdc3_Acvr1c_Glut F\"\n",
      "[1] \"Number of genes: 1933\"\n"
     ]
    },
    {
     "name": "stderr",
     "output_type": "stream",
     "text": [
      "'select()' returned 1:1 mapping between keys and columns\n",
      "\n",
      "Warning message in bitr(unique(subset_df$target), fromType = \"SYMBOL\", toType = \"ENTREZID\", :\n",
      "“9.93% of input gene IDs are fail to map...”\n"
     ]
    },
    {
     "name": "stdout",
     "output_type": "stream",
     "text": [
      "[1] \"Processing: AMY_Ccdc3_Acvr1c_Glut F\"\n",
      "[1] \"Number of genes: 5022\"\n"
     ]
    },
    {
     "name": "stderr",
     "output_type": "stream",
     "text": [
      "'select()' returned 1:1 mapping between keys and columns\n",
      "\n",
      "Warning message in bitr(unique(subset_df$target), fromType = \"SYMBOL\", toType = \"ENTREZID\", :\n",
      "“10.41% of input gene IDs are fail to map...”\n"
     ]
    },
    {
     "name": "stdout",
     "output_type": "stream",
     "text": [
      "[1] \"Processing: AMY_Ccdc3_Acvr1c_Glut F\"\n",
      "[1] \"Number of genes: 3405\"\n"
     ]
    },
    {
     "name": "stderr",
     "output_type": "stream",
     "text": [
      "'select()' returned 1:1 mapping between keys and columns\n",
      "\n",
      "Warning message in bitr(unique(subset_df$target), fromType = \"SYMBOL\", toType = \"ENTREZID\", :\n",
      "“9.81% of input gene IDs are fail to map...”\n"
     ]
    },
    {
     "name": "stdout",
     "output_type": "stream",
     "text": [
      "[1] \"Processing: AMY_Ccdc3_Acvr1c_Glut F\"\n",
      "[1] \"Number of genes: 3604\"\n"
     ]
    },
    {
     "name": "stderr",
     "output_type": "stream",
     "text": [
      "'select()' returned 1:1 mapping between keys and columns\n",
      "\n",
      "Warning message in bitr(unique(subset_df$target), fromType = \"SYMBOL\", toType = \"ENTREZID\", :\n",
      "“10.38% of input gene IDs are fail to map...”\n"
     ]
    },
    {
     "name": "stdout",
     "output_type": "stream",
     "text": [
      "[1] \"Processing: AMY_Ccdc3_Acvr1c_Glut F\"\n",
      "[1] \"Number of genes: 2008\"\n"
     ]
    },
    {
     "name": "stderr",
     "output_type": "stream",
     "text": [
      "'select()' returned 1:1 mapping between keys and columns\n",
      "\n",
      "Warning message in bitr(unique(subset_df$target), fromType = \"SYMBOL\", toType = \"ENTREZID\", :\n",
      "“11.16% of input gene IDs are fail to map...”\n"
     ]
    },
    {
     "name": "stdout",
     "output_type": "stream",
     "text": [
      "[1] \"Processing: AMY_Ccdc3_Acvr1c_Glut F\"\n",
      "[1] \"Number of genes: 916\"\n"
     ]
    },
    {
     "name": "stderr",
     "output_type": "stream",
     "text": [
      "'select()' returned 1:1 mapping between keys and columns\n",
      "\n",
      "Warning message in bitr(unique(subset_df$target), fromType = \"SYMBOL\", toType = \"ENTREZID\", :\n",
      "“16.16% of input gene IDs are fail to map...”\n"
     ]
    },
    {
     "name": "stdout",
     "output_type": "stream",
     "text": [
      "[1] \"Processing: AMY_Ccdc3_Acvr1c_Glut F\"\n",
      "[1] \"Number of genes: 1895\"\n"
     ]
    },
    {
     "name": "stderr",
     "output_type": "stream",
     "text": [
      "'select()' returned 1:1 mapping between keys and columns\n",
      "\n",
      "Warning message in bitr(unique(subset_df$target), fromType = \"SYMBOL\", toType = \"ENTREZID\", :\n",
      "“12.19% of input gene IDs are fail to map...”\n"
     ]
    },
    {
     "name": "stdout",
     "output_type": "stream",
     "text": [
      "[1] \"Processing: AMY_Ccdc3_Acvr1c_Glut F\"\n",
      "[1] \"Number of genes: 3582\"\n"
     ]
    },
    {
     "name": "stderr",
     "output_type": "stream",
     "text": [
      "'select()' returned 1:1 mapping between keys and columns\n",
      "\n",
      "Warning message in bitr(unique(subset_df$target), fromType = \"SYMBOL\", toType = \"ENTREZID\", :\n",
      "“10.78% of input gene IDs are fail to map...”\n"
     ]
    },
    {
     "name": "stdout",
     "output_type": "stream",
     "text": [
      "[1] \"Processing: AMY_Ccdc3_Acvr1c_Glut F\"\n",
      "[1] \"Number of genes: 1799\"\n"
     ]
    },
    {
     "name": "stderr",
     "output_type": "stream",
     "text": [
      "'select()' returned 1:1 mapping between keys and columns\n",
      "\n",
      "Warning message in bitr(unique(subset_df$target), fromType = \"SYMBOL\", toType = \"ENTREZID\", :\n",
      "“12.4% of input gene IDs are fail to map...”\n"
     ]
    },
    {
     "name": "stdout",
     "output_type": "stream",
     "text": [
      "[1] \"Processing: AMY_Ccdc3_Acvr1c_Glut F\"\n",
      "[1] \"Number of genes: 2081\"\n"
     ]
    },
    {
     "name": "stderr",
     "output_type": "stream",
     "text": [
      "'select()' returned 1:1 mapping between keys and columns\n",
      "\n",
      "Warning message in bitr(unique(subset_df$target), fromType = \"SYMBOL\", toType = \"ENTREZID\", :\n",
      "“11.29% of input gene IDs are fail to map...”\n",
      "Warning message in rep(yes, length.out = len):\n",
      "“'x' is NULL so the result will be NULL”\n"
     ]
    },
    {
     "name": "stdout",
     "output_type": "stream",
     "text": [
      "[1] \"Error in subsetting data for AMY_Ccdc3_Acvr1c_Glut F\"\n",
      "[1] \"Processing: AMY_Ccdc3_Acvr1c_Glut F\"\n",
      "[1] \"Number of genes: 2482\"\n"
     ]
    },
    {
     "name": "stderr",
     "output_type": "stream",
     "text": [
      "'select()' returned 1:1 mapping between keys and columns\n",
      "\n",
      "Warning message in bitr(unique(subset_df$target), fromType = \"SYMBOL\", toType = \"ENTREZID\", :\n",
      "“10.52% of input gene IDs are fail to map...”\n"
     ]
    },
    {
     "name": "stdout",
     "output_type": "stream",
     "text": [
      "[1] \"Processing: AMY_Ccdc3_Acvr1c_Glut F\"\n",
      "[1] \"Number of genes: 2845\"\n"
     ]
    },
    {
     "name": "stderr",
     "output_type": "stream",
     "text": [
      "'select()' returned 1:1 mapping between keys and columns\n",
      "\n",
      "Warning message in bitr(unique(subset_df$target), fromType = \"SYMBOL\", toType = \"ENTREZID\", :\n",
      "“8.33% of input gene IDs are fail to map...”\n"
     ]
    },
    {
     "name": "stdout",
     "output_type": "stream",
     "text": [
      "[1] \"Processing: AMY_Ccdc3_Acvr1c_Glut F\"\n",
      "[1] \"Number of genes: 2111\"\n"
     ]
    },
    {
     "name": "stderr",
     "output_type": "stream",
     "text": [
      "'select()' returned 1:1 mapping between keys and columns\n",
      "\n",
      "Warning message in bitr(unique(subset_df$target), fromType = \"SYMBOL\", toType = \"ENTREZID\", :\n",
      "“11.51% of input gene IDs are fail to map...”\n",
      "Warning message in rep(yes, length.out = len):\n",
      "“'x' is NULL so the result will be NULL”\n"
     ]
    },
    {
     "name": "stdout",
     "output_type": "stream",
     "text": [
      "[1] \"Error in subsetting data for AMY_Ccdc3_Acvr1c_Glut F\"\n",
      "[1] \"Processing: AMY_Ccdc3_Acvr1c_Glut F\"\n",
      "[1] \"Number of genes: 1337\"\n"
     ]
    },
    {
     "name": "stderr",
     "output_type": "stream",
     "text": [
      "'select()' returned 1:1 mapping between keys and columns\n",
      "\n",
      "Warning message in bitr(unique(subset_df$target), fromType = \"SYMBOL\", toType = \"ENTREZID\", :\n",
      "“14.36% of input gene IDs are fail to map...”\n",
      "Warning message in rep(yes, length.out = len):\n",
      "“'x' is NULL so the result will be NULL”\n"
     ]
    },
    {
     "name": "stdout",
     "output_type": "stream",
     "text": [
      "[1] \"Error in subsetting data for AMY_Ccdc3_Acvr1c_Glut F\"\n",
      "[1] \"Processing: AMY_Ccdc3_Acvr1c_Glut F\"\n",
      "[1] \"Number of genes: 5708\"\n"
     ]
    },
    {
     "name": "stderr",
     "output_type": "stream",
     "text": [
      "'select()' returned 1:1 mapping between keys and columns\n",
      "\n",
      "Warning message in bitr(unique(subset_df$target), fromType = \"SYMBOL\", toType = \"ENTREZID\", :\n",
      "“10.81% of input gene IDs are fail to map...”\n"
     ]
    },
    {
     "name": "stdout",
     "output_type": "stream",
     "text": [
      "[1] \"Processing: AMY_Ccdc3_Acvr1c_Glut F\"\n",
      "[1] \"Number of genes: 2995\"\n"
     ]
    },
    {
     "name": "stderr",
     "output_type": "stream",
     "text": [
      "'select()' returned 1:1 mapping between keys and columns\n",
      "\n",
      "Warning message in bitr(unique(subset_df$target), fromType = \"SYMBOL\", toType = \"ENTREZID\", :\n",
      "“9.98% of input gene IDs are fail to map...”\n"
     ]
    },
    {
     "name": "stdout",
     "output_type": "stream",
     "text": [
      "[1] \"Processing: AMY_Ccdc3_Acvr1c_Glut F\"\n",
      "[1] \"Number of genes: 2970\"\n"
     ]
    },
    {
     "name": "stderr",
     "output_type": "stream",
     "text": [
      "'select()' returned 1:1 mapping between keys and columns\n",
      "\n",
      "Warning message in bitr(unique(subset_df$target), fromType = \"SYMBOL\", toType = \"ENTREZID\", :\n",
      "“10.71% of input gene IDs are fail to map...”\n"
     ]
    },
    {
     "name": "stdout",
     "output_type": "stream",
     "text": [
      "[1] \"Processing: AMY_Ccdc3_Acvr1c_Glut F\"\n",
      "[1] \"Number of genes: 3734\"\n"
     ]
    },
    {
     "name": "stderr",
     "output_type": "stream",
     "text": [
      "'select()' returned 1:1 mapping between keys and columns\n",
      "\n",
      "Warning message in bitr(unique(subset_df$target), fromType = \"SYMBOL\", toType = \"ENTREZID\", :\n",
      "“10.87% of input gene IDs are fail to map...”\n"
     ]
    },
    {
     "name": "stdout",
     "output_type": "stream",
     "text": [
      "[1] \"Processing: AMY_Ccdc3_Acvr1c_Glut F\"\n",
      "[1] \"Number of genes: 1904\"\n"
     ]
    },
    {
     "name": "stderr",
     "output_type": "stream",
     "text": [
      "'select()' returned 1:1 mapping between keys and columns\n",
      "\n",
      "Warning message in bitr(unique(subset_df$target), fromType = \"SYMBOL\", toType = \"ENTREZID\", :\n",
      "“11.4% of input gene IDs are fail to map...”\n"
     ]
    },
    {
     "name": "stdout",
     "output_type": "stream",
     "text": [
      "[1] \"Processing: AMY_Ccdc3_Acvr1c_Glut F\"\n",
      "[1] \"Number of genes: 3419\"\n"
     ]
    },
    {
     "name": "stderr",
     "output_type": "stream",
     "text": [
      "'select()' returned 1:1 mapping between keys and columns\n",
      "\n",
      "Warning message in bitr(unique(subset_df$target), fromType = \"SYMBOL\", toType = \"ENTREZID\", :\n",
      "“10.18% of input gene IDs are fail to map...”\n"
     ]
    },
    {
     "name": "stdout",
     "output_type": "stream",
     "text": [
      "[1] \"Processing: AMY_Ccdc3_Acvr1c_Glut F\"\n",
      "[1] \"Number of genes: 2617\"\n"
     ]
    },
    {
     "name": "stderr",
     "output_type": "stream",
     "text": [
      "'select()' returned 1:1 mapping between keys and columns\n",
      "\n",
      "Warning message in bitr(unique(subset_df$target), fromType = \"SYMBOL\", toType = \"ENTREZID\", :\n",
      "“11.46% of input gene IDs are fail to map...”\n"
     ]
    },
    {
     "name": "stdout",
     "output_type": "stream",
     "text": [
      "[1] \"Processing: AMY_Ccdc3_Acvr1c_Glut F\"\n",
      "[1] \"Number of genes: 2465\"\n"
     ]
    },
    {
     "name": "stderr",
     "output_type": "stream",
     "text": [
      "'select()' returned 1:1 mapping between keys and columns\n",
      "\n",
      "Warning message in bitr(unique(subset_df$target), fromType = \"SYMBOL\", toType = \"ENTREZID\", :\n",
      "“11.56% of input gene IDs are fail to map...”\n"
     ]
    },
    {
     "name": "stdout",
     "output_type": "stream",
     "text": [
      "[1] \"Processing: AMY_Ccdc3_Acvr1c_Glut F\"\n",
      "[1] \"Number of genes: 2398\"\n"
     ]
    },
    {
     "name": "stderr",
     "output_type": "stream",
     "text": [
      "'select()' returned 1:1 mapping between keys and columns\n",
      "\n",
      "Warning message in bitr(unique(subset_df$target), fromType = \"SYMBOL\", toType = \"ENTREZID\", :\n",
      "“10.13% of input gene IDs are fail to map...”\n"
     ]
    },
    {
     "name": "stdout",
     "output_type": "stream",
     "text": [
      "[1] \"Processing: AMY_Ccdc3_Acvr1c_Glut F\"\n",
      "[1] \"Number of genes: 2097\"\n"
     ]
    },
    {
     "name": "stderr",
     "output_type": "stream",
     "text": [
      "'select()' returned 1:1 mapping between keys and columns\n",
      "\n",
      "Warning message in bitr(unique(subset_df$target), fromType = \"SYMBOL\", toType = \"ENTREZID\", :\n",
      "“11.21% of input gene IDs are fail to map...”\n"
     ]
    },
    {
     "name": "stdout",
     "output_type": "stream",
     "text": [
      "[1] \"Processing: AMY_Ccdc3_Acvr1c_Glut F\"\n",
      "[1] \"Number of genes: 2675\"\n"
     ]
    },
    {
     "name": "stderr",
     "output_type": "stream",
     "text": [
      "'select()' returned 1:1 mapping between keys and columns\n",
      "\n",
      "Warning message in bitr(unique(subset_df$target), fromType = \"SYMBOL\", toType = \"ENTREZID\", :\n",
      "“11.63% of input gene IDs are fail to map...”\n"
     ]
    },
    {
     "name": "stdout",
     "output_type": "stream",
     "text": [
      "[1] \"Processing: AMY_Ccdc3_Acvr1c_Glut F\"\n",
      "[1] \"Number of genes: 876\"\n"
     ]
    },
    {
     "name": "stderr",
     "output_type": "stream",
     "text": [
      "'select()' returned 1:1 mapping between keys and columns\n",
      "\n",
      "Warning message in bitr(unique(subset_df$target), fromType = \"SYMBOL\", toType = \"ENTREZID\", :\n",
      "“15.98% of input gene IDs are fail to map...”\n",
      "Warning message in rep(yes, length.out = len):\n",
      "“'x' is NULL so the result will be NULL”\n"
     ]
    },
    {
     "name": "stdout",
     "output_type": "stream",
     "text": [
      "[1] \"Error in subsetting data for AMY_Ccdc3_Acvr1c_Glut F\"\n",
      "[1] \"Processing: AMY_Ccdc3_Acvr1c_Glut F\"\n",
      "[1] \"Number of genes: 2510\"\n"
     ]
    },
    {
     "name": "stderr",
     "output_type": "stream",
     "text": [
      "'select()' returned 1:1 mapping between keys and columns\n",
      "\n",
      "Warning message in bitr(unique(subset_df$target), fromType = \"SYMBOL\", toType = \"ENTREZID\", :\n",
      "“12.19% of input gene IDs are fail to map...”\n",
      "Warning message in rep(yes, length.out = len):\n",
      "“'x' is NULL so the result will be NULL”\n"
     ]
    },
    {
     "name": "stdout",
     "output_type": "stream",
     "text": [
      "[1] \"Error in subsetting data for AMY_Ccdc3_Acvr1c_Glut F\"\n",
      "[1] \"Processing: AMY_Ccdc3_Acvr1c_Glut F\"\n",
      "[1] \"Number of genes: 2023\"\n"
     ]
    },
    {
     "name": "stderr",
     "output_type": "stream",
     "text": [
      "'select()' returned 1:1 mapping between keys and columns\n",
      "\n",
      "Warning message in bitr(unique(subset_df$target), fromType = \"SYMBOL\", toType = \"ENTREZID\", :\n",
      "“9.69% of input gene IDs are fail to map...”\n"
     ]
    },
    {
     "name": "stdout",
     "output_type": "stream",
     "text": [
      "[1] \"Processing: AMY_Ccdc3_Acvr1c_Glut F\"\n",
      "[1] \"Number of genes: 1765\"\n"
     ]
    },
    {
     "name": "stderr",
     "output_type": "stream",
     "text": [
      "'select()' returned 1:1 mapping between keys and columns\n",
      "\n",
      "Warning message in bitr(unique(subset_df$target), fromType = \"SYMBOL\", toType = \"ENTREZID\", :\n",
      "“11.16% of input gene IDs are fail to map...”\n"
     ]
    },
    {
     "name": "stdout",
     "output_type": "stream",
     "text": [
      "[1] \"Processing: AMY_Ccdc3_Acvr1c_Glut F\"\n",
      "[1] \"Number of genes: 3438\"\n"
     ]
    },
    {
     "name": "stderr",
     "output_type": "stream",
     "text": [
      "'select()' returned 1:1 mapping between keys and columns\n",
      "\n",
      "Warning message in bitr(unique(subset_df$target), fromType = \"SYMBOL\", toType = \"ENTREZID\", :\n",
      "“11.58% of input gene IDs are fail to map...”\n"
     ]
    },
    {
     "name": "stdout",
     "output_type": "stream",
     "text": [
      "[1] \"Processing: AMY_Ccdc3_Acvr1c_Glut F\"\n",
      "[1] \"Number of genes: 2860\"\n"
     ]
    },
    {
     "name": "stderr",
     "output_type": "stream",
     "text": [
      "'select()' returned 1:1 mapping between keys and columns\n",
      "\n",
      "Warning message in bitr(unique(subset_df$target), fromType = \"SYMBOL\", toType = \"ENTREZID\", :\n",
      "“11.99% of input gene IDs are fail to map...”\n"
     ]
    },
    {
     "name": "stdout",
     "output_type": "stream",
     "text": [
      "[1] \"Processing: AMY_Ccdc3_Acvr1c_Glut F\"\n",
      "[1] \"Number of genes: 3656\"\n"
     ]
    },
    {
     "name": "stderr",
     "output_type": "stream",
     "text": [
      "'select()' returned 1:1 mapping between keys and columns\n",
      "\n",
      "Warning message in bitr(unique(subset_df$target), fromType = \"SYMBOL\", toType = \"ENTREZID\", :\n",
      "“10.45% of input gene IDs are fail to map...”\n"
     ]
    },
    {
     "name": "stdout",
     "output_type": "stream",
     "text": [
      "[1] \"Processing: AMY_Ccdc3_Acvr1c_Glut F\"\n",
      "[1] \"Number of genes: 1804\"\n"
     ]
    },
    {
     "name": "stderr",
     "output_type": "stream",
     "text": [
      "'select()' returned 1:1 mapping between keys and columns\n",
      "\n",
      "Warning message in bitr(unique(subset_df$target), fromType = \"SYMBOL\", toType = \"ENTREZID\", :\n",
      "“10.25% of input gene IDs are fail to map...”\n"
     ]
    },
    {
     "name": "stdout",
     "output_type": "stream",
     "text": [
      "[1] \"Processing: AMY_Ccdc3_Acvr1c_Glut F\"\n",
      "[1] \"Number of genes: 2413\"\n"
     ]
    },
    {
     "name": "stderr",
     "output_type": "stream",
     "text": [
      "'select()' returned 1:1 mapping between keys and columns\n",
      "\n",
      "Warning message in bitr(unique(subset_df$target), fromType = \"SYMBOL\", toType = \"ENTREZID\", :\n",
      "“11.89% of input gene IDs are fail to map...”\n"
     ]
    },
    {
     "name": "stdout",
     "output_type": "stream",
     "text": [
      "[1] \"Processing: AMY_Ccdc3_Acvr1c_Glut F\"\n",
      "[1] \"Number of genes: 3514\"\n"
     ]
    },
    {
     "name": "stderr",
     "output_type": "stream",
     "text": [
      "'select()' returned 1:1 mapping between keys and columns\n",
      "\n",
      "Warning message in bitr(unique(subset_df$target), fromType = \"SYMBOL\", toType = \"ENTREZID\", :\n",
      "“9.59% of input gene IDs are fail to map...”\n"
     ]
    },
    {
     "name": "stdout",
     "output_type": "stream",
     "text": [
      "[1] \"Processing: AMY_Ccdc3_Acvr1c_Glut F\"\n",
      "[1] \"Number of genes: 1021\"\n"
     ]
    },
    {
     "name": "stderr",
     "output_type": "stream",
     "text": [
      "'select()' returned 1:1 mapping between keys and columns\n",
      "\n",
      "Warning message in bitr(unique(subset_df$target), fromType = \"SYMBOL\", toType = \"ENTREZID\", :\n",
      "“15.38% of input gene IDs are fail to map...”\n"
     ]
    },
    {
     "name": "stdout",
     "output_type": "stream",
     "text": [
      "[1] \"Processing: AMY_Ccdc3_Acvr1c_Glut F\"\n",
      "[1] \"Number of genes: 2655\"\n"
     ]
    },
    {
     "name": "stderr",
     "output_type": "stream",
     "text": [
      "'select()' returned 1:1 mapping between keys and columns\n",
      "\n",
      "Warning message in bitr(unique(subset_df$target), fromType = \"SYMBOL\", toType = \"ENTREZID\", :\n",
      "“10.06% of input gene IDs are fail to map...”\n"
     ]
    },
    {
     "name": "stdout",
     "output_type": "stream",
     "text": [
      "[1] \"Processing: AMY_Ccdc3_Acvr1c_Glut F\"\n",
      "[1] \"Number of genes: 1070\"\n"
     ]
    },
    {
     "name": "stderr",
     "output_type": "stream",
     "text": [
      "'select()' returned 1:1 mapping between keys and columns\n",
      "\n",
      "Warning message in bitr(unique(subset_df$target), fromType = \"SYMBOL\", toType = \"ENTREZID\", :\n",
      "“14.3% of input gene IDs are fail to map...”\n"
     ]
    },
    {
     "name": "stdout",
     "output_type": "stream",
     "text": [
      "[1] \"Processing: AMY_Ccdc3_Acvr1c_Glut F\"\n",
      "[1] \"Number of genes: 4383\"\n"
     ]
    },
    {
     "name": "stderr",
     "output_type": "stream",
     "text": [
      "'select()' returned 1:1 mapping between keys and columns\n",
      "\n",
      "Warning message in bitr(unique(subset_df$target), fromType = \"SYMBOL\", toType = \"ENTREZID\", :\n",
      "“10.72% of input gene IDs are fail to map...”\n"
     ]
    },
    {
     "name": "stdout",
     "output_type": "stream",
     "text": [
      "[1] \"Processing: AMY_Ccdc3_Acvr1c_Glut F\"\n",
      "[1] \"Number of genes: 1335\"\n"
     ]
    },
    {
     "name": "stderr",
     "output_type": "stream",
     "text": [
      "'select()' returned 1:1 mapping between keys and columns\n",
      "\n",
      "Warning message in bitr(unique(subset_df$target), fromType = \"SYMBOL\", toType = \"ENTREZID\", :\n",
      "“12.51% of input gene IDs are fail to map...”\n"
     ]
    },
    {
     "name": "stdout",
     "output_type": "stream",
     "text": [
      "[1] \"Processing: AMY_Ccdc3_Acvr1c_Glut F\"\n",
      "[1] \"Number of genes: 2315\"\n"
     ]
    },
    {
     "name": "stderr",
     "output_type": "stream",
     "text": [
      "'select()' returned 1:1 mapping between keys and columns\n",
      "\n",
      "Warning message in bitr(unique(subset_df$target), fromType = \"SYMBOL\", toType = \"ENTREZID\", :\n",
      "“11.14% of input gene IDs are fail to map...”\n",
      "Warning message in rep(yes, length.out = len):\n",
      "“'x' is NULL so the result will be NULL”\n"
     ]
    },
    {
     "name": "stdout",
     "output_type": "stream",
     "text": [
      "[1] \"Error in subsetting data for AMY_Ccdc3_Acvr1c_Glut F\"\n",
      "[1] \"Processing: AMY_Ccdc3_Acvr1c_Glut F\"\n",
      "[1] \"Number of genes: 2701\"\n"
     ]
    },
    {
     "name": "stderr",
     "output_type": "stream",
     "text": [
      "'select()' returned 1:1 mapping between keys and columns\n",
      "\n",
      "Warning message in bitr(unique(subset_df$target), fromType = \"SYMBOL\", toType = \"ENTREZID\", :\n",
      "“10.66% of input gene IDs are fail to map...”\n"
     ]
    },
    {
     "name": "stdout",
     "output_type": "stream",
     "text": [
      "[1] \"Processing: AMY_Ccdc3_Acvr1c_Glut F\"\n",
      "[1] \"Number of genes: 4777\"\n"
     ]
    },
    {
     "name": "stderr",
     "output_type": "stream",
     "text": [
      "'select()' returned 1:1 mapping between keys and columns\n",
      "\n",
      "Warning message in bitr(unique(subset_df$target), fromType = \"SYMBOL\", toType = \"ENTREZID\", :\n",
      "“11.43% of input gene IDs are fail to map...”\n"
     ]
    },
    {
     "name": "stdout",
     "output_type": "stream",
     "text": [
      "[1] \"Processing: AMY_Ccdc3_Acvr1c_Glut F\"\n",
      "[1] \"Number of genes: 2173\"\n"
     ]
    },
    {
     "name": "stderr",
     "output_type": "stream",
     "text": [
      "'select()' returned 1:1 mapping between keys and columns\n",
      "\n",
      "Warning message in bitr(unique(subset_df$target), fromType = \"SYMBOL\", toType = \"ENTREZID\", :\n",
      "“12.52% of input gene IDs are fail to map...”\n"
     ]
    },
    {
     "name": "stdout",
     "output_type": "stream",
     "text": [
      "[1] \"Processing: AMY_Ccdc3_Acvr1c_Glut F\"\n",
      "[1] \"Number of genes: 2027\"\n"
     ]
    },
    {
     "name": "stderr",
     "output_type": "stream",
     "text": [
      "'select()' returned 1:1 mapping between keys and columns\n",
      "\n",
      "Warning message in bitr(unique(subset_df$target), fromType = \"SYMBOL\", toType = \"ENTREZID\", :\n",
      "“14.21% of input gene IDs are fail to map...”\n"
     ]
    },
    {
     "name": "stdout",
     "output_type": "stream",
     "text": [
      "[1] \"Processing: AMY_Ccdc3_Acvr1c_Glut F\"\n",
      "[1] \"Number of genes: 3416\"\n"
     ]
    },
    {
     "name": "stderr",
     "output_type": "stream",
     "text": [
      "'select()' returned 1:1 mapping between keys and columns\n",
      "\n",
      "Warning message in bitr(unique(subset_df$target), fromType = \"SYMBOL\", toType = \"ENTREZID\", :\n",
      "“11.48% of input gene IDs are fail to map...”\n"
     ]
    },
    {
     "name": "stdout",
     "output_type": "stream",
     "text": [
      "[1] \"Processing: AMY_Ccdc3_Acvr1c_Glut F\"\n",
      "[1] \"Number of genes: 1421\"\n"
     ]
    },
    {
     "name": "stderr",
     "output_type": "stream",
     "text": [
      "'select()' returned 1:1 mapping between keys and columns\n",
      "\n",
      "Warning message in bitr(unique(subset_df$target), fromType = \"SYMBOL\", toType = \"ENTREZID\", :\n",
      "“12.81% of input gene IDs are fail to map...”\n"
     ]
    },
    {
     "name": "stdout",
     "output_type": "stream",
     "text": [
      "[1] \"Processing: AMY_Ccdc3_Acvr1c_Glut F\"\n",
      "[1] \"Number of genes: 1856\"\n"
     ]
    },
    {
     "name": "stderr",
     "output_type": "stream",
     "text": [
      "'select()' returned 1:1 mapping between keys and columns\n",
      "\n",
      "Warning message in bitr(unique(subset_df$target), fromType = \"SYMBOL\", toType = \"ENTREZID\", :\n",
      "“13.52% of input gene IDs are fail to map...”\n"
     ]
    },
    {
     "name": "stdout",
     "output_type": "stream",
     "text": [
      "[1] \"Processing: AMY_Ccdc3_Acvr1c_Glut F\"\n",
      "[1] \"Number of genes: 3251\"\n"
     ]
    },
    {
     "name": "stderr",
     "output_type": "stream",
     "text": [
      "'select()' returned 1:1 mapping between keys and columns\n",
      "\n",
      "Warning message in bitr(unique(subset_df$target), fromType = \"SYMBOL\", toType = \"ENTREZID\", :\n",
      "“10.37% of input gene IDs are fail to map...”\n"
     ]
    },
    {
     "name": "stdout",
     "output_type": "stream",
     "text": [
      "[1] \"Processing: AMY_Ccdc3_Acvr1c_Glut F\"\n",
      "[1] \"Number of genes: 1258\"\n"
     ]
    },
    {
     "name": "stderr",
     "output_type": "stream",
     "text": [
      "'select()' returned 1:1 mapping between keys and columns\n",
      "\n",
      "Warning message in bitr(unique(subset_df$target), fromType = \"SYMBOL\", toType = \"ENTREZID\", :\n",
      "“12% of input gene IDs are fail to map...”\n",
      "Warning message in rep(yes, length.out = len):\n",
      "“'x' is NULL so the result will be NULL”\n"
     ]
    },
    {
     "name": "stdout",
     "output_type": "stream",
     "text": [
      "[1] \"Error in subsetting data for AMY_Ccdc3_Acvr1c_Glut F\"\n",
      "[1] \"Processing: AMY_Ccdc3_Acvr1c_Glut F\"\n",
      "[1] \"Number of genes: 1928\"\n"
     ]
    },
    {
     "name": "stderr",
     "output_type": "stream",
     "text": [
      "'select()' returned 1:1 mapping between keys and columns\n",
      "\n",
      "Warning message in bitr(unique(subset_df$target), fromType = \"SYMBOL\", toType = \"ENTREZID\", :\n",
      "“11.51% of input gene IDs are fail to map...”\n"
     ]
    },
    {
     "name": "stdout",
     "output_type": "stream",
     "text": [
      "[1] \"Processing: AMY_Ccdc3_Acvr1c_Glut F\"\n",
      "[1] \"Number of genes: 2769\"\n"
     ]
    },
    {
     "name": "stderr",
     "output_type": "stream",
     "text": [
      "'select()' returned 1:1 mapping between keys and columns\n",
      "\n",
      "Warning message in bitr(unique(subset_df$target), fromType = \"SYMBOL\", toType = \"ENTREZID\", :\n",
      "“10.98% of input gene IDs are fail to map...”\n"
     ]
    },
    {
     "name": "stdout",
     "output_type": "stream",
     "text": [
      "[1] \"Processing: AMY_Ccdc3_Acvr1c_Glut F\"\n",
      "[1] \"Number of genes: 2347\"\n"
     ]
    },
    {
     "name": "stderr",
     "output_type": "stream",
     "text": [
      "'select()' returned 1:1 mapping between keys and columns\n",
      "\n",
      "Warning message in bitr(unique(subset_df$target), fromType = \"SYMBOL\", toType = \"ENTREZID\", :\n",
      "“10.65% of input gene IDs are fail to map...”\n"
     ]
    },
    {
     "name": "stdout",
     "output_type": "stream",
     "text": [
      "[1] \"Processing: AMY_Ccdc3_Acvr1c_Glut F\"\n",
      "[1] \"Number of genes: 2913\"\n"
     ]
    },
    {
     "name": "stderr",
     "output_type": "stream",
     "text": [
      "'select()' returned 1:1 mapping between keys and columns\n",
      "\n",
      "Warning message in bitr(unique(subset_df$target), fromType = \"SYMBOL\", toType = \"ENTREZID\", :\n",
      "“11.98% of input gene IDs are fail to map...”\n"
     ]
    },
    {
     "name": "stdout",
     "output_type": "stream",
     "text": [
      "[1] \"Processing: AMY_Ccdc3_Acvr1c_Glut F\"\n",
      "[1] \"Number of genes: 3923\"\n"
     ]
    },
    {
     "name": "stderr",
     "output_type": "stream",
     "text": [
      "'select()' returned 1:1 mapping between keys and columns\n",
      "\n",
      "Warning message in bitr(unique(subset_df$target), fromType = \"SYMBOL\", toType = \"ENTREZID\", :\n",
      "“9.18% of input gene IDs are fail to map...”\n"
     ]
    },
    {
     "name": "stdout",
     "output_type": "stream",
     "text": [
      "[1] \"Processing: AMY_Ccdc3_Acvr1c_Glut F\"\n",
      "[1] \"Number of genes: 2747\"\n"
     ]
    },
    {
     "name": "stderr",
     "output_type": "stream",
     "text": [
      "'select()' returned 1:1 mapping between keys and columns\n",
      "\n",
      "Warning message in bitr(unique(subset_df$target), fromType = \"SYMBOL\", toType = \"ENTREZID\", :\n",
      "“11.69% of input gene IDs are fail to map...”\n"
     ]
    },
    {
     "name": "stdout",
     "output_type": "stream",
     "text": [
      "[1] \"Processing: AMY_Ccdc3_Acvr1c_Glut F\"\n",
      "[1] \"Number of genes: 621\"\n"
     ]
    },
    {
     "name": "stderr",
     "output_type": "stream",
     "text": [
      "'select()' returned 1:1 mapping between keys and columns\n",
      "\n",
      "Warning message in bitr(unique(subset_df$target), fromType = \"SYMBOL\", toType = \"ENTREZID\", :\n",
      "“10.31% of input gene IDs are fail to map...”\n",
      "Warning message in rep(yes, length.out = len):\n",
      "“'x' is NULL so the result will be NULL”\n"
     ]
    },
    {
     "name": "stdout",
     "output_type": "stream",
     "text": [
      "[1] \"Error in subsetting data for AMY_Ccdc3_Acvr1c_Glut F\"\n",
      "[1] \"Processing: AMY_Ccdc3_Acvr1c_Glut F\"\n",
      "[1] \"Number of genes: 2463\"\n"
     ]
    },
    {
     "name": "stderr",
     "output_type": "stream",
     "text": [
      "'select()' returned 1:1 mapping between keys and columns\n",
      "\n",
      "Warning message in bitr(unique(subset_df$target), fromType = \"SYMBOL\", toType = \"ENTREZID\", :\n",
      "“10.6% of input gene IDs are fail to map...”\n"
     ]
    },
    {
     "name": "stdout",
     "output_type": "stream",
     "text": [
      "[1] \"Processing: AMY_Ccdc3_Acvr1c_Glut F\"\n",
      "[1] \"Number of genes: 2223\"\n"
     ]
    },
    {
     "name": "stderr",
     "output_type": "stream",
     "text": [
      "'select()' returned 1:1 mapping between keys and columns\n",
      "\n",
      "Warning message in bitr(unique(subset_df$target), fromType = \"SYMBOL\", toType = \"ENTREZID\", :\n",
      "“11.92% of input gene IDs are fail to map...”\n"
     ]
    },
    {
     "name": "stdout",
     "output_type": "stream",
     "text": [
      "[1] \"Processing: AMY_Ccdc3_Acvr1c_Glut F\"\n",
      "[1] \"Number of genes: 1598\"\n"
     ]
    },
    {
     "name": "stderr",
     "output_type": "stream",
     "text": [
      "'select()' returned 1:1 mapping between keys and columns\n",
      "\n",
      "Warning message in bitr(unique(subset_df$target), fromType = \"SYMBOL\", toType = \"ENTREZID\", :\n",
      "“11.45% of input gene IDs are fail to map...”\n"
     ]
    },
    {
     "name": "stdout",
     "output_type": "stream",
     "text": [
      "[1] \"Processing: AMY_Ccdc3_Acvr1c_Glut M\"\n",
      "[1] \"Number of genes: 6313\"\n"
     ]
    },
    {
     "name": "stderr",
     "output_type": "stream",
     "text": [
      "'select()' returned 1:1 mapping between keys and columns\n",
      "\n",
      "Warning message in bitr(unique(subset_df$target), fromType = \"SYMBOL\", toType = \"ENTREZID\", :\n",
      "“11.69% of input gene IDs are fail to map...”\n"
     ]
    },
    {
     "name": "stdout",
     "output_type": "stream",
     "text": [
      "[1] \"Processing: AMY_Ccdc3_Acvr1c_Glut M\"\n",
      "[1] \"Number of genes: 3682\"\n"
     ]
    },
    {
     "name": "stderr",
     "output_type": "stream",
     "text": [
      "'select()' returned 1:1 mapping between keys and columns\n",
      "\n",
      "Warning message in bitr(unique(subset_df$target), fromType = \"SYMBOL\", toType = \"ENTREZID\", :\n",
      "“10.89% of input gene IDs are fail to map...”\n"
     ]
    },
    {
     "name": "stdout",
     "output_type": "stream",
     "text": [
      "[1] \"Processing: AMY_Ccdc3_Acvr1c_Glut M\"\n",
      "[1] \"Number of genes: 5246\"\n"
     ]
    },
    {
     "name": "stderr",
     "output_type": "stream",
     "text": [
      "'select()' returned 1:1 mapping between keys and columns\n",
      "\n",
      "Warning message in bitr(unique(subset_df$target), fromType = \"SYMBOL\", toType = \"ENTREZID\", :\n",
      "“11.25% of input gene IDs are fail to map...”\n"
     ]
    },
    {
     "name": "stdout",
     "output_type": "stream",
     "text": [
      "[1] \"Processing: AMY_Ccdc3_Acvr1c_Glut M\"\n",
      "[1] \"Number of genes: 3234\"\n"
     ]
    },
    {
     "name": "stderr",
     "output_type": "stream",
     "text": [
      "'select()' returned 1:1 mapping between keys and columns\n",
      "\n",
      "Warning message in bitr(unique(subset_df$target), fromType = \"SYMBOL\", toType = \"ENTREZID\", :\n",
      "“11.04% of input gene IDs are fail to map...”\n"
     ]
    },
    {
     "name": "stdout",
     "output_type": "stream",
     "text": [
      "[1] \"Processing: AMY_Ccdc3_Acvr1c_Glut M\"\n",
      "[1] \"Number of genes: 5618\"\n"
     ]
    },
    {
     "name": "stderr",
     "output_type": "stream",
     "text": [
      "'select()' returned 1:1 mapping between keys and columns\n",
      "\n",
      "Warning message in bitr(unique(subset_df$target), fromType = \"SYMBOL\", toType = \"ENTREZID\", :\n",
      "“11.14% of input gene IDs are fail to map...”\n"
     ]
    },
    {
     "name": "stdout",
     "output_type": "stream",
     "text": [
      "[1] \"Processing: AMY_Ccdc3_Acvr1c_Glut M\"\n",
      "[1] \"Number of genes: 2803\"\n"
     ]
    },
    {
     "name": "stderr",
     "output_type": "stream",
     "text": [
      "'select()' returned 1:1 mapping between keys and columns\n",
      "\n",
      "Warning message in bitr(unique(subset_df$target), fromType = \"SYMBOL\", toType = \"ENTREZID\", :\n",
      "“13.02% of input gene IDs are fail to map...”\n"
     ]
    },
    {
     "name": "stdout",
     "output_type": "stream",
     "text": [
      "[1] \"Processing: AMY_Ccdc3_Acvr1c_Glut M\"\n",
      "[1] \"Number of genes: 955\"\n"
     ]
    },
    {
     "name": "stderr",
     "output_type": "stream",
     "text": [
      "'select()' returned 1:1 mapping between keys and columns\n",
      "\n",
      "Warning message in bitr(unique(subset_df$target), fromType = \"SYMBOL\", toType = \"ENTREZID\", :\n",
      "“13.72% of input gene IDs are fail to map...”\n"
     ]
    },
    {
     "name": "stdout",
     "output_type": "stream",
     "text": [
      "[1] \"Processing: AMY_Ccdc3_Acvr1c_Glut M\"\n",
      "[1] \"Number of genes: 1343\"\n"
     ]
    },
    {
     "name": "stderr",
     "output_type": "stream",
     "text": [
      "'select()' returned 1:1 mapping between keys and columns\n",
      "\n",
      "Warning message in bitr(unique(subset_df$target), fromType = \"SYMBOL\", toType = \"ENTREZID\", :\n",
      "“11.69% of input gene IDs are fail to map...”\n"
     ]
    },
    {
     "name": "stdout",
     "output_type": "stream",
     "text": [
      "[1] \"Processing: AMY_Ccdc3_Acvr1c_Glut M\"\n",
      "[1] \"Number of genes: 2315\"\n"
     ]
    },
    {
     "name": "stderr",
     "output_type": "stream",
     "text": [
      "'select()' returned 1:1 mapping between keys and columns\n",
      "\n",
      "Warning message in bitr(unique(subset_df$target), fromType = \"SYMBOL\", toType = \"ENTREZID\", :\n",
      "“11.14% of input gene IDs are fail to map...”\n",
      "Warning message in rep(yes, length.out = len):\n",
      "“'x' is NULL so the result will be NULL”\n"
     ]
    },
    {
     "name": "stdout",
     "output_type": "stream",
     "text": [
      "[1] \"Error in subsetting data for AMY_Ccdc3_Acvr1c_Glut M\"\n",
      "[1] \"Processing: AMY_Ccdc3_Acvr1c_Glut M\"\n",
      "[1] \"Number of genes: 1607\"\n"
     ]
    },
    {
     "name": "stderr",
     "output_type": "stream",
     "text": [
      "'select()' returned 1:1 mapping between keys and columns\n",
      "\n",
      "Warning message in bitr(unique(subset_df$target), fromType = \"SYMBOL\", toType = \"ENTREZID\", :\n",
      "“11.08% of input gene IDs are fail to map...”\n"
     ]
    },
    {
     "name": "stdout",
     "output_type": "stream",
     "text": [
      "[1] \"Processing: AMY_Ccdc3_Acvr1c_Glut M\"\n",
      "[1] \"Number of genes: 1352\"\n"
     ]
    },
    {
     "name": "stderr",
     "output_type": "stream",
     "text": [
      "'select()' returned 1:1 mapping between keys and columns\n",
      "\n",
      "Warning message in bitr(unique(subset_df$target), fromType = \"SYMBOL\", toType = \"ENTREZID\", :\n",
      "“13.76% of input gene IDs are fail to map...”\n"
     ]
    },
    {
     "name": "stdout",
     "output_type": "stream",
     "text": [
      "[1] \"Processing: AMY_Ccdc3_Acvr1c_Glut M\"\n",
      "[1] \"Number of genes: 3603\"\n"
     ]
    },
    {
     "name": "stderr",
     "output_type": "stream",
     "text": [
      "'select()' returned 1:1 mapping between keys and columns\n",
      "\n",
      "Warning message in bitr(unique(subset_df$target), fromType = \"SYMBOL\", toType = \"ENTREZID\", :\n",
      "“10.91% of input gene IDs are fail to map...”\n"
     ]
    },
    {
     "name": "stdout",
     "output_type": "stream",
     "text": [
      "[1] \"Processing: AMY_Ccdc3_Acvr1c_Glut M\"\n",
      "[1] \"Number of genes: 3810\"\n"
     ]
    },
    {
     "name": "stderr",
     "output_type": "stream",
     "text": [
      "'select()' returned 1:1 mapping between keys and columns\n",
      "\n",
      "Warning message in bitr(unique(subset_df$target), fromType = \"SYMBOL\", toType = \"ENTREZID\", :\n",
      "“10.29% of input gene IDs are fail to map...”\n"
     ]
    },
    {
     "name": "stdout",
     "output_type": "stream",
     "text": [
      "[1] \"Processing: AMY_Ccdc3_Acvr1c_Glut M\"\n",
      "[1] \"Number of genes: 2613\"\n"
     ]
    },
    {
     "name": "stderr",
     "output_type": "stream",
     "text": [
      "'select()' returned 1:1 mapping between keys and columns\n",
      "\n",
      "Warning message in bitr(unique(subset_df$target), fromType = \"SYMBOL\", toType = \"ENTREZID\", :\n",
      "“12.09% of input gene IDs are fail to map...”\n"
     ]
    },
    {
     "name": "stdout",
     "output_type": "stream",
     "text": [
      "[1] \"Processing: AMY_Ccdc3_Acvr1c_Glut M\"\n",
      "[1] \"Number of genes: 5544\"\n"
     ]
    },
    {
     "name": "stderr",
     "output_type": "stream",
     "text": [
      "'select()' returned 1:1 mapping between keys and columns\n",
      "\n",
      "Warning message in bitr(unique(subset_df$target), fromType = \"SYMBOL\", toType = \"ENTREZID\", :\n",
      "“11.26% of input gene IDs are fail to map...”\n"
     ]
    },
    {
     "name": "stdout",
     "output_type": "stream",
     "text": [
      "[1] \"Processing: AMY_Ccdc3_Acvr1c_Glut M\"\n",
      "[1] \"Number of genes: 2013\"\n"
     ]
    },
    {
     "name": "stderr",
     "output_type": "stream",
     "text": [
      "'select()' returned 1:1 mapping between keys and columns\n",
      "\n",
      "Warning message in bitr(unique(subset_df$target), fromType = \"SYMBOL\", toType = \"ENTREZID\", :\n",
      "“10.68% of input gene IDs are fail to map...”\n"
     ]
    },
    {
     "name": "stdout",
     "output_type": "stream",
     "text": [
      "[1] \"Processing: AMY_Ccdc3_Acvr1c_Glut M\"\n",
      "[1] \"Number of genes: 2534\"\n"
     ]
    },
    {
     "name": "stderr",
     "output_type": "stream",
     "text": [
      "'select()' returned 1:1 mapping between keys and columns\n",
      "\n",
      "Warning message in bitr(unique(subset_df$target), fromType = \"SYMBOL\", toType = \"ENTREZID\", :\n",
      "“11.72% of input gene IDs are fail to map...”\n"
     ]
    },
    {
     "name": "stdout",
     "output_type": "stream",
     "text": [
      "[1] \"Processing: AMY_Ccdc3_Acvr1c_Glut M\"\n",
      "[1] \"Number of genes: 2414\"\n"
     ]
    },
    {
     "name": "stderr",
     "output_type": "stream",
     "text": [
      "'select()' returned 1:1 mapping between keys and columns\n",
      "\n",
      "Warning message in bitr(unique(subset_df$target), fromType = \"SYMBOL\", toType = \"ENTREZID\", :\n",
      "“11.1% of input gene IDs are fail to map...”\n"
     ]
    },
    {
     "name": "stdout",
     "output_type": "stream",
     "text": [
      "[1] \"Processing: AMY_Ccdc3_Acvr1c_Glut M\"\n",
      "[1] \"Number of genes: 2405\"\n"
     ]
    },
    {
     "name": "stderr",
     "output_type": "stream",
     "text": [
      "'select()' returned 1:1 mapping between keys and columns\n",
      "\n",
      "Warning message in bitr(unique(subset_df$target), fromType = \"SYMBOL\", toType = \"ENTREZID\", :\n",
      "“11.93% of input gene IDs are fail to map...”\n"
     ]
    },
    {
     "name": "stdout",
     "output_type": "stream",
     "text": [
      "[1] \"Processing: AMY_Ccdc3_Acvr1c_Glut M\"\n",
      "[1] \"Number of genes: 2646\"\n"
     ]
    },
    {
     "name": "stderr",
     "output_type": "stream",
     "text": [
      "'select()' returned 1:1 mapping between keys and columns\n",
      "\n",
      "Warning message in bitr(unique(subset_df$target), fromType = \"SYMBOL\", toType = \"ENTREZID\", :\n",
      "“11.9% of input gene IDs are fail to map...”\n"
     ]
    },
    {
     "name": "stdout",
     "output_type": "stream",
     "text": [
      "[1] \"Processing: AMY_Ccdc3_Acvr1c_Glut M\"\n",
      "[1] \"Number of genes: 1764\"\n"
     ]
    },
    {
     "name": "stderr",
     "output_type": "stream",
     "text": [
      "'select()' returned 1:1 mapping between keys and columns\n",
      "\n",
      "Warning message in bitr(unique(subset_df$target), fromType = \"SYMBOL\", toType = \"ENTREZID\", :\n",
      "“11.96% of input gene IDs are fail to map...”\n",
      "Warning message in rep(yes, length.out = len):\n",
      "“'x' is NULL so the result will be NULL”\n"
     ]
    },
    {
     "name": "stdout",
     "output_type": "stream",
     "text": [
      "[1] \"Error in subsetting data for AMY_Ccdc3_Acvr1c_Glut M\"\n",
      "[1] \"Processing: AMY_Ccdc3_Acvr1c_Glut M\"\n",
      "[1] \"Number of genes: 1181\"\n"
     ]
    },
    {
     "name": "stderr",
     "output_type": "stream",
     "text": [
      "'select()' returned 1:1 mapping between keys and columns\n",
      "\n",
      "Warning message in bitr(unique(subset_df$target), fromType = \"SYMBOL\", toType = \"ENTREZID\", :\n",
      "“11.94% of input gene IDs are fail to map...”\n"
     ]
    },
    {
     "name": "stdout",
     "output_type": "stream",
     "text": [
      "[1] \"Processing: AMY_Ccdc3_Acvr1c_Glut M\"\n",
      "[1] \"Number of genes: 3740\"\n"
     ]
    },
    {
     "name": "stderr",
     "output_type": "stream",
     "text": [
      "'select()' returned 1:1 mapping between keys and columns\n",
      "\n",
      "Warning message in bitr(unique(subset_df$target), fromType = \"SYMBOL\", toType = \"ENTREZID\", :\n",
      "“10.11% of input gene IDs are fail to map...”\n"
     ]
    },
    {
     "name": "stdout",
     "output_type": "stream",
     "text": [
      "[1] \"Processing: AMY_Ccdc3_Acvr1c_Glut M\"\n",
      "[1] \"Number of genes: 1036\"\n"
     ]
    },
    {
     "name": "stderr",
     "output_type": "stream",
     "text": [
      "'select()' returned 1:1 mapping between keys and columns\n",
      "\n",
      "Warning message in bitr(unique(subset_df$target), fromType = \"SYMBOL\", toType = \"ENTREZID\", :\n",
      "“16.22% of input gene IDs are fail to map...”\n"
     ]
    },
    {
     "name": "stdout",
     "output_type": "stream",
     "text": [
      "[1] \"Processing: AMY_Ccdc3_Acvr1c_Glut M\"\n",
      "[1] \"Number of genes: 1644\"\n"
     ]
    },
    {
     "name": "stderr",
     "output_type": "stream",
     "text": [
      "'select()' returned 1:1 mapping between keys and columns\n",
      "\n",
      "Warning message in bitr(unique(subset_df$target), fromType = \"SYMBOL\", toType = \"ENTREZID\", :\n",
      "“11.07% of input gene IDs are fail to map...”\n"
     ]
    },
    {
     "name": "stdout",
     "output_type": "stream",
     "text": [
      "[1] \"Processing: AMY_Ccdc3_Acvr1c_Glut M\"\n",
      "[1] \"Number of genes: 1968\"\n"
     ]
    },
    {
     "name": "stderr",
     "output_type": "stream",
     "text": [
      "'select()' returned 1:1 mapping between keys and columns\n",
      "\n",
      "Warning message in bitr(unique(subset_df$target), fromType = \"SYMBOL\", toType = \"ENTREZID\", :\n",
      "“10.01% of input gene IDs are fail to map...”\n"
     ]
    },
    {
     "name": "stdout",
     "output_type": "stream",
     "text": [
      "[1] \"Processing: AMY_Ccdc3_Acvr1c_Glut M\"\n",
      "[1] \"Number of genes: 3929\"\n"
     ]
    },
    {
     "name": "stderr",
     "output_type": "stream",
     "text": [
      "'select()' returned 1:1 mapping between keys and columns\n",
      "\n",
      "Warning message in bitr(unique(subset_df$target), fromType = \"SYMBOL\", toType = \"ENTREZID\", :\n",
      "“11.25% of input gene IDs are fail to map...”\n"
     ]
    },
    {
     "name": "stdout",
     "output_type": "stream",
     "text": [
      "[1] \"Processing: AMY_Ccdc3_Acvr1c_Glut M\"\n",
      "[1] \"Number of genes: 3845\"\n"
     ]
    },
    {
     "name": "stderr",
     "output_type": "stream",
     "text": [
      "'select()' returned 1:1 mapping between keys and columns\n",
      "\n",
      "Warning message in bitr(unique(subset_df$target), fromType = \"SYMBOL\", toType = \"ENTREZID\", :\n",
      "“11.55% of input gene IDs are fail to map...”\n"
     ]
    },
    {
     "name": "stdout",
     "output_type": "stream",
     "text": [
      "[1] \"Processing: AMY_Ccdc3_Acvr1c_Glut M\"\n",
      "[1] \"Number of genes: 2466\"\n"
     ]
    },
    {
     "name": "stderr",
     "output_type": "stream",
     "text": [
      "'select()' returned 1:1 mapping between keys and columns\n",
      "\n",
      "Warning message in bitr(unique(subset_df$target), fromType = \"SYMBOL\", toType = \"ENTREZID\", :\n",
      "“10.3% of input gene IDs are fail to map...”\n"
     ]
    },
    {
     "name": "stdout",
     "output_type": "stream",
     "text": [
      "[1] \"Processing: AMY_Ccdc3_Acvr1c_Glut M\"\n",
      "[1] \"Number of genes: 2634\"\n"
     ]
    },
    {
     "name": "stderr",
     "output_type": "stream",
     "text": [
      "'select()' returned 1:1 mapping between keys and columns\n",
      "\n",
      "Warning message in bitr(unique(subset_df$target), fromType = \"SYMBOL\", toType = \"ENTREZID\", :\n",
      "“12.03% of input gene IDs are fail to map...”\n"
     ]
    },
    {
     "name": "stdout",
     "output_type": "stream",
     "text": [
      "[1] \"Processing: AMY_Ccdc3_Acvr1c_Glut M\"\n",
      "[1] \"Number of genes: 1344\"\n"
     ]
    },
    {
     "name": "stderr",
     "output_type": "stream",
     "text": [
      "'select()' returned 1:1 mapping between keys and columns\n",
      "\n",
      "Warning message in bitr(unique(subset_df$target), fromType = \"SYMBOL\", toType = \"ENTREZID\", :\n",
      "“10.79% of input gene IDs are fail to map...”\n",
      "Warning message in rep(yes, length.out = len):\n",
      "“'x' is NULL so the result will be NULL”\n"
     ]
    },
    {
     "name": "stdout",
     "output_type": "stream",
     "text": [
      "[1] \"Error in subsetting data for AMY_Ccdc3_Acvr1c_Glut M\"\n",
      "[1] \"Processing: AMY_Ccdc3_Acvr1c_Glut M\"\n",
      "[1] \"Number of genes: 1908\"\n"
     ]
    },
    {
     "name": "stderr",
     "output_type": "stream",
     "text": [
      "'select()' returned 1:1 mapping between keys and columns\n",
      "\n",
      "Warning message in bitr(unique(subset_df$target), fromType = \"SYMBOL\", toType = \"ENTREZID\", :\n",
      "“12.89% of input gene IDs are fail to map...”\n",
      "Warning message in rep(yes, length.out = len):\n",
      "“'x' is NULL so the result will be NULL”\n"
     ]
    },
    {
     "name": "stdout",
     "output_type": "stream",
     "text": [
      "[1] \"Error in subsetting data for AMY_Ccdc3_Acvr1c_Glut M\"\n",
      "[1] \"Processing: AMY_Ccdc3_Acvr1c_Glut M\"\n",
      "[1] \"Number of genes: 2345\"\n"
     ]
    },
    {
     "name": "stderr",
     "output_type": "stream",
     "text": [
      "'select()' returned 1:1 mapping between keys and columns\n",
      "\n",
      "Warning message in bitr(unique(subset_df$target), fromType = \"SYMBOL\", toType = \"ENTREZID\", :\n",
      "“11.13% of input gene IDs are fail to map...”\n"
     ]
    },
    {
     "name": "stdout",
     "output_type": "stream",
     "text": [
      "[1] \"Processing: AMY_Ccdc3_Acvr1c_Glut M\"\n",
      "[1] \"Number of genes: 4033\"\n"
     ]
    },
    {
     "name": "stderr",
     "output_type": "stream",
     "text": [
      "'select()' returned 1:1 mapping between keys and columns\n",
      "\n",
      "Warning message in bitr(unique(subset_df$target), fromType = \"SYMBOL\", toType = \"ENTREZID\", :\n",
      "“9.15% of input gene IDs are fail to map...”\n"
     ]
    },
    {
     "name": "stdout",
     "output_type": "stream",
     "text": [
      "[1] \"Processing: AMY_Ccdc3_Acvr1c_Glut M\"\n",
      "[1] \"Number of genes: 2077\"\n"
     ]
    },
    {
     "name": "stderr",
     "output_type": "stream",
     "text": [
      "'select()' returned 1:1 mapping between keys and columns\n",
      "\n",
      "Warning message in bitr(unique(subset_df$target), fromType = \"SYMBOL\", toType = \"ENTREZID\", :\n",
      "“10.54% of input gene IDs are fail to map...”\n"
     ]
    },
    {
     "name": "stdout",
     "output_type": "stream",
     "text": [
      "[1] \"Processing: AMY_Ccdc3_Acvr1c_Glut M\"\n",
      "[1] \"Number of genes: 2936\"\n"
     ]
    },
    {
     "name": "stderr",
     "output_type": "stream",
     "text": [
      "'select()' returned 1:1 mapping between keys and columns\n",
      "\n",
      "Warning message in bitr(unique(subset_df$target), fromType = \"SYMBOL\", toType = \"ENTREZID\", :\n",
      "“12.09% of input gene IDs are fail to map...”\n"
     ]
    },
    {
     "name": "stdout",
     "output_type": "stream",
     "text": [
      "[1] \"Processing: AMY_Ccdc3_Acvr1c_Glut M\"\n",
      "[1] \"Number of genes: 818\"\n"
     ]
    },
    {
     "name": "stderr",
     "output_type": "stream",
     "text": [
      "'select()' returned 1:1 mapping between keys and columns\n",
      "\n",
      "Warning message in bitr(unique(subset_df$target), fromType = \"SYMBOL\", toType = \"ENTREZID\", :\n",
      "“17.85% of input gene IDs are fail to map...”\n",
      "Warning message in rep(yes, length.out = len):\n",
      "“'x' is NULL so the result will be NULL”\n"
     ]
    },
    {
     "name": "stdout",
     "output_type": "stream",
     "text": [
      "[1] \"Error in subsetting data for AMY_Ccdc3_Acvr1c_Glut M\"\n",
      "[1] \"Processing: AMY_Ccdc3_Acvr1c_Glut M\"\n",
      "[1] \"Number of genes: 3191\"\n"
     ]
    },
    {
     "name": "stderr",
     "output_type": "stream",
     "text": [
      "'select()' returned 1:1 mapping between keys and columns\n",
      "\n",
      "Warning message in bitr(unique(subset_df$target), fromType = \"SYMBOL\", toType = \"ENTREZID\", :\n",
      "“10.09% of input gene IDs are fail to map...”\n"
     ]
    },
    {
     "name": "stdout",
     "output_type": "stream",
     "text": [
      "[1] \"Processing: AMY_Ccdc3_Acvr1c_Glut M\"\n",
      "[1] \"Number of genes: 5476\"\n"
     ]
    },
    {
     "name": "stderr",
     "output_type": "stream",
     "text": [
      "'select()' returned 1:1 mapping between keys and columns\n",
      "\n",
      "Warning message in bitr(unique(subset_df$target), fromType = \"SYMBOL\", toType = \"ENTREZID\", :\n",
      "“11.34% of input gene IDs are fail to map...”\n"
     ]
    },
    {
     "name": "stdout",
     "output_type": "stream",
     "text": [
      "[1] \"Processing: AMY_Ccdc3_Acvr1c_Glut M\"\n",
      "[1] \"Number of genes: 2832\"\n"
     ]
    },
    {
     "name": "stderr",
     "output_type": "stream",
     "text": [
      "'select()' returned 1:1 mapping between keys and columns\n",
      "\n",
      "Warning message in bitr(unique(subset_df$target), fromType = \"SYMBOL\", toType = \"ENTREZID\", :\n",
      "“9.53% of input gene IDs are fail to map...”\n"
     ]
    },
    {
     "name": "stdout",
     "output_type": "stream",
     "text": [
      "[1] \"Processing: AMY_Ccdc3_Acvr1c_Glut M\"\n",
      "[1] \"Number of genes: 1603\"\n"
     ]
    },
    {
     "name": "stderr",
     "output_type": "stream",
     "text": [
      "'select()' returned 1:1 mapping between keys and columns\n",
      "\n",
      "Warning message in bitr(unique(subset_df$target), fromType = \"SYMBOL\", toType = \"ENTREZID\", :\n",
      "“15.66% of input gene IDs are fail to map...”\n",
      "Warning message in rep(yes, length.out = len):\n",
      "“'x' is NULL so the result will be NULL”\n"
     ]
    },
    {
     "name": "stdout",
     "output_type": "stream",
     "text": [
      "[1] \"Error in subsetting data for AMY_Ccdc3_Acvr1c_Glut M\"\n",
      "[1] \"Processing: AMY_Ccdc3_Acvr1c_Glut M\"\n",
      "[1] \"Number of genes: 450\"\n"
     ]
    },
    {
     "name": "stderr",
     "output_type": "stream",
     "text": [
      "'select()' returned 1:1 mapping between keys and columns\n",
      "\n",
      "Warning message in bitr(unique(subset_df$target), fromType = \"SYMBOL\", toType = \"ENTREZID\", :\n",
      "“17.33% of input gene IDs are fail to map...”\n",
      "Warning message in rep(yes, length.out = len):\n",
      "“'x' is NULL so the result will be NULL”\n"
     ]
    },
    {
     "name": "stdout",
     "output_type": "stream",
     "text": [
      "[1] \"Error in subsetting data for AMY_Ccdc3_Acvr1c_Glut M\"\n",
      "[1] \"Processing: AMY_Ccdc3_Acvr1c_Glut M\"\n",
      "[1] \"Number of genes: 2223\"\n"
     ]
    },
    {
     "name": "stderr",
     "output_type": "stream",
     "text": [
      "'select()' returned 1:1 mapping between keys and columns\n",
      "\n",
      "Warning message in bitr(unique(subset_df$target), fromType = \"SYMBOL\", toType = \"ENTREZID\", :\n",
      "“12.19% of input gene IDs are fail to map...”\n"
     ]
    },
    {
     "name": "stdout",
     "output_type": "stream",
     "text": [
      "[1] \"Processing: AMY_Ccdc3_Acvr1c_Glut M\"\n",
      "[1] \"Number of genes: 2122\"\n"
     ]
    },
    {
     "name": "stderr",
     "output_type": "stream",
     "text": [
      "'select()' returned 1:1 mapping between keys and columns\n",
      "\n",
      "Warning message in bitr(unique(subset_df$target), fromType = \"SYMBOL\", toType = \"ENTREZID\", :\n",
      "“10.23% of input gene IDs are fail to map...”\n"
     ]
    },
    {
     "name": "stdout",
     "output_type": "stream",
     "text": [
      "[1] \"Processing: AMY_Ccdc3_Acvr1c_Glut M\"\n",
      "[1] \"Number of genes: 2624\"\n"
     ]
    },
    {
     "name": "stderr",
     "output_type": "stream",
     "text": [
      "'select()' returned 1:1 mapping between keys and columns\n",
      "\n",
      "Warning message in bitr(unique(subset_df$target), fromType = \"SYMBOL\", toType = \"ENTREZID\", :\n",
      "“12% of input gene IDs are fail to map...”\n"
     ]
    },
    {
     "name": "stdout",
     "output_type": "stream",
     "text": [
      "[1] \"Processing: AMY_Ccdc3_Acvr1c_Glut M\"\n",
      "[1] \"Number of genes: 2664\"\n"
     ]
    },
    {
     "name": "stderr",
     "output_type": "stream",
     "text": [
      "'select()' returned 1:1 mapping between keys and columns\n",
      "\n",
      "Warning message in bitr(unique(subset_df$target), fromType = \"SYMBOL\", toType = \"ENTREZID\", :\n",
      "“9.8% of input gene IDs are fail to map...”\n"
     ]
    },
    {
     "name": "stdout",
     "output_type": "stream",
     "text": [
      "[1] \"Processing: AMY_Ccdc3_Acvr1c_Glut M\"\n",
      "[1] \"Number of genes: 3454\"\n"
     ]
    },
    {
     "name": "stderr",
     "output_type": "stream",
     "text": [
      "'select()' returned 1:1 mapping between keys and columns\n",
      "\n",
      "Warning message in bitr(unique(subset_df$target), fromType = \"SYMBOL\", toType = \"ENTREZID\", :\n",
      "“9.53% of input gene IDs are fail to map...”\n"
     ]
    },
    {
     "name": "stdout",
     "output_type": "stream",
     "text": [
      "[1] \"Processing: AMY_Ccdc3_Acvr1c_Glut M\"\n",
      "[1] \"Number of genes: 3189\"\n"
     ]
    },
    {
     "name": "stderr",
     "output_type": "stream",
     "text": [
      "'select()' returned 1:1 mapping between keys and columns\n",
      "\n",
      "Warning message in bitr(unique(subset_df$target), fromType = \"SYMBOL\", toType = \"ENTREZID\", :\n",
      "“11.07% of input gene IDs are fail to map...”\n"
     ]
    },
    {
     "name": "stdout",
     "output_type": "stream",
     "text": [
      "[1] \"Processing: AMY_Ccdc3_Acvr1c_Glut M\"\n",
      "[1] \"Number of genes: 668\"\n"
     ]
    },
    {
     "name": "stderr",
     "output_type": "stream",
     "text": [
      "'select()' returned 1:1 mapping between keys and columns\n",
      "\n",
      "Warning message in bitr(unique(subset_df$target), fromType = \"SYMBOL\", toType = \"ENTREZID\", :\n",
      "“15.87% of input gene IDs are fail to map...”\n",
      "Warning message in rep(yes, length.out = len):\n",
      "“'x' is NULL so the result will be NULL”\n"
     ]
    },
    {
     "name": "stdout",
     "output_type": "stream",
     "text": [
      "[1] \"Error in subsetting data for AMY_Ccdc3_Acvr1c_Glut M\"\n",
      "[1] \"Processing: AMY_Ccdc3_Acvr1c_Glut M\"\n",
      "[1] \"Number of genes: 2260\"\n"
     ]
    },
    {
     "name": "stderr",
     "output_type": "stream",
     "text": [
      "'select()' returned 1:1 mapping between keys and columns\n",
      "\n",
      "Warning message in bitr(unique(subset_df$target), fromType = \"SYMBOL\", toType = \"ENTREZID\", :\n",
      "“12.43% of input gene IDs are fail to map...”\n"
     ]
    },
    {
     "name": "stdout",
     "output_type": "stream",
     "text": [
      "[1] \"Processing: AMY_Ccdc3_Acvr1c_Glut M\"\n",
      "[1] \"Number of genes: 2478\"\n"
     ]
    },
    {
     "name": "stderr",
     "output_type": "stream",
     "text": [
      "'select()' returned 1:1 mapping between keys and columns\n",
      "\n",
      "Warning message in bitr(unique(subset_df$target), fromType = \"SYMBOL\", toType = \"ENTREZID\", :\n",
      "“10.41% of input gene IDs are fail to map...”\n"
     ]
    },
    {
     "name": "stdout",
     "output_type": "stream",
     "text": [
      "[1] \"Processing: AMY_Ccdc3_Acvr1c_Glut M\"\n",
      "[1] \"Number of genes: 2580\"\n"
     ]
    },
    {
     "name": "stderr",
     "output_type": "stream",
     "text": [
      "'select()' returned 1:1 mapping between keys and columns\n",
      "\n",
      "Warning message in bitr(unique(subset_df$target), fromType = \"SYMBOL\", toType = \"ENTREZID\", :\n",
      "“10.47% of input gene IDs are fail to map...”\n"
     ]
    },
    {
     "name": "stdout",
     "output_type": "stream",
     "text": [
      "[1] \"Processing: AMY_Ccdc3_Acvr1c_Glut M\"\n",
      "[1] \"Number of genes: 2988\"\n"
     ]
    },
    {
     "name": "stderr",
     "output_type": "stream",
     "text": [
      "'select()' returned 1:1 mapping between keys and columns\n",
      "\n",
      "Warning message in bitr(unique(subset_df$target), fromType = \"SYMBOL\", toType = \"ENTREZID\", :\n",
      "“10.91% of input gene IDs are fail to map...”\n"
     ]
    },
    {
     "name": "stdout",
     "output_type": "stream",
     "text": [
      "[1] \"Processing: AMY_Ccdc3_Acvr1c_Glut M\"\n",
      "[1] \"Number of genes: 1362\"\n"
     ]
    },
    {
     "name": "stderr",
     "output_type": "stream",
     "text": [
      "'select()' returned 1:1 mapping between keys and columns\n",
      "\n",
      "Warning message in bitr(unique(subset_df$target), fromType = \"SYMBOL\", toType = \"ENTREZID\", :\n",
      "“9.91% of input gene IDs are fail to map...”\n"
     ]
    },
    {
     "name": "stdout",
     "output_type": "stream",
     "text": [
      "[1] \"Processing: AMY_Ccdc3_Acvr1c_Glut M\"\n",
      "[1] \"Number of genes: 5216\"\n"
     ]
    },
    {
     "name": "stderr",
     "output_type": "stream",
     "text": [
      "'select()' returned 1:1 mapping between keys and columns\n",
      "\n",
      "Warning message in bitr(unique(subset_df$target), fromType = \"SYMBOL\", toType = \"ENTREZID\", :\n",
      "“11.22% of input gene IDs are fail to map...”\n"
     ]
    },
    {
     "name": "stdout",
     "output_type": "stream",
     "text": [
      "[1] \"Processing: AMY_Ccdc3_Acvr1c_Glut M\"\n",
      "[1] \"Number of genes: 2717\"\n"
     ]
    },
    {
     "name": "stderr",
     "output_type": "stream",
     "text": [
      "'select()' returned 1:1 mapping between keys and columns\n",
      "\n",
      "Warning message in bitr(unique(subset_df$target), fromType = \"SYMBOL\", toType = \"ENTREZID\", :\n",
      "“11.89% of input gene IDs are fail to map...”\n"
     ]
    },
    {
     "name": "stdout",
     "output_type": "stream",
     "text": [
      "[1] \"Processing: AMY_Ccdc3_Acvr1c_Glut M\"\n",
      "[1] \"Number of genes: 3335\"\n"
     ]
    },
    {
     "name": "stderr",
     "output_type": "stream",
     "text": [
      "'select()' returned 1:1 mapping between keys and columns\n",
      "\n",
      "Warning message in bitr(unique(subset_df$target), fromType = \"SYMBOL\", toType = \"ENTREZID\", :\n",
      "“11.39% of input gene IDs are fail to map...”\n"
     ]
    },
    {
     "name": "stdout",
     "output_type": "stream",
     "text": [
      "[1] \"Processing: AMY_Ccdc3_Acvr1c_Glut M\"\n",
      "[1] \"Number of genes: 3613\"\n"
     ]
    },
    {
     "name": "stderr",
     "output_type": "stream",
     "text": [
      "'select()' returned 1:1 mapping between keys and columns\n",
      "\n",
      "Warning message in bitr(unique(subset_df$target), fromType = \"SYMBOL\", toType = \"ENTREZID\", :\n",
      "“11.1% of input gene IDs are fail to map...”\n"
     ]
    },
    {
     "name": "stdout",
     "output_type": "stream",
     "text": [
      "[1] \"Processing: AMY_Ccdc3_Acvr1c_Glut M\"\n",
      "[1] \"Number of genes: 1977\"\n"
     ]
    },
    {
     "name": "stderr",
     "output_type": "stream",
     "text": [
      "'select()' returned 1:1 mapping between keys and columns\n",
      "\n",
      "Warning message in bitr(unique(subset_df$target), fromType = \"SYMBOL\", toType = \"ENTREZID\", :\n",
      "“12.29% of input gene IDs are fail to map...”\n"
     ]
    },
    {
     "name": "stdout",
     "output_type": "stream",
     "text": [
      "[1] \"Processing: AMY_Ccdc3_Acvr1c_Glut M\"\n",
      "[1] \"Number of genes: 2499\"\n"
     ]
    },
    {
     "name": "stderr",
     "output_type": "stream",
     "text": [
      "'select()' returned 1:1 mapping between keys and columns\n",
      "\n",
      "Warning message in bitr(unique(subset_df$target), fromType = \"SYMBOL\", toType = \"ENTREZID\", :\n",
      "“12% of input gene IDs are fail to map...”\n"
     ]
    },
    {
     "name": "stdout",
     "output_type": "stream",
     "text": [
      "[1] \"Processing: AMY_Ccdc3_Acvr1c_Glut M\"\n",
      "[1] \"Number of genes: 3488\"\n"
     ]
    },
    {
     "name": "stderr",
     "output_type": "stream",
     "text": [
      "'select()' returned 1:1 mapping between keys and columns\n",
      "\n",
      "Warning message in bitr(unique(subset_df$target), fromType = \"SYMBOL\", toType = \"ENTREZID\", :\n",
      "“12.53% of input gene IDs are fail to map...”\n"
     ]
    },
    {
     "name": "stdout",
     "output_type": "stream",
     "text": [
      "[1] \"Processing: AMY_Ccdc3_Acvr1c_Glut M\"\n",
      "[1] \"Number of genes: 2487\"\n"
     ]
    },
    {
     "name": "stderr",
     "output_type": "stream",
     "text": [
      "'select()' returned 1:1 mapping between keys and columns\n",
      "\n",
      "Warning message in bitr(unique(subset_df$target), fromType = \"SYMBOL\", toType = \"ENTREZID\", :\n",
      "“12.1% of input gene IDs are fail to map...”\n"
     ]
    },
    {
     "name": "stdout",
     "output_type": "stream",
     "text": [
      "[1] \"Processing: AMY_Ccdc3_Acvr1c_Glut M\"\n",
      "[1] \"Number of genes: 2629\"\n"
     ]
    },
    {
     "name": "stderr",
     "output_type": "stream",
     "text": [
      "'select()' returned 1:1 mapping between keys and columns\n",
      "\n",
      "Warning message in bitr(unique(subset_df$target), fromType = \"SYMBOL\", toType = \"ENTREZID\", :\n",
      "“11.75% of input gene IDs are fail to map...”\n"
     ]
    },
    {
     "name": "stdout",
     "output_type": "stream",
     "text": [
      "[1] \"Processing: AMY_Ccdc3_Acvr1c_Glut M\"\n",
      "[1] \"Number of genes: 891\"\n"
     ]
    },
    {
     "name": "stderr",
     "output_type": "stream",
     "text": [
      "'select()' returned 1:1 mapping between keys and columns\n",
      "\n",
      "Warning message in bitr(unique(subset_df$target), fromType = \"SYMBOL\", toType = \"ENTREZID\", :\n",
      "“17.4% of input gene IDs are fail to map...”\n",
      "Warning message in rep(yes, length.out = len):\n",
      "“'x' is NULL so the result will be NULL”\n"
     ]
    },
    {
     "name": "stdout",
     "output_type": "stream",
     "text": [
      "[1] \"Error in subsetting data for AMY_Ccdc3_Acvr1c_Glut M\"\n",
      "[1] \"Processing: AMY_Ccdc3_Acvr1c_Glut M\"\n",
      "[1] \"Number of genes: 1972\"\n"
     ]
    },
    {
     "name": "stderr",
     "output_type": "stream",
     "text": [
      "'select()' returned 1:1 mapping between keys and columns\n",
      "\n",
      "Warning message in bitr(unique(subset_df$target), fromType = \"SYMBOL\", toType = \"ENTREZID\", :\n",
      "“11.11% of input gene IDs are fail to map...”\n"
     ]
    },
    {
     "name": "stdout",
     "output_type": "stream",
     "text": [
      "[1] \"Processing: AMY_Ccdc3_Acvr1c_Glut M\"\n",
      "[1] \"Number of genes: 4349\"\n"
     ]
    },
    {
     "name": "stderr",
     "output_type": "stream",
     "text": [
      "'select()' returned 1:1 mapping between keys and columns\n",
      "\n",
      "Warning message in bitr(unique(subset_df$target), fromType = \"SYMBOL\", toType = \"ENTREZID\", :\n",
      "“10.44% of input gene IDs are fail to map...”\n"
     ]
    },
    {
     "name": "stdout",
     "output_type": "stream",
     "text": [
      "[1] \"Processing: AMY_Ccdc3_Acvr1c_Glut M\"\n",
      "[1] \"Number of genes: 2653\"\n"
     ]
    },
    {
     "name": "stderr",
     "output_type": "stream",
     "text": [
      "'select()' returned 1:1 mapping between keys and columns\n",
      "\n",
      "Warning message in bitr(unique(subset_df$target), fromType = \"SYMBOL\", toType = \"ENTREZID\", :\n",
      "“10.74% of input gene IDs are fail to map...”\n"
     ]
    },
    {
     "name": "stdout",
     "output_type": "stream",
     "text": [
      "[1] \"Processing: AMY_Ccdc3_Acvr1c_Glut M\"\n",
      "[1] \"Number of genes: 1542\"\n"
     ]
    },
    {
     "name": "stderr",
     "output_type": "stream",
     "text": [
      "'select()' returned 1:1 mapping between keys and columns\n",
      "\n",
      "Warning message in bitr(unique(subset_df$target), fromType = \"SYMBOL\", toType = \"ENTREZID\", :\n",
      "“12.65% of input gene IDs are fail to map...”\n",
      "Warning message in rep(yes, length.out = len):\n",
      "“'x' is NULL so the result will be NULL”\n"
     ]
    },
    {
     "name": "stdout",
     "output_type": "stream",
     "text": [
      "[1] \"Error in subsetting data for AMY_Ccdc3_Acvr1c_Glut M\"\n",
      "[1] \"Processing: AMY_Ccdc3_Acvr1c_Glut M\"\n",
      "[1] \"Number of genes: 2040\"\n"
     ]
    },
    {
     "name": "stderr",
     "output_type": "stream",
     "text": [
      "'select()' returned 1:1 mapping between keys and columns\n",
      "\n",
      "Warning message in bitr(unique(subset_df$target), fromType = \"SYMBOL\", toType = \"ENTREZID\", :\n",
      "“10.34% of input gene IDs are fail to map...”\n",
      "Warning message in rep(yes, length.out = len):\n",
      "“'x' is NULL so the result will be NULL”\n"
     ]
    },
    {
     "name": "stdout",
     "output_type": "stream",
     "text": [
      "[1] \"Error in subsetting data for AMY_Ccdc3_Acvr1c_Glut M\"\n",
      "[1] \"Processing: AMY_Ccdc3_Acvr1c_Glut M\"\n",
      "[1] \"Number of genes: 2506\"\n"
     ]
    },
    {
     "name": "stderr",
     "output_type": "stream",
     "text": [
      "'select()' returned 1:1 mapping between keys and columns\n",
      "\n",
      "Warning message in bitr(unique(subset_df$target), fromType = \"SYMBOL\", toType = \"ENTREZID\", :\n",
      "“13.05% of input gene IDs are fail to map...”\n"
     ]
    },
    {
     "name": "stdout",
     "output_type": "stream",
     "text": [
      "[1] \"Processing: AMY_Ccdc3_Acvr1c_Glut M\"\n",
      "[1] \"Number of genes: 1532\"\n"
     ]
    },
    {
     "name": "stderr",
     "output_type": "stream",
     "text": [
      "'select()' returned 1:1 mapping between keys and columns\n",
      "\n",
      "Warning message in bitr(unique(subset_df$target), fromType = \"SYMBOL\", toType = \"ENTREZID\", :\n",
      "“12.21% of input gene IDs are fail to map...”\n",
      "Warning message in rep(yes, length.out = len):\n",
      "“'x' is NULL so the result will be NULL”\n"
     ]
    },
    {
     "name": "stdout",
     "output_type": "stream",
     "text": [
      "[1] \"Error in subsetting data for AMY_Ccdc3_Acvr1c_Glut M\"\n",
      "[1] \"Processing: AMY_Ccdc3_Acvr1c_Glut M\"\n",
      "[1] \"Number of genes: 2010\"\n"
     ]
    },
    {
     "name": "stderr",
     "output_type": "stream",
     "text": [
      "'select()' returned 1:1 mapping between keys and columns\n",
      "\n",
      "Warning message in bitr(unique(subset_df$target), fromType = \"SYMBOL\", toType = \"ENTREZID\", :\n",
      "“11.29% of input gene IDs are fail to map...”\n"
     ]
    },
    {
     "name": "stdout",
     "output_type": "stream",
     "text": [
      "[1] \"Processing: AMY_Ccdc3_Acvr1c_Glut M\"\n",
      "[1] \"Number of genes: 4768\"\n"
     ]
    },
    {
     "name": "stderr",
     "output_type": "stream",
     "text": [
      "'select()' returned 1:1 mapping between keys and columns\n",
      "\n",
      "Warning message in bitr(unique(subset_df$target), fromType = \"SYMBOL\", toType = \"ENTREZID\", :\n",
      "“11.56% of input gene IDs are fail to map...”\n"
     ]
    },
    {
     "name": "stdout",
     "output_type": "stream",
     "text": [
      "[1] \"Processing: AMY_Ccdc3_Acvr1c_Glut M\"\n",
      "[1] \"Number of genes: 3694\"\n"
     ]
    },
    {
     "name": "stderr",
     "output_type": "stream",
     "text": [
      "'select()' returned 1:1 mapping between keys and columns\n",
      "\n",
      "Warning message in bitr(unique(subset_df$target), fromType = \"SYMBOL\", toType = \"ENTREZID\", :\n",
      "“11.8% of input gene IDs are fail to map...”\n"
     ]
    },
    {
     "name": "stdout",
     "output_type": "stream",
     "text": [
      "[1] \"Processing: AMY_Ccdc3_Acvr1c_Glut M\"\n",
      "[1] \"Number of genes: 2692\"\n"
     ]
    },
    {
     "name": "stderr",
     "output_type": "stream",
     "text": [
      "'select()' returned 1:1 mapping between keys and columns\n",
      "\n",
      "Warning message in bitr(unique(subset_df$target), fromType = \"SYMBOL\", toType = \"ENTREZID\", :\n",
      "“12.48% of input gene IDs are fail to map...”\n"
     ]
    },
    {
     "name": "stdout",
     "output_type": "stream",
     "text": [
      "[1] \"Processing: AMY_Ccdc3_Acvr1c_Glut M\"\n",
      "[1] \"Number of genes: 2538\"\n"
     ]
    },
    {
     "name": "stderr",
     "output_type": "stream",
     "text": [
      "'select()' returned 1:1 mapping between keys and columns\n",
      "\n",
      "Warning message in bitr(unique(subset_df$target), fromType = \"SYMBOL\", toType = \"ENTREZID\", :\n",
      "“12.21% of input gene IDs are fail to map...”\n"
     ]
    },
    {
     "name": "stdout",
     "output_type": "stream",
     "text": [
      "[1] \"Processing: AMY_Ccdc3_Acvr1c_Glut M\"\n",
      "[1] \"Number of genes: 1896\"\n"
     ]
    },
    {
     "name": "stderr",
     "output_type": "stream",
     "text": [
      "'select()' returned 1:1 mapping between keys and columns\n",
      "\n",
      "Warning message in bitr(unique(subset_df$target), fromType = \"SYMBOL\", toType = \"ENTREZID\", :\n",
      "“13.34% of input gene IDs are fail to map...”\n",
      "Warning message in rep(yes, length.out = len):\n",
      "“'x' is NULL so the result will be NULL”\n"
     ]
    },
    {
     "name": "stdout",
     "output_type": "stream",
     "text": [
      "[1] \"Error in subsetting data for AMY_Ccdc3_Acvr1c_Glut M\"\n"
     ]
    }
   ],
   "source": [
    "# for file in df_grns[:5]:\n",
    "#     region = file.split(\"adj_\")[1].split(\"_\")[0]\n",
    "#     gender = file.split(\".\")[0].split(\"_\")[-1]\n",
    "#     celltype = file.split(\"adj_\")[1].replace(f'_{gender}.tsv','')\n",
    "\n",
    "#     # region = 'TH'\n",
    "#     # gender = 'M'\n",
    "#     # celltype = 'Tnc_Adgrf5_Glut'\n",
    "#     df_grn = pd.read_csv(file, sep='\\t')\n",
    "# for loop to read GRN files\n",
    "# subset 5 files for testing\n",
    "for (file in df_grns) {\n",
    "  celltype <- gsub(\"^.*adj_([A-Za-z0-9_]+)_.*$\", \"\\\\1\", file) \n",
    "  gender <-gsub(\".*_([A-Za-z]+)\\\\.tsv\", \"\\\\1\", file)\n",
    "  region <- gsub(\"^.*adj_([A-Za-z0-9]+)_([A-Za-z0-9_]+).*$\", \"\\\\1\", file) \n",
    "\n",
    "  # if file already exists and overwrite is FALSE, skip\n",
    "  df_grn <- read.table(file, header = TRUE, sep = \"\\t\")\n",
    "\n",
    "  # filter the GRN dataframe to only include important TFs\n",
    "  df_grn <- df_grn[df_grn$TF %in% df_important_TF.unique, ]\n",
    "\n",
    "  # for each tf in df_grn.TF.unique:\n",
    "  for (tf in unique(df_grn$TF)) {\n",
    "\n",
    "      if (file.exists(paste(outdir, \"GO_enrichment_memento\",celltype,gender,tf,\".csv\",sep = \"_\")) && !overwrite) {\n",
    "        next\n",
    "      }\n",
    "\n",
    "\n",
    "        tryCatch(\n",
    "        {\n",
    "          print(paste(\"Processing:\", celltype, gender))\n",
    "          subset_df <- df_grn[df_grn$TF == tf, ]\n",
    "\n",
    "          print(paste(\"Number of genes:\", nrow(subset_df)))\n",
    "\n",
    "          gene_entrez <- bitr(unique(subset_df$target), \n",
    "                              fromType = \"SYMBOL\", \n",
    "                              toType = \"ENTREZID\", \n",
    "                              OrgDb = \"org.Mm.eg.db\")\n",
    "                              \n",
    "          entrez_ids <- gene_entrez$ENTREZID\n",
    "          ego <- enrichGO(gene = entrez_ids,\n",
    "                          OrgDb = org.Mm.eg.db,\n",
    "                          keyType = \"ENTREZID\",\n",
    "                          ont = \"ALL\",  # \"BP\", \"MF\", \"CC\" 或 \"ALL\"\n",
    "                          pvalueCutoff = 0.05,\n",
    "                          qvalueCutoff = 0.05,\n",
    "                          readable = TRUE)  # 结果中显示基因符号\n",
    "\n",
    "          # 查看结果\n",
    "          write.csv(ego, file = paste(outdir, \"GO_enrichment_memento\",celltype,gender,tf,\".csv\",sep = \"_\"), row.names = FALSE)\n",
    "          p <- dotplot(ego, showCategory = 30)\n",
    "          ggsave(paste(outdir, \"GO_enrichment_memento_dot\",celltype,gender,tf,\".pdf\",sep = \"_\"), plot = p, width = 12, height = 15)  # 宽度12英寸，高度15英寸\n",
    "\n",
    "          p<-barplot(ego, showCategory = 30)  # 条形图\n",
    "          ggsave(paste(outdir, \"GO_enrichment_memento_bar\",celltype,gender,tf,\".pdf\",sep = \"_\"), plot = p, width = 12, height = 15)  # 宽度12英寸，高度15英寸\n",
    "\n",
    "          kk <- enrichKEGG(gene = entrez_ids,\n",
    "                          organism = \"mmu\",  # 小鼠KEGG代码\n",
    "                          pvalueCutoff = 0.05,\n",
    "                          qvalueCutoff = 0.05)\n",
    "\n",
    "          # 可视化\n",
    "          p<-dotplot(kk, showCategory = 30)\n",
    "          write.csv(kk, file = paste(outdir, \"KEGG_enrichment_memento\",celltype,gender,tf,\".csv\",sep = \"_\"), row.names = FALSE)\n",
    "          ggsave(paste(outdir, \"kegg_enrichment_memento_dot\",celltype,gender,tf,\".pdf\",sep = \"_\"), plot = p, width = 12, height = 15)  # 宽度12英寸，高度15英寸\n",
    "        }, \n",
    "        error = function(e) {\n",
    "          print(paste(\"Error in subsetting data for\", celltype, gender))\n",
    "      })\n",
    "  }\n",
    "  \n",
    "}\n"
   ]
  }
 ],
 "metadata": {
  "kernelspec": {
   "display_name": "R",
   "language": "R",
   "name": "ir"
  },
  "language_info": {
   "codemirror_mode": "r",
   "file_extension": ".r",
   "mimetype": "text/x-r-source",
   "name": "R",
   "pygments_lexer": "r",
   "version": "4.3.3"
  }
 },
 "nbformat": 4,
 "nbformat_minor": 2
}
