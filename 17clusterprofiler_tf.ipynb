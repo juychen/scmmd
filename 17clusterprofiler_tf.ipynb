{
 "cells": [
  {
   "cell_type": "code",
   "execution_count": 5,
   "metadata": {
    "vscode": {
     "languageId": "r"
    }
   },
   "outputs": [],
   "source": [
    "library('clusterProfiler')\n",
    "library(org.Mm.eg.db)\n",
    "library(ggplot2)\n",
    "library(gprofiler2)"
   ]
  },
  {
   "cell_type": "code",
   "execution_count": 29,
   "metadata": {
    "vscode": {
     "languageId": "r"
    }
   },
   "outputs": [],
   "source": [
    "indir <- '/data2st1/junyi/output/atac0627/snregulation'\n",
    "outdir <- '/data2st1/junyi/output/atac0627/snregulation/gost/'\n",
    "df_important_TF <- read.csv(paste0(indir, '/TFtarget_analysis_important_TF.csv'))\n",
    "df_grns <- list.files('/data1st1/yejun/pyscenic/grn/', pattern = 'adj_.*\\\\.tsv', full.names = TRUE)\n",
    "overwrite <- FALSE"
   ]
  },
  {
   "cell_type": "code",
   "execution_count": 3,
   "metadata": {
    "vscode": {
     "languageId": "r"
    }
   },
   "outputs": [],
   "source": [
    "df_important_TF.unique <- unique(df_important_TF$TF)"
   ]
  },
  {
   "cell_type": "code",
   "execution_count": 35,
   "metadata": {
    "vscode": {
     "languageId": "r"
    }
   },
   "outputs": [
    {
     "data": {
      "text/html": [
       "<style>\n",
       ".list-inline {list-style: none; margin:0; padding: 0}\n",
       ".list-inline>li {display: inline-block}\n",
       ".list-inline>li:not(:last-child)::after {content: \"\\00b7\"; padding: 0 .5ex}\n",
       "</style>\n",
       "<ol class=list-inline><li>'Npdc1'</li><li>'Jund'</li><li>'Cux1'</li><li>'Bclaf1'</li><li>'Bmyc'</li><li>'Foxp1'</li><li>'Zeb1'</li><li>'Nfe2l1'</li><li>'Ep300'</li><li>'Srebf2'</li><li>'Xbp1'</li><li>'Foxn3'</li><li>'Tef'</li><li>'Kdm5a'</li><li>'Smarca4'</li><li>'Zmiz1'</li><li>'Bach2'</li><li>'Tcf4'</li><li>'Nr2c2'</li><li>'Taf1'</li><li>'Tcf12'</li><li>'Rfx3'</li><li>'Pou2f1'</li><li>'Atf2'</li><li>'Bcl11a'</li><li>'Nr3c1'</li><li>'Mef2a'</li><li>'Hmgn3'</li><li>'Supt20'</li><li>'Irf2'</li><li>'Junb'</li><li>'Pbx1'</li><li>'Creb3'</li><li>'Zmat4'</li><li>'Nr2f2'</li><li>'Esrra'</li><li>'Phf8'</li><li>'Klf13'</li><li>'Zfp148'</li><li>'Foxp2'</li><li>'Clock'</li><li>'Hdac2'</li><li>'Atf4'</li><li>'Esrrg'</li><li>'Cebpz'</li><li>'Arnt2'</li><li>'Arnt'</li><li>'Ctcf'</li><li>'Rora'</li><li>'Tcf7l2'</li><li>'Thra'</li><li>'Rfx7'</li><li>'Pbx3'</li><li>'Pknox2'</li><li>'Meis2'</li><li>'Kdm5b'</li><li>'Meis1'</li><li>'Sox5'</li><li>'Prdx5'</li><li>'Zfp846'</li><li>'Setbp1'</li><li>'Foxj3'</li><li>'Thrb'</li><li>'Dbp'</li><li>'Rcor1'</li><li>'Setdb1'</li><li>'Hlf'</li><li>'Mef2c'</li><li>'Sox11'</li><li>'Nf1'</li><li>'Egr1'</li><li>'Egr4'</li><li>'Fos'</li><li>'Runx2'</li><li>'Lef1'</li><li>'Zbtb16'</li><li>'Foxo1'</li></ol>\n"
      ],
      "text/latex": [
       "\\begin{enumerate*}\n",
       "\\item 'Npdc1'\n",
       "\\item 'Jund'\n",
       "\\item 'Cux1'\n",
       "\\item 'Bclaf1'\n",
       "\\item 'Bmyc'\n",
       "\\item 'Foxp1'\n",
       "\\item 'Zeb1'\n",
       "\\item 'Nfe2l1'\n",
       "\\item 'Ep300'\n",
       "\\item 'Srebf2'\n",
       "\\item 'Xbp1'\n",
       "\\item 'Foxn3'\n",
       "\\item 'Tef'\n",
       "\\item 'Kdm5a'\n",
       "\\item 'Smarca4'\n",
       "\\item 'Zmiz1'\n",
       "\\item 'Bach2'\n",
       "\\item 'Tcf4'\n",
       "\\item 'Nr2c2'\n",
       "\\item 'Taf1'\n",
       "\\item 'Tcf12'\n",
       "\\item 'Rfx3'\n",
       "\\item 'Pou2f1'\n",
       "\\item 'Atf2'\n",
       "\\item 'Bcl11a'\n",
       "\\item 'Nr3c1'\n",
       "\\item 'Mef2a'\n",
       "\\item 'Hmgn3'\n",
       "\\item 'Supt20'\n",
       "\\item 'Irf2'\n",
       "\\item 'Junb'\n",
       "\\item 'Pbx1'\n",
       "\\item 'Creb3'\n",
       "\\item 'Zmat4'\n",
       "\\item 'Nr2f2'\n",
       "\\item 'Esrra'\n",
       "\\item 'Phf8'\n",
       "\\item 'Klf13'\n",
       "\\item 'Zfp148'\n",
       "\\item 'Foxp2'\n",
       "\\item 'Clock'\n",
       "\\item 'Hdac2'\n",
       "\\item 'Atf4'\n",
       "\\item 'Esrrg'\n",
       "\\item 'Cebpz'\n",
       "\\item 'Arnt2'\n",
       "\\item 'Arnt'\n",
       "\\item 'Ctcf'\n",
       "\\item 'Rora'\n",
       "\\item 'Tcf7l2'\n",
       "\\item 'Thra'\n",
       "\\item 'Rfx7'\n",
       "\\item 'Pbx3'\n",
       "\\item 'Pknox2'\n",
       "\\item 'Meis2'\n",
       "\\item 'Kdm5b'\n",
       "\\item 'Meis1'\n",
       "\\item 'Sox5'\n",
       "\\item 'Prdx5'\n",
       "\\item 'Zfp846'\n",
       "\\item 'Setbp1'\n",
       "\\item 'Foxj3'\n",
       "\\item 'Thrb'\n",
       "\\item 'Dbp'\n",
       "\\item 'Rcor1'\n",
       "\\item 'Setdb1'\n",
       "\\item 'Hlf'\n",
       "\\item 'Mef2c'\n",
       "\\item 'Sox11'\n",
       "\\item 'Nf1'\n",
       "\\item 'Egr1'\n",
       "\\item 'Egr4'\n",
       "\\item 'Fos'\n",
       "\\item 'Runx2'\n",
       "\\item 'Lef1'\n",
       "\\item 'Zbtb16'\n",
       "\\item 'Foxo1'\n",
       "\\end{enumerate*}\n"
      ],
      "text/markdown": [
       "1. 'Npdc1'\n",
       "2. 'Jund'\n",
       "3. 'Cux1'\n",
       "4. 'Bclaf1'\n",
       "5. 'Bmyc'\n",
       "6. 'Foxp1'\n",
       "7. 'Zeb1'\n",
       "8. 'Nfe2l1'\n",
       "9. 'Ep300'\n",
       "10. 'Srebf2'\n",
       "11. 'Xbp1'\n",
       "12. 'Foxn3'\n",
       "13. 'Tef'\n",
       "14. 'Kdm5a'\n",
       "15. 'Smarca4'\n",
       "16. 'Zmiz1'\n",
       "17. 'Bach2'\n",
       "18. 'Tcf4'\n",
       "19. 'Nr2c2'\n",
       "20. 'Taf1'\n",
       "21. 'Tcf12'\n",
       "22. 'Rfx3'\n",
       "23. 'Pou2f1'\n",
       "24. 'Atf2'\n",
       "25. 'Bcl11a'\n",
       "26. 'Nr3c1'\n",
       "27. 'Mef2a'\n",
       "28. 'Hmgn3'\n",
       "29. 'Supt20'\n",
       "30. 'Irf2'\n",
       "31. 'Junb'\n",
       "32. 'Pbx1'\n",
       "33. 'Creb3'\n",
       "34. 'Zmat4'\n",
       "35. 'Nr2f2'\n",
       "36. 'Esrra'\n",
       "37. 'Phf8'\n",
       "38. 'Klf13'\n",
       "39. 'Zfp148'\n",
       "40. 'Foxp2'\n",
       "41. 'Clock'\n",
       "42. 'Hdac2'\n",
       "43. 'Atf4'\n",
       "44. 'Esrrg'\n",
       "45. 'Cebpz'\n",
       "46. 'Arnt2'\n",
       "47. 'Arnt'\n",
       "48. 'Ctcf'\n",
       "49. 'Rora'\n",
       "50. 'Tcf7l2'\n",
       "51. 'Thra'\n",
       "52. 'Rfx7'\n",
       "53. 'Pbx3'\n",
       "54. 'Pknox2'\n",
       "55. 'Meis2'\n",
       "56. 'Kdm5b'\n",
       "57. 'Meis1'\n",
       "58. 'Sox5'\n",
       "59. 'Prdx5'\n",
       "60. 'Zfp846'\n",
       "61. 'Setbp1'\n",
       "62. 'Foxj3'\n",
       "63. 'Thrb'\n",
       "64. 'Dbp'\n",
       "65. 'Rcor1'\n",
       "66. 'Setdb1'\n",
       "67. 'Hlf'\n",
       "68. 'Mef2c'\n",
       "69. 'Sox11'\n",
       "70. 'Nf1'\n",
       "71. 'Egr1'\n",
       "72. 'Egr4'\n",
       "73. 'Fos'\n",
       "74. 'Runx2'\n",
       "75. 'Lef1'\n",
       "76. 'Zbtb16'\n",
       "77. 'Foxo1'\n",
       "\n",
       "\n"
      ],
      "text/plain": [
       " [1] \"Npdc1\"   \"Jund\"    \"Cux1\"    \"Bclaf1\"  \"Bmyc\"    \"Foxp1\"   \"Zeb1\"   \n",
       " [8] \"Nfe2l1\"  \"Ep300\"   \"Srebf2\"  \"Xbp1\"    \"Foxn3\"   \"Tef\"     \"Kdm5a\"  \n",
       "[15] \"Smarca4\" \"Zmiz1\"   \"Bach2\"   \"Tcf4\"    \"Nr2c2\"   \"Taf1\"    \"Tcf12\"  \n",
       "[22] \"Rfx3\"    \"Pou2f1\"  \"Atf2\"    \"Bcl11a\"  \"Nr3c1\"   \"Mef2a\"   \"Hmgn3\"  \n",
       "[29] \"Supt20\"  \"Irf2\"    \"Junb\"    \"Pbx1\"    \"Creb3\"   \"Zmat4\"   \"Nr2f2\"  \n",
       "[36] \"Esrra\"   \"Phf8\"    \"Klf13\"   \"Zfp148\"  \"Foxp2\"   \"Clock\"   \"Hdac2\"  \n",
       "[43] \"Atf4\"    \"Esrrg\"   \"Cebpz\"   \"Arnt2\"   \"Arnt\"    \"Ctcf\"    \"Rora\"   \n",
       "[50] \"Tcf7l2\"  \"Thra\"    \"Rfx7\"    \"Pbx3\"    \"Pknox2\"  \"Meis2\"   \"Kdm5b\"  \n",
       "[57] \"Meis1\"   \"Sox5\"    \"Prdx5\"   \"Zfp846\"  \"Setbp1\"  \"Foxj3\"   \"Thrb\"   \n",
       "[64] \"Dbp\"     \"Rcor1\"   \"Setdb1\"  \"Hlf\"     \"Mef2c\"   \"Sox11\"   \"Nf1\"    \n",
       "[71] \"Egr1\"    \"Egr4\"    \"Fos\"     \"Runx2\"   \"Lef1\"    \"Zbtb16\"  \"Foxo1\"  "
      ]
     },
     "metadata": {},
     "output_type": "display_data"
    }
   ],
   "source": [
    "df_important_TF.unique"
   ]
  },
  {
   "cell_type": "code",
   "execution_count": null,
   "metadata": {
    "vscode": {
     "languageId": "r"
    }
   },
   "outputs": [],
   "source": [
    "# for file in df_grns[:5]:\n",
    "#     region = file.split(\"adj_\")[1].split(\"_\")[0]\n",
    "#     gender = file.split(\".\")[0].split(\"_\")[-1]\n",
    "#     celltype = file.split(\"adj_\")[1].replace(f'_{gender}.tsv','')\n",
    "\n",
    "#     # region = 'TH'\n",
    "#     # gender = 'M'\n",
    "#     # celltype = 'Tnc_Adgrf5_Glut'\n",
    "#     df_grn = pd.read_csv(file, sep='\\t')\n",
    "# for loop to read GRN files\n",
    "# subset 5 files for testing\n",
    "df_grns <- df_grns[1:3]  # Adjust this line to read all files if needed\n",
    "for (file in df_grns) {\n",
    "  celltype <- gsub(\"^.*adj_([A-Za-z0-9_]+)_.*$\", \"\\\\1\", file) \n",
    "  gender <-gsub(\".*_([A-Za-z]+)\\\\.tsv\", \"\\\\1\", file)\n",
    "  region <- gsub(\"^.*adj_([A-Za-z0-9]+)_([A-Za-z0-9_]+).*$\", \"\\\\1\", file) \n",
    "\n",
    "  # if file already exists and overwrite is FALSE, skip\n",
    "  df_grn <- read.table(file, header = TRUE, sep = \"\\t\")\n",
    "\n",
    "  # filter the GRN dataframe to only include important TFs\n",
    "  df_grn <- df_grn[df_grn$TF %in% df_important_TF.unique, ]\n",
    "\n",
    "  for (tf in unique(df_grn$TF)) {\n",
    "\n",
    "      if (file.exists(paste(outdir, \"GO_enrichment\",celltype,gender,tf,\".csv\",sep = \"_\")) && !overwrite) {\n",
    "        next\n",
    "      }\n",
    "        tryCatch(\n",
    "        {\n",
    "          subset_df <- df_grn[df_grn$TF == tf, ]\n",
    "          gene_type_label = \"gene\"\n",
    "          gene_list <- unique(subset_df$target)\n",
    "          if(length(gene_list) > 0) {\n",
    "      \n",
    "            gostres <- gost(query = gene_list,\n",
    "                            organism = \"mmusculus\",\n",
    "                            sources = c(\"GO:MF\", \"GO:CC\", \"GO:BP\"),\n",
    "                            ordered_query = TRUE,\n",
    "                            significant = TRUE,\n",
    "                            user_threshold = 0.05,\n",
    "                            correction_method = \"g_SCS\",\n",
    "                            evcodes = TRUE)\n",
    "            \n",
    "            if(!is.null(gostres$result) && nrow(gostres$result) > 0) {\n",
    "              res <- gostres$result\n",
    "              res$celltype <- celltype\n",
    "              res$gene_type_group <- gene_type_label\n",
    "\n",
    "\n",
    "              for (col_name in names(res)) {\n",
    "                if (class(res[[col_name]]) == \"list\") {\n",
    "                  # Convert list elements to a single string, e.g., comma-separated\n",
    "                  res[[col_name]] <- sapply(res[[col_name]], function(x) paste(x, collapse = \"/\"))\n",
    "              }}\n",
    "              write.csv(res, file = paste(outdir, \"GO_enrichment\",celltype,gender,tf,\".csv\",sep = \"_\"), row.names = FALSE)\n",
    "\n",
    "              #all_results[[celltype]] <- res\n",
    "            } else {\n",
    "              cat(\"No enrichment results for gene_type =\", gene_type_label, \"celltype =\", celltype, \"\\n\")\n",
    "            }\n",
    "          } else {\n",
    "            cat(\"No genes for gene_type =\", gene_type_label, \"celltype =\", celltype, \"\\n\")\n",
    "          }\n",
    "        }, \n",
    "        error = function(e) {\n",
    "          print(paste(\"Error in subsetting data for\", celltype, gender))\n",
    "      })\n",
    "  }\n",
    "  \n",
    "}"
   ]
  },
  {
   "cell_type": "code",
   "execution_count": null,
   "metadata": {
    "vscode": {
     "languageId": "r"
    }
   },
   "outputs": [],
   "source": []
  },
  {
   "cell_type": "code",
   "execution_count": null,
   "metadata": {
    "vscode": {
     "languageId": "r"
    }
   },
   "outputs": [],
   "source": []
  },
  {
   "cell_type": "code",
   "execution_count": null,
   "metadata": {
    "vscode": {
     "languageId": "r"
    }
   },
   "outputs": [],
   "source": [
    "gene_type_label = \"gene\"\n",
    "all_results <- list()\n",
    "\n",
    "gene_list <- unique(subset_df$target)\n",
    "    \n",
    "    if(length(gene_list) > 0) {\n",
    "      \n",
    "      gostres <- gost(query = gene_list,\n",
    "                      organism = \"mmusculus\",\n",
    "                      sources = c(\"GO:MF\", \"GO:CC\", \"GO:BP\"),\n",
    "                      ordered_query = TRUE,\n",
    "                      significant = TRUE,\n",
    "                      user_threshold = 0.05,\n",
    "                      correction_method = \"g_SCS\",\n",
    "                      evcodes = TRUE)\n",
    "      \n",
    "      if(!is.null(gostres$result) && nrow(gostres$result) > 0) {\n",
    "        res <- gostres$result\n",
    "        res$celltype <- celltype\n",
    "        res$gene_type_group <- gene_type_label\n",
    "\n",
    "        #all_results[[celltype]] <- res\n",
    "      } else {\n",
    "        cat(\"No enrichment results for gene_type =\", gene_type_label, \"celltype =\", celltype, \"\\n\")\n",
    "      }\n",
    "    } else {\n",
    "      cat(\"No genes for gene_type =\", gene_type_label, \"celltype =\", celltype, \"\\n\")\n",
    "    }\n",
    "  \n",
    "  \n",
    "#   # 合并有效结果\n",
    "#   valid_results <- all_results[sapply(all_results, function(x) !is.null(x) && nrow(x) > 0)]\n",
    "#   if(length(valid_results) > 0) {\n",
    "#     do.call(rbind, valid_results)\n",
    "#   } else {\n",
    "#     cat(\"No enrichment results generated overall for gene_type =\", gene_type_label, \"\\n\")\n",
    "#     NULL\n",
    "#   }\n",
    "\n",
    "# valid_results$parents_str <- sapply(valid_results$parents, function(x) {\n",
    "#   if(length(x) == 0) return(NA)  # 如果为空，写NA\n",
    "#   paste(x, collapse = \";\")\n",
    "# })\n",
    "\n",
    "# valid_results$parents <- valid_results$parents_str\n",
    "# valid_results$parents_str <- NULL     "
   ]
  },
  {
   "cell_type": "code",
   "execution_count": null,
   "metadata": {
    "vscode": {
     "languageId": "r"
    }
   },
   "outputs": [],
   "source": [
    "#读取 DEG 数据 \n",
    "data = read.csv(\"all.markers_anno.csv\")\n",
    "\n",
    "data <- data[order(-abs(data$avg_log2FC)), ]\n",
    "\n",
    "data <- subset(data, \n",
    "              !grepl(\"^mt-\", gene, ignore.case = TRUE) &\n",
    "                !grepl(\"^Rp\", gene))\n",
    "\n",
    "\n",
    "data$celltype = data$cluster\n",
    "\n",
    "\n",
    "###############################################################################\n",
    "## 复用富集函数\n",
    "perform_enrichment <- function(sub_data, gene_type_label) {\n",
    "  all_results <- list()\n",
    "  \n",
    "  samples <- unique(sub_data$celltype)  # 按celltype分组\n",
    "  \n",
    "  for(smp in samples) {\n",
    "    cat(\"Processing gene_type =\", gene_type_label, \"celltype =\", smp, \"\\n\")\n",
    "    \n",
    "    subset_data <- subset(sub_data, celltype == smp & !is.na(gene))\n",
    "    gene_list <- unique(subset_data$gene)\n",
    "    \n",
    "    if(length(gene_list) > 0) {\n",
    "      \n",
    "      gostres <- gost(query = gene_list,\n",
    "                      organism = \"mmusculus\",\n",
    "                      sources = c(\"GO:MF\", \"GO:CC\", \"GO:BP\"),\n",
    "                      ordered_query = TRUE,\n",
    "                      significant = TRUE,\n",
    "                      user_threshold = 0.05,\n",
    "                      correction_method = \"g_SCS\",\n",
    "                      evcodes = TRUE)\n",
    "      \n",
    "      if(!is.null(gostres$result) && nrow(gostres$result) > 0) {\n",
    "        res <- gostres$result\n",
    "        res$celltype <- smp\n",
    "        res$gene_type_group <- gene_type_label\n",
    "        \n",
    "        all_results[[smp]] <- res\n",
    "      } else {\n",
    "        cat(\"No enrichment results for gene_type =\", gene_type_label, \"celltype =\", smp, \"\\n\")\n",
    "      }\n",
    "    } else {\n",
    "      cat(\"No genes for gene_type =\", gene_type_label, \"celltype =\", smp, \"\\n\")\n",
    "    }\n",
    "  }\n",
    "  \n",
    "  # 合并有效结果\n",
    "  valid_results <- all_results[sapply(all_results, function(x) !is.null(x) && nrow(x) > 0)]\n",
    "  if(length(valid_results) > 0) {\n",
    "    do.call(rbind, valid_results)\n",
    "  } else {\n",
    "    cat(\"No enrichment results generated overall for gene_type =\", gene_type_label, \"\\n\")\n",
    "    NULL\n",
    "  }\n",
    "}\n",
    "\n",
    "go_results <- perform_enrichment(data, \"gene\")\n",
    "\n",
    "\n",
    "\n",
    "go_results$parents <- go_results$parents_str\n",
    "go_results$parents_str <- NULL"
   ]
  },
  {
   "cell_type": "code",
   "execution_count": null,
   "metadata": {
    "vscode": {
     "languageId": "r"
    }
   },
   "outputs": [
    {
     "name": "stdout",
     "output_type": "stream",
     "text": [
      "[1] \"Processing: AMY_Ccdc3_Acvr1c_Glut F\"\n",
      "[1] \"Number of genes: 5975\"\n"
     ]
    },
    {
     "name": "stderr",
     "output_type": "stream",
     "text": [
      "'select()' returned 1:1 mapping between keys and columns\n",
      "\n",
      "Warning message in bitr(unique(subset_df$target), fromType = \"SYMBOL\", toType = \"ENTREZID\", :\n",
      "“11.26% of input gene IDs are fail to map...”\n",
      "Reading KEGG annotation online: \"https://rest.kegg.jp/link/mmu/pathway\"...\n",
      "\n",
      "Reading KEGG annotation online: \"https://rest.kegg.jp/list/pathway/mmu\"...\n",
      "\n"
     ]
    },
    {
     "name": "stdout",
     "output_type": "stream",
     "text": [
      "[1] \"Processing: AMY_Ccdc3_Acvr1c_Glut F\"\n",
      "[1] \"Number of genes: 2764\"\n"
     ]
    },
    {
     "name": "stderr",
     "output_type": "stream",
     "text": [
      "'select()' returned 1:1 mapping between keys and columns\n",
      "\n",
      "Warning message in bitr(unique(subset_df$target), fromType = \"SYMBOL\", toType = \"ENTREZID\", :\n",
      "“11.47% of input gene IDs are fail to map...”\n"
     ]
    },
    {
     "name": "stdout",
     "output_type": "stream",
     "text": [
      "[1] \"Processing: AMY_Ccdc3_Acvr1c_Glut F\"\n",
      "[1] \"Number of genes: 3915\"\n"
     ]
    },
    {
     "name": "stderr",
     "output_type": "stream",
     "text": [
      "'select()' returned 1:1 mapping between keys and columns\n",
      "\n",
      "Warning message in bitr(unique(subset_df$target), fromType = \"SYMBOL\", toType = \"ENTREZID\", :\n",
      "“11.34% of input gene IDs are fail to map...”\n"
     ]
    },
    {
     "name": "stdout",
     "output_type": "stream",
     "text": [
      "[1] \"Processing: AMY_Ccdc3_Acvr1c_Glut F\"\n",
      "[1] \"Number of genes: 1054\"\n"
     ]
    },
    {
     "name": "stderr",
     "output_type": "stream",
     "text": [
      "'select()' returned 1:1 mapping between keys and columns\n",
      "\n",
      "Warning message in bitr(unique(subset_df$target), fromType = \"SYMBOL\", toType = \"ENTREZID\", :\n",
      "“14.23% of input gene IDs are fail to map...”\n",
      "Warning message in rep(yes, length.out = len):\n",
      "“'x' is NULL so the result will be NULL”\n"
     ]
    },
    {
     "name": "stdout",
     "output_type": "stream",
     "text": [
      "[1] \"Error in subsetting data for AMY_Ccdc3_Acvr1c_Glut F\"\n",
      "[1] \"Processing: AMY_Ccdc3_Acvr1c_Glut F\"\n",
      "[1] \"Number of genes: 1306\"\n"
     ]
    },
    {
     "name": "stderr",
     "output_type": "stream",
     "text": [
      "'select()' returned 1:1 mapping between keys and columns\n",
      "\n",
      "Warning message in bitr(unique(subset_df$target), fromType = \"SYMBOL\", toType = \"ENTREZID\", :\n",
      "“12.86% of input gene IDs are fail to map...”\n"
     ]
    },
    {
     "name": "stdout",
     "output_type": "stream",
     "text": [
      "[1] \"Processing: AMY_Ccdc3_Acvr1c_Glut F\"\n",
      "[1] \"Number of genes: 5214\"\n"
     ]
    },
    {
     "name": "stderr",
     "output_type": "stream",
     "text": [
      "'select()' returned 1:1 mapping between keys and columns\n",
      "\n",
      "Warning message in bitr(unique(subset_df$target), fromType = \"SYMBOL\", toType = \"ENTREZID\", :\n",
      "“10.4% of input gene IDs are fail to map...”\n"
     ]
    },
    {
     "name": "stdout",
     "output_type": "stream",
     "text": [
      "[1] \"Processing: AMY_Ccdc3_Acvr1c_Glut F\"\n",
      "[1] \"Number of genes: 2181\"\n"
     ]
    },
    {
     "name": "stderr",
     "output_type": "stream",
     "text": [
      "'select()' returned 1:1 mapping between keys and columns\n",
      "\n",
      "Warning message in bitr(unique(subset_df$target), fromType = \"SYMBOL\", toType = \"ENTREZID\", :\n",
      "“10.18% of input gene IDs are fail to map...”\n"
     ]
    },
    {
     "name": "stdout",
     "output_type": "stream",
     "text": [
      "[1] \"Processing: AMY_Ccdc3_Acvr1c_Glut F\"\n",
      "[1] \"Number of genes: 5317\"\n"
     ]
    },
    {
     "name": "stderr",
     "output_type": "stream",
     "text": [
      "'select()' returned 1:1 mapping between keys and columns\n",
      "\n",
      "Warning message in bitr(unique(subset_df$target), fromType = \"SYMBOL\", toType = \"ENTREZID\", :\n",
      "“11.23% of input gene IDs are fail to map...”\n"
     ]
    },
    {
     "name": "stdout",
     "output_type": "stream",
     "text": [
      "[1] \"Processing: AMY_Ccdc3_Acvr1c_Glut F\"\n",
      "[1] \"Number of genes: 4331\"\n"
     ]
    },
    {
     "name": "stderr",
     "output_type": "stream",
     "text": [
      "'select()' returned 1:1 mapping between keys and columns\n",
      "\n",
      "Warning message in bitr(unique(subset_df$target), fromType = \"SYMBOL\", toType = \"ENTREZID\", :\n",
      "“8.34% of input gene IDs are fail to map...”\n"
     ]
    },
    {
     "name": "stdout",
     "output_type": "stream",
     "text": [
      "[1] \"Processing: AMY_Ccdc3_Acvr1c_Glut F\"\n",
      "[1] \"Number of genes: 2393\"\n"
     ]
    },
    {
     "name": "stderr",
     "output_type": "stream",
     "text": [
      "'select()' returned 1:1 mapping between keys and columns\n",
      "\n",
      "Warning message in bitr(unique(subset_df$target), fromType = \"SYMBOL\", toType = \"ENTREZID\", :\n",
      "“10.49% of input gene IDs are fail to map...”\n"
     ]
    },
    {
     "name": "stdout",
     "output_type": "stream",
     "text": [
      "[1] \"Processing: AMY_Ccdc3_Acvr1c_Glut F\"\n",
      "[1] \"Number of genes: 829\"\n"
     ]
    },
    {
     "name": "stderr",
     "output_type": "stream",
     "text": [
      "'select()' returned 1:1 mapping between keys and columns\n",
      "\n",
      "Warning message in bitr(unique(subset_df$target), fromType = \"SYMBOL\", toType = \"ENTREZID\", :\n",
      "“13.39% of input gene IDs are fail to map...”\n",
      "Warning message in rep(yes, length.out = len):\n",
      "“'x' is NULL so the result will be NULL”\n"
     ]
    },
    {
     "name": "stdout",
     "output_type": "stream",
     "text": [
      "[1] \"Error in subsetting data for AMY_Ccdc3_Acvr1c_Glut F\"\n",
      "[1] \"Processing: AMY_Ccdc3_Acvr1c_Glut F\"\n",
      "[1] \"Number of genes: 5659\"\n"
     ]
    },
    {
     "name": "stderr",
     "output_type": "stream",
     "text": [
      "'select()' returned 1:1 mapping between keys and columns\n",
      "\n",
      "Warning message in bitr(unique(subset_df$target), fromType = \"SYMBOL\", toType = \"ENTREZID\", :\n",
      "“11.26% of input gene IDs are fail to map...”\n"
     ]
    },
    {
     "name": "stdout",
     "output_type": "stream",
     "text": [
      "[1] \"Processing: AMY_Ccdc3_Acvr1c_Glut F\"\n",
      "[1] \"Number of genes: 2982\"\n"
     ]
    },
    {
     "name": "stderr",
     "output_type": "stream",
     "text": [
      "'select()' returned 1:1 mapping between keys and columns\n",
      "\n",
      "Warning message in bitr(unique(subset_df$target), fromType = \"SYMBOL\", toType = \"ENTREZID\", :\n",
      "“10.09% of input gene IDs are fail to map...”\n"
     ]
    },
    {
     "name": "stdout",
     "output_type": "stream",
     "text": [
      "[1] \"Processing: AMY_Ccdc3_Acvr1c_Glut F\"\n",
      "[1] \"Number of genes: 2929\"\n"
     ]
    },
    {
     "name": "stderr",
     "output_type": "stream",
     "text": [
      "'select()' returned 1:1 mapping between keys and columns\n",
      "\n",
      "Warning message in bitr(unique(subset_df$target), fromType = \"SYMBOL\", toType = \"ENTREZID\", :\n",
      "“11.88% of input gene IDs are fail to map...”\n"
     ]
    },
    {
     "name": "stdout",
     "output_type": "stream",
     "text": [
      "[1] \"Processing: AMY_Ccdc3_Acvr1c_Glut F\"\n",
      "[1] \"Number of genes: 3536\"\n"
     ]
    },
    {
     "name": "stderr",
     "output_type": "stream",
     "text": [
      "'select()' returned 1:1 mapping between keys and columns\n",
      "\n",
      "Warning message in bitr(unique(subset_df$target), fromType = \"SYMBOL\", toType = \"ENTREZID\", :\n",
      "“11.57% of input gene IDs are fail to map...”\n"
     ]
    },
    {
     "name": "stdout",
     "output_type": "stream",
     "text": [
      "[1] \"Processing: AMY_Ccdc3_Acvr1c_Glut F\"\n",
      "[1] \"Number of genes: 2742\"\n"
     ]
    },
    {
     "name": "stderr",
     "output_type": "stream",
     "text": [
      "'select()' returned 1:1 mapping between keys and columns\n",
      "\n",
      "Warning message in bitr(unique(subset_df$target), fromType = \"SYMBOL\", toType = \"ENTREZID\", :\n",
      "“10.28% of input gene IDs are fail to map...”\n"
     ]
    },
    {
     "name": "stdout",
     "output_type": "stream",
     "text": [
      "[1] \"Processing: AMY_Ccdc3_Acvr1c_Glut F\"\n",
      "[1] \"Number of genes: 2684\"\n"
     ]
    },
    {
     "name": "stderr",
     "output_type": "stream",
     "text": [
      "'select()' returned 1:1 mapping between keys and columns\n",
      "\n",
      "Warning message in bitr(unique(subset_df$target), fromType = \"SYMBOL\", toType = \"ENTREZID\", :\n",
      "“10.88% of input gene IDs are fail to map...”\n",
      "Warning message in rep(yes, length.out = len):\n",
      "“'x' is NULL so the result will be NULL”\n"
     ]
    },
    {
     "name": "stdout",
     "output_type": "stream",
     "text": [
      "[1] \"Error in subsetting data for AMY_Ccdc3_Acvr1c_Glut F\"\n",
      "[1] \"Processing: AMY_Ccdc3_Acvr1c_Glut F\"\n",
      "[1] \"Number of genes: 1933\"\n"
     ]
    },
    {
     "name": "stderr",
     "output_type": "stream",
     "text": [
      "'select()' returned 1:1 mapping between keys and columns\n",
      "\n",
      "Warning message in bitr(unique(subset_df$target), fromType = \"SYMBOL\", toType = \"ENTREZID\", :\n",
      "“9.93% of input gene IDs are fail to map...”\n"
     ]
    },
    {
     "name": "stdout",
     "output_type": "stream",
     "text": [
      "[1] \"Processing: AMY_Ccdc3_Acvr1c_Glut F\"\n",
      "[1] \"Number of genes: 5022\"\n"
     ]
    },
    {
     "name": "stderr",
     "output_type": "stream",
     "text": [
      "'select()' returned 1:1 mapping between keys and columns\n",
      "\n",
      "Warning message in bitr(unique(subset_df$target), fromType = \"SYMBOL\", toType = \"ENTREZID\", :\n",
      "“10.41% of input gene IDs are fail to map...”\n"
     ]
    },
    {
     "name": "stdout",
     "output_type": "stream",
     "text": [
      "[1] \"Processing: AMY_Ccdc3_Acvr1c_Glut F\"\n",
      "[1] \"Number of genes: 3405\"\n"
     ]
    },
    {
     "name": "stderr",
     "output_type": "stream",
     "text": [
      "'select()' returned 1:1 mapping between keys and columns\n",
      "\n",
      "Warning message in bitr(unique(subset_df$target), fromType = \"SYMBOL\", toType = \"ENTREZID\", :\n",
      "“9.81% of input gene IDs are fail to map...”\n"
     ]
    },
    {
     "name": "stdout",
     "output_type": "stream",
     "text": [
      "[1] \"Processing: AMY_Ccdc3_Acvr1c_Glut F\"\n",
      "[1] \"Number of genes: 3604\"\n"
     ]
    },
    {
     "name": "stderr",
     "output_type": "stream",
     "text": [
      "'select()' returned 1:1 mapping between keys and columns\n",
      "\n",
      "Warning message in bitr(unique(subset_df$target), fromType = \"SYMBOL\", toType = \"ENTREZID\", :\n",
      "“10.38% of input gene IDs are fail to map...”\n"
     ]
    },
    {
     "name": "stdout",
     "output_type": "stream",
     "text": [
      "[1] \"Processing: AMY_Ccdc3_Acvr1c_Glut F\"\n",
      "[1] \"Number of genes: 2008\"\n"
     ]
    },
    {
     "name": "stderr",
     "output_type": "stream",
     "text": [
      "'select()' returned 1:1 mapping between keys and columns\n",
      "\n",
      "Warning message in bitr(unique(subset_df$target), fromType = \"SYMBOL\", toType = \"ENTREZID\", :\n",
      "“11.16% of input gene IDs are fail to map...”\n"
     ]
    },
    {
     "name": "stdout",
     "output_type": "stream",
     "text": [
      "[1] \"Processing: AMY_Ccdc3_Acvr1c_Glut F\"\n",
      "[1] \"Number of genes: 916\"\n"
     ]
    },
    {
     "name": "stderr",
     "output_type": "stream",
     "text": [
      "'select()' returned 1:1 mapping between keys and columns\n",
      "\n",
      "Warning message in bitr(unique(subset_df$target), fromType = \"SYMBOL\", toType = \"ENTREZID\", :\n",
      "“16.16% of input gene IDs are fail to map...”\n"
     ]
    },
    {
     "name": "stdout",
     "output_type": "stream",
     "text": [
      "[1] \"Processing: AMY_Ccdc3_Acvr1c_Glut F\"\n",
      "[1] \"Number of genes: 1895\"\n"
     ]
    },
    {
     "name": "stderr",
     "output_type": "stream",
     "text": [
      "'select()' returned 1:1 mapping between keys and columns\n",
      "\n",
      "Warning message in bitr(unique(subset_df$target), fromType = \"SYMBOL\", toType = \"ENTREZID\", :\n",
      "“12.19% of input gene IDs are fail to map...”\n"
     ]
    },
    {
     "name": "stdout",
     "output_type": "stream",
     "text": [
      "[1] \"Processing: AMY_Ccdc3_Acvr1c_Glut F\"\n",
      "[1] \"Number of genes: 3582\"\n"
     ]
    },
    {
     "name": "stderr",
     "output_type": "stream",
     "text": [
      "'select()' returned 1:1 mapping between keys and columns\n",
      "\n",
      "Warning message in bitr(unique(subset_df$target), fromType = \"SYMBOL\", toType = \"ENTREZID\", :\n",
      "“10.78% of input gene IDs are fail to map...”\n"
     ]
    },
    {
     "name": "stdout",
     "output_type": "stream",
     "text": [
      "[1] \"Processing: AMY_Ccdc3_Acvr1c_Glut F\"\n",
      "[1] \"Number of genes: 1799\"\n"
     ]
    },
    {
     "name": "stderr",
     "output_type": "stream",
     "text": [
      "'select()' returned 1:1 mapping between keys and columns\n",
      "\n",
      "Warning message in bitr(unique(subset_df$target), fromType = \"SYMBOL\", toType = \"ENTREZID\", :\n",
      "“12.4% of input gene IDs are fail to map...”\n"
     ]
    },
    {
     "name": "stdout",
     "output_type": "stream",
     "text": [
      "[1] \"Processing: AMY_Ccdc3_Acvr1c_Glut F\"\n",
      "[1] \"Number of genes: 2081\"\n"
     ]
    },
    {
     "name": "stderr",
     "output_type": "stream",
     "text": [
      "'select()' returned 1:1 mapping between keys and columns\n",
      "\n",
      "Warning message in bitr(unique(subset_df$target), fromType = \"SYMBOL\", toType = \"ENTREZID\", :\n",
      "“11.29% of input gene IDs are fail to map...”\n",
      "Warning message in rep(yes, length.out = len):\n",
      "“'x' is NULL so the result will be NULL”\n"
     ]
    },
    {
     "name": "stdout",
     "output_type": "stream",
     "text": [
      "[1] \"Error in subsetting data for AMY_Ccdc3_Acvr1c_Glut F\"\n",
      "[1] \"Processing: AMY_Ccdc3_Acvr1c_Glut F\"\n",
      "[1] \"Number of genes: 2482\"\n"
     ]
    },
    {
     "name": "stderr",
     "output_type": "stream",
     "text": [
      "'select()' returned 1:1 mapping between keys and columns\n",
      "\n",
      "Warning message in bitr(unique(subset_df$target), fromType = \"SYMBOL\", toType = \"ENTREZID\", :\n",
      "“10.52% of input gene IDs are fail to map...”\n"
     ]
    },
    {
     "name": "stdout",
     "output_type": "stream",
     "text": [
      "[1] \"Processing: AMY_Ccdc3_Acvr1c_Glut F\"\n",
      "[1] \"Number of genes: 2845\"\n"
     ]
    },
    {
     "name": "stderr",
     "output_type": "stream",
     "text": [
      "'select()' returned 1:1 mapping between keys and columns\n",
      "\n",
      "Warning message in bitr(unique(subset_df$target), fromType = \"SYMBOL\", toType = \"ENTREZID\", :\n",
      "“8.33% of input gene IDs are fail to map...”\n"
     ]
    },
    {
     "name": "stdout",
     "output_type": "stream",
     "text": [
      "[1] \"Processing: AMY_Ccdc3_Acvr1c_Glut F\"\n",
      "[1] \"Number of genes: 2111\"\n"
     ]
    },
    {
     "name": "stderr",
     "output_type": "stream",
     "text": [
      "'select()' returned 1:1 mapping between keys and columns\n",
      "\n",
      "Warning message in bitr(unique(subset_df$target), fromType = \"SYMBOL\", toType = \"ENTREZID\", :\n",
      "“11.51% of input gene IDs are fail to map...”\n",
      "Warning message in rep(yes, length.out = len):\n",
      "“'x' is NULL so the result will be NULL”\n"
     ]
    },
    {
     "name": "stdout",
     "output_type": "stream",
     "text": [
      "[1] \"Error in subsetting data for AMY_Ccdc3_Acvr1c_Glut F\"\n",
      "[1] \"Processing: AMY_Ccdc3_Acvr1c_Glut F\"\n",
      "[1] \"Number of genes: 1337\"\n"
     ]
    },
    {
     "name": "stderr",
     "output_type": "stream",
     "text": [
      "'select()' returned 1:1 mapping between keys and columns\n",
      "\n",
      "Warning message in bitr(unique(subset_df$target), fromType = \"SYMBOL\", toType = \"ENTREZID\", :\n",
      "“14.36% of input gene IDs are fail to map...”\n",
      "Warning message in rep(yes, length.out = len):\n",
      "“'x' is NULL so the result will be NULL”\n"
     ]
    },
    {
     "name": "stdout",
     "output_type": "stream",
     "text": [
      "[1] \"Error in subsetting data for AMY_Ccdc3_Acvr1c_Glut F\"\n",
      "[1] \"Processing: AMY_Ccdc3_Acvr1c_Glut F\"\n",
      "[1] \"Number of genes: 5708\"\n"
     ]
    },
    {
     "name": "stderr",
     "output_type": "stream",
     "text": [
      "'select()' returned 1:1 mapping between keys and columns\n",
      "\n",
      "Warning message in bitr(unique(subset_df$target), fromType = \"SYMBOL\", toType = \"ENTREZID\", :\n",
      "“10.81% of input gene IDs are fail to map...”\n"
     ]
    },
    {
     "name": "stdout",
     "output_type": "stream",
     "text": [
      "[1] \"Processing: AMY_Ccdc3_Acvr1c_Glut F\"\n",
      "[1] \"Number of genes: 2995\"\n"
     ]
    },
    {
     "name": "stderr",
     "output_type": "stream",
     "text": [
      "'select()' returned 1:1 mapping between keys and columns\n",
      "\n",
      "Warning message in bitr(unique(subset_df$target), fromType = \"SYMBOL\", toType = \"ENTREZID\", :\n",
      "“9.98% of input gene IDs are fail to map...”\n"
     ]
    },
    {
     "name": "stdout",
     "output_type": "stream",
     "text": [
      "[1] \"Processing: AMY_Ccdc3_Acvr1c_Glut F\"\n",
      "[1] \"Number of genes: 2970\"\n"
     ]
    },
    {
     "name": "stderr",
     "output_type": "stream",
     "text": [
      "'select()' returned 1:1 mapping between keys and columns\n",
      "\n",
      "Warning message in bitr(unique(subset_df$target), fromType = \"SYMBOL\", toType = \"ENTREZID\", :\n",
      "“10.71% of input gene IDs are fail to map...”\n"
     ]
    },
    {
     "name": "stdout",
     "output_type": "stream",
     "text": [
      "[1] \"Processing: AMY_Ccdc3_Acvr1c_Glut F\"\n",
      "[1] \"Number of genes: 3734\"\n"
     ]
    },
    {
     "name": "stderr",
     "output_type": "stream",
     "text": [
      "'select()' returned 1:1 mapping between keys and columns\n",
      "\n",
      "Warning message in bitr(unique(subset_df$target), fromType = \"SYMBOL\", toType = \"ENTREZID\", :\n",
      "“10.87% of input gene IDs are fail to map...”\n"
     ]
    },
    {
     "name": "stdout",
     "output_type": "stream",
     "text": [
      "[1] \"Processing: AMY_Ccdc3_Acvr1c_Glut F\"\n",
      "[1] \"Number of genes: 1904\"\n"
     ]
    },
    {
     "name": "stderr",
     "output_type": "stream",
     "text": [
      "'select()' returned 1:1 mapping between keys and columns\n",
      "\n",
      "Warning message in bitr(unique(subset_df$target), fromType = \"SYMBOL\", toType = \"ENTREZID\", :\n",
      "“11.4% of input gene IDs are fail to map...”\n"
     ]
    },
    {
     "name": "stdout",
     "output_type": "stream",
     "text": [
      "[1] \"Processing: AMY_Ccdc3_Acvr1c_Glut F\"\n",
      "[1] \"Number of genes: 3419\"\n"
     ]
    },
    {
     "name": "stderr",
     "output_type": "stream",
     "text": [
      "'select()' returned 1:1 mapping between keys and columns\n",
      "\n",
      "Warning message in bitr(unique(subset_df$target), fromType = \"SYMBOL\", toType = \"ENTREZID\", :\n",
      "“10.18% of input gene IDs are fail to map...”\n"
     ]
    },
    {
     "name": "stdout",
     "output_type": "stream",
     "text": [
      "[1] \"Processing: AMY_Ccdc3_Acvr1c_Glut F\"\n",
      "[1] \"Number of genes: 2617\"\n"
     ]
    },
    {
     "name": "stderr",
     "output_type": "stream",
     "text": [
      "'select()' returned 1:1 mapping between keys and columns\n",
      "\n",
      "Warning message in bitr(unique(subset_df$target), fromType = \"SYMBOL\", toType = \"ENTREZID\", :\n",
      "“11.46% of input gene IDs are fail to map...”\n"
     ]
    },
    {
     "name": "stdout",
     "output_type": "stream",
     "text": [
      "[1] \"Processing: AMY_Ccdc3_Acvr1c_Glut F\"\n",
      "[1] \"Number of genes: 2465\"\n"
     ]
    },
    {
     "name": "stderr",
     "output_type": "stream",
     "text": [
      "'select()' returned 1:1 mapping between keys and columns\n",
      "\n",
      "Warning message in bitr(unique(subset_df$target), fromType = \"SYMBOL\", toType = \"ENTREZID\", :\n",
      "“11.56% of input gene IDs are fail to map...”\n"
     ]
    },
    {
     "name": "stdout",
     "output_type": "stream",
     "text": [
      "[1] \"Processing: AMY_Ccdc3_Acvr1c_Glut F\"\n",
      "[1] \"Number of genes: 2398\"\n"
     ]
    },
    {
     "name": "stderr",
     "output_type": "stream",
     "text": [
      "'select()' returned 1:1 mapping between keys and columns\n",
      "\n",
      "Warning message in bitr(unique(subset_df$target), fromType = \"SYMBOL\", toType = \"ENTREZID\", :\n",
      "“10.13% of input gene IDs are fail to map...”\n"
     ]
    },
    {
     "name": "stdout",
     "output_type": "stream",
     "text": [
      "[1] \"Processing: AMY_Ccdc3_Acvr1c_Glut F\"\n",
      "[1] \"Number of genes: 2097\"\n"
     ]
    },
    {
     "name": "stderr",
     "output_type": "stream",
     "text": [
      "'select()' returned 1:1 mapping between keys and columns\n",
      "\n",
      "Warning message in bitr(unique(subset_df$target), fromType = \"SYMBOL\", toType = \"ENTREZID\", :\n",
      "“11.21% of input gene IDs are fail to map...”\n"
     ]
    },
    {
     "name": "stdout",
     "output_type": "stream",
     "text": [
      "[1] \"Processing: AMY_Ccdc3_Acvr1c_Glut F\"\n",
      "[1] \"Number of genes: 2675\"\n"
     ]
    },
    {
     "name": "stderr",
     "output_type": "stream",
     "text": [
      "'select()' returned 1:1 mapping between keys and columns\n",
      "\n",
      "Warning message in bitr(unique(subset_df$target), fromType = \"SYMBOL\", toType = \"ENTREZID\", :\n",
      "“11.63% of input gene IDs are fail to map...”\n"
     ]
    },
    {
     "name": "stdout",
     "output_type": "stream",
     "text": [
      "[1] \"Processing: AMY_Ccdc3_Acvr1c_Glut F\"\n",
      "[1] \"Number of genes: 876\"\n"
     ]
    },
    {
     "name": "stderr",
     "output_type": "stream",
     "text": [
      "'select()' returned 1:1 mapping between keys and columns\n",
      "\n",
      "Warning message in bitr(unique(subset_df$target), fromType = \"SYMBOL\", toType = \"ENTREZID\", :\n",
      "“15.98% of input gene IDs are fail to map...”\n",
      "Warning message in rep(yes, length.out = len):\n",
      "“'x' is NULL so the result will be NULL”\n"
     ]
    },
    {
     "name": "stdout",
     "output_type": "stream",
     "text": [
      "[1] \"Error in subsetting data for AMY_Ccdc3_Acvr1c_Glut F\"\n",
      "[1] \"Processing: AMY_Ccdc3_Acvr1c_Glut F\"\n",
      "[1] \"Number of genes: 2510\"\n"
     ]
    },
    {
     "name": "stderr",
     "output_type": "stream",
     "text": [
      "'select()' returned 1:1 mapping between keys and columns\n",
      "\n",
      "Warning message in bitr(unique(subset_df$target), fromType = \"SYMBOL\", toType = \"ENTREZID\", :\n",
      "“12.19% of input gene IDs are fail to map...”\n",
      "Warning message in rep(yes, length.out = len):\n",
      "“'x' is NULL so the result will be NULL”\n"
     ]
    },
    {
     "name": "stdout",
     "output_type": "stream",
     "text": [
      "[1] \"Error in subsetting data for AMY_Ccdc3_Acvr1c_Glut F\"\n",
      "[1] \"Processing: AMY_Ccdc3_Acvr1c_Glut F\"\n",
      "[1] \"Number of genes: 2023\"\n"
     ]
    },
    {
     "name": "stderr",
     "output_type": "stream",
     "text": [
      "'select()' returned 1:1 mapping between keys and columns\n",
      "\n",
      "Warning message in bitr(unique(subset_df$target), fromType = \"SYMBOL\", toType = \"ENTREZID\", :\n",
      "“9.69% of input gene IDs are fail to map...”\n"
     ]
    },
    {
     "name": "stdout",
     "output_type": "stream",
     "text": [
      "[1] \"Processing: AMY_Ccdc3_Acvr1c_Glut F\"\n",
      "[1] \"Number of genes: 1765\"\n"
     ]
    },
    {
     "name": "stderr",
     "output_type": "stream",
     "text": [
      "'select()' returned 1:1 mapping between keys and columns\n",
      "\n",
      "Warning message in bitr(unique(subset_df$target), fromType = \"SYMBOL\", toType = \"ENTREZID\", :\n",
      "“11.16% of input gene IDs are fail to map...”\n"
     ]
    },
    {
     "name": "stdout",
     "output_type": "stream",
     "text": [
      "[1] \"Processing: AMY_Ccdc3_Acvr1c_Glut F\"\n",
      "[1] \"Number of genes: 3438\"\n"
     ]
    },
    {
     "name": "stderr",
     "output_type": "stream",
     "text": [
      "'select()' returned 1:1 mapping between keys and columns\n",
      "\n",
      "Warning message in bitr(unique(subset_df$target), fromType = \"SYMBOL\", toType = \"ENTREZID\", :\n",
      "“11.58% of input gene IDs are fail to map...”\n"
     ]
    },
    {
     "name": "stdout",
     "output_type": "stream",
     "text": [
      "[1] \"Processing: AMY_Ccdc3_Acvr1c_Glut F\"\n",
      "[1] \"Number of genes: 2860\"\n"
     ]
    },
    {
     "name": "stderr",
     "output_type": "stream",
     "text": [
      "'select()' returned 1:1 mapping between keys and columns\n",
      "\n",
      "Warning message in bitr(unique(subset_df$target), fromType = \"SYMBOL\", toType = \"ENTREZID\", :\n",
      "“11.99% of input gene IDs are fail to map...”\n"
     ]
    },
    {
     "name": "stdout",
     "output_type": "stream",
     "text": [
      "[1] \"Processing: AMY_Ccdc3_Acvr1c_Glut F\"\n",
      "[1] \"Number of genes: 3656\"\n"
     ]
    },
    {
     "name": "stderr",
     "output_type": "stream",
     "text": [
      "'select()' returned 1:1 mapping between keys and columns\n",
      "\n",
      "Warning message in bitr(unique(subset_df$target), fromType = \"SYMBOL\", toType = \"ENTREZID\", :\n",
      "“10.45% of input gene IDs are fail to map...”\n"
     ]
    },
    {
     "name": "stdout",
     "output_type": "stream",
     "text": [
      "[1] \"Processing: AMY_Ccdc3_Acvr1c_Glut F\"\n",
      "[1] \"Number of genes: 1804\"\n"
     ]
    },
    {
     "name": "stderr",
     "output_type": "stream",
     "text": [
      "'select()' returned 1:1 mapping between keys and columns\n",
      "\n",
      "Warning message in bitr(unique(subset_df$target), fromType = \"SYMBOL\", toType = \"ENTREZID\", :\n",
      "“10.25% of input gene IDs are fail to map...”\n"
     ]
    },
    {
     "name": "stdout",
     "output_type": "stream",
     "text": [
      "[1] \"Processing: AMY_Ccdc3_Acvr1c_Glut F\"\n",
      "[1] \"Number of genes: 2413\"\n"
     ]
    },
    {
     "name": "stderr",
     "output_type": "stream",
     "text": [
      "'select()' returned 1:1 mapping between keys and columns\n",
      "\n",
      "Warning message in bitr(unique(subset_df$target), fromType = \"SYMBOL\", toType = \"ENTREZID\", :\n",
      "“11.89% of input gene IDs are fail to map...”\n"
     ]
    },
    {
     "name": "stdout",
     "output_type": "stream",
     "text": [
      "[1] \"Processing: AMY_Ccdc3_Acvr1c_Glut F\"\n",
      "[1] \"Number of genes: 3514\"\n"
     ]
    },
    {
     "name": "stderr",
     "output_type": "stream",
     "text": [
      "'select()' returned 1:1 mapping between keys and columns\n",
      "\n",
      "Warning message in bitr(unique(subset_df$target), fromType = \"SYMBOL\", toType = \"ENTREZID\", :\n",
      "“9.59% of input gene IDs are fail to map...”\n"
     ]
    },
    {
     "name": "stdout",
     "output_type": "stream",
     "text": [
      "[1] \"Processing: AMY_Ccdc3_Acvr1c_Glut F\"\n",
      "[1] \"Number of genes: 1021\"\n"
     ]
    },
    {
     "name": "stderr",
     "output_type": "stream",
     "text": [
      "'select()' returned 1:1 mapping between keys and columns\n",
      "\n",
      "Warning message in bitr(unique(subset_df$target), fromType = \"SYMBOL\", toType = \"ENTREZID\", :\n",
      "“15.38% of input gene IDs are fail to map...”\n"
     ]
    },
    {
     "name": "stdout",
     "output_type": "stream",
     "text": [
      "[1] \"Processing: AMY_Ccdc3_Acvr1c_Glut F\"\n",
      "[1] \"Number of genes: 2655\"\n"
     ]
    },
    {
     "name": "stderr",
     "output_type": "stream",
     "text": [
      "'select()' returned 1:1 mapping between keys and columns\n",
      "\n",
      "Warning message in bitr(unique(subset_df$target), fromType = \"SYMBOL\", toType = \"ENTREZID\", :\n",
      "“10.06% of input gene IDs are fail to map...”\n"
     ]
    },
    {
     "name": "stdout",
     "output_type": "stream",
     "text": [
      "[1] \"Processing: AMY_Ccdc3_Acvr1c_Glut F\"\n",
      "[1] \"Number of genes: 1070\"\n"
     ]
    },
    {
     "name": "stderr",
     "output_type": "stream",
     "text": [
      "'select()' returned 1:1 mapping between keys and columns\n",
      "\n",
      "Warning message in bitr(unique(subset_df$target), fromType = \"SYMBOL\", toType = \"ENTREZID\", :\n",
      "“14.3% of input gene IDs are fail to map...”\n"
     ]
    },
    {
     "name": "stdout",
     "output_type": "stream",
     "text": [
      "[1] \"Processing: AMY_Ccdc3_Acvr1c_Glut F\"\n",
      "[1] \"Number of genes: 4383\"\n"
     ]
    },
    {
     "name": "stderr",
     "output_type": "stream",
     "text": [
      "'select()' returned 1:1 mapping between keys and columns\n",
      "\n",
      "Warning message in bitr(unique(subset_df$target), fromType = \"SYMBOL\", toType = \"ENTREZID\", :\n",
      "“10.72% of input gene IDs are fail to map...”\n"
     ]
    },
    {
     "name": "stdout",
     "output_type": "stream",
     "text": [
      "[1] \"Processing: AMY_Ccdc3_Acvr1c_Glut F\"\n",
      "[1] \"Number of genes: 1335\"\n"
     ]
    },
    {
     "name": "stderr",
     "output_type": "stream",
     "text": [
      "'select()' returned 1:1 mapping between keys and columns\n",
      "\n",
      "Warning message in bitr(unique(subset_df$target), fromType = \"SYMBOL\", toType = \"ENTREZID\", :\n",
      "“12.51% of input gene IDs are fail to map...”\n"
     ]
    },
    {
     "name": "stdout",
     "output_type": "stream",
     "text": [
      "[1] \"Processing: AMY_Ccdc3_Acvr1c_Glut F\"\n",
      "[1] \"Number of genes: 2315\"\n"
     ]
    },
    {
     "name": "stderr",
     "output_type": "stream",
     "text": [
      "'select()' returned 1:1 mapping between keys and columns\n",
      "\n",
      "Warning message in bitr(unique(subset_df$target), fromType = \"SYMBOL\", toType = \"ENTREZID\", :\n",
      "“11.14% of input gene IDs are fail to map...”\n",
      "Warning message in rep(yes, length.out = len):\n",
      "“'x' is NULL so the result will be NULL”\n"
     ]
    },
    {
     "name": "stdout",
     "output_type": "stream",
     "text": [
      "[1] \"Error in subsetting data for AMY_Ccdc3_Acvr1c_Glut F\"\n",
      "[1] \"Processing: AMY_Ccdc3_Acvr1c_Glut F\"\n",
      "[1] \"Number of genes: 2701\"\n"
     ]
    },
    {
     "name": "stderr",
     "output_type": "stream",
     "text": [
      "'select()' returned 1:1 mapping between keys and columns\n",
      "\n",
      "Warning message in bitr(unique(subset_df$target), fromType = \"SYMBOL\", toType = \"ENTREZID\", :\n",
      "“10.66% of input gene IDs are fail to map...”\n"
     ]
    },
    {
     "name": "stdout",
     "output_type": "stream",
     "text": [
      "[1] \"Processing: AMY_Ccdc3_Acvr1c_Glut F\"\n",
      "[1] \"Number of genes: 4777\"\n"
     ]
    },
    {
     "name": "stderr",
     "output_type": "stream",
     "text": [
      "'select()' returned 1:1 mapping between keys and columns\n",
      "\n",
      "Warning message in bitr(unique(subset_df$target), fromType = \"SYMBOL\", toType = \"ENTREZID\", :\n",
      "“11.43% of input gene IDs are fail to map...”\n"
     ]
    },
    {
     "name": "stdout",
     "output_type": "stream",
     "text": [
      "[1] \"Processing: AMY_Ccdc3_Acvr1c_Glut F\"\n",
      "[1] \"Number of genes: 2173\"\n"
     ]
    },
    {
     "name": "stderr",
     "output_type": "stream",
     "text": [
      "'select()' returned 1:1 mapping between keys and columns\n",
      "\n",
      "Warning message in bitr(unique(subset_df$target), fromType = \"SYMBOL\", toType = \"ENTREZID\", :\n",
      "“12.52% of input gene IDs are fail to map...”\n"
     ]
    },
    {
     "name": "stdout",
     "output_type": "stream",
     "text": [
      "[1] \"Processing: AMY_Ccdc3_Acvr1c_Glut F\"\n",
      "[1] \"Number of genes: 2027\"\n"
     ]
    },
    {
     "name": "stderr",
     "output_type": "stream",
     "text": [
      "'select()' returned 1:1 mapping between keys and columns\n",
      "\n",
      "Warning message in bitr(unique(subset_df$target), fromType = \"SYMBOL\", toType = \"ENTREZID\", :\n",
      "“14.21% of input gene IDs are fail to map...”\n"
     ]
    },
    {
     "name": "stdout",
     "output_type": "stream",
     "text": [
      "[1] \"Processing: AMY_Ccdc3_Acvr1c_Glut F\"\n",
      "[1] \"Number of genes: 3416\"\n"
     ]
    },
    {
     "name": "stderr",
     "output_type": "stream",
     "text": [
      "'select()' returned 1:1 mapping between keys and columns\n",
      "\n",
      "Warning message in bitr(unique(subset_df$target), fromType = \"SYMBOL\", toType = \"ENTREZID\", :\n",
      "“11.48% of input gene IDs are fail to map...”\n"
     ]
    },
    {
     "name": "stdout",
     "output_type": "stream",
     "text": [
      "[1] \"Processing: AMY_Ccdc3_Acvr1c_Glut F\"\n",
      "[1] \"Number of genes: 1421\"\n"
     ]
    },
    {
     "name": "stderr",
     "output_type": "stream",
     "text": [
      "'select()' returned 1:1 mapping between keys and columns\n",
      "\n",
      "Warning message in bitr(unique(subset_df$target), fromType = \"SYMBOL\", toType = \"ENTREZID\", :\n",
      "“12.81% of input gene IDs are fail to map...”\n"
     ]
    },
    {
     "name": "stdout",
     "output_type": "stream",
     "text": [
      "[1] \"Processing: AMY_Ccdc3_Acvr1c_Glut F\"\n",
      "[1] \"Number of genes: 1856\"\n"
     ]
    },
    {
     "name": "stderr",
     "output_type": "stream",
     "text": [
      "'select()' returned 1:1 mapping between keys and columns\n",
      "\n",
      "Warning message in bitr(unique(subset_df$target), fromType = \"SYMBOL\", toType = \"ENTREZID\", :\n",
      "“13.52% of input gene IDs are fail to map...”\n"
     ]
    },
    {
     "name": "stdout",
     "output_type": "stream",
     "text": [
      "[1] \"Processing: AMY_Ccdc3_Acvr1c_Glut F\"\n",
      "[1] \"Number of genes: 3251\"\n"
     ]
    },
    {
     "name": "stderr",
     "output_type": "stream",
     "text": [
      "'select()' returned 1:1 mapping between keys and columns\n",
      "\n",
      "Warning message in bitr(unique(subset_df$target), fromType = \"SYMBOL\", toType = \"ENTREZID\", :\n",
      "“10.37% of input gene IDs are fail to map...”\n"
     ]
    },
    {
     "name": "stdout",
     "output_type": "stream",
     "text": [
      "[1] \"Processing: AMY_Ccdc3_Acvr1c_Glut F\"\n",
      "[1] \"Number of genes: 1258\"\n"
     ]
    },
    {
     "name": "stderr",
     "output_type": "stream",
     "text": [
      "'select()' returned 1:1 mapping between keys and columns\n",
      "\n",
      "Warning message in bitr(unique(subset_df$target), fromType = \"SYMBOL\", toType = \"ENTREZID\", :\n",
      "“12% of input gene IDs are fail to map...”\n",
      "Warning message in rep(yes, length.out = len):\n",
      "“'x' is NULL so the result will be NULL”\n"
     ]
    },
    {
     "name": "stdout",
     "output_type": "stream",
     "text": [
      "[1] \"Error in subsetting data for AMY_Ccdc3_Acvr1c_Glut F\"\n",
      "[1] \"Processing: AMY_Ccdc3_Acvr1c_Glut F\"\n",
      "[1] \"Number of genes: 1928\"\n"
     ]
    },
    {
     "name": "stderr",
     "output_type": "stream",
     "text": [
      "'select()' returned 1:1 mapping between keys and columns\n",
      "\n",
      "Warning message in bitr(unique(subset_df$target), fromType = \"SYMBOL\", toType = \"ENTREZID\", :\n",
      "“11.51% of input gene IDs are fail to map...”\n"
     ]
    },
    {
     "name": "stdout",
     "output_type": "stream",
     "text": [
      "[1] \"Processing: AMY_Ccdc3_Acvr1c_Glut F\"\n",
      "[1] \"Number of genes: 2769\"\n"
     ]
    },
    {
     "name": "stderr",
     "output_type": "stream",
     "text": [
      "'select()' returned 1:1 mapping between keys and columns\n",
      "\n",
      "Warning message in bitr(unique(subset_df$target), fromType = \"SYMBOL\", toType = \"ENTREZID\", :\n",
      "“10.98% of input gene IDs are fail to map...”\n"
     ]
    },
    {
     "name": "stdout",
     "output_type": "stream",
     "text": [
      "[1] \"Processing: AMY_Ccdc3_Acvr1c_Glut F\"\n",
      "[1] \"Number of genes: 2347\"\n"
     ]
    },
    {
     "name": "stderr",
     "output_type": "stream",
     "text": [
      "'select()' returned 1:1 mapping between keys and columns\n",
      "\n",
      "Warning message in bitr(unique(subset_df$target), fromType = \"SYMBOL\", toType = \"ENTREZID\", :\n",
      "“10.65% of input gene IDs are fail to map...”\n"
     ]
    },
    {
     "name": "stdout",
     "output_type": "stream",
     "text": [
      "[1] \"Processing: AMY_Ccdc3_Acvr1c_Glut F\"\n",
      "[1] \"Number of genes: 2913\"\n"
     ]
    },
    {
     "name": "stderr",
     "output_type": "stream",
     "text": [
      "'select()' returned 1:1 mapping between keys and columns\n",
      "\n",
      "Warning message in bitr(unique(subset_df$target), fromType = \"SYMBOL\", toType = \"ENTREZID\", :\n",
      "“11.98% of input gene IDs are fail to map...”\n"
     ]
    },
    {
     "name": "stdout",
     "output_type": "stream",
     "text": [
      "[1] \"Processing: AMY_Ccdc3_Acvr1c_Glut F\"\n",
      "[1] \"Number of genes: 3923\"\n"
     ]
    },
    {
     "name": "stderr",
     "output_type": "stream",
     "text": [
      "'select()' returned 1:1 mapping between keys and columns\n",
      "\n",
      "Warning message in bitr(unique(subset_df$target), fromType = \"SYMBOL\", toType = \"ENTREZID\", :\n",
      "“9.18% of input gene IDs are fail to map...”\n"
     ]
    },
    {
     "name": "stdout",
     "output_type": "stream",
     "text": [
      "[1] \"Processing: AMY_Ccdc3_Acvr1c_Glut F\"\n",
      "[1] \"Number of genes: 2747\"\n"
     ]
    },
    {
     "name": "stderr",
     "output_type": "stream",
     "text": [
      "'select()' returned 1:1 mapping between keys and columns\n",
      "\n",
      "Warning message in bitr(unique(subset_df$target), fromType = \"SYMBOL\", toType = \"ENTREZID\", :\n",
      "“11.69% of input gene IDs are fail to map...”\n"
     ]
    },
    {
     "name": "stdout",
     "output_type": "stream",
     "text": [
      "[1] \"Processing: AMY_Ccdc3_Acvr1c_Glut F\"\n",
      "[1] \"Number of genes: 621\"\n"
     ]
    },
    {
     "name": "stderr",
     "output_type": "stream",
     "text": [
      "'select()' returned 1:1 mapping between keys and columns\n",
      "\n",
      "Warning message in bitr(unique(subset_df$target), fromType = \"SYMBOL\", toType = \"ENTREZID\", :\n",
      "“10.31% of input gene IDs are fail to map...”\n",
      "Warning message in rep(yes, length.out = len):\n",
      "“'x' is NULL so the result will be NULL”\n"
     ]
    },
    {
     "name": "stdout",
     "output_type": "stream",
     "text": [
      "[1] \"Error in subsetting data for AMY_Ccdc3_Acvr1c_Glut F\"\n",
      "[1] \"Processing: AMY_Ccdc3_Acvr1c_Glut F\"\n",
      "[1] \"Number of genes: 2463\"\n"
     ]
    },
    {
     "name": "stderr",
     "output_type": "stream",
     "text": [
      "'select()' returned 1:1 mapping between keys and columns\n",
      "\n",
      "Warning message in bitr(unique(subset_df$target), fromType = \"SYMBOL\", toType = \"ENTREZID\", :\n",
      "“10.6% of input gene IDs are fail to map...”\n"
     ]
    },
    {
     "name": "stdout",
     "output_type": "stream",
     "text": [
      "[1] \"Processing: AMY_Ccdc3_Acvr1c_Glut F\"\n",
      "[1] \"Number of genes: 2223\"\n"
     ]
    },
    {
     "name": "stderr",
     "output_type": "stream",
     "text": [
      "'select()' returned 1:1 mapping between keys and columns\n",
      "\n",
      "Warning message in bitr(unique(subset_df$target), fromType = \"SYMBOL\", toType = \"ENTREZID\", :\n",
      "“11.92% of input gene IDs are fail to map...”\n"
     ]
    },
    {
     "name": "stdout",
     "output_type": "stream",
     "text": [
      "[1] \"Processing: AMY_Ccdc3_Acvr1c_Glut F\"\n",
      "[1] \"Number of genes: 1598\"\n"
     ]
    },
    {
     "name": "stderr",
     "output_type": "stream",
     "text": [
      "'select()' returned 1:1 mapping between keys and columns\n",
      "\n",
      "Warning message in bitr(unique(subset_df$target), fromType = \"SYMBOL\", toType = \"ENTREZID\", :\n",
      "“11.45% of input gene IDs are fail to map...”\n"
     ]
    },
    {
     "name": "stdout",
     "output_type": "stream",
     "text": [
      "[1] \"Processing: AMY_Ccdc3_Acvr1c_Glut M\"\n",
      "[1] \"Number of genes: 6313\"\n"
     ]
    },
    {
     "name": "stderr",
     "output_type": "stream",
     "text": [
      "'select()' returned 1:1 mapping between keys and columns\n",
      "\n",
      "Warning message in bitr(unique(subset_df$target), fromType = \"SYMBOL\", toType = \"ENTREZID\", :\n",
      "“11.69% of input gene IDs are fail to map...”\n"
     ]
    },
    {
     "name": "stdout",
     "output_type": "stream",
     "text": [
      "[1] \"Processing: AMY_Ccdc3_Acvr1c_Glut M\"\n",
      "[1] \"Number of genes: 3682\"\n"
     ]
    },
    {
     "name": "stderr",
     "output_type": "stream",
     "text": [
      "'select()' returned 1:1 mapping between keys and columns\n",
      "\n",
      "Warning message in bitr(unique(subset_df$target), fromType = \"SYMBOL\", toType = \"ENTREZID\", :\n",
      "“10.89% of input gene IDs are fail to map...”\n"
     ]
    },
    {
     "name": "stdout",
     "output_type": "stream",
     "text": [
      "[1] \"Processing: AMY_Ccdc3_Acvr1c_Glut M\"\n",
      "[1] \"Number of genes: 5246\"\n"
     ]
    },
    {
     "name": "stderr",
     "output_type": "stream",
     "text": [
      "'select()' returned 1:1 mapping between keys and columns\n",
      "\n",
      "Warning message in bitr(unique(subset_df$target), fromType = \"SYMBOL\", toType = \"ENTREZID\", :\n",
      "“11.25% of input gene IDs are fail to map...”\n"
     ]
    },
    {
     "name": "stdout",
     "output_type": "stream",
     "text": [
      "[1] \"Processing: AMY_Ccdc3_Acvr1c_Glut M\"\n",
      "[1] \"Number of genes: 3234\"\n"
     ]
    },
    {
     "name": "stderr",
     "output_type": "stream",
     "text": [
      "'select()' returned 1:1 mapping between keys and columns\n",
      "\n",
      "Warning message in bitr(unique(subset_df$target), fromType = \"SYMBOL\", toType = \"ENTREZID\", :\n",
      "“11.04% of input gene IDs are fail to map...”\n"
     ]
    },
    {
     "name": "stdout",
     "output_type": "stream",
     "text": [
      "[1] \"Processing: AMY_Ccdc3_Acvr1c_Glut M\"\n",
      "[1] \"Number of genes: 5618\"\n"
     ]
    },
    {
     "name": "stderr",
     "output_type": "stream",
     "text": [
      "'select()' returned 1:1 mapping between keys and columns\n",
      "\n",
      "Warning message in bitr(unique(subset_df$target), fromType = \"SYMBOL\", toType = \"ENTREZID\", :\n",
      "“11.14% of input gene IDs are fail to map...”\n"
     ]
    },
    {
     "name": "stdout",
     "output_type": "stream",
     "text": [
      "[1] \"Processing: AMY_Ccdc3_Acvr1c_Glut M\"\n",
      "[1] \"Number of genes: 2803\"\n"
     ]
    },
    {
     "name": "stderr",
     "output_type": "stream",
     "text": [
      "'select()' returned 1:1 mapping between keys and columns\n",
      "\n",
      "Warning message in bitr(unique(subset_df$target), fromType = \"SYMBOL\", toType = \"ENTREZID\", :\n",
      "“13.02% of input gene IDs are fail to map...”\n"
     ]
    },
    {
     "name": "stdout",
     "output_type": "stream",
     "text": [
      "[1] \"Processing: AMY_Ccdc3_Acvr1c_Glut M\"\n",
      "[1] \"Number of genes: 955\"\n"
     ]
    },
    {
     "name": "stderr",
     "output_type": "stream",
     "text": [
      "'select()' returned 1:1 mapping between keys and columns\n",
      "\n",
      "Warning message in bitr(unique(subset_df$target), fromType = \"SYMBOL\", toType = \"ENTREZID\", :\n",
      "“13.72% of input gene IDs are fail to map...”\n"
     ]
    },
    {
     "name": "stdout",
     "output_type": "stream",
     "text": [
      "[1] \"Processing: AMY_Ccdc3_Acvr1c_Glut M\"\n",
      "[1] \"Number of genes: 1343\"\n"
     ]
    },
    {
     "name": "stderr",
     "output_type": "stream",
     "text": [
      "'select()' returned 1:1 mapping between keys and columns\n",
      "\n",
      "Warning message in bitr(unique(subset_df$target), fromType = \"SYMBOL\", toType = \"ENTREZID\", :\n",
      "“11.69% of input gene IDs are fail to map...”\n"
     ]
    },
    {
     "name": "stdout",
     "output_type": "stream",
     "text": [
      "[1] \"Processing: AMY_Ccdc3_Acvr1c_Glut M\"\n",
      "[1] \"Number of genes: 2315\"\n"
     ]
    },
    {
     "name": "stderr",
     "output_type": "stream",
     "text": [
      "'select()' returned 1:1 mapping between keys and columns\n",
      "\n",
      "Warning message in bitr(unique(subset_df$target), fromType = \"SYMBOL\", toType = \"ENTREZID\", :\n",
      "“11.14% of input gene IDs are fail to map...”\n",
      "Warning message in rep(yes, length.out = len):\n",
      "“'x' is NULL so the result will be NULL”\n"
     ]
    },
    {
     "name": "stdout",
     "output_type": "stream",
     "text": [
      "[1] \"Error in subsetting data for AMY_Ccdc3_Acvr1c_Glut M\"\n",
      "[1] \"Processing: AMY_Ccdc3_Acvr1c_Glut M\"\n",
      "[1] \"Number of genes: 1607\"\n"
     ]
    },
    {
     "name": "stderr",
     "output_type": "stream",
     "text": [
      "'select()' returned 1:1 mapping between keys and columns\n",
      "\n",
      "Warning message in bitr(unique(subset_df$target), fromType = \"SYMBOL\", toType = \"ENTREZID\", :\n",
      "“11.08% of input gene IDs are fail to map...”\n"
     ]
    },
    {
     "name": "stdout",
     "output_type": "stream",
     "text": [
      "[1] \"Processing: AMY_Ccdc3_Acvr1c_Glut M\"\n",
      "[1] \"Number of genes: 1352\"\n"
     ]
    },
    {
     "name": "stderr",
     "output_type": "stream",
     "text": [
      "'select()' returned 1:1 mapping between keys and columns\n",
      "\n",
      "Warning message in bitr(unique(subset_df$target), fromType = \"SYMBOL\", toType = \"ENTREZID\", :\n",
      "“13.76% of input gene IDs are fail to map...”\n"
     ]
    },
    {
     "name": "stdout",
     "output_type": "stream",
     "text": [
      "[1] \"Processing: AMY_Ccdc3_Acvr1c_Glut M\"\n",
      "[1] \"Number of genes: 3603\"\n"
     ]
    },
    {
     "name": "stderr",
     "output_type": "stream",
     "text": [
      "'select()' returned 1:1 mapping between keys and columns\n",
      "\n",
      "Warning message in bitr(unique(subset_df$target), fromType = \"SYMBOL\", toType = \"ENTREZID\", :\n",
      "“10.91% of input gene IDs are fail to map...”\n"
     ]
    },
    {
     "name": "stdout",
     "output_type": "stream",
     "text": [
      "[1] \"Processing: AMY_Ccdc3_Acvr1c_Glut M\"\n",
      "[1] \"Number of genes: 3810\"\n"
     ]
    },
    {
     "name": "stderr",
     "output_type": "stream",
     "text": [
      "'select()' returned 1:1 mapping between keys and columns\n",
      "\n",
      "Warning message in bitr(unique(subset_df$target), fromType = \"SYMBOL\", toType = \"ENTREZID\", :\n",
      "“10.29% of input gene IDs are fail to map...”\n"
     ]
    },
    {
     "name": "stdout",
     "output_type": "stream",
     "text": [
      "[1] \"Processing: AMY_Ccdc3_Acvr1c_Glut M\"\n",
      "[1] \"Number of genes: 2613\"\n"
     ]
    },
    {
     "name": "stderr",
     "output_type": "stream",
     "text": [
      "'select()' returned 1:1 mapping between keys and columns\n",
      "\n",
      "Warning message in bitr(unique(subset_df$target), fromType = \"SYMBOL\", toType = \"ENTREZID\", :\n",
      "“12.09% of input gene IDs are fail to map...”\n"
     ]
    },
    {
     "name": "stdout",
     "output_type": "stream",
     "text": [
      "[1] \"Processing: AMY_Ccdc3_Acvr1c_Glut M\"\n",
      "[1] \"Number of genes: 5544\"\n"
     ]
    },
    {
     "name": "stderr",
     "output_type": "stream",
     "text": [
      "'select()' returned 1:1 mapping between keys and columns\n",
      "\n",
      "Warning message in bitr(unique(subset_df$target), fromType = \"SYMBOL\", toType = \"ENTREZID\", :\n",
      "“11.26% of input gene IDs are fail to map...”\n"
     ]
    },
    {
     "name": "stdout",
     "output_type": "stream",
     "text": [
      "[1] \"Processing: AMY_Ccdc3_Acvr1c_Glut M\"\n",
      "[1] \"Number of genes: 2013\"\n"
     ]
    },
    {
     "name": "stderr",
     "output_type": "stream",
     "text": [
      "'select()' returned 1:1 mapping between keys and columns\n",
      "\n",
      "Warning message in bitr(unique(subset_df$target), fromType = \"SYMBOL\", toType = \"ENTREZID\", :\n",
      "“10.68% of input gene IDs are fail to map...”\n"
     ]
    },
    {
     "name": "stdout",
     "output_type": "stream",
     "text": [
      "[1] \"Processing: AMY_Ccdc3_Acvr1c_Glut M\"\n",
      "[1] \"Number of genes: 2534\"\n"
     ]
    },
    {
     "name": "stderr",
     "output_type": "stream",
     "text": [
      "'select()' returned 1:1 mapping between keys and columns\n",
      "\n",
      "Warning message in bitr(unique(subset_df$target), fromType = \"SYMBOL\", toType = \"ENTREZID\", :\n",
      "“11.72% of input gene IDs are fail to map...”\n"
     ]
    },
    {
     "name": "stdout",
     "output_type": "stream",
     "text": [
      "[1] \"Processing: AMY_Ccdc3_Acvr1c_Glut M\"\n",
      "[1] \"Number of genes: 2414\"\n"
     ]
    },
    {
     "name": "stderr",
     "output_type": "stream",
     "text": [
      "'select()' returned 1:1 mapping between keys and columns\n",
      "\n",
      "Warning message in bitr(unique(subset_df$target), fromType = \"SYMBOL\", toType = \"ENTREZID\", :\n",
      "“11.1% of input gene IDs are fail to map...”\n"
     ]
    },
    {
     "name": "stdout",
     "output_type": "stream",
     "text": [
      "[1] \"Processing: AMY_Ccdc3_Acvr1c_Glut M\"\n",
      "[1] \"Number of genes: 2405\"\n"
     ]
    },
    {
     "name": "stderr",
     "output_type": "stream",
     "text": [
      "'select()' returned 1:1 mapping between keys and columns\n",
      "\n",
      "Warning message in bitr(unique(subset_df$target), fromType = \"SYMBOL\", toType = \"ENTREZID\", :\n",
      "“11.93% of input gene IDs are fail to map...”\n"
     ]
    },
    {
     "name": "stdout",
     "output_type": "stream",
     "text": [
      "[1] \"Processing: AMY_Ccdc3_Acvr1c_Glut M\"\n",
      "[1] \"Number of genes: 2646\"\n"
     ]
    },
    {
     "name": "stderr",
     "output_type": "stream",
     "text": [
      "'select()' returned 1:1 mapping between keys and columns\n",
      "\n",
      "Warning message in bitr(unique(subset_df$target), fromType = \"SYMBOL\", toType = \"ENTREZID\", :\n",
      "“11.9% of input gene IDs are fail to map...”\n"
     ]
    },
    {
     "name": "stdout",
     "output_type": "stream",
     "text": [
      "[1] \"Processing: AMY_Ccdc3_Acvr1c_Glut M\"\n",
      "[1] \"Number of genes: 1764\"\n"
     ]
    },
    {
     "name": "stderr",
     "output_type": "stream",
     "text": [
      "'select()' returned 1:1 mapping between keys and columns\n",
      "\n",
      "Warning message in bitr(unique(subset_df$target), fromType = \"SYMBOL\", toType = \"ENTREZID\", :\n",
      "“11.96% of input gene IDs are fail to map...”\n",
      "Warning message in rep(yes, length.out = len):\n",
      "“'x' is NULL so the result will be NULL”\n"
     ]
    },
    {
     "name": "stdout",
     "output_type": "stream",
     "text": [
      "[1] \"Error in subsetting data for AMY_Ccdc3_Acvr1c_Glut M\"\n",
      "[1] \"Processing: AMY_Ccdc3_Acvr1c_Glut M\"\n",
      "[1] \"Number of genes: 1181\"\n"
     ]
    },
    {
     "name": "stderr",
     "output_type": "stream",
     "text": [
      "'select()' returned 1:1 mapping between keys and columns\n",
      "\n",
      "Warning message in bitr(unique(subset_df$target), fromType = \"SYMBOL\", toType = \"ENTREZID\", :\n",
      "“11.94% of input gene IDs are fail to map...”\n"
     ]
    },
    {
     "name": "stdout",
     "output_type": "stream",
     "text": [
      "[1] \"Processing: AMY_Ccdc3_Acvr1c_Glut M\"\n",
      "[1] \"Number of genes: 3740\"\n"
     ]
    },
    {
     "name": "stderr",
     "output_type": "stream",
     "text": [
      "'select()' returned 1:1 mapping between keys and columns\n",
      "\n",
      "Warning message in bitr(unique(subset_df$target), fromType = \"SYMBOL\", toType = \"ENTREZID\", :\n",
      "“10.11% of input gene IDs are fail to map...”\n"
     ]
    },
    {
     "name": "stdout",
     "output_type": "stream",
     "text": [
      "[1] \"Processing: AMY_Ccdc3_Acvr1c_Glut M\"\n",
      "[1] \"Number of genes: 1036\"\n"
     ]
    },
    {
     "name": "stderr",
     "output_type": "stream",
     "text": [
      "'select()' returned 1:1 mapping between keys and columns\n",
      "\n",
      "Warning message in bitr(unique(subset_df$target), fromType = \"SYMBOL\", toType = \"ENTREZID\", :\n",
      "“16.22% of input gene IDs are fail to map...”\n"
     ]
    },
    {
     "name": "stdout",
     "output_type": "stream",
     "text": [
      "[1] \"Processing: AMY_Ccdc3_Acvr1c_Glut M\"\n",
      "[1] \"Number of genes: 1644\"\n"
     ]
    },
    {
     "name": "stderr",
     "output_type": "stream",
     "text": [
      "'select()' returned 1:1 mapping between keys and columns\n",
      "\n",
      "Warning message in bitr(unique(subset_df$target), fromType = \"SYMBOL\", toType = \"ENTREZID\", :\n",
      "“11.07% of input gene IDs are fail to map...”\n"
     ]
    },
    {
     "name": "stdout",
     "output_type": "stream",
     "text": [
      "[1] \"Processing: AMY_Ccdc3_Acvr1c_Glut M\"\n",
      "[1] \"Number of genes: 1968\"\n"
     ]
    },
    {
     "name": "stderr",
     "output_type": "stream",
     "text": [
      "'select()' returned 1:1 mapping between keys and columns\n",
      "\n",
      "Warning message in bitr(unique(subset_df$target), fromType = \"SYMBOL\", toType = \"ENTREZID\", :\n",
      "“10.01% of input gene IDs are fail to map...”\n"
     ]
    },
    {
     "name": "stdout",
     "output_type": "stream",
     "text": [
      "[1] \"Processing: AMY_Ccdc3_Acvr1c_Glut M\"\n",
      "[1] \"Number of genes: 3929\"\n"
     ]
    },
    {
     "name": "stderr",
     "output_type": "stream",
     "text": [
      "'select()' returned 1:1 mapping between keys and columns\n",
      "\n",
      "Warning message in bitr(unique(subset_df$target), fromType = \"SYMBOL\", toType = \"ENTREZID\", :\n",
      "“11.25% of input gene IDs are fail to map...”\n"
     ]
    },
    {
     "name": "stdout",
     "output_type": "stream",
     "text": [
      "[1] \"Processing: AMY_Ccdc3_Acvr1c_Glut M\"\n",
      "[1] \"Number of genes: 3845\"\n"
     ]
    },
    {
     "name": "stderr",
     "output_type": "stream",
     "text": [
      "'select()' returned 1:1 mapping between keys and columns\n",
      "\n",
      "Warning message in bitr(unique(subset_df$target), fromType = \"SYMBOL\", toType = \"ENTREZID\", :\n",
      "“11.55% of input gene IDs are fail to map...”\n"
     ]
    },
    {
     "name": "stdout",
     "output_type": "stream",
     "text": [
      "[1] \"Processing: AMY_Ccdc3_Acvr1c_Glut M\"\n",
      "[1] \"Number of genes: 2466\"\n"
     ]
    },
    {
     "name": "stderr",
     "output_type": "stream",
     "text": [
      "'select()' returned 1:1 mapping between keys and columns\n",
      "\n",
      "Warning message in bitr(unique(subset_df$target), fromType = \"SYMBOL\", toType = \"ENTREZID\", :\n",
      "“10.3% of input gene IDs are fail to map...”\n"
     ]
    },
    {
     "name": "stdout",
     "output_type": "stream",
     "text": [
      "[1] \"Processing: AMY_Ccdc3_Acvr1c_Glut M\"\n",
      "[1] \"Number of genes: 2634\"\n"
     ]
    },
    {
     "name": "stderr",
     "output_type": "stream",
     "text": [
      "'select()' returned 1:1 mapping between keys and columns\n",
      "\n",
      "Warning message in bitr(unique(subset_df$target), fromType = \"SYMBOL\", toType = \"ENTREZID\", :\n",
      "“12.03% of input gene IDs are fail to map...”\n"
     ]
    },
    {
     "name": "stdout",
     "output_type": "stream",
     "text": [
      "[1] \"Processing: AMY_Ccdc3_Acvr1c_Glut M\"\n",
      "[1] \"Number of genes: 1344\"\n"
     ]
    },
    {
     "name": "stderr",
     "output_type": "stream",
     "text": [
      "'select()' returned 1:1 mapping between keys and columns\n",
      "\n",
      "Warning message in bitr(unique(subset_df$target), fromType = \"SYMBOL\", toType = \"ENTREZID\", :\n",
      "“10.79% of input gene IDs are fail to map...”\n",
      "Warning message in rep(yes, length.out = len):\n",
      "“'x' is NULL so the result will be NULL”\n"
     ]
    },
    {
     "name": "stdout",
     "output_type": "stream",
     "text": [
      "[1] \"Error in subsetting data for AMY_Ccdc3_Acvr1c_Glut M\"\n",
      "[1] \"Processing: AMY_Ccdc3_Acvr1c_Glut M\"\n",
      "[1] \"Number of genes: 1908\"\n"
     ]
    },
    {
     "name": "stderr",
     "output_type": "stream",
     "text": [
      "'select()' returned 1:1 mapping between keys and columns\n",
      "\n",
      "Warning message in bitr(unique(subset_df$target), fromType = \"SYMBOL\", toType = \"ENTREZID\", :\n",
      "“12.89% of input gene IDs are fail to map...”\n",
      "Warning message in rep(yes, length.out = len):\n",
      "“'x' is NULL so the result will be NULL”\n"
     ]
    },
    {
     "name": "stdout",
     "output_type": "stream",
     "text": [
      "[1] \"Error in subsetting data for AMY_Ccdc3_Acvr1c_Glut M\"\n",
      "[1] \"Processing: AMY_Ccdc3_Acvr1c_Glut M\"\n",
      "[1] \"Number of genes: 2345\"\n"
     ]
    },
    {
     "name": "stderr",
     "output_type": "stream",
     "text": [
      "'select()' returned 1:1 mapping between keys and columns\n",
      "\n",
      "Warning message in bitr(unique(subset_df$target), fromType = \"SYMBOL\", toType = \"ENTREZID\", :\n",
      "“11.13% of input gene IDs are fail to map...”\n"
     ]
    },
    {
     "name": "stdout",
     "output_type": "stream",
     "text": [
      "[1] \"Processing: AMY_Ccdc3_Acvr1c_Glut M\"\n",
      "[1] \"Number of genes: 4033\"\n"
     ]
    },
    {
     "name": "stderr",
     "output_type": "stream",
     "text": [
      "'select()' returned 1:1 mapping between keys and columns\n",
      "\n",
      "Warning message in bitr(unique(subset_df$target), fromType = \"SYMBOL\", toType = \"ENTREZID\", :\n",
      "“9.15% of input gene IDs are fail to map...”\n"
     ]
    },
    {
     "name": "stdout",
     "output_type": "stream",
     "text": [
      "[1] \"Processing: AMY_Ccdc3_Acvr1c_Glut M\"\n",
      "[1] \"Number of genes: 2077\"\n"
     ]
    },
    {
     "name": "stderr",
     "output_type": "stream",
     "text": [
      "'select()' returned 1:1 mapping between keys and columns\n",
      "\n",
      "Warning message in bitr(unique(subset_df$target), fromType = \"SYMBOL\", toType = \"ENTREZID\", :\n",
      "“10.54% of input gene IDs are fail to map...”\n"
     ]
    },
    {
     "name": "stdout",
     "output_type": "stream",
     "text": [
      "[1] \"Processing: AMY_Ccdc3_Acvr1c_Glut M\"\n",
      "[1] \"Number of genes: 2936\"\n"
     ]
    },
    {
     "name": "stderr",
     "output_type": "stream",
     "text": [
      "'select()' returned 1:1 mapping between keys and columns\n",
      "\n",
      "Warning message in bitr(unique(subset_df$target), fromType = \"SYMBOL\", toType = \"ENTREZID\", :\n",
      "“12.09% of input gene IDs are fail to map...”\n"
     ]
    },
    {
     "name": "stdout",
     "output_type": "stream",
     "text": [
      "[1] \"Processing: AMY_Ccdc3_Acvr1c_Glut M\"\n",
      "[1] \"Number of genes: 818\"\n"
     ]
    },
    {
     "name": "stderr",
     "output_type": "stream",
     "text": [
      "'select()' returned 1:1 mapping between keys and columns\n",
      "\n",
      "Warning message in bitr(unique(subset_df$target), fromType = \"SYMBOL\", toType = \"ENTREZID\", :\n",
      "“17.85% of input gene IDs are fail to map...”\n",
      "Warning message in rep(yes, length.out = len):\n",
      "“'x' is NULL so the result will be NULL”\n"
     ]
    },
    {
     "name": "stdout",
     "output_type": "stream",
     "text": [
      "[1] \"Error in subsetting data for AMY_Ccdc3_Acvr1c_Glut M\"\n",
      "[1] \"Processing: AMY_Ccdc3_Acvr1c_Glut M\"\n",
      "[1] \"Number of genes: 3191\"\n"
     ]
    },
    {
     "name": "stderr",
     "output_type": "stream",
     "text": [
      "'select()' returned 1:1 mapping between keys and columns\n",
      "\n",
      "Warning message in bitr(unique(subset_df$target), fromType = \"SYMBOL\", toType = \"ENTREZID\", :\n",
      "“10.09% of input gene IDs are fail to map...”\n"
     ]
    },
    {
     "name": "stdout",
     "output_type": "stream",
     "text": [
      "[1] \"Processing: AMY_Ccdc3_Acvr1c_Glut M\"\n",
      "[1] \"Number of genes: 5476\"\n"
     ]
    },
    {
     "name": "stderr",
     "output_type": "stream",
     "text": [
      "'select()' returned 1:1 mapping between keys and columns\n",
      "\n",
      "Warning message in bitr(unique(subset_df$target), fromType = \"SYMBOL\", toType = \"ENTREZID\", :\n",
      "“11.34% of input gene IDs are fail to map...”\n"
     ]
    },
    {
     "name": "stdout",
     "output_type": "stream",
     "text": [
      "[1] \"Processing: AMY_Ccdc3_Acvr1c_Glut M\"\n",
      "[1] \"Number of genes: 2832\"\n"
     ]
    },
    {
     "name": "stderr",
     "output_type": "stream",
     "text": [
      "'select()' returned 1:1 mapping between keys and columns\n",
      "\n",
      "Warning message in bitr(unique(subset_df$target), fromType = \"SYMBOL\", toType = \"ENTREZID\", :\n",
      "“9.53% of input gene IDs are fail to map...”\n"
     ]
    },
    {
     "name": "stdout",
     "output_type": "stream",
     "text": [
      "[1] \"Processing: AMY_Ccdc3_Acvr1c_Glut M\"\n",
      "[1] \"Number of genes: 1603\"\n"
     ]
    },
    {
     "name": "stderr",
     "output_type": "stream",
     "text": [
      "'select()' returned 1:1 mapping between keys and columns\n",
      "\n",
      "Warning message in bitr(unique(subset_df$target), fromType = \"SYMBOL\", toType = \"ENTREZID\", :\n",
      "“15.66% of input gene IDs are fail to map...”\n",
      "Warning message in rep(yes, length.out = len):\n",
      "“'x' is NULL so the result will be NULL”\n"
     ]
    },
    {
     "name": "stdout",
     "output_type": "stream",
     "text": [
      "[1] \"Error in subsetting data for AMY_Ccdc3_Acvr1c_Glut M\"\n",
      "[1] \"Processing: AMY_Ccdc3_Acvr1c_Glut M\"\n",
      "[1] \"Number of genes: 450\"\n"
     ]
    },
    {
     "name": "stderr",
     "output_type": "stream",
     "text": [
      "'select()' returned 1:1 mapping between keys and columns\n",
      "\n",
      "Warning message in bitr(unique(subset_df$target), fromType = \"SYMBOL\", toType = \"ENTREZID\", :\n",
      "“17.33% of input gene IDs are fail to map...”\n",
      "Warning message in rep(yes, length.out = len):\n",
      "“'x' is NULL so the result will be NULL”\n"
     ]
    },
    {
     "name": "stdout",
     "output_type": "stream",
     "text": [
      "[1] \"Error in subsetting data for AMY_Ccdc3_Acvr1c_Glut M\"\n",
      "[1] \"Processing: AMY_Ccdc3_Acvr1c_Glut M\"\n",
      "[1] \"Number of genes: 2223\"\n"
     ]
    },
    {
     "name": "stderr",
     "output_type": "stream",
     "text": [
      "'select()' returned 1:1 mapping between keys and columns\n",
      "\n",
      "Warning message in bitr(unique(subset_df$target), fromType = \"SYMBOL\", toType = \"ENTREZID\", :\n",
      "“12.19% of input gene IDs are fail to map...”\n"
     ]
    },
    {
     "name": "stdout",
     "output_type": "stream",
     "text": [
      "[1] \"Processing: AMY_Ccdc3_Acvr1c_Glut M\"\n",
      "[1] \"Number of genes: 2122\"\n"
     ]
    },
    {
     "name": "stderr",
     "output_type": "stream",
     "text": [
      "'select()' returned 1:1 mapping between keys and columns\n",
      "\n",
      "Warning message in bitr(unique(subset_df$target), fromType = \"SYMBOL\", toType = \"ENTREZID\", :\n",
      "“10.23% of input gene IDs are fail to map...”\n"
     ]
    },
    {
     "name": "stdout",
     "output_type": "stream",
     "text": [
      "[1] \"Processing: AMY_Ccdc3_Acvr1c_Glut M\"\n",
      "[1] \"Number of genes: 2624\"\n"
     ]
    },
    {
     "name": "stderr",
     "output_type": "stream",
     "text": [
      "'select()' returned 1:1 mapping between keys and columns\n",
      "\n",
      "Warning message in bitr(unique(subset_df$target), fromType = \"SYMBOL\", toType = \"ENTREZID\", :\n",
      "“12% of input gene IDs are fail to map...”\n"
     ]
    },
    {
     "name": "stdout",
     "output_type": "stream",
     "text": [
      "[1] \"Processing: AMY_Ccdc3_Acvr1c_Glut M\"\n",
      "[1] \"Number of genes: 2664\"\n"
     ]
    },
    {
     "name": "stderr",
     "output_type": "stream",
     "text": [
      "'select()' returned 1:1 mapping between keys and columns\n",
      "\n",
      "Warning message in bitr(unique(subset_df$target), fromType = \"SYMBOL\", toType = \"ENTREZID\", :\n",
      "“9.8% of input gene IDs are fail to map...”\n"
     ]
    },
    {
     "name": "stdout",
     "output_type": "stream",
     "text": [
      "[1] \"Processing: AMY_Ccdc3_Acvr1c_Glut M\"\n",
      "[1] \"Number of genes: 3454\"\n"
     ]
    },
    {
     "name": "stderr",
     "output_type": "stream",
     "text": [
      "'select()' returned 1:1 mapping between keys and columns\n",
      "\n",
      "Warning message in bitr(unique(subset_df$target), fromType = \"SYMBOL\", toType = \"ENTREZID\", :\n",
      "“9.53% of input gene IDs are fail to map...”\n"
     ]
    },
    {
     "name": "stdout",
     "output_type": "stream",
     "text": [
      "[1] \"Processing: AMY_Ccdc3_Acvr1c_Glut M\"\n",
      "[1] \"Number of genes: 3189\"\n"
     ]
    },
    {
     "name": "stderr",
     "output_type": "stream",
     "text": [
      "'select()' returned 1:1 mapping between keys and columns\n",
      "\n",
      "Warning message in bitr(unique(subset_df$target), fromType = \"SYMBOL\", toType = \"ENTREZID\", :\n",
      "“11.07% of input gene IDs are fail to map...”\n"
     ]
    },
    {
     "name": "stdout",
     "output_type": "stream",
     "text": [
      "[1] \"Processing: AMY_Ccdc3_Acvr1c_Glut M\"\n",
      "[1] \"Number of genes: 668\"\n"
     ]
    },
    {
     "name": "stderr",
     "output_type": "stream",
     "text": [
      "'select()' returned 1:1 mapping between keys and columns\n",
      "\n",
      "Warning message in bitr(unique(subset_df$target), fromType = \"SYMBOL\", toType = \"ENTREZID\", :\n",
      "“15.87% of input gene IDs are fail to map...”\n",
      "Warning message in rep(yes, length.out = len):\n",
      "“'x' is NULL so the result will be NULL”\n"
     ]
    },
    {
     "name": "stdout",
     "output_type": "stream",
     "text": [
      "[1] \"Error in subsetting data for AMY_Ccdc3_Acvr1c_Glut M\"\n",
      "[1] \"Processing: AMY_Ccdc3_Acvr1c_Glut M\"\n",
      "[1] \"Number of genes: 2260\"\n"
     ]
    },
    {
     "name": "stderr",
     "output_type": "stream",
     "text": [
      "'select()' returned 1:1 mapping between keys and columns\n",
      "\n",
      "Warning message in bitr(unique(subset_df$target), fromType = \"SYMBOL\", toType = \"ENTREZID\", :\n",
      "“12.43% of input gene IDs are fail to map...”\n"
     ]
    },
    {
     "name": "stdout",
     "output_type": "stream",
     "text": [
      "[1] \"Processing: AMY_Ccdc3_Acvr1c_Glut M\"\n",
      "[1] \"Number of genes: 2478\"\n"
     ]
    },
    {
     "name": "stderr",
     "output_type": "stream",
     "text": [
      "'select()' returned 1:1 mapping between keys and columns\n",
      "\n",
      "Warning message in bitr(unique(subset_df$target), fromType = \"SYMBOL\", toType = \"ENTREZID\", :\n",
      "“10.41% of input gene IDs are fail to map...”\n"
     ]
    },
    {
     "name": "stdout",
     "output_type": "stream",
     "text": [
      "[1] \"Processing: AMY_Ccdc3_Acvr1c_Glut M\"\n",
      "[1] \"Number of genes: 2580\"\n"
     ]
    },
    {
     "name": "stderr",
     "output_type": "stream",
     "text": [
      "'select()' returned 1:1 mapping between keys and columns\n",
      "\n",
      "Warning message in bitr(unique(subset_df$target), fromType = \"SYMBOL\", toType = \"ENTREZID\", :\n",
      "“10.47% of input gene IDs are fail to map...”\n"
     ]
    },
    {
     "name": "stdout",
     "output_type": "stream",
     "text": [
      "[1] \"Processing: AMY_Ccdc3_Acvr1c_Glut M\"\n",
      "[1] \"Number of genes: 2988\"\n"
     ]
    },
    {
     "name": "stderr",
     "output_type": "stream",
     "text": [
      "'select()' returned 1:1 mapping between keys and columns\n",
      "\n",
      "Warning message in bitr(unique(subset_df$target), fromType = \"SYMBOL\", toType = \"ENTREZID\", :\n",
      "“10.91% of input gene IDs are fail to map...”\n"
     ]
    },
    {
     "name": "stdout",
     "output_type": "stream",
     "text": [
      "[1] \"Processing: AMY_Ccdc3_Acvr1c_Glut M\"\n",
      "[1] \"Number of genes: 1362\"\n"
     ]
    },
    {
     "name": "stderr",
     "output_type": "stream",
     "text": [
      "'select()' returned 1:1 mapping between keys and columns\n",
      "\n",
      "Warning message in bitr(unique(subset_df$target), fromType = \"SYMBOL\", toType = \"ENTREZID\", :\n",
      "“9.91% of input gene IDs are fail to map...”\n"
     ]
    },
    {
     "name": "stdout",
     "output_type": "stream",
     "text": [
      "[1] \"Processing: AMY_Ccdc3_Acvr1c_Glut M\"\n",
      "[1] \"Number of genes: 5216\"\n"
     ]
    },
    {
     "name": "stderr",
     "output_type": "stream",
     "text": [
      "'select()' returned 1:1 mapping between keys and columns\n",
      "\n",
      "Warning message in bitr(unique(subset_df$target), fromType = \"SYMBOL\", toType = \"ENTREZID\", :\n",
      "“11.22% of input gene IDs are fail to map...”\n"
     ]
    },
    {
     "name": "stdout",
     "output_type": "stream",
     "text": [
      "[1] \"Processing: AMY_Ccdc3_Acvr1c_Glut M\"\n",
      "[1] \"Number of genes: 2717\"\n"
     ]
    },
    {
     "name": "stderr",
     "output_type": "stream",
     "text": [
      "'select()' returned 1:1 mapping between keys and columns\n",
      "\n",
      "Warning message in bitr(unique(subset_df$target), fromType = \"SYMBOL\", toType = \"ENTREZID\", :\n",
      "“11.89% of input gene IDs are fail to map...”\n"
     ]
    },
    {
     "name": "stdout",
     "output_type": "stream",
     "text": [
      "[1] \"Processing: AMY_Ccdc3_Acvr1c_Glut M\"\n",
      "[1] \"Number of genes: 3335\"\n"
     ]
    },
    {
     "name": "stderr",
     "output_type": "stream",
     "text": [
      "'select()' returned 1:1 mapping between keys and columns\n",
      "\n",
      "Warning message in bitr(unique(subset_df$target), fromType = \"SYMBOL\", toType = \"ENTREZID\", :\n",
      "“11.39% of input gene IDs are fail to map...”\n"
     ]
    },
    {
     "name": "stdout",
     "output_type": "stream",
     "text": [
      "[1] \"Processing: AMY_Ccdc3_Acvr1c_Glut M\"\n",
      "[1] \"Number of genes: 3613\"\n"
     ]
    },
    {
     "name": "stderr",
     "output_type": "stream",
     "text": [
      "'select()' returned 1:1 mapping between keys and columns\n",
      "\n",
      "Warning message in bitr(unique(subset_df$target), fromType = \"SYMBOL\", toType = \"ENTREZID\", :\n",
      "“11.1% of input gene IDs are fail to map...”\n"
     ]
    },
    {
     "name": "stdout",
     "output_type": "stream",
     "text": [
      "[1] \"Processing: AMY_Ccdc3_Acvr1c_Glut M\"\n",
      "[1] \"Number of genes: 1977\"\n"
     ]
    },
    {
     "name": "stderr",
     "output_type": "stream",
     "text": [
      "'select()' returned 1:1 mapping between keys and columns\n",
      "\n",
      "Warning message in bitr(unique(subset_df$target), fromType = \"SYMBOL\", toType = \"ENTREZID\", :\n",
      "“12.29% of input gene IDs are fail to map...”\n"
     ]
    },
    {
     "name": "stdout",
     "output_type": "stream",
     "text": [
      "[1] \"Processing: AMY_Ccdc3_Acvr1c_Glut M\"\n",
      "[1] \"Number of genes: 2499\"\n"
     ]
    },
    {
     "name": "stderr",
     "output_type": "stream",
     "text": [
      "'select()' returned 1:1 mapping between keys and columns\n",
      "\n",
      "Warning message in bitr(unique(subset_df$target), fromType = \"SYMBOL\", toType = \"ENTREZID\", :\n",
      "“12% of input gene IDs are fail to map...”\n"
     ]
    },
    {
     "name": "stdout",
     "output_type": "stream",
     "text": [
      "[1] \"Processing: AMY_Ccdc3_Acvr1c_Glut M\"\n",
      "[1] \"Number of genes: 3488\"\n"
     ]
    },
    {
     "name": "stderr",
     "output_type": "stream",
     "text": [
      "'select()' returned 1:1 mapping between keys and columns\n",
      "\n",
      "Warning message in bitr(unique(subset_df$target), fromType = \"SYMBOL\", toType = \"ENTREZID\", :\n",
      "“12.53% of input gene IDs are fail to map...”\n"
     ]
    },
    {
     "name": "stdout",
     "output_type": "stream",
     "text": [
      "[1] \"Processing: AMY_Ccdc3_Acvr1c_Glut M\"\n",
      "[1] \"Number of genes: 2487\"\n"
     ]
    },
    {
     "name": "stderr",
     "output_type": "stream",
     "text": [
      "'select()' returned 1:1 mapping between keys and columns\n",
      "\n",
      "Warning message in bitr(unique(subset_df$target), fromType = \"SYMBOL\", toType = \"ENTREZID\", :\n",
      "“12.1% of input gene IDs are fail to map...”\n"
     ]
    },
    {
     "name": "stdout",
     "output_type": "stream",
     "text": [
      "[1] \"Processing: AMY_Ccdc3_Acvr1c_Glut M\"\n",
      "[1] \"Number of genes: 2629\"\n"
     ]
    },
    {
     "name": "stderr",
     "output_type": "stream",
     "text": [
      "'select()' returned 1:1 mapping between keys and columns\n",
      "\n",
      "Warning message in bitr(unique(subset_df$target), fromType = \"SYMBOL\", toType = \"ENTREZID\", :\n",
      "“11.75% of input gene IDs are fail to map...”\n"
     ]
    },
    {
     "name": "stdout",
     "output_type": "stream",
     "text": [
      "[1] \"Processing: AMY_Ccdc3_Acvr1c_Glut M\"\n",
      "[1] \"Number of genes: 891\"\n"
     ]
    },
    {
     "name": "stderr",
     "output_type": "stream",
     "text": [
      "'select()' returned 1:1 mapping between keys and columns\n",
      "\n",
      "Warning message in bitr(unique(subset_df$target), fromType = \"SYMBOL\", toType = \"ENTREZID\", :\n",
      "“17.4% of input gene IDs are fail to map...”\n",
      "Warning message in rep(yes, length.out = len):\n",
      "“'x' is NULL so the result will be NULL”\n"
     ]
    },
    {
     "name": "stdout",
     "output_type": "stream",
     "text": [
      "[1] \"Error in subsetting data for AMY_Ccdc3_Acvr1c_Glut M\"\n",
      "[1] \"Processing: AMY_Ccdc3_Acvr1c_Glut M\"\n",
      "[1] \"Number of genes: 1972\"\n"
     ]
    },
    {
     "name": "stderr",
     "output_type": "stream",
     "text": [
      "'select()' returned 1:1 mapping between keys and columns\n",
      "\n",
      "Warning message in bitr(unique(subset_df$target), fromType = \"SYMBOL\", toType = \"ENTREZID\", :\n",
      "“11.11% of input gene IDs are fail to map...”\n"
     ]
    },
    {
     "name": "stdout",
     "output_type": "stream",
     "text": [
      "[1] \"Processing: AMY_Ccdc3_Acvr1c_Glut M\"\n",
      "[1] \"Number of genes: 4349\"\n"
     ]
    },
    {
     "name": "stderr",
     "output_type": "stream",
     "text": [
      "'select()' returned 1:1 mapping between keys and columns\n",
      "\n",
      "Warning message in bitr(unique(subset_df$target), fromType = \"SYMBOL\", toType = \"ENTREZID\", :\n",
      "“10.44% of input gene IDs are fail to map...”\n"
     ]
    },
    {
     "name": "stdout",
     "output_type": "stream",
     "text": [
      "[1] \"Processing: AMY_Ccdc3_Acvr1c_Glut M\"\n",
      "[1] \"Number of genes: 2653\"\n"
     ]
    },
    {
     "name": "stderr",
     "output_type": "stream",
     "text": [
      "'select()' returned 1:1 mapping between keys and columns\n",
      "\n",
      "Warning message in bitr(unique(subset_df$target), fromType = \"SYMBOL\", toType = \"ENTREZID\", :\n",
      "“10.74% of input gene IDs are fail to map...”\n"
     ]
    },
    {
     "name": "stdout",
     "output_type": "stream",
     "text": [
      "[1] \"Processing: AMY_Ccdc3_Acvr1c_Glut M\"\n",
      "[1] \"Number of genes: 1542\"\n"
     ]
    },
    {
     "name": "stderr",
     "output_type": "stream",
     "text": [
      "'select()' returned 1:1 mapping between keys and columns\n",
      "\n",
      "Warning message in bitr(unique(subset_df$target), fromType = \"SYMBOL\", toType = \"ENTREZID\", :\n",
      "“12.65% of input gene IDs are fail to map...”\n",
      "Warning message in rep(yes, length.out = len):\n",
      "“'x' is NULL so the result will be NULL”\n"
     ]
    },
    {
     "name": "stdout",
     "output_type": "stream",
     "text": [
      "[1] \"Error in subsetting data for AMY_Ccdc3_Acvr1c_Glut M\"\n",
      "[1] \"Processing: AMY_Ccdc3_Acvr1c_Glut M\"\n",
      "[1] \"Number of genes: 2040\"\n"
     ]
    },
    {
     "name": "stderr",
     "output_type": "stream",
     "text": [
      "'select()' returned 1:1 mapping between keys and columns\n",
      "\n",
      "Warning message in bitr(unique(subset_df$target), fromType = \"SYMBOL\", toType = \"ENTREZID\", :\n",
      "“10.34% of input gene IDs are fail to map...”\n",
      "Warning message in rep(yes, length.out = len):\n",
      "“'x' is NULL so the result will be NULL”\n"
     ]
    },
    {
     "name": "stdout",
     "output_type": "stream",
     "text": [
      "[1] \"Error in subsetting data for AMY_Ccdc3_Acvr1c_Glut M\"\n",
      "[1] \"Processing: AMY_Ccdc3_Acvr1c_Glut M\"\n",
      "[1] \"Number of genes: 2506\"\n"
     ]
    },
    {
     "name": "stderr",
     "output_type": "stream",
     "text": [
      "'select()' returned 1:1 mapping between keys and columns\n",
      "\n",
      "Warning message in bitr(unique(subset_df$target), fromType = \"SYMBOL\", toType = \"ENTREZID\", :\n",
      "“13.05% of input gene IDs are fail to map...”\n"
     ]
    },
    {
     "name": "stdout",
     "output_type": "stream",
     "text": [
      "[1] \"Processing: AMY_Ccdc3_Acvr1c_Glut M\"\n",
      "[1] \"Number of genes: 1532\"\n"
     ]
    },
    {
     "name": "stderr",
     "output_type": "stream",
     "text": [
      "'select()' returned 1:1 mapping between keys and columns\n",
      "\n",
      "Warning message in bitr(unique(subset_df$target), fromType = \"SYMBOL\", toType = \"ENTREZID\", :\n",
      "“12.21% of input gene IDs are fail to map...”\n",
      "Warning message in rep(yes, length.out = len):\n",
      "“'x' is NULL so the result will be NULL”\n"
     ]
    },
    {
     "name": "stdout",
     "output_type": "stream",
     "text": [
      "[1] \"Error in subsetting data for AMY_Ccdc3_Acvr1c_Glut M\"\n",
      "[1] \"Processing: AMY_Ccdc3_Acvr1c_Glut M\"\n",
      "[1] \"Number of genes: 2010\"\n"
     ]
    },
    {
     "name": "stderr",
     "output_type": "stream",
     "text": [
      "'select()' returned 1:1 mapping between keys and columns\n",
      "\n",
      "Warning message in bitr(unique(subset_df$target), fromType = \"SYMBOL\", toType = \"ENTREZID\", :\n",
      "“11.29% of input gene IDs are fail to map...”\n"
     ]
    },
    {
     "name": "stdout",
     "output_type": "stream",
     "text": [
      "[1] \"Processing: AMY_Ccdc3_Acvr1c_Glut M\"\n",
      "[1] \"Number of genes: 4768\"\n"
     ]
    },
    {
     "name": "stderr",
     "output_type": "stream",
     "text": [
      "'select()' returned 1:1 mapping between keys and columns\n",
      "\n",
      "Warning message in bitr(unique(subset_df$target), fromType = \"SYMBOL\", toType = \"ENTREZID\", :\n",
      "“11.56% of input gene IDs are fail to map...”\n"
     ]
    },
    {
     "name": "stdout",
     "output_type": "stream",
     "text": [
      "[1] \"Processing: AMY_Ccdc3_Acvr1c_Glut M\"\n",
      "[1] \"Number of genes: 3694\"\n"
     ]
    },
    {
     "name": "stderr",
     "output_type": "stream",
     "text": [
      "'select()' returned 1:1 mapping between keys and columns\n",
      "\n",
      "Warning message in bitr(unique(subset_df$target), fromType = \"SYMBOL\", toType = \"ENTREZID\", :\n",
      "“11.8% of input gene IDs are fail to map...”\n"
     ]
    },
    {
     "name": "stdout",
     "output_type": "stream",
     "text": [
      "[1] \"Processing: AMY_Ccdc3_Acvr1c_Glut M\"\n",
      "[1] \"Number of genes: 2692\"\n"
     ]
    },
    {
     "name": "stderr",
     "output_type": "stream",
     "text": [
      "'select()' returned 1:1 mapping between keys and columns\n",
      "\n",
      "Warning message in bitr(unique(subset_df$target), fromType = \"SYMBOL\", toType = \"ENTREZID\", :\n",
      "“12.48% of input gene IDs are fail to map...”\n"
     ]
    },
    {
     "name": "stdout",
     "output_type": "stream",
     "text": [
      "[1] \"Processing: AMY_Ccdc3_Acvr1c_Glut M\"\n",
      "[1] \"Number of genes: 2538\"\n"
     ]
    },
    {
     "name": "stderr",
     "output_type": "stream",
     "text": [
      "'select()' returned 1:1 mapping between keys and columns\n",
      "\n",
      "Warning message in bitr(unique(subset_df$target), fromType = \"SYMBOL\", toType = \"ENTREZID\", :\n",
      "“12.21% of input gene IDs are fail to map...”\n"
     ]
    },
    {
     "name": "stdout",
     "output_type": "stream",
     "text": [
      "[1] \"Processing: AMY_Ccdc3_Acvr1c_Glut M\"\n",
      "[1] \"Number of genes: 1896\"\n"
     ]
    },
    {
     "name": "stderr",
     "output_type": "stream",
     "text": [
      "'select()' returned 1:1 mapping between keys and columns\n",
      "\n",
      "Warning message in bitr(unique(subset_df$target), fromType = \"SYMBOL\", toType = \"ENTREZID\", :\n",
      "“13.34% of input gene IDs are fail to map...”\n",
      "Warning message in rep(yes, length.out = len):\n",
      "“'x' is NULL so the result will be NULL”\n"
     ]
    },
    {
     "name": "stdout",
     "output_type": "stream",
     "text": [
      "[1] \"Error in subsetting data for AMY_Ccdc3_Acvr1c_Glut M\"\n"
     ]
    }
   ],
   "source": [
    "# for file in df_grns[:5]:\n",
    "#     region = file.split(\"adj_\")[1].split(\"_\")[0]\n",
    "#     gender = file.split(\".\")[0].split(\"_\")[-1]\n",
    "#     celltype = file.split(\"adj_\")[1].replace(f'_{gender}.tsv','')\n",
    "\n",
    "#     # region = 'TH'\n",
    "#     # gender = 'M'\n",
    "#     # celltype = 'Tnc_Adgrf5_Glut'\n",
    "#     df_grn = pd.read_csv(file, sep='\\t')\n",
    "# for loop to read GRN files\n",
    "# subset 5 files for testing\n",
    "for (file in df_grns) {\n",
    "  celltype <- gsub(\"^.*adj_([A-Za-z0-9_]+)_.*$\", \"\\\\1\", file) \n",
    "  gender <-gsub(\".*_([A-Za-z]+)\\\\.tsv\", \"\\\\1\", file)\n",
    "  region <- gsub(\"^.*adj_([A-Za-z0-9]+)_([A-Za-z0-9_]+).*$\", \"\\\\1\", file) \n",
    "\n",
    "  # if file already exists and overwrite is FALSE, skip\n",
    "  df_grn <- read.table(file, header = TRUE, sep = \"\\t\")\n",
    "\n",
    "  # filter the GRN dataframe to only include important TFs\n",
    "  df_grn <- df_grn[df_grn$TF %in% df_important_TF.unique, ]\n",
    "\n",
    "  # for each tf in df_grn.TF.unique:\n",
    "  for (tf in unique(df_grn$TF)) {\n",
    "\n",
    "      if (file.exists(paste(outdir, \"GO_enrichment_memento\",celltype,gender,tf,\".csv\",sep = \"_\")) && !overwrite) {\n",
    "        next\n",
    "      }\n",
    "\n",
    "\n",
    "        tryCatch(\n",
    "        {\n",
    "          print(paste(\"Processing:\", celltype, gender))\n",
    "          subset_df <- df_grn[df_grn$TF == tf, ]\n",
    "\n",
    "          print(paste(\"Number of genes:\", nrow(subset_df)))\n",
    "\n",
    "          gene_entrez <- bitr(unique(subset_df$target), \n",
    "                              fromType = \"SYMBOL\", \n",
    "                              toType = \"ENTREZID\", \n",
    "                              OrgDb = \"org.Mm.eg.db\")\n",
    "                              \n",
    "          entrez_ids <- gene_entrez$ENTREZID\n",
    "          ego <- enrichGO(gene = entrez_ids,\n",
    "                          OrgDb = org.Mm.eg.db,\n",
    "                          keyType = \"ENTREZID\",\n",
    "                          ont = \"ALL\",  # \"BP\", \"MF\", \"CC\" 或 \"ALL\"\n",
    "                          pvalueCutoff = 0.05,\n",
    "                          qvalueCutoff = 0.05,\n",
    "                          readable = TRUE)  # 结果中显示基因符号\n",
    "\n",
    "          # 查看结果\n",
    "          write.csv(ego, file = paste(outdir, \"GO_enrichment_memento\",celltype,gender,tf,\".csv\",sep = \"_\"), row.names = FALSE)\n",
    "          p <- dotplot(ego, showCategory = 30)\n",
    "          ggsave(paste(outdir, \"GO_enrichment_memento_dot\",celltype,gender,tf,\".pdf\",sep = \"_\"), plot = p, width = 12, height = 15)  # 宽度12英寸，高度15英寸\n",
    "\n",
    "          p<-barplot(ego, showCategory = 30)  # 条形图\n",
    "          ggsave(paste(outdir, \"GO_enrichment_memento_bar\",celltype,gender,tf,\".pdf\",sep = \"_\"), plot = p, width = 12, height = 15)  # 宽度12英寸，高度15英寸\n",
    "\n",
    "          kk <- enrichKEGG(gene = entrez_ids,\n",
    "                          organism = \"mmu\",  # 小鼠KEGG代码\n",
    "                          pvalueCutoff = 0.05,\n",
    "                          qvalueCutoff = 0.05)\n",
    "\n",
    "          # 可视化\n",
    "          p<-dotplot(kk, showCategory = 30)\n",
    "          write.csv(kk, file = paste(outdir, \"KEGG_enrichment_memento\",celltype,gender,tf,\".csv\",sep = \"_\"), row.names = FALSE)\n",
    "          ggsave(paste(outdir, \"kegg_enrichment_memento_dot\",celltype,gender,tf,\".pdf\",sep = \"_\"), plot = p, width = 12, height = 15)  # 宽度12英寸，高度15英寸\n",
    "        }, \n",
    "        error = function(e) {\n",
    "          print(paste(\"Error in subsetting data for\", celltype, gender))\n",
    "      })\n",
    "  }\n",
    "  \n",
    "}\n"
   ]
  }
 ],
 "metadata": {
  "kernelspec": {
   "display_name": "R",
   "language": "R",
   "name": "ir"
  },
  "language_info": {
   "codemirror_mode": "r",
   "file_extension": ".r",
   "mimetype": "text/x-r-source",
   "name": "R",
   "pygments_lexer": "r",
   "version": "4.3.3"
  }
 },
 "nbformat": 4,
 "nbformat_minor": 2
}
