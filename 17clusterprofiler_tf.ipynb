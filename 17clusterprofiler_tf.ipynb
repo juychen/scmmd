{
 "cells": [
  {
   "cell_type": "code",
   "execution_count": 1,
   "metadata": {
    "vscode": {
     "languageId": "r"
    }
   },
   "outputs": [
    {
     "name": "stderr",
     "output_type": "stream",
     "text": [
      "\n",
      "\n",
      "clusterProfiler v4.10.1  For help: https://yulab-smu.top/biomedical-knowledge-mining-book/\n",
      "\n",
      "If you use clusterProfiler in published research, please cite:\n",
      "T Wu, E Hu, S Xu, M Chen, P Guo, Z Dai, T Feng, L Zhou, W Tang, L Zhan, X Fu, S Liu, X Bo, and G Yu. clusterProfiler 4.0: A universal enrichment tool for interpreting omics data. The Innovation. 2021, 2(3):100141\n",
      "\n",
      "\n",
      "Attaching package: ‘clusterProfiler’\n",
      "\n",
      "\n",
      "The following object is masked from ‘package:stats’:\n",
      "\n",
      "    filter\n",
      "\n",
      "\n",
      "Loading required package: AnnotationDbi\n",
      "\n",
      "Loading required package: stats4\n",
      "\n",
      "Loading required package: BiocGenerics\n",
      "\n",
      "\n",
      "Attaching package: ‘BiocGenerics’\n",
      "\n",
      "\n",
      "The following objects are masked from ‘package:stats’:\n",
      "\n",
      "    IQR, mad, sd, var, xtabs\n",
      "\n",
      "\n",
      "The following objects are masked from ‘package:base’:\n",
      "\n",
      "    anyDuplicated, aperm, append, as.data.frame, basename, cbind,\n",
      "    colnames, dirname, do.call, duplicated, eval, evalq, Filter, Find,\n",
      "    get, grep, grepl, intersect, is.unsorted, lapply, Map, mapply,\n",
      "    match, mget, order, paste, pmax, pmax.int, pmin, pmin.int,\n",
      "    Position, rank, rbind, Reduce, rownames, sapply, setdiff, sort,\n",
      "    table, tapply, union, unique, unsplit, which.max, which.min\n",
      "\n",
      "\n",
      "Loading required package: Biobase\n",
      "\n",
      "Welcome to Bioconductor\n",
      "\n",
      "    Vignettes contain introductory material; view with\n",
      "    'browseVignettes()'. To cite Bioconductor, see\n",
      "    'citation(\"Biobase\")', and for packages 'citation(\"pkgname\")'.\n",
      "\n",
      "\n",
      "Loading required package: IRanges\n",
      "\n",
      "Loading required package: S4Vectors\n",
      "\n",
      "\n",
      "Attaching package: ‘S4Vectors’\n",
      "\n",
      "\n",
      "The following object is masked from ‘package:clusterProfiler’:\n",
      "\n",
      "    rename\n",
      "\n",
      "\n",
      "The following object is masked from ‘package:utils’:\n",
      "\n",
      "    findMatches\n",
      "\n",
      "\n",
      "The following objects are masked from ‘package:base’:\n",
      "\n",
      "    expand.grid, I, unname\n",
      "\n",
      "\n",
      "\n",
      "Attaching package: ‘IRanges’\n",
      "\n",
      "\n",
      "The following object is masked from ‘package:clusterProfiler’:\n",
      "\n",
      "    slice\n",
      "\n",
      "\n",
      "\n",
      "Attaching package: ‘AnnotationDbi’\n",
      "\n",
      "\n",
      "The following object is masked from ‘package:clusterProfiler’:\n",
      "\n",
      "    select\n",
      "\n",
      "\n",
      "\n",
      "\n"
     ]
    }
   ],
   "source": [
    "library('clusterProfiler')\n",
    "library(org.Mm.eg.db)\n",
    "library(ggplot2)\n",
    "library(gprofiler2)"
   ]
  },
  {
   "cell_type": "code",
   "execution_count": 2,
   "metadata": {
    "vscode": {
     "languageId": "r"
    }
   },
   "outputs": [],
   "source": [
    "indir <- '/data2st1/junyi/output/atac0627/snregulation'\n",
    "outdir <- '/data2st1/junyi/output/atac0627/snregulation/gost/'\n",
    "df_moudule <- '/data2st1/junyi/output/atac0627/snregulation/genemodule.csv'\n",
    "df_important_TF <- read.csv(paste0(indir, '/TFtarget_analysis_important_TF.csv'))\n",
    "df_grns <- list.files('/data1st1/yejun/pyscenic/grn/', pattern = 'adj_.*\\\\.tsv', full.names = TRUE)\n",
    "df_moudule <- read.csv(df_moudule)\n",
    "overwrite <- FALSE"
   ]
  },
  {
   "cell_type": "code",
   "execution_count": 4,
   "metadata": {
    "vscode": {
     "languageId": "r"
    }
   },
   "outputs": [],
   "source": [
    "df_important_TF.unique <- unique(df_important_TF$TF)"
   ]
  },
  {
   "cell_type": "code",
   "execution_count": 13,
   "metadata": {
    "vscode": {
     "languageId": "r"
    }
   },
   "outputs": [],
   "source": [
    "file <-\"/data1st1/yejun/pyscenic/grn//adj_Astrocyte-1_F.tsv\""
   ]
  },
  {
   "cell_type": "code",
   "execution_count": 22,
   "metadata": {
    "vscode": {
     "languageId": "r"
    }
   },
   "outputs": [],
   "source": [
    "df_grn <- read.table(file, header = TRUE, sep = \"\\t\")\n"
   ]
  },
  {
   "cell_type": "code",
   "execution_count": 15,
   "metadata": {
    "vscode": {
     "languageId": "r"
    }
   },
   "outputs": [],
   "source": [
    "  celltype <- gsub(\"^.*adj_([A-Za-z0-9_]+)_.*$\", \"\\\\1\", file) \n",
    "  gender <-gsub(\".*_([A-Za-z]+)\\\\.tsv\", \"\\\\1\", file)\n",
    "  region <- gsub(\"^.*adj_([A-Za-z0-9]+)_([A-Za-z0-9_]+).*$\", \"\\\\1\", file) \n",
    "\n"
   ]
  },
  {
   "cell_type": "code",
   "execution_count": 19,
   "metadata": {
    "vscode": {
     "languageId": "r"
    }
   },
   "outputs": [],
   "source": [
    "# celltype is file splitby \"adj_\" [2]\n",
    "region <- strsplit(strsplit(file, \"adj_\")[[1]][2], \"_\")[[1]][1]\n",
    "gender <- strsplit(strsplit(file, \"\\\\.\")[[1]][1], \"_\")[[1]][length(strsplit(strsplit(file, \"\\\\.\")[[1]][1], \"_\")[[1]])]\n",
    "celltype <- gsub(paste0(\"_\", gender, \"\\\\.tsv\"), \"\", strsplit(file, \"adj_\")[[1]][2])\n"
   ]
  },
  {
   "cell_type": "code",
   "execution_count": 24,
   "metadata": {
    "vscode": {
     "languageId": "r"
    }
   },
   "outputs": [
    {
     "data": {
      "text/html": [
       "<table class=\"dataframe\">\n",
       "<caption>A data.frame: 4097 × 3</caption>\n",
       "<thead>\n",
       "\t<tr><th></th><th scope=col>TF</th><th scope=col>target</th><th scope=col>importance</th></tr>\n",
       "\t<tr><th></th><th scope=col>&lt;chr&gt;</th><th scope=col>&lt;chr&gt;</th><th scope=col>&lt;dbl&gt;</th></tr>\n",
       "</thead>\n",
       "<tbody>\n",
       "\t<tr><th scope=row>1021</th><td>Egr1</td><td>Slbp         </td><td>4.719404</td></tr>\n",
       "\t<tr><th scope=row>1070</th><td>Egr4</td><td>Cdk5r2       </td><td>4.673257</td></tr>\n",
       "\t<tr><th scope=row>1438</th><td>Egr1</td><td>Gja8         </td><td>4.430963</td></tr>\n",
       "\t<tr><th scope=row>2174</th><td>Egr1</td><td>Ccpg1os      </td><td>4.106022</td></tr>\n",
       "\t<tr><th scope=row>2394</th><td>Fos </td><td>Gm15775      </td><td>4.028430</td></tr>\n",
       "\t<tr><th scope=row>2449</th><td>Fos </td><td>Dgkz         </td><td>4.012931</td></tr>\n",
       "\t<tr><th scope=row>2816</th><td>Egr1</td><td>Hpx          </td><td>3.911321</td></tr>\n",
       "\t<tr><th scope=row>3318</th><td>Fos </td><td>Gm19434      </td><td>3.787905</td></tr>\n",
       "\t<tr><th scope=row>4067</th><td>Fos </td><td>Gm11629      </td><td>3.640709</td></tr>\n",
       "\t<tr><th scope=row>4757</th><td>Egr4</td><td>Gm30928      </td><td>3.524106</td></tr>\n",
       "\t<tr><th scope=row>5063</th><td>Egr1</td><td>BC055402     </td><td>3.478375</td></tr>\n",
       "\t<tr><th scope=row>5519</th><td>Egr1</td><td>Hspa1b       </td><td>3.408664</td></tr>\n",
       "\t<tr><th scope=row>6804</th><td>Junb</td><td>Vmn1r47      </td><td>3.251511</td></tr>\n",
       "\t<tr><th scope=row>7041</th><td>Egr1</td><td>Gm38593      </td><td>3.226660</td></tr>\n",
       "\t<tr><th scope=row>7148</th><td>Junb</td><td>Fabp7        </td><td>3.215822</td></tr>\n",
       "\t<tr><th scope=row>8299</th><td>Egr4</td><td>Foxo6        </td><td>3.106354</td></tr>\n",
       "\t<tr><th scope=row>8501</th><td>Egr1</td><td>5830444B04Rik</td><td>3.087823</td></tr>\n",
       "\t<tr><th scope=row>8544</th><td>Fos </td><td>Gm12925      </td><td>3.084223</td></tr>\n",
       "\t<tr><th scope=row>8562</th><td>Egr1</td><td>Frmd4b       </td><td>3.082623</td></tr>\n",
       "\t<tr><th scope=row>9355</th><td>Fos </td><td>Synpo2l      </td><td>3.015493</td></tr>\n",
       "\t<tr><th scope=row>9820</th><td>Junb</td><td>Lrrc72       </td><td>2.980988</td></tr>\n",
       "\t<tr><th scope=row>9834</th><td>Fos </td><td>Lmo7         </td><td>2.979853</td></tr>\n",
       "\t<tr><th scope=row>9857</th><td>Egr4</td><td>Gal3st3      </td><td>2.978292</td></tr>\n",
       "\t<tr><th scope=row>9878</th><td>Fos </td><td>Gm17402      </td><td>2.976672</td></tr>\n",
       "\t<tr><th scope=row>10180</th><td>Fos </td><td>Rdm1         </td><td>2.954873</td></tr>\n",
       "\t<tr><th scope=row>10507</th><td>Egr1</td><td>Uhmk1        </td><td>2.933785</td></tr>\n",
       "\t<tr><th scope=row>10562</th><td>Egr1</td><td>Ackr1        </td><td>2.930290</td></tr>\n",
       "\t<tr><th scope=row>11141</th><td>Fos </td><td>AU040320     </td><td>2.889218</td></tr>\n",
       "\t<tr><th scope=row>12182</th><td>Fos </td><td>1700001C19Rik</td><td>2.822397</td></tr>\n",
       "\t<tr><th scope=row>12287</th><td>Egr1</td><td>Mtmr2        </td><td>2.815926</td></tr>\n",
       "\t<tr><th scope=row>⋮</th><td>⋮</td><td>⋮</td><td>⋮</td></tr>\n",
       "\t<tr><th scope=row>1717362</th><td>Junb</td><td>4931431C16Rik </td><td>1.504044e-12</td></tr>\n",
       "\t<tr><th scope=row>1718263</th><td>Egr4</td><td>Gm34370       </td><td>1.148472e-12</td></tr>\n",
       "\t<tr><th scope=row>1718516</th><td>Egr1</td><td>Gm19582       </td><td>1.060433e-12</td></tr>\n",
       "\t<tr><th scope=row>1719296</th><td>Junb</td><td>Gm35041       </td><td>8.079746e-13</td></tr>\n",
       "\t<tr><th scope=row>1719615</th><td>Egr1</td><td>Gm20750       </td><td>7.195711e-13</td></tr>\n",
       "\t<tr><th scope=row>1719799</th><td>Junb</td><td>Gm13568       </td><td>6.759083e-13</td></tr>\n",
       "\t<tr><th scope=row>1720332</th><td>Egr4</td><td>Gm19689       </td><td>5.542062e-13</td></tr>\n",
       "\t<tr><th scope=row>1720611</th><td>Egr1</td><td>Gm17268       </td><td>4.961528e-13</td></tr>\n",
       "\t<tr><th scope=row>1720624</th><td>Egr1</td><td>Gm31759       </td><td>4.942998e-13</td></tr>\n",
       "\t<tr><th scope=row>1720697</th><td>Egr1</td><td>Gm43698       </td><td>4.786381e-13</td></tr>\n",
       "\t<tr><th scope=row>1721058</th><td>Junb</td><td>Gm48362       </td><td>4.081430e-13</td></tr>\n",
       "\t<tr><th scope=row>1721684</th><td>Egr4</td><td>CAAA01165726.1</td><td>3.188149e-13</td></tr>\n",
       "\t<tr><th scope=row>1722051</th><td>Junb</td><td>Klk13         </td><td>2.715667e-13</td></tr>\n",
       "\t<tr><th scope=row>1722250</th><td>Egr4</td><td>Gm48651       </td><td>2.517756e-13</td></tr>\n",
       "\t<tr><th scope=row>1722468</th><td>Junb</td><td>Gm13211       </td><td>2.277013e-13</td></tr>\n",
       "\t<tr><th scope=row>1722744</th><td>Egr4</td><td>4930407I19Rik </td><td>1.962908e-13</td></tr>\n",
       "\t<tr><th scope=row>1723028</th><td>Fos </td><td>Hopxos        </td><td>1.720440e-13</td></tr>\n",
       "\t<tr><th scope=row>1723963</th><td>Junb</td><td>Wfikkn1       </td><td>1.024121e-13</td></tr>\n",
       "\t<tr><th scope=row>1724007</th><td>Egr1</td><td>Gm2379        </td><td>1.003576e-13</td></tr>\n",
       "\t<tr><th scope=row>1724388</th><td>Junb</td><td>4933407E24Rik </td><td>8.302855e-14</td></tr>\n",
       "\t<tr><th scope=row>1724734</th><td>Junb</td><td>Abcb5         </td><td>6.837193e-14</td></tr>\n",
       "\t<tr><th scope=row>1725255</th><td>Egr4</td><td>Gm12037       </td><td>4.856184e-14</td></tr>\n",
       "\t<tr><th scope=row>1725306</th><td>Egr1</td><td>2310081O03Rik </td><td>4.688231e-14</td></tr>\n",
       "\t<tr><th scope=row>1725722</th><td>Fos </td><td>Slc22a27      </td><td>3.368810e-14</td></tr>\n",
       "\t<tr><th scope=row>1726069</th><td>Egr4</td><td>Pcdha6        </td><td>2.316032e-14</td></tr>\n",
       "\t<tr><th scope=row>1727042</th><td>Egr1</td><td>4930422I22Rik </td><td>5.033007e-15</td></tr>\n",
       "\t<tr><th scope=row>1727713</th><td>Junb</td><td>Lrrc66        </td><td>6.786173e-16</td></tr>\n",
       "\t<tr><th scope=row>1727719</th><td>Fos </td><td>Gm17308       </td><td>6.638873e-16</td></tr>\n",
       "\t<tr><th scope=row>1728280</th><td>Fos </td><td>Gm11588       </td><td>1.127528e-16</td></tr>\n",
       "\t<tr><th scope=row>1729300</th><td>Egr1</td><td>Zfp513        </td><td>3.772759e-17</td></tr>\n",
       "</tbody>\n",
       "</table>\n"
      ],
      "text/latex": [
       "A data.frame: 4097 × 3\n",
       "\\begin{tabular}{r|lll}\n",
       "  & TF & target & importance\\\\\n",
       "  & <chr> & <chr> & <dbl>\\\\\n",
       "\\hline\n",
       "\t1021 & Egr1 & Slbp          & 4.719404\\\\\n",
       "\t1070 & Egr4 & Cdk5r2        & 4.673257\\\\\n",
       "\t1438 & Egr1 & Gja8          & 4.430963\\\\\n",
       "\t2174 & Egr1 & Ccpg1os       & 4.106022\\\\\n",
       "\t2394 & Fos  & Gm15775       & 4.028430\\\\\n",
       "\t2449 & Fos  & Dgkz          & 4.012931\\\\\n",
       "\t2816 & Egr1 & Hpx           & 3.911321\\\\\n",
       "\t3318 & Fos  & Gm19434       & 3.787905\\\\\n",
       "\t4067 & Fos  & Gm11629       & 3.640709\\\\\n",
       "\t4757 & Egr4 & Gm30928       & 3.524106\\\\\n",
       "\t5063 & Egr1 & BC055402      & 3.478375\\\\\n",
       "\t5519 & Egr1 & Hspa1b        & 3.408664\\\\\n",
       "\t6804 & Junb & Vmn1r47       & 3.251511\\\\\n",
       "\t7041 & Egr1 & Gm38593       & 3.226660\\\\\n",
       "\t7148 & Junb & Fabp7         & 3.215822\\\\\n",
       "\t8299 & Egr4 & Foxo6         & 3.106354\\\\\n",
       "\t8501 & Egr1 & 5830444B04Rik & 3.087823\\\\\n",
       "\t8544 & Fos  & Gm12925       & 3.084223\\\\\n",
       "\t8562 & Egr1 & Frmd4b        & 3.082623\\\\\n",
       "\t9355 & Fos  & Synpo2l       & 3.015493\\\\\n",
       "\t9820 & Junb & Lrrc72        & 2.980988\\\\\n",
       "\t9834 & Fos  & Lmo7          & 2.979853\\\\\n",
       "\t9857 & Egr4 & Gal3st3       & 2.978292\\\\\n",
       "\t9878 & Fos  & Gm17402       & 2.976672\\\\\n",
       "\t10180 & Fos  & Rdm1          & 2.954873\\\\\n",
       "\t10507 & Egr1 & Uhmk1         & 2.933785\\\\\n",
       "\t10562 & Egr1 & Ackr1         & 2.930290\\\\\n",
       "\t11141 & Fos  & AU040320      & 2.889218\\\\\n",
       "\t12182 & Fos  & 1700001C19Rik & 2.822397\\\\\n",
       "\t12287 & Egr1 & Mtmr2         & 2.815926\\\\\n",
       "\t⋮ & ⋮ & ⋮ & ⋮\\\\\n",
       "\t1717362 & Junb & 4931431C16Rik  & 1.504044e-12\\\\\n",
       "\t1718263 & Egr4 & Gm34370        & 1.148472e-12\\\\\n",
       "\t1718516 & Egr1 & Gm19582        & 1.060433e-12\\\\\n",
       "\t1719296 & Junb & Gm35041        & 8.079746e-13\\\\\n",
       "\t1719615 & Egr1 & Gm20750        & 7.195711e-13\\\\\n",
       "\t1719799 & Junb & Gm13568        & 6.759083e-13\\\\\n",
       "\t1720332 & Egr4 & Gm19689        & 5.542062e-13\\\\\n",
       "\t1720611 & Egr1 & Gm17268        & 4.961528e-13\\\\\n",
       "\t1720624 & Egr1 & Gm31759        & 4.942998e-13\\\\\n",
       "\t1720697 & Egr1 & Gm43698        & 4.786381e-13\\\\\n",
       "\t1721058 & Junb & Gm48362        & 4.081430e-13\\\\\n",
       "\t1721684 & Egr4 & CAAA01165726.1 & 3.188149e-13\\\\\n",
       "\t1722051 & Junb & Klk13          & 2.715667e-13\\\\\n",
       "\t1722250 & Egr4 & Gm48651        & 2.517756e-13\\\\\n",
       "\t1722468 & Junb & Gm13211        & 2.277013e-13\\\\\n",
       "\t1722744 & Egr4 & 4930407I19Rik  & 1.962908e-13\\\\\n",
       "\t1723028 & Fos  & Hopxos         & 1.720440e-13\\\\\n",
       "\t1723963 & Junb & Wfikkn1        & 1.024121e-13\\\\\n",
       "\t1724007 & Egr1 & Gm2379         & 1.003576e-13\\\\\n",
       "\t1724388 & Junb & 4933407E24Rik  & 8.302855e-14\\\\\n",
       "\t1724734 & Junb & Abcb5          & 6.837193e-14\\\\\n",
       "\t1725255 & Egr4 & Gm12037        & 4.856184e-14\\\\\n",
       "\t1725306 & Egr1 & 2310081O03Rik  & 4.688231e-14\\\\\n",
       "\t1725722 & Fos  & Slc22a27       & 3.368810e-14\\\\\n",
       "\t1726069 & Egr4 & Pcdha6         & 2.316032e-14\\\\\n",
       "\t1727042 & Egr1 & 4930422I22Rik  & 5.033007e-15\\\\\n",
       "\t1727713 & Junb & Lrrc66         & 6.786173e-16\\\\\n",
       "\t1727719 & Fos  & Gm17308        & 6.638873e-16\\\\\n",
       "\t1728280 & Fos  & Gm11588        & 1.127528e-16\\\\\n",
       "\t1729300 & Egr1 & Zfp513         & 3.772759e-17\\\\\n",
       "\\end{tabular}\n"
      ],
      "text/markdown": [
       "\n",
       "A data.frame: 4097 × 3\n",
       "\n",
       "| <!--/--> | TF &lt;chr&gt; | target &lt;chr&gt; | importance &lt;dbl&gt; |\n",
       "|---|---|---|---|\n",
       "| 1021 | Egr1 | Slbp          | 4.719404 |\n",
       "| 1070 | Egr4 | Cdk5r2        | 4.673257 |\n",
       "| 1438 | Egr1 | Gja8          | 4.430963 |\n",
       "| 2174 | Egr1 | Ccpg1os       | 4.106022 |\n",
       "| 2394 | Fos  | Gm15775       | 4.028430 |\n",
       "| 2449 | Fos  | Dgkz          | 4.012931 |\n",
       "| 2816 | Egr1 | Hpx           | 3.911321 |\n",
       "| 3318 | Fos  | Gm19434       | 3.787905 |\n",
       "| 4067 | Fos  | Gm11629       | 3.640709 |\n",
       "| 4757 | Egr4 | Gm30928       | 3.524106 |\n",
       "| 5063 | Egr1 | BC055402      | 3.478375 |\n",
       "| 5519 | Egr1 | Hspa1b        | 3.408664 |\n",
       "| 6804 | Junb | Vmn1r47       | 3.251511 |\n",
       "| 7041 | Egr1 | Gm38593       | 3.226660 |\n",
       "| 7148 | Junb | Fabp7         | 3.215822 |\n",
       "| 8299 | Egr4 | Foxo6         | 3.106354 |\n",
       "| 8501 | Egr1 | 5830444B04Rik | 3.087823 |\n",
       "| 8544 | Fos  | Gm12925       | 3.084223 |\n",
       "| 8562 | Egr1 | Frmd4b        | 3.082623 |\n",
       "| 9355 | Fos  | Synpo2l       | 3.015493 |\n",
       "| 9820 | Junb | Lrrc72        | 2.980988 |\n",
       "| 9834 | Fos  | Lmo7          | 2.979853 |\n",
       "| 9857 | Egr4 | Gal3st3       | 2.978292 |\n",
       "| 9878 | Fos  | Gm17402       | 2.976672 |\n",
       "| 10180 | Fos  | Rdm1          | 2.954873 |\n",
       "| 10507 | Egr1 | Uhmk1         | 2.933785 |\n",
       "| 10562 | Egr1 | Ackr1         | 2.930290 |\n",
       "| 11141 | Fos  | AU040320      | 2.889218 |\n",
       "| 12182 | Fos  | 1700001C19Rik | 2.822397 |\n",
       "| 12287 | Egr1 | Mtmr2         | 2.815926 |\n",
       "| ⋮ | ⋮ | ⋮ | ⋮ |\n",
       "| 1717362 | Junb | 4931431C16Rik  | 1.504044e-12 |\n",
       "| 1718263 | Egr4 | Gm34370        | 1.148472e-12 |\n",
       "| 1718516 | Egr1 | Gm19582        | 1.060433e-12 |\n",
       "| 1719296 | Junb | Gm35041        | 8.079746e-13 |\n",
       "| 1719615 | Egr1 | Gm20750        | 7.195711e-13 |\n",
       "| 1719799 | Junb | Gm13568        | 6.759083e-13 |\n",
       "| 1720332 | Egr4 | Gm19689        | 5.542062e-13 |\n",
       "| 1720611 | Egr1 | Gm17268        | 4.961528e-13 |\n",
       "| 1720624 | Egr1 | Gm31759        | 4.942998e-13 |\n",
       "| 1720697 | Egr1 | Gm43698        | 4.786381e-13 |\n",
       "| 1721058 | Junb | Gm48362        | 4.081430e-13 |\n",
       "| 1721684 | Egr4 | CAAA01165726.1 | 3.188149e-13 |\n",
       "| 1722051 | Junb | Klk13          | 2.715667e-13 |\n",
       "| 1722250 | Egr4 | Gm48651        | 2.517756e-13 |\n",
       "| 1722468 | Junb | Gm13211        | 2.277013e-13 |\n",
       "| 1722744 | Egr4 | 4930407I19Rik  | 1.962908e-13 |\n",
       "| 1723028 | Fos  | Hopxos         | 1.720440e-13 |\n",
       "| 1723963 | Junb | Wfikkn1        | 1.024121e-13 |\n",
       "| 1724007 | Egr1 | Gm2379         | 1.003576e-13 |\n",
       "| 1724388 | Junb | 4933407E24Rik  | 8.302855e-14 |\n",
       "| 1724734 | Junb | Abcb5          | 6.837193e-14 |\n",
       "| 1725255 | Egr4 | Gm12037        | 4.856184e-14 |\n",
       "| 1725306 | Egr1 | 2310081O03Rik  | 4.688231e-14 |\n",
       "| 1725722 | Fos  | Slc22a27       | 3.368810e-14 |\n",
       "| 1726069 | Egr4 | Pcdha6         | 2.316032e-14 |\n",
       "| 1727042 | Egr1 | 4930422I22Rik  | 5.033007e-15 |\n",
       "| 1727713 | Junb | Lrrc66         | 6.786173e-16 |\n",
       "| 1727719 | Fos  | Gm17308        | 6.638873e-16 |\n",
       "| 1728280 | Fos  | Gm11588        | 1.127528e-16 |\n",
       "| 1729300 | Egr1 | Zfp513         | 3.772759e-17 |\n",
       "\n"
      ],
      "text/plain": [
       "        TF   target         importance  \n",
       "1021    Egr1 Slbp           4.719404    \n",
       "1070    Egr4 Cdk5r2         4.673257    \n",
       "1438    Egr1 Gja8           4.430963    \n",
       "2174    Egr1 Ccpg1os        4.106022    \n",
       "2394    Fos  Gm15775        4.028430    \n",
       "2449    Fos  Dgkz           4.012931    \n",
       "2816    Egr1 Hpx            3.911321    \n",
       "3318    Fos  Gm19434        3.787905    \n",
       "4067    Fos  Gm11629        3.640709    \n",
       "4757    Egr4 Gm30928        3.524106    \n",
       "5063    Egr1 BC055402       3.478375    \n",
       "5519    Egr1 Hspa1b         3.408664    \n",
       "6804    Junb Vmn1r47        3.251511    \n",
       "7041    Egr1 Gm38593        3.226660    \n",
       "7148    Junb Fabp7          3.215822    \n",
       "8299    Egr4 Foxo6          3.106354    \n",
       "8501    Egr1 5830444B04Rik  3.087823    \n",
       "8544    Fos  Gm12925        3.084223    \n",
       "8562    Egr1 Frmd4b         3.082623    \n",
       "9355    Fos  Synpo2l        3.015493    \n",
       "9820    Junb Lrrc72         2.980988    \n",
       "9834    Fos  Lmo7           2.979853    \n",
       "9857    Egr4 Gal3st3        2.978292    \n",
       "9878    Fos  Gm17402        2.976672    \n",
       "10180   Fos  Rdm1           2.954873    \n",
       "10507   Egr1 Uhmk1          2.933785    \n",
       "10562   Egr1 Ackr1          2.930290    \n",
       "11141   Fos  AU040320       2.889218    \n",
       "12182   Fos  1700001C19Rik  2.822397    \n",
       "12287   Egr1 Mtmr2          2.815926    \n",
       "⋮       ⋮    ⋮              ⋮           \n",
       "1717362 Junb 4931431C16Rik  1.504044e-12\n",
       "1718263 Egr4 Gm34370        1.148472e-12\n",
       "1718516 Egr1 Gm19582        1.060433e-12\n",
       "1719296 Junb Gm35041        8.079746e-13\n",
       "1719615 Egr1 Gm20750        7.195711e-13\n",
       "1719799 Junb Gm13568        6.759083e-13\n",
       "1720332 Egr4 Gm19689        5.542062e-13\n",
       "1720611 Egr1 Gm17268        4.961528e-13\n",
       "1720624 Egr1 Gm31759        4.942998e-13\n",
       "1720697 Egr1 Gm43698        4.786381e-13\n",
       "1721058 Junb Gm48362        4.081430e-13\n",
       "1721684 Egr4 CAAA01165726.1 3.188149e-13\n",
       "1722051 Junb Klk13          2.715667e-13\n",
       "1722250 Egr4 Gm48651        2.517756e-13\n",
       "1722468 Junb Gm13211        2.277013e-13\n",
       "1722744 Egr4 4930407I19Rik  1.962908e-13\n",
       "1723028 Fos  Hopxos         1.720440e-13\n",
       "1723963 Junb Wfikkn1        1.024121e-13\n",
       "1724007 Egr1 Gm2379         1.003576e-13\n",
       "1724388 Junb 4933407E24Rik  8.302855e-14\n",
       "1724734 Junb Abcb5          6.837193e-14\n",
       "1725255 Egr4 Gm12037        4.856184e-14\n",
       "1725306 Egr1 2310081O03Rik  4.688231e-14\n",
       "1725722 Fos  Slc22a27       3.368810e-14\n",
       "1726069 Egr4 Pcdha6         2.316032e-14\n",
       "1727042 Egr1 4930422I22Rik  5.033007e-15\n",
       "1727713 Junb Lrrc66         6.786173e-16\n",
       "1727719 Fos  Gm17308        6.638873e-16\n",
       "1728280 Fos  Gm11588        1.127528e-16\n",
       "1729300 Egr1 Zfp513         3.772759e-17"
      ]
     },
     "metadata": {},
     "output_type": "display_data"
    }
   ],
   "source": [
    "df_grns"
   ]
  },
  {
   "cell_type": "code",
   "execution_count": 23,
   "metadata": {
    "vscode": {
     "languageId": "r"
    }
   },
   "outputs": [
    {
     "name": "stdout",
     "output_type": "stream",
     "text": [
      "[1] 1\n",
      "[1] \"module: 1 has 26 TFs\"\n",
      "[1] \"grn has 74346 TFs\"\n",
      "[1] 2\n",
      "[1] \"module: 2 has 5 TFs\"\n",
      "[1] \"grn has 9172 TFs\"\n",
      "[1] 3\n",
      "[1] \"module: 3 has 20 TFs\"\n",
      "[1] \"grn has 48935 TFs\"\n",
      "[1] 4\n",
      "[1] \"module: 4 has 6 TFs\"\n",
      "[1] \"grn has 13541 TFs\"\n",
      "[1] 5\n",
      "[1] \"module: 5 has 6 TFs\"\n",
      "[1] \"grn has 17182 TFs\"\n",
      "[1] 6\n",
      "[1] \"module: 6 has 4 TFs\"\n",
      "[1] \"grn has 9261 TFs\"\n",
      "[1] 7\n",
      "[1] \"module: 7 has 6 TFs\"\n",
      "[1] \"grn has 11107 TFs\"\n",
      "[1] 8\n",
      "[1] \"module: 8 has 4 TFs\"\n",
      "[1] \"grn has 4097 TFs\"\n"
     ]
    }
   ],
   "source": [
    "for (module in unique(df_moudule$module)) {\n",
    "    print(module)\n",
    "    tf_moduel <- df_moudule[df_moudule$module == module, ]\n",
    "    print(paste0(\"module: \", module, \" has \", nrow(tf_moduel), \" TFs\"))\n",
    "    df_grns <- df_grn[df_grn$TF %in% tf_moduel$TF, ]\n",
    "    print(paste0(\"grn has \", nrow(df_grns), \" TFs\"))\n",
    "\n",
    "}"
   ]
  },
  {
   "cell_type": "code",
   "execution_count": null,
   "metadata": {
    "vscode": {
     "languageId": "r"
    }
   },
   "outputs": [
    {
     "data": {
      "text/html": [
       "<style>\n",
       ".list-inline {list-style: none; margin:0; padding: 0}\n",
       ".list-inline>li {display: inline-block}\n",
       ".list-inline>li:not(:last-child)::after {content: \"\\00b7\"; padding: 0 .5ex}\n",
       "</style>\n",
       "<ol class=list-inline><li>'Npdc1'</li><li>'Jund'</li><li>'Cux1'</li><li>'Bclaf1'</li><li>'Bmyc'</li><li>'Foxp1'</li><li>'Zeb1'</li><li>'Nfe2l1'</li><li>'Ep300'</li><li>'Srebf2'</li><li>'Xbp1'</li><li>'Foxn3'</li><li>'Tef'</li><li>'Kdm5a'</li><li>'Smarca4'</li><li>'Zmiz1'</li><li>'Bach2'</li><li>'Tcf4'</li><li>'Nr2c2'</li><li>'Taf1'</li><li>'Tcf12'</li><li>'Rfx3'</li><li>'Pou2f1'</li><li>'Atf2'</li><li>'Bcl11a'</li><li>'Nr3c1'</li><li>'Mef2a'</li><li>'Hmgn3'</li><li>'Supt20'</li><li>'Irf2'</li><li>'Junb'</li><li>'Pbx1'</li><li>'Creb3'</li><li>'Zmat4'</li><li>'Nr2f2'</li><li>'Esrra'</li><li>'Phf8'</li><li>'Klf13'</li><li>'Zfp148'</li><li>'Foxp2'</li><li>'Clock'</li><li>'Hdac2'</li><li>'Atf4'</li><li>'Esrrg'</li><li>'Cebpz'</li><li>'Arnt2'</li><li>'Arnt'</li><li>'Ctcf'</li><li>'Rora'</li><li>'Tcf7l2'</li><li>'Thra'</li><li>'Rfx7'</li><li>'Pbx3'</li><li>'Pknox2'</li><li>'Meis2'</li><li>'Kdm5b'</li><li>'Meis1'</li><li>'Sox5'</li><li>'Prdx5'</li><li>'Zfp846'</li><li>'Setbp1'</li><li>'Foxj3'</li><li>'Thrb'</li><li>'Dbp'</li><li>'Rcor1'</li><li>'Setdb1'</li><li>'Hlf'</li><li>'Mef2c'</li><li>'Sox11'</li><li>'Nf1'</li><li>'Egr1'</li><li>'Egr4'</li><li>'Fos'</li><li>'Runx2'</li><li>'Lef1'</li><li>'Zbtb16'</li><li>'Foxo1'</li></ol>\n"
      ],
      "text/latex": [
       "\\begin{enumerate*}\n",
       "\\item 'Npdc1'\n",
       "\\item 'Jund'\n",
       "\\item 'Cux1'\n",
       "\\item 'Bclaf1'\n",
       "\\item 'Bmyc'\n",
       "\\item 'Foxp1'\n",
       "\\item 'Zeb1'\n",
       "\\item 'Nfe2l1'\n",
       "\\item 'Ep300'\n",
       "\\item 'Srebf2'\n",
       "\\item 'Xbp1'\n",
       "\\item 'Foxn3'\n",
       "\\item 'Tef'\n",
       "\\item 'Kdm5a'\n",
       "\\item 'Smarca4'\n",
       "\\item 'Zmiz1'\n",
       "\\item 'Bach2'\n",
       "\\item 'Tcf4'\n",
       "\\item 'Nr2c2'\n",
       "\\item 'Taf1'\n",
       "\\item 'Tcf12'\n",
       "\\item 'Rfx3'\n",
       "\\item 'Pou2f1'\n",
       "\\item 'Atf2'\n",
       "\\item 'Bcl11a'\n",
       "\\item 'Nr3c1'\n",
       "\\item 'Mef2a'\n",
       "\\item 'Hmgn3'\n",
       "\\item 'Supt20'\n",
       "\\item 'Irf2'\n",
       "\\item 'Junb'\n",
       "\\item 'Pbx1'\n",
       "\\item 'Creb3'\n",
       "\\item 'Zmat4'\n",
       "\\item 'Nr2f2'\n",
       "\\item 'Esrra'\n",
       "\\item 'Phf8'\n",
       "\\item 'Klf13'\n",
       "\\item 'Zfp148'\n",
       "\\item 'Foxp2'\n",
       "\\item 'Clock'\n",
       "\\item 'Hdac2'\n",
       "\\item 'Atf4'\n",
       "\\item 'Esrrg'\n",
       "\\item 'Cebpz'\n",
       "\\item 'Arnt2'\n",
       "\\item 'Arnt'\n",
       "\\item 'Ctcf'\n",
       "\\item 'Rora'\n",
       "\\item 'Tcf7l2'\n",
       "\\item 'Thra'\n",
       "\\item 'Rfx7'\n",
       "\\item 'Pbx3'\n",
       "\\item 'Pknox2'\n",
       "\\item 'Meis2'\n",
       "\\item 'Kdm5b'\n",
       "\\item 'Meis1'\n",
       "\\item 'Sox5'\n",
       "\\item 'Prdx5'\n",
       "\\item 'Zfp846'\n",
       "\\item 'Setbp1'\n",
       "\\item 'Foxj3'\n",
       "\\item 'Thrb'\n",
       "\\item 'Dbp'\n",
       "\\item 'Rcor1'\n",
       "\\item 'Setdb1'\n",
       "\\item 'Hlf'\n",
       "\\item 'Mef2c'\n",
       "\\item 'Sox11'\n",
       "\\item 'Nf1'\n",
       "\\item 'Egr1'\n",
       "\\item 'Egr4'\n",
       "\\item 'Fos'\n",
       "\\item 'Runx2'\n",
       "\\item 'Lef1'\n",
       "\\item 'Zbtb16'\n",
       "\\item 'Foxo1'\n",
       "\\end{enumerate*}\n"
      ],
      "text/markdown": [
       "1. 'Npdc1'\n",
       "2. 'Jund'\n",
       "3. 'Cux1'\n",
       "4. 'Bclaf1'\n",
       "5. 'Bmyc'\n",
       "6. 'Foxp1'\n",
       "7. 'Zeb1'\n",
       "8. 'Nfe2l1'\n",
       "9. 'Ep300'\n",
       "10. 'Srebf2'\n",
       "11. 'Xbp1'\n",
       "12. 'Foxn3'\n",
       "13. 'Tef'\n",
       "14. 'Kdm5a'\n",
       "15. 'Smarca4'\n",
       "16. 'Zmiz1'\n",
       "17. 'Bach2'\n",
       "18. 'Tcf4'\n",
       "19. 'Nr2c2'\n",
       "20. 'Taf1'\n",
       "21. 'Tcf12'\n",
       "22. 'Rfx3'\n",
       "23. 'Pou2f1'\n",
       "24. 'Atf2'\n",
       "25. 'Bcl11a'\n",
       "26. 'Nr3c1'\n",
       "27. 'Mef2a'\n",
       "28. 'Hmgn3'\n",
       "29. 'Supt20'\n",
       "30. 'Irf2'\n",
       "31. 'Junb'\n",
       "32. 'Pbx1'\n",
       "33. 'Creb3'\n",
       "34. 'Zmat4'\n",
       "35. 'Nr2f2'\n",
       "36. 'Esrra'\n",
       "37. 'Phf8'\n",
       "38. 'Klf13'\n",
       "39. 'Zfp148'\n",
       "40. 'Foxp2'\n",
       "41. 'Clock'\n",
       "42. 'Hdac2'\n",
       "43. 'Atf4'\n",
       "44. 'Esrrg'\n",
       "45. 'Cebpz'\n",
       "46. 'Arnt2'\n",
       "47. 'Arnt'\n",
       "48. 'Ctcf'\n",
       "49. 'Rora'\n",
       "50. 'Tcf7l2'\n",
       "51. 'Thra'\n",
       "52. 'Rfx7'\n",
       "53. 'Pbx3'\n",
       "54. 'Pknox2'\n",
       "55. 'Meis2'\n",
       "56. 'Kdm5b'\n",
       "57. 'Meis1'\n",
       "58. 'Sox5'\n",
       "59. 'Prdx5'\n",
       "60. 'Zfp846'\n",
       "61. 'Setbp1'\n",
       "62. 'Foxj3'\n",
       "63. 'Thrb'\n",
       "64. 'Dbp'\n",
       "65. 'Rcor1'\n",
       "66. 'Setdb1'\n",
       "67. 'Hlf'\n",
       "68. 'Mef2c'\n",
       "69. 'Sox11'\n",
       "70. 'Nf1'\n",
       "71. 'Egr1'\n",
       "72. 'Egr4'\n",
       "73. 'Fos'\n",
       "74. 'Runx2'\n",
       "75. 'Lef1'\n",
       "76. 'Zbtb16'\n",
       "77. 'Foxo1'\n",
       "\n",
       "\n"
      ],
      "text/plain": [
       " [1] \"Npdc1\"   \"Jund\"    \"Cux1\"    \"Bclaf1\"  \"Bmyc\"    \"Foxp1\"   \"Zeb1\"   \n",
       " [8] \"Nfe2l1\"  \"Ep300\"   \"Srebf2\"  \"Xbp1\"    \"Foxn3\"   \"Tef\"     \"Kdm5a\"  \n",
       "[15] \"Smarca4\" \"Zmiz1\"   \"Bach2\"   \"Tcf4\"    \"Nr2c2\"   \"Taf1\"    \"Tcf12\"  \n",
       "[22] \"Rfx3\"    \"Pou2f1\"  \"Atf2\"    \"Bcl11a\"  \"Nr3c1\"   \"Mef2a\"   \"Hmgn3\"  \n",
       "[29] \"Supt20\"  \"Irf2\"    \"Junb\"    \"Pbx1\"    \"Creb3\"   \"Zmat4\"   \"Nr2f2\"  \n",
       "[36] \"Esrra\"   \"Phf8\"    \"Klf13\"   \"Zfp148\"  \"Foxp2\"   \"Clock\"   \"Hdac2\"  \n",
       "[43] \"Atf4\"    \"Esrrg\"   \"Cebpz\"   \"Arnt2\"   \"Arnt\"    \"Ctcf\"    \"Rora\"   \n",
       "[50] \"Tcf7l2\"  \"Thra\"    \"Rfx7\"    \"Pbx3\"    \"Pknox2\"  \"Meis2\"   \"Kdm5b\"  \n",
       "[57] \"Meis1\"   \"Sox5\"    \"Prdx5\"   \"Zfp846\"  \"Setbp1\"  \"Foxj3\"   \"Thrb\"   \n",
       "[64] \"Dbp\"     \"Rcor1\"   \"Setdb1\"  \"Hlf\"     \"Mef2c\"   \"Sox11\"   \"Nf1\"    \n",
       "[71] \"Egr1\"    \"Egr4\"    \"Fos\"     \"Runx2\"   \"Lef1\"    \"Zbtb16\"  \"Foxo1\"  "
      ]
     },
     "metadata": {},
     "output_type": "display_data"
    }
   ],
   "source": [
    "#df_grns <- df_grns[1:3]  # Adjust this line to read all files if needed\n",
    "  # if file name does not contain brainregion, skip\n",
    "  # If it is non neuron cells\n",
    "  if (brainregion=='NN') {\n",
    "    regions <- c('HPF','Isocortex', 'AMY','PFC', 'TH', 'STR',  'HY', 'MB')\n",
    "    # if the file name contains any of the regions, skip\n",
    "    if (any(grepl(paste(regions, collapse = \"|\"), file))) {\n",
    "      print(paste(\"Skipping file:\", file, \"because it is not NN name.\"))\n",
    "      next\n",
    "    }\n",
    "  } else if (!grepl(brainregion, file)) {\n",
    "    next\n",
    "  }\n",
    "  celltype <- gsub(\"^.*adj_([A-Za-z0-9_]+)_.*$\", \"\\\\1\", file) \n",
    "  gender <-gsub(\".*_([A-Za-z]+)\\\\.tsv\", \"\\\\1\", file)\n",
    "  region <- gsub(\"^.*adj_([A-Za-z0-9]+)_([A-Za-z0-9_]+).*$\", \"\\\\1\", file) \n",
    "\n",
    "  # if file already exists and overwrite is FALSE, skip\n",
    "  df_grn <- read.table(file, header = TRUE, sep = \"\\t\")\n",
    "\n",
    "  # filter the GRN dataframe to only include important TFs\n",
    "  df_grn <- df_grn[df_grn$TF %in% df_important_TF.unique, ]\n",
    "\n",
    "  for (tf in unique(df_grn$TF)) {\n",
    "\n",
    "      if (file.exists(paste(outdir, \"GO_enrichment\",celltype,gender,tf,\".csv\",sep = \"_\")) && !overwrite) {\n",
    "        print(paste(\"File already exists:\", paste(outdir, \"GO_enrichment\",celltype,gender,tf,\".csv\",sep = \"_\")))\n",
    "        next\n",
    "      }\n",
    "        tryCatch(\n",
    "        {\n",
    "          subset_df <- df_grn[df_grn$TF == tf, ]\n",
    "          gene_type_label = \"gene\"\n",
    "          gene_list <- unique(subset_df$target)\n",
    "          if(length(gene_list) > 0) {\n",
    "      \n",
    "            gostres <- gost(query = gene_list,\n",
    "                            organism = \"mmusculus\",\n",
    "                            sources = c(\"GO:MF\", \"GO:CC\", \"GO:BP\"),\n",
    "                            ordered_query = TRUE,\n",
    "                            significant = TRUE,\n",
    "                            user_threshold = 0.05,\n",
    "                            correction_method = \"g_SCS\",\n",
    "                            evcodes = TRUE)\n",
    "            \n",
    "            if(!is.null(gostres$result) && nrow(gostres$result) > 0) {\n",
    "              res <- gostres$result\n",
    "              res$celltype <- celltype\n",
    "              res$gene_type_group <- gene_type_label\n",
    "\n",
    "\n",
    "              for (col_name in names(res)) {\n",
    "                if (class(res[[col_name]]) == \"list\") {\n",
    "                  # Convert list elements to a single string, e.g., comma-separated\n",
    "                  res[[col_name]] <- sapply(res[[col_name]], function(x) paste(x, collapse = \"/\"))\n",
    "              }}\n",
    "              write.csv(res, file = paste(outdir, \"GO_enrichment\",celltype,gender,tf,\".csv\",sep = \"_\"), row.names = FALSE)\n",
    "\n",
    "              #all_results[[celltype]] <- res\n",
    "            } else {\n",
    "              cat(\"No enrichment results for gene_type =\", gene_type_label, \"celltype =\", celltype, \"\\n\")\n",
    "            }\n",
    "          } else {\n",
    "            cat(\"No genes for gene_type =\", gene_type_label, \"celltype =\", celltype, \"\\n\")\n",
    "          }\n",
    "        }, \n",
    "        error = function(e) {\n",
    "          print(paste(\"Error in subsetting data for\", celltype, gender))\n",
    "      })\n",
    "  }\n",
    "  \n"
   ]
  },
  {
   "cell_type": "code",
   "execution_count": null,
   "metadata": {
    "vscode": {
     "languageId": "r"
    }
   },
   "outputs": [],
   "source": [
    "#df_grns <- df_grns[1:3]  # Adjust this line to read all files if needed\n",
    "for (file in df_grns) {\n",
    "  # if file name does not contain brainregion, skip\n",
    "  # If it is non neuron cells\n",
    "  if (brainregion=='NN') {\n",
    "    regions <- c('HPF','Isocortex', 'AMY','PFC', 'TH', 'STR',  'HY', 'MB')\n",
    "    # if the file name contains any of the regions, skip\n",
    "    if (any(grepl(paste(regions, collapse = \"|\"), file))) {\n",
    "      print(paste(\"Skipping file:\", file, \"because it is not NN name.\"))\n",
    "      next\n",
    "    }\n",
    "  } else if (!grepl(brainregion, file)) {\n",
    "    next\n",
    "  }\n",
    "  celltype <- gsub(\"^.*adj_([A-Za-z0-9_]+)_.*$\", \"\\\\1\", file) \n",
    "  gender <-gsub(\".*_([A-Za-z]+)\\\\.tsv\", \"\\\\1\", file)\n",
    "  region <- gsub(\"^.*adj_([A-Za-z0-9]+)_([A-Za-z0-9_]+).*$\", \"\\\\1\", file) \n",
    "\n",
    "  # if file already exists and overwrite is FALSE, skip\n",
    "  df_grn <- read.table(file, header = TRUE, sep = \"\\t\")\n",
    "\n",
    "  # filter the GRN dataframe to only include important TFs\n",
    "  df_grn <- df_grn[df_grn$TF %in% df_important_TF.unique, ]\n",
    "\n",
    "  for (tf in unique(df_grn$TF)) {\n",
    "\n",
    "      if (file.exists(paste(outdir, \"GO_enrichment\",celltype,gender,tf,\".csv\",sep = \"_\")) && !overwrite) {\n",
    "        print(paste(\"File already exists:\", paste(outdir, \"GO_enrichment\",celltype,gender,tf,\".csv\",sep = \"_\")))\n",
    "        next\n",
    "      }\n",
    "        tryCatch(\n",
    "        {\n",
    "          subset_df <- df_grn[df_grn$TF == tf, ]\n",
    "          gene_type_label = \"gene\"\n",
    "          gene_list <- unique(subset_df$target)\n",
    "          if(length(gene_list) > 0) {\n",
    "      \n",
    "            gostres <- gost(query = gene_list,\n",
    "                            organism = \"mmusculus\",\n",
    "                            sources = c(\"GO:MF\", \"GO:CC\", \"GO:BP\"),\n",
    "                            ordered_query = TRUE,\n",
    "                            significant = TRUE,\n",
    "                            user_threshold = 0.05,\n",
    "                            correction_method = \"g_SCS\",\n",
    "                            evcodes = TRUE)\n",
    "            \n",
    "            if(!is.null(gostres$result) && nrow(gostres$result) > 0) {\n",
    "              res <- gostres$result\n",
    "              res$celltype <- celltype\n",
    "              res$gene_type_group <- gene_type_label\n",
    "\n",
    "\n",
    "              for (col_name in names(res)) {\n",
    "                if (class(res[[col_name]]) == \"list\") {\n",
    "                  # Convert list elements to a single string, e.g., comma-separated\n",
    "                  res[[col_name]] <- sapply(res[[col_name]], function(x) paste(x, collapse = \"/\"))\n",
    "              }}\n",
    "              write.csv(res, file = paste(outdir, \"GO_enrichment\",celltype,gender,tf,\".csv\",sep = \"_\"), row.names = FALSE)\n",
    "\n",
    "              #all_results[[celltype]] <- res\n",
    "            } else {\n",
    "              cat(\"No enrichment results for gene_type =\", gene_type_label, \"celltype =\", celltype, \"\\n\")\n",
    "            }\n",
    "          } else {\n",
    "            cat(\"No genes for gene_type =\", gene_type_label, \"celltype =\", celltype, \"\\n\")\n",
    "          }\n",
    "        }, \n",
    "        error = function(e) {\n",
    "          print(paste(\"Error in subsetting data for\", celltype, gender))\n",
    "      })\n",
    "  }\n",
    "  \n",
    "}"
   ]
  },
  {
   "cell_type": "code",
   "execution_count": null,
   "metadata": {
    "vscode": {
     "languageId": "r"
    }
   },
   "outputs": [],
   "source": []
  },
  {
   "cell_type": "code",
   "execution_count": null,
   "metadata": {
    "vscode": {
     "languageId": "r"
    }
   },
   "outputs": [],
   "source": []
  },
  {
   "cell_type": "code",
   "execution_count": null,
   "metadata": {
    "vscode": {
     "languageId": "r"
    }
   },
   "outputs": [],
   "source": [
    "gene_type_label = \"gene\"\n",
    "all_results <- list()\n",
    "\n",
    "gene_list <- unique(subset_df$target)\n",
    "    \n",
    "    if(length(gene_list) > 0) {\n",
    "      \n",
    "      gostres <- gost(query = gene_list,\n",
    "                      organism = \"mmusculus\",\n",
    "                      sources = c(\"GO:MF\", \"GO:CC\", \"GO:BP\"),\n",
    "                      ordered_query = TRUE,\n",
    "                      significant = TRUE,\n",
    "                      user_threshold = 0.05,\n",
    "                      correction_method = \"g_SCS\",\n",
    "                      evcodes = TRUE)\n",
    "      \n",
    "      if(!is.null(gostres$result) && nrow(gostres$result) > 0) {\n",
    "        res <- gostres$result\n",
    "        res$celltype <- celltype\n",
    "        res$gene_type_group <- gene_type_label\n",
    "\n",
    "        #all_results[[celltype]] <- res\n",
    "      } else {\n",
    "        cat(\"No enrichment results for gene_type =\", gene_type_label, \"celltype =\", celltype, \"\\n\")\n",
    "      }\n",
    "    } else {\n",
    "      cat(\"No genes for gene_type =\", gene_type_label, \"celltype =\", celltype, \"\\n\")\n",
    "    }\n",
    "  \n",
    "  \n",
    "#   # 合并有效结果\n",
    "#   valid_results <- all_results[sapply(all_results, function(x) !is.null(x) && nrow(x) > 0)]\n",
    "#   if(length(valid_results) > 0) {\n",
    "#     do.call(rbind, valid_results)\n",
    "#   } else {\n",
    "#     cat(\"No enrichment results generated overall for gene_type =\", gene_type_label, \"\\n\")\n",
    "#     NULL\n",
    "#   }\n",
    "\n",
    "# valid_results$parents_str <- sapply(valid_results$parents, function(x) {\n",
    "#   if(length(x) == 0) return(NA)  # 如果为空，写NA\n",
    "#   paste(x, collapse = \";\")\n",
    "# })\n",
    "\n",
    "# valid_results$parents <- valid_results$parents_str\n",
    "# valid_results$parents_str <- NULL     "
   ]
  },
  {
   "cell_type": "code",
   "execution_count": null,
   "metadata": {
    "vscode": {
     "languageId": "r"
    }
   },
   "outputs": [],
   "source": [
    "#读取 DEG 数据 \n",
    "data = read.csv(\"all.markers_anno.csv\")\n",
    "\n",
    "data <- data[order(-abs(data$avg_log2FC)), ]\n",
    "\n",
    "data <- subset(data, \n",
    "              !grepl(\"^mt-\", gene, ignore.case = TRUE) &\n",
    "                !grepl(\"^Rp\", gene))\n",
    "\n",
    "\n",
    "data$celltype = data$cluster\n",
    "\n",
    "\n",
    "###############################################################################\n",
    "## 复用富集函数\n",
    "perform_enrichment <- function(sub_data, gene_type_label) {\n",
    "  all_results <- list()\n",
    "  \n",
    "  samples <- unique(sub_data$celltype)  # 按celltype分组\n",
    "  \n",
    "  for(smp in samples) {\n",
    "    cat(\"Processing gene_type =\", gene_type_label, \"celltype =\", smp, \"\\n\")\n",
    "    \n",
    "    subset_data <- subset(sub_data, celltype == smp & !is.na(gene))\n",
    "    gene_list <- unique(subset_data$gene)\n",
    "    \n",
    "    if(length(gene_list) > 0) {\n",
    "      \n",
    "      gostres <- gost(query = gene_list,\n",
    "                      organism = \"mmusculus\",\n",
    "                      sources = c(\"GO:MF\", \"GO:CC\", \"GO:BP\"),\n",
    "                      ordered_query = TRUE,\n",
    "                      significant = TRUE,\n",
    "                      user_threshold = 0.05,\n",
    "                      correction_method = \"g_SCS\",\n",
    "                      evcodes = TRUE)\n",
    "      \n",
    "      if(!is.null(gostres$result) && nrow(gostres$result) > 0) {\n",
    "        res <- gostres$result\n",
    "        res$celltype <- smp\n",
    "        res$gene_type_group <- gene_type_label\n",
    "        \n",
    "        all_results[[smp]] <- res\n",
    "      } else {\n",
    "        cat(\"No enrichment results for gene_type =\", gene_type_label, \"celltype =\", smp, \"\\n\")\n",
    "      }\n",
    "    } else {\n",
    "      cat(\"No genes for gene_type =\", gene_type_label, \"celltype =\", smp, \"\\n\")\n",
    "    }\n",
    "  }\n",
    "  \n",
    "  # 合并有效结果\n",
    "  valid_results <- all_results[sapply(all_results, function(x) !is.null(x) && nrow(x) > 0)]\n",
    "  if(length(valid_results) > 0) {\n",
    "    do.call(rbind, valid_results)\n",
    "  } else {\n",
    "    cat(\"No enrichment results generated overall for gene_type =\", gene_type_label, \"\\n\")\n",
    "    NULL\n",
    "  }\n",
    "}\n",
    "\n",
    "go_results <- perform_enrichment(data, \"gene\")\n",
    "\n",
    "\n",
    "\n",
    "go_results$parents <- go_results$parents_str\n",
    "go_results$parents_str <- NULL"
   ]
  },
  {
   "cell_type": "code",
   "execution_count": null,
   "metadata": {
    "vscode": {
     "languageId": "r"
    }
   },
   "outputs": [
    {
     "name": "stdout",
     "output_type": "stream",
     "text": [
      "[1] \"Processing: AMY_Ccdc3_Acvr1c_Glut F\"\n",
      "[1] \"Number of genes: 5975\"\n"
     ]
    },
    {
     "name": "stderr",
     "output_type": "stream",
     "text": [
      "'select()' returned 1:1 mapping between keys and columns\n",
      "\n",
      "Warning message in bitr(unique(subset_df$target), fromType = \"SYMBOL\", toType = \"ENTREZID\", :\n",
      "“11.26% of input gene IDs are fail to map...”\n",
      "Reading KEGG annotation online: \"https://rest.kegg.jp/link/mmu/pathway\"...\n",
      "\n",
      "Reading KEGG annotation online: \"https://rest.kegg.jp/list/pathway/mmu\"...\n",
      "\n"
     ]
    },
    {
     "name": "stdout",
     "output_type": "stream",
     "text": [
      "[1] \"Processing: AMY_Ccdc3_Acvr1c_Glut F\"\n",
      "[1] \"Number of genes: 2764\"\n"
     ]
    },
    {
     "name": "stderr",
     "output_type": "stream",
     "text": [
      "'select()' returned 1:1 mapping between keys and columns\n",
      "\n",
      "Warning message in bitr(unique(subset_df$target), fromType = \"SYMBOL\", toType = \"ENTREZID\", :\n",
      "“11.47% of input gene IDs are fail to map...”\n"
     ]
    },
    {
     "name": "stdout",
     "output_type": "stream",
     "text": [
      "[1] \"Processing: AMY_Ccdc3_Acvr1c_Glut F\"\n",
      "[1] \"Number of genes: 3915\"\n"
     ]
    },
    {
     "name": "stderr",
     "output_type": "stream",
     "text": [
      "'select()' returned 1:1 mapping between keys and columns\n",
      "\n",
      "Warning message in bitr(unique(subset_df$target), fromType = \"SYMBOL\", toType = \"ENTREZID\", :\n",
      "“11.34% of input gene IDs are fail to map...”\n"
     ]
    },
    {
     "name": "stdout",
     "output_type": "stream",
     "text": [
      "[1] \"Processing: AMY_Ccdc3_Acvr1c_Glut F\"\n",
      "[1] \"Number of genes: 1054\"\n"
     ]
    },
    {
     "name": "stderr",
     "output_type": "stream",
     "text": [
      "'select()' returned 1:1 mapping between keys and columns\n",
      "\n",
      "Warning message in bitr(unique(subset_df$target), fromType = \"SYMBOL\", toType = \"ENTREZID\", :\n",
      "“14.23% of input gene IDs are fail to map...”\n",
      "Warning message in rep(yes, length.out = len):\n",
      "“'x' is NULL so the result will be NULL”\n"
     ]
    },
    {
     "name": "stdout",
     "output_type": "stream",
     "text": [
      "[1] \"Error in subsetting data for AMY_Ccdc3_Acvr1c_Glut F\"\n",
      "[1] \"Processing: AMY_Ccdc3_Acvr1c_Glut F\"\n",
      "[1] \"Number of genes: 1306\"\n"
     ]
    },
    {
     "name": "stderr",
     "output_type": "stream",
     "text": [
      "'select()' returned 1:1 mapping between keys and columns\n",
      "\n",
      "Warning message in bitr(unique(subset_df$target), fromType = \"SYMBOL\", toType = \"ENTREZID\", :\n",
      "“12.86% of input gene IDs are fail to map...”\n"
     ]
    },
    {
     "name": "stdout",
     "output_type": "stream",
     "text": [
      "[1] \"Processing: AMY_Ccdc3_Acvr1c_Glut F\"\n",
      "[1] \"Number of genes: 5214\"\n"
     ]
    },
    {
     "name": "stderr",
     "output_type": "stream",
     "text": [
      "'select()' returned 1:1 mapping between keys and columns\n",
      "\n",
      "Warning message in bitr(unique(subset_df$target), fromType = \"SYMBOL\", toType = \"ENTREZID\", :\n",
      "“10.4% of input gene IDs are fail to map...”\n"
     ]
    },
    {
     "name": "stdout",
     "output_type": "stream",
     "text": [
      "[1] \"Processing: AMY_Ccdc3_Acvr1c_Glut F\"\n",
      "[1] \"Number of genes: 2181\"\n"
     ]
    },
    {
     "name": "stderr",
     "output_type": "stream",
     "text": [
      "'select()' returned 1:1 mapping between keys and columns\n",
      "\n",
      "Warning message in bitr(unique(subset_df$target), fromType = \"SYMBOL\", toType = \"ENTREZID\", :\n",
      "“10.18% of input gene IDs are fail to map...”\n"
     ]
    },
    {
     "name": "stdout",
     "output_type": "stream",
     "text": [
      "[1] \"Processing: AMY_Ccdc3_Acvr1c_Glut F\"\n",
      "[1] \"Number of genes: 5317\"\n"
     ]
    },
    {
     "name": "stderr",
     "output_type": "stream",
     "text": [
      "'select()' returned 1:1 mapping between keys and columns\n",
      "\n",
      "Warning message in bitr(unique(subset_df$target), fromType = \"SYMBOL\", toType = \"ENTREZID\", :\n",
      "“11.23% of input gene IDs are fail to map...”\n"
     ]
    },
    {
     "name": "stdout",
     "output_type": "stream",
     "text": [
      "[1] \"Processing: AMY_Ccdc3_Acvr1c_Glut F\"\n",
      "[1] \"Number of genes: 4331\"\n"
     ]
    },
    {
     "name": "stderr",
     "output_type": "stream",
     "text": [
      "'select()' returned 1:1 mapping between keys and columns\n",
      "\n",
      "Warning message in bitr(unique(subset_df$target), fromType = \"SYMBOL\", toType = \"ENTREZID\", :\n",
      "“8.34% of input gene IDs are fail to map...”\n"
     ]
    },
    {
     "name": "stdout",
     "output_type": "stream",
     "text": [
      "[1] \"Processing: AMY_Ccdc3_Acvr1c_Glut F\"\n",
      "[1] \"Number of genes: 2393\"\n"
     ]
    },
    {
     "name": "stderr",
     "output_type": "stream",
     "text": [
      "'select()' returned 1:1 mapping between keys and columns\n",
      "\n",
      "Warning message in bitr(unique(subset_df$target), fromType = \"SYMBOL\", toType = \"ENTREZID\", :\n",
      "“10.49% of input gene IDs are fail to map...”\n"
     ]
    },
    {
     "name": "stdout",
     "output_type": "stream",
     "text": [
      "[1] \"Processing: AMY_Ccdc3_Acvr1c_Glut F\"\n",
      "[1] \"Number of genes: 829\"\n"
     ]
    },
    {
     "name": "stderr",
     "output_type": "stream",
     "text": [
      "'select()' returned 1:1 mapping between keys and columns\n",
      "\n",
      "Warning message in bitr(unique(subset_df$target), fromType = \"SYMBOL\", toType = \"ENTREZID\", :\n",
      "“13.39% of input gene IDs are fail to map...”\n",
      "Warning message in rep(yes, length.out = len):\n",
      "“'x' is NULL so the result will be NULL”\n"
     ]
    },
    {
     "name": "stdout",
     "output_type": "stream",
     "text": [
      "[1] \"Error in subsetting data for AMY_Ccdc3_Acvr1c_Glut F\"\n",
      "[1] \"Processing: AMY_Ccdc3_Acvr1c_Glut F\"\n",
      "[1] \"Number of genes: 5659\"\n"
     ]
    },
    {
     "name": "stderr",
     "output_type": "stream",
     "text": [
      "'select()' returned 1:1 mapping between keys and columns\n",
      "\n",
      "Warning message in bitr(unique(subset_df$target), fromType = \"SYMBOL\", toType = \"ENTREZID\", :\n",
      "“11.26% of input gene IDs are fail to map...”\n"
     ]
    },
    {
     "name": "stdout",
     "output_type": "stream",
     "text": [
      "[1] \"Processing: AMY_Ccdc3_Acvr1c_Glut F\"\n",
      "[1] \"Number of genes: 2982\"\n"
     ]
    },
    {
     "name": "stderr",
     "output_type": "stream",
     "text": [
      "'select()' returned 1:1 mapping between keys and columns\n",
      "\n",
      "Warning message in bitr(unique(subset_df$target), fromType = \"SYMBOL\", toType = \"ENTREZID\", :\n",
      "“10.09% of input gene IDs are fail to map...”\n"
     ]
    },
    {
     "name": "stdout",
     "output_type": "stream",
     "text": [
      "[1] \"Processing: AMY_Ccdc3_Acvr1c_Glut F\"\n",
      "[1] \"Number of genes: 2929\"\n"
     ]
    },
    {
     "name": "stderr",
     "output_type": "stream",
     "text": [
      "'select()' returned 1:1 mapping between keys and columns\n",
      "\n",
      "Warning message in bitr(unique(subset_df$target), fromType = \"SYMBOL\", toType = \"ENTREZID\", :\n",
      "“11.88% of input gene IDs are fail to map...”\n"
     ]
    },
    {
     "name": "stdout",
     "output_type": "stream",
     "text": [
      "[1] \"Processing: AMY_Ccdc3_Acvr1c_Glut F\"\n",
      "[1] \"Number of genes: 3536\"\n"
     ]
    },
    {
     "name": "stderr",
     "output_type": "stream",
     "text": [
      "'select()' returned 1:1 mapping between keys and columns\n",
      "\n",
      "Warning message in bitr(unique(subset_df$target), fromType = \"SYMBOL\", toType = \"ENTREZID\", :\n",
      "“11.57% of input gene IDs are fail to map...”\n"
     ]
    },
    {
     "name": "stdout",
     "output_type": "stream",
     "text": [
      "[1] \"Processing: AMY_Ccdc3_Acvr1c_Glut F\"\n",
      "[1] \"Number of genes: 2742\"\n"
     ]
    },
    {
     "name": "stderr",
     "output_type": "stream",
     "text": [
      "'select()' returned 1:1 mapping between keys and columns\n",
      "\n",
      "Warning message in bitr(unique(subset_df$target), fromType = \"SYMBOL\", toType = \"ENTREZID\", :\n",
      "“10.28% of input gene IDs are fail to map...”\n"
     ]
    },
    {
     "name": "stdout",
     "output_type": "stream",
     "text": [
      "[1] \"Processing: AMY_Ccdc3_Acvr1c_Glut F\"\n",
      "[1] \"Number of genes: 2684\"\n"
     ]
    },
    {
     "name": "stderr",
     "output_type": "stream",
     "text": [
      "'select()' returned 1:1 mapping between keys and columns\n",
      "\n",
      "Warning message in bitr(unique(subset_df$target), fromType = \"SYMBOL\", toType = \"ENTREZID\", :\n",
      "“10.88% of input gene IDs are fail to map...”\n",
      "Warning message in rep(yes, length.out = len):\n",
      "“'x' is NULL so the result will be NULL”\n"
     ]
    },
    {
     "name": "stdout",
     "output_type": "stream",
     "text": [
      "[1] \"Error in subsetting data for AMY_Ccdc3_Acvr1c_Glut F\"\n",
      "[1] \"Processing: AMY_Ccdc3_Acvr1c_Glut F\"\n",
      "[1] \"Number of genes: 1933\"\n"
     ]
    },
    {
     "name": "stderr",
     "output_type": "stream",
     "text": [
      "'select()' returned 1:1 mapping between keys and columns\n",
      "\n",
      "Warning message in bitr(unique(subset_df$target), fromType = \"SYMBOL\", toType = \"ENTREZID\", :\n",
      "“9.93% of input gene IDs are fail to map...”\n"
     ]
    },
    {
     "name": "stdout",
     "output_type": "stream",
     "text": [
      "[1] \"Processing: AMY_Ccdc3_Acvr1c_Glut F\"\n",
      "[1] \"Number of genes: 5022\"\n"
     ]
    },
    {
     "name": "stderr",
     "output_type": "stream",
     "text": [
      "'select()' returned 1:1 mapping between keys and columns\n",
      "\n",
      "Warning message in bitr(unique(subset_df$target), fromType = \"SYMBOL\", toType = \"ENTREZID\", :\n",
      "“10.41% of input gene IDs are fail to map...”\n"
     ]
    },
    {
     "name": "stdout",
     "output_type": "stream",
     "text": [
      "[1] \"Processing: AMY_Ccdc3_Acvr1c_Glut F\"\n",
      "[1] \"Number of genes: 3405\"\n"
     ]
    },
    {
     "name": "stderr",
     "output_type": "stream",
     "text": [
      "'select()' returned 1:1 mapping between keys and columns\n",
      "\n",
      "Warning message in bitr(unique(subset_df$target), fromType = \"SYMBOL\", toType = \"ENTREZID\", :\n",
      "“9.81% of input gene IDs are fail to map...”\n"
     ]
    },
    {
     "name": "stdout",
     "output_type": "stream",
     "text": [
      "[1] \"Processing: AMY_Ccdc3_Acvr1c_Glut F\"\n",
      "[1] \"Number of genes: 3604\"\n"
     ]
    },
    {
     "name": "stderr",
     "output_type": "stream",
     "text": [
      "'select()' returned 1:1 mapping between keys and columns\n",
      "\n",
      "Warning message in bitr(unique(subset_df$target), fromType = \"SYMBOL\", toType = \"ENTREZID\", :\n",
      "“10.38% of input gene IDs are fail to map...”\n"
     ]
    },
    {
     "name": "stdout",
     "output_type": "stream",
     "text": [
      "[1] \"Processing: AMY_Ccdc3_Acvr1c_Glut F\"\n",
      "[1] \"Number of genes: 2008\"\n"
     ]
    },
    {
     "name": "stderr",
     "output_type": "stream",
     "text": [
      "'select()' returned 1:1 mapping between keys and columns\n",
      "\n",
      "Warning message in bitr(unique(subset_df$target), fromType = \"SYMBOL\", toType = \"ENTREZID\", :\n",
      "“11.16% of input gene IDs are fail to map...”\n"
     ]
    },
    {
     "name": "stdout",
     "output_type": "stream",
     "text": [
      "[1] \"Processing: AMY_Ccdc3_Acvr1c_Glut F\"\n",
      "[1] \"Number of genes: 916\"\n"
     ]
    },
    {
     "name": "stderr",
     "output_type": "stream",
     "text": [
      "'select()' returned 1:1 mapping between keys and columns\n",
      "\n",
      "Warning message in bitr(unique(subset_df$target), fromType = \"SYMBOL\", toType = \"ENTREZID\", :\n",
      "“16.16% of input gene IDs are fail to map...”\n"
     ]
    },
    {
     "name": "stdout",
     "output_type": "stream",
     "text": [
      "[1] \"Processing: AMY_Ccdc3_Acvr1c_Glut F\"\n",
      "[1] \"Number of genes: 1895\"\n"
     ]
    },
    {
     "name": "stderr",
     "output_type": "stream",
     "text": [
      "'select()' returned 1:1 mapping between keys and columns\n",
      "\n",
      "Warning message in bitr(unique(subset_df$target), fromType = \"SYMBOL\", toType = \"ENTREZID\", :\n",
      "“12.19% of input gene IDs are fail to map...”\n"
     ]
    },
    {
     "name": "stdout",
     "output_type": "stream",
     "text": [
      "[1] \"Processing: AMY_Ccdc3_Acvr1c_Glut F\"\n",
      "[1] \"Number of genes: 3582\"\n"
     ]
    },
    {
     "name": "stderr",
     "output_type": "stream",
     "text": [
      "'select()' returned 1:1 mapping between keys and columns\n",
      "\n",
      "Warning message in bitr(unique(subset_df$target), fromType = \"SYMBOL\", toType = \"ENTREZID\", :\n",
      "“10.78% of input gene IDs are fail to map...”\n"
     ]
    },
    {
     "name": "stdout",
     "output_type": "stream",
     "text": [
      "[1] \"Processing: AMY_Ccdc3_Acvr1c_Glut F\"\n",
      "[1] \"Number of genes: 1799\"\n"
     ]
    },
    {
     "name": "stderr",
     "output_type": "stream",
     "text": [
      "'select()' returned 1:1 mapping between keys and columns\n",
      "\n",
      "Warning message in bitr(unique(subset_df$target), fromType = \"SYMBOL\", toType = \"ENTREZID\", :\n",
      "“12.4% of input gene IDs are fail to map...”\n"
     ]
    },
    {
     "name": "stdout",
     "output_type": "stream",
     "text": [
      "[1] \"Processing: AMY_Ccdc3_Acvr1c_Glut F\"\n",
      "[1] \"Number of genes: 2081\"\n"
     ]
    },
    {
     "name": "stderr",
     "output_type": "stream",
     "text": [
      "'select()' returned 1:1 mapping between keys and columns\n",
      "\n",
      "Warning message in bitr(unique(subset_df$target), fromType = \"SYMBOL\", toType = \"ENTREZID\", :\n",
      "“11.29% of input gene IDs are fail to map...”\n",
      "Warning message in rep(yes, length.out = len):\n",
      "“'x' is NULL so the result will be NULL”\n"
     ]
    },
    {
     "name": "stdout",
     "output_type": "stream",
     "text": [
      "[1] \"Error in subsetting data for AMY_Ccdc3_Acvr1c_Glut F\"\n",
      "[1] \"Processing: AMY_Ccdc3_Acvr1c_Glut F\"\n",
      "[1] \"Number of genes: 2482\"\n"
     ]
    },
    {
     "name": "stderr",
     "output_type": "stream",
     "text": [
      "'select()' returned 1:1 mapping between keys and columns\n",
      "\n",
      "Warning message in bitr(unique(subset_df$target), fromType = \"SYMBOL\", toType = \"ENTREZID\", :\n",
      "“10.52% of input gene IDs are fail to map...”\n"
     ]
    },
    {
     "name": "stdout",
     "output_type": "stream",
     "text": [
      "[1] \"Processing: AMY_Ccdc3_Acvr1c_Glut F\"\n",
      "[1] \"Number of genes: 2845\"\n"
     ]
    },
    {
     "name": "stderr",
     "output_type": "stream",
     "text": [
      "'select()' returned 1:1 mapping between keys and columns\n",
      "\n",
      "Warning message in bitr(unique(subset_df$target), fromType = \"SYMBOL\", toType = \"ENTREZID\", :\n",
      "“8.33% of input gene IDs are fail to map...”\n"
     ]
    },
    {
     "name": "stdout",
     "output_type": "stream",
     "text": [
      "[1] \"Processing: AMY_Ccdc3_Acvr1c_Glut F\"\n",
      "[1] \"Number of genes: 2111\"\n"
     ]
    },
    {
     "name": "stderr",
     "output_type": "stream",
     "text": [
      "'select()' returned 1:1 mapping between keys and columns\n",
      "\n",
      "Warning message in bitr(unique(subset_df$target), fromType = \"SYMBOL\", toType = \"ENTREZID\", :\n",
      "“11.51% of input gene IDs are fail to map...”\n",
      "Warning message in rep(yes, length.out = len):\n",
      "“'x' is NULL so the result will be NULL”\n"
     ]
    },
    {
     "name": "stdout",
     "output_type": "stream",
     "text": [
      "[1] \"Error in subsetting data for AMY_Ccdc3_Acvr1c_Glut F\"\n",
      "[1] \"Processing: AMY_Ccdc3_Acvr1c_Glut F\"\n",
      "[1] \"Number of genes: 1337\"\n"
     ]
    },
    {
     "name": "stderr",
     "output_type": "stream",
     "text": [
      "'select()' returned 1:1 mapping between keys and columns\n",
      "\n",
      "Warning message in bitr(unique(subset_df$target), fromType = \"SYMBOL\", toType = \"ENTREZID\", :\n",
      "“14.36% of input gene IDs are fail to map...”\n",
      "Warning message in rep(yes, length.out = len):\n",
      "“'x' is NULL so the result will be NULL”\n"
     ]
    },
    {
     "name": "stdout",
     "output_type": "stream",
     "text": [
      "[1] \"Error in subsetting data for AMY_Ccdc3_Acvr1c_Glut F\"\n",
      "[1] \"Processing: AMY_Ccdc3_Acvr1c_Glut F\"\n",
      "[1] \"Number of genes: 5708\"\n"
     ]
    },
    {
     "name": "stderr",
     "output_type": "stream",
     "text": [
      "'select()' returned 1:1 mapping between keys and columns\n",
      "\n",
      "Warning message in bitr(unique(subset_df$target), fromType = \"SYMBOL\", toType = \"ENTREZID\", :\n",
      "“10.81% of input gene IDs are fail to map...”\n"
     ]
    },
    {
     "name": "stdout",
     "output_type": "stream",
     "text": [
      "[1] \"Processing: AMY_Ccdc3_Acvr1c_Glut F\"\n",
      "[1] \"Number of genes: 2995\"\n"
     ]
    },
    {
     "name": "stderr",
     "output_type": "stream",
     "text": [
      "'select()' returned 1:1 mapping between keys and columns\n",
      "\n",
      "Warning message in bitr(unique(subset_df$target), fromType = \"SYMBOL\", toType = \"ENTREZID\", :\n",
      "“9.98% of input gene IDs are fail to map...”\n"
     ]
    },
    {
     "name": "stdout",
     "output_type": "stream",
     "text": [
      "[1] \"Processing: AMY_Ccdc3_Acvr1c_Glut F\"\n",
      "[1] \"Number of genes: 2970\"\n"
     ]
    },
    {
     "name": "stderr",
     "output_type": "stream",
     "text": [
      "'select()' returned 1:1 mapping between keys and columns\n",
      "\n",
      "Warning message in bitr(unique(subset_df$target), fromType = \"SYMBOL\", toType = \"ENTREZID\", :\n",
      "“10.71% of input gene IDs are fail to map...”\n"
     ]
    },
    {
     "name": "stdout",
     "output_type": "stream",
     "text": [
      "[1] \"Processing: AMY_Ccdc3_Acvr1c_Glut F\"\n",
      "[1] \"Number of genes: 3734\"\n"
     ]
    },
    {
     "name": "stderr",
     "output_type": "stream",
     "text": [
      "'select()' returned 1:1 mapping between keys and columns\n",
      "\n",
      "Warning message in bitr(unique(subset_df$target), fromType = \"SYMBOL\", toType = \"ENTREZID\", :\n",
      "“10.87% of input gene IDs are fail to map...”\n"
     ]
    },
    {
     "name": "stdout",
     "output_type": "stream",
     "text": [
      "[1] \"Processing: AMY_Ccdc3_Acvr1c_Glut F\"\n",
      "[1] \"Number of genes: 1904\"\n"
     ]
    },
    {
     "name": "stderr",
     "output_type": "stream",
     "text": [
      "'select()' returned 1:1 mapping between keys and columns\n",
      "\n",
      "Warning message in bitr(unique(subset_df$target), fromType = \"SYMBOL\", toType = \"ENTREZID\", :\n",
      "“11.4% of input gene IDs are fail to map...”\n"
     ]
    },
    {
     "name": "stdout",
     "output_type": "stream",
     "text": [
      "[1] \"Processing: AMY_Ccdc3_Acvr1c_Glut F\"\n",
      "[1] \"Number of genes: 3419\"\n"
     ]
    },
    {
     "name": "stderr",
     "output_type": "stream",
     "text": [
      "'select()' returned 1:1 mapping between keys and columns\n",
      "\n",
      "Warning message in bitr(unique(subset_df$target), fromType = \"SYMBOL\", toType = \"ENTREZID\", :\n",
      "“10.18% of input gene IDs are fail to map...”\n"
     ]
    },
    {
     "name": "stdout",
     "output_type": "stream",
     "text": [
      "[1] \"Processing: AMY_Ccdc3_Acvr1c_Glut F\"\n",
      "[1] \"Number of genes: 2617\"\n"
     ]
    },
    {
     "name": "stderr",
     "output_type": "stream",
     "text": [
      "'select()' returned 1:1 mapping between keys and columns\n",
      "\n",
      "Warning message in bitr(unique(subset_df$target), fromType = \"SYMBOL\", toType = \"ENTREZID\", :\n",
      "“11.46% of input gene IDs are fail to map...”\n"
     ]
    },
    {
     "name": "stdout",
     "output_type": "stream",
     "text": [
      "[1] \"Processing: AMY_Ccdc3_Acvr1c_Glut F\"\n",
      "[1] \"Number of genes: 2465\"\n"
     ]
    },
    {
     "name": "stderr",
     "output_type": "stream",
     "text": [
      "'select()' returned 1:1 mapping between keys and columns\n",
      "\n",
      "Warning message in bitr(unique(subset_df$target), fromType = \"SYMBOL\", toType = \"ENTREZID\", :\n",
      "“11.56% of input gene IDs are fail to map...”\n"
     ]
    },
    {
     "name": "stdout",
     "output_type": "stream",
     "text": [
      "[1] \"Processing: AMY_Ccdc3_Acvr1c_Glut F\"\n",
      "[1] \"Number of genes: 2398\"\n"
     ]
    },
    {
     "name": "stderr",
     "output_type": "stream",
     "text": [
      "'select()' returned 1:1 mapping between keys and columns\n",
      "\n",
      "Warning message in bitr(unique(subset_df$target), fromType = \"SYMBOL\", toType = \"ENTREZID\", :\n",
      "“10.13% of input gene IDs are fail to map...”\n"
     ]
    },
    {
     "name": "stdout",
     "output_type": "stream",
     "text": [
      "[1] \"Processing: AMY_Ccdc3_Acvr1c_Glut F\"\n",
      "[1] \"Number of genes: 2097\"\n"
     ]
    },
    {
     "name": "stderr",
     "output_type": "stream",
     "text": [
      "'select()' returned 1:1 mapping between keys and columns\n",
      "\n",
      "Warning message in bitr(unique(subset_df$target), fromType = \"SYMBOL\", toType = \"ENTREZID\", :\n",
      "“11.21% of input gene IDs are fail to map...”\n"
     ]
    },
    {
     "name": "stdout",
     "output_type": "stream",
     "text": [
      "[1] \"Processing: AMY_Ccdc3_Acvr1c_Glut F\"\n",
      "[1] \"Number of genes: 2675\"\n"
     ]
    },
    {
     "name": "stderr",
     "output_type": "stream",
     "text": [
      "'select()' returned 1:1 mapping between keys and columns\n",
      "\n",
      "Warning message in bitr(unique(subset_df$target), fromType = \"SYMBOL\", toType = \"ENTREZID\", :\n",
      "“11.63% of input gene IDs are fail to map...”\n"
     ]
    },
    {
     "name": "stdout",
     "output_type": "stream",
     "text": [
      "[1] \"Processing: AMY_Ccdc3_Acvr1c_Glut F\"\n",
      "[1] \"Number of genes: 876\"\n"
     ]
    },
    {
     "name": "stderr",
     "output_type": "stream",
     "text": [
      "'select()' returned 1:1 mapping between keys and columns\n",
      "\n",
      "Warning message in bitr(unique(subset_df$target), fromType = \"SYMBOL\", toType = \"ENTREZID\", :\n",
      "“15.98% of input gene IDs are fail to map...”\n",
      "Warning message in rep(yes, length.out = len):\n",
      "“'x' is NULL so the result will be NULL”\n"
     ]
    },
    {
     "name": "stdout",
     "output_type": "stream",
     "text": [
      "[1] \"Error in subsetting data for AMY_Ccdc3_Acvr1c_Glut F\"\n",
      "[1] \"Processing: AMY_Ccdc3_Acvr1c_Glut F\"\n",
      "[1] \"Number of genes: 2510\"\n"
     ]
    },
    {
     "name": "stderr",
     "output_type": "stream",
     "text": [
      "'select()' returned 1:1 mapping between keys and columns\n",
      "\n",
      "Warning message in bitr(unique(subset_df$target), fromType = \"SYMBOL\", toType = \"ENTREZID\", :\n",
      "“12.19% of input gene IDs are fail to map...”\n",
      "Warning message in rep(yes, length.out = len):\n",
      "“'x' is NULL so the result will be NULL”\n"
     ]
    },
    {
     "name": "stdout",
     "output_type": "stream",
     "text": [
      "[1] \"Error in subsetting data for AMY_Ccdc3_Acvr1c_Glut F\"\n",
      "[1] \"Processing: AMY_Ccdc3_Acvr1c_Glut F\"\n",
      "[1] \"Number of genes: 2023\"\n"
     ]
    },
    {
     "name": "stderr",
     "output_type": "stream",
     "text": [
      "'select()' returned 1:1 mapping between keys and columns\n",
      "\n",
      "Warning message in bitr(unique(subset_df$target), fromType = \"SYMBOL\", toType = \"ENTREZID\", :\n",
      "“9.69% of input gene IDs are fail to map...”\n"
     ]
    },
    {
     "name": "stdout",
     "output_type": "stream",
     "text": [
      "[1] \"Processing: AMY_Ccdc3_Acvr1c_Glut F\"\n",
      "[1] \"Number of genes: 1765\"\n"
     ]
    },
    {
     "name": "stderr",
     "output_type": "stream",
     "text": [
      "'select()' returned 1:1 mapping between keys and columns\n",
      "\n",
      "Warning message in bitr(unique(subset_df$target), fromType = \"SYMBOL\", toType = \"ENTREZID\", :\n",
      "“11.16% of input gene IDs are fail to map...”\n"
     ]
    },
    {
     "name": "stdout",
     "output_type": "stream",
     "text": [
      "[1] \"Processing: AMY_Ccdc3_Acvr1c_Glut F\"\n",
      "[1] \"Number of genes: 3438\"\n"
     ]
    },
    {
     "name": "stderr",
     "output_type": "stream",
     "text": [
      "'select()' returned 1:1 mapping between keys and columns\n",
      "\n",
      "Warning message in bitr(unique(subset_df$target), fromType = \"SYMBOL\", toType = \"ENTREZID\", :\n",
      "“11.58% of input gene IDs are fail to map...”\n"
     ]
    },
    {
     "name": "stdout",
     "output_type": "stream",
     "text": [
      "[1] \"Processing: AMY_Ccdc3_Acvr1c_Glut F\"\n",
      "[1] \"Number of genes: 2860\"\n"
     ]
    },
    {
     "name": "stderr",
     "output_type": "stream",
     "text": [
      "'select()' returned 1:1 mapping between keys and columns\n",
      "\n",
      "Warning message in bitr(unique(subset_df$target), fromType = \"SYMBOL\", toType = \"ENTREZID\", :\n",
      "“11.99% of input gene IDs are fail to map...”\n"
     ]
    },
    {
     "name": "stdout",
     "output_type": "stream",
     "text": [
      "[1] \"Processing: AMY_Ccdc3_Acvr1c_Glut F\"\n",
      "[1] \"Number of genes: 3656\"\n"
     ]
    },
    {
     "name": "stderr",
     "output_type": "stream",
     "text": [
      "'select()' returned 1:1 mapping between keys and columns\n",
      "\n",
      "Warning message in bitr(unique(subset_df$target), fromType = \"SYMBOL\", toType = \"ENTREZID\", :\n",
      "“10.45% of input gene IDs are fail to map...”\n"
     ]
    },
    {
     "name": "stdout",
     "output_type": "stream",
     "text": [
      "[1] \"Processing: AMY_Ccdc3_Acvr1c_Glut F\"\n",
      "[1] \"Number of genes: 1804\"\n"
     ]
    },
    {
     "name": "stderr",
     "output_type": "stream",
     "text": [
      "'select()' returned 1:1 mapping between keys and columns\n",
      "\n",
      "Warning message in bitr(unique(subset_df$target), fromType = \"SYMBOL\", toType = \"ENTREZID\", :\n",
      "“10.25% of input gene IDs are fail to map...”\n"
     ]
    },
    {
     "name": "stdout",
     "output_type": "stream",
     "text": [
      "[1] \"Processing: AMY_Ccdc3_Acvr1c_Glut F\"\n",
      "[1] \"Number of genes: 2413\"\n"
     ]
    },
    {
     "name": "stderr",
     "output_type": "stream",
     "text": [
      "'select()' returned 1:1 mapping between keys and columns\n",
      "\n",
      "Warning message in bitr(unique(subset_df$target), fromType = \"SYMBOL\", toType = \"ENTREZID\", :\n",
      "“11.89% of input gene IDs are fail to map...”\n"
     ]
    },
    {
     "name": "stdout",
     "output_type": "stream",
     "text": [
      "[1] \"Processing: AMY_Ccdc3_Acvr1c_Glut F\"\n",
      "[1] \"Number of genes: 3514\"\n"
     ]
    },
    {
     "name": "stderr",
     "output_type": "stream",
     "text": [
      "'select()' returned 1:1 mapping between keys and columns\n",
      "\n",
      "Warning message in bitr(unique(subset_df$target), fromType = \"SYMBOL\", toType = \"ENTREZID\", :\n",
      "“9.59% of input gene IDs are fail to map...”\n"
     ]
    },
    {
     "name": "stdout",
     "output_type": "stream",
     "text": [
      "[1] \"Processing: AMY_Ccdc3_Acvr1c_Glut F\"\n",
      "[1] \"Number of genes: 1021\"\n"
     ]
    },
    {
     "name": "stderr",
     "output_type": "stream",
     "text": [
      "'select()' returned 1:1 mapping between keys and columns\n",
      "\n",
      "Warning message in bitr(unique(subset_df$target), fromType = \"SYMBOL\", toType = \"ENTREZID\", :\n",
      "“15.38% of input gene IDs are fail to map...”\n"
     ]
    },
    {
     "name": "stdout",
     "output_type": "stream",
     "text": [
      "[1] \"Processing: AMY_Ccdc3_Acvr1c_Glut F\"\n",
      "[1] \"Number of genes: 2655\"\n"
     ]
    },
    {
     "name": "stderr",
     "output_type": "stream",
     "text": [
      "'select()' returned 1:1 mapping between keys and columns\n",
      "\n",
      "Warning message in bitr(unique(subset_df$target), fromType = \"SYMBOL\", toType = \"ENTREZID\", :\n",
      "“10.06% of input gene IDs are fail to map...”\n"
     ]
    },
    {
     "name": "stdout",
     "output_type": "stream",
     "text": [
      "[1] \"Processing: AMY_Ccdc3_Acvr1c_Glut F\"\n",
      "[1] \"Number of genes: 1070\"\n"
     ]
    },
    {
     "name": "stderr",
     "output_type": "stream",
     "text": [
      "'select()' returned 1:1 mapping between keys and columns\n",
      "\n",
      "Warning message in bitr(unique(subset_df$target), fromType = \"SYMBOL\", toType = \"ENTREZID\", :\n",
      "“14.3% of input gene IDs are fail to map...”\n"
     ]
    },
    {
     "name": "stdout",
     "output_type": "stream",
     "text": [
      "[1] \"Processing: AMY_Ccdc3_Acvr1c_Glut F\"\n",
      "[1] \"Number of genes: 4383\"\n"
     ]
    },
    {
     "name": "stderr",
     "output_type": "stream",
     "text": [
      "'select()' returned 1:1 mapping between keys and columns\n",
      "\n",
      "Warning message in bitr(unique(subset_df$target), fromType = \"SYMBOL\", toType = \"ENTREZID\", :\n",
      "“10.72% of input gene IDs are fail to map...”\n"
     ]
    },
    {
     "name": "stdout",
     "output_type": "stream",
     "text": [
      "[1] \"Processing: AMY_Ccdc3_Acvr1c_Glut F\"\n",
      "[1] \"Number of genes: 1335\"\n"
     ]
    },
    {
     "name": "stderr",
     "output_type": "stream",
     "text": [
      "'select()' returned 1:1 mapping between keys and columns\n",
      "\n",
      "Warning message in bitr(unique(subset_df$target), fromType = \"SYMBOL\", toType = \"ENTREZID\", :\n",
      "“12.51% of input gene IDs are fail to map...”\n"
     ]
    },
    {
     "name": "stdout",
     "output_type": "stream",
     "text": [
      "[1] \"Processing: AMY_Ccdc3_Acvr1c_Glut F\"\n",
      "[1] \"Number of genes: 2315\"\n"
     ]
    },
    {
     "name": "stderr",
     "output_type": "stream",
     "text": [
      "'select()' returned 1:1 mapping between keys and columns\n",
      "\n",
      "Warning message in bitr(unique(subset_df$target), fromType = \"SYMBOL\", toType = \"ENTREZID\", :\n",
      "“11.14% of input gene IDs are fail to map...”\n",
      "Warning message in rep(yes, length.out = len):\n",
      "“'x' is NULL so the result will be NULL”\n"
     ]
    },
    {
     "name": "stdout",
     "output_type": "stream",
     "text": [
      "[1] \"Error in subsetting data for AMY_Ccdc3_Acvr1c_Glut F\"\n",
      "[1] \"Processing: AMY_Ccdc3_Acvr1c_Glut F\"\n",
      "[1] \"Number of genes: 2701\"\n"
     ]
    },
    {
     "name": "stderr",
     "output_type": "stream",
     "text": [
      "'select()' returned 1:1 mapping between keys and columns\n",
      "\n",
      "Warning message in bitr(unique(subset_df$target), fromType = \"SYMBOL\", toType = \"ENTREZID\", :\n",
      "“10.66% of input gene IDs are fail to map...”\n"
     ]
    },
    {
     "name": "stdout",
     "output_type": "stream",
     "text": [
      "[1] \"Processing: AMY_Ccdc3_Acvr1c_Glut F\"\n",
      "[1] \"Number of genes: 4777\"\n"
     ]
    },
    {
     "name": "stderr",
     "output_type": "stream",
     "text": [
      "'select()' returned 1:1 mapping between keys and columns\n",
      "\n",
      "Warning message in bitr(unique(subset_df$target), fromType = \"SYMBOL\", toType = \"ENTREZID\", :\n",
      "“11.43% of input gene IDs are fail to map...”\n"
     ]
    },
    {
     "name": "stdout",
     "output_type": "stream",
     "text": [
      "[1] \"Processing: AMY_Ccdc3_Acvr1c_Glut F\"\n",
      "[1] \"Number of genes: 2173\"\n"
     ]
    },
    {
     "name": "stderr",
     "output_type": "stream",
     "text": [
      "'select()' returned 1:1 mapping between keys and columns\n",
      "\n",
      "Warning message in bitr(unique(subset_df$target), fromType = \"SYMBOL\", toType = \"ENTREZID\", :\n",
      "“12.52% of input gene IDs are fail to map...”\n"
     ]
    },
    {
     "name": "stdout",
     "output_type": "stream",
     "text": [
      "[1] \"Processing: AMY_Ccdc3_Acvr1c_Glut F\"\n",
      "[1] \"Number of genes: 2027\"\n"
     ]
    },
    {
     "name": "stderr",
     "output_type": "stream",
     "text": [
      "'select()' returned 1:1 mapping between keys and columns\n",
      "\n",
      "Warning message in bitr(unique(subset_df$target), fromType = \"SYMBOL\", toType = \"ENTREZID\", :\n",
      "“14.21% of input gene IDs are fail to map...”\n"
     ]
    },
    {
     "name": "stdout",
     "output_type": "stream",
     "text": [
      "[1] \"Processing: AMY_Ccdc3_Acvr1c_Glut F\"\n",
      "[1] \"Number of genes: 3416\"\n"
     ]
    },
    {
     "name": "stderr",
     "output_type": "stream",
     "text": [
      "'select()' returned 1:1 mapping between keys and columns\n",
      "\n",
      "Warning message in bitr(unique(subset_df$target), fromType = \"SYMBOL\", toType = \"ENTREZID\", :\n",
      "“11.48% of input gene IDs are fail to map...”\n"
     ]
    },
    {
     "name": "stdout",
     "output_type": "stream",
     "text": [
      "[1] \"Processing: AMY_Ccdc3_Acvr1c_Glut F\"\n",
      "[1] \"Number of genes: 1421\"\n"
     ]
    },
    {
     "name": "stderr",
     "output_type": "stream",
     "text": [
      "'select()' returned 1:1 mapping between keys and columns\n",
      "\n",
      "Warning message in bitr(unique(subset_df$target), fromType = \"SYMBOL\", toType = \"ENTREZID\", :\n",
      "“12.81% of input gene IDs are fail to map...”\n"
     ]
    },
    {
     "name": "stdout",
     "output_type": "stream",
     "text": [
      "[1] \"Processing: AMY_Ccdc3_Acvr1c_Glut F\"\n",
      "[1] \"Number of genes: 1856\"\n"
     ]
    },
    {
     "name": "stderr",
     "output_type": "stream",
     "text": [
      "'select()' returned 1:1 mapping between keys and columns\n",
      "\n",
      "Warning message in bitr(unique(subset_df$target), fromType = \"SYMBOL\", toType = \"ENTREZID\", :\n",
      "“13.52% of input gene IDs are fail to map...”\n"
     ]
    },
    {
     "name": "stdout",
     "output_type": "stream",
     "text": [
      "[1] \"Processing: AMY_Ccdc3_Acvr1c_Glut F\"\n",
      "[1] \"Number of genes: 3251\"\n"
     ]
    },
    {
     "name": "stderr",
     "output_type": "stream",
     "text": [
      "'select()' returned 1:1 mapping between keys and columns\n",
      "\n",
      "Warning message in bitr(unique(subset_df$target), fromType = \"SYMBOL\", toType = \"ENTREZID\", :\n",
      "“10.37% of input gene IDs are fail to map...”\n"
     ]
    },
    {
     "name": "stdout",
     "output_type": "stream",
     "text": [
      "[1] \"Processing: AMY_Ccdc3_Acvr1c_Glut F\"\n",
      "[1] \"Number of genes: 1258\"\n"
     ]
    },
    {
     "name": "stderr",
     "output_type": "stream",
     "text": [
      "'select()' returned 1:1 mapping between keys and columns\n",
      "\n",
      "Warning message in bitr(unique(subset_df$target), fromType = \"SYMBOL\", toType = \"ENTREZID\", :\n",
      "“12% of input gene IDs are fail to map...”\n",
      "Warning message in rep(yes, length.out = len):\n",
      "“'x' is NULL so the result will be NULL”\n"
     ]
    },
    {
     "name": "stdout",
     "output_type": "stream",
     "text": [
      "[1] \"Error in subsetting data for AMY_Ccdc3_Acvr1c_Glut F\"\n",
      "[1] \"Processing: AMY_Ccdc3_Acvr1c_Glut F\"\n",
      "[1] \"Number of genes: 1928\"\n"
     ]
    },
    {
     "name": "stderr",
     "output_type": "stream",
     "text": [
      "'select()' returned 1:1 mapping between keys and columns\n",
      "\n",
      "Warning message in bitr(unique(subset_df$target), fromType = \"SYMBOL\", toType = \"ENTREZID\", :\n",
      "“11.51% of input gene IDs are fail to map...”\n"
     ]
    },
    {
     "name": "stdout",
     "output_type": "stream",
     "text": [
      "[1] \"Processing: AMY_Ccdc3_Acvr1c_Glut F\"\n",
      "[1] \"Number of genes: 2769\"\n"
     ]
    },
    {
     "name": "stderr",
     "output_type": "stream",
     "text": [
      "'select()' returned 1:1 mapping between keys and columns\n",
      "\n",
      "Warning message in bitr(unique(subset_df$target), fromType = \"SYMBOL\", toType = \"ENTREZID\", :\n",
      "“10.98% of input gene IDs are fail to map...”\n"
     ]
    },
    {
     "name": "stdout",
     "output_type": "stream",
     "text": [
      "[1] \"Processing: AMY_Ccdc3_Acvr1c_Glut F\"\n",
      "[1] \"Number of genes: 2347\"\n"
     ]
    },
    {
     "name": "stderr",
     "output_type": "stream",
     "text": [
      "'select()' returned 1:1 mapping between keys and columns\n",
      "\n",
      "Warning message in bitr(unique(subset_df$target), fromType = \"SYMBOL\", toType = \"ENTREZID\", :\n",
      "“10.65% of input gene IDs are fail to map...”\n"
     ]
    },
    {
     "name": "stdout",
     "output_type": "stream",
     "text": [
      "[1] \"Processing: AMY_Ccdc3_Acvr1c_Glut F\"\n",
      "[1] \"Number of genes: 2913\"\n"
     ]
    },
    {
     "name": "stderr",
     "output_type": "stream",
     "text": [
      "'select()' returned 1:1 mapping between keys and columns\n",
      "\n",
      "Warning message in bitr(unique(subset_df$target), fromType = \"SYMBOL\", toType = \"ENTREZID\", :\n",
      "“11.98% of input gene IDs are fail to map...”\n"
     ]
    },
    {
     "name": "stdout",
     "output_type": "stream",
     "text": [
      "[1] \"Processing: AMY_Ccdc3_Acvr1c_Glut F\"\n",
      "[1] \"Number of genes: 3923\"\n"
     ]
    },
    {
     "name": "stderr",
     "output_type": "stream",
     "text": [
      "'select()' returned 1:1 mapping between keys and columns\n",
      "\n",
      "Warning message in bitr(unique(subset_df$target), fromType = \"SYMBOL\", toType = \"ENTREZID\", :\n",
      "“9.18% of input gene IDs are fail to map...”\n"
     ]
    },
    {
     "name": "stdout",
     "output_type": "stream",
     "text": [
      "[1] \"Processing: AMY_Ccdc3_Acvr1c_Glut F\"\n",
      "[1] \"Number of genes: 2747\"\n"
     ]
    },
    {
     "name": "stderr",
     "output_type": "stream",
     "text": [
      "'select()' returned 1:1 mapping between keys and columns\n",
      "\n",
      "Warning message in bitr(unique(subset_df$target), fromType = \"SYMBOL\", toType = \"ENTREZID\", :\n",
      "“11.69% of input gene IDs are fail to map...”\n"
     ]
    },
    {
     "name": "stdout",
     "output_type": "stream",
     "text": [
      "[1] \"Processing: AMY_Ccdc3_Acvr1c_Glut F\"\n",
      "[1] \"Number of genes: 621\"\n"
     ]
    },
    {
     "name": "stderr",
     "output_type": "stream",
     "text": [
      "'select()' returned 1:1 mapping between keys and columns\n",
      "\n",
      "Warning message in bitr(unique(subset_df$target), fromType = \"SYMBOL\", toType = \"ENTREZID\", :\n",
      "“10.31% of input gene IDs are fail to map...”\n",
      "Warning message in rep(yes, length.out = len):\n",
      "“'x' is NULL so the result will be NULL”\n"
     ]
    },
    {
     "name": "stdout",
     "output_type": "stream",
     "text": [
      "[1] \"Error in subsetting data for AMY_Ccdc3_Acvr1c_Glut F\"\n",
      "[1] \"Processing: AMY_Ccdc3_Acvr1c_Glut F\"\n",
      "[1] \"Number of genes: 2463\"\n"
     ]
    },
    {
     "name": "stderr",
     "output_type": "stream",
     "text": [
      "'select()' returned 1:1 mapping between keys and columns\n",
      "\n",
      "Warning message in bitr(unique(subset_df$target), fromType = \"SYMBOL\", toType = \"ENTREZID\", :\n",
      "“10.6% of input gene IDs are fail to map...”\n"
     ]
    },
    {
     "name": "stdout",
     "output_type": "stream",
     "text": [
      "[1] \"Processing: AMY_Ccdc3_Acvr1c_Glut F\"\n",
      "[1] \"Number of genes: 2223\"\n"
     ]
    },
    {
     "name": "stderr",
     "output_type": "stream",
     "text": [
      "'select()' returned 1:1 mapping between keys and columns\n",
      "\n",
      "Warning message in bitr(unique(subset_df$target), fromType = \"SYMBOL\", toType = \"ENTREZID\", :\n",
      "“11.92% of input gene IDs are fail to map...”\n"
     ]
    },
    {
     "name": "stdout",
     "output_type": "stream",
     "text": [
      "[1] \"Processing: AMY_Ccdc3_Acvr1c_Glut F\"\n",
      "[1] \"Number of genes: 1598\"\n"
     ]
    },
    {
     "name": "stderr",
     "output_type": "stream",
     "text": [
      "'select()' returned 1:1 mapping between keys and columns\n",
      "\n",
      "Warning message in bitr(unique(subset_df$target), fromType = \"SYMBOL\", toType = \"ENTREZID\", :\n",
      "“11.45% of input gene IDs are fail to map...”\n"
     ]
    },
    {
     "name": "stdout",
     "output_type": "stream",
     "text": [
      "[1] \"Processing: AMY_Ccdc3_Acvr1c_Glut M\"\n",
      "[1] \"Number of genes: 6313\"\n"
     ]
    },
    {
     "name": "stderr",
     "output_type": "stream",
     "text": [
      "'select()' returned 1:1 mapping between keys and columns\n",
      "\n",
      "Warning message in bitr(unique(subset_df$target), fromType = \"SYMBOL\", toType = \"ENTREZID\", :\n",
      "“11.69% of input gene IDs are fail to map...”\n"
     ]
    },
    {
     "name": "stdout",
     "output_type": "stream",
     "text": [
      "[1] \"Processing: AMY_Ccdc3_Acvr1c_Glut M\"\n",
      "[1] \"Number of genes: 3682\"\n"
     ]
    },
    {
     "name": "stderr",
     "output_type": "stream",
     "text": [
      "'select()' returned 1:1 mapping between keys and columns\n",
      "\n",
      "Warning message in bitr(unique(subset_df$target), fromType = \"SYMBOL\", toType = \"ENTREZID\", :\n",
      "“10.89% of input gene IDs are fail to map...”\n"
     ]
    },
    {
     "name": "stdout",
     "output_type": "stream",
     "text": [
      "[1] \"Processing: AMY_Ccdc3_Acvr1c_Glut M\"\n",
      "[1] \"Number of genes: 5246\"\n"
     ]
    },
    {
     "name": "stderr",
     "output_type": "stream",
     "text": [
      "'select()' returned 1:1 mapping between keys and columns\n",
      "\n",
      "Warning message in bitr(unique(subset_df$target), fromType = \"SYMBOL\", toType = \"ENTREZID\", :\n",
      "“11.25% of input gene IDs are fail to map...”\n"
     ]
    },
    {
     "name": "stdout",
     "output_type": "stream",
     "text": [
      "[1] \"Processing: AMY_Ccdc3_Acvr1c_Glut M\"\n",
      "[1] \"Number of genes: 3234\"\n"
     ]
    },
    {
     "name": "stderr",
     "output_type": "stream",
     "text": [
      "'select()' returned 1:1 mapping between keys and columns\n",
      "\n",
      "Warning message in bitr(unique(subset_df$target), fromType = \"SYMBOL\", toType = \"ENTREZID\", :\n",
      "“11.04% of input gene IDs are fail to map...”\n"
     ]
    },
    {
     "name": "stdout",
     "output_type": "stream",
     "text": [
      "[1] \"Processing: AMY_Ccdc3_Acvr1c_Glut M\"\n",
      "[1] \"Number of genes: 5618\"\n"
     ]
    },
    {
     "name": "stderr",
     "output_type": "stream",
     "text": [
      "'select()' returned 1:1 mapping between keys and columns\n",
      "\n",
      "Warning message in bitr(unique(subset_df$target), fromType = \"SYMBOL\", toType = \"ENTREZID\", :\n",
      "“11.14% of input gene IDs are fail to map...”\n"
     ]
    },
    {
     "name": "stdout",
     "output_type": "stream",
     "text": [
      "[1] \"Processing: AMY_Ccdc3_Acvr1c_Glut M\"\n",
      "[1] \"Number of genes: 2803\"\n"
     ]
    },
    {
     "name": "stderr",
     "output_type": "stream",
     "text": [
      "'select()' returned 1:1 mapping between keys and columns\n",
      "\n",
      "Warning message in bitr(unique(subset_df$target), fromType = \"SYMBOL\", toType = \"ENTREZID\", :\n",
      "“13.02% of input gene IDs are fail to map...”\n"
     ]
    },
    {
     "name": "stdout",
     "output_type": "stream",
     "text": [
      "[1] \"Processing: AMY_Ccdc3_Acvr1c_Glut M\"\n",
      "[1] \"Number of genes: 955\"\n"
     ]
    },
    {
     "name": "stderr",
     "output_type": "stream",
     "text": [
      "'select()' returned 1:1 mapping between keys and columns\n",
      "\n",
      "Warning message in bitr(unique(subset_df$target), fromType = \"SYMBOL\", toType = \"ENTREZID\", :\n",
      "“13.72% of input gene IDs are fail to map...”\n"
     ]
    },
    {
     "name": "stdout",
     "output_type": "stream",
     "text": [
      "[1] \"Processing: AMY_Ccdc3_Acvr1c_Glut M\"\n",
      "[1] \"Number of genes: 1343\"\n"
     ]
    },
    {
     "name": "stderr",
     "output_type": "stream",
     "text": [
      "'select()' returned 1:1 mapping between keys and columns\n",
      "\n",
      "Warning message in bitr(unique(subset_df$target), fromType = \"SYMBOL\", toType = \"ENTREZID\", :\n",
      "“11.69% of input gene IDs are fail to map...”\n"
     ]
    },
    {
     "name": "stdout",
     "output_type": "stream",
     "text": [
      "[1] \"Processing: AMY_Ccdc3_Acvr1c_Glut M\"\n",
      "[1] \"Number of genes: 2315\"\n"
     ]
    },
    {
     "name": "stderr",
     "output_type": "stream",
     "text": [
      "'select()' returned 1:1 mapping between keys and columns\n",
      "\n",
      "Warning message in bitr(unique(subset_df$target), fromType = \"SYMBOL\", toType = \"ENTREZID\", :\n",
      "“11.14% of input gene IDs are fail to map...”\n",
      "Warning message in rep(yes, length.out = len):\n",
      "“'x' is NULL so the result will be NULL”\n"
     ]
    },
    {
     "name": "stdout",
     "output_type": "stream",
     "text": [
      "[1] \"Error in subsetting data for AMY_Ccdc3_Acvr1c_Glut M\"\n",
      "[1] \"Processing: AMY_Ccdc3_Acvr1c_Glut M\"\n",
      "[1] \"Number of genes: 1607\"\n"
     ]
    },
    {
     "name": "stderr",
     "output_type": "stream",
     "text": [
      "'select()' returned 1:1 mapping between keys and columns\n",
      "\n",
      "Warning message in bitr(unique(subset_df$target), fromType = \"SYMBOL\", toType = \"ENTREZID\", :\n",
      "“11.08% of input gene IDs are fail to map...”\n"
     ]
    },
    {
     "name": "stdout",
     "output_type": "stream",
     "text": [
      "[1] \"Processing: AMY_Ccdc3_Acvr1c_Glut M\"\n",
      "[1] \"Number of genes: 1352\"\n"
     ]
    },
    {
     "name": "stderr",
     "output_type": "stream",
     "text": [
      "'select()' returned 1:1 mapping between keys and columns\n",
      "\n",
      "Warning message in bitr(unique(subset_df$target), fromType = \"SYMBOL\", toType = \"ENTREZID\", :\n",
      "“13.76% of input gene IDs are fail to map...”\n"
     ]
    },
    {
     "name": "stdout",
     "output_type": "stream",
     "text": [
      "[1] \"Processing: AMY_Ccdc3_Acvr1c_Glut M\"\n",
      "[1] \"Number of genes: 3603\"\n"
     ]
    },
    {
     "name": "stderr",
     "output_type": "stream",
     "text": [
      "'select()' returned 1:1 mapping between keys and columns\n",
      "\n",
      "Warning message in bitr(unique(subset_df$target), fromType = \"SYMBOL\", toType = \"ENTREZID\", :\n",
      "“10.91% of input gene IDs are fail to map...”\n"
     ]
    },
    {
     "name": "stdout",
     "output_type": "stream",
     "text": [
      "[1] \"Processing: AMY_Ccdc3_Acvr1c_Glut M\"\n",
      "[1] \"Number of genes: 3810\"\n"
     ]
    },
    {
     "name": "stderr",
     "output_type": "stream",
     "text": [
      "'select()' returned 1:1 mapping between keys and columns\n",
      "\n",
      "Warning message in bitr(unique(subset_df$target), fromType = \"SYMBOL\", toType = \"ENTREZID\", :\n",
      "“10.29% of input gene IDs are fail to map...”\n"
     ]
    },
    {
     "name": "stdout",
     "output_type": "stream",
     "text": [
      "[1] \"Processing: AMY_Ccdc3_Acvr1c_Glut M\"\n",
      "[1] \"Number of genes: 2613\"\n"
     ]
    },
    {
     "name": "stderr",
     "output_type": "stream",
     "text": [
      "'select()' returned 1:1 mapping between keys and columns\n",
      "\n",
      "Warning message in bitr(unique(subset_df$target), fromType = \"SYMBOL\", toType = \"ENTREZID\", :\n",
      "“12.09% of input gene IDs are fail to map...”\n"
     ]
    },
    {
     "name": "stdout",
     "output_type": "stream",
     "text": [
      "[1] \"Processing: AMY_Ccdc3_Acvr1c_Glut M\"\n",
      "[1] \"Number of genes: 5544\"\n"
     ]
    },
    {
     "name": "stderr",
     "output_type": "stream",
     "text": [
      "'select()' returned 1:1 mapping between keys and columns\n",
      "\n",
      "Warning message in bitr(unique(subset_df$target), fromType = \"SYMBOL\", toType = \"ENTREZID\", :\n",
      "“11.26% of input gene IDs are fail to map...”\n"
     ]
    },
    {
     "name": "stdout",
     "output_type": "stream",
     "text": [
      "[1] \"Processing: AMY_Ccdc3_Acvr1c_Glut M\"\n",
      "[1] \"Number of genes: 2013\"\n"
     ]
    },
    {
     "name": "stderr",
     "output_type": "stream",
     "text": [
      "'select()' returned 1:1 mapping between keys and columns\n",
      "\n",
      "Warning message in bitr(unique(subset_df$target), fromType = \"SYMBOL\", toType = \"ENTREZID\", :\n",
      "“10.68% of input gene IDs are fail to map...”\n"
     ]
    },
    {
     "name": "stdout",
     "output_type": "stream",
     "text": [
      "[1] \"Processing: AMY_Ccdc3_Acvr1c_Glut M\"\n",
      "[1] \"Number of genes: 2534\"\n"
     ]
    },
    {
     "name": "stderr",
     "output_type": "stream",
     "text": [
      "'select()' returned 1:1 mapping between keys and columns\n",
      "\n",
      "Warning message in bitr(unique(subset_df$target), fromType = \"SYMBOL\", toType = \"ENTREZID\", :\n",
      "“11.72% of input gene IDs are fail to map...”\n"
     ]
    },
    {
     "name": "stdout",
     "output_type": "stream",
     "text": [
      "[1] \"Processing: AMY_Ccdc3_Acvr1c_Glut M\"\n",
      "[1] \"Number of genes: 2414\"\n"
     ]
    },
    {
     "name": "stderr",
     "output_type": "stream",
     "text": [
      "'select()' returned 1:1 mapping between keys and columns\n",
      "\n",
      "Warning message in bitr(unique(subset_df$target), fromType = \"SYMBOL\", toType = \"ENTREZID\", :\n",
      "“11.1% of input gene IDs are fail to map...”\n"
     ]
    },
    {
     "name": "stdout",
     "output_type": "stream",
     "text": [
      "[1] \"Processing: AMY_Ccdc3_Acvr1c_Glut M\"\n",
      "[1] \"Number of genes: 2405\"\n"
     ]
    },
    {
     "name": "stderr",
     "output_type": "stream",
     "text": [
      "'select()' returned 1:1 mapping between keys and columns\n",
      "\n",
      "Warning message in bitr(unique(subset_df$target), fromType = \"SYMBOL\", toType = \"ENTREZID\", :\n",
      "“11.93% of input gene IDs are fail to map...”\n"
     ]
    },
    {
     "name": "stdout",
     "output_type": "stream",
     "text": [
      "[1] \"Processing: AMY_Ccdc3_Acvr1c_Glut M\"\n",
      "[1] \"Number of genes: 2646\"\n"
     ]
    },
    {
     "name": "stderr",
     "output_type": "stream",
     "text": [
      "'select()' returned 1:1 mapping between keys and columns\n",
      "\n",
      "Warning message in bitr(unique(subset_df$target), fromType = \"SYMBOL\", toType = \"ENTREZID\", :\n",
      "“11.9% of input gene IDs are fail to map...”\n"
     ]
    },
    {
     "name": "stdout",
     "output_type": "stream",
     "text": [
      "[1] \"Processing: AMY_Ccdc3_Acvr1c_Glut M\"\n",
      "[1] \"Number of genes: 1764\"\n"
     ]
    },
    {
     "name": "stderr",
     "output_type": "stream",
     "text": [
      "'select()' returned 1:1 mapping between keys and columns\n",
      "\n",
      "Warning message in bitr(unique(subset_df$target), fromType = \"SYMBOL\", toType = \"ENTREZID\", :\n",
      "“11.96% of input gene IDs are fail to map...”\n",
      "Warning message in rep(yes, length.out = len):\n",
      "“'x' is NULL so the result will be NULL”\n"
     ]
    },
    {
     "name": "stdout",
     "output_type": "stream",
     "text": [
      "[1] \"Error in subsetting data for AMY_Ccdc3_Acvr1c_Glut M\"\n",
      "[1] \"Processing: AMY_Ccdc3_Acvr1c_Glut M\"\n",
      "[1] \"Number of genes: 1181\"\n"
     ]
    },
    {
     "name": "stderr",
     "output_type": "stream",
     "text": [
      "'select()' returned 1:1 mapping between keys and columns\n",
      "\n",
      "Warning message in bitr(unique(subset_df$target), fromType = \"SYMBOL\", toType = \"ENTREZID\", :\n",
      "“11.94% of input gene IDs are fail to map...”\n"
     ]
    },
    {
     "name": "stdout",
     "output_type": "stream",
     "text": [
      "[1] \"Processing: AMY_Ccdc3_Acvr1c_Glut M\"\n",
      "[1] \"Number of genes: 3740\"\n"
     ]
    },
    {
     "name": "stderr",
     "output_type": "stream",
     "text": [
      "'select()' returned 1:1 mapping between keys and columns\n",
      "\n",
      "Warning message in bitr(unique(subset_df$target), fromType = \"SYMBOL\", toType = \"ENTREZID\", :\n",
      "“10.11% of input gene IDs are fail to map...”\n"
     ]
    },
    {
     "name": "stdout",
     "output_type": "stream",
     "text": [
      "[1] \"Processing: AMY_Ccdc3_Acvr1c_Glut M\"\n",
      "[1] \"Number of genes: 1036\"\n"
     ]
    },
    {
     "name": "stderr",
     "output_type": "stream",
     "text": [
      "'select()' returned 1:1 mapping between keys and columns\n",
      "\n",
      "Warning message in bitr(unique(subset_df$target), fromType = \"SYMBOL\", toType = \"ENTREZID\", :\n",
      "“16.22% of input gene IDs are fail to map...”\n"
     ]
    },
    {
     "name": "stdout",
     "output_type": "stream",
     "text": [
      "[1] \"Processing: AMY_Ccdc3_Acvr1c_Glut M\"\n",
      "[1] \"Number of genes: 1644\"\n"
     ]
    },
    {
     "name": "stderr",
     "output_type": "stream",
     "text": [
      "'select()' returned 1:1 mapping between keys and columns\n",
      "\n",
      "Warning message in bitr(unique(subset_df$target), fromType = \"SYMBOL\", toType = \"ENTREZID\", :\n",
      "“11.07% of input gene IDs are fail to map...”\n"
     ]
    },
    {
     "name": "stdout",
     "output_type": "stream",
     "text": [
      "[1] \"Processing: AMY_Ccdc3_Acvr1c_Glut M\"\n",
      "[1] \"Number of genes: 1968\"\n"
     ]
    },
    {
     "name": "stderr",
     "output_type": "stream",
     "text": [
      "'select()' returned 1:1 mapping between keys and columns\n",
      "\n",
      "Warning message in bitr(unique(subset_df$target), fromType = \"SYMBOL\", toType = \"ENTREZID\", :\n",
      "“10.01% of input gene IDs are fail to map...”\n"
     ]
    },
    {
     "name": "stdout",
     "output_type": "stream",
     "text": [
      "[1] \"Processing: AMY_Ccdc3_Acvr1c_Glut M\"\n",
      "[1] \"Number of genes: 3929\"\n"
     ]
    },
    {
     "name": "stderr",
     "output_type": "stream",
     "text": [
      "'select()' returned 1:1 mapping between keys and columns\n",
      "\n",
      "Warning message in bitr(unique(subset_df$target), fromType = \"SYMBOL\", toType = \"ENTREZID\", :\n",
      "“11.25% of input gene IDs are fail to map...”\n"
     ]
    },
    {
     "name": "stdout",
     "output_type": "stream",
     "text": [
      "[1] \"Processing: AMY_Ccdc3_Acvr1c_Glut M\"\n",
      "[1] \"Number of genes: 3845\"\n"
     ]
    },
    {
     "name": "stderr",
     "output_type": "stream",
     "text": [
      "'select()' returned 1:1 mapping between keys and columns\n",
      "\n",
      "Warning message in bitr(unique(subset_df$target), fromType = \"SYMBOL\", toType = \"ENTREZID\", :\n",
      "“11.55% of input gene IDs are fail to map...”\n"
     ]
    },
    {
     "name": "stdout",
     "output_type": "stream",
     "text": [
      "[1] \"Processing: AMY_Ccdc3_Acvr1c_Glut M\"\n",
      "[1] \"Number of genes: 2466\"\n"
     ]
    },
    {
     "name": "stderr",
     "output_type": "stream",
     "text": [
      "'select()' returned 1:1 mapping between keys and columns\n",
      "\n",
      "Warning message in bitr(unique(subset_df$target), fromType = \"SYMBOL\", toType = \"ENTREZID\", :\n",
      "“10.3% of input gene IDs are fail to map...”\n"
     ]
    },
    {
     "name": "stdout",
     "output_type": "stream",
     "text": [
      "[1] \"Processing: AMY_Ccdc3_Acvr1c_Glut M\"\n",
      "[1] \"Number of genes: 2634\"\n"
     ]
    },
    {
     "name": "stderr",
     "output_type": "stream",
     "text": [
      "'select()' returned 1:1 mapping between keys and columns\n",
      "\n",
      "Warning message in bitr(unique(subset_df$target), fromType = \"SYMBOL\", toType = \"ENTREZID\", :\n",
      "“12.03% of input gene IDs are fail to map...”\n"
     ]
    },
    {
     "name": "stdout",
     "output_type": "stream",
     "text": [
      "[1] \"Processing: AMY_Ccdc3_Acvr1c_Glut M\"\n",
      "[1] \"Number of genes: 1344\"\n"
     ]
    },
    {
     "name": "stderr",
     "output_type": "stream",
     "text": [
      "'select()' returned 1:1 mapping between keys and columns\n",
      "\n",
      "Warning message in bitr(unique(subset_df$target), fromType = \"SYMBOL\", toType = \"ENTREZID\", :\n",
      "“10.79% of input gene IDs are fail to map...”\n",
      "Warning message in rep(yes, length.out = len):\n",
      "“'x' is NULL so the result will be NULL”\n"
     ]
    },
    {
     "name": "stdout",
     "output_type": "stream",
     "text": [
      "[1] \"Error in subsetting data for AMY_Ccdc3_Acvr1c_Glut M\"\n",
      "[1] \"Processing: AMY_Ccdc3_Acvr1c_Glut M\"\n",
      "[1] \"Number of genes: 1908\"\n"
     ]
    },
    {
     "name": "stderr",
     "output_type": "stream",
     "text": [
      "'select()' returned 1:1 mapping between keys and columns\n",
      "\n",
      "Warning message in bitr(unique(subset_df$target), fromType = \"SYMBOL\", toType = \"ENTREZID\", :\n",
      "“12.89% of input gene IDs are fail to map...”\n",
      "Warning message in rep(yes, length.out = len):\n",
      "“'x' is NULL so the result will be NULL”\n"
     ]
    },
    {
     "name": "stdout",
     "output_type": "stream",
     "text": [
      "[1] \"Error in subsetting data for AMY_Ccdc3_Acvr1c_Glut M\"\n",
      "[1] \"Processing: AMY_Ccdc3_Acvr1c_Glut M\"\n",
      "[1] \"Number of genes: 2345\"\n"
     ]
    },
    {
     "name": "stderr",
     "output_type": "stream",
     "text": [
      "'select()' returned 1:1 mapping between keys and columns\n",
      "\n",
      "Warning message in bitr(unique(subset_df$target), fromType = \"SYMBOL\", toType = \"ENTREZID\", :\n",
      "“11.13% of input gene IDs are fail to map...”\n"
     ]
    },
    {
     "name": "stdout",
     "output_type": "stream",
     "text": [
      "[1] \"Processing: AMY_Ccdc3_Acvr1c_Glut M\"\n",
      "[1] \"Number of genes: 4033\"\n"
     ]
    },
    {
     "name": "stderr",
     "output_type": "stream",
     "text": [
      "'select()' returned 1:1 mapping between keys and columns\n",
      "\n",
      "Warning message in bitr(unique(subset_df$target), fromType = \"SYMBOL\", toType = \"ENTREZID\", :\n",
      "“9.15% of input gene IDs are fail to map...”\n"
     ]
    },
    {
     "name": "stdout",
     "output_type": "stream",
     "text": [
      "[1] \"Processing: AMY_Ccdc3_Acvr1c_Glut M\"\n",
      "[1] \"Number of genes: 2077\"\n"
     ]
    },
    {
     "name": "stderr",
     "output_type": "stream",
     "text": [
      "'select()' returned 1:1 mapping between keys and columns\n",
      "\n",
      "Warning message in bitr(unique(subset_df$target), fromType = \"SYMBOL\", toType = \"ENTREZID\", :\n",
      "“10.54% of input gene IDs are fail to map...”\n"
     ]
    },
    {
     "name": "stdout",
     "output_type": "stream",
     "text": [
      "[1] \"Processing: AMY_Ccdc3_Acvr1c_Glut M\"\n",
      "[1] \"Number of genes: 2936\"\n"
     ]
    },
    {
     "name": "stderr",
     "output_type": "stream",
     "text": [
      "'select()' returned 1:1 mapping between keys and columns\n",
      "\n",
      "Warning message in bitr(unique(subset_df$target), fromType = \"SYMBOL\", toType = \"ENTREZID\", :\n",
      "“12.09% of input gene IDs are fail to map...”\n"
     ]
    },
    {
     "name": "stdout",
     "output_type": "stream",
     "text": [
      "[1] \"Processing: AMY_Ccdc3_Acvr1c_Glut M\"\n",
      "[1] \"Number of genes: 818\"\n"
     ]
    },
    {
     "name": "stderr",
     "output_type": "stream",
     "text": [
      "'select()' returned 1:1 mapping between keys and columns\n",
      "\n",
      "Warning message in bitr(unique(subset_df$target), fromType = \"SYMBOL\", toType = \"ENTREZID\", :\n",
      "“17.85% of input gene IDs are fail to map...”\n",
      "Warning message in rep(yes, length.out = len):\n",
      "“'x' is NULL so the result will be NULL”\n"
     ]
    },
    {
     "name": "stdout",
     "output_type": "stream",
     "text": [
      "[1] \"Error in subsetting data for AMY_Ccdc3_Acvr1c_Glut M\"\n",
      "[1] \"Processing: AMY_Ccdc3_Acvr1c_Glut M\"\n",
      "[1] \"Number of genes: 3191\"\n"
     ]
    },
    {
     "name": "stderr",
     "output_type": "stream",
     "text": [
      "'select()' returned 1:1 mapping between keys and columns\n",
      "\n",
      "Warning message in bitr(unique(subset_df$target), fromType = \"SYMBOL\", toType = \"ENTREZID\", :\n",
      "“10.09% of input gene IDs are fail to map...”\n"
     ]
    },
    {
     "name": "stdout",
     "output_type": "stream",
     "text": [
      "[1] \"Processing: AMY_Ccdc3_Acvr1c_Glut M\"\n",
      "[1] \"Number of genes: 5476\"\n"
     ]
    },
    {
     "name": "stderr",
     "output_type": "stream",
     "text": [
      "'select()' returned 1:1 mapping between keys and columns\n",
      "\n",
      "Warning message in bitr(unique(subset_df$target), fromType = \"SYMBOL\", toType = \"ENTREZID\", :\n",
      "“11.34% of input gene IDs are fail to map...”\n"
     ]
    },
    {
     "name": "stdout",
     "output_type": "stream",
     "text": [
      "[1] \"Processing: AMY_Ccdc3_Acvr1c_Glut M\"\n",
      "[1] \"Number of genes: 2832\"\n"
     ]
    },
    {
     "name": "stderr",
     "output_type": "stream",
     "text": [
      "'select()' returned 1:1 mapping between keys and columns\n",
      "\n",
      "Warning message in bitr(unique(subset_df$target), fromType = \"SYMBOL\", toType = \"ENTREZID\", :\n",
      "“9.53% of input gene IDs are fail to map...”\n"
     ]
    },
    {
     "name": "stdout",
     "output_type": "stream",
     "text": [
      "[1] \"Processing: AMY_Ccdc3_Acvr1c_Glut M\"\n",
      "[1] \"Number of genes: 1603\"\n"
     ]
    },
    {
     "name": "stderr",
     "output_type": "stream",
     "text": [
      "'select()' returned 1:1 mapping between keys and columns\n",
      "\n",
      "Warning message in bitr(unique(subset_df$target), fromType = \"SYMBOL\", toType = \"ENTREZID\", :\n",
      "“15.66% of input gene IDs are fail to map...”\n",
      "Warning message in rep(yes, length.out = len):\n",
      "“'x' is NULL so the result will be NULL”\n"
     ]
    },
    {
     "name": "stdout",
     "output_type": "stream",
     "text": [
      "[1] \"Error in subsetting data for AMY_Ccdc3_Acvr1c_Glut M\"\n",
      "[1] \"Processing: AMY_Ccdc3_Acvr1c_Glut M\"\n",
      "[1] \"Number of genes: 450\"\n"
     ]
    },
    {
     "name": "stderr",
     "output_type": "stream",
     "text": [
      "'select()' returned 1:1 mapping between keys and columns\n",
      "\n",
      "Warning message in bitr(unique(subset_df$target), fromType = \"SYMBOL\", toType = \"ENTREZID\", :\n",
      "“17.33% of input gene IDs are fail to map...”\n",
      "Warning message in rep(yes, length.out = len):\n",
      "“'x' is NULL so the result will be NULL”\n"
     ]
    },
    {
     "name": "stdout",
     "output_type": "stream",
     "text": [
      "[1] \"Error in subsetting data for AMY_Ccdc3_Acvr1c_Glut M\"\n",
      "[1] \"Processing: AMY_Ccdc3_Acvr1c_Glut M\"\n",
      "[1] \"Number of genes: 2223\"\n"
     ]
    },
    {
     "name": "stderr",
     "output_type": "stream",
     "text": [
      "'select()' returned 1:1 mapping between keys and columns\n",
      "\n",
      "Warning message in bitr(unique(subset_df$target), fromType = \"SYMBOL\", toType = \"ENTREZID\", :\n",
      "“12.19% of input gene IDs are fail to map...”\n"
     ]
    },
    {
     "name": "stdout",
     "output_type": "stream",
     "text": [
      "[1] \"Processing: AMY_Ccdc3_Acvr1c_Glut M\"\n",
      "[1] \"Number of genes: 2122\"\n"
     ]
    },
    {
     "name": "stderr",
     "output_type": "stream",
     "text": [
      "'select()' returned 1:1 mapping between keys and columns\n",
      "\n",
      "Warning message in bitr(unique(subset_df$target), fromType = \"SYMBOL\", toType = \"ENTREZID\", :\n",
      "“10.23% of input gene IDs are fail to map...”\n"
     ]
    },
    {
     "name": "stdout",
     "output_type": "stream",
     "text": [
      "[1] \"Processing: AMY_Ccdc3_Acvr1c_Glut M\"\n",
      "[1] \"Number of genes: 2624\"\n"
     ]
    },
    {
     "name": "stderr",
     "output_type": "stream",
     "text": [
      "'select()' returned 1:1 mapping between keys and columns\n",
      "\n",
      "Warning message in bitr(unique(subset_df$target), fromType = \"SYMBOL\", toType = \"ENTREZID\", :\n",
      "“12% of input gene IDs are fail to map...”\n"
     ]
    },
    {
     "name": "stdout",
     "output_type": "stream",
     "text": [
      "[1] \"Processing: AMY_Ccdc3_Acvr1c_Glut M\"\n",
      "[1] \"Number of genes: 2664\"\n"
     ]
    },
    {
     "name": "stderr",
     "output_type": "stream",
     "text": [
      "'select()' returned 1:1 mapping between keys and columns\n",
      "\n",
      "Warning message in bitr(unique(subset_df$target), fromType = \"SYMBOL\", toType = \"ENTREZID\", :\n",
      "“9.8% of input gene IDs are fail to map...”\n"
     ]
    },
    {
     "name": "stdout",
     "output_type": "stream",
     "text": [
      "[1] \"Processing: AMY_Ccdc3_Acvr1c_Glut M\"\n",
      "[1] \"Number of genes: 3454\"\n"
     ]
    },
    {
     "name": "stderr",
     "output_type": "stream",
     "text": [
      "'select()' returned 1:1 mapping between keys and columns\n",
      "\n",
      "Warning message in bitr(unique(subset_df$target), fromType = \"SYMBOL\", toType = \"ENTREZID\", :\n",
      "“9.53% of input gene IDs are fail to map...”\n"
     ]
    },
    {
     "name": "stdout",
     "output_type": "stream",
     "text": [
      "[1] \"Processing: AMY_Ccdc3_Acvr1c_Glut M\"\n",
      "[1] \"Number of genes: 3189\"\n"
     ]
    },
    {
     "name": "stderr",
     "output_type": "stream",
     "text": [
      "'select()' returned 1:1 mapping between keys and columns\n",
      "\n",
      "Warning message in bitr(unique(subset_df$target), fromType = \"SYMBOL\", toType = \"ENTREZID\", :\n",
      "“11.07% of input gene IDs are fail to map...”\n"
     ]
    },
    {
     "name": "stdout",
     "output_type": "stream",
     "text": [
      "[1] \"Processing: AMY_Ccdc3_Acvr1c_Glut M\"\n",
      "[1] \"Number of genes: 668\"\n"
     ]
    },
    {
     "name": "stderr",
     "output_type": "stream",
     "text": [
      "'select()' returned 1:1 mapping between keys and columns\n",
      "\n",
      "Warning message in bitr(unique(subset_df$target), fromType = \"SYMBOL\", toType = \"ENTREZID\", :\n",
      "“15.87% of input gene IDs are fail to map...”\n",
      "Warning message in rep(yes, length.out = len):\n",
      "“'x' is NULL so the result will be NULL”\n"
     ]
    },
    {
     "name": "stdout",
     "output_type": "stream",
     "text": [
      "[1] \"Error in subsetting data for AMY_Ccdc3_Acvr1c_Glut M\"\n",
      "[1] \"Processing: AMY_Ccdc3_Acvr1c_Glut M\"\n",
      "[1] \"Number of genes: 2260\"\n"
     ]
    },
    {
     "name": "stderr",
     "output_type": "stream",
     "text": [
      "'select()' returned 1:1 mapping between keys and columns\n",
      "\n",
      "Warning message in bitr(unique(subset_df$target), fromType = \"SYMBOL\", toType = \"ENTREZID\", :\n",
      "“12.43% of input gene IDs are fail to map...”\n"
     ]
    },
    {
     "name": "stdout",
     "output_type": "stream",
     "text": [
      "[1] \"Processing: AMY_Ccdc3_Acvr1c_Glut M\"\n",
      "[1] \"Number of genes: 2478\"\n"
     ]
    },
    {
     "name": "stderr",
     "output_type": "stream",
     "text": [
      "'select()' returned 1:1 mapping between keys and columns\n",
      "\n",
      "Warning message in bitr(unique(subset_df$target), fromType = \"SYMBOL\", toType = \"ENTREZID\", :\n",
      "“10.41% of input gene IDs are fail to map...”\n"
     ]
    },
    {
     "name": "stdout",
     "output_type": "stream",
     "text": [
      "[1] \"Processing: AMY_Ccdc3_Acvr1c_Glut M\"\n",
      "[1] \"Number of genes: 2580\"\n"
     ]
    },
    {
     "name": "stderr",
     "output_type": "stream",
     "text": [
      "'select()' returned 1:1 mapping between keys and columns\n",
      "\n",
      "Warning message in bitr(unique(subset_df$target), fromType = \"SYMBOL\", toType = \"ENTREZID\", :\n",
      "“10.47% of input gene IDs are fail to map...”\n"
     ]
    },
    {
     "name": "stdout",
     "output_type": "stream",
     "text": [
      "[1] \"Processing: AMY_Ccdc3_Acvr1c_Glut M\"\n",
      "[1] \"Number of genes: 2988\"\n"
     ]
    },
    {
     "name": "stderr",
     "output_type": "stream",
     "text": [
      "'select()' returned 1:1 mapping between keys and columns\n",
      "\n",
      "Warning message in bitr(unique(subset_df$target), fromType = \"SYMBOL\", toType = \"ENTREZID\", :\n",
      "“10.91% of input gene IDs are fail to map...”\n"
     ]
    },
    {
     "name": "stdout",
     "output_type": "stream",
     "text": [
      "[1] \"Processing: AMY_Ccdc3_Acvr1c_Glut M\"\n",
      "[1] \"Number of genes: 1362\"\n"
     ]
    },
    {
     "name": "stderr",
     "output_type": "stream",
     "text": [
      "'select()' returned 1:1 mapping between keys and columns\n",
      "\n",
      "Warning message in bitr(unique(subset_df$target), fromType = \"SYMBOL\", toType = \"ENTREZID\", :\n",
      "“9.91% of input gene IDs are fail to map...”\n"
     ]
    },
    {
     "name": "stdout",
     "output_type": "stream",
     "text": [
      "[1] \"Processing: AMY_Ccdc3_Acvr1c_Glut M\"\n",
      "[1] \"Number of genes: 5216\"\n"
     ]
    },
    {
     "name": "stderr",
     "output_type": "stream",
     "text": [
      "'select()' returned 1:1 mapping between keys and columns\n",
      "\n",
      "Warning message in bitr(unique(subset_df$target), fromType = \"SYMBOL\", toType = \"ENTREZID\", :\n",
      "“11.22% of input gene IDs are fail to map...”\n"
     ]
    },
    {
     "name": "stdout",
     "output_type": "stream",
     "text": [
      "[1] \"Processing: AMY_Ccdc3_Acvr1c_Glut M\"\n",
      "[1] \"Number of genes: 2717\"\n"
     ]
    },
    {
     "name": "stderr",
     "output_type": "stream",
     "text": [
      "'select()' returned 1:1 mapping between keys and columns\n",
      "\n",
      "Warning message in bitr(unique(subset_df$target), fromType = \"SYMBOL\", toType = \"ENTREZID\", :\n",
      "“11.89% of input gene IDs are fail to map...”\n"
     ]
    },
    {
     "name": "stdout",
     "output_type": "stream",
     "text": [
      "[1] \"Processing: AMY_Ccdc3_Acvr1c_Glut M\"\n",
      "[1] \"Number of genes: 3335\"\n"
     ]
    },
    {
     "name": "stderr",
     "output_type": "stream",
     "text": [
      "'select()' returned 1:1 mapping between keys and columns\n",
      "\n",
      "Warning message in bitr(unique(subset_df$target), fromType = \"SYMBOL\", toType = \"ENTREZID\", :\n",
      "“11.39% of input gene IDs are fail to map...”\n"
     ]
    },
    {
     "name": "stdout",
     "output_type": "stream",
     "text": [
      "[1] \"Processing: AMY_Ccdc3_Acvr1c_Glut M\"\n",
      "[1] \"Number of genes: 3613\"\n"
     ]
    },
    {
     "name": "stderr",
     "output_type": "stream",
     "text": [
      "'select()' returned 1:1 mapping between keys and columns\n",
      "\n",
      "Warning message in bitr(unique(subset_df$target), fromType = \"SYMBOL\", toType = \"ENTREZID\", :\n",
      "“11.1% of input gene IDs are fail to map...”\n"
     ]
    },
    {
     "name": "stdout",
     "output_type": "stream",
     "text": [
      "[1] \"Processing: AMY_Ccdc3_Acvr1c_Glut M\"\n",
      "[1] \"Number of genes: 1977\"\n"
     ]
    },
    {
     "name": "stderr",
     "output_type": "stream",
     "text": [
      "'select()' returned 1:1 mapping between keys and columns\n",
      "\n",
      "Warning message in bitr(unique(subset_df$target), fromType = \"SYMBOL\", toType = \"ENTREZID\", :\n",
      "“12.29% of input gene IDs are fail to map...”\n"
     ]
    },
    {
     "name": "stdout",
     "output_type": "stream",
     "text": [
      "[1] \"Processing: AMY_Ccdc3_Acvr1c_Glut M\"\n",
      "[1] \"Number of genes: 2499\"\n"
     ]
    },
    {
     "name": "stderr",
     "output_type": "stream",
     "text": [
      "'select()' returned 1:1 mapping between keys and columns\n",
      "\n",
      "Warning message in bitr(unique(subset_df$target), fromType = \"SYMBOL\", toType = \"ENTREZID\", :\n",
      "“12% of input gene IDs are fail to map...”\n"
     ]
    },
    {
     "name": "stdout",
     "output_type": "stream",
     "text": [
      "[1] \"Processing: AMY_Ccdc3_Acvr1c_Glut M\"\n",
      "[1] \"Number of genes: 3488\"\n"
     ]
    },
    {
     "name": "stderr",
     "output_type": "stream",
     "text": [
      "'select()' returned 1:1 mapping between keys and columns\n",
      "\n",
      "Warning message in bitr(unique(subset_df$target), fromType = \"SYMBOL\", toType = \"ENTREZID\", :\n",
      "“12.53% of input gene IDs are fail to map...”\n"
     ]
    },
    {
     "name": "stdout",
     "output_type": "stream",
     "text": [
      "[1] \"Processing: AMY_Ccdc3_Acvr1c_Glut M\"\n",
      "[1] \"Number of genes: 2487\"\n"
     ]
    },
    {
     "name": "stderr",
     "output_type": "stream",
     "text": [
      "'select()' returned 1:1 mapping between keys and columns\n",
      "\n",
      "Warning message in bitr(unique(subset_df$target), fromType = \"SYMBOL\", toType = \"ENTREZID\", :\n",
      "“12.1% of input gene IDs are fail to map...”\n"
     ]
    },
    {
     "name": "stdout",
     "output_type": "stream",
     "text": [
      "[1] \"Processing: AMY_Ccdc3_Acvr1c_Glut M\"\n",
      "[1] \"Number of genes: 2629\"\n"
     ]
    },
    {
     "name": "stderr",
     "output_type": "stream",
     "text": [
      "'select()' returned 1:1 mapping between keys and columns\n",
      "\n",
      "Warning message in bitr(unique(subset_df$target), fromType = \"SYMBOL\", toType = \"ENTREZID\", :\n",
      "“11.75% of input gene IDs are fail to map...”\n"
     ]
    },
    {
     "name": "stdout",
     "output_type": "stream",
     "text": [
      "[1] \"Processing: AMY_Ccdc3_Acvr1c_Glut M\"\n",
      "[1] \"Number of genes: 891\"\n"
     ]
    },
    {
     "name": "stderr",
     "output_type": "stream",
     "text": [
      "'select()' returned 1:1 mapping between keys and columns\n",
      "\n",
      "Warning message in bitr(unique(subset_df$target), fromType = \"SYMBOL\", toType = \"ENTREZID\", :\n",
      "“17.4% of input gene IDs are fail to map...”\n",
      "Warning message in rep(yes, length.out = len):\n",
      "“'x' is NULL so the result will be NULL”\n"
     ]
    },
    {
     "name": "stdout",
     "output_type": "stream",
     "text": [
      "[1] \"Error in subsetting data for AMY_Ccdc3_Acvr1c_Glut M\"\n",
      "[1] \"Processing: AMY_Ccdc3_Acvr1c_Glut M\"\n",
      "[1] \"Number of genes: 1972\"\n"
     ]
    },
    {
     "name": "stderr",
     "output_type": "stream",
     "text": [
      "'select()' returned 1:1 mapping between keys and columns\n",
      "\n",
      "Warning message in bitr(unique(subset_df$target), fromType = \"SYMBOL\", toType = \"ENTREZID\", :\n",
      "“11.11% of input gene IDs are fail to map...”\n"
     ]
    },
    {
     "name": "stdout",
     "output_type": "stream",
     "text": [
      "[1] \"Processing: AMY_Ccdc3_Acvr1c_Glut M\"\n",
      "[1] \"Number of genes: 4349\"\n"
     ]
    },
    {
     "name": "stderr",
     "output_type": "stream",
     "text": [
      "'select()' returned 1:1 mapping between keys and columns\n",
      "\n",
      "Warning message in bitr(unique(subset_df$target), fromType = \"SYMBOL\", toType = \"ENTREZID\", :\n",
      "“10.44% of input gene IDs are fail to map...”\n"
     ]
    },
    {
     "name": "stdout",
     "output_type": "stream",
     "text": [
      "[1] \"Processing: AMY_Ccdc3_Acvr1c_Glut M\"\n",
      "[1] \"Number of genes: 2653\"\n"
     ]
    },
    {
     "name": "stderr",
     "output_type": "stream",
     "text": [
      "'select()' returned 1:1 mapping between keys and columns\n",
      "\n",
      "Warning message in bitr(unique(subset_df$target), fromType = \"SYMBOL\", toType = \"ENTREZID\", :\n",
      "“10.74% of input gene IDs are fail to map...”\n"
     ]
    },
    {
     "name": "stdout",
     "output_type": "stream",
     "text": [
      "[1] \"Processing: AMY_Ccdc3_Acvr1c_Glut M\"\n",
      "[1] \"Number of genes: 1542\"\n"
     ]
    },
    {
     "name": "stderr",
     "output_type": "stream",
     "text": [
      "'select()' returned 1:1 mapping between keys and columns\n",
      "\n",
      "Warning message in bitr(unique(subset_df$target), fromType = \"SYMBOL\", toType = \"ENTREZID\", :\n",
      "“12.65% of input gene IDs are fail to map...”\n",
      "Warning message in rep(yes, length.out = len):\n",
      "“'x' is NULL so the result will be NULL”\n"
     ]
    },
    {
     "name": "stdout",
     "output_type": "stream",
     "text": [
      "[1] \"Error in subsetting data for AMY_Ccdc3_Acvr1c_Glut M\"\n",
      "[1] \"Processing: AMY_Ccdc3_Acvr1c_Glut M\"\n",
      "[1] \"Number of genes: 2040\"\n"
     ]
    },
    {
     "name": "stderr",
     "output_type": "stream",
     "text": [
      "'select()' returned 1:1 mapping between keys and columns\n",
      "\n",
      "Warning message in bitr(unique(subset_df$target), fromType = \"SYMBOL\", toType = \"ENTREZID\", :\n",
      "“10.34% of input gene IDs are fail to map...”\n",
      "Warning message in rep(yes, length.out = len):\n",
      "“'x' is NULL so the result will be NULL”\n"
     ]
    },
    {
     "name": "stdout",
     "output_type": "stream",
     "text": [
      "[1] \"Error in subsetting data for AMY_Ccdc3_Acvr1c_Glut M\"\n",
      "[1] \"Processing: AMY_Ccdc3_Acvr1c_Glut M\"\n",
      "[1] \"Number of genes: 2506\"\n"
     ]
    },
    {
     "name": "stderr",
     "output_type": "stream",
     "text": [
      "'select()' returned 1:1 mapping between keys and columns\n",
      "\n",
      "Warning message in bitr(unique(subset_df$target), fromType = \"SYMBOL\", toType = \"ENTREZID\", :\n",
      "“13.05% of input gene IDs are fail to map...”\n"
     ]
    },
    {
     "name": "stdout",
     "output_type": "stream",
     "text": [
      "[1] \"Processing: AMY_Ccdc3_Acvr1c_Glut M\"\n",
      "[1] \"Number of genes: 1532\"\n"
     ]
    },
    {
     "name": "stderr",
     "output_type": "stream",
     "text": [
      "'select()' returned 1:1 mapping between keys and columns\n",
      "\n",
      "Warning message in bitr(unique(subset_df$target), fromType = \"SYMBOL\", toType = \"ENTREZID\", :\n",
      "“12.21% of input gene IDs are fail to map...”\n",
      "Warning message in rep(yes, length.out = len):\n",
      "“'x' is NULL so the result will be NULL”\n"
     ]
    },
    {
     "name": "stdout",
     "output_type": "stream",
     "text": [
      "[1] \"Error in subsetting data for AMY_Ccdc3_Acvr1c_Glut M\"\n",
      "[1] \"Processing: AMY_Ccdc3_Acvr1c_Glut M\"\n",
      "[1] \"Number of genes: 2010\"\n"
     ]
    },
    {
     "name": "stderr",
     "output_type": "stream",
     "text": [
      "'select()' returned 1:1 mapping between keys and columns\n",
      "\n",
      "Warning message in bitr(unique(subset_df$target), fromType = \"SYMBOL\", toType = \"ENTREZID\", :\n",
      "“11.29% of input gene IDs are fail to map...”\n"
     ]
    },
    {
     "name": "stdout",
     "output_type": "stream",
     "text": [
      "[1] \"Processing: AMY_Ccdc3_Acvr1c_Glut M\"\n",
      "[1] \"Number of genes: 4768\"\n"
     ]
    },
    {
     "name": "stderr",
     "output_type": "stream",
     "text": [
      "'select()' returned 1:1 mapping between keys and columns\n",
      "\n",
      "Warning message in bitr(unique(subset_df$target), fromType = \"SYMBOL\", toType = \"ENTREZID\", :\n",
      "“11.56% of input gene IDs are fail to map...”\n"
     ]
    },
    {
     "name": "stdout",
     "output_type": "stream",
     "text": [
      "[1] \"Processing: AMY_Ccdc3_Acvr1c_Glut M\"\n",
      "[1] \"Number of genes: 3694\"\n"
     ]
    },
    {
     "name": "stderr",
     "output_type": "stream",
     "text": [
      "'select()' returned 1:1 mapping between keys and columns\n",
      "\n",
      "Warning message in bitr(unique(subset_df$target), fromType = \"SYMBOL\", toType = \"ENTREZID\", :\n",
      "“11.8% of input gene IDs are fail to map...”\n"
     ]
    },
    {
     "name": "stdout",
     "output_type": "stream",
     "text": [
      "[1] \"Processing: AMY_Ccdc3_Acvr1c_Glut M\"\n",
      "[1] \"Number of genes: 2692\"\n"
     ]
    },
    {
     "name": "stderr",
     "output_type": "stream",
     "text": [
      "'select()' returned 1:1 mapping between keys and columns\n",
      "\n",
      "Warning message in bitr(unique(subset_df$target), fromType = \"SYMBOL\", toType = \"ENTREZID\", :\n",
      "“12.48% of input gene IDs are fail to map...”\n"
     ]
    },
    {
     "name": "stdout",
     "output_type": "stream",
     "text": [
      "[1] \"Processing: AMY_Ccdc3_Acvr1c_Glut M\"\n",
      "[1] \"Number of genes: 2538\"\n"
     ]
    },
    {
     "name": "stderr",
     "output_type": "stream",
     "text": [
      "'select()' returned 1:1 mapping between keys and columns\n",
      "\n",
      "Warning message in bitr(unique(subset_df$target), fromType = \"SYMBOL\", toType = \"ENTREZID\", :\n",
      "“12.21% of input gene IDs are fail to map...”\n"
     ]
    },
    {
     "name": "stdout",
     "output_type": "stream",
     "text": [
      "[1] \"Processing: AMY_Ccdc3_Acvr1c_Glut M\"\n",
      "[1] \"Number of genes: 1896\"\n"
     ]
    },
    {
     "name": "stderr",
     "output_type": "stream",
     "text": [
      "'select()' returned 1:1 mapping between keys and columns\n",
      "\n",
      "Warning message in bitr(unique(subset_df$target), fromType = \"SYMBOL\", toType = \"ENTREZID\", :\n",
      "“13.34% of input gene IDs are fail to map...”\n",
      "Warning message in rep(yes, length.out = len):\n",
      "“'x' is NULL so the result will be NULL”\n"
     ]
    },
    {
     "name": "stdout",
     "output_type": "stream",
     "text": [
      "[1] \"Error in subsetting data for AMY_Ccdc3_Acvr1c_Glut M\"\n"
     ]
    }
   ],
   "source": [
    "# for file in df_grns[:5]:\n",
    "#     region = file.split(\"adj_\")[1].split(\"_\")[0]\n",
    "#     gender = file.split(\".\")[0].split(\"_\")[-1]\n",
    "#     celltype = file.split(\"adj_\")[1].replace(f'_{gender}.tsv','')\n",
    "\n",
    "#     # region = 'TH'\n",
    "#     # gender = 'M'\n",
    "#     # celltype = 'Tnc_Adgrf5_Glut'\n",
    "#     df_grn = pd.read_csv(file, sep='\\t')\n",
    "# for loop to read GRN files\n",
    "# subset 5 files for testing\n",
    "for (file in df_grns) {\n",
    "  celltype <- gsub(\"^.*adj_([A-Za-z0-9_]+)_.*$\", \"\\\\1\", file) \n",
    "  gender <-gsub(\".*_([A-Za-z]+)\\\\.tsv\", \"\\\\1\", file)\n",
    "  region <- gsub(\"^.*adj_([A-Za-z0-9]+)_([A-Za-z0-9_]+).*$\", \"\\\\1\", file) \n",
    "\n",
    "  # if file already exists and overwrite is FALSE, skip\n",
    "  df_grn <- read.table(file, header = TRUE, sep = \"\\t\")\n",
    "\n",
    "  # filter the GRN dataframe to only include important TFs\n",
    "  df_grn <- df_grn[df_grn$TF %in% df_important_TF.unique, ]\n",
    "\n",
    "  # for each tf in df_grn.TF.unique:\n",
    "  for (tf in unique(df_grn$TF)) {\n",
    "\n",
    "      if (file.exists(paste(outdir, \"GO_enrichment_memento\",celltype,gender,tf,\".csv\",sep = \"_\")) && !overwrite) {\n",
    "        next\n",
    "      }\n",
    "\n",
    "\n",
    "        tryCatch(\n",
    "        {\n",
    "          print(paste(\"Processing:\", celltype, gender))\n",
    "          subset_df <- df_grn[df_grn$TF == tf, ]\n",
    "\n",
    "          print(paste(\"Number of genes:\", nrow(subset_df)))\n",
    "\n",
    "          gene_entrez <- bitr(unique(subset_df$target), \n",
    "                              fromType = \"SYMBOL\", \n",
    "                              toType = \"ENTREZID\", \n",
    "                              OrgDb = \"org.Mm.eg.db\")\n",
    "                              \n",
    "          entrez_ids <- gene_entrez$ENTREZID\n",
    "          ego <- enrichGO(gene = entrez_ids,\n",
    "                          OrgDb = org.Mm.eg.db,\n",
    "                          keyType = \"ENTREZID\",\n",
    "                          ont = \"ALL\",  # \"BP\", \"MF\", \"CC\" 或 \"ALL\"\n",
    "                          pvalueCutoff = 0.05,\n",
    "                          qvalueCutoff = 0.05,\n",
    "                          readable = TRUE)  # 结果中显示基因符号\n",
    "\n",
    "          # 查看结果\n",
    "          write.csv(ego, file = paste(outdir, \"GO_enrichment_memento\",celltype,gender,tf,\".csv\",sep = \"_\"), row.names = FALSE)\n",
    "          p <- dotplot(ego, showCategory = 30)\n",
    "          ggsave(paste(outdir, \"GO_enrichment_memento_dot\",celltype,gender,tf,\".pdf\",sep = \"_\"), plot = p, width = 12, height = 15)  # 宽度12英寸，高度15英寸\n",
    "\n",
    "          p<-barplot(ego, showCategory = 30)  # 条形图\n",
    "          ggsave(paste(outdir, \"GO_enrichment_memento_bar\",celltype,gender,tf,\".pdf\",sep = \"_\"), plot = p, width = 12, height = 15)  # 宽度12英寸，高度15英寸\n",
    "\n",
    "          kk <- enrichKEGG(gene = entrez_ids,\n",
    "                          organism = \"mmu\",  # 小鼠KEGG代码\n",
    "                          pvalueCutoff = 0.05,\n",
    "                          qvalueCutoff = 0.05)\n",
    "\n",
    "          # 可视化\n",
    "          p<-dotplot(kk, showCategory = 30)\n",
    "          write.csv(kk, file = paste(outdir, \"KEGG_enrichment_memento\",celltype,gender,tf,\".csv\",sep = \"_\"), row.names = FALSE)\n",
    "          ggsave(paste(outdir, \"kegg_enrichment_memento_dot\",celltype,gender,tf,\".pdf\",sep = \"_\"), plot = p, width = 12, height = 15)  # 宽度12英寸，高度15英寸\n",
    "        }, \n",
    "        error = function(e) {\n",
    "          print(paste(\"Error in subsetting data for\", celltype, gender))\n",
    "      })\n",
    "  }\n",
    "  \n",
    "}\n"
   ]
  }
 ],
 "metadata": {
  "kernelspec": {
   "display_name": "R",
   "language": "R",
   "name": "ir"
  },
  "language_info": {
   "codemirror_mode": "r",
   "file_extension": ".r",
   "mimetype": "text/x-r-source",
   "name": "R",
   "pygments_lexer": "r",
   "version": "4.3.3"
  }
 },
 "nbformat": 4,
 "nbformat_minor": 2
}
